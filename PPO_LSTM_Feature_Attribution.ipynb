{
 "cells": [
  {
   "cell_type": "markdown",
   "id": "853f324e",
   "metadata": {},
   "source": [
    "# PPO LSTM Feature Attribution: Input Perturbation Analysis\n",
    "\n",
    "This notebook demonstrates how to analyze which observation features your RL agent is using, by measuring action sensitivity to each feature group (price, features, volume_profile, account) using input perturbation."
   ]
  },
  {
   "cell_type": "code",
   "execution_count": null,
   "id": "fe566486",
   "metadata": {},
   "outputs": [],
   "source": [
    "# ================================================\n",
    "# 🔧 SETUP - Add src to Python Path\n",
    "# ================================================\n",
    "\n",
    "import sys\n",
    "import os\n",
    "\n",
    "# Add src directory to Python path so 'core' module can be found\n",
    "project_root = os.getcwd()\n",
    "src_path = os.path.join(project_root, 'src')\n",
    "\n",
    "if src_path not in sys.path:\n",
    "    sys.path.insert(0, src_path)\n",
    "    print(f\"✅ Added to Python path: {src_path}\")\n",
    "else:\n",
    "    print(f\"✅ Already in path: {src_path}\")\n",
    "\n",
    "# Verify\n",
    "print(f\"📂 Working directory: {project_root}\")\n",
    "print(f\"🔍 Python will search for modules in: {src_path}\")\n",
    "print(\"=\" * 50)"
   ]
  },
  {
   "cell_type": "code",
   "execution_count": null,
   "id": "539bdb12",
   "metadata": {},
   "outputs": [],
   "source": [
    "# --- Setup: Import Required Libraries ---\n",
    "import numpy as np\n",
    "import torch\n",
    "from sb3_contrib import RecurrentPPO\n",
    "from src.environments.trading_environment import TradingEnvironment\n",
    "from src.training.data_loader import DataLoader"
   ]
  },
  {
   "cell_type": "code",
   "execution_count": null,
   "id": "a993406e",
   "metadata": {},
   "outputs": [],
   "source": [
    "# --- Load Data and Environment ---\n",
    "symbol = 'BTCUSDT'\n",
    "loader = DataLoader()\n",
    "dfs = loader.load_data_with_indicators(symbol)\n",
    "train_df = dfs['15m']\n",
    "# Set window_size to match the model's expected input shape (e.g., 96)\n",
    "env = TradingEnvironment(train_df, window_size=96)  # <-- adjust if your model used a different window_size\n",
    "obs, _ = env.reset()"
   ]
  },
  {
   "cell_type": "code",
   "execution_count": null,
   "id": "dbb44487",
   "metadata": {},
   "outputs": [],
   "source": [
    "# --- Load Trained PPO LSTM Model ---\n",
    "model_path = 'models/rl_optimized/ppo_trading.zip'  # Adjust if needed\n",
    "model = RecurrentPPO.load(model_path)"
   ]
  },
  {
   "cell_type": "code",
   "execution_count": null,
   "id": "9ae2d29c",
   "metadata": {},
   "outputs": [],
   "source": [
    "# --- Helper: Convert Dict Observation to Tensor ---\n",
    "def obs_to_tensor(obs_dict):\n",
    "    obs_flat = []\n",
    "    for k in ['price', 'features', 'volume_profile_week', 'volume_profile_prev_day', 'volume_profile_daily', 'account']:\n",
    "        v = obs_dict[k]\n",
    "        if isinstance(v, np.ndarray) and v.ndim > 1:\n",
    "            v = v.flatten()\n",
    "        obs_flat.append(v)\n",
    "    return torch.tensor(np.concatenate(obs_flat)[None, :], dtype=torch.float32)\n",
    "\n",
    "obs_tensor = obs_to_tensor(obs)"
   ]
  },
  {
   "cell_type": "code",
   "execution_count": null,
   "id": "60b85a60",
   "metadata": {},
   "outputs": [],
   "source": [
    "# --- Prepare observation for model (handles 1D/2D/3D cases) ---\n",
    "def prepare_obs_for_model(obs, window=96):\n",
    "    # dict path\n",
    "    if isinstance(obs, dict):\n",
    "        prepared = {}\n",
    "        for k, v in obs.items():\n",
    "            arr = np.asarray(v)\n",
    "            if arr.ndim == 1:\n",
    "                # repeat feature vector across time window\n",
    "                features = arr.shape[0]\n",
    "                tiled = np.tile(arr.reshape(1, -1), (window, 1))  # (window, features)\n",
    "                prepared[k] = tiled.reshape(1, window, features)\n",
    "            elif arr.ndim == 2:\n",
    "                # (window, features) -> add batch dim\n",
    "                prepared[k] = arr.reshape(1, arr.shape[0], arr.shape[1])\n",
    "            elif arr.ndim == 3:\n",
    "                prepared[k] = arr\n",
    "            else:\n",
    "                raise ValueError(f\"Unsupported dict observation array shape for key '{k}': {arr.shape}\")\n",
    "        return prepared\n",
    "    raise ValueError(f\"Cannot prepare observation of type {type(obs)}\")\n",
    "\n",
    "# Usage:\n",
    "obs_batched = prepare_obs_for_model(obs, window=96)"
   ]
  },
  {
   "cell_type": "code",
   "execution_count": null,
   "id": "0ed42b1f",
   "metadata": {},
   "outputs": [],
   "source": [
    "# --- Baseline Action (with batch dimension and LSTM state) ---\n",
    "last_state = None\n",
    "episode_start = np.ones((1,), dtype=bool)  # True at the start of an episode\n",
    "with torch.no_grad():\n",
    "    action, last_state = model.policy.predict(obs_batched, state=last_state, episode_start=episode_start, deterministic=True)\n",
    "print('Baseline action:', action)"
   ]
  },
  {
   "cell_type": "code",
   "execution_count": null,
   "id": "c67a5fd2",
   "metadata": {},
   "outputs": [],
   "source": [
    "# --- Feature Attribution Report: Action Sensitivity to Each Feature Group ---\n",
    "feature_keys = ['price', 'features', 'volume_profile_week', 'volume_profile_prev_day', 'volume_profile_daily', 'account']\n",
    "action_changes = {}\n",
    "for key in feature_keys:\n",
    "    obs_perturbed = obs.copy()\n",
    "    obs_perturbed[key] = np.zeros_like(obs_perturbed[key])\n",
    "    obs_perturbed_batched = prepare_obs_for_model(obs_perturbed, window=96)\n",
    "    with torch.no_grad():\n",
    "        perturbed_action, _ = model.policy.predict(obs_perturbed_batched, state=last_state, episode_start=episode_start, deterministic=True)\n",
    "    change = np.linalg.norm(np.array(action) - np.array(perturbed_action))\n",
    "    action_changes[key] = change\n",
    "    print(f\"Action change when zeroing '{key}': {change:.6f}\")\n",
    "# --- Simple Report ---\n",
    "print(\"\\nFeature Attribution Report:\")\n",
    "for k, v in action_changes.items():\n",
    "    print(f\"{k:>15}: Action change = {v:.6f}\")"
   ]
  },
  {
   "cell_type": "code",
   "execution_count": null,
   "id": "080a9dcf",
   "metadata": {},
   "outputs": [],
   "source": [
    "# --- Visualize Feature Attribution as Bar Chart ---\n",
    "import matplotlib.pyplot as plt\n",
    "plt.figure(figsize=(14,8))\n",
    "plt.bar(action_changes.keys(), action_changes.values(), color='skyblue')\n",
    "plt.ylabel('Action Change (L2 Norm)')\n",
    "plt.title('Feature Attribution: Action Sensitivity to Each Feature Group')\n",
    "plt.grid(axis='y', linestyle='--', alpha=0.6)\n",
    "plt.show()"
   ]
  }
 ],
 "metadata": {
  "kernelspec": {
   "display_name": "venv",
   "language": "python",
   "name": "python3"
  },
  "language_info": {
   "codemirror_mode": {
    "name": "ipython",
    "version": 3
   },
   "file_extension": ".py",
   "mimetype": "text/x-python",
   "name": "python",
   "nbconvert_exporter": "python",
   "pygments_lexer": "ipython3",
   "version": "3.11.9"
  }
 },
 "nbformat": 4,
 "nbformat_minor": 5
}
