{
 "cells": [
  {
   "cell_type": "markdown",
   "id": "2b023d03",
   "metadata": {},
   "source": [
    "## Import Libraries and Load Data"
   ]
  },
  {
   "cell_type": "code",
   "execution_count": null,
   "id": "40c83855",
   "metadata": {},
   "outputs": [],
   "source": [
    "# Add src to path\n",
    "import sys\n",
    "import os\n",
    "\n",
    "project_root = os.getcwd()\n",
    "src_path = os.path.join(project_root, 'src')\n",
    "if src_path not in sys.path:\n",
    "    sys.path.insert(0, src_path)\n",
    "\n",
    "print(f\"✅ Project root: {project_root}\")\n",
    "print(f\"✅ Added to path: {src_path}\")\n"
   ]
  },
  {
   "cell_type": "markdown",
   "id": "972daa3c",
   "metadata": {},
   "source": []
  },
  {
   "cell_type": "code",
   "execution_count": null,
   "id": "d81fcbe6",
   "metadata": {},
   "outputs": [],
   "source": [
    "# Visualize cached levels data using chart visualizer\n",
    "import json\n",
    "import pandas as pd\n",
    "import plotly.graph_objects as go\n",
    "\n",
    "def visualize_cached_data(symbol, df_segment, timeframe='15m', useLogScale=True):\n",
    "    \"\"\"\n",
    "    Visualize cached levels data from parquet file\n",
    "    \n",
    "    Args:\n",
    "        symbol: Trading pair symbol\n",
    "        df_segment: DataFrame segment with OHLCV and levels_json data\n",
    "        timeframe: Timeframe to visualize from the levels_json\n",
    "        useLogScale: Whether to use logarithmic scale\n",
    "    \"\"\"\n",
    "    \n",
    "    # Create figure with candlestick data\n",
    "    fig = go.Figure(data=[\n",
    "        go.Candlestick(\n",
    "            x=df_segment['datetime'],\n",
    "            open=df_segment['open'],\n",
    "            high=df_segment['high'],\n",
    "            low=df_segment['low'],\n",
    "            close=df_segment['close'],\n",
    "            name='Candlestick',\n",
    "            showlegend=False\n",
    "        )\n",
    "    ])\n",
    "    \n",
    "    # Process each row's levels data\n",
    "    levels_data = json.loads(df_segment['levels_json'].iloc[-1])\n",
    "    \n",
    "    # Get data for the specified timeframe\n",
    "    if timeframe in levels_data:\n",
    "        tf_data = levels_data[timeframe]\n",
    "        \n",
    "        if isinstance(tf_data, dict):\n",
    "            # Draw lines\n",
    "            for line in tf_data.get('lines', []):\n",
    "                if isinstance(line, list) and len(line) >= 4:\n",
    "                    # Line format: [(t1, p1, v1, swing1), (t2, p2, v2, swing2), line_type, strength/volume]\n",
    "                    pivot1, pivot2, line_type, strength = line[:4]\n",
    "                    \n",
    "                    # Unpack pivots (each pivot has 4 elements: timestamp, price, volume, swing_type)\n",
    "                    t1, p1 = pivot1[0], pivot1[1]  # Extract timestamp and price only\n",
    "                    t2, p2 = pivot2[0], pivot2[1]\n",
    "                    \n",
    "                    # Convert timestamps if needed\n",
    "                    if isinstance(t1, str):\n",
    "                        t1 = pd.Timestamp(t1)\n",
    "                    if isinstance(t2, str):\n",
    "                        t2 = pd.Timestamp(t2)\n",
    "                    \n",
    "                    # Set color based on line type\n",
    "                    if 'vah_line' in str(line_type):\n",
    "                        color = 'green'\n",
    "                        width = 1\n",
    "                    elif 'val_line' in str(line_type):\n",
    "                        color = 'red'\n",
    "                        width = 1\n",
    "                    elif 'naked_poc_line' in str(line_type):\n",
    "                        color = 'white'\n",
    "                        width = 2\n",
    "                    elif 'poc_line' in str(line_type):\n",
    "                        color = 'lightgray'\n",
    "                        width = 1\n",
    "                    elif 'channel' in str(line_type):\n",
    "                        color = 'cyan'\n",
    "                        width = 2\n",
    "                    elif 'zigzag' in str(line_type):\n",
    "                        color = 'yellow'\n",
    "                        width = 1\n",
    "                    else:\n",
    "                        color = 'orange'\n",
    "                        width = 1\n",
    "                    \n",
    "                    strength_text = f\" (s={strength})\" if strength else \"\"\n",
    "                    fig.add_trace(go.Scatter(\n",
    "                        x=[t1, t2], \n",
    "                        y=[p1, p2], \n",
    "                        mode='lines', \n",
    "                        line=dict(color=color, width=width, dash='dash'), \n",
    "                        name=str(line_type) + strength_text, \n",
    "                        showlegend=False,\n",
    "                        hovertemplate=f\"{line_type}<br>%{{y:.2f}}<extra></extra>\"\n",
    "                    ))\n",
    "            \n",
    "            # Draw pivots\n",
    "            for pivot in tf_data.get('pivots', []):\n",
    "                if isinstance(pivot, list) and len(pivot) >= 4:\n",
    "                    # Pivot format: (timestamp, price, volume, swing_type)\n",
    "                    t, p, v, swing_type = pivot[:4]\n",
    "                    \n",
    "                    # Convert timestamp if needed\n",
    "                    if isinstance(t, str):\n",
    "                        t = pd.Timestamp(t)\n",
    "                    \n",
    "                    # Color based on swing type\n",
    "                    pivot_colors = {\n",
    "                        'HH': 'lime',\n",
    "                        'HL': 'lightgreen',\n",
    "                        'LH': 'salmon',\n",
    "                        'LL': 'red',\n",
    "                        None: 'gray'\n",
    "                    }\n",
    "                    color = pivot_colors.get(swing_type, 'gray')\n",
    "                    \n",
    "                    fig.add_trace(go.Scatter(\n",
    "                        x=[t], \n",
    "                        y=[p], \n",
    "                        mode='markers+text',\n",
    "                        marker=dict(color=color, size=8, line=dict(color='white', width=1)),\n",
    "                        text=[swing_type or '?'],\n",
    "                        textposition='top center',\n",
    "                        textfont=dict(size=8, color='white'),\n",
    "                        name=f'Pivot {swing_type}', \n",
    "                        showlegend=False,\n",
    "                        hovertemplate=f\"Pivot: {swing_type}<br>Price: %{{y:.2f}}<br>Time: %{{x}}<extra></extra>\"\n",
    "                    ))\n",
    "\n",
    "    # Update layout\n",
    "    fig.update_layout(\n",
    "        title=f'{symbol} - {timeframe} - Cached Levels Visualizer ({len(df_segment)} candles)', \n",
    "        xaxis_title='Time', \n",
    "        yaxis_title='Price', \n",
    "        template='plotly_dark', \n",
    "        yaxis_type='log' if useLogScale else 'linear',\n",
    "        height=800,\n",
    "        xaxis=dict(fixedrange=False),\n",
    "        yaxis=dict(fixedrange=False),\n",
    "        showlegend=False,\n",
    "        xaxis_rangeslider_visible=False\n",
    "    )\n",
    "    \n",
    "    fig.show()\n",
    "    return fig\n",
    "\n",
    "print(\"✅ Chart visualizer function for cached data created!\")\n"
   ]
  },
  {
   "cell_type": "code",
   "execution_count": 8,
   "id": "78477c8e",
   "metadata": {},
   "outputs": [
    {
     "name": "stdout",
     "output_type": "stream",
     "text": [
      "🎯 Visualizing cached levels data...\n",
      "✅ Loaded checkpoint file: data\\levels_cache\\ATOMUSDT-15m-levels.parquet.checkpoint\n",
      "📊 Shape: 40,000 rows × 9 columns\n",
      "📅 Date Range: 2022-11-22T00:30:00 to 2024-01-12T17:30:00\n",
      "📊 Visualizing last 250 candles:\n",
      "   Date range: 2024-01-10T03:15:00 to 2024-01-12T17:30:00\n",
      "   Price range: $9.34 - $10.95\n",
      "   Available timeframes: ['M', 'W', 'D', '1h', '15m']\n",
      "\n",
      "🔍 Visualizing M timeframe levels...\n"
     ]
    },
    {
     "data": {
      "application/vnd.plotly.v1+json": {
       "config": {
        "plotlyServerURL": "https://plot.ly"
       },
       "data": [
        {
         "close": {
          "bdata": "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",
          "dtype": "f8"
         },
         "high": {
          "bdata": "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",
          "dtype": "f8"
         },
         "low": {
          "bdata": "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",
          "dtype": "f8"
         },
         "name": "Candlestick",
         "open": {
          "bdata": "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",
          "dtype": "f8"
         },
         "showlegend": false,
         "type": "candlestick",
         "x": [
          "2024-01-10T03:15:00",
          "2024-01-10T03:30:00",
          "2024-01-10T03:45:00",
          "2024-01-10T04:00:00",
          "2024-01-10T04:15:00",
          "2024-01-10T04:30:00",
          "2024-01-10T04:45:00",
          "2024-01-10T05:00:00",
          "2024-01-10T05:15:00",
          "2024-01-10T05:30:00",
          "2024-01-10T05:45:00",
          "2024-01-10T06:00:00",
          "2024-01-10T06:15:00",
          "2024-01-10T06:30:00",
          "2024-01-10T06:45:00",
          "2024-01-10T07:00:00",
          "2024-01-10T07:15:00",
          "2024-01-10T07:30:00",
          "2024-01-10T07:45:00",
          "2024-01-10T08:00:00",
          "2024-01-10T08:15:00",
          "2024-01-10T08:30:00",
          "2024-01-10T08:45:00",
          "2024-01-10T09:00:00",
          "2024-01-10T09:15:00",
          "2024-01-10T09:30:00",
          "2024-01-10T09:45:00",
          "2024-01-10T10:00:00",
          "2024-01-10T10:15:00",
          "2024-01-10T10:30:00",
          "2024-01-10T10:45:00",
          "2024-01-10T11:00:00",
          "2024-01-10T11:15:00",
          "2024-01-10T11:30:00",
          "2024-01-10T11:45:00",
          "2024-01-10T12:00:00",
          "2024-01-10T12:15:00",
          "2024-01-10T12:30:00",
          "2024-01-10T12:45:00",
          "2024-01-10T13:00:00",
          "2024-01-10T13:15:00",
          "2024-01-10T13:30:00",
          "2024-01-10T13:45:00",
          "2024-01-10T14:00:00",
          "2024-01-10T14:15:00",
          "2024-01-10T14:30:00",
          "2024-01-10T14:45:00",
          "2024-01-10T15:00:00",
          "2024-01-10T15:15:00",
          "2024-01-10T15:30:00",
          "2024-01-10T15:45:00",
          "2024-01-10T16:00:00",
          "2024-01-10T16:15:00",
          "2024-01-10T16:30:00",
          "2024-01-10T16:45:00",
          "2024-01-10T17:00:00",
          "2024-01-10T17:15:00",
          "2024-01-10T17:30:00",
          "2024-01-10T17:45:00",
          "2024-01-10T18:00:00",
          "2024-01-10T18:15:00",
          "2024-01-10T18:30:00",
          "2024-01-10T18:45:00",
          "2024-01-10T19:00:00",
          "2024-01-10T19:15:00",
          "2024-01-10T19:30:00",
          "2024-01-10T19:45:00",
          "2024-01-10T20:00:00",
          "2024-01-10T20:15:00",
          "2024-01-10T20:30:00",
          "2024-01-10T20:45:00",
          "2024-01-10T21:00:00",
          "2024-01-10T21:15:00",
          "2024-01-10T21:30:00",
          "2024-01-10T21:45:00",
          "2024-01-10T22:00:00",
          "2024-01-10T22:15:00",
          "2024-01-10T22:30:00",
          "2024-01-10T22:45:00",
          "2024-01-10T23:00:00",
          "2024-01-10T23:15:00",
          "2024-01-10T23:30:00",
          "2024-01-10T23:45:00",
          "2024-01-11T00:00:00",
          "2024-01-11T00:15:00",
          "2024-01-11T00:30:00",
          "2024-01-11T00:45:00",
          "2024-01-11T01:00:00",
          "2024-01-11T01:15:00",
          "2024-01-11T01:30:00",
          "2024-01-11T01:45:00",
          "2024-01-11T02:00:00",
          "2024-01-11T02:15:00",
          "2024-01-11T02:30:00",
          "2024-01-11T02:45:00",
          "2024-01-11T03:00:00",
          "2024-01-11T03:15:00",
          "2024-01-11T03:30:00",
          "2024-01-11T03:45:00",
          "2024-01-11T04:00:00",
          "2024-01-11T04:15:00",
          "2024-01-11T04:30:00",
          "2024-01-11T04:45:00",
          "2024-01-11T05:00:00",
          "2024-01-11T05:15:00",
          "2024-01-11T05:30:00",
          "2024-01-11T05:45:00",
          "2024-01-11T06:00:00",
          "2024-01-11T06:15:00",
          "2024-01-11T06:30:00",
          "2024-01-11T06:45:00",
          "2024-01-11T07:00:00",
          "2024-01-11T07:15:00",
          "2024-01-11T07:30:00",
          "2024-01-11T07:45:00",
          "2024-01-11T08:00:00",
          "2024-01-11T08:15:00",
          "2024-01-11T08:30:00",
          "2024-01-11T08:45:00",
          "2024-01-11T09:00:00",
          "2024-01-11T09:15:00",
          "2024-01-11T09:30:00",
          "2024-01-11T09:45:00",
          "2024-01-11T10:00:00",
          "2024-01-11T10:15:00",
          "2024-01-11T10:30:00",
          "2024-01-11T10:45:00",
          "2024-01-11T11:00:00",
          "2024-01-11T11:15:00",
          "2024-01-11T11:30:00",
          "2024-01-11T11:45:00",
          "2024-01-11T12:00:00",
          "2024-01-11T12:15:00",
          "2024-01-11T12:30:00",
          "2024-01-11T12:45:00",
          "2024-01-11T13:00:00",
          "2024-01-11T13:15:00",
          "2024-01-11T13:30:00",
          "2024-01-11T13:45:00",
          "2024-01-11T14:00:00",
          "2024-01-11T14:15:00",
          "2024-01-11T14:30:00",
          "2024-01-11T14:45:00",
          "2024-01-11T15:00:00",
          "2024-01-11T15:15:00",
          "2024-01-11T15:30:00",
          "2024-01-11T15:45:00",
          "2024-01-11T16:00:00",
          "2024-01-11T16:15:00",
          "2024-01-11T16:30:00",
          "2024-01-11T16:45:00",
          "2024-01-11T17:00:00",
          "2024-01-11T17:15:00",
          "2024-01-11T17:30:00",
          "2024-01-11T17:45:00",
          "2024-01-11T18:00:00",
          "2024-01-11T18:15:00",
          "2024-01-11T18:30:00",
          "2024-01-11T18:45:00",
          "2024-01-11T19:00:00",
          "2024-01-11T19:15:00",
          "2024-01-11T19:30:00",
          "2024-01-11T19:45:00",
          "2024-01-11T20:00:00",
          "2024-01-11T20:15:00",
          "2024-01-11T20:30:00",
          "2024-01-11T20:45:00",
          "2024-01-11T21:00:00",
          "2024-01-11T21:15:00",
          "2024-01-11T21:30:00",
          "2024-01-11T21:45:00",
          "2024-01-11T22:00:00",
          "2024-01-11T22:15:00",
          "2024-01-11T22:30:00",
          "2024-01-11T22:45:00",
          "2024-01-11T23:00:00",
          "2024-01-11T23:15:00",
          "2024-01-11T23:30:00",
          "2024-01-11T23:45:00",
          "2024-01-12T00:00:00",
          "2024-01-12T00:15:00",
          "2024-01-12T00:30:00",
          "2024-01-12T00:45:00",
          "2024-01-12T01:00:00",
          "2024-01-12T01:15:00",
          "2024-01-12T01:30:00",
          "2024-01-12T01:45:00",
          "2024-01-12T02:00:00",
          "2024-01-12T02:15:00",
          "2024-01-12T02:30:00",
          "2024-01-12T02:45:00",
          "2024-01-12T03:00:00",
          "2024-01-12T03:15:00",
          "2024-01-12T03:30:00",
          "2024-01-12T03:45:00",
          "2024-01-12T04:00:00",
          "2024-01-12T04:15:00",
          "2024-01-12T04:30:00",
          "2024-01-12T04:45:00",
          "2024-01-12T05:00:00",
          "2024-01-12T05:15:00",
          "2024-01-12T05:30:00",
          "2024-01-12T05:45:00",
          "2024-01-12T06:00:00",
          "2024-01-12T06:15:00",
          "2024-01-12T06:30:00",
          "2024-01-12T06:45:00",
          "2024-01-12T07:00:00",
          "2024-01-12T07:15:00",
          "2024-01-12T07:30:00",
          "2024-01-12T07:45:00",
          "2024-01-12T08:00:00",
          "2024-01-12T08:15:00",
          "2024-01-12T08:30:00",
          "2024-01-12T08:45:00",
          "2024-01-12T09:00:00",
          "2024-01-12T09:15:00",
          "2024-01-12T09:30:00",
          "2024-01-12T09:45:00",
          "2024-01-12T10:00:00",
          "2024-01-12T10:15:00",
          "2024-01-12T10:30:00",
          "2024-01-12T10:45:00",
          "2024-01-12T11:00:00",
          "2024-01-12T11:15:00",
          "2024-01-12T11:30:00",
          "2024-01-12T11:45:00",
          "2024-01-12T12:00:00",
          "2024-01-12T12:15:00",
          "2024-01-12T12:30:00",
          "2024-01-12T12:45:00",
          "2024-01-12T13:00:00",
          "2024-01-12T13:15:00",
          "2024-01-12T13:30:00",
          "2024-01-12T13:45:00",
          "2024-01-12T14:00:00",
          "2024-01-12T14:15:00",
          "2024-01-12T14:30:00",
          "2024-01-12T14:45:00",
          "2024-01-12T15:00:00",
          "2024-01-12T15:15:00",
          "2024-01-12T15:30:00",
          "2024-01-12T15:45:00",
          "2024-01-12T16:00:00",
          "2024-01-12T16:15:00",
          "2024-01-12T16:30:00",
          "2024-01-12T16:45:00",
          "2024-01-12T17:00:00",
          "2024-01-12T17:15:00",
          "2024-01-12T17:30:00"
         ]
        },
        {
         "hovertemplate": "line_close_M<br>%{y:.2f}<extra></extra>",
         "line": {
          "color": "orange",
          "dash": "dash",
          "width": 1
         },
         "mode": "lines",
         "name": "line_close_M (s=152733350.39)",
         "showlegend": false,
         "type": "scatter",
         "x": [
          "2023-12-01T00:00:00",
          "2024-01-01T00:00:00"
         ],
         "y": [
          10.6,
          10.6
         ]
        },
        {
         "hovertemplate": "line_close_M<br>%{y:.2f}<extra></extra>",
         "line": {
          "color": "orange",
          "dash": "dash",
          "width": 1
         },
         "mode": "lines",
         "name": "line_close_M (s=61970608.434)",
         "showlegend": false,
         "type": "scatter",
         "x": [
          "2020-03-01T00:00:00",
          "2024-01-01T00:00:00"
         ],
         "y": [
          1.95,
          1.95
         ]
        },
        {
         "hovertemplate": "channel_lower_line<br>%{y:.2f}<extra></extra>",
         "line": {
          "color": "cyan",
          "dash": "dash",
          "width": 2
         },
         "mode": "lines",
         "name": "channel_lower_line",
         "showlegend": false,
         "type": "scatter",
         "x": [
          "2020-03-01T00:00:00",
          "2024-01-01T00:00:00"
         ],
         "y": [
          1.061,
          9.837799744291958
         ]
        },
        {
         "hovertemplate": "channel_upper_line<br>%{y:.2f}<extra></extra>",
         "line": {
          "color": "cyan",
          "dash": "dash",
          "width": 2
         },
         "mode": "lines",
         "name": "channel_upper_line",
         "showlegend": false,
         "type": "scatter",
         "x": [
          "2021-09-01T00:00:00",
          "2024-01-01T00:00:00"
         ],
         "y": [
          44.8,
          88.53899999999999
         ]
        }
       ],
       "layout": {
        "height": 800,
        "showlegend": false,
        "template": {
         "data": {
          "bar": [
           {
            "error_x": {
             "color": "#f2f5fa"
            },
            "error_y": {
             "color": "#f2f5fa"
            },
            "marker": {
             "line": {
              "color": "rgb(17,17,17)",
              "width": 0.5
             },
             "pattern": {
              "fillmode": "overlay",
              "size": 10,
              "solidity": 0.2
             }
            },
            "type": "bar"
           }
          ],
          "barpolar": [
           {
            "marker": {
             "line": {
              "color": "rgb(17,17,17)",
              "width": 0.5
             },
             "pattern": {
              "fillmode": "overlay",
              "size": 10,
              "solidity": 0.2
             }
            },
            "type": "barpolar"
           }
          ],
          "carpet": [
           {
            "aaxis": {
             "endlinecolor": "#A2B1C6",
             "gridcolor": "#506784",
             "linecolor": "#506784",
             "minorgridcolor": "#506784",
             "startlinecolor": "#A2B1C6"
            },
            "baxis": {
             "endlinecolor": "#A2B1C6",
             "gridcolor": "#506784",
             "linecolor": "#506784",
             "minorgridcolor": "#506784",
             "startlinecolor": "#A2B1C6"
            },
            "type": "carpet"
           }
          ],
          "choropleth": [
           {
            "colorbar": {
             "outlinewidth": 0,
             "ticks": ""
            },
            "type": "choropleth"
           }
          ],
          "contour": [
           {
            "colorbar": {
             "outlinewidth": 0,
             "ticks": ""
            },
            "colorscale": [
             [
              0,
              "#0d0887"
             ],
             [
              0.1111111111111111,
              "#46039f"
             ],
             [
              0.2222222222222222,
              "#7201a8"
             ],
             [
              0.3333333333333333,
              "#9c179e"
             ],
             [
              0.4444444444444444,
              "#bd3786"
             ],
             [
              0.5555555555555556,
              "#d8576b"
             ],
             [
              0.6666666666666666,
              "#ed7953"
             ],
             [
              0.7777777777777778,
              "#fb9f3a"
             ],
             [
              0.8888888888888888,
              "#fdca26"
             ],
             [
              1,
              "#f0f921"
             ]
            ],
            "type": "contour"
           }
          ],
          "contourcarpet": [
           {
            "colorbar": {
             "outlinewidth": 0,
             "ticks": ""
            },
            "type": "contourcarpet"
           }
          ],
          "heatmap": [
           {
            "colorbar": {
             "outlinewidth": 0,
             "ticks": ""
            },
            "colorscale": [
             [
              0,
              "#0d0887"
             ],
             [
              0.1111111111111111,
              "#46039f"
             ],
             [
              0.2222222222222222,
              "#7201a8"
             ],
             [
              0.3333333333333333,
              "#9c179e"
             ],
             [
              0.4444444444444444,
              "#bd3786"
             ],
             [
              0.5555555555555556,
              "#d8576b"
             ],
             [
              0.6666666666666666,
              "#ed7953"
             ],
             [
              0.7777777777777778,
              "#fb9f3a"
             ],
             [
              0.8888888888888888,
              "#fdca26"
             ],
             [
              1,
              "#f0f921"
             ]
            ],
            "type": "heatmap"
           }
          ],
          "histogram": [
           {
            "marker": {
             "pattern": {
              "fillmode": "overlay",
              "size": 10,
              "solidity": 0.2
             }
            },
            "type": "histogram"
           }
          ],
          "histogram2d": [
           {
            "colorbar": {
             "outlinewidth": 0,
             "ticks": ""
            },
            "colorscale": [
             [
              0,
              "#0d0887"
             ],
             [
              0.1111111111111111,
              "#46039f"
             ],
             [
              0.2222222222222222,
              "#7201a8"
             ],
             [
              0.3333333333333333,
              "#9c179e"
             ],
             [
              0.4444444444444444,
              "#bd3786"
             ],
             [
              0.5555555555555556,
              "#d8576b"
             ],
             [
              0.6666666666666666,
              "#ed7953"
             ],
             [
              0.7777777777777778,
              "#fb9f3a"
             ],
             [
              0.8888888888888888,
              "#fdca26"
             ],
             [
              1,
              "#f0f921"
             ]
            ],
            "type": "histogram2d"
           }
          ],
          "histogram2dcontour": [
           {
            "colorbar": {
             "outlinewidth": 0,
             "ticks": ""
            },
            "colorscale": [
             [
              0,
              "#0d0887"
             ],
             [
              0.1111111111111111,
              "#46039f"
             ],
             [
              0.2222222222222222,
              "#7201a8"
             ],
             [
              0.3333333333333333,
              "#9c179e"
             ],
             [
              0.4444444444444444,
              "#bd3786"
             ],
             [
              0.5555555555555556,
              "#d8576b"
             ],
             [
              0.6666666666666666,
              "#ed7953"
             ],
             [
              0.7777777777777778,
              "#fb9f3a"
             ],
             [
              0.8888888888888888,
              "#fdca26"
             ],
             [
              1,
              "#f0f921"
             ]
            ],
            "type": "histogram2dcontour"
           }
          ],
          "mesh3d": [
           {
            "colorbar": {
             "outlinewidth": 0,
             "ticks": ""
            },
            "type": "mesh3d"
           }
          ],
          "parcoords": [
           {
            "line": {
             "colorbar": {
              "outlinewidth": 0,
              "ticks": ""
             }
            },
            "type": "parcoords"
           }
          ],
          "pie": [
           {
            "automargin": true,
            "type": "pie"
           }
          ],
          "scatter": [
           {
            "marker": {
             "line": {
              "color": "#283442"
             }
            },
            "type": "scatter"
           }
          ],
          "scatter3d": [
           {
            "line": {
             "colorbar": {
              "outlinewidth": 0,
              "ticks": ""
             }
            },
            "marker": {
             "colorbar": {
              "outlinewidth": 0,
              "ticks": ""
             }
            },
            "type": "scatter3d"
           }
          ],
          "scattercarpet": [
           {
            "marker": {
             "colorbar": {
              "outlinewidth": 0,
              "ticks": ""
             }
            },
            "type": "scattercarpet"
           }
          ],
          "scattergeo": [
           {
            "marker": {
             "colorbar": {
              "outlinewidth": 0,
              "ticks": ""
             }
            },
            "type": "scattergeo"
           }
          ],
          "scattergl": [
           {
            "marker": {
             "line": {
              "color": "#283442"
             }
            },
            "type": "scattergl"
           }
          ],
          "scattermap": [
           {
            "marker": {
             "colorbar": {
              "outlinewidth": 0,
              "ticks": ""
             }
            },
            "type": "scattermap"
           }
          ],
          "scattermapbox": [
           {
            "marker": {
             "colorbar": {
              "outlinewidth": 0,
              "ticks": ""
             }
            },
            "type": "scattermapbox"
           }
          ],
          "scatterpolar": [
           {
            "marker": {
             "colorbar": {
              "outlinewidth": 0,
              "ticks": ""
             }
            },
            "type": "scatterpolar"
           }
          ],
          "scatterpolargl": [
           {
            "marker": {
             "colorbar": {
              "outlinewidth": 0,
              "ticks": ""
             }
            },
            "type": "scatterpolargl"
           }
          ],
          "scatterternary": [
           {
            "marker": {
             "colorbar": {
              "outlinewidth": 0,
              "ticks": ""
             }
            },
            "type": "scatterternary"
           }
          ],
          "surface": [
           {
            "colorbar": {
             "outlinewidth": 0,
             "ticks": ""
            },
            "colorscale": [
             [
              0,
              "#0d0887"
             ],
             [
              0.1111111111111111,
              "#46039f"
             ],
             [
              0.2222222222222222,
              "#7201a8"
             ],
             [
              0.3333333333333333,
              "#9c179e"
             ],
             [
              0.4444444444444444,
              "#bd3786"
             ],
             [
              0.5555555555555556,
              "#d8576b"
             ],
             [
              0.6666666666666666,
              "#ed7953"
             ],
             [
              0.7777777777777778,
              "#fb9f3a"
             ],
             [
              0.8888888888888888,
              "#fdca26"
             ],
             [
              1,
              "#f0f921"
             ]
            ],
            "type": "surface"
           }
          ],
          "table": [
           {
            "cells": {
             "fill": {
              "color": "#506784"
             },
             "line": {
              "color": "rgb(17,17,17)"
             }
            },
            "header": {
             "fill": {
              "color": "#2a3f5f"
             },
             "line": {
              "color": "rgb(17,17,17)"
             }
            },
            "type": "table"
           }
          ]
         },
         "layout": {
          "annotationdefaults": {
           "arrowcolor": "#f2f5fa",
           "arrowhead": 0,
           "arrowwidth": 1
          },
          "autotypenumbers": "strict",
          "coloraxis": {
           "colorbar": {
            "outlinewidth": 0,
            "ticks": ""
           }
          },
          "colorscale": {
           "diverging": [
            [
             0,
             "#8e0152"
            ],
            [
             0.1,
             "#c51b7d"
            ],
            [
             0.2,
             "#de77ae"
            ],
            [
             0.3,
             "#f1b6da"
            ],
            [
             0.4,
             "#fde0ef"
            ],
            [
             0.5,
             "#f7f7f7"
            ],
            [
             0.6,
             "#e6f5d0"
            ],
            [
             0.7,
             "#b8e186"
            ],
            [
             0.8,
             "#7fbc41"
            ],
            [
             0.9,
             "#4d9221"
            ],
            [
             1,
             "#276419"
            ]
           ],
           "sequential": [
            [
             0,
             "#0d0887"
            ],
            [
             0.1111111111111111,
             "#46039f"
            ],
            [
             0.2222222222222222,
             "#7201a8"
            ],
            [
             0.3333333333333333,
             "#9c179e"
            ],
            [
             0.4444444444444444,
             "#bd3786"
            ],
            [
             0.5555555555555556,
             "#d8576b"
            ],
            [
             0.6666666666666666,
             "#ed7953"
            ],
            [
             0.7777777777777778,
             "#fb9f3a"
            ],
            [
             0.8888888888888888,
             "#fdca26"
            ],
            [
             1,
             "#f0f921"
            ]
           ],
           "sequentialminus": [
            [
             0,
             "#0d0887"
            ],
            [
             0.1111111111111111,
             "#46039f"
            ],
            [
             0.2222222222222222,
             "#7201a8"
            ],
            [
             0.3333333333333333,
             "#9c179e"
            ],
            [
             0.4444444444444444,
             "#bd3786"
            ],
            [
             0.5555555555555556,
             "#d8576b"
            ],
            [
             0.6666666666666666,
             "#ed7953"
            ],
            [
             0.7777777777777778,
             "#fb9f3a"
            ],
            [
             0.8888888888888888,
             "#fdca26"
            ],
            [
             1,
             "#f0f921"
            ]
           ]
          },
          "colorway": [
           "#636efa",
           "#EF553B",
           "#00cc96",
           "#ab63fa",
           "#FFA15A",
           "#19d3f3",
           "#FF6692",
           "#B6E880",
           "#FF97FF",
           "#FECB52"
          ],
          "font": {
           "color": "#f2f5fa"
          },
          "geo": {
           "bgcolor": "rgb(17,17,17)",
           "lakecolor": "rgb(17,17,17)",
           "landcolor": "rgb(17,17,17)",
           "showlakes": true,
           "showland": true,
           "subunitcolor": "#506784"
          },
          "hoverlabel": {
           "align": "left"
          },
          "hovermode": "closest",
          "mapbox": {
           "style": "dark"
          },
          "paper_bgcolor": "rgb(17,17,17)",
          "plot_bgcolor": "rgb(17,17,17)",
          "polar": {
           "angularaxis": {
            "gridcolor": "#506784",
            "linecolor": "#506784",
            "ticks": ""
           },
           "bgcolor": "rgb(17,17,17)",
           "radialaxis": {
            "gridcolor": "#506784",
            "linecolor": "#506784",
            "ticks": ""
           }
          },
          "scene": {
           "xaxis": {
            "backgroundcolor": "rgb(17,17,17)",
            "gridcolor": "#506784",
            "gridwidth": 2,
            "linecolor": "#506784",
            "showbackground": true,
            "ticks": "",
            "zerolinecolor": "#C8D4E3"
           },
           "yaxis": {
            "backgroundcolor": "rgb(17,17,17)",
            "gridcolor": "#506784",
            "gridwidth": 2,
            "linecolor": "#506784",
            "showbackground": true,
            "ticks": "",
            "zerolinecolor": "#C8D4E3"
           },
           "zaxis": {
            "backgroundcolor": "rgb(17,17,17)",
            "gridcolor": "#506784",
            "gridwidth": 2,
            "linecolor": "#506784",
            "showbackground": true,
            "ticks": "",
            "zerolinecolor": "#C8D4E3"
           }
          },
          "shapedefaults": {
           "line": {
            "color": "#f2f5fa"
           }
          },
          "sliderdefaults": {
           "bgcolor": "#C8D4E3",
           "bordercolor": "rgb(17,17,17)",
           "borderwidth": 1,
           "tickwidth": 0
          },
          "ternary": {
           "aaxis": {
            "gridcolor": "#506784",
            "linecolor": "#506784",
            "ticks": ""
           },
           "baxis": {
            "gridcolor": "#506784",
            "linecolor": "#506784",
            "ticks": ""
           },
           "bgcolor": "rgb(17,17,17)",
           "caxis": {
            "gridcolor": "#506784",
            "linecolor": "#506784",
            "ticks": ""
           }
          },
          "title": {
           "x": 0.05
          },
          "updatemenudefaults": {
           "bgcolor": "#506784",
           "borderwidth": 0
          },
          "xaxis": {
           "automargin": true,
           "gridcolor": "#283442",
           "linecolor": "#506784",
           "ticks": "",
           "title": {
            "standoff": 15
           },
           "zerolinecolor": "#283442",
           "zerolinewidth": 2
          },
          "yaxis": {
           "automargin": true,
           "gridcolor": "#283442",
           "linecolor": "#506784",
           "ticks": "",
           "title": {
            "standoff": 15
           },
           "zerolinecolor": "#283442",
           "zerolinewidth": 2
          }
         }
        },
        "title": {
         "text": "ATOMUSDT - M - Cached Levels Visualizer (250 candles)"
        },
        "xaxis": {
         "fixedrange": false,
         "rangeslider": {
          "visible": false
         },
         "title": {
          "text": "Time"
         }
        },
        "yaxis": {
         "fixedrange": false,
         "title": {
          "text": "Price"
         },
         "type": "log"
        }
       }
      }
     },
     "metadata": {},
     "output_type": "display_data"
    },
    {
     "name": "stdout",
     "output_type": "stream",
     "text": [
      "\n",
      "🔍 Visualizing W timeframe levels...\n"
     ]
    },
    {
     "data": {
      "application/vnd.plotly.v1+json": {
       "config": {
        "plotlyServerURL": "https://plot.ly"
       },
       "data": [
        {
         "close": {
          "bdata": "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",
          "dtype": "f8"
         },
         "high": {
          "bdata": "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",
          "dtype": "f8"
         },
         "low": {
          "bdata": "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",
          "dtype": "f8"
         },
         "name": "Candlestick",
         "open": {
          "bdata": "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",
          "dtype": "f8"
         },
         "showlegend": false,
         "type": "candlestick",
         "x": [
          "2024-01-10T03:15:00",
          "2024-01-10T03:30:00",
          "2024-01-10T03:45:00",
          "2024-01-10T04:00:00",
          "2024-01-10T04:15:00",
          "2024-01-10T04:30:00",
          "2024-01-10T04:45:00",
          "2024-01-10T05:00:00",
          "2024-01-10T05:15:00",
          "2024-01-10T05:30:00",
          "2024-01-10T05:45:00",
          "2024-01-10T06:00:00",
          "2024-01-10T06:15:00",
          "2024-01-10T06:30:00",
          "2024-01-10T06:45:00",
          "2024-01-10T07:00:00",
          "2024-01-10T07:15:00",
          "2024-01-10T07:30:00",
          "2024-01-10T07:45:00",
          "2024-01-10T08:00:00",
          "2024-01-10T08:15:00",
          "2024-01-10T08:30:00",
          "2024-01-10T08:45:00",
          "2024-01-10T09:00:00",
          "2024-01-10T09:15:00",
          "2024-01-10T09:30:00",
          "2024-01-10T09:45:00",
          "2024-01-10T10:00:00",
          "2024-01-10T10:15:00",
          "2024-01-10T10:30:00",
          "2024-01-10T10:45:00",
          "2024-01-10T11:00:00",
          "2024-01-10T11:15:00",
          "2024-01-10T11:30:00",
          "2024-01-10T11:45:00",
          "2024-01-10T12:00:00",
          "2024-01-10T12:15:00",
          "2024-01-10T12:30:00",
          "2024-01-10T12:45:00",
          "2024-01-10T13:00:00",
          "2024-01-10T13:15:00",
          "2024-01-10T13:30:00",
          "2024-01-10T13:45:00",
          "2024-01-10T14:00:00",
          "2024-01-10T14:15:00",
          "2024-01-10T14:30:00",
          "2024-01-10T14:45:00",
          "2024-01-10T15:00:00",
          "2024-01-10T15:15:00",
          "2024-01-10T15:30:00",
          "2024-01-10T15:45:00",
          "2024-01-10T16:00:00",
          "2024-01-10T16:15:00",
          "2024-01-10T16:30:00",
          "2024-01-10T16:45:00",
          "2024-01-10T17:00:00",
          "2024-01-10T17:15:00",
          "2024-01-10T17:30:00",
          "2024-01-10T17:45:00",
          "2024-01-10T18:00:00",
          "2024-01-10T18:15:00",
          "2024-01-10T18:30:00",
          "2024-01-10T18:45:00",
          "2024-01-10T19:00:00",
          "2024-01-10T19:15:00",
          "2024-01-10T19:30:00",
          "2024-01-10T19:45:00",
          "2024-01-10T20:00:00",
          "2024-01-10T20:15:00",
          "2024-01-10T20:30:00",
          "2024-01-10T20:45:00",
          "2024-01-10T21:00:00",
          "2024-01-10T21:15:00",
          "2024-01-10T21:30:00",
          "2024-01-10T21:45:00",
          "2024-01-10T22:00:00",
          "2024-01-10T22:15:00",
          "2024-01-10T22:30:00",
          "2024-01-10T22:45:00",
          "2024-01-10T23:00:00",
          "2024-01-10T23:15:00",
          "2024-01-10T23:30:00",
          "2024-01-10T23:45:00",
          "2024-01-11T00:00:00",
          "2024-01-11T00:15:00",
          "2024-01-11T00:30:00",
          "2024-01-11T00:45:00",
          "2024-01-11T01:00:00",
          "2024-01-11T01:15:00",
          "2024-01-11T01:30:00",
          "2024-01-11T01:45:00",
          "2024-01-11T02:00:00",
          "2024-01-11T02:15:00",
          "2024-01-11T02:30:00",
          "2024-01-11T02:45:00",
          "2024-01-11T03:00:00",
          "2024-01-11T03:15:00",
          "2024-01-11T03:30:00",
          "2024-01-11T03:45:00",
          "2024-01-11T04:00:00",
          "2024-01-11T04:15:00",
          "2024-01-11T04:30:00",
          "2024-01-11T04:45:00",
          "2024-01-11T05:00:00",
          "2024-01-11T05:15:00",
          "2024-01-11T05:30:00",
          "2024-01-11T05:45:00",
          "2024-01-11T06:00:00",
          "2024-01-11T06:15:00",
          "2024-01-11T06:30:00",
          "2024-01-11T06:45:00",
          "2024-01-11T07:00:00",
          "2024-01-11T07:15:00",
          "2024-01-11T07:30:00",
          "2024-01-11T07:45:00",
          "2024-01-11T08:00:00",
          "2024-01-11T08:15:00",
          "2024-01-11T08:30:00",
          "2024-01-11T08:45:00",
          "2024-01-11T09:00:00",
          "2024-01-11T09:15:00",
          "2024-01-11T09:30:00",
          "2024-01-11T09:45:00",
          "2024-01-11T10:00:00",
          "2024-01-11T10:15:00",
          "2024-01-11T10:30:00",
          "2024-01-11T10:45:00",
          "2024-01-11T11:00:00",
          "2024-01-11T11:15:00",
          "2024-01-11T11:30:00",
          "2024-01-11T11:45:00",
          "2024-01-11T12:00:00",
          "2024-01-11T12:15:00",
          "2024-01-11T12:30:00",
          "2024-01-11T12:45:00",
          "2024-01-11T13:00:00",
          "2024-01-11T13:15:00",
          "2024-01-11T13:30:00",
          "2024-01-11T13:45:00",
          "2024-01-11T14:00:00",
          "2024-01-11T14:15:00",
          "2024-01-11T14:30:00",
          "2024-01-11T14:45:00",
          "2024-01-11T15:00:00",
          "2024-01-11T15:15:00",
          "2024-01-11T15:30:00",
          "2024-01-11T15:45:00",
          "2024-01-11T16:00:00",
          "2024-01-11T16:15:00",
          "2024-01-11T16:30:00",
          "2024-01-11T16:45:00",
          "2024-01-11T17:00:00",
          "2024-01-11T17:15:00",
          "2024-01-11T17:30:00",
          "2024-01-11T17:45:00",
          "2024-01-11T18:00:00",
          "2024-01-11T18:15:00",
          "2024-01-11T18:30:00",
          "2024-01-11T18:45:00",
          "2024-01-11T19:00:00",
          "2024-01-11T19:15:00",
          "2024-01-11T19:30:00",
          "2024-01-11T19:45:00",
          "2024-01-11T20:00:00",
          "2024-01-11T20:15:00",
          "2024-01-11T20:30:00",
          "2024-01-11T20:45:00",
          "2024-01-11T21:00:00",
          "2024-01-11T21:15:00",
          "2024-01-11T21:30:00",
          "2024-01-11T21:45:00",
          "2024-01-11T22:00:00",
          "2024-01-11T22:15:00",
          "2024-01-11T22:30:00",
          "2024-01-11T22:45:00",
          "2024-01-11T23:00:00",
          "2024-01-11T23:15:00",
          "2024-01-11T23:30:00",
          "2024-01-11T23:45:00",
          "2024-01-12T00:00:00",
          "2024-01-12T00:15:00",
          "2024-01-12T00:30:00",
          "2024-01-12T00:45:00",
          "2024-01-12T01:00:00",
          "2024-01-12T01:15:00",
          "2024-01-12T01:30:00",
          "2024-01-12T01:45:00",
          "2024-01-12T02:00:00",
          "2024-01-12T02:15:00",
          "2024-01-12T02:30:00",
          "2024-01-12T02:45:00",
          "2024-01-12T03:00:00",
          "2024-01-12T03:15:00",
          "2024-01-12T03:30:00",
          "2024-01-12T03:45:00",
          "2024-01-12T04:00:00",
          "2024-01-12T04:15:00",
          "2024-01-12T04:30:00",
          "2024-01-12T04:45:00",
          "2024-01-12T05:00:00",
          "2024-01-12T05:15:00",
          "2024-01-12T05:30:00",
          "2024-01-12T05:45:00",
          "2024-01-12T06:00:00",
          "2024-01-12T06:15:00",
          "2024-01-12T06:30:00",
          "2024-01-12T06:45:00",
          "2024-01-12T07:00:00",
          "2024-01-12T07:15:00",
          "2024-01-12T07:30:00",
          "2024-01-12T07:45:00",
          "2024-01-12T08:00:00",
          "2024-01-12T08:15:00",
          "2024-01-12T08:30:00",
          "2024-01-12T08:45:00",
          "2024-01-12T09:00:00",
          "2024-01-12T09:15:00",
          "2024-01-12T09:30:00",
          "2024-01-12T09:45:00",
          "2024-01-12T10:00:00",
          "2024-01-12T10:15:00",
          "2024-01-12T10:30:00",
          "2024-01-12T10:45:00",
          "2024-01-12T11:00:00",
          "2024-01-12T11:15:00",
          "2024-01-12T11:30:00",
          "2024-01-12T11:45:00",
          "2024-01-12T12:00:00",
          "2024-01-12T12:15:00",
          "2024-01-12T12:30:00",
          "2024-01-12T12:45:00",
          "2024-01-12T13:00:00",
          "2024-01-12T13:15:00",
          "2024-01-12T13:30:00",
          "2024-01-12T13:45:00",
          "2024-01-12T14:00:00",
          "2024-01-12T14:15:00",
          "2024-01-12T14:30:00",
          "2024-01-12T14:45:00",
          "2024-01-12T15:00:00",
          "2024-01-12T15:15:00",
          "2024-01-12T15:30:00",
          "2024-01-12T15:45:00",
          "2024-01-12T16:00:00",
          "2024-01-12T16:15:00",
          "2024-01-12T16:30:00",
          "2024-01-12T16:45:00",
          "2024-01-12T17:00:00",
          "2024-01-12T17:15:00",
          "2024-01-12T17:30:00"
         ]
        },
        {
         "hovertemplate": "line_close_W<br>%{y:.2f}<extra></extra>",
         "line": {
          "color": "orange",
          "dash": "dash",
          "width": 1
         },
         "mode": "lines",
         "name": "line_close_W (s=31290015.61)",
         "showlegend": false,
         "type": "scatter",
         "x": [
          "2024-01-01T00:00:00",
          "2024-01-08T00:00:00"
         ],
         "y": [
          9.41,
          9.41
         ]
        },
        {
         "hovertemplate": "line_close_W<br>%{y:.2f}<extra></extra>",
         "line": {
          "color": "orange",
          "dash": "dash",
          "width": 1
         },
         "mode": "lines",
         "name": "line_close_W (s=15726754.63)",
         "showlegend": false,
         "type": "scatter",
         "x": [
          "2023-04-10T00:00:00",
          "2024-01-08T00:00:00"
         ],
         "y": [
          12.662,
          12.662
         ]
        },
        {
         "hovertemplate": "line_close_W<br>%{y:.2f}<extra></extra>",
         "line": {
          "color": "orange",
          "dash": "dash",
          "width": 1
         },
         "mode": "lines",
         "name": "line_close_W (s=14795087.7)",
         "showlegend": false,
         "type": "scatter",
         "x": [
          "2023-02-13T00:00:00",
          "2024-01-08T00:00:00"
         ],
         "y": [
          14.126,
          14.126
         ]
        },
        {
         "hovertemplate": "vah_line<br>%{y:.2f}<extra></extra>",
         "line": {
          "color": "green",
          "dash": "dash",
          "width": 1
         },
         "mode": "lines",
         "name": "vah_line (s=27820678)",
         "showlegend": false,
         "type": "scatter",
         "x": [
          "2024-01-01T00:00:00",
          "2024-01-08T00:00:00"
         ],
         "y": [
          9.993999999999918,
          9.993999999999918
         ]
        },
        {
         "hovertemplate": "val_line<br>%{y:.2f}<extra></extra>",
         "line": {
          "color": "red",
          "dash": "dash",
          "width": 1
         },
         "mode": "lines",
         "name": "val_line (s=31290015)",
         "showlegend": false,
         "type": "scatter",
         "x": [
          "2024-01-01T00:00:00",
          "2024-01-08T00:00:00"
         ],
         "y": [
          9.41,
          9.41
         ]
        },
        {
         "hovertemplate": "vah_line<br>%{y:.2f}<extra></extra>",
         "line": {
          "color": "green",
          "dash": "dash",
          "width": 1
         },
         "mode": "lines",
         "name": "vah_line",
         "showlegend": false,
         "type": "scatter",
         "x": [
          "2023-12-04T00:00:00",
          "2023-12-25T00:00:00"
         ],
         "y": [
          11.239330000000017,
          11.239330000000017
         ]
        },
        {
         "hovertemplate": "val_line<br>%{y:.2f}<extra></extra>",
         "line": {
          "color": "red",
          "dash": "dash",
          "width": 1
         },
         "mode": "lines",
         "name": "val_line (s=33884860)",
         "showlegend": false,
         "type": "scatter",
         "x": [
          "2023-12-04T00:00:00",
          "2023-12-25T00:00:00"
         ],
         "y": [
          10.688620000000002,
          10.688620000000002
         ]
        },
        {
         "hovertemplate": "vah_line<br>%{y:.2f}<extra></extra>",
         "line": {
          "color": "green",
          "dash": "dash",
          "width": 1
         },
         "mode": "lines",
         "name": "vah_line (s=17770527)",
         "showlegend": false,
         "type": "scatter",
         "x": [
          "2023-11-06T00:00:00",
          "2023-11-27T00:00:00"
         ],
         "y": [
          9.540040000000024,
          9.540040000000024
         ]
        },
        {
         "hovertemplate": "val_line<br>%{y:.2f}<extra></extra>",
         "line": {
          "color": "red",
          "dash": "dash",
          "width": 1
         },
         "mode": "lines",
         "name": "val_line (s=34036967)",
         "showlegend": false,
         "type": "scatter",
         "x": [
          "2023-11-06T00:00:00",
          "2023-11-27T00:00:00"
         ],
         "y": [
          9.365,
          9.365
         ]
        },
        {
         "hovertemplate": "vah_line<br>%{y:.2f}<extra></extra>",
         "line": {
          "color": "green",
          "dash": "dash",
          "width": 1
         },
         "mode": "lines",
         "name": "vah_line (s=30889506)",
         "showlegend": false,
         "type": "scatter",
         "x": [
          "2023-10-02T00:00:00",
          "2023-10-30T00:00:00"
         ],
         "y": [
          8.375579999999971,
          8.375579999999971
         ]
        },
        {
         "hovertemplate": "val_line<br>%{y:.2f}<extra></extra>",
         "line": {
          "color": "red",
          "dash": "dash",
          "width": 1
         },
         "mode": "lines",
         "name": "val_line (s=6339250)",
         "showlegend": false,
         "type": "scatter",
         "x": [
          "2023-10-02T00:00:00",
          "2023-10-30T00:00:00"
         ],
         "y": [
          6.934019999999994,
          6.934019999999994
         ]
        },
        {
         "hovertemplate": "vah_line<br>%{y:.2f}<extra></extra>",
         "line": {
          "color": "green",
          "dash": "dash",
          "width": 1
         },
         "mode": "lines",
         "name": "vah_line (s=6908820)",
         "showlegend": false,
         "type": "scatter",
         "x": [
          "2023-09-04T00:00:00",
          "2023-09-25T00:00:00"
         ],
         "y": [
          7.565000000000023,
          7.565000000000023
         ]
        },
        {
         "hovertemplate": "val_line<br>%{y:.2f}<extra></extra>",
         "line": {
          "color": "red",
          "dash": "dash",
          "width": 1
         },
         "mode": "lines",
         "name": "val_line (s=9867100)",
         "showlegend": false,
         "type": "scatter",
         "x": [
          "2023-09-04T00:00:00",
          "2023-09-25T00:00:00"
         ],
         "y": [
          6.940550000000007,
          6.940550000000007
         ]
        },
        {
         "hovertemplate": "poc_line<br>%{y:.2f}<extra></extra>",
         "line": {
          "color": "lightgray",
          "dash": "dash",
          "width": 1
         },
         "mode": "lines",
         "name": "poc_line (s=31290015)",
         "showlegend": false,
         "type": "scatter",
         "x": [
          "2024-01-01T00:00:00",
          "2024-01-08T00:00:00"
         ],
         "y": [
          9.41292,
          9.41292
         ]
        },
        {
         "hovertemplate": "poc_line<br>%{y:.2f}<extra></extra>",
         "line": {
          "color": "lightgray",
          "dash": "dash",
          "width": 1
         },
         "mode": "lines",
         "name": "poc_line (s=47986577)",
         "showlegend": false,
         "type": "scatter",
         "x": [
          "2023-12-04T00:00:00",
          "2024-01-01T00:00:00"
         ],
         "y": [
          11.103235000000012,
          11.103235000000012
         ]
        },
        {
         "hovertemplate": "poc_line<br>%{y:.2f}<extra></extra>",
         "line": {
          "color": "lightgray",
          "dash": "dash",
          "width": 1
         },
         "mode": "lines",
         "name": "poc_line (s=34036967)",
         "showlegend": false,
         "type": "scatter",
         "x": [
          "2023-11-06T00:00:00",
          "2023-12-04T00:00:00"
         ],
         "y": [
          9.367735,
          9.367735
         ]
        },
        {
         "hovertemplate": "poc_line<br>%{y:.2f}<extra></extra>",
         "line": {
          "color": "lightgray",
          "dash": "dash",
          "width": 1
         },
         "mode": "lines",
         "name": "poc_line (s=30889506)",
         "showlegend": false,
         "type": "scatter",
         "x": [
          "2023-10-02T00:00:00",
          "2023-11-06T00:00:00"
         ],
         "y": [
          8.36678999999997,
          8.36678999999997
         ]
        },
        {
         "hovertemplate": "poc_line<br>%{y:.2f}<extra></extra>",
         "line": {
          "color": "lightgray",
          "dash": "dash",
          "width": 1
         },
         "mode": "lines",
         "name": "poc_line (s=9867100)",
         "showlegend": false,
         "type": "scatter",
         "x": [
          "2023-09-04T00:00:00",
          "2023-10-02T00:00:00"
         ],
         "y": [
          6.945075000000007,
          6.945075000000007
         ]
        },
        {
         "hovertemplate": "naked_poc_line<br>%{y:.2f}<extra></extra>",
         "line": {
          "color": "white",
          "dash": "dash",
          "width": 2
         },
         "mode": "lines",
         "name": "naked_poc_line (s=14795087)",
         "showlegend": false,
         "type": "scatter",
         "x": [
          "2023-02-06T00:00:00",
          "2024-01-08T00:00:00"
         ],
         "y": [
          14.115464999999993,
          14.115464999999993
         ]
        },
        {
         "hovertemplate": "naked_poc_line<br>%{y:.2f}<extra></extra>",
         "line": {
          "color": "white",
          "dash": "dash",
          "width": 2
         },
         "mode": "lines",
         "name": "naked_poc_line (s=62558469)",
         "showlegend": false,
         "type": "scatter",
         "x": [
          "2022-01-03T00:00:00",
          "2024-01-08T00:00:00"
         ],
         "y": [
          35.008500000000005,
          35.008500000000005
         ]
        },
        {
         "hovertemplate": "naked_poc_line<br>%{y:.2f}<extra></extra>",
         "line": {
          "color": "white",
          "dash": "dash",
          "width": 2
         },
         "mode": "lines",
         "name": "naked_poc_line (s=39147470)",
         "showlegend": false,
         "type": "scatter",
         "x": [
          "2020-03-02T00:00:00",
          "2024-01-08T00:00:00"
         ],
         "y": [
          1.9177050000000002,
          1.9177050000000002
         ]
        }
       ],
       "layout": {
        "height": 800,
        "showlegend": false,
        "template": {
         "data": {
          "bar": [
           {
            "error_x": {
             "color": "#f2f5fa"
            },
            "error_y": {
             "color": "#f2f5fa"
            },
            "marker": {
             "line": {
              "color": "rgb(17,17,17)",
              "width": 0.5
             },
             "pattern": {
              "fillmode": "overlay",
              "size": 10,
              "solidity": 0.2
             }
            },
            "type": "bar"
           }
          ],
          "barpolar": [
           {
            "marker": {
             "line": {
              "color": "rgb(17,17,17)",
              "width": 0.5
             },
             "pattern": {
              "fillmode": "overlay",
              "size": 10,
              "solidity": 0.2
             }
            },
            "type": "barpolar"
           }
          ],
          "carpet": [
           {
            "aaxis": {
             "endlinecolor": "#A2B1C6",
             "gridcolor": "#506784",
             "linecolor": "#506784",
             "minorgridcolor": "#506784",
             "startlinecolor": "#A2B1C6"
            },
            "baxis": {
             "endlinecolor": "#A2B1C6",
             "gridcolor": "#506784",
             "linecolor": "#506784",
             "minorgridcolor": "#506784",
             "startlinecolor": "#A2B1C6"
            },
            "type": "carpet"
           }
          ],
          "choropleth": [
           {
            "colorbar": {
             "outlinewidth": 0,
             "ticks": ""
            },
            "type": "choropleth"
           }
          ],
          "contour": [
           {
            "colorbar": {
             "outlinewidth": 0,
             "ticks": ""
            },
            "colorscale": [
             [
              0,
              "#0d0887"
             ],
             [
              0.1111111111111111,
              "#46039f"
             ],
             [
              0.2222222222222222,
              "#7201a8"
             ],
             [
              0.3333333333333333,
              "#9c179e"
             ],
             [
              0.4444444444444444,
              "#bd3786"
             ],
             [
              0.5555555555555556,
              "#d8576b"
             ],
             [
              0.6666666666666666,
              "#ed7953"
             ],
             [
              0.7777777777777778,
              "#fb9f3a"
             ],
             [
              0.8888888888888888,
              "#fdca26"
             ],
             [
              1,
              "#f0f921"
             ]
            ],
            "type": "contour"
           }
          ],
          "contourcarpet": [
           {
            "colorbar": {
             "outlinewidth": 0,
             "ticks": ""
            },
            "type": "contourcarpet"
           }
          ],
          "heatmap": [
           {
            "colorbar": {
             "outlinewidth": 0,
             "ticks": ""
            },
            "colorscale": [
             [
              0,
              "#0d0887"
             ],
             [
              0.1111111111111111,
              "#46039f"
             ],
             [
              0.2222222222222222,
              "#7201a8"
             ],
             [
              0.3333333333333333,
              "#9c179e"
             ],
             [
              0.4444444444444444,
              "#bd3786"
             ],
             [
              0.5555555555555556,
              "#d8576b"
             ],
             [
              0.6666666666666666,
              "#ed7953"
             ],
             [
              0.7777777777777778,
              "#fb9f3a"
             ],
             [
              0.8888888888888888,
              "#fdca26"
             ],
             [
              1,
              "#f0f921"
             ]
            ],
            "type": "heatmap"
           }
          ],
          "histogram": [
           {
            "marker": {
             "pattern": {
              "fillmode": "overlay",
              "size": 10,
              "solidity": 0.2
             }
            },
            "type": "histogram"
           }
          ],
          "histogram2d": [
           {
            "colorbar": {
             "outlinewidth": 0,
             "ticks": ""
            },
            "colorscale": [
             [
              0,
              "#0d0887"
             ],
             [
              0.1111111111111111,
              "#46039f"
             ],
             [
              0.2222222222222222,
              "#7201a8"
             ],
             [
              0.3333333333333333,
              "#9c179e"
             ],
             [
              0.4444444444444444,
              "#bd3786"
             ],
             [
              0.5555555555555556,
              "#d8576b"
             ],
             [
              0.6666666666666666,
              "#ed7953"
             ],
             [
              0.7777777777777778,
              "#fb9f3a"
             ],
             [
              0.8888888888888888,
              "#fdca26"
             ],
             [
              1,
              "#f0f921"
             ]
            ],
            "type": "histogram2d"
           }
          ],
          "histogram2dcontour": [
           {
            "colorbar": {
             "outlinewidth": 0,
             "ticks": ""
            },
            "colorscale": [
             [
              0,
              "#0d0887"
             ],
             [
              0.1111111111111111,
              "#46039f"
             ],
             [
              0.2222222222222222,
              "#7201a8"
             ],
             [
              0.3333333333333333,
              "#9c179e"
             ],
             [
              0.4444444444444444,
              "#bd3786"
             ],
             [
              0.5555555555555556,
              "#d8576b"
             ],
             [
              0.6666666666666666,
              "#ed7953"
             ],
             [
              0.7777777777777778,
              "#fb9f3a"
             ],
             [
              0.8888888888888888,
              "#fdca26"
             ],
             [
              1,
              "#f0f921"
             ]
            ],
            "type": "histogram2dcontour"
           }
          ],
          "mesh3d": [
           {
            "colorbar": {
             "outlinewidth": 0,
             "ticks": ""
            },
            "type": "mesh3d"
           }
          ],
          "parcoords": [
           {
            "line": {
             "colorbar": {
              "outlinewidth": 0,
              "ticks": ""
             }
            },
            "type": "parcoords"
           }
          ],
          "pie": [
           {
            "automargin": true,
            "type": "pie"
           }
          ],
          "scatter": [
           {
            "marker": {
             "line": {
              "color": "#283442"
             }
            },
            "type": "scatter"
           }
          ],
          "scatter3d": [
           {
            "line": {
             "colorbar": {
              "outlinewidth": 0,
              "ticks": ""
             }
            },
            "marker": {
             "colorbar": {
              "outlinewidth": 0,
              "ticks": ""
             }
            },
            "type": "scatter3d"
           }
          ],
          "scattercarpet": [
           {
            "marker": {
             "colorbar": {
              "outlinewidth": 0,
              "ticks": ""
             }
            },
            "type": "scattercarpet"
           }
          ],
          "scattergeo": [
           {
            "marker": {
             "colorbar": {
              "outlinewidth": 0,
              "ticks": ""
             }
            },
            "type": "scattergeo"
           }
          ],
          "scattergl": [
           {
            "marker": {
             "line": {
              "color": "#283442"
             }
            },
            "type": "scattergl"
           }
          ],
          "scattermap": [
           {
            "marker": {
             "colorbar": {
              "outlinewidth": 0,
              "ticks": ""
             }
            },
            "type": "scattermap"
           }
          ],
          "scattermapbox": [
           {
            "marker": {
             "colorbar": {
              "outlinewidth": 0,
              "ticks": ""
             }
            },
            "type": "scattermapbox"
           }
          ],
          "scatterpolar": [
           {
            "marker": {
             "colorbar": {
              "outlinewidth": 0,
              "ticks": ""
             }
            },
            "type": "scatterpolar"
           }
          ],
          "scatterpolargl": [
           {
            "marker": {
             "colorbar": {
              "outlinewidth": 0,
              "ticks": ""
             }
            },
            "type": "scatterpolargl"
           }
          ],
          "scatterternary": [
           {
            "marker": {
             "colorbar": {
              "outlinewidth": 0,
              "ticks": ""
             }
            },
            "type": "scatterternary"
           }
          ],
          "surface": [
           {
            "colorbar": {
             "outlinewidth": 0,
             "ticks": ""
            },
            "colorscale": [
             [
              0,
              "#0d0887"
             ],
             [
              0.1111111111111111,
              "#46039f"
             ],
             [
              0.2222222222222222,
              "#7201a8"
             ],
             [
              0.3333333333333333,
              "#9c179e"
             ],
             [
              0.4444444444444444,
              "#bd3786"
             ],
             [
              0.5555555555555556,
              "#d8576b"
             ],
             [
              0.6666666666666666,
              "#ed7953"
             ],
             [
              0.7777777777777778,
              "#fb9f3a"
             ],
             [
              0.8888888888888888,
              "#fdca26"
             ],
             [
              1,
              "#f0f921"
             ]
            ],
            "type": "surface"
           }
          ],
          "table": [
           {
            "cells": {
             "fill": {
              "color": "#506784"
             },
             "line": {
              "color": "rgb(17,17,17)"
             }
            },
            "header": {
             "fill": {
              "color": "#2a3f5f"
             },
             "line": {
              "color": "rgb(17,17,17)"
             }
            },
            "type": "table"
           }
          ]
         },
         "layout": {
          "annotationdefaults": {
           "arrowcolor": "#f2f5fa",
           "arrowhead": 0,
           "arrowwidth": 1
          },
          "autotypenumbers": "strict",
          "coloraxis": {
           "colorbar": {
            "outlinewidth": 0,
            "ticks": ""
           }
          },
          "colorscale": {
           "diverging": [
            [
             0,
             "#8e0152"
            ],
            [
             0.1,
             "#c51b7d"
            ],
            [
             0.2,
             "#de77ae"
            ],
            [
             0.3,
             "#f1b6da"
            ],
            [
             0.4,
             "#fde0ef"
            ],
            [
             0.5,
             "#f7f7f7"
            ],
            [
             0.6,
             "#e6f5d0"
            ],
            [
             0.7,
             "#b8e186"
            ],
            [
             0.8,
             "#7fbc41"
            ],
            [
             0.9,
             "#4d9221"
            ],
            [
             1,
             "#276419"
            ]
           ],
           "sequential": [
            [
             0,
             "#0d0887"
            ],
            [
             0.1111111111111111,
             "#46039f"
            ],
            [
             0.2222222222222222,
             "#7201a8"
            ],
            [
             0.3333333333333333,
             "#9c179e"
            ],
            [
             0.4444444444444444,
             "#bd3786"
            ],
            [
             0.5555555555555556,
             "#d8576b"
            ],
            [
             0.6666666666666666,
             "#ed7953"
            ],
            [
             0.7777777777777778,
             "#fb9f3a"
            ],
            [
             0.8888888888888888,
             "#fdca26"
            ],
            [
             1,
             "#f0f921"
            ]
           ],
           "sequentialminus": [
            [
             0,
             "#0d0887"
            ],
            [
             0.1111111111111111,
             "#46039f"
            ],
            [
             0.2222222222222222,
             "#7201a8"
            ],
            [
             0.3333333333333333,
             "#9c179e"
            ],
            [
             0.4444444444444444,
             "#bd3786"
            ],
            [
             0.5555555555555556,
             "#d8576b"
            ],
            [
             0.6666666666666666,
             "#ed7953"
            ],
            [
             0.7777777777777778,
             "#fb9f3a"
            ],
            [
             0.8888888888888888,
             "#fdca26"
            ],
            [
             1,
             "#f0f921"
            ]
           ]
          },
          "colorway": [
           "#636efa",
           "#EF553B",
           "#00cc96",
           "#ab63fa",
           "#FFA15A",
           "#19d3f3",
           "#FF6692",
           "#B6E880",
           "#FF97FF",
           "#FECB52"
          ],
          "font": {
           "color": "#f2f5fa"
          },
          "geo": {
           "bgcolor": "rgb(17,17,17)",
           "lakecolor": "rgb(17,17,17)",
           "landcolor": "rgb(17,17,17)",
           "showlakes": true,
           "showland": true,
           "subunitcolor": "#506784"
          },
          "hoverlabel": {
           "align": "left"
          },
          "hovermode": "closest",
          "mapbox": {
           "style": "dark"
          },
          "paper_bgcolor": "rgb(17,17,17)",
          "plot_bgcolor": "rgb(17,17,17)",
          "polar": {
           "angularaxis": {
            "gridcolor": "#506784",
            "linecolor": "#506784",
            "ticks": ""
           },
           "bgcolor": "rgb(17,17,17)",
           "radialaxis": {
            "gridcolor": "#506784",
            "linecolor": "#506784",
            "ticks": ""
           }
          },
          "scene": {
           "xaxis": {
            "backgroundcolor": "rgb(17,17,17)",
            "gridcolor": "#506784",
            "gridwidth": 2,
            "linecolor": "#506784",
            "showbackground": true,
            "ticks": "",
            "zerolinecolor": "#C8D4E3"
           },
           "yaxis": {
            "backgroundcolor": "rgb(17,17,17)",
            "gridcolor": "#506784",
            "gridwidth": 2,
            "linecolor": "#506784",
            "showbackground": true,
            "ticks": "",
            "zerolinecolor": "#C8D4E3"
           },
           "zaxis": {
            "backgroundcolor": "rgb(17,17,17)",
            "gridcolor": "#506784",
            "gridwidth": 2,
            "linecolor": "#506784",
            "showbackground": true,
            "ticks": "",
            "zerolinecolor": "#C8D4E3"
           }
          },
          "shapedefaults": {
           "line": {
            "color": "#f2f5fa"
           }
          },
          "sliderdefaults": {
           "bgcolor": "#C8D4E3",
           "bordercolor": "rgb(17,17,17)",
           "borderwidth": 1,
           "tickwidth": 0
          },
          "ternary": {
           "aaxis": {
            "gridcolor": "#506784",
            "linecolor": "#506784",
            "ticks": ""
           },
           "baxis": {
            "gridcolor": "#506784",
            "linecolor": "#506784",
            "ticks": ""
           },
           "bgcolor": "rgb(17,17,17)",
           "caxis": {
            "gridcolor": "#506784",
            "linecolor": "#506784",
            "ticks": ""
           }
          },
          "title": {
           "x": 0.05
          },
          "updatemenudefaults": {
           "bgcolor": "#506784",
           "borderwidth": 0
          },
          "xaxis": {
           "automargin": true,
           "gridcolor": "#283442",
           "linecolor": "#506784",
           "ticks": "",
           "title": {
            "standoff": 15
           },
           "zerolinecolor": "#283442",
           "zerolinewidth": 2
          },
          "yaxis": {
           "automargin": true,
           "gridcolor": "#283442",
           "linecolor": "#506784",
           "ticks": "",
           "title": {
            "standoff": 15
           },
           "zerolinecolor": "#283442",
           "zerolinewidth": 2
          }
         }
        },
        "title": {
         "text": "ATOMUSDT - W - Cached Levels Visualizer (250 candles)"
        },
        "xaxis": {
         "fixedrange": false,
         "rangeslider": {
          "visible": false
         },
         "title": {
          "text": "Time"
         }
        },
        "yaxis": {
         "fixedrange": false,
         "title": {
          "text": "Price"
         },
         "type": "log"
        }
       }
      }
     },
     "metadata": {},
     "output_type": "display_data"
    },
    {
     "name": "stdout",
     "output_type": "stream",
     "text": [
      "\n",
      "🔍 Visualizing D timeframe levels...\n"
     ]
    },
    {
     "data": {
      "application/vnd.plotly.v1+json": {
       "config": {
        "plotlyServerURL": "https://plot.ly"
       },
       "data": [
        {
         "close": {
          "bdata": "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",
          "dtype": "f8"
         },
         "high": {
          "bdata": "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",
          "dtype": "f8"
         },
         "low": {
          "bdata": "1XjpJjGII0AMAiuHFpkjQHWTGARWjiNAFK5H4XqUI0DfT42XbpIjQCUGgZVDiyNAWmQ730+NI0BqvHSTGIQjQPhT46WbhCNA5dAi2/l+I0BQjZduEoMjQGq8dJMYhCNAarx0kxiEI0BxPQrXo3AjQNv5fmq8dCNA9P3UeOlmI0CsHFpkO18jQARWDi2yXSNAJzEIrBxaI0DP91PjpVsjQO58PzVeOiNAKVyPwvUoI0DhehSuRyEjQGiR7Xw/NSNARrbz/dQ4I0DdJAaBlYMjQCcxCKwcmiNABFYOLbKdI0BU46WbxKAjQGQ730+NlyNA1XjpJjGII0CF61G4HoUjQOXQItv5fiNAuB6F61F4I0BCYOXQIlsjQHnpJjEIbCNA5/up8dINI0CJQWDl0CIjQDvfT42XriJAUI2XbhLDIkDsUbgehesiQBkEVg4t8iJAZmZmZmbmIkB56SYxCOwiQN0kBoGVAyNAqMZLN4kBI0C+nxov3eQiQLx0kxgE1iJAAAAAAAAAI0CHFtnO9xMjQClcj8L1KCNAc2iR7Xw/I0CwcmiR7TwjQM3MzMzMTCNAoBov3SRGI0BzaJHtfD8jQGq8dJMYRCNAHVpkO99PI0D2KFyPwnUjQGq8dJMYhCNAw/UoXI+CI0CYbhKDwIojQArXo3A9iiNAzczMzMyMI0DJdr6fGq8jQEJg5dAimyNAYOXQItu5I0AUrkfhelQjQM/3U+OlWyNAiUFg5dBiI0Boke18P3UjQHNoke18vyNA/tR46SbxI0DjpZvEIPAjQPLSTWIQGCRA9ihcj8J1JEBxPQrXo7AkQC/dJAaB1SRA+n5qvHTTJECe76fGS/ckQF66SQwC6yRAWDm0yHa+JEAQWDm0yLYkQJqZmZmZmSRAukkMAiuHJEBt5/up8ZIkQKRwPQrXoyRApHA9CtejJEDl0CLb+b4kQFCNl24SwyRAhetRuB7FJEBg5dAi27kkQDeJQWDl0CRAbef7qfHSJECTGARWDu0kQClcj8L16CRAFK5H4XrUJECTGARWDu0kQCuHFtnO9yRAK4cW2c73JECq8dJNYhAlQMuhRbbz/SRAjZduEoMAJUBCYOXQItskQOkmMQis3CRAIbByaJGtJEDsUbgehaskQPp+arx0kyRAmpmZmZmZJEBEi2zn+2kkQD81XrpJjCRAhxbZzveTJEBqvHSTGMQkQKjGSzeJwSRAtMh2vp/aJECq8dJNYtAkQJMYBFYO7SRAEoPAyqEFJUA3iUFg5RAlQAaBlUOLLCVAkxgEVg4tJUDP91PjpRslQK5H4XoULiVArkfhehQuJUBt5/up8VIlQB+F61G4XiVATmIQWDl0JUApXI/C9WglQGZmZmZmZiVAMQisHFpkJUAK16NwPYolQN9PjZdukiVAxSCwcmiRJUBvEoPAyqElQAaBlUOLrCVASgwCK4eWJUAUrkfhepQlQI/C9ShcTyVA/tR46SZxJUArhxbZznclQARWDi2yXSVATmIQWDk0JUACK4cW2Y4lQHE9CtejcCVAj8L1KFxPJUBQjZduEgMlQARWDi2y3SRAmpmZmZnZJEDTTWIQWLkkQOXQItv5viRAy6FFtvP9JEASg8DKoQUlQBBYObTI9iRAJQaBlUMLJUBxPQrXozAlQMP1KFyPQiVAAAAAAABAJUA/NV66SUwlQLx0kxgEViVACtejcD1KJUArhxbZzjclQFCNl24SQyVAx0s3iUFgJUBOYhBYOXQlQB+F61G4XiVA9P3UeOkmJUDfT42XbhIlQPyp8dJNIiVAsHJoke08JUAGgZVDiywlQKrx0k1iECVAvHSTGAQWJUCq8dJNYhAlQIXrUbgeBSVAfT81XroJJUC+nxov3SQlQPhT46WbRCVA3SQGgZVDJUCYbhKDwEolQI/C9ShcTyVA+FPjpZtEJUBSuB6F61ElQK5H4XoUbiVAuB6F61E4JUDfT42XbhIlQJHtfD81HiVAiUFg5dBiJUAIrBxaZHslQMHKoUW2cyVATmIQWDl0JUBiEFg5tIglQCuHFtnOdyVAhxbZzvdTJUCR7Xw/NV4lQJHtfD81XiVAvHSTGARWJUD+1HjpJnElQHNoke18fyVA7FG4HoVrJUAZBFYOLXIlQDm0yHa+nyVARIts5/upJUCWQ4ts57slQD0K16NwvSVAJQaBlUPLJUCe76fGS7clQAwCK4cWmSVAJQaBlUOLJUAK16NwPYolQGZmZmZmZiVA8tJNYhBYJUACK4cW2U4lQMP1KFyPQiVAvp8aL90kJUAOLbKd7yclQL6fGi/dJCVAhetRuB4FJUBiEFg5tAglQBSuR+F6FCVAZmZmZmbmJEAEVg4tst0kQHe+nxov3SRAkxgEVg7tJEAAAAAAAAAlQN0kBoGVAyVAVOOlm8QgJUBvEoPAyiElQB+F61G4HiVAkxgEVg4tJUA/NV66SQwlQGZmZmZm5iRAI9v5fmr8JECF61G4HgUlQAIrhxbZDiVA4XoUrkchJUAdWmQ73w8lQNv5fmq8NCVAK4cW2c43JUCmm8QgsDIlQMHKoUW2MyVA1XjpJjHIJECkcD0K16MkQJHtfD81niRAZmZmZmamJED0/dR46aYkQDvfT42XriRAWDm0yHY+JEB9PzVeukkkQAAAAAAAACRAK4cW2c43JEA=",
          "dtype": "f8"
         },
         "name": "Candlestick",
         "open": {
          "bdata": "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",
          "dtype": "f8"
         },
         "showlegend": false,
         "type": "candlestick",
         "x": [
          "2024-01-10T03:15:00",
          "2024-01-10T03:30:00",
          "2024-01-10T03:45:00",
          "2024-01-10T04:00:00",
          "2024-01-10T04:15:00",
          "2024-01-10T04:30:00",
          "2024-01-10T04:45:00",
          "2024-01-10T05:00:00",
          "2024-01-10T05:15:00",
          "2024-01-10T05:30:00",
          "2024-01-10T05:45:00",
          "2024-01-10T06:00:00",
          "2024-01-10T06:15:00",
          "2024-01-10T06:30:00",
          "2024-01-10T06:45:00",
          "2024-01-10T07:00:00",
          "2024-01-10T07:15:00",
          "2024-01-10T07:30:00",
          "2024-01-10T07:45:00",
          "2024-01-10T08:00:00",
          "2024-01-10T08:15:00",
          "2024-01-10T08:30:00",
          "2024-01-10T08:45:00",
          "2024-01-10T09:00:00",
          "2024-01-10T09:15:00",
          "2024-01-10T09:30:00",
          "2024-01-10T09:45:00",
          "2024-01-10T10:00:00",
          "2024-01-10T10:15:00",
          "2024-01-10T10:30:00",
          "2024-01-10T10:45:00",
          "2024-01-10T11:00:00",
          "2024-01-10T11:15:00",
          "2024-01-10T11:30:00",
          "2024-01-10T11:45:00",
          "2024-01-10T12:00:00",
          "2024-01-10T12:15:00",
          "2024-01-10T12:30:00",
          "2024-01-10T12:45:00",
          "2024-01-10T13:00:00",
          "2024-01-10T13:15:00",
          "2024-01-10T13:30:00",
          "2024-01-10T13:45:00",
          "2024-01-10T14:00:00",
          "2024-01-10T14:15:00",
          "2024-01-10T14:30:00",
          "2024-01-10T14:45:00",
          "2024-01-10T15:00:00",
          "2024-01-10T15:15:00",
          "2024-01-10T15:30:00",
          "2024-01-10T15:45:00",
          "2024-01-10T16:00:00",
          "2024-01-10T16:15:00",
          "2024-01-10T16:30:00",
          "2024-01-10T16:45:00",
          "2024-01-10T17:00:00",
          "2024-01-10T17:15:00",
          "2024-01-10T17:30:00",
          "2024-01-10T17:45:00",
          "2024-01-10T18:00:00",
          "2024-01-10T18:15:00",
          "2024-01-10T18:30:00",
          "2024-01-10T18:45:00",
          "2024-01-10T19:00:00",
          "2024-01-10T19:15:00",
          "2024-01-10T19:30:00",
          "2024-01-10T19:45:00",
          "2024-01-10T20:00:00",
          "2024-01-10T20:15:00",
          "2024-01-10T20:30:00",
          "2024-01-10T20:45:00",
          "2024-01-10T21:00:00",
          "2024-01-10T21:15:00",
          "2024-01-10T21:30:00",
          "2024-01-10T21:45:00",
          "2024-01-10T22:00:00",
          "2024-01-10T22:15:00",
          "2024-01-10T22:30:00",
          "2024-01-10T22:45:00",
          "2024-01-10T23:00:00",
          "2024-01-10T23:15:00",
          "2024-01-10T23:30:00",
          "2024-01-10T23:45:00",
          "2024-01-11T00:00:00",
          "2024-01-11T00:15:00",
          "2024-01-11T00:30:00",
          "2024-01-11T00:45:00",
          "2024-01-11T01:00:00",
          "2024-01-11T01:15:00",
          "2024-01-11T01:30:00",
          "2024-01-11T01:45:00",
          "2024-01-11T02:00:00",
          "2024-01-11T02:15:00",
          "2024-01-11T02:30:00",
          "2024-01-11T02:45:00",
          "2024-01-11T03:00:00",
          "2024-01-11T03:15:00",
          "2024-01-11T03:30:00",
          "2024-01-11T03:45:00",
          "2024-01-11T04:00:00",
          "2024-01-11T04:15:00",
          "2024-01-11T04:30:00",
          "2024-01-11T04:45:00",
          "2024-01-11T05:00:00",
          "2024-01-11T05:15:00",
          "2024-01-11T05:30:00",
          "2024-01-11T05:45:00",
          "2024-01-11T06:00:00",
          "2024-01-11T06:15:00",
          "2024-01-11T06:30:00",
          "2024-01-11T06:45:00",
          "2024-01-11T07:00:00",
          "2024-01-11T07:15:00",
          "2024-01-11T07:30:00",
          "2024-01-11T07:45:00",
          "2024-01-11T08:00:00",
          "2024-01-11T08:15:00",
          "2024-01-11T08:30:00",
          "2024-01-11T08:45:00",
          "2024-01-11T09:00:00",
          "2024-01-11T09:15:00",
          "2024-01-11T09:30:00",
          "2024-01-11T09:45:00",
          "2024-01-11T10:00:00",
          "2024-01-11T10:15:00",
          "2024-01-11T10:30:00",
          "2024-01-11T10:45:00",
          "2024-01-11T11:00:00",
          "2024-01-11T11:15:00",
          "2024-01-11T11:30:00",
          "2024-01-11T11:45:00",
          "2024-01-11T12:00:00",
          "2024-01-11T12:15:00",
          "2024-01-11T12:30:00",
          "2024-01-11T12:45:00",
          "2024-01-11T13:00:00",
          "2024-01-11T13:15:00",
          "2024-01-11T13:30:00",
          "2024-01-11T13:45:00",
          "2024-01-11T14:00:00",
          "2024-01-11T14:15:00",
          "2024-01-11T14:30:00",
          "2024-01-11T14:45:00",
          "2024-01-11T15:00:00",
          "2024-01-11T15:15:00",
          "2024-01-11T15:30:00",
          "2024-01-11T15:45:00",
          "2024-01-11T16:00:00",
          "2024-01-11T16:15:00",
          "2024-01-11T16:30:00",
          "2024-01-11T16:45:00",
          "2024-01-11T17:00:00",
          "2024-01-11T17:15:00",
          "2024-01-11T17:30:00",
          "2024-01-11T17:45:00",
          "2024-01-11T18:00:00",
          "2024-01-11T18:15:00",
          "2024-01-11T18:30:00",
          "2024-01-11T18:45:00",
          "2024-01-11T19:00:00",
          "2024-01-11T19:15:00",
          "2024-01-11T19:30:00",
          "2024-01-11T19:45:00",
          "2024-01-11T20:00:00",
          "2024-01-11T20:15:00",
          "2024-01-11T20:30:00",
          "2024-01-11T20:45:00",
          "2024-01-11T21:00:00",
          "2024-01-11T21:15:00",
          "2024-01-11T21:30:00",
          "2024-01-11T21:45:00",
          "2024-01-11T22:00:00",
          "2024-01-11T22:15:00",
          "2024-01-11T22:30:00",
          "2024-01-11T22:45:00",
          "2024-01-11T23:00:00",
          "2024-01-11T23:15:00",
          "2024-01-11T23:30:00",
          "2024-01-11T23:45:00",
          "2024-01-12T00:00:00",
          "2024-01-12T00:15:00",
          "2024-01-12T00:30:00",
          "2024-01-12T00:45:00",
          "2024-01-12T01:00:00",
          "2024-01-12T01:15:00",
          "2024-01-12T01:30:00",
          "2024-01-12T01:45:00",
          "2024-01-12T02:00:00",
          "2024-01-12T02:15:00",
          "2024-01-12T02:30:00",
          "2024-01-12T02:45:00",
          "2024-01-12T03:00:00",
          "2024-01-12T03:15:00",
          "2024-01-12T03:30:00",
          "2024-01-12T03:45:00",
          "2024-01-12T04:00:00",
          "2024-01-12T04:15:00",
          "2024-01-12T04:30:00",
          "2024-01-12T04:45:00",
          "2024-01-12T05:00:00",
          "2024-01-12T05:15:00",
          "2024-01-12T05:30:00",
          "2024-01-12T05:45:00",
          "2024-01-12T06:00:00",
          "2024-01-12T06:15:00",
          "2024-01-12T06:30:00",
          "2024-01-12T06:45:00",
          "2024-01-12T07:00:00",
          "2024-01-12T07:15:00",
          "2024-01-12T07:30:00",
          "2024-01-12T07:45:00",
          "2024-01-12T08:00:00",
          "2024-01-12T08:15:00",
          "2024-01-12T08:30:00",
          "2024-01-12T08:45:00",
          "2024-01-12T09:00:00",
          "2024-01-12T09:15:00",
          "2024-01-12T09:30:00",
          "2024-01-12T09:45:00",
          "2024-01-12T10:00:00",
          "2024-01-12T10:15:00",
          "2024-01-12T10:30:00",
          "2024-01-12T10:45:00",
          "2024-01-12T11:00:00",
          "2024-01-12T11:15:00",
          "2024-01-12T11:30:00",
          "2024-01-12T11:45:00",
          "2024-01-12T12:00:00",
          "2024-01-12T12:15:00",
          "2024-01-12T12:30:00",
          "2024-01-12T12:45:00",
          "2024-01-12T13:00:00",
          "2024-01-12T13:15:00",
          "2024-01-12T13:30:00",
          "2024-01-12T13:45:00",
          "2024-01-12T14:00:00",
          "2024-01-12T14:15:00",
          "2024-01-12T14:30:00",
          "2024-01-12T14:45:00",
          "2024-01-12T15:00:00",
          "2024-01-12T15:15:00",
          "2024-01-12T15:30:00",
          "2024-01-12T15:45:00",
          "2024-01-12T16:00:00",
          "2024-01-12T16:15:00",
          "2024-01-12T16:30:00",
          "2024-01-12T16:45:00",
          "2024-01-12T17:00:00",
          "2024-01-12T17:15:00",
          "2024-01-12T17:30:00"
         ]
        },
        {
         "hovertemplate": "line_close_D<br>%{y:.2f}<extra></extra>",
         "line": {
          "color": "orange",
          "dash": "dash",
          "width": 1
         },
         "mode": "lines",
         "name": "line_close_D (s=4556173.34)",
         "showlegend": false,
         "type": "scatter",
         "x": [
          "2024-01-11T00:00:00",
          "2024-01-12T00:00:00"
         ],
         "y": [
          10.655,
          10.655
         ]
        },
        {
         "hovertemplate": "line_close_D<br>%{y:.2f}<extra></extra>",
         "line": {
          "color": "orange",
          "dash": "dash",
          "width": 1
         },
         "mode": "lines",
         "name": "line_close_D (s=3314326.61)",
         "showlegend": false,
         "type": "scatter",
         "x": [
          "2023-11-03T00:00:00",
          "2024-01-12T00:00:00"
         ],
         "y": [
          7.754,
          7.754
         ]
        },
        {
         "hovertemplate": "line_close_D<br>%{y:.2f}<extra></extra>",
         "line": {
          "color": "orange",
          "dash": "dash",
          "width": 1
         },
         "mode": "lines",
         "name": "line_close_D (s=3554712.41)",
         "showlegend": false,
         "type": "scatter",
         "x": [
          "2022-05-04T00:00:00",
          "2024-01-12T00:00:00"
         ],
         "y": [
          19.92,
          19.92
         ]
        },
        {
         "hovertemplate": "line_close_D<br>%{y:.2f}<extra></extra>",
         "line": {
          "color": "orange",
          "dash": "dash",
          "width": 1
         },
         "mode": "lines",
         "name": "line_close_D (s=1350205.98)",
         "showlegend": false,
         "type": "scatter",
         "x": [
          "2022-04-09T00:00:00",
          "2024-01-12T00:00:00"
         ],
         "y": [
          27.27,
          27.27
         ]
        },
        {
         "hovertemplate": "line_close_D<br>%{y:.2f}<extra></extra>",
         "line": {
          "color": "orange",
          "dash": "dash",
          "width": 1
         },
         "mode": "lines",
         "name": "line_close_D (s=7071681.37)",
         "showlegend": false,
         "type": "scatter",
         "x": [
          "2022-01-20T00:00:00",
          "2024-01-12T00:00:00"
         ],
         "y": [
          38.98,
          38.98
         ]
        },
        {
         "hovertemplate": "vah_line<br>%{y:.2f}<extra></extra>",
         "line": {
          "color": "green",
          "dash": "dash",
          "width": 1
         },
         "mode": "lines",
         "name": "vah_line",
         "showlegend": false,
         "type": "scatter",
         "x": [
          "2024-01-08T00:00:00",
          "2024-01-12T00:00:00"
         ],
         "y": [
          10.66489000000004,
          10.66489000000004
         ]
        },
        {
         "hovertemplate": "val_line<br>%{y:.2f}<extra></extra>",
         "line": {
          "color": "red",
          "dash": "dash",
          "width": 1
         },
         "mode": "lines",
         "name": "val_line (s=4015397)",
         "showlegend": false,
         "type": "scatter",
         "x": [
          "2024-01-08T00:00:00",
          "2024-01-12T00:00:00"
         ],
         "y": [
          9.942920000000012,
          9.942920000000012
         ]
        },
        {
         "hovertemplate": "vah_line<br>%{y:.2f}<extra></extra>",
         "line": {
          "color": "green",
          "dash": "dash",
          "width": 1
         },
         "mode": "lines",
         "name": "vah_line (s=2227784)",
         "showlegend": false,
         "type": "scatter",
         "x": [
          "2024-01-01T00:00:00",
          "2024-01-07T00:00:00"
         ],
         "y": [
          11.201000000000054,
          11.201000000000054
         ]
        },
        {
         "hovertemplate": "val_line<br>%{y:.2f}<extra></extra>",
         "line": {
          "color": "red",
          "dash": "dash",
          "width": 1
         },
         "mode": "lines",
         "name": "val_line (s=7009719)",
         "showlegend": false,
         "type": "scatter",
         "x": [
          "2024-01-01T00:00:00",
          "2024-01-07T00:00:00"
         ],
         "y": [
          9.911480000000015,
          9.911480000000015
         ]
        },
        {
         "hovertemplate": "vah_line<br>%{y:.2f}<extra></extra>",
         "line": {
          "color": "green",
          "dash": "dash",
          "width": 1
         },
         "mode": "lines",
         "name": "vah_line",
         "showlegend": false,
         "type": "scatter",
         "x": [
          "2023-12-25T00:00:00",
          "2023-12-31T00:00:00"
         ],
         "y": [
          11.973600000000028,
          11.973600000000028
         ]
        },
        {
         "hovertemplate": "val_line<br>%{y:.2f}<extra></extra>",
         "line": {
          "color": "red",
          "dash": "dash",
          "width": 1
         },
         "mode": "lines",
         "name": "val_line (s=4119385)",
         "showlegend": false,
         "type": "scatter",
         "x": [
          "2023-12-25T00:00:00",
          "2023-12-31T00:00:00"
         ],
         "y": [
          10.980800000000007,
          10.980800000000007
         ]
        },
        {
         "hovertemplate": "vah_line<br>%{y:.2f}<extra></extra>",
         "line": {
          "color": "green",
          "dash": "dash",
          "width": 1
         },
         "mode": "lines",
         "name": "vah_line (s=11839533)",
         "showlegend": false,
         "type": "scatter",
         "x": [
          "2023-12-18T00:00:00",
          "2023-12-24T00:00:00"
         ],
         "y": [
          11.401999999999987,
          11.401999999999987
         ]
        },
        {
         "hovertemplate": "val_line<br>%{y:.2f}<extra></extra>",
         "line": {
          "color": "red",
          "dash": "dash",
          "width": 1
         },
         "mode": "lines",
         "name": "val_line (s=4674443)",
         "showlegend": false,
         "type": "scatter",
         "x": [
          "2023-12-18T00:00:00",
          "2023-12-24T00:00:00"
         ],
         "y": [
          10.901689999999993,
          10.901689999999993
         ]
        },
        {
         "hovertemplate": "vah_line<br>%{y:.2f}<extra></extra>",
         "line": {
          "color": "green",
          "dash": "dash",
          "width": 1
         },
         "mode": "lines",
         "name": "vah_line",
         "showlegend": false,
         "type": "scatter",
         "x": [
          "2023-12-11T00:00:00",
          "2023-12-17T00:00:00"
         ],
         "y": [
          12.071900000000047,
          12.071900000000047
         ]
        },
        {
         "hovertemplate": "val_line<br>%{y:.2f}<extra></extra>",
         "line": {
          "color": "red",
          "dash": "dash",
          "width": 1
         },
         "mode": "lines",
         "name": "val_line (s=4560084)",
         "showlegend": false,
         "type": "scatter",
         "x": [
          "2023-12-11T00:00:00",
          "2023-12-17T00:00:00"
         ],
         "y": [
          11.086400000000026,
          11.086400000000026
         ]
        },
        {
         "hovertemplate": "poc_line<br>%{y:.2f}<extra></extra>",
         "line": {
          "color": "lightgray",
          "dash": "dash",
          "width": 1
         },
         "mode": "lines",
         "name": "poc_line (s=5147343)",
         "showlegend": false,
         "type": "scatter",
         "x": [
          "2024-01-08T00:00:00",
          "2024-01-12T00:00:00"
         ],
         "y": [
          9.967645000000012,
          9.967645000000012
         ]
        },
        {
         "hovertemplate": "poc_line<br>%{y:.2f}<extra></extra>",
         "line": {
          "color": "lightgray",
          "dash": "dash",
          "width": 1
         },
         "mode": "lines",
         "name": "poc_line (s=7009719)",
         "showlegend": false,
         "type": "scatter",
         "x": [
          "2024-01-01T00:00:00",
          "2024-01-08T00:00:00"
         ],
         "y": [
          9.920435000000015,
          9.920435000000015
         ]
        },
        {
         "hovertemplate": "poc_line<br>%{y:.2f}<extra></extra>",
         "line": {
          "color": "lightgray",
          "dash": "dash",
          "width": 1
         },
         "mode": "lines",
         "name": "poc_line (s=11839533)",
         "showlegend": false,
         "type": "scatter",
         "x": [
          "2023-12-18T00:00:00",
          "2023-12-25T00:00:00"
         ],
         "y": [
          11.397094999999986,
          11.397094999999986
         ]
        },
        {
         "hovertemplate": "poc_line<br>%{y:.2f}<extra></extra>",
         "line": {
          "color": "lightgray",
          "dash": "dash",
          "width": 1
         },
         "mode": "lines",
         "name": "poc_line (s=13344301)",
         "showlegend": false,
         "type": "scatter",
         "x": [
          "2023-12-11T00:00:00",
          "2023-12-25T00:00:00"
         ],
         "y": [
          11.754350000000041,
          11.754350000000041
         ]
        },
        {
         "hovertemplate": "naked_poc_line<br>%{y:.2f}<extra></extra>",
         "line": {
          "color": "white",
          "dash": "dash",
          "width": 2
         },
         "mode": "lines",
         "name": "naked_poc_line (s=9068321)",
         "showlegend": false,
         "type": "scatter",
         "x": [
          "2023-12-25T00:00:00",
          "2024-01-12T00:00:00"
         ],
         "y": [
          11.640400000000021,
          11.640400000000021
         ]
        },
        {
         "hovertemplate": "naked_poc_line<br>%{y:.2f}<extra></extra>",
         "line": {
          "color": "white",
          "dash": "dash",
          "width": 2
         },
         "mode": "lines",
         "name": "naked_poc_line (s=4666632)",
         "showlegend": false,
         "type": "scatter",
         "x": [
          "2023-03-13T00:00:00",
          "2024-01-12T00:00:00"
         ],
         "y": [
          13.041890000000015,
          13.041890000000015
         ]
        },
        {
         "hovertemplate": "naked_poc_line<br>%{y:.2f}<extra></extra>",
         "line": {
          "color": "white",
          "dash": "dash",
          "width": 2
         },
         "mode": "lines",
         "name": "naked_poc_line (s=1979920)",
         "showlegend": false,
         "type": "scatter",
         "x": [
          "2023-02-20T00:00:00",
          "2024-01-12T00:00:00"
         ],
         "y": [
          13.861745000000006,
          13.861745000000006
         ]
        },
        {
         "hovertemplate": "naked_poc_line<br>%{y:.2f}<extra></extra>",
         "line": {
          "color": "white",
          "dash": "dash",
          "width": 2
         },
         "mode": "lines",
         "name": "naked_poc_line (s=7752475)",
         "showlegend": false,
         "type": "scatter",
         "x": [
          "2022-09-12T00:00:00",
          "2024-01-12T00:00:00"
         ],
         "y": [
          16.591474999999914,
          16.591474999999914
         ]
        },
        {
         "hovertemplate": "naked_poc_line<br>%{y:.2f}<extra></extra>",
         "line": {
          "color": "white",
          "dash": "dash",
          "width": 2
         },
         "mode": "lines",
         "name": "naked_poc_line (s=5836059)",
         "showlegend": false,
         "type": "scatter",
         "x": [
          "2023-10-30T00:00:00",
          "2024-01-12T00:00:00"
         ],
         "y": [
          7.926139999999988,
          7.926139999999988
         ]
        },
        {
         "hovertemplate": "naked_poc_line<br>%{y:.2f}<extra></extra>",
         "line": {
          "color": "white",
          "dash": "dash",
          "width": 2
         },
         "mode": "lines",
         "name": "naked_poc_line (s=4853520)",
         "showlegend": false,
         "type": "scatter",
         "x": [
          "2023-10-23T00:00:00",
          "2024-01-12T00:00:00"
         ],
         "y": [
          7.00356,
          7.00356
         ]
        }
       ],
       "layout": {
        "height": 800,
        "showlegend": false,
        "template": {
         "data": {
          "bar": [
           {
            "error_x": {
             "color": "#f2f5fa"
            },
            "error_y": {
             "color": "#f2f5fa"
            },
            "marker": {
             "line": {
              "color": "rgb(17,17,17)",
              "width": 0.5
             },
             "pattern": {
              "fillmode": "overlay",
              "size": 10,
              "solidity": 0.2
             }
            },
            "type": "bar"
           }
          ],
          "barpolar": [
           {
            "marker": {
             "line": {
              "color": "rgb(17,17,17)",
              "width": 0.5
             },
             "pattern": {
              "fillmode": "overlay",
              "size": 10,
              "solidity": 0.2
             }
            },
            "type": "barpolar"
           }
          ],
          "carpet": [
           {
            "aaxis": {
             "endlinecolor": "#A2B1C6",
             "gridcolor": "#506784",
             "linecolor": "#506784",
             "minorgridcolor": "#506784",
             "startlinecolor": "#A2B1C6"
            },
            "baxis": {
             "endlinecolor": "#A2B1C6",
             "gridcolor": "#506784",
             "linecolor": "#506784",
             "minorgridcolor": "#506784",
             "startlinecolor": "#A2B1C6"
            },
            "type": "carpet"
           }
          ],
          "choropleth": [
           {
            "colorbar": {
             "outlinewidth": 0,
             "ticks": ""
            },
            "type": "choropleth"
           }
          ],
          "contour": [
           {
            "colorbar": {
             "outlinewidth": 0,
             "ticks": ""
            },
            "colorscale": [
             [
              0,
              "#0d0887"
             ],
             [
              0.1111111111111111,
              "#46039f"
             ],
             [
              0.2222222222222222,
              "#7201a8"
             ],
             [
              0.3333333333333333,
              "#9c179e"
             ],
             [
              0.4444444444444444,
              "#bd3786"
             ],
             [
              0.5555555555555556,
              "#d8576b"
             ],
             [
              0.6666666666666666,
              "#ed7953"
             ],
             [
              0.7777777777777778,
              "#fb9f3a"
             ],
             [
              0.8888888888888888,
              "#fdca26"
             ],
             [
              1,
              "#f0f921"
             ]
            ],
            "type": "contour"
           }
          ],
          "contourcarpet": [
           {
            "colorbar": {
             "outlinewidth": 0,
             "ticks": ""
            },
            "type": "contourcarpet"
           }
          ],
          "heatmap": [
           {
            "colorbar": {
             "outlinewidth": 0,
             "ticks": ""
            },
            "colorscale": [
             [
              0,
              "#0d0887"
             ],
             [
              0.1111111111111111,
              "#46039f"
             ],
             [
              0.2222222222222222,
              "#7201a8"
             ],
             [
              0.3333333333333333,
              "#9c179e"
             ],
             [
              0.4444444444444444,
              "#bd3786"
             ],
             [
              0.5555555555555556,
              "#d8576b"
             ],
             [
              0.6666666666666666,
              "#ed7953"
             ],
             [
              0.7777777777777778,
              "#fb9f3a"
             ],
             [
              0.8888888888888888,
              "#fdca26"
             ],
             [
              1,
              "#f0f921"
             ]
            ],
            "type": "heatmap"
           }
          ],
          "histogram": [
           {
            "marker": {
             "pattern": {
              "fillmode": "overlay",
              "size": 10,
              "solidity": 0.2
             }
            },
            "type": "histogram"
           }
          ],
          "histogram2d": [
           {
            "colorbar": {
             "outlinewidth": 0,
             "ticks": ""
            },
            "colorscale": [
             [
              0,
              "#0d0887"
             ],
             [
              0.1111111111111111,
              "#46039f"
             ],
             [
              0.2222222222222222,
              "#7201a8"
             ],
             [
              0.3333333333333333,
              "#9c179e"
             ],
             [
              0.4444444444444444,
              "#bd3786"
             ],
             [
              0.5555555555555556,
              "#d8576b"
             ],
             [
              0.6666666666666666,
              "#ed7953"
             ],
             [
              0.7777777777777778,
              "#fb9f3a"
             ],
             [
              0.8888888888888888,
              "#fdca26"
             ],
             [
              1,
              "#f0f921"
             ]
            ],
            "type": "histogram2d"
           }
          ],
          "histogram2dcontour": [
           {
            "colorbar": {
             "outlinewidth": 0,
             "ticks": ""
            },
            "colorscale": [
             [
              0,
              "#0d0887"
             ],
             [
              0.1111111111111111,
              "#46039f"
             ],
             [
              0.2222222222222222,
              "#7201a8"
             ],
             [
              0.3333333333333333,
              "#9c179e"
             ],
             [
              0.4444444444444444,
              "#bd3786"
             ],
             [
              0.5555555555555556,
              "#d8576b"
             ],
             [
              0.6666666666666666,
              "#ed7953"
             ],
             [
              0.7777777777777778,
              "#fb9f3a"
             ],
             [
              0.8888888888888888,
              "#fdca26"
             ],
             [
              1,
              "#f0f921"
             ]
            ],
            "type": "histogram2dcontour"
           }
          ],
          "mesh3d": [
           {
            "colorbar": {
             "outlinewidth": 0,
             "ticks": ""
            },
            "type": "mesh3d"
           }
          ],
          "parcoords": [
           {
            "line": {
             "colorbar": {
              "outlinewidth": 0,
              "ticks": ""
             }
            },
            "type": "parcoords"
           }
          ],
          "pie": [
           {
            "automargin": true,
            "type": "pie"
           }
          ],
          "scatter": [
           {
            "marker": {
             "line": {
              "color": "#283442"
             }
            },
            "type": "scatter"
           }
          ],
          "scatter3d": [
           {
            "line": {
             "colorbar": {
              "outlinewidth": 0,
              "ticks": ""
             }
            },
            "marker": {
             "colorbar": {
              "outlinewidth": 0,
              "ticks": ""
             }
            },
            "type": "scatter3d"
           }
          ],
          "scattercarpet": [
           {
            "marker": {
             "colorbar": {
              "outlinewidth": 0,
              "ticks": ""
             }
            },
            "type": "scattercarpet"
           }
          ],
          "scattergeo": [
           {
            "marker": {
             "colorbar": {
              "outlinewidth": 0,
              "ticks": ""
             }
            },
            "type": "scattergeo"
           }
          ],
          "scattergl": [
           {
            "marker": {
             "line": {
              "color": "#283442"
             }
            },
            "type": "scattergl"
           }
          ],
          "scattermap": [
           {
            "marker": {
             "colorbar": {
              "outlinewidth": 0,
              "ticks": ""
             }
            },
            "type": "scattermap"
           }
          ],
          "scattermapbox": [
           {
            "marker": {
             "colorbar": {
              "outlinewidth": 0,
              "ticks": ""
             }
            },
            "type": "scattermapbox"
           }
          ],
          "scatterpolar": [
           {
            "marker": {
             "colorbar": {
              "outlinewidth": 0,
              "ticks": ""
             }
            },
            "type": "scatterpolar"
           }
          ],
          "scatterpolargl": [
           {
            "marker": {
             "colorbar": {
              "outlinewidth": 0,
              "ticks": ""
             }
            },
            "type": "scatterpolargl"
           }
          ],
          "scatterternary": [
           {
            "marker": {
             "colorbar": {
              "outlinewidth": 0,
              "ticks": ""
             }
            },
            "type": "scatterternary"
           }
          ],
          "surface": [
           {
            "colorbar": {
             "outlinewidth": 0,
             "ticks": ""
            },
            "colorscale": [
             [
              0,
              "#0d0887"
             ],
             [
              0.1111111111111111,
              "#46039f"
             ],
             [
              0.2222222222222222,
              "#7201a8"
             ],
             [
              0.3333333333333333,
              "#9c179e"
             ],
             [
              0.4444444444444444,
              "#bd3786"
             ],
             [
              0.5555555555555556,
              "#d8576b"
             ],
             [
              0.6666666666666666,
              "#ed7953"
             ],
             [
              0.7777777777777778,
              "#fb9f3a"
             ],
             [
              0.8888888888888888,
              "#fdca26"
             ],
             [
              1,
              "#f0f921"
             ]
            ],
            "type": "surface"
           }
          ],
          "table": [
           {
            "cells": {
             "fill": {
              "color": "#506784"
             },
             "line": {
              "color": "rgb(17,17,17)"
             }
            },
            "header": {
             "fill": {
              "color": "#2a3f5f"
             },
             "line": {
              "color": "rgb(17,17,17)"
             }
            },
            "type": "table"
           }
          ]
         },
         "layout": {
          "annotationdefaults": {
           "arrowcolor": "#f2f5fa",
           "arrowhead": 0,
           "arrowwidth": 1
          },
          "autotypenumbers": "strict",
          "coloraxis": {
           "colorbar": {
            "outlinewidth": 0,
            "ticks": ""
           }
          },
          "colorscale": {
           "diverging": [
            [
             0,
             "#8e0152"
            ],
            [
             0.1,
             "#c51b7d"
            ],
            [
             0.2,
             "#de77ae"
            ],
            [
             0.3,
             "#f1b6da"
            ],
            [
             0.4,
             "#fde0ef"
            ],
            [
             0.5,
             "#f7f7f7"
            ],
            [
             0.6,
             "#e6f5d0"
            ],
            [
             0.7,
             "#b8e186"
            ],
            [
             0.8,
             "#7fbc41"
            ],
            [
             0.9,
             "#4d9221"
            ],
            [
             1,
             "#276419"
            ]
           ],
           "sequential": [
            [
             0,
             "#0d0887"
            ],
            [
             0.1111111111111111,
             "#46039f"
            ],
            [
             0.2222222222222222,
             "#7201a8"
            ],
            [
             0.3333333333333333,
             "#9c179e"
            ],
            [
             0.4444444444444444,
             "#bd3786"
            ],
            [
             0.5555555555555556,
             "#d8576b"
            ],
            [
             0.6666666666666666,
             "#ed7953"
            ],
            [
             0.7777777777777778,
             "#fb9f3a"
            ],
            [
             0.8888888888888888,
             "#fdca26"
            ],
            [
             1,
             "#f0f921"
            ]
           ],
           "sequentialminus": [
            [
             0,
             "#0d0887"
            ],
            [
             0.1111111111111111,
             "#46039f"
            ],
            [
             0.2222222222222222,
             "#7201a8"
            ],
            [
             0.3333333333333333,
             "#9c179e"
            ],
            [
             0.4444444444444444,
             "#bd3786"
            ],
            [
             0.5555555555555556,
             "#d8576b"
            ],
            [
             0.6666666666666666,
             "#ed7953"
            ],
            [
             0.7777777777777778,
             "#fb9f3a"
            ],
            [
             0.8888888888888888,
             "#fdca26"
            ],
            [
             1,
             "#f0f921"
            ]
           ]
          },
          "colorway": [
           "#636efa",
           "#EF553B",
           "#00cc96",
           "#ab63fa",
           "#FFA15A",
           "#19d3f3",
           "#FF6692",
           "#B6E880",
           "#FF97FF",
           "#FECB52"
          ],
          "font": {
           "color": "#f2f5fa"
          },
          "geo": {
           "bgcolor": "rgb(17,17,17)",
           "lakecolor": "rgb(17,17,17)",
           "landcolor": "rgb(17,17,17)",
           "showlakes": true,
           "showland": true,
           "subunitcolor": "#506784"
          },
          "hoverlabel": {
           "align": "left"
          },
          "hovermode": "closest",
          "mapbox": {
           "style": "dark"
          },
          "paper_bgcolor": "rgb(17,17,17)",
          "plot_bgcolor": "rgb(17,17,17)",
          "polar": {
           "angularaxis": {
            "gridcolor": "#506784",
            "linecolor": "#506784",
            "ticks": ""
           },
           "bgcolor": "rgb(17,17,17)",
           "radialaxis": {
            "gridcolor": "#506784",
            "linecolor": "#506784",
            "ticks": ""
           }
          },
          "scene": {
           "xaxis": {
            "backgroundcolor": "rgb(17,17,17)",
            "gridcolor": "#506784",
            "gridwidth": 2,
            "linecolor": "#506784",
            "showbackground": true,
            "ticks": "",
            "zerolinecolor": "#C8D4E3"
           },
           "yaxis": {
            "backgroundcolor": "rgb(17,17,17)",
            "gridcolor": "#506784",
            "gridwidth": 2,
            "linecolor": "#506784",
            "showbackground": true,
            "ticks": "",
            "zerolinecolor": "#C8D4E3"
           },
           "zaxis": {
            "backgroundcolor": "rgb(17,17,17)",
            "gridcolor": "#506784",
            "gridwidth": 2,
            "linecolor": "#506784",
            "showbackground": true,
            "ticks": "",
            "zerolinecolor": "#C8D4E3"
           }
          },
          "shapedefaults": {
           "line": {
            "color": "#f2f5fa"
           }
          },
          "sliderdefaults": {
           "bgcolor": "#C8D4E3",
           "bordercolor": "rgb(17,17,17)",
           "borderwidth": 1,
           "tickwidth": 0
          },
          "ternary": {
           "aaxis": {
            "gridcolor": "#506784",
            "linecolor": "#506784",
            "ticks": ""
           },
           "baxis": {
            "gridcolor": "#506784",
            "linecolor": "#506784",
            "ticks": ""
           },
           "bgcolor": "rgb(17,17,17)",
           "caxis": {
            "gridcolor": "#506784",
            "linecolor": "#506784",
            "ticks": ""
           }
          },
          "title": {
           "x": 0.05
          },
          "updatemenudefaults": {
           "bgcolor": "#506784",
           "borderwidth": 0
          },
          "xaxis": {
           "automargin": true,
           "gridcolor": "#283442",
           "linecolor": "#506784",
           "ticks": "",
           "title": {
            "standoff": 15
           },
           "zerolinecolor": "#283442",
           "zerolinewidth": 2
          },
          "yaxis": {
           "automargin": true,
           "gridcolor": "#283442",
           "linecolor": "#506784",
           "ticks": "",
           "title": {
            "standoff": 15
           },
           "zerolinecolor": "#283442",
           "zerolinewidth": 2
          }
         }
        },
        "title": {
         "text": "ATOMUSDT - D - Cached Levels Visualizer (250 candles)"
        },
        "xaxis": {
         "fixedrange": false,
         "rangeslider": {
          "visible": false
         },
         "title": {
          "text": "Time"
         }
        },
        "yaxis": {
         "fixedrange": false,
         "title": {
          "text": "Price"
         },
         "type": "log"
        }
       }
      }
     },
     "metadata": {},
     "output_type": "display_data"
    },
    {
     "name": "stdout",
     "output_type": "stream",
     "text": [
      "\n",
      "🔍 Visualizing 1h timeframe levels...\n"
     ]
    },
    {
     "data": {
      "application/vnd.plotly.v1+json": {
       "config": {
        "plotlyServerURL": "https://plot.ly"
       },
       "data": [
        {
         "close": {
          "bdata": "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",
          "dtype": "f8"
         },
         "high": {
          "bdata": "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",
          "dtype": "f8"
         },
         "low": {
          "bdata": "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",
          "dtype": "f8"
         },
         "name": "Candlestick",
         "open": {
          "bdata": "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",
          "dtype": "f8"
         },
         "showlegend": false,
         "type": "candlestick",
         "x": [
          "2024-01-10T03:15:00",
          "2024-01-10T03:30:00",
          "2024-01-10T03:45:00",
          "2024-01-10T04:00:00",
          "2024-01-10T04:15:00",
          "2024-01-10T04:30:00",
          "2024-01-10T04:45:00",
          "2024-01-10T05:00:00",
          "2024-01-10T05:15:00",
          "2024-01-10T05:30:00",
          "2024-01-10T05:45:00",
          "2024-01-10T06:00:00",
          "2024-01-10T06:15:00",
          "2024-01-10T06:30:00",
          "2024-01-10T06:45:00",
          "2024-01-10T07:00:00",
          "2024-01-10T07:15:00",
          "2024-01-10T07:30:00",
          "2024-01-10T07:45:00",
          "2024-01-10T08:00:00",
          "2024-01-10T08:15:00",
          "2024-01-10T08:30:00",
          "2024-01-10T08:45:00",
          "2024-01-10T09:00:00",
          "2024-01-10T09:15:00",
          "2024-01-10T09:30:00",
          "2024-01-10T09:45:00",
          "2024-01-10T10:00:00",
          "2024-01-10T10:15:00",
          "2024-01-10T10:30:00",
          "2024-01-10T10:45:00",
          "2024-01-10T11:00:00",
          "2024-01-10T11:15:00",
          "2024-01-10T11:30:00",
          "2024-01-10T11:45:00",
          "2024-01-10T12:00:00",
          "2024-01-10T12:15:00",
          "2024-01-10T12:30:00",
          "2024-01-10T12:45:00",
          "2024-01-10T13:00:00",
          "2024-01-10T13:15:00",
          "2024-01-10T13:30:00",
          "2024-01-10T13:45:00",
          "2024-01-10T14:00:00",
          "2024-01-10T14:15:00",
          "2024-01-10T14:30:00",
          "2024-01-10T14:45:00",
          "2024-01-10T15:00:00",
          "2024-01-10T15:15:00",
          "2024-01-10T15:30:00",
          "2024-01-10T15:45:00",
          "2024-01-10T16:00:00",
          "2024-01-10T16:15:00",
          "2024-01-10T16:30:00",
          "2024-01-10T16:45:00",
          "2024-01-10T17:00:00",
          "2024-01-10T17:15:00",
          "2024-01-10T17:30:00",
          "2024-01-10T17:45:00",
          "2024-01-10T18:00:00",
          "2024-01-10T18:15:00",
          "2024-01-10T18:30:00",
          "2024-01-10T18:45:00",
          "2024-01-10T19:00:00",
          "2024-01-10T19:15:00",
          "2024-01-10T19:30:00",
          "2024-01-10T19:45:00",
          "2024-01-10T20:00:00",
          "2024-01-10T20:15:00",
          "2024-01-10T20:30:00",
          "2024-01-10T20:45:00",
          "2024-01-10T21:00:00",
          "2024-01-10T21:15:00",
          "2024-01-10T21:30:00",
          "2024-01-10T21:45:00",
          "2024-01-10T22:00:00",
          "2024-01-10T22:15:00",
          "2024-01-10T22:30:00",
          "2024-01-10T22:45:00",
          "2024-01-10T23:00:00",
          "2024-01-10T23:15:00",
          "2024-01-10T23:30:00",
          "2024-01-10T23:45:00",
          "2024-01-11T00:00:00",
          "2024-01-11T00:15:00",
          "2024-01-11T00:30:00",
          "2024-01-11T00:45:00",
          "2024-01-11T01:00:00",
          "2024-01-11T01:15:00",
          "2024-01-11T01:30:00",
          "2024-01-11T01:45:00",
          "2024-01-11T02:00:00",
          "2024-01-11T02:15:00",
          "2024-01-11T02:30:00",
          "2024-01-11T02:45:00",
          "2024-01-11T03:00:00",
          "2024-01-11T03:15:00",
          "2024-01-11T03:30:00",
          "2024-01-11T03:45:00",
          "2024-01-11T04:00:00",
          "2024-01-11T04:15:00",
          "2024-01-11T04:30:00",
          "2024-01-11T04:45:00",
          "2024-01-11T05:00:00",
          "2024-01-11T05:15:00",
          "2024-01-11T05:30:00",
          "2024-01-11T05:45:00",
          "2024-01-11T06:00:00",
          "2024-01-11T06:15:00",
          "2024-01-11T06:30:00",
          "2024-01-11T06:45:00",
          "2024-01-11T07:00:00",
          "2024-01-11T07:15:00",
          "2024-01-11T07:30:00",
          "2024-01-11T07:45:00",
          "2024-01-11T08:00:00",
          "2024-01-11T08:15:00",
          "2024-01-11T08:30:00",
          "2024-01-11T08:45:00",
          "2024-01-11T09:00:00",
          "2024-01-11T09:15:00",
          "2024-01-11T09:30:00",
          "2024-01-11T09:45:00",
          "2024-01-11T10:00:00",
          "2024-01-11T10:15:00",
          "2024-01-11T10:30:00",
          "2024-01-11T10:45:00",
          "2024-01-11T11:00:00",
          "2024-01-11T11:15:00",
          "2024-01-11T11:30:00",
          "2024-01-11T11:45:00",
          "2024-01-11T12:00:00",
          "2024-01-11T12:15:00",
          "2024-01-11T12:30:00",
          "2024-01-11T12:45:00",
          "2024-01-11T13:00:00",
          "2024-01-11T13:15:00",
          "2024-01-11T13:30:00",
          "2024-01-11T13:45:00",
          "2024-01-11T14:00:00",
          "2024-01-11T14:15:00",
          "2024-01-11T14:30:00",
          "2024-01-11T14:45:00",
          "2024-01-11T15:00:00",
          "2024-01-11T15:15:00",
          "2024-01-11T15:30:00",
          "2024-01-11T15:45:00",
          "2024-01-11T16:00:00",
          "2024-01-11T16:15:00",
          "2024-01-11T16:30:00",
          "2024-01-11T16:45:00",
          "2024-01-11T17:00:00",
          "2024-01-11T17:15:00",
          "2024-01-11T17:30:00",
          "2024-01-11T17:45:00",
          "2024-01-11T18:00:00",
          "2024-01-11T18:15:00",
          "2024-01-11T18:30:00",
          "2024-01-11T18:45:00",
          "2024-01-11T19:00:00",
          "2024-01-11T19:15:00",
          "2024-01-11T19:30:00",
          "2024-01-11T19:45:00",
          "2024-01-11T20:00:00",
          "2024-01-11T20:15:00",
          "2024-01-11T20:30:00",
          "2024-01-11T20:45:00",
          "2024-01-11T21:00:00",
          "2024-01-11T21:15:00",
          "2024-01-11T21:30:00",
          "2024-01-11T21:45:00",
          "2024-01-11T22:00:00",
          "2024-01-11T22:15:00",
          "2024-01-11T22:30:00",
          "2024-01-11T22:45:00",
          "2024-01-11T23:00:00",
          "2024-01-11T23:15:00",
          "2024-01-11T23:30:00",
          "2024-01-11T23:45:00",
          "2024-01-12T00:00:00",
          "2024-01-12T00:15:00",
          "2024-01-12T00:30:00",
          "2024-01-12T00:45:00",
          "2024-01-12T01:00:00",
          "2024-01-12T01:15:00",
          "2024-01-12T01:30:00",
          "2024-01-12T01:45:00",
          "2024-01-12T02:00:00",
          "2024-01-12T02:15:00",
          "2024-01-12T02:30:00",
          "2024-01-12T02:45:00",
          "2024-01-12T03:00:00",
          "2024-01-12T03:15:00",
          "2024-01-12T03:30:00",
          "2024-01-12T03:45:00",
          "2024-01-12T04:00:00",
          "2024-01-12T04:15:00",
          "2024-01-12T04:30:00",
          "2024-01-12T04:45:00",
          "2024-01-12T05:00:00",
          "2024-01-12T05:15:00",
          "2024-01-12T05:30:00",
          "2024-01-12T05:45:00",
          "2024-01-12T06:00:00",
          "2024-01-12T06:15:00",
          "2024-01-12T06:30:00",
          "2024-01-12T06:45:00",
          "2024-01-12T07:00:00",
          "2024-01-12T07:15:00",
          "2024-01-12T07:30:00",
          "2024-01-12T07:45:00",
          "2024-01-12T08:00:00",
          "2024-01-12T08:15:00",
          "2024-01-12T08:30:00",
          "2024-01-12T08:45:00",
          "2024-01-12T09:00:00",
          "2024-01-12T09:15:00",
          "2024-01-12T09:30:00",
          "2024-01-12T09:45:00",
          "2024-01-12T10:00:00",
          "2024-01-12T10:15:00",
          "2024-01-12T10:30:00",
          "2024-01-12T10:45:00",
          "2024-01-12T11:00:00",
          "2024-01-12T11:15:00",
          "2024-01-12T11:30:00",
          "2024-01-12T11:45:00",
          "2024-01-12T12:00:00",
          "2024-01-12T12:15:00",
          "2024-01-12T12:30:00",
          "2024-01-12T12:45:00",
          "2024-01-12T13:00:00",
          "2024-01-12T13:15:00",
          "2024-01-12T13:30:00",
          "2024-01-12T13:45:00",
          "2024-01-12T14:00:00",
          "2024-01-12T14:15:00",
          "2024-01-12T14:30:00",
          "2024-01-12T14:45:00",
          "2024-01-12T15:00:00",
          "2024-01-12T15:15:00",
          "2024-01-12T15:30:00",
          "2024-01-12T15:45:00",
          "2024-01-12T16:00:00",
          "2024-01-12T16:15:00",
          "2024-01-12T16:30:00",
          "2024-01-12T16:45:00",
          "2024-01-12T17:00:00",
          "2024-01-12T17:15:00",
          "2024-01-12T17:30:00"
         ]
        },
        {
         "hovertemplate": "vah_line<br>%{y:.2f}<extra></extra>",
         "line": {
          "color": "green",
          "dash": "dash",
          "width": 1
         },
         "mode": "lines",
         "name": "vah_line (s=160754)",
         "showlegend": false,
         "type": "scatter",
         "x": [
          "2024-01-12T00:00:00",
          "2024-01-12T17:00:00"
         ],
         "y": [
          10.876999999999997,
          10.876999999999997
         ]
        },
        {
         "hovertemplate": "val_line<br>%{y:.2f}<extra></extra>",
         "line": {
          "color": "red",
          "dash": "dash",
          "width": 1
         },
         "mode": "lines",
         "name": "val_line (s=450030)",
         "showlegend": false,
         "type": "scatter",
         "x": [
          "2024-01-12T00:00:00",
          "2024-01-12T17:00:00"
         ],
         "y": [
          10.35797,
          10.35797
         ]
        },
        {
         "hovertemplate": "vah_line<br>%{y:.2f}<extra></extra>",
         "line": {
          "color": "green",
          "dash": "dash",
          "width": 1
         },
         "mode": "lines",
         "name": "vah_line",
         "showlegend": false,
         "type": "scatter",
         "x": [
          "2024-01-11T00:00:00",
          "2024-01-11T23:00:00"
         ],
         "y": [
          10.876810000000031,
          10.876810000000031
         ]
        },
        {
         "hovertemplate": "val_line<br>%{y:.2f}<extra></extra>",
         "line": {
          "color": "red",
          "dash": "dash",
          "width": 1
         },
         "mode": "lines",
         "name": "val_line (s=417532)",
         "showlegend": false,
         "type": "scatter",
         "x": [
          "2024-01-11T00:00:00",
          "2024-01-11T23:00:00"
         ],
         "y": [
          10.510780000000011,
          10.510780000000011
         ]
        },
        {
         "hovertemplate": "vah_line<br>%{y:.2f}<extra></extra>",
         "line": {
          "color": "green",
          "dash": "dash",
          "width": 1
         },
         "mode": "lines",
         "name": "vah_line (s=448496)",
         "showlegend": false,
         "type": "scatter",
         "x": [
          "2024-01-10T00:00:00",
          "2024-01-10T23:00:00"
         ],
         "y": [
          10.510999999999918,
          10.510999999999918
         ]
        },
        {
         "hovertemplate": "val_line<br>%{y:.2f}<extra></extra>",
         "line": {
          "color": "red",
          "dash": "dash",
          "width": 1
         },
         "mode": "lines",
         "name": "val_line (s=58128)",
         "showlegend": false,
         "type": "scatter",
         "x": [
          "2024-01-10T00:00:00",
          "2024-01-10T23:00:00"
         ],
         "y": [
          9.739159999999977,
          9.739159999999977
         ]
        },
        {
         "hovertemplate": "vah_line<br>%{y:.2f}<extra></extra>",
         "line": {
          "color": "green",
          "dash": "dash",
          "width": 1
         },
         "mode": "lines",
         "name": "vah_line (s=211153)",
         "showlegend": false,
         "type": "scatter",
         "x": [
          "2024-01-09T00:00:00",
          "2024-01-09T23:00:00"
         ],
         "y": [
          9.844319999999962,
          9.844319999999962
         ]
        },
        {
         "hovertemplate": "val_line<br>%{y:.2f}<extra></extra>",
         "line": {
          "color": "red",
          "dash": "dash",
          "width": 1
         },
         "mode": "lines",
         "name": "val_line (s=576975)",
         "showlegend": false,
         "type": "scatter",
         "x": [
          "2024-01-09T00:00:00",
          "2024-01-09T23:00:00"
         ],
         "y": [
          9.513329999999991,
          9.513329999999991
         ]
        },
        {
         "hovertemplate": "vah_line<br>%{y:.2f}<extra></extra>",
         "line": {
          "color": "green",
          "dash": "dash",
          "width": 1
         },
         "mode": "lines",
         "name": "vah_line (s=360413)",
         "showlegend": false,
         "type": "scatter",
         "x": [
          "2024-01-08T00:00:00",
          "2024-01-08T23:00:00"
         ],
         "y": [
          9.562249999999953,
          9.562249999999953
         ]
        },
        {
         "hovertemplate": "val_line<br>%{y:.2f}<extra></extra>",
         "line": {
          "color": "red",
          "dash": "dash",
          "width": 1
         },
         "mode": "lines",
         "name": "val_line (s=433270)",
         "showlegend": false,
         "type": "scatter",
         "x": [
          "2024-01-08T00:00:00",
          "2024-01-08T23:00:00"
         ],
         "y": [
          9.081,
          9.081
         ]
        },
        {
         "hovertemplate": "poc_line<br>%{y:.2f}<extra></extra>",
         "line": {
          "color": "lightgray",
          "dash": "dash",
          "width": 1
         },
         "mode": "lines",
         "name": "poc_line (s=511660)",
         "showlegend": false,
         "type": "scatter",
         "x": [
          "2024-01-12T00:00:00",
          "2024-01-12T17:00:00"
         ],
         "y": [
          10.525504999999999,
          10.525504999999999
         ]
        },
        {
         "hovertemplate": "poc_line<br>%{y:.2f}<extra></extra>",
         "line": {
          "color": "lightgray",
          "dash": "dash",
          "width": 1
         },
         "mode": "lines",
         "name": "poc_line (s=616235)",
         "showlegend": false,
         "type": "scatter",
         "x": [
          "2024-01-11T00:00:00",
          "2024-01-12T01:00:00"
         ],
         "y": [
          10.577595000000015,
          10.577595000000015
         ]
        },
        {
         "hovertemplate": "poc_line<br>%{y:.2f}<extra></extra>",
         "line": {
          "color": "lightgray",
          "dash": "dash",
          "width": 1
         },
         "mode": "lines",
         "name": "poc_line (s=483818)",
         "showlegend": false,
         "type": "scatter",
         "x": [
          "2024-01-10T00:00:00",
          "2024-01-11T00:00:00"
         ],
         "y": [
          10.291239999999934,
          10.291239999999934
         ]
        },
        {
         "hovertemplate": "poc_line<br>%{y:.2f}<extra></extra>",
         "line": {
          "color": "lightgray",
          "dash": "dash",
          "width": 1
         },
         "mode": "lines",
         "name": "poc_line (s=576975)",
         "showlegend": false,
         "type": "scatter",
         "x": [
          "2024-01-09T00:00:00",
          "2024-01-10T12:00:00"
         ],
         "y": [
          9.51657499999999,
          9.51657499999999
         ]
        },
        {
         "hovertemplate": "naked_poc_line<br>%{y:.2f}<extra></extra>",
         "line": {
          "color": "white",
          "dash": "dash",
          "width": 2
         },
         "mode": "lines",
         "name": "naked_poc_line (s=433270)",
         "showlegend": false,
         "type": "scatter",
         "x": [
          "2024-01-08T00:00:00",
          "2024-01-12T17:00:00"
         ],
         "y": [
          9.085374999999999,
          9.085374999999999
         ]
        },
        {
         "hovertemplate": "Pivot: LL<br>Price: %{y:.2f}<br>Time: %{x}<extra></extra>",
         "marker": {
          "color": "red",
          "line": {
           "color": "white",
           "width": 1
          },
          "size": 8
         },
         "mode": "markers+text",
         "name": "Pivot LL",
         "showlegend": false,
         "text": [
          "LL"
         ],
         "textfont": {
          "color": "white",
          "size": 8
         },
         "textposition": "top center",
         "type": "scatter",
         "x": [
          "2023-12-12T18:00:00"
         ],
         "y": [
          11.377
         ]
        },
        {
         "hovertemplate": "Pivot: HH<br>Price: %{y:.2f}<br>Time: %{x}<extra></extra>",
         "marker": {
          "color": "lime",
          "line": {
           "color": "white",
           "width": 1
          },
          "size": 8
         },
         "mode": "markers+text",
         "name": "Pivot HH",
         "showlegend": false,
         "text": [
          "HH"
         ],
         "textfont": {
          "color": "white",
          "size": 8
         },
         "textposition": "top center",
         "type": "scatter",
         "x": [
          "2023-12-12T20:00:00"
         ],
         "y": [
          11.786
         ]
        },
        {
         "hovertemplate": "Pivot: HL<br>Price: %{y:.2f}<br>Time: %{x}<extra></extra>",
         "marker": {
          "color": "lightgreen",
          "line": {
           "color": "white",
           "width": 1
          },
          "size": 8
         },
         "mode": "markers+text",
         "name": "Pivot HL",
         "showlegend": false,
         "text": [
          "HL"
         ],
         "textfont": {
          "color": "white",
          "size": 8
         },
         "textposition": "top center",
         "type": "scatter",
         "x": [
          "2023-12-12T21:00:00"
         ],
         "y": [
          11.39
         ]
        },
        {
         "hovertemplate": "Pivot: HH<br>Price: %{y:.2f}<br>Time: %{x}<extra></extra>",
         "marker": {
          "color": "lime",
          "line": {
           "color": "white",
           "width": 1
          },
          "size": 8
         },
         "mode": "markers+text",
         "name": "Pivot HH",
         "showlegend": false,
         "text": [
          "HH"
         ],
         "textfont": {
          "color": "white",
          "size": 8
         },
         "textposition": "top center",
         "type": "scatter",
         "x": [
          "2023-12-13T00:00:00"
         ],
         "y": [
          11.927
         ]
        },
        {
         "hovertemplate": "Pivot: LL<br>Price: %{y:.2f}<br>Time: %{x}<extra></extra>",
         "marker": {
          "color": "red",
          "line": {
           "color": "white",
           "width": 1
          },
          "size": 8
         },
         "mode": "markers+text",
         "name": "Pivot LL",
         "showlegend": false,
         "text": [
          "LL"
         ],
         "textfont": {
          "color": "white",
          "size": 8
         },
         "textposition": "top center",
         "type": "scatter",
         "x": [
          "2023-12-13T02:00:00"
         ],
         "y": [
          10.934
         ]
        },
        {
         "hovertemplate": "Pivot: LH<br>Price: %{y:.2f}<br>Time: %{x}<extra></extra>",
         "marker": {
          "color": "salmon",
          "line": {
           "color": "white",
           "width": 1
          },
          "size": 8
         },
         "mode": "markers+text",
         "name": "Pivot LH",
         "showlegend": false,
         "text": [
          "LH"
         ],
         "textfont": {
          "color": "white",
          "size": 8
         },
         "textposition": "top center",
         "type": "scatter",
         "x": [
          "2023-12-13T03:00:00"
         ],
         "y": [
          11.601
         ]
        },
        {
         "hovertemplate": "Pivot: LL<br>Price: %{y:.2f}<br>Time: %{x}<extra></extra>",
         "marker": {
          "color": "red",
          "line": {
           "color": "white",
           "width": 1
          },
          "size": 8
         },
         "mode": "markers+text",
         "name": "Pivot LL",
         "showlegend": false,
         "text": [
          "LL"
         ],
         "textfont": {
          "color": "white",
          "size": 8
         },
         "textposition": "top center",
         "type": "scatter",
         "x": [
          "2023-12-13T07:00:00"
         ],
         "y": [
          10.737
         ]
        },
        {
         "hovertemplate": "Pivot: LH<br>Price: %{y:.2f}<br>Time: %{x}<extra></extra>",
         "marker": {
          "color": "salmon",
          "line": {
           "color": "white",
           "width": 1
          },
          "size": 8
         },
         "mode": "markers+text",
         "name": "Pivot LH",
         "showlegend": false,
         "text": [
          "LH"
         ],
         "textfont": {
          "color": "white",
          "size": 8
         },
         "textposition": "top center",
         "type": "scatter",
         "x": [
          "2023-12-13T09:00:00"
         ],
         "y": [
          11.301
         ]
        },
        {
         "hovertemplate": "Pivot: HL<br>Price: %{y:.2f}<br>Time: %{x}<extra></extra>",
         "marker": {
          "color": "lightgreen",
          "line": {
           "color": "white",
           "width": 1
          },
          "size": 8
         },
         "mode": "markers+text",
         "name": "Pivot HL",
         "showlegend": false,
         "text": [
          "HL"
         ],
         "textfont": {
          "color": "white",
          "size": 8
         },
         "textposition": "top center",
         "type": "scatter",
         "x": [
          "2023-12-13T12:00:00"
         ],
         "y": [
          10.855
         ]
        },
        {
         "hovertemplate": "Pivot: HH<br>Price: %{y:.2f}<br>Time: %{x}<extra></extra>",
         "marker": {
          "color": "lime",
          "line": {
           "color": "white",
           "width": 1
          },
          "size": 8
         },
         "mode": "markers+text",
         "name": "Pivot HH",
         "showlegend": false,
         "text": [
          "HH"
         ],
         "textfont": {
          "color": "white",
          "size": 8
         },
         "textposition": "top center",
         "type": "scatter",
         "x": [
          "2023-12-13T15:00:00"
         ],
         "y": [
          11.338
         ]
        },
        {
         "hovertemplate": "Pivot: HL<br>Price: %{y:.2f}<br>Time: %{x}<extra></extra>",
         "marker": {
          "color": "lightgreen",
          "line": {
           "color": "white",
           "width": 1
          },
          "size": 8
         },
         "mode": "markers+text",
         "name": "Pivot HL",
         "showlegend": false,
         "text": [
          "HL"
         ],
         "textfont": {
          "color": "white",
          "size": 8
         },
         "textposition": "top center",
         "type": "scatter",
         "x": [
          "2023-12-13T17:00:00"
         ],
         "y": [
          10.88
         ]
        },
        {
         "hovertemplate": "Pivot: HH<br>Price: %{y:.2f}<br>Time: %{x}<extra></extra>",
         "marker": {
          "color": "lime",
          "line": {
           "color": "white",
           "width": 1
          },
          "size": 8
         },
         "mode": "markers+text",
         "name": "Pivot HH",
         "showlegend": false,
         "text": [
          "HH"
         ],
         "textfont": {
          "color": "white",
          "size": 8
         },
         "textposition": "top center",
         "type": "scatter",
         "x": [
          "2023-12-14T01:00:00"
         ],
         "y": [
          11.704
         ]
        },
        {
         "hovertemplate": "Pivot: HL<br>Price: %{y:.2f}<br>Time: %{x}<extra></extra>",
         "marker": {
          "color": "lightgreen",
          "line": {
           "color": "white",
           "width": 1
          },
          "size": 8
         },
         "mode": "markers+text",
         "name": "Pivot HL",
         "showlegend": false,
         "text": [
          "HL"
         ],
         "textfont": {
          "color": "white",
          "size": 8
         },
         "textposition": "top center",
         "type": "scatter",
         "x": [
          "2023-12-14T07:00:00"
         ],
         "y": [
          11.184
         ]
        },
        {
         "hovertemplate": "Pivot: HH<br>Price: %{y:.2f}<br>Time: %{x}<extra></extra>",
         "marker": {
          "color": "lime",
          "line": {
           "color": "white",
           "width": 1
          },
          "size": 8
         },
         "mode": "markers+text",
         "name": "Pivot HH",
         "showlegend": false,
         "text": [
          "HH"
         ],
         "textfont": {
          "color": "white",
          "size": 8
         },
         "textposition": "top center",
         "type": "scatter",
         "x": [
          "2023-12-14T12:00:00"
         ],
         "y": [
          11.932
         ]
        },
        {
         "hovertemplate": "Pivot: LL<br>Price: %{y:.2f}<br>Time: %{x}<extra></extra>",
         "marker": {
          "color": "red",
          "line": {
           "color": "white",
           "width": 1
          },
          "size": 8
         },
         "mode": "markers+text",
         "name": "Pivot LL",
         "showlegend": false,
         "text": [
          "LL"
         ],
         "textfont": {
          "color": "white",
          "size": 8
         },
         "textposition": "top center",
         "type": "scatter",
         "x": [
          "2023-12-14T13:00:00"
         ],
         "y": [
          11.013
         ]
        },
        {
         "hovertemplate": "Pivot: LH<br>Price: %{y:.2f}<br>Time: %{x}<extra></extra>",
         "marker": {
          "color": "salmon",
          "line": {
           "color": "white",
           "width": 1
          },
          "size": 8
         },
         "mode": "markers+text",
         "name": "Pivot LH",
         "showlegend": false,
         "text": [
          "LH"
         ],
         "textfont": {
          "color": "white",
          "size": 8
         },
         "textposition": "top center",
         "type": "scatter",
         "x": [
          "2023-12-14T22:00:00"
         ],
         "y": [
          11.633
         ]
        },
        {
         "hovertemplate": "Pivot: LL<br>Price: %{y:.2f}<br>Time: %{x}<extra></extra>",
         "marker": {
          "color": "red",
          "line": {
           "color": "white",
           "width": 1
          },
          "size": 8
         },
         "mode": "markers+text",
         "name": "Pivot LL",
         "showlegend": false,
         "text": [
          "LL"
         ],
         "textfont": {
          "color": "white",
          "size": 8
         },
         "textposition": "top center",
         "type": "scatter",
         "x": [
          "2023-12-15T15:00:00"
         ],
         "y": [
          10.94
         ]
        },
        {
         "hovertemplate": "Pivot: LH<br>Price: %{y:.2f}<br>Time: %{x}<extra></extra>",
         "marker": {
          "color": "salmon",
          "line": {
           "color": "white",
           "width": 1
          },
          "size": 8
         },
         "mode": "markers+text",
         "name": "Pivot LH",
         "showlegend": false,
         "text": [
          "LH"
         ],
         "textfont": {
          "color": "white",
          "size": 8
         },
         "textposition": "top center",
         "type": "scatter",
         "x": [
          "2023-12-15T18:00:00"
         ],
         "y": [
          11.464
         ]
        },
        {
         "hovertemplate": "Pivot: LL<br>Price: %{y:.2f}<br>Time: %{x}<extra></extra>",
         "marker": {
          "color": "red",
          "line": {
           "color": "white",
           "width": 1
          },
          "size": 8
         },
         "mode": "markers+text",
         "name": "Pivot LL",
         "showlegend": false,
         "text": [
          "LL"
         ],
         "textfont": {
          "color": "white",
          "size": 8
         },
         "textposition": "top center",
         "type": "scatter",
         "x": [
          "2023-12-16T00:00:00"
         ],
         "y": [
          10.691
         ]
        },
        {
         "hovertemplate": "Pivot: HH<br>Price: %{y:.2f}<br>Time: %{x}<extra></extra>",
         "marker": {
          "color": "lime",
          "line": {
           "color": "white",
           "width": 1
          },
          "size": 8
         },
         "mode": "markers+text",
         "name": "Pivot HH",
         "showlegend": false,
         "text": [
          "HH"
         ],
         "textfont": {
          "color": "white",
          "size": 8
         },
         "textposition": "top center",
         "type": "scatter",
         "x": [
          "2023-12-16T17:00:00"
         ],
         "y": [
          11.932
         ]
        },
        {
         "hovertemplate": "Pivot: HL<br>Price: %{y:.2f}<br>Time: %{x}<extra></extra>",
         "marker": {
          "color": "lightgreen",
          "line": {
           "color": "white",
           "width": 1
          },
          "size": 8
         },
         "mode": "markers+text",
         "name": "Pivot HL",
         "showlegend": false,
         "text": [
          "HL"
         ],
         "textfont": {
          "color": "white",
          "size": 8
         },
         "textposition": "top center",
         "type": "scatter",
         "x": [
          "2023-12-16T19:00:00"
         ],
         "y": [
          11.46
         ]
        },
        {
         "hovertemplate": "Pivot: HH<br>Price: %{y:.2f}<br>Time: %{x}<extra></extra>",
         "marker": {
          "color": "lime",
          "line": {
           "color": "white",
           "width": 1
          },
          "size": 8
         },
         "mode": "markers+text",
         "name": "Pivot HH",
         "showlegend": false,
         "text": [
          "HH"
         ],
         "textfont": {
          "color": "white",
          "size": 8
         },
         "textposition": "top center",
         "type": "scatter",
         "x": [
          "2023-12-16T23:00:00"
         ],
         "y": [
          12.1
         ]
        },
        {
         "hovertemplate": "Pivot: LL<br>Price: %{y:.2f}<br>Time: %{x}<extra></extra>",
         "marker": {
          "color": "red",
          "line": {
           "color": "white",
           "width": 1
          },
          "size": 8
         },
         "mode": "markers+text",
         "name": "Pivot LL",
         "showlegend": false,
         "text": [
          "LL"
         ],
         "textfont": {
          "color": "white",
          "size": 8
         },
         "textposition": "top center",
         "type": "scatter",
         "x": [
          "2023-12-17T06:00:00"
         ],
         "y": [
          11.294
         ]
        },
        {
         "hovertemplate": "Pivot: LH<br>Price: %{y:.2f}<br>Time: %{x}<extra></extra>",
         "marker": {
          "color": "salmon",
          "line": {
           "color": "white",
           "width": 1
          },
          "size": 8
         },
         "mode": "markers+text",
         "name": "Pivot LH",
         "showlegend": false,
         "text": [
          "LH"
         ],
         "textfont": {
          "color": "white",
          "size": 8
         },
         "textposition": "top center",
         "type": "scatter",
         "x": [
          "2023-12-17T10:00:00"
         ],
         "y": [
          11.88
         ]
        },
        {
         "hovertemplate": "Pivot: LL<br>Price: %{y:.2f}<br>Time: %{x}<extra></extra>",
         "marker": {
          "color": "red",
          "line": {
           "color": "white",
           "width": 1
          },
          "size": 8
         },
         "mode": "markers+text",
         "name": "Pivot LL",
         "showlegend": false,
         "text": [
          "LL"
         ],
         "textfont": {
          "color": "white",
          "size": 8
         },
         "textposition": "top center",
         "type": "scatter",
         "x": [
          "2023-12-18T10:00:00"
         ],
         "y": [
          10.2
         ]
        },
        {
         "hovertemplate": "Pivot: LH<br>Price: %{y:.2f}<br>Time: %{x}<extra></extra>",
         "marker": {
          "color": "salmon",
          "line": {
           "color": "white",
           "width": 1
          },
          "size": 8
         },
         "mode": "markers+text",
         "name": "Pivot LH",
         "showlegend": false,
         "text": [
          "LH"
         ],
         "textfont": {
          "color": "white",
          "size": 8
         },
         "textposition": "top center",
         "type": "scatter",
         "x": [
          "2023-12-19T02:00:00"
         ],
         "y": [
          11.029
         ]
        },
        {
         "hovertemplate": "Pivot: HL<br>Price: %{y:.2f}<br>Time: %{x}<extra></extra>",
         "marker": {
          "color": "lightgreen",
          "line": {
           "color": "white",
           "width": 1
          },
          "size": 8
         },
         "mode": "markers+text",
         "name": "Pivot HL",
         "showlegend": false,
         "text": [
          "HL"
         ],
         "textfont": {
          "color": "white",
          "size": 8
         },
         "textposition": "top center",
         "type": "scatter",
         "x": [
          "2023-12-20T01:00:00"
         ],
         "y": [
          10.234
         ]
        },
        {
         "hovertemplate": "Pivot: LH<br>Price: %{y:.2f}<br>Time: %{x}<extra></extra>",
         "marker": {
          "color": "salmon",
          "line": {
           "color": "white",
           "width": 1
          },
          "size": 8
         },
         "mode": "markers+text",
         "name": "Pivot LH",
         "showlegend": false,
         "text": [
          "LH"
         ],
         "textfont": {
          "color": "white",
          "size": 8
         },
         "textposition": "top center",
         "type": "scatter",
         "x": [
          "2023-12-20T15:00:00"
         ],
         "y": [
          10.9
         ]
        },
        {
         "hovertemplate": "Pivot: HL<br>Price: %{y:.2f}<br>Time: %{x}<extra></extra>",
         "marker": {
          "color": "lightgreen",
          "line": {
           "color": "white",
           "width": 1
          },
          "size": 8
         },
         "mode": "markers+text",
         "name": "Pivot HL",
         "showlegend": false,
         "text": [
          "HL"
         ],
         "textfont": {
          "color": "white",
          "size": 8
         },
         "textposition": "top center",
         "type": "scatter",
         "x": [
          "2023-12-20T20:00:00"
         ],
         "y": [
          10.418
         ]
        },
        {
         "hovertemplate": "Pivot: HH<br>Price: %{y:.2f}<br>Time: %{x}<extra></extra>",
         "marker": {
          "color": "lime",
          "line": {
           "color": "white",
           "width": 1
          },
          "size": 8
         },
         "mode": "markers+text",
         "name": "Pivot HH",
         "showlegend": false,
         "text": [
          "HH"
         ],
         "textfont": {
          "color": "white",
          "size": 8
         },
         "textposition": "top center",
         "type": "scatter",
         "x": [
          "2023-12-21T11:00:00"
         ],
         "y": [
          10.992
         ]
        },
        {
         "hovertemplate": "Pivot: HL<br>Price: %{y:.2f}<br>Time: %{x}<extra></extra>",
         "marker": {
          "color": "lightgreen",
          "line": {
           "color": "white",
           "width": 1
          },
          "size": 8
         },
         "mode": "markers+text",
         "name": "Pivot HL",
         "showlegend": false,
         "text": [
          "HL"
         ],
         "textfont": {
          "color": "white",
          "size": 8
         },
         "textposition": "top center",
         "type": "scatter",
         "x": [
          "2023-12-21T15:00:00"
         ],
         "y": [
          10.622
         ]
        },
        {
         "hovertemplate": "Pivot: HH<br>Price: %{y:.2f}<br>Time: %{x}<extra></extra>",
         "marker": {
          "color": "lime",
          "line": {
           "color": "white",
           "width": 1
          },
          "size": 8
         },
         "mode": "markers+text",
         "name": "Pivot HH",
         "showlegend": false,
         "text": [
          "HH"
         ],
         "textfont": {
          "color": "white",
          "size": 8
         },
         "textposition": "top center",
         "type": "scatter",
         "x": [
          "2023-12-21T21:00:00"
         ],
         "y": [
          11.702
         ]
        },
        {
         "hovertemplate": "Pivot: HL<br>Price: %{y:.2f}<br>Time: %{x}<extra></extra>",
         "marker": {
          "color": "lightgreen",
          "line": {
           "color": "white",
           "width": 1
          },
          "size": 8
         },
         "mode": "markers+text",
         "name": "Pivot HL",
         "showlegend": false,
         "text": [
          "HL"
         ],
         "textfont": {
          "color": "white",
          "size": 8
         },
         "textposition": "top center",
         "type": "scatter",
         "x": [
          "2023-12-21T23:00:00"
         ],
         "y": [
          11.312
         ]
        },
        {
         "hovertemplate": "Pivot: HH<br>Price: %{y:.2f}<br>Time: %{x}<extra></extra>",
         "marker": {
          "color": "lime",
          "line": {
           "color": "white",
           "width": 1
          },
          "size": 8
         },
         "mode": "markers+text",
         "name": "Pivot HH",
         "showlegend": false,
         "text": [
          "HH"
         ],
         "textfont": {
          "color": "white",
          "size": 8
         },
         "textposition": "top center",
         "type": "scatter",
         "x": [
          "2023-12-22T01:00:00"
         ],
         "y": [
          11.75
         ]
        },
        {
         "hovertemplate": "Pivot: LL<br>Price: %{y:.2f}<br>Time: %{x}<extra></extra>",
         "marker": {
          "color": "red",
          "line": {
           "color": "white",
           "width": 1
          },
          "size": 8
         },
         "mode": "markers+text",
         "name": "Pivot LL",
         "showlegend": false,
         "text": [
          "LL"
         ],
         "textfont": {
          "color": "white",
          "size": 8
         },
         "textposition": "top center",
         "type": "scatter",
         "x": [
          "2023-12-22T09:00:00"
         ],
         "y": [
          10.968
         ]
        },
        {
         "hovertemplate": "Pivot: LH<br>Price: %{y:.2f}<br>Time: %{x}<extra></extra>",
         "marker": {
          "color": "salmon",
          "line": {
           "color": "white",
           "width": 1
          },
          "size": 8
         },
         "mode": "markers+text",
         "name": "Pivot LH",
         "showlegend": false,
         "text": [
          "LH"
         ],
         "textfont": {
          "color": "white",
          "size": 8
         },
         "textposition": "top center",
         "type": "scatter",
         "x": [
          "2023-12-23T00:00:00"
         ],
         "y": [
          11.419
         ]
        },
        {
         "hovertemplate": "Pivot: HL<br>Price: %{y:.2f}<br>Time: %{x}<extra></extra>",
         "marker": {
          "color": "lightgreen",
          "line": {
           "color": "white",
           "width": 1
          },
          "size": 8
         },
         "mode": "markers+text",
         "name": "Pivot HL",
         "showlegend": false,
         "text": [
          "HL"
         ],
         "textfont": {
          "color": "white",
          "size": 8
         },
         "textposition": "top center",
         "type": "scatter",
         "x": [
          "2023-12-23T08:00:00"
         ],
         "y": [
          11.043
         ]
        },
        {
         "hovertemplate": "Pivot: HH<br>Price: %{y:.2f}<br>Time: %{x}<extra></extra>",
         "marker": {
          "color": "lime",
          "line": {
           "color": "white",
           "width": 1
          },
          "size": 8
         },
         "mode": "markers+text",
         "name": "Pivot HH",
         "showlegend": false,
         "text": [
          "HH"
         ],
         "textfont": {
          "color": "white",
          "size": 8
         },
         "textposition": "top center",
         "type": "scatter",
         "x": [
          "2023-12-24T02:00:00"
         ],
         "y": [
          11.589
         ]
        },
        {
         "hovertemplate": "Pivot: HL<br>Price: %{y:.2f}<br>Time: %{x}<extra></extra>",
         "marker": {
          "color": "lightgreen",
          "line": {
           "color": "white",
           "width": 1
          },
          "size": 8
         },
         "mode": "markers+text",
         "name": "Pivot HL",
         "showlegend": false,
         "text": [
          "HL"
         ],
         "textfont": {
          "color": "white",
          "size": 8
         },
         "textposition": "top center",
         "type": "scatter",
         "x": [
          "2023-12-24T05:00:00"
         ],
         "y": [
          11.173
         ]
        },
        {
         "hovertemplate": "Pivot: HH<br>Price: %{y:.2f}<br>Time: %{x}<extra></extra>",
         "marker": {
          "color": "lime",
          "line": {
           "color": "white",
           "width": 1
          },
          "size": 8
         },
         "mode": "markers+text",
         "name": "Pivot HH",
         "showlegend": false,
         "text": [
          "HH"
         ],
         "textfont": {
          "color": "white",
          "size": 8
         },
         "textposition": "top center",
         "type": "scatter",
         "x": [
          "2023-12-24T11:00:00"
         ],
         "y": [
          11.75
         ]
        },
        {
         "hovertemplate": "Pivot: LL<br>Price: %{y:.2f}<br>Time: %{x}<extra></extra>",
         "marker": {
          "color": "red",
          "line": {
           "color": "white",
           "width": 1
          },
          "size": 8
         },
         "mode": "markers+text",
         "name": "Pivot LL",
         "showlegend": false,
         "text": [
          "LL"
         ],
         "textfont": {
          "color": "white",
          "size": 8
         },
         "textposition": "top center",
         "type": "scatter",
         "x": [
          "2023-12-25T00:00:00"
         ],
         "y": [
          11.001
         ]
        },
        {
         "hovertemplate": "Pivot: HH<br>Price: %{y:.2f}<br>Time: %{x}<extra></extra>",
         "marker": {
          "color": "lime",
          "line": {
           "color": "white",
           "width": 1
          },
          "size": 8
         },
         "mode": "markers+text",
         "name": "Pivot HH",
         "showlegend": false,
         "text": [
          "HH"
         ],
         "textfont": {
          "color": "white",
          "size": 8
         },
         "textposition": "top center",
         "type": "scatter",
         "x": [
          "2023-12-26T02:00:00"
         ],
         "y": [
          12.392
         ]
        },
        {
         "hovertemplate": "Pivot: HL<br>Price: %{y:.2f}<br>Time: %{x}<extra></extra>",
         "marker": {
          "color": "lightgreen",
          "line": {
           "color": "white",
           "width": 1
          },
          "size": 8
         },
         "mode": "markers+text",
         "name": "Pivot HL",
         "showlegend": false,
         "text": [
          "HL"
         ],
         "textfont": {
          "color": "white",
          "size": 8
         },
         "textposition": "top center",
         "type": "scatter",
         "x": [
          "2023-12-26T05:00:00"
         ],
         "y": [
          11.894
         ]
        },
        {
         "hovertemplate": "Pivot: HH<br>Price: %{y:.2f}<br>Time: %{x}<extra></extra>",
         "marker": {
          "color": "lime",
          "line": {
           "color": "white",
           "width": 1
          },
          "size": 8
         },
         "mode": "markers+text",
         "name": "Pivot HH",
         "showlegend": false,
         "text": [
          "HH"
         ],
         "textfont": {
          "color": "white",
          "size": 8
         },
         "textposition": "top center",
         "type": "scatter",
         "x": [
          "2023-12-26T06:00:00"
         ],
         "y": [
          12.6
         ]
        },
        {
         "hovertemplate": "Pivot: LL<br>Price: %{y:.2f}<br>Time: %{x}<extra></extra>",
         "marker": {
          "color": "red",
          "line": {
           "color": "white",
           "width": 1
          },
          "size": 8
         },
         "mode": "markers+text",
         "name": "Pivot LL",
         "showlegend": false,
         "text": [
          "LL"
         ],
         "textfont": {
          "color": "white",
          "size": 8
         },
         "textposition": "top center",
         "type": "scatter",
         "x": [
          "2023-12-26T09:00:00"
         ],
         "y": [
          11.715
         ]
        },
        {
         "hovertemplate": "Pivot: LH<br>Price: %{y:.2f}<br>Time: %{x}<extra></extra>",
         "marker": {
          "color": "salmon",
          "line": {
           "color": "white",
           "width": 1
          },
          "size": 8
         },
         "mode": "markers+text",
         "name": "Pivot LH",
         "showlegend": false,
         "text": [
          "LH"
         ],
         "textfont": {
          "color": "white",
          "size": 8
         },
         "textposition": "top center",
         "type": "scatter",
         "x": [
          "2023-12-26T13:00:00"
         ],
         "y": [
          12.265
         ]
        },
        {
         "hovertemplate": "Pivot: LL<br>Price: %{y:.2f}<br>Time: %{x}<extra></extra>",
         "marker": {
          "color": "red",
          "line": {
           "color": "white",
           "width": 1
          },
          "size": 8
         },
         "mode": "markers+text",
         "name": "Pivot LL",
         "showlegend": false,
         "text": [
          "LL"
         ],
         "textfont": {
          "color": "white",
          "size": 8
         },
         "textposition": "top center",
         "type": "scatter",
         "x": [
          "2023-12-26T17:00:00"
         ],
         "y": [
          11.069
         ]
        },
        {
         "hovertemplate": "Pivot: LH<br>Price: %{y:.2f}<br>Time: %{x}<extra></extra>",
         "marker": {
          "color": "salmon",
          "line": {
           "color": "white",
           "width": 1
          },
          "size": 8
         },
         "mode": "markers+text",
         "name": "Pivot LH",
         "showlegend": false,
         "text": [
          "LH"
         ],
         "textfont": {
          "color": "white",
          "size": 8
         },
         "textposition": "top center",
         "type": "scatter",
         "x": [
          "2023-12-26T22:00:00"
         ],
         "y": [
          11.702
         ]
        },
        {
         "hovertemplate": "Pivot: HL<br>Price: %{y:.2f}<br>Time: %{x}<extra></extra>",
         "marker": {
          "color": "lightgreen",
          "line": {
           "color": "white",
           "width": 1
          },
          "size": 8
         },
         "mode": "markers+text",
         "name": "Pivot HL",
         "showlegend": false,
         "text": [
          "HL"
         ],
         "textfont": {
          "color": "white",
          "size": 8
         },
         "textposition": "top center",
         "type": "scatter",
         "x": [
          "2023-12-27T03:00:00"
         ],
         "y": [
          11.153
         ]
        },
        {
         "hovertemplate": "Pivot: HH<br>Price: %{y:.2f}<br>Time: %{x}<extra></extra>",
         "marker": {
          "color": "lime",
          "line": {
           "color": "white",
           "width": 1
          },
          "size": 8
         },
         "mode": "markers+text",
         "name": "Pivot HH",
         "showlegend": false,
         "text": [
          "HH"
         ],
         "textfont": {
          "color": "white",
          "size": 8
         },
         "textposition": "top center",
         "type": "scatter",
         "x": [
          "2023-12-28T01:00:00"
         ],
         "y": [
          12.219
         ]
        },
        {
         "hovertemplate": "Pivot: HL<br>Price: %{y:.2f}<br>Time: %{x}<extra></extra>",
         "marker": {
          "color": "lightgreen",
          "line": {
           "color": "white",
           "width": 1
          },
          "size": 8
         },
         "mode": "markers+text",
         "name": "Pivot HL",
         "showlegend": false,
         "text": [
          "HL"
         ],
         "textfont": {
          "color": "white",
          "size": 8
         },
         "textposition": "top center",
         "type": "scatter",
         "x": [
          "2023-12-28T07:00:00"
         ],
         "y": [
          11.473
         ]
        },
        {
         "hovertemplate": "Pivot: LH<br>Price: %{y:.2f}<br>Time: %{x}<extra></extra>",
         "marker": {
          "color": "salmon",
          "line": {
           "color": "white",
           "width": 1
          },
          "size": 8
         },
         "mode": "markers+text",
         "name": "Pivot LH",
         "showlegend": false,
         "text": [
          "LH"
         ],
         "textfont": {
          "color": "white",
          "size": 8
         },
         "textposition": "top center",
         "type": "scatter",
         "x": [
          "2023-12-28T10:00:00"
         ],
         "y": [
          12
         ]
        },
        {
         "hovertemplate": "Pivot: LL<br>Price: %{y:.2f}<br>Time: %{x}<extra></extra>",
         "marker": {
          "color": "red",
          "line": {
           "color": "white",
           "width": 1
          },
          "size": 8
         },
         "mode": "markers+text",
         "name": "Pivot LL",
         "showlegend": false,
         "text": [
          "LL"
         ],
         "textfont": {
          "color": "white",
          "size": 8
         },
         "textposition": "top center",
         "type": "scatter",
         "x": [
          "2023-12-29T01:00:00"
         ],
         "y": [
          11.059
         ]
        },
        {
         "hovertemplate": "Pivot: LH<br>Price: %{y:.2f}<br>Time: %{x}<extra></extra>",
         "marker": {
          "color": "salmon",
          "line": {
           "color": "white",
           "width": 1
          },
          "size": 8
         },
         "mode": "markers+text",
         "name": "Pivot LH",
         "showlegend": false,
         "text": [
          "LH"
         ],
         "textfont": {
          "color": "white",
          "size": 8
         },
         "textposition": "top center",
         "type": "scatter",
         "x": [
          "2023-12-29T14:00:00"
         ],
         "y": [
          11.54
         ]
        },
        {
         "hovertemplate": "Pivot: LL<br>Price: %{y:.2f}<br>Time: %{x}<extra></extra>",
         "marker": {
          "color": "red",
          "line": {
           "color": "white",
           "width": 1
          },
          "size": 8
         },
         "mode": "markers+text",
         "name": "Pivot LL",
         "showlegend": false,
         "text": [
          "LL"
         ],
         "textfont": {
          "color": "white",
          "size": 8
         },
         "textposition": "top center",
         "type": "scatter",
         "x": [
          "2023-12-29T22:00:00"
         ],
         "y": [
          10.701
         ]
        },
        {
         "hovertemplate": "Pivot: LH<br>Price: %{y:.2f}<br>Time: %{x}<extra></extra>",
         "marker": {
          "color": "salmon",
          "line": {
           "color": "white",
           "width": 1
          },
          "size": 8
         },
         "mode": "markers+text",
         "name": "Pivot LH",
         "showlegend": false,
         "text": [
          "LH"
         ],
         "textfont": {
          "color": "white",
          "size": 8
         },
         "textposition": "top center",
         "type": "scatter",
         "x": [
          "2023-12-30T02:00:00"
         ],
         "y": [
          11.032
         ]
        },
        {
         "hovertemplate": "Pivot: LL<br>Price: %{y:.2f}<br>Time: %{x}<extra></extra>",
         "marker": {
          "color": "red",
          "line": {
           "color": "white",
           "width": 1
          },
          "size": 8
         },
         "mode": "markers+text",
         "name": "Pivot LL",
         "showlegend": false,
         "text": [
          "LL"
         ],
         "textfont": {
          "color": "white",
          "size": 8
         },
         "textposition": "top center",
         "type": "scatter",
         "x": [
          "2023-12-30T09:00:00"
         ],
         "y": [
          10.568
         ]
        },
        {
         "hovertemplate": "Pivot: LH<br>Price: %{y:.2f}<br>Time: %{x}<extra></extra>",
         "marker": {
          "color": "salmon",
          "line": {
           "color": "white",
           "width": 1
          },
          "size": 8
         },
         "mode": "markers+text",
         "name": "Pivot LH",
         "showlegend": false,
         "text": [
          "LH"
         ],
         "textfont": {
          "color": "white",
          "size": 8
         },
         "textposition": "top center",
         "type": "scatter",
         "x": [
          "2023-12-31T09:00:00"
         ],
         "y": [
          10.99
         ]
        },
        {
         "hovertemplate": "Pivot: LL<br>Price: %{y:.2f}<br>Time: %{x}<extra></extra>",
         "marker": {
          "color": "red",
          "line": {
           "color": "white",
           "width": 1
          },
          "size": 8
         },
         "mode": "markers+text",
         "name": "Pivot LL",
         "showlegend": false,
         "text": [
          "LL"
         ],
         "textfont": {
          "color": "white",
          "size": 8
         },
         "textposition": "top center",
         "type": "scatter",
         "x": [
          "2023-12-31T22:00:00"
         ],
         "y": [
          10.33
         ]
        },
        {
         "hovertemplate": "Pivot: HH<br>Price: %{y:.2f}<br>Time: %{x}<extra></extra>",
         "marker": {
          "color": "lime",
          "line": {
           "color": "white",
           "width": 1
          },
          "size": 8
         },
         "mode": "markers+text",
         "name": "Pivot HH",
         "showlegend": false,
         "text": [
          "HH"
         ],
         "textfont": {
          "color": "white",
          "size": 8
         },
         "textposition": "top center",
         "type": "scatter",
         "x": [
          "2024-01-02T10:00:00"
         ],
         "y": [
          11.422
         ]
        },
        {
         "hovertemplate": "Pivot: HL<br>Price: %{y:.2f}<br>Time: %{x}<extra></extra>",
         "marker": {
          "color": "lightgreen",
          "line": {
           "color": "white",
           "width": 1
          },
          "size": 8
         },
         "mode": "markers+text",
         "name": "Pivot HL",
         "showlegend": false,
         "text": [
          "HL"
         ],
         "textfont": {
          "color": "white",
          "size": 8
         },
         "textposition": "top center",
         "type": "scatter",
         "x": [
          "2024-01-03T00:00:00"
         ],
         "y": [
          10.921
         ]
        },
        {
         "hovertemplate": "Pivot: LH<br>Price: %{y:.2f}<br>Time: %{x}<extra></extra>",
         "marker": {
          "color": "salmon",
          "line": {
           "color": "white",
           "width": 1
          },
          "size": 8
         },
         "mode": "markers+text",
         "name": "Pivot LH",
         "showlegend": false,
         "text": [
          "LH"
         ],
         "textfont": {
          "color": "white",
          "size": 8
         },
         "textposition": "top center",
         "type": "scatter",
         "x": [
          "2024-01-03T10:00:00"
         ],
         "y": [
          11.382
         ]
        },
        {
         "hovertemplate": "Pivot: LL<br>Price: %{y:.2f}<br>Time: %{x}<extra></extra>",
         "marker": {
          "color": "red",
          "line": {
           "color": "white",
           "width": 1
          },
          "size": 8
         },
         "mode": "markers+text",
         "name": "Pivot LL",
         "showlegend": false,
         "text": [
          "LL"
         ],
         "textfont": {
          "color": "white",
          "size": 8
         },
         "textposition": "top center",
         "type": "scatter",
         "x": [
          "2024-01-03T12:00:00"
         ],
         "y": [
          9.123
         ]
        },
        {
         "hovertemplate": "Pivot: LH<br>Price: %{y:.2f}<br>Time: %{x}<extra></extra>",
         "marker": {
          "color": "salmon",
          "line": {
           "color": "white",
           "width": 1
          },
          "size": 8
         },
         "mode": "markers+text",
         "name": "Pivot LH",
         "showlegend": false,
         "text": [
          "LH"
         ],
         "textfont": {
          "color": "white",
          "size": 8
         },
         "textposition": "top center",
         "type": "scatter",
         "x": [
          "2024-01-03T13:00:00"
         ],
         "y": [
          10.349
         ]
        },
        {
         "hovertemplate": "Pivot: HL<br>Price: %{y:.2f}<br>Time: %{x}<extra></extra>",
         "marker": {
          "color": "lightgreen",
          "line": {
           "color": "white",
           "width": 1
          },
          "size": 8
         },
         "mode": "markers+text",
         "name": "Pivot HL",
         "showlegend": false,
         "text": [
          "HL"
         ],
         "textfont": {
          "color": "white",
          "size": 8
         },
         "textposition": "top center",
         "type": "scatter",
         "x": [
          "2024-01-03T14:00:00"
         ],
         "y": [
          9.8
         ]
        },
        {
         "hovertemplate": "Pivot: LH<br>Price: %{y:.2f}<br>Time: %{x}<extra></extra>",
         "marker": {
          "color": "salmon",
          "line": {
           "color": "white",
           "width": 1
          },
          "size": 8
         },
         "mode": "markers+text",
         "name": "Pivot LH",
         "showlegend": false,
         "text": [
          "LH"
         ],
         "textfont": {
          "color": "white",
          "size": 8
         },
         "textposition": "top center",
         "type": "scatter",
         "x": [
          "2024-01-03T16:00:00"
         ],
         "y": [
          10.268
         ]
        },
        {
         "hovertemplate": "Pivot: LL<br>Price: %{y:.2f}<br>Time: %{x}<extra></extra>",
         "marker": {
          "color": "red",
          "line": {
           "color": "white",
           "width": 1
          },
          "size": 8
         },
         "mode": "markers+text",
         "name": "Pivot LL",
         "showlegend": false,
         "text": [
          "LL"
         ],
         "textfont": {
          "color": "white",
          "size": 8
         },
         "textposition": "top center",
         "type": "scatter",
         "x": [
          "2024-01-03T18:00:00"
         ],
         "y": [
          9.75
         ]
        },
        {
         "hovertemplate": "Pivot: LH<br>Price: %{y:.2f}<br>Time: %{x}<extra></extra>",
         "marker": {
          "color": "salmon",
          "line": {
           "color": "white",
           "width": 1
          },
          "size": 8
         },
         "mode": "markers+text",
         "name": "Pivot LH",
         "showlegend": false,
         "text": [
          "LH"
         ],
         "textfont": {
          "color": "white",
          "size": 8
         },
         "textposition": "top center",
         "type": "scatter",
         "x": [
          "2024-01-03T20:00:00"
         ],
         "y": [
          10.095
         ]
        },
        {
         "hovertemplate": "Pivot: LL<br>Price: %{y:.2f}<br>Time: %{x}<extra></extra>",
         "marker": {
          "color": "red",
          "line": {
           "color": "white",
           "width": 1
          },
          "size": 8
         },
         "mode": "markers+text",
         "name": "Pivot LL",
         "showlegend": false,
         "text": [
          "LL"
         ],
         "textfont": {
          "color": "white",
          "size": 8
         },
         "textposition": "top center",
         "type": "scatter",
         "x": [
          "2024-01-04T01:00:00"
         ],
         "y": [
          9.738
         ]
        },
        {
         "hovertemplate": "Pivot: HH<br>Price: %{y:.2f}<br>Time: %{x}<extra></extra>",
         "marker": {
          "color": "lime",
          "line": {
           "color": "white",
           "width": 1
          },
          "size": 8
         },
         "mode": "markers+text",
         "name": "Pivot HH",
         "showlegend": false,
         "text": [
          "HH"
         ],
         "textfont": {
          "color": "white",
          "size": 8
         },
         "textposition": "top center",
         "type": "scatter",
         "x": [
          "2024-01-04T19:00:00"
         ],
         "y": [
          10.357
         ]
        },
        {
         "hovertemplate": "Pivot: HL<br>Price: %{y:.2f}<br>Time: %{x}<extra></extra>",
         "marker": {
          "color": "lightgreen",
          "line": {
           "color": "white",
           "width": 1
          },
          "size": 8
         },
         "mode": "markers+text",
         "name": "Pivot HL",
         "showlegend": false,
         "text": [
          "HL"
         ],
         "textfont": {
          "color": "white",
          "size": 8
         },
         "textposition": "top center",
         "type": "scatter",
         "x": [
          "2024-01-05T01:00:00"
         ],
         "y": [
          9.83
         ]
        },
        {
         "hovertemplate": "Pivot: HH<br>Price: %{y:.2f}<br>Time: %{x}<extra></extra>",
         "marker": {
          "color": "lime",
          "line": {
           "color": "white",
           "width": 1
          },
          "size": 8
         },
         "mode": "markers+text",
         "name": "Pivot HH",
         "showlegend": false,
         "text": [
          "HH"
         ],
         "textfont": {
          "color": "white",
          "size": 8
         },
         "textposition": "top center",
         "type": "scatter",
         "x": [
          "2024-01-05T11:00:00"
         ],
         "y": [
          10.8
         ]
        },
        {
         "hovertemplate": "Pivot: LL<br>Price: %{y:.2f}<br>Time: %{x}<extra></extra>",
         "marker": {
          "color": "red",
          "line": {
           "color": "white",
           "width": 1
          },
          "size": 8
         },
         "mode": "markers+text",
         "name": "Pivot LL",
         "showlegend": false,
         "text": [
          "LL"
         ],
         "textfont": {
          "color": "white",
          "size": 8
         },
         "textposition": "top center",
         "type": "scatter",
         "x": [
          "2024-01-05T17:00:00"
         ],
         "y": [
          9.737
         ]
        },
        {
         "hovertemplate": "Pivot: LH<br>Price: %{y:.2f}<br>Time: %{x}<extra></extra>",
         "marker": {
          "color": "salmon",
          "line": {
           "color": "white",
           "width": 1
          },
          "size": 8
         },
         "mode": "markers+text",
         "name": "Pivot LH",
         "showlegend": false,
         "text": [
          "LH"
         ],
         "textfont": {
          "color": "white",
          "size": 8
         },
         "textposition": "top center",
         "type": "scatter",
         "x": [
          "2024-01-06T00:00:00"
         ],
         "y": [
          10.41
         ]
        },
        {
         "hovertemplate": "Pivot: LL<br>Price: %{y:.2f}<br>Time: %{x}<extra></extra>",
         "marker": {
          "color": "red",
          "line": {
           "color": "white",
           "width": 1
          },
          "size": 8
         },
         "mode": "markers+text",
         "name": "Pivot LL",
         "showlegend": false,
         "text": [
          "LL"
         ],
         "textfont": {
          "color": "white",
          "size": 8
         },
         "textposition": "top center",
         "type": "scatter",
         "x": [
          "2024-01-06T06:00:00"
         ],
         "y": [
          9.519
         ]
        },
        {
         "hovertemplate": "Pivot: LH<br>Price: %{y:.2f}<br>Time: %{x}<extra></extra>",
         "marker": {
          "color": "salmon",
          "line": {
           "color": "white",
           "width": 1
          },
          "size": 8
         },
         "mode": "markers+text",
         "name": "Pivot LH",
         "showlegend": false,
         "text": [
          "LH"
         ],
         "textfont": {
          "color": "white",
          "size": 8
         },
         "textposition": "top center",
         "type": "scatter",
         "x": [
          "2024-01-06T17:00:00"
         ],
         "y": [
          10.055
         ]
        },
        {
         "hovertemplate": "Pivot: LL<br>Price: %{y:.2f}<br>Time: %{x}<extra></extra>",
         "marker": {
          "color": "red",
          "line": {
           "color": "white",
           "width": 1
          },
          "size": 8
         },
         "mode": "markers+text",
         "name": "Pivot LL",
         "showlegend": false,
         "text": [
          "LL"
         ],
         "textfont": {
          "color": "white",
          "size": 8
         },
         "textposition": "top center",
         "type": "scatter",
         "x": [
          "2024-01-08T03:00:00"
         ],
         "y": [
          8.88
         ]
        },
        {
         "hovertemplate": "Pivot: HH<br>Price: %{y:.2f}<br>Time: %{x}<extra></extra>",
         "marker": {
          "color": "lime",
          "line": {
           "color": "white",
           "width": 1
          },
          "size": 8
         },
         "mode": "markers+text",
         "name": "Pivot HH",
         "showlegend": false,
         "text": [
          "HH"
         ],
         "textfont": {
          "color": "white",
          "size": 8
         },
         "textposition": "top center",
         "type": "scatter",
         "x": [
          "2024-01-09T04:00:00"
         ],
         "y": [
          10.07
         ]
        },
        {
         "hovertemplate": "Pivot: HL<br>Price: %{y:.2f}<br>Time: %{x}<extra></extra>",
         "marker": {
          "color": "lightgreen",
          "line": {
           "color": "white",
           "width": 1
          },
          "size": 8
         },
         "mode": "markers+text",
         "name": "Pivot HL",
         "showlegend": false,
         "text": [
          "HL"
         ],
         "textfont": {
          "color": "white",
          "size": 8
         },
         "textposition": "top center",
         "type": "scatter",
         "x": [
          "2024-01-09T15:00:00"
         ],
         "y": [
          9.551
         ]
        },
        {
         "hovertemplate": "Pivot: LH<br>Price: %{y:.2f}<br>Time: %{x}<extra></extra>",
         "marker": {
          "color": "salmon",
          "line": {
           "color": "white",
           "width": 1
          },
          "size": 8
         },
         "mode": "markers+text",
         "name": "Pivot LH",
         "showlegend": false,
         "text": [
          "LH"
         ],
         "textfont": {
          "color": "white",
          "size": 8
         },
         "textposition": "top center",
         "type": "scatter",
         "x": [
          "2024-01-09T16:00:00"
         ],
         "y": [
          9.833
         ]
        },
        {
         "hovertemplate": "Pivot: LL<br>Price: %{y:.2f}<br>Time: %{x}<extra></extra>",
         "marker": {
          "color": "red",
          "line": {
           "color": "white",
           "width": 1
          },
          "size": 8
         },
         "mode": "markers+text",
         "name": "Pivot LL",
         "showlegend": false,
         "text": [
          "LL"
         ],
         "textfont": {
          "color": "white",
          "size": 8
         },
         "textposition": "top center",
         "type": "scatter",
         "x": [
          "2024-01-09T20:00:00"
         ],
         "y": [
          9.37
         ]
        },
        {
         "hovertemplate": "Pivot: HH<br>Price: %{y:.2f}<br>Time: %{x}<extra></extra>",
         "marker": {
          "color": "lime",
          "line": {
           "color": "white",
           "width": 1
          },
          "size": 8
         },
         "mode": "markers+text",
         "name": "Pivot HH",
         "showlegend": false,
         "text": [
          "HH"
         ],
         "textfont": {
          "color": "white",
          "size": 8
         },
         "textposition": "top center",
         "type": "scatter",
         "x": [
          "2024-01-10T09:00:00"
         ],
         "y": [
          9.862
         ]
        },
        {
         "hovertemplate": "Pivot: LL<br>Price: %{y:.2f}<br>Time: %{x}<extra></extra>",
         "marker": {
          "color": "red",
          "line": {
           "color": "white",
           "width": 1
          },
          "size": 8
         },
         "mode": "markers+text",
         "name": "Pivot LL",
         "showlegend": false,
         "text": [
          "LL"
         ],
         "textfont": {
          "color": "white",
          "size": 8
         },
         "textposition": "top center",
         "type": "scatter",
         "x": [
          "2024-01-10T12:00:00"
         ],
         "y": [
          9.341
         ]
        },
        {
         "hovertemplate": "Pivot: HH<br>Price: %{y:.2f}<br>Time: %{x}<extra></extra>",
         "marker": {
          "color": "lime",
          "line": {
           "color": "white",
           "width": 1
          },
          "size": 8
         },
         "mode": "markers+text",
         "name": "Pivot HH",
         "showlegend": false,
         "text": [
          "HH"
         ],
         "textfont": {
          "color": "white",
          "size": 8
         },
         "textposition": "top center",
         "type": "scatter",
         "x": [
          "2024-01-10T22:00:00"
         ],
         "y": [
          10.644
         ]
        },
        {
         "hovertemplate": "Pivot: HL<br>Price: %{y:.2f}<br>Time: %{x}<extra></extra>",
         "marker": {
          "color": "lightgreen",
          "line": {
           "color": "white",
           "width": 1
          },
          "size": 8
         },
         "mode": "markers+text",
         "name": "Pivot HL",
         "showlegend": false,
         "text": [
          "HL"
         ],
         "textfont": {
          "color": "white",
          "size": 8
         },
         "textposition": "top center",
         "type": "scatter",
         "x": [
          "2024-01-11T00:00:00"
         ],
         "y": [
          10.264
         ]
        },
        {
         "hovertemplate": "Pivot: LH<br>Price: %{y:.2f}<br>Time: %{x}<extra></extra>",
         "marker": {
          "color": "salmon",
          "line": {
           "color": "white",
           "width": 1
          },
          "size": 8
         },
         "mode": "markers+text",
         "name": "Pivot LH",
         "showlegend": false,
         "text": [
          "LH"
         ],
         "textfont": {
          "color": "white",
          "size": 8
         },
         "textposition": "top center",
         "type": "scatter",
         "x": [
          "2024-01-11T04:00:00"
         ],
         "y": [
          10.58
         ]
        },
        {
         "hovertemplate": "Pivot: LL<br>Price: %{y:.2f}<br>Time: %{x}<extra></extra>",
         "marker": {
          "color": "red",
          "line": {
           "color": "white",
           "width": 1
          },
          "size": 8
         },
         "mode": "markers+text",
         "name": "Pivot LL",
         "showlegend": false,
         "text": [
          "LL"
         ],
         "textfont": {
          "color": "white",
          "size": 8
         },
         "textposition": "top center",
         "type": "scatter",
         "x": [
          "2024-01-11T06:00:00"
         ],
         "y": [
          10.207
         ]
        },
        {
         "hovertemplate": "Pivot: HH<br>Price: %{y:.2f}<br>Time: %{x}<extra></extra>",
         "marker": {
          "color": "lime",
          "line": {
           "color": "white",
           "width": 1
          },
          "size": 8
         },
         "mode": "markers+text",
         "name": "Pivot HH",
         "showlegend": false,
         "text": [
          "HH"
         ],
         "textfont": {
          "color": "white",
          "size": 8
         },
         "textposition": "top center",
         "type": "scatter",
         "x": [
          "2024-01-11T14:00:00"
         ],
         "y": [
          10.899
         ]
        },
        {
         "hovertemplate": "Pivot: HL<br>Price: %{y:.2f}<br>Time: %{x}<extra></extra>",
         "marker": {
          "color": "lightgreen",
          "line": {
           "color": "white",
           "width": 1
          },
          "size": 8
         },
         "mode": "markers+text",
         "name": "Pivot HL",
         "showlegend": false,
         "text": [
          "HL"
         ],
         "textfont": {
          "color": "white",
          "size": 8
         },
         "textposition": "top center",
         "type": "scatter",
         "x": [
          "2024-01-11T16:00:00"
         ],
         "y": [
          10.362
         ]
        },
        {
         "hovertemplate": "Pivot: HH<br>Price: %{y:.2f}<br>Time: %{x}<extra></extra>",
         "marker": {
          "color": "lime",
          "line": {
           "color": "white",
           "width": 1
          },
          "size": 8
         },
         "mode": "markers+text",
         "name": "Pivot HH",
         "showlegend": false,
         "text": [
          "HH"
         ],
         "textfont": {
          "color": "white",
          "size": 8
         },
         "textposition": "top center",
         "type": "scatter",
         "x": [
          "2024-01-12T06:00:00"
         ],
         "y": [
          10.947
         ]
        },
        {
         "hovertemplate": "Pivot: HL<br>Price: %{y:.2f}<br>Time: %{x}<extra></extra>",
         "marker": {
          "color": "lightgreen",
          "line": {
           "color": "white",
           "width": 1
          },
          "size": 8
         },
         "mode": "markers+text",
         "name": "Pivot HL",
         "showlegend": false,
         "text": [
          "HL"
         ],
         "textfont": {
          "color": "white",
          "size": 8
         },
         "textposition": "top center",
         "type": "scatter",
         "x": [
          "2024-01-12T10:00:00"
         ],
         "y": [
          10.432
         ]
        },
        {
         "hovertemplate": "Pivot: LH<br>Price: %{y:.2f}<br>Time: %{x}<extra></extra>",
         "marker": {
          "color": "salmon",
          "line": {
           "color": "white",
           "width": 1
          },
          "size": 8
         },
         "mode": "markers+text",
         "name": "Pivot LH",
         "showlegend": false,
         "text": [
          "LH"
         ],
         "textfont": {
          "color": "white",
          "size": 8
         },
         "textposition": "top center",
         "type": "scatter",
         "x": [
          "2024-01-12T14:00:00"
         ],
         "y": [
          10.741
         ]
        },
        {
         "hovertemplate": "Pivot: LL<br>Price: %{y:.2f}<br>Time: %{x}<extra></extra>",
         "marker": {
          "color": "red",
          "line": {
           "color": "white",
           "width": 1
          },
          "size": 8
         },
         "mode": "markers+text",
         "name": "Pivot LL",
         "showlegend": false,
         "text": [
          "LL"
         ],
         "textfont": {
          "color": "white",
          "size": 8
         },
         "textposition": "top center",
         "type": "scatter",
         "x": [
          "2024-01-12T17:00:00"
         ],
         "y": [
          10
         ]
        }
       ],
       "layout": {
        "height": 800,
        "showlegend": false,
        "template": {
         "data": {
          "bar": [
           {
            "error_x": {
             "color": "#f2f5fa"
            },
            "error_y": {
             "color": "#f2f5fa"
            },
            "marker": {
             "line": {
              "color": "rgb(17,17,17)",
              "width": 0.5
             },
             "pattern": {
              "fillmode": "overlay",
              "size": 10,
              "solidity": 0.2
             }
            },
            "type": "bar"
           }
          ],
          "barpolar": [
           {
            "marker": {
             "line": {
              "color": "rgb(17,17,17)",
              "width": 0.5
             },
             "pattern": {
              "fillmode": "overlay",
              "size": 10,
              "solidity": 0.2
             }
            },
            "type": "barpolar"
           }
          ],
          "carpet": [
           {
            "aaxis": {
             "endlinecolor": "#A2B1C6",
             "gridcolor": "#506784",
             "linecolor": "#506784",
             "minorgridcolor": "#506784",
             "startlinecolor": "#A2B1C6"
            },
            "baxis": {
             "endlinecolor": "#A2B1C6",
             "gridcolor": "#506784",
             "linecolor": "#506784",
             "minorgridcolor": "#506784",
             "startlinecolor": "#A2B1C6"
            },
            "type": "carpet"
           }
          ],
          "choropleth": [
           {
            "colorbar": {
             "outlinewidth": 0,
             "ticks": ""
            },
            "type": "choropleth"
           }
          ],
          "contour": [
           {
            "colorbar": {
             "outlinewidth": 0,
             "ticks": ""
            },
            "colorscale": [
             [
              0,
              "#0d0887"
             ],
             [
              0.1111111111111111,
              "#46039f"
             ],
             [
              0.2222222222222222,
              "#7201a8"
             ],
             [
              0.3333333333333333,
              "#9c179e"
             ],
             [
              0.4444444444444444,
              "#bd3786"
             ],
             [
              0.5555555555555556,
              "#d8576b"
             ],
             [
              0.6666666666666666,
              "#ed7953"
             ],
             [
              0.7777777777777778,
              "#fb9f3a"
             ],
             [
              0.8888888888888888,
              "#fdca26"
             ],
             [
              1,
              "#f0f921"
             ]
            ],
            "type": "contour"
           }
          ],
          "contourcarpet": [
           {
            "colorbar": {
             "outlinewidth": 0,
             "ticks": ""
            },
            "type": "contourcarpet"
           }
          ],
          "heatmap": [
           {
            "colorbar": {
             "outlinewidth": 0,
             "ticks": ""
            },
            "colorscale": [
             [
              0,
              "#0d0887"
             ],
             [
              0.1111111111111111,
              "#46039f"
             ],
             [
              0.2222222222222222,
              "#7201a8"
             ],
             [
              0.3333333333333333,
              "#9c179e"
             ],
             [
              0.4444444444444444,
              "#bd3786"
             ],
             [
              0.5555555555555556,
              "#d8576b"
             ],
             [
              0.6666666666666666,
              "#ed7953"
             ],
             [
              0.7777777777777778,
              "#fb9f3a"
             ],
             [
              0.8888888888888888,
              "#fdca26"
             ],
             [
              1,
              "#f0f921"
             ]
            ],
            "type": "heatmap"
           }
          ],
          "histogram": [
           {
            "marker": {
             "pattern": {
              "fillmode": "overlay",
              "size": 10,
              "solidity": 0.2
             }
            },
            "type": "histogram"
           }
          ],
          "histogram2d": [
           {
            "colorbar": {
             "outlinewidth": 0,
             "ticks": ""
            },
            "colorscale": [
             [
              0,
              "#0d0887"
             ],
             [
              0.1111111111111111,
              "#46039f"
             ],
             [
              0.2222222222222222,
              "#7201a8"
             ],
             [
              0.3333333333333333,
              "#9c179e"
             ],
             [
              0.4444444444444444,
              "#bd3786"
             ],
             [
              0.5555555555555556,
              "#d8576b"
             ],
             [
              0.6666666666666666,
              "#ed7953"
             ],
             [
              0.7777777777777778,
              "#fb9f3a"
             ],
             [
              0.8888888888888888,
              "#fdca26"
             ],
             [
              1,
              "#f0f921"
             ]
            ],
            "type": "histogram2d"
           }
          ],
          "histogram2dcontour": [
           {
            "colorbar": {
             "outlinewidth": 0,
             "ticks": ""
            },
            "colorscale": [
             [
              0,
              "#0d0887"
             ],
             [
              0.1111111111111111,
              "#46039f"
             ],
             [
              0.2222222222222222,
              "#7201a8"
             ],
             [
              0.3333333333333333,
              "#9c179e"
             ],
             [
              0.4444444444444444,
              "#bd3786"
             ],
             [
              0.5555555555555556,
              "#d8576b"
             ],
             [
              0.6666666666666666,
              "#ed7953"
             ],
             [
              0.7777777777777778,
              "#fb9f3a"
             ],
             [
              0.8888888888888888,
              "#fdca26"
             ],
             [
              1,
              "#f0f921"
             ]
            ],
            "type": "histogram2dcontour"
           }
          ],
          "mesh3d": [
           {
            "colorbar": {
             "outlinewidth": 0,
             "ticks": ""
            },
            "type": "mesh3d"
           }
          ],
          "parcoords": [
           {
            "line": {
             "colorbar": {
              "outlinewidth": 0,
              "ticks": ""
             }
            },
            "type": "parcoords"
           }
          ],
          "pie": [
           {
            "automargin": true,
            "type": "pie"
           }
          ],
          "scatter": [
           {
            "marker": {
             "line": {
              "color": "#283442"
             }
            },
            "type": "scatter"
           }
          ],
          "scatter3d": [
           {
            "line": {
             "colorbar": {
              "outlinewidth": 0,
              "ticks": ""
             }
            },
            "marker": {
             "colorbar": {
              "outlinewidth": 0,
              "ticks": ""
             }
            },
            "type": "scatter3d"
           }
          ],
          "scattercarpet": [
           {
            "marker": {
             "colorbar": {
              "outlinewidth": 0,
              "ticks": ""
             }
            },
            "type": "scattercarpet"
           }
          ],
          "scattergeo": [
           {
            "marker": {
             "colorbar": {
              "outlinewidth": 0,
              "ticks": ""
             }
            },
            "type": "scattergeo"
           }
          ],
          "scattergl": [
           {
            "marker": {
             "line": {
              "color": "#283442"
             }
            },
            "type": "scattergl"
           }
          ],
          "scattermap": [
           {
            "marker": {
             "colorbar": {
              "outlinewidth": 0,
              "ticks": ""
             }
            },
            "type": "scattermap"
           }
          ],
          "scattermapbox": [
           {
            "marker": {
             "colorbar": {
              "outlinewidth": 0,
              "ticks": ""
             }
            },
            "type": "scattermapbox"
           }
          ],
          "scatterpolar": [
           {
            "marker": {
             "colorbar": {
              "outlinewidth": 0,
              "ticks": ""
             }
            },
            "type": "scatterpolar"
           }
          ],
          "scatterpolargl": [
           {
            "marker": {
             "colorbar": {
              "outlinewidth": 0,
              "ticks": ""
             }
            },
            "type": "scatterpolargl"
           }
          ],
          "scatterternary": [
           {
            "marker": {
             "colorbar": {
              "outlinewidth": 0,
              "ticks": ""
             }
            },
            "type": "scatterternary"
           }
          ],
          "surface": [
           {
            "colorbar": {
             "outlinewidth": 0,
             "ticks": ""
            },
            "colorscale": [
             [
              0,
              "#0d0887"
             ],
             [
              0.1111111111111111,
              "#46039f"
             ],
             [
              0.2222222222222222,
              "#7201a8"
             ],
             [
              0.3333333333333333,
              "#9c179e"
             ],
             [
              0.4444444444444444,
              "#bd3786"
             ],
             [
              0.5555555555555556,
              "#d8576b"
             ],
             [
              0.6666666666666666,
              "#ed7953"
             ],
             [
              0.7777777777777778,
              "#fb9f3a"
             ],
             [
              0.8888888888888888,
              "#fdca26"
             ],
             [
              1,
              "#f0f921"
             ]
            ],
            "type": "surface"
           }
          ],
          "table": [
           {
            "cells": {
             "fill": {
              "color": "#506784"
             },
             "line": {
              "color": "rgb(17,17,17)"
             }
            },
            "header": {
             "fill": {
              "color": "#2a3f5f"
             },
             "line": {
              "color": "rgb(17,17,17)"
             }
            },
            "type": "table"
           }
          ]
         },
         "layout": {
          "annotationdefaults": {
           "arrowcolor": "#f2f5fa",
           "arrowhead": 0,
           "arrowwidth": 1
          },
          "autotypenumbers": "strict",
          "coloraxis": {
           "colorbar": {
            "outlinewidth": 0,
            "ticks": ""
           }
          },
          "colorscale": {
           "diverging": [
            [
             0,
             "#8e0152"
            ],
            [
             0.1,
             "#c51b7d"
            ],
            [
             0.2,
             "#de77ae"
            ],
            [
             0.3,
             "#f1b6da"
            ],
            [
             0.4,
             "#fde0ef"
            ],
            [
             0.5,
             "#f7f7f7"
            ],
            [
             0.6,
             "#e6f5d0"
            ],
            [
             0.7,
             "#b8e186"
            ],
            [
             0.8,
             "#7fbc41"
            ],
            [
             0.9,
             "#4d9221"
            ],
            [
             1,
             "#276419"
            ]
           ],
           "sequential": [
            [
             0,
             "#0d0887"
            ],
            [
             0.1111111111111111,
             "#46039f"
            ],
            [
             0.2222222222222222,
             "#7201a8"
            ],
            [
             0.3333333333333333,
             "#9c179e"
            ],
            [
             0.4444444444444444,
             "#bd3786"
            ],
            [
             0.5555555555555556,
             "#d8576b"
            ],
            [
             0.6666666666666666,
             "#ed7953"
            ],
            [
             0.7777777777777778,
             "#fb9f3a"
            ],
            [
             0.8888888888888888,
             "#fdca26"
            ],
            [
             1,
             "#f0f921"
            ]
           ],
           "sequentialminus": [
            [
             0,
             "#0d0887"
            ],
            [
             0.1111111111111111,
             "#46039f"
            ],
            [
             0.2222222222222222,
             "#7201a8"
            ],
            [
             0.3333333333333333,
             "#9c179e"
            ],
            [
             0.4444444444444444,
             "#bd3786"
            ],
            [
             0.5555555555555556,
             "#d8576b"
            ],
            [
             0.6666666666666666,
             "#ed7953"
            ],
            [
             0.7777777777777778,
             "#fb9f3a"
            ],
            [
             0.8888888888888888,
             "#fdca26"
            ],
            [
             1,
             "#f0f921"
            ]
           ]
          },
          "colorway": [
           "#636efa",
           "#EF553B",
           "#00cc96",
           "#ab63fa",
           "#FFA15A",
           "#19d3f3",
           "#FF6692",
           "#B6E880",
           "#FF97FF",
           "#FECB52"
          ],
          "font": {
           "color": "#f2f5fa"
          },
          "geo": {
           "bgcolor": "rgb(17,17,17)",
           "lakecolor": "rgb(17,17,17)",
           "landcolor": "rgb(17,17,17)",
           "showlakes": true,
           "showland": true,
           "subunitcolor": "#506784"
          },
          "hoverlabel": {
           "align": "left"
          },
          "hovermode": "closest",
          "mapbox": {
           "style": "dark"
          },
          "paper_bgcolor": "rgb(17,17,17)",
          "plot_bgcolor": "rgb(17,17,17)",
          "polar": {
           "angularaxis": {
            "gridcolor": "#506784",
            "linecolor": "#506784",
            "ticks": ""
           },
           "bgcolor": "rgb(17,17,17)",
           "radialaxis": {
            "gridcolor": "#506784",
            "linecolor": "#506784",
            "ticks": ""
           }
          },
          "scene": {
           "xaxis": {
            "backgroundcolor": "rgb(17,17,17)",
            "gridcolor": "#506784",
            "gridwidth": 2,
            "linecolor": "#506784",
            "showbackground": true,
            "ticks": "",
            "zerolinecolor": "#C8D4E3"
           },
           "yaxis": {
            "backgroundcolor": "rgb(17,17,17)",
            "gridcolor": "#506784",
            "gridwidth": 2,
            "linecolor": "#506784",
            "showbackground": true,
            "ticks": "",
            "zerolinecolor": "#C8D4E3"
           },
           "zaxis": {
            "backgroundcolor": "rgb(17,17,17)",
            "gridcolor": "#506784",
            "gridwidth": 2,
            "linecolor": "#506784",
            "showbackground": true,
            "ticks": "",
            "zerolinecolor": "#C8D4E3"
           }
          },
          "shapedefaults": {
           "line": {
            "color": "#f2f5fa"
           }
          },
          "sliderdefaults": {
           "bgcolor": "#C8D4E3",
           "bordercolor": "rgb(17,17,17)",
           "borderwidth": 1,
           "tickwidth": 0
          },
          "ternary": {
           "aaxis": {
            "gridcolor": "#506784",
            "linecolor": "#506784",
            "ticks": ""
           },
           "baxis": {
            "gridcolor": "#506784",
            "linecolor": "#506784",
            "ticks": ""
           },
           "bgcolor": "rgb(17,17,17)",
           "caxis": {
            "gridcolor": "#506784",
            "linecolor": "#506784",
            "ticks": ""
           }
          },
          "title": {
           "x": 0.05
          },
          "updatemenudefaults": {
           "bgcolor": "#506784",
           "borderwidth": 0
          },
          "xaxis": {
           "automargin": true,
           "gridcolor": "#283442",
           "linecolor": "#506784",
           "ticks": "",
           "title": {
            "standoff": 15
           },
           "zerolinecolor": "#283442",
           "zerolinewidth": 2
          },
          "yaxis": {
           "automargin": true,
           "gridcolor": "#283442",
           "linecolor": "#506784",
           "ticks": "",
           "title": {
            "standoff": 15
           },
           "zerolinecolor": "#283442",
           "zerolinewidth": 2
          }
         }
        },
        "title": {
         "text": "ATOMUSDT - 1h - Cached Levels Visualizer (250 candles)"
        },
        "xaxis": {
         "fixedrange": false,
         "rangeslider": {
          "visible": false
         },
         "title": {
          "text": "Time"
         }
        },
        "yaxis": {
         "fixedrange": false,
         "title": {
          "text": "Price"
         },
         "type": "log"
        }
       }
      }
     },
     "metadata": {},
     "output_type": "display_data"
    },
    {
     "name": "stdout",
     "output_type": "stream",
     "text": [
      "\n",
      "🔍 Visualizing 15m timeframe levels...\n"
     ]
    },
    {
     "data": {
      "application/vnd.plotly.v1+json": {
       "config": {
        "plotlyServerURL": "https://plot.ly"
       },
       "data": [
        {
         "close": {
          "bdata": "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",
          "dtype": "f8"
         },
         "high": {
          "bdata": "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",
          "dtype": "f8"
         },
         "low": {
          "bdata": "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",
          "dtype": "f8"
         },
         "name": "Candlestick",
         "open": {
          "bdata": "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",
          "dtype": "f8"
         },
         "showlegend": false,
         "type": "candlestick",
         "x": [
          "2024-01-10T03:15:00",
          "2024-01-10T03:30:00",
          "2024-01-10T03:45:00",
          "2024-01-10T04:00:00",
          "2024-01-10T04:15:00",
          "2024-01-10T04:30:00",
          "2024-01-10T04:45:00",
          "2024-01-10T05:00:00",
          "2024-01-10T05:15:00",
          "2024-01-10T05:30:00",
          "2024-01-10T05:45:00",
          "2024-01-10T06:00:00",
          "2024-01-10T06:15:00",
          "2024-01-10T06:30:00",
          "2024-01-10T06:45:00",
          "2024-01-10T07:00:00",
          "2024-01-10T07:15:00",
          "2024-01-10T07:30:00",
          "2024-01-10T07:45:00",
          "2024-01-10T08:00:00",
          "2024-01-10T08:15:00",
          "2024-01-10T08:30:00",
          "2024-01-10T08:45:00",
          "2024-01-10T09:00:00",
          "2024-01-10T09:15:00",
          "2024-01-10T09:30:00",
          "2024-01-10T09:45:00",
          "2024-01-10T10:00:00",
          "2024-01-10T10:15:00",
          "2024-01-10T10:30:00",
          "2024-01-10T10:45:00",
          "2024-01-10T11:00:00",
          "2024-01-10T11:15:00",
          "2024-01-10T11:30:00",
          "2024-01-10T11:45:00",
          "2024-01-10T12:00:00",
          "2024-01-10T12:15:00",
          "2024-01-10T12:30:00",
          "2024-01-10T12:45:00",
          "2024-01-10T13:00:00",
          "2024-01-10T13:15:00",
          "2024-01-10T13:30:00",
          "2024-01-10T13:45:00",
          "2024-01-10T14:00:00",
          "2024-01-10T14:15:00",
          "2024-01-10T14:30:00",
          "2024-01-10T14:45:00",
          "2024-01-10T15:00:00",
          "2024-01-10T15:15:00",
          "2024-01-10T15:30:00",
          "2024-01-10T15:45:00",
          "2024-01-10T16:00:00",
          "2024-01-10T16:15:00",
          "2024-01-10T16:30:00",
          "2024-01-10T16:45:00",
          "2024-01-10T17:00:00",
          "2024-01-10T17:15:00",
          "2024-01-10T17:30:00",
          "2024-01-10T17:45:00",
          "2024-01-10T18:00:00",
          "2024-01-10T18:15:00",
          "2024-01-10T18:30:00",
          "2024-01-10T18:45:00",
          "2024-01-10T19:00:00",
          "2024-01-10T19:15:00",
          "2024-01-10T19:30:00",
          "2024-01-10T19:45:00",
          "2024-01-10T20:00:00",
          "2024-01-10T20:15:00",
          "2024-01-10T20:30:00",
          "2024-01-10T20:45:00",
          "2024-01-10T21:00:00",
          "2024-01-10T21:15:00",
          "2024-01-10T21:30:00",
          "2024-01-10T21:45:00",
          "2024-01-10T22:00:00",
          "2024-01-10T22:15:00",
          "2024-01-10T22:30:00",
          "2024-01-10T22:45:00",
          "2024-01-10T23:00:00",
          "2024-01-10T23:15:00",
          "2024-01-10T23:30:00",
          "2024-01-10T23:45:00",
          "2024-01-11T00:00:00",
          "2024-01-11T00:15:00",
          "2024-01-11T00:30:00",
          "2024-01-11T00:45:00",
          "2024-01-11T01:00:00",
          "2024-01-11T01:15:00",
          "2024-01-11T01:30:00",
          "2024-01-11T01:45:00",
          "2024-01-11T02:00:00",
          "2024-01-11T02:15:00",
          "2024-01-11T02:30:00",
          "2024-01-11T02:45:00",
          "2024-01-11T03:00:00",
          "2024-01-11T03:15:00",
          "2024-01-11T03:30:00",
          "2024-01-11T03:45:00",
          "2024-01-11T04:00:00",
          "2024-01-11T04:15:00",
          "2024-01-11T04:30:00",
          "2024-01-11T04:45:00",
          "2024-01-11T05:00:00",
          "2024-01-11T05:15:00",
          "2024-01-11T05:30:00",
          "2024-01-11T05:45:00",
          "2024-01-11T06:00:00",
          "2024-01-11T06:15:00",
          "2024-01-11T06:30:00",
          "2024-01-11T06:45:00",
          "2024-01-11T07:00:00",
          "2024-01-11T07:15:00",
          "2024-01-11T07:30:00",
          "2024-01-11T07:45:00",
          "2024-01-11T08:00:00",
          "2024-01-11T08:15:00",
          "2024-01-11T08:30:00",
          "2024-01-11T08:45:00",
          "2024-01-11T09:00:00",
          "2024-01-11T09:15:00",
          "2024-01-11T09:30:00",
          "2024-01-11T09:45:00",
          "2024-01-11T10:00:00",
          "2024-01-11T10:15:00",
          "2024-01-11T10:30:00",
          "2024-01-11T10:45:00",
          "2024-01-11T11:00:00",
          "2024-01-11T11:15:00",
          "2024-01-11T11:30:00",
          "2024-01-11T11:45:00",
          "2024-01-11T12:00:00",
          "2024-01-11T12:15:00",
          "2024-01-11T12:30:00",
          "2024-01-11T12:45:00",
          "2024-01-11T13:00:00",
          "2024-01-11T13:15:00",
          "2024-01-11T13:30:00",
          "2024-01-11T13:45:00",
          "2024-01-11T14:00:00",
          "2024-01-11T14:15:00",
          "2024-01-11T14:30:00",
          "2024-01-11T14:45:00",
          "2024-01-11T15:00:00",
          "2024-01-11T15:15:00",
          "2024-01-11T15:30:00",
          "2024-01-11T15:45:00",
          "2024-01-11T16:00:00",
          "2024-01-11T16:15:00",
          "2024-01-11T16:30:00",
          "2024-01-11T16:45:00",
          "2024-01-11T17:00:00",
          "2024-01-11T17:15:00",
          "2024-01-11T17:30:00",
          "2024-01-11T17:45:00",
          "2024-01-11T18:00:00",
          "2024-01-11T18:15:00",
          "2024-01-11T18:30:00",
          "2024-01-11T18:45:00",
          "2024-01-11T19:00:00",
          "2024-01-11T19:15:00",
          "2024-01-11T19:30:00",
          "2024-01-11T19:45:00",
          "2024-01-11T20:00:00",
          "2024-01-11T20:15:00",
          "2024-01-11T20:30:00",
          "2024-01-11T20:45:00",
          "2024-01-11T21:00:00",
          "2024-01-11T21:15:00",
          "2024-01-11T21:30:00",
          "2024-01-11T21:45:00",
          "2024-01-11T22:00:00",
          "2024-01-11T22:15:00",
          "2024-01-11T22:30:00",
          "2024-01-11T22:45:00",
          "2024-01-11T23:00:00",
          "2024-01-11T23:15:00",
          "2024-01-11T23:30:00",
          "2024-01-11T23:45:00",
          "2024-01-12T00:00:00",
          "2024-01-12T00:15:00",
          "2024-01-12T00:30:00",
          "2024-01-12T00:45:00",
          "2024-01-12T01:00:00",
          "2024-01-12T01:15:00",
          "2024-01-12T01:30:00",
          "2024-01-12T01:45:00",
          "2024-01-12T02:00:00",
          "2024-01-12T02:15:00",
          "2024-01-12T02:30:00",
          "2024-01-12T02:45:00",
          "2024-01-12T03:00:00",
          "2024-01-12T03:15:00",
          "2024-01-12T03:30:00",
          "2024-01-12T03:45:00",
          "2024-01-12T04:00:00",
          "2024-01-12T04:15:00",
          "2024-01-12T04:30:00",
          "2024-01-12T04:45:00",
          "2024-01-12T05:00:00",
          "2024-01-12T05:15:00",
          "2024-01-12T05:30:00",
          "2024-01-12T05:45:00",
          "2024-01-12T06:00:00",
          "2024-01-12T06:15:00",
          "2024-01-12T06:30:00",
          "2024-01-12T06:45:00",
          "2024-01-12T07:00:00",
          "2024-01-12T07:15:00",
          "2024-01-12T07:30:00",
          "2024-01-12T07:45:00",
          "2024-01-12T08:00:00",
          "2024-01-12T08:15:00",
          "2024-01-12T08:30:00",
          "2024-01-12T08:45:00",
          "2024-01-12T09:00:00",
          "2024-01-12T09:15:00",
          "2024-01-12T09:30:00",
          "2024-01-12T09:45:00",
          "2024-01-12T10:00:00",
          "2024-01-12T10:15:00",
          "2024-01-12T10:30:00",
          "2024-01-12T10:45:00",
          "2024-01-12T11:00:00",
          "2024-01-12T11:15:00",
          "2024-01-12T11:30:00",
          "2024-01-12T11:45:00",
          "2024-01-12T12:00:00",
          "2024-01-12T12:15:00",
          "2024-01-12T12:30:00",
          "2024-01-12T12:45:00",
          "2024-01-12T13:00:00",
          "2024-01-12T13:15:00",
          "2024-01-12T13:30:00",
          "2024-01-12T13:45:00",
          "2024-01-12T14:00:00",
          "2024-01-12T14:15:00",
          "2024-01-12T14:30:00",
          "2024-01-12T14:45:00",
          "2024-01-12T15:00:00",
          "2024-01-12T15:15:00",
          "2024-01-12T15:30:00",
          "2024-01-12T15:45:00",
          "2024-01-12T16:00:00",
          "2024-01-12T16:15:00",
          "2024-01-12T16:30:00",
          "2024-01-12T16:45:00",
          "2024-01-12T17:00:00",
          "2024-01-12T17:15:00",
          "2024-01-12T17:30:00"
         ]
        },
        {
         "hovertemplate": "vah_line<br>%{y:.2f}<extra></extra>",
         "line": {
          "color": "green",
          "dash": "dash",
          "width": 1
         },
         "mode": "lines",
         "name": "vah_line (s=173231)",
         "showlegend": false,
         "type": "scatter",
         "x": [
          "2024-01-12T00:00:00",
          "2024-01-12T17:30:00"
         ],
         "y": [
          10.73847,
          10.73847
         ]
        },
        {
         "hovertemplate": "val_line<br>%{y:.2f}<extra></extra>",
         "line": {
          "color": "red",
          "dash": "dash",
          "width": 1
         },
         "mode": "lines",
         "name": "val_line (s=87510)",
         "showlegend": false,
         "type": "scatter",
         "x": [
          "2024-01-12T00:00:00",
          "2024-01-12T17:30:00"
         ],
         "y": [
          10.3499,
          10.3499
         ]
        },
        {
         "hovertemplate": "vah_line<br>%{y:.2f}<extra></extra>",
         "line": {
          "color": "green",
          "dash": "dash",
          "width": 1
         },
         "mode": "lines",
         "name": "vah_line (s=103882)",
         "showlegend": false,
         "type": "scatter",
         "x": [
          "2024-01-11T00:00:00",
          "2024-01-11T23:45:00"
         ],
         "y": [
          10.795470000000027,
          10.795470000000027
         ]
        },
        {
         "hovertemplate": "val_line<br>%{y:.2f}<extra></extra>",
         "line": {
          "color": "red",
          "dash": "dash",
          "width": 1
         },
         "mode": "lines",
         "name": "val_line (s=43066)",
         "showlegend": false,
         "type": "scatter",
         "x": [
          "2024-01-11T00:00:00",
          "2024-01-11T23:45:00"
         ],
         "y": [
          10.429440000000007,
          10.429440000000007
         ]
        },
        {
         "hovertemplate": "vah_line<br>%{y:.2f}<extra></extra>",
         "line": {
          "color": "green",
          "dash": "dash",
          "width": 1
         },
         "mode": "lines",
         "name": "vah_line (s=57946)",
         "showlegend": false,
         "type": "scatter",
         "x": [
          "2024-01-10T00:00:00",
          "2024-01-10T23:45:00"
         ],
         "y": [
          10.583999999999996,
          10.583999999999996
         ]
        },
        {
         "hovertemplate": "val_line<br>%{y:.2f}<extra></extra>",
         "line": {
          "color": "red",
          "dash": "dash",
          "width": 1
         },
         "mode": "lines",
         "name": "val_line (s=43366)",
         "showlegend": false,
         "type": "scatter",
         "x": [
          "2024-01-10T00:00:00",
          "2024-01-10T23:45:00"
         ],
         "y": [
          9.713799999999999,
          9.713799999999999
         ]
        },
        {
         "hovertemplate": "vah_line<br>%{y:.2f}<extra></extra>",
         "line": {
          "color": "green",
          "dash": "dash",
          "width": 1
         },
         "mode": "lines",
         "name": "vah_line (s=116451)",
         "showlegend": false,
         "type": "scatter",
         "x": [
          "2024-01-09T00:00:00",
          "2024-01-09T23:45:00"
         ],
         "y": [
          9.857299999999961,
          9.857299999999961
         ]
        },
        {
         "hovertemplate": "val_line<br>%{y:.2f}<extra></extra>",
         "line": {
          "color": "red",
          "dash": "dash",
          "width": 1
         },
         "mode": "lines",
         "name": "val_line (s=312505)",
         "showlegend": false,
         "type": "scatter",
         "x": [
          "2024-01-09T00:00:00",
          "2024-01-09T23:45:00"
         ],
         "y": [
          9.539289999999989,
          9.539289999999989
         ]
        },
        {
         "hovertemplate": "vah_line<br>%{y:.2f}<extra></extra>",
         "line": {
          "color": "green",
          "dash": "dash",
          "width": 1
         },
         "mode": "lines",
         "name": "vah_line",
         "showlegend": false,
         "type": "scatter",
         "x": [
          "2024-01-08T00:00:00",
          "2024-01-08T23:45:00"
         ],
         "y": [
          9.992170000000046,
          9.992170000000046
         ]
        },
        {
         "hovertemplate": "val_line<br>%{y:.2f}<extra></extra>",
         "line": {
          "color": "red",
          "dash": "dash",
          "width": 1
         },
         "mode": "lines",
         "name": "val_line (s=148517)",
         "showlegend": false,
         "type": "scatter",
         "x": [
          "2024-01-08T00:00:00",
          "2024-01-08T23:45:00"
         ],
         "y": [
          9.249760000000013,
          9.249760000000013
         ]
        },
        {
         "hovertemplate": "poc_line<br>%{y:.2f}<extra></extra>",
         "line": {
          "color": "lightgray",
          "dash": "dash",
          "width": 1
         },
         "mode": "lines",
         "name": "poc_line (s=334062)",
         "showlegend": false,
         "type": "scatter",
         "x": [
          "2024-01-12T00:00:00",
          "2024-01-12T17:30:00"
         ],
         "y": [
          10.361795,
          10.361795
         ]
        },
        {
         "hovertemplate": "poc_line<br>%{y:.2f}<extra></extra>",
         "line": {
          "color": "lightgray",
          "dash": "dash",
          "width": 1
         },
         "mode": "lines",
         "name": "poc_line (s=337364)",
         "showlegend": false,
         "type": "scatter",
         "x": [
          "2024-01-11T00:00:00",
          "2024-01-12T10:15:00"
         ],
         "y": [
          10.438155000000007,
          10.438155000000007
         ]
        },
        {
         "hovertemplate": "poc_line<br>%{y:.2f}<extra></extra>",
         "line": {
          "color": "lightgray",
          "dash": "dash",
          "width": 1
         },
         "mode": "lines",
         "name": "poc_line (s=312505)",
         "showlegend": false,
         "type": "scatter",
         "x": [
          "2024-01-09T00:00:00",
          "2024-01-10T12:15:00"
         ],
         "y": [
          9.542534999999988,
          9.542534999999988
         ]
        },
        {
         "hovertemplate": "poc_line<br>%{y:.2f}<extra></extra>",
         "line": {
          "color": "lightgray",
          "dash": "dash",
          "width": 1
         },
         "mode": "lines",
         "name": "poc_line (s=275982)",
         "showlegend": false,
         "type": "scatter",
         "x": [
          "2024-01-08T00:00:00",
          "2024-01-09T15:00:00"
         ],
         "y": [
          9.559945000000027,
          9.559945000000027
         ]
        },
        {
         "hovertemplate": "naked_poc_line<br>%{y:.2f}<extra></extra>",
         "line": {
          "color": "white",
          "dash": "dash",
          "width": 2
         },
         "mode": "lines",
         "name": "naked_poc_line (s=282872)",
         "showlegend": false,
         "type": "scatter",
         "x": [
          "2024-01-10T00:00:00",
          "2024-01-12T17:30:00"
         ],
         "y": [
          9.788224999999999,
          9.788224999999999
         ]
        }
       ],
       "layout": {
        "height": 800,
        "showlegend": false,
        "template": {
         "data": {
          "bar": [
           {
            "error_x": {
             "color": "#f2f5fa"
            },
            "error_y": {
             "color": "#f2f5fa"
            },
            "marker": {
             "line": {
              "color": "rgb(17,17,17)",
              "width": 0.5
             },
             "pattern": {
              "fillmode": "overlay",
              "size": 10,
              "solidity": 0.2
             }
            },
            "type": "bar"
           }
          ],
          "barpolar": [
           {
            "marker": {
             "line": {
              "color": "rgb(17,17,17)",
              "width": 0.5
             },
             "pattern": {
              "fillmode": "overlay",
              "size": 10,
              "solidity": 0.2
             }
            },
            "type": "barpolar"
           }
          ],
          "carpet": [
           {
            "aaxis": {
             "endlinecolor": "#A2B1C6",
             "gridcolor": "#506784",
             "linecolor": "#506784",
             "minorgridcolor": "#506784",
             "startlinecolor": "#A2B1C6"
            },
            "baxis": {
             "endlinecolor": "#A2B1C6",
             "gridcolor": "#506784",
             "linecolor": "#506784",
             "minorgridcolor": "#506784",
             "startlinecolor": "#A2B1C6"
            },
            "type": "carpet"
           }
          ],
          "choropleth": [
           {
            "colorbar": {
             "outlinewidth": 0,
             "ticks": ""
            },
            "type": "choropleth"
           }
          ],
          "contour": [
           {
            "colorbar": {
             "outlinewidth": 0,
             "ticks": ""
            },
            "colorscale": [
             [
              0,
              "#0d0887"
             ],
             [
              0.1111111111111111,
              "#46039f"
             ],
             [
              0.2222222222222222,
              "#7201a8"
             ],
             [
              0.3333333333333333,
              "#9c179e"
             ],
             [
              0.4444444444444444,
              "#bd3786"
             ],
             [
              0.5555555555555556,
              "#d8576b"
             ],
             [
              0.6666666666666666,
              "#ed7953"
             ],
             [
              0.7777777777777778,
              "#fb9f3a"
             ],
             [
              0.8888888888888888,
              "#fdca26"
             ],
             [
              1,
              "#f0f921"
             ]
            ],
            "type": "contour"
           }
          ],
          "contourcarpet": [
           {
            "colorbar": {
             "outlinewidth": 0,
             "ticks": ""
            },
            "type": "contourcarpet"
           }
          ],
          "heatmap": [
           {
            "colorbar": {
             "outlinewidth": 0,
             "ticks": ""
            },
            "colorscale": [
             [
              0,
              "#0d0887"
             ],
             [
              0.1111111111111111,
              "#46039f"
             ],
             [
              0.2222222222222222,
              "#7201a8"
             ],
             [
              0.3333333333333333,
              "#9c179e"
             ],
             [
              0.4444444444444444,
              "#bd3786"
             ],
             [
              0.5555555555555556,
              "#d8576b"
             ],
             [
              0.6666666666666666,
              "#ed7953"
             ],
             [
              0.7777777777777778,
              "#fb9f3a"
             ],
             [
              0.8888888888888888,
              "#fdca26"
             ],
             [
              1,
              "#f0f921"
             ]
            ],
            "type": "heatmap"
           }
          ],
          "histogram": [
           {
            "marker": {
             "pattern": {
              "fillmode": "overlay",
              "size": 10,
              "solidity": 0.2
             }
            },
            "type": "histogram"
           }
          ],
          "histogram2d": [
           {
            "colorbar": {
             "outlinewidth": 0,
             "ticks": ""
            },
            "colorscale": [
             [
              0,
              "#0d0887"
             ],
             [
              0.1111111111111111,
              "#46039f"
             ],
             [
              0.2222222222222222,
              "#7201a8"
             ],
             [
              0.3333333333333333,
              "#9c179e"
             ],
             [
              0.4444444444444444,
              "#bd3786"
             ],
             [
              0.5555555555555556,
              "#d8576b"
             ],
             [
              0.6666666666666666,
              "#ed7953"
             ],
             [
              0.7777777777777778,
              "#fb9f3a"
             ],
             [
              0.8888888888888888,
              "#fdca26"
             ],
             [
              1,
              "#f0f921"
             ]
            ],
            "type": "histogram2d"
           }
          ],
          "histogram2dcontour": [
           {
            "colorbar": {
             "outlinewidth": 0,
             "ticks": ""
            },
            "colorscale": [
             [
              0,
              "#0d0887"
             ],
             [
              0.1111111111111111,
              "#46039f"
             ],
             [
              0.2222222222222222,
              "#7201a8"
             ],
             [
              0.3333333333333333,
              "#9c179e"
             ],
             [
              0.4444444444444444,
              "#bd3786"
             ],
             [
              0.5555555555555556,
              "#d8576b"
             ],
             [
              0.6666666666666666,
              "#ed7953"
             ],
             [
              0.7777777777777778,
              "#fb9f3a"
             ],
             [
              0.8888888888888888,
              "#fdca26"
             ],
             [
              1,
              "#f0f921"
             ]
            ],
            "type": "histogram2dcontour"
           }
          ],
          "mesh3d": [
           {
            "colorbar": {
             "outlinewidth": 0,
             "ticks": ""
            },
            "type": "mesh3d"
           }
          ],
          "parcoords": [
           {
            "line": {
             "colorbar": {
              "outlinewidth": 0,
              "ticks": ""
             }
            },
            "type": "parcoords"
           }
          ],
          "pie": [
           {
            "automargin": true,
            "type": "pie"
           }
          ],
          "scatter": [
           {
            "marker": {
             "line": {
              "color": "#283442"
             }
            },
            "type": "scatter"
           }
          ],
          "scatter3d": [
           {
            "line": {
             "colorbar": {
              "outlinewidth": 0,
              "ticks": ""
             }
            },
            "marker": {
             "colorbar": {
              "outlinewidth": 0,
              "ticks": ""
             }
            },
            "type": "scatter3d"
           }
          ],
          "scattercarpet": [
           {
            "marker": {
             "colorbar": {
              "outlinewidth": 0,
              "ticks": ""
             }
            },
            "type": "scattercarpet"
           }
          ],
          "scattergeo": [
           {
            "marker": {
             "colorbar": {
              "outlinewidth": 0,
              "ticks": ""
             }
            },
            "type": "scattergeo"
           }
          ],
          "scattergl": [
           {
            "marker": {
             "line": {
              "color": "#283442"
             }
            },
            "type": "scattergl"
           }
          ],
          "scattermap": [
           {
            "marker": {
             "colorbar": {
              "outlinewidth": 0,
              "ticks": ""
             }
            },
            "type": "scattermap"
           }
          ],
          "scattermapbox": [
           {
            "marker": {
             "colorbar": {
              "outlinewidth": 0,
              "ticks": ""
             }
            },
            "type": "scattermapbox"
           }
          ],
          "scatterpolar": [
           {
            "marker": {
             "colorbar": {
              "outlinewidth": 0,
              "ticks": ""
             }
            },
            "type": "scatterpolar"
           }
          ],
          "scatterpolargl": [
           {
            "marker": {
             "colorbar": {
              "outlinewidth": 0,
              "ticks": ""
             }
            },
            "type": "scatterpolargl"
           }
          ],
          "scatterternary": [
           {
            "marker": {
             "colorbar": {
              "outlinewidth": 0,
              "ticks": ""
             }
            },
            "type": "scatterternary"
           }
          ],
          "surface": [
           {
            "colorbar": {
             "outlinewidth": 0,
             "ticks": ""
            },
            "colorscale": [
             [
              0,
              "#0d0887"
             ],
             [
              0.1111111111111111,
              "#46039f"
             ],
             [
              0.2222222222222222,
              "#7201a8"
             ],
             [
              0.3333333333333333,
              "#9c179e"
             ],
             [
              0.4444444444444444,
              "#bd3786"
             ],
             [
              0.5555555555555556,
              "#d8576b"
             ],
             [
              0.6666666666666666,
              "#ed7953"
             ],
             [
              0.7777777777777778,
              "#fb9f3a"
             ],
             [
              0.8888888888888888,
              "#fdca26"
             ],
             [
              1,
              "#f0f921"
             ]
            ],
            "type": "surface"
           }
          ],
          "table": [
           {
            "cells": {
             "fill": {
              "color": "#506784"
             },
             "line": {
              "color": "rgb(17,17,17)"
             }
            },
            "header": {
             "fill": {
              "color": "#2a3f5f"
             },
             "line": {
              "color": "rgb(17,17,17)"
             }
            },
            "type": "table"
           }
          ]
         },
         "layout": {
          "annotationdefaults": {
           "arrowcolor": "#f2f5fa",
           "arrowhead": 0,
           "arrowwidth": 1
          },
          "autotypenumbers": "strict",
          "coloraxis": {
           "colorbar": {
            "outlinewidth": 0,
            "ticks": ""
           }
          },
          "colorscale": {
           "diverging": [
            [
             0,
             "#8e0152"
            ],
            [
             0.1,
             "#c51b7d"
            ],
            [
             0.2,
             "#de77ae"
            ],
            [
             0.3,
             "#f1b6da"
            ],
            [
             0.4,
             "#fde0ef"
            ],
            [
             0.5,
             "#f7f7f7"
            ],
            [
             0.6,
             "#e6f5d0"
            ],
            [
             0.7,
             "#b8e186"
            ],
            [
             0.8,
             "#7fbc41"
            ],
            [
             0.9,
             "#4d9221"
            ],
            [
             1,
             "#276419"
            ]
           ],
           "sequential": [
            [
             0,
             "#0d0887"
            ],
            [
             0.1111111111111111,
             "#46039f"
            ],
            [
             0.2222222222222222,
             "#7201a8"
            ],
            [
             0.3333333333333333,
             "#9c179e"
            ],
            [
             0.4444444444444444,
             "#bd3786"
            ],
            [
             0.5555555555555556,
             "#d8576b"
            ],
            [
             0.6666666666666666,
             "#ed7953"
            ],
            [
             0.7777777777777778,
             "#fb9f3a"
            ],
            [
             0.8888888888888888,
             "#fdca26"
            ],
            [
             1,
             "#f0f921"
            ]
           ],
           "sequentialminus": [
            [
             0,
             "#0d0887"
            ],
            [
             0.1111111111111111,
             "#46039f"
            ],
            [
             0.2222222222222222,
             "#7201a8"
            ],
            [
             0.3333333333333333,
             "#9c179e"
            ],
            [
             0.4444444444444444,
             "#bd3786"
            ],
            [
             0.5555555555555556,
             "#d8576b"
            ],
            [
             0.6666666666666666,
             "#ed7953"
            ],
            [
             0.7777777777777778,
             "#fb9f3a"
            ],
            [
             0.8888888888888888,
             "#fdca26"
            ],
            [
             1,
             "#f0f921"
            ]
           ]
          },
          "colorway": [
           "#636efa",
           "#EF553B",
           "#00cc96",
           "#ab63fa",
           "#FFA15A",
           "#19d3f3",
           "#FF6692",
           "#B6E880",
           "#FF97FF",
           "#FECB52"
          ],
          "font": {
           "color": "#f2f5fa"
          },
          "geo": {
           "bgcolor": "rgb(17,17,17)",
           "lakecolor": "rgb(17,17,17)",
           "landcolor": "rgb(17,17,17)",
           "showlakes": true,
           "showland": true,
           "subunitcolor": "#506784"
          },
          "hoverlabel": {
           "align": "left"
          },
          "hovermode": "closest",
          "mapbox": {
           "style": "dark"
          },
          "paper_bgcolor": "rgb(17,17,17)",
          "plot_bgcolor": "rgb(17,17,17)",
          "polar": {
           "angularaxis": {
            "gridcolor": "#506784",
            "linecolor": "#506784",
            "ticks": ""
           },
           "bgcolor": "rgb(17,17,17)",
           "radialaxis": {
            "gridcolor": "#506784",
            "linecolor": "#506784",
            "ticks": ""
           }
          },
          "scene": {
           "xaxis": {
            "backgroundcolor": "rgb(17,17,17)",
            "gridcolor": "#506784",
            "gridwidth": 2,
            "linecolor": "#506784",
            "showbackground": true,
            "ticks": "",
            "zerolinecolor": "#C8D4E3"
           },
           "yaxis": {
            "backgroundcolor": "rgb(17,17,17)",
            "gridcolor": "#506784",
            "gridwidth": 2,
            "linecolor": "#506784",
            "showbackground": true,
            "ticks": "",
            "zerolinecolor": "#C8D4E3"
           },
           "zaxis": {
            "backgroundcolor": "rgb(17,17,17)",
            "gridcolor": "#506784",
            "gridwidth": 2,
            "linecolor": "#506784",
            "showbackground": true,
            "ticks": "",
            "zerolinecolor": "#C8D4E3"
           }
          },
          "shapedefaults": {
           "line": {
            "color": "#f2f5fa"
           }
          },
          "sliderdefaults": {
           "bgcolor": "#C8D4E3",
           "bordercolor": "rgb(17,17,17)",
           "borderwidth": 1,
           "tickwidth": 0
          },
          "ternary": {
           "aaxis": {
            "gridcolor": "#506784",
            "linecolor": "#506784",
            "ticks": ""
           },
           "baxis": {
            "gridcolor": "#506784",
            "linecolor": "#506784",
            "ticks": ""
           },
           "bgcolor": "rgb(17,17,17)",
           "caxis": {
            "gridcolor": "#506784",
            "linecolor": "#506784",
            "ticks": ""
           }
          },
          "title": {
           "x": 0.05
          },
          "updatemenudefaults": {
           "bgcolor": "#506784",
           "borderwidth": 0
          },
          "xaxis": {
           "automargin": true,
           "gridcolor": "#283442",
           "linecolor": "#506784",
           "ticks": "",
           "title": {
            "standoff": 15
           },
           "zerolinecolor": "#283442",
           "zerolinewidth": 2
          },
          "yaxis": {
           "automargin": true,
           "gridcolor": "#283442",
           "linecolor": "#506784",
           "ticks": "",
           "title": {
            "standoff": 15
           },
           "zerolinecolor": "#283442",
           "zerolinewidth": 2
          }
         }
        },
        "title": {
         "text": "ATOMUSDT - 15m - Cached Levels Visualizer (250 candles)"
        },
        "xaxis": {
         "fixedrange": false,
         "rangeslider": {
          "visible": false
         },
         "title": {
          "text": "Time"
         }
        },
        "yaxis": {
         "fixedrange": false,
         "title": {
          "text": "Price"
         },
         "type": "log"
        }
       }
      }
     },
     "metadata": {},
     "output_type": "display_data"
    }
   ],
   "source": [
    "# Visualize different segments of the cached data\n",
    "print(\"🎯 Visualizing cached levels data...\")\n",
    "\n",
    "import pandas as pd\n",
    "import json\n",
    "from pathlib import Path\n",
    "\n",
    "# Set display options\n",
    "pd.set_option('display.max_columns', None)\n",
    "pd.set_option('display.width', None)\n",
    "pd.set_option('display.max_rows', 50)\n",
    "\n",
    "\n",
    "## SYMBOL\n",
    "symbol = 'ATOMUSDT'\n",
    "\n",
    "# Load the checkpoint file\n",
    "checkpoint_path = Path(f'data/levels_cache/{symbol}-15m-levels.parquet.checkpoint')\n",
    "df = pd.read_parquet(checkpoint_path)\n",
    "\n",
    "print(f\"✅ Loaded checkpoint file: {checkpoint_path}\")\n",
    "print(f\"📊 Shape: {df.shape[0]:,} rows × {df.shape[1]} columns\")\n",
    "print(f\"📅 Date Range: {df['datetime'].min()} to {df['datetime'].max()}\")\n",
    "df.head()\n",
    "\n",
    "\n",
    "# Get the last 500 candles for visualization\n",
    "segment_size = 250\n",
    "df = df.tail(segment_size) if segment_size > 0 else df\n",
    "\n",
    "print(f\"📊 Visualizing last {len(df)} candles:\")\n",
    "print(f\"   Date range: {df['datetime'].iloc[0]} to {df['datetime'].iloc[-1]}\")\n",
    "print(f\"   Price range: ${df['low'].min():,.2f} - ${df['high'].max():,.2f}\")\n",
    "\n",
    "# Check what timeframes are available in the last row\n",
    "last_levels = json.loads(df['levels_json'].iloc[-1])\n",
    "available_timeframes = list(last_levels.keys())\n",
    "print(f\"   Available timeframes: {available_timeframes}\")\n",
    "\n",
    "# Visualize each available timeframe\n",
    "for tf in available_timeframes:\n",
    "    print(f\"\\n🔍 Visualizing {tf} timeframe levels...\")\n",
    "    try:\n",
    "        visualize_cached_data(symbol, df, timeframe=tf, useLogScale=True)\n",
    "    except Exception as e:\n",
    "        print(f\"❌ Error visualizing {tf}: {e}\")\n",
    "        import traceback\n",
    "        traceback.print_exc()"
   ]
  }
 ],
 "metadata": {
  "kernelspec": {
   "display_name": "venv",
   "language": "python",
   "name": "python3"
  },
  "language_info": {
   "codemirror_mode": {
    "name": "ipython",
    "version": 3
   },
   "file_extension": ".py",
   "mimetype": "text/x-python",
   "name": "python",
   "nbconvert_exporter": "python",
   "pygments_lexer": "ipython3",
   "version": "3.10.11"
  }
 },
 "nbformat": 4,
 "nbformat_minor": 5
}
