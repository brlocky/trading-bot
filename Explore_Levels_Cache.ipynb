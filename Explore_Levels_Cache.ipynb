{
 "cells": [
  {
   "cell_type": "markdown",
   "id": "2b023d03",
   "metadata": {},
   "source": [
    "## Import Libraries and Load Data"
   ]
  },
  {
   "cell_type": "code",
   "execution_count": 1,
   "id": "40c83855",
   "metadata": {},
   "outputs": [
    {
     "name": "stdout",
     "output_type": "stream",
     "text": [
      "✅ Project root: d:\\Dev\\trading-bot\n",
      "✅ Added to path: d:\\Dev\\trading-bot\\src\n"
     ]
    }
   ],
   "source": [
    "# Add src to path\n",
    "import sys\n",
    "import os\n",
    "\n",
    "project_root = os.getcwd()\n",
    "src_path = os.path.join(project_root, 'src')\n",
    "if src_path not in sys.path:\n",
    "    sys.path.insert(0, src_path)\n",
    "\n",
    "print(f\"✅ Project root: {project_root}\")\n",
    "print(f\"✅ Added to path: {src_path}\")\n"
   ]
  },
  {
   "cell_type": "markdown",
   "id": "972daa3c",
   "metadata": {},
   "source": []
  },
  {
   "cell_type": "code",
   "execution_count": 2,
   "id": "d81fcbe6",
   "metadata": {},
   "outputs": [
    {
     "name": "stdout",
     "output_type": "stream",
     "text": [
      "✅ Chart visualizer function for cached data created!\n"
     ]
    }
   ],
   "source": [
    "# Visualize cached levels data using chart visualizer\n",
    "import json\n",
    "import pandas as pd\n",
    "import plotly.graph_objects as go\n",
    "\n",
    "def visualize_cached_data(symbol, df_segment, timeframe='15m', useLogScale=True):\n",
    "    \"\"\"\n",
    "    Visualize cached levels data from parquet file\n",
    "    \n",
    "    Args:\n",
    "        symbol: Trading pair symbol\n",
    "        df_segment: DataFrame segment with OHLCV and levels_json data\n",
    "        timeframe: Timeframe to visualize from the levels_json\n",
    "        useLogScale: Whether to use logarithmic scale\n",
    "    \"\"\"\n",
    "    \n",
    "    # Create figure with candlestick data\n",
    "    fig = go.Figure(data=[\n",
    "        go.Candlestick(\n",
    "            x=df_segment['datetime'],\n",
    "            open=df_segment['open'],\n",
    "            high=df_segment['high'],\n",
    "            low=df_segment['low'],\n",
    "            close=df_segment['close'],\n",
    "            name='Candlestick',\n",
    "            showlegend=False\n",
    "        )\n",
    "    ])\n",
    "    \n",
    "    # Process each row's levels data\n",
    "    levels_data = json.loads(df_segment['levels_json'].iloc[-1])\n",
    "    \n",
    "    # Get data for the specified timeframe\n",
    "    if timeframe in levels_data:\n",
    "        tf_data = levels_data[timeframe]\n",
    "        \n",
    "        if isinstance(tf_data, dict):\n",
    "            # Draw lines\n",
    "            for line in tf_data.get('lines', []):\n",
    "                if isinstance(line, list) and len(line) >= 4:\n",
    "                    # Line format: [(t1, p1, v1, swing1), (t2, p2, v2, swing2), line_type, strength/volume]\n",
    "                    pivot1, pivot2, line_type, strength = line[:4]\n",
    "                    \n",
    "                    # Unpack pivots (each pivot has 4 elements: timestamp, price, volume, swing_type)\n",
    "                    t1, p1 = pivot1[0], pivot1[1]  # Extract timestamp and price only\n",
    "                    t2, p2 = pivot2[0], pivot2[1]\n",
    "                    \n",
    "                    # Convert timestamps if needed\n",
    "                    if isinstance(t1, str):\n",
    "                        t1 = pd.Timestamp(t1)\n",
    "                    if isinstance(t2, str):\n",
    "                        t2 = pd.Timestamp(t2)\n",
    "                    \n",
    "                    # Set color based on line type\n",
    "                    if 'vah_line' in str(line_type):\n",
    "                        color = 'green'\n",
    "                        width = 1\n",
    "                    elif 'val_line' in str(line_type):\n",
    "                        color = 'red'\n",
    "                        width = 1\n",
    "                    elif 'naked_poc_line' in str(line_type):\n",
    "                        color = 'white'\n",
    "                        width = 2\n",
    "                    elif 'poc_line' in str(line_type):\n",
    "                        color = 'lightgray'\n",
    "                        width = 1\n",
    "                    elif 'channel' in str(line_type):\n",
    "                        color = 'cyan'\n",
    "                        width = 2\n",
    "                    elif 'zigzag' in str(line_type):\n",
    "                        color = 'yellow'\n",
    "                        width = 1\n",
    "                    else:\n",
    "                        color = 'orange'\n",
    "                        width = 1\n",
    "                    \n",
    "                    strength_text = f\" (s={strength})\" if strength else \"\"\n",
    "                    fig.add_trace(go.Scatter(\n",
    "                        x=[t1, t2], \n",
    "                        y=[p1, p2], \n",
    "                        mode='lines', \n",
    "                        line=dict(color=color, width=width, dash='dash'), \n",
    "                        name=str(line_type) + strength_text, \n",
    "                        showlegend=False,\n",
    "                        hovertemplate=f\"{line_type}<br>%{{y:.2f}}<extra></extra>\"\n",
    "                    ))\n",
    "            \n",
    "            # Draw pivots\n",
    "            for pivot in tf_data.get('pivots', []):\n",
    "                if isinstance(pivot, list) and len(pivot) >= 4:\n",
    "                    # Pivot format: (timestamp, price, volume, swing_type)\n",
    "                    t, p, v, swing_type = pivot[:4]\n",
    "                    \n",
    "                    # Convert timestamp if needed\n",
    "                    if isinstance(t, str):\n",
    "                        t = pd.Timestamp(t)\n",
    "                    \n",
    "                    # Color based on swing type\n",
    "                    pivot_colors = {\n",
    "                        'HH': 'lime',\n",
    "                        'HL': 'lightgreen',\n",
    "                        'LH': 'salmon',\n",
    "                        'LL': 'red',\n",
    "                        None: 'gray'\n",
    "                    }\n",
    "                    color = pivot_colors.get(swing_type, 'gray')\n",
    "                    \n",
    "                    fig.add_trace(go.Scatter(\n",
    "                        x=[t], \n",
    "                        y=[p], \n",
    "                        mode='markers+text',\n",
    "                        marker=dict(color=color, size=8, line=dict(color='white', width=1)),\n",
    "                        text=[swing_type or '?'],\n",
    "                        textposition='top center',\n",
    "                        textfont=dict(size=8, color='white'),\n",
    "                        name=f'Pivot {swing_type}', \n",
    "                        showlegend=False,\n",
    "                        hovertemplate=f\"Pivot: {swing_type}<br>Price: %{{y:.2f}}<br>Time: %{{x}}<extra></extra>\"\n",
    "                    ))\n",
    "\n",
    "    # Update layout\n",
    "    fig.update_layout(\n",
    "        title=f'{symbol} - {timeframe} - Cached Levels Visualizer ({len(df_segment)} candles)', \n",
    "        xaxis_title='Time', \n",
    "        yaxis_title='Price', \n",
    "        template='plotly_dark', \n",
    "        yaxis_type='log' if useLogScale else 'linear',\n",
    "        height=800,\n",
    "        xaxis=dict(fixedrange=False),\n",
    "        yaxis=dict(fixedrange=False),\n",
    "        showlegend=False,\n",
    "        xaxis_rangeslider_visible=False\n",
    "    )\n",
    "    \n",
    "    fig.show()\n",
    "    return fig\n",
    "\n",
    "print(\"✅ Chart visualizer function for cached data created!\")\n"
   ]
  },
  {
   "cell_type": "code",
   "execution_count": 4,
   "id": "78477c8e",
   "metadata": {},
   "outputs": [
    {
     "name": "stdout",
     "output_type": "stream",
     "text": [
      "🎯 Visualizing cached levels data...\n",
      "✅ Loaded checkpoint file: data\\levels_cache\\BTCUSDT-15m-levels.parquet\n",
      "📊 Shape: 101,000 rows × 9 columns\n",
      "📅 Date Range: 2022-11-22T00:00:00 to 2025-10-09T03:00:00\n",
      "📊 Visualizing last 250 candles:\n",
      "   Date range: 2025-10-06T12:45:00 to 2025-10-09T03:00:00\n",
      "   Price range: $120,574.94 - $126,199.63\n",
      "   Available timeframes: ['M', 'W', 'D', '1h', '15m']\n",
      "\n",
      "🔍 Visualizing M timeframe levels...\n"
     ]
    },
    {
     "data": {
      "application/vnd.plotly.v1+json": {
       "config": {
        "plotlyServerURL": "https://plot.ly"
       },
       "data": [
        {
         "close": {
          "bdata": "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",
          "dtype": "f8"
         },
         "high": {
          "bdata": "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",
          "dtype": "f8"
         },
         "low": {
          "bdata": "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",
          "dtype": "f8"
         },
         "name": "Candlestick",
         "open": {
          "bdata": "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",
          "dtype": "f8"
         },
         "showlegend": false,
         "type": "candlestick",
         "x": [
          "2025-10-06T12:45:00",
          "2025-10-06T13:00:00",
          "2025-10-06T13:15:00",
          "2025-10-06T13:30:00",
          "2025-10-06T13:45:00",
          "2025-10-06T14:00:00",
          "2025-10-06T14:15:00",
          "2025-10-06T14:30:00",
          "2025-10-06T14:45:00",
          "2025-10-06T15:00:00",
          "2025-10-06T15:15:00",
          "2025-10-06T15:30:00",
          "2025-10-06T15:45:00",
          "2025-10-06T16:00:00",
          "2025-10-06T16:15:00",
          "2025-10-06T16:30:00",
          "2025-10-06T16:45:00",
          "2025-10-06T17:00:00",
          "2025-10-06T17:15:00",
          "2025-10-06T17:30:00",
          "2025-10-06T17:45:00",
          "2025-10-06T18:00:00",
          "2025-10-06T18:15:00",
          "2025-10-06T18:30:00",
          "2025-10-06T18:45:00",
          "2025-10-06T19:00:00",
          "2025-10-06T19:15:00",
          "2025-10-06T19:30:00",
          "2025-10-06T19:45:00",
          "2025-10-06T20:00:00",
          "2025-10-06T20:15:00",
          "2025-10-06T20:30:00",
          "2025-10-06T20:45:00",
          "2025-10-06T21:00:00",
          "2025-10-06T21:15:00",
          "2025-10-06T21:30:00",
          "2025-10-06T21:45:00",
          "2025-10-06T22:00:00",
          "2025-10-06T22:15:00",
          "2025-10-06T22:30:00",
          "2025-10-06T22:45:00",
          "2025-10-06T23:00:00",
          "2025-10-06T23:15:00",
          "2025-10-06T23:30:00",
          "2025-10-06T23:45:00",
          "2025-10-07T00:00:00",
          "2025-10-07T00:15:00",
          "2025-10-07T00:30:00",
          "2025-10-07T00:45:00",
          "2025-10-07T01:00:00",
          "2025-10-07T01:15:00",
          "2025-10-07T01:30:00",
          "2025-10-07T01:45:00",
          "2025-10-07T02:00:00",
          "2025-10-07T02:15:00",
          "2025-10-07T02:30:00",
          "2025-10-07T02:45:00",
          "2025-10-07T03:00:00",
          "2025-10-07T03:15:00",
          "2025-10-07T03:30:00",
          "2025-10-07T03:45:00",
          "2025-10-07T04:00:00",
          "2025-10-07T04:15:00",
          "2025-10-07T04:30:00",
          "2025-10-07T04:45:00",
          "2025-10-07T05:00:00",
          "2025-10-07T05:15:00",
          "2025-10-07T05:30:00",
          "2025-10-07T05:45:00",
          "2025-10-07T06:00:00",
          "2025-10-07T06:15:00",
          "2025-10-07T06:30:00",
          "2025-10-07T06:45:00",
          "2025-10-07T07:00:00",
          "2025-10-07T07:15:00",
          "2025-10-07T07:30:00",
          "2025-10-07T07:45:00",
          "2025-10-07T08:00:00",
          "2025-10-07T08:15:00",
          "2025-10-07T08:30:00",
          "2025-10-07T08:45:00",
          "2025-10-07T09:00:00",
          "2025-10-07T09:15:00",
          "2025-10-07T09:30:00",
          "2025-10-07T09:45:00",
          "2025-10-07T10:00:00",
          "2025-10-07T10:15:00",
          "2025-10-07T10:30:00",
          "2025-10-07T10:45:00",
          "2025-10-07T11:00:00",
          "2025-10-07T11:15:00",
          "2025-10-07T11:30:00",
          "2025-10-07T11:45:00",
          "2025-10-07T12:00:00",
          "2025-10-07T12:15:00",
          "2025-10-07T12:30:00",
          "2025-10-07T12:45:00",
          "2025-10-07T13:00:00",
          "2025-10-07T13:15:00",
          "2025-10-07T13:30:00",
          "2025-10-07T13:45:00",
          "2025-10-07T14:00:00",
          "2025-10-07T14:15:00",
          "2025-10-07T14:30:00",
          "2025-10-07T14:45:00",
          "2025-10-07T15:00:00",
          "2025-10-07T15:15:00",
          "2025-10-07T15:30:00",
          "2025-10-07T15:45:00",
          "2025-10-07T16:00:00",
          "2025-10-07T16:15:00",
          "2025-10-07T16:30:00",
          "2025-10-07T16:45:00",
          "2025-10-07T17:00:00",
          "2025-10-07T17:15:00",
          "2025-10-07T17:30:00",
          "2025-10-07T17:45:00",
          "2025-10-07T18:00:00",
          "2025-10-07T18:15:00",
          "2025-10-07T18:30:00",
          "2025-10-07T18:45:00",
          "2025-10-07T19:00:00",
          "2025-10-07T19:15:00",
          "2025-10-07T19:30:00",
          "2025-10-07T19:45:00",
          "2025-10-07T20:00:00",
          "2025-10-07T20:15:00",
          "2025-10-07T20:30:00",
          "2025-10-07T20:45:00",
          "2025-10-07T21:00:00",
          "2025-10-07T21:15:00",
          "2025-10-07T21:30:00",
          "2025-10-07T21:45:00",
          "2025-10-07T22:00:00",
          "2025-10-07T22:15:00",
          "2025-10-07T22:30:00",
          "2025-10-07T22:45:00",
          "2025-10-07T23:00:00",
          "2025-10-07T23:15:00",
          "2025-10-07T23:30:00",
          "2025-10-07T23:45:00",
          "2025-10-08T00:00:00",
          "2025-10-08T00:15:00",
          "2025-10-08T00:30:00",
          "2025-10-08T00:45:00",
          "2025-10-08T01:00:00",
          "2025-10-08T01:15:00",
          "2025-10-08T01:30:00",
          "2025-10-08T01:45:00",
          "2025-10-08T02:00:00",
          "2025-10-08T02:15:00",
          "2025-10-08T02:30:00",
          "2025-10-08T02:45:00",
          "2025-10-08T03:00:00",
          "2025-10-08T03:15:00",
          "2025-10-08T03:30:00",
          "2025-10-08T03:45:00",
          "2025-10-08T04:00:00",
          "2025-10-08T04:15:00",
          "2025-10-08T04:30:00",
          "2025-10-08T04:45:00",
          "2025-10-08T05:00:00",
          "2025-10-08T05:15:00",
          "2025-10-08T05:30:00",
          "2025-10-08T05:45:00",
          "2025-10-08T06:00:00",
          "2025-10-08T06:15:00",
          "2025-10-08T06:30:00",
          "2025-10-08T06:45:00",
          "2025-10-08T07:00:00",
          "2025-10-08T07:15:00",
          "2025-10-08T07:30:00",
          "2025-10-08T07:45:00",
          "2025-10-08T08:00:00",
          "2025-10-08T08:15:00",
          "2025-10-08T08:30:00",
          "2025-10-08T08:45:00",
          "2025-10-08T09:00:00",
          "2025-10-08T09:15:00",
          "2025-10-08T09:30:00",
          "2025-10-08T09:45:00",
          "2025-10-08T10:00:00",
          "2025-10-08T10:15:00",
          "2025-10-08T10:30:00",
          "2025-10-08T10:45:00",
          "2025-10-08T11:00:00",
          "2025-10-08T11:15:00",
          "2025-10-08T11:30:00",
          "2025-10-08T11:45:00",
          "2025-10-08T12:00:00",
          "2025-10-08T12:15:00",
          "2025-10-08T12:30:00",
          "2025-10-08T12:45:00",
          "2025-10-08T13:00:00",
          "2025-10-08T13:15:00",
          "2025-10-08T13:30:00",
          "2025-10-08T13:45:00",
          "2025-10-08T14:00:00",
          "2025-10-08T14:15:00",
          "2025-10-08T14:30:00",
          "2025-10-08T14:45:00",
          "2025-10-08T15:00:00",
          "2025-10-08T15:15:00",
          "2025-10-08T15:30:00",
          "2025-10-08T15:45:00",
          "2025-10-08T16:00:00",
          "2025-10-08T16:15:00",
          "2025-10-08T16:30:00",
          "2025-10-08T16:45:00",
          "2025-10-08T17:00:00",
          "2025-10-08T17:15:00",
          "2025-10-08T17:30:00",
          "2025-10-08T17:45:00",
          "2025-10-08T18:00:00",
          "2025-10-08T18:15:00",
          "2025-10-08T18:30:00",
          "2025-10-08T18:45:00",
          "2025-10-08T19:00:00",
          "2025-10-08T19:15:00",
          "2025-10-08T19:30:00",
          "2025-10-08T19:45:00",
          "2025-10-08T20:00:00",
          "2025-10-08T20:15:00",
          "2025-10-08T20:30:00",
          "2025-10-08T20:45:00",
          "2025-10-08T21:00:00",
          "2025-10-08T21:15:00",
          "2025-10-08T21:30:00",
          "2025-10-08T21:45:00",
          "2025-10-08T22:00:00",
          "2025-10-08T22:15:00",
          "2025-10-08T22:30:00",
          "2025-10-08T22:45:00",
          "2025-10-08T23:00:00",
          "2025-10-08T23:15:00",
          "2025-10-08T23:30:00",
          "2025-10-08T23:45:00",
          "2025-10-09T00:00:00",
          "2025-10-09T00:15:00",
          "2025-10-09T00:30:00",
          "2025-10-09T00:45:00",
          "2025-10-09T01:00:00",
          "2025-10-09T01:15:00",
          "2025-10-09T01:30:00",
          "2025-10-09T01:45:00",
          "2025-10-09T02:00:00",
          "2025-10-09T02:15:00",
          "2025-10-09T02:30:00",
          "2025-10-09T02:45:00",
          "2025-10-09T03:00:00"
         ]
        },
        {
         "hovertemplate": "line_close_M<br>%{y:.2f}<extra></extra>",
         "line": {
          "color": "orange",
          "dash": "dash",
          "width": 1
         },
         "mode": "lines",
         "name": "line_close_M (s=1730389.160179)",
         "showlegend": false,
         "type": "scatter",
         "x": [
          "2020-09-01T00:00:00",
          "2025-10-01T00:00:00"
         ],
         "y": [
          10776.59,
          10776.59
         ]
        },
        {
         "hovertemplate": "line_close_M<br>%{y:.2f}<extra></extra>",
         "line": {
          "color": "orange",
          "dash": "dash",
          "width": 1
         },
         "mode": "lines",
         "name": "line_close_M (s=908244.14054)",
         "showlegend": false,
         "type": "scatter",
         "x": [
          "2019-01-01T00:00:00",
          "2025-10-01T00:00:00"
         ],
         "y": [
          3434.1,
          3434.1
         ]
        },
        {
         "hovertemplate": "channel_lower_line<br>%{y:.2f}<extra></extra>",
         "line": {
          "color": "cyan",
          "dash": "dash",
          "width": 2
         },
         "mode": "lines",
         "name": "channel_lower_line",
         "showlegend": false,
         "type": "scatter",
         "x": [
          "2017-09-01T00:00:00",
          "2025-10-01T00:00:00"
         ],
         "y": [
          2817,
          5876.911604507744
         ]
        },
        {
         "hovertemplate": "channel_upper_line<br>%{y:.2f}<extra></extra>",
         "line": {
          "color": "cyan",
          "dash": "dash",
          "width": 2
         },
         "mode": "lines",
         "name": "channel_upper_line",
         "showlegend": false,
         "type": "scatter",
         "x": [
          "2017-12-01T00:00:00",
          "2025-10-01T00:00:00"
         ],
         "y": [
          19798.68,
          40375.82068185938
         ]
        },
        {
         "hovertemplate": "channel_lower_line<br>%{y:.2f}<extra></extra>",
         "line": {
          "color": "cyan",
          "dash": "dash",
          "width": 2
         },
         "mode": "lines",
         "name": "channel_lower_line",
         "showlegend": false,
         "type": "scatter",
         "x": [
          "2018-12-01T00:00:00",
          "2025-10-01T00:00:00"
         ],
         "y": [
          3156.26,
          8485.04651345789
         ]
        },
        {
         "hovertemplate": "channel_upper_line<br>%{y:.2f}<extra></extra>",
         "line": {
          "color": "cyan",
          "dash": "dash",
          "width": 2
         },
         "mode": "lines",
         "name": "channel_upper_line",
         "showlegend": false,
         "type": "scatter",
         "x": [
          "2019-06-01T00:00:00",
          "2025-10-01T00:00:00"
         ],
         "y": [
          13970,
          34934.327688395875
         ]
        },
        {
         "hovertemplate": "channel_lower_line<br>%{y:.2f}<extra></extra>",
         "line": {
          "color": "cyan",
          "dash": "dash",
          "width": 2
         },
         "mode": "lines",
         "name": "channel_lower_line",
         "showlegend": false,
         "type": "scatter",
         "x": [
          "2020-03-01T00:00:00",
          "2025-10-01T00:00:00"
         ],
         "y": [
          3782.13,
          72268.44371386665
         ]
        },
        {
         "hovertemplate": "channel_upper_line<br>%{y:.2f}<extra></extra>",
         "line": {
          "color": "cyan",
          "dash": "dash",
          "width": 2
         },
         "mode": "lines",
         "name": "channel_upper_line",
         "showlegend": false,
         "type": "scatter",
         "x": [
          "2021-04-01T00:00:00",
          "2025-10-01T00:00:00"
         ],
         "y": [
          64854,
          249582.26
         ]
        }
       ],
       "layout": {
        "height": 800,
        "showlegend": false,
        "template": {
         "data": {
          "bar": [
           {
            "error_x": {
             "color": "#f2f5fa"
            },
            "error_y": {
             "color": "#f2f5fa"
            },
            "marker": {
             "line": {
              "color": "rgb(17,17,17)",
              "width": 0.5
             },
             "pattern": {
              "fillmode": "overlay",
              "size": 10,
              "solidity": 0.2
             }
            },
            "type": "bar"
           }
          ],
          "barpolar": [
           {
            "marker": {
             "line": {
              "color": "rgb(17,17,17)",
              "width": 0.5
             },
             "pattern": {
              "fillmode": "overlay",
              "size": 10,
              "solidity": 0.2
             }
            },
            "type": "barpolar"
           }
          ],
          "carpet": [
           {
            "aaxis": {
             "endlinecolor": "#A2B1C6",
             "gridcolor": "#506784",
             "linecolor": "#506784",
             "minorgridcolor": "#506784",
             "startlinecolor": "#A2B1C6"
            },
            "baxis": {
             "endlinecolor": "#A2B1C6",
             "gridcolor": "#506784",
             "linecolor": "#506784",
             "minorgridcolor": "#506784",
             "startlinecolor": "#A2B1C6"
            },
            "type": "carpet"
           }
          ],
          "choropleth": [
           {
            "colorbar": {
             "outlinewidth": 0,
             "ticks": ""
            },
            "type": "choropleth"
           }
          ],
          "contour": [
           {
            "colorbar": {
             "outlinewidth": 0,
             "ticks": ""
            },
            "colorscale": [
             [
              0,
              "#0d0887"
             ],
             [
              0.1111111111111111,
              "#46039f"
             ],
             [
              0.2222222222222222,
              "#7201a8"
             ],
             [
              0.3333333333333333,
              "#9c179e"
             ],
             [
              0.4444444444444444,
              "#bd3786"
             ],
             [
              0.5555555555555556,
              "#d8576b"
             ],
             [
              0.6666666666666666,
              "#ed7953"
             ],
             [
              0.7777777777777778,
              "#fb9f3a"
             ],
             [
              0.8888888888888888,
              "#fdca26"
             ],
             [
              1,
              "#f0f921"
             ]
            ],
            "type": "contour"
           }
          ],
          "contourcarpet": [
           {
            "colorbar": {
             "outlinewidth": 0,
             "ticks": ""
            },
            "type": "contourcarpet"
           }
          ],
          "heatmap": [
           {
            "colorbar": {
             "outlinewidth": 0,
             "ticks": ""
            },
            "colorscale": [
             [
              0,
              "#0d0887"
             ],
             [
              0.1111111111111111,
              "#46039f"
             ],
             [
              0.2222222222222222,
              "#7201a8"
             ],
             [
              0.3333333333333333,
              "#9c179e"
             ],
             [
              0.4444444444444444,
              "#bd3786"
             ],
             [
              0.5555555555555556,
              "#d8576b"
             ],
             [
              0.6666666666666666,
              "#ed7953"
             ],
             [
              0.7777777777777778,
              "#fb9f3a"
             ],
             [
              0.8888888888888888,
              "#fdca26"
             ],
             [
              1,
              "#f0f921"
             ]
            ],
            "type": "heatmap"
           }
          ],
          "histogram": [
           {
            "marker": {
             "pattern": {
              "fillmode": "overlay",
              "size": 10,
              "solidity": 0.2
             }
            },
            "type": "histogram"
           }
          ],
          "histogram2d": [
           {
            "colorbar": {
             "outlinewidth": 0,
             "ticks": ""
            },
            "colorscale": [
             [
              0,
              "#0d0887"
             ],
             [
              0.1111111111111111,
              "#46039f"
             ],
             [
              0.2222222222222222,
              "#7201a8"
             ],
             [
              0.3333333333333333,
              "#9c179e"
             ],
             [
              0.4444444444444444,
              "#bd3786"
             ],
             [
              0.5555555555555556,
              "#d8576b"
             ],
             [
              0.6666666666666666,
              "#ed7953"
             ],
             [
              0.7777777777777778,
              "#fb9f3a"
             ],
             [
              0.8888888888888888,
              "#fdca26"
             ],
             [
              1,
              "#f0f921"
             ]
            ],
            "type": "histogram2d"
           }
          ],
          "histogram2dcontour": [
           {
            "colorbar": {
             "outlinewidth": 0,
             "ticks": ""
            },
            "colorscale": [
             [
              0,
              "#0d0887"
             ],
             [
              0.1111111111111111,
              "#46039f"
             ],
             [
              0.2222222222222222,
              "#7201a8"
             ],
             [
              0.3333333333333333,
              "#9c179e"
             ],
             [
              0.4444444444444444,
              "#bd3786"
             ],
             [
              0.5555555555555556,
              "#d8576b"
             ],
             [
              0.6666666666666666,
              "#ed7953"
             ],
             [
              0.7777777777777778,
              "#fb9f3a"
             ],
             [
              0.8888888888888888,
              "#fdca26"
             ],
             [
              1,
              "#f0f921"
             ]
            ],
            "type": "histogram2dcontour"
           }
          ],
          "mesh3d": [
           {
            "colorbar": {
             "outlinewidth": 0,
             "ticks": ""
            },
            "type": "mesh3d"
           }
          ],
          "parcoords": [
           {
            "line": {
             "colorbar": {
              "outlinewidth": 0,
              "ticks": ""
             }
            },
            "type": "parcoords"
           }
          ],
          "pie": [
           {
            "automargin": true,
            "type": "pie"
           }
          ],
          "scatter": [
           {
            "marker": {
             "line": {
              "color": "#283442"
             }
            },
            "type": "scatter"
           }
          ],
          "scatter3d": [
           {
            "line": {
             "colorbar": {
              "outlinewidth": 0,
              "ticks": ""
             }
            },
            "marker": {
             "colorbar": {
              "outlinewidth": 0,
              "ticks": ""
             }
            },
            "type": "scatter3d"
           }
          ],
          "scattercarpet": [
           {
            "marker": {
             "colorbar": {
              "outlinewidth": 0,
              "ticks": ""
             }
            },
            "type": "scattercarpet"
           }
          ],
          "scattergeo": [
           {
            "marker": {
             "colorbar": {
              "outlinewidth": 0,
              "ticks": ""
             }
            },
            "type": "scattergeo"
           }
          ],
          "scattergl": [
           {
            "marker": {
             "line": {
              "color": "#283442"
             }
            },
            "type": "scattergl"
           }
          ],
          "scattermap": [
           {
            "marker": {
             "colorbar": {
              "outlinewidth": 0,
              "ticks": ""
             }
            },
            "type": "scattermap"
           }
          ],
          "scattermapbox": [
           {
            "marker": {
             "colorbar": {
              "outlinewidth": 0,
              "ticks": ""
             }
            },
            "type": "scattermapbox"
           }
          ],
          "scatterpolar": [
           {
            "marker": {
             "colorbar": {
              "outlinewidth": 0,
              "ticks": ""
             }
            },
            "type": "scatterpolar"
           }
          ],
          "scatterpolargl": [
           {
            "marker": {
             "colorbar": {
              "outlinewidth": 0,
              "ticks": ""
             }
            },
            "type": "scatterpolargl"
           }
          ],
          "scatterternary": [
           {
            "marker": {
             "colorbar": {
              "outlinewidth": 0,
              "ticks": ""
             }
            },
            "type": "scatterternary"
           }
          ],
          "surface": [
           {
            "colorbar": {
             "outlinewidth": 0,
             "ticks": ""
            },
            "colorscale": [
             [
              0,
              "#0d0887"
             ],
             [
              0.1111111111111111,
              "#46039f"
             ],
             [
              0.2222222222222222,
              "#7201a8"
             ],
             [
              0.3333333333333333,
              "#9c179e"
             ],
             [
              0.4444444444444444,
              "#bd3786"
             ],
             [
              0.5555555555555556,
              "#d8576b"
             ],
             [
              0.6666666666666666,
              "#ed7953"
             ],
             [
              0.7777777777777778,
              "#fb9f3a"
             ],
             [
              0.8888888888888888,
              "#fdca26"
             ],
             [
              1,
              "#f0f921"
             ]
            ],
            "type": "surface"
           }
          ],
          "table": [
           {
            "cells": {
             "fill": {
              "color": "#506784"
             },
             "line": {
              "color": "rgb(17,17,17)"
             }
            },
            "header": {
             "fill": {
              "color": "#2a3f5f"
             },
             "line": {
              "color": "rgb(17,17,17)"
             }
            },
            "type": "table"
           }
          ]
         },
         "layout": {
          "annotationdefaults": {
           "arrowcolor": "#f2f5fa",
           "arrowhead": 0,
           "arrowwidth": 1
          },
          "autotypenumbers": "strict",
          "coloraxis": {
           "colorbar": {
            "outlinewidth": 0,
            "ticks": ""
           }
          },
          "colorscale": {
           "diverging": [
            [
             0,
             "#8e0152"
            ],
            [
             0.1,
             "#c51b7d"
            ],
            [
             0.2,
             "#de77ae"
            ],
            [
             0.3,
             "#f1b6da"
            ],
            [
             0.4,
             "#fde0ef"
            ],
            [
             0.5,
             "#f7f7f7"
            ],
            [
             0.6,
             "#e6f5d0"
            ],
            [
             0.7,
             "#b8e186"
            ],
            [
             0.8,
             "#7fbc41"
            ],
            [
             0.9,
             "#4d9221"
            ],
            [
             1,
             "#276419"
            ]
           ],
           "sequential": [
            [
             0,
             "#0d0887"
            ],
            [
             0.1111111111111111,
             "#46039f"
            ],
            [
             0.2222222222222222,
             "#7201a8"
            ],
            [
             0.3333333333333333,
             "#9c179e"
            ],
            [
             0.4444444444444444,
             "#bd3786"
            ],
            [
             0.5555555555555556,
             "#d8576b"
            ],
            [
             0.6666666666666666,
             "#ed7953"
            ],
            [
             0.7777777777777778,
             "#fb9f3a"
            ],
            [
             0.8888888888888888,
             "#fdca26"
            ],
            [
             1,
             "#f0f921"
            ]
           ],
           "sequentialminus": [
            [
             0,
             "#0d0887"
            ],
            [
             0.1111111111111111,
             "#46039f"
            ],
            [
             0.2222222222222222,
             "#7201a8"
            ],
            [
             0.3333333333333333,
             "#9c179e"
            ],
            [
             0.4444444444444444,
             "#bd3786"
            ],
            [
             0.5555555555555556,
             "#d8576b"
            ],
            [
             0.6666666666666666,
             "#ed7953"
            ],
            [
             0.7777777777777778,
             "#fb9f3a"
            ],
            [
             0.8888888888888888,
             "#fdca26"
            ],
            [
             1,
             "#f0f921"
            ]
           ]
          },
          "colorway": [
           "#636efa",
           "#EF553B",
           "#00cc96",
           "#ab63fa",
           "#FFA15A",
           "#19d3f3",
           "#FF6692",
           "#B6E880",
           "#FF97FF",
           "#FECB52"
          ],
          "font": {
           "color": "#f2f5fa"
          },
          "geo": {
           "bgcolor": "rgb(17,17,17)",
           "lakecolor": "rgb(17,17,17)",
           "landcolor": "rgb(17,17,17)",
           "showlakes": true,
           "showland": true,
           "subunitcolor": "#506784"
          },
          "hoverlabel": {
           "align": "left"
          },
          "hovermode": "closest",
          "mapbox": {
           "style": "dark"
          },
          "paper_bgcolor": "rgb(17,17,17)",
          "plot_bgcolor": "rgb(17,17,17)",
          "polar": {
           "angularaxis": {
            "gridcolor": "#506784",
            "linecolor": "#506784",
            "ticks": ""
           },
           "bgcolor": "rgb(17,17,17)",
           "radialaxis": {
            "gridcolor": "#506784",
            "linecolor": "#506784",
            "ticks": ""
           }
          },
          "scene": {
           "xaxis": {
            "backgroundcolor": "rgb(17,17,17)",
            "gridcolor": "#506784",
            "gridwidth": 2,
            "linecolor": "#506784",
            "showbackground": true,
            "ticks": "",
            "zerolinecolor": "#C8D4E3"
           },
           "yaxis": {
            "backgroundcolor": "rgb(17,17,17)",
            "gridcolor": "#506784",
            "gridwidth": 2,
            "linecolor": "#506784",
            "showbackground": true,
            "ticks": "",
            "zerolinecolor": "#C8D4E3"
           },
           "zaxis": {
            "backgroundcolor": "rgb(17,17,17)",
            "gridcolor": "#506784",
            "gridwidth": 2,
            "linecolor": "#506784",
            "showbackground": true,
            "ticks": "",
            "zerolinecolor": "#C8D4E3"
           }
          },
          "shapedefaults": {
           "line": {
            "color": "#f2f5fa"
           }
          },
          "sliderdefaults": {
           "bgcolor": "#C8D4E3",
           "bordercolor": "rgb(17,17,17)",
           "borderwidth": 1,
           "tickwidth": 0
          },
          "ternary": {
           "aaxis": {
            "gridcolor": "#506784",
            "linecolor": "#506784",
            "ticks": ""
           },
           "baxis": {
            "gridcolor": "#506784",
            "linecolor": "#506784",
            "ticks": ""
           },
           "bgcolor": "rgb(17,17,17)",
           "caxis": {
            "gridcolor": "#506784",
            "linecolor": "#506784",
            "ticks": ""
           }
          },
          "title": {
           "x": 0.05
          },
          "updatemenudefaults": {
           "bgcolor": "#506784",
           "borderwidth": 0
          },
          "xaxis": {
           "automargin": true,
           "gridcolor": "#283442",
           "linecolor": "#506784",
           "ticks": "",
           "title": {
            "standoff": 15
           },
           "zerolinecolor": "#283442",
           "zerolinewidth": 2
          },
          "yaxis": {
           "automargin": true,
           "gridcolor": "#283442",
           "linecolor": "#506784",
           "ticks": "",
           "title": {
            "standoff": 15
           },
           "zerolinecolor": "#283442",
           "zerolinewidth": 2
          }
         }
        },
        "title": {
         "text": "BTCUSDT - M - Cached Levels Visualizer (250 candles)"
        },
        "xaxis": {
         "fixedrange": false,
         "rangeslider": {
          "visible": false
         },
         "title": {
          "text": "Time"
         }
        },
        "yaxis": {
         "fixedrange": false,
         "title": {
          "text": "Price"
         },
         "type": "log"
        }
       }
      }
     },
     "metadata": {},
     "output_type": "display_data"
    },
    {
     "name": "stdout",
     "output_type": "stream",
     "text": [
      "\n",
      "🔍 Visualizing W timeframe levels...\n"
     ]
    },
    {
     "data": {
      "application/vnd.plotly.v1+json": {
       "config": {
        "plotlyServerURL": "https://plot.ly"
       },
       "data": [
        {
         "close": {
          "bdata": "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",
          "dtype": "f8"
         },
         "high": {
          "bdata": "ZmZmZrpq/kAAAAAA4Hj+QM3MzMzAf/5ApHA9CvOC/kCamZmZfYn+QAAAAAAgmf5AFK5H4X6N/kAAAAAAQIj+QDMzMzM3fv5APQrXo3x0/kA9CtejBJ7+QHE9Ctfzlf5AUrgehVeT/kCamZmZKYr+QAAAAACAhP5AAAAAADCT/kBI4XoUuqP+QPYoXI8yrP5AMzMzM7O3/kAAAAAA4LD+QI/C9SjIov5Aw/UoXPOW/kBxPQrXn5v+QOxRuB7Zof5ASOF6FHrP/kDD9Shca8v+QK5H4XqMuv5AAAAAAKC0/kAUrkfhsqP+QAAAAADgpf5APQrXo2ib/kAK16Nw0Zj+QHsUrkdRmP5AAAAAAEiV/kDD9ShcE4j+QJqZmZmlhP5AKVyPwp2K/kAUrkfhJpf+QHsUrkfxlf5AexSuR92P/kCuR+F6UIz+QAAAAADAiv5AMzMzM+d7/kAAAAAAwHz+QArXo3Chdv5A16NwPep6/kBxPQrXH3v+QI/C9Sgoff5A16NwPdJ//kAfhetRpIn+QK5H4XrMff5A9ihcj3p3/kAAAAAAwHb+QAAAAADAcf5APQrXo6xr/kCamZmZnWz+QDMzMzPXZ/5ApHA9Codp/kBmZmZmTmT+QJqZmZllWP5AcT0K15ta/kBxPQrXm1r+QI/C9SiAYP5AUrgehedu/kAK16NwVWv+QClcj8INZ/5APQrXo3Bp/kCPwvUoDG7+QJqZmZmJaf5AAAAAAMBi/kC4HoXrXVr+QFyPwvX0R/5AexSuR41F/kAAAAAAYEj+QAAAAACgPP5AAAAAAKA8/kD2KFyPpjL+QAAAAABAM/5A7FG4Hhk1/kCF61G4/jr+QOF6FK7/Rf5AuB6F6w1S/kCkcD0KS1D+QNejcD1qVf5Aj8L1KKBS/kDNzMzMgFz+QAAAAADcX/5AAAAAACBd/kAAAAAA4Fv+QMP1KFwvWv5Arkfherhe/kBI4XoU9mP+QJqZmZnZZf5AXI/C9eBm/kDXo3A90mP+QEjhehTmav5AAAAAAGCM/kD2KFyPYof+QAAAAADAeP5A16NwPUJ4/kCuR+F6/EL+QAAAAAAARv5AzczMzKQb/kC4HoXruQn+QAAAAACAB/5AKVyPwhX//UCuR+F6NOD9QAAAAADA0P1Aw/UoXG/B/UAAAAAARMD9QI/C9Sgks/1AhetRuPK//UDXo3A9Qs79QHsUrkfpvf1AAAAAAOCs/UBcj8L1JKX9QLgehetVr/1ASOF6FKKd/UBmZmZmlpj9QFyPwvUwhf1Aw/UoXIOJ/UD2KFyPiq39QAAAAABgr/1AUrgehV+s/UDNzMzMtMr9QAAAAABg0v1A4XoUrkfV/UDhehSuR9X9QArXo3AR1f1AAAAAAEDU/UC4HoXrSdv9QMP1KFyD2P1AzczMzCjK/UApXI/C5cv9QAAAAADY0/1AuB6F6/XL/UAUrkfhssn9QEjhehRuyv1AAAAAALi//UAzMzMz47P9QOF6FK5Hq/1A9ihcj+qw/UBI4XoUprz9QMP1KFwLxv1AFK5H4ZrO/UAAAAAA6Mr9QAAAAACAzP1AcT0K13vG/UAAAAAAOMb9QEjhehTyx/1A9ihcj1rX/UAfhetRoNT9QFyPwvWozv1ArkfhegTM/UDsUbge0b39QOF6FK5Xqv1A7FG4Hs2l/UC4HoXrxaj9QLgehevdr/1A7FG4Hqm7/UBxPQrXY8P9QI/C9SjAwv1AMzMzMw+7/UAK16NwQav9QB+F61Hgof1ApHA9Chul/UAAAAAAwKn9QJqZmZl9rv1APQrXoxi//UC4HoXrBcH9QOF6FK4jtv1A16NwPTau/UBcj8L10K/9QK5H4XpMvf1AAAAAAADJ/UAAAAAAVPz9QAAAAAAg/v1AAAAAAEDx/UDNzMzMyO/9QAAAAACA7f1AcT0K10/p/UBxPQrXg/v9QIXrUbgW9f1AAAAAAMAN/kB7FK5HRQj+QAAAAAAAFP5Aj8L1KOAQ/kCPwvUowA3+QOxRuB4xAv5AAAAAACwN/kDsUbgekQn+QB+F61FM+P1AKVyPwqX2/UDD9Shcb/n9QDMzMzPr9f1AzczMzGz0/UBSuB6FQ/L9QAAAAABgHf5AuB6F60EN/kCuR+F6gP79QIXrUbgK8P1AzczMzOjv/UA9CtejZOv9QI/C9Sgg5f1AzczMzDjf/UCPwvUoaPb9QOF6FK7nAv5AAAAAAED3/UDhehSukw/+QBSuR+FeMf5AuB6F6+VE/kB7FK5HAUj+QClcj8JFUP5AAAAAAFRS/kApXI/CjT7+QJqZmZkpOf5ACtejcCU7/kDhehSuRyj+QOF6FK6XMP5ApHA9Cv82/kCPwvUoICz+QAAAAADUJ/5AAAAAAJA1/kBI4XoU1ir+QDMzMzOXH/5AmpmZma0R/kC4HoXrWRv+QI/C9ShAHP5Aj8L1KEAc/kDhehSuiyH+QBSuR+GKIP5AXI/C9bAd/kCuR+F6IBz+QOxRuB4NFP5AAAAAAGQl/kApXI/CESn+QFK4HoWbHv5A7FG4HkUd/kDsUbgeXRj+QM3MzMxcDv5AXI/C9YQO/kDsUbgelf79QMP1KFwf+f1AcT0K19fp/UBmZmZmJuz9QOF6FK5D6/1AcT0K1/Pc/UC4HoXrRdD9QFK4HoXzvP1A16NwPZbG/UA=",
          "dtype": "f8"
         },
         "low": {
          "bdata": "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",
          "dtype": "f8"
         },
         "name": "Candlestick",
         "open": {
          "bdata": "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",
          "dtype": "f8"
         },
         "showlegend": false,
         "type": "candlestick",
         "x": [
          "2025-10-06T12:45:00",
          "2025-10-06T13:00:00",
          "2025-10-06T13:15:00",
          "2025-10-06T13:30:00",
          "2025-10-06T13:45:00",
          "2025-10-06T14:00:00",
          "2025-10-06T14:15:00",
          "2025-10-06T14:30:00",
          "2025-10-06T14:45:00",
          "2025-10-06T15:00:00",
          "2025-10-06T15:15:00",
          "2025-10-06T15:30:00",
          "2025-10-06T15:45:00",
          "2025-10-06T16:00:00",
          "2025-10-06T16:15:00",
          "2025-10-06T16:30:00",
          "2025-10-06T16:45:00",
          "2025-10-06T17:00:00",
          "2025-10-06T17:15:00",
          "2025-10-06T17:30:00",
          "2025-10-06T17:45:00",
          "2025-10-06T18:00:00",
          "2025-10-06T18:15:00",
          "2025-10-06T18:30:00",
          "2025-10-06T18:45:00",
          "2025-10-06T19:00:00",
          "2025-10-06T19:15:00",
          "2025-10-06T19:30:00",
          "2025-10-06T19:45:00",
          "2025-10-06T20:00:00",
          "2025-10-06T20:15:00",
          "2025-10-06T20:30:00",
          "2025-10-06T20:45:00",
          "2025-10-06T21:00:00",
          "2025-10-06T21:15:00",
          "2025-10-06T21:30:00",
          "2025-10-06T21:45:00",
          "2025-10-06T22:00:00",
          "2025-10-06T22:15:00",
          "2025-10-06T22:30:00",
          "2025-10-06T22:45:00",
          "2025-10-06T23:00:00",
          "2025-10-06T23:15:00",
          "2025-10-06T23:30:00",
          "2025-10-06T23:45:00",
          "2025-10-07T00:00:00",
          "2025-10-07T00:15:00",
          "2025-10-07T00:30:00",
          "2025-10-07T00:45:00",
          "2025-10-07T01:00:00",
          "2025-10-07T01:15:00",
          "2025-10-07T01:30:00",
          "2025-10-07T01:45:00",
          "2025-10-07T02:00:00",
          "2025-10-07T02:15:00",
          "2025-10-07T02:30:00",
          "2025-10-07T02:45:00",
          "2025-10-07T03:00:00",
          "2025-10-07T03:15:00",
          "2025-10-07T03:30:00",
          "2025-10-07T03:45:00",
          "2025-10-07T04:00:00",
          "2025-10-07T04:15:00",
          "2025-10-07T04:30:00",
          "2025-10-07T04:45:00",
          "2025-10-07T05:00:00",
          "2025-10-07T05:15:00",
          "2025-10-07T05:30:00",
          "2025-10-07T05:45:00",
          "2025-10-07T06:00:00",
          "2025-10-07T06:15:00",
          "2025-10-07T06:30:00",
          "2025-10-07T06:45:00",
          "2025-10-07T07:00:00",
          "2025-10-07T07:15:00",
          "2025-10-07T07:30:00",
          "2025-10-07T07:45:00",
          "2025-10-07T08:00:00",
          "2025-10-07T08:15:00",
          "2025-10-07T08:30:00",
          "2025-10-07T08:45:00",
          "2025-10-07T09:00:00",
          "2025-10-07T09:15:00",
          "2025-10-07T09:30:00",
          "2025-10-07T09:45:00",
          "2025-10-07T10:00:00",
          "2025-10-07T10:15:00",
          "2025-10-07T10:30:00",
          "2025-10-07T10:45:00",
          "2025-10-07T11:00:00",
          "2025-10-07T11:15:00",
          "2025-10-07T11:30:00",
          "2025-10-07T11:45:00",
          "2025-10-07T12:00:00",
          "2025-10-07T12:15:00",
          "2025-10-07T12:30:00",
          "2025-10-07T12:45:00",
          "2025-10-07T13:00:00",
          "2025-10-07T13:15:00",
          "2025-10-07T13:30:00",
          "2025-10-07T13:45:00",
          "2025-10-07T14:00:00",
          "2025-10-07T14:15:00",
          "2025-10-07T14:30:00",
          "2025-10-07T14:45:00",
          "2025-10-07T15:00:00",
          "2025-10-07T15:15:00",
          "2025-10-07T15:30:00",
          "2025-10-07T15:45:00",
          "2025-10-07T16:00:00",
          "2025-10-07T16:15:00",
          "2025-10-07T16:30:00",
          "2025-10-07T16:45:00",
          "2025-10-07T17:00:00",
          "2025-10-07T17:15:00",
          "2025-10-07T17:30:00",
          "2025-10-07T17:45:00",
          "2025-10-07T18:00:00",
          "2025-10-07T18:15:00",
          "2025-10-07T18:30:00",
          "2025-10-07T18:45:00",
          "2025-10-07T19:00:00",
          "2025-10-07T19:15:00",
          "2025-10-07T19:30:00",
          "2025-10-07T19:45:00",
          "2025-10-07T20:00:00",
          "2025-10-07T20:15:00",
          "2025-10-07T20:30:00",
          "2025-10-07T20:45:00",
          "2025-10-07T21:00:00",
          "2025-10-07T21:15:00",
          "2025-10-07T21:30:00",
          "2025-10-07T21:45:00",
          "2025-10-07T22:00:00",
          "2025-10-07T22:15:00",
          "2025-10-07T22:30:00",
          "2025-10-07T22:45:00",
          "2025-10-07T23:00:00",
          "2025-10-07T23:15:00",
          "2025-10-07T23:30:00",
          "2025-10-07T23:45:00",
          "2025-10-08T00:00:00",
          "2025-10-08T00:15:00",
          "2025-10-08T00:30:00",
          "2025-10-08T00:45:00",
          "2025-10-08T01:00:00",
          "2025-10-08T01:15:00",
          "2025-10-08T01:30:00",
          "2025-10-08T01:45:00",
          "2025-10-08T02:00:00",
          "2025-10-08T02:15:00",
          "2025-10-08T02:30:00",
          "2025-10-08T02:45:00",
          "2025-10-08T03:00:00",
          "2025-10-08T03:15:00",
          "2025-10-08T03:30:00",
          "2025-10-08T03:45:00",
          "2025-10-08T04:00:00",
          "2025-10-08T04:15:00",
          "2025-10-08T04:30:00",
          "2025-10-08T04:45:00",
          "2025-10-08T05:00:00",
          "2025-10-08T05:15:00",
          "2025-10-08T05:30:00",
          "2025-10-08T05:45:00",
          "2025-10-08T06:00:00",
          "2025-10-08T06:15:00",
          "2025-10-08T06:30:00",
          "2025-10-08T06:45:00",
          "2025-10-08T07:00:00",
          "2025-10-08T07:15:00",
          "2025-10-08T07:30:00",
          "2025-10-08T07:45:00",
          "2025-10-08T08:00:00",
          "2025-10-08T08:15:00",
          "2025-10-08T08:30:00",
          "2025-10-08T08:45:00",
          "2025-10-08T09:00:00",
          "2025-10-08T09:15:00",
          "2025-10-08T09:30:00",
          "2025-10-08T09:45:00",
          "2025-10-08T10:00:00",
          "2025-10-08T10:15:00",
          "2025-10-08T10:30:00",
          "2025-10-08T10:45:00",
          "2025-10-08T11:00:00",
          "2025-10-08T11:15:00",
          "2025-10-08T11:30:00",
          "2025-10-08T11:45:00",
          "2025-10-08T12:00:00",
          "2025-10-08T12:15:00",
          "2025-10-08T12:30:00",
          "2025-10-08T12:45:00",
          "2025-10-08T13:00:00",
          "2025-10-08T13:15:00",
          "2025-10-08T13:30:00",
          "2025-10-08T13:45:00",
          "2025-10-08T14:00:00",
          "2025-10-08T14:15:00",
          "2025-10-08T14:30:00",
          "2025-10-08T14:45:00",
          "2025-10-08T15:00:00",
          "2025-10-08T15:15:00",
          "2025-10-08T15:30:00",
          "2025-10-08T15:45:00",
          "2025-10-08T16:00:00",
          "2025-10-08T16:15:00",
          "2025-10-08T16:30:00",
          "2025-10-08T16:45:00",
          "2025-10-08T17:00:00",
          "2025-10-08T17:15:00",
          "2025-10-08T17:30:00",
          "2025-10-08T17:45:00",
          "2025-10-08T18:00:00",
          "2025-10-08T18:15:00",
          "2025-10-08T18:30:00",
          "2025-10-08T18:45:00",
          "2025-10-08T19:00:00",
          "2025-10-08T19:15:00",
          "2025-10-08T19:30:00",
          "2025-10-08T19:45:00",
          "2025-10-08T20:00:00",
          "2025-10-08T20:15:00",
          "2025-10-08T20:30:00",
          "2025-10-08T20:45:00",
          "2025-10-08T21:00:00",
          "2025-10-08T21:15:00",
          "2025-10-08T21:30:00",
          "2025-10-08T21:45:00",
          "2025-10-08T22:00:00",
          "2025-10-08T22:15:00",
          "2025-10-08T22:30:00",
          "2025-10-08T22:45:00",
          "2025-10-08T23:00:00",
          "2025-10-08T23:15:00",
          "2025-10-08T23:30:00",
          "2025-10-08T23:45:00",
          "2025-10-09T00:00:00",
          "2025-10-09T00:15:00",
          "2025-10-09T00:30:00",
          "2025-10-09T00:45:00",
          "2025-10-09T01:00:00",
          "2025-10-09T01:15:00",
          "2025-10-09T01:30:00",
          "2025-10-09T01:45:00",
          "2025-10-09T02:00:00",
          "2025-10-09T02:15:00",
          "2025-10-09T02:30:00",
          "2025-10-09T02:45:00",
          "2025-10-09T03:00:00"
         ]
        },
        {
         "hovertemplate": "line_close_W<br>%{y:.2f}<extra></extra>",
         "line": {
          "color": "orange",
          "dash": "dash",
          "width": 1
         },
         "mode": "lines",
         "name": "line_close_W (s=110755.93156)",
         "showlegend": false,
         "type": "scatter",
         "x": [
          "2025-06-16T00:00:00",
          "2025-10-06T00:00:00"
         ],
         "y": [
          100963.87,
          100963.87
         ]
        },
        {
         "hovertemplate": "line_close_W<br>%{y:.2f}<extra></extra>",
         "line": {
          "color": "orange",
          "dash": "dash",
          "width": 1
         },
         "mode": "lines",
         "name": "line_close_W (s=178247.49297)",
         "showlegend": false,
         "type": "scatter",
         "x": [
          "2025-03-31T00:00:00",
          "2025-10-06T00:00:00"
         ],
         "y": [
          78430,
          78430
         ]
        },
        {
         "hovertemplate": "vah_line<br>%{y:.2f}<extra></extra>",
         "line": {
          "color": "green",
          "dash": "dash",
          "width": 1
         },
         "mode": "lines",
         "name": "vah_line (s=60185)",
         "showlegend": false,
         "type": "scatter",
         "x": [
          "2025-10-06T00:00:00",
          "2025-10-06T00:00:00"
         ],
         "y": [
          121853.58,
          121853.58
         ]
        },
        {
         "hovertemplate": "val_line<br>%{y:.2f}<extra></extra>",
         "line": {
          "color": "red",
          "dash": "dash",
          "width": 1
         },
         "mode": "lines",
         "name": "val_line (s=60185)",
         "showlegend": false,
         "type": "scatter",
         "x": [
          "2025-10-06T00:00:00",
          "2025-10-06T00:00:00"
         ],
         "y": [
          121853.58,
          121853.58
         ]
        },
        {
         "hovertemplate": "vah_line<br>%{y:.2f}<extra></extra>",
         "line": {
          "color": "green",
          "dash": "dash",
          "width": 1
         },
         "mode": "lines",
         "name": "vah_line (s=124480)",
         "showlegend": false,
         "type": "scatter",
         "x": [
          "2025-09-01T00:00:00",
          "2025-09-29T00:00:00"
         ],
         "y": [
          123482.30999999974,
          123482.30999999974
         ]
        },
        {
         "hovertemplate": "val_line<br>%{y:.2f}<extra></extra>",
         "line": {
          "color": "red",
          "dash": "dash",
          "width": 1
         },
         "mode": "lines",
         "name": "val_line (s=93970)",
         "showlegend": false,
         "type": "scatter",
         "x": [
          "2025-09-01T00:00:00",
          "2025-09-29T00:00:00"
         ],
         "y": [
          112124.93759999998,
          112124.93759999998
         ]
        },
        {
         "hovertemplate": "vah_line<br>%{y:.2f}<extra></extra>",
         "line": {
          "color": "green",
          "dash": "dash",
          "width": 1
         },
         "mode": "lines",
         "name": "vah_line (s=78822)",
         "showlegend": false,
         "type": "scatter",
         "x": [
          "2025-08-04T00:00:00",
          "2025-08-25T00:00:00"
         ],
         "y": [
          119294.00999999946,
          119294.00999999946
         ]
        },
        {
         "hovertemplate": "val_line<br>%{y:.2f}<extra></extra>",
         "line": {
          "color": "red",
          "dash": "dash",
          "width": 1
         },
         "mode": "lines",
         "name": "val_line (s=117920)",
         "showlegend": false,
         "type": "scatter",
         "x": [
          "2025-08-04T00:00:00",
          "2025-08-25T00:00:00"
         ],
         "y": [
          113438.75019999975,
          113438.75019999975
         ]
        },
        {
         "hovertemplate": "vah_line<br>%{y:.2f}<extra></extra>",
         "line": {
          "color": "green",
          "dash": "dash",
          "width": 1
         },
         "mode": "lines",
         "name": "vah_line (s=123158)",
         "showlegend": false,
         "type": "scatter",
         "x": [
          "2025-07-07T00:00:00",
          "2025-07-28T00:00:00"
         ],
         "y": [
          119415.55000000047,
          119415.55000000047
         ]
        },
        {
         "hovertemplate": "val_line<br>%{y:.2f}<extra></extra>",
         "line": {
          "color": "red",
          "dash": "dash",
          "width": 1
         },
         "mode": "lines",
         "name": "val_line (s=131579)",
         "showlegend": false,
         "type": "scatter",
         "x": [
          "2025-07-07T00:00:00",
          "2025-07-28T00:00:00"
         ],
         "y": [
          117228.71500000027,
          117228.71500000027
         ]
        },
        {
         "hovertemplate": "vah_line<br>%{y:.2f}<extra></extra>",
         "line": {
          "color": "green",
          "dash": "dash",
          "width": 1
         },
         "mode": "lines",
         "name": "vah_line (s=91938)",
         "showlegend": false,
         "type": "scatter",
         "x": [
          "2025-06-02T00:00:00",
          "2025-06-30T00:00:00"
         ],
         "y": [
          108379.8429999995,
          108379.8429999995
         ]
        },
        {
         "hovertemplate": "val_line<br>%{y:.2f}<extra></extra>",
         "line": {
          "color": "red",
          "dash": "dash",
          "width": 1
         },
         "mode": "lines",
         "name": "val_line (s=110755)",
         "showlegend": false,
         "type": "scatter",
         "x": [
          "2025-06-02T00:00:00",
          "2025-06-30T00:00:00"
         ],
         "y": [
          100963.87,
          100963.87
         ]
        },
        {
         "hovertemplate": "poc_line<br>%{y:.2f}<extra></extra>",
         "line": {
          "color": "lightgray",
          "dash": "dash",
          "width": 1
         },
         "mode": "lines",
         "name": "poc_line (s=60185)",
         "showlegend": false,
         "type": "scatter",
         "x": [
          "2025-10-06T00:00:00",
          "2025-10-06T00:00:00"
         ],
         "y": [
          121853.58,
          121853.58
         ]
        },
        {
         "hovertemplate": "poc_line<br>%{y:.2f}<extra></extra>",
         "line": {
          "color": "lightgray",
          "dash": "dash",
          "width": 1
         },
         "mode": "lines",
         "name": "poc_line (s=120321)",
         "showlegend": false,
         "type": "scatter",
         "x": [
          "2025-08-04T00:00:00",
          "2025-09-15T00:00:00"
         ],
         "y": [
          117360.66949999955,
          117360.66949999955
         ]
        },
        {
         "hovertemplate": "poc_line<br>%{y:.2f}<extra></extra>",
         "line": {
          "color": "lightgray",
          "dash": "dash",
          "width": 1
         },
         "mode": "lines",
         "name": "poc_line (s=131579)",
         "showlegend": false,
         "type": "scatter",
         "x": [
          "2025-07-07T00:00:00",
          "2025-08-04T00:00:00"
         ],
         "y": [
          117254.74875000028,
          117254.74875000028
         ]
        },
        {
         "hovertemplate": "naked_poc_line<br>%{y:.2f}<extra></extra>",
         "line": {
          "color": "white",
          "dash": "dash",
          "width": 2
         },
         "mode": "lines",
         "name": "naked_poc_line (s=159186)",
         "showlegend": false,
         "type": "scatter",
         "x": [
          "2025-09-01T00:00:00",
          "2025-10-06T00:00:00"
         ],
         "y": [
          115272.90494999991,
          115272.90494999991
         ]
        },
        {
         "hovertemplate": "naked_poc_line<br>%{y:.2f}<extra></extra>",
         "line": {
          "color": "white",
          "dash": "dash",
          "width": 2
         },
         "mode": "lines",
         "name": "naked_poc_line (s=110755)",
         "showlegend": false,
         "type": "scatter",
         "x": [
          "2025-06-02T00:00:00",
          "2025-10-06T00:00:00"
         ],
         "y": [
          101005.06985,
          101005.06985
         ]
        }
       ],
       "layout": {
        "height": 800,
        "showlegend": false,
        "template": {
         "data": {
          "bar": [
           {
            "error_x": {
             "color": "#f2f5fa"
            },
            "error_y": {
             "color": "#f2f5fa"
            },
            "marker": {
             "line": {
              "color": "rgb(17,17,17)",
              "width": 0.5
             },
             "pattern": {
              "fillmode": "overlay",
              "size": 10,
              "solidity": 0.2
             }
            },
            "type": "bar"
           }
          ],
          "barpolar": [
           {
            "marker": {
             "line": {
              "color": "rgb(17,17,17)",
              "width": 0.5
             },
             "pattern": {
              "fillmode": "overlay",
              "size": 10,
              "solidity": 0.2
             }
            },
            "type": "barpolar"
           }
          ],
          "carpet": [
           {
            "aaxis": {
             "endlinecolor": "#A2B1C6",
             "gridcolor": "#506784",
             "linecolor": "#506784",
             "minorgridcolor": "#506784",
             "startlinecolor": "#A2B1C6"
            },
            "baxis": {
             "endlinecolor": "#A2B1C6",
             "gridcolor": "#506784",
             "linecolor": "#506784",
             "minorgridcolor": "#506784",
             "startlinecolor": "#A2B1C6"
            },
            "type": "carpet"
           }
          ],
          "choropleth": [
           {
            "colorbar": {
             "outlinewidth": 0,
             "ticks": ""
            },
            "type": "choropleth"
           }
          ],
          "contour": [
           {
            "colorbar": {
             "outlinewidth": 0,
             "ticks": ""
            },
            "colorscale": [
             [
              0,
              "#0d0887"
             ],
             [
              0.1111111111111111,
              "#46039f"
             ],
             [
              0.2222222222222222,
              "#7201a8"
             ],
             [
              0.3333333333333333,
              "#9c179e"
             ],
             [
              0.4444444444444444,
              "#bd3786"
             ],
             [
              0.5555555555555556,
              "#d8576b"
             ],
             [
              0.6666666666666666,
              "#ed7953"
             ],
             [
              0.7777777777777778,
              "#fb9f3a"
             ],
             [
              0.8888888888888888,
              "#fdca26"
             ],
             [
              1,
              "#f0f921"
             ]
            ],
            "type": "contour"
           }
          ],
          "contourcarpet": [
           {
            "colorbar": {
             "outlinewidth": 0,
             "ticks": ""
            },
            "type": "contourcarpet"
           }
          ],
          "heatmap": [
           {
            "colorbar": {
             "outlinewidth": 0,
             "ticks": ""
            },
            "colorscale": [
             [
              0,
              "#0d0887"
             ],
             [
              0.1111111111111111,
              "#46039f"
             ],
             [
              0.2222222222222222,
              "#7201a8"
             ],
             [
              0.3333333333333333,
              "#9c179e"
             ],
             [
              0.4444444444444444,
              "#bd3786"
             ],
             [
              0.5555555555555556,
              "#d8576b"
             ],
             [
              0.6666666666666666,
              "#ed7953"
             ],
             [
              0.7777777777777778,
              "#fb9f3a"
             ],
             [
              0.8888888888888888,
              "#fdca26"
             ],
             [
              1,
              "#f0f921"
             ]
            ],
            "type": "heatmap"
           }
          ],
          "histogram": [
           {
            "marker": {
             "pattern": {
              "fillmode": "overlay",
              "size": 10,
              "solidity": 0.2
             }
            },
            "type": "histogram"
           }
          ],
          "histogram2d": [
           {
            "colorbar": {
             "outlinewidth": 0,
             "ticks": ""
            },
            "colorscale": [
             [
              0,
              "#0d0887"
             ],
             [
              0.1111111111111111,
              "#46039f"
             ],
             [
              0.2222222222222222,
              "#7201a8"
             ],
             [
              0.3333333333333333,
              "#9c179e"
             ],
             [
              0.4444444444444444,
              "#bd3786"
             ],
             [
              0.5555555555555556,
              "#d8576b"
             ],
             [
              0.6666666666666666,
              "#ed7953"
             ],
             [
              0.7777777777777778,
              "#fb9f3a"
             ],
             [
              0.8888888888888888,
              "#fdca26"
             ],
             [
              1,
              "#f0f921"
             ]
            ],
            "type": "histogram2d"
           }
          ],
          "histogram2dcontour": [
           {
            "colorbar": {
             "outlinewidth": 0,
             "ticks": ""
            },
            "colorscale": [
             [
              0,
              "#0d0887"
             ],
             [
              0.1111111111111111,
              "#46039f"
             ],
             [
              0.2222222222222222,
              "#7201a8"
             ],
             [
              0.3333333333333333,
              "#9c179e"
             ],
             [
              0.4444444444444444,
              "#bd3786"
             ],
             [
              0.5555555555555556,
              "#d8576b"
             ],
             [
              0.6666666666666666,
              "#ed7953"
             ],
             [
              0.7777777777777778,
              "#fb9f3a"
             ],
             [
              0.8888888888888888,
              "#fdca26"
             ],
             [
              1,
              "#f0f921"
             ]
            ],
            "type": "histogram2dcontour"
           }
          ],
          "mesh3d": [
           {
            "colorbar": {
             "outlinewidth": 0,
             "ticks": ""
            },
            "type": "mesh3d"
           }
          ],
          "parcoords": [
           {
            "line": {
             "colorbar": {
              "outlinewidth": 0,
              "ticks": ""
             }
            },
            "type": "parcoords"
           }
          ],
          "pie": [
           {
            "automargin": true,
            "type": "pie"
           }
          ],
          "scatter": [
           {
            "marker": {
             "line": {
              "color": "#283442"
             }
            },
            "type": "scatter"
           }
          ],
          "scatter3d": [
           {
            "line": {
             "colorbar": {
              "outlinewidth": 0,
              "ticks": ""
             }
            },
            "marker": {
             "colorbar": {
              "outlinewidth": 0,
              "ticks": ""
             }
            },
            "type": "scatter3d"
           }
          ],
          "scattercarpet": [
           {
            "marker": {
             "colorbar": {
              "outlinewidth": 0,
              "ticks": ""
             }
            },
            "type": "scattercarpet"
           }
          ],
          "scattergeo": [
           {
            "marker": {
             "colorbar": {
              "outlinewidth": 0,
              "ticks": ""
             }
            },
            "type": "scattergeo"
           }
          ],
          "scattergl": [
           {
            "marker": {
             "line": {
              "color": "#283442"
             }
            },
            "type": "scattergl"
           }
          ],
          "scattermap": [
           {
            "marker": {
             "colorbar": {
              "outlinewidth": 0,
              "ticks": ""
             }
            },
            "type": "scattermap"
           }
          ],
          "scattermapbox": [
           {
            "marker": {
             "colorbar": {
              "outlinewidth": 0,
              "ticks": ""
             }
            },
            "type": "scattermapbox"
           }
          ],
          "scatterpolar": [
           {
            "marker": {
             "colorbar": {
              "outlinewidth": 0,
              "ticks": ""
             }
            },
            "type": "scatterpolar"
           }
          ],
          "scatterpolargl": [
           {
            "marker": {
             "colorbar": {
              "outlinewidth": 0,
              "ticks": ""
             }
            },
            "type": "scatterpolargl"
           }
          ],
          "scatterternary": [
           {
            "marker": {
             "colorbar": {
              "outlinewidth": 0,
              "ticks": ""
             }
            },
            "type": "scatterternary"
           }
          ],
          "surface": [
           {
            "colorbar": {
             "outlinewidth": 0,
             "ticks": ""
            },
            "colorscale": [
             [
              0,
              "#0d0887"
             ],
             [
              0.1111111111111111,
              "#46039f"
             ],
             [
              0.2222222222222222,
              "#7201a8"
             ],
             [
              0.3333333333333333,
              "#9c179e"
             ],
             [
              0.4444444444444444,
              "#bd3786"
             ],
             [
              0.5555555555555556,
              "#d8576b"
             ],
             [
              0.6666666666666666,
              "#ed7953"
             ],
             [
              0.7777777777777778,
              "#fb9f3a"
             ],
             [
              0.8888888888888888,
              "#fdca26"
             ],
             [
              1,
              "#f0f921"
             ]
            ],
            "type": "surface"
           }
          ],
          "table": [
           {
            "cells": {
             "fill": {
              "color": "#506784"
             },
             "line": {
              "color": "rgb(17,17,17)"
             }
            },
            "header": {
             "fill": {
              "color": "#2a3f5f"
             },
             "line": {
              "color": "rgb(17,17,17)"
             }
            },
            "type": "table"
           }
          ]
         },
         "layout": {
          "annotationdefaults": {
           "arrowcolor": "#f2f5fa",
           "arrowhead": 0,
           "arrowwidth": 1
          },
          "autotypenumbers": "strict",
          "coloraxis": {
           "colorbar": {
            "outlinewidth": 0,
            "ticks": ""
           }
          },
          "colorscale": {
           "diverging": [
            [
             0,
             "#8e0152"
            ],
            [
             0.1,
             "#c51b7d"
            ],
            [
             0.2,
             "#de77ae"
            ],
            [
             0.3,
             "#f1b6da"
            ],
            [
             0.4,
             "#fde0ef"
            ],
            [
             0.5,
             "#f7f7f7"
            ],
            [
             0.6,
             "#e6f5d0"
            ],
            [
             0.7,
             "#b8e186"
            ],
            [
             0.8,
             "#7fbc41"
            ],
            [
             0.9,
             "#4d9221"
            ],
            [
             1,
             "#276419"
            ]
           ],
           "sequential": [
            [
             0,
             "#0d0887"
            ],
            [
             0.1111111111111111,
             "#46039f"
            ],
            [
             0.2222222222222222,
             "#7201a8"
            ],
            [
             0.3333333333333333,
             "#9c179e"
            ],
            [
             0.4444444444444444,
             "#bd3786"
            ],
            [
             0.5555555555555556,
             "#d8576b"
            ],
            [
             0.6666666666666666,
             "#ed7953"
            ],
            [
             0.7777777777777778,
             "#fb9f3a"
            ],
            [
             0.8888888888888888,
             "#fdca26"
            ],
            [
             1,
             "#f0f921"
            ]
           ],
           "sequentialminus": [
            [
             0,
             "#0d0887"
            ],
            [
             0.1111111111111111,
             "#46039f"
            ],
            [
             0.2222222222222222,
             "#7201a8"
            ],
            [
             0.3333333333333333,
             "#9c179e"
            ],
            [
             0.4444444444444444,
             "#bd3786"
            ],
            [
             0.5555555555555556,
             "#d8576b"
            ],
            [
             0.6666666666666666,
             "#ed7953"
            ],
            [
             0.7777777777777778,
             "#fb9f3a"
            ],
            [
             0.8888888888888888,
             "#fdca26"
            ],
            [
             1,
             "#f0f921"
            ]
           ]
          },
          "colorway": [
           "#636efa",
           "#EF553B",
           "#00cc96",
           "#ab63fa",
           "#FFA15A",
           "#19d3f3",
           "#FF6692",
           "#B6E880",
           "#FF97FF",
           "#FECB52"
          ],
          "font": {
           "color": "#f2f5fa"
          },
          "geo": {
           "bgcolor": "rgb(17,17,17)",
           "lakecolor": "rgb(17,17,17)",
           "landcolor": "rgb(17,17,17)",
           "showlakes": true,
           "showland": true,
           "subunitcolor": "#506784"
          },
          "hoverlabel": {
           "align": "left"
          },
          "hovermode": "closest",
          "mapbox": {
           "style": "dark"
          },
          "paper_bgcolor": "rgb(17,17,17)",
          "plot_bgcolor": "rgb(17,17,17)",
          "polar": {
           "angularaxis": {
            "gridcolor": "#506784",
            "linecolor": "#506784",
            "ticks": ""
           },
           "bgcolor": "rgb(17,17,17)",
           "radialaxis": {
            "gridcolor": "#506784",
            "linecolor": "#506784",
            "ticks": ""
           }
          },
          "scene": {
           "xaxis": {
            "backgroundcolor": "rgb(17,17,17)",
            "gridcolor": "#506784",
            "gridwidth": 2,
            "linecolor": "#506784",
            "showbackground": true,
            "ticks": "",
            "zerolinecolor": "#C8D4E3"
           },
           "yaxis": {
            "backgroundcolor": "rgb(17,17,17)",
            "gridcolor": "#506784",
            "gridwidth": 2,
            "linecolor": "#506784",
            "showbackground": true,
            "ticks": "",
            "zerolinecolor": "#C8D4E3"
           },
           "zaxis": {
            "backgroundcolor": "rgb(17,17,17)",
            "gridcolor": "#506784",
            "gridwidth": 2,
            "linecolor": "#506784",
            "showbackground": true,
            "ticks": "",
            "zerolinecolor": "#C8D4E3"
           }
          },
          "shapedefaults": {
           "line": {
            "color": "#f2f5fa"
           }
          },
          "sliderdefaults": {
           "bgcolor": "#C8D4E3",
           "bordercolor": "rgb(17,17,17)",
           "borderwidth": 1,
           "tickwidth": 0
          },
          "ternary": {
           "aaxis": {
            "gridcolor": "#506784",
            "linecolor": "#506784",
            "ticks": ""
           },
           "baxis": {
            "gridcolor": "#506784",
            "linecolor": "#506784",
            "ticks": ""
           },
           "bgcolor": "rgb(17,17,17)",
           "caxis": {
            "gridcolor": "#506784",
            "linecolor": "#506784",
            "ticks": ""
           }
          },
          "title": {
           "x": 0.05
          },
          "updatemenudefaults": {
           "bgcolor": "#506784",
           "borderwidth": 0
          },
          "xaxis": {
           "automargin": true,
           "gridcolor": "#283442",
           "linecolor": "#506784",
           "ticks": "",
           "title": {
            "standoff": 15
           },
           "zerolinecolor": "#283442",
           "zerolinewidth": 2
          },
          "yaxis": {
           "automargin": true,
           "gridcolor": "#283442",
           "linecolor": "#506784",
           "ticks": "",
           "title": {
            "standoff": 15
           },
           "zerolinecolor": "#283442",
           "zerolinewidth": 2
          }
         }
        },
        "title": {
         "text": "BTCUSDT - W - Cached Levels Visualizer (250 candles)"
        },
        "xaxis": {
         "fixedrange": false,
         "rangeslider": {
          "visible": false
         },
         "title": {
          "text": "Time"
         }
        },
        "yaxis": {
         "fixedrange": false,
         "title": {
          "text": "Price"
         },
         "type": "log"
        }
       }
      }
     },
     "metadata": {},
     "output_type": "display_data"
    },
    {
     "name": "stdout",
     "output_type": "stream",
     "text": [
      "\n",
      "🔍 Visualizing D timeframe levels...\n"
     ]
    },
    {
     "data": {
      "application/vnd.plotly.v1+json": {
       "config": {
        "plotlyServerURL": "https://plot.ly"
       },
       "data": [
        {
         "close": {
          "bdata": "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",
          "dtype": "f8"
         },
         "high": {
          "bdata": "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",
          "dtype": "f8"
         },
         "low": {
          "bdata": "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",
          "dtype": "f8"
         },
         "name": "Candlestick",
         "open": {
          "bdata": "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",
          "dtype": "f8"
         },
         "showlegend": false,
         "type": "candlestick",
         "x": [
          "2025-10-06T12:45:00",
          "2025-10-06T13:00:00",
          "2025-10-06T13:15:00",
          "2025-10-06T13:30:00",
          "2025-10-06T13:45:00",
          "2025-10-06T14:00:00",
          "2025-10-06T14:15:00",
          "2025-10-06T14:30:00",
          "2025-10-06T14:45:00",
          "2025-10-06T15:00:00",
          "2025-10-06T15:15:00",
          "2025-10-06T15:30:00",
          "2025-10-06T15:45:00",
          "2025-10-06T16:00:00",
          "2025-10-06T16:15:00",
          "2025-10-06T16:30:00",
          "2025-10-06T16:45:00",
          "2025-10-06T17:00:00",
          "2025-10-06T17:15:00",
          "2025-10-06T17:30:00",
          "2025-10-06T17:45:00",
          "2025-10-06T18:00:00",
          "2025-10-06T18:15:00",
          "2025-10-06T18:30:00",
          "2025-10-06T18:45:00",
          "2025-10-06T19:00:00",
          "2025-10-06T19:15:00",
          "2025-10-06T19:30:00",
          "2025-10-06T19:45:00",
          "2025-10-06T20:00:00",
          "2025-10-06T20:15:00",
          "2025-10-06T20:30:00",
          "2025-10-06T20:45:00",
          "2025-10-06T21:00:00",
          "2025-10-06T21:15:00",
          "2025-10-06T21:30:00",
          "2025-10-06T21:45:00",
          "2025-10-06T22:00:00",
          "2025-10-06T22:15:00",
          "2025-10-06T22:30:00",
          "2025-10-06T22:45:00",
          "2025-10-06T23:00:00",
          "2025-10-06T23:15:00",
          "2025-10-06T23:30:00",
          "2025-10-06T23:45:00",
          "2025-10-07T00:00:00",
          "2025-10-07T00:15:00",
          "2025-10-07T00:30:00",
          "2025-10-07T00:45:00",
          "2025-10-07T01:00:00",
          "2025-10-07T01:15:00",
          "2025-10-07T01:30:00",
          "2025-10-07T01:45:00",
          "2025-10-07T02:00:00",
          "2025-10-07T02:15:00",
          "2025-10-07T02:30:00",
          "2025-10-07T02:45:00",
          "2025-10-07T03:00:00",
          "2025-10-07T03:15:00",
          "2025-10-07T03:30:00",
          "2025-10-07T03:45:00",
          "2025-10-07T04:00:00",
          "2025-10-07T04:15:00",
          "2025-10-07T04:30:00",
          "2025-10-07T04:45:00",
          "2025-10-07T05:00:00",
          "2025-10-07T05:15:00",
          "2025-10-07T05:30:00",
          "2025-10-07T05:45:00",
          "2025-10-07T06:00:00",
          "2025-10-07T06:15:00",
          "2025-10-07T06:30:00",
          "2025-10-07T06:45:00",
          "2025-10-07T07:00:00",
          "2025-10-07T07:15:00",
          "2025-10-07T07:30:00",
          "2025-10-07T07:45:00",
          "2025-10-07T08:00:00",
          "2025-10-07T08:15:00",
          "2025-10-07T08:30:00",
          "2025-10-07T08:45:00",
          "2025-10-07T09:00:00",
          "2025-10-07T09:15:00",
          "2025-10-07T09:30:00",
          "2025-10-07T09:45:00",
          "2025-10-07T10:00:00",
          "2025-10-07T10:15:00",
          "2025-10-07T10:30:00",
          "2025-10-07T10:45:00",
          "2025-10-07T11:00:00",
          "2025-10-07T11:15:00",
          "2025-10-07T11:30:00",
          "2025-10-07T11:45:00",
          "2025-10-07T12:00:00",
          "2025-10-07T12:15:00",
          "2025-10-07T12:30:00",
          "2025-10-07T12:45:00",
          "2025-10-07T13:00:00",
          "2025-10-07T13:15:00",
          "2025-10-07T13:30:00",
          "2025-10-07T13:45:00",
          "2025-10-07T14:00:00",
          "2025-10-07T14:15:00",
          "2025-10-07T14:30:00",
          "2025-10-07T14:45:00",
          "2025-10-07T15:00:00",
          "2025-10-07T15:15:00",
          "2025-10-07T15:30:00",
          "2025-10-07T15:45:00",
          "2025-10-07T16:00:00",
          "2025-10-07T16:15:00",
          "2025-10-07T16:30:00",
          "2025-10-07T16:45:00",
          "2025-10-07T17:00:00",
          "2025-10-07T17:15:00",
          "2025-10-07T17:30:00",
          "2025-10-07T17:45:00",
          "2025-10-07T18:00:00",
          "2025-10-07T18:15:00",
          "2025-10-07T18:30:00",
          "2025-10-07T18:45:00",
          "2025-10-07T19:00:00",
          "2025-10-07T19:15:00",
          "2025-10-07T19:30:00",
          "2025-10-07T19:45:00",
          "2025-10-07T20:00:00",
          "2025-10-07T20:15:00",
          "2025-10-07T20:30:00",
          "2025-10-07T20:45:00",
          "2025-10-07T21:00:00",
          "2025-10-07T21:15:00",
          "2025-10-07T21:30:00",
          "2025-10-07T21:45:00",
          "2025-10-07T22:00:00",
          "2025-10-07T22:15:00",
          "2025-10-07T22:30:00",
          "2025-10-07T22:45:00",
          "2025-10-07T23:00:00",
          "2025-10-07T23:15:00",
          "2025-10-07T23:30:00",
          "2025-10-07T23:45:00",
          "2025-10-08T00:00:00",
          "2025-10-08T00:15:00",
          "2025-10-08T00:30:00",
          "2025-10-08T00:45:00",
          "2025-10-08T01:00:00",
          "2025-10-08T01:15:00",
          "2025-10-08T01:30:00",
          "2025-10-08T01:45:00",
          "2025-10-08T02:00:00",
          "2025-10-08T02:15:00",
          "2025-10-08T02:30:00",
          "2025-10-08T02:45:00",
          "2025-10-08T03:00:00",
          "2025-10-08T03:15:00",
          "2025-10-08T03:30:00",
          "2025-10-08T03:45:00",
          "2025-10-08T04:00:00",
          "2025-10-08T04:15:00",
          "2025-10-08T04:30:00",
          "2025-10-08T04:45:00",
          "2025-10-08T05:00:00",
          "2025-10-08T05:15:00",
          "2025-10-08T05:30:00",
          "2025-10-08T05:45:00",
          "2025-10-08T06:00:00",
          "2025-10-08T06:15:00",
          "2025-10-08T06:30:00",
          "2025-10-08T06:45:00",
          "2025-10-08T07:00:00",
          "2025-10-08T07:15:00",
          "2025-10-08T07:30:00",
          "2025-10-08T07:45:00",
          "2025-10-08T08:00:00",
          "2025-10-08T08:15:00",
          "2025-10-08T08:30:00",
          "2025-10-08T08:45:00",
          "2025-10-08T09:00:00",
          "2025-10-08T09:15:00",
          "2025-10-08T09:30:00",
          "2025-10-08T09:45:00",
          "2025-10-08T10:00:00",
          "2025-10-08T10:15:00",
          "2025-10-08T10:30:00",
          "2025-10-08T10:45:00",
          "2025-10-08T11:00:00",
          "2025-10-08T11:15:00",
          "2025-10-08T11:30:00",
          "2025-10-08T11:45:00",
          "2025-10-08T12:00:00",
          "2025-10-08T12:15:00",
          "2025-10-08T12:30:00",
          "2025-10-08T12:45:00",
          "2025-10-08T13:00:00",
          "2025-10-08T13:15:00",
          "2025-10-08T13:30:00",
          "2025-10-08T13:45:00",
          "2025-10-08T14:00:00",
          "2025-10-08T14:15:00",
          "2025-10-08T14:30:00",
          "2025-10-08T14:45:00",
          "2025-10-08T15:00:00",
          "2025-10-08T15:15:00",
          "2025-10-08T15:30:00",
          "2025-10-08T15:45:00",
          "2025-10-08T16:00:00",
          "2025-10-08T16:15:00",
          "2025-10-08T16:30:00",
          "2025-10-08T16:45:00",
          "2025-10-08T17:00:00",
          "2025-10-08T17:15:00",
          "2025-10-08T17:30:00",
          "2025-10-08T17:45:00",
          "2025-10-08T18:00:00",
          "2025-10-08T18:15:00",
          "2025-10-08T18:30:00",
          "2025-10-08T18:45:00",
          "2025-10-08T19:00:00",
          "2025-10-08T19:15:00",
          "2025-10-08T19:30:00",
          "2025-10-08T19:45:00",
          "2025-10-08T20:00:00",
          "2025-10-08T20:15:00",
          "2025-10-08T20:30:00",
          "2025-10-08T20:45:00",
          "2025-10-08T21:00:00",
          "2025-10-08T21:15:00",
          "2025-10-08T21:30:00",
          "2025-10-08T21:45:00",
          "2025-10-08T22:00:00",
          "2025-10-08T22:15:00",
          "2025-10-08T22:30:00",
          "2025-10-08T22:45:00",
          "2025-10-08T23:00:00",
          "2025-10-08T23:15:00",
          "2025-10-08T23:30:00",
          "2025-10-08T23:45:00",
          "2025-10-09T00:00:00",
          "2025-10-09T00:15:00",
          "2025-10-09T00:30:00",
          "2025-10-09T00:45:00",
          "2025-10-09T01:00:00",
          "2025-10-09T01:15:00",
          "2025-10-09T01:30:00",
          "2025-10-09T01:45:00",
          "2025-10-09T02:00:00",
          "2025-10-09T02:15:00",
          "2025-10-09T02:30:00",
          "2025-10-09T02:45:00",
          "2025-10-09T03:00:00"
         ]
        },
        {
         "hovertemplate": "line_close_D<br>%{y:.2f}<extra></extra>",
         "line": {
          "color": "orange",
          "dash": "dash",
          "width": 1
         },
         "mode": "lines",
         "name": "line_close_D (s=5501.78643)",
         "showlegend": false,
         "type": "scatter",
         "x": [
          "2025-09-27T00:00:00",
          "2025-10-09T00:00:00"
         ],
         "y": [
          109635.85,
          109635.85
         ]
        },
        {
         "hovertemplate": "line_close_D<br>%{y:.2f}<extra></extra>",
         "line": {
          "color": "orange",
          "dash": "dash",
          "width": 1
         },
         "mode": "lines",
         "name": "line_close_D (s=21231.14957)",
         "showlegend": false,
         "type": "scatter",
         "x": [
          "2025-09-25T00:00:00",
          "2025-10-09T00:00:00"
         ],
         "y": [
          108994.49,
          108994.49
         ]
        },
        {
         "hovertemplate": "line_close_D<br>%{y:.2f}<extra></extra>",
         "line": {
          "color": "orange",
          "dash": "dash",
          "width": 1
         },
         "mode": "lines",
         "name": "line_close_D (s=19494.628793)",
         "showlegend": false,
         "type": "scatter",
         "x": [
          "2025-10-06T00:00:00",
          "2025-10-09T00:00:00"
         ],
         "y": [
          124658.54,
          124658.54
         ]
        },
        {
         "hovertemplate": "vah_line<br>%{y:.2f}<extra></extra>",
         "line": {
          "color": "green",
          "dash": "dash",
          "width": 1
         },
         "mode": "lines",
         "name": "vah_line (s=19494)",
         "showlegend": false,
         "type": "scatter",
         "x": [
          "2025-10-06T00:00:00",
          "2025-10-09T00:00:00"
         ],
         "y": [
          124658.54000000037,
          124658.54000000037
         ]
        },
        {
         "hovertemplate": "val_line<br>%{y:.2f}<extra></extra>",
         "line": {
          "color": "red",
          "dash": "dash",
          "width": 1
         },
         "mode": "lines",
         "name": "val_line (s=21633)",
         "showlegend": false,
         "type": "scatter",
         "x": [
          "2025-10-06T00:00:00",
          "2025-10-09T00:00:00"
         ],
         "y": [
          121332.95,
          121332.95
         ]
        },
        {
         "hovertemplate": "vah_line<br>%{y:.2f}<extra></extra>",
         "line": {
          "color": "green",
          "dash": "dash",
          "width": 1
         },
         "mode": "lines",
         "name": "vah_line (s=22043)",
         "showlegend": false,
         "type": "scatter",
         "x": [
          "2025-09-29T00:00:00",
          "2025-10-05T00:00:00"
         ],
         "y": [
          123482.3099999993,
          123482.3099999993
         ]
        },
        {
         "hovertemplate": "val_line<br>%{y:.2f}<extra></extra>",
         "line": {
          "color": "red",
          "dash": "dash",
          "width": 1
         },
         "mode": "lines",
         "name": "val_line (s=20036)",
         "showlegend": false,
         "type": "scatter",
         "x": [
          "2025-09-29T00:00:00",
          "2025-10-05T00:00:00"
         ],
         "y": [
          118576.95239999966,
          118576.95239999966
         ]
        },
        {
         "hovertemplate": "vah_line<br>%{y:.2f}<extra></extra>",
         "line": {
          "color": "green",
          "dash": "dash",
          "width": 1
         },
         "mode": "lines",
         "name": "vah_line (s=20781)",
         "showlegend": false,
         "type": "scatter",
         "x": [
          "2025-09-22T00:00:00",
          "2025-09-28T00:00:00"
         ],
         "y": [
          112660.12350000041,
          112660.12350000041
         ]
        },
        {
         "hovertemplate": "val_line<br>%{y:.2f}<extra></extra>",
         "line": {
          "color": "red",
          "dash": "dash",
          "width": 1
         },
         "mode": "lines",
         "name": "val_line (s=21231)",
         "showlegend": false,
         "type": "scatter",
         "x": [
          "2025-09-22T00:00:00",
          "2025-09-28T00:00:00"
         ],
         "y": [
          108994.49,
          108994.49
         ]
        },
        {
         "hovertemplate": "vah_line<br>%{y:.2f}<extra></extra>",
         "line": {
          "color": "green",
          "dash": "dash",
          "width": 1
         },
         "mode": "lines",
         "name": "vah_line",
         "showlegend": false,
         "type": "scatter",
         "x": [
          "2025-09-15T00:00:00",
          "2025-09-21T00:00:00"
         ],
         "y": [
          117091.9424000001,
          117091.9424000001
         ]
        },
        {
         "hovertemplate": "val_line<br>%{y:.2f}<extra></extra>",
         "line": {
          "color": "red",
          "dash": "dash",
          "width": 1
         },
         "mode": "lines",
         "name": "val_line (s=8992)",
         "showlegend": false,
         "type": "scatter",
         "x": [
          "2025-09-15T00:00:00",
          "2025-09-21T00:00:00"
         ],
         "y": [
          115618.95040000002,
          115618.95040000002
         ]
        },
        {
         "hovertemplate": "vah_line<br>%{y:.2f}<extra></extra>",
         "line": {
          "color": "green",
          "dash": "dash",
          "width": 1
         },
         "mode": "lines",
         "name": "vah_line",
         "showlegend": false,
         "type": "scatter",
         "x": [
          "2025-09-08T00:00:00",
          "2025-09-14T00:00:00"
         ],
         "y": [
          116074.25030000015,
          116074.25030000015
         ]
        },
        {
         "hovertemplate": "val_line<br>%{y:.2f}<extra></extra>",
         "line": {
          "color": "red",
          "dash": "dash",
          "width": 1
         },
         "mode": "lines",
         "name": "val_line (s=11582)",
         "showlegend": false,
         "type": "scatter",
         "x": [
          "2025-09-08T00:00:00",
          "2025-09-14T00:00:00"
         ],
         "y": [
          112039.52330000002,
          112039.52330000002
         ]
        },
        {
         "hovertemplate": "poc_line<br>%{y:.2f}<extra></extra>",
         "line": {
          "color": "lightgray",
          "dash": "dash",
          "width": 1
         },
         "mode": "lines",
         "name": "poc_line (s=21633)",
         "showlegend": false,
         "type": "scatter",
         "x": [
          "2025-10-06T00:00:00",
          "2025-10-09T00:00:00"
         ],
         "y": [
          121349.57795,
          121349.57795
         ]
        },
        {
         "hovertemplate": "poc_line<br>%{y:.2f}<extra></extra>",
         "line": {
          "color": "lightgray",
          "dash": "dash",
          "width": 1
         },
         "mode": "lines",
         "name": "poc_line (s=23936)",
         "showlegend": false,
         "type": "scatter",
         "x": [
          "2025-09-29T00:00:00",
          "2025-10-07T00:00:00"
         ],
         "y": [
          122208.8036999994,
          122208.8036999994
         ]
        },
        {
         "hovertemplate": "poc_line<br>%{y:.2f}<extra></extra>",
         "line": {
          "color": "lightgray",
          "dash": "dash",
          "width": 1
         },
         "mode": "lines",
         "name": "poc_line (s=16754)",
         "showlegend": false,
         "type": "scatter",
         "x": [
          "2025-09-15T00:00:00",
          "2025-10-01T00:00:00"
         ],
         "y": [
          116456.71460000006,
          116456.71460000006
         ]
        },
        {
         "hovertemplate": "poc_line<br>%{y:.2f}<extra></extra>",
         "line": {
          "color": "lightgray",
          "dash": "dash",
          "width": 1
         },
         "mode": "lines",
         "name": "poc_line (s=17517)",
         "showlegend": false,
         "type": "scatter",
         "x": [
          "2025-09-08T00:00:00",
          "2025-09-22T00:00:00"
         ],
         "y": [
          113944.81105000008,
          113944.81105000008
         ]
        },
        {
         "hovertemplate": "naked_poc_line<br>%{y:.2f}<extra></extra>",
         "line": {
          "color": "white",
          "dash": "dash",
          "width": 2
         },
         "mode": "lines",
         "name": "naked_poc_line (s=21231)",
         "showlegend": false,
         "type": "scatter",
         "x": [
          "2025-09-22T00:00:00",
          "2025-10-09T00:00:00"
         ],
         "y": [
          109016.05255000001,
          109016.05255000001
         ]
        },
        {
         "hovertemplate": "naked_poc_line<br>%{y:.2f}<extra></extra>",
         "line": {
          "color": "white",
          "dash": "dash",
          "width": 2
         },
         "mode": "lines",
         "name": "naked_poc_line (s=28659)",
         "showlegend": false,
         "type": "scatter",
         "x": [
          "2025-04-14T00:00:00",
          "2025-10-09T00:00:00"
         ],
         "y": [
          84588.1687499996,
          84588.1687499996
         ]
        }
       ],
       "layout": {
        "height": 800,
        "showlegend": false,
        "template": {
         "data": {
          "bar": [
           {
            "error_x": {
             "color": "#f2f5fa"
            },
            "error_y": {
             "color": "#f2f5fa"
            },
            "marker": {
             "line": {
              "color": "rgb(17,17,17)",
              "width": 0.5
             },
             "pattern": {
              "fillmode": "overlay",
              "size": 10,
              "solidity": 0.2
             }
            },
            "type": "bar"
           }
          ],
          "barpolar": [
           {
            "marker": {
             "line": {
              "color": "rgb(17,17,17)",
              "width": 0.5
             },
             "pattern": {
              "fillmode": "overlay",
              "size": 10,
              "solidity": 0.2
             }
            },
            "type": "barpolar"
           }
          ],
          "carpet": [
           {
            "aaxis": {
             "endlinecolor": "#A2B1C6",
             "gridcolor": "#506784",
             "linecolor": "#506784",
             "minorgridcolor": "#506784",
             "startlinecolor": "#A2B1C6"
            },
            "baxis": {
             "endlinecolor": "#A2B1C6",
             "gridcolor": "#506784",
             "linecolor": "#506784",
             "minorgridcolor": "#506784",
             "startlinecolor": "#A2B1C6"
            },
            "type": "carpet"
           }
          ],
          "choropleth": [
           {
            "colorbar": {
             "outlinewidth": 0,
             "ticks": ""
            },
            "type": "choropleth"
           }
          ],
          "contour": [
           {
            "colorbar": {
             "outlinewidth": 0,
             "ticks": ""
            },
            "colorscale": [
             [
              0,
              "#0d0887"
             ],
             [
              0.1111111111111111,
              "#46039f"
             ],
             [
              0.2222222222222222,
              "#7201a8"
             ],
             [
              0.3333333333333333,
              "#9c179e"
             ],
             [
              0.4444444444444444,
              "#bd3786"
             ],
             [
              0.5555555555555556,
              "#d8576b"
             ],
             [
              0.6666666666666666,
              "#ed7953"
             ],
             [
              0.7777777777777778,
              "#fb9f3a"
             ],
             [
              0.8888888888888888,
              "#fdca26"
             ],
             [
              1,
              "#f0f921"
             ]
            ],
            "type": "contour"
           }
          ],
          "contourcarpet": [
           {
            "colorbar": {
             "outlinewidth": 0,
             "ticks": ""
            },
            "type": "contourcarpet"
           }
          ],
          "heatmap": [
           {
            "colorbar": {
             "outlinewidth": 0,
             "ticks": ""
            },
            "colorscale": [
             [
              0,
              "#0d0887"
             ],
             [
              0.1111111111111111,
              "#46039f"
             ],
             [
              0.2222222222222222,
              "#7201a8"
             ],
             [
              0.3333333333333333,
              "#9c179e"
             ],
             [
              0.4444444444444444,
              "#bd3786"
             ],
             [
              0.5555555555555556,
              "#d8576b"
             ],
             [
              0.6666666666666666,
              "#ed7953"
             ],
             [
              0.7777777777777778,
              "#fb9f3a"
             ],
             [
              0.8888888888888888,
              "#fdca26"
             ],
             [
              1,
              "#f0f921"
             ]
            ],
            "type": "heatmap"
           }
          ],
          "histogram": [
           {
            "marker": {
             "pattern": {
              "fillmode": "overlay",
              "size": 10,
              "solidity": 0.2
             }
            },
            "type": "histogram"
           }
          ],
          "histogram2d": [
           {
            "colorbar": {
             "outlinewidth": 0,
             "ticks": ""
            },
            "colorscale": [
             [
              0,
              "#0d0887"
             ],
             [
              0.1111111111111111,
              "#46039f"
             ],
             [
              0.2222222222222222,
              "#7201a8"
             ],
             [
              0.3333333333333333,
              "#9c179e"
             ],
             [
              0.4444444444444444,
              "#bd3786"
             ],
             [
              0.5555555555555556,
              "#d8576b"
             ],
             [
              0.6666666666666666,
              "#ed7953"
             ],
             [
              0.7777777777777778,
              "#fb9f3a"
             ],
             [
              0.8888888888888888,
              "#fdca26"
             ],
             [
              1,
              "#f0f921"
             ]
            ],
            "type": "histogram2d"
           }
          ],
          "histogram2dcontour": [
           {
            "colorbar": {
             "outlinewidth": 0,
             "ticks": ""
            },
            "colorscale": [
             [
              0,
              "#0d0887"
             ],
             [
              0.1111111111111111,
              "#46039f"
             ],
             [
              0.2222222222222222,
              "#7201a8"
             ],
             [
              0.3333333333333333,
              "#9c179e"
             ],
             [
              0.4444444444444444,
              "#bd3786"
             ],
             [
              0.5555555555555556,
              "#d8576b"
             ],
             [
              0.6666666666666666,
              "#ed7953"
             ],
             [
              0.7777777777777778,
              "#fb9f3a"
             ],
             [
              0.8888888888888888,
              "#fdca26"
             ],
             [
              1,
              "#f0f921"
             ]
            ],
            "type": "histogram2dcontour"
           }
          ],
          "mesh3d": [
           {
            "colorbar": {
             "outlinewidth": 0,
             "ticks": ""
            },
            "type": "mesh3d"
           }
          ],
          "parcoords": [
           {
            "line": {
             "colorbar": {
              "outlinewidth": 0,
              "ticks": ""
             }
            },
            "type": "parcoords"
           }
          ],
          "pie": [
           {
            "automargin": true,
            "type": "pie"
           }
          ],
          "scatter": [
           {
            "marker": {
             "line": {
              "color": "#283442"
             }
            },
            "type": "scatter"
           }
          ],
          "scatter3d": [
           {
            "line": {
             "colorbar": {
              "outlinewidth": 0,
              "ticks": ""
             }
            },
            "marker": {
             "colorbar": {
              "outlinewidth": 0,
              "ticks": ""
             }
            },
            "type": "scatter3d"
           }
          ],
          "scattercarpet": [
           {
            "marker": {
             "colorbar": {
              "outlinewidth": 0,
              "ticks": ""
             }
            },
            "type": "scattercarpet"
           }
          ],
          "scattergeo": [
           {
            "marker": {
             "colorbar": {
              "outlinewidth": 0,
              "ticks": ""
             }
            },
            "type": "scattergeo"
           }
          ],
          "scattergl": [
           {
            "marker": {
             "line": {
              "color": "#283442"
             }
            },
            "type": "scattergl"
           }
          ],
          "scattermap": [
           {
            "marker": {
             "colorbar": {
              "outlinewidth": 0,
              "ticks": ""
             }
            },
            "type": "scattermap"
           }
          ],
          "scattermapbox": [
           {
            "marker": {
             "colorbar": {
              "outlinewidth": 0,
              "ticks": ""
             }
            },
            "type": "scattermapbox"
           }
          ],
          "scatterpolar": [
           {
            "marker": {
             "colorbar": {
              "outlinewidth": 0,
              "ticks": ""
             }
            },
            "type": "scatterpolar"
           }
          ],
          "scatterpolargl": [
           {
            "marker": {
             "colorbar": {
              "outlinewidth": 0,
              "ticks": ""
             }
            },
            "type": "scatterpolargl"
           }
          ],
          "scatterternary": [
           {
            "marker": {
             "colorbar": {
              "outlinewidth": 0,
              "ticks": ""
             }
            },
            "type": "scatterternary"
           }
          ],
          "surface": [
           {
            "colorbar": {
             "outlinewidth": 0,
             "ticks": ""
            },
            "colorscale": [
             [
              0,
              "#0d0887"
             ],
             [
              0.1111111111111111,
              "#46039f"
             ],
             [
              0.2222222222222222,
              "#7201a8"
             ],
             [
              0.3333333333333333,
              "#9c179e"
             ],
             [
              0.4444444444444444,
              "#bd3786"
             ],
             [
              0.5555555555555556,
              "#d8576b"
             ],
             [
              0.6666666666666666,
              "#ed7953"
             ],
             [
              0.7777777777777778,
              "#fb9f3a"
             ],
             [
              0.8888888888888888,
              "#fdca26"
             ],
             [
              1,
              "#f0f921"
             ]
            ],
            "type": "surface"
           }
          ],
          "table": [
           {
            "cells": {
             "fill": {
              "color": "#506784"
             },
             "line": {
              "color": "rgb(17,17,17)"
             }
            },
            "header": {
             "fill": {
              "color": "#2a3f5f"
             },
             "line": {
              "color": "rgb(17,17,17)"
             }
            },
            "type": "table"
           }
          ]
         },
         "layout": {
          "annotationdefaults": {
           "arrowcolor": "#f2f5fa",
           "arrowhead": 0,
           "arrowwidth": 1
          },
          "autotypenumbers": "strict",
          "coloraxis": {
           "colorbar": {
            "outlinewidth": 0,
            "ticks": ""
           }
          },
          "colorscale": {
           "diverging": [
            [
             0,
             "#8e0152"
            ],
            [
             0.1,
             "#c51b7d"
            ],
            [
             0.2,
             "#de77ae"
            ],
            [
             0.3,
             "#f1b6da"
            ],
            [
             0.4,
             "#fde0ef"
            ],
            [
             0.5,
             "#f7f7f7"
            ],
            [
             0.6,
             "#e6f5d0"
            ],
            [
             0.7,
             "#b8e186"
            ],
            [
             0.8,
             "#7fbc41"
            ],
            [
             0.9,
             "#4d9221"
            ],
            [
             1,
             "#276419"
            ]
           ],
           "sequential": [
            [
             0,
             "#0d0887"
            ],
            [
             0.1111111111111111,
             "#46039f"
            ],
            [
             0.2222222222222222,
             "#7201a8"
            ],
            [
             0.3333333333333333,
             "#9c179e"
            ],
            [
             0.4444444444444444,
             "#bd3786"
            ],
            [
             0.5555555555555556,
             "#d8576b"
            ],
            [
             0.6666666666666666,
             "#ed7953"
            ],
            [
             0.7777777777777778,
             "#fb9f3a"
            ],
            [
             0.8888888888888888,
             "#fdca26"
            ],
            [
             1,
             "#f0f921"
            ]
           ],
           "sequentialminus": [
            [
             0,
             "#0d0887"
            ],
            [
             0.1111111111111111,
             "#46039f"
            ],
            [
             0.2222222222222222,
             "#7201a8"
            ],
            [
             0.3333333333333333,
             "#9c179e"
            ],
            [
             0.4444444444444444,
             "#bd3786"
            ],
            [
             0.5555555555555556,
             "#d8576b"
            ],
            [
             0.6666666666666666,
             "#ed7953"
            ],
            [
             0.7777777777777778,
             "#fb9f3a"
            ],
            [
             0.8888888888888888,
             "#fdca26"
            ],
            [
             1,
             "#f0f921"
            ]
           ]
          },
          "colorway": [
           "#636efa",
           "#EF553B",
           "#00cc96",
           "#ab63fa",
           "#FFA15A",
           "#19d3f3",
           "#FF6692",
           "#B6E880",
           "#FF97FF",
           "#FECB52"
          ],
          "font": {
           "color": "#f2f5fa"
          },
          "geo": {
           "bgcolor": "rgb(17,17,17)",
           "lakecolor": "rgb(17,17,17)",
           "landcolor": "rgb(17,17,17)",
           "showlakes": true,
           "showland": true,
           "subunitcolor": "#506784"
          },
          "hoverlabel": {
           "align": "left"
          },
          "hovermode": "closest",
          "mapbox": {
           "style": "dark"
          },
          "paper_bgcolor": "rgb(17,17,17)",
          "plot_bgcolor": "rgb(17,17,17)",
          "polar": {
           "angularaxis": {
            "gridcolor": "#506784",
            "linecolor": "#506784",
            "ticks": ""
           },
           "bgcolor": "rgb(17,17,17)",
           "radialaxis": {
            "gridcolor": "#506784",
            "linecolor": "#506784",
            "ticks": ""
           }
          },
          "scene": {
           "xaxis": {
            "backgroundcolor": "rgb(17,17,17)",
            "gridcolor": "#506784",
            "gridwidth": 2,
            "linecolor": "#506784",
            "showbackground": true,
            "ticks": "",
            "zerolinecolor": "#C8D4E3"
           },
           "yaxis": {
            "backgroundcolor": "rgb(17,17,17)",
            "gridcolor": "#506784",
            "gridwidth": 2,
            "linecolor": "#506784",
            "showbackground": true,
            "ticks": "",
            "zerolinecolor": "#C8D4E3"
           },
           "zaxis": {
            "backgroundcolor": "rgb(17,17,17)",
            "gridcolor": "#506784",
            "gridwidth": 2,
            "linecolor": "#506784",
            "showbackground": true,
            "ticks": "",
            "zerolinecolor": "#C8D4E3"
           }
          },
          "shapedefaults": {
           "line": {
            "color": "#f2f5fa"
           }
          },
          "sliderdefaults": {
           "bgcolor": "#C8D4E3",
           "bordercolor": "rgb(17,17,17)",
           "borderwidth": 1,
           "tickwidth": 0
          },
          "ternary": {
           "aaxis": {
            "gridcolor": "#506784",
            "linecolor": "#506784",
            "ticks": ""
           },
           "baxis": {
            "gridcolor": "#506784",
            "linecolor": "#506784",
            "ticks": ""
           },
           "bgcolor": "rgb(17,17,17)",
           "caxis": {
            "gridcolor": "#506784",
            "linecolor": "#506784",
            "ticks": ""
           }
          },
          "title": {
           "x": 0.05
          },
          "updatemenudefaults": {
           "bgcolor": "#506784",
           "borderwidth": 0
          },
          "xaxis": {
           "automargin": true,
           "gridcolor": "#283442",
           "linecolor": "#506784",
           "ticks": "",
           "title": {
            "standoff": 15
           },
           "zerolinecolor": "#283442",
           "zerolinewidth": 2
          },
          "yaxis": {
           "automargin": true,
           "gridcolor": "#283442",
           "linecolor": "#506784",
           "ticks": "",
           "title": {
            "standoff": 15
           },
           "zerolinecolor": "#283442",
           "zerolinewidth": 2
          }
         }
        },
        "title": {
         "text": "BTCUSDT - D - Cached Levels Visualizer (250 candles)"
        },
        "xaxis": {
         "fixedrange": false,
         "rangeslider": {
          "visible": false
         },
         "title": {
          "text": "Time"
         }
        },
        "yaxis": {
         "fixedrange": false,
         "title": {
          "text": "Price"
         },
         "type": "log"
        }
       }
      }
     },
     "metadata": {},
     "output_type": "display_data"
    },
    {
     "name": "stdout",
     "output_type": "stream",
     "text": [
      "\n",
      "🔍 Visualizing 1h timeframe levels...\n"
     ]
    },
    {
     "data": {
      "application/vnd.plotly.v1+json": {
       "config": {
        "plotlyServerURL": "https://plot.ly"
       },
       "data": [
        {
         "close": {
          "bdata": "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",
          "dtype": "f8"
         },
         "high": {
          "bdata": "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",
          "dtype": "f8"
         },
         "low": {
          "bdata": "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",
          "dtype": "f8"
         },
         "name": "Candlestick",
         "open": {
          "bdata": "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",
          "dtype": "f8"
         },
         "showlegend": false,
         "type": "candlestick",
         "x": [
          "2025-10-06T12:45:00",
          "2025-10-06T13:00:00",
          "2025-10-06T13:15:00",
          "2025-10-06T13:30:00",
          "2025-10-06T13:45:00",
          "2025-10-06T14:00:00",
          "2025-10-06T14:15:00",
          "2025-10-06T14:30:00",
          "2025-10-06T14:45:00",
          "2025-10-06T15:00:00",
          "2025-10-06T15:15:00",
          "2025-10-06T15:30:00",
          "2025-10-06T15:45:00",
          "2025-10-06T16:00:00",
          "2025-10-06T16:15:00",
          "2025-10-06T16:30:00",
          "2025-10-06T16:45:00",
          "2025-10-06T17:00:00",
          "2025-10-06T17:15:00",
          "2025-10-06T17:30:00",
          "2025-10-06T17:45:00",
          "2025-10-06T18:00:00",
          "2025-10-06T18:15:00",
          "2025-10-06T18:30:00",
          "2025-10-06T18:45:00",
          "2025-10-06T19:00:00",
          "2025-10-06T19:15:00",
          "2025-10-06T19:30:00",
          "2025-10-06T19:45:00",
          "2025-10-06T20:00:00",
          "2025-10-06T20:15:00",
          "2025-10-06T20:30:00",
          "2025-10-06T20:45:00",
          "2025-10-06T21:00:00",
          "2025-10-06T21:15:00",
          "2025-10-06T21:30:00",
          "2025-10-06T21:45:00",
          "2025-10-06T22:00:00",
          "2025-10-06T22:15:00",
          "2025-10-06T22:30:00",
          "2025-10-06T22:45:00",
          "2025-10-06T23:00:00",
          "2025-10-06T23:15:00",
          "2025-10-06T23:30:00",
          "2025-10-06T23:45:00",
          "2025-10-07T00:00:00",
          "2025-10-07T00:15:00",
          "2025-10-07T00:30:00",
          "2025-10-07T00:45:00",
          "2025-10-07T01:00:00",
          "2025-10-07T01:15:00",
          "2025-10-07T01:30:00",
          "2025-10-07T01:45:00",
          "2025-10-07T02:00:00",
          "2025-10-07T02:15:00",
          "2025-10-07T02:30:00",
          "2025-10-07T02:45:00",
          "2025-10-07T03:00:00",
          "2025-10-07T03:15:00",
          "2025-10-07T03:30:00",
          "2025-10-07T03:45:00",
          "2025-10-07T04:00:00",
          "2025-10-07T04:15:00",
          "2025-10-07T04:30:00",
          "2025-10-07T04:45:00",
          "2025-10-07T05:00:00",
          "2025-10-07T05:15:00",
          "2025-10-07T05:30:00",
          "2025-10-07T05:45:00",
          "2025-10-07T06:00:00",
          "2025-10-07T06:15:00",
          "2025-10-07T06:30:00",
          "2025-10-07T06:45:00",
          "2025-10-07T07:00:00",
          "2025-10-07T07:15:00",
          "2025-10-07T07:30:00",
          "2025-10-07T07:45:00",
          "2025-10-07T08:00:00",
          "2025-10-07T08:15:00",
          "2025-10-07T08:30:00",
          "2025-10-07T08:45:00",
          "2025-10-07T09:00:00",
          "2025-10-07T09:15:00",
          "2025-10-07T09:30:00",
          "2025-10-07T09:45:00",
          "2025-10-07T10:00:00",
          "2025-10-07T10:15:00",
          "2025-10-07T10:30:00",
          "2025-10-07T10:45:00",
          "2025-10-07T11:00:00",
          "2025-10-07T11:15:00",
          "2025-10-07T11:30:00",
          "2025-10-07T11:45:00",
          "2025-10-07T12:00:00",
          "2025-10-07T12:15:00",
          "2025-10-07T12:30:00",
          "2025-10-07T12:45:00",
          "2025-10-07T13:00:00",
          "2025-10-07T13:15:00",
          "2025-10-07T13:30:00",
          "2025-10-07T13:45:00",
          "2025-10-07T14:00:00",
          "2025-10-07T14:15:00",
          "2025-10-07T14:30:00",
          "2025-10-07T14:45:00",
          "2025-10-07T15:00:00",
          "2025-10-07T15:15:00",
          "2025-10-07T15:30:00",
          "2025-10-07T15:45:00",
          "2025-10-07T16:00:00",
          "2025-10-07T16:15:00",
          "2025-10-07T16:30:00",
          "2025-10-07T16:45:00",
          "2025-10-07T17:00:00",
          "2025-10-07T17:15:00",
          "2025-10-07T17:30:00",
          "2025-10-07T17:45:00",
          "2025-10-07T18:00:00",
          "2025-10-07T18:15:00",
          "2025-10-07T18:30:00",
          "2025-10-07T18:45:00",
          "2025-10-07T19:00:00",
          "2025-10-07T19:15:00",
          "2025-10-07T19:30:00",
          "2025-10-07T19:45:00",
          "2025-10-07T20:00:00",
          "2025-10-07T20:15:00",
          "2025-10-07T20:30:00",
          "2025-10-07T20:45:00",
          "2025-10-07T21:00:00",
          "2025-10-07T21:15:00",
          "2025-10-07T21:30:00",
          "2025-10-07T21:45:00",
          "2025-10-07T22:00:00",
          "2025-10-07T22:15:00",
          "2025-10-07T22:30:00",
          "2025-10-07T22:45:00",
          "2025-10-07T23:00:00",
          "2025-10-07T23:15:00",
          "2025-10-07T23:30:00",
          "2025-10-07T23:45:00",
          "2025-10-08T00:00:00",
          "2025-10-08T00:15:00",
          "2025-10-08T00:30:00",
          "2025-10-08T00:45:00",
          "2025-10-08T01:00:00",
          "2025-10-08T01:15:00",
          "2025-10-08T01:30:00",
          "2025-10-08T01:45:00",
          "2025-10-08T02:00:00",
          "2025-10-08T02:15:00",
          "2025-10-08T02:30:00",
          "2025-10-08T02:45:00",
          "2025-10-08T03:00:00",
          "2025-10-08T03:15:00",
          "2025-10-08T03:30:00",
          "2025-10-08T03:45:00",
          "2025-10-08T04:00:00",
          "2025-10-08T04:15:00",
          "2025-10-08T04:30:00",
          "2025-10-08T04:45:00",
          "2025-10-08T05:00:00",
          "2025-10-08T05:15:00",
          "2025-10-08T05:30:00",
          "2025-10-08T05:45:00",
          "2025-10-08T06:00:00",
          "2025-10-08T06:15:00",
          "2025-10-08T06:30:00",
          "2025-10-08T06:45:00",
          "2025-10-08T07:00:00",
          "2025-10-08T07:15:00",
          "2025-10-08T07:30:00",
          "2025-10-08T07:45:00",
          "2025-10-08T08:00:00",
          "2025-10-08T08:15:00",
          "2025-10-08T08:30:00",
          "2025-10-08T08:45:00",
          "2025-10-08T09:00:00",
          "2025-10-08T09:15:00",
          "2025-10-08T09:30:00",
          "2025-10-08T09:45:00",
          "2025-10-08T10:00:00",
          "2025-10-08T10:15:00",
          "2025-10-08T10:30:00",
          "2025-10-08T10:45:00",
          "2025-10-08T11:00:00",
          "2025-10-08T11:15:00",
          "2025-10-08T11:30:00",
          "2025-10-08T11:45:00",
          "2025-10-08T12:00:00",
          "2025-10-08T12:15:00",
          "2025-10-08T12:30:00",
          "2025-10-08T12:45:00",
          "2025-10-08T13:00:00",
          "2025-10-08T13:15:00",
          "2025-10-08T13:30:00",
          "2025-10-08T13:45:00",
          "2025-10-08T14:00:00",
          "2025-10-08T14:15:00",
          "2025-10-08T14:30:00",
          "2025-10-08T14:45:00",
          "2025-10-08T15:00:00",
          "2025-10-08T15:15:00",
          "2025-10-08T15:30:00",
          "2025-10-08T15:45:00",
          "2025-10-08T16:00:00",
          "2025-10-08T16:15:00",
          "2025-10-08T16:30:00",
          "2025-10-08T16:45:00",
          "2025-10-08T17:00:00",
          "2025-10-08T17:15:00",
          "2025-10-08T17:30:00",
          "2025-10-08T17:45:00",
          "2025-10-08T18:00:00",
          "2025-10-08T18:15:00",
          "2025-10-08T18:30:00",
          "2025-10-08T18:45:00",
          "2025-10-08T19:00:00",
          "2025-10-08T19:15:00",
          "2025-10-08T19:30:00",
          "2025-10-08T19:45:00",
          "2025-10-08T20:00:00",
          "2025-10-08T20:15:00",
          "2025-10-08T20:30:00",
          "2025-10-08T20:45:00",
          "2025-10-08T21:00:00",
          "2025-10-08T21:15:00",
          "2025-10-08T21:30:00",
          "2025-10-08T21:45:00",
          "2025-10-08T22:00:00",
          "2025-10-08T22:15:00",
          "2025-10-08T22:30:00",
          "2025-10-08T22:45:00",
          "2025-10-08T23:00:00",
          "2025-10-08T23:15:00",
          "2025-10-08T23:30:00",
          "2025-10-08T23:45:00",
          "2025-10-09T00:00:00",
          "2025-10-09T00:15:00",
          "2025-10-09T00:30:00",
          "2025-10-09T00:45:00",
          "2025-10-09T01:00:00",
          "2025-10-09T01:15:00",
          "2025-10-09T01:30:00",
          "2025-10-09T01:45:00",
          "2025-10-09T02:00:00",
          "2025-10-09T02:15:00",
          "2025-10-09T02:30:00",
          "2025-10-09T02:45:00",
          "2025-10-09T03:00:00"
         ]
        },
        {
         "hovertemplate": "vah_line<br>%{y:.2f}<extra></extra>",
         "line": {
          "color": "green",
          "dash": "dash",
          "width": 1
         },
         "mode": "lines",
         "name": "vah_line (s=649)",
         "showlegend": false,
         "type": "scatter",
         "x": [
          "2025-10-09T00:00:00",
          "2025-10-09T03:00:00"
         ],
         "y": [
          122558.24179999948,
          122558.24179999948
         ]
        },
        {
         "hovertemplate": "val_line<br>%{y:.2f}<extra></extra>",
         "line": {
          "color": "red",
          "dash": "dash",
          "width": 1
         },
         "mode": "lines",
         "name": "val_line (s=831)",
         "showlegend": false,
         "type": "scatter",
         "x": [
          "2025-10-09T00:00:00",
          "2025-10-09T03:00:00"
         ],
         "y": [
          121617.81,
          121617.81
         ]
        },
        {
         "hovertemplate": "vah_line<br>%{y:.2f}<extra></extra>",
         "line": {
          "color": "green",
          "dash": "dash",
          "width": 1
         },
         "mode": "lines",
         "name": "vah_line (s=1336)",
         "showlegend": false,
         "type": "scatter",
         "x": [
          "2025-10-08T00:00:00",
          "2025-10-08T23:00:00"
         ],
         "y": [
          124033.18999999946,
          124033.18999999946
         ]
        },
        {
         "hovertemplate": "val_line<br>%{y:.2f}<extra></extra>",
         "line": {
          "color": "red",
          "dash": "dash",
          "width": 1
         },
         "mode": "lines",
         "name": "val_line (s=559)",
         "showlegend": false,
         "type": "scatter",
         "x": [
          "2025-10-08T00:00:00",
          "2025-10-08T23:00:00"
         ],
         "y": [
          122171.76399999984,
          122171.76399999984
         ]
        },
        {
         "hovertemplate": "vah_line<br>%{y:.2f}<extra></extra>",
         "line": {
          "color": "green",
          "dash": "dash",
          "width": 1
         },
         "mode": "lines",
         "name": "vah_line (s=1146)",
         "showlegend": false,
         "type": "scatter",
         "x": [
          "2025-10-07T00:00:00",
          "2025-10-07T23:00:00"
         ],
         "y": [
          124917.99000000046,
          124917.99000000046
         ]
        },
        {
         "hovertemplate": "val_line<br>%{y:.2f}<extra></extra>",
         "line": {
          "color": "red",
          "dash": "dash",
          "width": 1
         },
         "mode": "lines",
         "name": "val_line (s=2798)",
         "showlegend": false,
         "type": "scatter",
         "x": [
          "2025-10-07T00:00:00",
          "2025-10-07T23:00:00"
         ],
         "y": [
          121820.5726000001,
          121820.5726000001
         ]
        },
        {
         "hovertemplate": "vah_line<br>%{y:.2f}<extra></extra>",
         "line": {
          "color": "green",
          "dash": "dash",
          "width": 1
         },
         "mode": "lines",
         "name": "vah_line",
         "showlegend": false,
         "type": "scatter",
         "x": [
          "2025-10-06T00:00:00",
          "2025-10-06T23:00:00"
         ],
         "y": [
          126037.81890000054,
          126037.81890000054
         ]
        },
        {
         "hovertemplate": "val_line<br>%{y:.2f}<extra></extra>",
         "line": {
          "color": "red",
          "dash": "dash",
          "width": 1
         },
         "mode": "lines",
         "name": "val_line (s=720)",
         "showlegend": false,
         "type": "scatter",
         "x": [
          "2025-10-06T00:00:00",
          "2025-10-06T23:00:00"
         ],
         "y": [
          124013.26250000013,
          124013.26250000013
         ]
        },
        {
         "hovertemplate": "vah_line<br>%{y:.2f}<extra></extra>",
         "line": {
          "color": "green",
          "dash": "dash",
          "width": 1
         },
         "mode": "lines",
         "name": "vah_line",
         "showlegend": false,
         "type": "scatter",
         "x": [
          "2025-10-05T00:00:00",
          "2025-10-05T23:00:00"
         ],
         "y": [
          125202.96110000028,
          125202.96110000028
         ]
        },
        {
         "hovertemplate": "val_line<br>%{y:.2f}<extra></extra>",
         "line": {
          "color": "red",
          "dash": "dash",
          "width": 1
         },
         "mode": "lines",
         "name": "val_line (s=943)",
         "showlegend": false,
         "type": "scatter",
         "x": [
          "2025-10-05T00:00:00",
          "2025-10-05T23:00:00"
         ],
         "y": [
          123032.08190000008,
          123032.08190000008
         ]
        },
        {
         "hovertemplate": "poc_line<br>%{y:.2f}<extra></extra>",
         "line": {
          "color": "lightgray",
          "dash": "dash",
          "width": 1
         },
         "mode": "lines",
         "name": "poc_line (s=831)",
         "showlegend": false,
         "type": "scatter",
         "x": [
          "2025-10-09T00:00:00",
          "2025-10-09T03:00:00"
         ],
         "y": [
          121623.9167,
          121623.9167
         ]
        },
        {
         "hovertemplate": "poc_line<br>%{y:.2f}<extra></extra>",
         "line": {
          "color": "lightgray",
          "dash": "dash",
          "width": 1
         },
         "mode": "lines",
         "name": "poc_line (s=2798)",
         "showlegend": false,
         "type": "scatter",
         "x": [
          "2025-10-07T00:00:00",
          "2025-10-08T00:00:00"
         ],
         "y": [
          121840.6857000001,
          121840.6857000001
         ]
        },
        {
         "hovertemplate": "poc_line<br>%{y:.2f}<extra></extra>",
         "line": {
          "color": "lightgray",
          "dash": "dash",
          "width": 1
         },
         "mode": "lines",
         "name": "poc_line (s=1823)",
         "showlegend": false,
         "type": "scatter",
         "x": [
          "2025-10-06T00:00:00",
          "2025-10-07T01:00:00"
         ],
         "y": [
          125038.86015000034,
          125038.86015000034
         ]
        },
        {
         "hovertemplate": "poc_line<br>%{y:.2f}<extra></extra>",
         "line": {
          "color": "lightgray",
          "dash": "dash",
          "width": 1
         },
         "mode": "lines",
         "name": "poc_line (s=3667)",
         "showlegend": false,
         "type": "scatter",
         "x": [
          "2025-10-05T00:00:00",
          "2025-10-06T14:00:00"
         ],
         "y": [
          125157.73445000028,
          125157.73445000028
         ]
        },
        {
         "hovertemplate": "naked_poc_line<br>%{y:.2f}<extra></extra>",
         "line": {
          "color": "white",
          "dash": "dash",
          "width": 2
         },
         "mode": "lines",
         "name": "naked_poc_line (s=1817)",
         "showlegend": false,
         "type": "scatter",
         "x": [
          "2025-10-08T00:00:00",
          "2025-10-09T03:00:00"
         ],
         "y": [
          123461.46629999958,
          123461.46629999958
         ]
        },
        {
         "hovertemplate": "naked_poc_line<br>%{y:.2f}<extra></extra>",
         "line": {
          "color": "white",
          "dash": "dash",
          "width": 2
         },
         "mode": "lines",
         "name": "naked_poc_line (s=2212)",
         "showlegend": false,
         "type": "scatter",
         "x": [
          "2025-10-02T00:00:00",
          "2025-10-09T03:00:00"
         ],
         "y": [
          118438.81874999998,
          118438.81874999998
         ]
        },
        {
         "hovertemplate": "naked_poc_line<br>%{y:.2f}<extra></extra>",
         "line": {
          "color": "white",
          "dash": "dash",
          "width": 2
         },
         "mode": "lines",
         "name": "naked_poc_line (s=2944)",
         "showlegend": false,
         "type": "scatter",
         "x": [
          "2025-10-01T00:00:00",
          "2025-10-09T03:00:00"
         ],
         "y": [
          116098.78044999987,
          116098.78044999987
         ]
        },
        {
         "hovertemplate": "Pivot: LL<br>Price: %{y:.2f}<br>Time: %{x}<extra></extra>",
         "marker": {
          "color": "red",
          "line": {
           "color": "white",
           "width": 1
          },
          "size": 8
         },
         "mode": "markers+text",
         "name": "Pivot LL",
         "showlegend": false,
         "text": [
          "LL"
         ],
         "textfont": {
          "color": "white",
          "size": 8
         },
         "textposition": "top center",
         "type": "scatter",
         "x": [
          "2025-09-08T05:00:00"
         ],
         "y": [
          110899.69
         ]
        },
        {
         "hovertemplate": "Pivot: HH<br>Price: %{y:.2f}<br>Time: %{x}<extra></extra>",
         "marker": {
          "color": "lime",
          "line": {
           "color": "white",
           "width": 1
          },
          "size": 8
         },
         "mode": "markers+text",
         "name": "Pivot HH",
         "showlegend": false,
         "text": [
          "HH"
         ],
         "textfont": {
          "color": "white",
          "size": 8
         },
         "textposition": "top center",
         "type": "scatter",
         "x": [
          "2025-09-08T15:00:00"
         ],
         "y": [
          112924.37
         ]
        },
        {
         "hovertemplate": "Pivot: HL<br>Price: %{y:.2f}<br>Time: %{x}<extra></extra>",
         "marker": {
          "color": "lightgreen",
          "line": {
           "color": "white",
           "width": 1
          },
          "size": 8
         },
         "mode": "markers+text",
         "name": "Pivot HL",
         "showlegend": false,
         "text": [
          "HL"
         ],
         "textfont": {
          "color": "white",
          "size": 8
         },
         "textposition": "top center",
         "type": "scatter",
         "x": [
          "2025-09-09T02:00:00"
         ],
         "y": [
          111111
         ]
        },
        {
         "hovertemplate": "Pivot: HH<br>Price: %{y:.2f}<br>Time: %{x}<extra></extra>",
         "marker": {
          "color": "lime",
          "line": {
           "color": "white",
           "width": 1
          },
          "size": 8
         },
         "mode": "markers+text",
         "name": "Pivot HH",
         "showlegend": false,
         "text": [
          "HH"
         ],
         "textfont": {
          "color": "white",
          "size": 8
         },
         "textposition": "top center",
         "type": "scatter",
         "x": [
          "2025-09-09T07:00:00"
         ],
         "y": [
          113293.29
         ]
        },
        {
         "hovertemplate": "Pivot: LL<br>Price: %{y:.2f}<br>Time: %{x}<extra></extra>",
         "marker": {
          "color": "red",
          "line": {
           "color": "white",
           "width": 1
          },
          "size": 8
         },
         "mode": "markers+text",
         "name": "Pivot LL",
         "showlegend": false,
         "text": [
          "LL"
         ],
         "textfont": {
          "color": "white",
          "size": 8
         },
         "textposition": "top center",
         "type": "scatter",
         "x": [
          "2025-09-09T15:00:00"
         ],
         "y": [
          110766.66
         ]
        },
        {
         "hovertemplate": "Pivot: HH<br>Price: %{y:.2f}<br>Time: %{x}<extra></extra>",
         "marker": {
          "color": "lime",
          "line": {
           "color": "white",
           "width": 1
          },
          "size": 8
         },
         "mode": "markers+text",
         "name": "Pivot HH",
         "showlegend": false,
         "text": [
          "HH"
         ],
         "textfont": {
          "color": "white",
          "size": 8
         },
         "textposition": "top center",
         "type": "scatter",
         "x": [
          "2025-09-12T19:00:00"
         ],
         "y": [
          116665.63
         ]
        },
        {
         "hovertemplate": "Pivot: HL<br>Price: %{y:.2f}<br>Time: %{x}<extra></extra>",
         "marker": {
          "color": "lightgreen",
          "line": {
           "color": "white",
           "width": 1
          },
          "size": 8
         },
         "mode": "markers+text",
         "name": "Pivot HL",
         "showlegend": false,
         "text": [
          "HL"
         ],
         "textfont": {
          "color": "white",
          "size": 8
         },
         "textposition": "top center",
         "type": "scatter",
         "x": [
          "2025-09-15T01:00:00"
         ],
         "y": [
          114825
         ]
        },
        {
         "hovertemplate": "Pivot: HH<br>Price: %{y:.2f}<br>Time: %{x}<extra></extra>",
         "marker": {
          "color": "lime",
          "line": {
           "color": "white",
           "width": 1
          },
          "size": 8
         },
         "mode": "markers+text",
         "name": "Pivot HH",
         "showlegend": false,
         "text": [
          "HH"
         ],
         "textfont": {
          "color": "white",
          "size": 8
         },
         "textposition": "top center",
         "type": "scatter",
         "x": [
          "2025-09-15T06:00:00"
         ],
         "y": [
          116757.99
         ]
        },
        {
         "hovertemplate": "Pivot: LL<br>Price: %{y:.2f}<br>Time: %{x}<extra></extra>",
         "marker": {
          "color": "red",
          "line": {
           "color": "white",
           "width": 1
          },
          "size": 8
         },
         "mode": "markers+text",
         "name": "Pivot LL",
         "showlegend": false,
         "text": [
          "LL"
         ],
         "textfont": {
          "color": "white",
          "size": 8
         },
         "textposition": "top center",
         "type": "scatter",
         "x": [
          "2025-09-15T13:00:00"
         ],
         "y": [
          114384
         ]
        },
        {
         "hovertemplate": "Pivot: HH<br>Price: %{y:.2f}<br>Time: %{x}<extra></extra>",
         "marker": {
          "color": "lime",
          "line": {
           "color": "white",
           "width": 1
          },
          "size": 8
         },
         "mode": "markers+text",
         "name": "Pivot HH",
         "showlegend": false,
         "text": [
          "HH"
         ],
         "textfont": {
          "color": "white",
          "size": 8
         },
         "textposition": "top center",
         "type": "scatter",
         "x": [
          "2025-09-17T06:00:00"
         ],
         "y": [
          117286.73
         ]
        },
        {
         "hovertemplate": "Pivot: HL<br>Price: %{y:.2f}<br>Time: %{x}<extra></extra>",
         "marker": {
          "color": "lightgreen",
          "line": {
           "color": "white",
           "width": 1
          },
          "size": 8
         },
         "mode": "markers+text",
         "name": "Pivot HL",
         "showlegend": false,
         "text": [
          "HL"
         ],
         "textfont": {
          "color": "white",
          "size": 8
         },
         "textposition": "top center",
         "type": "scatter",
         "x": [
          "2025-09-17T18:00:00"
         ],
         "y": [
          114720.81
         ]
        },
        {
         "hovertemplate": "Pivot: HH<br>Price: %{y:.2f}<br>Time: %{x}<extra></extra>",
         "marker": {
          "color": "lime",
          "line": {
           "color": "white",
           "width": 1
          },
          "size": 8
         },
         "mode": "markers+text",
         "name": "Pivot HH",
         "showlegend": false,
         "text": [
          "HH"
         ],
         "textfont": {
          "color": "white",
          "size": 8
         },
         "textposition": "top center",
         "type": "scatter",
         "x": [
          "2025-09-18T18:00:00"
         ],
         "y": [
          117900
         ]
        },
        {
         "hovertemplate": "Pivot: LL<br>Price: %{y:.2f}<br>Time: %{x}<extra></extra>",
         "marker": {
          "color": "red",
          "line": {
           "color": "white",
           "width": 1
          },
          "size": 8
         },
         "mode": "markers+text",
         "name": "Pivot LL",
         "showlegend": false,
         "text": [
          "LL"
         ],
         "textfont": {
          "color": "white",
          "size": 8
         },
         "textposition": "top center",
         "type": "scatter",
         "x": [
          "2025-09-22T06:00:00"
         ],
         "y": [
          111800
         ]
        },
        {
         "hovertemplate": "Pivot: LH<br>Price: %{y:.2f}<br>Time: %{x}<extra></extra>",
         "marker": {
          "color": "salmon",
          "line": {
           "color": "white",
           "width": 1
          },
          "size": 8
         },
         "mode": "markers+text",
         "name": "Pivot LH",
         "showlegend": false,
         "text": [
          "LH"
         ],
         "textfont": {
          "color": "white",
          "size": 8
         },
         "textposition": "top center",
         "type": "scatter",
         "x": [
          "2025-09-22T14:00:00"
         ],
         "y": [
          113432.76
         ]
        },
        {
         "hovertemplate": "Pivot: LL<br>Price: %{y:.2f}<br>Time: %{x}<extra></extra>",
         "marker": {
          "color": "red",
          "line": {
           "color": "white",
           "width": 1
          },
          "size": 8
         },
         "mode": "markers+text",
         "name": "Pivot LL",
         "showlegend": false,
         "text": [
          "LL"
         ],
         "textfont": {
          "color": "white",
          "size": 8
         },
         "textposition": "top center",
         "type": "scatter",
         "x": [
          "2025-09-23T03:00:00"
         ],
         "y": [
          111478
         ]
        },
        {
         "hovertemplate": "Pivot: LH<br>Price: %{y:.2f}<br>Time: %{x}<extra></extra>",
         "marker": {
          "color": "salmon",
          "line": {
           "color": "white",
           "width": 1
          },
          "size": 8
         },
         "mode": "markers+text",
         "name": "Pivot LH",
         "showlegend": false,
         "text": [
          "LH"
         ],
         "textfont": {
          "color": "white",
          "size": 8
         },
         "textposition": "top center",
         "type": "scatter",
         "x": [
          "2025-09-23T14:00:00"
         ],
         "y": [
          113290.5
         ]
        },
        {
         "hovertemplate": "Pivot: LL<br>Price: %{y:.2f}<br>Time: %{x}<extra></extra>",
         "marker": {
          "color": "red",
          "line": {
           "color": "white",
           "width": 1
          },
          "size": 8
         },
         "mode": "markers+text",
         "name": "Pivot LL",
         "showlegend": false,
         "text": [
          "LL"
         ],
         "textfont": {
          "color": "white",
          "size": 8
         },
         "textposition": "top center",
         "type": "scatter",
         "x": [
          "2025-09-24T04:00:00"
         ],
         "y": [
          111042.66
         ]
        },
        {
         "hovertemplate": "Pivot: HH<br>Price: %{y:.2f}<br>Time: %{x}<extra></extra>",
         "marker": {
          "color": "lime",
          "line": {
           "color": "white",
           "width": 1
          },
          "size": 8
         },
         "mode": "markers+text",
         "name": "Pivot HH",
         "showlegend": false,
         "text": [
          "HH"
         ],
         "textfont": {
          "color": "white",
          "size": 8
         },
         "textposition": "top center",
         "type": "scatter",
         "x": [
          "2025-09-24T17:00:00"
         ],
         "y": [
          113940
         ]
        },
        {
         "hovertemplate": "Pivot: LL<br>Price: %{y:.2f}<br>Time: %{x}<extra></extra>",
         "marker": {
          "color": "red",
          "line": {
           "color": "white",
           "width": 1
          },
          "size": 8
         },
         "mode": "markers+text",
         "name": "Pivot LL",
         "showlegend": false,
         "text": [
          "LL"
         ],
         "textfont": {
          "color": "white",
          "size": 8
         },
         "textposition": "top center",
         "type": "scatter",
         "x": [
          "2025-09-26T11:00:00"
         ],
         "y": [
          108620.07
         ]
        },
        {
         "hovertemplate": "Pivot: HH<br>Price: %{y:.2f}<br>Time: %{x}<extra></extra>",
         "marker": {
          "color": "lime",
          "line": {
           "color": "white",
           "width": 1
          },
          "size": 8
         },
         "mode": "markers+text",
         "name": "Pivot HH",
         "showlegend": false,
         "text": [
          "HH"
         ],
         "textfont": {
          "color": "white",
          "size": 8
         },
         "textposition": "top center",
         "type": "scatter",
         "x": [
          "2025-09-30T01:00:00"
         ],
         "y": [
          114792
         ]
        },
        {
         "hovertemplate": "Pivot: HL<br>Price: %{y:.2f}<br>Time: %{x}<extra></extra>",
         "marker": {
          "color": "lightgreen",
          "line": {
           "color": "white",
           "width": 1
          },
          "size": 8
         },
         "mode": "markers+text",
         "name": "Pivot HL",
         "showlegend": false,
         "text": [
          "HL"
         ],
         "textfont": {
          "color": "white",
          "size": 8
         },
         "textposition": "top center",
         "type": "scatter",
         "x": [
          "2025-09-30T10:00:00"
         ],
         "y": [
          112656.27
         ]
        },
        {
         "hovertemplate": "Pivot: HH<br>Price: %{y:.2f}<br>Time: %{x}<extra></extra>",
         "marker": {
          "color": "lime",
          "line": {
           "color": "white",
           "width": 1
          },
          "size": 8
         },
         "mode": "markers+text",
         "name": "Pivot HH",
         "showlegend": false,
         "text": [
          "HH"
         ],
         "textfont": {
          "color": "white",
          "size": 8
         },
         "textposition": "top center",
         "type": "scatter",
         "x": [
          "2025-10-02T19:00:00"
         ],
         "y": [
          121022.07
         ]
        },
        {
         "hovertemplate": "Pivot: HL<br>Price: %{y:.2f}<br>Time: %{x}<extra></extra>",
         "marker": {
          "color": "lightgreen",
          "line": {
           "color": "white",
           "width": 1
          },
          "size": 8
         },
         "mode": "markers+text",
         "name": "Pivot HL",
         "showlegend": false,
         "text": [
          "HL"
         ],
         "textfont": {
          "color": "white",
          "size": 8
         },
         "textposition": "top center",
         "type": "scatter",
         "x": [
          "2025-10-03T08:00:00"
         ],
         "y": [
          119248.3
         ]
        },
        {
         "hovertemplate": "Pivot: HH<br>Price: %{y:.2f}<br>Time: %{x}<extra></extra>",
         "marker": {
          "color": "lime",
          "line": {
           "color": "white",
           "width": 1
          },
          "size": 8
         },
         "mode": "markers+text",
         "name": "Pivot HH",
         "showlegend": false,
         "text": [
          "HH"
         ],
         "textfont": {
          "color": "white",
          "size": 8
         },
         "textposition": "top center",
         "type": "scatter",
         "x": [
          "2025-10-03T16:00:00"
         ],
         "y": [
          123894.99
         ]
        },
        {
         "hovertemplate": "Pivot: HL<br>Price: %{y:.2f}<br>Time: %{x}<extra></extra>",
         "marker": {
          "color": "lightgreen",
          "line": {
           "color": "white",
           "width": 1
          },
          "size": 8
         },
         "mode": "markers+text",
         "name": "Pivot HL",
         "showlegend": false,
         "text": [
          "HL"
         ],
         "textfont": {
          "color": "white",
          "size": 8
         },
         "textposition": "top center",
         "type": "scatter",
         "x": [
          "2025-10-03T18:00:00"
         ],
         "y": [
          121466.25
         ]
        },
        {
         "hovertemplate": "Pivot: HH<br>Price: %{y:.2f}<br>Time: %{x}<extra></extra>",
         "marker": {
          "color": "lime",
          "line": {
           "color": "white",
           "width": 1
          },
          "size": 8
         },
         "mode": "markers+text",
         "name": "Pivot HH",
         "showlegend": false,
         "text": [
          "HH"
         ],
         "textfont": {
          "color": "white",
          "size": 8
         },
         "textposition": "top center",
         "type": "scatter",
         "x": [
          "2025-10-05T04:00:00"
         ],
         "y": [
          125708.42
         ]
        },
        {
         "hovertemplate": "Pivot: HL<br>Price: %{y:.2f}<br>Time: %{x}<extra></extra>",
         "marker": {
          "color": "lightgreen",
          "line": {
           "color": "white",
           "width": 1
          },
          "size": 8
         },
         "mode": "markers+text",
         "name": "Pivot HL",
         "showlegend": false,
         "text": [
          "HL"
         ],
         "textfont": {
          "color": "white",
          "size": 8
         },
         "textposition": "top center",
         "type": "scatter",
         "x": [
          "2025-10-05T16:00:00"
         ],
         "y": [
          122301.63
         ]
        },
        {
         "hovertemplate": "Pivot: HH<br>Price: %{y:.2f}<br>Time: %{x}<extra></extra>",
         "marker": {
          "color": "lime",
          "line": {
           "color": "white",
           "width": 1
          },
          "size": 8
         },
         "mode": "markers+text",
         "name": "Pivot HH",
         "showlegend": false,
         "text": [
          "HH"
         ],
         "textfont": {
          "color": "white",
          "size": 8
         },
         "textposition": "top center",
         "type": "scatter",
         "x": [
          "2025-10-06T18:00:00"
         ],
         "y": [
          126199.63
         ]
        },
        {
         "hovertemplate": "Pivot: HL<br>Price: %{y:.2f}<br>Time: %{x}<extra></extra>",
         "marker": {
          "color": "lightgreen",
          "line": {
           "color": "white",
           "width": 1
          },
          "size": 8
         },
         "mode": "markers+text",
         "name": "Pivot HL",
         "showlegend": false,
         "text": [
          "HL"
         ],
         "textfont": {
          "color": "white",
          "size": 8
         },
         "textposition": "top center",
         "type": "scatter",
         "x": [
          "2025-10-07T08:00:00"
         ],
         "y": [
          123322.9
         ]
        },
        {
         "hovertemplate": "Pivot: LH<br>Price: %{y:.2f}<br>Time: %{x}<extra></extra>",
         "marker": {
          "color": "salmon",
          "line": {
           "color": "white",
           "width": 1
          },
          "size": 8
         },
         "mode": "markers+text",
         "name": "Pivot LH",
         "showlegend": false,
         "text": [
          "LH"
         ],
         "textfont": {
          "color": "white",
          "size": 8
         },
         "textposition": "top center",
         "type": "scatter",
         "x": [
          "2025-10-07T12:00:00"
         ],
         "y": [
          125126
         ]
        },
        {
         "hovertemplate": "Pivot: LL<br>Price: %{y:.2f}<br>Time: %{x}<extra></extra>",
         "marker": {
          "color": "red",
          "line": {
           "color": "white",
           "width": 1
          },
          "size": 8
         },
         "mode": "markers+text",
         "name": "Pivot LL",
         "showlegend": false,
         "text": [
          "LL"
         ],
         "textfont": {
          "color": "white",
          "size": 8
         },
         "textposition": "top center",
         "type": "scatter",
         "x": [
          "2025-10-07T18:00:00"
         ],
         "y": [
          120574.94
         ]
        },
        {
         "hovertemplate": "Pivot: LH<br>Price: %{y:.2f}<br>Time: %{x}<extra></extra>",
         "marker": {
          "color": "salmon",
          "line": {
           "color": "white",
           "width": 1
          },
          "size": 8
         },
         "mode": "markers+text",
         "name": "Pivot LH",
         "showlegend": false,
         "text": [
          "LH"
         ],
         "textfont": {
          "color": "white",
          "size": 8
         },
         "textposition": "top center",
         "type": "scatter",
         "x": [
          "2025-10-08T18:00:00"
         ],
         "y": [
          124197.25
         ]
        },
        {
         "hovertemplate": "Pivot: HL<br>Price: %{y:.2f}<br>Time: %{x}<extra></extra>",
         "marker": {
          "color": "lightgreen",
          "line": {
           "color": "white",
           "width": 1
          },
          "size": 8
         },
         "mode": "markers+text",
         "name": "Pivot HL",
         "showlegend": false,
         "text": [
          "HL"
         ],
         "textfont": {
          "color": "white",
          "size": 8
         },
         "textposition": "top center",
         "type": "scatter",
         "x": [
          "2025-10-09T02:00:00"
         ],
         "y": [
          121475.98
         ]
        }
       ],
       "layout": {
        "height": 800,
        "showlegend": false,
        "template": {
         "data": {
          "bar": [
           {
            "error_x": {
             "color": "#f2f5fa"
            },
            "error_y": {
             "color": "#f2f5fa"
            },
            "marker": {
             "line": {
              "color": "rgb(17,17,17)",
              "width": 0.5
             },
             "pattern": {
              "fillmode": "overlay",
              "size": 10,
              "solidity": 0.2
             }
            },
            "type": "bar"
           }
          ],
          "barpolar": [
           {
            "marker": {
             "line": {
              "color": "rgb(17,17,17)",
              "width": 0.5
             },
             "pattern": {
              "fillmode": "overlay",
              "size": 10,
              "solidity": 0.2
             }
            },
            "type": "barpolar"
           }
          ],
          "carpet": [
           {
            "aaxis": {
             "endlinecolor": "#A2B1C6",
             "gridcolor": "#506784",
             "linecolor": "#506784",
             "minorgridcolor": "#506784",
             "startlinecolor": "#A2B1C6"
            },
            "baxis": {
             "endlinecolor": "#A2B1C6",
             "gridcolor": "#506784",
             "linecolor": "#506784",
             "minorgridcolor": "#506784",
             "startlinecolor": "#A2B1C6"
            },
            "type": "carpet"
           }
          ],
          "choropleth": [
           {
            "colorbar": {
             "outlinewidth": 0,
             "ticks": ""
            },
            "type": "choropleth"
           }
          ],
          "contour": [
           {
            "colorbar": {
             "outlinewidth": 0,
             "ticks": ""
            },
            "colorscale": [
             [
              0,
              "#0d0887"
             ],
             [
              0.1111111111111111,
              "#46039f"
             ],
             [
              0.2222222222222222,
              "#7201a8"
             ],
             [
              0.3333333333333333,
              "#9c179e"
             ],
             [
              0.4444444444444444,
              "#bd3786"
             ],
             [
              0.5555555555555556,
              "#d8576b"
             ],
             [
              0.6666666666666666,
              "#ed7953"
             ],
             [
              0.7777777777777778,
              "#fb9f3a"
             ],
             [
              0.8888888888888888,
              "#fdca26"
             ],
             [
              1,
              "#f0f921"
             ]
            ],
            "type": "contour"
           }
          ],
          "contourcarpet": [
           {
            "colorbar": {
             "outlinewidth": 0,
             "ticks": ""
            },
            "type": "contourcarpet"
           }
          ],
          "heatmap": [
           {
            "colorbar": {
             "outlinewidth": 0,
             "ticks": ""
            },
            "colorscale": [
             [
              0,
              "#0d0887"
             ],
             [
              0.1111111111111111,
              "#46039f"
             ],
             [
              0.2222222222222222,
              "#7201a8"
             ],
             [
              0.3333333333333333,
              "#9c179e"
             ],
             [
              0.4444444444444444,
              "#bd3786"
             ],
             [
              0.5555555555555556,
              "#d8576b"
             ],
             [
              0.6666666666666666,
              "#ed7953"
             ],
             [
              0.7777777777777778,
              "#fb9f3a"
             ],
             [
              0.8888888888888888,
              "#fdca26"
             ],
             [
              1,
              "#f0f921"
             ]
            ],
            "type": "heatmap"
           }
          ],
          "histogram": [
           {
            "marker": {
             "pattern": {
              "fillmode": "overlay",
              "size": 10,
              "solidity": 0.2
             }
            },
            "type": "histogram"
           }
          ],
          "histogram2d": [
           {
            "colorbar": {
             "outlinewidth": 0,
             "ticks": ""
            },
            "colorscale": [
             [
              0,
              "#0d0887"
             ],
             [
              0.1111111111111111,
              "#46039f"
             ],
             [
              0.2222222222222222,
              "#7201a8"
             ],
             [
              0.3333333333333333,
              "#9c179e"
             ],
             [
              0.4444444444444444,
              "#bd3786"
             ],
             [
              0.5555555555555556,
              "#d8576b"
             ],
             [
              0.6666666666666666,
              "#ed7953"
             ],
             [
              0.7777777777777778,
              "#fb9f3a"
             ],
             [
              0.8888888888888888,
              "#fdca26"
             ],
             [
              1,
              "#f0f921"
             ]
            ],
            "type": "histogram2d"
           }
          ],
          "histogram2dcontour": [
           {
            "colorbar": {
             "outlinewidth": 0,
             "ticks": ""
            },
            "colorscale": [
             [
              0,
              "#0d0887"
             ],
             [
              0.1111111111111111,
              "#46039f"
             ],
             [
              0.2222222222222222,
              "#7201a8"
             ],
             [
              0.3333333333333333,
              "#9c179e"
             ],
             [
              0.4444444444444444,
              "#bd3786"
             ],
             [
              0.5555555555555556,
              "#d8576b"
             ],
             [
              0.6666666666666666,
              "#ed7953"
             ],
             [
              0.7777777777777778,
              "#fb9f3a"
             ],
             [
              0.8888888888888888,
              "#fdca26"
             ],
             [
              1,
              "#f0f921"
             ]
            ],
            "type": "histogram2dcontour"
           }
          ],
          "mesh3d": [
           {
            "colorbar": {
             "outlinewidth": 0,
             "ticks": ""
            },
            "type": "mesh3d"
           }
          ],
          "parcoords": [
           {
            "line": {
             "colorbar": {
              "outlinewidth": 0,
              "ticks": ""
             }
            },
            "type": "parcoords"
           }
          ],
          "pie": [
           {
            "automargin": true,
            "type": "pie"
           }
          ],
          "scatter": [
           {
            "marker": {
             "line": {
              "color": "#283442"
             }
            },
            "type": "scatter"
           }
          ],
          "scatter3d": [
           {
            "line": {
             "colorbar": {
              "outlinewidth": 0,
              "ticks": ""
             }
            },
            "marker": {
             "colorbar": {
              "outlinewidth": 0,
              "ticks": ""
             }
            },
            "type": "scatter3d"
           }
          ],
          "scattercarpet": [
           {
            "marker": {
             "colorbar": {
              "outlinewidth": 0,
              "ticks": ""
             }
            },
            "type": "scattercarpet"
           }
          ],
          "scattergeo": [
           {
            "marker": {
             "colorbar": {
              "outlinewidth": 0,
              "ticks": ""
             }
            },
            "type": "scattergeo"
           }
          ],
          "scattergl": [
           {
            "marker": {
             "line": {
              "color": "#283442"
             }
            },
            "type": "scattergl"
           }
          ],
          "scattermap": [
           {
            "marker": {
             "colorbar": {
              "outlinewidth": 0,
              "ticks": ""
             }
            },
            "type": "scattermap"
           }
          ],
          "scattermapbox": [
           {
            "marker": {
             "colorbar": {
              "outlinewidth": 0,
              "ticks": ""
             }
            },
            "type": "scattermapbox"
           }
          ],
          "scatterpolar": [
           {
            "marker": {
             "colorbar": {
              "outlinewidth": 0,
              "ticks": ""
             }
            },
            "type": "scatterpolar"
           }
          ],
          "scatterpolargl": [
           {
            "marker": {
             "colorbar": {
              "outlinewidth": 0,
              "ticks": ""
             }
            },
            "type": "scatterpolargl"
           }
          ],
          "scatterternary": [
           {
            "marker": {
             "colorbar": {
              "outlinewidth": 0,
              "ticks": ""
             }
            },
            "type": "scatterternary"
           }
          ],
          "surface": [
           {
            "colorbar": {
             "outlinewidth": 0,
             "ticks": ""
            },
            "colorscale": [
             [
              0,
              "#0d0887"
             ],
             [
              0.1111111111111111,
              "#46039f"
             ],
             [
              0.2222222222222222,
              "#7201a8"
             ],
             [
              0.3333333333333333,
              "#9c179e"
             ],
             [
              0.4444444444444444,
              "#bd3786"
             ],
             [
              0.5555555555555556,
              "#d8576b"
             ],
             [
              0.6666666666666666,
              "#ed7953"
             ],
             [
              0.7777777777777778,
              "#fb9f3a"
             ],
             [
              0.8888888888888888,
              "#fdca26"
             ],
             [
              1,
              "#f0f921"
             ]
            ],
            "type": "surface"
           }
          ],
          "table": [
           {
            "cells": {
             "fill": {
              "color": "#506784"
             },
             "line": {
              "color": "rgb(17,17,17)"
             }
            },
            "header": {
             "fill": {
              "color": "#2a3f5f"
             },
             "line": {
              "color": "rgb(17,17,17)"
             }
            },
            "type": "table"
           }
          ]
         },
         "layout": {
          "annotationdefaults": {
           "arrowcolor": "#f2f5fa",
           "arrowhead": 0,
           "arrowwidth": 1
          },
          "autotypenumbers": "strict",
          "coloraxis": {
           "colorbar": {
            "outlinewidth": 0,
            "ticks": ""
           }
          },
          "colorscale": {
           "diverging": [
            [
             0,
             "#8e0152"
            ],
            [
             0.1,
             "#c51b7d"
            ],
            [
             0.2,
             "#de77ae"
            ],
            [
             0.3,
             "#f1b6da"
            ],
            [
             0.4,
             "#fde0ef"
            ],
            [
             0.5,
             "#f7f7f7"
            ],
            [
             0.6,
             "#e6f5d0"
            ],
            [
             0.7,
             "#b8e186"
            ],
            [
             0.8,
             "#7fbc41"
            ],
            [
             0.9,
             "#4d9221"
            ],
            [
             1,
             "#276419"
            ]
           ],
           "sequential": [
            [
             0,
             "#0d0887"
            ],
            [
             0.1111111111111111,
             "#46039f"
            ],
            [
             0.2222222222222222,
             "#7201a8"
            ],
            [
             0.3333333333333333,
             "#9c179e"
            ],
            [
             0.4444444444444444,
             "#bd3786"
            ],
            [
             0.5555555555555556,
             "#d8576b"
            ],
            [
             0.6666666666666666,
             "#ed7953"
            ],
            [
             0.7777777777777778,
             "#fb9f3a"
            ],
            [
             0.8888888888888888,
             "#fdca26"
            ],
            [
             1,
             "#f0f921"
            ]
           ],
           "sequentialminus": [
            [
             0,
             "#0d0887"
            ],
            [
             0.1111111111111111,
             "#46039f"
            ],
            [
             0.2222222222222222,
             "#7201a8"
            ],
            [
             0.3333333333333333,
             "#9c179e"
            ],
            [
             0.4444444444444444,
             "#bd3786"
            ],
            [
             0.5555555555555556,
             "#d8576b"
            ],
            [
             0.6666666666666666,
             "#ed7953"
            ],
            [
             0.7777777777777778,
             "#fb9f3a"
            ],
            [
             0.8888888888888888,
             "#fdca26"
            ],
            [
             1,
             "#f0f921"
            ]
           ]
          },
          "colorway": [
           "#636efa",
           "#EF553B",
           "#00cc96",
           "#ab63fa",
           "#FFA15A",
           "#19d3f3",
           "#FF6692",
           "#B6E880",
           "#FF97FF",
           "#FECB52"
          ],
          "font": {
           "color": "#f2f5fa"
          },
          "geo": {
           "bgcolor": "rgb(17,17,17)",
           "lakecolor": "rgb(17,17,17)",
           "landcolor": "rgb(17,17,17)",
           "showlakes": true,
           "showland": true,
           "subunitcolor": "#506784"
          },
          "hoverlabel": {
           "align": "left"
          },
          "hovermode": "closest",
          "mapbox": {
           "style": "dark"
          },
          "paper_bgcolor": "rgb(17,17,17)",
          "plot_bgcolor": "rgb(17,17,17)",
          "polar": {
           "angularaxis": {
            "gridcolor": "#506784",
            "linecolor": "#506784",
            "ticks": ""
           },
           "bgcolor": "rgb(17,17,17)",
           "radialaxis": {
            "gridcolor": "#506784",
            "linecolor": "#506784",
            "ticks": ""
           }
          },
          "scene": {
           "xaxis": {
            "backgroundcolor": "rgb(17,17,17)",
            "gridcolor": "#506784",
            "gridwidth": 2,
            "linecolor": "#506784",
            "showbackground": true,
            "ticks": "",
            "zerolinecolor": "#C8D4E3"
           },
           "yaxis": {
            "backgroundcolor": "rgb(17,17,17)",
            "gridcolor": "#506784",
            "gridwidth": 2,
            "linecolor": "#506784",
            "showbackground": true,
            "ticks": "",
            "zerolinecolor": "#C8D4E3"
           },
           "zaxis": {
            "backgroundcolor": "rgb(17,17,17)",
            "gridcolor": "#506784",
            "gridwidth": 2,
            "linecolor": "#506784",
            "showbackground": true,
            "ticks": "",
            "zerolinecolor": "#C8D4E3"
           }
          },
          "shapedefaults": {
           "line": {
            "color": "#f2f5fa"
           }
          },
          "sliderdefaults": {
           "bgcolor": "#C8D4E3",
           "bordercolor": "rgb(17,17,17)",
           "borderwidth": 1,
           "tickwidth": 0
          },
          "ternary": {
           "aaxis": {
            "gridcolor": "#506784",
            "linecolor": "#506784",
            "ticks": ""
           },
           "baxis": {
            "gridcolor": "#506784",
            "linecolor": "#506784",
            "ticks": ""
           },
           "bgcolor": "rgb(17,17,17)",
           "caxis": {
            "gridcolor": "#506784",
            "linecolor": "#506784",
            "ticks": ""
           }
          },
          "title": {
           "x": 0.05
          },
          "updatemenudefaults": {
           "bgcolor": "#506784",
           "borderwidth": 0
          },
          "xaxis": {
           "automargin": true,
           "gridcolor": "#283442",
           "linecolor": "#506784",
           "ticks": "",
           "title": {
            "standoff": 15
           },
           "zerolinecolor": "#283442",
           "zerolinewidth": 2
          },
          "yaxis": {
           "automargin": true,
           "gridcolor": "#283442",
           "linecolor": "#506784",
           "ticks": "",
           "title": {
            "standoff": 15
           },
           "zerolinecolor": "#283442",
           "zerolinewidth": 2
          }
         }
        },
        "title": {
         "text": "BTCUSDT - 1h - Cached Levels Visualizer (250 candles)"
        },
        "xaxis": {
         "fixedrange": false,
         "rangeslider": {
          "visible": false
         },
         "title": {
          "text": "Time"
         }
        },
        "yaxis": {
         "fixedrange": false,
         "title": {
          "text": "Price"
         },
         "type": "log"
        }
       }
      }
     },
     "metadata": {},
     "output_type": "display_data"
    },
    {
     "name": "stdout",
     "output_type": "stream",
     "text": [
      "\n",
      "🔍 Visualizing 15m timeframe levels...\n"
     ]
    },
    {
     "data": {
      "application/vnd.plotly.v1+json": {
       "config": {
        "plotlyServerURL": "https://plot.ly"
       },
       "data": [
        {
         "close": {
          "bdata": "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",
          "dtype": "f8"
         },
         "high": {
          "bdata": "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",
          "dtype": "f8"
         },
         "low": {
          "bdata": "w/UoXF9a/kDXo3A9ymj+QEjhehR2aP5A4XoUrldg/kBxPQrXG17+QLgeheuhfP5AAAAAAExn/kBI4XoUZmz+QEjhehQ2W/5AmpmZmRVm/kCPwvUoQHP+QFyPwvX0gv5AAAAAAICE/kAAAAAAAHj+QAAAAAAge/5AKVyPwqF8/kAK16NwKYr+QGZmZmYSmf5AAAAAANCd/kCF61G4aoz+QAAAAABAjf5Aw/UoXEeH/kAzMzMz64z+QIXrUbgOkf5ApHA9Cquf/kCPwvUoAK3+QFyPwvVsn/5AcT0K10uU/kAAAAAAAJb+QPYoXI9CmP5Aj8L1KICG/kAAAAAAIIr+QM3MzMw4j/5AMzMzMxOI/kBmZmZm8mX+QK5H4Xo0bf5AFK5H4a59/kBxPQrXv4T+QPYoXI/mjf5A9ihcjwZ3/kCkcD0Kr33+QKRwPQrne/5AcT0K10dx/kD2KFyPlnX+QAAAAABAbf5AFK5H4dZs/kDD9Shc527+QAAAAACAa/5AH4XrUex1/kA9Ctej7Hz+QLgeheutYf5AAAAAAMBo/kBxPQrXM2r+QM3MzMwEav5AUrgehfNP/kBmZmZm6l7+QGZmZmY+Vv5AZmZmZj5W/kCamZmZiU7+QI/C9ShUTP5A4XoUrmNV/kApXI/CzU7+QJqZmZnRTP5Aw/UoXO9e/kBxPQrXP2X+QLgehesFVf5AAAAAALxd/kDsUbgelWH+QI/C9SjAWP5AuB6F61FZ/kAAAAAAAD/+QAAAAACAOf5AcT0K1+86/kCuR+F6KDv+QLgehetBLv5AmpmZmfkq/kDhehSuwyv+QIXrUbiSJf5AZmZmZq4b/kAAAAAAoCL+QDMzMzN7N/5AcT0K11s9/kBI4XoUokb+QIXrUbgGTP5A7FG4HklL/kAAAAAAQEf+QI/C9SgAVf5AZmZmZh5U/kB7FK5HiVX+QHE9CtdTUf5AcT0K1z9R/kBxPQrXF1f+QGZmZmbSXP5A9ihcj+5f/kBmZmZm0lz+QAAAAABAW/5AuB6F6+Vq/kCF61G4PnT+QAAAAABUbf5AexSuR7Uv/kAAAAAAgBn+QAAAAADg9/1Aw/UoXEf5/UDhehSu9+z9QAAAAACA7P1AMzMzM/+1/UD2KFyPwr/9QNejcD1Olf1AH4XrUXCf/UCPwvUo8KL9QB+F61EAfv1AzczMzEyT/UDD9ShcY7H9QFK4HoXLn/1ACtejcG2Y/UAAAAAAxJT9QAAAAADAkP1AMzMzM9eB/UCkcD0K72/9QAAAAACAcf1AFK5H4W57/UDD9Shcx4H9QHE9CtePmP1AuB6F6/Wa/UBcj8L1YKD9QBSuR+FSsv1A9ihcjx7G/UBxPQrX58r9QClcj8I9w/1AZmZmZl66/UDXo3A9Ysb9QD0K16Novf1AUrgehbe7/UCamZmZWbz9QLgeheuFwf1AexSuR/m9/UA9CtejYMT9QKRwPQqLuv1AhetRuD6v/UDhehSud6H9QHsUrkehmv1Aw/UoXE+f/UBI4XoU9qz9QAAAAADAm/1AcT0K13+8/UBcj8L1yLT9QAAAAABcsP1AAAAAAGC5/UCuR+F69Lr9QHE9Ctcbvv1AUrgehS/F/UCuR+F65MD9QNejcD1CwP1Arkfheri3/UC4HoXrNaP9QAAAAADgnf1AAAAAAACX/UDXo3A9oo79QAAAAADAn/1AuB6F6/Wn/UCF61G4DrD9QAAAAAAgs/1A4XoUroeb/UCPwvUozJz9QClcj8Jdlf1Aw/UoXM+O/UAAAAAApJT9QOxRuB75ov1AzczMzHyu/UDNzMzMjLH9QHsUrkdZqf1A9ihcj/6d/UC4HoXrOZ/9QOF6FK4nrP1Aj8L1KECr/UCF61G4xsP9QLgehetl3v1ACtejcN3g/UCPwvUoMOX9QAAAAABg4f1AcT0K19/g/UDNzMzMIOj9QAAAAABY6f1AZmZmZh7t/UBxPQrXEwD+QMP1KFxH/P1Aj8L1KEz9/UCF61G4lvv9QClcj8J19/1AAAAAAAD2/UAAAAAAoPH9QAAAAAAM7/1AH4XrUeTq/UDNzMzMzOH9QPYoXI8S6P1AAAAAAEC2/UAUrkfhGrP9QD0K16Nw7v1Arkfhejjj/UAAAAAAQNn9QPYoXI8C0P1ApHA9CiPX/UC4HoXrsdX9QB+F61EA2P1ACtejcCXG/UB7FK5H4c/9QAAAAABA7/1AFK5H4SLs/UBSuB6F1/T9QM3MzMzgBP5APQrXo2wm/kAAAAAAIDD+QOF6FK6jMv5AexSuR1k6/kBI4XoU1ir+QHsUrkd5If5Aw/UoXEMk/kDD9ShcTxX+QOxRuB6NEf5AAAAAAIAg/kCPwvUoGCH+QOxRuB4dG/5AKVyPwskl/kAAAAAA0Bz+QAAAAADg+/1AZmZmZqb6/UAzMzMzUw3+QK5H4XoUGP5AAAAAANwS/kAK16Nw1Rj+QNejcD36GP5Aw/UoXK8Z/kBcj8L1DBT+QFyPwvUEC/5AcT0K1z8Q/kAAAAAAYB3+QFK4HoWHGv5AH4XrUWAJ/kAK16NwvQr+QIXrUbie//1AZmZmZnL9/UAAAAAAcO39QKRwPQo36f1A9ihcjzbe/UD2KFyPNt79QAAAAABczP1AcT0K1yvG/UCamZmZra/9QOF6FK4/qP1ACtejcDmw/UA=",
          "dtype": "f8"
         },
         "name": "Candlestick",
         "open": {
          "bdata": "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",
          "dtype": "f8"
         },
         "showlegend": false,
         "type": "candlestick",
         "x": [
          "2025-10-06T12:45:00",
          "2025-10-06T13:00:00",
          "2025-10-06T13:15:00",
          "2025-10-06T13:30:00",
          "2025-10-06T13:45:00",
          "2025-10-06T14:00:00",
          "2025-10-06T14:15:00",
          "2025-10-06T14:30:00",
          "2025-10-06T14:45:00",
          "2025-10-06T15:00:00",
          "2025-10-06T15:15:00",
          "2025-10-06T15:30:00",
          "2025-10-06T15:45:00",
          "2025-10-06T16:00:00",
          "2025-10-06T16:15:00",
          "2025-10-06T16:30:00",
          "2025-10-06T16:45:00",
          "2025-10-06T17:00:00",
          "2025-10-06T17:15:00",
          "2025-10-06T17:30:00",
          "2025-10-06T17:45:00",
          "2025-10-06T18:00:00",
          "2025-10-06T18:15:00",
          "2025-10-06T18:30:00",
          "2025-10-06T18:45:00",
          "2025-10-06T19:00:00",
          "2025-10-06T19:15:00",
          "2025-10-06T19:30:00",
          "2025-10-06T19:45:00",
          "2025-10-06T20:00:00",
          "2025-10-06T20:15:00",
          "2025-10-06T20:30:00",
          "2025-10-06T20:45:00",
          "2025-10-06T21:00:00",
          "2025-10-06T21:15:00",
          "2025-10-06T21:30:00",
          "2025-10-06T21:45:00",
          "2025-10-06T22:00:00",
          "2025-10-06T22:15:00",
          "2025-10-06T22:30:00",
          "2025-10-06T22:45:00",
          "2025-10-06T23:00:00",
          "2025-10-06T23:15:00",
          "2025-10-06T23:30:00",
          "2025-10-06T23:45:00",
          "2025-10-07T00:00:00",
          "2025-10-07T00:15:00",
          "2025-10-07T00:30:00",
          "2025-10-07T00:45:00",
          "2025-10-07T01:00:00",
          "2025-10-07T01:15:00",
          "2025-10-07T01:30:00",
          "2025-10-07T01:45:00",
          "2025-10-07T02:00:00",
          "2025-10-07T02:15:00",
          "2025-10-07T02:30:00",
          "2025-10-07T02:45:00",
          "2025-10-07T03:00:00",
          "2025-10-07T03:15:00",
          "2025-10-07T03:30:00",
          "2025-10-07T03:45:00",
          "2025-10-07T04:00:00",
          "2025-10-07T04:15:00",
          "2025-10-07T04:30:00",
          "2025-10-07T04:45:00",
          "2025-10-07T05:00:00",
          "2025-10-07T05:15:00",
          "2025-10-07T05:30:00",
          "2025-10-07T05:45:00",
          "2025-10-07T06:00:00",
          "2025-10-07T06:15:00",
          "2025-10-07T06:30:00",
          "2025-10-07T06:45:00",
          "2025-10-07T07:00:00",
          "2025-10-07T07:15:00",
          "2025-10-07T07:30:00",
          "2025-10-07T07:45:00",
          "2025-10-07T08:00:00",
          "2025-10-07T08:15:00",
          "2025-10-07T08:30:00",
          "2025-10-07T08:45:00",
          "2025-10-07T09:00:00",
          "2025-10-07T09:15:00",
          "2025-10-07T09:30:00",
          "2025-10-07T09:45:00",
          "2025-10-07T10:00:00",
          "2025-10-07T10:15:00",
          "2025-10-07T10:30:00",
          "2025-10-07T10:45:00",
          "2025-10-07T11:00:00",
          "2025-10-07T11:15:00",
          "2025-10-07T11:30:00",
          "2025-10-07T11:45:00",
          "2025-10-07T12:00:00",
          "2025-10-07T12:15:00",
          "2025-10-07T12:30:00",
          "2025-10-07T12:45:00",
          "2025-10-07T13:00:00",
          "2025-10-07T13:15:00",
          "2025-10-07T13:30:00",
          "2025-10-07T13:45:00",
          "2025-10-07T14:00:00",
          "2025-10-07T14:15:00",
          "2025-10-07T14:30:00",
          "2025-10-07T14:45:00",
          "2025-10-07T15:00:00",
          "2025-10-07T15:15:00",
          "2025-10-07T15:30:00",
          "2025-10-07T15:45:00",
          "2025-10-07T16:00:00",
          "2025-10-07T16:15:00",
          "2025-10-07T16:30:00",
          "2025-10-07T16:45:00",
          "2025-10-07T17:00:00",
          "2025-10-07T17:15:00",
          "2025-10-07T17:30:00",
          "2025-10-07T17:45:00",
          "2025-10-07T18:00:00",
          "2025-10-07T18:15:00",
          "2025-10-07T18:30:00",
          "2025-10-07T18:45:00",
          "2025-10-07T19:00:00",
          "2025-10-07T19:15:00",
          "2025-10-07T19:30:00",
          "2025-10-07T19:45:00",
          "2025-10-07T20:00:00",
          "2025-10-07T20:15:00",
          "2025-10-07T20:30:00",
          "2025-10-07T20:45:00",
          "2025-10-07T21:00:00",
          "2025-10-07T21:15:00",
          "2025-10-07T21:30:00",
          "2025-10-07T21:45:00",
          "2025-10-07T22:00:00",
          "2025-10-07T22:15:00",
          "2025-10-07T22:30:00",
          "2025-10-07T22:45:00",
          "2025-10-07T23:00:00",
          "2025-10-07T23:15:00",
          "2025-10-07T23:30:00",
          "2025-10-07T23:45:00",
          "2025-10-08T00:00:00",
          "2025-10-08T00:15:00",
          "2025-10-08T00:30:00",
          "2025-10-08T00:45:00",
          "2025-10-08T01:00:00",
          "2025-10-08T01:15:00",
          "2025-10-08T01:30:00",
          "2025-10-08T01:45:00",
          "2025-10-08T02:00:00",
          "2025-10-08T02:15:00",
          "2025-10-08T02:30:00",
          "2025-10-08T02:45:00",
          "2025-10-08T03:00:00",
          "2025-10-08T03:15:00",
          "2025-10-08T03:30:00",
          "2025-10-08T03:45:00",
          "2025-10-08T04:00:00",
          "2025-10-08T04:15:00",
          "2025-10-08T04:30:00",
          "2025-10-08T04:45:00",
          "2025-10-08T05:00:00",
          "2025-10-08T05:15:00",
          "2025-10-08T05:30:00",
          "2025-10-08T05:45:00",
          "2025-10-08T06:00:00",
          "2025-10-08T06:15:00",
          "2025-10-08T06:30:00",
          "2025-10-08T06:45:00",
          "2025-10-08T07:00:00",
          "2025-10-08T07:15:00",
          "2025-10-08T07:30:00",
          "2025-10-08T07:45:00",
          "2025-10-08T08:00:00",
          "2025-10-08T08:15:00",
          "2025-10-08T08:30:00",
          "2025-10-08T08:45:00",
          "2025-10-08T09:00:00",
          "2025-10-08T09:15:00",
          "2025-10-08T09:30:00",
          "2025-10-08T09:45:00",
          "2025-10-08T10:00:00",
          "2025-10-08T10:15:00",
          "2025-10-08T10:30:00",
          "2025-10-08T10:45:00",
          "2025-10-08T11:00:00",
          "2025-10-08T11:15:00",
          "2025-10-08T11:30:00",
          "2025-10-08T11:45:00",
          "2025-10-08T12:00:00",
          "2025-10-08T12:15:00",
          "2025-10-08T12:30:00",
          "2025-10-08T12:45:00",
          "2025-10-08T13:00:00",
          "2025-10-08T13:15:00",
          "2025-10-08T13:30:00",
          "2025-10-08T13:45:00",
          "2025-10-08T14:00:00",
          "2025-10-08T14:15:00",
          "2025-10-08T14:30:00",
          "2025-10-08T14:45:00",
          "2025-10-08T15:00:00",
          "2025-10-08T15:15:00",
          "2025-10-08T15:30:00",
          "2025-10-08T15:45:00",
          "2025-10-08T16:00:00",
          "2025-10-08T16:15:00",
          "2025-10-08T16:30:00",
          "2025-10-08T16:45:00",
          "2025-10-08T17:00:00",
          "2025-10-08T17:15:00",
          "2025-10-08T17:30:00",
          "2025-10-08T17:45:00",
          "2025-10-08T18:00:00",
          "2025-10-08T18:15:00",
          "2025-10-08T18:30:00",
          "2025-10-08T18:45:00",
          "2025-10-08T19:00:00",
          "2025-10-08T19:15:00",
          "2025-10-08T19:30:00",
          "2025-10-08T19:45:00",
          "2025-10-08T20:00:00",
          "2025-10-08T20:15:00",
          "2025-10-08T20:30:00",
          "2025-10-08T20:45:00",
          "2025-10-08T21:00:00",
          "2025-10-08T21:15:00",
          "2025-10-08T21:30:00",
          "2025-10-08T21:45:00",
          "2025-10-08T22:00:00",
          "2025-10-08T22:15:00",
          "2025-10-08T22:30:00",
          "2025-10-08T22:45:00",
          "2025-10-08T23:00:00",
          "2025-10-08T23:15:00",
          "2025-10-08T23:30:00",
          "2025-10-08T23:45:00",
          "2025-10-09T00:00:00",
          "2025-10-09T00:15:00",
          "2025-10-09T00:30:00",
          "2025-10-09T00:45:00",
          "2025-10-09T01:00:00",
          "2025-10-09T01:15:00",
          "2025-10-09T01:30:00",
          "2025-10-09T01:45:00",
          "2025-10-09T02:00:00",
          "2025-10-09T02:15:00",
          "2025-10-09T02:30:00",
          "2025-10-09T02:45:00",
          "2025-10-09T03:00:00"
         ]
        },
        {
         "hovertemplate": "vah_line<br>%{y:.2f}<extra></extra>",
         "line": {
          "color": "green",
          "dash": "dash",
          "width": 1
         },
         "mode": "lines",
         "name": "vah_line (s=190)",
         "showlegend": false,
         "type": "scatter",
         "x": [
          "2025-10-09T00:00:00",
          "2025-10-09T03:00:00"
         ],
         "y": [
          122548.27500000043,
          122548.27500000043
         ]
        },
        {
         "hovertemplate": "val_line<br>%{y:.2f}<extra></extra>",
         "line": {
          "color": "red",
          "dash": "dash",
          "width": 1
         },
         "mode": "lines",
         "name": "val_line (s=271)",
         "showlegend": false,
         "type": "scatter",
         "x": [
          "2025-10-09T00:00:00",
          "2025-10-09T03:00:00"
         ],
         "y": [
          121617.81,
          121617.81
         ]
        },
        {
         "hovertemplate": "vah_line<br>%{y:.2f}<extra></extra>",
         "line": {
          "color": "green",
          "dash": "dash",
          "width": 1
         },
         "mode": "lines",
         "name": "vah_line (s=192)",
         "showlegend": false,
         "type": "scatter",
         "x": [
          "2025-10-08T00:00:00",
          "2025-10-08T23:45:00"
         ],
         "y": [
          124033.18999999946,
          124033.18999999946
         ]
        },
        {
         "hovertemplate": "val_line<br>%{y:.2f}<extra></extra>",
         "line": {
          "color": "red",
          "dash": "dash",
          "width": 1
         },
         "mode": "lines",
         "name": "val_line (s=1206)",
         "showlegend": false,
         "type": "scatter",
         "x": [
          "2025-10-08T00:00:00",
          "2025-10-08T23:45:00"
         ],
         "y": [
          121895.65459999988,
          121895.65459999988
         ]
        },
        {
         "hovertemplate": "vah_line<br>%{y:.2f}<extra></extra>",
         "line": {
          "color": "green",
          "dash": "dash",
          "width": 1
         },
         "mode": "lines",
         "name": "vah_line",
         "showlegend": false,
         "type": "scatter",
         "x": [
          "2025-10-07T00:00:00",
          "2025-10-07T23:45:00"
         ],
         "y": [
          124959.69480000068,
          124959.69480000068
         ]
        },
        {
         "hovertemplate": "val_line<br>%{y:.2f}<extra></extra>",
         "line": {
          "color": "red",
          "dash": "dash",
          "width": 1
         },
         "mode": "lines",
         "name": "val_line (s=1302)",
         "showlegend": false,
         "type": "scatter",
         "x": [
          "2025-10-07T00:00:00",
          "2025-10-07T23:45:00"
         ],
         "y": [
          121665.01560000014,
          121665.01560000014
         ]
        },
        {
         "hovertemplate": "vah_line<br>%{y:.2f}<extra></extra>",
         "line": {
          "color": "green",
          "dash": "dash",
          "width": 1
         },
         "mode": "lines",
         "name": "vah_line (s=912)",
         "showlegend": false,
         "type": "scatter",
         "x": [
          "2025-10-06T00:00:00",
          "2025-10-06T23:45:00"
         ],
         "y": [
          126011.17999999964,
          126011.17999999964
         ]
        },
        {
         "hovertemplate": "val_line<br>%{y:.2f}<extra></extra>",
         "line": {
          "color": "red",
          "dash": "dash",
          "width": 1
         },
         "mode": "lines",
         "name": "val_line (s=331)",
         "showlegend": false,
         "type": "scatter",
         "x": [
          "2025-10-06T00:00:00",
          "2025-10-06T23:45:00"
         ],
         "y": [
          123927.02779999992,
          123927.02779999992
         ]
        },
        {
         "hovertemplate": "vah_line<br>%{y:.2f}<extra></extra>",
         "line": {
          "color": "green",
          "dash": "dash",
          "width": 1
         },
         "mode": "lines",
         "name": "vah_line",
         "showlegend": false,
         "type": "scatter",
         "x": [
          "2025-10-05T00:00:00",
          "2025-10-05T23:45:00"
         ],
         "y": [
          125424.42380000024,
          125424.42380000024
         ]
        },
        {
         "hovertemplate": "val_line<br>%{y:.2f}<extra></extra>",
         "line": {
          "color": "red",
          "dash": "dash",
          "width": 1
         },
         "mode": "lines",
         "name": "val_line (s=259)",
         "showlegend": false,
         "type": "scatter",
         "x": [
          "2025-10-05T00:00:00",
          "2025-10-05T23:45:00"
         ],
         "y": [
          123063.32640000006,
          123063.32640000006
         ]
        },
        {
         "hovertemplate": "poc_line<br>%{y:.2f}<extra></extra>",
         "line": {
          "color": "lightgray",
          "dash": "dash",
          "width": 1
         },
         "mode": "lines",
         "name": "poc_line (s=271)",
         "showlegend": false,
         "type": "scatter",
         "x": [
          "2025-10-09T00:00:00",
          "2025-10-09T03:00:00"
         ],
         "y": [
          121625.31375,
          121625.31375
         ]
        },
        {
         "hovertemplate": "poc_line<br>%{y:.2f}<extra></extra>",
         "line": {
          "color": "lightgray",
          "dash": "dash",
          "width": 1
         },
         "mode": "lines",
         "name": "poc_line (s=1622)",
         "showlegend": false,
         "type": "scatter",
         "x": [
          "2025-10-08T00:00:00",
          "2025-10-09T01:00:00"
         ],
         "y": [
          122813.6986499997,
          122813.6986499997
         ]
        },
        {
         "hovertemplate": "poc_line<br>%{y:.2f}<extra></extra>",
         "line": {
          "color": "lightgray",
          "dash": "dash",
          "width": 1
         },
         "mode": "lines",
         "name": "poc_line (s=1374)",
         "showlegend": false,
         "type": "scatter",
         "x": [
          "2025-10-07T00:00:00",
          "2025-10-08T08:30:00"
         ],
         "y": [
          122811.89760000033,
          122811.89760000033
         ]
        },
        {
         "hovertemplate": "poc_line<br>%{y:.2f}<extra></extra>",
         "line": {
          "color": "lightgray",
          "dash": "dash",
          "width": 1
         },
         "mode": "lines",
         "name": "poc_line (s=3175)",
         "showlegend": false,
         "type": "scatter",
         "x": [
          "2025-10-05T00:00:00",
          "2025-10-06T14:00:00"
         ],
         "y": [
          125181.84530000022,
          125181.84530000022
         ]
        },
        {
         "hovertemplate": "naked_poc_line<br>%{y:.2f}<extra></extra>",
         "line": {
          "color": "white",
          "dash": "dash",
          "width": 2
         },
         "mode": "lines",
         "name": "naked_poc_line (s=912)",
         "showlegend": false,
         "type": "scatter",
         "x": [
          "2025-10-06T00:00:00",
          "2025-10-09T03:00:00"
         ],
         "y": [
          125997.82004999965,
          125997.82004999965
         ]
        }
       ],
       "layout": {
        "height": 800,
        "showlegend": false,
        "template": {
         "data": {
          "bar": [
           {
            "error_x": {
             "color": "#f2f5fa"
            },
            "error_y": {
             "color": "#f2f5fa"
            },
            "marker": {
             "line": {
              "color": "rgb(17,17,17)",
              "width": 0.5
             },
             "pattern": {
              "fillmode": "overlay",
              "size": 10,
              "solidity": 0.2
             }
            },
            "type": "bar"
           }
          ],
          "barpolar": [
           {
            "marker": {
             "line": {
              "color": "rgb(17,17,17)",
              "width": 0.5
             },
             "pattern": {
              "fillmode": "overlay",
              "size": 10,
              "solidity": 0.2
             }
            },
            "type": "barpolar"
           }
          ],
          "carpet": [
           {
            "aaxis": {
             "endlinecolor": "#A2B1C6",
             "gridcolor": "#506784",
             "linecolor": "#506784",
             "minorgridcolor": "#506784",
             "startlinecolor": "#A2B1C6"
            },
            "baxis": {
             "endlinecolor": "#A2B1C6",
             "gridcolor": "#506784",
             "linecolor": "#506784",
             "minorgridcolor": "#506784",
             "startlinecolor": "#A2B1C6"
            },
            "type": "carpet"
           }
          ],
          "choropleth": [
           {
            "colorbar": {
             "outlinewidth": 0,
             "ticks": ""
            },
            "type": "choropleth"
           }
          ],
          "contour": [
           {
            "colorbar": {
             "outlinewidth": 0,
             "ticks": ""
            },
            "colorscale": [
             [
              0,
              "#0d0887"
             ],
             [
              0.1111111111111111,
              "#46039f"
             ],
             [
              0.2222222222222222,
              "#7201a8"
             ],
             [
              0.3333333333333333,
              "#9c179e"
             ],
             [
              0.4444444444444444,
              "#bd3786"
             ],
             [
              0.5555555555555556,
              "#d8576b"
             ],
             [
              0.6666666666666666,
              "#ed7953"
             ],
             [
              0.7777777777777778,
              "#fb9f3a"
             ],
             [
              0.8888888888888888,
              "#fdca26"
             ],
             [
              1,
              "#f0f921"
             ]
            ],
            "type": "contour"
           }
          ],
          "contourcarpet": [
           {
            "colorbar": {
             "outlinewidth": 0,
             "ticks": ""
            },
            "type": "contourcarpet"
           }
          ],
          "heatmap": [
           {
            "colorbar": {
             "outlinewidth": 0,
             "ticks": ""
            },
            "colorscale": [
             [
              0,
              "#0d0887"
             ],
             [
              0.1111111111111111,
              "#46039f"
             ],
             [
              0.2222222222222222,
              "#7201a8"
             ],
             [
              0.3333333333333333,
              "#9c179e"
             ],
             [
              0.4444444444444444,
              "#bd3786"
             ],
             [
              0.5555555555555556,
              "#d8576b"
             ],
             [
              0.6666666666666666,
              "#ed7953"
             ],
             [
              0.7777777777777778,
              "#fb9f3a"
             ],
             [
              0.8888888888888888,
              "#fdca26"
             ],
             [
              1,
              "#f0f921"
             ]
            ],
            "type": "heatmap"
           }
          ],
          "histogram": [
           {
            "marker": {
             "pattern": {
              "fillmode": "overlay",
              "size": 10,
              "solidity": 0.2
             }
            },
            "type": "histogram"
           }
          ],
          "histogram2d": [
           {
            "colorbar": {
             "outlinewidth": 0,
             "ticks": ""
            },
            "colorscale": [
             [
              0,
              "#0d0887"
             ],
             [
              0.1111111111111111,
              "#46039f"
             ],
             [
              0.2222222222222222,
              "#7201a8"
             ],
             [
              0.3333333333333333,
              "#9c179e"
             ],
             [
              0.4444444444444444,
              "#bd3786"
             ],
             [
              0.5555555555555556,
              "#d8576b"
             ],
             [
              0.6666666666666666,
              "#ed7953"
             ],
             [
              0.7777777777777778,
              "#fb9f3a"
             ],
             [
              0.8888888888888888,
              "#fdca26"
             ],
             [
              1,
              "#f0f921"
             ]
            ],
            "type": "histogram2d"
           }
          ],
          "histogram2dcontour": [
           {
            "colorbar": {
             "outlinewidth": 0,
             "ticks": ""
            },
            "colorscale": [
             [
              0,
              "#0d0887"
             ],
             [
              0.1111111111111111,
              "#46039f"
             ],
             [
              0.2222222222222222,
              "#7201a8"
             ],
             [
              0.3333333333333333,
              "#9c179e"
             ],
             [
              0.4444444444444444,
              "#bd3786"
             ],
             [
              0.5555555555555556,
              "#d8576b"
             ],
             [
              0.6666666666666666,
              "#ed7953"
             ],
             [
              0.7777777777777778,
              "#fb9f3a"
             ],
             [
              0.8888888888888888,
              "#fdca26"
             ],
             [
              1,
              "#f0f921"
             ]
            ],
            "type": "histogram2dcontour"
           }
          ],
          "mesh3d": [
           {
            "colorbar": {
             "outlinewidth": 0,
             "ticks": ""
            },
            "type": "mesh3d"
           }
          ],
          "parcoords": [
           {
            "line": {
             "colorbar": {
              "outlinewidth": 0,
              "ticks": ""
             }
            },
            "type": "parcoords"
           }
          ],
          "pie": [
           {
            "automargin": true,
            "type": "pie"
           }
          ],
          "scatter": [
           {
            "marker": {
             "line": {
              "color": "#283442"
             }
            },
            "type": "scatter"
           }
          ],
          "scatter3d": [
           {
            "line": {
             "colorbar": {
              "outlinewidth": 0,
              "ticks": ""
             }
            },
            "marker": {
             "colorbar": {
              "outlinewidth": 0,
              "ticks": ""
             }
            },
            "type": "scatter3d"
           }
          ],
          "scattercarpet": [
           {
            "marker": {
             "colorbar": {
              "outlinewidth": 0,
              "ticks": ""
             }
            },
            "type": "scattercarpet"
           }
          ],
          "scattergeo": [
           {
            "marker": {
             "colorbar": {
              "outlinewidth": 0,
              "ticks": ""
             }
            },
            "type": "scattergeo"
           }
          ],
          "scattergl": [
           {
            "marker": {
             "line": {
              "color": "#283442"
             }
            },
            "type": "scattergl"
           }
          ],
          "scattermap": [
           {
            "marker": {
             "colorbar": {
              "outlinewidth": 0,
              "ticks": ""
             }
            },
            "type": "scattermap"
           }
          ],
          "scattermapbox": [
           {
            "marker": {
             "colorbar": {
              "outlinewidth": 0,
              "ticks": ""
             }
            },
            "type": "scattermapbox"
           }
          ],
          "scatterpolar": [
           {
            "marker": {
             "colorbar": {
              "outlinewidth": 0,
              "ticks": ""
             }
            },
            "type": "scatterpolar"
           }
          ],
          "scatterpolargl": [
           {
            "marker": {
             "colorbar": {
              "outlinewidth": 0,
              "ticks": ""
             }
            },
            "type": "scatterpolargl"
           }
          ],
          "scatterternary": [
           {
            "marker": {
             "colorbar": {
              "outlinewidth": 0,
              "ticks": ""
             }
            },
            "type": "scatterternary"
           }
          ],
          "surface": [
           {
            "colorbar": {
             "outlinewidth": 0,
             "ticks": ""
            },
            "colorscale": [
             [
              0,
              "#0d0887"
             ],
             [
              0.1111111111111111,
              "#46039f"
             ],
             [
              0.2222222222222222,
              "#7201a8"
             ],
             [
              0.3333333333333333,
              "#9c179e"
             ],
             [
              0.4444444444444444,
              "#bd3786"
             ],
             [
              0.5555555555555556,
              "#d8576b"
             ],
             [
              0.6666666666666666,
              "#ed7953"
             ],
             [
              0.7777777777777778,
              "#fb9f3a"
             ],
             [
              0.8888888888888888,
              "#fdca26"
             ],
             [
              1,
              "#f0f921"
             ]
            ],
            "type": "surface"
           }
          ],
          "table": [
           {
            "cells": {
             "fill": {
              "color": "#506784"
             },
             "line": {
              "color": "rgb(17,17,17)"
             }
            },
            "header": {
             "fill": {
              "color": "#2a3f5f"
             },
             "line": {
              "color": "rgb(17,17,17)"
             }
            },
            "type": "table"
           }
          ]
         },
         "layout": {
          "annotationdefaults": {
           "arrowcolor": "#f2f5fa",
           "arrowhead": 0,
           "arrowwidth": 1
          },
          "autotypenumbers": "strict",
          "coloraxis": {
           "colorbar": {
            "outlinewidth": 0,
            "ticks": ""
           }
          },
          "colorscale": {
           "diverging": [
            [
             0,
             "#8e0152"
            ],
            [
             0.1,
             "#c51b7d"
            ],
            [
             0.2,
             "#de77ae"
            ],
            [
             0.3,
             "#f1b6da"
            ],
            [
             0.4,
             "#fde0ef"
            ],
            [
             0.5,
             "#f7f7f7"
            ],
            [
             0.6,
             "#e6f5d0"
            ],
            [
             0.7,
             "#b8e186"
            ],
            [
             0.8,
             "#7fbc41"
            ],
            [
             0.9,
             "#4d9221"
            ],
            [
             1,
             "#276419"
            ]
           ],
           "sequential": [
            [
             0,
             "#0d0887"
            ],
            [
             0.1111111111111111,
             "#46039f"
            ],
            [
             0.2222222222222222,
             "#7201a8"
            ],
            [
             0.3333333333333333,
             "#9c179e"
            ],
            [
             0.4444444444444444,
             "#bd3786"
            ],
            [
             0.5555555555555556,
             "#d8576b"
            ],
            [
             0.6666666666666666,
             "#ed7953"
            ],
            [
             0.7777777777777778,
             "#fb9f3a"
            ],
            [
             0.8888888888888888,
             "#fdca26"
            ],
            [
             1,
             "#f0f921"
            ]
           ],
           "sequentialminus": [
            [
             0,
             "#0d0887"
            ],
            [
             0.1111111111111111,
             "#46039f"
            ],
            [
             0.2222222222222222,
             "#7201a8"
            ],
            [
             0.3333333333333333,
             "#9c179e"
            ],
            [
             0.4444444444444444,
             "#bd3786"
            ],
            [
             0.5555555555555556,
             "#d8576b"
            ],
            [
             0.6666666666666666,
             "#ed7953"
            ],
            [
             0.7777777777777778,
             "#fb9f3a"
            ],
            [
             0.8888888888888888,
             "#fdca26"
            ],
            [
             1,
             "#f0f921"
            ]
           ]
          },
          "colorway": [
           "#636efa",
           "#EF553B",
           "#00cc96",
           "#ab63fa",
           "#FFA15A",
           "#19d3f3",
           "#FF6692",
           "#B6E880",
           "#FF97FF",
           "#FECB52"
          ],
          "font": {
           "color": "#f2f5fa"
          },
          "geo": {
           "bgcolor": "rgb(17,17,17)",
           "lakecolor": "rgb(17,17,17)",
           "landcolor": "rgb(17,17,17)",
           "showlakes": true,
           "showland": true,
           "subunitcolor": "#506784"
          },
          "hoverlabel": {
           "align": "left"
          },
          "hovermode": "closest",
          "mapbox": {
           "style": "dark"
          },
          "paper_bgcolor": "rgb(17,17,17)",
          "plot_bgcolor": "rgb(17,17,17)",
          "polar": {
           "angularaxis": {
            "gridcolor": "#506784",
            "linecolor": "#506784",
            "ticks": ""
           },
           "bgcolor": "rgb(17,17,17)",
           "radialaxis": {
            "gridcolor": "#506784",
            "linecolor": "#506784",
            "ticks": ""
           }
          },
          "scene": {
           "xaxis": {
            "backgroundcolor": "rgb(17,17,17)",
            "gridcolor": "#506784",
            "gridwidth": 2,
            "linecolor": "#506784",
            "showbackground": true,
            "ticks": "",
            "zerolinecolor": "#C8D4E3"
           },
           "yaxis": {
            "backgroundcolor": "rgb(17,17,17)",
            "gridcolor": "#506784",
            "gridwidth": 2,
            "linecolor": "#506784",
            "showbackground": true,
            "ticks": "",
            "zerolinecolor": "#C8D4E3"
           },
           "zaxis": {
            "backgroundcolor": "rgb(17,17,17)",
            "gridcolor": "#506784",
            "gridwidth": 2,
            "linecolor": "#506784",
            "showbackground": true,
            "ticks": "",
            "zerolinecolor": "#C8D4E3"
           }
          },
          "shapedefaults": {
           "line": {
            "color": "#f2f5fa"
           }
          },
          "sliderdefaults": {
           "bgcolor": "#C8D4E3",
           "bordercolor": "rgb(17,17,17)",
           "borderwidth": 1,
           "tickwidth": 0
          },
          "ternary": {
           "aaxis": {
            "gridcolor": "#506784",
            "linecolor": "#506784",
            "ticks": ""
           },
           "baxis": {
            "gridcolor": "#506784",
            "linecolor": "#506784",
            "ticks": ""
           },
           "bgcolor": "rgb(17,17,17)",
           "caxis": {
            "gridcolor": "#506784",
            "linecolor": "#506784",
            "ticks": ""
           }
          },
          "title": {
           "x": 0.05
          },
          "updatemenudefaults": {
           "bgcolor": "#506784",
           "borderwidth": 0
          },
          "xaxis": {
           "automargin": true,
           "gridcolor": "#283442",
           "linecolor": "#506784",
           "ticks": "",
           "title": {
            "standoff": 15
           },
           "zerolinecolor": "#283442",
           "zerolinewidth": 2
          },
          "yaxis": {
           "automargin": true,
           "gridcolor": "#283442",
           "linecolor": "#506784",
           "ticks": "",
           "title": {
            "standoff": 15
           },
           "zerolinecolor": "#283442",
           "zerolinewidth": 2
          }
         }
        },
        "title": {
         "text": "BTCUSDT - 15m - Cached Levels Visualizer (250 candles)"
        },
        "xaxis": {
         "fixedrange": false,
         "rangeslider": {
          "visible": false
         },
         "title": {
          "text": "Time"
         }
        },
        "yaxis": {
         "fixedrange": false,
         "title": {
          "text": "Price"
         },
         "type": "log"
        }
       }
      }
     },
     "metadata": {},
     "output_type": "display_data"
    }
   ],
   "source": [
    "# Visualize different segments of the cached data\n",
    "print(\"🎯 Visualizing cached levels data...\")\n",
    "\n",
    "import pandas as pd\n",
    "import json\n",
    "from pathlib import Path\n",
    "\n",
    "# Set display options\n",
    "pd.set_option('display.max_columns', None)\n",
    "pd.set_option('display.width', None)\n",
    "pd.set_option('display.max_rows', 50)\n",
    "\n",
    "\n",
    "## SYMBOL\n",
    "symbol = 'BTCUSDT'\n",
    "\n",
    "# Load the checkpoint file\n",
    "checkpoint_path = Path(f'data/levels_cache/{symbol}-15m-levels.parquet')\n",
    "df = pd.read_parquet(checkpoint_path)\n",
    "\n",
    "print(f\"✅ Loaded checkpoint file: {checkpoint_path}\")\n",
    "print(f\"📊 Shape: {df.shape[0]:,} rows × {df.shape[1]} columns\")\n",
    "print(f\"📅 Date Range: {df['datetime'].min()} to {df['datetime'].max()}\")\n",
    "df.head()\n",
    "\n",
    "\n",
    "# Get the last 500 candles for visualization\n",
    "segment_size = 250\n",
    "df = df.tail(segment_size) if segment_size > 0 else df\n",
    "\n",
    "print(f\"📊 Visualizing last {len(df)} candles:\")\n",
    "print(f\"   Date range: {df['datetime'].iloc[0]} to {df['datetime'].iloc[-1]}\")\n",
    "print(f\"   Price range: ${df['low'].min():,.2f} - ${df['high'].max():,.2f}\")\n",
    "\n",
    "# Check what timeframes are available in the last row\n",
    "last_levels = json.loads(df['levels_json'].iloc[-1])\n",
    "available_timeframes = list(last_levels.keys())\n",
    "print(f\"   Available timeframes: {available_timeframes}\")\n",
    "\n",
    "# Visualize each available timeframe\n",
    "for tf in available_timeframes:\n",
    "    print(f\"\\n🔍 Visualizing {tf} timeframe levels...\")\n",
    "    try:\n",
    "        visualize_cached_data(symbol, df, timeframe=tf, useLogScale=True)\n",
    "    except Exception as e:\n",
    "        print(f\"❌ Error visualizing {tf}: {e}\")\n",
    "        import traceback\n",
    "        traceback.print_exc()"
   ]
  }
 ],
 "metadata": {
  "kernelspec": {
   "display_name": "venv",
   "language": "python",
   "name": "python3"
  },
  "language_info": {
   "codemirror_mode": {
    "name": "ipython",
    "version": 3
   },
   "file_extension": ".py",
   "mimetype": "text/x-python",
   "name": "python",
   "nbconvert_exporter": "python",
   "pygments_lexer": "ipython3",
   "version": "3.11.9"
  }
 },
 "nbformat": 4,
 "nbformat_minor": 5
}
