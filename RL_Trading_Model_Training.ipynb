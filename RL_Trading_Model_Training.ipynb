{
  "cells": [
    {
      "cell_type": "markdown",
      "source": [
        "# Clone Repo\n"
      ],
      "metadata": {
        "id": "lC9dr0ahgcxj"
      },
      "id": "lC9dr0ahgcxj"
    },
    {
      "cell_type": "code",
      "source": [
        "!git clone https://github.com/brlocky/trading-bot\n"
      ],
      "metadata": {
        "colab": {
          "base_uri": "https://localhost:8080/"
        },
        "id": "8iD5SWGXghzS",
        "outputId": "e8238b75-6a34-4f2e-f68b-d20f9aed3c8b"
      },
      "id": "8iD5SWGXghzS",
      "execution_count": 1,
      "outputs": [
        {
          "output_type": "stream",
          "name": "stdout",
          "text": [
            "Cloning into 'trading-bot'...\n",
            "remote: Enumerating objects: 365, done.\u001b[K\n",
            "remote: Counting objects: 100% (365/365), done.\u001b[K\n",
            "remote: Compressing objects: 100% (226/226), done.\u001b[K\n",
            "remote: Total 365 (delta 162), reused 338 (delta 135), pack-reused 0 (from 0)\u001b[K\n",
            "Receiving objects: 100% (365/365), 13.04 MiB | 10.53 MiB/s, done.\n",
            "Resolving deltas: 100% (162/162), done.\n"
          ]
        }
      ]
    },
    {
      "cell_type": "code",
      "source": [
        "!pip install gymnasium==0.29.1\n",
        "!pip install stable_baselines3==2.1.0\n",
        "!pip install sb3_contrib==2.7.0\n",
        "!pip install tensorboard==2.20.0\n",
        "!pip install TA-Lib==0.6.7"
      ],
      "metadata": {
        "id": "6w5eIJ7NwY5K"
      },
      "id": "6w5eIJ7NwY5K",
      "execution_count": null,
      "outputs": []
    },
    {
      "cell_type": "code",
      "source": [
        "from google.colab import drive\n",
        "drive.mount('/content/drive')"
      ],
      "metadata": {
        "id": "vd9NN1lcxNQ2",
        "outputId": "f970c5af-34fc-49dc-8700-41f9d049c2f2",
        "colab": {
          "base_uri": "https://localhost:8080/"
        }
      },
      "id": "vd9NN1lcxNQ2",
      "execution_count": 8,
      "outputs": [
        {
          "output_type": "stream",
          "name": "stdout",
          "text": [
            "Mounted at /content/drive\n"
          ]
        }
      ]
    },
    {
      "cell_type": "code",
      "source": [
        "import shutil\n",
        "import os\n",
        "\n",
        "# Source path: update this to your actual file location in Drive\n",
        "src = '/content/drive/MyDrive/Colab Notebooks/BTCUSDT-15m.json'\n",
        "\n",
        "# Destination directory and path\n",
        "dst_dir = '/content/trading-bot/data'\n",
        "dst = os.path.join(dst_dir, 'BTCUSDT-15m.json')\n",
        "\n",
        "# Ensure the destination data directory exists\n",
        "os.makedirs(dst_dir, exist_ok=True)\n",
        "\n",
        "# Copy the file\n",
        "shutil.copy(src, dst)\n",
        "print(f\"✅ Copied {src} to {dst}\")"
      ],
      "metadata": {
        "id": "zfsZsUIdyUyl",
        "outputId": "3130735c-0dcc-4157-8180-e681fe9846b4",
        "colab": {
          "base_uri": "https://localhost:8080/"
        }
      },
      "id": "zfsZsUIdyUyl",
      "execution_count": 10,
      "outputs": [
        {
          "output_type": "stream",
          "name": "stdout",
          "text": [
            "✅ Copied /content/drive/MyDrive/Colab Notebooks/BTCUSDT-15m.json to /content/trading-bot/data/BTCUSDT-15m.json\n"
          ]
        }
      ]
    },
    {
      "cell_type": "code",
      "source": [
        "%cd /content/trading-bot\n",
        "!git stash\n",
        "!git pull\n"
      ],
      "metadata": {
        "colab": {
          "base_uri": "https://localhost:8080/"
        },
        "id": "7JUa1N9CkyF-",
        "outputId": "42d022d0-f44e-4937-8050-370d85d110e6"
      },
      "id": "7JUa1N9CkyF-",
      "execution_count": 5,
      "outputs": [
        {
          "output_type": "stream",
          "name": "stdout",
          "text": [
            "/content/trading-bot\n",
            "No local changes to save\n",
            "Already up to date.\n"
          ]
        }
      ]
    },
    {
      "cell_type": "code",
      "execution_count": 6,
      "id": "798ff339",
      "metadata": {
        "colab": {
          "base_uri": "https://localhost:8080/"
        },
        "id": "798ff339",
        "outputId": "8f2ea7c5-cd8d-4647-c00c-95a8f6aea0e0"
      },
      "outputs": [
        {
          "output_type": "stream",
          "name": "stdout",
          "text": [
            "✅ Added to Python path: /content/trading-bot/src\n",
            "📂 Working directory: /content/trading-bot\n",
            "🔍 Python will search for modules in: /content/trading-bot/src\n",
            "==================================================\n"
          ]
        }
      ],
      "source": [
        "# ================================================\n",
        "# 🔧 SETUP - Add src to Python Path (Colab compatible)\n",
        "# ================================================\n",
        "\n",
        "import sys\n",
        "import os\n",
        "\n",
        "project_root = os.getcwd()\n",
        "src_path = os.path.join(project_root, 'src')\n",
        "\n",
        "# If running in Colab, adjust for /content/trading-bot/src\n",
        "if not os.path.exists(src_path) and os.path.exists('/content/trading-bot/src'):\n",
        "    src_path = '/content/trading-bot/src'\n",
        "\n",
        "if src_path not in sys.path:\n",
        "    sys.path.insert(0, src_path)\n",
        "    print(f\"✅ Added to Python path: {src_path}\")\n",
        "else:\n",
        "    print(f\"✅ Already in path: {src_path}\")\n",
        "\n",
        "# Verify\n",
        "print(f\"📂 Working directory: {project_root}\")\n",
        "print(f\"🔍 Python will search for modules in: {src_path}\")\n",
        "print(\"=\" * 50)"
      ]
    },
    {
      "cell_type": "code",
      "source": [
        "import warnings\n",
        "warnings.filterwarnings(\"ignore\", category=DeprecationWarning)"
      ],
      "metadata": {
        "id": "esuy7X5Oqxad"
      },
      "id": "esuy7X5Oqxad",
      "execution_count": 9,
      "outputs": []
    },
    {
      "cell_type": "code",
      "source": [
        "import torch\n",
        "torch.cuda.is_available()"
      ],
      "metadata": {
        "id": "ld0Gtt4H3Vu8",
        "outputId": "3cda74e6-dc20-4de1-d055-1852efe3cb18",
        "colab": {
          "base_uri": "https://localhost:8080/"
        }
      },
      "id": "ld0Gtt4H3Vu8",
      "execution_count": 11,
      "outputs": [
        {
          "output_type": "execute_result",
          "data": {
            "text/plain": [
              "True"
            ]
          },
          "metadata": {},
          "execution_count": 11
        }
      ]
    },
    {
      "cell_type": "code",
      "execution_count": 8,
      "id": "853cfda2",
      "metadata": {
        "colab": {
          "base_uri": "https://localhost:8080/",
          "height": 152,
          "referenced_widgets": [
            "61df4117b52f4b148d7921fa6ff9f960",
            "2d67904a8108439ca2f37175c34da020"
          ]
        },
        "id": "853cfda2",
        "outputId": "13bb3895-6d0f-43a6-a21e-fc39ce2829a9"
      },
      "outputs": [
        {
          "output_type": "display_data",
          "data": {
            "text/plain": [
              "\u001b[35m  15%\u001b[0m \u001b[38;2;249;38;114m━━━━━━━━━\u001b[0m\u001b[38;5;237m╺\u001b[0m\u001b[38;5;237m━━━━━━━━━━━━━━━━━━━━━━━━━━━━━━━━━━━━━━━━━━━━━━━━━━━\u001b[0m \u001b[32m15,132/100,000 \u001b[0m [ \u001b[33m0:05:56\u001b[0m < \u001b[36m0:33:58\u001b[0m , \u001b[31m42 it/s\u001b[0m ]\n"
            ],
            "text/html": [
              "<pre style=\"white-space:pre;overflow-x:auto;line-height:normal;font-family:Menlo,'DejaVu Sans Mono',consolas,'Courier New',monospace\"><span style=\"color: #800080; text-decoration-color: #800080\">  15%</span> <span style=\"color: #f92672; text-decoration-color: #f92672\">━━━━━━━━━</span><span style=\"color: #3a3a3a; text-decoration-color: #3a3a3a\">╺━━━━━━━━━━━━━━━━━━━━━━━━━━━━━━━━━━━━━━━━━━━━━━━━━━━</span> <span style=\"color: #008000; text-decoration-color: #008000\">15,132/100,000 </span> [ <span style=\"color: #808000; text-decoration-color: #808000\">0:05:56</span> &lt; <span style=\"color: #008080; text-decoration-color: #008080\">0:33:58</span> , <span style=\"color: #800000; text-decoration-color: #800000\">42 it/s</span> ]\n",
              "</pre>\n"
            ]
          },
          "metadata": {}
        },
        {
          "output_type": "display_data",
          "data": {
            "text/plain": [
              "🛑 Training interrupted by user - model NOT saved\n",
              "/usr/local/lib/python3.12/dist-packages/jupyter_client/session.py:203: DeprecationWarning: \n",
              "datetime.datetime.utcnow() is deprecated and scheduled for removal in a future version. Use timezone-aware objects \n",
              "to represent datetimes in UTC: datetime.datetime.now(datetime.UTC).\n",
              "  return datetime.utcnow().replace(tzinfo=utc)\n"
            ],
            "text/html": [
              "<pre style=\"white-space:pre;overflow-x:auto;line-height:normal;font-family:Menlo,'DejaVu Sans Mono',consolas,'Courier New',monospace\">🛑 Training interrupted by user - model NOT saved\n",
              "/usr/local/lib/python3.12/dist-packages/jupyter_client/session.py:203: DeprecationWarning: \n",
              "datetime.datetime.utcnow() is deprecated and scheduled for removal in a future version. Use timezone-aware objects \n",
              "to represent datetimes in UTC: datetime.datetime.now(datetime.UTC).\n",
              "  return datetime.utcnow().replace(tzinfo=utc)\n",
              "</pre>\n"
            ]
          },
          "metadata": {}
        },
        {
          "output_type": "display_data",
          "data": {
            "text/plain": [
              "🛑 Training interrupted by user - model NOT saved\n"
            ],
            "text/html": [
              "<pre style=\"white-space:pre;overflow-x:auto;line-height:normal;font-family:Menlo,'DejaVu Sans Mono',consolas,'Courier New',monospace\">🛑 Training interrupted by user - model NOT saved\n",
              "</pre>\n"
            ]
          },
          "metadata": {}
        },
        {
          "output_type": "display_data",
          "data": {
            "text/plain": [
              "📊 Check training logs above for performance metrics\n"
            ],
            "text/html": [
              "<pre style=\"white-space:pre;overflow-x:auto;line-height:normal;font-family:Menlo,'DejaVu Sans Mono',consolas,'Courier New',monospace\">📊 Check training logs above for performance metrics\n",
              "</pre>\n"
            ]
          },
          "metadata": {}
        }
      ],
      "source": [
        "from src.prediction.rl_predictor import RLPredictor\n",
        "from src.training.data_loader import DataLoader\n",
        "\n",
        "print(\"🚀 Starting OPTIMIZED RL Model Training...\")\n",
        "print(\"=\" * 60)\n",
        "\n",
        "symbol = 'BTCUSDT'\n",
        "\n",
        "# Data Loader\n",
        "loader = DataLoader()\n",
        "dfs = loader.load_data_with_indicators(symbol, ['15m'])\n",
        "train_df = dfs['15m']\n",
        "\n",
        "\n",
        "print(f\"📊 Total data points: {len(train_df):,}\")\n",
        "\n",
        "print(f\"\\n🎯 OPTIMIZED Training Session\")\n",
        "print(\"-\" * 40)\n",
        "\n",
        "# Initialize RL Predictor with optimized settings\n",
        "rl_predictor = RLPredictor(model_dir='models\\\\rl_optimized')\n",
        "\n",
        "try:\n",
        "    # Optimized training with overrides\n",
        "    success = rl_predictor.train(\n",
        "        train_df,\n",
        "        continue_training=False,\n",
        "        verbose=1,\n",
        "    )\n",
        "\n",
        "except KeyboardInterrupt:\n",
        "    print(\"🛑 Training interrupted by user\")\n",
        "except Exception as e:\n",
        "    print(f\"❌ Training failed: {e}\")\n",
        "    import traceback\n",
        "    traceback.print_exc()\n",
        "\n",
        "print(\"📊 Check training logs above for performance metrics\")"
      ]
    },
    {
      "cell_type": "markdown",
      "id": "c47e23cb",
      "metadata": {
        "id": "c47e23cb"
      },
      "source": []
    }
  ],
  "metadata": {
    "kernelspec": {
      "display_name": "Python 3",
      "name": "python3"
    },
    "language_info": {
      "codemirror_mode": {
        "name": "ipython",
        "version": 3
      },
      "file_extension": ".py",
      "mimetype": "text/x-python",
      "name": "python",
      "nbconvert_exporter": "python",
      "pygments_lexer": "ipython3",
      "version": "3.11.9"
    },
    "colab": {
      "provenance": [],
      "gpuType": "T4"
    },
    "accelerator": "GPU",
    "widgets": {
      "application/vnd.jupyter.widget-state+json": {
        "61df4117b52f4b148d7921fa6ff9f960": {
          "model_module": "@jupyter-widgets/output",
          "model_name": "OutputModel",
          "model_module_version": "1.0.0",
          "state": {
            "_dom_classes": [],
            "_model_module": "@jupyter-widgets/output",
            "_model_module_version": "1.0.0",
            "_model_name": "OutputModel",
            "_view_count": null,
            "_view_module": "@jupyter-widgets/output",
            "_view_module_version": "1.0.0",
            "_view_name": "OutputView",
            "layout": "IPY_MODEL_2d67904a8108439ca2f37175c34da020",
            "msg_id": "",
            "outputs": [
              {
                "output_type": "display_data",
                "data": {
                  "text/plain": "\u001b[35m  15%\u001b[0m \u001b[38;2;249;38;114m━━━━━━━━━\u001b[0m\u001b[38;5;237m╺\u001b[0m\u001b[38;5;237m━━━━━━━━━━━━━━━━━━━━━━━━━━━━━━━━━━━━━━━━━━━━━━━━━━━\u001b[0m \u001b[32m15,132/100,000 \u001b[0m [ \u001b[33m0:06:52\u001b[0m < \u001b[36m0:34:50\u001b[0m , \u001b[31m41 it/s\u001b[0m ]\n",
                  "text/html": "<pre style=\"white-space:pre;overflow-x:auto;line-height:normal;font-family:Menlo,'DejaVu Sans Mono',consolas,'Courier New',monospace\"><span style=\"color: #800080; text-decoration-color: #800080\">  15%</span> <span style=\"color: #f92672; text-decoration-color: #f92672\">━━━━━━━━━</span><span style=\"color: #3a3a3a; text-decoration-color: #3a3a3a\">╺━━━━━━━━━━━━━━━━━━━━━━━━━━━━━━━━━━━━━━━━━━━━━━━━━━━</span> <span style=\"color: #008000; text-decoration-color: #008000\">15,132/100,000 </span> [ <span style=\"color: #808000; text-decoration-color: #808000\">0:06:52</span> &lt; <span style=\"color: #008080; text-decoration-color: #008080\">0:34:50</span> , <span style=\"color: #800000; text-decoration-color: #800000\">41 it/s</span> ]\n</pre>\n"
                },
                "metadata": {}
              }
            ]
          }
        },
        "2d67904a8108439ca2f37175c34da020": {
          "model_module": "@jupyter-widgets/base",
          "model_name": "LayoutModel",
          "model_module_version": "1.2.0",
          "state": {
            "_model_module": "@jupyter-widgets/base",
            "_model_module_version": "1.2.0",
            "_model_name": "LayoutModel",
            "_view_count": null,
            "_view_module": "@jupyter-widgets/base",
            "_view_module_version": "1.2.0",
            "_view_name": "LayoutView",
            "align_content": null,
            "align_items": null,
            "align_self": null,
            "border": null,
            "bottom": null,
            "display": null,
            "flex": null,
            "flex_flow": null,
            "grid_area": null,
            "grid_auto_columns": null,
            "grid_auto_flow": null,
            "grid_auto_rows": null,
            "grid_column": null,
            "grid_gap": null,
            "grid_row": null,
            "grid_template_areas": null,
            "grid_template_columns": null,
            "grid_template_rows": null,
            "height": null,
            "justify_content": null,
            "justify_items": null,
            "left": null,
            "margin": null,
            "max_height": null,
            "max_width": null,
            "min_height": null,
            "min_width": null,
            "object_fit": null,
            "object_position": null,
            "order": null,
            "overflow": null,
            "overflow_x": null,
            "overflow_y": null,
            "padding": null,
            "right": null,
            "top": null,
            "visibility": null,
            "width": null
          }
        }
      }
    }
  },
  "nbformat": 4,
  "nbformat_minor": 5
}