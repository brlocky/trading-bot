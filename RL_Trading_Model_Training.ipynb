{
 "cells": [
  {
   "cell_type": "markdown",
   "id": "18720820",
   "metadata": {},
   "source": [
    "# RL Trading Model Training & Evaluation\n",
    "\n",
    "This notebook demonstrates how to train a reinforcement learning (RL) trading model using your full feature pipeline and visualize the results. It loads historical price data, extracts features, trains a PPO agent, and evaluates performance."
   ]
  },
  {
   "cell_type": "code",
   "execution_count": null,
   "id": "798ff339",
   "metadata": {},
   "outputs": [],
   "source": [
    "# ================================================\n",
    "# 🔧 SETUP - Add src to Python Path\n",
    "# ================================================\n",
    "\n",
    "import sys\n",
    "import os\n",
    "\n",
    "# Add src directory to Python path so 'core' module can be found\n",
    "project_root = os.getcwd()\n",
    "src_path = os.path.join(project_root, 'src')\n",
    "\n",
    "if src_path not in sys.path:\n",
    "    sys.path.insert(0, src_path)\n",
    "    print(f\"✅ Added to Python path: {src_path}\")\n",
    "else:\n",
    "    print(f\"✅ Already in path: {src_path}\")\n",
    "\n",
    "# Verify\n",
    "print(f\"📂 Working directory: {project_root}\")\n",
    "print(f\"🔍 Python will search for modules in: {src_path}\")\n",
    "print(\"=\" * 50)"
   ]
  },
  {
   "cell_type": "code",
   "execution_count": null,
   "id": "853cfda2",
   "metadata": {},
   "outputs": [],
   "source": [
    "# Section 5: Train the RL Model - OPTIMIZED for Speed & Performance\n",
    "from src.prediction.rl_predictor import RLPredictor\n",
    "\n",
    "print(\"🚀 Starting OPTIMIZED RL Model Training...\")\n",
    "print(\"=\" * 60)\n",
    "\n",
    "symbol = 'BTCUSDT'\n",
    "\n",
    "from src.training.data_loader import DataLoader\n",
    "\n",
    "# Data Loader\n",
    "loader = DataLoader()\n",
    "dfs = loader.load_data_with_indicators(symbol)\n",
    "train_df = dfs['15m']\n",
    "\n",
    "\n",
    "print(f\"📊 Total data points: {len(train_df):,}\")\n",
    "\n",
    "print(f\"\\n🎯 OPTIMIZED Training Session\")\n",
    "print(\"-\" * 40)\n",
    "\n",
    "# Initialize RL Predictor with optimized settings\n",
    "rl_predictor = RLPredictor(model_dir='models\\\\rl_optimized')\n",
    "\n",
    "try:\n",
    "    # Optimized training with overrides\n",
    "    success = rl_predictor.train(\n",
    "        train_df, \n",
    "        continue_training=False, \n",
    "        verbose=2,\n",
    "    )\n",
    "    \n",
    "except KeyboardInterrupt:\n",
    "    print(\"🛑 Training interrupted by user\")\n",
    "except Exception as e:\n",
    "    print(f\"❌ Training failed: {e}\")\n",
    "    import traceback\n",
    "    traceback.print_exc()\n",
    "\n",
    "print(\"📊 Check training logs above for performance metrics\")\n",
    "\n"
   ]
  },
  {
   "cell_type": "markdown",
   "id": "c47e23cb",
   "metadata": {},
   "source": []
  }
 ],
 "metadata": {
  "kernelspec": {
   "display_name": "venv",
   "language": "python",
   "name": "python3"
  },
  "language_info": {
   "codemirror_mode": {
    "name": "ipython",
    "version": 3
   },
   "file_extension": ".py",
   "mimetype": "text/x-python",
   "name": "python",
   "nbconvert_exporter": "python",
   "pygments_lexer": "ipython3",
   "version": "3.11.9"
  }
 },
 "nbformat": 4,
 "nbformat_minor": 5
}
