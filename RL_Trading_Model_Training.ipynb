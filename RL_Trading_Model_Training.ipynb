{
 "cells": [
  {
   "cell_type": "markdown",
   "id": "18720820",
   "metadata": {},
   "source": [
    "# RL Trading Model Training & Evaluation\n",
    "\n",
    "This notebook demonstrates how to train a reinforcement learning (RL) trading model using your full feature pipeline and visualize the results. It loads historical price data, extracts features, trains a PPO agent, and evaluates performance."
   ]
  },
  {
   "cell_type": "code",
   "execution_count": 1,
   "id": "798ff339",
   "metadata": {},
   "outputs": [
    {
     "name": "stdout",
     "output_type": "stream",
     "text": [
      "✅ Added to Python path: d:\\Dev\\trading-bot\\src\n",
      "📂 Working directory: d:\\Dev\\trading-bot\n",
      "🔍 Python will search for modules in: d:\\Dev\\trading-bot\\src\n",
      "==================================================\n"
     ]
    }
   ],
   "source": [
    "# ================================================\n",
    "# 🔧 SETUP - Add src to Python Path\n",
    "# ================================================\n",
    "\n",
    "import sys\n",
    "import os\n",
    "\n",
    "# Add src directory to Python path so 'core' module can be found\n",
    "project_root = os.getcwd()\n",
    "src_path = os.path.join(project_root, 'src')\n",
    "\n",
    "if src_path not in sys.path:\n",
    "    sys.path.insert(0, src_path)\n",
    "    print(f\"✅ Added to Python path: {src_path}\")\n",
    "else:\n",
    "    print(f\"✅ Already in path: {src_path}\")\n",
    "\n",
    "# Verify\n",
    "print(f\"📂 Working directory: {project_root}\")\n",
    "print(f\"🔍 Python will search for modules in: {src_path}\")\n",
    "print(\"=\" * 50)"
   ]
  },
  {
   "cell_type": "code",
   "execution_count": 2,
   "id": "853cfda2",
   "metadata": {},
   "outputs": [
    {
     "name": "stdout",
     "output_type": "stream",
     "text": [
      "🚀 Starting OPTIMIZED RL Model Training...\n",
      "============================================================\n",
      "📥 Loading data for BTCUSDT...\n",
      "🔧 Converting levels cache index to DatetimeIndex...\n",
      "✅ Loaded levels cache: data\\levels_cache\\BTCUSDT-15m-levels.parquet\n",
      "📊 Shape: 101,000 rows × 9 columns\n",
      "📊 Total data points: 272,377\n",
      "\n",
      "🎯 OPTIMIZED Training Session\n",
      "----------------------------------------\n",
      "✅ GPU Available: NVIDIA GeForce RTX 3080 (10.0GB)\n",
      "🖥️ RL Training Device: cuda\n",
      "\n",
      "🏦 Starting OPTIMIZED Training...\n",
      "🚀 Initializing PPO model on cuda...\n",
      "🆕 Creating new model...\n",
      "🔧 Fitting normalizers for 31 features...\n",
      "✅ Fitted 31 normalizers\n",
      "💾 Saved normalizer to models\\rl_optimized\\normalizer.pkl\n",
      "⚡ Pre-normalizing feature data...\n",
      "✅ Pre-normalized 31 features\n",
      "⚡ Pre-normalizing feature data...\n",
      "✅ Pre-normalized 31 features\n",
      "⚡ Pre-normalizing feature data...\n",
      "✅ Pre-normalized 31 features\n",
      "⚡ Pre-normalizing feature data...\n",
      "✅ Pre-normalized 31 features\n",
      "Using cuda device\n",
      "⚡ Pre-normalizing feature data...\n",
      "✅ Pre-normalized 31 features\n",
      "⚡ Pre-normalizing feature data...\n",
      "✅ Pre-normalized 31 features\n",
      "⚡ Pre-normalizing feature data...\n",
      "✅ Pre-normalized 31 features\n",
      "⚡ Pre-normalizing feature data...\n",
      "✅ Pre-normalized 31 features\n",
      "📊 Training with 4 parallel environments\n",
      "📊 Monitor logs will be saved to: models\\rl_optimized\\eval_logs\n",
      "Logging to models\\rl_optimized\\eval_logs\n"
     ]
    },
    {
     "data": {
      "application/vnd.jupyter.widget-view+json": {
       "model_id": "d6b508830fc140809b4e899df12d40e8",
       "version_major": 2,
       "version_minor": 0
      },
      "text/plain": [
       "Output()"
      ]
     },
     "metadata": {},
     "output_type": "display_data"
    },
    {
     "name": "stdout",
     "output_type": "stream",
     "text": [
      "🚀 Starting PPO training for 200,000 timesteps on cuda...\n"
     ]
    },
    {
     "name": "stdout",
     "output_type": "stream",
     "text": [
      "-----------------------------\n",
      "| time/              |      |\n",
      "|    fps             | 1036 |\n",
      "|    iterations      | 1    |\n",
      "|    time_elapsed    | 7    |\n",
      "|    total_timesteps | 8192 |\n",
      "-----------------------------\n"
     ]
    },
    {
     "name": "stdout",
     "output_type": "stream",
     "text": [
      "-----------------------------------------\n",
      "| time/                   |             |\n",
      "|    fps                  | 777         |\n",
      "|    iterations           | 2           |\n",
      "|    time_elapsed         | 21          |\n",
      "|    total_timesteps      | 16384       |\n",
      "| train/                  |             |\n",
      "|    approx_kl            | 0.018683102 |\n",
      "|    clip_fraction        | 0.225       |\n",
      "|    clip_range           | 0.1         |\n",
      "|    entropy_loss         | -2.84       |\n",
      "|    explained_variance   | -2.83       |\n",
      "|    learning_rate        | 0.000288    |\n",
      "|    loss                 | -0.0496     |\n",
      "|    n_updates            | 4           |\n",
      "|    policy_gradient_loss | -0.0249     |\n",
      "|    std                  | 1           |\n",
      "|    value_loss           | 0.0862      |\n",
      "-----------------------------------------\n"
     ]
    },
    {
     "name": "stdout",
     "output_type": "stream",
     "text": [
      "-----------------------------------------\n",
      "| time/                   |             |\n",
      "|    fps                  | 828         |\n",
      "|    iterations           | 3           |\n",
      "|    time_elapsed         | 29          |\n",
      "|    total_timesteps      | 24576       |\n",
      "| train/                  |             |\n",
      "|    approx_kl            | 0.019099157 |\n",
      "|    clip_fraction        | 0.372       |\n",
      "|    clip_range           | 0.1         |\n",
      "|    entropy_loss         | -2.84       |\n",
      "|    explained_variance   | -0.169      |\n",
      "|    learning_rate        | 0.000275    |\n",
      "|    loss                 | -0.0191     |\n",
      "|    n_updates            | 8           |\n",
      "|    policy_gradient_loss | -0.0398     |\n",
      "|    std                  | 0.998       |\n",
      "|    value_loss           | 0.0944      |\n",
      "-----------------------------------------\n"
     ]
    },
    {
     "data": {
      "text/html": [
       "<pre style=\"white-space:pre;overflow-x:auto;line-height:normal;font-family:Menlo,'DejaVu Sans Mono',consolas,'Courier New',monospace\">Early stopping at step 3 due to reaching max kl: 0.05\n",
       "</pre>\n"
      ],
      "text/plain": [
       "Early stopping at step 3 due to reaching max kl: 0.05\n"
      ]
     },
     "metadata": {},
     "output_type": "display_data"
    },
    {
     "name": "stdout",
     "output_type": "stream",
     "text": [
      "-----------------------------------------\n",
      "| time/                   |             |\n",
      "|    fps                  | 848         |\n",
      "|    iterations           | 4           |\n",
      "|    time_elapsed         | 38          |\n",
      "|    total_timesteps      | 32768       |\n",
      "| train/                  |             |\n",
      "|    approx_kl            | 0.032203883 |\n",
      "|    clip_fraction        | 0.431       |\n",
      "|    clip_range           | 0.1         |\n",
      "|    entropy_loss         | -2.83       |\n",
      "|    explained_variance   | -0.675      |\n",
      "|    learning_rate        | 0.000263    |\n",
      "|    loss                 | -0.0507     |\n",
      "|    n_updates            | 12          |\n",
      "|    policy_gradient_loss | -0.0425     |\n",
      "|    std                  | 0.993       |\n",
      "|    value_loss           | 0.0557      |\n",
      "-----------------------------------------\n"
     ]
    },
    {
     "name": "stdout",
     "output_type": "stream",
     "text": [
      "-----------------------------------------\n",
      "| time/                   |             |\n",
      "|    fps                  | 855         |\n",
      "|    iterations           | 5           |\n",
      "|    time_elapsed         | 47          |\n",
      "|    total_timesteps      | 40960       |\n",
      "| train/                  |             |\n",
      "|    approx_kl            | 0.028004833 |\n",
      "|    clip_fraction        | 0.433       |\n",
      "|    clip_range           | 0.1         |\n",
      "|    entropy_loss         | -2.82       |\n",
      "|    explained_variance   | -0.113      |\n",
      "|    learning_rate        | 0.000251    |\n",
      "|    loss                 | 0.105       |\n",
      "|    n_updates            | 16          |\n",
      "|    policy_gradient_loss | -0.043      |\n",
      "|    std                  | 0.986       |\n",
      "|    value_loss           | 0.19        |\n",
      "-----------------------------------------\n"
     ]
    },
    {
     "name": "stdout",
     "output_type": "stream",
     "text": [
      "-----------------------------------------\n",
      "| time/                   |             |\n",
      "|    fps                  | 865         |\n",
      "|    iterations           | 6           |\n",
      "|    time_elapsed         | 56          |\n",
      "|    total_timesteps      | 49152       |\n",
      "| train/                  |             |\n",
      "|    approx_kl            | 0.029374462 |\n",
      "|    clip_fraction        | 0.443       |\n",
      "|    clip_range           | 0.1         |\n",
      "|    entropy_loss         | -2.81       |\n",
      "|    explained_variance   | -0.438      |\n",
      "|    learning_rate        | 0.000239    |\n",
      "|    loss                 | 0.148       |\n",
      "|    n_updates            | 20          |\n",
      "|    policy_gradient_loss | -0.045      |\n",
      "|    std                  | 0.983       |\n",
      "|    value_loss           | 0.216       |\n",
      "-----------------------------------------\n"
     ]
    },
    {
     "data": {
      "text/html": [
       "<pre style=\"white-space:pre;overflow-x:auto;line-height:normal;font-family:Menlo,'DejaVu Sans Mono',consolas,'Courier New',monospace\">Early stopping at step 2 due to reaching max kl: 0.05\n",
       "</pre>\n"
      ],
      "text/plain": [
       "Early stopping at step 2 due to reaching max kl: 0.05\n"
      ]
     },
     "metadata": {},
     "output_type": "display_data"
    },
    {
     "name": "stdout",
     "output_type": "stream",
     "text": [
      "----------------------------------------\n",
      "| time/                   |            |\n",
      "|    fps                  | 877        |\n",
      "|    iterations           | 7          |\n",
      "|    time_elapsed         | 65         |\n",
      "|    total_timesteps      | 57344      |\n",
      "| train/                  |            |\n",
      "|    approx_kl            | 0.03376174 |\n",
      "|    clip_fraction        | 0.348      |\n",
      "|    clip_range           | 0.1        |\n",
      "|    entropy_loss         | -2.8       |\n",
      "|    explained_variance   | -0.118     |\n",
      "|    learning_rate        | 0.000226   |\n",
      "|    loss                 | -0.0616    |\n",
      "|    n_updates            | 24         |\n",
      "|    policy_gradient_loss | -0.0297    |\n",
      "|    std                  | 0.983      |\n",
      "|    value_loss           | 0.266      |\n",
      "----------------------------------------\n"
     ]
    },
    {
     "data": {
      "text/html": [
       "<pre style=\"white-space:pre;overflow-x:auto;line-height:normal;font-family:Menlo,'DejaVu Sans Mono',consolas,'Courier New',monospace\">Early stopping at step 1 due to reaching max kl: 0.05\n",
       "</pre>\n"
      ],
      "text/plain": [
       "Early stopping at step 1 due to reaching max kl: 0.05\n"
      ]
     },
     "metadata": {},
     "output_type": "display_data"
    },
    {
     "name": "stdout",
     "output_type": "stream",
     "text": [
      "-----------------------------------------\n",
      "| time/                   |             |\n",
      "|    fps                  | 893         |\n",
      "|    iterations           | 8           |\n",
      "|    time_elapsed         | 73          |\n",
      "|    total_timesteps      | 65536       |\n",
      "| train/                  |             |\n",
      "|    approx_kl            | 0.021969449 |\n",
      "|    clip_fraction        | 0.243       |\n",
      "|    clip_range           | 0.1         |\n",
      "|    entropy_loss         | -2.8        |\n",
      "|    explained_variance   | -0.0516     |\n",
      "|    learning_rate        | 0.000214    |\n",
      "|    loss                 | 0.662       |\n",
      "|    n_updates            | 28          |\n",
      "|    policy_gradient_loss | -0.0179     |\n",
      "|    std                  | 0.982       |\n",
      "|    value_loss           | 0.235       |\n",
      "-----------------------------------------\n"
     ]
    },
    {
     "data": {
      "text/html": [
       "<pre style=\"white-space:pre;overflow-x:auto;line-height:normal;font-family:Menlo,'DejaVu Sans Mono',consolas,'Courier New',monospace\">Early stopping at step 2 due to reaching max kl: 0.05\n",
       "</pre>\n"
      ],
      "text/plain": [
       "Early stopping at step 2 due to reaching max kl: 0.05\n"
      ]
     },
     "metadata": {},
     "output_type": "display_data"
    },
    {
     "name": "stdout",
     "output_type": "stream",
     "text": [
      "-----------------------------------------\n",
      "| time/                   |             |\n",
      "|    fps                  | 898         |\n",
      "|    iterations           | 9           |\n",
      "|    time_elapsed         | 82          |\n",
      "|    total_timesteps      | 73728       |\n",
      "| train/                  |             |\n",
      "|    approx_kl            | 0.032698084 |\n",
      "|    clip_fraction        | 0.399       |\n",
      "|    clip_range           | 0.1         |\n",
      "|    entropy_loss         | -2.8        |\n",
      "|    explained_variance   | -0.0917     |\n",
      "|    learning_rate        | 0.000202    |\n",
      "|    loss                 | -0.0442     |\n",
      "|    n_updates            | 32          |\n",
      "|    policy_gradient_loss | -0.0354     |\n",
      "|    std                  | 0.981       |\n",
      "|    value_loss           | 0.179       |\n",
      "-----------------------------------------\n"
     ]
    },
    {
     "data": {
      "text/html": [
       "<pre style=\"white-space:pre;overflow-x:auto;line-height:normal;font-family:Menlo,'DejaVu Sans Mono',consolas,'Courier New',monospace\">Early stopping at step 2 due to reaching max kl: 0.05\n",
       "</pre>\n"
      ],
      "text/plain": [
       "Early stopping at step 2 due to reaching max kl: 0.05\n"
      ]
     },
     "metadata": {},
     "output_type": "display_data"
    },
    {
     "name": "stdout",
     "output_type": "stream",
     "text": [
      "-----------------------------------------\n",
      "| time/                   |             |\n",
      "|    fps                  | 907         |\n",
      "|    iterations           | 10          |\n",
      "|    time_elapsed         | 90          |\n",
      "|    total_timesteps      | 81920       |\n",
      "| train/                  |             |\n",
      "|    approx_kl            | 0.039433617 |\n",
      "|    clip_fraction        | 0.315       |\n",
      "|    clip_range           | 0.1         |\n",
      "|    entropy_loss         | -2.8        |\n",
      "|    explained_variance   | -0.0415     |\n",
      "|    learning_rate        | 0.000189    |\n",
      "|    loss                 | -0.0818     |\n",
      "|    n_updates            | 36          |\n",
      "|    policy_gradient_loss | -0.0258     |\n",
      "|    std                  | 0.981       |\n",
      "|    value_loss           | 0.249       |\n",
      "-----------------------------------------\n"
     ]
    },
    {
     "data": {
      "text/html": [
       "<pre style=\"white-space:pre;overflow-x:auto;line-height:normal;font-family:Menlo,'DejaVu Sans Mono',consolas,'Courier New',monospace\">Early stopping at step 2 due to reaching max kl: 0.05\n",
       "</pre>\n"
      ],
      "text/plain": [
       "Early stopping at step 2 due to reaching max kl: 0.05\n"
      ]
     },
     "metadata": {},
     "output_type": "display_data"
    },
    {
     "name": "stdout",
     "output_type": "stream",
     "text": [
      "---------------------------------------\n",
      "| time/                   |           |\n",
      "|    fps                  | 909       |\n",
      "|    iterations           | 11        |\n",
      "|    time_elapsed         | 99        |\n",
      "|    total_timesteps      | 90112     |\n",
      "| train/                  |           |\n",
      "|    approx_kl            | 0.0366146 |\n",
      "|    clip_fraction        | 0.398     |\n",
      "|    clip_range           | 0.1       |\n",
      "|    entropy_loss         | -2.8      |\n",
      "|    explained_variance   | -0.0186   |\n",
      "|    learning_rate        | 0.000177  |\n",
      "|    loss                 | 0.0947    |\n",
      "|    n_updates            | 40        |\n",
      "|    policy_gradient_loss | -0.0354   |\n",
      "|    std                  | 0.979     |\n",
      "|    value_loss           | 0.201     |\n",
      "---------------------------------------\n"
     ]
    },
    {
     "data": {
      "text/html": [
       "<pre style=\"white-space:pre;overflow-x:auto;line-height:normal;font-family:Menlo,'DejaVu Sans Mono',consolas,'Courier New',monospace\">Early stopping at step 2 due to reaching max kl: 0.05\n",
       "</pre>\n"
      ],
      "text/plain": [
       "Early stopping at step 2 due to reaching max kl: 0.05\n"
      ]
     },
     "metadata": {},
     "output_type": "display_data"
    },
    {
     "name": "stdout",
     "output_type": "stream",
     "text": [
      "-----------------------------------------\n",
      "| time/                   |             |\n",
      "|    fps                  | 911         |\n",
      "|    iterations           | 12          |\n",
      "|    time_elapsed         | 107         |\n",
      "|    total_timesteps      | 98304       |\n",
      "| train/                  |             |\n",
      "|    approx_kl            | 0.033189964 |\n",
      "|    clip_fraction        | 0.405       |\n",
      "|    clip_range           | 0.1         |\n",
      "|    entropy_loss         | -2.79       |\n",
      "|    explained_variance   | 0.00334     |\n",
      "|    learning_rate        | 0.000165    |\n",
      "|    loss                 | -0.0685     |\n",
      "|    n_updates            | 44          |\n",
      "|    policy_gradient_loss | -0.037      |\n",
      "|    std                  | 0.976       |\n",
      "|    value_loss           | 0.288       |\n",
      "-----------------------------------------\n"
     ]
    },
    {
     "data": {
      "text/html": [
       "<pre style=\"white-space:pre;overflow-x:auto;line-height:normal;font-family:Menlo,'DejaVu Sans Mono',consolas,'Courier New',monospace\">Early stopping at step 2 due to reaching max kl: 0.06\n",
       "</pre>\n"
      ],
      "text/plain": [
       "Early stopping at step 2 due to reaching max kl: 0.06\n"
      ]
     },
     "metadata": {},
     "output_type": "display_data"
    },
    {
     "name": "stdout",
     "output_type": "stream",
     "text": [
      "-----------------------------------------\n",
      "| time/                   |             |\n",
      "|    fps                  | 917         |\n",
      "|    iterations           | 13          |\n",
      "|    time_elapsed         | 116         |\n",
      "|    total_timesteps      | 106496      |\n",
      "| train/                  |             |\n",
      "|    approx_kl            | 0.043046884 |\n",
      "|    clip_fraction        | 0.296       |\n",
      "|    clip_range           | 0.1         |\n",
      "|    entropy_loss         | -2.79       |\n",
      "|    explained_variance   | 0.0229      |\n",
      "|    learning_rate        | 0.000153    |\n",
      "|    loss                 | -0.061      |\n",
      "|    n_updates            | 48          |\n",
      "|    policy_gradient_loss | -0.027      |\n",
      "|    std                  | 0.975       |\n",
      "|    value_loss           | 0.263       |\n",
      "-----------------------------------------\n"
     ]
    },
    {
     "data": {
      "text/html": [
       "<pre style=\"white-space:pre;overflow-x:auto;line-height:normal;font-family:Menlo,'DejaVu Sans Mono',consolas,'Courier New',monospace\">Early stopping at step 2 due to reaching max kl: 0.05\n",
       "</pre>\n"
      ],
      "text/plain": [
       "Early stopping at step 2 due to reaching max kl: 0.05\n"
      ]
     },
     "metadata": {},
     "output_type": "display_data"
    },
    {
     "name": "stdout",
     "output_type": "stream",
     "text": [
      "-----------------------------------------\n",
      "| time/                   |             |\n",
      "|    fps                  | 919         |\n",
      "|    iterations           | 14          |\n",
      "|    time_elapsed         | 124         |\n",
      "|    total_timesteps      | 114688      |\n",
      "| train/                  |             |\n",
      "|    approx_kl            | 0.032841336 |\n",
      "|    clip_fraction        | 0.352       |\n",
      "|    clip_range           | 0.1         |\n",
      "|    entropy_loss         | -2.79       |\n",
      "|    explained_variance   | 0.128       |\n",
      "|    learning_rate        | 0.00014     |\n",
      "|    loss                 | -0.0527     |\n",
      "|    n_updates            | 52          |\n",
      "|    policy_gradient_loss | -0.0332     |\n",
      "|    std                  | 0.974       |\n",
      "|    value_loss           | 0.285       |\n",
      "-----------------------------------------\n"
     ]
    },
    {
     "data": {
      "text/html": [
       "<pre style=\"white-space:pre;overflow-x:auto;line-height:normal;font-family:Menlo,'DejaVu Sans Mono',consolas,'Courier New',monospace\">Early stopping at step 3 due to reaching max kl: 0.05\n",
       "</pre>\n"
      ],
      "text/plain": [
       "Early stopping at step 3 due to reaching max kl: 0.05\n"
      ]
     },
     "metadata": {},
     "output_type": "display_data"
    },
    {
     "name": "stdout",
     "output_type": "stream",
     "text": [
      "-----------------------------------------\n",
      "| time/                   |             |\n",
      "|    fps                  | 919         |\n",
      "|    iterations           | 15          |\n",
      "|    time_elapsed         | 133         |\n",
      "|    total_timesteps      | 122880      |\n",
      "| train/                  |             |\n",
      "|    approx_kl            | 0.035627156 |\n",
      "|    clip_fraction        | 0.384       |\n",
      "|    clip_range           | 0.1         |\n",
      "|    entropy_loss         | -2.78       |\n",
      "|    explained_variance   | 0.348       |\n",
      "|    learning_rate        | 0.000128    |\n",
      "|    loss                 | 0.175       |\n",
      "|    n_updates            | 56          |\n",
      "|    policy_gradient_loss | -0.0372     |\n",
      "|    std                  | 0.973       |\n",
      "|    value_loss           | 0.266       |\n",
      "-----------------------------------------\n"
     ]
    },
    {
     "name": "stdout",
     "output_type": "stream",
     "text": [
      "-----------------------------------------\n",
      "| time/                   |             |\n",
      "|    fps                  | 917         |\n",
      "|    iterations           | 16          |\n",
      "|    time_elapsed         | 142         |\n",
      "|    total_timesteps      | 131072      |\n",
      "| train/                  |             |\n",
      "|    approx_kl            | 0.031203624 |\n",
      "|    clip_fraction        | 0.412       |\n",
      "|    clip_range           | 0.1         |\n",
      "|    entropy_loss         | -2.78       |\n",
      "|    explained_variance   | 0.486       |\n",
      "|    learning_rate        | 0.000116    |\n",
      "|    loss                 | 0.808       |\n",
      "|    n_updates            | 60          |\n",
      "|    policy_gradient_loss | -0.0427     |\n",
      "|    std                  | 0.971       |\n",
      "|    value_loss           | 0.268       |\n",
      "-----------------------------------------\n"
     ]
    },
    {
     "name": "stdout",
     "output_type": "stream",
     "text": [
      "----------------------------------------\n",
      "| time/                   |            |\n",
      "|    fps                  | 918        |\n",
      "|    iterations           | 17         |\n",
      "|    time_elapsed         | 151        |\n",
      "|    total_timesteps      | 139264     |\n",
      "| train/                  |            |\n",
      "|    approx_kl            | 0.02938652 |\n",
      "|    clip_fraction        | 0.414      |\n",
      "|    clip_range           | 0.1        |\n",
      "|    entropy_loss         | -2.78      |\n",
      "|    explained_variance   | 0.161      |\n",
      "|    learning_rate        | 0.000103   |\n",
      "|    loss                 | -0.0113    |\n",
      "|    n_updates            | 64         |\n",
      "|    policy_gradient_loss | -0.0427    |\n",
      "|    std                  | 0.968      |\n",
      "|    value_loss           | 0.312      |\n",
      "----------------------------------------\n"
     ]
    },
    {
     "name": "stdout",
     "output_type": "stream",
     "text": [
      "-----------------------------------------\n",
      "| time/                   |             |\n",
      "|    fps                  | 920         |\n",
      "|    iterations           | 18          |\n",
      "|    time_elapsed         | 160         |\n",
      "|    total_timesteps      | 147456      |\n",
      "| train/                  |             |\n",
      "|    approx_kl            | 0.024747938 |\n",
      "|    clip_fraction        | 0.384       |\n",
      "|    clip_range           | 0.1         |\n",
      "|    entropy_loss         | -2.77       |\n",
      "|    explained_variance   | 0.294       |\n",
      "|    learning_rate        | 9.11e-05    |\n",
      "|    loss                 | 0.215       |\n",
      "|    n_updates            | 68          |\n",
      "|    policy_gradient_loss | -0.042      |\n",
      "|    std                  | 0.966       |\n",
      "|    value_loss           | 0.367       |\n",
      "-----------------------------------------\n"
     ]
    },
    {
     "name": "stdout",
     "output_type": "stream",
     "text": [
      "-----------------------------------------\n",
      "| time/                   |             |\n",
      "|    fps                  | 921         |\n",
      "|    iterations           | 19          |\n",
      "|    time_elapsed         | 168         |\n",
      "|    total_timesteps      | 155648      |\n",
      "| train/                  |             |\n",
      "|    approx_kl            | 0.025284268 |\n",
      "|    clip_fraction        | 0.38        |\n",
      "|    clip_range           | 0.1         |\n",
      "|    entropy_loss         | -2.77       |\n",
      "|    explained_variance   | 0.473       |\n",
      "|    learning_rate        | 7.88e-05    |\n",
      "|    loss                 | 0.0186      |\n",
      "|    n_updates            | 72          |\n",
      "|    policy_gradient_loss | -0.0434     |\n",
      "|    std                  | 0.965       |\n",
      "|    value_loss           | 0.292       |\n",
      "-----------------------------------------\n"
     ]
    },
    {
     "name": "stdout",
     "output_type": "stream",
     "text": [
      "-----------------------------------------\n",
      "| time/                   |             |\n",
      "|    fps                  | 922         |\n",
      "|    iterations           | 20          |\n",
      "|    time_elapsed         | 177         |\n",
      "|    total_timesteps      | 163840      |\n",
      "| train/                  |             |\n",
      "|    approx_kl            | 0.021705776 |\n",
      "|    clip_fraction        | 0.35        |\n",
      "|    clip_range           | 0.1         |\n",
      "|    entropy_loss         | -2.77       |\n",
      "|    explained_variance   | 0.488       |\n",
      "|    learning_rate        | 6.65e-05    |\n",
      "|    loss                 | 0.272       |\n",
      "|    n_updates            | 76          |\n",
      "|    policy_gradient_loss | -0.0415     |\n",
      "|    std                  | 0.964       |\n",
      "|    value_loss           | 0.369       |\n",
      "-----------------------------------------\n"
     ]
    },
    {
     "name": "stdout",
     "output_type": "stream",
     "text": [
      "-----------------------------------------\n",
      "| time/                   |             |\n",
      "|    fps                  | 922         |\n",
      "|    iterations           | 21          |\n",
      "|    time_elapsed         | 186         |\n",
      "|    total_timesteps      | 172032      |\n",
      "| train/                  |             |\n",
      "|    approx_kl            | 0.021014828 |\n",
      "|    clip_fraction        | 0.333       |\n",
      "|    clip_range           | 0.1         |\n",
      "|    entropy_loss         | -2.76       |\n",
      "|    explained_variance   | 0.62        |\n",
      "|    learning_rate        | 5.42e-05    |\n",
      "|    loss                 | 0.246       |\n",
      "|    n_updates            | 80          |\n",
      "|    policy_gradient_loss | -0.0412     |\n",
      "|    std                  | 0.963       |\n",
      "|    value_loss           | 0.34        |\n",
      "-----------------------------------------\n"
     ]
    },
    {
     "name": "stdout",
     "output_type": "stream",
     "text": [
      "-----------------------------------------\n",
      "| time/                   |             |\n",
      "|    fps                  | 923         |\n",
      "|    iterations           | 22          |\n",
      "|    time_elapsed         | 195         |\n",
      "|    total_timesteps      | 180224      |\n",
      "| train/                  |             |\n",
      "|    approx_kl            | 0.015653726 |\n",
      "|    clip_fraction        | 0.296       |\n",
      "|    clip_range           | 0.1         |\n",
      "|    entropy_loss         | -2.76       |\n",
      "|    explained_variance   | 0.642       |\n",
      "|    learning_rate        | 4.2e-05     |\n",
      "|    loss                 | 0.408       |\n",
      "|    n_updates            | 84          |\n",
      "|    policy_gradient_loss | -0.0398     |\n",
      "|    std                  | 0.962       |\n",
      "|    value_loss           | 0.377       |\n",
      "-----------------------------------------\n"
     ]
    },
    {
     "name": "stdout",
     "output_type": "stream",
     "text": [
      "-----------------------------------------\n",
      "| time/                   |             |\n",
      "|    fps                  | 924         |\n",
      "|    iterations           | 23          |\n",
      "|    time_elapsed         | 203         |\n",
      "|    total_timesteps      | 188416      |\n",
      "| train/                  |             |\n",
      "|    approx_kl            | 0.013900823 |\n",
      "|    clip_fraction        | 0.26        |\n",
      "|    clip_range           | 0.1         |\n",
      "|    entropy_loss         | -2.76       |\n",
      "|    explained_variance   | 0.637       |\n",
      "|    learning_rate        | 2.97e-05    |\n",
      "|    loss                 | 0.0609      |\n",
      "|    n_updates            | 88          |\n",
      "|    policy_gradient_loss | -0.0377     |\n",
      "|    std                  | 0.961       |\n",
      "|    value_loss           | 0.368       |\n",
      "-----------------------------------------\n"
     ]
    },
    {
     "name": "stdout",
     "output_type": "stream",
     "text": [
      "------------------------------------------\n",
      "| time/                   |              |\n",
      "|    fps                  | 925          |\n",
      "|    iterations           | 24           |\n",
      "|    time_elapsed         | 212          |\n",
      "|    total_timesteps      | 196608       |\n",
      "| train/                  |              |\n",
      "|    approx_kl            | 0.0076312153 |\n",
      "|    clip_fraction        | 0.184        |\n",
      "|    clip_range           | 0.1          |\n",
      "|    entropy_loss         | -2.76        |\n",
      "|    explained_variance   | 0.749        |\n",
      "|    learning_rate        | 1.74e-05     |\n",
      "|    loss                 | 0.293        |\n",
      "|    n_updates            | 92           |\n",
      "|    policy_gradient_loss | -0.0323      |\n",
      "|    std                  | 0.961        |\n",
      "|    value_loss           | 0.361        |\n",
      "------------------------------------------\n"
     ]
    },
    {
     "name": "stdout",
     "output_type": "stream",
     "text": [
      "------------------------------------------\n",
      "| time/                   |              |\n",
      "|    fps                  | 925          |\n",
      "|    iterations           | 25           |\n",
      "|    time_elapsed         | 221          |\n",
      "|    total_timesteps      | 204800       |\n",
      "| train/                  |              |\n",
      "|    approx_kl            | 0.0017051683 |\n",
      "|    clip_fraction        | 0.0456       |\n",
      "|    clip_range           | 0.1          |\n",
      "|    entropy_loss         | -2.76        |\n",
      "|    explained_variance   | 0.781        |\n",
      "|    learning_rate        | 5.09e-06     |\n",
      "|    loss                 | 0.211        |\n",
      "|    n_updates            | 96           |\n",
      "|    policy_gradient_loss | -0.0168      |\n",
      "|    std                  | 0.961        |\n",
      "|    value_loss           | 0.43         |\n",
      "------------------------------------------\n"
     ]
    },
    {
     "data": {
      "text/html": [
       "<pre style=\"white-space:pre;overflow-x:auto;line-height:normal;font-family:Menlo,'DejaVu Sans Mono',consolas,'Courier New',monospace\"></pre>\n"
      ],
      "text/plain": []
     },
     "metadata": {},
     "output_type": "display_data"
    },
    {
     "name": "stdout",
     "output_type": "stream",
     "text": [
      "✅ Training completed successfully\n",
      "✅ Model saved to: models\\rl_optimized\\ppo_trading.zip\n",
      "✅ Training completed successfully!\n",
      "📁 Model saved to: models\\rl_optimized\n",
      "📊 Check training logs above for performance metrics\n"
     ]
    }
   ],
   "source": [
    "# Section 5: Train the RL Model - OPTIMIZED for Speed & Performance\n",
    "from src.prediction.rl_predictor import RLPredictor\n",
    "\n",
    "print(\"🚀 Starting OPTIMIZED RL Model Training...\")\n",
    "print(\"=\" * 60)\n",
    "\n",
    "symbol = 'BTCUSDT'\n",
    "\n",
    "from src.training.data_loader import DataLoader\n",
    "\n",
    "# Data Loader\n",
    "loader = DataLoader()\n",
    "dfs = loader.load_data(symbol)\n",
    "features_df = dfs['15m']\n",
    "\n",
    "print(f\"📊 Total data points: {len(features_df):,}\")\n",
    "\n",
    "print(f\"\\n🎯 OPTIMIZED Training Session\")\n",
    "print(\"-\" * 40)\n",
    "\n",
    "# Initialize RL Predictor with optimized settings\n",
    "rl_predictor = RLPredictor(model_dir='models\\\\rl_optimized')\n",
    "\n",
    "try:\n",
    "    print(\"\\n🏦 Starting OPTIMIZED Training...\")\n",
    "    \n",
    "    # Optimized training with overrides\n",
    "    success = rl_predictor.train(\n",
    "        features_df, \n",
    "        continue_training=False, \n",
    "        verbose=1,\n",
    "    )\n",
    "    \n",
    "    if success:\n",
    "        print(\"✅ Training completed successfully!\")\n",
    "        print(f\"📁 Model saved to: {rl_predictor.model_dir}\")\n",
    "    else:\n",
    "        print(\"⚠️ Training completed with issues\")\n",
    "    \n",
    "except KeyboardInterrupt:\n",
    "    print(\"🛑 Training interrupted by user\")\n",
    "except Exception as e:\n",
    "    print(f\"❌ Training failed: {e}\")\n",
    "    import traceback\n",
    "    traceback.print_exc()\n",
    "\n",
    "print(\"📊 Check training logs above for performance metrics\")\n",
    "\n"
   ]
  },
  {
   "cell_type": "markdown",
   "id": "c47e23cb",
   "metadata": {},
   "source": []
  }
 ],
 "metadata": {
  "kernelspec": {
   "display_name": "venv",
   "language": "python",
   "name": "python3"
  },
  "language_info": {
   "codemirror_mode": {
    "name": "ipython",
    "version": 3
   },
   "file_extension": ".py",
   "mimetype": "text/x-python",
   "name": "python",
   "nbconvert_exporter": "python",
   "pygments_lexer": "ipython3",
   "version": "3.11.9"
  }
 },
 "nbformat": 4,
 "nbformat_minor": 5
}
