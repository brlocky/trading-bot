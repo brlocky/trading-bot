{
 "cells": [
  {
   "cell_type": "markdown",
   "id": "18720820",
   "metadata": {},
   "source": [
    "# RL Trading Model Training & Evaluation\n",
    "\n",
    "This notebook demonstrates how to train a reinforcement learning (RL) trading model using your full feature pipeline and visualize the results. It loads historical price data, extracts features, trains a PPO agent, and evaluates performance."
   ]
  },
  {
   "cell_type": "code",
   "execution_count": 1,
   "id": "798ff339",
   "metadata": {},
   "outputs": [
    {
     "name": "stdout",
     "output_type": "stream",
     "text": [
      "✅ Added to Python path: d:\\Dev\\trading-bot\\src\n",
      "📂 Working directory: d:\\Dev\\trading-bot\n",
      "🔍 Python will search for modules in: d:\\Dev\\trading-bot\\src\n",
      "==================================================\n"
     ]
    }
   ],
   "source": [
    "# ================================================\n",
    "# 🔧 SETUP - Add src to Python Path\n",
    "# ================================================\n",
    "\n",
    "import sys\n",
    "import os\n",
    "\n",
    "# Add src directory to Python path so 'core' module can be found\n",
    "project_root = os.getcwd()\n",
    "src_path = os.path.join(project_root, 'src')\n",
    "\n",
    "if src_path not in sys.path:\n",
    "    sys.path.insert(0, src_path)\n",
    "    print(f\"✅ Added to Python path: {src_path}\")\n",
    "else:\n",
    "    print(f\"✅ Already in path: {src_path}\")\n",
    "\n",
    "# Verify\n",
    "print(f\"📂 Working directory: {project_root}\")\n",
    "print(f\"🔍 Python will search for modules in: {src_path}\")\n",
    "print(\"=\" * 50)"
   ]
  },
  {
   "cell_type": "code",
   "execution_count": null,
   "id": "853cfda2",
   "metadata": {},
   "outputs": [
    {
     "name": "stdout",
     "output_type": "stream",
     "text": [
      "🚀 Starting OPTIMIZED RL Model Training...\n",
      "============================================================\n",
      "📥 Loading data for BTCUSDT...\n",
      "🔧 Converting levels cache index to DatetimeIndex...\n",
      "✅ Loaded levels cache: data\\levels_cache\\BTCUSDT-15m-levels.parquet\n",
      "📊 Shape: 101,000 rows × 9 columns\n",
      "📊 Total data points: 272,377\n",
      "\n",
      "🎯 OPTIMIZED Training Session\n",
      "----------------------------------------\n",
      "✅ GPU Available: NVIDIA GeForce RTX 3080 (10.0GB)\n",
      "🖥️ RL Training Device: cuda\n",
      "\n",
      "🏦 Starting OPTIMIZED Training...\n",
      "🚀 Initializing PPO model on cuda...\n",
      "🆕 Creating new model...\n",
      "🔧 Fitting normalizers for 31 features...\n",
      "✅ Fitted 31 normalizers\n",
      "💾 Saved normalizer to models\\rl_optimized\\normalizer.pkl\n",
      "⚡ Pre-normalizing feature data...\n",
      "✅ Pre-normalized 31 features\n",
      "⚡ Pre-normalizing feature data...\n",
      "✅ Pre-normalized 31 features\n",
      "⚡ Pre-normalizing feature data...\n",
      "✅ Pre-normalized 31 features\n",
      "⚡ Pre-normalizing feature data...\n",
      "✅ Pre-normalized 31 features\n",
      "Using cuda device\n",
      "⚡ Pre-normalizing feature data...\n",
      "✅ Pre-normalized 31 features\n",
      "⚡ Pre-normalizing feature data...\n",
      "✅ Pre-normalized 31 features\n",
      "⚡ Pre-normalizing feature data...\n",
      "✅ Pre-normalized 31 features\n",
      "⚡ Pre-normalizing feature data...\n",
      "✅ Pre-normalized 31 features\n",
      "📊 Training with 4 parallel environments\n",
      "📊 Monitor logs will be saved to: models\\rl_optimized\\eval_logs\n",
      "Logging to models\\rl_optimized\\eval_logs\n"
     ]
    },
    {
     "data": {
      "application/vnd.jupyter.widget-view+json": {
       "model_id": "bfdbe5656ac14c42a8721b32a8935e38",
       "version_major": 2,
       "version_minor": 0
      },
      "text/plain": [
       "Output()"
      ]
     },
     "metadata": {},
     "output_type": "display_data"
    },
    {
     "name": "stdout",
     "output_type": "stream",
     "text": [
      "🚀 Starting PPO training for 200,000 timesteps on cuda...\n"
     ]
    },
    {
     "name": "stdout",
     "output_type": "stream",
     "text": [
      "-----------------------------\n",
      "| time/              |      |\n",
      "|    fps             | 341  |\n",
      "|    iterations      | 1    |\n",
      "|    time_elapsed    | 23   |\n",
      "|    total_timesteps | 8192 |\n",
      "-----------------------------\n"
     ]
    }
   ],
   "source": [
    "# Section 5: Train the RL Model - OPTIMIZED for Speed & Performance\n",
    "from src.prediction.rl_predictor import RLPredictor\n",
    "\n",
    "print(\"🚀 Starting OPTIMIZED RL Model Training...\")\n",
    "print(\"=\" * 60)\n",
    "\n",
    "symbol = 'BTCUSDT'\n",
    "\n",
    "from src.training.data_loader import DataLoader\n",
    "\n",
    "# Data Loader\n",
    "loader = DataLoader()\n",
    "dfs = loader.load_data(symbol)\n",
    "features_df = dfs['15m']\n",
    "\n",
    "print(f\"📊 Total data points: {len(features_df):,}\")\n",
    "\n",
    "print(f\"\\n🎯 OPTIMIZED Training Session\")\n",
    "print(\"-\" * 40)\n",
    "\n",
    "# Initialize RL Predictor with optimized settings\n",
    "rl_predictor = RLPredictor(model_dir='models\\\\rl_optimized')\n",
    "\n",
    "try:\n",
    "    print(\"\\n🏦 Starting OPTIMIZED Training...\")\n",
    "    \n",
    "    # Optimized training with overrides\n",
    "    success = rl_predictor.train(\n",
    "        features_df, \n",
    "        continue_training=False, \n",
    "        verbose=1,\n",
    "    )\n",
    "    \n",
    "    if success:\n",
    "        print(\"✅ Training completed successfully!\")\n",
    "        print(f\"📁 Model saved to: {rl_predictor.model_dir}\")\n",
    "    else:\n",
    "        print(\"⚠️ Training completed with issues\")\n",
    "    \n",
    "except KeyboardInterrupt:\n",
    "    print(\"🛑 Training interrupted by user\")\n",
    "except Exception as e:\n",
    "    print(f\"❌ Training failed: {e}\")\n",
    "    import traceback\n",
    "    traceback.print_exc()\n",
    "\n",
    "print(\"📊 Check training logs above for performance metrics\")\n",
    "\n"
   ]
  },
  {
   "cell_type": "markdown",
   "id": "c47e23cb",
   "metadata": {},
   "source": []
  }
 ],
 "metadata": {
  "kernelspec": {
   "display_name": "venv",
   "language": "python",
   "name": "python3"
  },
  "language_info": {
   "codemirror_mode": {
    "name": "ipython",
    "version": 3
   },
   "file_extension": ".py",
   "mimetype": "text/x-python",
   "name": "python",
   "nbconvert_exporter": "python",
   "pygments_lexer": "ipython3",
   "version": "3.11.9"
  }
 },
 "nbformat": 4,
 "nbformat_minor": 5
}
