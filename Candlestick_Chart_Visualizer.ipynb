{
 "cells": [
  {
   "cell_type": "markdown",
   "id": "387ed11b",
   "metadata": {},
   "source": [
    "# Candlestick Chart Visualizer with Plotly\n",
    "\n",
    "This notebook demonstrates how to visualize candlestick charts and add interactive lines and dots using Plotly. You can load OHLCV data, plot candlesticks, and annotate the chart with lines and markers."
   ]
  },
  {
   "cell_type": "code",
   "execution_count": 1,
   "id": "3bfaa208",
   "metadata": {},
   "outputs": [
    {
     "name": "stdout",
     "output_type": "stream",
     "text": [
      "Multi-file visualizer function created!\n"
     ]
    }
   ],
   "source": [
    "# Multi-File Chart Visualizer Function\n",
    "import pandas as pd\n",
    "import json\n",
    "import plotly.graph_objects as go\n",
    "from src.ta.technical_analysis import TechnicalAnalysisProcessor\n",
    "from src.ta.middlewares.zigzag import zigzag_middleware\n",
    "from src.ta.middlewares.volume_profile import volume_profile_middleware\n",
    "from src.ta.middlewares.channels import channels_middleware\n",
    "from src.ta.middlewares.levels import levels_middleware\n",
    "\n",
    "def visualize_chart(file_path, useLogScale=True):\n",
    "    \"\"\"\n",
    "    Load and visualize a single chart from the given file path\n",
    "    \"\"\"\n",
    "    # Load data\n",
    "    with open(file_path, 'r', encoding='utf-8') as f:\n",
    "        data = json.load(f)\n",
    "    \n",
    "    symbol = data['symbolName']\n",
    "    time_frame = data['interval']\n",
    "    df = data['candles']\n",
    "    df = pd.DataFrame(df)\n",
    "    df['time'] = pd.to_datetime(df['time'], unit='s')\n",
    "    df.set_index('time', inplace=True)\n",
    "    \n",
    "    print(f\"Processing {len(df)} candles for {symbol} at {time_frame} interval from {file_path}\")\n",
    "    \n",
    "    # Run TA processor\n",
    "    processor = TechnicalAnalysisProcessor(df, time_frame, useLogScale)\n",
    "    processor.register_middleware(zigzag_middleware)\n",
    "    processor.register_middleware(volume_profile_middleware)\n",
    "    processor.register_middleware(channels_middleware)\n",
    "    processor.register_middleware(levels_middleware)\n",
    "    analysis = processor.run()\n",
    "    df = processor.df\n",
    "    \n",
    "    # Create figure\n",
    "    fig = go.Figure(data=[\n",
    "        go.Candlestick(\n",
    "            x=df.index,\n",
    "            open=df['open'],\n",
    "            high=df['high'],\n",
    "            low=df['low'],\n",
    "            close=df['close'],\n",
    "            name='Candlestick',\n",
    "            showlegend=False\n",
    "        )\n",
    "    ])\n",
    "    \n",
    "    # Draw zigzag lines if present\n",
    "    if 'zigzag' in analysis:\n",
    "        for line in analysis['zigzag'].get('lines', []):\n",
    "            if isinstance(line, tuple) and len(line) == 3:\n",
    "                (t1, p1, _), (t2, p2, _), line_type = line\n",
    "                fig.add_trace(go.Scatter(x=[t1, t2], y=[p1, p2], mode='lines', line=dict(color='blue', width=2), name='ZigZag', showlegend=False))\n",
    "        for pivot in analysis['zigzag'].get('pivots', []):\n",
    "            if len(pivot) == 3:\n",
    "                t, p, typ = pivot\n",
    "                fig.add_trace(go.Scatter(x=[t], y=[p], mode='markers', marker=dict(color='red', size=10), name=f'Pivot {typ}', showlegend=False))\n",
    "    \n",
    "    # Draw channel lines if present\n",
    "    if 'channels' in analysis:\n",
    "        for line in analysis['channels'].get('lines', []):\n",
    "            if isinstance(line, tuple) and len(line) == 3:\n",
    "                (t1, p1, _), (t2, p2, _), line_type = line\n",
    "                fig.add_trace(go.Scatter(x=[t1, t2], y=[p1, p2], mode='lines', line=dict(color='orange', width=2, dash='dash'), name=line_type, showlegend=True))\n",
    "    \n",
    "    # Draw channel lines if present\n",
    "    if 'levels' in analysis:\n",
    "        for line in analysis['levels'].get('lines', []):\n",
    "            if isinstance(line, tuple) and len(line) == 3:\n",
    "                (t1, p1, _), (t2, p2, _), line_type = line\n",
    "                fig.add_trace(go.Scatter(x=[t1, t2], y=[p1, p2], mode='lines', line=dict(color='orange', width=2, dash='dash'), name=line_type, showlegend=True))\n",
    "\n",
    "    # Draw volume profile as boxes if present\n",
    "    if 'volume_profile' in analysis and 'vp' in analysis['volume_profile']:\n",
    "        for vp_item in analysis['volume_profile']['vp']:\n",
    "            if isinstance(vp_item, tuple) and len(vp_item) == 3:\n",
    "                bin_tuple, bin_vol, norm_vol = vp_item\n",
    "                if isinstance(bin_tuple, tuple) and len(bin_tuple) == 2:\n",
    "                    bin_start, bin_end = bin_tuple\n",
    "                    x0 = df.index[0]\n",
    "                    bar_length = int(norm_vol * len(df.index))\n",
    "                    x1 = df.index[min(bar_length, len(df.index)-1)]\n",
    "                    fig.add_shape(\n",
    "                        type='rect',\n",
    "                        x0=x0,\n",
    "                        x1=x1,\n",
    "                        y0=bin_start,\n",
    "                        y1=bin_end,\n",
    "                        line=dict(color='gold', width=1, dash='dot'),\n",
    "                        fillcolor='rgba(255,215,0,0.2)'\n",
    "                    )\n",
    "    \n",
    "    # Draw volume profile POC, VAH, VAL levels if present\n",
    "    if 'volume_profile_periods' in analysis and 'lines' in analysis['volume_profile_periods']:\n",
    "        for line in analysis['volume_profile_periods']['lines']:\n",
    "            if isinstance(line, tuple) and len(line) == 3:\n",
    "                (t1, p1, _), (t2, p2, _), line_type = line\n",
    "        \n",
    "                if 'naked_poc_line' in line_type:\n",
    "                    color = 'white'\n",
    "                    name = f'nPOC'\n",
    "                elif 'poc_line' in line_type:\n",
    "                    color = 'white'\n",
    "                    name = f'POC'\n",
    "                elif 'VAH' in line_type:\n",
    "                    color = 'green'\n",
    "                    name = f'VAH'\n",
    "                elif 'VAL' in line_type:\n",
    "                    color = 'red' \n",
    "                    name = f'VAL'\n",
    "                else:\n",
    "                    color = 'deepskyblue'\n",
    "                    name = 'Volume Level'\n",
    "                \n",
    "                fig.add_trace(go.Scatter(x=[t1, t2], y=[p1, p2], mode='lines', line=dict(color=color, width=1, dash='dash'), name=name, showlegend=True))\n",
    "\n",
    "    \n",
    "    # Update layout\n",
    "    fig.update_layout(\n",
    "        title=f'{symbol} - {time_frame} - TA Chart Visualizer', \n",
    "        xaxis_title='Time', \n",
    "        yaxis_title='Price', \n",
    "        template='plotly_dark', \n",
    "        yaxis_type='log' if useLogScale else 'linear',\n",
    "        height=800,\n",
    "        xaxis=dict(fixedrange=False),\n",
    "        yaxis=dict(fixedrange=False),\n",
    "        showlegend=False,  # Remove legend\n",
    "        xaxis_rangeslider_visible=False  # Remove range slider at bottom\n",
    "    )\n",
    "    \n",
    "    fig.show()\n",
    "    return fig\n",
    "\n",
    "print(\"Multi-file visualizer function created!\")"
   ]
  },
  {
   "cell_type": "code",
   "execution_count": 3,
   "id": "59209426",
   "metadata": {},
   "outputs": [
    {
     "name": "stdout",
     "output_type": "stream",
     "text": [
      "\n",
      "==================================================\n",
      "Visualizing: ./data/BTCUSDT-M.json\n",
      "==================================================\n",
      "Processing 68 candles for BTCUSDT at M interval from ./data/BTCUSDT-M.json\n",
      "Volume Profile: Generated 18 volume profile ranges\n"
     ]
    },
    {
     "data": {
      "application/vnd.plotly.v1+json": {
       "config": {
        "plotlyServerURL": "https://plot.ly"
       },
       "data": [
        {
         "close": {
          "bdata": "AAAAAAAFuUAAAAAAgNjAQAAAAADAdMJAAAAAAMDXwUAAAAAAgCXGQAAAAACAxsZAAAAAAIADxUAAAAAAAOvKQAAAAAAAQNNAAAAAAGA+3EAAAAAAAC3gQAAAAACADOZAAAAAAHC97EAAAAAAwCnsQAAAAAAgL+JAAAAAAEAZ4UAAAAAAsDzkQAAAAACACedAAAAAALBd5UAAAAAAQPPtQAAAAABA0OtAAAAAABCP5kAAAAAAAMXiQAAAAADQEeVAAAAAAOA45kAAAAAAcF3iQAAAAABACd9AAAAAAGB100AAAAAAoL7WQAAAAACglNNAAAAAAGD00kAAAAAAAADUQAAAAACgvtBAAAAAAGAp0EAAAAAAgJbWQJqZmZl5ltZAZmZmZgbJ20AAAAAAQIjcQAAAAADAj9pAAAAAAGDA3UCamZmZGYrcQGZmZmYGUdlAAAAAAGBS2kAzMzMzY+3gQM3MzMzsa+JAmpmZmZmq5EBmZmZmFsfkQDMzMzMD4O1AAAAAACBt8UDNzMzM/J3tQM3MzMw8fvBAAAAAALCj7kDNzMzM/IzvQM3MzMwMyOxAmpmZmZnl7kDNzMzMxCvxQAAAAABAjvdAAAAAAKDV9kCamZmZmf74QJqZmZk5lfRAZmZmZoYk9EAAAAAAYPr2QJqZmZlhh/lAMzMzM5Mk+kCamZmZAT78QAAAAACAavpAzczMzNzV+0CamZmZsd/8QA==",
          "dtype": "f8"
         },
         "high": {
          "bdata": "AAAAAAC2ukAAAAAAAHnCQAAAAADApcNAAAAAAAA4xEAAAAAAwFnGQAAAAADAachAAAAAAACRx0AAAAAAAJTLQAAAAACgdtNAAAAAAGBW3EAAAAAAgI7kQAAAAADgg+xAAAAAAHA+7kAAAAAA8LXvQAAAAABAGO1AAAAAAIAq5EAAAAAAsLbkQAAAAABAp+hAAAAAAEDP6UAAAAAAoGjwQAAAAAAo4fBAAAAAACDY7EAAAAAAAHDnQAAAAACQbOZAAAAAACCH50AAAAAAoDDnQAAAAABQj+NAAAAAAKA730AAAAAAwB3YQAAAAADAm9hAAAAAAIBC1kAAAAAAAJvUQAAAAACA99RAAAAAAMDy0UAAAAAAgGfXQGZmZmYGtNhAzczMzEyD3EDNzMzMbFXeQAAAAABAIt1AAAAAAAC13kCamZmZ+RjfQDMzMzNzjt1AmpmZmTnX2kAAAAAA8PDhQDMzMzMD2eJAAAAAACDd5UDNzMzMzPPnQGZmZmYWfu9AAAAAANAN8kAAAAAAaMnxQDMzMzPbl/FAAAAAAJCe8UBmZmZmjh/xQM3MzMwkBvBAAAAAAIA98EDNzMzMHP3xQAAAAACgVvhAmpmZmVl4+kAzMzMz+9f6QAAAAADwFPlAMzMzMys190AAAAAAyF73QAAAAAAAVvtAzczMzEwE+0AAAAAAIBf+QDMzMzOzaf5AAAAAAMDH/ECamZmZCfD8QA==",
          "dtype": "f8"
         },
         "low": {
          "bdata": "AAAAAIDRtkAAAAAAAAG4QAAAAAAA2b9AAAAAAABEwUAAAAAAAGfBQAAAAADAkMRAAAAAAAA1w0AAAAAAAEzEQAAAAACAy8lAAAAAAMAn0UAAAAAAwETbQAAAAAAglt9AAAAAAOD25UAAAAAAYPXmQAAAAABAINxAAAAAAIAZ3EAAAAAAIJbcQAAAAAAgNOJAAAAAAABM40AAAAAAICHlQAAAAABA8OlAAAAAAKDv40AAAAAAQBHgQAAAAABQuOBAAAAAAGAi4kAAAAAA0FbiQAAAAAAA6tlAAAAAAAAw0UAAAAAAQFbSQAAAAADADdNAAAAAAACt0UAAAAAAwKXRQAAAAAAAKM5AAAAAAIClz0AAAAAAwB/QQAAAAADg09RAAAAAAMAT00AAAAAAQE3aQAAAAAAAKdlAAAAAAOAy2EAAAAAAwCzcQJqZmZk5otdAmpmZmVlF2EAAAAAAwObZQAAAAABAoeBAmpmZmZld4kAAAAAAcNDiQAAAAABwbuRAAAAAAODc7EAAAAAAgN/sQAAAAAAgl+tAAAAAAAB67ECamZmZSQjqQDMzMzND4udAZmZmZoai6UAAAAAAgMLsQAAAAACAT/BAAAAAACAa9kAAAAAAwMD1QAAAAAAoGPNAAAAAABCw8kAzMzMzgy3yQAAAAABYyfZAAAAAAND090CamZmZKab5QAAAAABAMvpAAAAAACAs+kDNzMzMnM/7QA==",
          "dtype": "f8"
         },
         "name": "Candlestick",
         "open": {
          "bdata": "AAAAAABkuUAAAAAAAAW5QAAAAACA2MBAAAAAAMB0wkAAAAAAwNfBQAAAAACAJcZAAAAAAIDGxkAAAAAAgAPFQAAAAAAA68pAAAAAAABA00AAAAAAYD7cQAAAAAAALeBAAAAAAIAM5kAAAAAAcL3sQAAAAADAKexAAAAAACAv4kAAAAAAQBnhQAAAAACwPORAAAAAAIAJ50AAAAAAsF3lQAAAAABA8+1AAAAAAEDQ60AAAAAAEI/mQAAAAAAAxeJAAAAAANAR5UAAAAAA4DjmQAAAAABwXeJAAAAAAEAJ30AAAAAAYHXTQAAAAACgvtZAAAAAAKCU00AAAAAAYPTSQAAAAAAAANRAAAAAAKC+0EAAAAAAYCnQQAAAAACAltZAmpmZmXmW1kBmZmZmBsnbQAAAAABAiNxAAAAAAMCP2kAAAAAAYMDdQJqZmZkZitxAZmZmZgZR2UAAAAAAYFLaQDMzMzNj7eBAzczMzOxr4kCamZmZmarkQGZmZmYWx+RAMzMzMwPg7UAAAAAAIG3xQM3MzMz8ne1AzczMzDx+8EAAAAAAsKPuQM3MzMz8jO9AzczMzAzI7ECamZmZmeXuQM3MzMzEK/FAAAAAAECO90AAAAAAoNX2QJqZmZmZ/vhAmpmZmTmV9EBmZmZmhiT0QAAAAABg+vZAmpmZmWGH+UAzMzMzkyT6QJqZmZkBPvxAAAAAAIBq+kDNzMzM3NX7QA==",
          "dtype": "f8"
         },
         "showlegend": false,
         "type": "candlestick",
         "x": [
          "2020-03-01T00:00:00.000000000",
          "2020-04-01T00:00:00.000000000",
          "2020-05-01T00:00:00.000000000",
          "2020-06-01T00:00:00.000000000",
          "2020-07-01T00:00:00.000000000",
          "2020-08-01T00:00:00.000000000",
          "2020-09-01T00:00:00.000000000",
          "2020-10-01T00:00:00.000000000",
          "2020-11-01T00:00:00.000000000",
          "2020-12-01T00:00:00.000000000",
          "2021-01-01T00:00:00.000000000",
          "2021-02-01T00:00:00.000000000",
          "2021-03-01T00:00:00.000000000",
          "2021-04-01T00:00:00.000000000",
          "2021-05-01T00:00:00.000000000",
          "2021-06-01T00:00:00.000000000",
          "2021-07-01T00:00:00.000000000",
          "2021-08-01T00:00:00.000000000",
          "2021-09-01T00:00:00.000000000",
          "2021-10-01T00:00:00.000000000",
          "2021-11-01T00:00:00.000000000",
          "2021-12-01T00:00:00.000000000",
          "2022-01-01T00:00:00.000000000",
          "2022-02-01T00:00:00.000000000",
          "2022-03-01T00:00:00.000000000",
          "2022-04-01T00:00:00.000000000",
          "2022-05-01T00:00:00.000000000",
          "2022-06-01T00:00:00.000000000",
          "2022-07-01T00:00:00.000000000",
          "2022-08-01T00:00:00.000000000",
          "2022-09-01T00:00:00.000000000",
          "2022-10-01T00:00:00.000000000",
          "2022-11-01T00:00:00.000000000",
          "2022-12-01T00:00:00.000000000",
          "2023-01-01T00:00:00.000000000",
          "2023-02-01T00:00:00.000000000",
          "2023-03-01T00:00:00.000000000",
          "2023-04-01T00:00:00.000000000",
          "2023-05-01T00:00:00.000000000",
          "2023-06-01T00:00:00.000000000",
          "2023-07-01T00:00:00.000000000",
          "2023-08-01T00:00:00.000000000",
          "2023-09-01T00:00:00.000000000",
          "2023-10-01T00:00:00.000000000",
          "2023-11-01T00:00:00.000000000",
          "2023-12-01T00:00:00.000000000",
          "2024-01-01T00:00:00.000000000",
          "2024-02-01T00:00:00.000000000",
          "2024-03-01T00:00:00.000000000",
          "2024-04-01T00:00:00.000000000",
          "2024-05-01T00:00:00.000000000",
          "2024-06-01T00:00:00.000000000",
          "2024-07-01T00:00:00.000000000",
          "2024-08-01T00:00:00.000000000",
          "2024-09-01T00:00:00.000000000",
          "2024-10-01T00:00:00.000000000",
          "2024-11-01T00:00:00.000000000",
          "2024-12-01T00:00:00.000000000",
          "2025-01-01T00:00:00.000000000",
          "2025-02-01T00:00:00.000000000",
          "2025-03-01T00:00:00.000000000",
          "2025-04-01T00:00:00.000000000",
          "2025-05-01T00:00:00.000000000",
          "2025-06-01T00:00:00.000000000",
          "2025-07-01T00:00:00.000000000",
          "2025-08-01T00:00:00.000000000",
          "2025-09-01T00:00:00.000000000",
          "2025-10-01T00:00:00.000000000"
         ]
        },
        {
         "line": {
          "color": "blue",
          "width": 2
         },
         "mode": "lines",
         "name": "ZigZag",
         "showlegend": false,
         "type": "scatter",
         "x": [
          "2020-03-01T00:00:00",
          "2020-08-01T00:00:00"
         ],
         "y": [
          5841.5,
          12499.5
         ]
        },
        {
         "line": {
          "color": "blue",
          "width": 2
         },
         "mode": "lines",
         "name": "ZigZag",
         "showlegend": false,
         "type": "scatter",
         "x": [
          "2020-08-01T00:00:00",
          "2020-09-01T00:00:00"
         ],
         "y": [
          12499.5,
          9834
         ]
        },
        {
         "line": {
          "color": "blue",
          "width": 2
         },
         "mode": "lines",
         "name": "ZigZag",
         "showlegend": false,
         "type": "scatter",
         "x": [
          "2020-09-01T00:00:00",
          "2021-04-01T00:00:00"
         ],
         "y": [
          9834,
          64943.5
         ]
        },
        {
         "line": {
          "color": "blue",
          "width": 2
         },
         "mode": "lines",
         "name": "ZigZag",
         "showlegend": false,
         "type": "scatter",
         "x": [
          "2021-04-01T00:00:00",
          "2021-06-01T00:00:00"
         ],
         "y": [
          64943.5,
          28774
         ]
        },
        {
         "line": {
          "color": "blue",
          "width": 2
         },
         "mode": "lines",
         "name": "ZigZag",
         "showlegend": false,
         "type": "scatter",
         "x": [
          "2021-06-01T00:00:00",
          "2021-11-01T00:00:00"
         ],
         "y": [
          28774,
          69138.5
         ]
        },
        {
         "line": {
          "color": "blue",
          "width": 2
         },
         "mode": "lines",
         "name": "ZigZag",
         "showlegend": false,
         "type": "scatter",
         "x": [
          "2021-11-01T00:00:00",
          "2022-01-01T00:00:00"
         ],
         "y": [
          69138.5,
          32906
         ]
        },
        {
         "line": {
          "color": "blue",
          "width": 2
         },
         "mode": "lines",
         "name": "ZigZag",
         "showlegend": false,
         "type": "scatter",
         "x": [
          "2022-01-01T00:00:00",
          "2022-03-01T00:00:00"
         ],
         "y": [
          32906,
          48185
         ]
        },
        {
         "line": {
          "color": "blue",
          "width": 2
         },
         "mode": "lines",
         "name": "ZigZag",
         "showlegend": false,
         "type": "scatter",
         "x": [
          "2022-03-01T00:00:00",
          "2022-06-01T00:00:00"
         ],
         "y": [
          48185,
          17600
         ]
        },
        {
         "line": {
          "color": "blue",
          "width": 2
         },
         "mode": "lines",
         "name": "ZigZag",
         "showlegend": false,
         "type": "scatter",
         "x": [
          "2022-06-01T00:00:00",
          "2022-08-01T00:00:00"
         ],
         "y": [
          17600,
          25199
         ]
        },
        {
         "line": {
          "color": "blue",
          "width": 2
         },
         "mode": "lines",
         "name": "ZigZag",
         "showlegend": false,
         "type": "scatter",
         "x": [
          "2022-08-01T00:00:00",
          "2022-11-01T00:00:00"
         ],
         "y": [
          25199,
          15440
         ]
        },
        {
         "line": {
          "color": "blue",
          "width": 2
         },
         "mode": "lines",
         "name": "ZigZag",
         "showlegend": false,
         "type": "scatter",
         "x": [
          "2022-11-01T00:00:00",
          "2023-04-01T00:00:00"
         ],
         "y": [
          15440,
          31061.7
         ]
        },
        {
         "line": {
          "color": "blue",
          "width": 2
         },
         "mode": "lines",
         "name": "ZigZag",
         "showlegend": false,
         "type": "scatter",
         "x": [
          "2023-04-01T00:00:00",
          "2023-06-01T00:00:00"
         ],
         "y": [
          31061.7,
          24779.5
         ]
        },
        {
         "line": {
          "color": "blue",
          "width": 2
         },
         "mode": "lines",
         "name": "ZigZag",
         "showlegend": false,
         "type": "scatter",
         "x": [
          "2023-06-01T00:00:00",
          "2023-07-01T00:00:00"
         ],
         "y": [
          24779.5,
          31843.9
         ]
        },
        {
         "line": {
          "color": "blue",
          "width": 2
         },
         "mode": "lines",
         "name": "ZigZag",
         "showlegend": false,
         "type": "scatter",
         "x": [
          "2023-07-01T00:00:00",
          "2023-08-01T00:00:00"
         ],
         "y": [
          31843.9,
          24200.9
         ]
        },
        {
         "line": {
          "color": "blue",
          "width": 2
         },
         "mode": "lines",
         "name": "ZigZag",
         "showlegend": false,
         "type": "scatter",
         "x": [
          "2023-08-01T00:00:00",
          "2024-03-01T00:00:00"
         ],
         "y": [
          24200.9,
          73949
         ]
        },
        {
         "line": {
          "color": "blue",
          "width": 2
         },
         "mode": "lines",
         "name": "ZigZag",
         "showlegend": false,
         "type": "scatter",
         "x": [
          "2024-03-01T00:00:00",
          "2024-05-01T00:00:00"
         ],
         "y": [
          73949,
          56505
         ]
        },
        {
         "line": {
          "color": "blue",
          "width": 2
         },
         "mode": "lines",
         "name": "ZigZag",
         "showlegend": false,
         "type": "scatter",
         "x": [
          "2024-05-01T00:00:00",
          "2024-06-01T00:00:00"
         ],
         "y": [
          56505,
          72169
         ]
        },
        {
         "line": {
          "color": "blue",
          "width": 2
         },
         "mode": "lines",
         "name": "ZigZag",
         "showlegend": false,
         "type": "scatter",
         "x": [
          "2024-06-01T00:00:00",
          "2024-08-01T00:00:00"
         ],
         "y": [
          72169,
          48914.1
         ]
        },
        {
         "line": {
          "color": "blue",
          "width": 2
         },
         "mode": "lines",
         "name": "ZigZag",
         "showlegend": false,
         "type": "scatter",
         "x": [
          "2024-08-01T00:00:00",
          "2025-01-01T00:00:00"
         ],
         "y": [
          48914.1,
          109951.7
         ]
        },
        {
         "line": {
          "color": "blue",
          "width": 2
         },
         "mode": "lines",
         "name": "ZigZag",
         "showlegend": false,
         "type": "scatter",
         "x": [
          "2025-01-01T00:00:00",
          "2025-04-01T00:00:00"
         ],
         "y": [
          109951.7,
          74456.2
         ]
        },
        {
         "line": {
          "color": "blue",
          "width": 2
         },
         "mode": "lines",
         "name": "ZigZag",
         "showlegend": false,
         "type": "scatter",
         "x": [
          "2025-04-01T00:00:00",
          "2025-05-01T00:00:00"
         ],
         "y": [
          74456.2,
          111968
         ]
        },
        {
         "line": {
          "color": "blue",
          "width": 2
         },
         "mode": "lines",
         "name": "ZigZag",
         "showlegend": false,
         "type": "scatter",
         "x": [
          "2025-05-01T00:00:00",
          "2025-06-01T00:00:00"
         ],
         "y": [
          111968,
          98125
         ]
        },
        {
         "line": {
          "color": "blue",
          "width": 2
         },
         "mode": "lines",
         "name": "ZigZag",
         "showlegend": false,
         "type": "scatter",
         "x": [
          "2025-06-01T00:00:00",
          "2025-08-01T00:00:00"
         ],
         "y": [
          98125,
          124571.2
         ]
        },
        {
         "line": {
          "color": "blue",
          "width": 2
         },
         "mode": "lines",
         "name": "ZigZag",
         "showlegend": false,
         "type": "scatter",
         "x": [
          "2025-08-01T00:00:00",
          "2025-09-01T00:00:00"
         ],
         "y": [
          124571.2,
          107202
         ]
        },
        {
         "line": {
          "color": "blue",
          "width": 2
         },
         "mode": "lines",
         "name": "ZigZag",
         "showlegend": false,
         "type": "scatter",
         "x": [
          "2025-09-01T00:00:00",
          "2025-10-01T00:00:00"
         ],
         "y": [
          107202,
          118528.6
         ]
        },
        {
         "marker": {
          "color": "red",
          "size": 10
         },
         "mode": "markers",
         "name": "Pivot low",
         "showlegend": false,
         "type": "scatter",
         "x": [
          "2020-03-01T00:00:00"
         ],
         "y": [
          5841.5
         ]
        },
        {
         "marker": {
          "color": "red",
          "size": 10
         },
         "mode": "markers",
         "name": "Pivot high",
         "showlegend": false,
         "type": "scatter",
         "x": [
          "2020-08-01T00:00:00"
         ],
         "y": [
          12499.5
         ]
        },
        {
         "marker": {
          "color": "red",
          "size": 10
         },
         "mode": "markers",
         "name": "Pivot low",
         "showlegend": false,
         "type": "scatter",
         "x": [
          "2020-09-01T00:00:00"
         ],
         "y": [
          9834
         ]
        },
        {
         "marker": {
          "color": "red",
          "size": 10
         },
         "mode": "markers",
         "name": "Pivot high",
         "showlegend": false,
         "type": "scatter",
         "x": [
          "2021-04-01T00:00:00"
         ],
         "y": [
          64943.5
         ]
        },
        {
         "marker": {
          "color": "red",
          "size": 10
         },
         "mode": "markers",
         "name": "Pivot low",
         "showlegend": false,
         "type": "scatter",
         "x": [
          "2021-06-01T00:00:00"
         ],
         "y": [
          28774
         ]
        },
        {
         "marker": {
          "color": "red",
          "size": 10
         },
         "mode": "markers",
         "name": "Pivot high",
         "showlegend": false,
         "type": "scatter",
         "x": [
          "2021-11-01T00:00:00"
         ],
         "y": [
          69138.5
         ]
        },
        {
         "marker": {
          "color": "red",
          "size": 10
         },
         "mode": "markers",
         "name": "Pivot low",
         "showlegend": false,
         "type": "scatter",
         "x": [
          "2022-01-01T00:00:00"
         ],
         "y": [
          32906
         ]
        },
        {
         "marker": {
          "color": "red",
          "size": 10
         },
         "mode": "markers",
         "name": "Pivot high",
         "showlegend": false,
         "type": "scatter",
         "x": [
          "2022-03-01T00:00:00"
         ],
         "y": [
          48185
         ]
        },
        {
         "marker": {
          "color": "red",
          "size": 10
         },
         "mode": "markers",
         "name": "Pivot low",
         "showlegend": false,
         "type": "scatter",
         "x": [
          "2022-06-01T00:00:00"
         ],
         "y": [
          17600
         ]
        },
        {
         "marker": {
          "color": "red",
          "size": 10
         },
         "mode": "markers",
         "name": "Pivot high",
         "showlegend": false,
         "type": "scatter",
         "x": [
          "2022-08-01T00:00:00"
         ],
         "y": [
          25199
         ]
        },
        {
         "marker": {
          "color": "red",
          "size": 10
         },
         "mode": "markers",
         "name": "Pivot low",
         "showlegend": false,
         "type": "scatter",
         "x": [
          "2022-11-01T00:00:00"
         ],
         "y": [
          15440
         ]
        },
        {
         "marker": {
          "color": "red",
          "size": 10
         },
         "mode": "markers",
         "name": "Pivot high",
         "showlegend": false,
         "type": "scatter",
         "x": [
          "2023-04-01T00:00:00"
         ],
         "y": [
          31061.7
         ]
        },
        {
         "marker": {
          "color": "red",
          "size": 10
         },
         "mode": "markers",
         "name": "Pivot low",
         "showlegend": false,
         "type": "scatter",
         "x": [
          "2023-06-01T00:00:00"
         ],
         "y": [
          24779.5
         ]
        },
        {
         "marker": {
          "color": "red",
          "size": 10
         },
         "mode": "markers",
         "name": "Pivot high",
         "showlegend": false,
         "type": "scatter",
         "x": [
          "2023-07-01T00:00:00"
         ],
         "y": [
          31843.9
         ]
        },
        {
         "marker": {
          "color": "red",
          "size": 10
         },
         "mode": "markers",
         "name": "Pivot low",
         "showlegend": false,
         "type": "scatter",
         "x": [
          "2023-08-01T00:00:00"
         ],
         "y": [
          24200.9
         ]
        },
        {
         "marker": {
          "color": "red",
          "size": 10
         },
         "mode": "markers",
         "name": "Pivot high",
         "showlegend": false,
         "type": "scatter",
         "x": [
          "2024-03-01T00:00:00"
         ],
         "y": [
          73949
         ]
        },
        {
         "marker": {
          "color": "red",
          "size": 10
         },
         "mode": "markers",
         "name": "Pivot low",
         "showlegend": false,
         "type": "scatter",
         "x": [
          "2024-05-01T00:00:00"
         ],
         "y": [
          56505
         ]
        },
        {
         "marker": {
          "color": "red",
          "size": 10
         },
         "mode": "markers",
         "name": "Pivot high",
         "showlegend": false,
         "type": "scatter",
         "x": [
          "2024-06-01T00:00:00"
         ],
         "y": [
          72169
         ]
        },
        {
         "marker": {
          "color": "red",
          "size": 10
         },
         "mode": "markers",
         "name": "Pivot low",
         "showlegend": false,
         "type": "scatter",
         "x": [
          "2024-08-01T00:00:00"
         ],
         "y": [
          48914.1
         ]
        },
        {
         "marker": {
          "color": "red",
          "size": 10
         },
         "mode": "markers",
         "name": "Pivot high",
         "showlegend": false,
         "type": "scatter",
         "x": [
          "2025-01-01T00:00:00"
         ],
         "y": [
          109951.7
         ]
        },
        {
         "marker": {
          "color": "red",
          "size": 10
         },
         "mode": "markers",
         "name": "Pivot low",
         "showlegend": false,
         "type": "scatter",
         "x": [
          "2025-04-01T00:00:00"
         ],
         "y": [
          74456.2
         ]
        },
        {
         "marker": {
          "color": "red",
          "size": 10
         },
         "mode": "markers",
         "name": "Pivot high",
         "showlegend": false,
         "type": "scatter",
         "x": [
          "2025-05-01T00:00:00"
         ],
         "y": [
          111968
         ]
        },
        {
         "marker": {
          "color": "red",
          "size": 10
         },
         "mode": "markers",
         "name": "Pivot low",
         "showlegend": false,
         "type": "scatter",
         "x": [
          "2025-06-01T00:00:00"
         ],
         "y": [
          98125
         ]
        },
        {
         "marker": {
          "color": "red",
          "size": 10
         },
         "mode": "markers",
         "name": "Pivot high",
         "showlegend": false,
         "type": "scatter",
         "x": [
          "2025-08-01T00:00:00"
         ],
         "y": [
          124571.2
         ]
        },
        {
         "marker": {
          "color": "red",
          "size": 10
         },
         "mode": "markers",
         "name": "Pivot low",
         "showlegend": false,
         "type": "scatter",
         "x": [
          "2025-09-01T00:00:00"
         ],
         "y": [
          107202
         ]
        },
        {
         "marker": {
          "color": "red",
          "size": 10
         },
         "mode": "markers",
         "name": "Pivot high",
         "showlegend": false,
         "type": "scatter",
         "x": [
          "2025-10-01T00:00:00"
         ],
         "y": [
          118528.6
         ]
        },
        {
         "line": {
          "color": "orange",
          "dash": "dash",
          "width": 2
         },
         "mode": "lines",
         "name": "channel_lower_line",
         "showlegend": true,
         "type": "scatter",
         "x": [
          "2020-03-01T00:00:00",
          "2025-10-01T00:00:00"
         ],
         "y": [
          5841.5,
          44703.778671688284
         ]
        },
        {
         "line": {
          "color": "orange",
          "dash": "dash",
          "width": 2
         },
         "mode": "lines",
         "name": "channel_upper_line",
         "showlegend": true,
         "type": "scatter",
         "x": [
          "2020-03-01T00:00:00",
          "2025-10-01T00:00:00"
         ],
         "y": [
          37661.111317024544,
          243300.9
         ]
        },
        {
         "line": {
          "color": "orange",
          "dash": "dash",
          "width": 2
         },
         "mode": "lines",
         "name": "line_close_M",
         "showlegend": true,
         "type": "scatter",
         "x": [
          "2020-03-01T00:00:00",
          "2025-10-01T00:00:00"
         ],
         "y": [
          6405,
          6405
         ]
        },
        {
         "line": {
          "color": "orange",
          "dash": "dash",
          "width": 2
         },
         "mode": "lines",
         "name": "line_close_M",
         "showlegend": true,
         "type": "scatter",
         "x": [
          "2020-06-01T00:00:00",
          "2025-10-01T00:00:00"
         ],
         "y": [
          9135.5,
          9135.5
         ]
        },
        {
         "line": {
          "color": "orange",
          "dash": "dash",
          "width": 2
         },
         "mode": "lines",
         "name": "line_close_M",
         "showlegend": true,
         "type": "scatter",
         "x": [
          "2020-09-01T00:00:00",
          "2025-10-01T00:00:00"
         ],
         "y": [
          10759,
          10759
         ]
        },
        {
         "line": {
          "color": "orange",
          "dash": "dash",
          "width": 2
         },
         "mode": "lines",
         "name": "line_close_M",
         "showlegend": true,
         "type": "scatter",
         "x": [
          "2022-12-01T00:00:00",
          "2025-10-01T00:00:00"
         ],
         "y": [
          16549.5,
          16549.5
         ]
        },
        {
         "line": {
          "color": "orange",
          "dash": "dash",
          "width": 2
         },
         "mode": "lines",
         "name": "line_close_M",
         "showlegend": true,
         "type": "scatter",
         "x": [
          "2023-02-01T00:00:00",
          "2025-10-01T00:00:00"
         ],
         "y": [
          23129.9,
          23129.9
         ]
        },
        {
         "line": {
          "color": "orange",
          "dash": "dash",
          "width": 2
         },
         "mode": "lines",
         "name": "line_close_M",
         "showlegend": true,
         "type": "scatter",
         "x": [
          "2023-08-01T00:00:00",
          "2025-10-01T00:00:00"
         ],
         "y": [
          25924.1,
          25924.1
         ]
        },
        {
         "line": {
          "color": "orange",
          "dash": "dash",
          "width": 2
         },
         "mode": "lines",
         "name": "line_close_M",
         "showlegend": true,
         "type": "scatter",
         "x": [
          "2025-03-01T00:00:00",
          "2025-10-01T00:00:00"
         ],
         "y": [
          82504.4,
          82504.4
         ]
        },
        {
         "line": {
          "color": "orange",
          "dash": "dash",
          "width": 2
         },
         "mode": "lines",
         "name": "line_close_M",
         "showlegend": true,
         "type": "scatter",
         "x": [
          "2025-08-01T00:00:00",
          "2025-10-01T00:00:00"
         ],
         "y": [
          108200,
          108200
         ]
        },
        {
         "line": {
          "color": "orange",
          "dash": "dash",
          "width": 2
         },
         "mode": "lines",
         "name": "max_level_M",
         "showlegend": true,
         "type": "scatter",
         "x": [
          "2020-03-01T00:00:00",
          "2025-10-01T00:00:00"
         ],
         "y": [
          124571.2,
          124571.2
         ]
        },
        {
         "line": {
          "color": "orange",
          "dash": "dash",
          "width": 2
         },
         "mode": "lines",
         "name": "min_level_M",
         "showlegend": true,
         "type": "scatter",
         "x": [
          "2020-03-01T00:00:00",
          "2025-10-01T00:00:00"
         ],
         "y": [
          5841.5,
          5841.5
         ]
        },
        {
         "line": {
          "color": "deepskyblue",
          "dash": "dash",
          "width": 1
         },
         "mode": "lines",
         "name": "Volume Level",
         "showlegend": true,
         "type": "scatter",
         "x": [
          "2020-03-01T00:00:00",
          "2020-12-01T00:00:00"
         ],
         "y": [
          28921.500000000047,
          28921.500000000047
         ]
        },
        {
         "line": {
          "color": "deepskyblue",
          "dash": "dash",
          "width": 1
         },
         "mode": "lines",
         "name": "Volume Level",
         "showlegend": true,
         "type": "scatter",
         "x": [
          "2020-03-01T00:00:00",
          "2020-12-01T00:00:00"
         ],
         "y": [
          9407.200000000006,
          9407.200000000006
         ]
        },
        {
         "line": {
          "color": "deepskyblue",
          "dash": "dash",
          "width": 1
         },
         "mode": "lines",
         "name": "Volume Level",
         "showlegend": true,
         "type": "scatter",
         "x": [
          "2021-01-01T00:00:00",
          "2021-12-01T00:00:00"
         ],
         "y": [
          47288.31372549012,
          47288.31372549012
         ]
        },
        {
         "line": {
          "color": "deepskyblue",
          "dash": "dash",
          "width": 1
         },
         "mode": "lines",
         "name": "Volume Level",
         "showlegend": true,
         "type": "scatter",
         "x": [
          "2021-01-01T00:00:00",
          "2021-12-01T00:00:00"
         ],
         "y": [
          35008.66666666666,
          35008.66666666666
         ]
        },
        {
         "line": {
          "color": "deepskyblue",
          "dash": "dash",
          "width": 1
         },
         "mode": "lines",
         "name": "Volume Level",
         "showlegend": true,
         "type": "scatter",
         "x": [
          "2022-01-01T00:00:00",
          "2022-12-01T00:00:00"
         ],
         "y": [
          45511.00000000022,
          45511.00000000022
         ]
        },
        {
         "line": {
          "color": "deepskyblue",
          "dash": "dash",
          "width": 1
         },
         "mode": "lines",
         "name": "Volume Level",
         "showlegend": true,
         "type": "scatter",
         "x": [
          "2022-01-01T00:00:00",
          "2022-12-01T00:00:00"
         ],
         "y": [
          19843.16078431375,
          19843.16078431375
         ]
        },
        {
         "line": {
          "color": "deepskyblue",
          "dash": "dash",
          "width": 1
         },
         "mode": "lines",
         "name": "Volume Level",
         "showlegend": true,
         "type": "scatter",
         "x": [
          "2023-01-01T00:00:00",
          "2023-12-01T00:00:00"
         ],
         "y": [
          30506.763529411786,
          30506.763529411786
         ]
        },
        {
         "line": {
          "color": "deepskyblue",
          "dash": "dash",
          "width": 1
         },
         "mode": "lines",
         "name": "Volume Level",
         "showlegend": true,
         "type": "scatter",
         "x": [
          "2023-01-01T00:00:00",
          "2023-12-01T00:00:00"
         ],
         "y": [
          23129.9,
          23129.9
         ]
        },
        {
         "line": {
          "color": "deepskyblue",
          "dash": "dash",
          "width": 1
         },
         "mode": "lines",
         "name": "Volume Level",
         "showlegend": true,
         "type": "scatter",
         "x": [
          "2024-01-01T00:00:00",
          "2024-12-01T00:00:00"
         ],
         "y": [
          96483.99999999953,
          96483.99999999953
         ]
        },
        {
         "line": {
          "color": "deepskyblue",
          "dash": "dash",
          "width": 1
         },
         "mode": "lines",
         "name": "Volume Level",
         "showlegend": true,
         "type": "scatter",
         "x": [
          "2024-01-01T00:00:00",
          "2024-12-01T00:00:00"
         ],
         "y": [
          60529.79999999984,
          60529.79999999984
         ]
        },
        {
         "line": {
          "color": "deepskyblue",
          "dash": "dash",
          "width": 1
         },
         "mode": "lines",
         "name": "Volume Level",
         "showlegend": true,
         "type": "scatter",
         "x": [
          "2025-01-01T00:00:00",
          "2025-10-01T00:00:00"
         ],
         "y": [
          107187.67529411832,
          107187.67529411832
         ]
        },
        {
         "line": {
          "color": "deepskyblue",
          "dash": "dash",
          "width": 1
         },
         "mode": "lines",
         "name": "Volume Level",
         "showlegend": true,
         "type": "scatter",
         "x": [
          "2025-01-01T00:00:00",
          "2025-10-01T00:00:00"
         ],
         "y": [
          82504.4,
          82504.4
         ]
        },
        {
         "line": {
          "color": "white",
          "dash": "dash",
          "width": 1
         },
         "mode": "lines",
         "name": "POC",
         "showlegend": true,
         "type": "scatter",
         "x": [
          "2020-03-01T00:00:00",
          "2020-12-01T00:00:00"
         ],
         "y": [
          19694.15000000003,
          19694.15000000003
         ]
        },
        {
         "line": {
          "color": "white",
          "dash": "dash",
          "width": 1
         },
         "mode": "lines",
         "name": "POC",
         "showlegend": true,
         "type": "scatter",
         "x": [
          "2021-01-01T00:00:00",
          "2022-01-01T00:00:00"
         ],
         "y": [
          35063.98039215685,
          35063.98039215685
         ]
        },
        {
         "line": {
          "color": "white",
          "dash": "dash",
          "width": 1
         },
         "mode": "lines",
         "name": "POC",
         "showlegend": true,
         "type": "scatter",
         "x": [
          "2022-01-01T00:00:00",
          "2023-01-01T00:00:00"
         ],
         "y": [
          19899.948039215713,
          19899.948039215713
         ]
        },
        {
         "line": {
          "color": "white",
          "dash": "dash",
          "width": 1
         },
         "mode": "lines",
         "name": "nPOC",
         "showlegend": true,
         "type": "scatter",
         "x": [
          "2023-01-01T00:00:00",
          "2025-10-01T00:00:00"
         ],
         "y": [
          23167.53705882353,
          23167.53705882353
         ]
        },
        {
         "line": {
          "color": "white",
          "dash": "dash",
          "width": 1
         },
         "mode": "lines",
         "name": "nPOC",
         "showlegend": true,
         "type": "scatter",
         "x": [
          "2024-01-01T00:00:00",
          "2025-10-01T00:00:00"
         ],
         "y": [
          71421.80764705857,
          71421.80764705857
         ]
        },
        {
         "line": {
          "color": "white",
          "dash": "dash",
          "width": 1
         },
         "mode": "lines",
         "name": "nPOC",
         "showlegend": true,
         "type": "scatter",
         "x": [
          "2025-01-01T00:00:00",
          "2025-10-01T00:00:00"
         ],
         "y": [
          82574.52294117646,
          82574.52294117646
         ]
        }
       ],
       "layout": {
        "height": 800,
        "showlegend": false,
        "template": {
         "data": {
          "bar": [
           {
            "error_x": {
             "color": "#f2f5fa"
            },
            "error_y": {
             "color": "#f2f5fa"
            },
            "marker": {
             "line": {
              "color": "rgb(17,17,17)",
              "width": 0.5
             },
             "pattern": {
              "fillmode": "overlay",
              "size": 10,
              "solidity": 0.2
             }
            },
            "type": "bar"
           }
          ],
          "barpolar": [
           {
            "marker": {
             "line": {
              "color": "rgb(17,17,17)",
              "width": 0.5
             },
             "pattern": {
              "fillmode": "overlay",
              "size": 10,
              "solidity": 0.2
             }
            },
            "type": "barpolar"
           }
          ],
          "carpet": [
           {
            "aaxis": {
             "endlinecolor": "#A2B1C6",
             "gridcolor": "#506784",
             "linecolor": "#506784",
             "minorgridcolor": "#506784",
             "startlinecolor": "#A2B1C6"
            },
            "baxis": {
             "endlinecolor": "#A2B1C6",
             "gridcolor": "#506784",
             "linecolor": "#506784",
             "minorgridcolor": "#506784",
             "startlinecolor": "#A2B1C6"
            },
            "type": "carpet"
           }
          ],
          "choropleth": [
           {
            "colorbar": {
             "outlinewidth": 0,
             "ticks": ""
            },
            "type": "choropleth"
           }
          ],
          "contour": [
           {
            "colorbar": {
             "outlinewidth": 0,
             "ticks": ""
            },
            "colorscale": [
             [
              0,
              "#0d0887"
             ],
             [
              0.1111111111111111,
              "#46039f"
             ],
             [
              0.2222222222222222,
              "#7201a8"
             ],
             [
              0.3333333333333333,
              "#9c179e"
             ],
             [
              0.4444444444444444,
              "#bd3786"
             ],
             [
              0.5555555555555556,
              "#d8576b"
             ],
             [
              0.6666666666666666,
              "#ed7953"
             ],
             [
              0.7777777777777778,
              "#fb9f3a"
             ],
             [
              0.8888888888888888,
              "#fdca26"
             ],
             [
              1,
              "#f0f921"
             ]
            ],
            "type": "contour"
           }
          ],
          "contourcarpet": [
           {
            "colorbar": {
             "outlinewidth": 0,
             "ticks": ""
            },
            "type": "contourcarpet"
           }
          ],
          "heatmap": [
           {
            "colorbar": {
             "outlinewidth": 0,
             "ticks": ""
            },
            "colorscale": [
             [
              0,
              "#0d0887"
             ],
             [
              0.1111111111111111,
              "#46039f"
             ],
             [
              0.2222222222222222,
              "#7201a8"
             ],
             [
              0.3333333333333333,
              "#9c179e"
             ],
             [
              0.4444444444444444,
              "#bd3786"
             ],
             [
              0.5555555555555556,
              "#d8576b"
             ],
             [
              0.6666666666666666,
              "#ed7953"
             ],
             [
              0.7777777777777778,
              "#fb9f3a"
             ],
             [
              0.8888888888888888,
              "#fdca26"
             ],
             [
              1,
              "#f0f921"
             ]
            ],
            "type": "heatmap"
           }
          ],
          "histogram": [
           {
            "marker": {
             "pattern": {
              "fillmode": "overlay",
              "size": 10,
              "solidity": 0.2
             }
            },
            "type": "histogram"
           }
          ],
          "histogram2d": [
           {
            "colorbar": {
             "outlinewidth": 0,
             "ticks": ""
            },
            "colorscale": [
             [
              0,
              "#0d0887"
             ],
             [
              0.1111111111111111,
              "#46039f"
             ],
             [
              0.2222222222222222,
              "#7201a8"
             ],
             [
              0.3333333333333333,
              "#9c179e"
             ],
             [
              0.4444444444444444,
              "#bd3786"
             ],
             [
              0.5555555555555556,
              "#d8576b"
             ],
             [
              0.6666666666666666,
              "#ed7953"
             ],
             [
              0.7777777777777778,
              "#fb9f3a"
             ],
             [
              0.8888888888888888,
              "#fdca26"
             ],
             [
              1,
              "#f0f921"
             ]
            ],
            "type": "histogram2d"
           }
          ],
          "histogram2dcontour": [
           {
            "colorbar": {
             "outlinewidth": 0,
             "ticks": ""
            },
            "colorscale": [
             [
              0,
              "#0d0887"
             ],
             [
              0.1111111111111111,
              "#46039f"
             ],
             [
              0.2222222222222222,
              "#7201a8"
             ],
             [
              0.3333333333333333,
              "#9c179e"
             ],
             [
              0.4444444444444444,
              "#bd3786"
             ],
             [
              0.5555555555555556,
              "#d8576b"
             ],
             [
              0.6666666666666666,
              "#ed7953"
             ],
             [
              0.7777777777777778,
              "#fb9f3a"
             ],
             [
              0.8888888888888888,
              "#fdca26"
             ],
             [
              1,
              "#f0f921"
             ]
            ],
            "type": "histogram2dcontour"
           }
          ],
          "mesh3d": [
           {
            "colorbar": {
             "outlinewidth": 0,
             "ticks": ""
            },
            "type": "mesh3d"
           }
          ],
          "parcoords": [
           {
            "line": {
             "colorbar": {
              "outlinewidth": 0,
              "ticks": ""
             }
            },
            "type": "parcoords"
           }
          ],
          "pie": [
           {
            "automargin": true,
            "type": "pie"
           }
          ],
          "scatter": [
           {
            "marker": {
             "line": {
              "color": "#283442"
             }
            },
            "type": "scatter"
           }
          ],
          "scatter3d": [
           {
            "line": {
             "colorbar": {
              "outlinewidth": 0,
              "ticks": ""
             }
            },
            "marker": {
             "colorbar": {
              "outlinewidth": 0,
              "ticks": ""
             }
            },
            "type": "scatter3d"
           }
          ],
          "scattercarpet": [
           {
            "marker": {
             "colorbar": {
              "outlinewidth": 0,
              "ticks": ""
             }
            },
            "type": "scattercarpet"
           }
          ],
          "scattergeo": [
           {
            "marker": {
             "colorbar": {
              "outlinewidth": 0,
              "ticks": ""
             }
            },
            "type": "scattergeo"
           }
          ],
          "scattergl": [
           {
            "marker": {
             "line": {
              "color": "#283442"
             }
            },
            "type": "scattergl"
           }
          ],
          "scattermap": [
           {
            "marker": {
             "colorbar": {
              "outlinewidth": 0,
              "ticks": ""
             }
            },
            "type": "scattermap"
           }
          ],
          "scattermapbox": [
           {
            "marker": {
             "colorbar": {
              "outlinewidth": 0,
              "ticks": ""
             }
            },
            "type": "scattermapbox"
           }
          ],
          "scatterpolar": [
           {
            "marker": {
             "colorbar": {
              "outlinewidth": 0,
              "ticks": ""
             }
            },
            "type": "scatterpolar"
           }
          ],
          "scatterpolargl": [
           {
            "marker": {
             "colorbar": {
              "outlinewidth": 0,
              "ticks": ""
             }
            },
            "type": "scatterpolargl"
           }
          ],
          "scatterternary": [
           {
            "marker": {
             "colorbar": {
              "outlinewidth": 0,
              "ticks": ""
             }
            },
            "type": "scatterternary"
           }
          ],
          "surface": [
           {
            "colorbar": {
             "outlinewidth": 0,
             "ticks": ""
            },
            "colorscale": [
             [
              0,
              "#0d0887"
             ],
             [
              0.1111111111111111,
              "#46039f"
             ],
             [
              0.2222222222222222,
              "#7201a8"
             ],
             [
              0.3333333333333333,
              "#9c179e"
             ],
             [
              0.4444444444444444,
              "#bd3786"
             ],
             [
              0.5555555555555556,
              "#d8576b"
             ],
             [
              0.6666666666666666,
              "#ed7953"
             ],
             [
              0.7777777777777778,
              "#fb9f3a"
             ],
             [
              0.8888888888888888,
              "#fdca26"
             ],
             [
              1,
              "#f0f921"
             ]
            ],
            "type": "surface"
           }
          ],
          "table": [
           {
            "cells": {
             "fill": {
              "color": "#506784"
             },
             "line": {
              "color": "rgb(17,17,17)"
             }
            },
            "header": {
             "fill": {
              "color": "#2a3f5f"
             },
             "line": {
              "color": "rgb(17,17,17)"
             }
            },
            "type": "table"
           }
          ]
         },
         "layout": {
          "annotationdefaults": {
           "arrowcolor": "#f2f5fa",
           "arrowhead": 0,
           "arrowwidth": 1
          },
          "autotypenumbers": "strict",
          "coloraxis": {
           "colorbar": {
            "outlinewidth": 0,
            "ticks": ""
           }
          },
          "colorscale": {
           "diverging": [
            [
             0,
             "#8e0152"
            ],
            [
             0.1,
             "#c51b7d"
            ],
            [
             0.2,
             "#de77ae"
            ],
            [
             0.3,
             "#f1b6da"
            ],
            [
             0.4,
             "#fde0ef"
            ],
            [
             0.5,
             "#f7f7f7"
            ],
            [
             0.6,
             "#e6f5d0"
            ],
            [
             0.7,
             "#b8e186"
            ],
            [
             0.8,
             "#7fbc41"
            ],
            [
             0.9,
             "#4d9221"
            ],
            [
             1,
             "#276419"
            ]
           ],
           "sequential": [
            [
             0,
             "#0d0887"
            ],
            [
             0.1111111111111111,
             "#46039f"
            ],
            [
             0.2222222222222222,
             "#7201a8"
            ],
            [
             0.3333333333333333,
             "#9c179e"
            ],
            [
             0.4444444444444444,
             "#bd3786"
            ],
            [
             0.5555555555555556,
             "#d8576b"
            ],
            [
             0.6666666666666666,
             "#ed7953"
            ],
            [
             0.7777777777777778,
             "#fb9f3a"
            ],
            [
             0.8888888888888888,
             "#fdca26"
            ],
            [
             1,
             "#f0f921"
            ]
           ],
           "sequentialminus": [
            [
             0,
             "#0d0887"
            ],
            [
             0.1111111111111111,
             "#46039f"
            ],
            [
             0.2222222222222222,
             "#7201a8"
            ],
            [
             0.3333333333333333,
             "#9c179e"
            ],
            [
             0.4444444444444444,
             "#bd3786"
            ],
            [
             0.5555555555555556,
             "#d8576b"
            ],
            [
             0.6666666666666666,
             "#ed7953"
            ],
            [
             0.7777777777777778,
             "#fb9f3a"
            ],
            [
             0.8888888888888888,
             "#fdca26"
            ],
            [
             1,
             "#f0f921"
            ]
           ]
          },
          "colorway": [
           "#636efa",
           "#EF553B",
           "#00cc96",
           "#ab63fa",
           "#FFA15A",
           "#19d3f3",
           "#FF6692",
           "#B6E880",
           "#FF97FF",
           "#FECB52"
          ],
          "font": {
           "color": "#f2f5fa"
          },
          "geo": {
           "bgcolor": "rgb(17,17,17)",
           "lakecolor": "rgb(17,17,17)",
           "landcolor": "rgb(17,17,17)",
           "showlakes": true,
           "showland": true,
           "subunitcolor": "#506784"
          },
          "hoverlabel": {
           "align": "left"
          },
          "hovermode": "closest",
          "mapbox": {
           "style": "dark"
          },
          "paper_bgcolor": "rgb(17,17,17)",
          "plot_bgcolor": "rgb(17,17,17)",
          "polar": {
           "angularaxis": {
            "gridcolor": "#506784",
            "linecolor": "#506784",
            "ticks": ""
           },
           "bgcolor": "rgb(17,17,17)",
           "radialaxis": {
            "gridcolor": "#506784",
            "linecolor": "#506784",
            "ticks": ""
           }
          },
          "scene": {
           "xaxis": {
            "backgroundcolor": "rgb(17,17,17)",
            "gridcolor": "#506784",
            "gridwidth": 2,
            "linecolor": "#506784",
            "showbackground": true,
            "ticks": "",
            "zerolinecolor": "#C8D4E3"
           },
           "yaxis": {
            "backgroundcolor": "rgb(17,17,17)",
            "gridcolor": "#506784",
            "gridwidth": 2,
            "linecolor": "#506784",
            "showbackground": true,
            "ticks": "",
            "zerolinecolor": "#C8D4E3"
           },
           "zaxis": {
            "backgroundcolor": "rgb(17,17,17)",
            "gridcolor": "#506784",
            "gridwidth": 2,
            "linecolor": "#506784",
            "showbackground": true,
            "ticks": "",
            "zerolinecolor": "#C8D4E3"
           }
          },
          "shapedefaults": {
           "line": {
            "color": "#f2f5fa"
           }
          },
          "sliderdefaults": {
           "bgcolor": "#C8D4E3",
           "bordercolor": "rgb(17,17,17)",
           "borderwidth": 1,
           "tickwidth": 0
          },
          "ternary": {
           "aaxis": {
            "gridcolor": "#506784",
            "linecolor": "#506784",
            "ticks": ""
           },
           "baxis": {
            "gridcolor": "#506784",
            "linecolor": "#506784",
            "ticks": ""
           },
           "bgcolor": "rgb(17,17,17)",
           "caxis": {
            "gridcolor": "#506784",
            "linecolor": "#506784",
            "ticks": ""
           }
          },
          "title": {
           "x": 0.05
          },
          "updatemenudefaults": {
           "bgcolor": "#506784",
           "borderwidth": 0
          },
          "xaxis": {
           "automargin": true,
           "gridcolor": "#283442",
           "linecolor": "#506784",
           "ticks": "",
           "title": {
            "standoff": 15
           },
           "zerolinecolor": "#283442",
           "zerolinewidth": 2
          },
          "yaxis": {
           "automargin": true,
           "gridcolor": "#283442",
           "linecolor": "#506784",
           "ticks": "",
           "title": {
            "standoff": 15
           },
           "zerolinecolor": "#283442",
           "zerolinewidth": 2
          }
         }
        },
        "title": {
         "text": "BTCUSDT - M - TA Chart Visualizer"
        },
        "xaxis": {
         "fixedrange": false,
         "rangeslider": {
          "visible": false
         },
         "title": {
          "text": "Time"
         }
        },
        "yaxis": {
         "fixedrange": false,
         "title": {
          "text": "Price"
         },
         "type": "log"
        }
       }
      }
     },
     "metadata": {},
     "output_type": "display_data"
    },
    {
     "name": "stdout",
     "output_type": "stream",
     "text": [
      "\n",
      "==================================================\n",
      "Visualizing: ./data/BTCUSDT-W.json\n",
      "==================================================\n",
      "Processing 289 candles for BTCUSDT at W interval from ./data/BTCUSDT-W.json\n",
      "Volume Profile: Generated 201 volume profile ranges\n"
     ]
    },
    {
     "data": {
      "application/vnd.plotly.v1+json": {
       "config": {
        "plotlyServerURL": "https://plot.ly"
       },
       "data": [
        {
         "close": {
          "bdata": "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",
          "dtype": "f8"
         },
         "high": {
          "bdata": "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",
          "dtype": "f8"
         },
         "low": {
          "bdata": "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",
          "dtype": "f8"
         },
         "name": "Candlestick",
         "open": {
          "bdata": "AAAAAABkuUAAAAAAAPG2QAAAAAAAc7pAAAAAAAD1ukAAAAAAgM67QAAAAACAC75AAAAAAIBfwUAAAAAAgArBQAAAAACA5cJAAAAAAAADwUAAAAAAwHTCQAAAAACABsNAAAAAAAA+wkAAAAAAgCfCQAAAAAAA0MFAAAAAAAC5wUAAAAAAgCfCQAAAAACA+cFAAAAAAEBhw0AAAAAAgKDFQAAAAABA08ZAAAAAAEBFx0AAAAAAAMbGQAAAAAAA38ZAAAAAAMAHxEAAAAAAACjEQAAAAAAAUMVAAAAAAAAJxUAAAAAAANXEQAAAAAAAN8ZAAAAAAAByxkAAAAAAQHDJQAAAAAAA28pAAAAAAMA8zkAAAAAAwCHPQAAAAABg/dFAAAAAAMDA0UAAAAAAgOnSQAAAAABAutJAAAAAACDr1kAAAAAAoKbZQAAAAABgGOBAAAAAADCj4kAAAAAA8IPhQAAAAAAgeN9AAAAAAAAt4EAAAAAAMPXiQAAAAAAwxudAAAAAAGAO7EAAAAAAgAzmQAAAAABw5OhAAAAAAIDX7EAAAAAA4ADsQAAAAAAAOutAAAAAAABs7EAAAAAAMFDtQAAAAACAZOtAAAAAANDv50AAAAAA8KLrQAAAAAAQcOxAAAAAAMCp5kAAAAAAQOzgQAAAAACwaeFAAAAAACB74UAAAAAAQA7jQAAAAAAQY+FAAAAAAFDw4EAAAAAAoDvhQAAAAABAt+BAAAAAAAAB30AAAAAAkELhQAAAAACQc+NAAAAAAMBj5UAAAAAAwPLmQAAAAAAQDOhAAAAAAHDN50AAAAAAMDfpQAAAAABweeZAAAAAAFAV50AAAAAAEBTlQAAAAADwhedAAAAAAJC46kAAAAAAAA3uQAAAAACwvO1AAAAAAEDz7UAAAAAAAOTuQAAAAAAw/+9AAAAAAGCg7EAAAAAAYPrrQAAAAADAGehAAAAAAPBz6EAAAAAAcM3mQAAAAABgyehAAAAAACAZ50AAAAAAAHDkQAAAAABgBeVAAAAAAFCx4UAAAAAAcH7iQAAAAADAreRAAAAAAHCJ5EAAAAAAYLriQAAAAAAgZOJAAAAAAEC/4kAAAAAAgG/iQAAAAAAAJ+RAAAAAACDZ5kAAAAAAcKnmQAAAAAAgk+RAAAAAAMBd40AAAAAA8EHjQAAAAADQxeJAAAAAABCe4EAAAAAA4JTeQAAAAABgj91AAAAAAADD3EAAAAAAYDPdQAAAAADg8dlAAAAAAOAV1EAAAAAAAIrUQAAAAACA2tJAAAAAAEBc1EAAAAAAwE/UQAAAAABgC9ZAAAAAAKC+1kAAAAAAwJ/WQAAAAACguNdAAAAAAGAA1UAAAAAAABfTQAAAAACghNNAAAAAAIBM1UAAAAAAIPTSQAAAAAAAXNJAAAAAAICb0kAAAAAAIPvSQAAAAAAgzdJAAAAAAMAZ00AAAAAAYCHUQAAAAAAAatRAAAAAAEDlz0AAAAAAwMjPQAAAAACACtBAAAAAAACy0EAAAAAAgK3QQAAAAABgVtBAAAAAAEBu0EAAAAAAoDvQQAAAAADgt9BAAAAAAIBj1EAAAAAA4CvWQAAAAABgLtdAAAAAAIBl1kCamZmZOUTVQJqZmZm5stdAMzMzMxP/1kAAAAAAwOTVQJqZmZm5dtVAZmZmZoZO20BmZmZm5kvbQJqZmZn5fttAzczMzGyl20CamZmZ+ZXdQDMzMzMz7dpAAAAAAECI3ECamZmZeb/bQAAAAADARdpAMzMzM5Mb2kCamZmZeWTbQAAAAABgeNpAZmZmZsZO2UAAAAAAYLfZQGZmZmYGv91AmpmZmXni3UAAAAAAgHHdQJqZmZlZg91AZmZmZsZd3UBmZmZmRpbcQM3MzMzsZNxAMzMzM1Od3EAAAAAAIJDZQJqZmZlZedlAmpmZmflZ2UCamZmZmTjZQGZmZmam5NlAmpmZmTme2UAAAAAAwFLbQAAAAADAPttAMzMzM9OA2kDNzMzMrEbdQJqZmZn53OBAmpmZmXkb4UAAAAAAMBziQM3MzMxcQeJAzczMzOxJ4kDNzMzM/IfjQJqZmZn5ZeVAZmZmZmY25ECamZmZyQHlQJqZmZmZquRAZmZmZgZ05UAAAAAAYGDkQDMzMzMzTuRAMzMzMwOE5EAzMzMz88fkQAAAAAAQmedAzczMzNx56UAAAAAAcETpQDMzMzNj2e5AmpmZmXnY8EAzMzMzA7XwQJqZmZkBa/BAAAAAACBt8UAAAAAAsO7wQGZmZmYuBfBAzczMzNyx70CamZmZmc7uQJqZmZm5P+9AZmZmZjYB7kCamZmZuSvwQJqZmZkJu/BAzczMzASM8EDNzMzMpADxQDMzMzPjRPBAzczMzHzZ7kAAAAAAsKPuQAAAAAAAROtAmpmZmXmq7UAAAAAAYKPwQGZmZmYOqfBAMzMzM3Ni7EDNzMzM7KnsQM3MzMzMhOxAzczMzJxW70AzMzMzQ/brQAAAAABAyOpAZmZmZqbb7EDNzMzMvAfvQDMzMzM7AvBAzczMzByp7kBmZmZm1q7uQAAAAACg2vBAmpmZmRGa8ECamZmZecjwQAAAAADIovNAAAAAAMDy9UAzMzMzu+73QGZmZmYWv/dAzczMzCy0+ECamZmZOYT5QDMzMzOLOvdAAAAAADDg9kAAAAAASAL4QAAAAADgEvdAMzMzM+u7+EAzMzMzmwn5QDMzMzPb1vdAmpmZmcmK90CamZmZwXP3QJqZmZlpgPdAMzMzMzsD90DNzMzMRLPzQAAAAAAIJvRAzczMzFwB9UBmZmZmvhr0QJqZmZmBIvNAzczMzExw9EAAAAAAmMn0QAAAAABA4PZAmpmZmQEB90AAAAAAAGn5QJqZmZnB+/lAMzMzMwOb+kBmZmZm5sj5QM3MzMxszPlAzczMzLzE+UDNzMzMhKL4QM3MzMyscfpAAAAAAIim+kAzMzMzoxD9QGZmZmamovxAZmZmZl4o/UCamZmZMd77QM3MzMx8Hv1AmpmZmbmm/EDNzMzMLLT7QAAAAACAavpAMzMzM+se+0BmZmZm5iD8QGZmZmZWHvxAAAAAAFhg+0A=",
          "dtype": "f8"
         },
         "showlegend": false,
         "type": "candlestick",
         "x": [
          "2020-03-23T00:00:00.000000000",
          "2020-03-30T00:00:00.000000000",
          "2020-04-06T00:00:00.000000000",
          "2020-04-13T00:00:00.000000000",
          "2020-04-20T00:00:00.000000000",
          "2020-04-27T00:00:00.000000000",
          "2020-05-04T00:00:00.000000000",
          "2020-05-11T00:00:00.000000000",
          "2020-05-18T00:00:00.000000000",
          "2020-05-25T00:00:00.000000000",
          "2020-06-01T00:00:00.000000000",
          "2020-06-08T00:00:00.000000000",
          "2020-06-15T00:00:00.000000000",
          "2020-06-22T00:00:00.000000000",
          "2020-06-29T00:00:00.000000000",
          "2020-07-06T00:00:00.000000000",
          "2020-07-13T00:00:00.000000000",
          "2020-07-20T00:00:00.000000000",
          "2020-07-27T00:00:00.000000000",
          "2020-08-03T00:00:00.000000000",
          "2020-08-10T00:00:00.000000000",
          "2020-08-17T00:00:00.000000000",
          "2020-08-24T00:00:00.000000000",
          "2020-08-31T00:00:00.000000000",
          "2020-09-07T00:00:00.000000000",
          "2020-09-14T00:00:00.000000000",
          "2020-09-21T00:00:00.000000000",
          "2020-09-28T00:00:00.000000000",
          "2020-10-05T00:00:00.000000000",
          "2020-10-12T00:00:00.000000000",
          "2020-10-19T00:00:00.000000000",
          "2020-10-26T00:00:00.000000000",
          "2020-11-02T00:00:00.000000000",
          "2020-11-09T00:00:00.000000000",
          "2020-11-16T00:00:00.000000000",
          "2020-11-23T00:00:00.000000000",
          "2020-11-30T00:00:00.000000000",
          "2020-12-07T00:00:00.000000000",
          "2020-12-14T00:00:00.000000000",
          "2020-12-21T00:00:00.000000000",
          "2020-12-28T00:00:00.000000000",
          "2021-01-04T00:00:00.000000000",
          "2021-01-11T00:00:00.000000000",
          "2021-01-18T00:00:00.000000000",
          "2021-01-25T00:00:00.000000000",
          "2021-02-01T00:00:00.000000000",
          "2021-02-08T00:00:00.000000000",
          "2021-02-15T00:00:00.000000000",
          "2021-02-22T00:00:00.000000000",
          "2021-03-01T00:00:00.000000000",
          "2021-03-08T00:00:00.000000000",
          "2021-03-15T00:00:00.000000000",
          "2021-03-22T00:00:00.000000000",
          "2021-03-29T00:00:00.000000000",
          "2021-04-05T00:00:00.000000000",
          "2021-04-12T00:00:00.000000000",
          "2021-04-19T00:00:00.000000000",
          "2021-04-26T00:00:00.000000000",
          "2021-05-03T00:00:00.000000000",
          "2021-05-10T00:00:00.000000000",
          "2021-05-17T00:00:00.000000000",
          "2021-05-24T00:00:00.000000000",
          "2021-05-31T00:00:00.000000000",
          "2021-06-07T00:00:00.000000000",
          "2021-06-14T00:00:00.000000000",
          "2021-06-21T00:00:00.000000000",
          "2021-06-28T00:00:00.000000000",
          "2021-07-05T00:00:00.000000000",
          "2021-07-12T00:00:00.000000000",
          "2021-07-19T00:00:00.000000000",
          "2021-07-26T00:00:00.000000000",
          "2021-08-02T00:00:00.000000000",
          "2021-08-09T00:00:00.000000000",
          "2021-08-16T00:00:00.000000000",
          "2021-08-23T00:00:00.000000000",
          "2021-08-30T00:00:00.000000000",
          "2021-09-06T00:00:00.000000000",
          "2021-09-13T00:00:00.000000000",
          "2021-09-20T00:00:00.000000000",
          "2021-09-27T00:00:00.000000000",
          "2021-10-04T00:00:00.000000000",
          "2021-10-11T00:00:00.000000000",
          "2021-10-18T00:00:00.000000000",
          "2021-10-25T00:00:00.000000000",
          "2021-11-01T00:00:00.000000000",
          "2021-11-08T00:00:00.000000000",
          "2021-11-15T00:00:00.000000000",
          "2021-11-22T00:00:00.000000000",
          "2021-11-29T00:00:00.000000000",
          "2021-12-06T00:00:00.000000000",
          "2021-12-13T00:00:00.000000000",
          "2021-12-20T00:00:00.000000000",
          "2021-12-27T00:00:00.000000000",
          "2022-01-03T00:00:00.000000000",
          "2022-01-10T00:00:00.000000000",
          "2022-01-17T00:00:00.000000000",
          "2022-01-24T00:00:00.000000000",
          "2022-01-31T00:00:00.000000000",
          "2022-02-07T00:00:00.000000000",
          "2022-02-14T00:00:00.000000000",
          "2022-02-21T00:00:00.000000000",
          "2022-02-28T00:00:00.000000000",
          "2022-03-07T00:00:00.000000000",
          "2022-03-14T00:00:00.000000000",
          "2022-03-21T00:00:00.000000000",
          "2022-03-28T00:00:00.000000000",
          "2022-04-04T00:00:00.000000000",
          "2022-04-11T00:00:00.000000000",
          "2022-04-18T00:00:00.000000000",
          "2022-04-25T00:00:00.000000000",
          "2022-05-02T00:00:00.000000000",
          "2022-05-09T00:00:00.000000000",
          "2022-05-16T00:00:00.000000000",
          "2022-05-23T00:00:00.000000000",
          "2022-05-30T00:00:00.000000000",
          "2022-06-06T00:00:00.000000000",
          "2022-06-13T00:00:00.000000000",
          "2022-06-20T00:00:00.000000000",
          "2022-06-27T00:00:00.000000000",
          "2022-07-04T00:00:00.000000000",
          "2022-07-11T00:00:00.000000000",
          "2022-07-18T00:00:00.000000000",
          "2022-07-25T00:00:00.000000000",
          "2022-08-01T00:00:00.000000000",
          "2022-08-08T00:00:00.000000000",
          "2022-08-15T00:00:00.000000000",
          "2022-08-22T00:00:00.000000000",
          "2022-08-29T00:00:00.000000000",
          "2022-09-05T00:00:00.000000000",
          "2022-09-12T00:00:00.000000000",
          "2022-09-19T00:00:00.000000000",
          "2022-09-26T00:00:00.000000000",
          "2022-10-03T00:00:00.000000000",
          "2022-10-10T00:00:00.000000000",
          "2022-10-17T00:00:00.000000000",
          "2022-10-24T00:00:00.000000000",
          "2022-10-31T00:00:00.000000000",
          "2022-11-07T00:00:00.000000000",
          "2022-11-14T00:00:00.000000000",
          "2022-11-21T00:00:00.000000000",
          "2022-11-28T00:00:00.000000000",
          "2022-12-05T00:00:00.000000000",
          "2022-12-12T00:00:00.000000000",
          "2022-12-19T00:00:00.000000000",
          "2022-12-26T00:00:00.000000000",
          "2023-01-02T00:00:00.000000000",
          "2023-01-09T00:00:00.000000000",
          "2023-01-16T00:00:00.000000000",
          "2023-01-23T00:00:00.000000000",
          "2023-01-30T00:00:00.000000000",
          "2023-02-06T00:00:00.000000000",
          "2023-02-13T00:00:00.000000000",
          "2023-02-20T00:00:00.000000000",
          "2023-02-27T00:00:00.000000000",
          "2023-03-06T00:00:00.000000000",
          "2023-03-13T00:00:00.000000000",
          "2023-03-20T00:00:00.000000000",
          "2023-03-27T00:00:00.000000000",
          "2023-04-03T00:00:00.000000000",
          "2023-04-10T00:00:00.000000000",
          "2023-04-17T00:00:00.000000000",
          "2023-04-24T00:00:00.000000000",
          "2023-05-01T00:00:00.000000000",
          "2023-05-08T00:00:00.000000000",
          "2023-05-15T00:00:00.000000000",
          "2023-05-22T00:00:00.000000000",
          "2023-05-29T00:00:00.000000000",
          "2023-06-05T00:00:00.000000000",
          "2023-06-12T00:00:00.000000000",
          "2023-06-19T00:00:00.000000000",
          "2023-06-26T00:00:00.000000000",
          "2023-07-03T00:00:00.000000000",
          "2023-07-10T00:00:00.000000000",
          "2023-07-17T00:00:00.000000000",
          "2023-07-24T00:00:00.000000000",
          "2023-07-31T00:00:00.000000000",
          "2023-08-07T00:00:00.000000000",
          "2023-08-14T00:00:00.000000000",
          "2023-08-21T00:00:00.000000000",
          "2023-08-28T00:00:00.000000000",
          "2023-09-04T00:00:00.000000000",
          "2023-09-11T00:00:00.000000000",
          "2023-09-18T00:00:00.000000000",
          "2023-09-25T00:00:00.000000000",
          "2023-10-02T00:00:00.000000000",
          "2023-10-09T00:00:00.000000000",
          "2023-10-16T00:00:00.000000000",
          "2023-10-23T00:00:00.000000000",
          "2023-10-30T00:00:00.000000000",
          "2023-11-06T00:00:00.000000000",
          "2023-11-13T00:00:00.000000000",
          "2023-11-20T00:00:00.000000000",
          "2023-11-27T00:00:00.000000000",
          "2023-12-04T00:00:00.000000000",
          "2023-12-11T00:00:00.000000000",
          "2023-12-18T00:00:00.000000000",
          "2023-12-25T00:00:00.000000000",
          "2024-01-01T00:00:00.000000000",
          "2024-01-08T00:00:00.000000000",
          "2024-01-15T00:00:00.000000000",
          "2024-01-22T00:00:00.000000000",
          "2024-01-29T00:00:00.000000000",
          "2024-02-05T00:00:00.000000000",
          "2024-02-12T00:00:00.000000000",
          "2024-02-19T00:00:00.000000000",
          "2024-02-26T00:00:00.000000000",
          "2024-03-04T00:00:00.000000000",
          "2024-03-11T00:00:00.000000000",
          "2024-03-18T00:00:00.000000000",
          "2024-03-25T00:00:00.000000000",
          "2024-04-01T00:00:00.000000000",
          "2024-04-08T00:00:00.000000000",
          "2024-04-15T00:00:00.000000000",
          "2024-04-22T00:00:00.000000000",
          "2024-04-29T00:00:00.000000000",
          "2024-05-06T00:00:00.000000000",
          "2024-05-13T00:00:00.000000000",
          "2024-05-20T00:00:00.000000000",
          "2024-05-27T00:00:00.000000000",
          "2024-06-03T00:00:00.000000000",
          "2024-06-10T00:00:00.000000000",
          "2024-06-17T00:00:00.000000000",
          "2024-06-24T00:00:00.000000000",
          "2024-07-01T00:00:00.000000000",
          "2024-07-08T00:00:00.000000000",
          "2024-07-15T00:00:00.000000000",
          "2024-07-22T00:00:00.000000000",
          "2024-07-29T00:00:00.000000000",
          "2024-08-05T00:00:00.000000000",
          "2024-08-12T00:00:00.000000000",
          "2024-08-19T00:00:00.000000000",
          "2024-08-26T00:00:00.000000000",
          "2024-09-02T00:00:00.000000000",
          "2024-09-09T00:00:00.000000000",
          "2024-09-16T00:00:00.000000000",
          "2024-09-23T00:00:00.000000000",
          "2024-09-30T00:00:00.000000000",
          "2024-10-07T00:00:00.000000000",
          "2024-10-14T00:00:00.000000000",
          "2024-10-21T00:00:00.000000000",
          "2024-10-28T00:00:00.000000000",
          "2024-11-04T00:00:00.000000000",
          "2024-11-11T00:00:00.000000000",
          "2024-11-18T00:00:00.000000000",
          "2024-11-25T00:00:00.000000000",
          "2024-12-02T00:00:00.000000000",
          "2024-12-09T00:00:00.000000000",
          "2024-12-16T00:00:00.000000000",
          "2024-12-23T00:00:00.000000000",
          "2024-12-30T00:00:00.000000000",
          "2025-01-06T00:00:00.000000000",
          "2025-01-13T00:00:00.000000000",
          "2025-01-20T00:00:00.000000000",
          "2025-01-27T00:00:00.000000000",
          "2025-02-03T00:00:00.000000000",
          "2025-02-10T00:00:00.000000000",
          "2025-02-17T00:00:00.000000000",
          "2025-02-24T00:00:00.000000000",
          "2025-03-03T00:00:00.000000000",
          "2025-03-10T00:00:00.000000000",
          "2025-03-17T00:00:00.000000000",
          "2025-03-24T00:00:00.000000000",
          "2025-03-31T00:00:00.000000000",
          "2025-04-07T00:00:00.000000000",
          "2025-04-14T00:00:00.000000000",
          "2025-04-21T00:00:00.000000000",
          "2025-04-28T00:00:00.000000000",
          "2025-05-05T00:00:00.000000000",
          "2025-05-12T00:00:00.000000000",
          "2025-05-19T00:00:00.000000000",
          "2025-05-26T00:00:00.000000000",
          "2025-06-02T00:00:00.000000000",
          "2025-06-09T00:00:00.000000000",
          "2025-06-16T00:00:00.000000000",
          "2025-06-23T00:00:00.000000000",
          "2025-06-30T00:00:00.000000000",
          "2025-07-07T00:00:00.000000000",
          "2025-07-14T00:00:00.000000000",
          "2025-07-21T00:00:00.000000000",
          "2025-07-28T00:00:00.000000000",
          "2025-08-04T00:00:00.000000000",
          "2025-08-11T00:00:00.000000000",
          "2025-08-18T00:00:00.000000000",
          "2025-08-25T00:00:00.000000000",
          "2025-09-01T00:00:00.000000000",
          "2025-09-08T00:00:00.000000000",
          "2025-09-15T00:00:00.000000000",
          "2025-09-22T00:00:00.000000000",
          "2025-09-29T00:00:00.000000000"
         ]
        },
        {
         "line": {
          "color": "blue",
          "width": 2
         },
         "mode": "lines",
         "name": "ZigZag",
         "showlegend": false,
         "type": "scatter",
         "x": [
          "2020-03-30T00:00:00",
          "2020-04-06T00:00:00"
         ],
         "y": [
          5841.5,
          7458.5
         ]
        },
        {
         "line": {
          "color": "blue",
          "width": 2
         },
         "mode": "lines",
         "name": "ZigZag",
         "showlegend": false,
         "type": "scatter",
         "x": [
          "2020-04-06T00:00:00",
          "2020-04-13T00:00:00"
         ],
         "y": [
          7458.5,
          6465.5
         ]
        },
        {
         "line": {
          "color": "blue",
          "width": 2
         },
         "mode": "lines",
         "name": "ZigZag",
         "showlegend": false,
         "type": "scatter",
         "x": [
          "2020-04-13T00:00:00",
          "2020-05-04T00:00:00"
         ],
         "y": [
          6465.5,
          10059.5
         ]
        },
        {
         "line": {
          "color": "blue",
          "width": 2
         },
         "mode": "lines",
         "name": "ZigZag",
         "showlegend": false,
         "type": "scatter",
         "x": [
          "2020-05-04T00:00:00",
          "2020-05-04T00:00:00"
         ],
         "y": [
          10059.5,
          8153
         ]
        },
        {
         "line": {
          "color": "blue",
          "width": 2
         },
         "mode": "lines",
         "name": "ZigZag",
         "showlegend": false,
         "type": "scatter",
         "x": [
          "2020-05-04T00:00:00",
          "2020-05-18T00:00:00"
         ],
         "y": [
          8153,
          9957.5
         ]
        },
        {
         "line": {
          "color": "blue",
          "width": 2
         },
         "mode": "lines",
         "name": "ZigZag",
         "showlegend": false,
         "type": "scatter",
         "x": [
          "2020-05-18T00:00:00",
          "2020-05-25T00:00:00"
         ],
         "y": [
          9957.5,
          8640.5
         ]
        },
        {
         "line": {
          "color": "blue",
          "width": 2
         },
         "mode": "lines",
         "name": "ZigZag",
         "showlegend": false,
         "type": "scatter",
         "x": [
          "2020-05-25T00:00:00",
          "2020-06-01T00:00:00"
         ],
         "y": [
          8640.5,
          10352
         ]
        },
        {
         "line": {
          "color": "blue",
          "width": 2
         },
         "mode": "lines",
         "name": "ZigZag",
         "showlegend": false,
         "type": "scatter",
         "x": [
          "2020-06-01T00:00:00",
          "2020-06-22T00:00:00"
         ],
         "y": [
          10352,
          8840
         ]
        },
        {
         "line": {
          "color": "blue",
          "width": 2
         },
         "mode": "lines",
         "name": "ZigZag",
         "showlegend": false,
         "type": "scatter",
         "x": [
          "2020-06-22T00:00:00",
          "2020-07-27T00:00:00"
         ],
         "y": [
          8840,
          12113.5
         ]
        },
        {
         "line": {
          "color": "blue",
          "width": 2
         },
         "mode": "lines",
         "name": "ZigZag",
         "showlegend": false,
         "type": "scatter",
         "x": [
          "2020-07-27T00:00:00",
          "2020-08-03T00:00:00"
         ],
         "y": [
          12113.5,
          10943.5
         ]
        },
        {
         "line": {
          "color": "blue",
          "width": 2
         },
         "mode": "lines",
         "name": "ZigZag",
         "showlegend": false,
         "type": "scatter",
         "x": [
          "2020-08-03T00:00:00",
          "2020-08-17T00:00:00"
         ],
         "y": [
          10943.5,
          12499.5
         ]
        },
        {
         "line": {
          "color": "blue",
          "width": 2
         },
         "mode": "lines",
         "name": "ZigZag",
         "showlegend": false,
         "type": "scatter",
         "x": [
          "2020-08-17T00:00:00",
          "2020-08-31T00:00:00"
         ],
         "y": [
          12499.5,
          9834
         ]
        },
        {
         "line": {
          "color": "blue",
          "width": 2
         },
         "mode": "lines",
         "name": "ZigZag",
         "showlegend": false,
         "type": "scatter",
         "x": [
          "2020-08-31T00:00:00",
          "2020-11-30T00:00:00"
         ],
         "y": [
          9834,
          19948
         ]
        },
        {
         "line": {
          "color": "blue",
          "width": 2
         },
         "mode": "lines",
         "name": "ZigZag",
         "showlegend": false,
         "type": "scatter",
         "x": [
          "2020-11-30T00:00:00",
          "2020-12-07T00:00:00"
         ],
         "y": [
          19948,
          17567
         ]
        },
        {
         "line": {
          "color": "blue",
          "width": 2
         },
         "mode": "lines",
         "name": "ZigZag",
         "showlegend": false,
         "type": "scatter",
         "x": [
          "2020-12-07T00:00:00",
          "2021-01-04T00:00:00"
         ],
         "y": [
          17567,
          42100
         ]
        },
        {
         "line": {
          "color": "blue",
          "width": 2
         },
         "mode": "lines",
         "name": "ZigZag",
         "showlegend": false,
         "type": "scatter",
         "x": [
          "2021-01-04T00:00:00",
          "2021-01-18T00:00:00"
         ],
         "y": [
          42100,
          28913.5
         ]
        },
        {
         "line": {
          "color": "blue",
          "width": 2
         },
         "mode": "lines",
         "name": "ZigZag",
         "showlegend": false,
         "type": "scatter",
         "x": [
          "2021-01-18T00:00:00",
          "2021-02-15T00:00:00"
         ],
         "y": [
          28913.5,
          58399
         ]
        },
        {
         "line": {
          "color": "blue",
          "width": 2
         },
         "mode": "lines",
         "name": "ZigZag",
         "showlegend": false,
         "type": "scatter",
         "x": [
          "2021-02-15T00:00:00",
          "2021-02-22T00:00:00"
         ],
         "y": [
          58399,
          43080
         ]
        },
        {
         "line": {
          "color": "blue",
          "width": 2
         },
         "mode": "lines",
         "name": "ZigZag",
         "showlegend": false,
         "type": "scatter",
         "x": [
          "2021-02-22T00:00:00",
          "2021-03-08T00:00:00"
         ],
         "y": [
          43080,
          61939.5
         ]
        },
        {
         "line": {
          "color": "blue",
          "width": 2
         },
         "mode": "lines",
         "name": "ZigZag",
         "showlegend": false,
         "type": "scatter",
         "x": [
          "2021-03-08T00:00:00",
          "2021-03-22T00:00:00"
         ],
         "y": [
          61939.5,
          50504
         ]
        },
        {
         "line": {
          "color": "blue",
          "width": 2
         },
         "mode": "lines",
         "name": "ZigZag",
         "showlegend": false,
         "type": "scatter",
         "x": [
          "2021-03-22T00:00:00",
          "2021-04-12T00:00:00"
         ],
         "y": [
          50504,
          64943.5
         ]
        },
        {
         "line": {
          "color": "blue",
          "width": 2
         },
         "mode": "lines",
         "name": "ZigZag",
         "showlegend": false,
         "type": "scatter",
         "x": [
          "2021-04-12T00:00:00",
          "2021-04-19T00:00:00"
         ],
         "y": [
          64943.5,
          47019
         ]
        },
        {
         "line": {
          "color": "blue",
          "width": 2
         },
         "mode": "lines",
         "name": "ZigZag",
         "showlegend": false,
         "type": "scatter",
         "x": [
          "2021-04-19T00:00:00",
          "2021-05-10T00:00:00"
         ],
         "y": [
          47019,
          59586
         ]
        },
        {
         "line": {
          "color": "blue",
          "width": 2
         },
         "mode": "lines",
         "name": "ZigZag",
         "showlegend": false,
         "type": "scatter",
         "x": [
          "2021-05-10T00:00:00",
          "2021-05-17T00:00:00"
         ],
         "y": [
          59586,
          28801
         ]
        },
        {
         "line": {
          "color": "blue",
          "width": 2
         },
         "mode": "lines",
         "name": "ZigZag",
         "showlegend": false,
         "type": "scatter",
         "x": [
          "2021-05-17T00:00:00",
          "2021-05-24T00:00:00"
         ],
         "y": [
          28801,
          40871
         ]
        },
        {
         "line": {
          "color": "blue",
          "width": 2
         },
         "mode": "lines",
         "name": "ZigZag",
         "showlegend": false,
         "type": "scatter",
         "x": [
          "2021-05-24T00:00:00",
          "2021-06-07T00:00:00"
         ],
         "y": [
          40871,
          30980
         ]
        },
        {
         "line": {
          "color": "blue",
          "width": 2
         },
         "mode": "lines",
         "name": "ZigZag",
         "showlegend": false,
         "type": "scatter",
         "x": [
          "2021-06-07T00:00:00",
          "2021-06-14T00:00:00"
         ],
         "y": [
          30980,
          41300
         ]
        },
        {
         "line": {
          "color": "blue",
          "width": 2
         },
         "mode": "lines",
         "name": "ZigZag",
         "showlegend": false,
         "type": "scatter",
         "x": [
          "2021-06-14T00:00:00",
          "2021-06-21T00:00:00"
         ],
         "y": [
          41300,
          28774
         ]
        },
        {
         "line": {
          "color": "blue",
          "width": 2
         },
         "mode": "lines",
         "name": "ZigZag",
         "showlegend": false,
         "type": "scatter",
         "x": [
          "2021-06-21T00:00:00",
          "2021-06-28T00:00:00"
         ],
         "y": [
          28774,
          36573
         ]
        },
        {
         "line": {
          "color": "blue",
          "width": 2
         },
         "mode": "lines",
         "name": "ZigZag",
         "showlegend": false,
         "type": "scatter",
         "x": [
          "2021-06-28T00:00:00",
          "2021-07-19T00:00:00"
         ],
         "y": [
          36573,
          29272.5
         ]
        },
        {
         "line": {
          "color": "blue",
          "width": 2
         },
         "mode": "lines",
         "name": "ZigZag",
         "showlegend": false,
         "type": "scatter",
         "x": [
          "2021-07-19T00:00:00",
          "2021-09-06T00:00:00"
         ],
         "y": [
          29272.5,
          52858
         ]
        },
        {
         "line": {
          "color": "blue",
          "width": 2
         },
         "mode": "lines",
         "name": "ZigZag",
         "showlegend": false,
         "type": "scatter",
         "x": [
          "2021-09-06T00:00:00",
          "2021-09-20T00:00:00"
         ],
         "y": [
          52858,
          39520
         ]
        },
        {
         "line": {
          "color": "blue",
          "width": 2
         },
         "mode": "lines",
         "name": "ZigZag",
         "showlegend": false,
         "type": "scatter",
         "x": [
          "2021-09-20T00:00:00",
          "2021-10-18T00:00:00"
         ],
         "y": [
          39520,
          67210
         ]
        },
        {
         "line": {
          "color": "blue",
          "width": 2
         },
         "mode": "lines",
         "name": "ZigZag",
         "showlegend": false,
         "type": "scatter",
         "x": [
          "2021-10-18T00:00:00",
          "2021-10-25T00:00:00"
         ],
         "y": [
          67210,
          57476
         ]
        },
        {
         "line": {
          "color": "blue",
          "width": 2
         },
         "mode": "lines",
         "name": "ZigZag",
         "showlegend": false,
         "type": "scatter",
         "x": [
          "2021-10-25T00:00:00",
          "2021-11-08T00:00:00"
         ],
         "y": [
          57476,
          69138.5
         ]
        },
        {
         "line": {
          "color": "blue",
          "width": 2
         },
         "mode": "lines",
         "name": "ZigZag",
         "showlegend": false,
         "type": "scatter",
         "x": [
          "2021-11-08T00:00:00",
          "2021-11-29T00:00:00"
         ],
         "y": [
          69138.5,
          40829
         ]
        },
        {
         "line": {
          "color": "blue",
          "width": 2
         },
         "mode": "lines",
         "name": "ZigZag",
         "showlegend": false,
         "type": "scatter",
         "x": [
          "2021-11-29T00:00:00",
          "2021-12-06T00:00:00"
         ],
         "y": [
          40829,
          51923.5
         ]
        },
        {
         "line": {
          "color": "blue",
          "width": 2
         },
         "mode": "lines",
         "name": "ZigZag",
         "showlegend": false,
         "type": "scatter",
         "x": [
          "2021-12-06T00:00:00",
          "2021-12-13T00:00:00"
         ],
         "y": [
          51923.5,
          45280
         ]
        },
        {
         "line": {
          "color": "blue",
          "width": 2
         },
         "mode": "lines",
         "name": "ZigZag",
         "showlegend": false,
         "type": "scatter",
         "x": [
          "2021-12-13T00:00:00",
          "2021-12-27T00:00:00"
         ],
         "y": [
          45280,
          52119
         ]
        },
        {
         "line": {
          "color": "blue",
          "width": 2
         },
         "mode": "lines",
         "name": "ZigZag",
         "showlegend": false,
         "type": "scatter",
         "x": [
          "2021-12-27T00:00:00",
          "2022-01-24T00:00:00"
         ],
         "y": [
          52119,
          32906
         ]
        },
        {
         "line": {
          "color": "blue",
          "width": 2
         },
         "mode": "lines",
         "name": "ZigZag",
         "showlegend": false,
         "type": "scatter",
         "x": [
          "2022-01-24T00:00:00",
          "2022-02-07T00:00:00"
         ],
         "y": [
          32906,
          45924.5
         ]
        },
        {
         "line": {
          "color": "blue",
          "width": 2
         },
         "mode": "lines",
         "name": "ZigZag",
         "showlegend": false,
         "type": "scatter",
         "x": [
          "2022-02-07T00:00:00",
          "2022-02-21T00:00:00"
         ],
         "y": [
          45924.5,
          34242.5
         ]
        },
        {
         "line": {
          "color": "blue",
          "width": 2
         },
         "mode": "lines",
         "name": "ZigZag",
         "showlegend": false,
         "type": "scatter",
         "x": [
          "2022-02-21T00:00:00",
          "2022-02-28T00:00:00"
         ],
         "y": [
          34242.5,
          45372
         ]
        },
        {
         "line": {
          "color": "blue",
          "width": 2
         },
         "mode": "lines",
         "name": "ZigZag",
         "showlegend": false,
         "type": "scatter",
         "x": [
          "2022-02-28T00:00:00",
          "2022-03-07T00:00:00"
         ],
         "y": [
          45372,
          37139
         ]
        },
        {
         "line": {
          "color": "blue",
          "width": 2
         },
         "mode": "lines",
         "name": "ZigZag",
         "showlegend": false,
         "type": "scatter",
         "x": [
          "2022-03-07T00:00:00",
          "2022-03-28T00:00:00"
         ],
         "y": [
          37139,
          48185
         ]
        },
        {
         "line": {
          "color": "blue",
          "width": 2
         },
         "mode": "lines",
         "name": "ZigZag",
         "showlegend": false,
         "type": "scatter",
         "x": [
          "2022-03-28T00:00:00",
          "2022-05-09T00:00:00"
         ],
         "y": [
          48185,
          26536
         ]
        },
        {
         "line": {
          "color": "blue",
          "width": 2
         },
         "mode": "lines",
         "name": "ZigZag",
         "showlegend": false,
         "type": "scatter",
         "x": [
          "2022-05-09T00:00:00",
          "2022-05-16T00:00:00"
         ],
         "y": [
          26536,
          31315.5
         ]
        },
        {
         "line": {
          "color": "blue",
          "width": 2
         },
         "mode": "lines",
         "name": "ZigZag",
         "showlegend": false,
         "type": "scatter",
         "x": [
          "2022-05-16T00:00:00",
          "2022-05-23T00:00:00"
         ],
         "y": [
          31315.5,
          27950
         ]
        },
        {
         "line": {
          "color": "blue",
          "width": 2
         },
         "mode": "lines",
         "name": "ZigZag",
         "showlegend": false,
         "type": "scatter",
         "x": [
          "2022-05-23T00:00:00",
          "2022-05-30T00:00:00"
         ],
         "y": [
          27950,
          32450
         ]
        },
        {
         "line": {
          "color": "blue",
          "width": 2
         },
         "mode": "lines",
         "name": "ZigZag",
         "showlegend": false,
         "type": "scatter",
         "x": [
          "2022-05-30T00:00:00",
          "2022-06-13T00:00:00"
         ],
         "y": [
          32450,
          17600
         ]
        },
        {
         "line": {
          "color": "blue",
          "width": 2
         },
         "mode": "lines",
         "name": "ZigZag",
         "showlegend": false,
         "type": "scatter",
         "x": [
          "2022-06-13T00:00:00",
          "2022-06-20T00:00:00"
         ],
         "y": [
          17600,
          21880
         ]
        },
        {
         "line": {
          "color": "blue",
          "width": 2
         },
         "mode": "lines",
         "name": "ZigZag",
         "showlegend": false,
         "type": "scatter",
         "x": [
          "2022-06-20T00:00:00",
          "2022-06-27T00:00:00"
         ],
         "y": [
          21880,
          18601
         ]
        },
        {
         "line": {
          "color": "blue",
          "width": 2
         },
         "mode": "lines",
         "name": "ZigZag",
         "showlegend": false,
         "type": "scatter",
         "x": [
          "2022-06-27T00:00:00",
          "2022-07-04T00:00:00"
         ],
         "y": [
          18601,
          22600
         ]
        },
        {
         "line": {
          "color": "blue",
          "width": 2
         },
         "mode": "lines",
         "name": "ZigZag",
         "showlegend": false,
         "type": "scatter",
         "x": [
          "2022-07-04T00:00:00",
          "2022-07-11T00:00:00"
         ],
         "y": [
          22600,
          18867.5
         ]
        },
        {
         "line": {
          "color": "blue",
          "width": 2
         },
         "mode": "lines",
         "name": "ZigZag",
         "showlegend": false,
         "type": "scatter",
         "x": [
          "2022-07-11T00:00:00",
          "2022-08-15T00:00:00"
         ],
         "y": [
          18867.5,
          25199
         ]
        },
        {
         "line": {
          "color": "blue",
          "width": 2
         },
         "mode": "lines",
         "name": "ZigZag",
         "showlegend": false,
         "type": "scatter",
         "x": [
          "2022-08-15T00:00:00",
          "2022-09-05T00:00:00"
         ],
         "y": [
          25199,
          18451
         ]
        },
        {
         "line": {
          "color": "blue",
          "width": 2
         },
         "mode": "lines",
         "name": "ZigZag",
         "showlegend": false,
         "type": "scatter",
         "x": [
          "2022-09-05T00:00:00",
          "2022-09-12T00:00:00"
         ],
         "y": [
          18451,
          22794
         ]
        },
        {
         "line": {
          "color": "blue",
          "width": 2
         },
         "mode": "lines",
         "name": "ZigZag",
         "showlegend": false,
         "type": "scatter",
         "x": [
          "2022-09-12T00:00:00",
          "2022-09-19T00:00:00"
         ],
         "y": [
          22794,
          18100
         ]
        },
        {
         "line": {
          "color": "blue",
          "width": 2
         },
         "mode": "lines",
         "name": "ZigZag",
         "showlegend": false,
         "type": "scatter",
         "x": [
          "2022-09-19T00:00:00",
          "2022-10-03T00:00:00"
         ],
         "y": [
          18100,
          20451
         ]
        },
        {
         "line": {
          "color": "blue",
          "width": 2
         },
         "mode": "lines",
         "name": "ZigZag",
         "showlegend": false,
         "type": "scatter",
         "x": [
          "2022-10-03T00:00:00",
          "2022-10-10T00:00:00"
         ],
         "y": [
          20451,
          18071
         ]
        },
        {
         "line": {
          "color": "blue",
          "width": 2
         },
         "mode": "lines",
         "name": "ZigZag",
         "showlegend": false,
         "type": "scatter",
         "x": [
          "2022-10-10T00:00:00",
          "2022-10-31T00:00:00"
         ],
         "y": [
          18071,
          21470
         ]
        },
        {
         "line": {
          "color": "blue",
          "width": 2
         },
         "mode": "lines",
         "name": "ZigZag",
         "showlegend": false,
         "type": "scatter",
         "x": [
          "2022-10-31T00:00:00",
          "2022-11-07T00:00:00"
         ],
         "y": [
          21470,
          15460.5
         ]
        },
        {
         "line": {
          "color": "blue",
          "width": 2
         },
         "mode": "lines",
         "name": "ZigZag",
         "showlegend": false,
         "type": "scatter",
         "x": [
          "2022-11-07T00:00:00",
          "2022-11-14T00:00:00"
         ],
         "y": [
          15460.5,
          17213
         ]
        },
        {
         "line": {
          "color": "blue",
          "width": 2
         },
         "mode": "lines",
         "name": "ZigZag",
         "showlegend": false,
         "type": "scatter",
         "x": [
          "2022-11-14T00:00:00",
          "2022-11-21T00:00:00"
         ],
         "y": [
          17213,
          15440
         ]
        },
        {
         "line": {
          "color": "blue",
          "width": 2
         },
         "mode": "lines",
         "name": "ZigZag",
         "showlegend": false,
         "type": "scatter",
         "x": [
          "2022-11-21T00:00:00",
          "2022-12-12T00:00:00"
         ],
         "y": [
          15440,
          18379
         ]
        },
        {
         "line": {
          "color": "blue",
          "width": 2
         },
         "mode": "lines",
         "name": "ZigZag",
         "showlegend": false,
         "type": "scatter",
         "x": [
          "2022-12-12T00:00:00",
          "2022-12-19T00:00:00"
         ],
         "y": [
          18379,
          16203
         ]
        },
        {
         "line": {
          "color": "blue",
          "width": 2
         },
         "mode": "lines",
         "name": "ZigZag",
         "showlegend": false,
         "type": "scatter",
         "x": [
          "2022-12-19T00:00:00",
          "2023-01-30T00:00:00"
         ],
         "y": [
          16203,
          24280
         ]
        },
        {
         "line": {
          "color": "blue",
          "width": 2
         },
         "mode": "lines",
         "name": "ZigZag",
         "showlegend": false,
         "type": "scatter",
         "x": [
          "2023-01-30T00:00:00",
          "2023-02-13T00:00:00"
         ],
         "y": [
          24280,
          21327.5
         ]
        },
        {
         "line": {
          "color": "blue",
          "width": 2
         },
         "mode": "lines",
         "name": "ZigZag",
         "showlegend": false,
         "type": "scatter",
         "x": [
          "2023-02-13T00:00:00",
          "2023-02-13T00:00:00"
         ],
         "y": [
          21327.5,
          25296.1
         ]
        },
        {
         "line": {
          "color": "blue",
          "width": 2
         },
         "mode": "lines",
         "name": "ZigZag",
         "showlegend": false,
         "type": "scatter",
         "x": [
          "2023-02-13T00:00:00",
          "2023-03-06T00:00:00"
         ],
         "y": [
          25296.1,
          19535
         ]
        },
        {
         "line": {
          "color": "blue",
          "width": 2
         },
         "mode": "lines",
         "name": "ZigZag",
         "showlegend": false,
         "type": "scatter",
         "x": [
          "2023-03-06T00:00:00",
          "2023-04-10T00:00:00"
         ],
         "y": [
          19535,
          31061.7
         ]
        },
        {
         "line": {
          "color": "blue",
          "width": 2
         },
         "mode": "lines",
         "name": "ZigZag",
         "showlegend": false,
         "type": "scatter",
         "x": [
          "2023-04-10T00:00:00",
          "2023-04-24T00:00:00"
         ],
         "y": [
          31061.7,
          26933
         ]
        },
        {
         "line": {
          "color": "blue",
          "width": 2
         },
         "mode": "lines",
         "name": "ZigZag",
         "showlegend": false,
         "type": "scatter",
         "x": [
          "2023-04-24T00:00:00",
          "2023-04-24T00:00:00"
         ],
         "y": [
          26933,
          30062
         ]
        },
        {
         "line": {
          "color": "blue",
          "width": 2
         },
         "mode": "lines",
         "name": "ZigZag",
         "showlegend": false,
         "type": "scatter",
         "x": [
          "2023-04-24T00:00:00",
          "2023-05-08T00:00:00"
         ],
         "y": [
          30062,
          25764
         ]
        },
        {
         "line": {
          "color": "blue",
          "width": 2
         },
         "mode": "lines",
         "name": "ZigZag",
         "showlegend": false,
         "type": "scatter",
         "x": [
          "2023-05-08T00:00:00",
          "2023-05-29T00:00:00"
         ],
         "y": [
          25764,
          28449
         ]
        },
        {
         "line": {
          "color": "blue",
          "width": 2
         },
         "mode": "lines",
         "name": "ZigZag",
         "showlegend": false,
         "type": "scatter",
         "x": [
          "2023-05-29T00:00:00",
          "2023-06-12T00:00:00"
         ],
         "y": [
          28449,
          24779.5
         ]
        },
        {
         "line": {
          "color": "blue",
          "width": 2
         },
         "mode": "lines",
         "name": "ZigZag",
         "showlegend": false,
         "type": "scatter",
         "x": [
          "2023-06-12T00:00:00",
          "2023-07-10T00:00:00"
         ],
         "y": [
          24779.5,
          31843.9
         ]
        },
        {
         "line": {
          "color": "blue",
          "width": 2
         },
         "mode": "lines",
         "name": "ZigZag",
         "showlegend": false,
         "type": "scatter",
         "x": [
          "2023-07-10T00:00:00",
          "2023-08-14T00:00:00"
         ],
         "y": [
          31843.9,
          24200.9
         ]
        },
        {
         "line": {
          "color": "blue",
          "width": 2
         },
         "mode": "lines",
         "name": "ZigZag",
         "showlegend": false,
         "type": "scatter",
         "x": [
          "2023-08-14T00:00:00",
          "2023-08-28T00:00:00"
         ],
         "y": [
          24200.9,
          28140.8
         ]
        },
        {
         "line": {
          "color": "blue",
          "width": 2
         },
         "mode": "lines",
         "name": "ZigZag",
         "showlegend": false,
         "type": "scatter",
         "x": [
          "2023-08-28T00:00:00",
          "2023-09-11T00:00:00"
         ],
         "y": [
          28140.8,
          24853.4
         ]
        },
        {
         "line": {
          "color": "blue",
          "width": 2
         },
         "mode": "lines",
         "name": "ZigZag",
         "showlegend": false,
         "type": "scatter",
         "x": [
          "2023-09-11T00:00:00",
          "2023-12-04T00:00:00"
         ],
         "y": [
          24853.4,
          44777
         ]
        },
        {
         "line": {
          "color": "blue",
          "width": 2
         },
         "mode": "lines",
         "name": "ZigZag",
         "showlegend": false,
         "type": "scatter",
         "x": [
          "2023-12-04T00:00:00",
          "2023-12-11T00:00:00"
         ],
         "y": [
          44777,
          40167.7
         ]
        },
        {
         "line": {
          "color": "blue",
          "width": 2
         },
         "mode": "lines",
         "name": "ZigZag",
         "showlegend": false,
         "type": "scatter",
         "x": [
          "2023-12-11T00:00:00",
          "2024-01-08T00:00:00"
         ],
         "y": [
          40167.7,
          49054.4
         ]
        },
        {
         "line": {
          "color": "blue",
          "width": 2
         },
         "mode": "lines",
         "name": "ZigZag",
         "showlegend": false,
         "type": "scatter",
         "x": [
          "2024-01-08T00:00:00",
          "2024-01-22T00:00:00"
         ],
         "y": [
          49054.4,
          38531.5
         ]
        },
        {
         "line": {
          "color": "blue",
          "width": 2
         },
         "mode": "lines",
         "name": "ZigZag",
         "showlegend": false,
         "type": "scatter",
         "x": [
          "2024-01-22T00:00:00",
          "2024-03-11T00:00:00"
         ],
         "y": [
          38531.5,
          73949
         ]
        },
        {
         "line": {
          "color": "blue",
          "width": 2
         },
         "mode": "lines",
         "name": "ZigZag",
         "showlegend": false,
         "type": "scatter",
         "x": [
          "2024-03-11T00:00:00",
          "2024-03-18T00:00:00"
         ],
         "y": [
          73949,
          60761.2
         ]
        },
        {
         "line": {
          "color": "blue",
          "width": 2
         },
         "mode": "lines",
         "name": "ZigZag",
         "showlegend": false,
         "type": "scatter",
         "x": [
          "2024-03-18T00:00:00",
          "2024-04-08T00:00:00"
         ],
         "y": [
          60761.2,
          72854.5
         ]
        },
        {
         "line": {
          "color": "blue",
          "width": 2
         },
         "mode": "lines",
         "name": "ZigZag",
         "showlegend": false,
         "type": "scatter",
         "x": [
          "2024-04-08T00:00:00",
          "2024-04-15T00:00:00"
         ],
         "y": [
          72854.5,
          59521.7
         ]
        },
        {
         "line": {
          "color": "blue",
          "width": 2
         },
         "mode": "lines",
         "name": "ZigZag",
         "showlegend": false,
         "type": "scatter",
         "x": [
          "2024-04-15T00:00:00",
          "2024-04-22T00:00:00"
         ],
         "y": [
          59521.7,
          67198.9
         ]
        },
        {
         "line": {
          "color": "blue",
          "width": 2
         },
         "mode": "lines",
         "name": "ZigZag",
         "showlegend": false,
         "type": "scatter",
         "x": [
          "2024-04-22T00:00:00",
          "2024-04-29T00:00:00"
         ],
         "y": [
          67198.9,
          56505
         ]
        },
        {
         "line": {
          "color": "blue",
          "width": 2
         },
         "mode": "lines",
         "name": "ZigZag",
         "showlegend": false,
         "type": "scatter",
         "x": [
          "2024-04-29T00:00:00",
          "2024-06-03T00:00:00"
         ],
         "y": [
          56505,
          72169
         ]
        },
        {
         "line": {
          "color": "blue",
          "width": 2
         },
         "mode": "lines",
         "name": "ZigZag",
         "showlegend": false,
         "type": "scatter",
         "x": [
          "2024-06-03T00:00:00",
          "2024-07-01T00:00:00"
         ],
         "y": [
          72169,
          53314.3
         ]
        },
        {
         "line": {
          "color": "blue",
          "width": 2
         },
         "mode": "lines",
         "name": "ZigZag",
         "showlegend": false,
         "type": "scatter",
         "x": [
          "2024-07-01T00:00:00",
          "2024-07-29T00:00:00"
         ],
         "y": [
          53314.3,
          70136.9
         ]
        },
        {
         "line": {
          "color": "blue",
          "width": 2
         },
         "mode": "lines",
         "name": "ZigZag",
         "showlegend": false,
         "type": "scatter",
         "x": [
          "2024-07-29T00:00:00",
          "2024-08-05T00:00:00"
         ],
         "y": [
          70136.9,
          48914.1
         ]
        },
        {
         "line": {
          "color": "blue",
          "width": 2
         },
         "mode": "lines",
         "name": "ZigZag",
         "showlegend": false,
         "type": "scatter",
         "x": [
          "2024-08-05T00:00:00",
          "2024-08-19T00:00:00"
         ],
         "y": [
          48914.1,
          65041.9
         ]
        },
        {
         "line": {
          "color": "blue",
          "width": 2
         },
         "mode": "lines",
         "name": "ZigZag",
         "showlegend": false,
         "type": "scatter",
         "x": [
          "2024-08-19T00:00:00",
          "2024-09-02T00:00:00"
         ],
         "y": [
          65041.9,
          52500.2
         ]
        },
        {
         "line": {
          "color": "blue",
          "width": 2
         },
         "mode": "lines",
         "name": "ZigZag",
         "showlegend": false,
         "type": "scatter",
         "x": [
          "2024-09-02T00:00:00",
          "2024-09-23T00:00:00"
         ],
         "y": [
          52500.2,
          66520
         ]
        },
        {
         "line": {
          "color": "blue",
          "width": 2
         },
         "mode": "lines",
         "name": "ZigZag",
         "showlegend": false,
         "type": "scatter",
         "x": [
          "2024-09-23T00:00:00",
          "2024-10-07T00:00:00"
         ],
         "y": [
          66520,
          58900
         ]
        },
        {
         "line": {
          "color": "blue",
          "width": 2
         },
         "mode": "lines",
         "name": "ZigZag",
         "showlegend": false,
         "type": "scatter",
         "x": [
          "2024-10-07T00:00:00",
          "2024-12-16T00:00:00"
         ],
         "y": [
          58900,
          108421.6
         ]
        },
        {
         "line": {
          "color": "blue",
          "width": 2
         },
         "mode": "lines",
         "name": "ZigZag",
         "showlegend": false,
         "type": "scatter",
         "x": [
          "2024-12-16T00:00:00",
          "2025-01-13T00:00:00"
         ],
         "y": [
          108421.6,
          89100
         ]
        },
        {
         "line": {
          "color": "blue",
          "width": 2
         },
         "mode": "lines",
         "name": "ZigZag",
         "showlegend": false,
         "type": "scatter",
         "x": [
          "2025-01-13T00:00:00",
          "2025-01-20T00:00:00"
         ],
         "y": [
          89100,
          109951.7
         ]
        },
        {
         "line": {
          "color": "blue",
          "width": 2
         },
         "mode": "lines",
         "name": "ZigZag",
         "showlegend": false,
         "type": "scatter",
         "x": [
          "2025-01-20T00:00:00",
          "2025-02-24T00:00:00"
         ],
         "y": [
          109951.7,
          78210.5
         ]
        },
        {
         "line": {
          "color": "blue",
          "width": 2
         },
         "mode": "lines",
         "name": "ZigZag",
         "showlegend": false,
         "type": "scatter",
         "x": [
          "2025-02-24T00:00:00",
          "2025-03-03T00:00:00"
         ],
         "y": [
          78210.5,
          94414.2
         ]
        },
        {
         "line": {
          "color": "blue",
          "width": 2
         },
         "mode": "lines",
         "name": "ZigZag",
         "showlegend": false,
         "type": "scatter",
         "x": [
          "2025-03-03T00:00:00",
          "2025-03-10T00:00:00"
         ],
         "y": [
          94414.2,
          76545
         ]
        },
        {
         "line": {
          "color": "blue",
          "width": 2
         },
         "mode": "lines",
         "name": "ZigZag",
         "showlegend": false,
         "type": "scatter",
         "x": [
          "2025-03-10T00:00:00",
          "2025-03-24T00:00:00"
         ],
         "y": [
          76545,
          88740
         ]
        },
        {
         "line": {
          "color": "blue",
          "width": 2
         },
         "mode": "lines",
         "name": "ZigZag",
         "showlegend": false,
         "type": "scatter",
         "x": [
          "2025-03-24T00:00:00",
          "2025-04-07T00:00:00"
         ],
         "y": [
          88740,
          74456.2
         ]
        },
        {
         "line": {
          "color": "blue",
          "width": 2
         },
         "mode": "lines",
         "name": "ZigZag",
         "showlegend": false,
         "type": "scatter",
         "x": [
          "2025-04-07T00:00:00",
          "2025-05-19T00:00:00"
         ],
         "y": [
          74456.2,
          111968
         ]
        },
        {
         "line": {
          "color": "blue",
          "width": 2
         },
         "mode": "lines",
         "name": "ZigZag",
         "showlegend": false,
         "type": "scatter",
         "x": [
          "2025-05-19T00:00:00",
          "2025-06-02T00:00:00"
         ],
         "y": [
          111968,
          100350
         ]
        },
        {
         "line": {
          "color": "blue",
          "width": 2
         },
         "mode": "lines",
         "name": "ZigZag",
         "showlegend": false,
         "type": "scatter",
         "x": [
          "2025-06-02T00:00:00",
          "2025-06-09T00:00:00"
         ],
         "y": [
          100350,
          110660.8
         ]
        },
        {
         "line": {
          "color": "blue",
          "width": 2
         },
         "mode": "lines",
         "name": "ZigZag",
         "showlegend": false,
         "type": "scatter",
         "x": [
          "2025-06-09T00:00:00",
          "2025-06-16T00:00:00"
         ],
         "y": [
          110660.8,
          98125
         ]
        },
        {
         "line": {
          "color": "blue",
          "width": 2
         },
         "mode": "lines",
         "name": "ZigZag",
         "showlegend": false,
         "type": "scatter",
         "x": [
          "2025-06-16T00:00:00",
          "2025-08-11T00:00:00"
         ],
         "y": [
          98125,
          124571.2
         ]
        },
        {
         "line": {
          "color": "blue",
          "width": 2
         },
         "mode": "lines",
         "name": "ZigZag",
         "showlegend": false,
         "type": "scatter",
         "x": [
          "2025-08-11T00:00:00",
          "2025-09-01T00:00:00"
         ],
         "y": [
          124571.2,
          107202
         ]
        },
        {
         "line": {
          "color": "blue",
          "width": 2
         },
         "mode": "lines",
         "name": "ZigZag",
         "showlegend": false,
         "type": "scatter",
         "x": [
          "2025-09-01T00:00:00",
          "2025-09-29T00:00:00"
         ],
         "y": [
          107202,
          118150
         ]
        },
        {
         "marker": {
          "color": "red",
          "size": 10
         },
         "mode": "markers",
         "name": "Pivot low",
         "showlegend": false,
         "type": "scatter",
         "x": [
          "2020-03-30T00:00:00"
         ],
         "y": [
          5841.5
         ]
        },
        {
         "marker": {
          "color": "red",
          "size": 10
         },
         "mode": "markers",
         "name": "Pivot high",
         "showlegend": false,
         "type": "scatter",
         "x": [
          "2020-04-06T00:00:00"
         ],
         "y": [
          7458.5
         ]
        },
        {
         "marker": {
          "color": "red",
          "size": 10
         },
         "mode": "markers",
         "name": "Pivot low",
         "showlegend": false,
         "type": "scatter",
         "x": [
          "2020-04-13T00:00:00"
         ],
         "y": [
          6465.5
         ]
        },
        {
         "marker": {
          "color": "red",
          "size": 10
         },
         "mode": "markers",
         "name": "Pivot high",
         "showlegend": false,
         "type": "scatter",
         "x": [
          "2020-05-04T00:00:00"
         ],
         "y": [
          10059.5
         ]
        },
        {
         "marker": {
          "color": "red",
          "size": 10
         },
         "mode": "markers",
         "name": "Pivot low",
         "showlegend": false,
         "type": "scatter",
         "x": [
          "2020-05-04T00:00:00"
         ],
         "y": [
          8153
         ]
        },
        {
         "marker": {
          "color": "red",
          "size": 10
         },
         "mode": "markers",
         "name": "Pivot high",
         "showlegend": false,
         "type": "scatter",
         "x": [
          "2020-05-18T00:00:00"
         ],
         "y": [
          9957.5
         ]
        },
        {
         "marker": {
          "color": "red",
          "size": 10
         },
         "mode": "markers",
         "name": "Pivot low",
         "showlegend": false,
         "type": "scatter",
         "x": [
          "2020-05-25T00:00:00"
         ],
         "y": [
          8640.5
         ]
        },
        {
         "marker": {
          "color": "red",
          "size": 10
         },
         "mode": "markers",
         "name": "Pivot high",
         "showlegend": false,
         "type": "scatter",
         "x": [
          "2020-06-01T00:00:00"
         ],
         "y": [
          10352
         ]
        },
        {
         "marker": {
          "color": "red",
          "size": 10
         },
         "mode": "markers",
         "name": "Pivot low",
         "showlegend": false,
         "type": "scatter",
         "x": [
          "2020-06-22T00:00:00"
         ],
         "y": [
          8840
         ]
        },
        {
         "marker": {
          "color": "red",
          "size": 10
         },
         "mode": "markers",
         "name": "Pivot high",
         "showlegend": false,
         "type": "scatter",
         "x": [
          "2020-07-27T00:00:00"
         ],
         "y": [
          12113.5
         ]
        },
        {
         "marker": {
          "color": "red",
          "size": 10
         },
         "mode": "markers",
         "name": "Pivot low",
         "showlegend": false,
         "type": "scatter",
         "x": [
          "2020-08-03T00:00:00"
         ],
         "y": [
          10943.5
         ]
        },
        {
         "marker": {
          "color": "red",
          "size": 10
         },
         "mode": "markers",
         "name": "Pivot high",
         "showlegend": false,
         "type": "scatter",
         "x": [
          "2020-08-17T00:00:00"
         ],
         "y": [
          12499.5
         ]
        },
        {
         "marker": {
          "color": "red",
          "size": 10
         },
         "mode": "markers",
         "name": "Pivot low",
         "showlegend": false,
         "type": "scatter",
         "x": [
          "2020-08-31T00:00:00"
         ],
         "y": [
          9834
         ]
        },
        {
         "marker": {
          "color": "red",
          "size": 10
         },
         "mode": "markers",
         "name": "Pivot high",
         "showlegend": false,
         "type": "scatter",
         "x": [
          "2020-11-30T00:00:00"
         ],
         "y": [
          19948
         ]
        },
        {
         "marker": {
          "color": "red",
          "size": 10
         },
         "mode": "markers",
         "name": "Pivot low",
         "showlegend": false,
         "type": "scatter",
         "x": [
          "2020-12-07T00:00:00"
         ],
         "y": [
          17567
         ]
        },
        {
         "marker": {
          "color": "red",
          "size": 10
         },
         "mode": "markers",
         "name": "Pivot high",
         "showlegend": false,
         "type": "scatter",
         "x": [
          "2021-01-04T00:00:00"
         ],
         "y": [
          42100
         ]
        },
        {
         "marker": {
          "color": "red",
          "size": 10
         },
         "mode": "markers",
         "name": "Pivot low",
         "showlegend": false,
         "type": "scatter",
         "x": [
          "2021-01-18T00:00:00"
         ],
         "y": [
          28913.5
         ]
        },
        {
         "marker": {
          "color": "red",
          "size": 10
         },
         "mode": "markers",
         "name": "Pivot high",
         "showlegend": false,
         "type": "scatter",
         "x": [
          "2021-02-15T00:00:00"
         ],
         "y": [
          58399
         ]
        },
        {
         "marker": {
          "color": "red",
          "size": 10
         },
         "mode": "markers",
         "name": "Pivot low",
         "showlegend": false,
         "type": "scatter",
         "x": [
          "2021-02-22T00:00:00"
         ],
         "y": [
          43080
         ]
        },
        {
         "marker": {
          "color": "red",
          "size": 10
         },
         "mode": "markers",
         "name": "Pivot high",
         "showlegend": false,
         "type": "scatter",
         "x": [
          "2021-03-08T00:00:00"
         ],
         "y": [
          61939.5
         ]
        },
        {
         "marker": {
          "color": "red",
          "size": 10
         },
         "mode": "markers",
         "name": "Pivot low",
         "showlegend": false,
         "type": "scatter",
         "x": [
          "2021-03-22T00:00:00"
         ],
         "y": [
          50504
         ]
        },
        {
         "marker": {
          "color": "red",
          "size": 10
         },
         "mode": "markers",
         "name": "Pivot high",
         "showlegend": false,
         "type": "scatter",
         "x": [
          "2021-04-12T00:00:00"
         ],
         "y": [
          64943.5
         ]
        },
        {
         "marker": {
          "color": "red",
          "size": 10
         },
         "mode": "markers",
         "name": "Pivot low",
         "showlegend": false,
         "type": "scatter",
         "x": [
          "2021-04-19T00:00:00"
         ],
         "y": [
          47019
         ]
        },
        {
         "marker": {
          "color": "red",
          "size": 10
         },
         "mode": "markers",
         "name": "Pivot high",
         "showlegend": false,
         "type": "scatter",
         "x": [
          "2021-05-10T00:00:00"
         ],
         "y": [
          59586
         ]
        },
        {
         "marker": {
          "color": "red",
          "size": 10
         },
         "mode": "markers",
         "name": "Pivot low",
         "showlegend": false,
         "type": "scatter",
         "x": [
          "2021-05-17T00:00:00"
         ],
         "y": [
          28801
         ]
        },
        {
         "marker": {
          "color": "red",
          "size": 10
         },
         "mode": "markers",
         "name": "Pivot high",
         "showlegend": false,
         "type": "scatter",
         "x": [
          "2021-05-24T00:00:00"
         ],
         "y": [
          40871
         ]
        },
        {
         "marker": {
          "color": "red",
          "size": 10
         },
         "mode": "markers",
         "name": "Pivot low",
         "showlegend": false,
         "type": "scatter",
         "x": [
          "2021-06-07T00:00:00"
         ],
         "y": [
          30980
         ]
        },
        {
         "marker": {
          "color": "red",
          "size": 10
         },
         "mode": "markers",
         "name": "Pivot high",
         "showlegend": false,
         "type": "scatter",
         "x": [
          "2021-06-14T00:00:00"
         ],
         "y": [
          41300
         ]
        },
        {
         "marker": {
          "color": "red",
          "size": 10
         },
         "mode": "markers",
         "name": "Pivot low",
         "showlegend": false,
         "type": "scatter",
         "x": [
          "2021-06-21T00:00:00"
         ],
         "y": [
          28774
         ]
        },
        {
         "marker": {
          "color": "red",
          "size": 10
         },
         "mode": "markers",
         "name": "Pivot high",
         "showlegend": false,
         "type": "scatter",
         "x": [
          "2021-06-28T00:00:00"
         ],
         "y": [
          36573
         ]
        },
        {
         "marker": {
          "color": "red",
          "size": 10
         },
         "mode": "markers",
         "name": "Pivot low",
         "showlegend": false,
         "type": "scatter",
         "x": [
          "2021-07-19T00:00:00"
         ],
         "y": [
          29272.5
         ]
        },
        {
         "marker": {
          "color": "red",
          "size": 10
         },
         "mode": "markers",
         "name": "Pivot high",
         "showlegend": false,
         "type": "scatter",
         "x": [
          "2021-09-06T00:00:00"
         ],
         "y": [
          52858
         ]
        },
        {
         "marker": {
          "color": "red",
          "size": 10
         },
         "mode": "markers",
         "name": "Pivot low",
         "showlegend": false,
         "type": "scatter",
         "x": [
          "2021-09-20T00:00:00"
         ],
         "y": [
          39520
         ]
        },
        {
         "marker": {
          "color": "red",
          "size": 10
         },
         "mode": "markers",
         "name": "Pivot high",
         "showlegend": false,
         "type": "scatter",
         "x": [
          "2021-10-18T00:00:00"
         ],
         "y": [
          67210
         ]
        },
        {
         "marker": {
          "color": "red",
          "size": 10
         },
         "mode": "markers",
         "name": "Pivot low",
         "showlegend": false,
         "type": "scatter",
         "x": [
          "2021-10-25T00:00:00"
         ],
         "y": [
          57476
         ]
        },
        {
         "marker": {
          "color": "red",
          "size": 10
         },
         "mode": "markers",
         "name": "Pivot high",
         "showlegend": false,
         "type": "scatter",
         "x": [
          "2021-11-08T00:00:00"
         ],
         "y": [
          69138.5
         ]
        },
        {
         "marker": {
          "color": "red",
          "size": 10
         },
         "mode": "markers",
         "name": "Pivot low",
         "showlegend": false,
         "type": "scatter",
         "x": [
          "2021-11-29T00:00:00"
         ],
         "y": [
          40829
         ]
        },
        {
         "marker": {
          "color": "red",
          "size": 10
         },
         "mode": "markers",
         "name": "Pivot high",
         "showlegend": false,
         "type": "scatter",
         "x": [
          "2021-12-06T00:00:00"
         ],
         "y": [
          51923.5
         ]
        },
        {
         "marker": {
          "color": "red",
          "size": 10
         },
         "mode": "markers",
         "name": "Pivot low",
         "showlegend": false,
         "type": "scatter",
         "x": [
          "2021-12-13T00:00:00"
         ],
         "y": [
          45280
         ]
        },
        {
         "marker": {
          "color": "red",
          "size": 10
         },
         "mode": "markers",
         "name": "Pivot high",
         "showlegend": false,
         "type": "scatter",
         "x": [
          "2021-12-27T00:00:00"
         ],
         "y": [
          52119
         ]
        },
        {
         "marker": {
          "color": "red",
          "size": 10
         },
         "mode": "markers",
         "name": "Pivot low",
         "showlegend": false,
         "type": "scatter",
         "x": [
          "2022-01-24T00:00:00"
         ],
         "y": [
          32906
         ]
        },
        {
         "marker": {
          "color": "red",
          "size": 10
         },
         "mode": "markers",
         "name": "Pivot high",
         "showlegend": false,
         "type": "scatter",
         "x": [
          "2022-02-07T00:00:00"
         ],
         "y": [
          45924.5
         ]
        },
        {
         "marker": {
          "color": "red",
          "size": 10
         },
         "mode": "markers",
         "name": "Pivot low",
         "showlegend": false,
         "type": "scatter",
         "x": [
          "2022-02-21T00:00:00"
         ],
         "y": [
          34242.5
         ]
        },
        {
         "marker": {
          "color": "red",
          "size": 10
         },
         "mode": "markers",
         "name": "Pivot high",
         "showlegend": false,
         "type": "scatter",
         "x": [
          "2022-02-28T00:00:00"
         ],
         "y": [
          45372
         ]
        },
        {
         "marker": {
          "color": "red",
          "size": 10
         },
         "mode": "markers",
         "name": "Pivot low",
         "showlegend": false,
         "type": "scatter",
         "x": [
          "2022-03-07T00:00:00"
         ],
         "y": [
          37139
         ]
        },
        {
         "marker": {
          "color": "red",
          "size": 10
         },
         "mode": "markers",
         "name": "Pivot high",
         "showlegend": false,
         "type": "scatter",
         "x": [
          "2022-03-28T00:00:00"
         ],
         "y": [
          48185
         ]
        },
        {
         "marker": {
          "color": "red",
          "size": 10
         },
         "mode": "markers",
         "name": "Pivot low",
         "showlegend": false,
         "type": "scatter",
         "x": [
          "2022-05-09T00:00:00"
         ],
         "y": [
          26536
         ]
        },
        {
         "marker": {
          "color": "red",
          "size": 10
         },
         "mode": "markers",
         "name": "Pivot high",
         "showlegend": false,
         "type": "scatter",
         "x": [
          "2022-05-16T00:00:00"
         ],
         "y": [
          31315.5
         ]
        },
        {
         "marker": {
          "color": "red",
          "size": 10
         },
         "mode": "markers",
         "name": "Pivot low",
         "showlegend": false,
         "type": "scatter",
         "x": [
          "2022-05-23T00:00:00"
         ],
         "y": [
          27950
         ]
        },
        {
         "marker": {
          "color": "red",
          "size": 10
         },
         "mode": "markers",
         "name": "Pivot high",
         "showlegend": false,
         "type": "scatter",
         "x": [
          "2022-05-30T00:00:00"
         ],
         "y": [
          32450
         ]
        },
        {
         "marker": {
          "color": "red",
          "size": 10
         },
         "mode": "markers",
         "name": "Pivot low",
         "showlegend": false,
         "type": "scatter",
         "x": [
          "2022-06-13T00:00:00"
         ],
         "y": [
          17600
         ]
        },
        {
         "marker": {
          "color": "red",
          "size": 10
         },
         "mode": "markers",
         "name": "Pivot high",
         "showlegend": false,
         "type": "scatter",
         "x": [
          "2022-06-20T00:00:00"
         ],
         "y": [
          21880
         ]
        },
        {
         "marker": {
          "color": "red",
          "size": 10
         },
         "mode": "markers",
         "name": "Pivot low",
         "showlegend": false,
         "type": "scatter",
         "x": [
          "2022-06-27T00:00:00"
         ],
         "y": [
          18601
         ]
        },
        {
         "marker": {
          "color": "red",
          "size": 10
         },
         "mode": "markers",
         "name": "Pivot high",
         "showlegend": false,
         "type": "scatter",
         "x": [
          "2022-07-04T00:00:00"
         ],
         "y": [
          22600
         ]
        },
        {
         "marker": {
          "color": "red",
          "size": 10
         },
         "mode": "markers",
         "name": "Pivot low",
         "showlegend": false,
         "type": "scatter",
         "x": [
          "2022-07-11T00:00:00"
         ],
         "y": [
          18867.5
         ]
        },
        {
         "marker": {
          "color": "red",
          "size": 10
         },
         "mode": "markers",
         "name": "Pivot high",
         "showlegend": false,
         "type": "scatter",
         "x": [
          "2022-08-15T00:00:00"
         ],
         "y": [
          25199
         ]
        },
        {
         "marker": {
          "color": "red",
          "size": 10
         },
         "mode": "markers",
         "name": "Pivot low",
         "showlegend": false,
         "type": "scatter",
         "x": [
          "2022-09-05T00:00:00"
         ],
         "y": [
          18451
         ]
        },
        {
         "marker": {
          "color": "red",
          "size": 10
         },
         "mode": "markers",
         "name": "Pivot high",
         "showlegend": false,
         "type": "scatter",
         "x": [
          "2022-09-12T00:00:00"
         ],
         "y": [
          22794
         ]
        },
        {
         "marker": {
          "color": "red",
          "size": 10
         },
         "mode": "markers",
         "name": "Pivot low",
         "showlegend": false,
         "type": "scatter",
         "x": [
          "2022-09-19T00:00:00"
         ],
         "y": [
          18100
         ]
        },
        {
         "marker": {
          "color": "red",
          "size": 10
         },
         "mode": "markers",
         "name": "Pivot high",
         "showlegend": false,
         "type": "scatter",
         "x": [
          "2022-10-03T00:00:00"
         ],
         "y": [
          20451
         ]
        },
        {
         "marker": {
          "color": "red",
          "size": 10
         },
         "mode": "markers",
         "name": "Pivot low",
         "showlegend": false,
         "type": "scatter",
         "x": [
          "2022-10-10T00:00:00"
         ],
         "y": [
          18071
         ]
        },
        {
         "marker": {
          "color": "red",
          "size": 10
         },
         "mode": "markers",
         "name": "Pivot high",
         "showlegend": false,
         "type": "scatter",
         "x": [
          "2022-10-31T00:00:00"
         ],
         "y": [
          21470
         ]
        },
        {
         "marker": {
          "color": "red",
          "size": 10
         },
         "mode": "markers",
         "name": "Pivot low",
         "showlegend": false,
         "type": "scatter",
         "x": [
          "2022-11-07T00:00:00"
         ],
         "y": [
          15460.5
         ]
        },
        {
         "marker": {
          "color": "red",
          "size": 10
         },
         "mode": "markers",
         "name": "Pivot high",
         "showlegend": false,
         "type": "scatter",
         "x": [
          "2022-11-14T00:00:00"
         ],
         "y": [
          17213
         ]
        },
        {
         "marker": {
          "color": "red",
          "size": 10
         },
         "mode": "markers",
         "name": "Pivot low",
         "showlegend": false,
         "type": "scatter",
         "x": [
          "2022-11-21T00:00:00"
         ],
         "y": [
          15440
         ]
        },
        {
         "marker": {
          "color": "red",
          "size": 10
         },
         "mode": "markers",
         "name": "Pivot high",
         "showlegend": false,
         "type": "scatter",
         "x": [
          "2022-12-12T00:00:00"
         ],
         "y": [
          18379
         ]
        },
        {
         "marker": {
          "color": "red",
          "size": 10
         },
         "mode": "markers",
         "name": "Pivot low",
         "showlegend": false,
         "type": "scatter",
         "x": [
          "2022-12-19T00:00:00"
         ],
         "y": [
          16203
         ]
        },
        {
         "marker": {
          "color": "red",
          "size": 10
         },
         "mode": "markers",
         "name": "Pivot high",
         "showlegend": false,
         "type": "scatter",
         "x": [
          "2023-01-30T00:00:00"
         ],
         "y": [
          24280
         ]
        },
        {
         "marker": {
          "color": "red",
          "size": 10
         },
         "mode": "markers",
         "name": "Pivot low",
         "showlegend": false,
         "type": "scatter",
         "x": [
          "2023-02-13T00:00:00"
         ],
         "y": [
          21327.5
         ]
        },
        {
         "marker": {
          "color": "red",
          "size": 10
         },
         "mode": "markers",
         "name": "Pivot high",
         "showlegend": false,
         "type": "scatter",
         "x": [
          "2023-02-13T00:00:00"
         ],
         "y": [
          25296.1
         ]
        },
        {
         "marker": {
          "color": "red",
          "size": 10
         },
         "mode": "markers",
         "name": "Pivot low",
         "showlegend": false,
         "type": "scatter",
         "x": [
          "2023-03-06T00:00:00"
         ],
         "y": [
          19535
         ]
        },
        {
         "marker": {
          "color": "red",
          "size": 10
         },
         "mode": "markers",
         "name": "Pivot high",
         "showlegend": false,
         "type": "scatter",
         "x": [
          "2023-04-10T00:00:00"
         ],
         "y": [
          31061.7
         ]
        },
        {
         "marker": {
          "color": "red",
          "size": 10
         },
         "mode": "markers",
         "name": "Pivot low",
         "showlegend": false,
         "type": "scatter",
         "x": [
          "2023-04-24T00:00:00"
         ],
         "y": [
          26933
         ]
        },
        {
         "marker": {
          "color": "red",
          "size": 10
         },
         "mode": "markers",
         "name": "Pivot high",
         "showlegend": false,
         "type": "scatter",
         "x": [
          "2023-04-24T00:00:00"
         ],
         "y": [
          30062
         ]
        },
        {
         "marker": {
          "color": "red",
          "size": 10
         },
         "mode": "markers",
         "name": "Pivot low",
         "showlegend": false,
         "type": "scatter",
         "x": [
          "2023-05-08T00:00:00"
         ],
         "y": [
          25764
         ]
        },
        {
         "marker": {
          "color": "red",
          "size": 10
         },
         "mode": "markers",
         "name": "Pivot high",
         "showlegend": false,
         "type": "scatter",
         "x": [
          "2023-05-29T00:00:00"
         ],
         "y": [
          28449
         ]
        },
        {
         "marker": {
          "color": "red",
          "size": 10
         },
         "mode": "markers",
         "name": "Pivot low",
         "showlegend": false,
         "type": "scatter",
         "x": [
          "2023-06-12T00:00:00"
         ],
         "y": [
          24779.5
         ]
        },
        {
         "marker": {
          "color": "red",
          "size": 10
         },
         "mode": "markers",
         "name": "Pivot high",
         "showlegend": false,
         "type": "scatter",
         "x": [
          "2023-07-10T00:00:00"
         ],
         "y": [
          31843.9
         ]
        },
        {
         "marker": {
          "color": "red",
          "size": 10
         },
         "mode": "markers",
         "name": "Pivot low",
         "showlegend": false,
         "type": "scatter",
         "x": [
          "2023-08-14T00:00:00"
         ],
         "y": [
          24200.9
         ]
        },
        {
         "marker": {
          "color": "red",
          "size": 10
         },
         "mode": "markers",
         "name": "Pivot high",
         "showlegend": false,
         "type": "scatter",
         "x": [
          "2023-08-28T00:00:00"
         ],
         "y": [
          28140.8
         ]
        },
        {
         "marker": {
          "color": "red",
          "size": 10
         },
         "mode": "markers",
         "name": "Pivot low",
         "showlegend": false,
         "type": "scatter",
         "x": [
          "2023-09-11T00:00:00"
         ],
         "y": [
          24853.4
         ]
        },
        {
         "marker": {
          "color": "red",
          "size": 10
         },
         "mode": "markers",
         "name": "Pivot high",
         "showlegend": false,
         "type": "scatter",
         "x": [
          "2023-12-04T00:00:00"
         ],
         "y": [
          44777
         ]
        },
        {
         "marker": {
          "color": "red",
          "size": 10
         },
         "mode": "markers",
         "name": "Pivot low",
         "showlegend": false,
         "type": "scatter",
         "x": [
          "2023-12-11T00:00:00"
         ],
         "y": [
          40167.7
         ]
        },
        {
         "marker": {
          "color": "red",
          "size": 10
         },
         "mode": "markers",
         "name": "Pivot high",
         "showlegend": false,
         "type": "scatter",
         "x": [
          "2024-01-08T00:00:00"
         ],
         "y": [
          49054.4
         ]
        },
        {
         "marker": {
          "color": "red",
          "size": 10
         },
         "mode": "markers",
         "name": "Pivot low",
         "showlegend": false,
         "type": "scatter",
         "x": [
          "2024-01-22T00:00:00"
         ],
         "y": [
          38531.5
         ]
        },
        {
         "marker": {
          "color": "red",
          "size": 10
         },
         "mode": "markers",
         "name": "Pivot high",
         "showlegend": false,
         "type": "scatter",
         "x": [
          "2024-03-11T00:00:00"
         ],
         "y": [
          73949
         ]
        },
        {
         "marker": {
          "color": "red",
          "size": 10
         },
         "mode": "markers",
         "name": "Pivot low",
         "showlegend": false,
         "type": "scatter",
         "x": [
          "2024-03-18T00:00:00"
         ],
         "y": [
          60761.2
         ]
        },
        {
         "marker": {
          "color": "red",
          "size": 10
         },
         "mode": "markers",
         "name": "Pivot high",
         "showlegend": false,
         "type": "scatter",
         "x": [
          "2024-04-08T00:00:00"
         ],
         "y": [
          72854.5
         ]
        },
        {
         "marker": {
          "color": "red",
          "size": 10
         },
         "mode": "markers",
         "name": "Pivot low",
         "showlegend": false,
         "type": "scatter",
         "x": [
          "2024-04-15T00:00:00"
         ],
         "y": [
          59521.7
         ]
        },
        {
         "marker": {
          "color": "red",
          "size": 10
         },
         "mode": "markers",
         "name": "Pivot high",
         "showlegend": false,
         "type": "scatter",
         "x": [
          "2024-04-22T00:00:00"
         ],
         "y": [
          67198.9
         ]
        },
        {
         "marker": {
          "color": "red",
          "size": 10
         },
         "mode": "markers",
         "name": "Pivot low",
         "showlegend": false,
         "type": "scatter",
         "x": [
          "2024-04-29T00:00:00"
         ],
         "y": [
          56505
         ]
        },
        {
         "marker": {
          "color": "red",
          "size": 10
         },
         "mode": "markers",
         "name": "Pivot high",
         "showlegend": false,
         "type": "scatter",
         "x": [
          "2024-06-03T00:00:00"
         ],
         "y": [
          72169
         ]
        },
        {
         "marker": {
          "color": "red",
          "size": 10
         },
         "mode": "markers",
         "name": "Pivot low",
         "showlegend": false,
         "type": "scatter",
         "x": [
          "2024-07-01T00:00:00"
         ],
         "y": [
          53314.3
         ]
        },
        {
         "marker": {
          "color": "red",
          "size": 10
         },
         "mode": "markers",
         "name": "Pivot high",
         "showlegend": false,
         "type": "scatter",
         "x": [
          "2024-07-29T00:00:00"
         ],
         "y": [
          70136.9
         ]
        },
        {
         "marker": {
          "color": "red",
          "size": 10
         },
         "mode": "markers",
         "name": "Pivot low",
         "showlegend": false,
         "type": "scatter",
         "x": [
          "2024-08-05T00:00:00"
         ],
         "y": [
          48914.1
         ]
        },
        {
         "marker": {
          "color": "red",
          "size": 10
         },
         "mode": "markers",
         "name": "Pivot high",
         "showlegend": false,
         "type": "scatter",
         "x": [
          "2024-08-19T00:00:00"
         ],
         "y": [
          65041.9
         ]
        },
        {
         "marker": {
          "color": "red",
          "size": 10
         },
         "mode": "markers",
         "name": "Pivot low",
         "showlegend": false,
         "type": "scatter",
         "x": [
          "2024-09-02T00:00:00"
         ],
         "y": [
          52500.2
         ]
        },
        {
         "marker": {
          "color": "red",
          "size": 10
         },
         "mode": "markers",
         "name": "Pivot high",
         "showlegend": false,
         "type": "scatter",
         "x": [
          "2024-09-23T00:00:00"
         ],
         "y": [
          66520
         ]
        },
        {
         "marker": {
          "color": "red",
          "size": 10
         },
         "mode": "markers",
         "name": "Pivot low",
         "showlegend": false,
         "type": "scatter",
         "x": [
          "2024-10-07T00:00:00"
         ],
         "y": [
          58900
         ]
        },
        {
         "marker": {
          "color": "red",
          "size": 10
         },
         "mode": "markers",
         "name": "Pivot high",
         "showlegend": false,
         "type": "scatter",
         "x": [
          "2024-12-16T00:00:00"
         ],
         "y": [
          108421.6
         ]
        },
        {
         "marker": {
          "color": "red",
          "size": 10
         },
         "mode": "markers",
         "name": "Pivot low",
         "showlegend": false,
         "type": "scatter",
         "x": [
          "2025-01-13T00:00:00"
         ],
         "y": [
          89100
         ]
        },
        {
         "marker": {
          "color": "red",
          "size": 10
         },
         "mode": "markers",
         "name": "Pivot high",
         "showlegend": false,
         "type": "scatter",
         "x": [
          "2025-01-20T00:00:00"
         ],
         "y": [
          109951.7
         ]
        },
        {
         "marker": {
          "color": "red",
          "size": 10
         },
         "mode": "markers",
         "name": "Pivot low",
         "showlegend": false,
         "type": "scatter",
         "x": [
          "2025-02-24T00:00:00"
         ],
         "y": [
          78210.5
         ]
        },
        {
         "marker": {
          "color": "red",
          "size": 10
         },
         "mode": "markers",
         "name": "Pivot high",
         "showlegend": false,
         "type": "scatter",
         "x": [
          "2025-03-03T00:00:00"
         ],
         "y": [
          94414.2
         ]
        },
        {
         "marker": {
          "color": "red",
          "size": 10
         },
         "mode": "markers",
         "name": "Pivot low",
         "showlegend": false,
         "type": "scatter",
         "x": [
          "2025-03-10T00:00:00"
         ],
         "y": [
          76545
         ]
        },
        {
         "marker": {
          "color": "red",
          "size": 10
         },
         "mode": "markers",
         "name": "Pivot high",
         "showlegend": false,
         "type": "scatter",
         "x": [
          "2025-03-24T00:00:00"
         ],
         "y": [
          88740
         ]
        },
        {
         "marker": {
          "color": "red",
          "size": 10
         },
         "mode": "markers",
         "name": "Pivot low",
         "showlegend": false,
         "type": "scatter",
         "x": [
          "2025-04-07T00:00:00"
         ],
         "y": [
          74456.2
         ]
        },
        {
         "marker": {
          "color": "red",
          "size": 10
         },
         "mode": "markers",
         "name": "Pivot high",
         "showlegend": false,
         "type": "scatter",
         "x": [
          "2025-05-19T00:00:00"
         ],
         "y": [
          111968
         ]
        },
        {
         "marker": {
          "color": "red",
          "size": 10
         },
         "mode": "markers",
         "name": "Pivot low",
         "showlegend": false,
         "type": "scatter",
         "x": [
          "2025-06-02T00:00:00"
         ],
         "y": [
          100350
         ]
        },
        {
         "marker": {
          "color": "red",
          "size": 10
         },
         "mode": "markers",
         "name": "Pivot high",
         "showlegend": false,
         "type": "scatter",
         "x": [
          "2025-06-09T00:00:00"
         ],
         "y": [
          110660.8
         ]
        },
        {
         "marker": {
          "color": "red",
          "size": 10
         },
         "mode": "markers",
         "name": "Pivot low",
         "showlegend": false,
         "type": "scatter",
         "x": [
          "2025-06-16T00:00:00"
         ],
         "y": [
          98125
         ]
        },
        {
         "marker": {
          "color": "red",
          "size": 10
         },
         "mode": "markers",
         "name": "Pivot high",
         "showlegend": false,
         "type": "scatter",
         "x": [
          "2025-08-11T00:00:00"
         ],
         "y": [
          124571.2
         ]
        },
        {
         "marker": {
          "color": "red",
          "size": 10
         },
         "mode": "markers",
         "name": "Pivot low",
         "showlegend": false,
         "type": "scatter",
         "x": [
          "2025-09-01T00:00:00"
         ],
         "y": [
          107202
         ]
        },
        {
         "marker": {
          "color": "red",
          "size": 10
         },
         "mode": "markers",
         "name": "Pivot high",
         "showlegend": false,
         "type": "scatter",
         "x": [
          "2025-09-29T00:00:00"
         ],
         "y": [
          118150
         ]
        },
        {
         "line": {
          "color": "orange",
          "dash": "dash",
          "width": 2
         },
         "mode": "lines",
         "name": "channel_lower_line",
         "showlegend": true,
         "type": "scatter",
         "x": [
          "2020-03-30T00:00:00",
          "2025-09-29T00:00:00"
         ],
         "y": [
          5841.5,
          45555.82536048691
         ]
        },
        {
         "line": {
          "color": "orange",
          "dash": "dash",
          "width": 2
         },
         "mode": "lines",
         "name": "channel_upper_line",
         "showlegend": true,
         "type": "scatter",
         "x": [
          "2020-03-30T00:00:00",
          "2025-09-29T00:00:00"
         ],
         "y": [
          37900.16177676541,
          243300.9
         ]
        },
        {
         "line": {
          "color": "orange",
          "dash": "dash",
          "width": 2
         },
         "mode": "lines",
         "name": "line_close_W",
         "showlegend": true,
         "type": "scatter",
         "x": [
          "2020-03-23T00:00:00",
          "2025-09-29T00:00:00"
         ],
         "y": [
          5873,
          5873
         ]
        },
        {
         "line": {
          "color": "orange",
          "dash": "dash",
          "width": 2
         },
         "mode": "lines",
         "name": "line_close_W",
         "showlegend": true,
         "type": "scatter",
         "x": [
          "2020-05-18T00:00:00",
          "2025-09-29T00:00:00"
         ],
         "y": [
          8710,
          8710
         ]
        },
        {
         "line": {
          "color": "orange",
          "dash": "dash",
          "width": 2
         },
         "mode": "lines",
         "name": "line_close_W",
         "showlegend": true,
         "type": "scatter",
         "x": [
          "2020-07-13T00:00:00",
          "2025-09-29T00:00:00"
         ],
         "y": [
          9203,
          9203
         ]
        },
        {
         "line": {
          "color": "orange",
          "dash": "dash",
          "width": 2
         },
         "mode": "lines",
         "name": "line_close_W",
         "showlegend": true,
         "type": "scatter",
         "x": [
          "2020-09-28T00:00:00",
          "2025-09-29T00:00:00"
         ],
         "y": [
          10666,
          10666
         ]
        },
        {
         "line": {
          "color": "orange",
          "dash": "dash",
          "width": 2
         },
         "mode": "lines",
         "name": "line_close_W",
         "showlegend": true,
         "type": "scatter",
         "x": [
          "2022-12-26T00:00:00",
          "2025-09-29T00:00:00"
         ],
         "y": [
          16622.5,
          16622.5
         ]
        },
        {
         "line": {
          "color": "orange",
          "dash": "dash",
          "width": 2
         },
         "mode": "lines",
         "name": "line_close_W",
         "showlegend": true,
         "type": "scatter",
         "x": [
          "2023-03-06T00:00:00",
          "2025-09-29T00:00:00"
         ],
         "y": [
          21978.9,
          21978.9
         ]
        },
        {
         "line": {
          "color": "orange",
          "dash": "dash",
          "width": 2
         },
         "mode": "lines",
         "name": "line_close_W",
         "showlegend": true,
         "type": "scatter",
         "x": [
          "2023-09-04T00:00:00",
          "2025-09-29T00:00:00"
         ],
         "y": [
          25826.4,
          25826.4
         ]
        },
        {
         "line": {
          "color": "orange",
          "dash": "dash",
          "width": 2
         },
         "mode": "lines",
         "name": "line_close_W",
         "showlegend": true,
         "type": "scatter",
         "x": [
          "2023-09-18T00:00:00",
          "2025-09-29T00:00:00"
         ],
         "y": [
          26232.9,
          26232.9
         ]
        },
        {
         "line": {
          "color": "orange",
          "dash": "dash",
          "width": 2
         },
         "mode": "lines",
         "name": "line_close_W",
         "showlegend": true,
         "type": "scatter",
         "x": [
          "2023-10-09T00:00:00",
          "2025-09-29T00:00:00"
         ],
         "y": [
          27139.3,
          27139.3
         ]
        },
        {
         "line": {
          "color": "orange",
          "dash": "dash",
          "width": 2
         },
         "mode": "lines",
         "name": "line_close_W",
         "showlegend": true,
         "type": "scatter",
         "x": [
          "2024-01-15T00:00:00",
          "2025-09-29T00:00:00"
         ],
         "y": [
          41585.6,
          41585.6
         ]
        },
        {
         "line": {
          "color": "orange",
          "dash": "dash",
          "width": 2
         },
         "mode": "lines",
         "name": "line_close_W",
         "showlegend": true,
         "type": "scatter",
         "x": [
          "2024-09-02T00:00:00",
          "2025-09-29T00:00:00"
         ],
         "y": [
          54850,
          54850
         ]
        },
        {
         "line": {
          "color": "orange",
          "dash": "dash",
          "width": 2
         },
         "mode": "lines",
         "name": "line_close_W",
         "showlegend": true,
         "type": "scatter",
         "x": [
          "2025-03-31T00:00:00",
          "2025-09-29T00:00:00"
         ],
         "y": [
          78376.1,
          78376.1
         ]
        },
        {
         "line": {
          "color": "orange",
          "dash": "dash",
          "width": 2
         },
         "mode": "lines",
         "name": "line_close_W",
         "showlegend": true,
         "type": "scatter",
         "x": [
          "2025-06-16T00:00:00",
          "2025-09-29T00:00:00"
         ],
         "y": [
          100904.3,
          100904.3
         ]
        },
        {
         "line": {
          "color": "orange",
          "dash": "dash",
          "width": 2
         },
         "mode": "lines",
         "name": "line_close_W",
         "showlegend": true,
         "type": "scatter",
         "x": [
          "2025-08-04T00:00:00",
          "2025-09-29T00:00:00"
         ],
         "y": [
          119271.8,
          119271.8
         ]
        },
        {
         "line": {
          "color": "orange",
          "dash": "dash",
          "width": 2
         },
         "mode": "lines",
         "name": "line_close_W",
         "showlegend": true,
         "type": "scatter",
         "x": [
          "2025-08-25T00:00:00",
          "2025-09-29T00:00:00"
         ],
         "y": [
          108200,
          108200
         ]
        },
        {
         "line": {
          "color": "orange",
          "dash": "dash",
          "width": 2
         },
         "mode": "lines",
         "name": "line_close_W",
         "showlegend": true,
         "type": "scatter",
         "x": [
          "2025-09-22T00:00:00",
          "2025-09-29T00:00:00"
         ],
         "y": [
          112133.5,
          112133.5
         ]
        },
        {
         "line": {
          "color": "orange",
          "dash": "dash",
          "width": 2
         },
         "mode": "lines",
         "name": "max_level_W",
         "showlegend": true,
         "type": "scatter",
         "x": [
          "2020-03-23T00:00:00",
          "2025-09-29T00:00:00"
         ],
         "y": [
          124571.2,
          124571.2
         ]
        },
        {
         "line": {
          "color": "orange",
          "dash": "dash",
          "width": 2
         },
         "mode": "lines",
         "name": "min_level_W",
         "showlegend": true,
         "type": "scatter",
         "x": [
          "2020-03-23T00:00:00",
          "2025-09-29T00:00:00"
         ],
         "y": [
          5841.5,
          5841.5
         ]
        },
        {
         "line": {
          "color": "deepskyblue",
          "dash": "dash",
          "width": 1
         },
         "mode": "lines",
         "name": "Volume Level",
         "showlegend": true,
         "type": "scatter",
         "x": [
          "2020-03-23T00:00:00",
          "2020-03-30T00:00:00"
         ],
         "y": [
          6771.000000000111,
          6771.000000000111
         ]
        },
        {
         "line": {
          "color": "deepskyblue",
          "dash": "dash",
          "width": 1
         },
         "mode": "lines",
         "name": "Volume Level",
         "showlegend": true,
         "type": "scatter",
         "x": [
          "2020-03-23T00:00:00",
          "2020-03-30T00:00:00"
         ],
         "y": [
          6767.4784313726595,
          6767.4784313726595
         ]
        },
        {
         "line": {
          "color": "deepskyblue",
          "dash": "dash",
          "width": 1
         },
         "mode": "lines",
         "name": "Volume Level",
         "showlegend": true,
         "type": "scatter",
         "x": [
          "2020-04-06T00:00:00",
          "2020-04-27T00:00:00"
         ],
         "y": [
          8902.81960784318,
          8902.81960784318
         ]
        },
        {
         "line": {
          "color": "deepskyblue",
          "dash": "dash",
          "width": 1
         },
         "mode": "lines",
         "name": "Volume Level",
         "showlegend": true,
         "type": "scatter",
         "x": [
          "2020-04-06T00:00:00",
          "2020-04-27T00:00:00"
         ],
         "y": [
          7112.12941176471,
          7112.12941176471
         ]
        },
        {
         "line": {
          "color": "deepskyblue",
          "dash": "dash",
          "width": 1
         },
         "mode": "lines",
         "name": "Volume Level",
         "showlegend": true,
         "type": "scatter",
         "x": [
          "2020-05-04T00:00:00",
          "2020-05-25T00:00:00"
         ],
         "y": [
          9451.725490195939,
          9451.725490195939
         ]
        },
        {
         "line": {
          "color": "deepskyblue",
          "dash": "dash",
          "width": 1
         },
         "mode": "lines",
         "name": "Volume Level",
         "showlegend": true,
         "type": "scatter",
         "x": [
          "2020-05-04T00:00:00",
          "2020-05-25T00:00:00"
         ],
         "y": [
          8721.352941176468,
          8721.352941176468
         ]
        },
        {
         "line": {
          "color": "deepskyblue",
          "dash": "dash",
          "width": 1
         },
         "mode": "lines",
         "name": "Volume Level",
         "showlegend": true,
         "type": "scatter",
         "x": [
          "2020-06-01T00:00:00",
          "2020-06-29T00:00:00"
         ],
         "y": [
          9743.6156862746,
          9743.6156862746
         ]
        },
        {
         "line": {
          "color": "deepskyblue",
          "dash": "dash",
          "width": 1
         },
         "mode": "lines",
         "name": "Volume Level",
         "showlegend": true,
         "type": "scatter",
         "x": [
          "2020-06-01T00:00:00",
          "2020-06-29T00:00:00"
         ],
         "y": [
          9118.466666666673,
          9118.466666666673
         ]
        },
        {
         "line": {
          "color": "deepskyblue",
          "dash": "dash",
          "width": 1
         },
         "mode": "lines",
         "name": "Volume Level",
         "showlegend": true,
         "type": "scatter",
         "x": [
          "2020-07-06T00:00:00",
          "2020-07-27T00:00:00"
         ],
         "y": [
          11080.333333333489,
          11080.333333333489
         ]
        },
        {
         "line": {
          "color": "deepskyblue",
          "dash": "dash",
          "width": 1
         },
         "mode": "lines",
         "name": "Volume Level",
         "showlegend": true,
         "type": "scatter",
         "x": [
          "2020-07-06T00:00:00",
          "2020-07-27T00:00:00"
         ],
         "y": [
          9921.666666666726,
          9921.666666666726
         ]
        },
        {
         "line": {
          "color": "deepskyblue",
          "dash": "dash",
          "width": 1
         },
         "mode": "lines",
         "name": "Volume Level",
         "showlegend": true,
         "type": "scatter",
         "x": [
          "2020-08-03T00:00:00",
          "2020-08-31T00:00:00"
         ],
         "y": [
          11921.005882353056,
          11921.005882353056
         ]
        },
        {
         "line": {
          "color": "deepskyblue",
          "dash": "dash",
          "width": 1
         },
         "mode": "lines",
         "name": "Volume Level",
         "showlegend": true,
         "type": "scatter",
         "x": [
          "2020-08-03T00:00:00",
          "2020-08-31T00:00:00"
         ],
         "y": [
          11654.26470588245,
          11654.26470588245
         ]
        },
        {
         "line": {
          "color": "deepskyblue",
          "dash": "dash",
          "width": 1
         },
         "mode": "lines",
         "name": "Volume Level",
         "showlegend": true,
         "type": "scatter",
         "x": [
          "2020-09-07T00:00:00",
          "2020-09-28T00:00:00"
         ],
         "y": [
          10911.999999999925,
          10911.999999999925
         ]
        },
        {
         "line": {
          "color": "deepskyblue",
          "dash": "dash",
          "width": 1
         },
         "mode": "lines",
         "name": "Volume Level",
         "showlegend": true,
         "type": "scatter",
         "x": [
          "2020-09-07T00:00:00",
          "2020-09-28T00:00:00"
         ],
         "y": [
          10320,
          10320
         ]
        },
        {
         "line": {
          "color": "deepskyblue",
          "dash": "dash",
          "width": 1
         },
         "mode": "lines",
         "name": "Volume Level",
         "showlegend": true,
         "type": "scatter",
         "x": [
          "2020-10-05T00:00:00",
          "2020-10-26T00:00:00"
         ],
         "y": [
          13759.317647058982,
          13759.317647058982
         ]
        },
        {
         "line": {
          "color": "deepskyblue",
          "dash": "dash",
          "width": 1
         },
         "mode": "lines",
         "name": "Volume Level",
         "showlegend": true,
         "type": "scatter",
         "x": [
          "2020-10-05T00:00:00",
          "2020-10-26T00:00:00"
         ],
         "y": [
          13023.223529411875,
          13023.223529411875
         ]
        },
        {
         "line": {
          "color": "deepskyblue",
          "dash": "dash",
          "width": 1
         },
         "mode": "lines",
         "name": "Volume Level",
         "showlegend": true,
         "type": "scatter",
         "x": [
          "2020-11-02T00:00:00",
          "2020-11-30T00:00:00"
         ],
         "y": [
          19381.233333333395,
          19381.233333333395
         ]
        },
        {
         "line": {
          "color": "deepskyblue",
          "dash": "dash",
          "width": 1
         },
         "mode": "lines",
         "name": "Volume Level",
         "showlegend": true,
         "type": "scatter",
         "x": [
          "2020-11-02T00:00:00",
          "2020-11-30T00:00:00"
         ],
         "y": [
          15938.500000000007,
          15938.500000000007
         ]
        },
        {
         "line": {
          "color": "deepskyblue",
          "dash": "dash",
          "width": 1
         },
         "mode": "lines",
         "name": "Volume Level",
         "showlegend": true,
         "type": "scatter",
         "x": [
          "2020-12-07T00:00:00",
          "2020-12-28T00:00:00"
         ],
         "y": [
          32962.999999999985,
          32962.999999999985
         ]
        },
        {
         "line": {
          "color": "deepskyblue",
          "dash": "dash",
          "width": 1
         },
         "mode": "lines",
         "name": "Volume Level",
         "showlegend": true,
         "type": "scatter",
         "x": [
          "2020-12-07T00:00:00",
          "2020-12-28T00:00:00"
         ],
         "y": [
          23447.956862745094,
          23447.956862745094
         ]
        },
        {
         "line": {
          "color": "deepskyblue",
          "dash": "dash",
          "width": 1
         },
         "mode": "lines",
         "name": "Volume Level",
         "showlegend": true,
         "type": "scatter",
         "x": [
          "2021-01-04T00:00:00",
          "2021-01-25T00:00:00"
         ],
         "y": [
          38169.49999999993,
          38169.49999999993
         ]
        },
        {
         "line": {
          "color": "deepskyblue",
          "dash": "dash",
          "width": 1
         },
         "mode": "lines",
         "name": "Volume Level",
         "showlegend": true,
         "type": "scatter",
         "x": [
          "2021-01-04T00:00:00",
          "2021-01-25T00:00:00"
         ],
         "y": [
          33110.42156862744,
          33110.42156862744
         ]
        },
        {
         "line": {
          "color": "deepskyblue",
          "dash": "dash",
          "width": 1
         },
         "mode": "lines",
         "name": "Volume Level",
         "showlegend": true,
         "type": "scatter",
         "x": [
          "2021-02-01T00:00:00",
          "2021-02-22T00:00:00"
         ],
         "y": [
          48690.29411764674,
          48690.29411764674
         ]
        },
        {
         "line": {
          "color": "deepskyblue",
          "dash": "dash",
          "width": 1
         },
         "mode": "lines",
         "name": "Volume Level",
         "showlegend": true,
         "type": "scatter",
         "x": [
          "2021-02-01T00:00:00",
          "2021-02-22T00:00:00"
         ],
         "y": [
          45109.73921568607,
          45109.73921568607
         ]
        },
        {
         "line": {
          "color": "deepskyblue",
          "dash": "dash",
          "width": 1
         },
         "mode": "lines",
         "name": "Volume Level",
         "showlegend": true,
         "type": "scatter",
         "x": [
          "2021-03-01T00:00:00",
          "2021-03-29T00:00:00"
         ],
         "y": [
          59067.99999999969,
          59067.99999999969
         ]
        },
        {
         "line": {
          "color": "deepskyblue",
          "dash": "dash",
          "width": 1
         },
         "mode": "lines",
         "name": "Volume Level",
         "showlegend": true,
         "type": "scatter",
         "x": [
          "2021-03-01T00:00:00",
          "2021-03-29T00:00:00"
         ],
         "y": [
          55755.70196078413,
          55755.70196078413
         ]
        },
        {
         "line": {
          "color": "deepskyblue",
          "dash": "dash",
          "width": 1
         },
         "mode": "lines",
         "name": "Volume Level",
         "showlegend": true,
         "type": "scatter",
         "x": [
          "2021-04-05T00:00:00",
          "2021-04-26T00:00:00"
         ],
         "y": [
          56622.249019608134,
          56622.249019608134
         ]
        },
        {
         "line": {
          "color": "deepskyblue",
          "dash": "dash",
          "width": 1
         },
         "mode": "lines",
         "name": "Volume Level",
         "showlegend": true,
         "type": "scatter",
         "x": [
          "2021-04-05T00:00:00",
          "2021-04-26T00:00:00"
         ],
         "y": [
          49022.5,
          49022.5
         ]
        },
        {
         "line": {
          "color": "deepskyblue",
          "dash": "dash",
          "width": 1
         },
         "mode": "lines",
         "name": "Volume Level",
         "showlegend": true,
         "type": "scatter",
         "x": [
          "2021-05-03T00:00:00",
          "2021-05-31T00:00:00"
         ],
         "y": [
          35860.24509803918,
          35860.24509803918
         ]
        },
        {
         "line": {
          "color": "deepskyblue",
          "dash": "dash",
          "width": 1
         },
         "mode": "lines",
         "name": "Volume Level",
         "showlegend": true,
         "type": "scatter",
         "x": [
          "2021-05-03T00:00:00",
          "2021-05-31T00:00:00"
         ],
         "y": [
          34658,
          34658
         ]
        },
        {
         "line": {
          "color": "deepskyblue",
          "dash": "dash",
          "width": 1
         },
         "mode": "lines",
         "name": "Volume Level",
         "showlegend": true,
         "type": "scatter",
         "x": [
          "2021-06-07T00:00:00",
          "2021-06-28T00:00:00"
         ],
         "y": [
          35302.57058823528,
          35302.57058823528
         ]
        },
        {
         "line": {
          "color": "deepskyblue",
          "dash": "dash",
          "width": 1
         },
         "mode": "lines",
         "name": "Volume Level",
         "showlegend": true,
         "type": "scatter",
         "x": [
          "2021-06-07T00:00:00",
          "2021-06-28T00:00:00"
         ],
         "y": [
          34690.5,
          34690.5
         ]
        },
        {
         "line": {
          "color": "deepskyblue",
          "dash": "dash",
          "width": 1
         },
         "mode": "lines",
         "name": "Volume Level",
         "showlegend": true,
         "type": "scatter",
         "x": [
          "2021-07-05T00:00:00",
          "2021-07-26T00:00:00"
         ],
         "y": [
          39836.49999999995,
          39836.49999999995
         ]
        },
        {
         "line": {
          "color": "deepskyblue",
          "dash": "dash",
          "width": 1
         },
         "mode": "lines",
         "name": "Volume Level",
         "showlegend": true,
         "type": "scatter",
         "x": [
          "2021-07-05T00:00:00",
          "2021-07-26T00:00:00"
         ],
         "y": [
          31748,
          31748
         ]
        },
        {
         "line": {
          "color": "deepskyblue",
          "dash": "dash",
          "width": 1
         },
         "mode": "lines",
         "name": "Volume Level",
         "showlegend": true,
         "type": "scatter",
         "x": [
          "2021-08-02T00:00:00",
          "2021-08-30T00:00:00"
         ],
         "y": [
          48753.11960784281,
          48753.11960784281
         ]
        },
        {
         "line": {
          "color": "deepskyblue",
          "dash": "dash",
          "width": 1
         },
         "mode": "lines",
         "name": "Volume Level",
         "showlegend": true,
         "type": "scatter",
         "x": [
          "2021-08-02T00:00:00",
          "2021-08-30T00:00:00"
         ],
         "y": [
          43806,
          43806
         ]
        },
        {
         "line": {
          "color": "deepskyblue",
          "dash": "dash",
          "width": 1
         },
         "mode": "lines",
         "name": "Volume Level",
         "showlegend": true,
         "type": "scatter",
         "x": [
          "2021-09-06T00:00:00",
          "2021-09-27T00:00:00"
         ],
         "y": [
          46035.25294117612,
          46035.25294117612
         ]
        },
        {
         "line": {
          "color": "deepskyblue",
          "dash": "dash",
          "width": 1
         },
         "mode": "lines",
         "name": "Volume Level",
         "showlegend": true,
         "type": "scatter",
         "x": [
          "2021-09-06T00:00:00",
          "2021-09-27T00:00:00"
         ],
         "y": [
          43168.5,
          43168.5
         ]
        },
        {
         "line": {
          "color": "deepskyblue",
          "dash": "dash",
          "width": 1
         },
         "mode": "lines",
         "name": "Volume Level",
         "showlegend": true,
         "type": "scatter",
         "x": [
          "2021-10-04T00:00:00",
          "2021-10-25T00:00:00"
         ],
         "y": [
          61544.00000000041,
          61544.00000000041
         ]
        },
        {
         "line": {
          "color": "deepskyblue",
          "dash": "dash",
          "width": 1
         },
         "mode": "lines",
         "name": "Volume Level",
         "showlegend": true,
         "type": "scatter",
         "x": [
          "2021-10-04T00:00:00",
          "2021-10-25T00:00:00"
         ],
         "y": [
          60875.42156862782,
          60875.42156862782
         ]
        },
        {
         "line": {
          "color": "deepskyblue",
          "dash": "dash",
          "width": 1
         },
         "mode": "lines",
         "name": "Volume Level",
         "showlegend": true,
         "type": "scatter",
         "x": [
          "2021-11-01T00:00:00",
          "2021-11-29T00:00:00"
         ],
         "y": [
          63309.88235294059,
          63309.88235294059
         ]
        },
        {
         "line": {
          "color": "deepskyblue",
          "dash": "dash",
          "width": 1
         },
         "mode": "lines",
         "name": "Volume Level",
         "showlegend": true,
         "type": "scatter",
         "x": [
          "2021-11-01T00:00:00",
          "2021-11-29T00:00:00"
         ],
         "y": [
          49358,
          49358
         ]
        },
        {
         "line": {
          "color": "deepskyblue",
          "dash": "dash",
          "width": 1
         },
         "mode": "lines",
         "name": "Volume Level",
         "showlegend": true,
         "type": "scatter",
         "x": [
          "2021-12-06T00:00:00",
          "2021-12-27T00:00:00"
         ],
         "y": [
          50093.71764705893,
          50093.71764705893
         ]
        },
        {
         "line": {
          "color": "deepskyblue",
          "dash": "dash",
          "width": 1
         },
         "mode": "lines",
         "name": "Volume Level",
         "showlegend": true,
         "type": "scatter",
         "x": [
          "2021-12-06T00:00:00",
          "2021-12-27T00:00:00"
         ],
         "y": [
          46699.5,
          46699.5
         ]
        },
        {
         "line": {
          "color": "deepskyblue",
          "dash": "dash",
          "width": 1
         },
         "mode": "lines",
         "name": "Volume Level",
         "showlegend": true,
         "type": "scatter",
         "x": [
          "2022-01-03T00:00:00",
          "2022-01-31T00:00:00"
         ],
         "y": [
          41874.81960784252,
          41874.81960784252
         ]
        },
        {
         "line": {
          "color": "deepskyblue",
          "dash": "dash",
          "width": 1
         },
         "mode": "lines",
         "name": "Volume Level",
         "showlegend": true,
         "type": "scatter",
         "x": [
          "2022-01-03T00:00:00",
          "2022-01-31T00:00:00"
         ],
         "y": [
          36234.5,
          36234.5
         ]
        },
        {
         "line": {
          "color": "deepskyblue",
          "dash": "dash",
          "width": 1
         },
         "mode": "lines",
         "name": "Volume Level",
         "showlegend": true,
         "type": "scatter",
         "x": [
          "2022-02-07T00:00:00",
          "2022-02-28T00:00:00"
         ],
         "y": [
          38406.03333333319,
          38406.03333333319
         ]
        },
        {
         "line": {
          "color": "deepskyblue",
          "dash": "dash",
          "width": 1
         },
         "mode": "lines",
         "name": "Volume Level",
         "showlegend": true,
         "type": "scatter",
         "x": [
          "2022-02-07T00:00:00",
          "2022-02-28T00:00:00"
         ],
         "y": [
          37665,
          37665
         ]
        },
        {
         "line": {
          "color": "deepskyblue",
          "dash": "dash",
          "width": 1
         },
         "mode": "lines",
         "name": "Volume Level",
         "showlegend": true,
         "type": "scatter",
         "x": [
          "2022-03-07T00:00:00",
          "2022-03-28T00:00:00"
         ],
         "y": [
          46438.60784313716,
          46438.60784313716
         ]
        },
        {
         "line": {
          "color": "deepskyblue",
          "dash": "dash",
          "width": 1
         },
         "mode": "lines",
         "name": "Volume Level",
         "showlegend": true,
         "type": "scatter",
         "x": [
          "2022-03-07T00:00:00",
          "2022-03-28T00:00:00"
         ],
         "y": [
          37756,
          37756
         ]
        },
        {
         "line": {
          "color": "deepskyblue",
          "dash": "dash",
          "width": 1
         },
         "mode": "lines",
         "name": "Volume Level",
         "showlegend": true,
         "type": "scatter",
         "x": [
          "2022-04-04T00:00:00",
          "2022-04-25T00:00:00"
         ],
         "y": [
          39662.194117646985,
          39662.194117646985
         ]
        },
        {
         "line": {
          "color": "deepskyblue",
          "dash": "dash",
          "width": 1
         },
         "mode": "lines",
         "name": "Volume Level",
         "showlegend": true,
         "type": "scatter",
         "x": [
          "2022-04-04T00:00:00",
          "2022-04-25T00:00:00"
         ],
         "y": [
          38446.5,
          38446.5
         ]
        },
        {
         "line": {
          "color": "deepskyblue",
          "dash": "dash",
          "width": 1
         },
         "mode": "lines",
         "name": "Volume Level",
         "showlegend": true,
         "type": "scatter",
         "x": [
          "2022-05-02T00:00:00",
          "2022-05-30T00:00:00"
         ],
         "y": [
          34050.4627450984,
          34050.4627450984
         ]
        },
        {
         "line": {
          "color": "deepskyblue",
          "dash": "dash",
          "width": 1
         },
         "mode": "lines",
         "name": "Volume Level",
         "showlegend": true,
         "type": "scatter",
         "x": [
          "2022-05-02T00:00:00",
          "2022-05-30T00:00:00"
         ],
         "y": [
          29901.068627451015,
          29901.068627451015
         ]
        },
        {
         "line": {
          "color": "deepskyblue",
          "dash": "dash",
          "width": 1
         },
         "mode": "lines",
         "name": "Volume Level",
         "showlegend": true,
         "type": "scatter",
         "x": [
          "2022-06-06T00:00:00",
          "2022-06-27T00:00:00"
         ],
         "y": [
          21043.064705882243,
          21043.064705882243
         ]
        },
        {
         "line": {
          "color": "deepskyblue",
          "dash": "dash",
          "width": 1
         },
         "mode": "lines",
         "name": "Volume Level",
         "showlegend": true,
         "type": "scatter",
         "x": [
          "2022-06-06T00:00:00",
          "2022-06-27T00:00:00"
         ],
         "y": [
          20558.964705882274,
          20558.964705882274
         ]
        },
        {
         "line": {
          "color": "deepskyblue",
          "dash": "dash",
          "width": 1
         },
         "mode": "lines",
         "name": "Volume Level",
         "showlegend": true,
         "type": "scatter",
         "x": [
          "2022-07-04T00:00:00",
          "2022-07-25T00:00:00"
         ],
         "y": [
          23290.499999999705,
          23290.499999999705
         ]
        },
        {
         "line": {
          "color": "deepskyblue",
          "dash": "dash",
          "width": 1
         },
         "mode": "lines",
         "name": "Volume Level",
         "showlegend": true,
         "type": "scatter",
         "x": [
          "2022-07-04T00:00:00",
          "2022-07-25T00:00:00"
         ],
         "y": [
          20799,
          20799
         ]
        },
        {
         "line": {
          "color": "deepskyblue",
          "dash": "dash",
          "width": 1
         },
         "mode": "lines",
         "name": "Volume Level",
         "showlegend": true,
         "type": "scatter",
         "x": [
          "2022-08-01T00:00:00",
          "2022-08-29T00:00:00"
         ],
         "y": [
          24290.499999999745,
          24290.499999999745
         ]
        },
        {
         "line": {
          "color": "deepskyblue",
          "dash": "dash",
          "width": 1
         },
         "mode": "lines",
         "name": "Volume Level",
         "showlegend": true,
         "type": "scatter",
         "x": [
          "2022-08-01T00:00:00",
          "2022-08-29T00:00:00"
         ],
         "y": [
          19975.75490196076,
          19975.75490196076
         ]
        },
        {
         "line": {
          "color": "deepskyblue",
          "dash": "dash",
          "width": 1
         },
         "mode": "lines",
         "name": "Volume Level",
         "showlegend": true,
         "type": "scatter",
         "x": [
          "2022-09-05T00:00:00",
          "2022-09-26T00:00:00"
         ],
         "y": [
          21809.99999999958,
          21809.99999999958
         ]
        },
        {
         "line": {
          "color": "deepskyblue",
          "dash": "dash",
          "width": 1
         },
         "mode": "lines",
         "name": "Volume Level",
         "showlegend": true,
         "type": "scatter",
         "x": [
          "2022-09-05T00:00:00",
          "2022-09-26T00:00:00"
         ],
         "y": [
          18800,
          18800
         ]
        },
        {
         "line": {
          "color": "deepskyblue",
          "dash": "dash",
          "width": 1
         },
         "mode": "lines",
         "name": "Volume Level",
         "showlegend": true,
         "type": "scatter",
         "x": [
          "2022-10-03T00:00:00",
          "2022-10-31T00:00:00"
         ],
         "y": [
          20619.035294117268,
          20619.035294117268
         ]
        },
        {
         "line": {
          "color": "deepskyblue",
          "dash": "dash",
          "width": 1
         },
         "mode": "lines",
         "name": "Volume Level",
         "showlegend": true,
         "type": "scatter",
         "x": [
          "2022-10-03T00:00:00",
          "2022-10-31T00:00:00"
         ],
         "y": [
          19433.841176470538,
          19433.841176470538
         ]
        },
        {
         "line": {
          "color": "deepskyblue",
          "dash": "dash",
          "width": 1
         },
         "mode": "lines",
         "name": "Volume Level",
         "showlegend": true,
         "type": "scatter",
         "x": [
          "2022-11-07T00:00:00",
          "2022-11-28T00:00:00"
         ],
         "y": [
          17096.000000000065,
          17096.000000000065
         ]
        },
        {
         "line": {
          "color": "deepskyblue",
          "dash": "dash",
          "width": 1
         },
         "mode": "lines",
         "name": "Volume Level",
         "showlegend": true,
         "type": "scatter",
         "x": [
          "2022-11-07T00:00:00",
          "2022-11-28T00:00:00"
         ],
         "y": [
          16328.333333333338,
          16328.333333333338
         ]
        },
        {
         "line": {
          "color": "deepskyblue",
          "dash": "dash",
          "width": 1
         },
         "mode": "lines",
         "name": "Volume Level",
         "showlegend": true,
         "type": "scatter",
         "x": [
          "2022-12-05T00:00:00",
          "2022-12-26T00:00:00"
         ],
         "y": [
          16826.135294117514,
          16826.135294117514
         ]
        },
        {
         "line": {
          "color": "deepskyblue",
          "dash": "dash",
          "width": 1
         },
         "mode": "lines",
         "name": "Volume Level",
         "showlegend": true,
         "type": "scatter",
         "x": [
          "2022-12-05T00:00:00",
          "2022-12-26T00:00:00"
         ],
         "y": [
          16727.890196078362,
          16727.890196078362
         ]
        },
        {
         "line": {
          "color": "deepskyblue",
          "dash": "dash",
          "width": 1
         },
         "mode": "lines",
         "name": "Volume Level",
         "showlegend": true,
         "type": "scatter",
         "x": [
          "2023-01-02T00:00:00",
          "2023-01-30T00:00:00"
         ],
         "y": [
          23737.50000000001,
          23737.50000000001
         ]
        },
        {
         "line": {
          "color": "deepskyblue",
          "dash": "dash",
          "width": 1
         },
         "mode": "lines",
         "name": "Volume Level",
         "showlegend": true,
         "type": "scatter",
         "x": [
          "2023-01-02T00:00:00",
          "2023-01-30T00:00:00"
         ],
         "y": [
          20856.72352941177,
          20856.72352941177
         ]
        },
        {
         "line": {
          "color": "deepskyblue",
          "dash": "dash",
          "width": 1
         },
         "mode": "lines",
         "name": "Volume Level",
         "showlegend": true,
         "type": "scatter",
         "x": [
          "2023-02-06T00:00:00",
          "2023-02-27T00:00:00"
         ],
         "y": [
          24266.900000000056,
          24266.900000000056
         ]
        },
        {
         "line": {
          "color": "deepskyblue",
          "dash": "dash",
          "width": 1
         },
         "mode": "lines",
         "name": "Volume Level",
         "showlegend": true,
         "type": "scatter",
         "x": [
          "2023-02-06T00:00:00",
          "2023-02-27T00:00:00"
         ],
         "y": [
          22411.605882352957,
          22411.605882352957
         ]
        },
        {
         "line": {
          "color": "deepskyblue",
          "dash": "dash",
          "width": 1
         },
         "mode": "lines",
         "name": "Volume Level",
         "showlegend": true,
         "type": "scatter",
         "x": [
          "2023-03-06T00:00:00",
          "2023-03-27T00:00:00"
         ],
         "y": [
          27962.11176470561,
          27962.11176470561
         ]
        },
        {
         "line": {
          "color": "deepskyblue",
          "dash": "dash",
          "width": 1
         },
         "mode": "lines",
         "name": "Volume Level",
         "showlegend": true,
         "type": "scatter",
         "x": [
          "2023-03-06T00:00:00",
          "2023-03-27T00:00:00"
         ],
         "y": [
          27937.888235293845,
          27937.888235293845
         ]
        },
        {
         "line": {
          "color": "deepskyblue",
          "dash": "dash",
          "width": 1
         },
         "mode": "lines",
         "name": "Volume Level",
         "showlegend": true,
         "type": "scatter",
         "x": [
          "2023-04-03T00:00:00",
          "2023-04-24T00:00:00"
         ],
         "y": [
          30295.899999999958,
          30295.899999999958
         ]
        },
        {
         "line": {
          "color": "deepskyblue",
          "dash": "dash",
          "width": 1
         },
         "mode": "lines",
         "name": "Volume Level",
         "showlegend": true,
         "type": "scatter",
         "x": [
          "2023-04-03T00:00:00",
          "2023-04-24T00:00:00"
         ],
         "y": [
          27572.8,
          27572.8
         ]
        },
        {
         "line": {
          "color": "deepskyblue",
          "dash": "dash",
          "width": 1
         },
         "mode": "lines",
         "name": "Volume Level",
         "showlegend": true,
         "type": "scatter",
         "x": [
          "2023-05-01T00:00:00",
          "2023-05-29T00:00:00"
         ],
         "y": [
          28051.633333333226,
          28051.633333333226
         ]
        },
        {
         "line": {
          "color": "deepskyblue",
          "dash": "dash",
          "width": 1
         },
         "mode": "lines",
         "name": "Volume Level",
         "showlegend": true,
         "type": "scatter",
         "x": [
          "2023-05-01T00:00:00",
          "2023-05-29T00:00:00"
         ],
         "y": [
          26898.966666666653,
          26898.966666666653
         ]
        },
        {
         "line": {
          "color": "deepskyblue",
          "dash": "dash",
          "width": 1
         },
         "mode": "lines",
         "name": "Volume Level",
         "showlegend": true,
         "type": "scatter",
         "x": [
          "2023-06-05T00:00:00",
          "2023-06-26T00:00:00"
         ],
         "y": [
          30601.89999999991,
          30601.89999999991
         ]
        },
        {
         "line": {
          "color": "deepskyblue",
          "dash": "dash",
          "width": 1
         },
         "mode": "lines",
         "name": "Volume Level",
         "showlegend": true,
         "type": "scatter",
         "x": [
          "2023-06-05T00:00:00",
          "2023-06-26T00:00:00"
         ],
         "y": [
          25915.1,
          25915.1
         ]
        },
        {
         "line": {
          "color": "deepskyblue",
          "dash": "dash",
          "width": 1
         },
         "mode": "lines",
         "name": "Volume Level",
         "showlegend": true,
         "type": "scatter",
         "x": [
          "2023-07-03T00:00:00",
          "2023-07-31T00:00:00"
         ],
         "y": [
          30225.892941176706,
          30225.892941176706
         ]
        },
        {
         "line": {
          "color": "deepskyblue",
          "dash": "dash",
          "width": 1
         },
         "mode": "lines",
         "name": "Volume Level",
         "showlegend": true,
         "type": "scatter",
         "x": [
          "2023-07-03T00:00:00",
          "2023-07-31T00:00:00"
         ],
         "y": [
          29268.896470588275,
          29268.896470588275
         ]
        },
        {
         "line": {
          "color": "deepskyblue",
          "dash": "dash",
          "width": 1
         },
         "mode": "lines",
         "name": "Volume Level",
         "showlegend": true,
         "type": "scatter",
         "x": [
          "2023-08-07T00:00:00",
          "2023-08-28T00:00:00"
         ],
         "y": [
          26182.66,
          26182.66
         ]
        },
        {
         "line": {
          "color": "deepskyblue",
          "dash": "dash",
          "width": 1
         },
         "mode": "lines",
         "name": "Volume Level",
         "showlegend": true,
         "type": "scatter",
         "x": [
          "2023-08-07T00:00:00",
          "2023-08-28T00:00:00"
         ],
         "y": [
          25959.9,
          25959.9
         ]
        },
        {
         "line": {
          "color": "deepskyblue",
          "dash": "dash",
          "width": 1
         },
         "mode": "lines",
         "name": "Volume Level",
         "showlegend": true,
         "type": "scatter",
         "x": [
          "2023-09-04T00:00:00",
          "2023-09-25T00:00:00"
         ],
         "y": [
          27987.441568627582,
          27987.441568627582
         ]
        },
        {
         "line": {
          "color": "deepskyblue",
          "dash": "dash",
          "width": 1
         },
         "mode": "lines",
         "name": "Volume Level",
         "showlegend": true,
         "type": "scatter",
         "x": [
          "2023-09-04T00:00:00",
          "2023-09-25T00:00:00"
         ],
         "y": [
          26231.595294117673,
          26231.595294117673
         ]
        },
        {
         "line": {
          "color": "deepskyblue",
          "dash": "dash",
          "width": 1
         },
         "mode": "lines",
         "name": "Volume Level",
         "showlegend": true,
         "type": "scatter",
         "x": [
          "2023-10-02T00:00:00",
          "2023-10-30T00:00:00"
         ],
         "y": [
          35066.766666666794,
          35066.766666666794
         ]
        },
        {
         "line": {
          "color": "deepskyblue",
          "dash": "dash",
          "width": 1
         },
         "mode": "lines",
         "name": "Volume Level",
         "showlegend": true,
         "type": "scatter",
         "x": [
          "2023-10-02T00:00:00",
          "2023-10-30T00:00:00"
         ],
         "y": [
          27882.50000000001,
          27882.50000000001
         ]
        },
        {
         "line": {
          "color": "deepskyblue",
          "dash": "dash",
          "width": 1
         },
         "mode": "lines",
         "name": "Volume Level",
         "showlegend": true,
         "type": "scatter",
         "x": [
          "2023-11-06T00:00:00",
          "2023-11-27T00:00:00"
         ],
         "y": [
          37466.1399999999,
          37466.1399999999
         ]
        },
        {
         "line": {
          "color": "deepskyblue",
          "dash": "dash",
          "width": 1
         },
         "mode": "lines",
         "name": "Volume Level",
         "showlegend": true,
         "type": "scatter",
         "x": [
          "2023-11-06T00:00:00",
          "2023-11-27T00:00:00"
         ],
         "y": [
          37089.5,
          37089.5
         ]
        },
        {
         "line": {
          "color": "deepskyblue",
          "dash": "dash",
          "width": 1
         },
         "mode": "lines",
         "name": "Volume Level",
         "showlegend": true,
         "type": "scatter",
         "x": [
          "2023-12-04T00:00:00",
          "2023-12-25T00:00:00"
         ],
         "y": [
          43833.323921569434,
          43833.323921569434
         ]
        },
        {
         "line": {
          "color": "deepskyblue",
          "dash": "dash",
          "width": 1
         },
         "mode": "lines",
         "name": "Volume Level",
         "showlegend": true,
         "type": "scatter",
         "x": [
          "2023-12-04T00:00:00",
          "2023-12-25T00:00:00"
         ],
         "y": [
          42319.02039215717,
          42319.02039215717
         ]
        },
        {
         "line": {
          "color": "deepskyblue",
          "dash": "dash",
          "width": 1
         },
         "mode": "lines",
         "name": "Volume Level",
         "showlegend": true,
         "type": "scatter",
         "x": [
          "2024-01-01T00:00:00",
          "2024-01-29T00:00:00"
         ],
         "y": [
          43936.20000000041,
          43936.20000000041
         ]
        },
        {
         "line": {
          "color": "deepskyblue",
          "dash": "dash",
          "width": 1
         },
         "mode": "lines",
         "name": "Volume Level",
         "showlegend": true,
         "type": "scatter",
         "x": [
          "2024-01-01T00:00:00",
          "2024-01-29T00:00:00"
         ],
         "y": [
          41723.87058823532,
          41723.87058823532
         ]
        },
        {
         "line": {
          "color": "deepskyblue",
          "dash": "dash",
          "width": 1
         },
         "mode": "lines",
         "name": "Volume Level",
         "showlegend": true,
         "type": "scatter",
         "x": [
          "2024-02-05T00:00:00",
          "2024-02-26T00:00:00"
         ],
         "y": [
          63179.09999999925,
          63179.09999999925
         ]
        },
        {
         "line": {
          "color": "deepskyblue",
          "dash": "dash",
          "width": 1
         },
         "mode": "lines",
         "name": "Volume Level",
         "showlegend": true,
         "type": "scatter",
         "x": [
          "2024-02-05T00:00:00",
          "2024-02-26T00:00:00"
         ],
         "y": [
          48328.5,
          48328.5
         ]
        },
        {
         "line": {
          "color": "deepskyblue",
          "dash": "dash",
          "width": 1
         },
         "mode": "lines",
         "name": "Volume Level",
         "showlegend": true,
         "type": "scatter",
         "x": [
          "2024-03-04T00:00:00",
          "2024-03-25T00:00:00"
         ],
         "y": [
          71394.19568627552,
          71394.19568627552
         ]
        },
        {
         "line": {
          "color": "deepskyblue",
          "dash": "dash",
          "width": 1
         },
         "mode": "lines",
         "name": "Volume Level",
         "showlegend": true,
         "type": "scatter",
         "x": [
          "2024-03-04T00:00:00",
          "2024-03-25T00:00:00"
         ],
         "y": [
          68430.38509803951,
          68430.38509803951
         ]
        },
        {
         "line": {
          "color": "deepskyblue",
          "dash": "dash",
          "width": 1
         },
         "mode": "lines",
         "name": "Volume Level",
         "showlegend": true,
         "type": "scatter",
         "x": [
          "2024-04-01T00:00:00",
          "2024-04-29T00:00:00"
         ],
         "y": [
          69379.557647058,
          69379.557647058
         ]
        },
        {
         "line": {
          "color": "deepskyblue",
          "dash": "dash",
          "width": 1
         },
         "mode": "lines",
         "name": "Volume Level",
         "showlegend": true,
         "type": "scatter",
         "x": [
          "2024-04-01T00:00:00",
          "2024-04-29T00:00:00"
         ],
         "y": [
          63976.87529411753,
          63976.87529411753
         ]
        },
        {
         "line": {
          "color": "deepskyblue",
          "dash": "dash",
          "width": 1
         },
         "mode": "lines",
         "name": "Volume Level",
         "showlegend": true,
         "type": "scatter",
         "x": [
          "2024-05-06T00:00:00",
          "2024-05-27T00:00:00"
         ],
         "y": [
          67779.06941176548,
          67779.06941176548
         ]
        },
        {
         "line": {
          "color": "deepskyblue",
          "dash": "dash",
          "width": 1
         },
         "mode": "lines",
         "name": "Volume Level",
         "showlegend": true,
         "type": "scatter",
         "x": [
          "2024-05-06T00:00:00",
          "2024-05-27T00:00:00"
         ],
         "y": [
          61449.7,
          61449.7
         ]
        },
        {
         "line": {
          "color": "deepskyblue",
          "dash": "dash",
          "width": 1
         },
         "mode": "lines",
         "name": "Volume Level",
         "showlegend": true,
         "type": "scatter",
         "x": [
          "2024-06-03T00:00:00",
          "2024-06-24T00:00:00"
         ],
         "y": [
          66641.90470588196,
          66641.90470588196
         ]
        },
        {
         "line": {
          "color": "deepskyblue",
          "dash": "dash",
          "width": 1
         },
         "mode": "lines",
         "name": "Volume Level",
         "showlegend": true,
         "type": "scatter",
         "x": [
          "2024-06-03T00:00:00",
          "2024-06-24T00:00:00"
         ],
         "y": [
          62749.5,
          62749.5
         ]
        },
        {
         "line": {
          "color": "deepskyblue",
          "dash": "dash",
          "width": 1
         },
         "mode": "lines",
         "name": "Volume Level",
         "showlegend": true,
         "type": "scatter",
         "x": [
          "2024-07-01T00:00:00",
          "2024-07-29T00:00:00"
         ],
         "y": [
          68289.53098039143,
          68289.53098039143
         ]
        },
        {
         "line": {
          "color": "deepskyblue",
          "dash": "dash",
          "width": 1
         },
         "mode": "lines",
         "name": "Volume Level",
         "showlegend": true,
         "type": "scatter",
         "x": [
          "2024-07-01T00:00:00",
          "2024-07-29T00:00:00"
         ],
         "y": [
          58125.65607843124,
          58125.65607843124
         ]
        },
        {
         "line": {
          "color": "deepskyblue",
          "dash": "dash",
          "width": 1
         },
         "mode": "lines",
         "name": "Volume Level",
         "showlegend": true,
         "type": "scatter",
         "x": [
          "2024-08-05T00:00:00",
          "2024-08-26T00:00:00"
         ],
         "y": [
          64180.89999999974,
          64180.89999999974
         ]
        },
        {
         "line": {
          "color": "deepskyblue",
          "dash": "dash",
          "width": 1
         },
         "mode": "lines",
         "name": "Volume Level",
         "showlegend": true,
         "type": "scatter",
         "x": [
          "2024-08-05T00:00:00",
          "2024-08-26T00:00:00"
         ],
         "y": [
          58405.00823529407,
          58405.00823529407
         ]
        },
        {
         "line": {
          "color": "deepskyblue",
          "dash": "dash",
          "width": 1
         },
         "mode": "lines",
         "name": "Volume Level",
         "showlegend": true,
         "type": "scatter",
         "x": [
          "2024-09-02T00:00:00",
          "2024-09-30T00:00:00"
         ],
         "y": [
          65613.74588235281,
          65613.74588235281
         ]
        },
        {
         "line": {
          "color": "deepskyblue",
          "dash": "dash",
          "width": 1
         },
         "mode": "lines",
         "name": "Volume Level",
         "showlegend": true,
         "type": "scatter",
         "x": [
          "2024-09-02T00:00:00",
          "2024-09-30T00:00:00"
         ],
         "y": [
          59096.63411764701,
          59096.63411764701
         ]
        },
        {
         "line": {
          "color": "deepskyblue",
          "dash": "dash",
          "width": 1
         },
         "mode": "lines",
         "name": "Volume Level",
         "showlegend": true,
         "type": "scatter",
         "x": [
          "2024-10-07T00:00:00",
          "2024-10-28T00:00:00"
         ],
         "y": [
          69058.29529411792,
          69058.29529411792
         ]
        },
        {
         "line": {
          "color": "deepskyblue",
          "dash": "dash",
          "width": 1
         },
         "mode": "lines",
         "name": "Volume Level",
         "showlegend": true,
         "type": "scatter",
         "x": [
          "2024-10-07T00:00:00",
          "2024-10-28T00:00:00"
         ],
         "y": [
          67989.3023529414,
          67989.3023529414
         ]
        },
        {
         "line": {
          "color": "deepskyblue",
          "dash": "dash",
          "width": 1
         },
         "mode": "lines",
         "name": "Volume Level",
         "showlegend": true,
         "type": "scatter",
         "x": [
          "2024-11-04T00:00:00",
          "2024-11-25T00:00:00"
         ],
         "y": [
          98027.69999999976,
          98027.69999999976
         ]
        },
        {
         "line": {
          "color": "deepskyblue",
          "dash": "dash",
          "width": 1
         },
         "mode": "lines",
         "name": "Volume Level",
         "showlegend": true,
         "type": "scatter",
         "x": [
          "2024-11-04T00:00:00",
          "2024-11-25T00:00:00"
         ],
         "y": [
          80428.5,
          80428.5
         ]
        },
        {
         "line": {
          "color": "deepskyblue",
          "dash": "dash",
          "width": 1
         },
         "mode": "lines",
         "name": "Volume Level",
         "showlegend": true,
         "type": "scatter",
         "x": [
          "2024-12-02T00:00:00",
          "2024-12-30T00:00:00"
         ],
         "y": [
          101206.99294117624,
          101206.99294117624
         ]
        },
        {
         "line": {
          "color": "deepskyblue",
          "dash": "dash",
          "width": 1
         },
         "mode": "lines",
         "name": "Volume Level",
         "showlegend": true,
         "type": "scatter",
         "x": [
          "2024-12-02T00:00:00",
          "2024-12-30T00:00:00"
         ],
         "y": [
          95141.21333333329,
          95141.21333333329
         ]
        },
        {
         "line": {
          "color": "deepskyblue",
          "dash": "dash",
          "width": 1
         },
         "mode": "lines",
         "name": "Volume Level",
         "showlegend": true,
         "type": "scatter",
         "x": [
          "2025-01-06T00:00:00",
          "2025-01-27T00:00:00"
         ],
         "y": [
          102585.24392157048,
          102585.24392157048
         ]
        },
        {
         "line": {
          "color": "deepskyblue",
          "dash": "dash",
          "width": 1
         },
         "mode": "lines",
         "name": "Volume Level",
         "showlegend": true,
         "type": "scatter",
         "x": [
          "2025-01-06T00:00:00",
          "2025-01-27T00:00:00"
         ],
         "y": [
          97632.84823529483,
          97632.84823529483
         ]
        },
        {
         "line": {
          "color": "deepskyblue",
          "dash": "dash",
          "width": 1
         },
         "mode": "lines",
         "name": "Volume Level",
         "showlegend": true,
         "type": "scatter",
         "x": [
          "2025-02-03T00:00:00",
          "2025-02-24T00:00:00"
         ],
         "y": [
          96266.99568627558,
          96266.99568627558
         ]
        },
        {
         "line": {
          "color": "deepskyblue",
          "dash": "dash",
          "width": 1
         },
         "mode": "lines",
         "name": "Volume Level",
         "showlegend": true,
         "type": "scatter",
         "x": [
          "2025-02-03T00:00:00",
          "2025-02-24T00:00:00"
         ],
         "y": [
          94259.7,
          94259.7
         ]
        },
        {
         "line": {
          "color": "deepskyblue",
          "dash": "dash",
          "width": 1
         },
         "mode": "lines",
         "name": "Volume Level",
         "showlegend": true,
         "type": "scatter",
         "x": [
          "2025-03-03T00:00:00",
          "2025-03-31T00:00:00"
         ],
         "y": [
          86037.80000000173,
          86037.80000000173
         ]
        },
        {
         "line": {
          "color": "deepskyblue",
          "dash": "dash",
          "width": 1
         },
         "mode": "lines",
         "name": "Volume Level",
         "showlegend": true,
         "type": "scatter",
         "x": [
          "2025-03-03T00:00:00",
          "2025-03-31T00:00:00"
         ],
         "y": [
          80689.632941177,
          80689.632941177
         ]
        },
        {
         "line": {
          "color": "deepskyblue",
          "dash": "dash",
          "width": 1
         },
         "mode": "lines",
         "name": "Volume Level",
         "showlegend": true,
         "type": "scatter",
         "x": [
          "2025-04-07T00:00:00",
          "2025-04-28T00:00:00"
         ],
         "y": [
          85158.9784313723,
          85158.9784313723
         ]
        },
        {
         "line": {
          "color": "deepskyblue",
          "dash": "dash",
          "width": 1
         },
         "mode": "lines",
         "name": "Volume Level",
         "showlegend": true,
         "type": "scatter",
         "x": [
          "2025-04-07T00:00:00",
          "2025-04-28T00:00:00"
         ],
         "y": [
          83716.8,
          83716.8
         ]
        },
        {
         "line": {
          "color": "deepskyblue",
          "dash": "dash",
          "width": 1
         },
         "mode": "lines",
         "name": "Volume Level",
         "showlegend": true,
         "type": "scatter",
         "x": [
          "2025-05-05T00:00:00",
          "2025-05-26T00:00:00"
         ],
         "y": [
          106441.69647058821,
          106441.69647058821
         ]
        },
        {
         "line": {
          "color": "deepskyblue",
          "dash": "dash",
          "width": 1
         },
         "mode": "lines",
         "name": "Volume Level",
         "showlegend": true,
         "type": "scatter",
         "x": [
          "2025-05-05T00:00:00",
          "2025-05-26T00:00:00"
         ],
         "y": [
          104080,
          104080
         ]
        },
        {
         "line": {
          "color": "deepskyblue",
          "dash": "dash",
          "width": 1
         },
         "mode": "lines",
         "name": "Volume Level",
         "showlegend": true,
         "type": "scatter",
         "x": [
          "2025-06-02T00:00:00",
          "2025-06-30T00:00:00"
         ],
         "y": [
          108318.69137254957,
          108318.69137254957
         ]
        },
        {
         "line": {
          "color": "deepskyblue",
          "dash": "dash",
          "width": 1
         },
         "mode": "lines",
         "name": "Volume Level",
         "showlegend": true,
         "type": "scatter",
         "x": [
          "2025-06-02T00:00:00",
          "2025-06-30T00:00:00"
         ],
         "y": [
          100904.3,
          100904.3
         ]
        },
        {
         "line": {
          "color": "deepskyblue",
          "dash": "dash",
          "width": 1
         },
         "mode": "lines",
         "name": "Volume Level",
         "showlegend": true,
         "type": "scatter",
         "x": [
          "2025-07-07T00:00:00",
          "2025-07-28T00:00:00"
         ],
         "y": [
          119429.90000000123,
          119429.90000000123
         ]
        },
        {
         "line": {
          "color": "deepskyblue",
          "dash": "dash",
          "width": 1
         },
         "mode": "lines",
         "name": "Volume Level",
         "showlegend": true,
         "type": "scatter",
         "x": [
          "2025-07-07T00:00:00",
          "2025-07-28T00:00:00"
         ],
         "y": [
          117275.34627451054,
          117275.34627451054
         ]
        },
        {
         "line": {
          "color": "deepskyblue",
          "dash": "dash",
          "width": 1
         },
         "mode": "lines",
         "name": "Volume Level",
         "showlegend": true,
         "type": "scatter",
         "x": [
          "2025-08-04T00:00:00",
          "2025-08-25T00:00:00"
         ],
         "y": [
          119315.21882352978,
          119315.21882352978
         ]
        },
        {
         "line": {
          "color": "deepskyblue",
          "dash": "dash",
          "width": 1
         },
         "mode": "lines",
         "name": "Volume Level",
         "showlegend": true,
         "type": "scatter",
         "x": [
          "2025-08-04T00:00:00",
          "2025-08-25T00:00:00"
         ],
         "y": [
          113453.677647059,
          113453.677647059
         ]
        },
        {
         "line": {
          "color": "deepskyblue",
          "dash": "dash",
          "width": 1
         },
         "mode": "lines",
         "name": "Volume Level",
         "showlegend": true,
         "type": "scatter",
         "x": [
          "2025-09-01T00:00:00",
          "2025-09-29T00:00:00"
         ],
         "y": [
          115185.15882352843,
          115185.15882352843
         ]
        },
        {
         "line": {
          "color": "deepskyblue",
          "dash": "dash",
          "width": 1
         },
         "mode": "lines",
         "name": "Volume Level",
         "showlegend": true,
         "type": "scatter",
         "x": [
          "2025-09-01T00:00:00",
          "2025-09-29T00:00:00"
         ],
         "y": [
          111086.7,
          111086.7
         ]
        },
        {
         "line": {
          "color": "white",
          "dash": "dash",
          "width": 1
         },
         "mode": "lines",
         "name": "POC",
         "showlegend": true,
         "type": "scatter",
         "x": [
          "2020-03-23T00:00:00",
          "2020-03-30T00:00:00"
         ],
         "y": [
          6769.239215686385,
          6769.239215686385
         ]
        },
        {
         "line": {
          "color": "white",
          "dash": "dash",
          "width": 1
         },
         "mode": "lines",
         "name": "POC",
         "showlegend": true,
         "type": "scatter",
         "x": [
          "2020-04-06T00:00:00",
          "2020-04-27T00:00:00"
         ],
         "y": [
          8891.090196078472,
          8891.090196078472
         ]
        },
        {
         "line": {
          "color": "white",
          "dash": "dash",
          "width": 1
         },
         "mode": "lines",
         "name": "POC",
         "showlegend": true,
         "type": "scatter",
         "x": [
          "2020-05-04T00:00:00",
          "2020-05-25T00:00:00"
         ],
         "y": [
          8723.245098039213,
          8723.245098039213
         ]
        },
        {
         "line": {
          "color": "white",
          "dash": "dash",
          "width": 1
         },
         "mode": "lines",
         "name": "POC",
         "showlegend": true,
         "type": "scatter",
         "x": [
          "2020-06-01T00:00:00",
          "2020-07-20T00:00:00"
         ],
         "y": [
          9739.692156862835,
          9739.692156862835
         ]
        },
        {
         "line": {
          "color": "white",
          "dash": "dash",
          "width": 1
         },
         "mode": "lines",
         "name": "POC",
         "showlegend": true,
         "type": "scatter",
         "x": [
          "2020-07-06T00:00:00",
          "2020-07-27T00:00:00"
         ],
         "y": [
          11069.333333333489,
          11069.333333333489
         ]
        },
        {
         "line": {
          "color": "white",
          "dash": "dash",
          "width": 1
         },
         "mode": "lines",
         "name": "POC",
         "showlegend": true,
         "type": "scatter",
         "x": [
          "2020-08-03T00:00:00",
          "2020-08-31T00:00:00"
         ],
         "y": [
          11911.247058823643,
          11911.247058823643
         ]
        },
        {
         "line": {
          "color": "white",
          "dash": "dash",
          "width": 1
         },
         "mode": "lines",
         "name": "POC",
         "showlegend": true,
         "type": "scatter",
         "x": [
          "2020-09-07T00:00:00",
          "2020-09-28T00:00:00"
         ],
         "y": [
          10769.223529411709,
          10769.223529411709
         ]
        },
        {
         "line": {
          "color": "white",
          "dash": "dash",
          "width": 1
         },
         "mode": "lines",
         "name": "POC",
         "showlegend": true,
         "type": "scatter",
         "x": [
          "2020-10-05T00:00:00",
          "2020-10-26T00:00:00"
         ],
         "y": [
          13745.341176470745,
          13745.341176470745
         ]
        },
        {
         "line": {
          "color": "white",
          "dash": "dash",
          "width": 1
         },
         "mode": "lines",
         "name": "POC",
         "showlegend": true,
         "type": "scatter",
         "x": [
          "2020-11-02T00:00:00",
          "2020-11-30T00:00:00"
         ],
         "y": [
          18413.916666666715,
          18413.916666666715
         ]
        },
        {
         "line": {
          "color": "white",
          "dash": "dash",
          "width": 1
         },
         "mode": "lines",
         "name": "POC",
         "showlegend": true,
         "type": "scatter",
         "x": [
          "2020-12-07T00:00:00",
          "2020-12-28T00:00:00"
         ],
         "y": [
          26286.25098039215,
          26286.25098039215
         ]
        },
        {
         "line": {
          "color": "white",
          "dash": "dash",
          "width": 1
         },
         "mode": "lines",
         "name": "POC",
         "showlegend": true,
         "type": "scatter",
         "x": [
          "2021-01-04T00:00:00",
          "2021-01-25T00:00:00"
         ],
         "y": [
          35873.09803921564,
          35873.09803921564
         ]
        },
        {
         "line": {
          "color": "white",
          "dash": "dash",
          "width": 1
         },
         "mode": "lines",
         "name": "POC",
         "showlegend": true,
         "type": "scatter",
         "x": [
          "2021-02-01T00:00:00",
          "2021-02-22T00:00:00"
         ],
         "y": [
          45146.275490195876,
          45146.275490195876
         ]
        },
        {
         "line": {
          "color": "white",
          "dash": "dash",
          "width": 1
         },
         "mode": "lines",
         "name": "POC",
         "showlegend": true,
         "type": "scatter",
         "x": [
          "2021-03-01T00:00:00",
          "2021-03-29T00:00:00"
         ],
         "y": [
          57364.07745098014,
          57364.07745098014
         ]
        },
        {
         "line": {
          "color": "white",
          "dash": "dash",
          "width": 1
         },
         "mode": "lines",
         "name": "POC",
         "showlegend": true,
         "type": "scatter",
         "x": [
          "2021-04-05T00:00:00",
          "2021-04-26T00:00:00"
         ],
         "y": [
          49044.09019607843,
          49044.09019607843
         ]
        },
        {
         "line": {
          "color": "white",
          "dash": "dash",
          "width": 1
         },
         "mode": "lines",
         "name": "POC",
         "showlegend": true,
         "type": "scatter",
         "x": [
          "2021-05-03T00:00:00",
          "2021-05-31T00:00:00"
         ],
         "y": [
          34704.240196078434,
          34704.240196078434
         ]
        },
        {
         "line": {
          "color": "white",
          "dash": "dash",
          "width": 1
         },
         "mode": "lines",
         "name": "POC",
         "showlegend": true,
         "type": "scatter",
         "x": [
          "2021-06-07T00:00:00",
          "2021-06-28T00:00:00"
         ],
         "y": [
          34699.00098039216,
          34699.00098039216
         ]
        },
        {
         "line": {
          "color": "white",
          "dash": "dash",
          "width": 1
         },
         "mode": "lines",
         "name": "POC",
         "showlegend": true,
         "type": "scatter",
         "x": [
          "2021-08-02T00:00:00",
          "2021-09-06T00:00:00"
         ],
         "y": [
          43821.3637254902,
          43821.3637254902
         ]
        },
        {
         "line": {
          "color": "white",
          "dash": "dash",
          "width": 1
         },
         "mode": "lines",
         "name": "POC",
         "showlegend": true,
         "type": "scatter",
         "x": [
          "2021-09-06T00:00:00",
          "2021-09-27T00:00:00"
         ],
         "y": [
          43178.31764705882,
          43178.31764705882
         ]
        },
        {
         "line": {
          "color": "white",
          "dash": "dash",
          "width": 1
         },
         "mode": "lines",
         "name": "POC",
         "showlegend": true,
         "type": "scatter",
         "x": [
          "2021-10-04T00:00:00",
          "2021-10-25T00:00:00"
         ],
         "y": [
          60888.79313725527,
          60888.79313725527
         ]
        },
        {
         "line": {
          "color": "white",
          "dash": "dash",
          "width": 1
         },
         "mode": "lines",
         "name": "POC",
         "showlegend": true,
         "type": "scatter",
         "x": [
          "2021-11-01T00:00:00",
          "2021-11-29T00:00:00"
         ],
         "y": [
          49389.70882352941,
          49389.70882352941
         ]
        },
        {
         "line": {
          "color": "white",
          "dash": "dash",
          "width": 1
         },
         "mode": "lines",
         "name": "POC",
         "showlegend": true,
         "type": "scatter",
         "x": [
          "2021-12-06T00:00:00",
          "2021-12-27T00:00:00"
         ],
         "y": [
          46707.467647058824,
          46707.467647058824
         ]
        },
        {
         "line": {
          "color": "white",
          "dash": "dash",
          "width": 1
         },
         "mode": "lines",
         "name": "POC",
         "showlegend": true,
         "type": "scatter",
         "x": [
          "2021-07-05T00:00:00",
          "2022-01-17T00:00:00"
         ],
         "y": [
          34237.98921568626,
          34237.98921568626
         ]
        },
        {
         "line": {
          "color": "white",
          "dash": "dash",
          "width": 1
         },
         "mode": "lines",
         "name": "POC",
         "showlegend": true,
         "type": "scatter",
         "x": [
          "2022-01-03T00:00:00",
          "2022-01-31T00:00:00"
         ],
         "y": [
          36247.86568627451,
          36247.86568627451
         ]
        },
        {
         "line": {
          "color": "white",
          "dash": "dash",
          "width": 1
         },
         "mode": "lines",
         "name": "POC",
         "showlegend": true,
         "type": "scatter",
         "x": [
          "2022-02-07T00:00:00",
          "2022-02-28T00:00:00"
         ],
         "y": [
          37673.61666666667,
          37673.61666666667
         ]
        },
        {
         "line": {
          "color": "white",
          "dash": "dash",
          "width": 1
         },
         "mode": "lines",
         "name": "POC",
         "showlegend": true,
         "type": "scatter",
         "x": [
          "2022-03-07T00:00:00",
          "2022-04-25T00:00:00"
         ],
         "y": [
          37773.71960784314,
          37773.71960784314
         ]
        },
        {
         "line": {
          "color": "white",
          "dash": "dash",
          "width": 1
         },
         "mode": "lines",
         "name": "POC",
         "showlegend": true,
         "type": "scatter",
         "x": [
          "2022-04-04T00:00:00",
          "2022-04-25T00:00:00"
         ],
         "y": [
          38453.73627450981,
          38453.73627450981
         ]
        },
        {
         "line": {
          "color": "white",
          "dash": "dash",
          "width": 1
         },
         "mode": "lines",
         "name": "POC",
         "showlegend": true,
         "type": "scatter",
         "x": [
          "2022-05-02T00:00:00",
          "2022-05-30T00:00:00"
         ],
         "y": [
          31311.144117647204,
          31311.144117647204
         ]
        },
        {
         "line": {
          "color": "white",
          "dash": "dash",
          "width": 1
         },
         "mode": "lines",
         "name": "POC",
         "showlegend": true,
         "type": "scatter",
         "x": [
          "2022-06-06T00:00:00",
          "2022-06-27T00:00:00"
         ],
         "y": [
          20573.20294117639,
          20573.20294117639
         ]
        },
        {
         "line": {
          "color": "white",
          "dash": "dash",
          "width": 1
         },
         "mode": "lines",
         "name": "POC",
         "showlegend": true,
         "type": "scatter",
         "x": [
          "2022-07-04T00:00:00",
          "2022-07-25T00:00:00"
         ],
         "y": [
          22572.361764705674,
          22572.361764705674
         ]
        },
        {
         "line": {
          "color": "white",
          "dash": "dash",
          "width": 1
         },
         "mode": "lines",
         "name": "POC",
         "showlegend": true,
         "type": "scatter",
         "x": [
          "2022-08-01T00:00:00",
          "2022-09-05T00:00:00"
         ],
         "y": [
          21510.093137254797,
          21510.093137254797
         ]
        },
        {
         "line": {
          "color": "white",
          "dash": "dash",
          "width": 1
         },
         "mode": "lines",
         "name": "POC",
         "showlegend": true,
         "type": "scatter",
         "x": [
          "2022-09-05T00:00:00",
          "2022-09-26T00:00:00"
         ],
         "y": [
          19053.784313725453,
          19053.784313725453
         ]
        },
        {
         "line": {
          "color": "white",
          "dash": "dash",
          "width": 1
         },
         "mode": "lines",
         "name": "POC",
         "showlegend": true,
         "type": "scatter",
         "x": [
          "2022-10-03T00:00:00",
          "2022-11-07T00:00:00"
         ],
         "y": [
          19437.079411764655,
          19437.079411764655
         ]
        },
        {
         "line": {
          "color": "white",
          "dash": "dash",
          "width": 1
         },
         "mode": "lines",
         "name": "POC",
         "showlegend": true,
         "type": "scatter",
         "x": [
          "2022-11-07T00:00:00",
          "2022-11-28T00:00:00"
         ],
         "y": [
          16329.946078431378,
          16329.946078431378
         ]
        },
        {
         "line": {
          "color": "white",
          "dash": "dash",
          "width": 1
         },
         "mode": "lines",
         "name": "POC",
         "showlegend": true,
         "type": "scatter",
         "x": [
          "2022-12-05T00:00:00",
          "2022-12-26T00:00:00"
         ],
         "y": [
          16728.783333333264,
          16728.783333333264
         ]
        },
        {
         "line": {
          "color": "white",
          "dash": "dash",
          "width": 1
         },
         "mode": "lines",
         "name": "POC",
         "showlegend": true,
         "type": "scatter",
         "x": [
          "2023-01-02T00:00:00",
          "2023-01-30T00:00:00"
         ],
         "y": [
          22712.358823529423,
          22712.358823529423
         ]
        },
        {
         "line": {
          "color": "white",
          "dash": "dash",
          "width": 1
         },
         "mode": "lines",
         "name": "POC",
         "showlegend": true,
         "type": "scatter",
         "x": [
          "2023-02-06T00:00:00",
          "2023-03-13T00:00:00"
         ],
         "y": [
          24262.017647058878,
          24262.017647058878
         ]
        },
        {
         "line": {
          "color": "white",
          "dash": "dash",
          "width": 1
         },
         "mode": "lines",
         "name": "POC",
         "showlegend": true,
         "type": "scatter",
         "x": [
          "2023-03-06T00:00:00",
          "2023-03-27T00:00:00"
         ],
         "y": [
          27949.999999999727,
          27949.999999999727
         ]
        },
        {
         "line": {
          "color": "white",
          "dash": "dash",
          "width": 1
         },
         "mode": "lines",
         "name": "POC",
         "showlegend": true,
         "type": "scatter",
         "x": [
          "2023-04-03T00:00:00",
          "2023-04-24T00:00:00"
         ],
         "y": [
          29211.99941176468,
          29211.99941176468
         ]
        },
        {
         "line": {
          "color": "white",
          "dash": "dash",
          "width": 1
         },
         "mode": "lines",
         "name": "POC",
         "showlegend": true,
         "type": "scatter",
         "x": [
          "2023-05-01T00:00:00",
          "2023-05-29T00:00:00"
         ],
         "y": [
          26902.259999999987,
          26902.259999999987
         ]
        },
        {
         "line": {
          "color": "white",
          "dash": "dash",
          "width": 1
         },
         "mode": "lines",
         "name": "POC",
         "showlegend": true,
         "type": "scatter",
         "x": [
          "2023-06-05T00:00:00",
          "2023-06-26T00:00:00"
         ],
         "y": [
          30464.052941176386,
          30464.052941176386
         ]
        },
        {
         "line": {
          "color": "white",
          "dash": "dash",
          "width": 1
         },
         "mode": "lines",
         "name": "POC",
         "showlegend": true,
         "type": "scatter",
         "x": [
          "2023-07-03T00:00:00",
          "2023-08-07T00:00:00"
         ],
         "y": [
          30219.153529411997,
          30219.153529411997
         ]
        },
        {
         "line": {
          "color": "white",
          "dash": "dash",
          "width": 1
         },
         "mode": "lines",
         "name": "POC",
         "showlegend": true,
         "type": "scatter",
         "x": [
          "2023-08-07T00:00:00",
          "2023-08-28T00:00:00"
         ],
         "y": [
          25966.451764705882,
          25966.451764705882
         ]
        },
        {
         "line": {
          "color": "white",
          "dash": "dash",
          "width": 1
         },
         "mode": "lines",
         "name": "POC",
         "showlegend": true,
         "type": "scatter",
         "x": [
          "2023-09-04T00:00:00",
          "2023-09-25T00:00:00"
         ],
         "y": [
          26514.387843137298,
          26514.387843137298
         ]
        },
        {
         "line": {
          "color": "white",
          "dash": "dash",
          "width": 1
         },
         "mode": "lines",
         "name": "POC",
         "showlegend": true,
         "type": "scatter",
         "x": [
          "2023-10-02T00:00:00",
          "2023-10-30T00:00:00"
         ],
         "y": [
          34524.850000000115,
          34524.850000000115
         ]
        },
        {
         "line": {
          "color": "white",
          "dash": "dash",
          "width": 1
         },
         "mode": "lines",
         "name": "POC",
         "showlegend": true,
         "type": "scatter",
         "x": [
          "2023-11-06T00:00:00",
          "2023-11-27T00:00:00"
         ],
         "y": [
          37095.206666666665,
          37095.206666666665
         ]
        },
        {
         "line": {
          "color": "white",
          "dash": "dash",
          "width": 1
         },
         "mode": "lines",
         "name": "POC",
         "showlegend": true,
         "type": "scatter",
         "x": [
          "2023-12-04T00:00:00",
          "2023-12-25T00:00:00"
         ],
         "y": [
          43819.03803921649,
          43819.03803921649
         ]
        },
        {
         "line": {
          "color": "white",
          "dash": "dash",
          "width": 1
         },
         "mode": "lines",
         "name": "POC",
         "showlegend": true,
         "type": "scatter",
         "x": [
          "2024-02-05T00:00:00",
          "2024-02-26T00:00:00"
         ],
         "y": [
          52201.30352941157,
          52201.30352941157
         ]
        },
        {
         "line": {
          "color": "white",
          "dash": "dash",
          "width": 1
         },
         "mode": "lines",
         "name": "POC",
         "showlegend": true,
         "type": "scatter",
         "x": [
          "2024-03-04T00:00:00",
          "2024-03-25T00:00:00"
         ],
         "y": [
          69005.33196078474,
          69005.33196078474
         ]
        },
        {
         "line": {
          "color": "white",
          "dash": "dash",
          "width": 1
         },
         "mode": "lines",
         "name": "POC",
         "showlegend": true,
         "type": "scatter",
         "x": [
          "2024-04-01T00:00:00",
          "2024-05-13T00:00:00"
         ],
         "y": [
          65609.95882352909,
          65609.95882352909
         ]
        },
        {
         "line": {
          "color": "white",
          "dash": "dash",
          "width": 1
         },
         "mode": "lines",
         "name": "POC",
         "showlegend": true,
         "type": "scatter",
         "x": [
          "2024-05-06T00:00:00",
          "2024-06-24T00:00:00"
         ],
         "y": [
          61463.58019607843,
          61463.58019607843
         ]
        },
        {
         "line": {
          "color": "white",
          "dash": "dash",
          "width": 1
         },
         "mode": "lines",
         "name": "POC",
         "showlegend": true,
         "type": "scatter",
         "x": [
          "2024-06-03T00:00:00",
          "2024-06-24T00:00:00"
         ],
         "y": [
          62763.01529411765,
          62763.01529411765
         ]
        },
        {
         "line": {
          "color": "white",
          "dash": "dash",
          "width": 1
         },
         "mode": "lines",
         "name": "POC",
         "showlegend": true,
         "type": "scatter",
         "x": [
          "2024-07-01T00:00:00",
          "2024-07-29T00:00:00"
         ],
         "y": [
          58149.97156862731,
          58149.97156862731
         ]
        },
        {
         "line": {
          "color": "white",
          "dash": "dash",
          "width": 1
         },
         "mode": "lines",
         "name": "POC",
         "showlegend": true,
         "type": "scatter",
         "x": [
          "2024-08-05T00:00:00",
          "2024-08-26T00:00:00"
         ],
         "y": [
          58716.85215686269,
          58716.85215686269
         ]
        },
        {
         "line": {
          "color": "white",
          "dash": "dash",
          "width": 1
         },
         "mode": "lines",
         "name": "POC",
         "showlegend": true,
         "type": "scatter",
         "x": [
          "2024-09-02T00:00:00",
          "2024-09-30T00:00:00"
         ],
         "y": [
          62775.64882352932,
          62775.64882352932
         ]
        },
        {
         "line": {
          "color": "white",
          "dash": "dash",
          "width": 1
         },
         "mode": "lines",
         "name": "POC",
         "showlegend": true,
         "type": "scatter",
         "x": [
          "2024-10-07T00:00:00",
          "2024-10-28T00:00:00"
         ],
         "y": [
          68754.60411764732,
          68754.60411764732
         ]
        },
        {
         "line": {
          "color": "white",
          "dash": "dash",
          "width": 1
         },
         "mode": "lines",
         "name": "POC",
         "showlegend": true,
         "type": "scatter",
         "x": [
          "2024-12-02T00:00:00",
          "2024-12-30T00:00:00"
         ],
         "y": [
          95162.42235294112,
          95162.42235294112
         ]
        },
        {
         "line": {
          "color": "white",
          "dash": "dash",
          "width": 1
         },
         "mode": "lines",
         "name": "POC",
         "showlegend": true,
         "type": "scatter",
         "x": [
          "2024-11-04T00:00:00",
          "2025-01-13T00:00:00"
         ],
         "y": [
          89918.26470588223,
          89918.26470588223
         ]
        },
        {
         "line": {
          "color": "white",
          "dash": "dash",
          "width": 1
         },
         "mode": "lines",
         "name": "POC",
         "showlegend": true,
         "type": "scatter",
         "x": [
          "2025-01-06T00:00:00",
          "2025-01-27T00:00:00"
         ],
         "y": [
          102537.92803921753,
          102537.92803921753
         ]
        },
        {
         "line": {
          "color": "white",
          "dash": "dash",
          "width": 1
         },
         "mode": "lines",
         "name": "POC",
         "showlegend": true,
         "type": "scatter",
         "x": [
          "2025-02-03T00:00:00",
          "2025-02-24T00:00:00"
         ],
         "y": [
          94263.95274509804,
          94263.95274509804
         ]
        },
        {
         "line": {
          "color": "white",
          "dash": "dash",
          "width": 1
         },
         "mode": "lines",
         "name": "POC",
         "showlegend": true,
         "type": "scatter",
         "x": [
          "2025-03-03T00:00:00",
          "2025-03-31T00:00:00"
         ],
         "y": [
          80704.65588235347,
          80704.65588235347
         ]
        },
        {
         "line": {
          "color": "white",
          "dash": "dash",
          "width": 1
         },
         "mode": "lines",
         "name": "POC",
         "showlegend": true,
         "type": "scatter",
         "x": [
          "2025-05-05T00:00:00",
          "2025-05-26T00:00:00"
         ],
         "y": [
          104089.60039215686,
          104089.60039215686
         ]
        },
        {
         "line": {
          "color": "white",
          "dash": "dash",
          "width": 1
         },
         "mode": "lines",
         "name": "POC",
         "showlegend": true,
         "type": "scatter",
         "x": [
          "2025-07-07T00:00:00",
          "2025-07-28T00:00:00"
         ],
         "y": [
          117285.70470588308,
          117285.70470588308
         ]
        },
        {
         "line": {
          "color": "white",
          "dash": "dash",
          "width": 1
         },
         "mode": "lines",
         "name": "POC",
         "showlegend": true,
         "type": "scatter",
         "x": [
          "2025-08-04T00:00:00",
          "2025-09-15T00:00:00"
         ],
         "y": [
          117339.66235294148,
          117339.66235294148
         ]
        },
        {
         "line": {
          "color": "white",
          "dash": "dash",
          "width": 1
         },
         "mode": "lines",
         "name": "nPOC",
         "showlegend": true,
         "type": "scatter",
         "x": [
          "2024-01-01T00:00:00",
          "2025-09-29T00:00:00"
         ],
         "y": [
          41728.47960784316,
          41728.47960784316
         ]
        },
        {
         "line": {
          "color": "white",
          "dash": "dash",
          "width": 1
         },
         "mode": "lines",
         "name": "nPOC",
         "showlegend": true,
         "type": "scatter",
         "x": [
          "2025-04-07T00:00:00",
          "2025-09-29T00:00:00"
         ],
         "y": [
          83737.4025490196,
          83737.4025490196
         ]
        },
        {
         "line": {
          "color": "white",
          "dash": "dash",
          "width": 1
         },
         "mode": "lines",
         "name": "nPOC",
         "showlegend": true,
         "type": "scatter",
         "x": [
          "2025-06-02T00:00:00",
          "2025-09-29T00:00:00"
         ],
         "y": [
          100920.48862745098,
          100920.48862745098
         ]
        },
        {
         "line": {
          "color": "white",
          "dash": "dash",
          "width": 1
         },
         "mode": "lines",
         "name": "nPOC",
         "showlegend": true,
         "type": "scatter",
         "x": [
          "2025-09-01T00:00:00",
          "2025-09-29T00:00:00"
         ],
         "y": [
          111099.58823529411,
          111099.58823529411
         ]
        }
       ],
       "layout": {
        "height": 800,
        "showlegend": false,
        "template": {
         "data": {
          "bar": [
           {
            "error_x": {
             "color": "#f2f5fa"
            },
            "error_y": {
             "color": "#f2f5fa"
            },
            "marker": {
             "line": {
              "color": "rgb(17,17,17)",
              "width": 0.5
             },
             "pattern": {
              "fillmode": "overlay",
              "size": 10,
              "solidity": 0.2
             }
            },
            "type": "bar"
           }
          ],
          "barpolar": [
           {
            "marker": {
             "line": {
              "color": "rgb(17,17,17)",
              "width": 0.5
             },
             "pattern": {
              "fillmode": "overlay",
              "size": 10,
              "solidity": 0.2
             }
            },
            "type": "barpolar"
           }
          ],
          "carpet": [
           {
            "aaxis": {
             "endlinecolor": "#A2B1C6",
             "gridcolor": "#506784",
             "linecolor": "#506784",
             "minorgridcolor": "#506784",
             "startlinecolor": "#A2B1C6"
            },
            "baxis": {
             "endlinecolor": "#A2B1C6",
             "gridcolor": "#506784",
             "linecolor": "#506784",
             "minorgridcolor": "#506784",
             "startlinecolor": "#A2B1C6"
            },
            "type": "carpet"
           }
          ],
          "choropleth": [
           {
            "colorbar": {
             "outlinewidth": 0,
             "ticks": ""
            },
            "type": "choropleth"
           }
          ],
          "contour": [
           {
            "colorbar": {
             "outlinewidth": 0,
             "ticks": ""
            },
            "colorscale": [
             [
              0,
              "#0d0887"
             ],
             [
              0.1111111111111111,
              "#46039f"
             ],
             [
              0.2222222222222222,
              "#7201a8"
             ],
             [
              0.3333333333333333,
              "#9c179e"
             ],
             [
              0.4444444444444444,
              "#bd3786"
             ],
             [
              0.5555555555555556,
              "#d8576b"
             ],
             [
              0.6666666666666666,
              "#ed7953"
             ],
             [
              0.7777777777777778,
              "#fb9f3a"
             ],
             [
              0.8888888888888888,
              "#fdca26"
             ],
             [
              1,
              "#f0f921"
             ]
            ],
            "type": "contour"
           }
          ],
          "contourcarpet": [
           {
            "colorbar": {
             "outlinewidth": 0,
             "ticks": ""
            },
            "type": "contourcarpet"
           }
          ],
          "heatmap": [
           {
            "colorbar": {
             "outlinewidth": 0,
             "ticks": ""
            },
            "colorscale": [
             [
              0,
              "#0d0887"
             ],
             [
              0.1111111111111111,
              "#46039f"
             ],
             [
              0.2222222222222222,
              "#7201a8"
             ],
             [
              0.3333333333333333,
              "#9c179e"
             ],
             [
              0.4444444444444444,
              "#bd3786"
             ],
             [
              0.5555555555555556,
              "#d8576b"
             ],
             [
              0.6666666666666666,
              "#ed7953"
             ],
             [
              0.7777777777777778,
              "#fb9f3a"
             ],
             [
              0.8888888888888888,
              "#fdca26"
             ],
             [
              1,
              "#f0f921"
             ]
            ],
            "type": "heatmap"
           }
          ],
          "histogram": [
           {
            "marker": {
             "pattern": {
              "fillmode": "overlay",
              "size": 10,
              "solidity": 0.2
             }
            },
            "type": "histogram"
           }
          ],
          "histogram2d": [
           {
            "colorbar": {
             "outlinewidth": 0,
             "ticks": ""
            },
            "colorscale": [
             [
              0,
              "#0d0887"
             ],
             [
              0.1111111111111111,
              "#46039f"
             ],
             [
              0.2222222222222222,
              "#7201a8"
             ],
             [
              0.3333333333333333,
              "#9c179e"
             ],
             [
              0.4444444444444444,
              "#bd3786"
             ],
             [
              0.5555555555555556,
              "#d8576b"
             ],
             [
              0.6666666666666666,
              "#ed7953"
             ],
             [
              0.7777777777777778,
              "#fb9f3a"
             ],
             [
              0.8888888888888888,
              "#fdca26"
             ],
             [
              1,
              "#f0f921"
             ]
            ],
            "type": "histogram2d"
           }
          ],
          "histogram2dcontour": [
           {
            "colorbar": {
             "outlinewidth": 0,
             "ticks": ""
            },
            "colorscale": [
             [
              0,
              "#0d0887"
             ],
             [
              0.1111111111111111,
              "#46039f"
             ],
             [
              0.2222222222222222,
              "#7201a8"
             ],
             [
              0.3333333333333333,
              "#9c179e"
             ],
             [
              0.4444444444444444,
              "#bd3786"
             ],
             [
              0.5555555555555556,
              "#d8576b"
             ],
             [
              0.6666666666666666,
              "#ed7953"
             ],
             [
              0.7777777777777778,
              "#fb9f3a"
             ],
             [
              0.8888888888888888,
              "#fdca26"
             ],
             [
              1,
              "#f0f921"
             ]
            ],
            "type": "histogram2dcontour"
           }
          ],
          "mesh3d": [
           {
            "colorbar": {
             "outlinewidth": 0,
             "ticks": ""
            },
            "type": "mesh3d"
           }
          ],
          "parcoords": [
           {
            "line": {
             "colorbar": {
              "outlinewidth": 0,
              "ticks": ""
             }
            },
            "type": "parcoords"
           }
          ],
          "pie": [
           {
            "automargin": true,
            "type": "pie"
           }
          ],
          "scatter": [
           {
            "marker": {
             "line": {
              "color": "#283442"
             }
            },
            "type": "scatter"
           }
          ],
          "scatter3d": [
           {
            "line": {
             "colorbar": {
              "outlinewidth": 0,
              "ticks": ""
             }
            },
            "marker": {
             "colorbar": {
              "outlinewidth": 0,
              "ticks": ""
             }
            },
            "type": "scatter3d"
           }
          ],
          "scattercarpet": [
           {
            "marker": {
             "colorbar": {
              "outlinewidth": 0,
              "ticks": ""
             }
            },
            "type": "scattercarpet"
           }
          ],
          "scattergeo": [
           {
            "marker": {
             "colorbar": {
              "outlinewidth": 0,
              "ticks": ""
             }
            },
            "type": "scattergeo"
           }
          ],
          "scattergl": [
           {
            "marker": {
             "line": {
              "color": "#283442"
             }
            },
            "type": "scattergl"
           }
          ],
          "scattermap": [
           {
            "marker": {
             "colorbar": {
              "outlinewidth": 0,
              "ticks": ""
             }
            },
            "type": "scattermap"
           }
          ],
          "scattermapbox": [
           {
            "marker": {
             "colorbar": {
              "outlinewidth": 0,
              "ticks": ""
             }
            },
            "type": "scattermapbox"
           }
          ],
          "scatterpolar": [
           {
            "marker": {
             "colorbar": {
              "outlinewidth": 0,
              "ticks": ""
             }
            },
            "type": "scatterpolar"
           }
          ],
          "scatterpolargl": [
           {
            "marker": {
             "colorbar": {
              "outlinewidth": 0,
              "ticks": ""
             }
            },
            "type": "scatterpolargl"
           }
          ],
          "scatterternary": [
           {
            "marker": {
             "colorbar": {
              "outlinewidth": 0,
              "ticks": ""
             }
            },
            "type": "scatterternary"
           }
          ],
          "surface": [
           {
            "colorbar": {
             "outlinewidth": 0,
             "ticks": ""
            },
            "colorscale": [
             [
              0,
              "#0d0887"
             ],
             [
              0.1111111111111111,
              "#46039f"
             ],
             [
              0.2222222222222222,
              "#7201a8"
             ],
             [
              0.3333333333333333,
              "#9c179e"
             ],
             [
              0.4444444444444444,
              "#bd3786"
             ],
             [
              0.5555555555555556,
              "#d8576b"
             ],
             [
              0.6666666666666666,
              "#ed7953"
             ],
             [
              0.7777777777777778,
              "#fb9f3a"
             ],
             [
              0.8888888888888888,
              "#fdca26"
             ],
             [
              1,
              "#f0f921"
             ]
            ],
            "type": "surface"
           }
          ],
          "table": [
           {
            "cells": {
             "fill": {
              "color": "#506784"
             },
             "line": {
              "color": "rgb(17,17,17)"
             }
            },
            "header": {
             "fill": {
              "color": "#2a3f5f"
             },
             "line": {
              "color": "rgb(17,17,17)"
             }
            },
            "type": "table"
           }
          ]
         },
         "layout": {
          "annotationdefaults": {
           "arrowcolor": "#f2f5fa",
           "arrowhead": 0,
           "arrowwidth": 1
          },
          "autotypenumbers": "strict",
          "coloraxis": {
           "colorbar": {
            "outlinewidth": 0,
            "ticks": ""
           }
          },
          "colorscale": {
           "diverging": [
            [
             0,
             "#8e0152"
            ],
            [
             0.1,
             "#c51b7d"
            ],
            [
             0.2,
             "#de77ae"
            ],
            [
             0.3,
             "#f1b6da"
            ],
            [
             0.4,
             "#fde0ef"
            ],
            [
             0.5,
             "#f7f7f7"
            ],
            [
             0.6,
             "#e6f5d0"
            ],
            [
             0.7,
             "#b8e186"
            ],
            [
             0.8,
             "#7fbc41"
            ],
            [
             0.9,
             "#4d9221"
            ],
            [
             1,
             "#276419"
            ]
           ],
           "sequential": [
            [
             0,
             "#0d0887"
            ],
            [
             0.1111111111111111,
             "#46039f"
            ],
            [
             0.2222222222222222,
             "#7201a8"
            ],
            [
             0.3333333333333333,
             "#9c179e"
            ],
            [
             0.4444444444444444,
             "#bd3786"
            ],
            [
             0.5555555555555556,
             "#d8576b"
            ],
            [
             0.6666666666666666,
             "#ed7953"
            ],
            [
             0.7777777777777778,
             "#fb9f3a"
            ],
            [
             0.8888888888888888,
             "#fdca26"
            ],
            [
             1,
             "#f0f921"
            ]
           ],
           "sequentialminus": [
            [
             0,
             "#0d0887"
            ],
            [
             0.1111111111111111,
             "#46039f"
            ],
            [
             0.2222222222222222,
             "#7201a8"
            ],
            [
             0.3333333333333333,
             "#9c179e"
            ],
            [
             0.4444444444444444,
             "#bd3786"
            ],
            [
             0.5555555555555556,
             "#d8576b"
            ],
            [
             0.6666666666666666,
             "#ed7953"
            ],
            [
             0.7777777777777778,
             "#fb9f3a"
            ],
            [
             0.8888888888888888,
             "#fdca26"
            ],
            [
             1,
             "#f0f921"
            ]
           ]
          },
          "colorway": [
           "#636efa",
           "#EF553B",
           "#00cc96",
           "#ab63fa",
           "#FFA15A",
           "#19d3f3",
           "#FF6692",
           "#B6E880",
           "#FF97FF",
           "#FECB52"
          ],
          "font": {
           "color": "#f2f5fa"
          },
          "geo": {
           "bgcolor": "rgb(17,17,17)",
           "lakecolor": "rgb(17,17,17)",
           "landcolor": "rgb(17,17,17)",
           "showlakes": true,
           "showland": true,
           "subunitcolor": "#506784"
          },
          "hoverlabel": {
           "align": "left"
          },
          "hovermode": "closest",
          "mapbox": {
           "style": "dark"
          },
          "paper_bgcolor": "rgb(17,17,17)",
          "plot_bgcolor": "rgb(17,17,17)",
          "polar": {
           "angularaxis": {
            "gridcolor": "#506784",
            "linecolor": "#506784",
            "ticks": ""
           },
           "bgcolor": "rgb(17,17,17)",
           "radialaxis": {
            "gridcolor": "#506784",
            "linecolor": "#506784",
            "ticks": ""
           }
          },
          "scene": {
           "xaxis": {
            "backgroundcolor": "rgb(17,17,17)",
            "gridcolor": "#506784",
            "gridwidth": 2,
            "linecolor": "#506784",
            "showbackground": true,
            "ticks": "",
            "zerolinecolor": "#C8D4E3"
           },
           "yaxis": {
            "backgroundcolor": "rgb(17,17,17)",
            "gridcolor": "#506784",
            "gridwidth": 2,
            "linecolor": "#506784",
            "showbackground": true,
            "ticks": "",
            "zerolinecolor": "#C8D4E3"
           },
           "zaxis": {
            "backgroundcolor": "rgb(17,17,17)",
            "gridcolor": "#506784",
            "gridwidth": 2,
            "linecolor": "#506784",
            "showbackground": true,
            "ticks": "",
            "zerolinecolor": "#C8D4E3"
           }
          },
          "shapedefaults": {
           "line": {
            "color": "#f2f5fa"
           }
          },
          "sliderdefaults": {
           "bgcolor": "#C8D4E3",
           "bordercolor": "rgb(17,17,17)",
           "borderwidth": 1,
           "tickwidth": 0
          },
          "ternary": {
           "aaxis": {
            "gridcolor": "#506784",
            "linecolor": "#506784",
            "ticks": ""
           },
           "baxis": {
            "gridcolor": "#506784",
            "linecolor": "#506784",
            "ticks": ""
           },
           "bgcolor": "rgb(17,17,17)",
           "caxis": {
            "gridcolor": "#506784",
            "linecolor": "#506784",
            "ticks": ""
           }
          },
          "title": {
           "x": 0.05
          },
          "updatemenudefaults": {
           "bgcolor": "#506784",
           "borderwidth": 0
          },
          "xaxis": {
           "automargin": true,
           "gridcolor": "#283442",
           "linecolor": "#506784",
           "ticks": "",
           "title": {
            "standoff": 15
           },
           "zerolinecolor": "#283442",
           "zerolinewidth": 2
          },
          "yaxis": {
           "automargin": true,
           "gridcolor": "#283442",
           "linecolor": "#506784",
           "ticks": "",
           "title": {
            "standoff": 15
           },
           "zerolinecolor": "#283442",
           "zerolinewidth": 2
          }
         }
        },
        "title": {
         "text": "BTCUSDT - W - TA Chart Visualizer"
        },
        "xaxis": {
         "fixedrange": false,
         "rangeslider": {
          "visible": false
         },
         "title": {
          "text": "Time"
         }
        },
        "yaxis": {
         "fixedrange": false,
         "title": {
          "text": "Price"
         },
         "type": "log"
        }
       }
      }
     },
     "metadata": {},
     "output_type": "display_data"
    },
    {
     "name": "stdout",
     "output_type": "stream",
     "text": [
      "\n",
      "==================================================\n",
      "Visualizing: ./data/BTCUSDT-D.json\n",
      "==================================================\n",
      "Processing 423 candles for BTCUSDT at D interval from ./data/BTCUSDT-D.json\n",
      "  Period 2024-W30: SKIPPED - insufficient data\n",
      "Volume Profile: Generated 183 volume profile ranges\n"
     ]
    },
    {
     "data": {
      "application/vnd.plotly.v1+json": {
       "config": {
        "plotlyServerURL": "https://plot.ly"
       },
       "data": [
        {
         "close": {
          "bdata": "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",
          "dtype": "f8"
         },
         "high": {
          "bdata": "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",
          "dtype": "f8"
         },
         "low": {
          "bdata": "AAAAAMDn60AzMzMzQ+LnQJqZmZmpU+pAZmZmZrae6kAAAAAAILbqQAAAAAAADO1AAAAAAOBn7UAAAAAAAHPsQAAAAABgGuxAAAAAAICB7EAzMzMz44PsQDMzMzODXutAZmZmZvbd60AAAAAAoLHsQAAAAAAAhOxAMzMzMyMz7EAAAAAAAITsQM3MzMwMrexAzczMzPwc7UAzMzMzg3PtQAAAAAAABO9AAAAAAMAg70AAAAAAIKfuQAAAAACwQexAAAAAAAA57EBmZmZmRp/sQGZmZmY2KOxAzczMzDyq7EDNzMzMLMrrQGZmZmYG3utAZmZmZpYB7EAAAAAAoBnrQJqZmZm5GutAZmZmZoai6UAAAAAAoDzqQAAAAADwLOpAmpmZmQmk6kAAAAAAwIPrQDMzMzNDHetAAAAAAFD660AAAAAAYB3sQGZmZma2++xAMzMzM4Oj7EAAAAAAQA3sQAAAAAAAHOxAZmZmZsbe7EAzMzMzcwruQAAAAADAbO5AmpmZmRmf7kAAAAAAwHHuQDMzMzMjie5AAAAAAECV7kAAAAAAgLbuQAAAAABAl+5AAAAAAKCi70AAAAAAwOPvQAAAAABQ6+9AAAAAAACq7kDNzMzM3FrtQM3MzMwcRu1AZmZmZgY47UAAAAAAwH/tQAAAAABAGu5AmpmZmekr7kAAAAAA4EzuQM3MzMxsLe5AAAAAAEBt7UAAAAAAgMLsQM3MzMwMVO1AzczMzDx/7kAzMzMzg0fuQAAAAADQeu5AMzMzM0Of70AAAAAAcErwQJqZmZmhRfBAAAAAAFBl8EAAAAAAwJjwQGZmZmaunvBAzczMzFRS8EBmZmZmDkDwQGZmZmYG2+9AzczMzNQ88EAAAAAAkP7vQGZmZmaGNvBAMzMzM5NV8EBmZmZmNn/wQGZmZmZ2BvFAmpmZmfFx8UDNzMzMdAXxQAAAAAAAzPBAmpmZmVnX8ECamZmZAXjwQAAAAACAT/BAAAAAAJh38EAzMzMzi+jwQM3MzMzELvJAAAAAAKB18kAzMzMze3vyQDMzMzPDrfJAzczMzLyY80AAAAAA4Mn0QJqZmZkZBvVAAAAAAFAo9UAzMzMzu0L1QAAAAADQAPZAMzMzM/up9UAAAAAAANX1QGZmZmY+FPZAAAAAAHBX9kAAAAAAAPX2QAAAAACgu/dAZmZmZh6690DNzMzMhGP3QAAAAADAnPZAAAAAADgt9kCamZmZGW32QAAAAAAwH/dAzczMzMRL90AAAAAAcHn3QAAAAABgYPdAAAAAAHAP90BmZmZmVtr2QAAAAADgGvdAAAAAACAa9kCamZmZ+YP3QGZmZmY2JPhAmpmZmZEa+EAAAAAAAOz2QM3MzMzs/vZAzczMzGRV90AAAAAAQD74QAAAAAAANvhAmpmZmRGO+EBmZmZmtrf4QM3MzMyEOPlAAAAAAEC1+UAAAAAAgF34QAAAAACIWfdAAAAAAGCE9kAzMzMza4T3QAAAAACA//ZAzczMzByT9kCamZmZSdT2QJqZmZmp0fdAAAAAABg690CamZmZQcz2QDMzMzNj9/ZAMzMzM+uv9kAzMzMze1T2QGZmZmbWdPZAAAAAAICq9kBmZmZmPgj3QJqZmZnhc/dAzczMzCzK90AAAAAAALz3QAAAAABQ5PdAZmZmZhZ390AAAAAAqI32QAAAAADwQPZAMzMzMxOA9kAAAAAAgOb2QAAAAADA3fZAAAAAAMDA9UDNzMzMpAf3QAAAAAAgjPdAAAAAALDA90CamZmZIWT4QAAAAABA9vhAAAAAAABR+ECamZmZwUr4QAAAAAAAavhAAAAAAOA4+UCamZmZUbX4QM3MzMw8EvlAZmZmZk5m+UCamZmZkQP5QDMzMzPj2fdAMzMzM9t2+EDNzMzMFLn4QAAAAAAwNPlAZmZmZsbF+ECamZmZcXf4QM3MzMykb/dAmpmZmelB9kCamZmZYXX3QJqZmZlBdvdAzczMzPxY90AAAAAASFT3QM3MzMw8WfdAMzMzM7Mb90DNzMzMLD73QGZmZmZeJvdAMzMzMxPz9kCamZmZQTv3QAAAAACAfPdAzczMzHy590AAAAAAAHD3QAAAAACAO/dAmpmZmWHI9kCamZmZCTL3QAAAAAAoiPdAMzMzMwMn90DNzMzMbGT3QAAAAABgQfdAMzMzM6tH9kAAAAAAeAL1QJqZmZl5CPRAAAAAAOAu9EAAAAAAKBjzQGZmZmYOc/RAMzMzM/vA9EBmZmZm9sH0QDMzMzNb4PNAzczMzOwU9UCamZmZgW/1QDMzMzMrp/RAZmZmZh7M9EBmZmZmloLzQJqZmZmx5fJAAAAAABCw8kCamZmZaanzQAAAAAAAgfNAmpmZmem380DNzMzMfGj0QGZmZmbmAPRAMzMzMwse9ECamZmZWczzQAAAAAC4IvRAzczMzFxp9EDNzMzMBEz0QAAAAAAAavRAMzMzM5Ny9EBmZmZmBt/0QAAAAABQD/VAmpmZmYHy9EBmZmZm9uv0QAAAAACQZfRAZmZmZi7s80AAAAAAYObzQM3MzMzE0/NAmpmZmXkc9EBmZmZmnhb0QAAAAACgz/NAAAAAAFDs80AAAAAAcBr0QAAAAAC40fJAMzMzM4Mt8kBmZmZmjpryQGZmZmZeNPJAAAAAAGAl80AzMzMzA0XzQM3MzMwUNPRAmpmZmZFA9EAAAAAAWGv0QAAAAADoY/RAAAAAAPBG9EBmZmZm1m30QAAAAACgkfRAmpmZmUGW9EAzMzMzq3r0QJqZmZkhx/RAmpmZmVk+9UDNzMzMfHD2QAAAAAD4XvZAmpmZmXmm9kDNzMzM/Oj2QGZmZmYm1vZAAAAAAOCk9kAAAAAAIN/2QGZmZmZGq/ZAMzMzM2v39kBmZmZmLoP3QJqZmZlBXfdAAAAAAED59kAzMzMzQ9H2QAAAAABYyfZAMzMzM8Ne90CamZmZAaT3QJqZmZmB9/hAAAAAAEAX+UAAAAAAIDX5QAAAAAAAlfhAAAAAAEDA+EAAAAAAYAn5QAAAAABQvfhAMzMzMyMo+UAzMzMzuwj5QAAAAACgKPlAAAAAAADn+EBmZmZm1mv5QM3MzMwc4flAAAAAAOCl+kAAAAAAMBD6QM3MzMwEFfpAZmZmZqYC+kAzMzMzC4b6QDMzMzPbOfpAAAAAAOAN+kAAAAAAILL5QAAAAAAQSflAzczMzMwn+UAzMzMzC1H5QGZmZmZmS/lAZmZmZt6W+UDNzMzMdGz5QAAAAADgf/hAAAAAAGCr+EAAAAAAMFj5QDMzMzPLnflAmpmZmUmy+UAzMzMzc2/6QJqZmZlpXvpAzczMzLzG+UBmZmZmLg75QAAAAACgc/lAAAAAABB/+UAzMzMzk535QGZmZmZ2OPlAzczMzOQ/+UAAAAAAgFv5QAAAAABA9/hAAAAAAACc+EAAAAAA0PT3QAAAAADQT/hAAAAAAHCH+UAAAAAAYNH5QDMzMzOb/flAAAAAAIDy+UAAAAAAkBD6QM3MzMycJvpAAAAAAFAL+kDNzMzMxK35QJqZmZkppvlAmpmZmXF6+kDNzMzMRC36QGZmZmZeSvpAmpmZmSlP+kCamZmZmTv6QDMzMzObNvpAZmZmZnZu+kBmZmZmLvf6QAAAAAAAIPxAmpmZmUGI/EDNzMzMVJv8QDMzMzOzBP1AAAAAAGBC/EAAAAAAcJL8QGZmZmaerPxAmpmZmWGF/EAzMzMzW5/8QJqZmZl5bvxAAAAAAGB0/EAAAAAAsFn8QAAAAABAo/xAmpmZmaGT/EAAAAAAYAH8QAAAAADgmfxAmpmZmfnC/EAAAAAAmKn8QJqZmZkJi/xAmpmZmaFB/ECamZmZiSr8QM3MzMxMg/tAAAAAAOBU+0AAAAAA4E/7QDMzMzPb2PtAMzMzMxt8+0AzMzMzQ6n7QAAAAACg4vtAMzMzM+NI/EAzMzMzA2T8QAAAAAAAa/xAzczMzPTF/EAAAAAAYNj8QAAAAABIB/1AAAAAANCX/EDNzMzM9H78QDMzMzPblPxAAAAAANCW/EAzMzMzG/n7QAAAAAAQgvtAzczMzOxp+0AzMzMzk1T7QM3MzMwsQPtAMzMzM4v0+0AAAAAAcP36QJqZmZlpqvpAAAAAANCH+kCamZmZge76QAAAAADYC/tAmpmZmYk6+kAAAAAAQDL6QGZmZmaGXvpAAAAAACAs+kAzMzMzC3L6QM3MzMzM+PpAMzMzM8ut+kAAAAAAsOT6QAAAAAAA1PpAZmZmZnbi+kDNzMzMtP36QGZmZmYmB/tAAAAAABAR+0AAAAAAoKX7QM3MzMzMAPxAMzMzMyMS/ECamZmZQRf8QM3MzMzE6PtAAAAAAAAA/EAAAAAAYAH8QJqZmZnBUPxAAAAAALAV/EAAAAAAACr8QM3MzMzUGvxAAAAAAMA4+0AzMzMzay/7QDMzMzODE/tAAAAAAACB+kAAAAAAYID6QAAAAADAm/pAzczMzNyk+kAzMzMz8zf7QGZmZma+fftA",
          "dtype": "f8"
         },
         "name": "Candlestick",
         "open": {
          "bdata": "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",
          "dtype": "f8"
         },
         "showlegend": false,
         "type": "candlestick",
         "x": [
          "2024-08-04T00:00:00.000000000",
          "2024-08-05T00:00:00.000000000",
          "2024-08-06T00:00:00.000000000",
          "2024-08-07T00:00:00.000000000",
          "2024-08-08T00:00:00.000000000",
          "2024-08-09T00:00:00.000000000",
          "2024-08-10T00:00:00.000000000",
          "2024-08-11T00:00:00.000000000",
          "2024-08-12T00:00:00.000000000",
          "2024-08-13T00:00:00.000000000",
          "2024-08-14T00:00:00.000000000",
          "2024-08-15T00:00:00.000000000",
          "2024-08-16T00:00:00.000000000",
          "2024-08-17T00:00:00.000000000",
          "2024-08-18T00:00:00.000000000",
          "2024-08-19T00:00:00.000000000",
          "2024-08-20T00:00:00.000000000",
          "2024-08-21T00:00:00.000000000",
          "2024-08-22T00:00:00.000000000",
          "2024-08-23T00:00:00.000000000",
          "2024-08-24T00:00:00.000000000",
          "2024-08-25T00:00:00.000000000",
          "2024-08-26T00:00:00.000000000",
          "2024-08-27T00:00:00.000000000",
          "2024-08-28T00:00:00.000000000",
          "2024-08-29T00:00:00.000000000",
          "2024-08-30T00:00:00.000000000",
          "2024-08-31T00:00:00.000000000",
          "2024-09-01T00:00:00.000000000",
          "2024-09-02T00:00:00.000000000",
          "2024-09-03T00:00:00.000000000",
          "2024-09-04T00:00:00.000000000",
          "2024-09-05T00:00:00.000000000",
          "2024-09-06T00:00:00.000000000",
          "2024-09-07T00:00:00.000000000",
          "2024-09-08T00:00:00.000000000",
          "2024-09-09T00:00:00.000000000",
          "2024-09-10T00:00:00.000000000",
          "2024-09-11T00:00:00.000000000",
          "2024-09-12T00:00:00.000000000",
          "2024-09-13T00:00:00.000000000",
          "2024-09-14T00:00:00.000000000",
          "2024-09-15T00:00:00.000000000",
          "2024-09-16T00:00:00.000000000",
          "2024-09-17T00:00:00.000000000",
          "2024-09-18T00:00:00.000000000",
          "2024-09-19T00:00:00.000000000",
          "2024-09-20T00:00:00.000000000",
          "2024-09-21T00:00:00.000000000",
          "2024-09-22T00:00:00.000000000",
          "2024-09-23T00:00:00.000000000",
          "2024-09-24T00:00:00.000000000",
          "2024-09-25T00:00:00.000000000",
          "2024-09-26T00:00:00.000000000",
          "2024-09-27T00:00:00.000000000",
          "2024-09-28T00:00:00.000000000",
          "2024-09-29T00:00:00.000000000",
          "2024-09-30T00:00:00.000000000",
          "2024-10-01T00:00:00.000000000",
          "2024-10-02T00:00:00.000000000",
          "2024-10-03T00:00:00.000000000",
          "2024-10-04T00:00:00.000000000",
          "2024-10-05T00:00:00.000000000",
          "2024-10-06T00:00:00.000000000",
          "2024-10-07T00:00:00.000000000",
          "2024-10-08T00:00:00.000000000",
          "2024-10-09T00:00:00.000000000",
          "2024-10-10T00:00:00.000000000",
          "2024-10-11T00:00:00.000000000",
          "2024-10-12T00:00:00.000000000",
          "2024-10-13T00:00:00.000000000",
          "2024-10-14T00:00:00.000000000",
          "2024-10-15T00:00:00.000000000",
          "2024-10-16T00:00:00.000000000",
          "2024-10-17T00:00:00.000000000",
          "2024-10-18T00:00:00.000000000",
          "2024-10-19T00:00:00.000000000",
          "2024-10-20T00:00:00.000000000",
          "2024-10-21T00:00:00.000000000",
          "2024-10-22T00:00:00.000000000",
          "2024-10-23T00:00:00.000000000",
          "2024-10-24T00:00:00.000000000",
          "2024-10-25T00:00:00.000000000",
          "2024-10-26T00:00:00.000000000",
          "2024-10-27T00:00:00.000000000",
          "2024-10-28T00:00:00.000000000",
          "2024-10-29T00:00:00.000000000",
          "2024-10-30T00:00:00.000000000",
          "2024-10-31T00:00:00.000000000",
          "2024-11-01T00:00:00.000000000",
          "2024-11-02T00:00:00.000000000",
          "2024-11-03T00:00:00.000000000",
          "2024-11-04T00:00:00.000000000",
          "2024-11-05T00:00:00.000000000",
          "2024-11-06T00:00:00.000000000",
          "2024-11-07T00:00:00.000000000",
          "2024-11-08T00:00:00.000000000",
          "2024-11-09T00:00:00.000000000",
          "2024-11-10T00:00:00.000000000",
          "2024-11-11T00:00:00.000000000",
          "2024-11-12T00:00:00.000000000",
          "2024-11-13T00:00:00.000000000",
          "2024-11-14T00:00:00.000000000",
          "2024-11-15T00:00:00.000000000",
          "2024-11-16T00:00:00.000000000",
          "2024-11-17T00:00:00.000000000",
          "2024-11-18T00:00:00.000000000",
          "2024-11-19T00:00:00.000000000",
          "2024-11-20T00:00:00.000000000",
          "2024-11-21T00:00:00.000000000",
          "2024-11-22T00:00:00.000000000",
          "2024-11-23T00:00:00.000000000",
          "2024-11-24T00:00:00.000000000",
          "2024-11-25T00:00:00.000000000",
          "2024-11-26T00:00:00.000000000",
          "2024-11-27T00:00:00.000000000",
          "2024-11-28T00:00:00.000000000",
          "2024-11-29T00:00:00.000000000",
          "2024-11-30T00:00:00.000000000",
          "2024-12-01T00:00:00.000000000",
          "2024-12-02T00:00:00.000000000",
          "2024-12-03T00:00:00.000000000",
          "2024-12-04T00:00:00.000000000",
          "2024-12-05T00:00:00.000000000",
          "2024-12-06T00:00:00.000000000",
          "2024-12-07T00:00:00.000000000",
          "2024-12-08T00:00:00.000000000",
          "2024-12-09T00:00:00.000000000",
          "2024-12-10T00:00:00.000000000",
          "2024-12-11T00:00:00.000000000",
          "2024-12-12T00:00:00.000000000",
          "2024-12-13T00:00:00.000000000",
          "2024-12-14T00:00:00.000000000",
          "2024-12-15T00:00:00.000000000",
          "2024-12-16T00:00:00.000000000",
          "2024-12-17T00:00:00.000000000",
          "2024-12-18T00:00:00.000000000",
          "2024-12-19T00:00:00.000000000",
          "2024-12-20T00:00:00.000000000",
          "2024-12-21T00:00:00.000000000",
          "2024-12-22T00:00:00.000000000",
          "2024-12-23T00:00:00.000000000",
          "2024-12-24T00:00:00.000000000",
          "2024-12-25T00:00:00.000000000",
          "2024-12-26T00:00:00.000000000",
          "2024-12-27T00:00:00.000000000",
          "2024-12-28T00:00:00.000000000",
          "2024-12-29T00:00:00.000000000",
          "2024-12-30T00:00:00.000000000",
          "2024-12-31T00:00:00.000000000",
          "2025-01-01T00:00:00.000000000",
          "2025-01-02T00:00:00.000000000",
          "2025-01-03T00:00:00.000000000",
          "2025-01-04T00:00:00.000000000",
          "2025-01-05T00:00:00.000000000",
          "2025-01-06T00:00:00.000000000",
          "2025-01-07T00:00:00.000000000",
          "2025-01-08T00:00:00.000000000",
          "2025-01-09T00:00:00.000000000",
          "2025-01-10T00:00:00.000000000",
          "2025-01-11T00:00:00.000000000",
          "2025-01-12T00:00:00.000000000",
          "2025-01-13T00:00:00.000000000",
          "2025-01-14T00:00:00.000000000",
          "2025-01-15T00:00:00.000000000",
          "2025-01-16T00:00:00.000000000",
          "2025-01-17T00:00:00.000000000",
          "2025-01-18T00:00:00.000000000",
          "2025-01-19T00:00:00.000000000",
          "2025-01-20T00:00:00.000000000",
          "2025-01-21T00:00:00.000000000",
          "2025-01-22T00:00:00.000000000",
          "2025-01-23T00:00:00.000000000",
          "2025-01-24T00:00:00.000000000",
          "2025-01-25T00:00:00.000000000",
          "2025-01-26T00:00:00.000000000",
          "2025-01-27T00:00:00.000000000",
          "2025-01-28T00:00:00.000000000",
          "2025-01-29T00:00:00.000000000",
          "2025-01-30T00:00:00.000000000",
          "2025-01-31T00:00:00.000000000",
          "2025-02-01T00:00:00.000000000",
          "2025-02-02T00:00:00.000000000",
          "2025-02-03T00:00:00.000000000",
          "2025-02-04T00:00:00.000000000",
          "2025-02-05T00:00:00.000000000",
          "2025-02-06T00:00:00.000000000",
          "2025-02-07T00:00:00.000000000",
          "2025-02-08T00:00:00.000000000",
          "2025-02-09T00:00:00.000000000",
          "2025-02-10T00:00:00.000000000",
          "2025-02-11T00:00:00.000000000",
          "2025-02-12T00:00:00.000000000",
          "2025-02-13T00:00:00.000000000",
          "2025-02-14T00:00:00.000000000",
          "2025-02-15T00:00:00.000000000",
          "2025-02-16T00:00:00.000000000",
          "2025-02-17T00:00:00.000000000",
          "2025-02-18T00:00:00.000000000",
          "2025-02-19T00:00:00.000000000",
          "2025-02-20T00:00:00.000000000",
          "2025-02-21T00:00:00.000000000",
          "2025-02-22T00:00:00.000000000",
          "2025-02-23T00:00:00.000000000",
          "2025-02-24T00:00:00.000000000",
          "2025-02-25T00:00:00.000000000",
          "2025-02-26T00:00:00.000000000",
          "2025-02-27T00:00:00.000000000",
          "2025-02-28T00:00:00.000000000",
          "2025-03-01T00:00:00.000000000",
          "2025-03-02T00:00:00.000000000",
          "2025-03-03T00:00:00.000000000",
          "2025-03-04T00:00:00.000000000",
          "2025-03-05T00:00:00.000000000",
          "2025-03-06T00:00:00.000000000",
          "2025-03-07T00:00:00.000000000",
          "2025-03-08T00:00:00.000000000",
          "2025-03-09T00:00:00.000000000",
          "2025-03-10T00:00:00.000000000",
          "2025-03-11T00:00:00.000000000",
          "2025-03-12T00:00:00.000000000",
          "2025-03-13T00:00:00.000000000",
          "2025-03-14T00:00:00.000000000",
          "2025-03-15T00:00:00.000000000",
          "2025-03-16T00:00:00.000000000",
          "2025-03-17T00:00:00.000000000",
          "2025-03-18T00:00:00.000000000",
          "2025-03-19T00:00:00.000000000",
          "2025-03-20T00:00:00.000000000",
          "2025-03-21T00:00:00.000000000",
          "2025-03-22T00:00:00.000000000",
          "2025-03-23T00:00:00.000000000",
          "2025-03-24T00:00:00.000000000",
          "2025-03-25T00:00:00.000000000",
          "2025-03-26T00:00:00.000000000",
          "2025-03-27T00:00:00.000000000",
          "2025-03-28T00:00:00.000000000",
          "2025-03-29T00:00:00.000000000",
          "2025-03-30T00:00:00.000000000",
          "2025-03-31T00:00:00.000000000",
          "2025-04-01T00:00:00.000000000",
          "2025-04-02T00:00:00.000000000",
          "2025-04-03T00:00:00.000000000",
          "2025-04-04T00:00:00.000000000",
          "2025-04-05T00:00:00.000000000",
          "2025-04-06T00:00:00.000000000",
          "2025-04-07T00:00:00.000000000",
          "2025-04-08T00:00:00.000000000",
          "2025-04-09T00:00:00.000000000",
          "2025-04-10T00:00:00.000000000",
          "2025-04-11T00:00:00.000000000",
          "2025-04-12T00:00:00.000000000",
          "2025-04-13T00:00:00.000000000",
          "2025-04-14T00:00:00.000000000",
          "2025-04-15T00:00:00.000000000",
          "2025-04-16T00:00:00.000000000",
          "2025-04-17T00:00:00.000000000",
          "2025-04-18T00:00:00.000000000",
          "2025-04-19T00:00:00.000000000",
          "2025-04-20T00:00:00.000000000",
          "2025-04-21T00:00:00.000000000",
          "2025-04-22T00:00:00.000000000",
          "2025-04-23T00:00:00.000000000",
          "2025-04-24T00:00:00.000000000",
          "2025-04-25T00:00:00.000000000",
          "2025-04-26T00:00:00.000000000",
          "2025-04-27T00:00:00.000000000",
          "2025-04-28T00:00:00.000000000",
          "2025-04-29T00:00:00.000000000",
          "2025-04-30T00:00:00.000000000",
          "2025-05-01T00:00:00.000000000",
          "2025-05-02T00:00:00.000000000",
          "2025-05-03T00:00:00.000000000",
          "2025-05-04T00:00:00.000000000",
          "2025-05-05T00:00:00.000000000",
          "2025-05-06T00:00:00.000000000",
          "2025-05-07T00:00:00.000000000",
          "2025-05-08T00:00:00.000000000",
          "2025-05-09T00:00:00.000000000",
          "2025-05-10T00:00:00.000000000",
          "2025-05-11T00:00:00.000000000",
          "2025-05-12T00:00:00.000000000",
          "2025-05-13T00:00:00.000000000",
          "2025-05-14T00:00:00.000000000",
          "2025-05-15T00:00:00.000000000",
          "2025-05-16T00:00:00.000000000",
          "2025-05-17T00:00:00.000000000",
          "2025-05-18T00:00:00.000000000",
          "2025-05-19T00:00:00.000000000",
          "2025-05-20T00:00:00.000000000",
          "2025-05-21T00:00:00.000000000",
          "2025-05-22T00:00:00.000000000",
          "2025-05-23T00:00:00.000000000",
          "2025-05-24T00:00:00.000000000",
          "2025-05-25T00:00:00.000000000",
          "2025-05-26T00:00:00.000000000",
          "2025-05-27T00:00:00.000000000",
          "2025-05-28T00:00:00.000000000",
          "2025-05-29T00:00:00.000000000",
          "2025-05-30T00:00:00.000000000",
          "2025-05-31T00:00:00.000000000",
          "2025-06-01T00:00:00.000000000",
          "2025-06-02T00:00:00.000000000",
          "2025-06-03T00:00:00.000000000",
          "2025-06-04T00:00:00.000000000",
          "2025-06-05T00:00:00.000000000",
          "2025-06-06T00:00:00.000000000",
          "2025-06-07T00:00:00.000000000",
          "2025-06-08T00:00:00.000000000",
          "2025-06-09T00:00:00.000000000",
          "2025-06-10T00:00:00.000000000",
          "2025-06-11T00:00:00.000000000",
          "2025-06-12T00:00:00.000000000",
          "2025-06-13T00:00:00.000000000",
          "2025-06-14T00:00:00.000000000",
          "2025-06-15T00:00:00.000000000",
          "2025-06-16T00:00:00.000000000",
          "2025-06-17T00:00:00.000000000",
          "2025-06-18T00:00:00.000000000",
          "2025-06-19T00:00:00.000000000",
          "2025-06-20T00:00:00.000000000",
          "2025-06-21T00:00:00.000000000",
          "2025-06-22T00:00:00.000000000",
          "2025-06-23T00:00:00.000000000",
          "2025-06-24T00:00:00.000000000",
          "2025-06-25T00:00:00.000000000",
          "2025-06-26T00:00:00.000000000",
          "2025-06-27T00:00:00.000000000",
          "2025-06-28T00:00:00.000000000",
          "2025-06-29T00:00:00.000000000",
          "2025-06-30T00:00:00.000000000",
          "2025-07-01T00:00:00.000000000",
          "2025-07-02T00:00:00.000000000",
          "2025-07-03T00:00:00.000000000",
          "2025-07-04T00:00:00.000000000",
          "2025-07-05T00:00:00.000000000",
          "2025-07-06T00:00:00.000000000",
          "2025-07-07T00:00:00.000000000",
          "2025-07-08T00:00:00.000000000",
          "2025-07-09T00:00:00.000000000",
          "2025-07-10T00:00:00.000000000",
          "2025-07-11T00:00:00.000000000",
          "2025-07-12T00:00:00.000000000",
          "2025-07-13T00:00:00.000000000",
          "2025-07-14T00:00:00.000000000",
          "2025-07-15T00:00:00.000000000",
          "2025-07-16T00:00:00.000000000",
          "2025-07-17T00:00:00.000000000",
          "2025-07-18T00:00:00.000000000",
          "2025-07-19T00:00:00.000000000",
          "2025-07-20T00:00:00.000000000",
          "2025-07-21T00:00:00.000000000",
          "2025-07-22T00:00:00.000000000",
          "2025-07-23T00:00:00.000000000",
          "2025-07-24T00:00:00.000000000",
          "2025-07-25T00:00:00.000000000",
          "2025-07-26T00:00:00.000000000",
          "2025-07-27T00:00:00.000000000",
          "2025-07-28T00:00:00.000000000",
          "2025-07-29T00:00:00.000000000",
          "2025-07-30T00:00:00.000000000",
          "2025-07-31T00:00:00.000000000",
          "2025-08-01T00:00:00.000000000",
          "2025-08-02T00:00:00.000000000",
          "2025-08-03T00:00:00.000000000",
          "2025-08-04T00:00:00.000000000",
          "2025-08-05T00:00:00.000000000",
          "2025-08-06T00:00:00.000000000",
          "2025-08-07T00:00:00.000000000",
          "2025-08-08T00:00:00.000000000",
          "2025-08-09T00:00:00.000000000",
          "2025-08-10T00:00:00.000000000",
          "2025-08-11T00:00:00.000000000",
          "2025-08-12T00:00:00.000000000",
          "2025-08-13T00:00:00.000000000",
          "2025-08-14T00:00:00.000000000",
          "2025-08-15T00:00:00.000000000",
          "2025-08-16T00:00:00.000000000",
          "2025-08-17T00:00:00.000000000",
          "2025-08-18T00:00:00.000000000",
          "2025-08-19T00:00:00.000000000",
          "2025-08-20T00:00:00.000000000",
          "2025-08-21T00:00:00.000000000",
          "2025-08-22T00:00:00.000000000",
          "2025-08-23T00:00:00.000000000",
          "2025-08-24T00:00:00.000000000",
          "2025-08-25T00:00:00.000000000",
          "2025-08-26T00:00:00.000000000",
          "2025-08-27T00:00:00.000000000",
          "2025-08-28T00:00:00.000000000",
          "2025-08-29T00:00:00.000000000",
          "2025-08-30T00:00:00.000000000",
          "2025-08-31T00:00:00.000000000",
          "2025-09-01T00:00:00.000000000",
          "2025-09-02T00:00:00.000000000",
          "2025-09-03T00:00:00.000000000",
          "2025-09-04T00:00:00.000000000",
          "2025-09-05T00:00:00.000000000",
          "2025-09-06T00:00:00.000000000",
          "2025-09-07T00:00:00.000000000",
          "2025-09-08T00:00:00.000000000",
          "2025-09-09T00:00:00.000000000",
          "2025-09-10T00:00:00.000000000",
          "2025-09-11T00:00:00.000000000",
          "2025-09-12T00:00:00.000000000",
          "2025-09-13T00:00:00.000000000",
          "2025-09-14T00:00:00.000000000",
          "2025-09-15T00:00:00.000000000",
          "2025-09-16T00:00:00.000000000",
          "2025-09-17T00:00:00.000000000",
          "2025-09-18T00:00:00.000000000",
          "2025-09-19T00:00:00.000000000",
          "2025-09-20T00:00:00.000000000",
          "2025-09-21T00:00:00.000000000",
          "2025-09-22T00:00:00.000000000",
          "2025-09-23T00:00:00.000000000",
          "2025-09-24T00:00:00.000000000",
          "2025-09-25T00:00:00.000000000",
          "2025-09-26T00:00:00.000000000",
          "2025-09-27T00:00:00.000000000",
          "2025-09-28T00:00:00.000000000",
          "2025-09-29T00:00:00.000000000",
          "2025-09-30T00:00:00.000000000"
         ]
        },
        {
         "line": {
          "color": "blue",
          "width": 2
         },
         "mode": "lines",
         "name": "ZigZag",
         "showlegend": false,
         "type": "scatter",
         "x": [
          "2024-08-04T00:00:00",
          "2024-08-05T00:00:00"
         ],
         "y": [
          61088,
          48914.1
         ]
        },
        {
         "line": {
          "color": "blue",
          "width": 2
         },
         "mode": "lines",
         "name": "ZigZag",
         "showlegend": false,
         "type": "scatter",
         "x": [
          "2024-08-05T00:00:00",
          "2024-08-08T00:00:00"
         ],
         "y": [
          48914.1,
          62743.1
         ]
        },
        {
         "line": {
          "color": "blue",
          "width": 2
         },
         "mode": "lines",
         "name": "ZigZag",
         "showlegend": false,
         "type": "scatter",
         "x": [
          "2024-08-08T00:00:00",
          "2024-08-12T00:00:00"
         ],
         "y": [
          62743.1,
          57555
         ]
        },
        {
         "line": {
          "color": "blue",
          "width": 2
         },
         "mode": "lines",
         "name": "ZigZag",
         "showlegend": false,
         "type": "scatter",
         "x": [
          "2024-08-12T00:00:00",
          "2024-08-14T00:00:00"
         ],
         "y": [
          57555,
          61950.3
         ]
        },
        {
         "line": {
          "color": "blue",
          "width": 2
         },
         "mode": "lines",
         "name": "ZigZag",
         "showlegend": false,
         "type": "scatter",
         "x": [
          "2024-08-14T00:00:00",
          "2024-08-15T00:00:00"
         ],
         "y": [
          61950.3,
          56052.1
         ]
        },
        {
         "line": {
          "color": "blue",
          "width": 2
         },
         "mode": "lines",
         "name": "ZigZag",
         "showlegend": false,
         "type": "scatter",
         "x": [
          "2024-08-15T00:00:00",
          "2024-08-23T00:00:00"
         ],
         "y": [
          56052.1,
          65041.9
         ]
        },
        {
         "line": {
          "color": "blue",
          "width": 2
         },
         "mode": "lines",
         "name": "ZigZag",
         "showlegend": false,
         "type": "scatter",
         "x": [
          "2024-08-23T00:00:00",
          "2024-09-06T00:00:00"
         ],
         "y": [
          65041.9,
          52500.2
         ]
        },
        {
         "line": {
          "color": "blue",
          "width": 2
         },
         "mode": "lines",
         "name": "ZigZag",
         "showlegend": false,
         "type": "scatter",
         "x": [
          "2024-09-06T00:00:00",
          "2024-09-27T00:00:00"
         ],
         "y": [
          52500.2,
          66520
         ]
        },
        {
         "line": {
          "color": "blue",
          "width": 2
         },
         "mode": "lines",
         "name": "ZigZag",
         "showlegend": false,
         "type": "scatter",
         "x": [
          "2024-09-27T00:00:00",
          "2024-10-03T00:00:00"
         ],
         "y": [
          66520,
          59840.2
         ]
        },
        {
         "line": {
          "color": "blue",
          "width": 2
         },
         "mode": "lines",
         "name": "ZigZag",
         "showlegend": false,
         "type": "scatter",
         "x": [
          "2024-10-03T00:00:00",
          "2024-10-07T00:00:00"
         ],
         "y": [
          59840.2,
          64464
         ]
        },
        {
         "line": {
          "color": "blue",
          "width": 2
         },
         "mode": "lines",
         "name": "ZigZag",
         "showlegend": false,
         "type": "scatter",
         "x": [
          "2024-10-07T00:00:00",
          "2024-10-10T00:00:00"
         ],
         "y": [
          64464,
          58900
         ]
        },
        {
         "line": {
          "color": "blue",
          "width": 2
         },
         "mode": "lines",
         "name": "ZigZag",
         "showlegend": false,
         "type": "scatter",
         "x": [
          "2024-10-10T00:00:00",
          "2024-10-21T00:00:00"
         ],
         "y": [
          58900,
          69555
         ]
        },
        {
         "line": {
          "color": "blue",
          "width": 2
         },
         "mode": "lines",
         "name": "ZigZag",
         "showlegend": false,
         "type": "scatter",
         "x": [
          "2024-10-21T00:00:00",
          "2024-10-23T00:00:00"
         ],
         "y": [
          69555,
          65240.2
         ]
        },
        {
         "line": {
          "color": "blue",
          "width": 2
         },
         "mode": "lines",
         "name": "ZigZag",
         "showlegend": false,
         "type": "scatter",
         "x": [
          "2024-10-23T00:00:00",
          "2024-10-29T00:00:00"
         ],
         "y": [
          65240.2,
          73681.8
         ]
        },
        {
         "line": {
          "color": "blue",
          "width": 2
         },
         "mode": "lines",
         "name": "ZigZag",
         "showlegend": false,
         "type": "scatter",
         "x": [
          "2024-10-29T00:00:00",
          "2024-11-04T00:00:00"
         ],
         "y": [
          73681.8,
          66808
         ]
        },
        {
         "line": {
          "color": "blue",
          "width": 2
         },
         "mode": "lines",
         "name": "ZigZag",
         "showlegend": false,
         "type": "scatter",
         "x": [
          "2024-11-04T00:00:00",
          "2024-11-13T00:00:00"
         ],
         "y": [
          66808,
          93400
         ]
        },
        {
         "line": {
          "color": "blue",
          "width": 2
         },
         "mode": "lines",
         "name": "ZigZag",
         "showlegend": false,
         "type": "scatter",
         "x": [
          "2024-11-13T00:00:00",
          "2024-11-14T00:00:00"
         ],
         "y": [
          93400,
          86661
         ]
        },
        {
         "line": {
          "color": "blue",
          "width": 2
         },
         "mode": "lines",
         "name": "ZigZag",
         "showlegend": false,
         "type": "scatter",
         "x": [
          "2024-11-14T00:00:00",
          "2024-11-22T00:00:00"
         ],
         "y": [
          86661,
          99690
         ]
        },
        {
         "line": {
          "color": "blue",
          "width": 2
         },
         "mode": "lines",
         "name": "ZigZag",
         "showlegend": false,
         "type": "scatter",
         "x": [
          "2024-11-22T00:00:00",
          "2024-11-26T00:00:00"
         ],
         "y": [
          99690,
          90835.5
         ]
        },
        {
         "line": {
          "color": "blue",
          "width": 2
         },
         "mode": "lines",
         "name": "ZigZag",
         "showlegend": false,
         "type": "scatter",
         "x": [
          "2024-11-26T00:00:00",
          "2024-12-05T00:00:00"
         ],
         "y": [
          90835.5,
          104698.8
         ]
        },
        {
         "line": {
          "color": "blue",
          "width": 2
         },
         "mode": "lines",
         "name": "ZigZag",
         "showlegend": false,
         "type": "scatter",
         "x": [
          "2024-12-05T00:00:00",
          "2024-12-09T00:00:00"
         ],
         "y": [
          104698.8,
          93888
         ]
        },
        {
         "line": {
          "color": "blue",
          "width": 2
         },
         "mode": "lines",
         "name": "ZigZag",
         "showlegend": false,
         "type": "scatter",
         "x": [
          "2024-12-09T00:00:00",
          "2024-12-17T00:00:00"
         ],
         "y": [
          93888,
          108421.6
         ]
        },
        {
         "line": {
          "color": "blue",
          "width": 2
         },
         "mode": "lines",
         "name": "ZigZag",
         "showlegend": false,
         "type": "scatter",
         "x": [
          "2024-12-17T00:00:00",
          "2024-12-20T00:00:00"
         ],
         "y": [
          108421.6,
          92230
         ]
        },
        {
         "line": {
          "color": "blue",
          "width": 2
         },
         "mode": "lines",
         "name": "ZigZag",
         "showlegend": false,
         "type": "scatter",
         "x": [
          "2024-12-20T00:00:00",
          "2024-12-21T00:00:00"
         ],
         "y": [
          92230,
          99482.8
         ]
        },
        {
         "line": {
          "color": "blue",
          "width": 2
         },
         "mode": "lines",
         "name": "ZigZag",
         "showlegend": false,
         "type": "scatter",
         "x": [
          "2024-12-21T00:00:00",
          "2024-12-23T00:00:00"
         ],
         "y": [
          99482.8,
          92465.8
         ]
        },
        {
         "line": {
          "color": "blue",
          "width": 2
         },
         "mode": "lines",
         "name": "ZigZag",
         "showlegend": false,
         "type": "scatter",
         "x": [
          "2024-12-23T00:00:00",
          "2024-12-26T00:00:00"
         ],
         "y": [
          92465.8,
          99950
         ]
        },
        {
         "line": {
          "color": "blue",
          "width": 2
         },
         "mode": "lines",
         "name": "ZigZag",
         "showlegend": false,
         "type": "scatter",
         "x": [
          "2024-12-26T00:00:00",
          "2024-12-30T00:00:00"
         ],
         "y": [
          99950,
          91463.7
         ]
        },
        {
         "line": {
          "color": "blue",
          "width": 2
         },
         "mode": "lines",
         "name": "ZigZag",
         "showlegend": false,
         "type": "scatter",
         "x": [
          "2024-12-30T00:00:00",
          "2025-01-07T00:00:00"
         ],
         "y": [
          91463.7,
          102702.1
         ]
        },
        {
         "line": {
          "color": "blue",
          "width": 2
         },
         "mode": "lines",
         "name": "ZigZag",
         "showlegend": false,
         "type": "scatter",
         "x": [
          "2025-01-07T00:00:00",
          "2025-01-13T00:00:00"
         ],
         "y": [
          102702.1,
          89100
         ]
        },
        {
         "line": {
          "color": "blue",
          "width": 2
         },
         "mode": "lines",
         "name": "ZigZag",
         "showlegend": false,
         "type": "scatter",
         "x": [
          "2025-01-13T00:00:00",
          "2025-01-20T00:00:00"
         ],
         "y": [
          89100,
          109951.7
         ]
        },
        {
         "line": {
          "color": "blue",
          "width": 2
         },
         "mode": "lines",
         "name": "ZigZag",
         "showlegend": false,
         "type": "scatter",
         "x": [
          "2025-01-20T00:00:00",
          "2025-01-21T00:00:00"
         ],
         "y": [
          109951.7,
          100000
         ]
        },
        {
         "line": {
          "color": "blue",
          "width": 2
         },
         "mode": "lines",
         "name": "ZigZag",
         "showlegend": false,
         "type": "scatter",
         "x": [
          "2025-01-21T00:00:00",
          "2025-01-24T00:00:00"
         ],
         "y": [
          100000,
          107118.6
         ]
        },
        {
         "line": {
          "color": "blue",
          "width": 2
         },
         "mode": "lines",
         "name": "ZigZag",
         "showlegend": false,
         "type": "scatter",
         "x": [
          "2025-01-24T00:00:00",
          "2025-01-27T00:00:00"
         ],
         "y": [
          107118.6,
          97694.2
         ]
        },
        {
         "line": {
          "color": "blue",
          "width": 2
         },
         "mode": "lines",
         "name": "ZigZag",
         "showlegend": false,
         "type": "scatter",
         "x": [
          "2025-01-27T00:00:00",
          "2025-01-30T00:00:00"
         ],
         "y": [
          97694.2,
          106421.1
         ]
        },
        {
         "line": {
          "color": "blue",
          "width": 2
         },
         "mode": "lines",
         "name": "ZigZag",
         "showlegend": false,
         "type": "scatter",
         "x": [
          "2025-01-30T00:00:00",
          "2025-02-03T00:00:00"
         ],
         "y": [
          106421.1,
          91166.6
         ]
        },
        {
         "line": {
          "color": "blue",
          "width": 2
         },
         "mode": "lines",
         "name": "ZigZag",
         "showlegend": false,
         "type": "scatter",
         "x": [
          "2025-02-03T00:00:00",
          "2025-02-03T00:00:00"
         ],
         "y": [
          91166.6,
          102457.8
         ]
        },
        {
         "line": {
          "color": "blue",
          "width": 2
         },
         "mode": "lines",
         "name": "ZigZag",
         "showlegend": false,
         "type": "scatter",
         "x": [
          "2025-02-03T00:00:00",
          "2025-02-18T00:00:00"
         ],
         "y": [
          102457.8,
          93318.1
         ]
        },
        {
         "line": {
          "color": "blue",
          "width": 2
         },
         "mode": "lines",
         "name": "ZigZag",
         "showlegend": false,
         "type": "scatter",
         "x": [
          "2025-02-18T00:00:00",
          "2025-02-21T00:00:00"
         ],
         "y": [
          93318.1,
          99454.2
         ]
        },
        {
         "line": {
          "color": "blue",
          "width": 2
         },
         "mode": "lines",
         "name": "ZigZag",
         "showlegend": false,
         "type": "scatter",
         "x": [
          "2025-02-21T00:00:00",
          "2025-02-26T00:00:00"
         ],
         "y": [
          99454.2,
          82055.6
         ]
        },
        {
         "line": {
          "color": "blue",
          "width": 2
         },
         "mode": "lines",
         "name": "ZigZag",
         "showlegend": false,
         "type": "scatter",
         "x": [
          "2025-02-26T00:00:00",
          "2025-02-27T00:00:00"
         ],
         "y": [
          82055.6,
          87043.6
         ]
        },
        {
         "line": {
          "color": "blue",
          "width": 2
         },
         "mode": "lines",
         "name": "ZigZag",
         "showlegend": false,
         "type": "scatter",
         "x": [
          "2025-02-27T00:00:00",
          "2025-02-28T00:00:00"
         ],
         "y": [
          87043.6,
          78210.5
         ]
        },
        {
         "line": {
          "color": "blue",
          "width": 2
         },
         "mode": "lines",
         "name": "ZigZag",
         "showlegend": false,
         "type": "scatter",
         "x": [
          "2025-02-28T00:00:00",
          "2025-03-02T00:00:00"
         ],
         "y": [
          78210.5,
          95058.7
         ]
        },
        {
         "line": {
          "color": "blue",
          "width": 2
         },
         "mode": "lines",
         "name": "ZigZag",
         "showlegend": false,
         "type": "scatter",
         "x": [
          "2025-03-02T00:00:00",
          "2025-03-04T00:00:00"
         ],
         "y": [
          95058.7,
          81413.7
         ]
        },
        {
         "line": {
          "color": "blue",
          "width": 2
         },
         "mode": "lines",
         "name": "ZigZag",
         "showlegend": false,
         "type": "scatter",
         "x": [
          "2025-03-04T00:00:00",
          "2025-03-06T00:00:00"
         ],
         "y": [
          81413.7,
          92781.6
         ]
        },
        {
         "line": {
          "color": "blue",
          "width": 2
         },
         "mode": "lines",
         "name": "ZigZag",
         "showlegend": false,
         "type": "scatter",
         "x": [
          "2025-03-06T00:00:00",
          "2025-03-11T00:00:00"
         ],
         "y": [
          92781.6,
          76545
         ]
        },
        {
         "line": {
          "color": "blue",
          "width": 2
         },
         "mode": "lines",
         "name": "ZigZag",
         "showlegend": false,
         "type": "scatter",
         "x": [
          "2025-03-11T00:00:00",
          "2025-03-24T00:00:00"
         ],
         "y": [
          76545,
          88740
         ]
        },
        {
         "line": {
          "color": "blue",
          "width": 2
         },
         "mode": "lines",
         "name": "ZigZag",
         "showlegend": false,
         "type": "scatter",
         "x": [
          "2025-03-24T00:00:00",
          "2025-03-31T00:00:00"
         ],
         "y": [
          88740,
          81212.3
         ]
        },
        {
         "line": {
          "color": "blue",
          "width": 2
         },
         "mode": "lines",
         "name": "ZigZag",
         "showlegend": false,
         "type": "scatter",
         "x": [
          "2025-03-31T00:00:00",
          "2025-04-02T00:00:00"
         ],
         "y": [
          81212.3,
          88560.1
         ]
        },
        {
         "line": {
          "color": "blue",
          "width": 2
         },
         "mode": "lines",
         "name": "ZigZag",
         "showlegend": false,
         "type": "scatter",
         "x": [
          "2025-04-02T00:00:00",
          "2025-04-07T00:00:00"
         ],
         "y": [
          88560.1,
          74456.2
         ]
        },
        {
         "line": {
          "color": "blue",
          "width": 2
         },
         "mode": "lines",
         "name": "ZigZag",
         "showlegend": false,
         "type": "scatter",
         "x": [
          "2025-04-07T00:00:00",
          "2025-04-09T00:00:00"
         ],
         "y": [
          74456.2,
          83560
         ]
        },
        {
         "line": {
          "color": "blue",
          "width": 2
         },
         "mode": "lines",
         "name": "ZigZag",
         "showlegend": false,
         "type": "scatter",
         "x": [
          "2025-04-09T00:00:00",
          "2025-04-10T00:00:00"
         ],
         "y": [
          83560,
          78422
         ]
        },
        {
         "line": {
          "color": "blue",
          "width": 2
         },
         "mode": "lines",
         "name": "ZigZag",
         "showlegend": false,
         "type": "scatter",
         "x": [
          "2025-04-10T00:00:00",
          "2025-05-22T00:00:00"
         ],
         "y": [
          78422,
          111968
         ]
        },
        {
         "line": {
          "color": "blue",
          "width": 2
         },
         "mode": "lines",
         "name": "ZigZag",
         "showlegend": false,
         "type": "scatter",
         "x": [
          "2025-05-22T00:00:00",
          "2025-06-05T00:00:00"
         ],
         "y": [
          111968,
          100350
         ]
        },
        {
         "line": {
          "color": "blue",
          "width": 2
         },
         "mode": "lines",
         "name": "ZigZag",
         "showlegend": false,
         "type": "scatter",
         "x": [
          "2025-06-05T00:00:00",
          "2025-06-09T00:00:00"
         ],
         "y": [
          100350,
          110660.8
         ]
        },
        {
         "line": {
          "color": "blue",
          "width": 2
         },
         "mode": "lines",
         "name": "ZigZag",
         "showlegend": false,
         "type": "scatter",
         "x": [
          "2025-06-09T00:00:00",
          "2025-06-13T00:00:00"
         ],
         "y": [
          110660.8,
          102626.9
         ]
        },
        {
         "line": {
          "color": "blue",
          "width": 2
         },
         "mode": "lines",
         "name": "ZigZag",
         "showlegend": false,
         "type": "scatter",
         "x": [
          "2025-06-13T00:00:00",
          "2025-06-16T00:00:00"
         ],
         "y": [
          102626.9,
          108955.5
         ]
        },
        {
         "line": {
          "color": "blue",
          "width": 2
         },
         "mode": "lines",
         "name": "ZigZag",
         "showlegend": false,
         "type": "scatter",
         "x": [
          "2025-06-16T00:00:00",
          "2025-06-22T00:00:00"
         ],
         "y": [
          108955.5,
          98125
         ]
        },
        {
         "line": {
          "color": "blue",
          "width": 2
         },
         "mode": "lines",
         "name": "ZigZag",
         "showlegend": false,
         "type": "scatter",
         "x": [
          "2025-06-22T00:00:00",
          "2025-07-14T00:00:00"
         ],
         "y": [
          98125,
          123250
         ]
        },
        {
         "line": {
          "color": "blue",
          "width": 2
         },
         "mode": "lines",
         "name": "ZigZag",
         "showlegend": false,
         "type": "scatter",
         "x": [
          "2025-07-14T00:00:00",
          "2025-08-03T00:00:00"
         ],
         "y": [
          123250,
          111870
         ]
        },
        {
         "line": {
          "color": "blue",
          "width": 2
         },
         "mode": "lines",
         "name": "ZigZag",
         "showlegend": false,
         "type": "scatter",
         "x": [
          "2025-08-03T00:00:00",
          "2025-08-14T00:00:00"
         ],
         "y": [
          111870,
          124571.2
         ]
        },
        {
         "line": {
          "color": "blue",
          "width": 2
         },
         "mode": "lines",
         "name": "ZigZag",
         "showlegend": false,
         "type": "scatter",
         "x": [
          "2025-08-14T00:00:00",
          "2025-09-01T00:00:00"
         ],
         "y": [
          124571.2,
          107202
         ]
        },
        {
         "line": {
          "color": "blue",
          "width": 2
         },
         "mode": "lines",
         "name": "ZigZag",
         "showlegend": false,
         "type": "scatter",
         "x": [
          "2025-09-01T00:00:00",
          "2025-09-18T00:00:00"
         ],
         "y": [
          107202,
          117884
         ]
        },
        {
         "line": {
          "color": "blue",
          "width": 2
         },
         "mode": "lines",
         "name": "ZigZag",
         "showlegend": false,
         "type": "scatter",
         "x": [
          "2025-09-18T00:00:00",
          "2025-09-26T00:00:00"
         ],
         "y": [
          117884,
          108550
         ]
        },
        {
         "marker": {
          "color": "red",
          "size": 10
         },
         "mode": "markers",
         "name": "Pivot high",
         "showlegend": false,
         "type": "scatter",
         "x": [
          "2024-08-04T00:00:00"
         ],
         "y": [
          61088
         ]
        },
        {
         "marker": {
          "color": "red",
          "size": 10
         },
         "mode": "markers",
         "name": "Pivot low",
         "showlegend": false,
         "type": "scatter",
         "x": [
          "2024-08-05T00:00:00"
         ],
         "y": [
          48914.1
         ]
        },
        {
         "marker": {
          "color": "red",
          "size": 10
         },
         "mode": "markers",
         "name": "Pivot high",
         "showlegend": false,
         "type": "scatter",
         "x": [
          "2024-08-08T00:00:00"
         ],
         "y": [
          62743.1
         ]
        },
        {
         "marker": {
          "color": "red",
          "size": 10
         },
         "mode": "markers",
         "name": "Pivot low",
         "showlegend": false,
         "type": "scatter",
         "x": [
          "2024-08-12T00:00:00"
         ],
         "y": [
          57555
         ]
        },
        {
         "marker": {
          "color": "red",
          "size": 10
         },
         "mode": "markers",
         "name": "Pivot high",
         "showlegend": false,
         "type": "scatter",
         "x": [
          "2024-08-14T00:00:00"
         ],
         "y": [
          61950.3
         ]
        },
        {
         "marker": {
          "color": "red",
          "size": 10
         },
         "mode": "markers",
         "name": "Pivot low",
         "showlegend": false,
         "type": "scatter",
         "x": [
          "2024-08-15T00:00:00"
         ],
         "y": [
          56052.1
         ]
        },
        {
         "marker": {
          "color": "red",
          "size": 10
         },
         "mode": "markers",
         "name": "Pivot high",
         "showlegend": false,
         "type": "scatter",
         "x": [
          "2024-08-23T00:00:00"
         ],
         "y": [
          65041.9
         ]
        },
        {
         "marker": {
          "color": "red",
          "size": 10
         },
         "mode": "markers",
         "name": "Pivot low",
         "showlegend": false,
         "type": "scatter",
         "x": [
          "2024-09-06T00:00:00"
         ],
         "y": [
          52500.2
         ]
        },
        {
         "marker": {
          "color": "red",
          "size": 10
         },
         "mode": "markers",
         "name": "Pivot high",
         "showlegend": false,
         "type": "scatter",
         "x": [
          "2024-09-27T00:00:00"
         ],
         "y": [
          66520
         ]
        },
        {
         "marker": {
          "color": "red",
          "size": 10
         },
         "mode": "markers",
         "name": "Pivot low",
         "showlegend": false,
         "type": "scatter",
         "x": [
          "2024-10-03T00:00:00"
         ],
         "y": [
          59840.2
         ]
        },
        {
         "marker": {
          "color": "red",
          "size": 10
         },
         "mode": "markers",
         "name": "Pivot high",
         "showlegend": false,
         "type": "scatter",
         "x": [
          "2024-10-07T00:00:00"
         ],
         "y": [
          64464
         ]
        },
        {
         "marker": {
          "color": "red",
          "size": 10
         },
         "mode": "markers",
         "name": "Pivot low",
         "showlegend": false,
         "type": "scatter",
         "x": [
          "2024-10-10T00:00:00"
         ],
         "y": [
          58900
         ]
        },
        {
         "marker": {
          "color": "red",
          "size": 10
         },
         "mode": "markers",
         "name": "Pivot high",
         "showlegend": false,
         "type": "scatter",
         "x": [
          "2024-10-21T00:00:00"
         ],
         "y": [
          69555
         ]
        },
        {
         "marker": {
          "color": "red",
          "size": 10
         },
         "mode": "markers",
         "name": "Pivot low",
         "showlegend": false,
         "type": "scatter",
         "x": [
          "2024-10-23T00:00:00"
         ],
         "y": [
          65240.2
         ]
        },
        {
         "marker": {
          "color": "red",
          "size": 10
         },
         "mode": "markers",
         "name": "Pivot high",
         "showlegend": false,
         "type": "scatter",
         "x": [
          "2024-10-29T00:00:00"
         ],
         "y": [
          73681.8
         ]
        },
        {
         "marker": {
          "color": "red",
          "size": 10
         },
         "mode": "markers",
         "name": "Pivot low",
         "showlegend": false,
         "type": "scatter",
         "x": [
          "2024-11-04T00:00:00"
         ],
         "y": [
          66808
         ]
        },
        {
         "marker": {
          "color": "red",
          "size": 10
         },
         "mode": "markers",
         "name": "Pivot high",
         "showlegend": false,
         "type": "scatter",
         "x": [
          "2024-11-13T00:00:00"
         ],
         "y": [
          93400
         ]
        },
        {
         "marker": {
          "color": "red",
          "size": 10
         },
         "mode": "markers",
         "name": "Pivot low",
         "showlegend": false,
         "type": "scatter",
         "x": [
          "2024-11-14T00:00:00"
         ],
         "y": [
          86661
         ]
        },
        {
         "marker": {
          "color": "red",
          "size": 10
         },
         "mode": "markers",
         "name": "Pivot high",
         "showlegend": false,
         "type": "scatter",
         "x": [
          "2024-11-22T00:00:00"
         ],
         "y": [
          99690
         ]
        },
        {
         "marker": {
          "color": "red",
          "size": 10
         },
         "mode": "markers",
         "name": "Pivot low",
         "showlegend": false,
         "type": "scatter",
         "x": [
          "2024-11-26T00:00:00"
         ],
         "y": [
          90835.5
         ]
        },
        {
         "marker": {
          "color": "red",
          "size": 10
         },
         "mode": "markers",
         "name": "Pivot high",
         "showlegend": false,
         "type": "scatter",
         "x": [
          "2024-12-05T00:00:00"
         ],
         "y": [
          104698.8
         ]
        },
        {
         "marker": {
          "color": "red",
          "size": 10
         },
         "mode": "markers",
         "name": "Pivot low",
         "showlegend": false,
         "type": "scatter",
         "x": [
          "2024-12-09T00:00:00"
         ],
         "y": [
          93888
         ]
        },
        {
         "marker": {
          "color": "red",
          "size": 10
         },
         "mode": "markers",
         "name": "Pivot high",
         "showlegend": false,
         "type": "scatter",
         "x": [
          "2024-12-17T00:00:00"
         ],
         "y": [
          108421.6
         ]
        },
        {
         "marker": {
          "color": "red",
          "size": 10
         },
         "mode": "markers",
         "name": "Pivot low",
         "showlegend": false,
         "type": "scatter",
         "x": [
          "2024-12-20T00:00:00"
         ],
         "y": [
          92230
         ]
        },
        {
         "marker": {
          "color": "red",
          "size": 10
         },
         "mode": "markers",
         "name": "Pivot high",
         "showlegend": false,
         "type": "scatter",
         "x": [
          "2024-12-21T00:00:00"
         ],
         "y": [
          99482.8
         ]
        },
        {
         "marker": {
          "color": "red",
          "size": 10
         },
         "mode": "markers",
         "name": "Pivot low",
         "showlegend": false,
         "type": "scatter",
         "x": [
          "2024-12-23T00:00:00"
         ],
         "y": [
          92465.8
         ]
        },
        {
         "marker": {
          "color": "red",
          "size": 10
         },
         "mode": "markers",
         "name": "Pivot high",
         "showlegend": false,
         "type": "scatter",
         "x": [
          "2024-12-26T00:00:00"
         ],
         "y": [
          99950
         ]
        },
        {
         "marker": {
          "color": "red",
          "size": 10
         },
         "mode": "markers",
         "name": "Pivot low",
         "showlegend": false,
         "type": "scatter",
         "x": [
          "2024-12-30T00:00:00"
         ],
         "y": [
          91463.7
         ]
        },
        {
         "marker": {
          "color": "red",
          "size": 10
         },
         "mode": "markers",
         "name": "Pivot high",
         "showlegend": false,
         "type": "scatter",
         "x": [
          "2025-01-07T00:00:00"
         ],
         "y": [
          102702.1
         ]
        },
        {
         "marker": {
          "color": "red",
          "size": 10
         },
         "mode": "markers",
         "name": "Pivot low",
         "showlegend": false,
         "type": "scatter",
         "x": [
          "2025-01-13T00:00:00"
         ],
         "y": [
          89100
         ]
        },
        {
         "marker": {
          "color": "red",
          "size": 10
         },
         "mode": "markers",
         "name": "Pivot high",
         "showlegend": false,
         "type": "scatter",
         "x": [
          "2025-01-20T00:00:00"
         ],
         "y": [
          109951.7
         ]
        },
        {
         "marker": {
          "color": "red",
          "size": 10
         },
         "mode": "markers",
         "name": "Pivot low",
         "showlegend": false,
         "type": "scatter",
         "x": [
          "2025-01-21T00:00:00"
         ],
         "y": [
          100000
         ]
        },
        {
         "marker": {
          "color": "red",
          "size": 10
         },
         "mode": "markers",
         "name": "Pivot high",
         "showlegend": false,
         "type": "scatter",
         "x": [
          "2025-01-24T00:00:00"
         ],
         "y": [
          107118.6
         ]
        },
        {
         "marker": {
          "color": "red",
          "size": 10
         },
         "mode": "markers",
         "name": "Pivot low",
         "showlegend": false,
         "type": "scatter",
         "x": [
          "2025-01-27T00:00:00"
         ],
         "y": [
          97694.2
         ]
        },
        {
         "marker": {
          "color": "red",
          "size": 10
         },
         "mode": "markers",
         "name": "Pivot high",
         "showlegend": false,
         "type": "scatter",
         "x": [
          "2025-01-30T00:00:00"
         ],
         "y": [
          106421.1
         ]
        },
        {
         "marker": {
          "color": "red",
          "size": 10
         },
         "mode": "markers",
         "name": "Pivot low",
         "showlegend": false,
         "type": "scatter",
         "x": [
          "2025-02-03T00:00:00"
         ],
         "y": [
          91166.6
         ]
        },
        {
         "marker": {
          "color": "red",
          "size": 10
         },
         "mode": "markers",
         "name": "Pivot high",
         "showlegend": false,
         "type": "scatter",
         "x": [
          "2025-02-03T00:00:00"
         ],
         "y": [
          102457.8
         ]
        },
        {
         "marker": {
          "color": "red",
          "size": 10
         },
         "mode": "markers",
         "name": "Pivot low",
         "showlegend": false,
         "type": "scatter",
         "x": [
          "2025-02-18T00:00:00"
         ],
         "y": [
          93318.1
         ]
        },
        {
         "marker": {
          "color": "red",
          "size": 10
         },
         "mode": "markers",
         "name": "Pivot high",
         "showlegend": false,
         "type": "scatter",
         "x": [
          "2025-02-21T00:00:00"
         ],
         "y": [
          99454.2
         ]
        },
        {
         "marker": {
          "color": "red",
          "size": 10
         },
         "mode": "markers",
         "name": "Pivot low",
         "showlegend": false,
         "type": "scatter",
         "x": [
          "2025-02-26T00:00:00"
         ],
         "y": [
          82055.6
         ]
        },
        {
         "marker": {
          "color": "red",
          "size": 10
         },
         "mode": "markers",
         "name": "Pivot high",
         "showlegend": false,
         "type": "scatter",
         "x": [
          "2025-02-27T00:00:00"
         ],
         "y": [
          87043.6
         ]
        },
        {
         "marker": {
          "color": "red",
          "size": 10
         },
         "mode": "markers",
         "name": "Pivot low",
         "showlegend": false,
         "type": "scatter",
         "x": [
          "2025-02-28T00:00:00"
         ],
         "y": [
          78210.5
         ]
        },
        {
         "marker": {
          "color": "red",
          "size": 10
         },
         "mode": "markers",
         "name": "Pivot high",
         "showlegend": false,
         "type": "scatter",
         "x": [
          "2025-03-02T00:00:00"
         ],
         "y": [
          95058.7
         ]
        },
        {
         "marker": {
          "color": "red",
          "size": 10
         },
         "mode": "markers",
         "name": "Pivot low",
         "showlegend": false,
         "type": "scatter",
         "x": [
          "2025-03-04T00:00:00"
         ],
         "y": [
          81413.7
         ]
        },
        {
         "marker": {
          "color": "red",
          "size": 10
         },
         "mode": "markers",
         "name": "Pivot high",
         "showlegend": false,
         "type": "scatter",
         "x": [
          "2025-03-06T00:00:00"
         ],
         "y": [
          92781.6
         ]
        },
        {
         "marker": {
          "color": "red",
          "size": 10
         },
         "mode": "markers",
         "name": "Pivot low",
         "showlegend": false,
         "type": "scatter",
         "x": [
          "2025-03-11T00:00:00"
         ],
         "y": [
          76545
         ]
        },
        {
         "marker": {
          "color": "red",
          "size": 10
         },
         "mode": "markers",
         "name": "Pivot high",
         "showlegend": false,
         "type": "scatter",
         "x": [
          "2025-03-24T00:00:00"
         ],
         "y": [
          88740
         ]
        },
        {
         "marker": {
          "color": "red",
          "size": 10
         },
         "mode": "markers",
         "name": "Pivot low",
         "showlegend": false,
         "type": "scatter",
         "x": [
          "2025-03-31T00:00:00"
         ],
         "y": [
          81212.3
         ]
        },
        {
         "marker": {
          "color": "red",
          "size": 10
         },
         "mode": "markers",
         "name": "Pivot high",
         "showlegend": false,
         "type": "scatter",
         "x": [
          "2025-04-02T00:00:00"
         ],
         "y": [
          88560.1
         ]
        },
        {
         "marker": {
          "color": "red",
          "size": 10
         },
         "mode": "markers",
         "name": "Pivot low",
         "showlegend": false,
         "type": "scatter",
         "x": [
          "2025-04-07T00:00:00"
         ],
         "y": [
          74456.2
         ]
        },
        {
         "marker": {
          "color": "red",
          "size": 10
         },
         "mode": "markers",
         "name": "Pivot high",
         "showlegend": false,
         "type": "scatter",
         "x": [
          "2025-04-09T00:00:00"
         ],
         "y": [
          83560
         ]
        },
        {
         "marker": {
          "color": "red",
          "size": 10
         },
         "mode": "markers",
         "name": "Pivot low",
         "showlegend": false,
         "type": "scatter",
         "x": [
          "2025-04-10T00:00:00"
         ],
         "y": [
          78422
         ]
        },
        {
         "marker": {
          "color": "red",
          "size": 10
         },
         "mode": "markers",
         "name": "Pivot high",
         "showlegend": false,
         "type": "scatter",
         "x": [
          "2025-05-22T00:00:00"
         ],
         "y": [
          111968
         ]
        },
        {
         "marker": {
          "color": "red",
          "size": 10
         },
         "mode": "markers",
         "name": "Pivot low",
         "showlegend": false,
         "type": "scatter",
         "x": [
          "2025-06-05T00:00:00"
         ],
         "y": [
          100350
         ]
        },
        {
         "marker": {
          "color": "red",
          "size": 10
         },
         "mode": "markers",
         "name": "Pivot high",
         "showlegend": false,
         "type": "scatter",
         "x": [
          "2025-06-09T00:00:00"
         ],
         "y": [
          110660.8
         ]
        },
        {
         "marker": {
          "color": "red",
          "size": 10
         },
         "mode": "markers",
         "name": "Pivot low",
         "showlegend": false,
         "type": "scatter",
         "x": [
          "2025-06-13T00:00:00"
         ],
         "y": [
          102626.9
         ]
        },
        {
         "marker": {
          "color": "red",
          "size": 10
         },
         "mode": "markers",
         "name": "Pivot high",
         "showlegend": false,
         "type": "scatter",
         "x": [
          "2025-06-16T00:00:00"
         ],
         "y": [
          108955.5
         ]
        },
        {
         "marker": {
          "color": "red",
          "size": 10
         },
         "mode": "markers",
         "name": "Pivot low",
         "showlegend": false,
         "type": "scatter",
         "x": [
          "2025-06-22T00:00:00"
         ],
         "y": [
          98125
         ]
        },
        {
         "marker": {
          "color": "red",
          "size": 10
         },
         "mode": "markers",
         "name": "Pivot high",
         "showlegend": false,
         "type": "scatter",
         "x": [
          "2025-07-14T00:00:00"
         ],
         "y": [
          123250
         ]
        },
        {
         "marker": {
          "color": "red",
          "size": 10
         },
         "mode": "markers",
         "name": "Pivot low",
         "showlegend": false,
         "type": "scatter",
         "x": [
          "2025-08-03T00:00:00"
         ],
         "y": [
          111870
         ]
        },
        {
         "marker": {
          "color": "red",
          "size": 10
         },
         "mode": "markers",
         "name": "Pivot high",
         "showlegend": false,
         "type": "scatter",
         "x": [
          "2025-08-14T00:00:00"
         ],
         "y": [
          124571.2
         ]
        },
        {
         "marker": {
          "color": "red",
          "size": 10
         },
         "mode": "markers",
         "name": "Pivot low",
         "showlegend": false,
         "type": "scatter",
         "x": [
          "2025-09-01T00:00:00"
         ],
         "y": [
          107202
         ]
        },
        {
         "marker": {
          "color": "red",
          "size": 10
         },
         "mode": "markers",
         "name": "Pivot high",
         "showlegend": false,
         "type": "scatter",
         "x": [
          "2025-09-18T00:00:00"
         ],
         "y": [
          117884
         ]
        },
        {
         "marker": {
          "color": "red",
          "size": 10
         },
         "mode": "markers",
         "name": "Pivot low",
         "showlegend": false,
         "type": "scatter",
         "x": [
          "2025-09-26T00:00:00"
         ],
         "y": [
          108550
         ]
        },
        {
         "line": {
          "color": "orange",
          "dash": "dash",
          "width": 2
         },
         "mode": "lines",
         "name": "channel_lower_line",
         "showlegend": true,
         "type": "scatter",
         "x": [
          "2024-08-05T00:00:00",
          "2025-09-30T00:00:00"
         ],
         "y": [
          48914.1,
          100688.31168598951
         ]
        },
        {
         "line": {
          "color": "orange",
          "dash": "dash",
          "width": 2
         },
         "mode": "lines",
         "name": "channel_upper_line",
         "showlegend": true,
         "type": "scatter",
         "x": [
          "2024-08-05T00:00:00",
          "2025-09-30T00:00:00"
         ],
         "y": [
          82429.34650989168,
          169678.51260598487
         ]
        },
        {
         "line": {
          "color": "orange",
          "dash": "dash",
          "width": 2
         },
         "mode": "lines",
         "name": "line_close_D",
         "showlegend": true,
         "type": "scatter",
         "x": [
          "2024-09-11T00:00:00",
          "2025-09-30T00:00:00"
         ],
         "y": [
          57310.4,
          57310.4
         ]
        },
        {
         "line": {
          "color": "orange",
          "dash": "dash",
          "width": 2
         },
         "mode": "lines",
         "name": "line_close_D",
         "showlegend": true,
         "type": "scatter",
         "x": [
          "2024-09-16T00:00:00",
          "2025-09-30T00:00:00"
         ],
         "y": [
          58185,
          58185
         ]
        },
        {
         "line": {
          "color": "orange",
          "dash": "dash",
          "width": 2
         },
         "mode": "lines",
         "name": "line_close_D",
         "showlegend": true,
         "type": "scatter",
         "x": [
          "2024-10-10T00:00:00",
          "2025-09-30T00:00:00"
         ],
         "y": [
          60295.6,
          60295.6
         ]
        },
        {
         "line": {
          "color": "orange",
          "dash": "dash",
          "width": 2
         },
         "mode": "lines",
         "name": "line_close_D",
         "showlegend": true,
         "type": "scatter",
         "x": [
          "2024-10-13T00:00:00",
          "2025-09-30T00:00:00"
         ],
         "y": [
          62838.7,
          62838.7
         ]
        },
        {
         "line": {
          "color": "orange",
          "dash": "dash",
          "width": 2
         },
         "mode": "lines",
         "name": "line_close_D",
         "showlegend": true,
         "type": "scatter",
         "x": [
          "2024-10-25T00:00:00",
          "2025-09-30T00:00:00"
         ],
         "y": [
          66666.8,
          66666.8
         ]
        },
        {
         "line": {
          "color": "orange",
          "dash": "dash",
          "width": 2
         },
         "mode": "lines",
         "name": "line_close_D",
         "showlegend": true,
         "type": "scatter",
         "x": [
          "2024-11-04T00:00:00",
          "2025-09-30T00:00:00"
         ],
         "y": [
          67838.7,
          67838.7
         ]
        },
        {
         "line": {
          "color": "orange",
          "dash": "dash",
          "width": 2
         },
         "mode": "lines",
         "name": "line_close_D",
         "showlegend": true,
         "type": "scatter",
         "x": [
          "2025-04-08T00:00:00",
          "2025-09-30T00:00:00"
         ],
         "y": [
          76286.9,
          76286.9
         ]
        },
        {
         "line": {
          "color": "orange",
          "dash": "dash",
          "width": 2
         },
         "mode": "lines",
         "name": "line_close_D",
         "showlegend": true,
         "type": "scatter",
         "x": [
          "2025-04-10T00:00:00",
          "2025-09-30T00:00:00"
         ],
         "y": [
          79557.5,
          79557.5
         ]
        },
        {
         "line": {
          "color": "orange",
          "dash": "dash",
          "width": 2
         },
         "mode": "lines",
         "name": "line_close_D",
         "showlegend": true,
         "type": "scatter",
         "x": [
          "2025-04-15T00:00:00",
          "2025-09-30T00:00:00"
         ],
         "y": [
          83603.7,
          83603.7
         ]
        },
        {
         "line": {
          "color": "orange",
          "dash": "dash",
          "width": 2
         },
         "mode": "lines",
         "name": "line_close_D",
         "showlegend": true,
         "type": "scatter",
         "x": [
          "2025-06-22T00:00:00",
          "2025-09-30T00:00:00"
         ],
         "y": [
          100904.3,
          100904.3
         ]
        },
        {
         "line": {
          "color": "orange",
          "dash": "dash",
          "width": 2
         },
         "mode": "lines",
         "name": "line_close_D",
         "showlegend": true,
         "type": "scatter",
         "x": [
          "2025-07-01T00:00:00",
          "2025-09-30T00:00:00"
         ],
         "y": [
          105634.8,
          105634.8
         ]
        },
        {
         "line": {
          "color": "orange",
          "dash": "dash",
          "width": 2
         },
         "mode": "lines",
         "name": "line_close_D",
         "showlegend": true,
         "type": "scatter",
         "x": [
          "2025-08-13T00:00:00",
          "2025-09-30T00:00:00"
         ],
         "y": [
          123348,
          123348
         ]
        },
        {
         "line": {
          "color": "orange",
          "dash": "dash",
          "width": 2
         },
         "mode": "lines",
         "name": "line_close_D",
         "showlegend": true,
         "type": "scatter",
         "x": [
          "2025-08-31T00:00:00",
          "2025-09-30T00:00:00"
         ],
         "y": [
          108200,
          108200
         ]
        },
        {
         "line": {
          "color": "orange",
          "dash": "dash",
          "width": 2
         },
         "mode": "lines",
         "name": "line_close_D",
         "showlegend": true,
         "type": "scatter",
         "x": [
          "2025-09-18T00:00:00",
          "2025-09-30T00:00:00"
         ],
         "y": [
          117023.5,
          117023.5
         ]
        },
        {
         "line": {
          "color": "orange",
          "dash": "dash",
          "width": 2
         },
         "mode": "lines",
         "name": "line_close_D",
         "showlegend": true,
         "type": "scatter",
         "x": [
          "2025-09-20T00:00:00",
          "2025-09-30T00:00:00"
         ],
         "y": [
          115628.9,
          115628.9
         ]
        },
        {
         "line": {
          "color": "orange",
          "dash": "dash",
          "width": 2
         },
         "mode": "lines",
         "name": "line_close_D",
         "showlegend": true,
         "type": "scatter",
         "x": [
          "2025-09-25T00:00:00",
          "2025-09-30T00:00:00"
         ],
         "y": [
          108931.3,
          108931.3
         ]
        },
        {
         "line": {
          "color": "orange",
          "dash": "dash",
          "width": 2
         },
         "mode": "lines",
         "name": "line_close_D",
         "showlegend": true,
         "type": "scatter",
         "x": [
          "2025-09-27T00:00:00",
          "2025-09-30T00:00:00"
         ],
         "y": [
          109585.6,
          109585.6
         ]
        },
        {
         "line": {
          "color": "orange",
          "dash": "dash",
          "width": 2
         },
         "mode": "lines",
         "name": "line_close_D",
         "showlegend": true,
         "type": "scatter",
         "x": [
          "2025-09-29T00:00:00",
          "2025-09-30T00:00:00"
         ],
         "y": [
          114251.4,
          114251.4
         ]
        },
        {
         "line": {
          "color": "orange",
          "dash": "dash",
          "width": 2
         },
         "mode": "lines",
         "name": "max_level_D",
         "showlegend": true,
         "type": "scatter",
         "x": [
          "2024-08-04T00:00:00",
          "2025-09-30T00:00:00"
         ],
         "y": [
          124571.2,
          124571.2
         ]
        },
        {
         "line": {
          "color": "orange",
          "dash": "dash",
          "width": 2
         },
         "mode": "lines",
         "name": "min_level_D",
         "showlegend": true,
         "type": "scatter",
         "x": [
          "2024-08-04T00:00:00",
          "2025-09-30T00:00:00"
         ],
         "y": [
          48914.1,
          48914.1
         ]
        },
        {
         "line": {
          "color": "deepskyblue",
          "dash": "dash",
          "width": 1
         },
         "mode": "lines",
         "name": "Volume Level",
         "showlegend": true,
         "type": "scatter",
         "x": [
          "2024-08-05T00:00:00",
          "2024-08-11T00:00:00"
         ],
         "y": [
          56006.607843137244,
          56006.607843137244
         ]
        },
        {
         "line": {
          "color": "deepskyblue",
          "dash": "dash",
          "width": 1
         },
         "mode": "lines",
         "name": "Volume Level",
         "showlegend": true,
         "type": "scatter",
         "x": [
          "2024-08-05T00:00:00",
          "2024-08-11T00:00:00"
         ],
         "y": [
          53988.2,
          53988.2
         ]
        },
        {
         "line": {
          "color": "deepskyblue",
          "dash": "dash",
          "width": 1
         },
         "mode": "lines",
         "name": "Volume Level",
         "showlegend": true,
         "type": "scatter",
         "x": [
          "2024-08-12T00:00:00",
          "2024-08-18T00:00:00"
         ],
         "y": [
          60558.7999999999,
          60558.7999999999
         ]
        },
        {
         "line": {
          "color": "deepskyblue",
          "dash": "dash",
          "width": 1
         },
         "mode": "lines",
         "name": "Volume Level",
         "showlegend": true,
         "type": "scatter",
         "x": [
          "2024-08-12T00:00:00",
          "2024-08-18T00:00:00"
         ],
         "y": [
          58398.937647058796,
          58398.937647058796
         ]
        },
        {
         "line": {
          "color": "deepskyblue",
          "dash": "dash",
          "width": 1
         },
         "mode": "lines",
         "name": "Volume Level",
         "showlegend": true,
         "type": "scatter",
         "x": [
          "2024-08-19T00:00:00",
          "2024-08-25T00:00:00"
         ],
         "y": [
          64180.89999999979,
          64180.89999999979
         ]
        },
        {
         "line": {
          "color": "deepskyblue",
          "dash": "dash",
          "width": 1
         },
         "mode": "lines",
         "name": "Volume Level",
         "showlegend": true,
         "type": "scatter",
         "x": [
          "2024-08-19T00:00:00",
          "2024-08-25T00:00:00"
         ],
         "y": [
          59386.07058823528,
          59386.07058823528
         ]
        },
        {
         "line": {
          "color": "deepskyblue",
          "dash": "dash",
          "width": 1
         },
         "mode": "lines",
         "name": "Volume Level",
         "showlegend": true,
         "type": "scatter",
         "x": [
          "2024-08-26T00:00:00",
          "2024-09-01T00:00:00"
         ],
         "y": [
          62811.99999999971,
          62811.99999999971
         ]
        },
        {
         "line": {
          "color": "deepskyblue",
          "dash": "dash",
          "width": 1
         },
         "mode": "lines",
         "name": "Volume Level",
         "showlegend": true,
         "type": "scatter",
         "x": [
          "2024-08-26T00:00:00",
          "2024-09-01T00:00:00"
         ],
         "y": [
          59005.99019607834,
          59005.99019607834
         ]
        },
        {
         "line": {
          "color": "deepskyblue",
          "dash": "dash",
          "width": 1
         },
         "mode": "lines",
         "name": "Volume Level",
         "showlegend": true,
         "type": "scatter",
         "x": [
          "2024-09-02T00:00:00",
          "2024-09-08T00:00:00"
         ],
         "y": [
          57470.43058823532,
          57470.43058823532
         ]
        },
        {
         "line": {
          "color": "deepskyblue",
          "dash": "dash",
          "width": 1
         },
         "mode": "lines",
         "name": "Volume Level",
         "showlegend": true,
         "type": "scatter",
         "x": [
          "2024-09-02T00:00:00",
          "2024-09-08T00:00:00"
         ],
         "y": [
          53934,
          53934
         ]
        },
        {
         "line": {
          "color": "deepskyblue",
          "dash": "dash",
          "width": 1
         },
         "mode": "lines",
         "name": "Volume Level",
         "showlegend": true,
         "type": "scatter",
         "x": [
          "2024-09-09T00:00:00",
          "2024-09-15T00:00:00"
         ],
         "y": [
          60466.3000000008,
          60466.3000000008
         ]
        },
        {
         "line": {
          "color": "deepskyblue",
          "dash": "dash",
          "width": 1
         },
         "mode": "lines",
         "name": "Volume Level",
         "showlegend": true,
         "type": "scatter",
         "x": [
          "2024-09-09T00:00:00",
          "2024-09-15T00:00:00"
         ],
         "y": [
          57298.76588235301,
          57298.76588235301
         ]
        },
        {
         "line": {
          "color": "deepskyblue",
          "dash": "dash",
          "width": 1
         },
         "mode": "lines",
         "name": "Volume Level",
         "showlegend": true,
         "type": "scatter",
         "x": [
          "2024-09-16T00:00:00",
          "2024-09-22T00:00:00"
         ],
         "y": [
          63549.89999999918,
          63549.89999999918
         ]
        },
        {
         "line": {
          "color": "deepskyblue",
          "dash": "dash",
          "width": 1
         },
         "mode": "lines",
         "name": "Volume Level",
         "showlegend": true,
         "type": "scatter",
         "x": [
          "2024-09-16T00:00:00",
          "2024-09-22T00:00:00"
         ],
         "y": [
          60267.843529411446,
          60267.843529411446
         ]
        },
        {
         "line": {
          "color": "deepskyblue",
          "dash": "dash",
          "width": 1
         },
         "mode": "lines",
         "name": "Volume Level",
         "showlegend": true,
         "type": "scatter",
         "x": [
          "2024-09-23T00:00:00",
          "2024-09-29T00:00:00"
         ],
         "y": [
          65833.56039215662,
          65833.56039215662
         ]
        },
        {
         "line": {
          "color": "deepskyblue",
          "dash": "dash",
          "width": 1
         },
         "mode": "lines",
         "name": "Volume Level",
         "showlegend": true,
         "type": "scatter",
         "x": [
          "2024-09-23T00:00:00",
          "2024-09-29T00:00:00"
         ],
         "y": [
          63299.06627450979,
          63299.06627450979
         ]
        },
        {
         "line": {
          "color": "deepskyblue",
          "dash": "dash",
          "width": 1
         },
         "mode": "lines",
         "name": "Volume Level",
         "showlegend": true,
         "type": "scatter",
         "x": [
          "2024-09-30T00:00:00",
          "2024-10-06T00:00:00"
         ],
         "y": [
          63276.799999999785,
          63276.799999999785
         ]
        },
        {
         "line": {
          "color": "deepskyblue",
          "dash": "dash",
          "width": 1
         },
         "mode": "lines",
         "name": "Volume Level",
         "showlegend": true,
         "type": "scatter",
         "x": [
          "2024-09-30T00:00:00",
          "2024-10-06T00:00:00"
         ],
         "y": [
          60721.786274509795,
          60721.786274509795
         ]
        },
        {
         "line": {
          "color": "deepskyblue",
          "dash": "dash",
          "width": 1
         },
         "mode": "lines",
         "name": "Volume Level",
         "showlegend": true,
         "type": "scatter",
         "x": [
          "2024-10-07T00:00:00",
          "2024-10-13T00:00:00"
         ],
         "y": [
          63188.80156862773,
          63188.80156862773
         ]
        },
        {
         "line": {
          "color": "deepskyblue",
          "dash": "dash",
          "width": 1
         },
         "mode": "lines",
         "name": "Volume Level",
         "showlegend": true,
         "type": "scatter",
         "x": [
          "2024-10-07T00:00:00",
          "2024-10-13T00:00:00"
         ],
         "y": [
          60600.742352941204,
          60600.742352941204
         ]
        },
        {
         "line": {
          "color": "deepskyblue",
          "dash": "dash",
          "width": 1
         },
         "mode": "lines",
         "name": "Volume Level",
         "showlegend": true,
         "type": "scatter",
         "x": [
          "2024-10-14T00:00:00",
          "2024-10-20T00:00:00"
         ],
         "y": [
          68408.46823529429,
          68408.46823529429
         ]
        },
        {
         "line": {
          "color": "deepskyblue",
          "dash": "dash",
          "width": 1
         },
         "mode": "lines",
         "name": "Volume Level",
         "showlegend": true,
         "type": "scatter",
         "x": [
          "2024-10-14T00:00:00",
          "2024-10-20T00:00:00"
         ],
         "y": [
          67053.14941176478,
          67053.14941176478
         ]
        },
        {
         "line": {
          "color": "deepskyblue",
          "dash": "dash",
          "width": 1
         },
         "mode": "lines",
         "name": "Volume Level",
         "showlegend": true,
         "type": "scatter",
         "x": [
          "2024-10-21T00:00:00",
          "2024-10-27T00:00:00"
         ],
         "y": [
          67370.67647058776,
          67370.67647058776
         ]
        },
        {
         "line": {
          "color": "deepskyblue",
          "dash": "dash",
          "width": 1
         },
         "mode": "lines",
         "name": "Volume Level",
         "showlegend": true,
         "type": "scatter",
         "x": [
          "2024-10-21T00:00:00",
          "2024-10-27T00:00:00"
         ],
         "y": [
          66659.1,
          66659.1
         ]
        },
        {
         "line": {
          "color": "deepskyblue",
          "dash": "dash",
          "width": 1
         },
         "mode": "lines",
         "name": "Volume Level",
         "showlegend": true,
         "type": "scatter",
         "x": [
          "2024-10-28T00:00:00",
          "2024-11-03T00:00:00"
         ],
         "y": [
          72395.46196078279,
          72395.46196078279
         ]
        },
        {
         "line": {
          "color": "deepskyblue",
          "dash": "dash",
          "width": 1
         },
         "mode": "lines",
         "name": "Volume Level",
         "showlegend": true,
         "type": "scatter",
         "x": [
          "2024-10-28T00:00:00",
          "2024-11-03T00:00:00"
         ],
         "y": [
          69483.4168627448,
          69483.4168627448
         ]
        },
        {
         "line": {
          "color": "deepskyblue",
          "dash": "dash",
          "width": 1
         },
         "mode": "lines",
         "name": "Volume Level",
         "showlegend": true,
         "type": "scatter",
         "x": [
          "2024-11-04T00:00:00",
          "2024-11-10T00:00:00"
         ],
         "y": [
          80428.49999999945,
          80428.49999999945
         ]
        },
        {
         "line": {
          "color": "deepskyblue",
          "dash": "dash",
          "width": 1
         },
         "mode": "lines",
         "name": "Volume Level",
         "showlegend": true,
         "type": "scatter",
         "x": [
          "2024-11-04T00:00:00",
          "2024-11-10T00:00:00"
         ],
         "y": [
          69319.8529411764,
          69319.8529411764
         ]
        },
        {
         "line": {
          "color": "deepskyblue",
          "dash": "dash",
          "width": 1
         },
         "mode": "lines",
         "name": "Volume Level",
         "showlegend": true,
         "type": "scatter",
         "x": [
          "2024-11-11T00:00:00",
          "2024-11-17T00:00:00"
         ],
         "y": [
          90417.83058823412,
          90417.83058823412
         ]
        },
        {
         "line": {
          "color": "deepskyblue",
          "dash": "dash",
          "width": 1
         },
         "mode": "lines",
         "name": "Volume Level",
         "showlegend": true,
         "type": "scatter",
         "x": [
          "2024-11-11T00:00:00",
          "2024-11-17T00:00:00"
         ],
         "y": [
          87956.7745098037,
          87956.7745098037
         ]
        },
        {
         "line": {
          "color": "deepskyblue",
          "dash": "dash",
          "width": 1
         },
         "mode": "lines",
         "name": "Volume Level",
         "showlegend": true,
         "type": "scatter",
         "x": [
          "2024-11-18T00:00:00",
          "2024-11-24T00:00:00"
         ],
         "y": [
          98979.98823529482,
          98979.98823529482
         ]
        },
        {
         "line": {
          "color": "deepskyblue",
          "dash": "dash",
          "width": 1
         },
         "mode": "lines",
         "name": "Volume Level",
         "showlegend": true,
         "type": "scatter",
         "x": [
          "2024-11-18T00:00:00",
          "2024-11-24T00:00:00"
         ],
         "y": [
          92316.3647058825,
          92316.3647058825
         ]
        },
        {
         "line": {
          "color": "deepskyblue",
          "dash": "dash",
          "width": 1
         },
         "mode": "lines",
         "name": "Volume Level",
         "showlegend": true,
         "type": "scatter",
         "x": [
          "2024-11-25T00:00:00",
          "2024-12-01T00:00:00"
         ],
         "y": [
          97526.70000000161,
          97526.70000000161
         ]
        },
        {
         "line": {
          "color": "deepskyblue",
          "dash": "dash",
          "width": 1
         },
         "mode": "lines",
         "name": "Volume Level",
         "showlegend": true,
         "type": "scatter",
         "x": [
          "2024-11-25T00:00:00",
          "2024-12-01T00:00:00"
         ],
         "y": [
          92996.38235294147,
          92996.38235294147
         ]
        },
        {
         "line": {
          "color": "deepskyblue",
          "dash": "dash",
          "width": 1
         },
         "mode": "lines",
         "name": "Volume Level",
         "showlegend": true,
         "type": "scatter",
         "x": [
          "2024-12-02T00:00:00",
          "2024-12-08T00:00:00"
         ],
         "y": [
          99918.90901960683,
          99918.90901960683
         ]
        },
        {
         "line": {
          "color": "deepskyblue",
          "dash": "dash",
          "width": 1
         },
         "mode": "lines",
         "name": "Volume Level",
         "showlegend": true,
         "type": "scatter",
         "x": [
          "2024-12-02T00:00:00",
          "2024-12-08T00:00:00"
         ],
         "y": [
          96967.42509803895,
          96967.42509803895
         ]
        },
        {
         "line": {
          "color": "deepskyblue",
          "dash": "dash",
          "width": 1
         },
         "mode": "lines",
         "name": "Volume Level",
         "showlegend": true,
         "type": "scatter",
         "x": [
          "2024-12-09T00:00:00",
          "2024-12-15T00:00:00"
         ],
         "y": [
          101424.1600000004,
          101424.1600000004
         ]
        },
        {
         "line": {
          "color": "deepskyblue",
          "dash": "dash",
          "width": 1
         },
         "mode": "lines",
         "name": "Volume Level",
         "showlegend": true,
         "type": "scatter",
         "x": [
          "2024-12-09T00:00:00",
          "2024-12-15T00:00:00"
         ],
         "y": [
          97302.24000000006,
          97302.24000000006
         ]
        },
        {
         "line": {
          "color": "deepskyblue",
          "dash": "dash",
          "width": 1
         },
         "mode": "lines",
         "name": "Volume Level",
         "showlegend": true,
         "type": "scatter",
         "x": [
          "2024-12-16T00:00:00",
          "2024-12-22T00:00:00"
         ],
         "y": [
          100168.58823529407,
          100168.58823529407
         ]
        },
        {
         "line": {
          "color": "deepskyblue",
          "dash": "dash",
          "width": 1
         },
         "mode": "lines",
         "name": "Volume Level",
         "showlegend": true,
         "type": "scatter",
         "x": [
          "2024-12-16T00:00:00",
          "2024-12-22T00:00:00"
         ],
         "y": [
          97377.53921568625,
          97377.53921568625
         ]
        },
        {
         "line": {
          "color": "deepskyblue",
          "dash": "dash",
          "width": 1
         },
         "mode": "lines",
         "name": "Volume Level",
         "showlegend": true,
         "type": "scatter",
         "x": [
          "2024-12-23T00:00:00",
          "2024-12-29T00:00:00"
         ],
         "y": [
          99405.20000000061,
          99405.20000000061
         ]
        },
        {
         "line": {
          "color": "deepskyblue",
          "dash": "dash",
          "width": 1
         },
         "mode": "lines",
         "name": "Volume Level",
         "showlegend": true,
         "type": "scatter",
         "x": [
          "2024-12-23T00:00:00",
          "2024-12-29T00:00:00"
         ],
         "y": [
          94817.86274509816,
          94817.86274509816
         ]
        },
        {
         "line": {
          "color": "deepskyblue",
          "dash": "dash",
          "width": 1
         },
         "mode": "lines",
         "name": "Volume Level",
         "showlegend": true,
         "type": "scatter",
         "x": [
          "2024-12-30T00:00:00",
          "2025-01-05T00:00:00"
         ],
         "y": [
          96978.63960784244,
          96978.63960784244
         ]
        },
        {
         "line": {
          "color": "deepskyblue",
          "dash": "dash",
          "width": 1
         },
         "mode": "lines",
         "name": "Volume Level",
         "showlegend": true,
         "type": "scatter",
         "x": [
          "2024-12-30T00:00:00",
          "2025-01-05T00:00:00"
         ],
         "y": [
          92739.3,
          92739.3
         ]
        },
        {
         "line": {
          "color": "deepskyblue",
          "dash": "dash",
          "width": 1
         },
         "mode": "lines",
         "name": "Volume Level",
         "showlegend": true,
         "type": "scatter",
         "x": [
          "2025-01-06T00:00:00",
          "2025-01-12T00:00:00"
         ],
         "y": [
          102185.89999999978,
          102185.89999999978
         ]
        },
        {
         "line": {
          "color": "deepskyblue",
          "dash": "dash",
          "width": 1
         },
         "mode": "lines",
         "name": "Volume Level",
         "showlegend": true,
         "type": "scatter",
         "x": [
          "2025-01-06T00:00:00",
          "2025-01-12T00:00:00"
         ],
         "y": [
          94557.20117647054,
          94557.20117647054
         ]
        },
        {
         "line": {
          "color": "deepskyblue",
          "dash": "dash",
          "width": 1
         },
         "mode": "lines",
         "name": "Volume Level",
         "showlegend": true,
         "type": "scatter",
         "x": [
          "2025-01-13T00:00:00",
          "2025-01-19T00:00:00"
         ],
         "y": [
          101339.7811764696,
          101339.7811764696
         ]
        },
        {
         "line": {
          "color": "deepskyblue",
          "dash": "dash",
          "width": 1
         },
         "mode": "lines",
         "name": "Volume Level",
         "showlegend": true,
         "type": "scatter",
         "x": [
          "2025-01-13T00:00:00",
          "2025-01-19T00:00:00"
         ],
         "y": [
          94508.2,
          94508.2
         ]
        },
        {
         "line": {
          "color": "deepskyblue",
          "dash": "dash",
          "width": 1
         },
         "mode": "lines",
         "name": "Volume Level",
         "showlegend": true,
         "type": "scatter",
         "x": [
          "2025-01-20T00:00:00",
          "2025-01-26T00:00:00"
         ],
         "y": [
          103869.31803921644,
          103869.31803921644
         ]
        },
        {
         "line": {
          "color": "deepskyblue",
          "dash": "dash",
          "width": 1
         },
         "mode": "lines",
         "name": "Volume Level",
         "showlegend": true,
         "type": "scatter",
         "x": [
          "2025-01-20T00:00:00",
          "2025-01-26T00:00:00"
         ],
         "y": [
          102258.7,
          102258.7
         ]
        },
        {
         "line": {
          "color": "deepskyblue",
          "dash": "dash",
          "width": 1
         },
         "mode": "lines",
         "name": "Volume Level",
         "showlegend": true,
         "type": "scatter",
         "x": [
          "2025-01-27T00:00:00",
          "2025-02-02T00:00:00"
         ],
         "y": [
          104684.59999999905,
          104684.59999999905
         ]
        },
        {
         "line": {
          "color": "deepskyblue",
          "dash": "dash",
          "width": 1
         },
         "mode": "lines",
         "name": "Volume Level",
         "showlegend": true,
         "type": "scatter",
         "x": [
          "2025-01-27T00:00:00",
          "2025-02-02T00:00:00"
         ],
         "y": [
          101261.76235294068,
          101261.76235294068
         ]
        },
        {
         "line": {
          "color": "deepskyblue",
          "dash": "dash",
          "width": 1
         },
         "mode": "lines",
         "name": "Volume Level",
         "showlegend": true,
         "type": "scatter",
         "x": [
          "2025-02-03T00:00:00",
          "2025-02-09T00:00:00"
         ],
         "y": [
          101313.96862745211,
          101313.96862745211
         ]
        },
        {
         "line": {
          "color": "deepskyblue",
          "dash": "dash",
          "width": 1
         },
         "mode": "lines",
         "name": "Volume Level",
         "showlegend": true,
         "type": "scatter",
         "x": [
          "2025-02-03T00:00:00",
          "2025-02-09T00:00:00"
         ],
         "y": [
          96483.47450980394,
          96483.47450980394
         ]
        },
        {
         "line": {
          "color": "deepskyblue",
          "dash": "dash",
          "width": 1
         },
         "mode": "lines",
         "name": "Volume Level",
         "showlegend": true,
         "type": "scatter",
         "x": [
          "2025-02-10T00:00:00",
          "2025-02-16T00:00:00"
         ],
         "y": [
          97828.09999999823,
          97828.09999999823
         ]
        },
        {
         "line": {
          "color": "deepskyblue",
          "dash": "dash",
          "width": 1
         },
         "mode": "lines",
         "name": "Volume Level",
         "showlegend": true,
         "type": "scatter",
         "x": [
          "2025-02-10T00:00:00",
          "2025-02-16T00:00:00"
         ],
         "y": [
          96058.48627450955,
          96058.48627450955
         ]
        },
        {
         "line": {
          "color": "deepskyblue",
          "dash": "dash",
          "width": 1
         },
         "mode": "lines",
         "name": "Volume Level",
         "showlegend": true,
         "type": "scatter",
         "x": [
          "2025-02-17T00:00:00",
          "2025-02-23T00:00:00"
         ],
         "y": [
          98246.69999999819,
          98246.69999999819
         ]
        },
        {
         "line": {
          "color": "deepskyblue",
          "dash": "dash",
          "width": 1
         },
         "mode": "lines",
         "name": "Volume Level",
         "showlegend": true,
         "type": "scatter",
         "x": [
          "2025-02-17T00:00:00",
          "2025-02-23T00:00:00"
         ],
         "y": [
          95732.16039215679,
          95732.16039215679
         ]
        },
        {
         "line": {
          "color": "deepskyblue",
          "dash": "dash",
          "width": 1
         },
         "mode": "lines",
         "name": "Volume Level",
         "showlegend": true,
         "type": "scatter",
         "x": [
          "2025-02-24T00:00:00",
          "2025-03-02T00:00:00"
         ],
         "y": [
          91500.57450980377,
          91500.57450980377
         ]
        },
        {
         "line": {
          "color": "deepskyblue",
          "dash": "dash",
          "width": 1
         },
         "mode": "lines",
         "name": "Volume Level",
         "showlegend": true,
         "type": "scatter",
         "x": [
          "2025-02-24T00:00:00",
          "2025-03-02T00:00:00"
         ],
         "y": [
          84287.43215686275,
          84287.43215686275
         ]
        },
        {
         "line": {
          "color": "deepskyblue",
          "dash": "dash",
          "width": 1
         },
         "mode": "lines",
         "name": "Volume Level",
         "showlegend": true,
         "type": "scatter",
         "x": [
          "2025-03-03T00:00:00",
          "2025-03-09T00:00:00"
         ],
         "y": [
          89909.43333333459,
          89909.43333333459
         ]
        },
        {
         "line": {
          "color": "deepskyblue",
          "dash": "dash",
          "width": 1
         },
         "mode": "lines",
         "name": "Volume Level",
         "showlegend": true,
         "type": "scatter",
         "x": [
          "2025-03-03T00:00:00",
          "2025-03-09T00:00:00"
         ],
         "y": [
          86152.87058823604,
          86152.87058823604
         ]
        },
        {
         "line": {
          "color": "deepskyblue",
          "dash": "dash",
          "width": 1
         },
         "mode": "lines",
         "name": "Volume Level",
         "showlegend": true,
         "type": "scatter",
         "x": [
          "2025-03-10T00:00:00",
          "2025-03-16T00:00:00"
         ],
         "y": [
          83655.02431372456,
          83655.02431372456
         ]
        },
        {
         "line": {
          "color": "deepskyblue",
          "dash": "dash",
          "width": 1
         },
         "mode": "lines",
         "name": "Volume Level",
         "showlegend": true,
         "type": "scatter",
         "x": [
          "2025-03-10T00:00:00",
          "2025-03-16T00:00:00"
         ],
         "y": [
          78563.2,
          78563.2
         ]
        },
        {
         "line": {
          "color": "deepskyblue",
          "dash": "dash",
          "width": 1
         },
         "mode": "lines",
         "name": "Volume Level",
         "showlegend": true,
         "type": "scatter",
         "x": [
          "2025-03-17T00:00:00",
          "2025-03-23T00:00:00"
         ],
         "y": [
          86808.44352941289,
          86808.44352941289
         ]
        },
        {
         "line": {
          "color": "deepskyblue",
          "dash": "dash",
          "width": 1
         },
         "mode": "lines",
         "name": "Volume Level",
         "showlegend": true,
         "type": "scatter",
         "x": [
          "2025-03-17T00:00:00",
          "2025-03-23T00:00:00"
         ],
         "y": [
          83951.03882352976,
          83951.03882352976
         ]
        },
        {
         "line": {
          "color": "deepskyblue",
          "dash": "dash",
          "width": 1
         },
         "mode": "lines",
         "name": "Volume Level",
         "showlegend": true,
         "type": "scatter",
         "x": [
          "2025-03-24T00:00:00",
          "2025-03-30T00:00:00"
         ],
         "y": [
          87459.90000000091,
          87459.90000000091
         ]
        },
        {
         "line": {
          "color": "deepskyblue",
          "dash": "dash",
          "width": 1
         },
         "mode": "lines",
         "name": "Volume Level",
         "showlegend": true,
         "type": "scatter",
         "x": [
          "2025-03-24T00:00:00",
          "2025-03-30T00:00:00"
         ],
         "y": [
          84372.65294117683,
          84372.65294117683
         ]
        },
        {
         "line": {
          "color": "deepskyblue",
          "dash": "dash",
          "width": 1
         },
         "mode": "lines",
         "name": "Volume Level",
         "showlegend": true,
         "type": "scatter",
         "x": [
          "2025-03-31T00:00:00",
          "2025-04-06T00:00:00"
         ],
         "y": [
          83885.5713725478,
          83885.5713725478
         ]
        },
        {
         "line": {
          "color": "deepskyblue",
          "dash": "dash",
          "width": 1
         },
         "mode": "lines",
         "name": "Volume Level",
         "showlegend": true,
         "type": "scatter",
         "x": [
          "2025-03-31T00:00:00",
          "2025-04-06T00:00:00"
         ],
         "y": [
          82455.22784313635,
          82455.22784313635
         ]
        },
        {
         "line": {
          "color": "deepskyblue",
          "dash": "dash",
          "width": 1
         },
         "mode": "lines",
         "name": "Volume Level",
         "showlegend": true,
         "type": "scatter",
         "x": [
          "2025-04-07T00:00:00",
          "2025-04-13T00:00:00"
         ],
         "y": [
          83412.99607843236,
          83412.99607843236
         ]
        },
        {
         "line": {
          "color": "deepskyblue",
          "dash": "dash",
          "width": 1
         },
         "mode": "lines",
         "name": "Volume Level",
         "showlegend": true,
         "type": "scatter",
         "x": [
          "2025-04-07T00:00:00",
          "2025-04-13T00:00:00"
         ],
         "y": [
          79130.31764705922,
          79130.31764705922
         ]
        },
        {
         "line": {
          "color": "deepskyblue",
          "dash": "dash",
          "width": 1
         },
         "mode": "lines",
         "name": "Volume Level",
         "showlegend": true,
         "type": "scatter",
         "x": [
          "2025-04-14T00:00:00",
          "2025-04-20T00:00:00"
         ],
         "y": [
          85151.54627451002,
          85151.54627451002
         ]
        },
        {
         "line": {
          "color": "deepskyblue",
          "dash": "dash",
          "width": 1
         },
         "mode": "lines",
         "name": "Volume Level",
         "showlegend": true,
         "type": "scatter",
         "x": [
          "2025-04-14T00:00:00",
          "2025-04-20T00:00:00"
         ],
         "y": [
          83984.6152941177,
          83984.6152941177
         ]
        },
        {
         "line": {
          "color": "deepskyblue",
          "dash": "dash",
          "width": 1
         },
         "mode": "lines",
         "name": "Volume Level",
         "showlegend": true,
         "type": "scatter",
         "x": [
          "2025-04-21T00:00:00",
          "2025-04-27T00:00:00"
         ],
         "y": [
          93953.54392156706,
          93953.54392156706
         ]
        },
        {
         "line": {
          "color": "deepskyblue",
          "dash": "dash",
          "width": 1
         },
         "mode": "lines",
         "name": "Volume Level",
         "showlegend": true,
         "type": "scatter",
         "x": [
          "2025-04-21T00:00:00",
          "2025-04-27T00:00:00"
         ],
         "y": [
          93394.71254901818,
          93394.71254901818
         ]
        },
        {
         "line": {
          "color": "deepskyblue",
          "dash": "dash",
          "width": 1
         },
         "mode": "lines",
         "name": "Volume Level",
         "showlegend": true,
         "type": "scatter",
         "x": [
          "2025-04-28T00:00:00",
          "2025-05-04T00:00:00"
         ],
         "y": [
          96833.49999999857,
          96833.49999999857
         ]
        },
        {
         "line": {
          "color": "deepskyblue",
          "dash": "dash",
          "width": 1
         },
         "mode": "lines",
         "name": "Volume Level",
         "showlegend": true,
         "type": "scatter",
         "x": [
          "2025-04-28T00:00:00",
          "2025-05-04T00:00:00"
         ],
         "y": [
          94192.54313725486,
          94192.54313725486
         ]
        },
        {
         "line": {
          "color": "deepskyblue",
          "dash": "dash",
          "width": 1
         },
         "mode": "lines",
         "name": "Volume Level",
         "showlegend": true,
         "type": "scatter",
         "x": [
          "2025-05-05T00:00:00",
          "2025-05-11T00:00:00"
         ],
         "y": [
          104782.29999999964,
          104782.29999999964
         ]
        },
        {
         "line": {
          "color": "deepskyblue",
          "dash": "dash",
          "width": 1
         },
         "mode": "lines",
         "name": "Volume Level",
         "showlegend": true,
         "type": "scatter",
         "x": [
          "2025-05-05T00:00:00",
          "2025-05-11T00:00:00"
         ],
         "y": [
          96952.6811764705,
          96952.6811764705
         ]
        },
        {
         "line": {
          "color": "deepskyblue",
          "dash": "dash",
          "width": 1
         },
         "mode": "lines",
         "name": "Volume Level",
         "showlegend": true,
         "type": "scatter",
         "x": [
          "2025-05-12T00:00:00",
          "2025-05-18T00:00:00"
         ],
         "y": [
          103713.45372548977,
          103713.45372548977
         ]
        },
        {
         "line": {
          "color": "deepskyblue",
          "dash": "dash",
          "width": 1
         },
         "mode": "lines",
         "name": "Volume Level",
         "showlegend": true,
         "type": "scatter",
         "x": [
          "2025-05-12T00:00:00",
          "2025-05-18T00:00:00"
         ],
         "y": [
          102746,
          102746
         ]
        },
        {
         "line": {
          "color": "deepskyblue",
          "dash": "dash",
          "width": 1
         },
         "mode": "lines",
         "name": "Volume Level",
         "showlegend": true,
         "type": "scatter",
         "x": [
          "2025-05-19T00:00:00",
          "2025-05-25T00:00:00"
         ],
         "y": [
          111646.49999999897,
          111646.49999999897
         ]
        },
        {
         "line": {
          "color": "deepskyblue",
          "dash": "dash",
          "width": 1
         },
         "mode": "lines",
         "name": "Volume Level",
         "showlegend": true,
         "type": "scatter",
         "x": [
          "2025-05-19T00:00:00",
          "2025-05-25T00:00:00"
         ],
         "y": [
          106807.60980392135,
          106807.60980392135
         ]
        },
        {
         "line": {
          "color": "deepskyblue",
          "dash": "dash",
          "width": 1
         },
         "mode": "lines",
         "name": "Volume Level",
         "showlegend": true,
         "type": "scatter",
         "x": [
          "2025-05-26T00:00:00",
          "2025-06-01T00:00:00"
         ],
         "y": [
          109382.30000000008,
          109382.30000000008
         ]
        },
        {
         "line": {
          "color": "deepskyblue",
          "dash": "dash",
          "width": 1
         },
         "mode": "lines",
         "name": "Volume Level",
         "showlegend": true,
         "type": "scatter",
         "x": [
          "2025-05-26T00:00:00",
          "2025-06-01T00:00:00"
         ],
         "y": [
          105545.3129411765,
          105545.3129411765
         ]
        },
        {
         "line": {
          "color": "deepskyblue",
          "dash": "dash",
          "width": 1
         },
         "mode": "lines",
         "name": "Volume Level",
         "showlegend": true,
         "type": "scatter",
         "x": [
          "2025-06-02T00:00:00",
          "2025-06-08T00:00:00"
         ],
         "y": [
          105329.99215686168,
          105329.99215686168
         ]
        },
        {
         "line": {
          "color": "deepskyblue",
          "dash": "dash",
          "width": 1
         },
         "mode": "lines",
         "name": "Volume Level",
         "showlegend": true,
         "type": "scatter",
         "x": [
          "2025-06-02T00:00:00",
          "2025-06-08T00:00:00"
         ],
         "y": [
          101455.2,
          101455.2
         ]
        },
        {
         "line": {
          "color": "deepskyblue",
          "dash": "dash",
          "width": 1
         },
         "mode": "lines",
         "name": "Volume Level",
         "showlegend": true,
         "type": "scatter",
         "x": [
          "2025-06-09T00:00:00",
          "2025-06-15T00:00:00"
         ],
         "y": [
          110246.60117647126,
          110246.60117647126
         ]
        },
        {
         "line": {
          "color": "deepskyblue",
          "dash": "dash",
          "width": 1
         },
         "mode": "lines",
         "name": "Volume Level",
         "showlegend": true,
         "type": "scatter",
         "x": [
          "2025-06-09T00:00:00",
          "2025-06-15T00:00:00"
         ],
         "y": [
          105585.91411764709,
          105585.91411764709
         ]
        },
        {
         "line": {
          "color": "deepskyblue",
          "dash": "dash",
          "width": 1
         },
         "mode": "lines",
         "name": "Volume Level",
         "showlegend": true,
         "type": "scatter",
         "x": [
          "2025-06-16T00:00:00",
          "2025-06-22T00:00:00"
         ],
         "y": [
          104617.59411764766,
          104617.59411764766
         ]
        },
        {
         "line": {
          "color": "deepskyblue",
          "dash": "dash",
          "width": 1
         },
         "mode": "lines",
         "name": "Volume Level",
         "showlegend": true,
         "type": "scatter",
         "x": [
          "2025-06-16T00:00:00",
          "2025-06-22T00:00:00"
         ],
         "y": [
          100904.3,
          100904.3
         ]
        },
        {
         "line": {
          "color": "deepskyblue",
          "dash": "dash",
          "width": 1
         },
         "mode": "lines",
         "name": "Volume Level",
         "showlegend": true,
         "type": "scatter",
         "x": [
          "2025-06-23T00:00:00",
          "2025-06-29T00:00:00"
         ],
         "y": [
          107007.18039215602,
          107007.18039215602
         ]
        },
        {
         "line": {
          "color": "deepskyblue",
          "dash": "dash",
          "width": 1
         },
         "mode": "lines",
         "name": "Volume Level",
         "showlegend": true,
         "type": "scatter",
         "x": [
          "2025-06-23T00:00:00",
          "2025-06-29T00:00:00"
         ],
         "y": [
          105283.5,
          105283.5
         ]
        },
        {
         "line": {
          "color": "deepskyblue",
          "dash": "dash",
          "width": 1
         },
         "mode": "lines",
         "name": "Volume Level",
         "showlegend": true,
         "type": "scatter",
         "x": [
          "2025-06-30T00:00:00",
          "2025-07-06T00:00:00"
         ],
         "y": [
          109555.31450980455,
          109555.31450980455
         ]
        },
        {
         "line": {
          "color": "deepskyblue",
          "dash": "dash",
          "width": 1
         },
         "mode": "lines",
         "name": "Volume Level",
         "showlegend": true,
         "type": "scatter",
         "x": [
          "2025-06-30T00:00:00",
          "2025-07-06T00:00:00"
         ],
         "y": [
          107074.36392156886,
          107074.36392156886
         ]
        },
        {
         "line": {
          "color": "deepskyblue",
          "dash": "dash",
          "width": 1
         },
         "mode": "lines",
         "name": "Volume Level",
         "showlegend": true,
         "type": "scatter",
         "x": [
          "2025-07-07T00:00:00",
          "2025-07-13T00:00:00"
         ],
         "y": [
          119092.74980392307,
          119092.74980392307
         ]
        },
        {
         "line": {
          "color": "deepskyblue",
          "dash": "dash",
          "width": 1
         },
         "mode": "lines",
         "name": "Volume Level",
         "showlegend": true,
         "type": "scatter",
         "x": [
          "2025-07-07T00:00:00",
          "2025-07-13T00:00:00"
         ],
         "y": [
          111178.48627451021,
          111178.48627451021
         ]
        },
        {
         "line": {
          "color": "deepskyblue",
          "dash": "dash",
          "width": 1
         },
         "mode": "lines",
         "name": "Volume Level",
         "showlegend": true,
         "type": "scatter",
         "x": [
          "2025-07-14T00:00:00",
          "2025-07-20T00:00:00"
         ],
         "y": [
          119221.30823529446,
          119221.30823529446
         ]
        },
        {
         "line": {
          "color": "deepskyblue",
          "dash": "dash",
          "width": 1
         },
         "mode": "lines",
         "name": "Volume Level",
         "showlegend": true,
         "type": "scatter",
         "x": [
          "2025-07-14T00:00:00",
          "2025-07-20T00:00:00"
         ],
         "y": [
          117740.61176470596,
          117740.61176470596
         ]
        },
        {
         "line": {
          "color": "deepskyblue",
          "dash": "dash",
          "width": 1
         },
         "mode": "lines",
         "name": "Volume Level",
         "showlegend": true,
         "type": "scatter",
         "x": [
          "2025-07-21T00:00:00",
          "2025-07-27T00:00:00"
         ],
         "y": [
          120043.60000000107,
          120043.60000000107
         ]
        },
        {
         "line": {
          "color": "deepskyblue",
          "dash": "dash",
          "width": 1
         },
         "mode": "lines",
         "name": "Volume Level",
         "showlegend": true,
         "type": "scatter",
         "x": [
          "2025-07-21T00:00:00",
          "2025-07-27T00:00:00"
         ],
         "y": [
          117611.28470588244,
          117611.28470588244
         ]
        },
        {
         "line": {
          "color": "deepskyblue",
          "dash": "dash",
          "width": 1
         },
         "mode": "lines",
         "name": "Volume Level",
         "showlegend": true,
         "type": "scatter",
         "x": [
          "2025-07-28T00:00:00",
          "2025-08-03T00:00:00"
         ],
         "y": [
          117938.29058823569,
          117938.29058823569
         ]
        },
        {
         "line": {
          "color": "deepskyblue",
          "dash": "dash",
          "width": 1
         },
         "mode": "lines",
         "name": "Volume Level",
         "showlegend": true,
         "type": "scatter",
         "x": [
          "2025-07-28T00:00:00",
          "2025-08-03T00:00:00"
         ],
         "y": [
          113236.35176470593,
          113236.35176470593
         ]
        },
        {
         "line": {
          "color": "deepskyblue",
          "dash": "dash",
          "width": 1
         },
         "mode": "lines",
         "name": "Volume Level",
         "showlegend": true,
         "type": "scatter",
         "x": [
          "2025-08-04T00:00:00",
          "2025-08-10T00:00:00"
         ],
         "y": [
          119292.161568629,
          119292.161568629
         ]
        },
        {
         "line": {
          "color": "deepskyblue",
          "dash": "dash",
          "width": 1
         },
         "mode": "lines",
         "name": "Volume Level",
         "showlegend": true,
         "type": "scatter",
         "x": [
          "2025-08-04T00:00:00",
          "2025-08-10T00:00:00"
         ],
         "y": [
          114995.87058823557,
          114995.87058823557
         ]
        },
        {
         "line": {
          "color": "deepskyblue",
          "dash": "dash",
          "width": 1
         },
         "mode": "lines",
         "name": "Volume Level",
         "showlegend": true,
         "type": "scatter",
         "x": [
          "2025-08-11T00:00:00",
          "2025-08-17T00:00:00"
         ],
         "y": [
          120112.15999999916,
          120112.15999999916
         ]
        },
        {
         "line": {
          "color": "deepskyblue",
          "dash": "dash",
          "width": 1
         },
         "mode": "lines",
         "name": "Volume Level",
         "showlegend": true,
         "type": "scatter",
         "x": [
          "2025-08-11T00:00:00",
          "2025-08-17T00:00:00"
         ],
         "y": [
          118232.51764705854,
          118232.51764705854
         ]
        },
        {
         "line": {
          "color": "deepskyblue",
          "dash": "dash",
          "width": 1
         },
         "mode": "lines",
         "name": "Volume Level",
         "showlegend": true,
         "type": "scatter",
         "x": [
          "2025-08-18T00:00:00",
          "2025-08-24T00:00:00"
         ],
         "y": [
          116917.20039215758,
          116917.20039215758
         ]
        },
        {
         "line": {
          "color": "deepskyblue",
          "dash": "dash",
          "width": 1
         },
         "mode": "lines",
         "name": "Volume Level",
         "showlegend": true,
         "type": "scatter",
         "x": [
          "2025-08-18T00:00:00",
          "2025-08-24T00:00:00"
         ],
         "y": [
          113471.9227450982,
          113471.9227450982
         ]
        },
        {
         "line": {
          "color": "deepskyblue",
          "dash": "dash",
          "width": 1
         },
         "mode": "lines",
         "name": "Volume Level",
         "showlegend": true,
         "type": "scatter",
         "x": [
          "2025-08-25T00:00:00",
          "2025-08-31T00:00:00"
         ],
         "y": [
          112511.39999999956,
          112511.39999999956
         ]
        },
        {
         "line": {
          "color": "deepskyblue",
          "dash": "dash",
          "width": 1
         },
         "mode": "lines",
         "name": "Volume Level",
         "showlegend": true,
         "type": "scatter",
         "x": [
          "2025-08-25T00:00:00",
          "2025-08-31T00:00:00"
         ],
         "y": [
          108352.16705882351,
          108352.16705882351
         ]
        },
        {
         "line": {
          "color": "deepskyblue",
          "dash": "dash",
          "width": 1
         },
         "mode": "lines",
         "name": "Volume Level",
         "showlegend": true,
         "type": "scatter",
         "x": [
          "2025-09-01T00:00:00",
          "2025-09-07T00:00:00"
         ],
         "y": [
          111661.80000000008,
          111661.80000000008
         ]
        },
        {
         "line": {
          "color": "deepskyblue",
          "dash": "dash",
          "width": 1
         },
         "mode": "lines",
         "name": "Volume Level",
         "showlegend": true,
         "type": "scatter",
         "x": [
          "2025-09-01T00:00:00",
          "2025-09-07T00:00:00"
         ],
         "y": [
          110615.68235294122,
          110615.68235294122
         ]
        },
        {
         "line": {
          "color": "deepskyblue",
          "dash": "dash",
          "width": 1
         },
         "mode": "lines",
         "name": "Volume Level",
         "showlegend": true,
         "type": "scatter",
         "x": [
          "2025-09-08T00:00:00",
          "2025-09-14T00:00:00"
         ],
         "y": [
          115989.53725490347,
          115989.53725490347
         ]
        },
        {
         "line": {
          "color": "deepskyblue",
          "dash": "dash",
          "width": 1
         },
         "mode": "lines",
         "name": "Volume Level",
         "showlegend": true,
         "type": "scatter",
         "x": [
          "2025-09-08T00:00:00",
          "2025-09-14T00:00:00"
         ],
         "y": [
          112008.58039215703,
          112008.58039215703
         ]
        },
        {
         "line": {
          "color": "deepskyblue",
          "dash": "dash",
          "width": 1
         },
         "mode": "lines",
         "name": "Volume Level",
         "showlegend": true,
         "type": "scatter",
         "x": [
          "2025-09-15T00:00:00",
          "2025-09-21T00:00:00"
         ],
         "y": [
          117023.4999999982,
          117023.4999999982
         ]
        },
        {
         "line": {
          "color": "deepskyblue",
          "dash": "dash",
          "width": 1
         },
         "mode": "lines",
         "name": "Volume Level",
         "showlegend": true,
         "type": "scatter",
         "x": [
          "2025-09-15T00:00:00",
          "2025-09-21T00:00:00"
         ],
         "y": [
          115572.4411764702,
          115572.4411764702
         ]
        },
        {
         "line": {
          "color": "deepskyblue",
          "dash": "dash",
          "width": 1
         },
         "mode": "lines",
         "name": "Volume Level",
         "showlegend": true,
         "type": "scatter",
         "x": [
          "2025-09-22T00:00:00",
          "2025-09-28T00:00:00"
         ],
         "y": [
          112136.29529411731,
          112136.29529411731
         ]
        },
        {
         "line": {
          "color": "deepskyblue",
          "dash": "dash",
          "width": 1
         },
         "mode": "lines",
         "name": "Volume Level",
         "showlegend": true,
         "type": "scatter",
         "x": [
          "2025-09-22T00:00:00",
          "2025-09-28T00:00:00"
         ],
         "y": [
          108931.3,
          108931.3
         ]
        },
        {
         "line": {
          "color": "deepskyblue",
          "dash": "dash",
          "width": 1
         },
         "mode": "lines",
         "name": "Volume Level",
         "showlegend": true,
         "type": "scatter",
         "x": [
          "2025-09-29T00:00:00",
          "2025-09-30T00:00:00"
         ],
         "y": [
          114014.73176470588,
          114014.73176470588
         ]
        },
        {
         "line": {
          "color": "deepskyblue",
          "dash": "dash",
          "width": 1
         },
         "mode": "lines",
         "name": "Volume Level",
         "showlegend": true,
         "type": "scatter",
         "x": [
          "2025-09-29T00:00:00",
          "2025-09-30T00:00:00"
         ],
         "y": [
          114013.8,
          114013.8
         ]
        },
        {
         "line": {
          "color": "white",
          "dash": "dash",
          "width": 1
         },
         "mode": "lines",
         "name": "POC",
         "showlegend": true,
         "type": "scatter",
         "x": [
          "2024-08-12T00:00:00",
          "2024-08-18T00:00:00"
         ],
         "y": [
          59311.80764705877,
          59311.80764705877
         ]
        },
        {
         "line": {
          "color": "white",
          "dash": "dash",
          "width": 1
         },
         "mode": "lines",
         "name": "POC",
         "showlegend": true,
         "type": "scatter",
         "x": [
          "2024-08-19T00:00:00",
          "2024-08-25T00:00:00"
         ],
         "y": [
          64007.4699999998,
          64007.4699999998
         ]
        },
        {
         "line": {
          "color": "white",
          "dash": "dash",
          "width": 1
         },
         "mode": "lines",
         "name": "POC",
         "showlegend": true,
         "type": "scatter",
         "x": [
          "2024-08-26T00:00:00",
          "2024-09-02T00:00:00"
         ],
         "y": [
          59364.84254901949,
          59364.84254901949
         ]
        },
        {
         "line": {
          "color": "white",
          "dash": "dash",
          "width": 1
         },
         "mode": "lines",
         "name": "POC",
         "showlegend": true,
         "type": "scatter",
         "x": [
          "2024-08-05T00:00:00",
          "2024-09-06T00:00:00"
         ],
         "y": [
          54003.262745098036,
          54003.262745098036
         ]
        },
        {
         "line": {
          "color": "white",
          "dash": "dash",
          "width": 1
         },
         "mode": "lines",
         "name": "POC",
         "showlegend": true,
         "type": "scatter",
         "x": [
          "2024-09-02T00:00:00",
          "2024-09-08T00:00:00"
         ],
         "y": [
          53944.162156862745,
          53944.162156862745
         ]
        },
        {
         "line": {
          "color": "white",
          "dash": "dash",
          "width": 1
         },
         "mode": "lines",
         "name": "POC",
         "showlegend": true,
         "type": "scatter",
         "x": [
          "2024-09-23T00:00:00",
          "2024-09-30T00:00:00"
         ],
         "y": [
          65141.85470588217,
          65141.85470588217
         ]
        },
        {
         "line": {
          "color": "white",
          "dash": "dash",
          "width": 1
         },
         "mode": "lines",
         "name": "POC",
         "showlegend": true,
         "type": "scatter",
         "x": [
          "2024-09-16T00:00:00",
          "2024-10-01T00:00:00"
         ],
         "y": [
          61751.08058823475,
          61751.08058823475
         ]
        },
        {
         "line": {
          "color": "white",
          "dash": "dash",
          "width": 1
         },
         "mode": "lines",
         "name": "POC",
         "showlegend": true,
         "type": "scatter",
         "x": [
          "2024-09-30T00:00:00",
          "2024-10-09T00:00:00"
         ],
         "y": [
          60789.57235294116,
          60789.57235294116
         ]
        },
        {
         "line": {
          "color": "white",
          "dash": "dash",
          "width": 1
         },
         "mode": "lines",
         "name": "POC",
         "showlegend": true,
         "type": "scatter",
         "x": [
          "2024-10-07T00:00:00",
          "2024-10-13T00:00:00"
         ],
         "y": [
          62188.61274509822,
          62188.61274509822
         ]
        },
        {
         "line": {
          "color": "white",
          "dash": "dash",
          "width": 1
         },
         "mode": "lines",
         "name": "POC",
         "showlegend": true,
         "type": "scatter",
         "x": [
          "2024-10-14T00:00:00",
          "2024-10-21T00:00:00"
         ],
         "y": [
          67058.9413725491,
          67058.9413725491
         ]
        },
        {
         "line": {
          "color": "white",
          "dash": "dash",
          "width": 1
         },
         "mode": "lines",
         "name": "POC",
         "showlegend": true,
         "type": "scatter",
         "x": [
          "2024-10-28T00:00:00",
          "2024-11-04T00:00:00"
         ],
         "y": [
          69491.28725490166,
          69491.28725490166
         ]
        },
        {
         "line": {
          "color": "white",
          "dash": "dash",
          "width": 1
         },
         "mode": "lines",
         "name": "POC",
         "showlegend": true,
         "type": "scatter",
         "x": [
          "2024-11-18T00:00:00",
          "2024-11-24T00:00:00"
         ],
         "y": [
          98369.70588235359,
          98369.70588235359
         ]
        },
        {
         "line": {
          "color": "white",
          "dash": "dash",
          "width": 1
         },
         "mode": "lines",
         "name": "POC",
         "showlegend": true,
         "type": "scatter",
         "x": [
          "2024-11-25T00:00:00",
          "2024-12-05T00:00:00"
         ],
         "y": [
          93007.1688235297,
          93007.1688235297
         ]
        },
        {
         "line": {
          "color": "white",
          "dash": "dash",
          "width": 1
         },
         "mode": "lines",
         "name": "POC",
         "showlegend": true,
         "type": "scatter",
         "x": [
          "2024-12-02T00:00:00",
          "2024-12-09T00:00:00"
         ],
         "y": [
          96977.81764705855,
          96977.81764705855
         ]
        },
        {
         "line": {
          "color": "white",
          "dash": "dash",
          "width": 1
         },
         "mode": "lines",
         "name": "POC",
         "showlegend": true,
         "type": "scatter",
         "x": [
          "2024-12-09T00:00:00",
          "2024-12-19T00:00:00"
         ],
         "y": [
          97317.85333333339,
          97317.85333333339
         ]
        },
        {
         "line": {
          "color": "white",
          "dash": "dash",
          "width": 1
         },
         "mode": "lines",
         "name": "POC",
         "showlegend": true,
         "type": "scatter",
         "x": [
          "2024-12-16T00:00:00",
          "2024-12-22T00:00:00"
         ],
         "y": [
          97399.00882352938,
          97399.00882352938
         ]
        },
        {
         "line": {
          "color": "white",
          "dash": "dash",
          "width": 1
         },
         "mode": "lines",
         "name": "POC",
         "showlegend": true,
         "type": "scatter",
         "x": [
          "2024-12-23T00:00:00",
          "2024-12-29T00:00:00"
         ],
         "y": [
          94829.05137254915,
          94829.05137254915
         ]
        },
        {
         "line": {
          "color": "white",
          "dash": "dash",
          "width": 1
         },
         "mode": "lines",
         "name": "POC",
         "showlegend": true,
         "type": "scatter",
         "x": [
          "2024-12-30T00:00:00",
          "2025-01-08T00:00:00"
         ],
         "y": [
          92750.28274509804,
          92750.28274509804
         ]
        },
        {
         "line": {
          "color": "white",
          "dash": "dash",
          "width": 1
         },
         "mode": "lines",
         "name": "POC",
         "showlegend": true,
         "type": "scatter",
         "x": [
          "2025-01-06T00:00:00",
          "2025-01-12T00:00:00"
         ],
         "y": [
          95031.62274509798,
          95031.62274509798
         ]
        },
        {
         "line": {
          "color": "white",
          "dash": "dash",
          "width": 1
         },
         "mode": "lines",
         "name": "POC",
         "showlegend": true,
         "type": "scatter",
         "x": [
          "2025-01-20T00:00:00",
          "2025-01-27T00:00:00"
         ],
         "y": [
          102266.29725490196,
          102266.29725490196
         ]
        },
        {
         "line": {
          "color": "white",
          "dash": "dash",
          "width": 1
         },
         "mode": "lines",
         "name": "POC",
         "showlegend": true,
         "type": "scatter",
         "x": [
          "2025-01-13T00:00:00",
          "2025-02-03T00:00:00"
         ],
         "y": [
          94527.83098039214,
          94527.83098039214
         ]
        },
        {
         "line": {
          "color": "white",
          "dash": "dash",
          "width": 1
         },
         "mode": "lines",
         "name": "POC",
         "showlegend": true,
         "type": "scatter",
         "x": [
          "2025-01-27T00:00:00",
          "2025-02-03T00:00:00"
         ],
         "y": [
          102020.8594117641,
          102020.8594117641
         ]
        },
        {
         "line": {
          "color": "white",
          "dash": "dash",
          "width": 1
         },
         "mode": "lines",
         "name": "POC",
         "showlegend": true,
         "type": "scatter",
         "x": [
          "2025-02-10T00:00:00",
          "2025-02-16T00:00:00"
         ],
         "y": [
          96568.16764705813,
          96568.16764705813
         ]
        },
        {
         "line": {
          "color": "white",
          "dash": "dash",
          "width": 1
         },
         "mode": "lines",
         "name": "POC",
         "showlegend": true,
         "type": "scatter",
         "x": [
          "2025-02-17T00:00:00",
          "2025-02-23T00:00:00"
         ],
         "y": [
          96201.06019607803,
          96201.06019607803
         ]
        },
        {
         "line": {
          "color": "white",
          "dash": "dash",
          "width": 1
         },
         "mode": "lines",
         "name": "POC",
         "showlegend": true,
         "type": "scatter",
         "x": [
          "2024-11-11T00:00:00",
          "2025-02-25T00:00:00"
         ],
         "y": [
          87964.14294117625,
          87964.14294117625
         ]
        },
        {
         "line": {
          "color": "white",
          "dash": "dash",
          "width": 1
         },
         "mode": "lines",
         "name": "POC",
         "showlegend": true,
         "type": "scatter",
         "x": [
          "2025-02-24T00:00:00",
          "2025-03-04T00:00:00"
         ],
         "y": [
          84307.14019607843,
          84307.14019607843
         ]
        },
        {
         "line": {
          "color": "white",
          "dash": "dash",
          "width": 1
         },
         "mode": "lines",
         "name": "POC",
         "showlegend": true,
         "type": "scatter",
         "x": [
          "2025-03-03T00:00:00",
          "2025-03-09T00:00:00"
         ],
         "y": [
          86172.23431372624,
          86172.23431372624
         ]
        },
        {
         "line": {
          "color": "white",
          "dash": "dash",
          "width": 1
         },
         "mode": "lines",
         "name": "POC",
         "showlegend": true,
         "type": "scatter",
         "x": [
          "2025-03-17T00:00:00",
          "2025-03-24T00:00:00"
         ],
         "y": [
          86784.22823529525,
          86784.22823529525
         ]
        },
        {
         "line": {
          "color": "white",
          "dash": "dash",
          "width": 1
         },
         "mode": "lines",
         "name": "POC",
         "showlegend": true,
         "type": "scatter",
         "x": [
          "2025-03-24T00:00:00",
          "2025-04-01T00:00:00"
         ],
         "y": [
          84382.6764705886,
          84382.6764705886
         ]
        },
        {
         "line": {
          "color": "white",
          "dash": "dash",
          "width": 1
         },
         "mode": "lines",
         "name": "POC",
         "showlegend": true,
         "type": "scatter",
         "x": [
          "2025-03-10T00:00:00",
          "2025-04-06T00:00:00"
         ],
         "y": [
          78574.46509803922,
          78574.46509803922
         ]
        },
        {
         "line": {
          "color": "white",
          "dash": "dash",
          "width": 1
         },
         "mode": "lines",
         "name": "POC",
         "showlegend": true,
         "type": "scatter",
         "x": [
          "2025-03-31T00:00:00",
          "2025-04-06T00:00:00"
         ],
         "y": [
          82468.47176470497,
          82468.47176470497
         ]
        },
        {
         "line": {
          "color": "white",
          "dash": "dash",
          "width": 1
         },
         "mode": "lines",
         "name": "POC",
         "showlegend": true,
         "type": "scatter",
         "x": [
          "2024-11-04T00:00:00",
          "2025-04-07T00:00:00"
         ],
         "y": [
          75614.75294117612,
          75614.75294117612
         ]
        },
        {
         "line": {
          "color": "white",
          "dash": "dash",
          "width": 1
         },
         "mode": "lines",
         "name": "POC",
         "showlegend": true,
         "type": "scatter",
         "x": [
          "2025-04-14T00:00:00",
          "2025-04-20T00:00:00"
         ],
         "y": [
          84549.94196078445,
          84549.94196078445
         ]
        },
        {
         "line": {
          "color": "white",
          "dash": "dash",
          "width": 1
         },
         "mode": "lines",
         "name": "POC",
         "showlegend": true,
         "type": "scatter",
         "x": [
          "2025-04-21T00:00:00",
          "2025-04-28T00:00:00"
         ],
         "y": [
          93408.6833333319,
          93408.6833333319
         ]
        },
        {
         "line": {
          "color": "white",
          "dash": "dash",
          "width": 1
         },
         "mode": "lines",
         "name": "POC",
         "showlegend": true,
         "type": "scatter",
         "x": [
          "2025-04-28T00:00:00",
          "2025-05-04T00:00:00"
         ],
         "y": [
          94964.59705882308,
          94964.59705882308
         ]
        },
        {
         "line": {
          "color": "white",
          "dash": "dash",
          "width": 1
         },
         "mode": "lines",
         "name": "POC",
         "showlegend": true,
         "type": "scatter",
         "x": [
          "2025-02-03T00:00:00",
          "2025-05-08T00:00:00"
         ],
         "y": [
          101285.21568627562,
          101285.21568627562
         ]
        },
        {
         "line": {
          "color": "white",
          "dash": "dash",
          "width": 1
         },
         "mode": "lines",
         "name": "POC",
         "showlegend": true,
         "type": "scatter",
         "x": [
          "2025-05-05T00:00:00",
          "2025-05-12T00:00:00"
         ],
         "y": [
          103220.330588235,
          103220.330588235
         ]
        },
        {
         "line": {
          "color": "white",
          "dash": "dash",
          "width": 1
         },
         "mode": "lines",
         "name": "POC",
         "showlegend": true,
         "type": "scatter",
         "x": [
          "2025-05-12T00:00:00",
          "2025-05-19T00:00:00"
         ],
         "y": [
          102753.21980392156,
          102753.21980392156
         ]
        },
        {
         "line": {
          "color": "white",
          "dash": "dash",
          "width": 1
         },
         "mode": "lines",
         "name": "POC",
         "showlegend": true,
         "type": "scatter",
         "x": [
          "2025-05-19T00:00:00",
          "2025-05-26T00:00:00"
         ],
         "y": [
          109598.35588235225,
          109598.35588235225
         ]
        },
        {
         "line": {
          "color": "white",
          "dash": "dash",
          "width": 1
         },
         "mode": "lines",
         "name": "POC",
         "showlegend": true,
         "type": "scatter",
         "x": [
          "2025-05-26T00:00:00",
          "2025-06-09T00:00:00"
         ],
         "y": [
          108862.92882352948,
          108862.92882352948
         ]
        },
        {
         "line": {
          "color": "white",
          "dash": "dash",
          "width": 1
         },
         "mode": "lines",
         "name": "POC",
         "showlegend": true,
         "type": "scatter",
         "x": [
          "2025-06-02T00:00:00",
          "2025-06-21T00:00:00"
         ],
         "y": [
          101463.7725490196,
          101463.7725490196
         ]
        },
        {
         "line": {
          "color": "white",
          "dash": "dash",
          "width": 1
         },
         "mode": "lines",
         "name": "POC",
         "showlegend": true,
         "type": "scatter",
         "x": [
          "2025-06-16T00:00:00",
          "2025-06-22T00:00:00"
         ],
         "y": [
          100915.76078431372,
          100915.76078431372
         ]
        },
        {
         "line": {
          "color": "white",
          "dash": "dash",
          "width": 1
         },
         "mode": "lines",
         "name": "POC",
         "showlegend": true,
         "type": "scatter",
         "x": [
          "2025-06-23T00:00:00",
          "2025-07-01T00:00:00"
         ],
         "y": [
          105289.44372549019,
          105289.44372549019
         ]
        },
        {
         "line": {
          "color": "white",
          "dash": "dash",
          "width": 1
         },
         "mode": "lines",
         "name": "POC",
         "showlegend": true,
         "type": "scatter",
         "x": [
          "2025-06-09T00:00:00",
          "2025-07-03T00:00:00"
         ],
         "y": [
          110217.94941176538,
          110217.94941176538
         ]
        },
        {
         "line": {
          "color": "white",
          "dash": "dash",
          "width": 1
         },
         "mode": "lines",
         "name": "POC",
         "showlegend": true,
         "type": "scatter",
         "x": [
          "2025-06-30T00:00:00",
          "2025-07-06T00:00:00"
         ],
         "y": [
          108797.24627451031,
          108797.24627451031
         ]
        },
        {
         "line": {
          "color": "white",
          "dash": "dash",
          "width": 1
         },
         "mode": "lines",
         "name": "POC",
         "showlegend": true,
         "type": "scatter",
         "x": [
          "2025-07-07T00:00:00",
          "2025-07-15T00:00:00"
         ],
         "y": [
          116007.88901960892,
          116007.88901960892
         ]
        },
        {
         "line": {
          "color": "white",
          "dash": "dash",
          "width": 1
         },
         "mode": "lines",
         "name": "POC",
         "showlegend": true,
         "type": "scatter",
         "x": [
          "2025-07-14T00:00:00",
          "2025-07-20T00:00:00"
         ],
         "y": [
          117745.61411764714,
          117745.61411764714
         ]
        },
        {
         "line": {
          "color": "white",
          "dash": "dash",
          "width": 1
         },
         "mode": "lines",
         "name": "POC",
         "showlegend": true,
         "type": "scatter",
         "x": [
          "2025-07-21T00:00:00",
          "2025-07-28T00:00:00"
         ],
         "y": [
          117616.48196078441,
          117616.48196078441
         ]
        },
        {
         "line": {
          "color": "white",
          "dash": "dash",
          "width": 1
         },
         "mode": "lines",
         "name": "POC",
         "showlegend": true,
         "type": "scatter",
         "x": [
          "2025-07-28T00:00:00",
          "2025-08-03T00:00:00"
         ],
         "y": [
          113247.235882353,
          113247.235882353
         ]
        },
        {
         "line": {
          "color": "white",
          "dash": "dash",
          "width": 1
         },
         "mode": "lines",
         "name": "POC",
         "showlegend": true,
         "type": "scatter",
         "x": [
          "2025-08-04T00:00:00",
          "2025-08-10T00:00:00"
         ],
         "y": [
          117408.71647058922,
          117408.71647058922
         ]
        },
        {
         "line": {
          "color": "white",
          "dash": "dash",
          "width": 1
         },
         "mode": "lines",
         "name": "POC",
         "showlegend": true,
         "type": "scatter",
         "x": [
          "2025-08-11T00:00:00",
          "2025-08-17T00:00:00"
         ],
         "y": [
          118244.41411764678,
          118244.41411764678
         ]
        },
        {
         "line": {
          "color": "white",
          "dash": "dash",
          "width": 1
         },
         "mode": "lines",
         "name": "POC",
         "showlegend": true,
         "type": "scatter",
         "x": [
          "2025-08-25T00:00:00",
          "2025-09-02T00:00:00"
         ],
         "y": [
          110068.27333333314,
          110068.27333333314
         ]
        },
        {
         "line": {
          "color": "white",
          "dash": "dash",
          "width": 1
         },
         "mode": "lines",
         "name": "POC",
         "showlegend": true,
         "type": "scatter",
         "x": [
          "2025-09-01T00:00:00",
          "2025-09-07T00:00:00"
         ],
         "y": [
          110620.52549019613,
          110620.52549019613
         ]
        },
        {
         "line": {
          "color": "white",
          "dash": "dash",
          "width": 1
         },
         "mode": "lines",
         "name": "POC",
         "showlegend": true,
         "type": "scatter",
         "x": [
          "2025-08-18T00:00:00",
          "2025-09-16T00:00:00"
         ],
         "y": [
          116891.09980392229,
          116891.09980392229
         ]
        },
        {
         "line": {
          "color": "white",
          "dash": "dash",
          "width": 1
         },
         "mode": "lines",
         "name": "POC",
         "showlegend": true,
         "type": "scatter",
         "x": [
          "2025-09-08T00:00:00",
          "2025-09-22T00:00:00"
         ],
         "y": [
          113893.83529411844,
          113893.83529411844
         ]
        },
        {
         "line": {
          "color": "white",
          "dash": "dash",
          "width": 1
         },
         "mode": "lines",
         "name": "POC",
         "showlegend": true,
         "type": "scatter",
         "x": [
          "2025-09-29T00:00:00",
          "2025-09-30T00:00:00"
         ],
         "y": [
          114014.26588235295,
          114014.26588235295
         ]
        },
        {
         "line": {
          "color": "white",
          "dash": "dash",
          "width": 1
         },
         "mode": "lines",
         "name": "nPOC",
         "showlegend": true,
         "type": "scatter",
         "x": [
          "2024-09-09T00:00:00",
          "2025-09-30T00:00:00"
         ],
         "y": [
          57305.53411764713,
          57305.53411764713
         ]
        },
        {
         "line": {
          "color": "white",
          "dash": "dash",
          "width": 1
         },
         "mode": "lines",
         "name": "nPOC",
         "showlegend": true,
         "type": "scatter",
         "x": [
          "2024-10-21T00:00:00",
          "2025-09-30T00:00:00"
         ],
         "y": [
          66667.99470588236,
          66667.99470588236
         ]
        },
        {
         "line": {
          "color": "white",
          "dash": "dash",
          "width": 1
         },
         "mode": "lines",
         "name": "nPOC",
         "showlegend": true,
         "type": "scatter",
         "x": [
          "2025-04-07T00:00:00",
          "2025-09-30T00:00:00"
         ],
         "y": [
          79147.86960784353,
          79147.86960784353
         ]
        },
        {
         "line": {
          "color": "white",
          "dash": "dash",
          "width": 1
         },
         "mode": "lines",
         "name": "nPOC",
         "showlegend": true,
         "type": "scatter",
         "x": [
          "2025-09-15T00:00:00",
          "2025-09-30T00:00:00"
         ],
         "y": [
          116403.17235293998,
          116403.17235293998
         ]
        },
        {
         "line": {
          "color": "white",
          "dash": "dash",
          "width": 1
         },
         "mode": "lines",
         "name": "nPOC",
         "showlegend": true,
         "type": "scatter",
         "x": [
          "2025-09-22T00:00:00",
          "2025-09-30T00:00:00"
         ],
         "y": [
          108939.77882352941,
          108939.77882352941
         ]
        }
       ],
       "layout": {
        "height": 800,
        "showlegend": false,
        "template": {
         "data": {
          "bar": [
           {
            "error_x": {
             "color": "#f2f5fa"
            },
            "error_y": {
             "color": "#f2f5fa"
            },
            "marker": {
             "line": {
              "color": "rgb(17,17,17)",
              "width": 0.5
             },
             "pattern": {
              "fillmode": "overlay",
              "size": 10,
              "solidity": 0.2
             }
            },
            "type": "bar"
           }
          ],
          "barpolar": [
           {
            "marker": {
             "line": {
              "color": "rgb(17,17,17)",
              "width": 0.5
             },
             "pattern": {
              "fillmode": "overlay",
              "size": 10,
              "solidity": 0.2
             }
            },
            "type": "barpolar"
           }
          ],
          "carpet": [
           {
            "aaxis": {
             "endlinecolor": "#A2B1C6",
             "gridcolor": "#506784",
             "linecolor": "#506784",
             "minorgridcolor": "#506784",
             "startlinecolor": "#A2B1C6"
            },
            "baxis": {
             "endlinecolor": "#A2B1C6",
             "gridcolor": "#506784",
             "linecolor": "#506784",
             "minorgridcolor": "#506784",
             "startlinecolor": "#A2B1C6"
            },
            "type": "carpet"
           }
          ],
          "choropleth": [
           {
            "colorbar": {
             "outlinewidth": 0,
             "ticks": ""
            },
            "type": "choropleth"
           }
          ],
          "contour": [
           {
            "colorbar": {
             "outlinewidth": 0,
             "ticks": ""
            },
            "colorscale": [
             [
              0,
              "#0d0887"
             ],
             [
              0.1111111111111111,
              "#46039f"
             ],
             [
              0.2222222222222222,
              "#7201a8"
             ],
             [
              0.3333333333333333,
              "#9c179e"
             ],
             [
              0.4444444444444444,
              "#bd3786"
             ],
             [
              0.5555555555555556,
              "#d8576b"
             ],
             [
              0.6666666666666666,
              "#ed7953"
             ],
             [
              0.7777777777777778,
              "#fb9f3a"
             ],
             [
              0.8888888888888888,
              "#fdca26"
             ],
             [
              1,
              "#f0f921"
             ]
            ],
            "type": "contour"
           }
          ],
          "contourcarpet": [
           {
            "colorbar": {
             "outlinewidth": 0,
             "ticks": ""
            },
            "type": "contourcarpet"
           }
          ],
          "heatmap": [
           {
            "colorbar": {
             "outlinewidth": 0,
             "ticks": ""
            },
            "colorscale": [
             [
              0,
              "#0d0887"
             ],
             [
              0.1111111111111111,
              "#46039f"
             ],
             [
              0.2222222222222222,
              "#7201a8"
             ],
             [
              0.3333333333333333,
              "#9c179e"
             ],
             [
              0.4444444444444444,
              "#bd3786"
             ],
             [
              0.5555555555555556,
              "#d8576b"
             ],
             [
              0.6666666666666666,
              "#ed7953"
             ],
             [
              0.7777777777777778,
              "#fb9f3a"
             ],
             [
              0.8888888888888888,
              "#fdca26"
             ],
             [
              1,
              "#f0f921"
             ]
            ],
            "type": "heatmap"
           }
          ],
          "histogram": [
           {
            "marker": {
             "pattern": {
              "fillmode": "overlay",
              "size": 10,
              "solidity": 0.2
             }
            },
            "type": "histogram"
           }
          ],
          "histogram2d": [
           {
            "colorbar": {
             "outlinewidth": 0,
             "ticks": ""
            },
            "colorscale": [
             [
              0,
              "#0d0887"
             ],
             [
              0.1111111111111111,
              "#46039f"
             ],
             [
              0.2222222222222222,
              "#7201a8"
             ],
             [
              0.3333333333333333,
              "#9c179e"
             ],
             [
              0.4444444444444444,
              "#bd3786"
             ],
             [
              0.5555555555555556,
              "#d8576b"
             ],
             [
              0.6666666666666666,
              "#ed7953"
             ],
             [
              0.7777777777777778,
              "#fb9f3a"
             ],
             [
              0.8888888888888888,
              "#fdca26"
             ],
             [
              1,
              "#f0f921"
             ]
            ],
            "type": "histogram2d"
           }
          ],
          "histogram2dcontour": [
           {
            "colorbar": {
             "outlinewidth": 0,
             "ticks": ""
            },
            "colorscale": [
             [
              0,
              "#0d0887"
             ],
             [
              0.1111111111111111,
              "#46039f"
             ],
             [
              0.2222222222222222,
              "#7201a8"
             ],
             [
              0.3333333333333333,
              "#9c179e"
             ],
             [
              0.4444444444444444,
              "#bd3786"
             ],
             [
              0.5555555555555556,
              "#d8576b"
             ],
             [
              0.6666666666666666,
              "#ed7953"
             ],
             [
              0.7777777777777778,
              "#fb9f3a"
             ],
             [
              0.8888888888888888,
              "#fdca26"
             ],
             [
              1,
              "#f0f921"
             ]
            ],
            "type": "histogram2dcontour"
           }
          ],
          "mesh3d": [
           {
            "colorbar": {
             "outlinewidth": 0,
             "ticks": ""
            },
            "type": "mesh3d"
           }
          ],
          "parcoords": [
           {
            "line": {
             "colorbar": {
              "outlinewidth": 0,
              "ticks": ""
             }
            },
            "type": "parcoords"
           }
          ],
          "pie": [
           {
            "automargin": true,
            "type": "pie"
           }
          ],
          "scatter": [
           {
            "marker": {
             "line": {
              "color": "#283442"
             }
            },
            "type": "scatter"
           }
          ],
          "scatter3d": [
           {
            "line": {
             "colorbar": {
              "outlinewidth": 0,
              "ticks": ""
             }
            },
            "marker": {
             "colorbar": {
              "outlinewidth": 0,
              "ticks": ""
             }
            },
            "type": "scatter3d"
           }
          ],
          "scattercarpet": [
           {
            "marker": {
             "colorbar": {
              "outlinewidth": 0,
              "ticks": ""
             }
            },
            "type": "scattercarpet"
           }
          ],
          "scattergeo": [
           {
            "marker": {
             "colorbar": {
              "outlinewidth": 0,
              "ticks": ""
             }
            },
            "type": "scattergeo"
           }
          ],
          "scattergl": [
           {
            "marker": {
             "line": {
              "color": "#283442"
             }
            },
            "type": "scattergl"
           }
          ],
          "scattermap": [
           {
            "marker": {
             "colorbar": {
              "outlinewidth": 0,
              "ticks": ""
             }
            },
            "type": "scattermap"
           }
          ],
          "scattermapbox": [
           {
            "marker": {
             "colorbar": {
              "outlinewidth": 0,
              "ticks": ""
             }
            },
            "type": "scattermapbox"
           }
          ],
          "scatterpolar": [
           {
            "marker": {
             "colorbar": {
              "outlinewidth": 0,
              "ticks": ""
             }
            },
            "type": "scatterpolar"
           }
          ],
          "scatterpolargl": [
           {
            "marker": {
             "colorbar": {
              "outlinewidth": 0,
              "ticks": ""
             }
            },
            "type": "scatterpolargl"
           }
          ],
          "scatterternary": [
           {
            "marker": {
             "colorbar": {
              "outlinewidth": 0,
              "ticks": ""
             }
            },
            "type": "scatterternary"
           }
          ],
          "surface": [
           {
            "colorbar": {
             "outlinewidth": 0,
             "ticks": ""
            },
            "colorscale": [
             [
              0,
              "#0d0887"
             ],
             [
              0.1111111111111111,
              "#46039f"
             ],
             [
              0.2222222222222222,
              "#7201a8"
             ],
             [
              0.3333333333333333,
              "#9c179e"
             ],
             [
              0.4444444444444444,
              "#bd3786"
             ],
             [
              0.5555555555555556,
              "#d8576b"
             ],
             [
              0.6666666666666666,
              "#ed7953"
             ],
             [
              0.7777777777777778,
              "#fb9f3a"
             ],
             [
              0.8888888888888888,
              "#fdca26"
             ],
             [
              1,
              "#f0f921"
             ]
            ],
            "type": "surface"
           }
          ],
          "table": [
           {
            "cells": {
             "fill": {
              "color": "#506784"
             },
             "line": {
              "color": "rgb(17,17,17)"
             }
            },
            "header": {
             "fill": {
              "color": "#2a3f5f"
             },
             "line": {
              "color": "rgb(17,17,17)"
             }
            },
            "type": "table"
           }
          ]
         },
         "layout": {
          "annotationdefaults": {
           "arrowcolor": "#f2f5fa",
           "arrowhead": 0,
           "arrowwidth": 1
          },
          "autotypenumbers": "strict",
          "coloraxis": {
           "colorbar": {
            "outlinewidth": 0,
            "ticks": ""
           }
          },
          "colorscale": {
           "diverging": [
            [
             0,
             "#8e0152"
            ],
            [
             0.1,
             "#c51b7d"
            ],
            [
             0.2,
             "#de77ae"
            ],
            [
             0.3,
             "#f1b6da"
            ],
            [
             0.4,
             "#fde0ef"
            ],
            [
             0.5,
             "#f7f7f7"
            ],
            [
             0.6,
             "#e6f5d0"
            ],
            [
             0.7,
             "#b8e186"
            ],
            [
             0.8,
             "#7fbc41"
            ],
            [
             0.9,
             "#4d9221"
            ],
            [
             1,
             "#276419"
            ]
           ],
           "sequential": [
            [
             0,
             "#0d0887"
            ],
            [
             0.1111111111111111,
             "#46039f"
            ],
            [
             0.2222222222222222,
             "#7201a8"
            ],
            [
             0.3333333333333333,
             "#9c179e"
            ],
            [
             0.4444444444444444,
             "#bd3786"
            ],
            [
             0.5555555555555556,
             "#d8576b"
            ],
            [
             0.6666666666666666,
             "#ed7953"
            ],
            [
             0.7777777777777778,
             "#fb9f3a"
            ],
            [
             0.8888888888888888,
             "#fdca26"
            ],
            [
             1,
             "#f0f921"
            ]
           ],
           "sequentialminus": [
            [
             0,
             "#0d0887"
            ],
            [
             0.1111111111111111,
             "#46039f"
            ],
            [
             0.2222222222222222,
             "#7201a8"
            ],
            [
             0.3333333333333333,
             "#9c179e"
            ],
            [
             0.4444444444444444,
             "#bd3786"
            ],
            [
             0.5555555555555556,
             "#d8576b"
            ],
            [
             0.6666666666666666,
             "#ed7953"
            ],
            [
             0.7777777777777778,
             "#fb9f3a"
            ],
            [
             0.8888888888888888,
             "#fdca26"
            ],
            [
             1,
             "#f0f921"
            ]
           ]
          },
          "colorway": [
           "#636efa",
           "#EF553B",
           "#00cc96",
           "#ab63fa",
           "#FFA15A",
           "#19d3f3",
           "#FF6692",
           "#B6E880",
           "#FF97FF",
           "#FECB52"
          ],
          "font": {
           "color": "#f2f5fa"
          },
          "geo": {
           "bgcolor": "rgb(17,17,17)",
           "lakecolor": "rgb(17,17,17)",
           "landcolor": "rgb(17,17,17)",
           "showlakes": true,
           "showland": true,
           "subunitcolor": "#506784"
          },
          "hoverlabel": {
           "align": "left"
          },
          "hovermode": "closest",
          "mapbox": {
           "style": "dark"
          },
          "paper_bgcolor": "rgb(17,17,17)",
          "plot_bgcolor": "rgb(17,17,17)",
          "polar": {
           "angularaxis": {
            "gridcolor": "#506784",
            "linecolor": "#506784",
            "ticks": ""
           },
           "bgcolor": "rgb(17,17,17)",
           "radialaxis": {
            "gridcolor": "#506784",
            "linecolor": "#506784",
            "ticks": ""
           }
          },
          "scene": {
           "xaxis": {
            "backgroundcolor": "rgb(17,17,17)",
            "gridcolor": "#506784",
            "gridwidth": 2,
            "linecolor": "#506784",
            "showbackground": true,
            "ticks": "",
            "zerolinecolor": "#C8D4E3"
           },
           "yaxis": {
            "backgroundcolor": "rgb(17,17,17)",
            "gridcolor": "#506784",
            "gridwidth": 2,
            "linecolor": "#506784",
            "showbackground": true,
            "ticks": "",
            "zerolinecolor": "#C8D4E3"
           },
           "zaxis": {
            "backgroundcolor": "rgb(17,17,17)",
            "gridcolor": "#506784",
            "gridwidth": 2,
            "linecolor": "#506784",
            "showbackground": true,
            "ticks": "",
            "zerolinecolor": "#C8D4E3"
           }
          },
          "shapedefaults": {
           "line": {
            "color": "#f2f5fa"
           }
          },
          "sliderdefaults": {
           "bgcolor": "#C8D4E3",
           "bordercolor": "rgb(17,17,17)",
           "borderwidth": 1,
           "tickwidth": 0
          },
          "ternary": {
           "aaxis": {
            "gridcolor": "#506784",
            "linecolor": "#506784",
            "ticks": ""
           },
           "baxis": {
            "gridcolor": "#506784",
            "linecolor": "#506784",
            "ticks": ""
           },
           "bgcolor": "rgb(17,17,17)",
           "caxis": {
            "gridcolor": "#506784",
            "linecolor": "#506784",
            "ticks": ""
           }
          },
          "title": {
           "x": 0.05
          },
          "updatemenudefaults": {
           "bgcolor": "#506784",
           "borderwidth": 0
          },
          "xaxis": {
           "automargin": true,
           "gridcolor": "#283442",
           "linecolor": "#506784",
           "ticks": "",
           "title": {
            "standoff": 15
           },
           "zerolinecolor": "#283442",
           "zerolinewidth": 2
          },
          "yaxis": {
           "automargin": true,
           "gridcolor": "#283442",
           "linecolor": "#506784",
           "ticks": "",
           "title": {
            "standoff": 15
           },
           "zerolinecolor": "#283442",
           "zerolinewidth": 2
          }
         }
        },
        "title": {
         "text": "BTCUSDT - D - TA Chart Visualizer"
        },
        "xaxis": {
         "fixedrange": false,
         "rangeslider": {
          "visible": false
         },
         "title": {
          "text": "Time"
         }
        },
        "yaxis": {
         "fixedrange": false,
         "title": {
          "text": "Price"
         },
         "type": "log"
        }
       }
      }
     },
     "metadata": {},
     "output_type": "display_data"
    }
   ],
   "source": [
    "# Option 1: Visualize multiple files in sequence\n",
    "# Define the list of files you want to visualize\n",
    "file_paths = [\n",
    "    #'./data/BTCUSDT-1h.json',\n",
    "    './data/BTCUSDT-M.json', \n",
    "    './data/BTCUSDT-W.json',\n",
    "    './data/BTCUSDT-D.json'\n",
    "]\n",
    "\n",
    "# Visualize each file\n",
    "for file_path in file_paths:\n",
    "    try:\n",
    "        print(f\"\\n{'='*50}\")\n",
    "        print(f\"Visualizing: {file_path}\")\n",
    "        print('='*50)\n",
    "        visualize_chart(file_path, useLogScale=True)\n",
    "    except Exception as e:\n",
    "        print(f\"Error processing {file_path}: {e}\")"
   ]
  },
  {
   "cell_type": "code",
   "execution_count": null,
   "id": "656396e1",
   "metadata": {},
   "outputs": [],
   "source": []
  }
 ],
 "metadata": {
  "kernelspec": {
   "display_name": "venv",
   "language": "python",
   "name": "python3"
  },
  "language_info": {
   "codemirror_mode": {
    "name": "ipython",
    "version": 3
   },
   "file_extension": ".py",
   "mimetype": "text/x-python",
   "name": "python",
   "nbconvert_exporter": "python",
   "pygments_lexer": "ipython3",
   "version": "3.10.11"
  }
 },
 "nbformat": 4,
 "nbformat_minor": 5
}
