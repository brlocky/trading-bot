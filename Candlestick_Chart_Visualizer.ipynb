{
 "cells": [
  {
   "cell_type": "markdown",
   "id": "387ed11b",
   "metadata": {},
   "source": [
    "# Candlestick Chart Visualizer with Plotly\n",
    "\n",
    "This notebook demonstrates how to visualize candlestick charts and add interactive lines and dots using Plotly. You can load OHLCV data, plot candlesticks, and annotate the chart with lines and markers."
   ]
  },
  {
   "cell_type": "code",
   "execution_count": 1,
   "id": "3bfaa208",
   "metadata": {},
   "outputs": [
    {
     "name": "stdout",
     "output_type": "stream",
     "text": [
      "✅ Chart data loader and visualizer functions created!\n"
     ]
    }
   ],
   "source": [
    "# Multi-File Chart Visualizer Function\n",
    "import pandas as pd\n",
    "import json\n",
    "import plotly.graph_objects as go\n",
    "from src.ta.technical_analysis import TechnicalAnalysisProcessor\n",
    "from src.ta.middlewares.zigzag import zigzag_middleware\n",
    "from src.ta.middlewares.volume_profile import volume_profile_middleware\n",
    "from src.ta.middlewares.channels import channels_middleware\n",
    "from src.ta.middlewares.levels import levels_middleware\n",
    "\n",
    "def load_chart_data(file_path):\n",
    "    \"\"\"\n",
    "    Load chart data from a JSON file and return processed DataFrame with metadata\n",
    "    \"\"\"\n",
    "    with open(file_path, 'r', encoding='utf-8') as f:\n",
    "        data = json.load(f)\n",
    "    \n",
    "    symbol = data['symbolName']\n",
    "    time_frame = data['interval']\n",
    "    df = pd.DataFrame(data['candles'])\n",
    "    df['time'] = pd.to_datetime(df['time'], unit='s')\n",
    "    df.set_index('time', inplace=True)\n",
    "    \n",
    "    return {\n",
    "        'symbol': symbol,\n",
    "        'time_frame': time_frame,\n",
    "        'df': df,\n",
    "        'file_path': file_path\n",
    "    }\n",
    "\n",
    "def visualize_chart(chart_data, middlewares=[], useLogScale=True):\n",
    "    \"\"\"\n",
    "    Visualize a chart from loaded data\n",
    "    \n",
    "    Args:\n",
    "        chart_data: Dictionary with keys: 'symbol', 'time_frame', 'df', 'file_path'\n",
    "        middlewares: List of middleware functions to register (default: all middlewares)\n",
    "        useLogScale: Whether to use logarithmic scale\n",
    "    \"\"\"\n",
    "    symbol = chart_data['symbol']\n",
    "    time_frame = chart_data['time_frame']\n",
    "    df = chart_data['df'].copy()\n",
    "    \n",
    "    # Default middlewares if none provided\n",
    "    \n",
    "    print(f\"Processing {len(df)} candles for {symbol} at {time_frame} interval\")\n",
    "    print(f\"   Middlewares: {[m.__name__ for m in middlewares]}\")\n",
    "    \n",
    "    # Run TA processor\n",
    "    processor = TechnicalAnalysisProcessor(df, time_frame, useLogScale)\n",
    "    \n",
    "    # Register middlewares\n",
    "    for middleware in middlewares:\n",
    "        processor.register_middleware(middleware)\n",
    "    \n",
    "    analysis = processor.run()\n",
    "    df = processor.df\n",
    "    \n",
    "    # Create figure\n",
    "    fig = go.Figure(data=[\n",
    "        go.Candlestick(\n",
    "            x=df.index,\n",
    "            open=df['open'],\n",
    "            high=df['high'],\n",
    "            low=df['low'],\n",
    "            close=df['close'],\n",
    "            name='Candlestick',\n",
    "            showlegend=False\n",
    "        )\n",
    "    ])\n",
    "    \n",
    "    # Draw zigzag lines if present\n",
    "    if 'zigzag' in analysis:\n",
    "        for line in analysis['zigzag'].get('lines', []):\n",
    "            if isinstance(line, tuple) and len(line) == 3:\n",
    "                (t1, p1, _), (t2, p2, _), line_type = line\n",
    "                fig.add_trace(go.Scatter(x=[t1, t2], y=[p1, p2], mode='lines', line=dict(color='blue', width=2), name='ZigZag', showlegend=False))\n",
    "        for pivot in analysis['zigzag'].get('pivots', []):\n",
    "            if len(pivot) == 3:\n",
    "                t, p, typ = pivot\n",
    "                fig.add_trace(go.Scatter(x=[t], y=[p], mode='markers', marker=dict(color='red', size=10), name=f'Pivot {typ}', showlegend=False))\n",
    "    \n",
    "    # Draw channel lines if present\n",
    "    if 'channels' in analysis:\n",
    "        for line in analysis['channels'].get('lines', []):\n",
    "            if isinstance(line, tuple) and len(line) == 3:\n",
    "                (t1, p1, _), (t2, p2, _), line_type = line\n",
    "                fig.add_trace(go.Scatter(x=[t1, t2], y=[p1, p2], mode='lines', line=dict(color='orange', width=2, dash='dash'), name=line_type, showlegend=True))\n",
    "    \n",
    "    # Draw channel lines if present\n",
    "    if 'levels' in analysis:\n",
    "        for line in analysis['levels'].get('lines', []):\n",
    "            if isinstance(line, tuple) and len(line) == 3:\n",
    "                (t1, p1, _), (t2, p2, _), line_type = line\n",
    "                fig.add_trace(go.Scatter(x=[t1, t2], y=[p1, p2], mode='lines', line=dict(color='orange', width=2, dash='dash'), name=line_type, showlegend=True))\n",
    "\n",
    "    # Draw volume profile as boxes if present\n",
    "    if 'volume_profile' in analysis and 'vp' in analysis['volume_profile']:\n",
    "        for vp_item in analysis['volume_profile']['vp']:\n",
    "            if isinstance(vp_item, tuple) and len(vp_item) == 3:\n",
    "                bin_tuple, bin_vol, norm_vol = vp_item\n",
    "                if isinstance(bin_tuple, tuple) and len(bin_tuple) == 2:\n",
    "                    bin_start, bin_end = bin_tuple\n",
    "                    x0 = df.index[0]\n",
    "                    bar_length = int(norm_vol * len(df.index))\n",
    "                    x1 = df.index[min(bar_length, len(df.index)-1)]\n",
    "                    fig.add_shape(\n",
    "                        type='rect',\n",
    "                        x0=x0,\n",
    "                        x1=x1,\n",
    "                        y0=bin_start,\n",
    "                        y1=bin_end,\n",
    "                        line=dict(color='gold', width=1, dash='dot'),\n",
    "                        fillcolor='rgba(255,215,0,0.2)'\n",
    "                    )\n",
    "    \n",
    "    # Draw volume profile POC, VAH, VAL levels if present\n",
    "    if 'volume_profile_periods' in analysis and 'lines' in analysis['volume_profile_periods']:\n",
    "        for line in analysis['volume_profile_periods']['lines']:\n",
    "            if isinstance(line, tuple) and len(line) == 3:\n",
    "                (t1, p1, _), (t2, p2, _), line_type = line\n",
    "        \n",
    "                if 'naked_poc_line' in line_type:\n",
    "                    color = 'white'\n",
    "                    name = 'nPOC'\n",
    "                elif 'poc_line' in line_type:\n",
    "                    color = 'white'\n",
    "                    name = 'POC'\n",
    "                elif 'VAH' in line_type:\n",
    "                    color = 'green'\n",
    "                    name = 'VAH'\n",
    "                elif 'VAL' in line_type:\n",
    "                    color = 'red' \n",
    "                    name = 'VAL'\n",
    "                else:\n",
    "                    color = 'deepskyblue'\n",
    "                    name = 'Volume Level'\n",
    "                \n",
    "                fig.add_trace(go.Scatter(x=[t1, t2], y=[p1, p2], mode='lines', line=dict(color=color, width=1, dash='dash'), name=name, showlegend=True))\n",
    "\n",
    "    \n",
    "    # Update layout\n",
    "    fig.update_layout(\n",
    "        title=f'{symbol} - {time_frame} - TA Chart Visualizer', \n",
    "        xaxis_title='Time', \n",
    "        yaxis_title='Price', \n",
    "        template='plotly_dark', \n",
    "        yaxis_type='log' if useLogScale else 'linear',\n",
    "        height=800,\n",
    "        xaxis=dict(fixedrange=False),\n",
    "        yaxis=dict(fixedrange=False),\n",
    "        showlegend=False,  # Remove legend\n",
    "        xaxis_rangeslider_visible=False  # Remove range slider at bottom\n",
    "    )\n",
    "    \n",
    "    fig.show()\n",
    "    return fig\n",
    "\n",
    "print(\"✅ Chart data loader and visualizer functions created!\")\n"
   ]
  },
  {
   "cell_type": "code",
   "execution_count": 2,
   "id": "f2f048f5",
   "metadata": {},
   "outputs": [
    {
     "name": "stdout",
     "output_type": "stream",
     "text": [
      "✅ Chart data splitter function created!\n"
     ]
    }
   ],
   "source": [
    "# Function to split chart data into segments\n",
    "def split_chart_data(chart_data, num_segments=10):\n",
    "    \"\"\"\n",
    "    Split chart data into multiple segments\n",
    "    \n",
    "    Args:\n",
    "        chart_data: Dictionary with keys: 'symbol', 'time_frame', 'df', 'file_path'\n",
    "        num_segments: Number of segments to split into (default: 10)\n",
    "    \n",
    "    Returns:\n",
    "        List of chart_data dictionaries, each with a portion of the candles\n",
    "    \"\"\"\n",
    "    df = chart_data['df']\n",
    "    total_candles = len(df)\n",
    "    segment_size = total_candles // num_segments\n",
    "    \n",
    "    segments = []\n",
    "    for i in range(num_segments):\n",
    "        start_idx = i * segment_size\n",
    "        \n",
    "        # Last segment gets any remaining candles\n",
    "        if i == num_segments - 1:\n",
    "            end_idx = total_candles\n",
    "        else:\n",
    "            end_idx = (i + 1) * segment_size\n",
    "        \n",
    "        segment_df = df.iloc[start_idx:end_idx].copy()\n",
    "        \n",
    "        segment_data = {\n",
    "            'symbol': chart_data['symbol'],\n",
    "            'time_frame': chart_data['time_frame'],\n",
    "            'df': segment_df,\n",
    "            'file_path': chart_data['file_path'],\n",
    "            'segment': i + 1,\n",
    "            'total_segments': num_segments,\n",
    "            'start_date': segment_df.index[0],\n",
    "            'end_date': segment_df.index[-1]\n",
    "        }\n",
    "        \n",
    "        segments.append(segment_data)\n",
    "    \n",
    "    return segments\n",
    "\n",
    "print(\"✅ Chart data splitter function created!\")\n"
   ]
  },
  {
   "cell_type": "code",
   "execution_count": 3,
   "id": "59209426",
   "metadata": {},
   "outputs": [
    {
     "name": "stdout",
     "output_type": "stream",
     "text": [
      "📂 Loading: ./data/BTCUSDT-M.json\n",
      "   ✅ Loaded BTCUSDT - M (68 candles)\n",
      "📂 Loading: ./data/BTCUSDT-W.json\n",
      "   ✅ Loaded BTCUSDT - W (288 candles)\n",
      "📂 Loading: ./data/BTCUSDT-D.json\n",
      "   ✅ Loaded BTCUSDT - D (2021 candles)\n",
      "\n",
      "✅ Total charts loaded: 3\n",
      "\n",
      "======================================================================\n",
      "🔪 Splitting BTCUSDT - M into 10 segments\n",
      "======================================================================\n",
      "✅ Created 10 segments:\n",
      "   Segment 1/10: 2020-03-01 to 2020-08-01 (6 candles)\n",
      "   Segment 2/10: 2020-09-01 to 2021-02-01 (6 candles)\n",
      "   Segment 3/10: 2021-03-01 to 2021-08-01 (6 candles)\n",
      "   Segment 4/10: 2021-09-01 to 2022-02-01 (6 candles)\n",
      "   Segment 5/10: 2022-03-01 to 2022-08-01 (6 candles)\n",
      "   Segment 6/10: 2022-09-01 to 2023-02-01 (6 candles)\n",
      "   Segment 7/10: 2023-03-01 to 2023-08-01 (6 candles)\n",
      "   Segment 8/10: 2023-09-01 to 2024-02-01 (6 candles)\n",
      "   Segment 9/10: 2024-03-01 to 2024-08-01 (6 candles)\n",
      "   Segment 10/10: 2024-09-01 to 2025-10-01 (14 candles)\n",
      "\n",
      "======================================================================\n",
      "📊 Visualizing Segment 1/10: BTCUSDT - M\n",
      "   Period: 2020-03-01 00:00 to 2020-08-01 00:00\n",
      "======================================================================\n",
      "Processing 6 candles for BTCUSDT at M interval\n",
      "   Middlewares: ['levels_middleware']\n"
     ]
    },
    {
     "data": {
      "application/vnd.plotly.v1+json": {
       "config": {
        "plotlyServerURL": "https://plot.ly"
       },
       "data": [
        {
         "close": {
          "bdata": "AAAAAAAFuUAAAAAAgNjAQAAAAADAdMJAAAAAAMDXwUAAAAAAgCXGQAAAAACAxsZA",
          "dtype": "f8"
         },
         "high": {
          "bdata": "AAAAAAC2ukAAAAAAAHnCQAAAAADApcNAAAAAAAA4xEAAAAAAwFnGQAAAAADAachA",
          "dtype": "f8"
         },
         "low": {
          "bdata": "AAAAAIDRtkAAAAAAAAG4QAAAAAAA2b9AAAAAAABEwUAAAAAAAGfBQAAAAADAkMRA",
          "dtype": "f8"
         },
         "name": "Candlestick",
         "open": {
          "bdata": "AAAAAABkuUAAAAAAAAW5QAAAAACA2MBAAAAAAMB0wkAAAAAAwNfBQAAAAACAJcZA",
          "dtype": "f8"
         },
         "showlegend": false,
         "type": "candlestick",
         "x": [
          "2020-03-01T00:00:00.000000000",
          "2020-04-01T00:00:00.000000000",
          "2020-05-01T00:00:00.000000000",
          "2020-06-01T00:00:00.000000000",
          "2020-07-01T00:00:00.000000000",
          "2020-08-01T00:00:00.000000000"
         ]
        },
        {
         "line": {
          "color": "orange",
          "dash": "dash",
          "width": 2
         },
         "mode": "lines",
         "name": "line_close_M",
         "showlegend": true,
         "type": "scatter",
         "x": [
          "2020-03-01T00:00:00",
          "2020-08-01T00:00:00"
         ],
         "y": [
          6405,
          6405
         ]
        },
        {
         "line": {
          "color": "orange",
          "dash": "dash",
          "width": 2
         },
         "mode": "lines",
         "name": "line_close_M",
         "showlegend": true,
         "type": "scatter",
         "x": [
          "2020-06-01T00:00:00",
          "2020-08-01T00:00:00"
         ],
         "y": [
          9135.5,
          9135.5
         ]
        },
        {
         "line": {
          "color": "orange",
          "dash": "dash",
          "width": 2
         },
         "mode": "lines",
         "name": "max_level_M",
         "showlegend": true,
         "type": "scatter",
         "x": [
          "2020-03-01T00:00:00",
          "2020-08-01T00:00:00"
         ],
         "y": [
          12499.5,
          12499.5
         ]
        },
        {
         "line": {
          "color": "orange",
          "dash": "dash",
          "width": 2
         },
         "mode": "lines",
         "name": "min_level_M",
         "showlegend": true,
         "type": "scatter",
         "x": [
          "2020-03-01T00:00:00",
          "2020-08-01T00:00:00"
         ],
         "y": [
          5841.5,
          5841.5
         ]
        }
       ],
       "layout": {
        "height": 800,
        "showlegend": false,
        "template": {
         "data": {
          "bar": [
           {
            "error_x": {
             "color": "#f2f5fa"
            },
            "error_y": {
             "color": "#f2f5fa"
            },
            "marker": {
             "line": {
              "color": "rgb(17,17,17)",
              "width": 0.5
             },
             "pattern": {
              "fillmode": "overlay",
              "size": 10,
              "solidity": 0.2
             }
            },
            "type": "bar"
           }
          ],
          "barpolar": [
           {
            "marker": {
             "line": {
              "color": "rgb(17,17,17)",
              "width": 0.5
             },
             "pattern": {
              "fillmode": "overlay",
              "size": 10,
              "solidity": 0.2
             }
            },
            "type": "barpolar"
           }
          ],
          "carpet": [
           {
            "aaxis": {
             "endlinecolor": "#A2B1C6",
             "gridcolor": "#506784",
             "linecolor": "#506784",
             "minorgridcolor": "#506784",
             "startlinecolor": "#A2B1C6"
            },
            "baxis": {
             "endlinecolor": "#A2B1C6",
             "gridcolor": "#506784",
             "linecolor": "#506784",
             "minorgridcolor": "#506784",
             "startlinecolor": "#A2B1C6"
            },
            "type": "carpet"
           }
          ],
          "choropleth": [
           {
            "colorbar": {
             "outlinewidth": 0,
             "ticks": ""
            },
            "type": "choropleth"
           }
          ],
          "contour": [
           {
            "colorbar": {
             "outlinewidth": 0,
             "ticks": ""
            },
            "colorscale": [
             [
              0,
              "#0d0887"
             ],
             [
              0.1111111111111111,
              "#46039f"
             ],
             [
              0.2222222222222222,
              "#7201a8"
             ],
             [
              0.3333333333333333,
              "#9c179e"
             ],
             [
              0.4444444444444444,
              "#bd3786"
             ],
             [
              0.5555555555555556,
              "#d8576b"
             ],
             [
              0.6666666666666666,
              "#ed7953"
             ],
             [
              0.7777777777777778,
              "#fb9f3a"
             ],
             [
              0.8888888888888888,
              "#fdca26"
             ],
             [
              1,
              "#f0f921"
             ]
            ],
            "type": "contour"
           }
          ],
          "contourcarpet": [
           {
            "colorbar": {
             "outlinewidth": 0,
             "ticks": ""
            },
            "type": "contourcarpet"
           }
          ],
          "heatmap": [
           {
            "colorbar": {
             "outlinewidth": 0,
             "ticks": ""
            },
            "colorscale": [
             [
              0,
              "#0d0887"
             ],
             [
              0.1111111111111111,
              "#46039f"
             ],
             [
              0.2222222222222222,
              "#7201a8"
             ],
             [
              0.3333333333333333,
              "#9c179e"
             ],
             [
              0.4444444444444444,
              "#bd3786"
             ],
             [
              0.5555555555555556,
              "#d8576b"
             ],
             [
              0.6666666666666666,
              "#ed7953"
             ],
             [
              0.7777777777777778,
              "#fb9f3a"
             ],
             [
              0.8888888888888888,
              "#fdca26"
             ],
             [
              1,
              "#f0f921"
             ]
            ],
            "type": "heatmap"
           }
          ],
          "histogram": [
           {
            "marker": {
             "pattern": {
              "fillmode": "overlay",
              "size": 10,
              "solidity": 0.2
             }
            },
            "type": "histogram"
           }
          ],
          "histogram2d": [
           {
            "colorbar": {
             "outlinewidth": 0,
             "ticks": ""
            },
            "colorscale": [
             [
              0,
              "#0d0887"
             ],
             [
              0.1111111111111111,
              "#46039f"
             ],
             [
              0.2222222222222222,
              "#7201a8"
             ],
             [
              0.3333333333333333,
              "#9c179e"
             ],
             [
              0.4444444444444444,
              "#bd3786"
             ],
             [
              0.5555555555555556,
              "#d8576b"
             ],
             [
              0.6666666666666666,
              "#ed7953"
             ],
             [
              0.7777777777777778,
              "#fb9f3a"
             ],
             [
              0.8888888888888888,
              "#fdca26"
             ],
             [
              1,
              "#f0f921"
             ]
            ],
            "type": "histogram2d"
           }
          ],
          "histogram2dcontour": [
           {
            "colorbar": {
             "outlinewidth": 0,
             "ticks": ""
            },
            "colorscale": [
             [
              0,
              "#0d0887"
             ],
             [
              0.1111111111111111,
              "#46039f"
             ],
             [
              0.2222222222222222,
              "#7201a8"
             ],
             [
              0.3333333333333333,
              "#9c179e"
             ],
             [
              0.4444444444444444,
              "#bd3786"
             ],
             [
              0.5555555555555556,
              "#d8576b"
             ],
             [
              0.6666666666666666,
              "#ed7953"
             ],
             [
              0.7777777777777778,
              "#fb9f3a"
             ],
             [
              0.8888888888888888,
              "#fdca26"
             ],
             [
              1,
              "#f0f921"
             ]
            ],
            "type": "histogram2dcontour"
           }
          ],
          "mesh3d": [
           {
            "colorbar": {
             "outlinewidth": 0,
             "ticks": ""
            },
            "type": "mesh3d"
           }
          ],
          "parcoords": [
           {
            "line": {
             "colorbar": {
              "outlinewidth": 0,
              "ticks": ""
             }
            },
            "type": "parcoords"
           }
          ],
          "pie": [
           {
            "automargin": true,
            "type": "pie"
           }
          ],
          "scatter": [
           {
            "marker": {
             "line": {
              "color": "#283442"
             }
            },
            "type": "scatter"
           }
          ],
          "scatter3d": [
           {
            "line": {
             "colorbar": {
              "outlinewidth": 0,
              "ticks": ""
             }
            },
            "marker": {
             "colorbar": {
              "outlinewidth": 0,
              "ticks": ""
             }
            },
            "type": "scatter3d"
           }
          ],
          "scattercarpet": [
           {
            "marker": {
             "colorbar": {
              "outlinewidth": 0,
              "ticks": ""
             }
            },
            "type": "scattercarpet"
           }
          ],
          "scattergeo": [
           {
            "marker": {
             "colorbar": {
              "outlinewidth": 0,
              "ticks": ""
             }
            },
            "type": "scattergeo"
           }
          ],
          "scattergl": [
           {
            "marker": {
             "line": {
              "color": "#283442"
             }
            },
            "type": "scattergl"
           }
          ],
          "scattermap": [
           {
            "marker": {
             "colorbar": {
              "outlinewidth": 0,
              "ticks": ""
             }
            },
            "type": "scattermap"
           }
          ],
          "scattermapbox": [
           {
            "marker": {
             "colorbar": {
              "outlinewidth": 0,
              "ticks": ""
             }
            },
            "type": "scattermapbox"
           }
          ],
          "scatterpolar": [
           {
            "marker": {
             "colorbar": {
              "outlinewidth": 0,
              "ticks": ""
             }
            },
            "type": "scatterpolar"
           }
          ],
          "scatterpolargl": [
           {
            "marker": {
             "colorbar": {
              "outlinewidth": 0,
              "ticks": ""
             }
            },
            "type": "scatterpolargl"
           }
          ],
          "scatterternary": [
           {
            "marker": {
             "colorbar": {
              "outlinewidth": 0,
              "ticks": ""
             }
            },
            "type": "scatterternary"
           }
          ],
          "surface": [
           {
            "colorbar": {
             "outlinewidth": 0,
             "ticks": ""
            },
            "colorscale": [
             [
              0,
              "#0d0887"
             ],
             [
              0.1111111111111111,
              "#46039f"
             ],
             [
              0.2222222222222222,
              "#7201a8"
             ],
             [
              0.3333333333333333,
              "#9c179e"
             ],
             [
              0.4444444444444444,
              "#bd3786"
             ],
             [
              0.5555555555555556,
              "#d8576b"
             ],
             [
              0.6666666666666666,
              "#ed7953"
             ],
             [
              0.7777777777777778,
              "#fb9f3a"
             ],
             [
              0.8888888888888888,
              "#fdca26"
             ],
             [
              1,
              "#f0f921"
             ]
            ],
            "type": "surface"
           }
          ],
          "table": [
           {
            "cells": {
             "fill": {
              "color": "#506784"
             },
             "line": {
              "color": "rgb(17,17,17)"
             }
            },
            "header": {
             "fill": {
              "color": "#2a3f5f"
             },
             "line": {
              "color": "rgb(17,17,17)"
             }
            },
            "type": "table"
           }
          ]
         },
         "layout": {
          "annotationdefaults": {
           "arrowcolor": "#f2f5fa",
           "arrowhead": 0,
           "arrowwidth": 1
          },
          "autotypenumbers": "strict",
          "coloraxis": {
           "colorbar": {
            "outlinewidth": 0,
            "ticks": ""
           }
          },
          "colorscale": {
           "diverging": [
            [
             0,
             "#8e0152"
            ],
            [
             0.1,
             "#c51b7d"
            ],
            [
             0.2,
             "#de77ae"
            ],
            [
             0.3,
             "#f1b6da"
            ],
            [
             0.4,
             "#fde0ef"
            ],
            [
             0.5,
             "#f7f7f7"
            ],
            [
             0.6,
             "#e6f5d0"
            ],
            [
             0.7,
             "#b8e186"
            ],
            [
             0.8,
             "#7fbc41"
            ],
            [
             0.9,
             "#4d9221"
            ],
            [
             1,
             "#276419"
            ]
           ],
           "sequential": [
            [
             0,
             "#0d0887"
            ],
            [
             0.1111111111111111,
             "#46039f"
            ],
            [
             0.2222222222222222,
             "#7201a8"
            ],
            [
             0.3333333333333333,
             "#9c179e"
            ],
            [
             0.4444444444444444,
             "#bd3786"
            ],
            [
             0.5555555555555556,
             "#d8576b"
            ],
            [
             0.6666666666666666,
             "#ed7953"
            ],
            [
             0.7777777777777778,
             "#fb9f3a"
            ],
            [
             0.8888888888888888,
             "#fdca26"
            ],
            [
             1,
             "#f0f921"
            ]
           ],
           "sequentialminus": [
            [
             0,
             "#0d0887"
            ],
            [
             0.1111111111111111,
             "#46039f"
            ],
            [
             0.2222222222222222,
             "#7201a8"
            ],
            [
             0.3333333333333333,
             "#9c179e"
            ],
            [
             0.4444444444444444,
             "#bd3786"
            ],
            [
             0.5555555555555556,
             "#d8576b"
            ],
            [
             0.6666666666666666,
             "#ed7953"
            ],
            [
             0.7777777777777778,
             "#fb9f3a"
            ],
            [
             0.8888888888888888,
             "#fdca26"
            ],
            [
             1,
             "#f0f921"
            ]
           ]
          },
          "colorway": [
           "#636efa",
           "#EF553B",
           "#00cc96",
           "#ab63fa",
           "#FFA15A",
           "#19d3f3",
           "#FF6692",
           "#B6E880",
           "#FF97FF",
           "#FECB52"
          ],
          "font": {
           "color": "#f2f5fa"
          },
          "geo": {
           "bgcolor": "rgb(17,17,17)",
           "lakecolor": "rgb(17,17,17)",
           "landcolor": "rgb(17,17,17)",
           "showlakes": true,
           "showland": true,
           "subunitcolor": "#506784"
          },
          "hoverlabel": {
           "align": "left"
          },
          "hovermode": "closest",
          "mapbox": {
           "style": "dark"
          },
          "paper_bgcolor": "rgb(17,17,17)",
          "plot_bgcolor": "rgb(17,17,17)",
          "polar": {
           "angularaxis": {
            "gridcolor": "#506784",
            "linecolor": "#506784",
            "ticks": ""
           },
           "bgcolor": "rgb(17,17,17)",
           "radialaxis": {
            "gridcolor": "#506784",
            "linecolor": "#506784",
            "ticks": ""
           }
          },
          "scene": {
           "xaxis": {
            "backgroundcolor": "rgb(17,17,17)",
            "gridcolor": "#506784",
            "gridwidth": 2,
            "linecolor": "#506784",
            "showbackground": true,
            "ticks": "",
            "zerolinecolor": "#C8D4E3"
           },
           "yaxis": {
            "backgroundcolor": "rgb(17,17,17)",
            "gridcolor": "#506784",
            "gridwidth": 2,
            "linecolor": "#506784",
            "showbackground": true,
            "ticks": "",
            "zerolinecolor": "#C8D4E3"
           },
           "zaxis": {
            "backgroundcolor": "rgb(17,17,17)",
            "gridcolor": "#506784",
            "gridwidth": 2,
            "linecolor": "#506784",
            "showbackground": true,
            "ticks": "",
            "zerolinecolor": "#C8D4E3"
           }
          },
          "shapedefaults": {
           "line": {
            "color": "#f2f5fa"
           }
          },
          "sliderdefaults": {
           "bgcolor": "#C8D4E3",
           "bordercolor": "rgb(17,17,17)",
           "borderwidth": 1,
           "tickwidth": 0
          },
          "ternary": {
           "aaxis": {
            "gridcolor": "#506784",
            "linecolor": "#506784",
            "ticks": ""
           },
           "baxis": {
            "gridcolor": "#506784",
            "linecolor": "#506784",
            "ticks": ""
           },
           "bgcolor": "rgb(17,17,17)",
           "caxis": {
            "gridcolor": "#506784",
            "linecolor": "#506784",
            "ticks": ""
           }
          },
          "title": {
           "x": 0.05
          },
          "updatemenudefaults": {
           "bgcolor": "#506784",
           "borderwidth": 0
          },
          "xaxis": {
           "automargin": true,
           "gridcolor": "#283442",
           "linecolor": "#506784",
           "ticks": "",
           "title": {
            "standoff": 15
           },
           "zerolinecolor": "#283442",
           "zerolinewidth": 2
          },
          "yaxis": {
           "automargin": true,
           "gridcolor": "#283442",
           "linecolor": "#506784",
           "ticks": "",
           "title": {
            "standoff": 15
           },
           "zerolinecolor": "#283442",
           "zerolinewidth": 2
          }
         }
        },
        "title": {
         "text": "BTCUSDT - M - TA Chart Visualizer"
        },
        "xaxis": {
         "fixedrange": false,
         "rangeslider": {
          "visible": false
         },
         "title": {
          "text": "Time"
         }
        },
        "yaxis": {
         "fixedrange": false,
         "title": {
          "text": "Price"
         },
         "type": "log"
        }
       }
      }
     },
     "metadata": {},
     "output_type": "display_data"
    },
    {
     "name": "stdout",
     "output_type": "stream",
     "text": [
      "\n",
      "======================================================================\n",
      "📊 Visualizing Segment 2/10: BTCUSDT - M\n",
      "   Period: 2020-09-01 00:00 to 2021-02-01 00:00\n",
      "======================================================================\n",
      "Processing 6 candles for BTCUSDT at M interval\n",
      "   Middlewares: ['levels_middleware']\n"
     ]
    },
    {
     "data": {
      "application/vnd.plotly.v1+json": {
       "config": {
        "plotlyServerURL": "https://plot.ly"
       },
       "data": [
        {
         "close": {
          "bdata": "AAAAAIADxUAAAAAAAOvKQAAAAAAAQNNAAAAAAGA+3EAAAAAAAC3gQAAAAACADOZA",
          "dtype": "f8"
         },
         "high": {
          "bdata": "AAAAAACRx0AAAAAAAJTLQAAAAACgdtNAAAAAAGBW3EAAAAAAgI7kQAAAAADgg+xA",
          "dtype": "f8"
         },
         "low": {
          "bdata": "AAAAAAA1w0AAAAAAAEzEQAAAAACAy8lAAAAAAMAn0UAAAAAAwETbQAAAAAAglt9A",
          "dtype": "f8"
         },
         "name": "Candlestick",
         "open": {
          "bdata": "AAAAAIDGxkAAAAAAgAPFQAAAAAAA68pAAAAAAABA00AAAAAAYD7cQAAAAAAALeBA",
          "dtype": "f8"
         },
         "showlegend": false,
         "type": "candlestick",
         "x": [
          "2020-09-01T00:00:00.000000000",
          "2020-10-01T00:00:00.000000000",
          "2020-11-01T00:00:00.000000000",
          "2020-12-01T00:00:00.000000000",
          "2021-01-01T00:00:00.000000000",
          "2021-02-01T00:00:00.000000000"
         ]
        },
        {
         "line": {
          "color": "orange",
          "dash": "dash",
          "width": 2
         },
         "mode": "lines",
         "name": "line_close_M",
         "showlegend": true,
         "type": "scatter",
         "x": [
          "2020-09-01T00:00:00",
          "2021-02-01T00:00:00"
         ],
         "y": [
          10759,
          10759
         ]
        },
        {
         "line": {
          "color": "orange",
          "dash": "dash",
          "width": 2
         },
         "mode": "lines",
         "name": "max_level_M",
         "showlegend": true,
         "type": "scatter",
         "x": [
          "2020-09-01T00:00:00",
          "2021-02-01T00:00:00"
         ],
         "y": [
          58399,
          58399
         ]
        },
        {
         "line": {
          "color": "orange",
          "dash": "dash",
          "width": 2
         },
         "mode": "lines",
         "name": "min_level_M",
         "showlegend": true,
         "type": "scatter",
         "x": [
          "2020-09-01T00:00:00",
          "2021-02-01T00:00:00"
         ],
         "y": [
          9834,
          9834
         ]
        }
       ],
       "layout": {
        "height": 800,
        "showlegend": false,
        "template": {
         "data": {
          "bar": [
           {
            "error_x": {
             "color": "#f2f5fa"
            },
            "error_y": {
             "color": "#f2f5fa"
            },
            "marker": {
             "line": {
              "color": "rgb(17,17,17)",
              "width": 0.5
             },
             "pattern": {
              "fillmode": "overlay",
              "size": 10,
              "solidity": 0.2
             }
            },
            "type": "bar"
           }
          ],
          "barpolar": [
           {
            "marker": {
             "line": {
              "color": "rgb(17,17,17)",
              "width": 0.5
             },
             "pattern": {
              "fillmode": "overlay",
              "size": 10,
              "solidity": 0.2
             }
            },
            "type": "barpolar"
           }
          ],
          "carpet": [
           {
            "aaxis": {
             "endlinecolor": "#A2B1C6",
             "gridcolor": "#506784",
             "linecolor": "#506784",
             "minorgridcolor": "#506784",
             "startlinecolor": "#A2B1C6"
            },
            "baxis": {
             "endlinecolor": "#A2B1C6",
             "gridcolor": "#506784",
             "linecolor": "#506784",
             "minorgridcolor": "#506784",
             "startlinecolor": "#A2B1C6"
            },
            "type": "carpet"
           }
          ],
          "choropleth": [
           {
            "colorbar": {
             "outlinewidth": 0,
             "ticks": ""
            },
            "type": "choropleth"
           }
          ],
          "contour": [
           {
            "colorbar": {
             "outlinewidth": 0,
             "ticks": ""
            },
            "colorscale": [
             [
              0,
              "#0d0887"
             ],
             [
              0.1111111111111111,
              "#46039f"
             ],
             [
              0.2222222222222222,
              "#7201a8"
             ],
             [
              0.3333333333333333,
              "#9c179e"
             ],
             [
              0.4444444444444444,
              "#bd3786"
             ],
             [
              0.5555555555555556,
              "#d8576b"
             ],
             [
              0.6666666666666666,
              "#ed7953"
             ],
             [
              0.7777777777777778,
              "#fb9f3a"
             ],
             [
              0.8888888888888888,
              "#fdca26"
             ],
             [
              1,
              "#f0f921"
             ]
            ],
            "type": "contour"
           }
          ],
          "contourcarpet": [
           {
            "colorbar": {
             "outlinewidth": 0,
             "ticks": ""
            },
            "type": "contourcarpet"
           }
          ],
          "heatmap": [
           {
            "colorbar": {
             "outlinewidth": 0,
             "ticks": ""
            },
            "colorscale": [
             [
              0,
              "#0d0887"
             ],
             [
              0.1111111111111111,
              "#46039f"
             ],
             [
              0.2222222222222222,
              "#7201a8"
             ],
             [
              0.3333333333333333,
              "#9c179e"
             ],
             [
              0.4444444444444444,
              "#bd3786"
             ],
             [
              0.5555555555555556,
              "#d8576b"
             ],
             [
              0.6666666666666666,
              "#ed7953"
             ],
             [
              0.7777777777777778,
              "#fb9f3a"
             ],
             [
              0.8888888888888888,
              "#fdca26"
             ],
             [
              1,
              "#f0f921"
             ]
            ],
            "type": "heatmap"
           }
          ],
          "histogram": [
           {
            "marker": {
             "pattern": {
              "fillmode": "overlay",
              "size": 10,
              "solidity": 0.2
             }
            },
            "type": "histogram"
           }
          ],
          "histogram2d": [
           {
            "colorbar": {
             "outlinewidth": 0,
             "ticks": ""
            },
            "colorscale": [
             [
              0,
              "#0d0887"
             ],
             [
              0.1111111111111111,
              "#46039f"
             ],
             [
              0.2222222222222222,
              "#7201a8"
             ],
             [
              0.3333333333333333,
              "#9c179e"
             ],
             [
              0.4444444444444444,
              "#bd3786"
             ],
             [
              0.5555555555555556,
              "#d8576b"
             ],
             [
              0.6666666666666666,
              "#ed7953"
             ],
             [
              0.7777777777777778,
              "#fb9f3a"
             ],
             [
              0.8888888888888888,
              "#fdca26"
             ],
             [
              1,
              "#f0f921"
             ]
            ],
            "type": "histogram2d"
           }
          ],
          "histogram2dcontour": [
           {
            "colorbar": {
             "outlinewidth": 0,
             "ticks": ""
            },
            "colorscale": [
             [
              0,
              "#0d0887"
             ],
             [
              0.1111111111111111,
              "#46039f"
             ],
             [
              0.2222222222222222,
              "#7201a8"
             ],
             [
              0.3333333333333333,
              "#9c179e"
             ],
             [
              0.4444444444444444,
              "#bd3786"
             ],
             [
              0.5555555555555556,
              "#d8576b"
             ],
             [
              0.6666666666666666,
              "#ed7953"
             ],
             [
              0.7777777777777778,
              "#fb9f3a"
             ],
             [
              0.8888888888888888,
              "#fdca26"
             ],
             [
              1,
              "#f0f921"
             ]
            ],
            "type": "histogram2dcontour"
           }
          ],
          "mesh3d": [
           {
            "colorbar": {
             "outlinewidth": 0,
             "ticks": ""
            },
            "type": "mesh3d"
           }
          ],
          "parcoords": [
           {
            "line": {
             "colorbar": {
              "outlinewidth": 0,
              "ticks": ""
             }
            },
            "type": "parcoords"
           }
          ],
          "pie": [
           {
            "automargin": true,
            "type": "pie"
           }
          ],
          "scatter": [
           {
            "marker": {
             "line": {
              "color": "#283442"
             }
            },
            "type": "scatter"
           }
          ],
          "scatter3d": [
           {
            "line": {
             "colorbar": {
              "outlinewidth": 0,
              "ticks": ""
             }
            },
            "marker": {
             "colorbar": {
              "outlinewidth": 0,
              "ticks": ""
             }
            },
            "type": "scatter3d"
           }
          ],
          "scattercarpet": [
           {
            "marker": {
             "colorbar": {
              "outlinewidth": 0,
              "ticks": ""
             }
            },
            "type": "scattercarpet"
           }
          ],
          "scattergeo": [
           {
            "marker": {
             "colorbar": {
              "outlinewidth": 0,
              "ticks": ""
             }
            },
            "type": "scattergeo"
           }
          ],
          "scattergl": [
           {
            "marker": {
             "line": {
              "color": "#283442"
             }
            },
            "type": "scattergl"
           }
          ],
          "scattermap": [
           {
            "marker": {
             "colorbar": {
              "outlinewidth": 0,
              "ticks": ""
             }
            },
            "type": "scattermap"
           }
          ],
          "scattermapbox": [
           {
            "marker": {
             "colorbar": {
              "outlinewidth": 0,
              "ticks": ""
             }
            },
            "type": "scattermapbox"
           }
          ],
          "scatterpolar": [
           {
            "marker": {
             "colorbar": {
              "outlinewidth": 0,
              "ticks": ""
             }
            },
            "type": "scatterpolar"
           }
          ],
          "scatterpolargl": [
           {
            "marker": {
             "colorbar": {
              "outlinewidth": 0,
              "ticks": ""
             }
            },
            "type": "scatterpolargl"
           }
          ],
          "scatterternary": [
           {
            "marker": {
             "colorbar": {
              "outlinewidth": 0,
              "ticks": ""
             }
            },
            "type": "scatterternary"
           }
          ],
          "surface": [
           {
            "colorbar": {
             "outlinewidth": 0,
             "ticks": ""
            },
            "colorscale": [
             [
              0,
              "#0d0887"
             ],
             [
              0.1111111111111111,
              "#46039f"
             ],
             [
              0.2222222222222222,
              "#7201a8"
             ],
             [
              0.3333333333333333,
              "#9c179e"
             ],
             [
              0.4444444444444444,
              "#bd3786"
             ],
             [
              0.5555555555555556,
              "#d8576b"
             ],
             [
              0.6666666666666666,
              "#ed7953"
             ],
             [
              0.7777777777777778,
              "#fb9f3a"
             ],
             [
              0.8888888888888888,
              "#fdca26"
             ],
             [
              1,
              "#f0f921"
             ]
            ],
            "type": "surface"
           }
          ],
          "table": [
           {
            "cells": {
             "fill": {
              "color": "#506784"
             },
             "line": {
              "color": "rgb(17,17,17)"
             }
            },
            "header": {
             "fill": {
              "color": "#2a3f5f"
             },
             "line": {
              "color": "rgb(17,17,17)"
             }
            },
            "type": "table"
           }
          ]
         },
         "layout": {
          "annotationdefaults": {
           "arrowcolor": "#f2f5fa",
           "arrowhead": 0,
           "arrowwidth": 1
          },
          "autotypenumbers": "strict",
          "coloraxis": {
           "colorbar": {
            "outlinewidth": 0,
            "ticks": ""
           }
          },
          "colorscale": {
           "diverging": [
            [
             0,
             "#8e0152"
            ],
            [
             0.1,
             "#c51b7d"
            ],
            [
             0.2,
             "#de77ae"
            ],
            [
             0.3,
             "#f1b6da"
            ],
            [
             0.4,
             "#fde0ef"
            ],
            [
             0.5,
             "#f7f7f7"
            ],
            [
             0.6,
             "#e6f5d0"
            ],
            [
             0.7,
             "#b8e186"
            ],
            [
             0.8,
             "#7fbc41"
            ],
            [
             0.9,
             "#4d9221"
            ],
            [
             1,
             "#276419"
            ]
           ],
           "sequential": [
            [
             0,
             "#0d0887"
            ],
            [
             0.1111111111111111,
             "#46039f"
            ],
            [
             0.2222222222222222,
             "#7201a8"
            ],
            [
             0.3333333333333333,
             "#9c179e"
            ],
            [
             0.4444444444444444,
             "#bd3786"
            ],
            [
             0.5555555555555556,
             "#d8576b"
            ],
            [
             0.6666666666666666,
             "#ed7953"
            ],
            [
             0.7777777777777778,
             "#fb9f3a"
            ],
            [
             0.8888888888888888,
             "#fdca26"
            ],
            [
             1,
             "#f0f921"
            ]
           ],
           "sequentialminus": [
            [
             0,
             "#0d0887"
            ],
            [
             0.1111111111111111,
             "#46039f"
            ],
            [
             0.2222222222222222,
             "#7201a8"
            ],
            [
             0.3333333333333333,
             "#9c179e"
            ],
            [
             0.4444444444444444,
             "#bd3786"
            ],
            [
             0.5555555555555556,
             "#d8576b"
            ],
            [
             0.6666666666666666,
             "#ed7953"
            ],
            [
             0.7777777777777778,
             "#fb9f3a"
            ],
            [
             0.8888888888888888,
             "#fdca26"
            ],
            [
             1,
             "#f0f921"
            ]
           ]
          },
          "colorway": [
           "#636efa",
           "#EF553B",
           "#00cc96",
           "#ab63fa",
           "#FFA15A",
           "#19d3f3",
           "#FF6692",
           "#B6E880",
           "#FF97FF",
           "#FECB52"
          ],
          "font": {
           "color": "#f2f5fa"
          },
          "geo": {
           "bgcolor": "rgb(17,17,17)",
           "lakecolor": "rgb(17,17,17)",
           "landcolor": "rgb(17,17,17)",
           "showlakes": true,
           "showland": true,
           "subunitcolor": "#506784"
          },
          "hoverlabel": {
           "align": "left"
          },
          "hovermode": "closest",
          "mapbox": {
           "style": "dark"
          },
          "paper_bgcolor": "rgb(17,17,17)",
          "plot_bgcolor": "rgb(17,17,17)",
          "polar": {
           "angularaxis": {
            "gridcolor": "#506784",
            "linecolor": "#506784",
            "ticks": ""
           },
           "bgcolor": "rgb(17,17,17)",
           "radialaxis": {
            "gridcolor": "#506784",
            "linecolor": "#506784",
            "ticks": ""
           }
          },
          "scene": {
           "xaxis": {
            "backgroundcolor": "rgb(17,17,17)",
            "gridcolor": "#506784",
            "gridwidth": 2,
            "linecolor": "#506784",
            "showbackground": true,
            "ticks": "",
            "zerolinecolor": "#C8D4E3"
           },
           "yaxis": {
            "backgroundcolor": "rgb(17,17,17)",
            "gridcolor": "#506784",
            "gridwidth": 2,
            "linecolor": "#506784",
            "showbackground": true,
            "ticks": "",
            "zerolinecolor": "#C8D4E3"
           },
           "zaxis": {
            "backgroundcolor": "rgb(17,17,17)",
            "gridcolor": "#506784",
            "gridwidth": 2,
            "linecolor": "#506784",
            "showbackground": true,
            "ticks": "",
            "zerolinecolor": "#C8D4E3"
           }
          },
          "shapedefaults": {
           "line": {
            "color": "#f2f5fa"
           }
          },
          "sliderdefaults": {
           "bgcolor": "#C8D4E3",
           "bordercolor": "rgb(17,17,17)",
           "borderwidth": 1,
           "tickwidth": 0
          },
          "ternary": {
           "aaxis": {
            "gridcolor": "#506784",
            "linecolor": "#506784",
            "ticks": ""
           },
           "baxis": {
            "gridcolor": "#506784",
            "linecolor": "#506784",
            "ticks": ""
           },
           "bgcolor": "rgb(17,17,17)",
           "caxis": {
            "gridcolor": "#506784",
            "linecolor": "#506784",
            "ticks": ""
           }
          },
          "title": {
           "x": 0.05
          },
          "updatemenudefaults": {
           "bgcolor": "#506784",
           "borderwidth": 0
          },
          "xaxis": {
           "automargin": true,
           "gridcolor": "#283442",
           "linecolor": "#506784",
           "ticks": "",
           "title": {
            "standoff": 15
           },
           "zerolinecolor": "#283442",
           "zerolinewidth": 2
          },
          "yaxis": {
           "automargin": true,
           "gridcolor": "#283442",
           "linecolor": "#506784",
           "ticks": "",
           "title": {
            "standoff": 15
           },
           "zerolinecolor": "#283442",
           "zerolinewidth": 2
          }
         }
        },
        "title": {
         "text": "BTCUSDT - M - TA Chart Visualizer"
        },
        "xaxis": {
         "fixedrange": false,
         "rangeslider": {
          "visible": false
         },
         "title": {
          "text": "Time"
         }
        },
        "yaxis": {
         "fixedrange": false,
         "title": {
          "text": "Price"
         },
         "type": "log"
        }
       }
      }
     },
     "metadata": {},
     "output_type": "display_data"
    },
    {
     "name": "stdout",
     "output_type": "stream",
     "text": [
      "\n",
      "======================================================================\n",
      "📊 Visualizing Segment 3/10: BTCUSDT - M\n",
      "   Period: 2021-03-01 00:00 to 2021-08-01 00:00\n",
      "======================================================================\n",
      "Processing 6 candles for BTCUSDT at M interval\n",
      "   Middlewares: ['levels_middleware']\n"
     ]
    },
    {
     "data": {
      "application/vnd.plotly.v1+json": {
       "config": {
        "plotlyServerURL": "https://plot.ly"
       },
       "data": [
        {
         "close": {
          "bdata": "AAAAAHC97EAAAAAAwCnsQAAAAAAgL+JAAAAAAEAZ4UAAAAAAsDzkQAAAAACACedA",
          "dtype": "f8"
         },
         "high": {
          "bdata": "AAAAAHA+7kAAAAAA8LXvQAAAAABAGO1AAAAAAIAq5EAAAAAAsLbkQAAAAABAp+hA",
          "dtype": "f8"
         },
         "low": {
          "bdata": "AAAAAOD25UAAAAAAYPXmQAAAAABAINxAAAAAAIAZ3EAAAAAAIJbcQAAAAAAgNOJA",
          "dtype": "f8"
         },
         "name": "Candlestick",
         "open": {
          "bdata": "AAAAAIAM5kAAAAAAcL3sQAAAAADAKexAAAAAACAv4kAAAAAAQBnhQAAAAACwPORA",
          "dtype": "f8"
         },
         "showlegend": false,
         "type": "candlestick",
         "x": [
          "2021-03-01T00:00:00.000000000",
          "2021-04-01T00:00:00.000000000",
          "2021-05-01T00:00:00.000000000",
          "2021-06-01T00:00:00.000000000",
          "2021-07-01T00:00:00.000000000",
          "2021-08-01T00:00:00.000000000"
         ]
        },
        {
         "line": {
          "color": "orange",
          "dash": "dash",
          "width": 2
         },
         "mode": "lines",
         "name": "line_close_M",
         "showlegend": true,
         "type": "scatter",
         "x": [
          "2021-06-01T00:00:00",
          "2021-08-01T00:00:00"
         ],
         "y": [
          35018,
          35018
         ]
        },
        {
         "line": {
          "color": "orange",
          "dash": "dash",
          "width": 2
         },
         "mode": "lines",
         "name": "max_level_M",
         "showlegend": true,
         "type": "scatter",
         "x": [
          "2021-03-01T00:00:00",
          "2021-08-01T00:00:00"
         ],
         "y": [
          64943.5,
          64943.5
         ]
        },
        {
         "line": {
          "color": "orange",
          "dash": "dash",
          "width": 2
         },
         "mode": "lines",
         "name": "min_level_M",
         "showlegend": true,
         "type": "scatter",
         "x": [
          "2021-03-01T00:00:00",
          "2021-08-01T00:00:00"
         ],
         "y": [
          28774,
          28774
         ]
        }
       ],
       "layout": {
        "height": 800,
        "showlegend": false,
        "template": {
         "data": {
          "bar": [
           {
            "error_x": {
             "color": "#f2f5fa"
            },
            "error_y": {
             "color": "#f2f5fa"
            },
            "marker": {
             "line": {
              "color": "rgb(17,17,17)",
              "width": 0.5
             },
             "pattern": {
              "fillmode": "overlay",
              "size": 10,
              "solidity": 0.2
             }
            },
            "type": "bar"
           }
          ],
          "barpolar": [
           {
            "marker": {
             "line": {
              "color": "rgb(17,17,17)",
              "width": 0.5
             },
             "pattern": {
              "fillmode": "overlay",
              "size": 10,
              "solidity": 0.2
             }
            },
            "type": "barpolar"
           }
          ],
          "carpet": [
           {
            "aaxis": {
             "endlinecolor": "#A2B1C6",
             "gridcolor": "#506784",
             "linecolor": "#506784",
             "minorgridcolor": "#506784",
             "startlinecolor": "#A2B1C6"
            },
            "baxis": {
             "endlinecolor": "#A2B1C6",
             "gridcolor": "#506784",
             "linecolor": "#506784",
             "minorgridcolor": "#506784",
             "startlinecolor": "#A2B1C6"
            },
            "type": "carpet"
           }
          ],
          "choropleth": [
           {
            "colorbar": {
             "outlinewidth": 0,
             "ticks": ""
            },
            "type": "choropleth"
           }
          ],
          "contour": [
           {
            "colorbar": {
             "outlinewidth": 0,
             "ticks": ""
            },
            "colorscale": [
             [
              0,
              "#0d0887"
             ],
             [
              0.1111111111111111,
              "#46039f"
             ],
             [
              0.2222222222222222,
              "#7201a8"
             ],
             [
              0.3333333333333333,
              "#9c179e"
             ],
             [
              0.4444444444444444,
              "#bd3786"
             ],
             [
              0.5555555555555556,
              "#d8576b"
             ],
             [
              0.6666666666666666,
              "#ed7953"
             ],
             [
              0.7777777777777778,
              "#fb9f3a"
             ],
             [
              0.8888888888888888,
              "#fdca26"
             ],
             [
              1,
              "#f0f921"
             ]
            ],
            "type": "contour"
           }
          ],
          "contourcarpet": [
           {
            "colorbar": {
             "outlinewidth": 0,
             "ticks": ""
            },
            "type": "contourcarpet"
           }
          ],
          "heatmap": [
           {
            "colorbar": {
             "outlinewidth": 0,
             "ticks": ""
            },
            "colorscale": [
             [
              0,
              "#0d0887"
             ],
             [
              0.1111111111111111,
              "#46039f"
             ],
             [
              0.2222222222222222,
              "#7201a8"
             ],
             [
              0.3333333333333333,
              "#9c179e"
             ],
             [
              0.4444444444444444,
              "#bd3786"
             ],
             [
              0.5555555555555556,
              "#d8576b"
             ],
             [
              0.6666666666666666,
              "#ed7953"
             ],
             [
              0.7777777777777778,
              "#fb9f3a"
             ],
             [
              0.8888888888888888,
              "#fdca26"
             ],
             [
              1,
              "#f0f921"
             ]
            ],
            "type": "heatmap"
           }
          ],
          "histogram": [
           {
            "marker": {
             "pattern": {
              "fillmode": "overlay",
              "size": 10,
              "solidity": 0.2
             }
            },
            "type": "histogram"
           }
          ],
          "histogram2d": [
           {
            "colorbar": {
             "outlinewidth": 0,
             "ticks": ""
            },
            "colorscale": [
             [
              0,
              "#0d0887"
             ],
             [
              0.1111111111111111,
              "#46039f"
             ],
             [
              0.2222222222222222,
              "#7201a8"
             ],
             [
              0.3333333333333333,
              "#9c179e"
             ],
             [
              0.4444444444444444,
              "#bd3786"
             ],
             [
              0.5555555555555556,
              "#d8576b"
             ],
             [
              0.6666666666666666,
              "#ed7953"
             ],
             [
              0.7777777777777778,
              "#fb9f3a"
             ],
             [
              0.8888888888888888,
              "#fdca26"
             ],
             [
              1,
              "#f0f921"
             ]
            ],
            "type": "histogram2d"
           }
          ],
          "histogram2dcontour": [
           {
            "colorbar": {
             "outlinewidth": 0,
             "ticks": ""
            },
            "colorscale": [
             [
              0,
              "#0d0887"
             ],
             [
              0.1111111111111111,
              "#46039f"
             ],
             [
              0.2222222222222222,
              "#7201a8"
             ],
             [
              0.3333333333333333,
              "#9c179e"
             ],
             [
              0.4444444444444444,
              "#bd3786"
             ],
             [
              0.5555555555555556,
              "#d8576b"
             ],
             [
              0.6666666666666666,
              "#ed7953"
             ],
             [
              0.7777777777777778,
              "#fb9f3a"
             ],
             [
              0.8888888888888888,
              "#fdca26"
             ],
             [
              1,
              "#f0f921"
             ]
            ],
            "type": "histogram2dcontour"
           }
          ],
          "mesh3d": [
           {
            "colorbar": {
             "outlinewidth": 0,
             "ticks": ""
            },
            "type": "mesh3d"
           }
          ],
          "parcoords": [
           {
            "line": {
             "colorbar": {
              "outlinewidth": 0,
              "ticks": ""
             }
            },
            "type": "parcoords"
           }
          ],
          "pie": [
           {
            "automargin": true,
            "type": "pie"
           }
          ],
          "scatter": [
           {
            "marker": {
             "line": {
              "color": "#283442"
             }
            },
            "type": "scatter"
           }
          ],
          "scatter3d": [
           {
            "line": {
             "colorbar": {
              "outlinewidth": 0,
              "ticks": ""
             }
            },
            "marker": {
             "colorbar": {
              "outlinewidth": 0,
              "ticks": ""
             }
            },
            "type": "scatter3d"
           }
          ],
          "scattercarpet": [
           {
            "marker": {
             "colorbar": {
              "outlinewidth": 0,
              "ticks": ""
             }
            },
            "type": "scattercarpet"
           }
          ],
          "scattergeo": [
           {
            "marker": {
             "colorbar": {
              "outlinewidth": 0,
              "ticks": ""
             }
            },
            "type": "scattergeo"
           }
          ],
          "scattergl": [
           {
            "marker": {
             "line": {
              "color": "#283442"
             }
            },
            "type": "scattergl"
           }
          ],
          "scattermap": [
           {
            "marker": {
             "colorbar": {
              "outlinewidth": 0,
              "ticks": ""
             }
            },
            "type": "scattermap"
           }
          ],
          "scattermapbox": [
           {
            "marker": {
             "colorbar": {
              "outlinewidth": 0,
              "ticks": ""
             }
            },
            "type": "scattermapbox"
           }
          ],
          "scatterpolar": [
           {
            "marker": {
             "colorbar": {
              "outlinewidth": 0,
              "ticks": ""
             }
            },
            "type": "scatterpolar"
           }
          ],
          "scatterpolargl": [
           {
            "marker": {
             "colorbar": {
              "outlinewidth": 0,
              "ticks": ""
             }
            },
            "type": "scatterpolargl"
           }
          ],
          "scatterternary": [
           {
            "marker": {
             "colorbar": {
              "outlinewidth": 0,
              "ticks": ""
             }
            },
            "type": "scatterternary"
           }
          ],
          "surface": [
           {
            "colorbar": {
             "outlinewidth": 0,
             "ticks": ""
            },
            "colorscale": [
             [
              0,
              "#0d0887"
             ],
             [
              0.1111111111111111,
              "#46039f"
             ],
             [
              0.2222222222222222,
              "#7201a8"
             ],
             [
              0.3333333333333333,
              "#9c179e"
             ],
             [
              0.4444444444444444,
              "#bd3786"
             ],
             [
              0.5555555555555556,
              "#d8576b"
             ],
             [
              0.6666666666666666,
              "#ed7953"
             ],
             [
              0.7777777777777778,
              "#fb9f3a"
             ],
             [
              0.8888888888888888,
              "#fdca26"
             ],
             [
              1,
              "#f0f921"
             ]
            ],
            "type": "surface"
           }
          ],
          "table": [
           {
            "cells": {
             "fill": {
              "color": "#506784"
             },
             "line": {
              "color": "rgb(17,17,17)"
             }
            },
            "header": {
             "fill": {
              "color": "#2a3f5f"
             },
             "line": {
              "color": "rgb(17,17,17)"
             }
            },
            "type": "table"
           }
          ]
         },
         "layout": {
          "annotationdefaults": {
           "arrowcolor": "#f2f5fa",
           "arrowhead": 0,
           "arrowwidth": 1
          },
          "autotypenumbers": "strict",
          "coloraxis": {
           "colorbar": {
            "outlinewidth": 0,
            "ticks": ""
           }
          },
          "colorscale": {
           "diverging": [
            [
             0,
             "#8e0152"
            ],
            [
             0.1,
             "#c51b7d"
            ],
            [
             0.2,
             "#de77ae"
            ],
            [
             0.3,
             "#f1b6da"
            ],
            [
             0.4,
             "#fde0ef"
            ],
            [
             0.5,
             "#f7f7f7"
            ],
            [
             0.6,
             "#e6f5d0"
            ],
            [
             0.7,
             "#b8e186"
            ],
            [
             0.8,
             "#7fbc41"
            ],
            [
             0.9,
             "#4d9221"
            ],
            [
             1,
             "#276419"
            ]
           ],
           "sequential": [
            [
             0,
             "#0d0887"
            ],
            [
             0.1111111111111111,
             "#46039f"
            ],
            [
             0.2222222222222222,
             "#7201a8"
            ],
            [
             0.3333333333333333,
             "#9c179e"
            ],
            [
             0.4444444444444444,
             "#bd3786"
            ],
            [
             0.5555555555555556,
             "#d8576b"
            ],
            [
             0.6666666666666666,
             "#ed7953"
            ],
            [
             0.7777777777777778,
             "#fb9f3a"
            ],
            [
             0.8888888888888888,
             "#fdca26"
            ],
            [
             1,
             "#f0f921"
            ]
           ],
           "sequentialminus": [
            [
             0,
             "#0d0887"
            ],
            [
             0.1111111111111111,
             "#46039f"
            ],
            [
             0.2222222222222222,
             "#7201a8"
            ],
            [
             0.3333333333333333,
             "#9c179e"
            ],
            [
             0.4444444444444444,
             "#bd3786"
            ],
            [
             0.5555555555555556,
             "#d8576b"
            ],
            [
             0.6666666666666666,
             "#ed7953"
            ],
            [
             0.7777777777777778,
             "#fb9f3a"
            ],
            [
             0.8888888888888888,
             "#fdca26"
            ],
            [
             1,
             "#f0f921"
            ]
           ]
          },
          "colorway": [
           "#636efa",
           "#EF553B",
           "#00cc96",
           "#ab63fa",
           "#FFA15A",
           "#19d3f3",
           "#FF6692",
           "#B6E880",
           "#FF97FF",
           "#FECB52"
          ],
          "font": {
           "color": "#f2f5fa"
          },
          "geo": {
           "bgcolor": "rgb(17,17,17)",
           "lakecolor": "rgb(17,17,17)",
           "landcolor": "rgb(17,17,17)",
           "showlakes": true,
           "showland": true,
           "subunitcolor": "#506784"
          },
          "hoverlabel": {
           "align": "left"
          },
          "hovermode": "closest",
          "mapbox": {
           "style": "dark"
          },
          "paper_bgcolor": "rgb(17,17,17)",
          "plot_bgcolor": "rgb(17,17,17)",
          "polar": {
           "angularaxis": {
            "gridcolor": "#506784",
            "linecolor": "#506784",
            "ticks": ""
           },
           "bgcolor": "rgb(17,17,17)",
           "radialaxis": {
            "gridcolor": "#506784",
            "linecolor": "#506784",
            "ticks": ""
           }
          },
          "scene": {
           "xaxis": {
            "backgroundcolor": "rgb(17,17,17)",
            "gridcolor": "#506784",
            "gridwidth": 2,
            "linecolor": "#506784",
            "showbackground": true,
            "ticks": "",
            "zerolinecolor": "#C8D4E3"
           },
           "yaxis": {
            "backgroundcolor": "rgb(17,17,17)",
            "gridcolor": "#506784",
            "gridwidth": 2,
            "linecolor": "#506784",
            "showbackground": true,
            "ticks": "",
            "zerolinecolor": "#C8D4E3"
           },
           "zaxis": {
            "backgroundcolor": "rgb(17,17,17)",
            "gridcolor": "#506784",
            "gridwidth": 2,
            "linecolor": "#506784",
            "showbackground": true,
            "ticks": "",
            "zerolinecolor": "#C8D4E3"
           }
          },
          "shapedefaults": {
           "line": {
            "color": "#f2f5fa"
           }
          },
          "sliderdefaults": {
           "bgcolor": "#C8D4E3",
           "bordercolor": "rgb(17,17,17)",
           "borderwidth": 1,
           "tickwidth": 0
          },
          "ternary": {
           "aaxis": {
            "gridcolor": "#506784",
            "linecolor": "#506784",
            "ticks": ""
           },
           "baxis": {
            "gridcolor": "#506784",
            "linecolor": "#506784",
            "ticks": ""
           },
           "bgcolor": "rgb(17,17,17)",
           "caxis": {
            "gridcolor": "#506784",
            "linecolor": "#506784",
            "ticks": ""
           }
          },
          "title": {
           "x": 0.05
          },
          "updatemenudefaults": {
           "bgcolor": "#506784",
           "borderwidth": 0
          },
          "xaxis": {
           "automargin": true,
           "gridcolor": "#283442",
           "linecolor": "#506784",
           "ticks": "",
           "title": {
            "standoff": 15
           },
           "zerolinecolor": "#283442",
           "zerolinewidth": 2
          },
          "yaxis": {
           "automargin": true,
           "gridcolor": "#283442",
           "linecolor": "#506784",
           "ticks": "",
           "title": {
            "standoff": 15
           },
           "zerolinecolor": "#283442",
           "zerolinewidth": 2
          }
         }
        },
        "title": {
         "text": "BTCUSDT - M - TA Chart Visualizer"
        },
        "xaxis": {
         "fixedrange": false,
         "rangeslider": {
          "visible": false
         },
         "title": {
          "text": "Time"
         }
        },
        "yaxis": {
         "fixedrange": false,
         "title": {
          "text": "Price"
         },
         "type": "log"
        }
       }
      }
     },
     "metadata": {},
     "output_type": "display_data"
    },
    {
     "name": "stdout",
     "output_type": "stream",
     "text": [
      "\n",
      "======================================================================\n",
      "📊 Visualizing Segment 4/10: BTCUSDT - M\n",
      "   Period: 2021-09-01 00:00 to 2022-02-01 00:00\n",
      "======================================================================\n",
      "Processing 6 candles for BTCUSDT at M interval\n",
      "   Middlewares: ['levels_middleware']\n"
     ]
    },
    {
     "data": {
      "application/vnd.plotly.v1+json": {
       "config": {
        "plotlyServerURL": "https://plot.ly"
       },
       "data": [
        {
         "close": {
          "bdata": "AAAAALBd5UAAAAAAQPPtQAAAAABA0OtAAAAAABCP5kAAAAAAAMXiQAAAAADQEeVA",
          "dtype": "f8"
         },
         "high": {
          "bdata": "AAAAAEDP6UAAAAAAoGjwQAAAAAAo4fBAAAAAACDY7EAAAAAAAHDnQAAAAACQbOZA",
          "dtype": "f8"
         },
         "low": {
          "bdata": "AAAAAABM40AAAAAAICHlQAAAAABA8OlAAAAAAKDv40AAAAAAQBHgQAAAAABQuOBA",
          "dtype": "f8"
         },
         "name": "Candlestick",
         "open": {
          "bdata": "AAAAAIAJ50AAAAAAsF3lQAAAAABA8+1AAAAAAEDQ60AAAAAAEI/mQAAAAAAAxeJA",
          "dtype": "f8"
         },
         "showlegend": false,
         "type": "candlestick",
         "x": [
          "2021-09-01T00:00:00.000000000",
          "2021-10-01T00:00:00.000000000",
          "2021-11-01T00:00:00.000000000",
          "2021-12-01T00:00:00.000000000",
          "2022-01-01T00:00:00.000000000",
          "2022-02-01T00:00:00.000000000"
         ]
        },
        {
         "line": {
          "color": "orange",
          "dash": "dash",
          "width": 2
         },
         "mode": "lines",
         "name": "line_close_M",
         "showlegend": true,
         "type": "scatter",
         "x": [
          "2021-10-01T00:00:00",
          "2022-02-01T00:00:00"
         ],
         "y": [
          61338,
          61338
         ]
        },
        {
         "line": {
          "color": "orange",
          "dash": "dash",
          "width": 2
         },
         "mode": "lines",
         "name": "line_close_M",
         "showlegend": true,
         "type": "scatter",
         "x": [
          "2022-01-01T00:00:00",
          "2022-02-01T00:00:00"
         ],
         "y": [
          38440,
          38440
         ]
        },
        {
         "line": {
          "color": "orange",
          "dash": "dash",
          "width": 2
         },
         "mode": "lines",
         "name": "max_level_M",
         "showlegend": true,
         "type": "scatter",
         "x": [
          "2021-09-01T00:00:00",
          "2022-02-01T00:00:00"
         ],
         "y": [
          69138.5,
          69138.5
         ]
        },
        {
         "line": {
          "color": "orange",
          "dash": "dash",
          "width": 2
         },
         "mode": "lines",
         "name": "min_level_M",
         "showlegend": true,
         "type": "scatter",
         "x": [
          "2021-09-01T00:00:00",
          "2022-02-01T00:00:00"
         ],
         "y": [
          32906,
          32906
         ]
        }
       ],
       "layout": {
        "height": 800,
        "showlegend": false,
        "template": {
         "data": {
          "bar": [
           {
            "error_x": {
             "color": "#f2f5fa"
            },
            "error_y": {
             "color": "#f2f5fa"
            },
            "marker": {
             "line": {
              "color": "rgb(17,17,17)",
              "width": 0.5
             },
             "pattern": {
              "fillmode": "overlay",
              "size": 10,
              "solidity": 0.2
             }
            },
            "type": "bar"
           }
          ],
          "barpolar": [
           {
            "marker": {
             "line": {
              "color": "rgb(17,17,17)",
              "width": 0.5
             },
             "pattern": {
              "fillmode": "overlay",
              "size": 10,
              "solidity": 0.2
             }
            },
            "type": "barpolar"
           }
          ],
          "carpet": [
           {
            "aaxis": {
             "endlinecolor": "#A2B1C6",
             "gridcolor": "#506784",
             "linecolor": "#506784",
             "minorgridcolor": "#506784",
             "startlinecolor": "#A2B1C6"
            },
            "baxis": {
             "endlinecolor": "#A2B1C6",
             "gridcolor": "#506784",
             "linecolor": "#506784",
             "minorgridcolor": "#506784",
             "startlinecolor": "#A2B1C6"
            },
            "type": "carpet"
           }
          ],
          "choropleth": [
           {
            "colorbar": {
             "outlinewidth": 0,
             "ticks": ""
            },
            "type": "choropleth"
           }
          ],
          "contour": [
           {
            "colorbar": {
             "outlinewidth": 0,
             "ticks": ""
            },
            "colorscale": [
             [
              0,
              "#0d0887"
             ],
             [
              0.1111111111111111,
              "#46039f"
             ],
             [
              0.2222222222222222,
              "#7201a8"
             ],
             [
              0.3333333333333333,
              "#9c179e"
             ],
             [
              0.4444444444444444,
              "#bd3786"
             ],
             [
              0.5555555555555556,
              "#d8576b"
             ],
             [
              0.6666666666666666,
              "#ed7953"
             ],
             [
              0.7777777777777778,
              "#fb9f3a"
             ],
             [
              0.8888888888888888,
              "#fdca26"
             ],
             [
              1,
              "#f0f921"
             ]
            ],
            "type": "contour"
           }
          ],
          "contourcarpet": [
           {
            "colorbar": {
             "outlinewidth": 0,
             "ticks": ""
            },
            "type": "contourcarpet"
           }
          ],
          "heatmap": [
           {
            "colorbar": {
             "outlinewidth": 0,
             "ticks": ""
            },
            "colorscale": [
             [
              0,
              "#0d0887"
             ],
             [
              0.1111111111111111,
              "#46039f"
             ],
             [
              0.2222222222222222,
              "#7201a8"
             ],
             [
              0.3333333333333333,
              "#9c179e"
             ],
             [
              0.4444444444444444,
              "#bd3786"
             ],
             [
              0.5555555555555556,
              "#d8576b"
             ],
             [
              0.6666666666666666,
              "#ed7953"
             ],
             [
              0.7777777777777778,
              "#fb9f3a"
             ],
             [
              0.8888888888888888,
              "#fdca26"
             ],
             [
              1,
              "#f0f921"
             ]
            ],
            "type": "heatmap"
           }
          ],
          "histogram": [
           {
            "marker": {
             "pattern": {
              "fillmode": "overlay",
              "size": 10,
              "solidity": 0.2
             }
            },
            "type": "histogram"
           }
          ],
          "histogram2d": [
           {
            "colorbar": {
             "outlinewidth": 0,
             "ticks": ""
            },
            "colorscale": [
             [
              0,
              "#0d0887"
             ],
             [
              0.1111111111111111,
              "#46039f"
             ],
             [
              0.2222222222222222,
              "#7201a8"
             ],
             [
              0.3333333333333333,
              "#9c179e"
             ],
             [
              0.4444444444444444,
              "#bd3786"
             ],
             [
              0.5555555555555556,
              "#d8576b"
             ],
             [
              0.6666666666666666,
              "#ed7953"
             ],
             [
              0.7777777777777778,
              "#fb9f3a"
             ],
             [
              0.8888888888888888,
              "#fdca26"
             ],
             [
              1,
              "#f0f921"
             ]
            ],
            "type": "histogram2d"
           }
          ],
          "histogram2dcontour": [
           {
            "colorbar": {
             "outlinewidth": 0,
             "ticks": ""
            },
            "colorscale": [
             [
              0,
              "#0d0887"
             ],
             [
              0.1111111111111111,
              "#46039f"
             ],
             [
              0.2222222222222222,
              "#7201a8"
             ],
             [
              0.3333333333333333,
              "#9c179e"
             ],
             [
              0.4444444444444444,
              "#bd3786"
             ],
             [
              0.5555555555555556,
              "#d8576b"
             ],
             [
              0.6666666666666666,
              "#ed7953"
             ],
             [
              0.7777777777777778,
              "#fb9f3a"
             ],
             [
              0.8888888888888888,
              "#fdca26"
             ],
             [
              1,
              "#f0f921"
             ]
            ],
            "type": "histogram2dcontour"
           }
          ],
          "mesh3d": [
           {
            "colorbar": {
             "outlinewidth": 0,
             "ticks": ""
            },
            "type": "mesh3d"
           }
          ],
          "parcoords": [
           {
            "line": {
             "colorbar": {
              "outlinewidth": 0,
              "ticks": ""
             }
            },
            "type": "parcoords"
           }
          ],
          "pie": [
           {
            "automargin": true,
            "type": "pie"
           }
          ],
          "scatter": [
           {
            "marker": {
             "line": {
              "color": "#283442"
             }
            },
            "type": "scatter"
           }
          ],
          "scatter3d": [
           {
            "line": {
             "colorbar": {
              "outlinewidth": 0,
              "ticks": ""
             }
            },
            "marker": {
             "colorbar": {
              "outlinewidth": 0,
              "ticks": ""
             }
            },
            "type": "scatter3d"
           }
          ],
          "scattercarpet": [
           {
            "marker": {
             "colorbar": {
              "outlinewidth": 0,
              "ticks": ""
             }
            },
            "type": "scattercarpet"
           }
          ],
          "scattergeo": [
           {
            "marker": {
             "colorbar": {
              "outlinewidth": 0,
              "ticks": ""
             }
            },
            "type": "scattergeo"
           }
          ],
          "scattergl": [
           {
            "marker": {
             "line": {
              "color": "#283442"
             }
            },
            "type": "scattergl"
           }
          ],
          "scattermap": [
           {
            "marker": {
             "colorbar": {
              "outlinewidth": 0,
              "ticks": ""
             }
            },
            "type": "scattermap"
           }
          ],
          "scattermapbox": [
           {
            "marker": {
             "colorbar": {
              "outlinewidth": 0,
              "ticks": ""
             }
            },
            "type": "scattermapbox"
           }
          ],
          "scatterpolar": [
           {
            "marker": {
             "colorbar": {
              "outlinewidth": 0,
              "ticks": ""
             }
            },
            "type": "scatterpolar"
           }
          ],
          "scatterpolargl": [
           {
            "marker": {
             "colorbar": {
              "outlinewidth": 0,
              "ticks": ""
             }
            },
            "type": "scatterpolargl"
           }
          ],
          "scatterternary": [
           {
            "marker": {
             "colorbar": {
              "outlinewidth": 0,
              "ticks": ""
             }
            },
            "type": "scatterternary"
           }
          ],
          "surface": [
           {
            "colorbar": {
             "outlinewidth": 0,
             "ticks": ""
            },
            "colorscale": [
             [
              0,
              "#0d0887"
             ],
             [
              0.1111111111111111,
              "#46039f"
             ],
             [
              0.2222222222222222,
              "#7201a8"
             ],
             [
              0.3333333333333333,
              "#9c179e"
             ],
             [
              0.4444444444444444,
              "#bd3786"
             ],
             [
              0.5555555555555556,
              "#d8576b"
             ],
             [
              0.6666666666666666,
              "#ed7953"
             ],
             [
              0.7777777777777778,
              "#fb9f3a"
             ],
             [
              0.8888888888888888,
              "#fdca26"
             ],
             [
              1,
              "#f0f921"
             ]
            ],
            "type": "surface"
           }
          ],
          "table": [
           {
            "cells": {
             "fill": {
              "color": "#506784"
             },
             "line": {
              "color": "rgb(17,17,17)"
             }
            },
            "header": {
             "fill": {
              "color": "#2a3f5f"
             },
             "line": {
              "color": "rgb(17,17,17)"
             }
            },
            "type": "table"
           }
          ]
         },
         "layout": {
          "annotationdefaults": {
           "arrowcolor": "#f2f5fa",
           "arrowhead": 0,
           "arrowwidth": 1
          },
          "autotypenumbers": "strict",
          "coloraxis": {
           "colorbar": {
            "outlinewidth": 0,
            "ticks": ""
           }
          },
          "colorscale": {
           "diverging": [
            [
             0,
             "#8e0152"
            ],
            [
             0.1,
             "#c51b7d"
            ],
            [
             0.2,
             "#de77ae"
            ],
            [
             0.3,
             "#f1b6da"
            ],
            [
             0.4,
             "#fde0ef"
            ],
            [
             0.5,
             "#f7f7f7"
            ],
            [
             0.6,
             "#e6f5d0"
            ],
            [
             0.7,
             "#b8e186"
            ],
            [
             0.8,
             "#7fbc41"
            ],
            [
             0.9,
             "#4d9221"
            ],
            [
             1,
             "#276419"
            ]
           ],
           "sequential": [
            [
             0,
             "#0d0887"
            ],
            [
             0.1111111111111111,
             "#46039f"
            ],
            [
             0.2222222222222222,
             "#7201a8"
            ],
            [
             0.3333333333333333,
             "#9c179e"
            ],
            [
             0.4444444444444444,
             "#bd3786"
            ],
            [
             0.5555555555555556,
             "#d8576b"
            ],
            [
             0.6666666666666666,
             "#ed7953"
            ],
            [
             0.7777777777777778,
             "#fb9f3a"
            ],
            [
             0.8888888888888888,
             "#fdca26"
            ],
            [
             1,
             "#f0f921"
            ]
           ],
           "sequentialminus": [
            [
             0,
             "#0d0887"
            ],
            [
             0.1111111111111111,
             "#46039f"
            ],
            [
             0.2222222222222222,
             "#7201a8"
            ],
            [
             0.3333333333333333,
             "#9c179e"
            ],
            [
             0.4444444444444444,
             "#bd3786"
            ],
            [
             0.5555555555555556,
             "#d8576b"
            ],
            [
             0.6666666666666666,
             "#ed7953"
            ],
            [
             0.7777777777777778,
             "#fb9f3a"
            ],
            [
             0.8888888888888888,
             "#fdca26"
            ],
            [
             1,
             "#f0f921"
            ]
           ]
          },
          "colorway": [
           "#636efa",
           "#EF553B",
           "#00cc96",
           "#ab63fa",
           "#FFA15A",
           "#19d3f3",
           "#FF6692",
           "#B6E880",
           "#FF97FF",
           "#FECB52"
          ],
          "font": {
           "color": "#f2f5fa"
          },
          "geo": {
           "bgcolor": "rgb(17,17,17)",
           "lakecolor": "rgb(17,17,17)",
           "landcolor": "rgb(17,17,17)",
           "showlakes": true,
           "showland": true,
           "subunitcolor": "#506784"
          },
          "hoverlabel": {
           "align": "left"
          },
          "hovermode": "closest",
          "mapbox": {
           "style": "dark"
          },
          "paper_bgcolor": "rgb(17,17,17)",
          "plot_bgcolor": "rgb(17,17,17)",
          "polar": {
           "angularaxis": {
            "gridcolor": "#506784",
            "linecolor": "#506784",
            "ticks": ""
           },
           "bgcolor": "rgb(17,17,17)",
           "radialaxis": {
            "gridcolor": "#506784",
            "linecolor": "#506784",
            "ticks": ""
           }
          },
          "scene": {
           "xaxis": {
            "backgroundcolor": "rgb(17,17,17)",
            "gridcolor": "#506784",
            "gridwidth": 2,
            "linecolor": "#506784",
            "showbackground": true,
            "ticks": "",
            "zerolinecolor": "#C8D4E3"
           },
           "yaxis": {
            "backgroundcolor": "rgb(17,17,17)",
            "gridcolor": "#506784",
            "gridwidth": 2,
            "linecolor": "#506784",
            "showbackground": true,
            "ticks": "",
            "zerolinecolor": "#C8D4E3"
           },
           "zaxis": {
            "backgroundcolor": "rgb(17,17,17)",
            "gridcolor": "#506784",
            "gridwidth": 2,
            "linecolor": "#506784",
            "showbackground": true,
            "ticks": "",
            "zerolinecolor": "#C8D4E3"
           }
          },
          "shapedefaults": {
           "line": {
            "color": "#f2f5fa"
           }
          },
          "sliderdefaults": {
           "bgcolor": "#C8D4E3",
           "bordercolor": "rgb(17,17,17)",
           "borderwidth": 1,
           "tickwidth": 0
          },
          "ternary": {
           "aaxis": {
            "gridcolor": "#506784",
            "linecolor": "#506784",
            "ticks": ""
           },
           "baxis": {
            "gridcolor": "#506784",
            "linecolor": "#506784",
            "ticks": ""
           },
           "bgcolor": "rgb(17,17,17)",
           "caxis": {
            "gridcolor": "#506784",
            "linecolor": "#506784",
            "ticks": ""
           }
          },
          "title": {
           "x": 0.05
          },
          "updatemenudefaults": {
           "bgcolor": "#506784",
           "borderwidth": 0
          },
          "xaxis": {
           "automargin": true,
           "gridcolor": "#283442",
           "linecolor": "#506784",
           "ticks": "",
           "title": {
            "standoff": 15
           },
           "zerolinecolor": "#283442",
           "zerolinewidth": 2
          },
          "yaxis": {
           "automargin": true,
           "gridcolor": "#283442",
           "linecolor": "#506784",
           "ticks": "",
           "title": {
            "standoff": 15
           },
           "zerolinecolor": "#283442",
           "zerolinewidth": 2
          }
         }
        },
        "title": {
         "text": "BTCUSDT - M - TA Chart Visualizer"
        },
        "xaxis": {
         "fixedrange": false,
         "rangeslider": {
          "visible": false
         },
         "title": {
          "text": "Time"
         }
        },
        "yaxis": {
         "fixedrange": false,
         "title": {
          "text": "Price"
         },
         "type": "log"
        }
       }
      }
     },
     "metadata": {},
     "output_type": "display_data"
    },
    {
     "name": "stdout",
     "output_type": "stream",
     "text": [
      "\n",
      "======================================================================\n",
      "📊 Visualizing Segment 5/10: BTCUSDT - M\n",
      "   Period: 2022-03-01 00:00 to 2022-08-01 00:00\n",
      "======================================================================\n",
      "Processing 6 candles for BTCUSDT at M interval\n",
      "   Middlewares: ['levels_middleware']\n"
     ]
    },
    {
     "data": {
      "application/vnd.plotly.v1+json": {
       "config": {
        "plotlyServerURL": "https://plot.ly"
       },
       "data": [
        {
         "close": {
          "bdata": "AAAAAOA45kAAAAAAcF3iQAAAAABACd9AAAAAAGB100AAAAAAoL7WQAAAAACglNNA",
          "dtype": "f8"
         },
         "high": {
          "bdata": "AAAAACCH50AAAAAAoDDnQAAAAABQj+NAAAAAAKA730AAAAAAwB3YQAAAAADAm9hA",
          "dtype": "f8"
         },
         "low": {
          "bdata": "AAAAAGAi4kAAAAAA0FbiQAAAAAAA6tlAAAAAAAAw0UAAAAAAQFbSQAAAAADADdNA",
          "dtype": "f8"
         },
         "name": "Candlestick",
         "open": {
          "bdata": "AAAAANAR5UAAAAAA4DjmQAAAAABwXeJAAAAAAEAJ30AAAAAAYHXTQAAAAACgvtZA",
          "dtype": "f8"
         },
         "showlegend": false,
         "type": "candlestick",
         "x": [
          "2022-03-01T00:00:00.000000000",
          "2022-04-01T00:00:00.000000000",
          "2022-05-01T00:00:00.000000000",
          "2022-06-01T00:00:00.000000000",
          "2022-07-01T00:00:00.000000000",
          "2022-08-01T00:00:00.000000000"
         ]
        },
        {
         "line": {
          "color": "orange",
          "dash": "dash",
          "width": 2
         },
         "mode": "lines",
         "name": "line_close_M",
         "showlegend": true,
         "type": "scatter",
         "x": [
          "2022-03-01T00:00:00",
          "2022-08-01T00:00:00"
         ],
         "y": [
          45511,
          45511
         ]
        },
        {
         "line": {
          "color": "orange",
          "dash": "dash",
          "width": 2
         },
         "mode": "lines",
         "name": "line_close_M",
         "showlegend": true,
         "type": "scatter",
         "x": [
          "2022-07-01T00:00:00",
          "2022-08-01T00:00:00"
         ],
         "y": [
          23290.5,
          23290.5
         ]
        },
        {
         "line": {
          "color": "orange",
          "dash": "dash",
          "width": 2
         },
         "mode": "lines",
         "name": "max_level_M",
         "showlegend": true,
         "type": "scatter",
         "x": [
          "2022-03-01T00:00:00",
          "2022-08-01T00:00:00"
         ],
         "y": [
          48185,
          48185
         ]
        },
        {
         "line": {
          "color": "orange",
          "dash": "dash",
          "width": 2
         },
         "mode": "lines",
         "name": "min_level_M",
         "showlegend": true,
         "type": "scatter",
         "x": [
          "2022-03-01T00:00:00",
          "2022-08-01T00:00:00"
         ],
         "y": [
          17600,
          17600
         ]
        }
       ],
       "layout": {
        "height": 800,
        "showlegend": false,
        "template": {
         "data": {
          "bar": [
           {
            "error_x": {
             "color": "#f2f5fa"
            },
            "error_y": {
             "color": "#f2f5fa"
            },
            "marker": {
             "line": {
              "color": "rgb(17,17,17)",
              "width": 0.5
             },
             "pattern": {
              "fillmode": "overlay",
              "size": 10,
              "solidity": 0.2
             }
            },
            "type": "bar"
           }
          ],
          "barpolar": [
           {
            "marker": {
             "line": {
              "color": "rgb(17,17,17)",
              "width": 0.5
             },
             "pattern": {
              "fillmode": "overlay",
              "size": 10,
              "solidity": 0.2
             }
            },
            "type": "barpolar"
           }
          ],
          "carpet": [
           {
            "aaxis": {
             "endlinecolor": "#A2B1C6",
             "gridcolor": "#506784",
             "linecolor": "#506784",
             "minorgridcolor": "#506784",
             "startlinecolor": "#A2B1C6"
            },
            "baxis": {
             "endlinecolor": "#A2B1C6",
             "gridcolor": "#506784",
             "linecolor": "#506784",
             "minorgridcolor": "#506784",
             "startlinecolor": "#A2B1C6"
            },
            "type": "carpet"
           }
          ],
          "choropleth": [
           {
            "colorbar": {
             "outlinewidth": 0,
             "ticks": ""
            },
            "type": "choropleth"
           }
          ],
          "contour": [
           {
            "colorbar": {
             "outlinewidth": 0,
             "ticks": ""
            },
            "colorscale": [
             [
              0,
              "#0d0887"
             ],
             [
              0.1111111111111111,
              "#46039f"
             ],
             [
              0.2222222222222222,
              "#7201a8"
             ],
             [
              0.3333333333333333,
              "#9c179e"
             ],
             [
              0.4444444444444444,
              "#bd3786"
             ],
             [
              0.5555555555555556,
              "#d8576b"
             ],
             [
              0.6666666666666666,
              "#ed7953"
             ],
             [
              0.7777777777777778,
              "#fb9f3a"
             ],
             [
              0.8888888888888888,
              "#fdca26"
             ],
             [
              1,
              "#f0f921"
             ]
            ],
            "type": "contour"
           }
          ],
          "contourcarpet": [
           {
            "colorbar": {
             "outlinewidth": 0,
             "ticks": ""
            },
            "type": "contourcarpet"
           }
          ],
          "heatmap": [
           {
            "colorbar": {
             "outlinewidth": 0,
             "ticks": ""
            },
            "colorscale": [
             [
              0,
              "#0d0887"
             ],
             [
              0.1111111111111111,
              "#46039f"
             ],
             [
              0.2222222222222222,
              "#7201a8"
             ],
             [
              0.3333333333333333,
              "#9c179e"
             ],
             [
              0.4444444444444444,
              "#bd3786"
             ],
             [
              0.5555555555555556,
              "#d8576b"
             ],
             [
              0.6666666666666666,
              "#ed7953"
             ],
             [
              0.7777777777777778,
              "#fb9f3a"
             ],
             [
              0.8888888888888888,
              "#fdca26"
             ],
             [
              1,
              "#f0f921"
             ]
            ],
            "type": "heatmap"
           }
          ],
          "histogram": [
           {
            "marker": {
             "pattern": {
              "fillmode": "overlay",
              "size": 10,
              "solidity": 0.2
             }
            },
            "type": "histogram"
           }
          ],
          "histogram2d": [
           {
            "colorbar": {
             "outlinewidth": 0,
             "ticks": ""
            },
            "colorscale": [
             [
              0,
              "#0d0887"
             ],
             [
              0.1111111111111111,
              "#46039f"
             ],
             [
              0.2222222222222222,
              "#7201a8"
             ],
             [
              0.3333333333333333,
              "#9c179e"
             ],
             [
              0.4444444444444444,
              "#bd3786"
             ],
             [
              0.5555555555555556,
              "#d8576b"
             ],
             [
              0.6666666666666666,
              "#ed7953"
             ],
             [
              0.7777777777777778,
              "#fb9f3a"
             ],
             [
              0.8888888888888888,
              "#fdca26"
             ],
             [
              1,
              "#f0f921"
             ]
            ],
            "type": "histogram2d"
           }
          ],
          "histogram2dcontour": [
           {
            "colorbar": {
             "outlinewidth": 0,
             "ticks": ""
            },
            "colorscale": [
             [
              0,
              "#0d0887"
             ],
             [
              0.1111111111111111,
              "#46039f"
             ],
             [
              0.2222222222222222,
              "#7201a8"
             ],
             [
              0.3333333333333333,
              "#9c179e"
             ],
             [
              0.4444444444444444,
              "#bd3786"
             ],
             [
              0.5555555555555556,
              "#d8576b"
             ],
             [
              0.6666666666666666,
              "#ed7953"
             ],
             [
              0.7777777777777778,
              "#fb9f3a"
             ],
             [
              0.8888888888888888,
              "#fdca26"
             ],
             [
              1,
              "#f0f921"
             ]
            ],
            "type": "histogram2dcontour"
           }
          ],
          "mesh3d": [
           {
            "colorbar": {
             "outlinewidth": 0,
             "ticks": ""
            },
            "type": "mesh3d"
           }
          ],
          "parcoords": [
           {
            "line": {
             "colorbar": {
              "outlinewidth": 0,
              "ticks": ""
             }
            },
            "type": "parcoords"
           }
          ],
          "pie": [
           {
            "automargin": true,
            "type": "pie"
           }
          ],
          "scatter": [
           {
            "marker": {
             "line": {
              "color": "#283442"
             }
            },
            "type": "scatter"
           }
          ],
          "scatter3d": [
           {
            "line": {
             "colorbar": {
              "outlinewidth": 0,
              "ticks": ""
             }
            },
            "marker": {
             "colorbar": {
              "outlinewidth": 0,
              "ticks": ""
             }
            },
            "type": "scatter3d"
           }
          ],
          "scattercarpet": [
           {
            "marker": {
             "colorbar": {
              "outlinewidth": 0,
              "ticks": ""
             }
            },
            "type": "scattercarpet"
           }
          ],
          "scattergeo": [
           {
            "marker": {
             "colorbar": {
              "outlinewidth": 0,
              "ticks": ""
             }
            },
            "type": "scattergeo"
           }
          ],
          "scattergl": [
           {
            "marker": {
             "line": {
              "color": "#283442"
             }
            },
            "type": "scattergl"
           }
          ],
          "scattermap": [
           {
            "marker": {
             "colorbar": {
              "outlinewidth": 0,
              "ticks": ""
             }
            },
            "type": "scattermap"
           }
          ],
          "scattermapbox": [
           {
            "marker": {
             "colorbar": {
              "outlinewidth": 0,
              "ticks": ""
             }
            },
            "type": "scattermapbox"
           }
          ],
          "scatterpolar": [
           {
            "marker": {
             "colorbar": {
              "outlinewidth": 0,
              "ticks": ""
             }
            },
            "type": "scatterpolar"
           }
          ],
          "scatterpolargl": [
           {
            "marker": {
             "colorbar": {
              "outlinewidth": 0,
              "ticks": ""
             }
            },
            "type": "scatterpolargl"
           }
          ],
          "scatterternary": [
           {
            "marker": {
             "colorbar": {
              "outlinewidth": 0,
              "ticks": ""
             }
            },
            "type": "scatterternary"
           }
          ],
          "surface": [
           {
            "colorbar": {
             "outlinewidth": 0,
             "ticks": ""
            },
            "colorscale": [
             [
              0,
              "#0d0887"
             ],
             [
              0.1111111111111111,
              "#46039f"
             ],
             [
              0.2222222222222222,
              "#7201a8"
             ],
             [
              0.3333333333333333,
              "#9c179e"
             ],
             [
              0.4444444444444444,
              "#bd3786"
             ],
             [
              0.5555555555555556,
              "#d8576b"
             ],
             [
              0.6666666666666666,
              "#ed7953"
             ],
             [
              0.7777777777777778,
              "#fb9f3a"
             ],
             [
              0.8888888888888888,
              "#fdca26"
             ],
             [
              1,
              "#f0f921"
             ]
            ],
            "type": "surface"
           }
          ],
          "table": [
           {
            "cells": {
             "fill": {
              "color": "#506784"
             },
             "line": {
              "color": "rgb(17,17,17)"
             }
            },
            "header": {
             "fill": {
              "color": "#2a3f5f"
             },
             "line": {
              "color": "rgb(17,17,17)"
             }
            },
            "type": "table"
           }
          ]
         },
         "layout": {
          "annotationdefaults": {
           "arrowcolor": "#f2f5fa",
           "arrowhead": 0,
           "arrowwidth": 1
          },
          "autotypenumbers": "strict",
          "coloraxis": {
           "colorbar": {
            "outlinewidth": 0,
            "ticks": ""
           }
          },
          "colorscale": {
           "diverging": [
            [
             0,
             "#8e0152"
            ],
            [
             0.1,
             "#c51b7d"
            ],
            [
             0.2,
             "#de77ae"
            ],
            [
             0.3,
             "#f1b6da"
            ],
            [
             0.4,
             "#fde0ef"
            ],
            [
             0.5,
             "#f7f7f7"
            ],
            [
             0.6,
             "#e6f5d0"
            ],
            [
             0.7,
             "#b8e186"
            ],
            [
             0.8,
             "#7fbc41"
            ],
            [
             0.9,
             "#4d9221"
            ],
            [
             1,
             "#276419"
            ]
           ],
           "sequential": [
            [
             0,
             "#0d0887"
            ],
            [
             0.1111111111111111,
             "#46039f"
            ],
            [
             0.2222222222222222,
             "#7201a8"
            ],
            [
             0.3333333333333333,
             "#9c179e"
            ],
            [
             0.4444444444444444,
             "#bd3786"
            ],
            [
             0.5555555555555556,
             "#d8576b"
            ],
            [
             0.6666666666666666,
             "#ed7953"
            ],
            [
             0.7777777777777778,
             "#fb9f3a"
            ],
            [
             0.8888888888888888,
             "#fdca26"
            ],
            [
             1,
             "#f0f921"
            ]
           ],
           "sequentialminus": [
            [
             0,
             "#0d0887"
            ],
            [
             0.1111111111111111,
             "#46039f"
            ],
            [
             0.2222222222222222,
             "#7201a8"
            ],
            [
             0.3333333333333333,
             "#9c179e"
            ],
            [
             0.4444444444444444,
             "#bd3786"
            ],
            [
             0.5555555555555556,
             "#d8576b"
            ],
            [
             0.6666666666666666,
             "#ed7953"
            ],
            [
             0.7777777777777778,
             "#fb9f3a"
            ],
            [
             0.8888888888888888,
             "#fdca26"
            ],
            [
             1,
             "#f0f921"
            ]
           ]
          },
          "colorway": [
           "#636efa",
           "#EF553B",
           "#00cc96",
           "#ab63fa",
           "#FFA15A",
           "#19d3f3",
           "#FF6692",
           "#B6E880",
           "#FF97FF",
           "#FECB52"
          ],
          "font": {
           "color": "#f2f5fa"
          },
          "geo": {
           "bgcolor": "rgb(17,17,17)",
           "lakecolor": "rgb(17,17,17)",
           "landcolor": "rgb(17,17,17)",
           "showlakes": true,
           "showland": true,
           "subunitcolor": "#506784"
          },
          "hoverlabel": {
           "align": "left"
          },
          "hovermode": "closest",
          "mapbox": {
           "style": "dark"
          },
          "paper_bgcolor": "rgb(17,17,17)",
          "plot_bgcolor": "rgb(17,17,17)",
          "polar": {
           "angularaxis": {
            "gridcolor": "#506784",
            "linecolor": "#506784",
            "ticks": ""
           },
           "bgcolor": "rgb(17,17,17)",
           "radialaxis": {
            "gridcolor": "#506784",
            "linecolor": "#506784",
            "ticks": ""
           }
          },
          "scene": {
           "xaxis": {
            "backgroundcolor": "rgb(17,17,17)",
            "gridcolor": "#506784",
            "gridwidth": 2,
            "linecolor": "#506784",
            "showbackground": true,
            "ticks": "",
            "zerolinecolor": "#C8D4E3"
           },
           "yaxis": {
            "backgroundcolor": "rgb(17,17,17)",
            "gridcolor": "#506784",
            "gridwidth": 2,
            "linecolor": "#506784",
            "showbackground": true,
            "ticks": "",
            "zerolinecolor": "#C8D4E3"
           },
           "zaxis": {
            "backgroundcolor": "rgb(17,17,17)",
            "gridcolor": "#506784",
            "gridwidth": 2,
            "linecolor": "#506784",
            "showbackground": true,
            "ticks": "",
            "zerolinecolor": "#C8D4E3"
           }
          },
          "shapedefaults": {
           "line": {
            "color": "#f2f5fa"
           }
          },
          "sliderdefaults": {
           "bgcolor": "#C8D4E3",
           "bordercolor": "rgb(17,17,17)",
           "borderwidth": 1,
           "tickwidth": 0
          },
          "ternary": {
           "aaxis": {
            "gridcolor": "#506784",
            "linecolor": "#506784",
            "ticks": ""
           },
           "baxis": {
            "gridcolor": "#506784",
            "linecolor": "#506784",
            "ticks": ""
           },
           "bgcolor": "rgb(17,17,17)",
           "caxis": {
            "gridcolor": "#506784",
            "linecolor": "#506784",
            "ticks": ""
           }
          },
          "title": {
           "x": 0.05
          },
          "updatemenudefaults": {
           "bgcolor": "#506784",
           "borderwidth": 0
          },
          "xaxis": {
           "automargin": true,
           "gridcolor": "#283442",
           "linecolor": "#506784",
           "ticks": "",
           "title": {
            "standoff": 15
           },
           "zerolinecolor": "#283442",
           "zerolinewidth": 2
          },
          "yaxis": {
           "automargin": true,
           "gridcolor": "#283442",
           "linecolor": "#506784",
           "ticks": "",
           "title": {
            "standoff": 15
           },
           "zerolinecolor": "#283442",
           "zerolinewidth": 2
          }
         }
        },
        "title": {
         "text": "BTCUSDT - M - TA Chart Visualizer"
        },
        "xaxis": {
         "fixedrange": false,
         "rangeslider": {
          "visible": false
         },
         "title": {
          "text": "Time"
         }
        },
        "yaxis": {
         "fixedrange": false,
         "title": {
          "text": "Price"
         },
         "type": "log"
        }
       }
      }
     },
     "metadata": {},
     "output_type": "display_data"
    },
    {
     "name": "stdout",
     "output_type": "stream",
     "text": [
      "\n",
      "======================================================================\n",
      "📊 Visualizing Segment 6/10: BTCUSDT - M\n",
      "   Period: 2022-09-01 00:00 to 2023-02-01 00:00\n",
      "======================================================================\n",
      "Processing 6 candles for BTCUSDT at M interval\n",
      "   Middlewares: ['levels_middleware']\n"
     ]
    },
    {
     "data": {
      "application/vnd.plotly.v1+json": {
       "config": {
        "plotlyServerURL": "https://plot.ly"
       },
       "data": [
        {
         "close": {
          "bdata": "AAAAAGD00kAAAAAAAADUQAAAAACgvtBAAAAAAGAp0EAAAAAAgJbWQJqZmZl5ltZA",
          "dtype": "f8"
         },
         "high": {
          "bdata": "AAAAAIBC1kAAAAAAAJvUQAAAAACA99RAAAAAAMDy0UAAAAAAgGfXQGZmZmYGtNhA",
          "dtype": "f8"
         },
         "low": {
          "bdata": "AAAAAACt0UAAAAAAwKXRQAAAAAAAKM5AAAAAAIClz0AAAAAAwB/QQAAAAADg09RA",
          "dtype": "f8"
         },
         "name": "Candlestick",
         "open": {
          "bdata": "AAAAAKCU00AAAAAAYPTSQAAAAAAAANRAAAAAAKC+0EAAAAAAYCnQQAAAAACAltZA",
          "dtype": "f8"
         },
         "showlegend": false,
         "type": "candlestick",
         "x": [
          "2022-09-01T00:00:00.000000000",
          "2022-10-01T00:00:00.000000000",
          "2022-11-01T00:00:00.000000000",
          "2022-12-01T00:00:00.000000000",
          "2023-01-01T00:00:00.000000000",
          "2023-02-01T00:00:00.000000000"
         ]
        },
        {
         "line": {
          "color": "orange",
          "dash": "dash",
          "width": 2
         },
         "mode": "lines",
         "name": "line_close_M",
         "showlegend": true,
         "type": "scatter",
         "x": [
          "2022-12-01T00:00:00",
          "2023-02-01T00:00:00"
         ],
         "y": [
          16549.5,
          16549.5
         ]
        },
        {
         "line": {
          "color": "orange",
          "dash": "dash",
          "width": 2
         },
         "mode": "lines",
         "name": "line_close_M",
         "showlegend": true,
         "type": "scatter",
         "x": [
          "2023-01-01T00:00:00",
          "2023-02-01T00:00:00"
         ],
         "y": [
          23130,
          23130
         ]
        },
        {
         "line": {
          "color": "orange",
          "dash": "dash",
          "width": 2
         },
         "mode": "lines",
         "name": "max_level_M",
         "showlegend": true,
         "type": "scatter",
         "x": [
          "2022-09-01T00:00:00",
          "2023-02-01T00:00:00"
         ],
         "y": [
          25296.1,
          25296.1
         ]
        },
        {
         "line": {
          "color": "orange",
          "dash": "dash",
          "width": 2
         },
         "mode": "lines",
         "name": "min_level_M",
         "showlegend": true,
         "type": "scatter",
         "x": [
          "2022-09-01T00:00:00",
          "2023-02-01T00:00:00"
         ],
         "y": [
          15440,
          15440
         ]
        }
       ],
       "layout": {
        "height": 800,
        "showlegend": false,
        "template": {
         "data": {
          "bar": [
           {
            "error_x": {
             "color": "#f2f5fa"
            },
            "error_y": {
             "color": "#f2f5fa"
            },
            "marker": {
             "line": {
              "color": "rgb(17,17,17)",
              "width": 0.5
             },
             "pattern": {
              "fillmode": "overlay",
              "size": 10,
              "solidity": 0.2
             }
            },
            "type": "bar"
           }
          ],
          "barpolar": [
           {
            "marker": {
             "line": {
              "color": "rgb(17,17,17)",
              "width": 0.5
             },
             "pattern": {
              "fillmode": "overlay",
              "size": 10,
              "solidity": 0.2
             }
            },
            "type": "barpolar"
           }
          ],
          "carpet": [
           {
            "aaxis": {
             "endlinecolor": "#A2B1C6",
             "gridcolor": "#506784",
             "linecolor": "#506784",
             "minorgridcolor": "#506784",
             "startlinecolor": "#A2B1C6"
            },
            "baxis": {
             "endlinecolor": "#A2B1C6",
             "gridcolor": "#506784",
             "linecolor": "#506784",
             "minorgridcolor": "#506784",
             "startlinecolor": "#A2B1C6"
            },
            "type": "carpet"
           }
          ],
          "choropleth": [
           {
            "colorbar": {
             "outlinewidth": 0,
             "ticks": ""
            },
            "type": "choropleth"
           }
          ],
          "contour": [
           {
            "colorbar": {
             "outlinewidth": 0,
             "ticks": ""
            },
            "colorscale": [
             [
              0,
              "#0d0887"
             ],
             [
              0.1111111111111111,
              "#46039f"
             ],
             [
              0.2222222222222222,
              "#7201a8"
             ],
             [
              0.3333333333333333,
              "#9c179e"
             ],
             [
              0.4444444444444444,
              "#bd3786"
             ],
             [
              0.5555555555555556,
              "#d8576b"
             ],
             [
              0.6666666666666666,
              "#ed7953"
             ],
             [
              0.7777777777777778,
              "#fb9f3a"
             ],
             [
              0.8888888888888888,
              "#fdca26"
             ],
             [
              1,
              "#f0f921"
             ]
            ],
            "type": "contour"
           }
          ],
          "contourcarpet": [
           {
            "colorbar": {
             "outlinewidth": 0,
             "ticks": ""
            },
            "type": "contourcarpet"
           }
          ],
          "heatmap": [
           {
            "colorbar": {
             "outlinewidth": 0,
             "ticks": ""
            },
            "colorscale": [
             [
              0,
              "#0d0887"
             ],
             [
              0.1111111111111111,
              "#46039f"
             ],
             [
              0.2222222222222222,
              "#7201a8"
             ],
             [
              0.3333333333333333,
              "#9c179e"
             ],
             [
              0.4444444444444444,
              "#bd3786"
             ],
             [
              0.5555555555555556,
              "#d8576b"
             ],
             [
              0.6666666666666666,
              "#ed7953"
             ],
             [
              0.7777777777777778,
              "#fb9f3a"
             ],
             [
              0.8888888888888888,
              "#fdca26"
             ],
             [
              1,
              "#f0f921"
             ]
            ],
            "type": "heatmap"
           }
          ],
          "histogram": [
           {
            "marker": {
             "pattern": {
              "fillmode": "overlay",
              "size": 10,
              "solidity": 0.2
             }
            },
            "type": "histogram"
           }
          ],
          "histogram2d": [
           {
            "colorbar": {
             "outlinewidth": 0,
             "ticks": ""
            },
            "colorscale": [
             [
              0,
              "#0d0887"
             ],
             [
              0.1111111111111111,
              "#46039f"
             ],
             [
              0.2222222222222222,
              "#7201a8"
             ],
             [
              0.3333333333333333,
              "#9c179e"
             ],
             [
              0.4444444444444444,
              "#bd3786"
             ],
             [
              0.5555555555555556,
              "#d8576b"
             ],
             [
              0.6666666666666666,
              "#ed7953"
             ],
             [
              0.7777777777777778,
              "#fb9f3a"
             ],
             [
              0.8888888888888888,
              "#fdca26"
             ],
             [
              1,
              "#f0f921"
             ]
            ],
            "type": "histogram2d"
           }
          ],
          "histogram2dcontour": [
           {
            "colorbar": {
             "outlinewidth": 0,
             "ticks": ""
            },
            "colorscale": [
             [
              0,
              "#0d0887"
             ],
             [
              0.1111111111111111,
              "#46039f"
             ],
             [
              0.2222222222222222,
              "#7201a8"
             ],
             [
              0.3333333333333333,
              "#9c179e"
             ],
             [
              0.4444444444444444,
              "#bd3786"
             ],
             [
              0.5555555555555556,
              "#d8576b"
             ],
             [
              0.6666666666666666,
              "#ed7953"
             ],
             [
              0.7777777777777778,
              "#fb9f3a"
             ],
             [
              0.8888888888888888,
              "#fdca26"
             ],
             [
              1,
              "#f0f921"
             ]
            ],
            "type": "histogram2dcontour"
           }
          ],
          "mesh3d": [
           {
            "colorbar": {
             "outlinewidth": 0,
             "ticks": ""
            },
            "type": "mesh3d"
           }
          ],
          "parcoords": [
           {
            "line": {
             "colorbar": {
              "outlinewidth": 0,
              "ticks": ""
             }
            },
            "type": "parcoords"
           }
          ],
          "pie": [
           {
            "automargin": true,
            "type": "pie"
           }
          ],
          "scatter": [
           {
            "marker": {
             "line": {
              "color": "#283442"
             }
            },
            "type": "scatter"
           }
          ],
          "scatter3d": [
           {
            "line": {
             "colorbar": {
              "outlinewidth": 0,
              "ticks": ""
             }
            },
            "marker": {
             "colorbar": {
              "outlinewidth": 0,
              "ticks": ""
             }
            },
            "type": "scatter3d"
           }
          ],
          "scattercarpet": [
           {
            "marker": {
             "colorbar": {
              "outlinewidth": 0,
              "ticks": ""
             }
            },
            "type": "scattercarpet"
           }
          ],
          "scattergeo": [
           {
            "marker": {
             "colorbar": {
              "outlinewidth": 0,
              "ticks": ""
             }
            },
            "type": "scattergeo"
           }
          ],
          "scattergl": [
           {
            "marker": {
             "line": {
              "color": "#283442"
             }
            },
            "type": "scattergl"
           }
          ],
          "scattermap": [
           {
            "marker": {
             "colorbar": {
              "outlinewidth": 0,
              "ticks": ""
             }
            },
            "type": "scattermap"
           }
          ],
          "scattermapbox": [
           {
            "marker": {
             "colorbar": {
              "outlinewidth": 0,
              "ticks": ""
             }
            },
            "type": "scattermapbox"
           }
          ],
          "scatterpolar": [
           {
            "marker": {
             "colorbar": {
              "outlinewidth": 0,
              "ticks": ""
             }
            },
            "type": "scatterpolar"
           }
          ],
          "scatterpolargl": [
           {
            "marker": {
             "colorbar": {
              "outlinewidth": 0,
              "ticks": ""
             }
            },
            "type": "scatterpolargl"
           }
          ],
          "scatterternary": [
           {
            "marker": {
             "colorbar": {
              "outlinewidth": 0,
              "ticks": ""
             }
            },
            "type": "scatterternary"
           }
          ],
          "surface": [
           {
            "colorbar": {
             "outlinewidth": 0,
             "ticks": ""
            },
            "colorscale": [
             [
              0,
              "#0d0887"
             ],
             [
              0.1111111111111111,
              "#46039f"
             ],
             [
              0.2222222222222222,
              "#7201a8"
             ],
             [
              0.3333333333333333,
              "#9c179e"
             ],
             [
              0.4444444444444444,
              "#bd3786"
             ],
             [
              0.5555555555555556,
              "#d8576b"
             ],
             [
              0.6666666666666666,
              "#ed7953"
             ],
             [
              0.7777777777777778,
              "#fb9f3a"
             ],
             [
              0.8888888888888888,
              "#fdca26"
             ],
             [
              1,
              "#f0f921"
             ]
            ],
            "type": "surface"
           }
          ],
          "table": [
           {
            "cells": {
             "fill": {
              "color": "#506784"
             },
             "line": {
              "color": "rgb(17,17,17)"
             }
            },
            "header": {
             "fill": {
              "color": "#2a3f5f"
             },
             "line": {
              "color": "rgb(17,17,17)"
             }
            },
            "type": "table"
           }
          ]
         },
         "layout": {
          "annotationdefaults": {
           "arrowcolor": "#f2f5fa",
           "arrowhead": 0,
           "arrowwidth": 1
          },
          "autotypenumbers": "strict",
          "coloraxis": {
           "colorbar": {
            "outlinewidth": 0,
            "ticks": ""
           }
          },
          "colorscale": {
           "diverging": [
            [
             0,
             "#8e0152"
            ],
            [
             0.1,
             "#c51b7d"
            ],
            [
             0.2,
             "#de77ae"
            ],
            [
             0.3,
             "#f1b6da"
            ],
            [
             0.4,
             "#fde0ef"
            ],
            [
             0.5,
             "#f7f7f7"
            ],
            [
             0.6,
             "#e6f5d0"
            ],
            [
             0.7,
             "#b8e186"
            ],
            [
             0.8,
             "#7fbc41"
            ],
            [
             0.9,
             "#4d9221"
            ],
            [
             1,
             "#276419"
            ]
           ],
           "sequential": [
            [
             0,
             "#0d0887"
            ],
            [
             0.1111111111111111,
             "#46039f"
            ],
            [
             0.2222222222222222,
             "#7201a8"
            ],
            [
             0.3333333333333333,
             "#9c179e"
            ],
            [
             0.4444444444444444,
             "#bd3786"
            ],
            [
             0.5555555555555556,
             "#d8576b"
            ],
            [
             0.6666666666666666,
             "#ed7953"
            ],
            [
             0.7777777777777778,
             "#fb9f3a"
            ],
            [
             0.8888888888888888,
             "#fdca26"
            ],
            [
             1,
             "#f0f921"
            ]
           ],
           "sequentialminus": [
            [
             0,
             "#0d0887"
            ],
            [
             0.1111111111111111,
             "#46039f"
            ],
            [
             0.2222222222222222,
             "#7201a8"
            ],
            [
             0.3333333333333333,
             "#9c179e"
            ],
            [
             0.4444444444444444,
             "#bd3786"
            ],
            [
             0.5555555555555556,
             "#d8576b"
            ],
            [
             0.6666666666666666,
             "#ed7953"
            ],
            [
             0.7777777777777778,
             "#fb9f3a"
            ],
            [
             0.8888888888888888,
             "#fdca26"
            ],
            [
             1,
             "#f0f921"
            ]
           ]
          },
          "colorway": [
           "#636efa",
           "#EF553B",
           "#00cc96",
           "#ab63fa",
           "#FFA15A",
           "#19d3f3",
           "#FF6692",
           "#B6E880",
           "#FF97FF",
           "#FECB52"
          ],
          "font": {
           "color": "#f2f5fa"
          },
          "geo": {
           "bgcolor": "rgb(17,17,17)",
           "lakecolor": "rgb(17,17,17)",
           "landcolor": "rgb(17,17,17)",
           "showlakes": true,
           "showland": true,
           "subunitcolor": "#506784"
          },
          "hoverlabel": {
           "align": "left"
          },
          "hovermode": "closest",
          "mapbox": {
           "style": "dark"
          },
          "paper_bgcolor": "rgb(17,17,17)",
          "plot_bgcolor": "rgb(17,17,17)",
          "polar": {
           "angularaxis": {
            "gridcolor": "#506784",
            "linecolor": "#506784",
            "ticks": ""
           },
           "bgcolor": "rgb(17,17,17)",
           "radialaxis": {
            "gridcolor": "#506784",
            "linecolor": "#506784",
            "ticks": ""
           }
          },
          "scene": {
           "xaxis": {
            "backgroundcolor": "rgb(17,17,17)",
            "gridcolor": "#506784",
            "gridwidth": 2,
            "linecolor": "#506784",
            "showbackground": true,
            "ticks": "",
            "zerolinecolor": "#C8D4E3"
           },
           "yaxis": {
            "backgroundcolor": "rgb(17,17,17)",
            "gridcolor": "#506784",
            "gridwidth": 2,
            "linecolor": "#506784",
            "showbackground": true,
            "ticks": "",
            "zerolinecolor": "#C8D4E3"
           },
           "zaxis": {
            "backgroundcolor": "rgb(17,17,17)",
            "gridcolor": "#506784",
            "gridwidth": 2,
            "linecolor": "#506784",
            "showbackground": true,
            "ticks": "",
            "zerolinecolor": "#C8D4E3"
           }
          },
          "shapedefaults": {
           "line": {
            "color": "#f2f5fa"
           }
          },
          "sliderdefaults": {
           "bgcolor": "#C8D4E3",
           "bordercolor": "rgb(17,17,17)",
           "borderwidth": 1,
           "tickwidth": 0
          },
          "ternary": {
           "aaxis": {
            "gridcolor": "#506784",
            "linecolor": "#506784",
            "ticks": ""
           },
           "baxis": {
            "gridcolor": "#506784",
            "linecolor": "#506784",
            "ticks": ""
           },
           "bgcolor": "rgb(17,17,17)",
           "caxis": {
            "gridcolor": "#506784",
            "linecolor": "#506784",
            "ticks": ""
           }
          },
          "title": {
           "x": 0.05
          },
          "updatemenudefaults": {
           "bgcolor": "#506784",
           "borderwidth": 0
          },
          "xaxis": {
           "automargin": true,
           "gridcolor": "#283442",
           "linecolor": "#506784",
           "ticks": "",
           "title": {
            "standoff": 15
           },
           "zerolinecolor": "#283442",
           "zerolinewidth": 2
          },
          "yaxis": {
           "automargin": true,
           "gridcolor": "#283442",
           "linecolor": "#506784",
           "ticks": "",
           "title": {
            "standoff": 15
           },
           "zerolinecolor": "#283442",
           "zerolinewidth": 2
          }
         }
        },
        "title": {
         "text": "BTCUSDT - M - TA Chart Visualizer"
        },
        "xaxis": {
         "fixedrange": false,
         "rangeslider": {
          "visible": false
         },
         "title": {
          "text": "Time"
         }
        },
        "yaxis": {
         "fixedrange": false,
         "title": {
          "text": "Price"
         },
         "type": "log"
        }
       }
      }
     },
     "metadata": {},
     "output_type": "display_data"
    },
    {
     "name": "stdout",
     "output_type": "stream",
     "text": [
      "\n",
      "======================================================================\n",
      "📊 Visualizing Segment 7/10: BTCUSDT - M\n",
      "   Period: 2023-03-01 00:00 to 2023-08-01 00:00\n",
      "======================================================================\n",
      "Processing 6 candles for BTCUSDT at M interval\n",
      "   Middlewares: ['levels_middleware']\n"
     ]
    },
    {
     "data": {
      "application/vnd.plotly.v1+json": {
       "config": {
        "plotlyServerURL": "https://plot.ly"
       },
       "data": [
        {
         "close": {
          "bdata": "ZmZmZgbJ20AAAAAAQIjcQAAAAADAj9pAAAAAAGDA3UCamZmZGYrcQGZmZmYGUdlA",
          "dtype": "f8"
         },
         "high": {
          "bdata": "zczMzEyD3EDNzMzMbFXeQAAAAABAIt1AAAAAAAC13kCamZmZ+RjfQDMzMzNzjt1A",
          "dtype": "f8"
         },
         "low": {
          "bdata": "AAAAAMAT00AAAAAAQE3aQAAAAAAAKdlAAAAAAOAy2EAAAAAAwCzcQJqZmZk5otdA",
          "dtype": "f8"
         },
         "name": "Candlestick",
         "open": {
          "bdata": "mpmZmXmW1kBmZmZmBsnbQAAAAABAiNxAAAAAAMCP2kAAAAAAYMDdQJqZmZkZitxA",
          "dtype": "f8"
         },
         "showlegend": false,
         "type": "candlestick",
         "x": [
          "2023-03-01T00:00:00.000000000",
          "2023-04-01T00:00:00.000000000",
          "2023-05-01T00:00:00.000000000",
          "2023-06-01T00:00:00.000000000",
          "2023-07-01T00:00:00.000000000",
          "2023-08-01T00:00:00.000000000"
         ]
        },
        {
         "line": {
          "color": "orange",
          "dash": "dash",
          "width": 2
         },
         "mode": "lines",
         "name": "line_close_M",
         "showlegend": true,
         "type": "scatter",
         "x": [
          "2023-06-01T00:00:00",
          "2023-08-01T00:00:00"
         ],
         "y": [
          30465.5,
          30465.5
         ]
        },
        {
         "line": {
          "color": "orange",
          "dash": "dash",
          "width": 2
         },
         "mode": "lines",
         "name": "max_level_M",
         "showlegend": true,
         "type": "scatter",
         "x": [
          "2023-03-01T00:00:00",
          "2023-08-01T00:00:00"
         ],
         "y": [
          31843.9,
          31843.9
         ]
        },
        {
         "line": {
          "color": "orange",
          "dash": "dash",
          "width": 2
         },
         "mode": "lines",
         "name": "min_level_M",
         "showlegend": true,
         "type": "scatter",
         "x": [
          "2023-03-01T00:00:00",
          "2023-08-01T00:00:00"
         ],
         "y": [
          19535,
          19535
         ]
        }
       ],
       "layout": {
        "height": 800,
        "showlegend": false,
        "template": {
         "data": {
          "bar": [
           {
            "error_x": {
             "color": "#f2f5fa"
            },
            "error_y": {
             "color": "#f2f5fa"
            },
            "marker": {
             "line": {
              "color": "rgb(17,17,17)",
              "width": 0.5
             },
             "pattern": {
              "fillmode": "overlay",
              "size": 10,
              "solidity": 0.2
             }
            },
            "type": "bar"
           }
          ],
          "barpolar": [
           {
            "marker": {
             "line": {
              "color": "rgb(17,17,17)",
              "width": 0.5
             },
             "pattern": {
              "fillmode": "overlay",
              "size": 10,
              "solidity": 0.2
             }
            },
            "type": "barpolar"
           }
          ],
          "carpet": [
           {
            "aaxis": {
             "endlinecolor": "#A2B1C6",
             "gridcolor": "#506784",
             "linecolor": "#506784",
             "minorgridcolor": "#506784",
             "startlinecolor": "#A2B1C6"
            },
            "baxis": {
             "endlinecolor": "#A2B1C6",
             "gridcolor": "#506784",
             "linecolor": "#506784",
             "minorgridcolor": "#506784",
             "startlinecolor": "#A2B1C6"
            },
            "type": "carpet"
           }
          ],
          "choropleth": [
           {
            "colorbar": {
             "outlinewidth": 0,
             "ticks": ""
            },
            "type": "choropleth"
           }
          ],
          "contour": [
           {
            "colorbar": {
             "outlinewidth": 0,
             "ticks": ""
            },
            "colorscale": [
             [
              0,
              "#0d0887"
             ],
             [
              0.1111111111111111,
              "#46039f"
             ],
             [
              0.2222222222222222,
              "#7201a8"
             ],
             [
              0.3333333333333333,
              "#9c179e"
             ],
             [
              0.4444444444444444,
              "#bd3786"
             ],
             [
              0.5555555555555556,
              "#d8576b"
             ],
             [
              0.6666666666666666,
              "#ed7953"
             ],
             [
              0.7777777777777778,
              "#fb9f3a"
             ],
             [
              0.8888888888888888,
              "#fdca26"
             ],
             [
              1,
              "#f0f921"
             ]
            ],
            "type": "contour"
           }
          ],
          "contourcarpet": [
           {
            "colorbar": {
             "outlinewidth": 0,
             "ticks": ""
            },
            "type": "contourcarpet"
           }
          ],
          "heatmap": [
           {
            "colorbar": {
             "outlinewidth": 0,
             "ticks": ""
            },
            "colorscale": [
             [
              0,
              "#0d0887"
             ],
             [
              0.1111111111111111,
              "#46039f"
             ],
             [
              0.2222222222222222,
              "#7201a8"
             ],
             [
              0.3333333333333333,
              "#9c179e"
             ],
             [
              0.4444444444444444,
              "#bd3786"
             ],
             [
              0.5555555555555556,
              "#d8576b"
             ],
             [
              0.6666666666666666,
              "#ed7953"
             ],
             [
              0.7777777777777778,
              "#fb9f3a"
             ],
             [
              0.8888888888888888,
              "#fdca26"
             ],
             [
              1,
              "#f0f921"
             ]
            ],
            "type": "heatmap"
           }
          ],
          "histogram": [
           {
            "marker": {
             "pattern": {
              "fillmode": "overlay",
              "size": 10,
              "solidity": 0.2
             }
            },
            "type": "histogram"
           }
          ],
          "histogram2d": [
           {
            "colorbar": {
             "outlinewidth": 0,
             "ticks": ""
            },
            "colorscale": [
             [
              0,
              "#0d0887"
             ],
             [
              0.1111111111111111,
              "#46039f"
             ],
             [
              0.2222222222222222,
              "#7201a8"
             ],
             [
              0.3333333333333333,
              "#9c179e"
             ],
             [
              0.4444444444444444,
              "#bd3786"
             ],
             [
              0.5555555555555556,
              "#d8576b"
             ],
             [
              0.6666666666666666,
              "#ed7953"
             ],
             [
              0.7777777777777778,
              "#fb9f3a"
             ],
             [
              0.8888888888888888,
              "#fdca26"
             ],
             [
              1,
              "#f0f921"
             ]
            ],
            "type": "histogram2d"
           }
          ],
          "histogram2dcontour": [
           {
            "colorbar": {
             "outlinewidth": 0,
             "ticks": ""
            },
            "colorscale": [
             [
              0,
              "#0d0887"
             ],
             [
              0.1111111111111111,
              "#46039f"
             ],
             [
              0.2222222222222222,
              "#7201a8"
             ],
             [
              0.3333333333333333,
              "#9c179e"
             ],
             [
              0.4444444444444444,
              "#bd3786"
             ],
             [
              0.5555555555555556,
              "#d8576b"
             ],
             [
              0.6666666666666666,
              "#ed7953"
             ],
             [
              0.7777777777777778,
              "#fb9f3a"
             ],
             [
              0.8888888888888888,
              "#fdca26"
             ],
             [
              1,
              "#f0f921"
             ]
            ],
            "type": "histogram2dcontour"
           }
          ],
          "mesh3d": [
           {
            "colorbar": {
             "outlinewidth": 0,
             "ticks": ""
            },
            "type": "mesh3d"
           }
          ],
          "parcoords": [
           {
            "line": {
             "colorbar": {
              "outlinewidth": 0,
              "ticks": ""
             }
            },
            "type": "parcoords"
           }
          ],
          "pie": [
           {
            "automargin": true,
            "type": "pie"
           }
          ],
          "scatter": [
           {
            "marker": {
             "line": {
              "color": "#283442"
             }
            },
            "type": "scatter"
           }
          ],
          "scatter3d": [
           {
            "line": {
             "colorbar": {
              "outlinewidth": 0,
              "ticks": ""
             }
            },
            "marker": {
             "colorbar": {
              "outlinewidth": 0,
              "ticks": ""
             }
            },
            "type": "scatter3d"
           }
          ],
          "scattercarpet": [
           {
            "marker": {
             "colorbar": {
              "outlinewidth": 0,
              "ticks": ""
             }
            },
            "type": "scattercarpet"
           }
          ],
          "scattergeo": [
           {
            "marker": {
             "colorbar": {
              "outlinewidth": 0,
              "ticks": ""
             }
            },
            "type": "scattergeo"
           }
          ],
          "scattergl": [
           {
            "marker": {
             "line": {
              "color": "#283442"
             }
            },
            "type": "scattergl"
           }
          ],
          "scattermap": [
           {
            "marker": {
             "colorbar": {
              "outlinewidth": 0,
              "ticks": ""
             }
            },
            "type": "scattermap"
           }
          ],
          "scattermapbox": [
           {
            "marker": {
             "colorbar": {
              "outlinewidth": 0,
              "ticks": ""
             }
            },
            "type": "scattermapbox"
           }
          ],
          "scatterpolar": [
           {
            "marker": {
             "colorbar": {
              "outlinewidth": 0,
              "ticks": ""
             }
            },
            "type": "scatterpolar"
           }
          ],
          "scatterpolargl": [
           {
            "marker": {
             "colorbar": {
              "outlinewidth": 0,
              "ticks": ""
             }
            },
            "type": "scatterpolargl"
           }
          ],
          "scatterternary": [
           {
            "marker": {
             "colorbar": {
              "outlinewidth": 0,
              "ticks": ""
             }
            },
            "type": "scatterternary"
           }
          ],
          "surface": [
           {
            "colorbar": {
             "outlinewidth": 0,
             "ticks": ""
            },
            "colorscale": [
             [
              0,
              "#0d0887"
             ],
             [
              0.1111111111111111,
              "#46039f"
             ],
             [
              0.2222222222222222,
              "#7201a8"
             ],
             [
              0.3333333333333333,
              "#9c179e"
             ],
             [
              0.4444444444444444,
              "#bd3786"
             ],
             [
              0.5555555555555556,
              "#d8576b"
             ],
             [
              0.6666666666666666,
              "#ed7953"
             ],
             [
              0.7777777777777778,
              "#fb9f3a"
             ],
             [
              0.8888888888888888,
              "#fdca26"
             ],
             [
              1,
              "#f0f921"
             ]
            ],
            "type": "surface"
           }
          ],
          "table": [
           {
            "cells": {
             "fill": {
              "color": "#506784"
             },
             "line": {
              "color": "rgb(17,17,17)"
             }
            },
            "header": {
             "fill": {
              "color": "#2a3f5f"
             },
             "line": {
              "color": "rgb(17,17,17)"
             }
            },
            "type": "table"
           }
          ]
         },
         "layout": {
          "annotationdefaults": {
           "arrowcolor": "#f2f5fa",
           "arrowhead": 0,
           "arrowwidth": 1
          },
          "autotypenumbers": "strict",
          "coloraxis": {
           "colorbar": {
            "outlinewidth": 0,
            "ticks": ""
           }
          },
          "colorscale": {
           "diverging": [
            [
             0,
             "#8e0152"
            ],
            [
             0.1,
             "#c51b7d"
            ],
            [
             0.2,
             "#de77ae"
            ],
            [
             0.3,
             "#f1b6da"
            ],
            [
             0.4,
             "#fde0ef"
            ],
            [
             0.5,
             "#f7f7f7"
            ],
            [
             0.6,
             "#e6f5d0"
            ],
            [
             0.7,
             "#b8e186"
            ],
            [
             0.8,
             "#7fbc41"
            ],
            [
             0.9,
             "#4d9221"
            ],
            [
             1,
             "#276419"
            ]
           ],
           "sequential": [
            [
             0,
             "#0d0887"
            ],
            [
             0.1111111111111111,
             "#46039f"
            ],
            [
             0.2222222222222222,
             "#7201a8"
            ],
            [
             0.3333333333333333,
             "#9c179e"
            ],
            [
             0.4444444444444444,
             "#bd3786"
            ],
            [
             0.5555555555555556,
             "#d8576b"
            ],
            [
             0.6666666666666666,
             "#ed7953"
            ],
            [
             0.7777777777777778,
             "#fb9f3a"
            ],
            [
             0.8888888888888888,
             "#fdca26"
            ],
            [
             1,
             "#f0f921"
            ]
           ],
           "sequentialminus": [
            [
             0,
             "#0d0887"
            ],
            [
             0.1111111111111111,
             "#46039f"
            ],
            [
             0.2222222222222222,
             "#7201a8"
            ],
            [
             0.3333333333333333,
             "#9c179e"
            ],
            [
             0.4444444444444444,
             "#bd3786"
            ],
            [
             0.5555555555555556,
             "#d8576b"
            ],
            [
             0.6666666666666666,
             "#ed7953"
            ],
            [
             0.7777777777777778,
             "#fb9f3a"
            ],
            [
             0.8888888888888888,
             "#fdca26"
            ],
            [
             1,
             "#f0f921"
            ]
           ]
          },
          "colorway": [
           "#636efa",
           "#EF553B",
           "#00cc96",
           "#ab63fa",
           "#FFA15A",
           "#19d3f3",
           "#FF6692",
           "#B6E880",
           "#FF97FF",
           "#FECB52"
          ],
          "font": {
           "color": "#f2f5fa"
          },
          "geo": {
           "bgcolor": "rgb(17,17,17)",
           "lakecolor": "rgb(17,17,17)",
           "landcolor": "rgb(17,17,17)",
           "showlakes": true,
           "showland": true,
           "subunitcolor": "#506784"
          },
          "hoverlabel": {
           "align": "left"
          },
          "hovermode": "closest",
          "mapbox": {
           "style": "dark"
          },
          "paper_bgcolor": "rgb(17,17,17)",
          "plot_bgcolor": "rgb(17,17,17)",
          "polar": {
           "angularaxis": {
            "gridcolor": "#506784",
            "linecolor": "#506784",
            "ticks": ""
           },
           "bgcolor": "rgb(17,17,17)",
           "radialaxis": {
            "gridcolor": "#506784",
            "linecolor": "#506784",
            "ticks": ""
           }
          },
          "scene": {
           "xaxis": {
            "backgroundcolor": "rgb(17,17,17)",
            "gridcolor": "#506784",
            "gridwidth": 2,
            "linecolor": "#506784",
            "showbackground": true,
            "ticks": "",
            "zerolinecolor": "#C8D4E3"
           },
           "yaxis": {
            "backgroundcolor": "rgb(17,17,17)",
            "gridcolor": "#506784",
            "gridwidth": 2,
            "linecolor": "#506784",
            "showbackground": true,
            "ticks": "",
            "zerolinecolor": "#C8D4E3"
           },
           "zaxis": {
            "backgroundcolor": "rgb(17,17,17)",
            "gridcolor": "#506784",
            "gridwidth": 2,
            "linecolor": "#506784",
            "showbackground": true,
            "ticks": "",
            "zerolinecolor": "#C8D4E3"
           }
          },
          "shapedefaults": {
           "line": {
            "color": "#f2f5fa"
           }
          },
          "sliderdefaults": {
           "bgcolor": "#C8D4E3",
           "bordercolor": "rgb(17,17,17)",
           "borderwidth": 1,
           "tickwidth": 0
          },
          "ternary": {
           "aaxis": {
            "gridcolor": "#506784",
            "linecolor": "#506784",
            "ticks": ""
           },
           "baxis": {
            "gridcolor": "#506784",
            "linecolor": "#506784",
            "ticks": ""
           },
           "bgcolor": "rgb(17,17,17)",
           "caxis": {
            "gridcolor": "#506784",
            "linecolor": "#506784",
            "ticks": ""
           }
          },
          "title": {
           "x": 0.05
          },
          "updatemenudefaults": {
           "bgcolor": "#506784",
           "borderwidth": 0
          },
          "xaxis": {
           "automargin": true,
           "gridcolor": "#283442",
           "linecolor": "#506784",
           "ticks": "",
           "title": {
            "standoff": 15
           },
           "zerolinecolor": "#283442",
           "zerolinewidth": 2
          },
          "yaxis": {
           "automargin": true,
           "gridcolor": "#283442",
           "linecolor": "#506784",
           "ticks": "",
           "title": {
            "standoff": 15
           },
           "zerolinecolor": "#283442",
           "zerolinewidth": 2
          }
         }
        },
        "title": {
         "text": "BTCUSDT - M - TA Chart Visualizer"
        },
        "xaxis": {
         "fixedrange": false,
         "rangeslider": {
          "visible": false
         },
         "title": {
          "text": "Time"
         }
        },
        "yaxis": {
         "fixedrange": false,
         "title": {
          "text": "Price"
         },
         "type": "log"
        }
       }
      }
     },
     "metadata": {},
     "output_type": "display_data"
    },
    {
     "name": "stdout",
     "output_type": "stream",
     "text": [
      "\n",
      "======================================================================\n",
      "📊 Visualizing Segment 8/10: BTCUSDT - M\n",
      "   Period: 2023-09-01 00:00 to 2024-02-01 00:00\n",
      "======================================================================\n",
      "Processing 6 candles for BTCUSDT at M interval\n",
      "   Middlewares: ['levels_middleware']\n"
     ]
    },
    {
     "data": {
      "application/vnd.plotly.v1+json": {
       "config": {
        "plotlyServerURL": "https://plot.ly"
       },
       "data": [
        {
         "close": {
          "bdata": "AAAAAGBS2kAzMzMzY+3gQM3MzMzsa+JAmpmZmZmq5EBmZmZmFsfkQDMzMzMD4O1A",
          "dtype": "f8"
         },
         "high": {
          "bdata": "mpmZmTnX2kAAAAAA8PDhQDMzMzMD2eJAAAAAACDd5UDNzMzMzPPnQGZmZmYWfu9A",
          "dtype": "f8"
         },
         "low": {
          "bdata": "mpmZmVlF2EAAAAAAwObZQAAAAABAoeBAmpmZmZld4kAAAAAAcNDiQAAAAABwbuRA",
          "dtype": "f8"
         },
         "name": "Candlestick",
         "open": {
          "bdata": "ZmZmZgZR2UAAAAAAYFLaQDMzMzNj7eBAzczMzOxr4kCamZmZmarkQGZmZmYWx+RA",
          "dtype": "f8"
         },
         "showlegend": false,
         "type": "candlestick",
         "x": [
          "2023-09-01T00:00:00.000000000",
          "2023-10-01T00:00:00.000000000",
          "2023-11-01T00:00:00.000000000",
          "2023-12-01T00:00:00.000000000",
          "2024-01-01T00:00:00.000000000",
          "2024-02-01T00:00:00.000000000"
         ]
        },
        {
         "line": {
          "color": "orange",
          "dash": "dash",
          "width": 2
         },
         "mode": "lines",
         "name": "max_level_M",
         "showlegend": true,
         "type": "scatter",
         "x": [
          "2023-09-01T00:00:00",
          "2024-02-01T00:00:00"
         ],
         "y": [
          64496.7,
          64496.7
         ]
        },
        {
         "line": {
          "color": "orange",
          "dash": "dash",
          "width": 2
         },
         "mode": "lines",
         "name": "min_level_M",
         "showlegend": true,
         "type": "scatter",
         "x": [
          "2023-09-01T00:00:00",
          "2024-02-01T00:00:00"
         ],
         "y": [
          24853.4,
          24853.4
         ]
        }
       ],
       "layout": {
        "height": 800,
        "showlegend": false,
        "template": {
         "data": {
          "bar": [
           {
            "error_x": {
             "color": "#f2f5fa"
            },
            "error_y": {
             "color": "#f2f5fa"
            },
            "marker": {
             "line": {
              "color": "rgb(17,17,17)",
              "width": 0.5
             },
             "pattern": {
              "fillmode": "overlay",
              "size": 10,
              "solidity": 0.2
             }
            },
            "type": "bar"
           }
          ],
          "barpolar": [
           {
            "marker": {
             "line": {
              "color": "rgb(17,17,17)",
              "width": 0.5
             },
             "pattern": {
              "fillmode": "overlay",
              "size": 10,
              "solidity": 0.2
             }
            },
            "type": "barpolar"
           }
          ],
          "carpet": [
           {
            "aaxis": {
             "endlinecolor": "#A2B1C6",
             "gridcolor": "#506784",
             "linecolor": "#506784",
             "minorgridcolor": "#506784",
             "startlinecolor": "#A2B1C6"
            },
            "baxis": {
             "endlinecolor": "#A2B1C6",
             "gridcolor": "#506784",
             "linecolor": "#506784",
             "minorgridcolor": "#506784",
             "startlinecolor": "#A2B1C6"
            },
            "type": "carpet"
           }
          ],
          "choropleth": [
           {
            "colorbar": {
             "outlinewidth": 0,
             "ticks": ""
            },
            "type": "choropleth"
           }
          ],
          "contour": [
           {
            "colorbar": {
             "outlinewidth": 0,
             "ticks": ""
            },
            "colorscale": [
             [
              0,
              "#0d0887"
             ],
             [
              0.1111111111111111,
              "#46039f"
             ],
             [
              0.2222222222222222,
              "#7201a8"
             ],
             [
              0.3333333333333333,
              "#9c179e"
             ],
             [
              0.4444444444444444,
              "#bd3786"
             ],
             [
              0.5555555555555556,
              "#d8576b"
             ],
             [
              0.6666666666666666,
              "#ed7953"
             ],
             [
              0.7777777777777778,
              "#fb9f3a"
             ],
             [
              0.8888888888888888,
              "#fdca26"
             ],
             [
              1,
              "#f0f921"
             ]
            ],
            "type": "contour"
           }
          ],
          "contourcarpet": [
           {
            "colorbar": {
             "outlinewidth": 0,
             "ticks": ""
            },
            "type": "contourcarpet"
           }
          ],
          "heatmap": [
           {
            "colorbar": {
             "outlinewidth": 0,
             "ticks": ""
            },
            "colorscale": [
             [
              0,
              "#0d0887"
             ],
             [
              0.1111111111111111,
              "#46039f"
             ],
             [
              0.2222222222222222,
              "#7201a8"
             ],
             [
              0.3333333333333333,
              "#9c179e"
             ],
             [
              0.4444444444444444,
              "#bd3786"
             ],
             [
              0.5555555555555556,
              "#d8576b"
             ],
             [
              0.6666666666666666,
              "#ed7953"
             ],
             [
              0.7777777777777778,
              "#fb9f3a"
             ],
             [
              0.8888888888888888,
              "#fdca26"
             ],
             [
              1,
              "#f0f921"
             ]
            ],
            "type": "heatmap"
           }
          ],
          "histogram": [
           {
            "marker": {
             "pattern": {
              "fillmode": "overlay",
              "size": 10,
              "solidity": 0.2
             }
            },
            "type": "histogram"
           }
          ],
          "histogram2d": [
           {
            "colorbar": {
             "outlinewidth": 0,
             "ticks": ""
            },
            "colorscale": [
             [
              0,
              "#0d0887"
             ],
             [
              0.1111111111111111,
              "#46039f"
             ],
             [
              0.2222222222222222,
              "#7201a8"
             ],
             [
              0.3333333333333333,
              "#9c179e"
             ],
             [
              0.4444444444444444,
              "#bd3786"
             ],
             [
              0.5555555555555556,
              "#d8576b"
             ],
             [
              0.6666666666666666,
              "#ed7953"
             ],
             [
              0.7777777777777778,
              "#fb9f3a"
             ],
             [
              0.8888888888888888,
              "#fdca26"
             ],
             [
              1,
              "#f0f921"
             ]
            ],
            "type": "histogram2d"
           }
          ],
          "histogram2dcontour": [
           {
            "colorbar": {
             "outlinewidth": 0,
             "ticks": ""
            },
            "colorscale": [
             [
              0,
              "#0d0887"
             ],
             [
              0.1111111111111111,
              "#46039f"
             ],
             [
              0.2222222222222222,
              "#7201a8"
             ],
             [
              0.3333333333333333,
              "#9c179e"
             ],
             [
              0.4444444444444444,
              "#bd3786"
             ],
             [
              0.5555555555555556,
              "#d8576b"
             ],
             [
              0.6666666666666666,
              "#ed7953"
             ],
             [
              0.7777777777777778,
              "#fb9f3a"
             ],
             [
              0.8888888888888888,
              "#fdca26"
             ],
             [
              1,
              "#f0f921"
             ]
            ],
            "type": "histogram2dcontour"
           }
          ],
          "mesh3d": [
           {
            "colorbar": {
             "outlinewidth": 0,
             "ticks": ""
            },
            "type": "mesh3d"
           }
          ],
          "parcoords": [
           {
            "line": {
             "colorbar": {
              "outlinewidth": 0,
              "ticks": ""
             }
            },
            "type": "parcoords"
           }
          ],
          "pie": [
           {
            "automargin": true,
            "type": "pie"
           }
          ],
          "scatter": [
           {
            "marker": {
             "line": {
              "color": "#283442"
             }
            },
            "type": "scatter"
           }
          ],
          "scatter3d": [
           {
            "line": {
             "colorbar": {
              "outlinewidth": 0,
              "ticks": ""
             }
            },
            "marker": {
             "colorbar": {
              "outlinewidth": 0,
              "ticks": ""
             }
            },
            "type": "scatter3d"
           }
          ],
          "scattercarpet": [
           {
            "marker": {
             "colorbar": {
              "outlinewidth": 0,
              "ticks": ""
             }
            },
            "type": "scattercarpet"
           }
          ],
          "scattergeo": [
           {
            "marker": {
             "colorbar": {
              "outlinewidth": 0,
              "ticks": ""
             }
            },
            "type": "scattergeo"
           }
          ],
          "scattergl": [
           {
            "marker": {
             "line": {
              "color": "#283442"
             }
            },
            "type": "scattergl"
           }
          ],
          "scattermap": [
           {
            "marker": {
             "colorbar": {
              "outlinewidth": 0,
              "ticks": ""
             }
            },
            "type": "scattermap"
           }
          ],
          "scattermapbox": [
           {
            "marker": {
             "colorbar": {
              "outlinewidth": 0,
              "ticks": ""
             }
            },
            "type": "scattermapbox"
           }
          ],
          "scatterpolar": [
           {
            "marker": {
             "colorbar": {
              "outlinewidth": 0,
              "ticks": ""
             }
            },
            "type": "scatterpolar"
           }
          ],
          "scatterpolargl": [
           {
            "marker": {
             "colorbar": {
              "outlinewidth": 0,
              "ticks": ""
             }
            },
            "type": "scatterpolargl"
           }
          ],
          "scatterternary": [
           {
            "marker": {
             "colorbar": {
              "outlinewidth": 0,
              "ticks": ""
             }
            },
            "type": "scatterternary"
           }
          ],
          "surface": [
           {
            "colorbar": {
             "outlinewidth": 0,
             "ticks": ""
            },
            "colorscale": [
             [
              0,
              "#0d0887"
             ],
             [
              0.1111111111111111,
              "#46039f"
             ],
             [
              0.2222222222222222,
              "#7201a8"
             ],
             [
              0.3333333333333333,
              "#9c179e"
             ],
             [
              0.4444444444444444,
              "#bd3786"
             ],
             [
              0.5555555555555556,
              "#d8576b"
             ],
             [
              0.6666666666666666,
              "#ed7953"
             ],
             [
              0.7777777777777778,
              "#fb9f3a"
             ],
             [
              0.8888888888888888,
              "#fdca26"
             ],
             [
              1,
              "#f0f921"
             ]
            ],
            "type": "surface"
           }
          ],
          "table": [
           {
            "cells": {
             "fill": {
              "color": "#506784"
             },
             "line": {
              "color": "rgb(17,17,17)"
             }
            },
            "header": {
             "fill": {
              "color": "#2a3f5f"
             },
             "line": {
              "color": "rgb(17,17,17)"
             }
            },
            "type": "table"
           }
          ]
         },
         "layout": {
          "annotationdefaults": {
           "arrowcolor": "#f2f5fa",
           "arrowhead": 0,
           "arrowwidth": 1
          },
          "autotypenumbers": "strict",
          "coloraxis": {
           "colorbar": {
            "outlinewidth": 0,
            "ticks": ""
           }
          },
          "colorscale": {
           "diverging": [
            [
             0,
             "#8e0152"
            ],
            [
             0.1,
             "#c51b7d"
            ],
            [
             0.2,
             "#de77ae"
            ],
            [
             0.3,
             "#f1b6da"
            ],
            [
             0.4,
             "#fde0ef"
            ],
            [
             0.5,
             "#f7f7f7"
            ],
            [
             0.6,
             "#e6f5d0"
            ],
            [
             0.7,
             "#b8e186"
            ],
            [
             0.8,
             "#7fbc41"
            ],
            [
             0.9,
             "#4d9221"
            ],
            [
             1,
             "#276419"
            ]
           ],
           "sequential": [
            [
             0,
             "#0d0887"
            ],
            [
             0.1111111111111111,
             "#46039f"
            ],
            [
             0.2222222222222222,
             "#7201a8"
            ],
            [
             0.3333333333333333,
             "#9c179e"
            ],
            [
             0.4444444444444444,
             "#bd3786"
            ],
            [
             0.5555555555555556,
             "#d8576b"
            ],
            [
             0.6666666666666666,
             "#ed7953"
            ],
            [
             0.7777777777777778,
             "#fb9f3a"
            ],
            [
             0.8888888888888888,
             "#fdca26"
            ],
            [
             1,
             "#f0f921"
            ]
           ],
           "sequentialminus": [
            [
             0,
             "#0d0887"
            ],
            [
             0.1111111111111111,
             "#46039f"
            ],
            [
             0.2222222222222222,
             "#7201a8"
            ],
            [
             0.3333333333333333,
             "#9c179e"
            ],
            [
             0.4444444444444444,
             "#bd3786"
            ],
            [
             0.5555555555555556,
             "#d8576b"
            ],
            [
             0.6666666666666666,
             "#ed7953"
            ],
            [
             0.7777777777777778,
             "#fb9f3a"
            ],
            [
             0.8888888888888888,
             "#fdca26"
            ],
            [
             1,
             "#f0f921"
            ]
           ]
          },
          "colorway": [
           "#636efa",
           "#EF553B",
           "#00cc96",
           "#ab63fa",
           "#FFA15A",
           "#19d3f3",
           "#FF6692",
           "#B6E880",
           "#FF97FF",
           "#FECB52"
          ],
          "font": {
           "color": "#f2f5fa"
          },
          "geo": {
           "bgcolor": "rgb(17,17,17)",
           "lakecolor": "rgb(17,17,17)",
           "landcolor": "rgb(17,17,17)",
           "showlakes": true,
           "showland": true,
           "subunitcolor": "#506784"
          },
          "hoverlabel": {
           "align": "left"
          },
          "hovermode": "closest",
          "mapbox": {
           "style": "dark"
          },
          "paper_bgcolor": "rgb(17,17,17)",
          "plot_bgcolor": "rgb(17,17,17)",
          "polar": {
           "angularaxis": {
            "gridcolor": "#506784",
            "linecolor": "#506784",
            "ticks": ""
           },
           "bgcolor": "rgb(17,17,17)",
           "radialaxis": {
            "gridcolor": "#506784",
            "linecolor": "#506784",
            "ticks": ""
           }
          },
          "scene": {
           "xaxis": {
            "backgroundcolor": "rgb(17,17,17)",
            "gridcolor": "#506784",
            "gridwidth": 2,
            "linecolor": "#506784",
            "showbackground": true,
            "ticks": "",
            "zerolinecolor": "#C8D4E3"
           },
           "yaxis": {
            "backgroundcolor": "rgb(17,17,17)",
            "gridcolor": "#506784",
            "gridwidth": 2,
            "linecolor": "#506784",
            "showbackground": true,
            "ticks": "",
            "zerolinecolor": "#C8D4E3"
           },
           "zaxis": {
            "backgroundcolor": "rgb(17,17,17)",
            "gridcolor": "#506784",
            "gridwidth": 2,
            "linecolor": "#506784",
            "showbackground": true,
            "ticks": "",
            "zerolinecolor": "#C8D4E3"
           }
          },
          "shapedefaults": {
           "line": {
            "color": "#f2f5fa"
           }
          },
          "sliderdefaults": {
           "bgcolor": "#C8D4E3",
           "bordercolor": "rgb(17,17,17)",
           "borderwidth": 1,
           "tickwidth": 0
          },
          "ternary": {
           "aaxis": {
            "gridcolor": "#506784",
            "linecolor": "#506784",
            "ticks": ""
           },
           "baxis": {
            "gridcolor": "#506784",
            "linecolor": "#506784",
            "ticks": ""
           },
           "bgcolor": "rgb(17,17,17)",
           "caxis": {
            "gridcolor": "#506784",
            "linecolor": "#506784",
            "ticks": ""
           }
          },
          "title": {
           "x": 0.05
          },
          "updatemenudefaults": {
           "bgcolor": "#506784",
           "borderwidth": 0
          },
          "xaxis": {
           "automargin": true,
           "gridcolor": "#283442",
           "linecolor": "#506784",
           "ticks": "",
           "title": {
            "standoff": 15
           },
           "zerolinecolor": "#283442",
           "zerolinewidth": 2
          },
          "yaxis": {
           "automargin": true,
           "gridcolor": "#283442",
           "linecolor": "#506784",
           "ticks": "",
           "title": {
            "standoff": 15
           },
           "zerolinecolor": "#283442",
           "zerolinewidth": 2
          }
         }
        },
        "title": {
         "text": "BTCUSDT - M - TA Chart Visualizer"
        },
        "xaxis": {
         "fixedrange": false,
         "rangeslider": {
          "visible": false
         },
         "title": {
          "text": "Time"
         }
        },
        "yaxis": {
         "fixedrange": false,
         "title": {
          "text": "Price"
         },
         "type": "log"
        }
       }
      }
     },
     "metadata": {},
     "output_type": "display_data"
    },
    {
     "name": "stdout",
     "output_type": "stream",
     "text": [
      "\n",
      "======================================================================\n",
      "📊 Visualizing Segment 9/10: BTCUSDT - M\n",
      "   Period: 2024-03-01 00:00 to 2024-08-01 00:00\n",
      "======================================================================\n",
      "Processing 6 candles for BTCUSDT at M interval\n",
      "   Middlewares: ['levels_middleware']\n"
     ]
    },
    {
     "data": {
      "application/vnd.plotly.v1+json": {
       "config": {
        "plotlyServerURL": "https://plot.ly"
       },
       "data": [
        {
         "close": {
          "bdata": "AAAAACBt8UDNzMzM/J3tQM3MzMw8fvBAAAAAALCj7kDNzMzM/IzvQM3MzMwMyOxA",
          "dtype": "f8"
         },
         "high": {
          "bdata": "AAAAANAN8kAAAAAAaMnxQDMzMzPbl/FAAAAAAJCe8UBmZmZmjh/xQM3MzMwkBvBA",
          "dtype": "f8"
         },
         "low": {
          "bdata": "AAAAAODc7EAAAAAAgN/sQAAAAAAgl+tAAAAAAAB67ECamZmZSQjqQDMzMzND4udA",
          "dtype": "f8"
         },
         "name": "Candlestick",
         "open": {
          "bdata": "MzMzMwPg7UAAAAAAIG3xQM3MzMz8ne1AzczMzDx+8EAAAAAAsKPuQM3MzMz8jO9A",
          "dtype": "f8"
         },
         "showlegend": false,
         "type": "candlestick",
         "x": [
          "2024-03-01T00:00:00.000000000",
          "2024-04-01T00:00:00.000000000",
          "2024-05-01T00:00:00.000000000",
          "2024-06-01T00:00:00.000000000",
          "2024-07-01T00:00:00.000000000",
          "2024-08-01T00:00:00.000000000"
         ]
        },
        {
         "line": {
          "color": "orange",
          "dash": "dash",
          "width": 2
         },
         "mode": "lines",
         "name": "line_close_M",
         "showlegend": true,
         "type": "scatter",
         "x": [
          "2024-07-01T00:00:00",
          "2024-08-01T00:00:00"
         ],
         "y": [
          64615.9,
          64615.9
         ]
        },
        {
         "line": {
          "color": "orange",
          "dash": "dash",
          "width": 2
         },
         "mode": "lines",
         "name": "max_level_M",
         "showlegend": true,
         "type": "scatter",
         "x": [
          "2024-03-01T00:00:00",
          "2024-08-01T00:00:00"
         ],
         "y": [
          73949,
          73949
         ]
        },
        {
         "line": {
          "color": "orange",
          "dash": "dash",
          "width": 2
         },
         "mode": "lines",
         "name": "min_level_M",
         "showlegend": true,
         "type": "scatter",
         "x": [
          "2024-03-01T00:00:00",
          "2024-08-01T00:00:00"
         ],
         "y": [
          48914.1,
          48914.1
         ]
        }
       ],
       "layout": {
        "height": 800,
        "showlegend": false,
        "template": {
         "data": {
          "bar": [
           {
            "error_x": {
             "color": "#f2f5fa"
            },
            "error_y": {
             "color": "#f2f5fa"
            },
            "marker": {
             "line": {
              "color": "rgb(17,17,17)",
              "width": 0.5
             },
             "pattern": {
              "fillmode": "overlay",
              "size": 10,
              "solidity": 0.2
             }
            },
            "type": "bar"
           }
          ],
          "barpolar": [
           {
            "marker": {
             "line": {
              "color": "rgb(17,17,17)",
              "width": 0.5
             },
             "pattern": {
              "fillmode": "overlay",
              "size": 10,
              "solidity": 0.2
             }
            },
            "type": "barpolar"
           }
          ],
          "carpet": [
           {
            "aaxis": {
             "endlinecolor": "#A2B1C6",
             "gridcolor": "#506784",
             "linecolor": "#506784",
             "minorgridcolor": "#506784",
             "startlinecolor": "#A2B1C6"
            },
            "baxis": {
             "endlinecolor": "#A2B1C6",
             "gridcolor": "#506784",
             "linecolor": "#506784",
             "minorgridcolor": "#506784",
             "startlinecolor": "#A2B1C6"
            },
            "type": "carpet"
           }
          ],
          "choropleth": [
           {
            "colorbar": {
             "outlinewidth": 0,
             "ticks": ""
            },
            "type": "choropleth"
           }
          ],
          "contour": [
           {
            "colorbar": {
             "outlinewidth": 0,
             "ticks": ""
            },
            "colorscale": [
             [
              0,
              "#0d0887"
             ],
             [
              0.1111111111111111,
              "#46039f"
             ],
             [
              0.2222222222222222,
              "#7201a8"
             ],
             [
              0.3333333333333333,
              "#9c179e"
             ],
             [
              0.4444444444444444,
              "#bd3786"
             ],
             [
              0.5555555555555556,
              "#d8576b"
             ],
             [
              0.6666666666666666,
              "#ed7953"
             ],
             [
              0.7777777777777778,
              "#fb9f3a"
             ],
             [
              0.8888888888888888,
              "#fdca26"
             ],
             [
              1,
              "#f0f921"
             ]
            ],
            "type": "contour"
           }
          ],
          "contourcarpet": [
           {
            "colorbar": {
             "outlinewidth": 0,
             "ticks": ""
            },
            "type": "contourcarpet"
           }
          ],
          "heatmap": [
           {
            "colorbar": {
             "outlinewidth": 0,
             "ticks": ""
            },
            "colorscale": [
             [
              0,
              "#0d0887"
             ],
             [
              0.1111111111111111,
              "#46039f"
             ],
             [
              0.2222222222222222,
              "#7201a8"
             ],
             [
              0.3333333333333333,
              "#9c179e"
             ],
             [
              0.4444444444444444,
              "#bd3786"
             ],
             [
              0.5555555555555556,
              "#d8576b"
             ],
             [
              0.6666666666666666,
              "#ed7953"
             ],
             [
              0.7777777777777778,
              "#fb9f3a"
             ],
             [
              0.8888888888888888,
              "#fdca26"
             ],
             [
              1,
              "#f0f921"
             ]
            ],
            "type": "heatmap"
           }
          ],
          "histogram": [
           {
            "marker": {
             "pattern": {
              "fillmode": "overlay",
              "size": 10,
              "solidity": 0.2
             }
            },
            "type": "histogram"
           }
          ],
          "histogram2d": [
           {
            "colorbar": {
             "outlinewidth": 0,
             "ticks": ""
            },
            "colorscale": [
             [
              0,
              "#0d0887"
             ],
             [
              0.1111111111111111,
              "#46039f"
             ],
             [
              0.2222222222222222,
              "#7201a8"
             ],
             [
              0.3333333333333333,
              "#9c179e"
             ],
             [
              0.4444444444444444,
              "#bd3786"
             ],
             [
              0.5555555555555556,
              "#d8576b"
             ],
             [
              0.6666666666666666,
              "#ed7953"
             ],
             [
              0.7777777777777778,
              "#fb9f3a"
             ],
             [
              0.8888888888888888,
              "#fdca26"
             ],
             [
              1,
              "#f0f921"
             ]
            ],
            "type": "histogram2d"
           }
          ],
          "histogram2dcontour": [
           {
            "colorbar": {
             "outlinewidth": 0,
             "ticks": ""
            },
            "colorscale": [
             [
              0,
              "#0d0887"
             ],
             [
              0.1111111111111111,
              "#46039f"
             ],
             [
              0.2222222222222222,
              "#7201a8"
             ],
             [
              0.3333333333333333,
              "#9c179e"
             ],
             [
              0.4444444444444444,
              "#bd3786"
             ],
             [
              0.5555555555555556,
              "#d8576b"
             ],
             [
              0.6666666666666666,
              "#ed7953"
             ],
             [
              0.7777777777777778,
              "#fb9f3a"
             ],
             [
              0.8888888888888888,
              "#fdca26"
             ],
             [
              1,
              "#f0f921"
             ]
            ],
            "type": "histogram2dcontour"
           }
          ],
          "mesh3d": [
           {
            "colorbar": {
             "outlinewidth": 0,
             "ticks": ""
            },
            "type": "mesh3d"
           }
          ],
          "parcoords": [
           {
            "line": {
             "colorbar": {
              "outlinewidth": 0,
              "ticks": ""
             }
            },
            "type": "parcoords"
           }
          ],
          "pie": [
           {
            "automargin": true,
            "type": "pie"
           }
          ],
          "scatter": [
           {
            "marker": {
             "line": {
              "color": "#283442"
             }
            },
            "type": "scatter"
           }
          ],
          "scatter3d": [
           {
            "line": {
             "colorbar": {
              "outlinewidth": 0,
              "ticks": ""
             }
            },
            "marker": {
             "colorbar": {
              "outlinewidth": 0,
              "ticks": ""
             }
            },
            "type": "scatter3d"
           }
          ],
          "scattercarpet": [
           {
            "marker": {
             "colorbar": {
              "outlinewidth": 0,
              "ticks": ""
             }
            },
            "type": "scattercarpet"
           }
          ],
          "scattergeo": [
           {
            "marker": {
             "colorbar": {
              "outlinewidth": 0,
              "ticks": ""
             }
            },
            "type": "scattergeo"
           }
          ],
          "scattergl": [
           {
            "marker": {
             "line": {
              "color": "#283442"
             }
            },
            "type": "scattergl"
           }
          ],
          "scattermap": [
           {
            "marker": {
             "colorbar": {
              "outlinewidth": 0,
              "ticks": ""
             }
            },
            "type": "scattermap"
           }
          ],
          "scattermapbox": [
           {
            "marker": {
             "colorbar": {
              "outlinewidth": 0,
              "ticks": ""
             }
            },
            "type": "scattermapbox"
           }
          ],
          "scatterpolar": [
           {
            "marker": {
             "colorbar": {
              "outlinewidth": 0,
              "ticks": ""
             }
            },
            "type": "scatterpolar"
           }
          ],
          "scatterpolargl": [
           {
            "marker": {
             "colorbar": {
              "outlinewidth": 0,
              "ticks": ""
             }
            },
            "type": "scatterpolargl"
           }
          ],
          "scatterternary": [
           {
            "marker": {
             "colorbar": {
              "outlinewidth": 0,
              "ticks": ""
             }
            },
            "type": "scatterternary"
           }
          ],
          "surface": [
           {
            "colorbar": {
             "outlinewidth": 0,
             "ticks": ""
            },
            "colorscale": [
             [
              0,
              "#0d0887"
             ],
             [
              0.1111111111111111,
              "#46039f"
             ],
             [
              0.2222222222222222,
              "#7201a8"
             ],
             [
              0.3333333333333333,
              "#9c179e"
             ],
             [
              0.4444444444444444,
              "#bd3786"
             ],
             [
              0.5555555555555556,
              "#d8576b"
             ],
             [
              0.6666666666666666,
              "#ed7953"
             ],
             [
              0.7777777777777778,
              "#fb9f3a"
             ],
             [
              0.8888888888888888,
              "#fdca26"
             ],
             [
              1,
              "#f0f921"
             ]
            ],
            "type": "surface"
           }
          ],
          "table": [
           {
            "cells": {
             "fill": {
              "color": "#506784"
             },
             "line": {
              "color": "rgb(17,17,17)"
             }
            },
            "header": {
             "fill": {
              "color": "#2a3f5f"
             },
             "line": {
              "color": "rgb(17,17,17)"
             }
            },
            "type": "table"
           }
          ]
         },
         "layout": {
          "annotationdefaults": {
           "arrowcolor": "#f2f5fa",
           "arrowhead": 0,
           "arrowwidth": 1
          },
          "autotypenumbers": "strict",
          "coloraxis": {
           "colorbar": {
            "outlinewidth": 0,
            "ticks": ""
           }
          },
          "colorscale": {
           "diverging": [
            [
             0,
             "#8e0152"
            ],
            [
             0.1,
             "#c51b7d"
            ],
            [
             0.2,
             "#de77ae"
            ],
            [
             0.3,
             "#f1b6da"
            ],
            [
             0.4,
             "#fde0ef"
            ],
            [
             0.5,
             "#f7f7f7"
            ],
            [
             0.6,
             "#e6f5d0"
            ],
            [
             0.7,
             "#b8e186"
            ],
            [
             0.8,
             "#7fbc41"
            ],
            [
             0.9,
             "#4d9221"
            ],
            [
             1,
             "#276419"
            ]
           ],
           "sequential": [
            [
             0,
             "#0d0887"
            ],
            [
             0.1111111111111111,
             "#46039f"
            ],
            [
             0.2222222222222222,
             "#7201a8"
            ],
            [
             0.3333333333333333,
             "#9c179e"
            ],
            [
             0.4444444444444444,
             "#bd3786"
            ],
            [
             0.5555555555555556,
             "#d8576b"
            ],
            [
             0.6666666666666666,
             "#ed7953"
            ],
            [
             0.7777777777777778,
             "#fb9f3a"
            ],
            [
             0.8888888888888888,
             "#fdca26"
            ],
            [
             1,
             "#f0f921"
            ]
           ],
           "sequentialminus": [
            [
             0,
             "#0d0887"
            ],
            [
             0.1111111111111111,
             "#46039f"
            ],
            [
             0.2222222222222222,
             "#7201a8"
            ],
            [
             0.3333333333333333,
             "#9c179e"
            ],
            [
             0.4444444444444444,
             "#bd3786"
            ],
            [
             0.5555555555555556,
             "#d8576b"
            ],
            [
             0.6666666666666666,
             "#ed7953"
            ],
            [
             0.7777777777777778,
             "#fb9f3a"
            ],
            [
             0.8888888888888888,
             "#fdca26"
            ],
            [
             1,
             "#f0f921"
            ]
           ]
          },
          "colorway": [
           "#636efa",
           "#EF553B",
           "#00cc96",
           "#ab63fa",
           "#FFA15A",
           "#19d3f3",
           "#FF6692",
           "#B6E880",
           "#FF97FF",
           "#FECB52"
          ],
          "font": {
           "color": "#f2f5fa"
          },
          "geo": {
           "bgcolor": "rgb(17,17,17)",
           "lakecolor": "rgb(17,17,17)",
           "landcolor": "rgb(17,17,17)",
           "showlakes": true,
           "showland": true,
           "subunitcolor": "#506784"
          },
          "hoverlabel": {
           "align": "left"
          },
          "hovermode": "closest",
          "mapbox": {
           "style": "dark"
          },
          "paper_bgcolor": "rgb(17,17,17)",
          "plot_bgcolor": "rgb(17,17,17)",
          "polar": {
           "angularaxis": {
            "gridcolor": "#506784",
            "linecolor": "#506784",
            "ticks": ""
           },
           "bgcolor": "rgb(17,17,17)",
           "radialaxis": {
            "gridcolor": "#506784",
            "linecolor": "#506784",
            "ticks": ""
           }
          },
          "scene": {
           "xaxis": {
            "backgroundcolor": "rgb(17,17,17)",
            "gridcolor": "#506784",
            "gridwidth": 2,
            "linecolor": "#506784",
            "showbackground": true,
            "ticks": "",
            "zerolinecolor": "#C8D4E3"
           },
           "yaxis": {
            "backgroundcolor": "rgb(17,17,17)",
            "gridcolor": "#506784",
            "gridwidth": 2,
            "linecolor": "#506784",
            "showbackground": true,
            "ticks": "",
            "zerolinecolor": "#C8D4E3"
           },
           "zaxis": {
            "backgroundcolor": "rgb(17,17,17)",
            "gridcolor": "#506784",
            "gridwidth": 2,
            "linecolor": "#506784",
            "showbackground": true,
            "ticks": "",
            "zerolinecolor": "#C8D4E3"
           }
          },
          "shapedefaults": {
           "line": {
            "color": "#f2f5fa"
           }
          },
          "sliderdefaults": {
           "bgcolor": "#C8D4E3",
           "bordercolor": "rgb(17,17,17)",
           "borderwidth": 1,
           "tickwidth": 0
          },
          "ternary": {
           "aaxis": {
            "gridcolor": "#506784",
            "linecolor": "#506784",
            "ticks": ""
           },
           "baxis": {
            "gridcolor": "#506784",
            "linecolor": "#506784",
            "ticks": ""
           },
           "bgcolor": "rgb(17,17,17)",
           "caxis": {
            "gridcolor": "#506784",
            "linecolor": "#506784",
            "ticks": ""
           }
          },
          "title": {
           "x": 0.05
          },
          "updatemenudefaults": {
           "bgcolor": "#506784",
           "borderwidth": 0
          },
          "xaxis": {
           "automargin": true,
           "gridcolor": "#283442",
           "linecolor": "#506784",
           "ticks": "",
           "title": {
            "standoff": 15
           },
           "zerolinecolor": "#283442",
           "zerolinewidth": 2
          },
          "yaxis": {
           "automargin": true,
           "gridcolor": "#283442",
           "linecolor": "#506784",
           "ticks": "",
           "title": {
            "standoff": 15
           },
           "zerolinecolor": "#283442",
           "zerolinewidth": 2
          }
         }
        },
        "title": {
         "text": "BTCUSDT - M - TA Chart Visualizer"
        },
        "xaxis": {
         "fixedrange": false,
         "rangeslider": {
          "visible": false
         },
         "title": {
          "text": "Time"
         }
        },
        "yaxis": {
         "fixedrange": false,
         "title": {
          "text": "Price"
         },
         "type": "log"
        }
       }
      }
     },
     "metadata": {},
     "output_type": "display_data"
    },
    {
     "name": "stdout",
     "output_type": "stream",
     "text": [
      "\n",
      "======================================================================\n",
      "📊 Visualizing Segment 10/10: BTCUSDT - M\n",
      "   Period: 2024-09-01 00:00 to 2025-10-01 00:00\n",
      "======================================================================\n",
      "Processing 14 candles for BTCUSDT at M interval\n",
      "   Middlewares: ['levels_middleware']\n"
     ]
    },
    {
     "data": {
      "application/vnd.plotly.v1+json": {
       "config": {
        "plotlyServerURL": "https://plot.ly"
       },
       "data": [
        {
         "close": {
          "bdata": "mpmZmZnl7kDNzMzMxCvxQAAAAABAjvdAAAAAAKDV9kCamZmZmf74QJqZmZk5lfRAZmZmZoYk9EAAAAAAYPr2QJqZmZlhh/lAMzMzM5Mk+kCamZmZAT78QAAAAACAavpAzczMzNzV+0AAAAAAYCX+QA==",
          "dtype": "f8"
         },
         "high": {
          "bdata": "AAAAAIA98EDNzMzMHP3xQAAAAACgVvhAmpmZmVl4+kAzMzMz+9f6QAAAAADwFPlAMzMzMys190AAAAAAyF73QAAAAAAAVvtAzczMzEwE+0AAAAAAIBf+QDMzMzOzaf5AAAAAAMDH/ECamZmZKT3+QA==",
          "dtype": "f8"
         },
         "low": {
          "bdata": "ZmZmZoai6UAAAAAAgMLsQAAAAACAT/BAAAAAACAa9kAAAAAAwMD1QAAAAAAoGPNAAAAAABCw8kAzMzMzgy3yQAAAAABYyfZAAAAAAND090CamZmZKab5QAAAAABAMvpAAAAAACAs+kDNzMzMnM/7QA==",
          "dtype": "f8"
         },
         "name": "Candlestick",
         "open": {
          "bdata": "zczMzAzI7ECamZmZmeXuQM3MzMzEK/FAAAAAAECO90AAAAAAoNX2QJqZmZmZ/vhAmpmZmTmV9EBmZmZmhiT0QAAAAABg+vZAmpmZmWGH+UAzMzMzkyT6QJqZmZkBPvxAAAAAAIBq+kDNzMzM3NX7QA==",
          "dtype": "f8"
         },
         "showlegend": false,
         "type": "candlestick",
         "x": [
          "2024-09-01T00:00:00.000000000",
          "2024-10-01T00:00:00.000000000",
          "2024-11-01T00:00:00.000000000",
          "2024-12-01T00:00:00.000000000",
          "2025-01-01T00:00:00.000000000",
          "2025-02-01T00:00:00.000000000",
          "2025-03-01T00:00:00.000000000",
          "2025-04-01T00:00:00.000000000",
          "2025-05-01T00:00:00.000000000",
          "2025-06-01T00:00:00.000000000",
          "2025-07-01T00:00:00.000000000",
          "2025-08-01T00:00:00.000000000",
          "2025-09-01T00:00:00.000000000",
          "2025-10-01T00:00:00.000000000"
         ]
        },
        {
         "line": {
          "color": "orange",
          "dash": "dash",
          "width": 2
         },
         "mode": "lines",
         "name": "line_close_M",
         "showlegend": true,
         "type": "scatter",
         "x": [
          "2025-03-01T00:00:00",
          "2025-10-01T00:00:00"
         ],
         "y": [
          82504.4,
          82504.4
         ]
        },
        {
         "line": {
          "color": "orange",
          "dash": "dash",
          "width": 2
         },
         "mode": "lines",
         "name": "line_close_M",
         "showlegend": true,
         "type": "scatter",
         "x": [
          "2025-08-01T00:00:00",
          "2025-10-01T00:00:00"
         ],
         "y": [
          108200,
          108200
         ]
        },
        {
         "line": {
          "color": "orange",
          "dash": "dash",
          "width": 2
         },
         "mode": "lines",
         "name": "max_level_M",
         "showlegend": true,
         "type": "scatter",
         "x": [
          "2024-09-01T00:00:00",
          "2025-10-01T00:00:00"
         ],
         "y": [
          124571.2,
          124571.2
         ]
        },
        {
         "line": {
          "color": "orange",
          "dash": "dash",
          "width": 2
         },
         "mode": "lines",
         "name": "min_level_M",
         "showlegend": true,
         "type": "scatter",
         "x": [
          "2024-09-01T00:00:00",
          "2025-10-01T00:00:00"
         ],
         "y": [
          52500.2,
          52500.2
         ]
        }
       ],
       "layout": {
        "height": 800,
        "showlegend": false,
        "template": {
         "data": {
          "bar": [
           {
            "error_x": {
             "color": "#f2f5fa"
            },
            "error_y": {
             "color": "#f2f5fa"
            },
            "marker": {
             "line": {
              "color": "rgb(17,17,17)",
              "width": 0.5
             },
             "pattern": {
              "fillmode": "overlay",
              "size": 10,
              "solidity": 0.2
             }
            },
            "type": "bar"
           }
          ],
          "barpolar": [
           {
            "marker": {
             "line": {
              "color": "rgb(17,17,17)",
              "width": 0.5
             },
             "pattern": {
              "fillmode": "overlay",
              "size": 10,
              "solidity": 0.2
             }
            },
            "type": "barpolar"
           }
          ],
          "carpet": [
           {
            "aaxis": {
             "endlinecolor": "#A2B1C6",
             "gridcolor": "#506784",
             "linecolor": "#506784",
             "minorgridcolor": "#506784",
             "startlinecolor": "#A2B1C6"
            },
            "baxis": {
             "endlinecolor": "#A2B1C6",
             "gridcolor": "#506784",
             "linecolor": "#506784",
             "minorgridcolor": "#506784",
             "startlinecolor": "#A2B1C6"
            },
            "type": "carpet"
           }
          ],
          "choropleth": [
           {
            "colorbar": {
             "outlinewidth": 0,
             "ticks": ""
            },
            "type": "choropleth"
           }
          ],
          "contour": [
           {
            "colorbar": {
             "outlinewidth": 0,
             "ticks": ""
            },
            "colorscale": [
             [
              0,
              "#0d0887"
             ],
             [
              0.1111111111111111,
              "#46039f"
             ],
             [
              0.2222222222222222,
              "#7201a8"
             ],
             [
              0.3333333333333333,
              "#9c179e"
             ],
             [
              0.4444444444444444,
              "#bd3786"
             ],
             [
              0.5555555555555556,
              "#d8576b"
             ],
             [
              0.6666666666666666,
              "#ed7953"
             ],
             [
              0.7777777777777778,
              "#fb9f3a"
             ],
             [
              0.8888888888888888,
              "#fdca26"
             ],
             [
              1,
              "#f0f921"
             ]
            ],
            "type": "contour"
           }
          ],
          "contourcarpet": [
           {
            "colorbar": {
             "outlinewidth": 0,
             "ticks": ""
            },
            "type": "contourcarpet"
           }
          ],
          "heatmap": [
           {
            "colorbar": {
             "outlinewidth": 0,
             "ticks": ""
            },
            "colorscale": [
             [
              0,
              "#0d0887"
             ],
             [
              0.1111111111111111,
              "#46039f"
             ],
             [
              0.2222222222222222,
              "#7201a8"
             ],
             [
              0.3333333333333333,
              "#9c179e"
             ],
             [
              0.4444444444444444,
              "#bd3786"
             ],
             [
              0.5555555555555556,
              "#d8576b"
             ],
             [
              0.6666666666666666,
              "#ed7953"
             ],
             [
              0.7777777777777778,
              "#fb9f3a"
             ],
             [
              0.8888888888888888,
              "#fdca26"
             ],
             [
              1,
              "#f0f921"
             ]
            ],
            "type": "heatmap"
           }
          ],
          "histogram": [
           {
            "marker": {
             "pattern": {
              "fillmode": "overlay",
              "size": 10,
              "solidity": 0.2
             }
            },
            "type": "histogram"
           }
          ],
          "histogram2d": [
           {
            "colorbar": {
             "outlinewidth": 0,
             "ticks": ""
            },
            "colorscale": [
             [
              0,
              "#0d0887"
             ],
             [
              0.1111111111111111,
              "#46039f"
             ],
             [
              0.2222222222222222,
              "#7201a8"
             ],
             [
              0.3333333333333333,
              "#9c179e"
             ],
             [
              0.4444444444444444,
              "#bd3786"
             ],
             [
              0.5555555555555556,
              "#d8576b"
             ],
             [
              0.6666666666666666,
              "#ed7953"
             ],
             [
              0.7777777777777778,
              "#fb9f3a"
             ],
             [
              0.8888888888888888,
              "#fdca26"
             ],
             [
              1,
              "#f0f921"
             ]
            ],
            "type": "histogram2d"
           }
          ],
          "histogram2dcontour": [
           {
            "colorbar": {
             "outlinewidth": 0,
             "ticks": ""
            },
            "colorscale": [
             [
              0,
              "#0d0887"
             ],
             [
              0.1111111111111111,
              "#46039f"
             ],
             [
              0.2222222222222222,
              "#7201a8"
             ],
             [
              0.3333333333333333,
              "#9c179e"
             ],
             [
              0.4444444444444444,
              "#bd3786"
             ],
             [
              0.5555555555555556,
              "#d8576b"
             ],
             [
              0.6666666666666666,
              "#ed7953"
             ],
             [
              0.7777777777777778,
              "#fb9f3a"
             ],
             [
              0.8888888888888888,
              "#fdca26"
             ],
             [
              1,
              "#f0f921"
             ]
            ],
            "type": "histogram2dcontour"
           }
          ],
          "mesh3d": [
           {
            "colorbar": {
             "outlinewidth": 0,
             "ticks": ""
            },
            "type": "mesh3d"
           }
          ],
          "parcoords": [
           {
            "line": {
             "colorbar": {
              "outlinewidth": 0,
              "ticks": ""
             }
            },
            "type": "parcoords"
           }
          ],
          "pie": [
           {
            "automargin": true,
            "type": "pie"
           }
          ],
          "scatter": [
           {
            "marker": {
             "line": {
              "color": "#283442"
             }
            },
            "type": "scatter"
           }
          ],
          "scatter3d": [
           {
            "line": {
             "colorbar": {
              "outlinewidth": 0,
              "ticks": ""
             }
            },
            "marker": {
             "colorbar": {
              "outlinewidth": 0,
              "ticks": ""
             }
            },
            "type": "scatter3d"
           }
          ],
          "scattercarpet": [
           {
            "marker": {
             "colorbar": {
              "outlinewidth": 0,
              "ticks": ""
             }
            },
            "type": "scattercarpet"
           }
          ],
          "scattergeo": [
           {
            "marker": {
             "colorbar": {
              "outlinewidth": 0,
              "ticks": ""
             }
            },
            "type": "scattergeo"
           }
          ],
          "scattergl": [
           {
            "marker": {
             "line": {
              "color": "#283442"
             }
            },
            "type": "scattergl"
           }
          ],
          "scattermap": [
           {
            "marker": {
             "colorbar": {
              "outlinewidth": 0,
              "ticks": ""
             }
            },
            "type": "scattermap"
           }
          ],
          "scattermapbox": [
           {
            "marker": {
             "colorbar": {
              "outlinewidth": 0,
              "ticks": ""
             }
            },
            "type": "scattermapbox"
           }
          ],
          "scatterpolar": [
           {
            "marker": {
             "colorbar": {
              "outlinewidth": 0,
              "ticks": ""
             }
            },
            "type": "scatterpolar"
           }
          ],
          "scatterpolargl": [
           {
            "marker": {
             "colorbar": {
              "outlinewidth": 0,
              "ticks": ""
             }
            },
            "type": "scatterpolargl"
           }
          ],
          "scatterternary": [
           {
            "marker": {
             "colorbar": {
              "outlinewidth": 0,
              "ticks": ""
             }
            },
            "type": "scatterternary"
           }
          ],
          "surface": [
           {
            "colorbar": {
             "outlinewidth": 0,
             "ticks": ""
            },
            "colorscale": [
             [
              0,
              "#0d0887"
             ],
             [
              0.1111111111111111,
              "#46039f"
             ],
             [
              0.2222222222222222,
              "#7201a8"
             ],
             [
              0.3333333333333333,
              "#9c179e"
             ],
             [
              0.4444444444444444,
              "#bd3786"
             ],
             [
              0.5555555555555556,
              "#d8576b"
             ],
             [
              0.6666666666666666,
              "#ed7953"
             ],
             [
              0.7777777777777778,
              "#fb9f3a"
             ],
             [
              0.8888888888888888,
              "#fdca26"
             ],
             [
              1,
              "#f0f921"
             ]
            ],
            "type": "surface"
           }
          ],
          "table": [
           {
            "cells": {
             "fill": {
              "color": "#506784"
             },
             "line": {
              "color": "rgb(17,17,17)"
             }
            },
            "header": {
             "fill": {
              "color": "#2a3f5f"
             },
             "line": {
              "color": "rgb(17,17,17)"
             }
            },
            "type": "table"
           }
          ]
         },
         "layout": {
          "annotationdefaults": {
           "arrowcolor": "#f2f5fa",
           "arrowhead": 0,
           "arrowwidth": 1
          },
          "autotypenumbers": "strict",
          "coloraxis": {
           "colorbar": {
            "outlinewidth": 0,
            "ticks": ""
           }
          },
          "colorscale": {
           "diverging": [
            [
             0,
             "#8e0152"
            ],
            [
             0.1,
             "#c51b7d"
            ],
            [
             0.2,
             "#de77ae"
            ],
            [
             0.3,
             "#f1b6da"
            ],
            [
             0.4,
             "#fde0ef"
            ],
            [
             0.5,
             "#f7f7f7"
            ],
            [
             0.6,
             "#e6f5d0"
            ],
            [
             0.7,
             "#b8e186"
            ],
            [
             0.8,
             "#7fbc41"
            ],
            [
             0.9,
             "#4d9221"
            ],
            [
             1,
             "#276419"
            ]
           ],
           "sequential": [
            [
             0,
             "#0d0887"
            ],
            [
             0.1111111111111111,
             "#46039f"
            ],
            [
             0.2222222222222222,
             "#7201a8"
            ],
            [
             0.3333333333333333,
             "#9c179e"
            ],
            [
             0.4444444444444444,
             "#bd3786"
            ],
            [
             0.5555555555555556,
             "#d8576b"
            ],
            [
             0.6666666666666666,
             "#ed7953"
            ],
            [
             0.7777777777777778,
             "#fb9f3a"
            ],
            [
             0.8888888888888888,
             "#fdca26"
            ],
            [
             1,
             "#f0f921"
            ]
           ],
           "sequentialminus": [
            [
             0,
             "#0d0887"
            ],
            [
             0.1111111111111111,
             "#46039f"
            ],
            [
             0.2222222222222222,
             "#7201a8"
            ],
            [
             0.3333333333333333,
             "#9c179e"
            ],
            [
             0.4444444444444444,
             "#bd3786"
            ],
            [
             0.5555555555555556,
             "#d8576b"
            ],
            [
             0.6666666666666666,
             "#ed7953"
            ],
            [
             0.7777777777777778,
             "#fb9f3a"
            ],
            [
             0.8888888888888888,
             "#fdca26"
            ],
            [
             1,
             "#f0f921"
            ]
           ]
          },
          "colorway": [
           "#636efa",
           "#EF553B",
           "#00cc96",
           "#ab63fa",
           "#FFA15A",
           "#19d3f3",
           "#FF6692",
           "#B6E880",
           "#FF97FF",
           "#FECB52"
          ],
          "font": {
           "color": "#f2f5fa"
          },
          "geo": {
           "bgcolor": "rgb(17,17,17)",
           "lakecolor": "rgb(17,17,17)",
           "landcolor": "rgb(17,17,17)",
           "showlakes": true,
           "showland": true,
           "subunitcolor": "#506784"
          },
          "hoverlabel": {
           "align": "left"
          },
          "hovermode": "closest",
          "mapbox": {
           "style": "dark"
          },
          "paper_bgcolor": "rgb(17,17,17)",
          "plot_bgcolor": "rgb(17,17,17)",
          "polar": {
           "angularaxis": {
            "gridcolor": "#506784",
            "linecolor": "#506784",
            "ticks": ""
           },
           "bgcolor": "rgb(17,17,17)",
           "radialaxis": {
            "gridcolor": "#506784",
            "linecolor": "#506784",
            "ticks": ""
           }
          },
          "scene": {
           "xaxis": {
            "backgroundcolor": "rgb(17,17,17)",
            "gridcolor": "#506784",
            "gridwidth": 2,
            "linecolor": "#506784",
            "showbackground": true,
            "ticks": "",
            "zerolinecolor": "#C8D4E3"
           },
           "yaxis": {
            "backgroundcolor": "rgb(17,17,17)",
            "gridcolor": "#506784",
            "gridwidth": 2,
            "linecolor": "#506784",
            "showbackground": true,
            "ticks": "",
            "zerolinecolor": "#C8D4E3"
           },
           "zaxis": {
            "backgroundcolor": "rgb(17,17,17)",
            "gridcolor": "#506784",
            "gridwidth": 2,
            "linecolor": "#506784",
            "showbackground": true,
            "ticks": "",
            "zerolinecolor": "#C8D4E3"
           }
          },
          "shapedefaults": {
           "line": {
            "color": "#f2f5fa"
           }
          },
          "sliderdefaults": {
           "bgcolor": "#C8D4E3",
           "bordercolor": "rgb(17,17,17)",
           "borderwidth": 1,
           "tickwidth": 0
          },
          "ternary": {
           "aaxis": {
            "gridcolor": "#506784",
            "linecolor": "#506784",
            "ticks": ""
           },
           "baxis": {
            "gridcolor": "#506784",
            "linecolor": "#506784",
            "ticks": ""
           },
           "bgcolor": "rgb(17,17,17)",
           "caxis": {
            "gridcolor": "#506784",
            "linecolor": "#506784",
            "ticks": ""
           }
          },
          "title": {
           "x": 0.05
          },
          "updatemenudefaults": {
           "bgcolor": "#506784",
           "borderwidth": 0
          },
          "xaxis": {
           "automargin": true,
           "gridcolor": "#283442",
           "linecolor": "#506784",
           "ticks": "",
           "title": {
            "standoff": 15
           },
           "zerolinecolor": "#283442",
           "zerolinewidth": 2
          },
          "yaxis": {
           "automargin": true,
           "gridcolor": "#283442",
           "linecolor": "#506784",
           "ticks": "",
           "title": {
            "standoff": 15
           },
           "zerolinecolor": "#283442",
           "zerolinewidth": 2
          }
         }
        },
        "title": {
         "text": "BTCUSDT - M - TA Chart Visualizer"
        },
        "xaxis": {
         "fixedrange": false,
         "rangeslider": {
          "visible": false
         },
         "title": {
          "text": "Time"
         }
        },
        "yaxis": {
         "fixedrange": false,
         "title": {
          "text": "Price"
         },
         "type": "log"
        }
       }
      }
     },
     "metadata": {},
     "output_type": "display_data"
    },
    {
     "name": "stdout",
     "output_type": "stream",
     "text": [
      "\n",
      "======================================================================\n",
      "🔪 Splitting BTCUSDT - W into 10 segments\n",
      "======================================================================\n",
      "✅ Created 10 segments:\n",
      "   Segment 1/10: 2020-03-30 to 2020-10-05 (28 candles)\n",
      "   Segment 2/10: 2020-10-12 to 2021-04-19 (28 candles)\n",
      "   Segment 3/10: 2021-04-26 to 2021-11-01 (28 candles)\n",
      "   Segment 4/10: 2021-11-08 to 2022-05-16 (28 candles)\n",
      "   Segment 5/10: 2022-05-23 to 2022-11-28 (28 candles)\n",
      "   Segment 6/10: 2022-12-05 to 2023-06-12 (28 candles)\n",
      "   Segment 7/10: 2023-06-19 to 2023-12-25 (28 candles)\n",
      "   Segment 8/10: 2024-01-01 to 2024-07-08 (28 candles)\n",
      "   Segment 9/10: 2024-07-15 to 2025-01-20 (28 candles)\n",
      "   Segment 10/10: 2025-01-27 to 2025-09-29 (36 candles)\n",
      "\n",
      "======================================================================\n",
      "📊 Visualizing Segment 1/10: BTCUSDT - W\n",
      "   Period: 2020-03-30 00:00 to 2020-10-05 00:00\n",
      "======================================================================\n",
      "Processing 28 candles for BTCUSDT at W interval\n",
      "   Middlewares: ['levels_middleware']\n"
     ]
    },
    {
     "data": {
      "application/vnd.plotly.v1+json": {
       "config": {
        "plotlyServerURL": "https://plot.ly"
       },
       "data": [
        {
         "close": {
          "bdata": "AAAAAABzukAAAAAAAPW6QAAAAACAzrtAAAAAAIALvkAAAAAAgF/BQAAAAACACsFAAAAAAIDlwkAAAAAAAAPBQAAAAADAdMJAAAAAAIAGw0AAAAAAAD7CQAAAAACAJ8JAAAAAAADQwUAAAAAAALnBQAAAAACAJ8JAAAAAAID5wUAAAAAAQGHDQAAAAACAoMVAAAAAAEDTxkAAAAAAQEXHQAAAAAAAxsZAAAAAAADfxkAAAAAAwAfEQAAAAAAAKMRAAAAAAABQxUAAAAAAAAnFQAAAAAAA1cRAAAAAAAA3xkA=",
          "dtype": "f8"
         },
         "high": {
          "bdata": "AAAAAIA+vEAAAAAAgCK9QAAAAAAAebxAAAAAAIA/vkAAAAAAAHnCQAAAAADApcNAAAAAAABqw0AAAAAAwHLDQAAAAACAA8NAAAAAAAA4xEAAAAAAgIXDQAAAAABAuMJAAAAAAAAbw0AAAAAAgCTCQAAAAABAfcJAAAAAAMA7wkAAAAAAAM3DQAAAAADAqMdAAAAAAEBGx0AAAAAAgI/HQAAAAADAachAAAAAAAAZx0AAAAAAAJHHQAAAAABApsRAAAAAAADQxUAAAAAAgHDFQAAAAADAY8VAAAAAAABxxkA=",
          "dtype": "f8"
         },
         "low": {
          "bdata": "AAAAAIDRtkAAAAAAgFW6QAAAAACAQblAAAAAAABeukAAAAAAAMi9QAAAAAAA2b9AAAAAAAD2v0AAAAAAAPnAQAAAAABA4MBAAAAAAAAkwkAAAAAAQMbBQAAAAABAZcFAAAAAAABEwUAAAAAAAGfBQAAAAACAs8FAAAAAAMCqwUAAAAAAANfBQAAAAABAYcNAAAAAAMBfxUAAAAAAAMTFQAAAAACAP8ZAAAAAAIC6xUAAAAAAADXDQAAAAAAAN8NAAAAAAAAFxEAAAAAAAM7DQAAAAAAATMRAAAAAAICRxEA=",
          "dtype": "f8"
         },
         "name": "Candlestick",
         "open": {
          "bdata": "AAAAAADxtkAAAAAAAHO6QAAAAAAA9bpAAAAAAIDOu0AAAAAAgAu+QAAAAACAX8FAAAAAAIAKwUAAAAAAgOXCQAAAAAAAA8FAAAAAAMB0wkAAAAAAgAbDQAAAAAAAPsJAAAAAAIAnwkAAAAAAANDBQAAAAAAAucFAAAAAAIAnwkAAAAAAgPnBQAAAAABAYcNAAAAAAICgxUAAAAAAQNPGQAAAAABARcdAAAAAAADGxkAAAAAAAN/GQAAAAADAB8RAAAAAAAAoxEAAAAAAAFDFQAAAAAAACcVAAAAAAADVxEA=",
          "dtype": "f8"
         },
         "showlegend": false,
         "type": "candlestick",
         "x": [
          "2020-03-30T00:00:00.000000000",
          "2020-04-06T00:00:00.000000000",
          "2020-04-13T00:00:00.000000000",
          "2020-04-20T00:00:00.000000000",
          "2020-04-27T00:00:00.000000000",
          "2020-05-04T00:00:00.000000000",
          "2020-05-11T00:00:00.000000000",
          "2020-05-18T00:00:00.000000000",
          "2020-05-25T00:00:00.000000000",
          "2020-06-01T00:00:00.000000000",
          "2020-06-08T00:00:00.000000000",
          "2020-06-15T00:00:00.000000000",
          "2020-06-22T00:00:00.000000000",
          "2020-06-29T00:00:00.000000000",
          "2020-07-06T00:00:00.000000000",
          "2020-07-13T00:00:00.000000000",
          "2020-07-20T00:00:00.000000000",
          "2020-07-27T00:00:00.000000000",
          "2020-08-03T00:00:00.000000000",
          "2020-08-10T00:00:00.000000000",
          "2020-08-17T00:00:00.000000000",
          "2020-08-24T00:00:00.000000000",
          "2020-08-31T00:00:00.000000000",
          "2020-09-07T00:00:00.000000000",
          "2020-09-14T00:00:00.000000000",
          "2020-09-21T00:00:00.000000000",
          "2020-09-28T00:00:00.000000000",
          "2020-10-05T00:00:00.000000000"
         ]
        },
        {
         "line": {
          "color": "orange",
          "dash": "dash",
          "width": 2
         },
         "mode": "lines",
         "name": "line_close_W",
         "showlegend": true,
         "type": "scatter",
         "x": [
          "2020-05-18T00:00:00",
          "2020-10-05T00:00:00"
         ],
         "y": [
          8710,
          8710
         ]
        },
        {
         "line": {
          "color": "orange",
          "dash": "dash",
          "width": 2
         },
         "mode": "lines",
         "name": "line_close_W",
         "showlegend": true,
         "type": "scatter",
         "x": [
          "2020-07-13T00:00:00",
          "2020-10-05T00:00:00"
         ],
         "y": [
          9203,
          9203
         ]
        },
        {
         "line": {
          "color": "orange",
          "dash": "dash",
          "width": 2
         },
         "mode": "lines",
         "name": "line_close_W",
         "showlegend": true,
         "type": "scatter",
         "x": [
          "2020-08-24T00:00:00",
          "2020-10-05T00:00:00"
         ],
         "y": [
          11710,
          11710
         ]
        },
        {
         "line": {
          "color": "orange",
          "dash": "dash",
          "width": 2
         },
         "mode": "lines",
         "name": "line_close_W",
         "showlegend": true,
         "type": "scatter",
         "x": [
          "2020-09-28T00:00:00",
          "2020-10-05T00:00:00"
         ],
         "y": [
          10666,
          10666
         ]
        },
        {
         "line": {
          "color": "orange",
          "dash": "dash",
          "width": 2
         },
         "mode": "lines",
         "name": "max_level_W",
         "showlegend": true,
         "type": "scatter",
         "x": [
          "2020-03-30T00:00:00",
          "2020-10-05T00:00:00"
         ],
         "y": [
          12499.5,
          12499.5
         ]
        },
        {
         "line": {
          "color": "orange",
          "dash": "dash",
          "width": 2
         },
         "mode": "lines",
         "name": "min_level_W",
         "showlegend": true,
         "type": "scatter",
         "x": [
          "2020-03-30T00:00:00",
          "2020-10-05T00:00:00"
         ],
         "y": [
          5841.5,
          5841.5
         ]
        }
       ],
       "layout": {
        "height": 800,
        "showlegend": false,
        "template": {
         "data": {
          "bar": [
           {
            "error_x": {
             "color": "#f2f5fa"
            },
            "error_y": {
             "color": "#f2f5fa"
            },
            "marker": {
             "line": {
              "color": "rgb(17,17,17)",
              "width": 0.5
             },
             "pattern": {
              "fillmode": "overlay",
              "size": 10,
              "solidity": 0.2
             }
            },
            "type": "bar"
           }
          ],
          "barpolar": [
           {
            "marker": {
             "line": {
              "color": "rgb(17,17,17)",
              "width": 0.5
             },
             "pattern": {
              "fillmode": "overlay",
              "size": 10,
              "solidity": 0.2
             }
            },
            "type": "barpolar"
           }
          ],
          "carpet": [
           {
            "aaxis": {
             "endlinecolor": "#A2B1C6",
             "gridcolor": "#506784",
             "linecolor": "#506784",
             "minorgridcolor": "#506784",
             "startlinecolor": "#A2B1C6"
            },
            "baxis": {
             "endlinecolor": "#A2B1C6",
             "gridcolor": "#506784",
             "linecolor": "#506784",
             "minorgridcolor": "#506784",
             "startlinecolor": "#A2B1C6"
            },
            "type": "carpet"
           }
          ],
          "choropleth": [
           {
            "colorbar": {
             "outlinewidth": 0,
             "ticks": ""
            },
            "type": "choropleth"
           }
          ],
          "contour": [
           {
            "colorbar": {
             "outlinewidth": 0,
             "ticks": ""
            },
            "colorscale": [
             [
              0,
              "#0d0887"
             ],
             [
              0.1111111111111111,
              "#46039f"
             ],
             [
              0.2222222222222222,
              "#7201a8"
             ],
             [
              0.3333333333333333,
              "#9c179e"
             ],
             [
              0.4444444444444444,
              "#bd3786"
             ],
             [
              0.5555555555555556,
              "#d8576b"
             ],
             [
              0.6666666666666666,
              "#ed7953"
             ],
             [
              0.7777777777777778,
              "#fb9f3a"
             ],
             [
              0.8888888888888888,
              "#fdca26"
             ],
             [
              1,
              "#f0f921"
             ]
            ],
            "type": "contour"
           }
          ],
          "contourcarpet": [
           {
            "colorbar": {
             "outlinewidth": 0,
             "ticks": ""
            },
            "type": "contourcarpet"
           }
          ],
          "heatmap": [
           {
            "colorbar": {
             "outlinewidth": 0,
             "ticks": ""
            },
            "colorscale": [
             [
              0,
              "#0d0887"
             ],
             [
              0.1111111111111111,
              "#46039f"
             ],
             [
              0.2222222222222222,
              "#7201a8"
             ],
             [
              0.3333333333333333,
              "#9c179e"
             ],
             [
              0.4444444444444444,
              "#bd3786"
             ],
             [
              0.5555555555555556,
              "#d8576b"
             ],
             [
              0.6666666666666666,
              "#ed7953"
             ],
             [
              0.7777777777777778,
              "#fb9f3a"
             ],
             [
              0.8888888888888888,
              "#fdca26"
             ],
             [
              1,
              "#f0f921"
             ]
            ],
            "type": "heatmap"
           }
          ],
          "histogram": [
           {
            "marker": {
             "pattern": {
              "fillmode": "overlay",
              "size": 10,
              "solidity": 0.2
             }
            },
            "type": "histogram"
           }
          ],
          "histogram2d": [
           {
            "colorbar": {
             "outlinewidth": 0,
             "ticks": ""
            },
            "colorscale": [
             [
              0,
              "#0d0887"
             ],
             [
              0.1111111111111111,
              "#46039f"
             ],
             [
              0.2222222222222222,
              "#7201a8"
             ],
             [
              0.3333333333333333,
              "#9c179e"
             ],
             [
              0.4444444444444444,
              "#bd3786"
             ],
             [
              0.5555555555555556,
              "#d8576b"
             ],
             [
              0.6666666666666666,
              "#ed7953"
             ],
             [
              0.7777777777777778,
              "#fb9f3a"
             ],
             [
              0.8888888888888888,
              "#fdca26"
             ],
             [
              1,
              "#f0f921"
             ]
            ],
            "type": "histogram2d"
           }
          ],
          "histogram2dcontour": [
           {
            "colorbar": {
             "outlinewidth": 0,
             "ticks": ""
            },
            "colorscale": [
             [
              0,
              "#0d0887"
             ],
             [
              0.1111111111111111,
              "#46039f"
             ],
             [
              0.2222222222222222,
              "#7201a8"
             ],
             [
              0.3333333333333333,
              "#9c179e"
             ],
             [
              0.4444444444444444,
              "#bd3786"
             ],
             [
              0.5555555555555556,
              "#d8576b"
             ],
             [
              0.6666666666666666,
              "#ed7953"
             ],
             [
              0.7777777777777778,
              "#fb9f3a"
             ],
             [
              0.8888888888888888,
              "#fdca26"
             ],
             [
              1,
              "#f0f921"
             ]
            ],
            "type": "histogram2dcontour"
           }
          ],
          "mesh3d": [
           {
            "colorbar": {
             "outlinewidth": 0,
             "ticks": ""
            },
            "type": "mesh3d"
           }
          ],
          "parcoords": [
           {
            "line": {
             "colorbar": {
              "outlinewidth": 0,
              "ticks": ""
             }
            },
            "type": "parcoords"
           }
          ],
          "pie": [
           {
            "automargin": true,
            "type": "pie"
           }
          ],
          "scatter": [
           {
            "marker": {
             "line": {
              "color": "#283442"
             }
            },
            "type": "scatter"
           }
          ],
          "scatter3d": [
           {
            "line": {
             "colorbar": {
              "outlinewidth": 0,
              "ticks": ""
             }
            },
            "marker": {
             "colorbar": {
              "outlinewidth": 0,
              "ticks": ""
             }
            },
            "type": "scatter3d"
           }
          ],
          "scattercarpet": [
           {
            "marker": {
             "colorbar": {
              "outlinewidth": 0,
              "ticks": ""
             }
            },
            "type": "scattercarpet"
           }
          ],
          "scattergeo": [
           {
            "marker": {
             "colorbar": {
              "outlinewidth": 0,
              "ticks": ""
             }
            },
            "type": "scattergeo"
           }
          ],
          "scattergl": [
           {
            "marker": {
             "line": {
              "color": "#283442"
             }
            },
            "type": "scattergl"
           }
          ],
          "scattermap": [
           {
            "marker": {
             "colorbar": {
              "outlinewidth": 0,
              "ticks": ""
             }
            },
            "type": "scattermap"
           }
          ],
          "scattermapbox": [
           {
            "marker": {
             "colorbar": {
              "outlinewidth": 0,
              "ticks": ""
             }
            },
            "type": "scattermapbox"
           }
          ],
          "scatterpolar": [
           {
            "marker": {
             "colorbar": {
              "outlinewidth": 0,
              "ticks": ""
             }
            },
            "type": "scatterpolar"
           }
          ],
          "scatterpolargl": [
           {
            "marker": {
             "colorbar": {
              "outlinewidth": 0,
              "ticks": ""
             }
            },
            "type": "scatterpolargl"
           }
          ],
          "scatterternary": [
           {
            "marker": {
             "colorbar": {
              "outlinewidth": 0,
              "ticks": ""
             }
            },
            "type": "scatterternary"
           }
          ],
          "surface": [
           {
            "colorbar": {
             "outlinewidth": 0,
             "ticks": ""
            },
            "colorscale": [
             [
              0,
              "#0d0887"
             ],
             [
              0.1111111111111111,
              "#46039f"
             ],
             [
              0.2222222222222222,
              "#7201a8"
             ],
             [
              0.3333333333333333,
              "#9c179e"
             ],
             [
              0.4444444444444444,
              "#bd3786"
             ],
             [
              0.5555555555555556,
              "#d8576b"
             ],
             [
              0.6666666666666666,
              "#ed7953"
             ],
             [
              0.7777777777777778,
              "#fb9f3a"
             ],
             [
              0.8888888888888888,
              "#fdca26"
             ],
             [
              1,
              "#f0f921"
             ]
            ],
            "type": "surface"
           }
          ],
          "table": [
           {
            "cells": {
             "fill": {
              "color": "#506784"
             },
             "line": {
              "color": "rgb(17,17,17)"
             }
            },
            "header": {
             "fill": {
              "color": "#2a3f5f"
             },
             "line": {
              "color": "rgb(17,17,17)"
             }
            },
            "type": "table"
           }
          ]
         },
         "layout": {
          "annotationdefaults": {
           "arrowcolor": "#f2f5fa",
           "arrowhead": 0,
           "arrowwidth": 1
          },
          "autotypenumbers": "strict",
          "coloraxis": {
           "colorbar": {
            "outlinewidth": 0,
            "ticks": ""
           }
          },
          "colorscale": {
           "diverging": [
            [
             0,
             "#8e0152"
            ],
            [
             0.1,
             "#c51b7d"
            ],
            [
             0.2,
             "#de77ae"
            ],
            [
             0.3,
             "#f1b6da"
            ],
            [
             0.4,
             "#fde0ef"
            ],
            [
             0.5,
             "#f7f7f7"
            ],
            [
             0.6,
             "#e6f5d0"
            ],
            [
             0.7,
             "#b8e186"
            ],
            [
             0.8,
             "#7fbc41"
            ],
            [
             0.9,
             "#4d9221"
            ],
            [
             1,
             "#276419"
            ]
           ],
           "sequential": [
            [
             0,
             "#0d0887"
            ],
            [
             0.1111111111111111,
             "#46039f"
            ],
            [
             0.2222222222222222,
             "#7201a8"
            ],
            [
             0.3333333333333333,
             "#9c179e"
            ],
            [
             0.4444444444444444,
             "#bd3786"
            ],
            [
             0.5555555555555556,
             "#d8576b"
            ],
            [
             0.6666666666666666,
             "#ed7953"
            ],
            [
             0.7777777777777778,
             "#fb9f3a"
            ],
            [
             0.8888888888888888,
             "#fdca26"
            ],
            [
             1,
             "#f0f921"
            ]
           ],
           "sequentialminus": [
            [
             0,
             "#0d0887"
            ],
            [
             0.1111111111111111,
             "#46039f"
            ],
            [
             0.2222222222222222,
             "#7201a8"
            ],
            [
             0.3333333333333333,
             "#9c179e"
            ],
            [
             0.4444444444444444,
             "#bd3786"
            ],
            [
             0.5555555555555556,
             "#d8576b"
            ],
            [
             0.6666666666666666,
             "#ed7953"
            ],
            [
             0.7777777777777778,
             "#fb9f3a"
            ],
            [
             0.8888888888888888,
             "#fdca26"
            ],
            [
             1,
             "#f0f921"
            ]
           ]
          },
          "colorway": [
           "#636efa",
           "#EF553B",
           "#00cc96",
           "#ab63fa",
           "#FFA15A",
           "#19d3f3",
           "#FF6692",
           "#B6E880",
           "#FF97FF",
           "#FECB52"
          ],
          "font": {
           "color": "#f2f5fa"
          },
          "geo": {
           "bgcolor": "rgb(17,17,17)",
           "lakecolor": "rgb(17,17,17)",
           "landcolor": "rgb(17,17,17)",
           "showlakes": true,
           "showland": true,
           "subunitcolor": "#506784"
          },
          "hoverlabel": {
           "align": "left"
          },
          "hovermode": "closest",
          "mapbox": {
           "style": "dark"
          },
          "paper_bgcolor": "rgb(17,17,17)",
          "plot_bgcolor": "rgb(17,17,17)",
          "polar": {
           "angularaxis": {
            "gridcolor": "#506784",
            "linecolor": "#506784",
            "ticks": ""
           },
           "bgcolor": "rgb(17,17,17)",
           "radialaxis": {
            "gridcolor": "#506784",
            "linecolor": "#506784",
            "ticks": ""
           }
          },
          "scene": {
           "xaxis": {
            "backgroundcolor": "rgb(17,17,17)",
            "gridcolor": "#506784",
            "gridwidth": 2,
            "linecolor": "#506784",
            "showbackground": true,
            "ticks": "",
            "zerolinecolor": "#C8D4E3"
           },
           "yaxis": {
            "backgroundcolor": "rgb(17,17,17)",
            "gridcolor": "#506784",
            "gridwidth": 2,
            "linecolor": "#506784",
            "showbackground": true,
            "ticks": "",
            "zerolinecolor": "#C8D4E3"
           },
           "zaxis": {
            "backgroundcolor": "rgb(17,17,17)",
            "gridcolor": "#506784",
            "gridwidth": 2,
            "linecolor": "#506784",
            "showbackground": true,
            "ticks": "",
            "zerolinecolor": "#C8D4E3"
           }
          },
          "shapedefaults": {
           "line": {
            "color": "#f2f5fa"
           }
          },
          "sliderdefaults": {
           "bgcolor": "#C8D4E3",
           "bordercolor": "rgb(17,17,17)",
           "borderwidth": 1,
           "tickwidth": 0
          },
          "ternary": {
           "aaxis": {
            "gridcolor": "#506784",
            "linecolor": "#506784",
            "ticks": ""
           },
           "baxis": {
            "gridcolor": "#506784",
            "linecolor": "#506784",
            "ticks": ""
           },
           "bgcolor": "rgb(17,17,17)",
           "caxis": {
            "gridcolor": "#506784",
            "linecolor": "#506784",
            "ticks": ""
           }
          },
          "title": {
           "x": 0.05
          },
          "updatemenudefaults": {
           "bgcolor": "#506784",
           "borderwidth": 0
          },
          "xaxis": {
           "automargin": true,
           "gridcolor": "#283442",
           "linecolor": "#506784",
           "ticks": "",
           "title": {
            "standoff": 15
           },
           "zerolinecolor": "#283442",
           "zerolinewidth": 2
          },
          "yaxis": {
           "automargin": true,
           "gridcolor": "#283442",
           "linecolor": "#506784",
           "ticks": "",
           "title": {
            "standoff": 15
           },
           "zerolinecolor": "#283442",
           "zerolinewidth": 2
          }
         }
        },
        "title": {
         "text": "BTCUSDT - W - TA Chart Visualizer"
        },
        "xaxis": {
         "fixedrange": false,
         "rangeslider": {
          "visible": false
         },
         "title": {
          "text": "Time"
         }
        },
        "yaxis": {
         "fixedrange": false,
         "title": {
          "text": "Price"
         },
         "type": "log"
        }
       }
      }
     },
     "metadata": {},
     "output_type": "display_data"
    },
    {
     "name": "stdout",
     "output_type": "stream",
     "text": [
      "\n",
      "======================================================================\n",
      "📊 Visualizing Segment 2/10: BTCUSDT - W\n",
      "   Period: 2020-10-12 00:00 to 2021-04-19 00:00\n",
      "======================================================================\n",
      "Processing 28 candles for BTCUSDT at W interval\n",
      "   Middlewares: ['levels_middleware']\n"
     ]
    },
    {
     "data": {
      "application/vnd.plotly.v1+json": {
       "config": {
        "plotlyServerURL": "https://plot.ly"
       },
       "data": [
        {
         "close": {
          "bdata": "AAAAAAByxkAAAAAAQHDJQAAAAAAA28pAAAAAAMA8zkAAAAAAwCHPQAAAAABg/dFAAAAAAMDA0UAAAAAAgOnSQAAAAABAutJAAAAAACDr1kAAAAAAoKbZQAAAAABgGOBAAAAAADCj4kAAAAAA8IPhQAAAAAAgeN9AAAAAAAAt4EAAAAAAMPXiQAAAAAAwxudAAAAAAGAO7EAAAAAAgAzmQAAAAABQ4OhAAAAAAIDX7EAAAAAA4ADsQAAAAAAAOutAAAAAAABs7EAAAAAAMFDtQAAAAACAZOtAAAAAANDv50A=",
          "dtype": "f8"
         },
         "high": {
          "bdata": "AAAAAIDoxkAAAAAAABjKQAAAAAAAlMtAAAAAAAA0z0AAAAAAIBTQQAAAAABgidJAAAAAAMAS00AAAAAAAHvTQAAAAADA+dJAAAAAAADG10AAAAAAAM3bQAAAAACAAOFAAAAAAICO5EAAAAAAgJHjQAAAAAAAhOJAAAAAAADd4kAAAAAAwP7jQAAAAABAVehAAAAAAOCD7EAAAAAAgBrsQAAAAADAselAAAAAAHA+7kAAAAAAAKTtQAAAAABQhOxAAAAAAIBx7UAAAAAA8BzuQAAAAADwte9AAAAAAIAL7EA=",
          "dtype": "f8"
         },
         "low": {
          "bdata": "AAAAAADgxUAAAAAAQEfGQAAAAACA8MhAAAAAAIDLyUAAAAAAgPTMQAAAAAAA/c5AAAAAAAClz0AAAAAAoKrRQAAAAADAJ9FAAAAAAGCS0kAAAAAAwHHVQAAAAACAUtlAAAAAAMBE20AAAAAAwLbdQAAAAABgPNxAAAAAAECW3EAAAAAAIJbfQAAAAACgleJAAAAAABBS5kAAAAAAAAnlQAAAAADg9uVAAAAAACAd6EAAAAAAABDqQAAAAAAAqehAAAAAAMDb6kAAAAAA4B3rQAAAAACAqOhAAAAAAGD15kA=",
          "dtype": "f8"
         },
         "name": "Candlestick",
         "open": {
          "bdata": "AAAAAAA3xkAAAAAAAHLGQAAAAABAcMlAAAAAAADbykAAAAAAwDzOQAAAAADAIc9AAAAAAGD90UAAAAAAwMDRQAAAAACA6dJAAAAAAEC60kAAAAAAIOvWQAAAAACgptlAAAAAAGAY4EAAAAAAMKPiQAAAAADwg+FAAAAAACB430AAAAAAAC3gQAAAAAAw9eJAAAAAADDG50AAAAAAYA7sQAAAAACADOZAAAAAAHDk6EAAAAAAgNfsQAAAAADgAOxAAAAAAAA660AAAAAAAGzsQAAAAAAwUO1AAAAAAIBk60A=",
          "dtype": "f8"
         },
         "showlegend": false,
         "type": "candlestick",
         "x": [
          "2020-10-12T00:00:00.000000000",
          "2020-10-19T00:00:00.000000000",
          "2020-10-26T00:00:00.000000000",
          "2020-11-02T00:00:00.000000000",
          "2020-11-09T00:00:00.000000000",
          "2020-11-16T00:00:00.000000000",
          "2020-11-23T00:00:00.000000000",
          "2020-11-30T00:00:00.000000000",
          "2020-12-07T00:00:00.000000000",
          "2020-12-14T00:00:00.000000000",
          "2020-12-21T00:00:00.000000000",
          "2020-12-28T00:00:00.000000000",
          "2021-01-04T00:00:00.000000000",
          "2021-01-11T00:00:00.000000000",
          "2021-01-18T00:00:00.000000000",
          "2021-01-25T00:00:00.000000000",
          "2021-02-01T00:00:00.000000000",
          "2021-02-08T00:00:00.000000000",
          "2021-02-15T00:00:00.000000000",
          "2021-02-22T00:00:00.000000000",
          "2021-03-01T00:00:00.000000000",
          "2021-03-08T00:00:00.000000000",
          "2021-03-15T00:00:00.000000000",
          "2021-03-22T00:00:00.000000000",
          "2021-03-29T00:00:00.000000000",
          "2021-04-05T00:00:00.000000000",
          "2021-04-12T00:00:00.000000000",
          "2021-04-19T00:00:00.000000000"
         ]
        },
        {
         "line": {
          "color": "orange",
          "dash": "dash",
          "width": 2
         },
         "mode": "lines",
         "name": "line_close_W",
         "showlegend": true,
         "type": "scatter",
         "x": [
          "2020-12-07T00:00:00",
          "2021-04-19T00:00:00"
         ],
         "y": [
          19177,
          19177
         ]
        },
        {
         "line": {
          "color": "orange",
          "dash": "dash",
          "width": 2
         },
         "mode": "lines",
         "name": "line_close_W",
         "showlegend": true,
         "type": "scatter",
         "x": [
          "2021-01-18T00:00:00",
          "2021-04-19T00:00:00"
         ],
         "y": [
          32224.5,
          32224.5
         ]
        },
        {
         "line": {
          "color": "orange",
          "dash": "dash",
          "width": 2
         },
         "mode": "lines",
         "name": "line_close_W",
         "showlegend": true,
         "type": "scatter",
         "x": [
          "2021-02-22T00:00:00",
          "2021-04-19T00:00:00"
         ],
         "y": [
          45156,
          45156
         ]
        },
        {
         "line": {
          "color": "orange",
          "dash": "dash",
          "width": 2
         },
         "mode": "lines",
         "name": "line_close_W",
         "showlegend": true,
         "type": "scatter",
         "x": [
          "2021-04-05T00:00:00",
          "2021-04-19T00:00:00"
         ],
         "y": [
          60033.5,
          60033.5
         ]
        },
        {
         "line": {
          "color": "orange",
          "dash": "dash",
          "width": 2
         },
         "mode": "lines",
         "name": "max_level_W",
         "showlegend": true,
         "type": "scatter",
         "x": [
          "2020-10-12T00:00:00",
          "2021-04-19T00:00:00"
         ],
         "y": [
          64943.5,
          64943.5
         ]
        },
        {
         "line": {
          "color": "orange",
          "dash": "dash",
          "width": 2
         },
         "mode": "lines",
         "name": "min_level_W",
         "showlegend": true,
         "type": "scatter",
         "x": [
          "2020-10-12T00:00:00",
          "2021-04-19T00:00:00"
         ],
         "y": [
          11200,
          11200
         ]
        }
       ],
       "layout": {
        "height": 800,
        "showlegend": false,
        "template": {
         "data": {
          "bar": [
           {
            "error_x": {
             "color": "#f2f5fa"
            },
            "error_y": {
             "color": "#f2f5fa"
            },
            "marker": {
             "line": {
              "color": "rgb(17,17,17)",
              "width": 0.5
             },
             "pattern": {
              "fillmode": "overlay",
              "size": 10,
              "solidity": 0.2
             }
            },
            "type": "bar"
           }
          ],
          "barpolar": [
           {
            "marker": {
             "line": {
              "color": "rgb(17,17,17)",
              "width": 0.5
             },
             "pattern": {
              "fillmode": "overlay",
              "size": 10,
              "solidity": 0.2
             }
            },
            "type": "barpolar"
           }
          ],
          "carpet": [
           {
            "aaxis": {
             "endlinecolor": "#A2B1C6",
             "gridcolor": "#506784",
             "linecolor": "#506784",
             "minorgridcolor": "#506784",
             "startlinecolor": "#A2B1C6"
            },
            "baxis": {
             "endlinecolor": "#A2B1C6",
             "gridcolor": "#506784",
             "linecolor": "#506784",
             "minorgridcolor": "#506784",
             "startlinecolor": "#A2B1C6"
            },
            "type": "carpet"
           }
          ],
          "choropleth": [
           {
            "colorbar": {
             "outlinewidth": 0,
             "ticks": ""
            },
            "type": "choropleth"
           }
          ],
          "contour": [
           {
            "colorbar": {
             "outlinewidth": 0,
             "ticks": ""
            },
            "colorscale": [
             [
              0,
              "#0d0887"
             ],
             [
              0.1111111111111111,
              "#46039f"
             ],
             [
              0.2222222222222222,
              "#7201a8"
             ],
             [
              0.3333333333333333,
              "#9c179e"
             ],
             [
              0.4444444444444444,
              "#bd3786"
             ],
             [
              0.5555555555555556,
              "#d8576b"
             ],
             [
              0.6666666666666666,
              "#ed7953"
             ],
             [
              0.7777777777777778,
              "#fb9f3a"
             ],
             [
              0.8888888888888888,
              "#fdca26"
             ],
             [
              1,
              "#f0f921"
             ]
            ],
            "type": "contour"
           }
          ],
          "contourcarpet": [
           {
            "colorbar": {
             "outlinewidth": 0,
             "ticks": ""
            },
            "type": "contourcarpet"
           }
          ],
          "heatmap": [
           {
            "colorbar": {
             "outlinewidth": 0,
             "ticks": ""
            },
            "colorscale": [
             [
              0,
              "#0d0887"
             ],
             [
              0.1111111111111111,
              "#46039f"
             ],
             [
              0.2222222222222222,
              "#7201a8"
             ],
             [
              0.3333333333333333,
              "#9c179e"
             ],
             [
              0.4444444444444444,
              "#bd3786"
             ],
             [
              0.5555555555555556,
              "#d8576b"
             ],
             [
              0.6666666666666666,
              "#ed7953"
             ],
             [
              0.7777777777777778,
              "#fb9f3a"
             ],
             [
              0.8888888888888888,
              "#fdca26"
             ],
             [
              1,
              "#f0f921"
             ]
            ],
            "type": "heatmap"
           }
          ],
          "histogram": [
           {
            "marker": {
             "pattern": {
              "fillmode": "overlay",
              "size": 10,
              "solidity": 0.2
             }
            },
            "type": "histogram"
           }
          ],
          "histogram2d": [
           {
            "colorbar": {
             "outlinewidth": 0,
             "ticks": ""
            },
            "colorscale": [
             [
              0,
              "#0d0887"
             ],
             [
              0.1111111111111111,
              "#46039f"
             ],
             [
              0.2222222222222222,
              "#7201a8"
             ],
             [
              0.3333333333333333,
              "#9c179e"
             ],
             [
              0.4444444444444444,
              "#bd3786"
             ],
             [
              0.5555555555555556,
              "#d8576b"
             ],
             [
              0.6666666666666666,
              "#ed7953"
             ],
             [
              0.7777777777777778,
              "#fb9f3a"
             ],
             [
              0.8888888888888888,
              "#fdca26"
             ],
             [
              1,
              "#f0f921"
             ]
            ],
            "type": "histogram2d"
           }
          ],
          "histogram2dcontour": [
           {
            "colorbar": {
             "outlinewidth": 0,
             "ticks": ""
            },
            "colorscale": [
             [
              0,
              "#0d0887"
             ],
             [
              0.1111111111111111,
              "#46039f"
             ],
             [
              0.2222222222222222,
              "#7201a8"
             ],
             [
              0.3333333333333333,
              "#9c179e"
             ],
             [
              0.4444444444444444,
              "#bd3786"
             ],
             [
              0.5555555555555556,
              "#d8576b"
             ],
             [
              0.6666666666666666,
              "#ed7953"
             ],
             [
              0.7777777777777778,
              "#fb9f3a"
             ],
             [
              0.8888888888888888,
              "#fdca26"
             ],
             [
              1,
              "#f0f921"
             ]
            ],
            "type": "histogram2dcontour"
           }
          ],
          "mesh3d": [
           {
            "colorbar": {
             "outlinewidth": 0,
             "ticks": ""
            },
            "type": "mesh3d"
           }
          ],
          "parcoords": [
           {
            "line": {
             "colorbar": {
              "outlinewidth": 0,
              "ticks": ""
             }
            },
            "type": "parcoords"
           }
          ],
          "pie": [
           {
            "automargin": true,
            "type": "pie"
           }
          ],
          "scatter": [
           {
            "marker": {
             "line": {
              "color": "#283442"
             }
            },
            "type": "scatter"
           }
          ],
          "scatter3d": [
           {
            "line": {
             "colorbar": {
              "outlinewidth": 0,
              "ticks": ""
             }
            },
            "marker": {
             "colorbar": {
              "outlinewidth": 0,
              "ticks": ""
             }
            },
            "type": "scatter3d"
           }
          ],
          "scattercarpet": [
           {
            "marker": {
             "colorbar": {
              "outlinewidth": 0,
              "ticks": ""
             }
            },
            "type": "scattercarpet"
           }
          ],
          "scattergeo": [
           {
            "marker": {
             "colorbar": {
              "outlinewidth": 0,
              "ticks": ""
             }
            },
            "type": "scattergeo"
           }
          ],
          "scattergl": [
           {
            "marker": {
             "line": {
              "color": "#283442"
             }
            },
            "type": "scattergl"
           }
          ],
          "scattermap": [
           {
            "marker": {
             "colorbar": {
              "outlinewidth": 0,
              "ticks": ""
             }
            },
            "type": "scattermap"
           }
          ],
          "scattermapbox": [
           {
            "marker": {
             "colorbar": {
              "outlinewidth": 0,
              "ticks": ""
             }
            },
            "type": "scattermapbox"
           }
          ],
          "scatterpolar": [
           {
            "marker": {
             "colorbar": {
              "outlinewidth": 0,
              "ticks": ""
             }
            },
            "type": "scatterpolar"
           }
          ],
          "scatterpolargl": [
           {
            "marker": {
             "colorbar": {
              "outlinewidth": 0,
              "ticks": ""
             }
            },
            "type": "scatterpolargl"
           }
          ],
          "scatterternary": [
           {
            "marker": {
             "colorbar": {
              "outlinewidth": 0,
              "ticks": ""
             }
            },
            "type": "scatterternary"
           }
          ],
          "surface": [
           {
            "colorbar": {
             "outlinewidth": 0,
             "ticks": ""
            },
            "colorscale": [
             [
              0,
              "#0d0887"
             ],
             [
              0.1111111111111111,
              "#46039f"
             ],
             [
              0.2222222222222222,
              "#7201a8"
             ],
             [
              0.3333333333333333,
              "#9c179e"
             ],
             [
              0.4444444444444444,
              "#bd3786"
             ],
             [
              0.5555555555555556,
              "#d8576b"
             ],
             [
              0.6666666666666666,
              "#ed7953"
             ],
             [
              0.7777777777777778,
              "#fb9f3a"
             ],
             [
              0.8888888888888888,
              "#fdca26"
             ],
             [
              1,
              "#f0f921"
             ]
            ],
            "type": "surface"
           }
          ],
          "table": [
           {
            "cells": {
             "fill": {
              "color": "#506784"
             },
             "line": {
              "color": "rgb(17,17,17)"
             }
            },
            "header": {
             "fill": {
              "color": "#2a3f5f"
             },
             "line": {
              "color": "rgb(17,17,17)"
             }
            },
            "type": "table"
           }
          ]
         },
         "layout": {
          "annotationdefaults": {
           "arrowcolor": "#f2f5fa",
           "arrowhead": 0,
           "arrowwidth": 1
          },
          "autotypenumbers": "strict",
          "coloraxis": {
           "colorbar": {
            "outlinewidth": 0,
            "ticks": ""
           }
          },
          "colorscale": {
           "diverging": [
            [
             0,
             "#8e0152"
            ],
            [
             0.1,
             "#c51b7d"
            ],
            [
             0.2,
             "#de77ae"
            ],
            [
             0.3,
             "#f1b6da"
            ],
            [
             0.4,
             "#fde0ef"
            ],
            [
             0.5,
             "#f7f7f7"
            ],
            [
             0.6,
             "#e6f5d0"
            ],
            [
             0.7,
             "#b8e186"
            ],
            [
             0.8,
             "#7fbc41"
            ],
            [
             0.9,
             "#4d9221"
            ],
            [
             1,
             "#276419"
            ]
           ],
           "sequential": [
            [
             0,
             "#0d0887"
            ],
            [
             0.1111111111111111,
             "#46039f"
            ],
            [
             0.2222222222222222,
             "#7201a8"
            ],
            [
             0.3333333333333333,
             "#9c179e"
            ],
            [
             0.4444444444444444,
             "#bd3786"
            ],
            [
             0.5555555555555556,
             "#d8576b"
            ],
            [
             0.6666666666666666,
             "#ed7953"
            ],
            [
             0.7777777777777778,
             "#fb9f3a"
            ],
            [
             0.8888888888888888,
             "#fdca26"
            ],
            [
             1,
             "#f0f921"
            ]
           ],
           "sequentialminus": [
            [
             0,
             "#0d0887"
            ],
            [
             0.1111111111111111,
             "#46039f"
            ],
            [
             0.2222222222222222,
             "#7201a8"
            ],
            [
             0.3333333333333333,
             "#9c179e"
            ],
            [
             0.4444444444444444,
             "#bd3786"
            ],
            [
             0.5555555555555556,
             "#d8576b"
            ],
            [
             0.6666666666666666,
             "#ed7953"
            ],
            [
             0.7777777777777778,
             "#fb9f3a"
            ],
            [
             0.8888888888888888,
             "#fdca26"
            ],
            [
             1,
             "#f0f921"
            ]
           ]
          },
          "colorway": [
           "#636efa",
           "#EF553B",
           "#00cc96",
           "#ab63fa",
           "#FFA15A",
           "#19d3f3",
           "#FF6692",
           "#B6E880",
           "#FF97FF",
           "#FECB52"
          ],
          "font": {
           "color": "#f2f5fa"
          },
          "geo": {
           "bgcolor": "rgb(17,17,17)",
           "lakecolor": "rgb(17,17,17)",
           "landcolor": "rgb(17,17,17)",
           "showlakes": true,
           "showland": true,
           "subunitcolor": "#506784"
          },
          "hoverlabel": {
           "align": "left"
          },
          "hovermode": "closest",
          "mapbox": {
           "style": "dark"
          },
          "paper_bgcolor": "rgb(17,17,17)",
          "plot_bgcolor": "rgb(17,17,17)",
          "polar": {
           "angularaxis": {
            "gridcolor": "#506784",
            "linecolor": "#506784",
            "ticks": ""
           },
           "bgcolor": "rgb(17,17,17)",
           "radialaxis": {
            "gridcolor": "#506784",
            "linecolor": "#506784",
            "ticks": ""
           }
          },
          "scene": {
           "xaxis": {
            "backgroundcolor": "rgb(17,17,17)",
            "gridcolor": "#506784",
            "gridwidth": 2,
            "linecolor": "#506784",
            "showbackground": true,
            "ticks": "",
            "zerolinecolor": "#C8D4E3"
           },
           "yaxis": {
            "backgroundcolor": "rgb(17,17,17)",
            "gridcolor": "#506784",
            "gridwidth": 2,
            "linecolor": "#506784",
            "showbackground": true,
            "ticks": "",
            "zerolinecolor": "#C8D4E3"
           },
           "zaxis": {
            "backgroundcolor": "rgb(17,17,17)",
            "gridcolor": "#506784",
            "gridwidth": 2,
            "linecolor": "#506784",
            "showbackground": true,
            "ticks": "",
            "zerolinecolor": "#C8D4E3"
           }
          },
          "shapedefaults": {
           "line": {
            "color": "#f2f5fa"
           }
          },
          "sliderdefaults": {
           "bgcolor": "#C8D4E3",
           "bordercolor": "rgb(17,17,17)",
           "borderwidth": 1,
           "tickwidth": 0
          },
          "ternary": {
           "aaxis": {
            "gridcolor": "#506784",
            "linecolor": "#506784",
            "ticks": ""
           },
           "baxis": {
            "gridcolor": "#506784",
            "linecolor": "#506784",
            "ticks": ""
           },
           "bgcolor": "rgb(17,17,17)",
           "caxis": {
            "gridcolor": "#506784",
            "linecolor": "#506784",
            "ticks": ""
           }
          },
          "title": {
           "x": 0.05
          },
          "updatemenudefaults": {
           "bgcolor": "#506784",
           "borderwidth": 0
          },
          "xaxis": {
           "automargin": true,
           "gridcolor": "#283442",
           "linecolor": "#506784",
           "ticks": "",
           "title": {
            "standoff": 15
           },
           "zerolinecolor": "#283442",
           "zerolinewidth": 2
          },
          "yaxis": {
           "automargin": true,
           "gridcolor": "#283442",
           "linecolor": "#506784",
           "ticks": "",
           "title": {
            "standoff": 15
           },
           "zerolinecolor": "#283442",
           "zerolinewidth": 2
          }
         }
        },
        "title": {
         "text": "BTCUSDT - W - TA Chart Visualizer"
        },
        "xaxis": {
         "fixedrange": false,
         "rangeslider": {
          "visible": false
         },
         "title": {
          "text": "Time"
         }
        },
        "yaxis": {
         "fixedrange": false,
         "title": {
          "text": "Price"
         },
         "type": "log"
        }
       }
      }
     },
     "metadata": {},
     "output_type": "display_data"
    },
    {
     "name": "stdout",
     "output_type": "stream",
     "text": [
      "\n",
      "======================================================================\n",
      "📊 Visualizing Segment 3/10: BTCUSDT - W\n",
      "   Period: 2021-04-26 00:00 to 2021-11-01 00:00\n",
      "======================================================================\n",
      "Processing 28 candles for BTCUSDT at W interval\n",
      "   Middlewares: ['levels_middleware']\n"
     ]
    },
    {
     "data": {
      "application/vnd.plotly.v1+json": {
       "config": {
        "plotlyServerURL": "https://plot.ly"
       },
       "data": [
        {
         "close": {
          "bdata": "AAAAAPCi60AAAAAAEHDsQAAAAADAqeZAAAAAAEDs4EAAAAAAsGnhQAAAAAAge+FAAAAAAEAO40AAAAAAEGPhQAAAAABQ8OBAAAAAAKA74UAAAAAAQLfgQAAAAAAAAd9AAAAAAJBC4UAAAAAAkHPjQAAAAADAY+VAAAAAAMDy5kAAAAAAEAzoQAAAAABwzedAAAAAADA36UAAAAAAcHnmQAAAAABQFedAAAAAABAU5UAAAAAA8IXnQAAAAACQuOpAAAAAAAAN7kAAAAAAsLztQAAAAABA8+1AAAAAAADk7kA=",
          "dtype": "f8"
         },
         "high": {
          "bdata": "AAAAANCI7EAAAAAAwBDtQAAAAABAGO1AAAAAAKDE5kAAAAAA4PTjQAAAAAAAQuNAAAAAAIA540AAAAAAgCrkQAAAAAAwc+FAAAAAAKDb4UAAAAAAoDvhQAAAAACA5+BAAAAAAMBE4UAAAAAAAM3kQAAAAADwIOZAAAAAABCT50AAAAAAAFHoQAAAAABAp+hAAAAAAHBS6UAAAAAAQM/pQAAAAAAA1OdAAAAAAMAd50AAAAAAoBnoQAAAAABAq+tAAAAAACAn70AAAAAAoGjwQAAAAADQIO9AAAAAAFBg70A=",
          "dtype": "f8"
         },
         "low": {
          "bdata": "AAAAAGDK50AAAAAAQNjpQAAAAABAbuVAAAAAAEAg3EAAAAAAAErgQAAAAAAQsOBAAAAAAABB3kAAAAAAQEfgQAAAAACAGdxAAAAAAMDt30AAAAAAQFbfQAAAAAAAVN5AAAAAACCW3EAAAAAA0CzhQAAAAAAgNOJAAAAAAADm5EAAAAAAAHzlQAAAAACAm+ZAAAAAACC/5kAAAAAAQKvkQAAAAADwF+VAAAAAAABM40AAAAAAEOPjQAAAAADQ5uZAAAAAAIA46kAAAAAAAAjtQAAAAACAEOxAAAAAAIAG7UA=",
          "dtype": "f8"
         },
         "name": "Candlestick",
         "open": {
          "bdata": "AAAAANDv50AAAAAA8KLrQAAAAAAQcOxAAAAAAMCp5kAAAAAAQOzgQAAAAACwaeFAAAAAACB74UAAAAAAQA7jQAAAAAAQY+FAAAAAAFDw4EAAAAAAoDvhQAAAAABAt+BAAAAAAAAB30AAAAAAkELhQAAAAACQc+NAAAAAAMBj5UAAAAAAwPLmQAAAAAAQDOhAAAAAAHDN50AAAAAAMDfpQAAAAABweeZAAAAAAFAV50AAAAAAEBTlQAAAAADwhedAAAAAAJC46kAAAAAAAA3uQAAAAACwvO1AAAAAAEDz7UA=",
          "dtype": "f8"
         },
         "showlegend": false,
         "type": "candlestick",
         "x": [
          "2021-04-26T00:00:00.000000000",
          "2021-05-03T00:00:00.000000000",
          "2021-05-10T00:00:00.000000000",
          "2021-05-17T00:00:00.000000000",
          "2021-05-24T00:00:00.000000000",
          "2021-05-31T00:00:00.000000000",
          "2021-06-07T00:00:00.000000000",
          "2021-06-14T00:00:00.000000000",
          "2021-06-21T00:00:00.000000000",
          "2021-06-28T00:00:00.000000000",
          "2021-07-05T00:00:00.000000000",
          "2021-07-12T00:00:00.000000000",
          "2021-07-19T00:00:00.000000000",
          "2021-07-26T00:00:00.000000000",
          "2021-08-02T00:00:00.000000000",
          "2021-08-09T00:00:00.000000000",
          "2021-08-16T00:00:00.000000000",
          "2021-08-23T00:00:00.000000000",
          "2021-08-30T00:00:00.000000000",
          "2021-09-06T00:00:00.000000000",
          "2021-09-13T00:00:00.000000000",
          "2021-09-20T00:00:00.000000000",
          "2021-09-27T00:00:00.000000000",
          "2021-10-04T00:00:00.000000000",
          "2021-10-11T00:00:00.000000000",
          "2021-10-18T00:00:00.000000000",
          "2021-10-25T00:00:00.000000000",
          "2021-11-01T00:00:00.000000000"
         ]
        },
        {
         "line": {
          "color": "orange",
          "dash": "dash",
          "width": 2
         },
         "mode": "lines",
         "name": "line_close_W",
         "showlegend": true,
         "type": "scatter",
         "x": [
          "2021-07-12T00:00:00",
          "2021-11-01T00:00:00"
         ],
         "y": [
          31748,
          31748
         ]
        },
        {
         "line": {
          "color": "orange",
          "dash": "dash",
          "width": 2
         },
         "mode": "lines",
         "name": "line_close_W",
         "showlegend": true,
         "type": "scatter",
         "x": [
          "2021-09-20T00:00:00",
          "2021-11-01T00:00:00"
         ],
         "y": [
          43168.5,
          43168.5
         ]
        },
        {
         "line": {
          "color": "orange",
          "dash": "dash",
          "width": 2
         },
         "mode": "lines",
         "name": "max_level_W",
         "showlegend": true,
         "type": "scatter",
         "x": [
          "2021-04-26T00:00:00",
          "2021-11-01T00:00:00"
         ],
         "y": [
          67210,
          67210
         ]
        },
        {
         "line": {
          "color": "orange",
          "dash": "dash",
          "width": 2
         },
         "mode": "lines",
         "name": "min_level_W",
         "showlegend": true,
         "type": "scatter",
         "x": [
          "2021-04-26T00:00:00",
          "2021-11-01T00:00:00"
         ],
         "y": [
          28774,
          28774
         ]
        }
       ],
       "layout": {
        "height": 800,
        "showlegend": false,
        "template": {
         "data": {
          "bar": [
           {
            "error_x": {
             "color": "#f2f5fa"
            },
            "error_y": {
             "color": "#f2f5fa"
            },
            "marker": {
             "line": {
              "color": "rgb(17,17,17)",
              "width": 0.5
             },
             "pattern": {
              "fillmode": "overlay",
              "size": 10,
              "solidity": 0.2
             }
            },
            "type": "bar"
           }
          ],
          "barpolar": [
           {
            "marker": {
             "line": {
              "color": "rgb(17,17,17)",
              "width": 0.5
             },
             "pattern": {
              "fillmode": "overlay",
              "size": 10,
              "solidity": 0.2
             }
            },
            "type": "barpolar"
           }
          ],
          "carpet": [
           {
            "aaxis": {
             "endlinecolor": "#A2B1C6",
             "gridcolor": "#506784",
             "linecolor": "#506784",
             "minorgridcolor": "#506784",
             "startlinecolor": "#A2B1C6"
            },
            "baxis": {
             "endlinecolor": "#A2B1C6",
             "gridcolor": "#506784",
             "linecolor": "#506784",
             "minorgridcolor": "#506784",
             "startlinecolor": "#A2B1C6"
            },
            "type": "carpet"
           }
          ],
          "choropleth": [
           {
            "colorbar": {
             "outlinewidth": 0,
             "ticks": ""
            },
            "type": "choropleth"
           }
          ],
          "contour": [
           {
            "colorbar": {
             "outlinewidth": 0,
             "ticks": ""
            },
            "colorscale": [
             [
              0,
              "#0d0887"
             ],
             [
              0.1111111111111111,
              "#46039f"
             ],
             [
              0.2222222222222222,
              "#7201a8"
             ],
             [
              0.3333333333333333,
              "#9c179e"
             ],
             [
              0.4444444444444444,
              "#bd3786"
             ],
             [
              0.5555555555555556,
              "#d8576b"
             ],
             [
              0.6666666666666666,
              "#ed7953"
             ],
             [
              0.7777777777777778,
              "#fb9f3a"
             ],
             [
              0.8888888888888888,
              "#fdca26"
             ],
             [
              1,
              "#f0f921"
             ]
            ],
            "type": "contour"
           }
          ],
          "contourcarpet": [
           {
            "colorbar": {
             "outlinewidth": 0,
             "ticks": ""
            },
            "type": "contourcarpet"
           }
          ],
          "heatmap": [
           {
            "colorbar": {
             "outlinewidth": 0,
             "ticks": ""
            },
            "colorscale": [
             [
              0,
              "#0d0887"
             ],
             [
              0.1111111111111111,
              "#46039f"
             ],
             [
              0.2222222222222222,
              "#7201a8"
             ],
             [
              0.3333333333333333,
              "#9c179e"
             ],
             [
              0.4444444444444444,
              "#bd3786"
             ],
             [
              0.5555555555555556,
              "#d8576b"
             ],
             [
              0.6666666666666666,
              "#ed7953"
             ],
             [
              0.7777777777777778,
              "#fb9f3a"
             ],
             [
              0.8888888888888888,
              "#fdca26"
             ],
             [
              1,
              "#f0f921"
             ]
            ],
            "type": "heatmap"
           }
          ],
          "histogram": [
           {
            "marker": {
             "pattern": {
              "fillmode": "overlay",
              "size": 10,
              "solidity": 0.2
             }
            },
            "type": "histogram"
           }
          ],
          "histogram2d": [
           {
            "colorbar": {
             "outlinewidth": 0,
             "ticks": ""
            },
            "colorscale": [
             [
              0,
              "#0d0887"
             ],
             [
              0.1111111111111111,
              "#46039f"
             ],
             [
              0.2222222222222222,
              "#7201a8"
             ],
             [
              0.3333333333333333,
              "#9c179e"
             ],
             [
              0.4444444444444444,
              "#bd3786"
             ],
             [
              0.5555555555555556,
              "#d8576b"
             ],
             [
              0.6666666666666666,
              "#ed7953"
             ],
             [
              0.7777777777777778,
              "#fb9f3a"
             ],
             [
              0.8888888888888888,
              "#fdca26"
             ],
             [
              1,
              "#f0f921"
             ]
            ],
            "type": "histogram2d"
           }
          ],
          "histogram2dcontour": [
           {
            "colorbar": {
             "outlinewidth": 0,
             "ticks": ""
            },
            "colorscale": [
             [
              0,
              "#0d0887"
             ],
             [
              0.1111111111111111,
              "#46039f"
             ],
             [
              0.2222222222222222,
              "#7201a8"
             ],
             [
              0.3333333333333333,
              "#9c179e"
             ],
             [
              0.4444444444444444,
              "#bd3786"
             ],
             [
              0.5555555555555556,
              "#d8576b"
             ],
             [
              0.6666666666666666,
              "#ed7953"
             ],
             [
              0.7777777777777778,
              "#fb9f3a"
             ],
             [
              0.8888888888888888,
              "#fdca26"
             ],
             [
              1,
              "#f0f921"
             ]
            ],
            "type": "histogram2dcontour"
           }
          ],
          "mesh3d": [
           {
            "colorbar": {
             "outlinewidth": 0,
             "ticks": ""
            },
            "type": "mesh3d"
           }
          ],
          "parcoords": [
           {
            "line": {
             "colorbar": {
              "outlinewidth": 0,
              "ticks": ""
             }
            },
            "type": "parcoords"
           }
          ],
          "pie": [
           {
            "automargin": true,
            "type": "pie"
           }
          ],
          "scatter": [
           {
            "marker": {
             "line": {
              "color": "#283442"
             }
            },
            "type": "scatter"
           }
          ],
          "scatter3d": [
           {
            "line": {
             "colorbar": {
              "outlinewidth": 0,
              "ticks": ""
             }
            },
            "marker": {
             "colorbar": {
              "outlinewidth": 0,
              "ticks": ""
             }
            },
            "type": "scatter3d"
           }
          ],
          "scattercarpet": [
           {
            "marker": {
             "colorbar": {
              "outlinewidth": 0,
              "ticks": ""
             }
            },
            "type": "scattercarpet"
           }
          ],
          "scattergeo": [
           {
            "marker": {
             "colorbar": {
              "outlinewidth": 0,
              "ticks": ""
             }
            },
            "type": "scattergeo"
           }
          ],
          "scattergl": [
           {
            "marker": {
             "line": {
              "color": "#283442"
             }
            },
            "type": "scattergl"
           }
          ],
          "scattermap": [
           {
            "marker": {
             "colorbar": {
              "outlinewidth": 0,
              "ticks": ""
             }
            },
            "type": "scattermap"
           }
          ],
          "scattermapbox": [
           {
            "marker": {
             "colorbar": {
              "outlinewidth": 0,
              "ticks": ""
             }
            },
            "type": "scattermapbox"
           }
          ],
          "scatterpolar": [
           {
            "marker": {
             "colorbar": {
              "outlinewidth": 0,
              "ticks": ""
             }
            },
            "type": "scatterpolar"
           }
          ],
          "scatterpolargl": [
           {
            "marker": {
             "colorbar": {
              "outlinewidth": 0,
              "ticks": ""
             }
            },
            "type": "scatterpolargl"
           }
          ],
          "scatterternary": [
           {
            "marker": {
             "colorbar": {
              "outlinewidth": 0,
              "ticks": ""
             }
            },
            "type": "scatterternary"
           }
          ],
          "surface": [
           {
            "colorbar": {
             "outlinewidth": 0,
             "ticks": ""
            },
            "colorscale": [
             [
              0,
              "#0d0887"
             ],
             [
              0.1111111111111111,
              "#46039f"
             ],
             [
              0.2222222222222222,
              "#7201a8"
             ],
             [
              0.3333333333333333,
              "#9c179e"
             ],
             [
              0.4444444444444444,
              "#bd3786"
             ],
             [
              0.5555555555555556,
              "#d8576b"
             ],
             [
              0.6666666666666666,
              "#ed7953"
             ],
             [
              0.7777777777777778,
              "#fb9f3a"
             ],
             [
              0.8888888888888888,
              "#fdca26"
             ],
             [
              1,
              "#f0f921"
             ]
            ],
            "type": "surface"
           }
          ],
          "table": [
           {
            "cells": {
             "fill": {
              "color": "#506784"
             },
             "line": {
              "color": "rgb(17,17,17)"
             }
            },
            "header": {
             "fill": {
              "color": "#2a3f5f"
             },
             "line": {
              "color": "rgb(17,17,17)"
             }
            },
            "type": "table"
           }
          ]
         },
         "layout": {
          "annotationdefaults": {
           "arrowcolor": "#f2f5fa",
           "arrowhead": 0,
           "arrowwidth": 1
          },
          "autotypenumbers": "strict",
          "coloraxis": {
           "colorbar": {
            "outlinewidth": 0,
            "ticks": ""
           }
          },
          "colorscale": {
           "diverging": [
            [
             0,
             "#8e0152"
            ],
            [
             0.1,
             "#c51b7d"
            ],
            [
             0.2,
             "#de77ae"
            ],
            [
             0.3,
             "#f1b6da"
            ],
            [
             0.4,
             "#fde0ef"
            ],
            [
             0.5,
             "#f7f7f7"
            ],
            [
             0.6,
             "#e6f5d0"
            ],
            [
             0.7,
             "#b8e186"
            ],
            [
             0.8,
             "#7fbc41"
            ],
            [
             0.9,
             "#4d9221"
            ],
            [
             1,
             "#276419"
            ]
           ],
           "sequential": [
            [
             0,
             "#0d0887"
            ],
            [
             0.1111111111111111,
             "#46039f"
            ],
            [
             0.2222222222222222,
             "#7201a8"
            ],
            [
             0.3333333333333333,
             "#9c179e"
            ],
            [
             0.4444444444444444,
             "#bd3786"
            ],
            [
             0.5555555555555556,
             "#d8576b"
            ],
            [
             0.6666666666666666,
             "#ed7953"
            ],
            [
             0.7777777777777778,
             "#fb9f3a"
            ],
            [
             0.8888888888888888,
             "#fdca26"
            ],
            [
             1,
             "#f0f921"
            ]
           ],
           "sequentialminus": [
            [
             0,
             "#0d0887"
            ],
            [
             0.1111111111111111,
             "#46039f"
            ],
            [
             0.2222222222222222,
             "#7201a8"
            ],
            [
             0.3333333333333333,
             "#9c179e"
            ],
            [
             0.4444444444444444,
             "#bd3786"
            ],
            [
             0.5555555555555556,
             "#d8576b"
            ],
            [
             0.6666666666666666,
             "#ed7953"
            ],
            [
             0.7777777777777778,
             "#fb9f3a"
            ],
            [
             0.8888888888888888,
             "#fdca26"
            ],
            [
             1,
             "#f0f921"
            ]
           ]
          },
          "colorway": [
           "#636efa",
           "#EF553B",
           "#00cc96",
           "#ab63fa",
           "#FFA15A",
           "#19d3f3",
           "#FF6692",
           "#B6E880",
           "#FF97FF",
           "#FECB52"
          ],
          "font": {
           "color": "#f2f5fa"
          },
          "geo": {
           "bgcolor": "rgb(17,17,17)",
           "lakecolor": "rgb(17,17,17)",
           "landcolor": "rgb(17,17,17)",
           "showlakes": true,
           "showland": true,
           "subunitcolor": "#506784"
          },
          "hoverlabel": {
           "align": "left"
          },
          "hovermode": "closest",
          "mapbox": {
           "style": "dark"
          },
          "paper_bgcolor": "rgb(17,17,17)",
          "plot_bgcolor": "rgb(17,17,17)",
          "polar": {
           "angularaxis": {
            "gridcolor": "#506784",
            "linecolor": "#506784",
            "ticks": ""
           },
           "bgcolor": "rgb(17,17,17)",
           "radialaxis": {
            "gridcolor": "#506784",
            "linecolor": "#506784",
            "ticks": ""
           }
          },
          "scene": {
           "xaxis": {
            "backgroundcolor": "rgb(17,17,17)",
            "gridcolor": "#506784",
            "gridwidth": 2,
            "linecolor": "#506784",
            "showbackground": true,
            "ticks": "",
            "zerolinecolor": "#C8D4E3"
           },
           "yaxis": {
            "backgroundcolor": "rgb(17,17,17)",
            "gridcolor": "#506784",
            "gridwidth": 2,
            "linecolor": "#506784",
            "showbackground": true,
            "ticks": "",
            "zerolinecolor": "#C8D4E3"
           },
           "zaxis": {
            "backgroundcolor": "rgb(17,17,17)",
            "gridcolor": "#506784",
            "gridwidth": 2,
            "linecolor": "#506784",
            "showbackground": true,
            "ticks": "",
            "zerolinecolor": "#C8D4E3"
           }
          },
          "shapedefaults": {
           "line": {
            "color": "#f2f5fa"
           }
          },
          "sliderdefaults": {
           "bgcolor": "#C8D4E3",
           "bordercolor": "rgb(17,17,17)",
           "borderwidth": 1,
           "tickwidth": 0
          },
          "ternary": {
           "aaxis": {
            "gridcolor": "#506784",
            "linecolor": "#506784",
            "ticks": ""
           },
           "baxis": {
            "gridcolor": "#506784",
            "linecolor": "#506784",
            "ticks": ""
           },
           "bgcolor": "rgb(17,17,17)",
           "caxis": {
            "gridcolor": "#506784",
            "linecolor": "#506784",
            "ticks": ""
           }
          },
          "title": {
           "x": 0.05
          },
          "updatemenudefaults": {
           "bgcolor": "#506784",
           "borderwidth": 0
          },
          "xaxis": {
           "automargin": true,
           "gridcolor": "#283442",
           "linecolor": "#506784",
           "ticks": "",
           "title": {
            "standoff": 15
           },
           "zerolinecolor": "#283442",
           "zerolinewidth": 2
          },
          "yaxis": {
           "automargin": true,
           "gridcolor": "#283442",
           "linecolor": "#506784",
           "ticks": "",
           "title": {
            "standoff": 15
           },
           "zerolinecolor": "#283442",
           "zerolinewidth": 2
          }
         }
        },
        "title": {
         "text": "BTCUSDT - W - TA Chart Visualizer"
        },
        "xaxis": {
         "fixedrange": false,
         "rangeslider": {
          "visible": false
         },
         "title": {
          "text": "Time"
         }
        },
        "yaxis": {
         "fixedrange": false,
         "title": {
          "text": "Price"
         },
         "type": "log"
        }
       }
      }
     },
     "metadata": {},
     "output_type": "display_data"
    },
    {
     "name": "stdout",
     "output_type": "stream",
     "text": [
      "\n",
      "======================================================================\n",
      "📊 Visualizing Segment 4/10: BTCUSDT - W\n",
      "   Period: 2021-11-08 00:00 to 2022-05-16 00:00\n",
      "======================================================================\n",
      "Processing 28 candles for BTCUSDT at W interval\n",
      "   Middlewares: ['levels_middleware']\n"
     ]
    },
    {
     "data": {
      "application/vnd.plotly.v1+json": {
       "config": {
        "plotlyServerURL": "https://plot.ly"
       },
       "data": [
        {
         "close": {
          "bdata": "AAAAADD/70AAAAAAYKDsQAAAAABg+utAAAAAAMAZ6EAAAAAA8HPoQAAAAABwzeZAAAAAAGDJ6EAAAAAAIBnnQAAAAAAAcORAAAAAAGAF5UAAAAAAULHhQAAAAABwfuJAAAAAAMCt5EAAAAAAcInkQAAAAABguuJAAAAAACBk4kAAAAAAQL/iQAAAAACAb+JAAAAAAAAn5EAAAAAAINnmQAAAAABwqeZAAAAAACCT5EAAAAAAwF3jQAAAAADwQeNAAAAAANDF4kAAAAAAEJ7gQAAAAADglN5AAAAAAGCP3UA=",
          "dtype": "f8"
         },
         "high": {
          "bdata": "AAAAACjh8EAAAAAA8DTwQAAAAACAJe1AAAAAAADo7EAAAAAAcFrpQAAAAADgfuhAAAAAAIBh6UAAAAAA4HLpQAAAAAAQO+dAAAAAAEC05UAAAAAAQDvlQAAAAAAA/eJAAAAAANDR5EAAAAAAkGzmQAAAAAAA4OVAAAAAAICt40AAAAAAgCfmQAAAAABA2eRAAAAAAKCz5EAAAAAAoPHmQAAAAAAgh+dAAAAAAMAK50AAAAAAALTkQAAAAADA+ORAAAAAAGDs40AAAAAAUI/jQAAAAABAuuBAAAAAAOCU3kA=",
          "dtype": "f8"
         },
         "low": {
          "bdata": "AAAAAMBx7kAAAAAAMC7rQAAAAABA8OlAAAAAAKDv40AAAAAAwNPmQAAAAAAAHOZAAAAAAPA05kAAAAAAQEjmQAAAAACwyONAAAAAAOBc40AAAAAAAJXgQAAAAABAEeBAAAAAABCt4UAAAAAAYE/kQAAAAACgg+JAAAAAAFC44EAAAAAAYEfiQAAAAABgIuJAAAAAAOBS4kAAAAAAMMPjQAAAAABAleVAAAAAACBi5EAAAAAAcCDjQAAAAABQyOJAAAAAAOA84kAAAAAAQHDgQAAAAAAA6tlAAAAAAED220A=",
          "dtype": "f8"
         },
         "name": "Candlestick",
         "open": {
          "bdata": "AAAAAADk7kAAAAAAMP/vQAAAAABgoOxAAAAAAGD660AAAAAAwBnoQAAAAADwc+hAAAAAAHDN5kAAAAAAYMnoQAAAAAAgGedAAAAAAABw5EAAAAAAYAXlQAAAAABQseFAAAAAAHB+4kAAAAAAwK3kQAAAAABwieRAAAAAAGC64kAAAAAAIGTiQAAAAABAv+JAAAAAAIBv4kAAAAAAACfkQAAAAAAg2eZAAAAAAHCp5kAAAAAAIJPkQAAAAADAXeNAAAAAAPBB40AAAAAA0MXiQAAAAAAQnuBAAAAAAOCU3kA=",
          "dtype": "f8"
         },
         "showlegend": false,
         "type": "candlestick",
         "x": [
          "2021-11-08T00:00:00.000000000",
          "2021-11-15T00:00:00.000000000",
          "2021-11-22T00:00:00.000000000",
          "2021-11-29T00:00:00.000000000",
          "2021-12-06T00:00:00.000000000",
          "2021-12-13T00:00:00.000000000",
          "2021-12-20T00:00:00.000000000",
          "2021-12-27T00:00:00.000000000",
          "2022-01-03T00:00:00.000000000",
          "2022-01-10T00:00:00.000000000",
          "2022-01-17T00:00:00.000000000",
          "2022-01-24T00:00:00.000000000",
          "2022-01-31T00:00:00.000000000",
          "2022-02-07T00:00:00.000000000",
          "2022-02-14T00:00:00.000000000",
          "2022-02-21T00:00:00.000000000",
          "2022-02-28T00:00:00.000000000",
          "2022-03-07T00:00:00.000000000",
          "2022-03-14T00:00:00.000000000",
          "2022-03-21T00:00:00.000000000",
          "2022-03-28T00:00:00.000000000",
          "2022-04-04T00:00:00.000000000",
          "2022-04-11T00:00:00.000000000",
          "2022-04-18T00:00:00.000000000",
          "2022-04-25T00:00:00.000000000",
          "2022-05-02T00:00:00.000000000",
          "2022-05-09T00:00:00.000000000",
          "2022-05-16T00:00:00.000000000"
         ]
        },
        {
         "line": {
          "color": "orange",
          "dash": "dash",
          "width": 2
         },
         "mode": "lines",
         "name": "line_close_W",
         "showlegend": true,
         "type": "scatter",
         "x": [
          "2021-11-08T00:00:00",
          "2022-05-16T00:00:00"
         ],
         "y": [
          65529.5,
          65529.5
         ]
        },
        {
         "line": {
          "color": "orange",
          "dash": "dash",
          "width": 2
         },
         "mode": "lines",
         "name": "line_close_W",
         "showlegend": true,
         "type": "scatter",
         "x": [
          "2021-12-20T00:00:00",
          "2022-05-16T00:00:00"
         ],
         "y": [
          50763,
          50763
         ]
        },
        {
         "line": {
          "color": "orange",
          "dash": "dash",
          "width": 2
         },
         "mode": "lines",
         "name": "max_level_W",
         "showlegend": true,
         "type": "scatter",
         "x": [
          "2021-11-08T00:00:00",
          "2022-05-16T00:00:00"
         ],
         "y": [
          69138.5,
          69138.5
         ]
        },
        {
         "line": {
          "color": "orange",
          "dash": "dash",
          "width": 2
         },
         "mode": "lines",
         "name": "min_level_W",
         "showlegend": true,
         "type": "scatter",
         "x": [
          "2021-11-08T00:00:00",
          "2022-05-16T00:00:00"
         ],
         "y": [
          26536,
          26536
         ]
        }
       ],
       "layout": {
        "height": 800,
        "showlegend": false,
        "template": {
         "data": {
          "bar": [
           {
            "error_x": {
             "color": "#f2f5fa"
            },
            "error_y": {
             "color": "#f2f5fa"
            },
            "marker": {
             "line": {
              "color": "rgb(17,17,17)",
              "width": 0.5
             },
             "pattern": {
              "fillmode": "overlay",
              "size": 10,
              "solidity": 0.2
             }
            },
            "type": "bar"
           }
          ],
          "barpolar": [
           {
            "marker": {
             "line": {
              "color": "rgb(17,17,17)",
              "width": 0.5
             },
             "pattern": {
              "fillmode": "overlay",
              "size": 10,
              "solidity": 0.2
             }
            },
            "type": "barpolar"
           }
          ],
          "carpet": [
           {
            "aaxis": {
             "endlinecolor": "#A2B1C6",
             "gridcolor": "#506784",
             "linecolor": "#506784",
             "minorgridcolor": "#506784",
             "startlinecolor": "#A2B1C6"
            },
            "baxis": {
             "endlinecolor": "#A2B1C6",
             "gridcolor": "#506784",
             "linecolor": "#506784",
             "minorgridcolor": "#506784",
             "startlinecolor": "#A2B1C6"
            },
            "type": "carpet"
           }
          ],
          "choropleth": [
           {
            "colorbar": {
             "outlinewidth": 0,
             "ticks": ""
            },
            "type": "choropleth"
           }
          ],
          "contour": [
           {
            "colorbar": {
             "outlinewidth": 0,
             "ticks": ""
            },
            "colorscale": [
             [
              0,
              "#0d0887"
             ],
             [
              0.1111111111111111,
              "#46039f"
             ],
             [
              0.2222222222222222,
              "#7201a8"
             ],
             [
              0.3333333333333333,
              "#9c179e"
             ],
             [
              0.4444444444444444,
              "#bd3786"
             ],
             [
              0.5555555555555556,
              "#d8576b"
             ],
             [
              0.6666666666666666,
              "#ed7953"
             ],
             [
              0.7777777777777778,
              "#fb9f3a"
             ],
             [
              0.8888888888888888,
              "#fdca26"
             ],
             [
              1,
              "#f0f921"
             ]
            ],
            "type": "contour"
           }
          ],
          "contourcarpet": [
           {
            "colorbar": {
             "outlinewidth": 0,
             "ticks": ""
            },
            "type": "contourcarpet"
           }
          ],
          "heatmap": [
           {
            "colorbar": {
             "outlinewidth": 0,
             "ticks": ""
            },
            "colorscale": [
             [
              0,
              "#0d0887"
             ],
             [
              0.1111111111111111,
              "#46039f"
             ],
             [
              0.2222222222222222,
              "#7201a8"
             ],
             [
              0.3333333333333333,
              "#9c179e"
             ],
             [
              0.4444444444444444,
              "#bd3786"
             ],
             [
              0.5555555555555556,
              "#d8576b"
             ],
             [
              0.6666666666666666,
              "#ed7953"
             ],
             [
              0.7777777777777778,
              "#fb9f3a"
             ],
             [
              0.8888888888888888,
              "#fdca26"
             ],
             [
              1,
              "#f0f921"
             ]
            ],
            "type": "heatmap"
           }
          ],
          "histogram": [
           {
            "marker": {
             "pattern": {
              "fillmode": "overlay",
              "size": 10,
              "solidity": 0.2
             }
            },
            "type": "histogram"
           }
          ],
          "histogram2d": [
           {
            "colorbar": {
             "outlinewidth": 0,
             "ticks": ""
            },
            "colorscale": [
             [
              0,
              "#0d0887"
             ],
             [
              0.1111111111111111,
              "#46039f"
             ],
             [
              0.2222222222222222,
              "#7201a8"
             ],
             [
              0.3333333333333333,
              "#9c179e"
             ],
             [
              0.4444444444444444,
              "#bd3786"
             ],
             [
              0.5555555555555556,
              "#d8576b"
             ],
             [
              0.6666666666666666,
              "#ed7953"
             ],
             [
              0.7777777777777778,
              "#fb9f3a"
             ],
             [
              0.8888888888888888,
              "#fdca26"
             ],
             [
              1,
              "#f0f921"
             ]
            ],
            "type": "histogram2d"
           }
          ],
          "histogram2dcontour": [
           {
            "colorbar": {
             "outlinewidth": 0,
             "ticks": ""
            },
            "colorscale": [
             [
              0,
              "#0d0887"
             ],
             [
              0.1111111111111111,
              "#46039f"
             ],
             [
              0.2222222222222222,
              "#7201a8"
             ],
             [
              0.3333333333333333,
              "#9c179e"
             ],
             [
              0.4444444444444444,
              "#bd3786"
             ],
             [
              0.5555555555555556,
              "#d8576b"
             ],
             [
              0.6666666666666666,
              "#ed7953"
             ],
             [
              0.7777777777777778,
              "#fb9f3a"
             ],
             [
              0.8888888888888888,
              "#fdca26"
             ],
             [
              1,
              "#f0f921"
             ]
            ],
            "type": "histogram2dcontour"
           }
          ],
          "mesh3d": [
           {
            "colorbar": {
             "outlinewidth": 0,
             "ticks": ""
            },
            "type": "mesh3d"
           }
          ],
          "parcoords": [
           {
            "line": {
             "colorbar": {
              "outlinewidth": 0,
              "ticks": ""
             }
            },
            "type": "parcoords"
           }
          ],
          "pie": [
           {
            "automargin": true,
            "type": "pie"
           }
          ],
          "scatter": [
           {
            "marker": {
             "line": {
              "color": "#283442"
             }
            },
            "type": "scatter"
           }
          ],
          "scatter3d": [
           {
            "line": {
             "colorbar": {
              "outlinewidth": 0,
              "ticks": ""
             }
            },
            "marker": {
             "colorbar": {
              "outlinewidth": 0,
              "ticks": ""
             }
            },
            "type": "scatter3d"
           }
          ],
          "scattercarpet": [
           {
            "marker": {
             "colorbar": {
              "outlinewidth": 0,
              "ticks": ""
             }
            },
            "type": "scattercarpet"
           }
          ],
          "scattergeo": [
           {
            "marker": {
             "colorbar": {
              "outlinewidth": 0,
              "ticks": ""
             }
            },
            "type": "scattergeo"
           }
          ],
          "scattergl": [
           {
            "marker": {
             "line": {
              "color": "#283442"
             }
            },
            "type": "scattergl"
           }
          ],
          "scattermap": [
           {
            "marker": {
             "colorbar": {
              "outlinewidth": 0,
              "ticks": ""
             }
            },
            "type": "scattermap"
           }
          ],
          "scattermapbox": [
           {
            "marker": {
             "colorbar": {
              "outlinewidth": 0,
              "ticks": ""
             }
            },
            "type": "scattermapbox"
           }
          ],
          "scatterpolar": [
           {
            "marker": {
             "colorbar": {
              "outlinewidth": 0,
              "ticks": ""
             }
            },
            "type": "scatterpolar"
           }
          ],
          "scatterpolargl": [
           {
            "marker": {
             "colorbar": {
              "outlinewidth": 0,
              "ticks": ""
             }
            },
            "type": "scatterpolargl"
           }
          ],
          "scatterternary": [
           {
            "marker": {
             "colorbar": {
              "outlinewidth": 0,
              "ticks": ""
             }
            },
            "type": "scatterternary"
           }
          ],
          "surface": [
           {
            "colorbar": {
             "outlinewidth": 0,
             "ticks": ""
            },
            "colorscale": [
             [
              0,
              "#0d0887"
             ],
             [
              0.1111111111111111,
              "#46039f"
             ],
             [
              0.2222222222222222,
              "#7201a8"
             ],
             [
              0.3333333333333333,
              "#9c179e"
             ],
             [
              0.4444444444444444,
              "#bd3786"
             ],
             [
              0.5555555555555556,
              "#d8576b"
             ],
             [
              0.6666666666666666,
              "#ed7953"
             ],
             [
              0.7777777777777778,
              "#fb9f3a"
             ],
             [
              0.8888888888888888,
              "#fdca26"
             ],
             [
              1,
              "#f0f921"
             ]
            ],
            "type": "surface"
           }
          ],
          "table": [
           {
            "cells": {
             "fill": {
              "color": "#506784"
             },
             "line": {
              "color": "rgb(17,17,17)"
             }
            },
            "header": {
             "fill": {
              "color": "#2a3f5f"
             },
             "line": {
              "color": "rgb(17,17,17)"
             }
            },
            "type": "table"
           }
          ]
         },
         "layout": {
          "annotationdefaults": {
           "arrowcolor": "#f2f5fa",
           "arrowhead": 0,
           "arrowwidth": 1
          },
          "autotypenumbers": "strict",
          "coloraxis": {
           "colorbar": {
            "outlinewidth": 0,
            "ticks": ""
           }
          },
          "colorscale": {
           "diverging": [
            [
             0,
             "#8e0152"
            ],
            [
             0.1,
             "#c51b7d"
            ],
            [
             0.2,
             "#de77ae"
            ],
            [
             0.3,
             "#f1b6da"
            ],
            [
             0.4,
             "#fde0ef"
            ],
            [
             0.5,
             "#f7f7f7"
            ],
            [
             0.6,
             "#e6f5d0"
            ],
            [
             0.7,
             "#b8e186"
            ],
            [
             0.8,
             "#7fbc41"
            ],
            [
             0.9,
             "#4d9221"
            ],
            [
             1,
             "#276419"
            ]
           ],
           "sequential": [
            [
             0,
             "#0d0887"
            ],
            [
             0.1111111111111111,
             "#46039f"
            ],
            [
             0.2222222222222222,
             "#7201a8"
            ],
            [
             0.3333333333333333,
             "#9c179e"
            ],
            [
             0.4444444444444444,
             "#bd3786"
            ],
            [
             0.5555555555555556,
             "#d8576b"
            ],
            [
             0.6666666666666666,
             "#ed7953"
            ],
            [
             0.7777777777777778,
             "#fb9f3a"
            ],
            [
             0.8888888888888888,
             "#fdca26"
            ],
            [
             1,
             "#f0f921"
            ]
           ],
           "sequentialminus": [
            [
             0,
             "#0d0887"
            ],
            [
             0.1111111111111111,
             "#46039f"
            ],
            [
             0.2222222222222222,
             "#7201a8"
            ],
            [
             0.3333333333333333,
             "#9c179e"
            ],
            [
             0.4444444444444444,
             "#bd3786"
            ],
            [
             0.5555555555555556,
             "#d8576b"
            ],
            [
             0.6666666666666666,
             "#ed7953"
            ],
            [
             0.7777777777777778,
             "#fb9f3a"
            ],
            [
             0.8888888888888888,
             "#fdca26"
            ],
            [
             1,
             "#f0f921"
            ]
           ]
          },
          "colorway": [
           "#636efa",
           "#EF553B",
           "#00cc96",
           "#ab63fa",
           "#FFA15A",
           "#19d3f3",
           "#FF6692",
           "#B6E880",
           "#FF97FF",
           "#FECB52"
          ],
          "font": {
           "color": "#f2f5fa"
          },
          "geo": {
           "bgcolor": "rgb(17,17,17)",
           "lakecolor": "rgb(17,17,17)",
           "landcolor": "rgb(17,17,17)",
           "showlakes": true,
           "showland": true,
           "subunitcolor": "#506784"
          },
          "hoverlabel": {
           "align": "left"
          },
          "hovermode": "closest",
          "mapbox": {
           "style": "dark"
          },
          "paper_bgcolor": "rgb(17,17,17)",
          "plot_bgcolor": "rgb(17,17,17)",
          "polar": {
           "angularaxis": {
            "gridcolor": "#506784",
            "linecolor": "#506784",
            "ticks": ""
           },
           "bgcolor": "rgb(17,17,17)",
           "radialaxis": {
            "gridcolor": "#506784",
            "linecolor": "#506784",
            "ticks": ""
           }
          },
          "scene": {
           "xaxis": {
            "backgroundcolor": "rgb(17,17,17)",
            "gridcolor": "#506784",
            "gridwidth": 2,
            "linecolor": "#506784",
            "showbackground": true,
            "ticks": "",
            "zerolinecolor": "#C8D4E3"
           },
           "yaxis": {
            "backgroundcolor": "rgb(17,17,17)",
            "gridcolor": "#506784",
            "gridwidth": 2,
            "linecolor": "#506784",
            "showbackground": true,
            "ticks": "",
            "zerolinecolor": "#C8D4E3"
           },
           "zaxis": {
            "backgroundcolor": "rgb(17,17,17)",
            "gridcolor": "#506784",
            "gridwidth": 2,
            "linecolor": "#506784",
            "showbackground": true,
            "ticks": "",
            "zerolinecolor": "#C8D4E3"
           }
          },
          "shapedefaults": {
           "line": {
            "color": "#f2f5fa"
           }
          },
          "sliderdefaults": {
           "bgcolor": "#C8D4E3",
           "bordercolor": "rgb(17,17,17)",
           "borderwidth": 1,
           "tickwidth": 0
          },
          "ternary": {
           "aaxis": {
            "gridcolor": "#506784",
            "linecolor": "#506784",
            "ticks": ""
           },
           "baxis": {
            "gridcolor": "#506784",
            "linecolor": "#506784",
            "ticks": ""
           },
           "bgcolor": "rgb(17,17,17)",
           "caxis": {
            "gridcolor": "#506784",
            "linecolor": "#506784",
            "ticks": ""
           }
          },
          "title": {
           "x": 0.05
          },
          "updatemenudefaults": {
           "bgcolor": "#506784",
           "borderwidth": 0
          },
          "xaxis": {
           "automargin": true,
           "gridcolor": "#283442",
           "linecolor": "#506784",
           "ticks": "",
           "title": {
            "standoff": 15
           },
           "zerolinecolor": "#283442",
           "zerolinewidth": 2
          },
          "yaxis": {
           "automargin": true,
           "gridcolor": "#283442",
           "linecolor": "#506784",
           "ticks": "",
           "title": {
            "standoff": 15
           },
           "zerolinecolor": "#283442",
           "zerolinewidth": 2
          }
         }
        },
        "title": {
         "text": "BTCUSDT - W - TA Chart Visualizer"
        },
        "xaxis": {
         "fixedrange": false,
         "rangeslider": {
          "visible": false
         },
         "title": {
          "text": "Time"
         }
        },
        "yaxis": {
         "fixedrange": false,
         "title": {
          "text": "Price"
         },
         "type": "log"
        }
       }
      }
     },
     "metadata": {},
     "output_type": "display_data"
    },
    {
     "name": "stdout",
     "output_type": "stream",
     "text": [
      "\n",
      "======================================================================\n",
      "📊 Visualizing Segment 5/10: BTCUSDT - W\n",
      "   Period: 2022-05-23 00:00 to 2022-11-28 00:00\n",
      "======================================================================\n",
      "Processing 28 candles for BTCUSDT at W interval\n",
      "   Middlewares: ['levels_middleware']\n"
     ]
    },
    {
     "data": {
      "application/vnd.plotly.v1+json": {
       "config": {
        "plotlyServerURL": "https://plot.ly"
       },
       "data": [
        {
         "close": {
          "bdata": "AAAAAADD3EAAAAAAYDPdQAAAAADg8dlAAAAAAOAV1EAAAAAAAIrUQAAAAACA2tJAAAAAAEBc1EAAAAAAwE/UQAAAAABgC9ZAAAAAAKC+1kAAAAAAwJ/WQAAAAACguNdAAAAAAGAA1UAAAAAAABfTQAAAAACghNNAAAAAAIBM1UAAAAAAIPTSQAAAAAAAXNJAAAAAAICb0kAAAAAAIPvSQAAAAAAgzdJAAAAAAMAZ00AAAAAAYCHUQAAAAAAAatRAAAAAAEDlz0AAAAAAwMjPQAAAAACACtBAAAAAAACy0EA=",
          "dtype": "f8"
         },
         "high": {
          "bdata": "AAAAAKDv3UAAAAAAgLDfQAAAAACAAd9AAAAAAEBB2kAAAAAAAF7VQAAAAAAAE9VAAAAAAAAS1kAAAAAAQCnVQAAAAABAtddAAAAAAMAd2EAAAAAAwBnXQAAAAADAcdhAAAAAAMCb2EAAAAAAAF7VQAAAAABAFtRAAAAAAOBd1UAAAAAAgELWQAAAAABAk9NAAAAAAODn00AAAAAAwPjTQAAAAAAAetNAAAAAAIA700AAAAAAAJvUQAAAAACA99RAAAAAAKCR1EAAAAAAQM/QQAAAAACAatBAAAAAAID70EA=",
          "dtype": "f8"
         },
         "low": {
          "bdata": "AAAAAIBL20AAAAAAgJDcQAAAAACA7dlAAAAAAAAw0UAAAAAAACrTQAAAAABAKtJAAAAAAMCX0kAAAAAA4GzSQAAAAADARtRAAAAAAMA01EAAAAAAgNPVQAAAAABA/tVAAAAAAIA+1EAAAAAAwA3TQAAAAACAEtNAAAAAAMAE0kAAAAAAwNzSQAAAAAAArdFAAAAAAEAF0kAAAAAAwIDSQAAAAADApdFAAAAAAGAv0kAAAAAAwLTSQAAAAABgi9NAAAAAAEAyzkAAAAAAQN3OQAAAAAAAKM5AAAAAAIA4z0A=",
          "dtype": "f8"
         },
         "name": "Candlestick",
         "open": {
          "bdata": "AAAAAGCP3UAAAAAAAMPcQAAAAABgM91AAAAAAODx2UAAAAAA4BXUQAAAAAAAitRAAAAAAIDa0kAAAAAAQFzUQAAAAADAT9RAAAAAAGAL1kAAAAAAoL7WQAAAAADAn9ZAAAAAAKC410AAAAAAYADVQAAAAAAAF9NAAAAAAKCE00AAAAAAgEzVQAAAAAAg9NJAAAAAAABc0kAAAAAAgJvSQAAAAAAg+9JAAAAAACDN0kAAAAAAwBnTQAAAAABgIdRAAAAAAABq1EAAAAAAQOXPQAAAAADAyM9AAAAAAIAK0EA=",
          "dtype": "f8"
         },
         "showlegend": false,
         "type": "candlestick",
         "x": [
          "2022-05-23T00:00:00.000000000",
          "2022-05-30T00:00:00.000000000",
          "2022-06-06T00:00:00.000000000",
          "2022-06-13T00:00:00.000000000",
          "2022-06-20T00:00:00.000000000",
          "2022-06-27T00:00:00.000000000",
          "2022-07-04T00:00:00.000000000",
          "2022-07-11T00:00:00.000000000",
          "2022-07-18T00:00:00.000000000",
          "2022-07-25T00:00:00.000000000",
          "2022-08-01T00:00:00.000000000",
          "2022-08-08T00:00:00.000000000",
          "2022-08-15T00:00:00.000000000",
          "2022-08-22T00:00:00.000000000",
          "2022-08-29T00:00:00.000000000",
          "2022-09-05T00:00:00.000000000",
          "2022-09-12T00:00:00.000000000",
          "2022-09-19T00:00:00.000000000",
          "2022-09-26T00:00:00.000000000",
          "2022-10-03T00:00:00.000000000",
          "2022-10-10T00:00:00.000000000",
          "2022-10-17T00:00:00.000000000",
          "2022-10-24T00:00:00.000000000",
          "2022-10-31T00:00:00.000000000",
          "2022-11-07T00:00:00.000000000",
          "2022-11-14T00:00:00.000000000",
          "2022-11-21T00:00:00.000000000",
          "2022-11-28T00:00:00.000000000"
         ]
        },
        {
         "line": {
          "color": "orange",
          "dash": "dash",
          "width": 2
         },
         "mode": "lines",
         "name": "line_close_W",
         "showlegend": true,
         "type": "scatter",
         "x": [
          "2022-05-30T00:00:00",
          "2022-11-28T00:00:00"
         ],
         "y": [
          29901.5,
          29901.5
         ]
        },
        {
         "line": {
          "color": "orange",
          "dash": "dash",
          "width": 2
         },
         "mode": "lines",
         "name": "line_close_W",
         "showlegend": true,
         "type": "scatter",
         "x": [
          "2022-08-08T00:00:00",
          "2022-11-28T00:00:00"
         ],
         "y": [
          24290.5,
          24290.5
         ]
        },
        {
         "line": {
          "color": "orange",
          "dash": "dash",
          "width": 2
         },
         "mode": "lines",
         "name": "line_close_W",
         "showlegend": true,
         "type": "scatter",
         "x": [
          "2022-09-05T00:00:00",
          "2022-11-28T00:00:00"
         ],
         "y": [
          21810,
          21810
         ]
        },
        {
         "line": {
          "color": "orange",
          "dash": "dash",
          "width": 2
         },
         "mode": "lines",
         "name": "line_close_W",
         "showlegend": true,
         "type": "scatter",
         "x": [
          "2022-10-31T00:00:00",
          "2022-11-28T00:00:00"
         ],
         "y": [
          20904,
          20904
         ]
        },
        {
         "line": {
          "color": "orange",
          "dash": "dash",
          "width": 2
         },
         "mode": "lines",
         "name": "max_level_W",
         "showlegend": true,
         "type": "scatter",
         "x": [
          "2022-05-23T00:00:00",
          "2022-11-28T00:00:00"
         ],
         "y": [
          32450,
          32450
         ]
        },
        {
         "line": {
          "color": "orange",
          "dash": "dash",
          "width": 2
         },
         "mode": "lines",
         "name": "min_level_W",
         "showlegend": true,
         "type": "scatter",
         "x": [
          "2022-05-23T00:00:00",
          "2022-11-28T00:00:00"
         ],
         "y": [
          15440,
          15440
         ]
        }
       ],
       "layout": {
        "height": 800,
        "showlegend": false,
        "template": {
         "data": {
          "bar": [
           {
            "error_x": {
             "color": "#f2f5fa"
            },
            "error_y": {
             "color": "#f2f5fa"
            },
            "marker": {
             "line": {
              "color": "rgb(17,17,17)",
              "width": 0.5
             },
             "pattern": {
              "fillmode": "overlay",
              "size": 10,
              "solidity": 0.2
             }
            },
            "type": "bar"
           }
          ],
          "barpolar": [
           {
            "marker": {
             "line": {
              "color": "rgb(17,17,17)",
              "width": 0.5
             },
             "pattern": {
              "fillmode": "overlay",
              "size": 10,
              "solidity": 0.2
             }
            },
            "type": "barpolar"
           }
          ],
          "carpet": [
           {
            "aaxis": {
             "endlinecolor": "#A2B1C6",
             "gridcolor": "#506784",
             "linecolor": "#506784",
             "minorgridcolor": "#506784",
             "startlinecolor": "#A2B1C6"
            },
            "baxis": {
             "endlinecolor": "#A2B1C6",
             "gridcolor": "#506784",
             "linecolor": "#506784",
             "minorgridcolor": "#506784",
             "startlinecolor": "#A2B1C6"
            },
            "type": "carpet"
           }
          ],
          "choropleth": [
           {
            "colorbar": {
             "outlinewidth": 0,
             "ticks": ""
            },
            "type": "choropleth"
           }
          ],
          "contour": [
           {
            "colorbar": {
             "outlinewidth": 0,
             "ticks": ""
            },
            "colorscale": [
             [
              0,
              "#0d0887"
             ],
             [
              0.1111111111111111,
              "#46039f"
             ],
             [
              0.2222222222222222,
              "#7201a8"
             ],
             [
              0.3333333333333333,
              "#9c179e"
             ],
             [
              0.4444444444444444,
              "#bd3786"
             ],
             [
              0.5555555555555556,
              "#d8576b"
             ],
             [
              0.6666666666666666,
              "#ed7953"
             ],
             [
              0.7777777777777778,
              "#fb9f3a"
             ],
             [
              0.8888888888888888,
              "#fdca26"
             ],
             [
              1,
              "#f0f921"
             ]
            ],
            "type": "contour"
           }
          ],
          "contourcarpet": [
           {
            "colorbar": {
             "outlinewidth": 0,
             "ticks": ""
            },
            "type": "contourcarpet"
           }
          ],
          "heatmap": [
           {
            "colorbar": {
             "outlinewidth": 0,
             "ticks": ""
            },
            "colorscale": [
             [
              0,
              "#0d0887"
             ],
             [
              0.1111111111111111,
              "#46039f"
             ],
             [
              0.2222222222222222,
              "#7201a8"
             ],
             [
              0.3333333333333333,
              "#9c179e"
             ],
             [
              0.4444444444444444,
              "#bd3786"
             ],
             [
              0.5555555555555556,
              "#d8576b"
             ],
             [
              0.6666666666666666,
              "#ed7953"
             ],
             [
              0.7777777777777778,
              "#fb9f3a"
             ],
             [
              0.8888888888888888,
              "#fdca26"
             ],
             [
              1,
              "#f0f921"
             ]
            ],
            "type": "heatmap"
           }
          ],
          "histogram": [
           {
            "marker": {
             "pattern": {
              "fillmode": "overlay",
              "size": 10,
              "solidity": 0.2
             }
            },
            "type": "histogram"
           }
          ],
          "histogram2d": [
           {
            "colorbar": {
             "outlinewidth": 0,
             "ticks": ""
            },
            "colorscale": [
             [
              0,
              "#0d0887"
             ],
             [
              0.1111111111111111,
              "#46039f"
             ],
             [
              0.2222222222222222,
              "#7201a8"
             ],
             [
              0.3333333333333333,
              "#9c179e"
             ],
             [
              0.4444444444444444,
              "#bd3786"
             ],
             [
              0.5555555555555556,
              "#d8576b"
             ],
             [
              0.6666666666666666,
              "#ed7953"
             ],
             [
              0.7777777777777778,
              "#fb9f3a"
             ],
             [
              0.8888888888888888,
              "#fdca26"
             ],
             [
              1,
              "#f0f921"
             ]
            ],
            "type": "histogram2d"
           }
          ],
          "histogram2dcontour": [
           {
            "colorbar": {
             "outlinewidth": 0,
             "ticks": ""
            },
            "colorscale": [
             [
              0,
              "#0d0887"
             ],
             [
              0.1111111111111111,
              "#46039f"
             ],
             [
              0.2222222222222222,
              "#7201a8"
             ],
             [
              0.3333333333333333,
              "#9c179e"
             ],
             [
              0.4444444444444444,
              "#bd3786"
             ],
             [
              0.5555555555555556,
              "#d8576b"
             ],
             [
              0.6666666666666666,
              "#ed7953"
             ],
             [
              0.7777777777777778,
              "#fb9f3a"
             ],
             [
              0.8888888888888888,
              "#fdca26"
             ],
             [
              1,
              "#f0f921"
             ]
            ],
            "type": "histogram2dcontour"
           }
          ],
          "mesh3d": [
           {
            "colorbar": {
             "outlinewidth": 0,
             "ticks": ""
            },
            "type": "mesh3d"
           }
          ],
          "parcoords": [
           {
            "line": {
             "colorbar": {
              "outlinewidth": 0,
              "ticks": ""
             }
            },
            "type": "parcoords"
           }
          ],
          "pie": [
           {
            "automargin": true,
            "type": "pie"
           }
          ],
          "scatter": [
           {
            "marker": {
             "line": {
              "color": "#283442"
             }
            },
            "type": "scatter"
           }
          ],
          "scatter3d": [
           {
            "line": {
             "colorbar": {
              "outlinewidth": 0,
              "ticks": ""
             }
            },
            "marker": {
             "colorbar": {
              "outlinewidth": 0,
              "ticks": ""
             }
            },
            "type": "scatter3d"
           }
          ],
          "scattercarpet": [
           {
            "marker": {
             "colorbar": {
              "outlinewidth": 0,
              "ticks": ""
             }
            },
            "type": "scattercarpet"
           }
          ],
          "scattergeo": [
           {
            "marker": {
             "colorbar": {
              "outlinewidth": 0,
              "ticks": ""
             }
            },
            "type": "scattergeo"
           }
          ],
          "scattergl": [
           {
            "marker": {
             "line": {
              "color": "#283442"
             }
            },
            "type": "scattergl"
           }
          ],
          "scattermap": [
           {
            "marker": {
             "colorbar": {
              "outlinewidth": 0,
              "ticks": ""
             }
            },
            "type": "scattermap"
           }
          ],
          "scattermapbox": [
           {
            "marker": {
             "colorbar": {
              "outlinewidth": 0,
              "ticks": ""
             }
            },
            "type": "scattermapbox"
           }
          ],
          "scatterpolar": [
           {
            "marker": {
             "colorbar": {
              "outlinewidth": 0,
              "ticks": ""
             }
            },
            "type": "scatterpolar"
           }
          ],
          "scatterpolargl": [
           {
            "marker": {
             "colorbar": {
              "outlinewidth": 0,
              "ticks": ""
             }
            },
            "type": "scatterpolargl"
           }
          ],
          "scatterternary": [
           {
            "marker": {
             "colorbar": {
              "outlinewidth": 0,
              "ticks": ""
             }
            },
            "type": "scatterternary"
           }
          ],
          "surface": [
           {
            "colorbar": {
             "outlinewidth": 0,
             "ticks": ""
            },
            "colorscale": [
             [
              0,
              "#0d0887"
             ],
             [
              0.1111111111111111,
              "#46039f"
             ],
             [
              0.2222222222222222,
              "#7201a8"
             ],
             [
              0.3333333333333333,
              "#9c179e"
             ],
             [
              0.4444444444444444,
              "#bd3786"
             ],
             [
              0.5555555555555556,
              "#d8576b"
             ],
             [
              0.6666666666666666,
              "#ed7953"
             ],
             [
              0.7777777777777778,
              "#fb9f3a"
             ],
             [
              0.8888888888888888,
              "#fdca26"
             ],
             [
              1,
              "#f0f921"
             ]
            ],
            "type": "surface"
           }
          ],
          "table": [
           {
            "cells": {
             "fill": {
              "color": "#506784"
             },
             "line": {
              "color": "rgb(17,17,17)"
             }
            },
            "header": {
             "fill": {
              "color": "#2a3f5f"
             },
             "line": {
              "color": "rgb(17,17,17)"
             }
            },
            "type": "table"
           }
          ]
         },
         "layout": {
          "annotationdefaults": {
           "arrowcolor": "#f2f5fa",
           "arrowhead": 0,
           "arrowwidth": 1
          },
          "autotypenumbers": "strict",
          "coloraxis": {
           "colorbar": {
            "outlinewidth": 0,
            "ticks": ""
           }
          },
          "colorscale": {
           "diverging": [
            [
             0,
             "#8e0152"
            ],
            [
             0.1,
             "#c51b7d"
            ],
            [
             0.2,
             "#de77ae"
            ],
            [
             0.3,
             "#f1b6da"
            ],
            [
             0.4,
             "#fde0ef"
            ],
            [
             0.5,
             "#f7f7f7"
            ],
            [
             0.6,
             "#e6f5d0"
            ],
            [
             0.7,
             "#b8e186"
            ],
            [
             0.8,
             "#7fbc41"
            ],
            [
             0.9,
             "#4d9221"
            ],
            [
             1,
             "#276419"
            ]
           ],
           "sequential": [
            [
             0,
             "#0d0887"
            ],
            [
             0.1111111111111111,
             "#46039f"
            ],
            [
             0.2222222222222222,
             "#7201a8"
            ],
            [
             0.3333333333333333,
             "#9c179e"
            ],
            [
             0.4444444444444444,
             "#bd3786"
            ],
            [
             0.5555555555555556,
             "#d8576b"
            ],
            [
             0.6666666666666666,
             "#ed7953"
            ],
            [
             0.7777777777777778,
             "#fb9f3a"
            ],
            [
             0.8888888888888888,
             "#fdca26"
            ],
            [
             1,
             "#f0f921"
            ]
           ],
           "sequentialminus": [
            [
             0,
             "#0d0887"
            ],
            [
             0.1111111111111111,
             "#46039f"
            ],
            [
             0.2222222222222222,
             "#7201a8"
            ],
            [
             0.3333333333333333,
             "#9c179e"
            ],
            [
             0.4444444444444444,
             "#bd3786"
            ],
            [
             0.5555555555555556,
             "#d8576b"
            ],
            [
             0.6666666666666666,
             "#ed7953"
            ],
            [
             0.7777777777777778,
             "#fb9f3a"
            ],
            [
             0.8888888888888888,
             "#fdca26"
            ],
            [
             1,
             "#f0f921"
            ]
           ]
          },
          "colorway": [
           "#636efa",
           "#EF553B",
           "#00cc96",
           "#ab63fa",
           "#FFA15A",
           "#19d3f3",
           "#FF6692",
           "#B6E880",
           "#FF97FF",
           "#FECB52"
          ],
          "font": {
           "color": "#f2f5fa"
          },
          "geo": {
           "bgcolor": "rgb(17,17,17)",
           "lakecolor": "rgb(17,17,17)",
           "landcolor": "rgb(17,17,17)",
           "showlakes": true,
           "showland": true,
           "subunitcolor": "#506784"
          },
          "hoverlabel": {
           "align": "left"
          },
          "hovermode": "closest",
          "mapbox": {
           "style": "dark"
          },
          "paper_bgcolor": "rgb(17,17,17)",
          "plot_bgcolor": "rgb(17,17,17)",
          "polar": {
           "angularaxis": {
            "gridcolor": "#506784",
            "linecolor": "#506784",
            "ticks": ""
           },
           "bgcolor": "rgb(17,17,17)",
           "radialaxis": {
            "gridcolor": "#506784",
            "linecolor": "#506784",
            "ticks": ""
           }
          },
          "scene": {
           "xaxis": {
            "backgroundcolor": "rgb(17,17,17)",
            "gridcolor": "#506784",
            "gridwidth": 2,
            "linecolor": "#506784",
            "showbackground": true,
            "ticks": "",
            "zerolinecolor": "#C8D4E3"
           },
           "yaxis": {
            "backgroundcolor": "rgb(17,17,17)",
            "gridcolor": "#506784",
            "gridwidth": 2,
            "linecolor": "#506784",
            "showbackground": true,
            "ticks": "",
            "zerolinecolor": "#C8D4E3"
           },
           "zaxis": {
            "backgroundcolor": "rgb(17,17,17)",
            "gridcolor": "#506784",
            "gridwidth": 2,
            "linecolor": "#506784",
            "showbackground": true,
            "ticks": "",
            "zerolinecolor": "#C8D4E3"
           }
          },
          "shapedefaults": {
           "line": {
            "color": "#f2f5fa"
           }
          },
          "sliderdefaults": {
           "bgcolor": "#C8D4E3",
           "bordercolor": "rgb(17,17,17)",
           "borderwidth": 1,
           "tickwidth": 0
          },
          "ternary": {
           "aaxis": {
            "gridcolor": "#506784",
            "linecolor": "#506784",
            "ticks": ""
           },
           "baxis": {
            "gridcolor": "#506784",
            "linecolor": "#506784",
            "ticks": ""
           },
           "bgcolor": "rgb(17,17,17)",
           "caxis": {
            "gridcolor": "#506784",
            "linecolor": "#506784",
            "ticks": ""
           }
          },
          "title": {
           "x": 0.05
          },
          "updatemenudefaults": {
           "bgcolor": "#506784",
           "borderwidth": 0
          },
          "xaxis": {
           "automargin": true,
           "gridcolor": "#283442",
           "linecolor": "#506784",
           "ticks": "",
           "title": {
            "standoff": 15
           },
           "zerolinecolor": "#283442",
           "zerolinewidth": 2
          },
          "yaxis": {
           "automargin": true,
           "gridcolor": "#283442",
           "linecolor": "#506784",
           "ticks": "",
           "title": {
            "standoff": 15
           },
           "zerolinecolor": "#283442",
           "zerolinewidth": 2
          }
         }
        },
        "title": {
         "text": "BTCUSDT - W - TA Chart Visualizer"
        },
        "xaxis": {
         "fixedrange": false,
         "rangeslider": {
          "visible": false
         },
         "title": {
          "text": "Time"
         }
        },
        "yaxis": {
         "fixedrange": false,
         "title": {
          "text": "Price"
         },
         "type": "log"
        }
       }
      }
     },
     "metadata": {},
     "output_type": "display_data"
    },
    {
     "name": "stdout",
     "output_type": "stream",
     "text": [
      "\n",
      "======================================================================\n",
      "📊 Visualizing Segment 6/10: BTCUSDT - W\n",
      "   Period: 2022-12-05 00:00 to 2023-06-12 00:00\n",
      "======================================================================\n",
      "Processing 28 candles for BTCUSDT at W interval\n",
      "   Middlewares: ['levels_middleware']\n"
     ]
    },
    {
     "data": {
      "application/vnd.plotly.v1+json": {
       "config": {
        "plotlyServerURL": "https://plot.ly"
       },
       "data": [
        {
         "close": {
          "bdata": "AAAAAICt0EAAAAAAYFbQQAAAAABAbtBAAAAAAKA70EAAAAAA4LfQQAAAAACAY9RAAAAAAOAr1kAAAAAAYC7XQAAAAACAZdZAmpmZmTlE1UCamZmZubLXQDMzMzMT/9ZAAAAAAMDk1UCamZmZuXbVQGZmZmaGTttAZmZmZuZL20CamZmZ+X7bQM3MzMxspdtAmpmZmfmV3UAzMzMzM+3aQAAAAABAiNxAmpmZmXm/20AAAAAAwEXaQDMzMzOTG9pAmpmZmXlk20AAAAAAYHjaQGZmZmbGTtlAAAAAAGC32UA=",
          "dtype": "f8"
         },
         "high": {
          "bdata": "AAAAAGAE0UAAAAAAwPLRQAAAAACAp9BAAAAAAECQ0EAAAAAAgMnQQAAAAACAC9VAAAAAAEDV1kAAAAAAgGfXQAAAAAAAttdAAAAAAKDp1kBmZmZmBrTYQAAAAADAs9hAmpmZmRl310DNzMzMrBDWQGZmZmZGwNtAAAAAAEA43EDNzMzMTIPcQGZmZmZGH9xAzczMzGxV3kAAAAAAAMndQAAAAACAW91AAAAAAEAi3UAAAAAAwPHbQAAAAAAAANtAAAAAAACe20AAAAAAQMjbQAAAAABAwdpAMzMzM7NB2kA=",
          "dtype": "f8"
         },
         "low": {
          "bdata": "AAAAAKBG0EAAAAAAICXQQAAAAACApc9AAAAAAIDwz0AAAAAAACrQQAAAAACAsdBAAAAAAEDo00AAAAAAwMvVQAAAAAAg9NVAZmZmZsbt1EAAAAAA4NPUQDMzMzMTLtZAAAAAAEBk1UAAAAAAwBPTQAAAAAAAS9VAmpmZmdn12UAzMzMzk9rZQAAAAADAidpAZmZmZiZ620AAAAAAgGzaQAAAAABATdpAZmZmZgb+2kAAAAAAACnZQDMzMzNTudlAAAAAAMA+2UDNzMzMLNzZQM3MzMwMu9hAAAAAAOAy2EA=",
          "dtype": "f8"
         },
         "name": "Candlestick",
         "open": {
          "bdata": "AAAAAACy0EAAAAAAgK3QQAAAAABgVtBAAAAAAEBu0EAAAAAAoDvQQAAAAADgt9BAAAAAAIBj1EAAAAAA4CvWQAAAAABgLtdAAAAAAIBl1kCamZmZOUTVQJqZmZm5stdAMzMzMxP/1kAAAAAAwOTVQJqZmZm5dtVAZmZmZoZO20BmZmZm5kvbQJqZmZn5fttAzczMzGyl20CamZmZ+ZXdQDMzMzMz7dpAAAAAAECI3ECamZmZeb/bQAAAAADARdpAMzMzM5Mb2kCamZmZeWTbQAAAAABgeNpAZmZmZsZO2UA=",
          "dtype": "f8"
         },
         "showlegend": false,
         "type": "candlestick",
         "x": [
          "2022-12-05T00:00:00.000000000",
          "2022-12-12T00:00:00.000000000",
          "2022-12-19T00:00:00.000000000",
          "2022-12-26T00:00:00.000000000",
          "2023-01-02T00:00:00.000000000",
          "2023-01-09T00:00:00.000000000",
          "2023-01-16T00:00:00.000000000",
          "2023-01-23T00:00:00.000000000",
          "2023-01-30T00:00:00.000000000",
          "2023-02-06T00:00:00.000000000",
          "2023-02-13T00:00:00.000000000",
          "2023-02-20T00:00:00.000000000",
          "2023-02-27T00:00:00.000000000",
          "2023-03-06T00:00:00.000000000",
          "2023-03-13T00:00:00.000000000",
          "2023-03-20T00:00:00.000000000",
          "2023-03-27T00:00:00.000000000",
          "2023-04-03T00:00:00.000000000",
          "2023-04-10T00:00:00.000000000",
          "2023-04-17T00:00:00.000000000",
          "2023-04-24T00:00:00.000000000",
          "2023-05-01T00:00:00.000000000",
          "2023-05-08T00:00:00.000000000",
          "2023-05-15T00:00:00.000000000",
          "2023-05-22T00:00:00.000000000",
          "2023-05-29T00:00:00.000000000",
          "2023-06-05T00:00:00.000000000",
          "2023-06-12T00:00:00.000000000"
         ]
        },
        {
         "line": {
          "color": "orange",
          "dash": "dash",
          "width": 2
         },
         "mode": "lines",
         "name": "line_close_W",
         "showlegend": true,
         "type": "scatter",
         "x": [
          "2022-12-26T00:00:00",
          "2023-06-12T00:00:00"
         ],
         "y": [
          16622.5,
          16622.5
         ]
        },
        {
         "line": {
          "color": "orange",
          "dash": "dash",
          "width": 2
         },
         "mode": "lines",
         "name": "line_close_W",
         "showlegend": true,
         "type": "scatter",
         "x": [
          "2023-03-06T00:00:00",
          "2023-06-12T00:00:00"
         ],
         "y": [
          21978.9,
          21978.9
         ]
        },
        {
         "line": {
          "color": "orange",
          "dash": "dash",
          "width": 2
         },
         "mode": "lines",
         "name": "line_close_W",
         "showlegend": true,
         "type": "scatter",
         "x": [
          "2023-04-10T00:00:00",
          "2023-06-12T00:00:00"
         ],
         "y": [
          30295.9,
          30295.9
         ]
        },
        {
         "line": {
          "color": "orange",
          "dash": "dash",
          "width": 2
         },
         "mode": "lines",
         "name": "line_close_W",
         "showlegend": true,
         "type": "scatter",
         "x": [
          "2023-04-24T00:00:00",
          "2023-06-12T00:00:00"
         ],
         "y": [
          29217,
          29217
         ]
        },
        {
         "line": {
          "color": "orange",
          "dash": "dash",
          "width": 2
         },
         "mode": "lines",
         "name": "line_close_W",
         "showlegend": true,
         "type": "scatter",
         "x": [
          "2023-05-22T00:00:00",
          "2023-06-12T00:00:00"
         ],
         "y": [
          28049.9,
          28049.9
         ]
        },
        {
         "line": {
          "color": "orange",
          "dash": "dash",
          "width": 2
         },
         "mode": "lines",
         "name": "line_close_W",
         "showlegend": true,
         "type": "scatter",
         "x": [
          "2023-06-05T00:00:00",
          "2023-06-12T00:00:00"
         ],
         "y": [
          25915.1,
          25915.1
         ]
        },
        {
         "line": {
          "color": "orange",
          "dash": "dash",
          "width": 2
         },
         "mode": "lines",
         "name": "max_level_W",
         "showlegend": true,
         "type": "scatter",
         "x": [
          "2022-12-05T00:00:00",
          "2023-06-12T00:00:00"
         ],
         "y": [
          31061.7,
          31061.7
         ]
        },
        {
         "line": {
          "color": "orange",
          "dash": "dash",
          "width": 2
         },
         "mode": "lines",
         "name": "min_level_W",
         "showlegend": true,
         "type": "scatter",
         "x": [
          "2022-12-05T00:00:00",
          "2023-06-12T00:00:00"
         ],
         "y": [
          16203,
          16203
         ]
        }
       ],
       "layout": {
        "height": 800,
        "showlegend": false,
        "template": {
         "data": {
          "bar": [
           {
            "error_x": {
             "color": "#f2f5fa"
            },
            "error_y": {
             "color": "#f2f5fa"
            },
            "marker": {
             "line": {
              "color": "rgb(17,17,17)",
              "width": 0.5
             },
             "pattern": {
              "fillmode": "overlay",
              "size": 10,
              "solidity": 0.2
             }
            },
            "type": "bar"
           }
          ],
          "barpolar": [
           {
            "marker": {
             "line": {
              "color": "rgb(17,17,17)",
              "width": 0.5
             },
             "pattern": {
              "fillmode": "overlay",
              "size": 10,
              "solidity": 0.2
             }
            },
            "type": "barpolar"
           }
          ],
          "carpet": [
           {
            "aaxis": {
             "endlinecolor": "#A2B1C6",
             "gridcolor": "#506784",
             "linecolor": "#506784",
             "minorgridcolor": "#506784",
             "startlinecolor": "#A2B1C6"
            },
            "baxis": {
             "endlinecolor": "#A2B1C6",
             "gridcolor": "#506784",
             "linecolor": "#506784",
             "minorgridcolor": "#506784",
             "startlinecolor": "#A2B1C6"
            },
            "type": "carpet"
           }
          ],
          "choropleth": [
           {
            "colorbar": {
             "outlinewidth": 0,
             "ticks": ""
            },
            "type": "choropleth"
           }
          ],
          "contour": [
           {
            "colorbar": {
             "outlinewidth": 0,
             "ticks": ""
            },
            "colorscale": [
             [
              0,
              "#0d0887"
             ],
             [
              0.1111111111111111,
              "#46039f"
             ],
             [
              0.2222222222222222,
              "#7201a8"
             ],
             [
              0.3333333333333333,
              "#9c179e"
             ],
             [
              0.4444444444444444,
              "#bd3786"
             ],
             [
              0.5555555555555556,
              "#d8576b"
             ],
             [
              0.6666666666666666,
              "#ed7953"
             ],
             [
              0.7777777777777778,
              "#fb9f3a"
             ],
             [
              0.8888888888888888,
              "#fdca26"
             ],
             [
              1,
              "#f0f921"
             ]
            ],
            "type": "contour"
           }
          ],
          "contourcarpet": [
           {
            "colorbar": {
             "outlinewidth": 0,
             "ticks": ""
            },
            "type": "contourcarpet"
           }
          ],
          "heatmap": [
           {
            "colorbar": {
             "outlinewidth": 0,
             "ticks": ""
            },
            "colorscale": [
             [
              0,
              "#0d0887"
             ],
             [
              0.1111111111111111,
              "#46039f"
             ],
             [
              0.2222222222222222,
              "#7201a8"
             ],
             [
              0.3333333333333333,
              "#9c179e"
             ],
             [
              0.4444444444444444,
              "#bd3786"
             ],
             [
              0.5555555555555556,
              "#d8576b"
             ],
             [
              0.6666666666666666,
              "#ed7953"
             ],
             [
              0.7777777777777778,
              "#fb9f3a"
             ],
             [
              0.8888888888888888,
              "#fdca26"
             ],
             [
              1,
              "#f0f921"
             ]
            ],
            "type": "heatmap"
           }
          ],
          "histogram": [
           {
            "marker": {
             "pattern": {
              "fillmode": "overlay",
              "size": 10,
              "solidity": 0.2
             }
            },
            "type": "histogram"
           }
          ],
          "histogram2d": [
           {
            "colorbar": {
             "outlinewidth": 0,
             "ticks": ""
            },
            "colorscale": [
             [
              0,
              "#0d0887"
             ],
             [
              0.1111111111111111,
              "#46039f"
             ],
             [
              0.2222222222222222,
              "#7201a8"
             ],
             [
              0.3333333333333333,
              "#9c179e"
             ],
             [
              0.4444444444444444,
              "#bd3786"
             ],
             [
              0.5555555555555556,
              "#d8576b"
             ],
             [
              0.6666666666666666,
              "#ed7953"
             ],
             [
              0.7777777777777778,
              "#fb9f3a"
             ],
             [
              0.8888888888888888,
              "#fdca26"
             ],
             [
              1,
              "#f0f921"
             ]
            ],
            "type": "histogram2d"
           }
          ],
          "histogram2dcontour": [
           {
            "colorbar": {
             "outlinewidth": 0,
             "ticks": ""
            },
            "colorscale": [
             [
              0,
              "#0d0887"
             ],
             [
              0.1111111111111111,
              "#46039f"
             ],
             [
              0.2222222222222222,
              "#7201a8"
             ],
             [
              0.3333333333333333,
              "#9c179e"
             ],
             [
              0.4444444444444444,
              "#bd3786"
             ],
             [
              0.5555555555555556,
              "#d8576b"
             ],
             [
              0.6666666666666666,
              "#ed7953"
             ],
             [
              0.7777777777777778,
              "#fb9f3a"
             ],
             [
              0.8888888888888888,
              "#fdca26"
             ],
             [
              1,
              "#f0f921"
             ]
            ],
            "type": "histogram2dcontour"
           }
          ],
          "mesh3d": [
           {
            "colorbar": {
             "outlinewidth": 0,
             "ticks": ""
            },
            "type": "mesh3d"
           }
          ],
          "parcoords": [
           {
            "line": {
             "colorbar": {
              "outlinewidth": 0,
              "ticks": ""
             }
            },
            "type": "parcoords"
           }
          ],
          "pie": [
           {
            "automargin": true,
            "type": "pie"
           }
          ],
          "scatter": [
           {
            "marker": {
             "line": {
              "color": "#283442"
             }
            },
            "type": "scatter"
           }
          ],
          "scatter3d": [
           {
            "line": {
             "colorbar": {
              "outlinewidth": 0,
              "ticks": ""
             }
            },
            "marker": {
             "colorbar": {
              "outlinewidth": 0,
              "ticks": ""
             }
            },
            "type": "scatter3d"
           }
          ],
          "scattercarpet": [
           {
            "marker": {
             "colorbar": {
              "outlinewidth": 0,
              "ticks": ""
             }
            },
            "type": "scattercarpet"
           }
          ],
          "scattergeo": [
           {
            "marker": {
             "colorbar": {
              "outlinewidth": 0,
              "ticks": ""
             }
            },
            "type": "scattergeo"
           }
          ],
          "scattergl": [
           {
            "marker": {
             "line": {
              "color": "#283442"
             }
            },
            "type": "scattergl"
           }
          ],
          "scattermap": [
           {
            "marker": {
             "colorbar": {
              "outlinewidth": 0,
              "ticks": ""
             }
            },
            "type": "scattermap"
           }
          ],
          "scattermapbox": [
           {
            "marker": {
             "colorbar": {
              "outlinewidth": 0,
              "ticks": ""
             }
            },
            "type": "scattermapbox"
           }
          ],
          "scatterpolar": [
           {
            "marker": {
             "colorbar": {
              "outlinewidth": 0,
              "ticks": ""
             }
            },
            "type": "scatterpolar"
           }
          ],
          "scatterpolargl": [
           {
            "marker": {
             "colorbar": {
              "outlinewidth": 0,
              "ticks": ""
             }
            },
            "type": "scatterpolargl"
           }
          ],
          "scatterternary": [
           {
            "marker": {
             "colorbar": {
              "outlinewidth": 0,
              "ticks": ""
             }
            },
            "type": "scatterternary"
           }
          ],
          "surface": [
           {
            "colorbar": {
             "outlinewidth": 0,
             "ticks": ""
            },
            "colorscale": [
             [
              0,
              "#0d0887"
             ],
             [
              0.1111111111111111,
              "#46039f"
             ],
             [
              0.2222222222222222,
              "#7201a8"
             ],
             [
              0.3333333333333333,
              "#9c179e"
             ],
             [
              0.4444444444444444,
              "#bd3786"
             ],
             [
              0.5555555555555556,
              "#d8576b"
             ],
             [
              0.6666666666666666,
              "#ed7953"
             ],
             [
              0.7777777777777778,
              "#fb9f3a"
             ],
             [
              0.8888888888888888,
              "#fdca26"
             ],
             [
              1,
              "#f0f921"
             ]
            ],
            "type": "surface"
           }
          ],
          "table": [
           {
            "cells": {
             "fill": {
              "color": "#506784"
             },
             "line": {
              "color": "rgb(17,17,17)"
             }
            },
            "header": {
             "fill": {
              "color": "#2a3f5f"
             },
             "line": {
              "color": "rgb(17,17,17)"
             }
            },
            "type": "table"
           }
          ]
         },
         "layout": {
          "annotationdefaults": {
           "arrowcolor": "#f2f5fa",
           "arrowhead": 0,
           "arrowwidth": 1
          },
          "autotypenumbers": "strict",
          "coloraxis": {
           "colorbar": {
            "outlinewidth": 0,
            "ticks": ""
           }
          },
          "colorscale": {
           "diverging": [
            [
             0,
             "#8e0152"
            ],
            [
             0.1,
             "#c51b7d"
            ],
            [
             0.2,
             "#de77ae"
            ],
            [
             0.3,
             "#f1b6da"
            ],
            [
             0.4,
             "#fde0ef"
            ],
            [
             0.5,
             "#f7f7f7"
            ],
            [
             0.6,
             "#e6f5d0"
            ],
            [
             0.7,
             "#b8e186"
            ],
            [
             0.8,
             "#7fbc41"
            ],
            [
             0.9,
             "#4d9221"
            ],
            [
             1,
             "#276419"
            ]
           ],
           "sequential": [
            [
             0,
             "#0d0887"
            ],
            [
             0.1111111111111111,
             "#46039f"
            ],
            [
             0.2222222222222222,
             "#7201a8"
            ],
            [
             0.3333333333333333,
             "#9c179e"
            ],
            [
             0.4444444444444444,
             "#bd3786"
            ],
            [
             0.5555555555555556,
             "#d8576b"
            ],
            [
             0.6666666666666666,
             "#ed7953"
            ],
            [
             0.7777777777777778,
             "#fb9f3a"
            ],
            [
             0.8888888888888888,
             "#fdca26"
            ],
            [
             1,
             "#f0f921"
            ]
           ],
           "sequentialminus": [
            [
             0,
             "#0d0887"
            ],
            [
             0.1111111111111111,
             "#46039f"
            ],
            [
             0.2222222222222222,
             "#7201a8"
            ],
            [
             0.3333333333333333,
             "#9c179e"
            ],
            [
             0.4444444444444444,
             "#bd3786"
            ],
            [
             0.5555555555555556,
             "#d8576b"
            ],
            [
             0.6666666666666666,
             "#ed7953"
            ],
            [
             0.7777777777777778,
             "#fb9f3a"
            ],
            [
             0.8888888888888888,
             "#fdca26"
            ],
            [
             1,
             "#f0f921"
            ]
           ]
          },
          "colorway": [
           "#636efa",
           "#EF553B",
           "#00cc96",
           "#ab63fa",
           "#FFA15A",
           "#19d3f3",
           "#FF6692",
           "#B6E880",
           "#FF97FF",
           "#FECB52"
          ],
          "font": {
           "color": "#f2f5fa"
          },
          "geo": {
           "bgcolor": "rgb(17,17,17)",
           "lakecolor": "rgb(17,17,17)",
           "landcolor": "rgb(17,17,17)",
           "showlakes": true,
           "showland": true,
           "subunitcolor": "#506784"
          },
          "hoverlabel": {
           "align": "left"
          },
          "hovermode": "closest",
          "mapbox": {
           "style": "dark"
          },
          "paper_bgcolor": "rgb(17,17,17)",
          "plot_bgcolor": "rgb(17,17,17)",
          "polar": {
           "angularaxis": {
            "gridcolor": "#506784",
            "linecolor": "#506784",
            "ticks": ""
           },
           "bgcolor": "rgb(17,17,17)",
           "radialaxis": {
            "gridcolor": "#506784",
            "linecolor": "#506784",
            "ticks": ""
           }
          },
          "scene": {
           "xaxis": {
            "backgroundcolor": "rgb(17,17,17)",
            "gridcolor": "#506784",
            "gridwidth": 2,
            "linecolor": "#506784",
            "showbackground": true,
            "ticks": "",
            "zerolinecolor": "#C8D4E3"
           },
           "yaxis": {
            "backgroundcolor": "rgb(17,17,17)",
            "gridcolor": "#506784",
            "gridwidth": 2,
            "linecolor": "#506784",
            "showbackground": true,
            "ticks": "",
            "zerolinecolor": "#C8D4E3"
           },
           "zaxis": {
            "backgroundcolor": "rgb(17,17,17)",
            "gridcolor": "#506784",
            "gridwidth": 2,
            "linecolor": "#506784",
            "showbackground": true,
            "ticks": "",
            "zerolinecolor": "#C8D4E3"
           }
          },
          "shapedefaults": {
           "line": {
            "color": "#f2f5fa"
           }
          },
          "sliderdefaults": {
           "bgcolor": "#C8D4E3",
           "bordercolor": "rgb(17,17,17)",
           "borderwidth": 1,
           "tickwidth": 0
          },
          "ternary": {
           "aaxis": {
            "gridcolor": "#506784",
            "linecolor": "#506784",
            "ticks": ""
           },
           "baxis": {
            "gridcolor": "#506784",
            "linecolor": "#506784",
            "ticks": ""
           },
           "bgcolor": "rgb(17,17,17)",
           "caxis": {
            "gridcolor": "#506784",
            "linecolor": "#506784",
            "ticks": ""
           }
          },
          "title": {
           "x": 0.05
          },
          "updatemenudefaults": {
           "bgcolor": "#506784",
           "borderwidth": 0
          },
          "xaxis": {
           "automargin": true,
           "gridcolor": "#283442",
           "linecolor": "#506784",
           "ticks": "",
           "title": {
            "standoff": 15
           },
           "zerolinecolor": "#283442",
           "zerolinewidth": 2
          },
          "yaxis": {
           "automargin": true,
           "gridcolor": "#283442",
           "linecolor": "#506784",
           "ticks": "",
           "title": {
            "standoff": 15
           },
           "zerolinecolor": "#283442",
           "zerolinewidth": 2
          }
         }
        },
        "title": {
         "text": "BTCUSDT - W - TA Chart Visualizer"
        },
        "xaxis": {
         "fixedrange": false,
         "rangeslider": {
          "visible": false
         },
         "title": {
          "text": "Time"
         }
        },
        "yaxis": {
         "fixedrange": false,
         "title": {
          "text": "Price"
         },
         "type": "log"
        }
       }
      }
     },
     "metadata": {},
     "output_type": "display_data"
    },
    {
     "name": "stdout",
     "output_type": "stream",
     "text": [
      "\n",
      "======================================================================\n",
      "📊 Visualizing Segment 7/10: BTCUSDT - W\n",
      "   Period: 2023-06-19 00:00 to 2023-12-25 00:00\n",
      "======================================================================\n",
      "Processing 28 candles for BTCUSDT at W interval\n",
      "   Middlewares: ['levels_middleware']\n"
     ]
    },
    {
     "data": {
      "application/vnd.plotly.v1+json": {
       "config": {
        "plotlyServerURL": "https://plot.ly"
       },
       "data": [
        {
         "close": {
          "bdata": "ZmZmZga/3UCamZmZeeLdQAAAAACAcd1AmpmZmVmD3UBmZmZmxl3dQGZmZmZGltxAzczMzOxk3EAzMzMzU53cQAAAAAAgkNlAmpmZmVl52UCamZmZ+VnZQJqZmZmZONlAZmZmZqbk2UCamZmZOZ7ZQAAAAADAUttAAAAAAMA+20AzMzMz04DaQM3MzMysRt1AmpmZmfnc4ECamZmZeRvhQAAAAAAwHOJAzczMzFxB4kDNzMzM7EniQM3MzMz8h+NAmpmZmfll5UBmZmZmZjbkQJqZmZnJAeVAmpmZmZmq5EA=",
          "dtype": "f8"
         },
         "high": {
          "bdata": "AAAAAAC13kCamZmZ+Y7eQGZmZmbGzd5AmpmZmfkY30AAAAAAwLHdQAAAAAAAYd1AAAAAAABW3UAzMzMzc47dQAAAAAAA/NxAMzMzM/Mx2kAzMzMzM3vbQAAAAACA1NlAmpmZmblC2kCamZmZOdfaQAAAAACAr9tAzczMzOzr20AAAAAA4FDbQDMzMzNz6N1AAAAAAPDw4UBmZmZmhp7hQAAAAACgoOJAzczMzByQ4kBmZmZmdsTiQM3MzMz8vuNAAAAAACDd5UCamZmZ2WnlQM3MzMw8t+VAAAAAAFBs5UA=",
          "dtype": "f8"
         },
         "low": {
          "bdata": "AAAAAICi2UAzMzMzM7ncQGZmZmbG+txAAAAAAEAs3UAAAAAAgKzcQAAAAADALNxAZmZmZubi20BmZmZmRgHcQJqZmZk5otdAMzMzM9Os2ECamZmZWbbYQJqZmZmZv9hAmpmZmVlF2EAAAAAAwHfZQDMzMzPTXNlAAAAAAAB/2kAAAAAAwObZQAAAAACAdtpAAAAAAMAs3UDNzMzMTJ3gQDMzMzPT2+BAzczMzNzd4EAAAAAAoGPhQAAAAABQ7eFAMzMzM5OH40BmZmZm9pzjQAAAAADAzuNAAAAAAMAn5EA=",
          "dtype": "f8"
         },
         "name": "Candlestick",
         "open": {
          "bdata": "AAAAAGC32UBmZmZmBr/dQJqZmZl54t1AAAAAAIBx3UCamZmZWYPdQGZmZmbGXd1AZmZmZkaW3EDNzMzM7GTcQDMzMzNTndxAAAAAACCQ2UCamZmZWXnZQJqZmZn5WdlAmpmZmZk42UBmZmZmpuTZQJqZmZk5ntlAAAAAAMBS20AAAAAAwD7bQDMzMzPTgNpAzczMzKxG3UCamZmZ+dzgQJqZmZl5G+FAAAAAADAc4kDNzMzMXEHiQM3MzMzsSeJAzczMzPyH40CamZmZ+WXlQGZmZmZmNuRAmpmZmckB5UA=",
          "dtype": "f8"
         },
         "showlegend": false,
         "type": "candlestick",
         "x": [
          "2023-06-19T00:00:00.000000000",
          "2023-06-26T00:00:00.000000000",
          "2023-07-03T00:00:00.000000000",
          "2023-07-10T00:00:00.000000000",
          "2023-07-17T00:00:00.000000000",
          "2023-07-24T00:00:00.000000000",
          "2023-07-31T00:00:00.000000000",
          "2023-08-07T00:00:00.000000000",
          "2023-08-14T00:00:00.000000000",
          "2023-08-21T00:00:00.000000000",
          "2023-08-28T00:00:00.000000000",
          "2023-09-04T00:00:00.000000000",
          "2023-09-11T00:00:00.000000000",
          "2023-09-18T00:00:00.000000000",
          "2023-09-25T00:00:00.000000000",
          "2023-10-02T00:00:00.000000000",
          "2023-10-09T00:00:00.000000000",
          "2023-10-16T00:00:00.000000000",
          "2023-10-23T00:00:00.000000000",
          "2023-10-30T00:00:00.000000000",
          "2023-11-06T00:00:00.000000000",
          "2023-11-13T00:00:00.000000000",
          "2023-11-20T00:00:00.000000000",
          "2023-11-27T00:00:00.000000000",
          "2023-12-04T00:00:00.000000000",
          "2023-12-11T00:00:00.000000000",
          "2023-12-18T00:00:00.000000000",
          "2023-12-25T00:00:00.000000000"
         ]
        },
        {
         "line": {
          "color": "orange",
          "dash": "dash",
          "width": 2
         },
         "mode": "lines",
         "name": "line_close_W",
         "showlegend": true,
         "type": "scatter",
         "x": [
          "2023-09-04T00:00:00",
          "2023-12-25T00:00:00"
         ],
         "y": [
          25826.4,
          25826.4
         ]
        },
        {
         "line": {
          "color": "orange",
          "dash": "dash",
          "width": 2
         },
         "mode": "lines",
         "name": "line_close_W",
         "showlegend": true,
         "type": "scatter",
         "x": [
          "2023-09-18T00:00:00",
          "2023-12-25T00:00:00"
         ],
         "y": [
          26232.9,
          26232.9
         ]
        },
        {
         "line": {
          "color": "orange",
          "dash": "dash",
          "width": 2
         },
         "mode": "lines",
         "name": "line_close_W",
         "showlegend": true,
         "type": "scatter",
         "x": [
          "2023-10-09T00:00:00",
          "2023-12-25T00:00:00"
         ],
         "y": [
          27139.3,
          27139.3
         ]
        },
        {
         "line": {
          "color": "orange",
          "dash": "dash",
          "width": 2
         },
         "mode": "lines",
         "name": "line_close_W",
         "showlegend": true,
         "type": "scatter",
         "x": [
          "2023-12-18T00:00:00",
          "2023-12-25T00:00:00"
         ],
         "y": [
          43022.3,
          43022.3
         ]
        },
        {
         "line": {
          "color": "orange",
          "dash": "dash",
          "width": 2
         },
         "mode": "lines",
         "name": "max_level_W",
         "showlegend": true,
         "type": "scatter",
         "x": [
          "2023-06-19T00:00:00",
          "2023-12-25T00:00:00"
         ],
         "y": [
          44777,
          44777
         ]
        },
        {
         "line": {
          "color": "orange",
          "dash": "dash",
          "width": 2
         },
         "mode": "lines",
         "name": "min_level_W",
         "showlegend": true,
         "type": "scatter",
         "x": [
          "2023-06-19T00:00:00",
          "2023-12-25T00:00:00"
         ],
         "y": [
          24200.9,
          24200.9
         ]
        }
       ],
       "layout": {
        "height": 800,
        "showlegend": false,
        "template": {
         "data": {
          "bar": [
           {
            "error_x": {
             "color": "#f2f5fa"
            },
            "error_y": {
             "color": "#f2f5fa"
            },
            "marker": {
             "line": {
              "color": "rgb(17,17,17)",
              "width": 0.5
             },
             "pattern": {
              "fillmode": "overlay",
              "size": 10,
              "solidity": 0.2
             }
            },
            "type": "bar"
           }
          ],
          "barpolar": [
           {
            "marker": {
             "line": {
              "color": "rgb(17,17,17)",
              "width": 0.5
             },
             "pattern": {
              "fillmode": "overlay",
              "size": 10,
              "solidity": 0.2
             }
            },
            "type": "barpolar"
           }
          ],
          "carpet": [
           {
            "aaxis": {
             "endlinecolor": "#A2B1C6",
             "gridcolor": "#506784",
             "linecolor": "#506784",
             "minorgridcolor": "#506784",
             "startlinecolor": "#A2B1C6"
            },
            "baxis": {
             "endlinecolor": "#A2B1C6",
             "gridcolor": "#506784",
             "linecolor": "#506784",
             "minorgridcolor": "#506784",
             "startlinecolor": "#A2B1C6"
            },
            "type": "carpet"
           }
          ],
          "choropleth": [
           {
            "colorbar": {
             "outlinewidth": 0,
             "ticks": ""
            },
            "type": "choropleth"
           }
          ],
          "contour": [
           {
            "colorbar": {
             "outlinewidth": 0,
             "ticks": ""
            },
            "colorscale": [
             [
              0,
              "#0d0887"
             ],
             [
              0.1111111111111111,
              "#46039f"
             ],
             [
              0.2222222222222222,
              "#7201a8"
             ],
             [
              0.3333333333333333,
              "#9c179e"
             ],
             [
              0.4444444444444444,
              "#bd3786"
             ],
             [
              0.5555555555555556,
              "#d8576b"
             ],
             [
              0.6666666666666666,
              "#ed7953"
             ],
             [
              0.7777777777777778,
              "#fb9f3a"
             ],
             [
              0.8888888888888888,
              "#fdca26"
             ],
             [
              1,
              "#f0f921"
             ]
            ],
            "type": "contour"
           }
          ],
          "contourcarpet": [
           {
            "colorbar": {
             "outlinewidth": 0,
             "ticks": ""
            },
            "type": "contourcarpet"
           }
          ],
          "heatmap": [
           {
            "colorbar": {
             "outlinewidth": 0,
             "ticks": ""
            },
            "colorscale": [
             [
              0,
              "#0d0887"
             ],
             [
              0.1111111111111111,
              "#46039f"
             ],
             [
              0.2222222222222222,
              "#7201a8"
             ],
             [
              0.3333333333333333,
              "#9c179e"
             ],
             [
              0.4444444444444444,
              "#bd3786"
             ],
             [
              0.5555555555555556,
              "#d8576b"
             ],
             [
              0.6666666666666666,
              "#ed7953"
             ],
             [
              0.7777777777777778,
              "#fb9f3a"
             ],
             [
              0.8888888888888888,
              "#fdca26"
             ],
             [
              1,
              "#f0f921"
             ]
            ],
            "type": "heatmap"
           }
          ],
          "histogram": [
           {
            "marker": {
             "pattern": {
              "fillmode": "overlay",
              "size": 10,
              "solidity": 0.2
             }
            },
            "type": "histogram"
           }
          ],
          "histogram2d": [
           {
            "colorbar": {
             "outlinewidth": 0,
             "ticks": ""
            },
            "colorscale": [
             [
              0,
              "#0d0887"
             ],
             [
              0.1111111111111111,
              "#46039f"
             ],
             [
              0.2222222222222222,
              "#7201a8"
             ],
             [
              0.3333333333333333,
              "#9c179e"
             ],
             [
              0.4444444444444444,
              "#bd3786"
             ],
             [
              0.5555555555555556,
              "#d8576b"
             ],
             [
              0.6666666666666666,
              "#ed7953"
             ],
             [
              0.7777777777777778,
              "#fb9f3a"
             ],
             [
              0.8888888888888888,
              "#fdca26"
             ],
             [
              1,
              "#f0f921"
             ]
            ],
            "type": "histogram2d"
           }
          ],
          "histogram2dcontour": [
           {
            "colorbar": {
             "outlinewidth": 0,
             "ticks": ""
            },
            "colorscale": [
             [
              0,
              "#0d0887"
             ],
             [
              0.1111111111111111,
              "#46039f"
             ],
             [
              0.2222222222222222,
              "#7201a8"
             ],
             [
              0.3333333333333333,
              "#9c179e"
             ],
             [
              0.4444444444444444,
              "#bd3786"
             ],
             [
              0.5555555555555556,
              "#d8576b"
             ],
             [
              0.6666666666666666,
              "#ed7953"
             ],
             [
              0.7777777777777778,
              "#fb9f3a"
             ],
             [
              0.8888888888888888,
              "#fdca26"
             ],
             [
              1,
              "#f0f921"
             ]
            ],
            "type": "histogram2dcontour"
           }
          ],
          "mesh3d": [
           {
            "colorbar": {
             "outlinewidth": 0,
             "ticks": ""
            },
            "type": "mesh3d"
           }
          ],
          "parcoords": [
           {
            "line": {
             "colorbar": {
              "outlinewidth": 0,
              "ticks": ""
             }
            },
            "type": "parcoords"
           }
          ],
          "pie": [
           {
            "automargin": true,
            "type": "pie"
           }
          ],
          "scatter": [
           {
            "marker": {
             "line": {
              "color": "#283442"
             }
            },
            "type": "scatter"
           }
          ],
          "scatter3d": [
           {
            "line": {
             "colorbar": {
              "outlinewidth": 0,
              "ticks": ""
             }
            },
            "marker": {
             "colorbar": {
              "outlinewidth": 0,
              "ticks": ""
             }
            },
            "type": "scatter3d"
           }
          ],
          "scattercarpet": [
           {
            "marker": {
             "colorbar": {
              "outlinewidth": 0,
              "ticks": ""
             }
            },
            "type": "scattercarpet"
           }
          ],
          "scattergeo": [
           {
            "marker": {
             "colorbar": {
              "outlinewidth": 0,
              "ticks": ""
             }
            },
            "type": "scattergeo"
           }
          ],
          "scattergl": [
           {
            "marker": {
             "line": {
              "color": "#283442"
             }
            },
            "type": "scattergl"
           }
          ],
          "scattermap": [
           {
            "marker": {
             "colorbar": {
              "outlinewidth": 0,
              "ticks": ""
             }
            },
            "type": "scattermap"
           }
          ],
          "scattermapbox": [
           {
            "marker": {
             "colorbar": {
              "outlinewidth": 0,
              "ticks": ""
             }
            },
            "type": "scattermapbox"
           }
          ],
          "scatterpolar": [
           {
            "marker": {
             "colorbar": {
              "outlinewidth": 0,
              "ticks": ""
             }
            },
            "type": "scatterpolar"
           }
          ],
          "scatterpolargl": [
           {
            "marker": {
             "colorbar": {
              "outlinewidth": 0,
              "ticks": ""
             }
            },
            "type": "scatterpolargl"
           }
          ],
          "scatterternary": [
           {
            "marker": {
             "colorbar": {
              "outlinewidth": 0,
              "ticks": ""
             }
            },
            "type": "scatterternary"
           }
          ],
          "surface": [
           {
            "colorbar": {
             "outlinewidth": 0,
             "ticks": ""
            },
            "colorscale": [
             [
              0,
              "#0d0887"
             ],
             [
              0.1111111111111111,
              "#46039f"
             ],
             [
              0.2222222222222222,
              "#7201a8"
             ],
             [
              0.3333333333333333,
              "#9c179e"
             ],
             [
              0.4444444444444444,
              "#bd3786"
             ],
             [
              0.5555555555555556,
              "#d8576b"
             ],
             [
              0.6666666666666666,
              "#ed7953"
             ],
             [
              0.7777777777777778,
              "#fb9f3a"
             ],
             [
              0.8888888888888888,
              "#fdca26"
             ],
             [
              1,
              "#f0f921"
             ]
            ],
            "type": "surface"
           }
          ],
          "table": [
           {
            "cells": {
             "fill": {
              "color": "#506784"
             },
             "line": {
              "color": "rgb(17,17,17)"
             }
            },
            "header": {
             "fill": {
              "color": "#2a3f5f"
             },
             "line": {
              "color": "rgb(17,17,17)"
             }
            },
            "type": "table"
           }
          ]
         },
         "layout": {
          "annotationdefaults": {
           "arrowcolor": "#f2f5fa",
           "arrowhead": 0,
           "arrowwidth": 1
          },
          "autotypenumbers": "strict",
          "coloraxis": {
           "colorbar": {
            "outlinewidth": 0,
            "ticks": ""
           }
          },
          "colorscale": {
           "diverging": [
            [
             0,
             "#8e0152"
            ],
            [
             0.1,
             "#c51b7d"
            ],
            [
             0.2,
             "#de77ae"
            ],
            [
             0.3,
             "#f1b6da"
            ],
            [
             0.4,
             "#fde0ef"
            ],
            [
             0.5,
             "#f7f7f7"
            ],
            [
             0.6,
             "#e6f5d0"
            ],
            [
             0.7,
             "#b8e186"
            ],
            [
             0.8,
             "#7fbc41"
            ],
            [
             0.9,
             "#4d9221"
            ],
            [
             1,
             "#276419"
            ]
           ],
           "sequential": [
            [
             0,
             "#0d0887"
            ],
            [
             0.1111111111111111,
             "#46039f"
            ],
            [
             0.2222222222222222,
             "#7201a8"
            ],
            [
             0.3333333333333333,
             "#9c179e"
            ],
            [
             0.4444444444444444,
             "#bd3786"
            ],
            [
             0.5555555555555556,
             "#d8576b"
            ],
            [
             0.6666666666666666,
             "#ed7953"
            ],
            [
             0.7777777777777778,
             "#fb9f3a"
            ],
            [
             0.8888888888888888,
             "#fdca26"
            ],
            [
             1,
             "#f0f921"
            ]
           ],
           "sequentialminus": [
            [
             0,
             "#0d0887"
            ],
            [
             0.1111111111111111,
             "#46039f"
            ],
            [
             0.2222222222222222,
             "#7201a8"
            ],
            [
             0.3333333333333333,
             "#9c179e"
            ],
            [
             0.4444444444444444,
             "#bd3786"
            ],
            [
             0.5555555555555556,
             "#d8576b"
            ],
            [
             0.6666666666666666,
             "#ed7953"
            ],
            [
             0.7777777777777778,
             "#fb9f3a"
            ],
            [
             0.8888888888888888,
             "#fdca26"
            ],
            [
             1,
             "#f0f921"
            ]
           ]
          },
          "colorway": [
           "#636efa",
           "#EF553B",
           "#00cc96",
           "#ab63fa",
           "#FFA15A",
           "#19d3f3",
           "#FF6692",
           "#B6E880",
           "#FF97FF",
           "#FECB52"
          ],
          "font": {
           "color": "#f2f5fa"
          },
          "geo": {
           "bgcolor": "rgb(17,17,17)",
           "lakecolor": "rgb(17,17,17)",
           "landcolor": "rgb(17,17,17)",
           "showlakes": true,
           "showland": true,
           "subunitcolor": "#506784"
          },
          "hoverlabel": {
           "align": "left"
          },
          "hovermode": "closest",
          "mapbox": {
           "style": "dark"
          },
          "paper_bgcolor": "rgb(17,17,17)",
          "plot_bgcolor": "rgb(17,17,17)",
          "polar": {
           "angularaxis": {
            "gridcolor": "#506784",
            "linecolor": "#506784",
            "ticks": ""
           },
           "bgcolor": "rgb(17,17,17)",
           "radialaxis": {
            "gridcolor": "#506784",
            "linecolor": "#506784",
            "ticks": ""
           }
          },
          "scene": {
           "xaxis": {
            "backgroundcolor": "rgb(17,17,17)",
            "gridcolor": "#506784",
            "gridwidth": 2,
            "linecolor": "#506784",
            "showbackground": true,
            "ticks": "",
            "zerolinecolor": "#C8D4E3"
           },
           "yaxis": {
            "backgroundcolor": "rgb(17,17,17)",
            "gridcolor": "#506784",
            "gridwidth": 2,
            "linecolor": "#506784",
            "showbackground": true,
            "ticks": "",
            "zerolinecolor": "#C8D4E3"
           },
           "zaxis": {
            "backgroundcolor": "rgb(17,17,17)",
            "gridcolor": "#506784",
            "gridwidth": 2,
            "linecolor": "#506784",
            "showbackground": true,
            "ticks": "",
            "zerolinecolor": "#C8D4E3"
           }
          },
          "shapedefaults": {
           "line": {
            "color": "#f2f5fa"
           }
          },
          "sliderdefaults": {
           "bgcolor": "#C8D4E3",
           "bordercolor": "rgb(17,17,17)",
           "borderwidth": 1,
           "tickwidth": 0
          },
          "ternary": {
           "aaxis": {
            "gridcolor": "#506784",
            "linecolor": "#506784",
            "ticks": ""
           },
           "baxis": {
            "gridcolor": "#506784",
            "linecolor": "#506784",
            "ticks": ""
           },
           "bgcolor": "rgb(17,17,17)",
           "caxis": {
            "gridcolor": "#506784",
            "linecolor": "#506784",
            "ticks": ""
           }
          },
          "title": {
           "x": 0.05
          },
          "updatemenudefaults": {
           "bgcolor": "#506784",
           "borderwidth": 0
          },
          "xaxis": {
           "automargin": true,
           "gridcolor": "#283442",
           "linecolor": "#506784",
           "ticks": "",
           "title": {
            "standoff": 15
           },
           "zerolinecolor": "#283442",
           "zerolinewidth": 2
          },
          "yaxis": {
           "automargin": true,
           "gridcolor": "#283442",
           "linecolor": "#506784",
           "ticks": "",
           "title": {
            "standoff": 15
           },
           "zerolinecolor": "#283442",
           "zerolinewidth": 2
          }
         }
        },
        "title": {
         "text": "BTCUSDT - W - TA Chart Visualizer"
        },
        "xaxis": {
         "fixedrange": false,
         "rangeslider": {
          "visible": false
         },
         "title": {
          "text": "Time"
         }
        },
        "yaxis": {
         "fixedrange": false,
         "title": {
          "text": "Price"
         },
         "type": "log"
        }
       }
      }
     },
     "metadata": {},
     "output_type": "display_data"
    },
    {
     "name": "stdout",
     "output_type": "stream",
     "text": [
      "\n",
      "======================================================================\n",
      "📊 Visualizing Segment 8/10: BTCUSDT - W\n",
      "   Period: 2024-01-01 00:00 to 2024-07-08 00:00\n",
      "======================================================================\n",
      "Processing 28 candles for BTCUSDT at W interval\n",
      "   Middlewares: ['levels_middleware']\n"
     ]
    },
    {
     "data": {
      "application/vnd.plotly.v1+json": {
       "config": {
        "plotlyServerURL": "https://plot.ly"
       },
       "data": [
        {
         "close": {
          "bdata": "ZmZmZgZ05UAAAAAAYGDkQDMzMzMzTuRAMzMzMwOE5EAzMzMz88fkQAAAAAAQmedAzczMzNx56UAAAAAAcETpQDMzMzNj2e5AmpmZmXnY8EAzMzMzA7XwQJqZmZkBa/BAAAAAACBt8UAAAAAAsO7wQGZmZmYuBfBAzczMzNyx70CamZmZmc7uQJqZmZm5P+9AZmZmZjYB7kCamZmZuSvwQJqZmZkJu/BAzczMzASM8EDNzMzMpADxQDMzMzPjRPBAzczMzHzZ7kAAAAAAsKPuQAAAAAAAROtAmpmZmXmq7UA=",
          "dtype": "f8"
         },
         "high": {
          "bdata": "AAAAAFBv5kDNzMzMzPPnQM3MzMx8R+VAzczMzPzq5ECamZmZWW7lQAAAAABwu+dAAAAAAPDR6UAAAAAAAPDpQGZmZmYWfu9AAAAAAAAr8UAAAAAA0A3yQAAAAAAA2/BAAAAAAKCN8UCamZmZKW7xQAAAAABoyfFAZmZmZi5R8EBmZmZm7mfwQJqZmZkpmO9AAAAAAEAA8EAzMzMzm4nwQDMzMzPbl/FAZmZmZh5F8UAAAAAAkJ7xQJqZmZlJIvFAZmZmZp5t8EDNzMzMPOzuQAAAAACgLO9AzczMzHz57UA=",
          "dtype": "f8"
         },
         "low": {
          "bdata": "AAAAAECi40AAAAAAYC3kQAAAAACgqeNAAAAAAHDQ4kDNzMzM/GTkQDMzMzOznuRAmpmZmRlM50AAAAAAwJ/oQAAAAABA3ehAAAAAAODc7ECamZmZeYPvQGZmZmYmq+1AAAAAAGg08EAAAAAAwHLvQM3MzMy8Lu1AZmZmZjYQ7UAAAAAAQHTuQAAAAAAgl+tAAAAAAOBZ7UCamZmZeaTtQAAAAAAgH/BAAAAAAEBG8EAAAAAAWILwQAAAAADAwO9AMzMzM2PS7kAAAAAAAHrsQJqZmZlJCOpAmpmZmYl66kA=",
          "dtype": "f8"
         },
         "name": "Candlestick",
         "open": {
          "bdata": "mpmZmZmq5EBmZmZmBnTlQAAAAABgYORAMzMzMzNO5EAzMzMzA4TkQDMzMzPzx+RAAAAAABCZ50DNzMzM3HnpQAAAAABwROlAMzMzM2PZ7kCamZmZedjwQDMzMzMDtfBAmpmZmQFr8EAAAAAAIG3xQAAAAACw7vBAZmZmZi4F8EDNzMzM3LHvQJqZmZmZzu5AmpmZmbk/70BmZmZmNgHuQJqZmZm5K/BAmpmZmQm78EDNzMzMBIzwQM3MzMykAPFAMzMzM+NE8EDNzMzMfNnuQAAAAACwo+5AAAAAAABE60A=",
          "dtype": "f8"
         },
         "showlegend": false,
         "type": "candlestick",
         "x": [
          "2024-01-01T00:00:00.000000000",
          "2024-01-08T00:00:00.000000000",
          "2024-01-15T00:00:00.000000000",
          "2024-01-22T00:00:00.000000000",
          "2024-01-29T00:00:00.000000000",
          "2024-02-05T00:00:00.000000000",
          "2024-02-12T00:00:00.000000000",
          "2024-02-19T00:00:00.000000000",
          "2024-02-26T00:00:00.000000000",
          "2024-03-04T00:00:00.000000000",
          "2024-03-11T00:00:00.000000000",
          "2024-03-18T00:00:00.000000000",
          "2024-03-25T00:00:00.000000000",
          "2024-04-01T00:00:00.000000000",
          "2024-04-08T00:00:00.000000000",
          "2024-04-15T00:00:00.000000000",
          "2024-04-22T00:00:00.000000000",
          "2024-04-29T00:00:00.000000000",
          "2024-05-06T00:00:00.000000000",
          "2024-05-13T00:00:00.000000000",
          "2024-05-20T00:00:00.000000000",
          "2024-05-27T00:00:00.000000000",
          "2024-06-03T00:00:00.000000000",
          "2024-06-10T00:00:00.000000000",
          "2024-06-17T00:00:00.000000000",
          "2024-06-24T00:00:00.000000000",
          "2024-07-01T00:00:00.000000000",
          "2024-07-08T00:00:00.000000000"
         ]
        },
        {
         "line": {
          "color": "orange",
          "dash": "dash",
          "width": 2
         },
         "mode": "lines",
         "name": "line_close_W",
         "showlegend": true,
         "type": "scatter",
         "x": [
          "2024-01-15T00:00:00",
          "2024-07-08T00:00:00"
         ],
         "y": [
          41585.6,
          41585.6
         ]
        },
        {
         "line": {
          "color": "orange",
          "dash": "dash",
          "width": 2
         },
         "mode": "lines",
         "name": "line_close_W",
         "showlegend": true,
         "type": "scatter",
         "x": [
          "2024-02-19T00:00:00",
          "2024-07-08T00:00:00"
         ],
         "y": [
          51747.5,
          51747.5
         ]
        },
        {
         "line": {
          "color": "orange",
          "dash": "dash",
          "width": 2
         },
         "mode": "lines",
         "name": "line_close_W",
         "showlegend": true,
         "type": "scatter",
         "x": [
          "2024-06-03T00:00:00",
          "2024-07-08T00:00:00"
         ],
         "y": [
          69642.3,
          69642.3
         ]
        },
        {
         "line": {
          "color": "orange",
          "dash": "dash",
          "width": 2
         },
         "mode": "lines",
         "name": "line_close_W",
         "showlegend": true,
         "type": "scatter",
         "x": [
          "2024-07-01T00:00:00",
          "2024-07-08T00:00:00"
         ],
         "y": [
          55840,
          55840
         ]
        },
        {
         "line": {
          "color": "orange",
          "dash": "dash",
          "width": 2
         },
         "mode": "lines",
         "name": "max_level_W",
         "showlegend": true,
         "type": "scatter",
         "x": [
          "2024-01-01T00:00:00",
          "2024-07-08T00:00:00"
         ],
         "y": [
          73949,
          73949
         ]
        },
        {
         "line": {
          "color": "orange",
          "dash": "dash",
          "width": 2
         },
         "mode": "lines",
         "name": "min_level_W",
         "showlegend": true,
         "type": "scatter",
         "x": [
          "2024-01-01T00:00:00",
          "2024-07-08T00:00:00"
         ],
         "y": [
          38531.5,
          38531.5
         ]
        }
       ],
       "layout": {
        "height": 800,
        "showlegend": false,
        "template": {
         "data": {
          "bar": [
           {
            "error_x": {
             "color": "#f2f5fa"
            },
            "error_y": {
             "color": "#f2f5fa"
            },
            "marker": {
             "line": {
              "color": "rgb(17,17,17)",
              "width": 0.5
             },
             "pattern": {
              "fillmode": "overlay",
              "size": 10,
              "solidity": 0.2
             }
            },
            "type": "bar"
           }
          ],
          "barpolar": [
           {
            "marker": {
             "line": {
              "color": "rgb(17,17,17)",
              "width": 0.5
             },
             "pattern": {
              "fillmode": "overlay",
              "size": 10,
              "solidity": 0.2
             }
            },
            "type": "barpolar"
           }
          ],
          "carpet": [
           {
            "aaxis": {
             "endlinecolor": "#A2B1C6",
             "gridcolor": "#506784",
             "linecolor": "#506784",
             "minorgridcolor": "#506784",
             "startlinecolor": "#A2B1C6"
            },
            "baxis": {
             "endlinecolor": "#A2B1C6",
             "gridcolor": "#506784",
             "linecolor": "#506784",
             "minorgridcolor": "#506784",
             "startlinecolor": "#A2B1C6"
            },
            "type": "carpet"
           }
          ],
          "choropleth": [
           {
            "colorbar": {
             "outlinewidth": 0,
             "ticks": ""
            },
            "type": "choropleth"
           }
          ],
          "contour": [
           {
            "colorbar": {
             "outlinewidth": 0,
             "ticks": ""
            },
            "colorscale": [
             [
              0,
              "#0d0887"
             ],
             [
              0.1111111111111111,
              "#46039f"
             ],
             [
              0.2222222222222222,
              "#7201a8"
             ],
             [
              0.3333333333333333,
              "#9c179e"
             ],
             [
              0.4444444444444444,
              "#bd3786"
             ],
             [
              0.5555555555555556,
              "#d8576b"
             ],
             [
              0.6666666666666666,
              "#ed7953"
             ],
             [
              0.7777777777777778,
              "#fb9f3a"
             ],
             [
              0.8888888888888888,
              "#fdca26"
             ],
             [
              1,
              "#f0f921"
             ]
            ],
            "type": "contour"
           }
          ],
          "contourcarpet": [
           {
            "colorbar": {
             "outlinewidth": 0,
             "ticks": ""
            },
            "type": "contourcarpet"
           }
          ],
          "heatmap": [
           {
            "colorbar": {
             "outlinewidth": 0,
             "ticks": ""
            },
            "colorscale": [
             [
              0,
              "#0d0887"
             ],
             [
              0.1111111111111111,
              "#46039f"
             ],
             [
              0.2222222222222222,
              "#7201a8"
             ],
             [
              0.3333333333333333,
              "#9c179e"
             ],
             [
              0.4444444444444444,
              "#bd3786"
             ],
             [
              0.5555555555555556,
              "#d8576b"
             ],
             [
              0.6666666666666666,
              "#ed7953"
             ],
             [
              0.7777777777777778,
              "#fb9f3a"
             ],
             [
              0.8888888888888888,
              "#fdca26"
             ],
             [
              1,
              "#f0f921"
             ]
            ],
            "type": "heatmap"
           }
          ],
          "histogram": [
           {
            "marker": {
             "pattern": {
              "fillmode": "overlay",
              "size": 10,
              "solidity": 0.2
             }
            },
            "type": "histogram"
           }
          ],
          "histogram2d": [
           {
            "colorbar": {
             "outlinewidth": 0,
             "ticks": ""
            },
            "colorscale": [
             [
              0,
              "#0d0887"
             ],
             [
              0.1111111111111111,
              "#46039f"
             ],
             [
              0.2222222222222222,
              "#7201a8"
             ],
             [
              0.3333333333333333,
              "#9c179e"
             ],
             [
              0.4444444444444444,
              "#bd3786"
             ],
             [
              0.5555555555555556,
              "#d8576b"
             ],
             [
              0.6666666666666666,
              "#ed7953"
             ],
             [
              0.7777777777777778,
              "#fb9f3a"
             ],
             [
              0.8888888888888888,
              "#fdca26"
             ],
             [
              1,
              "#f0f921"
             ]
            ],
            "type": "histogram2d"
           }
          ],
          "histogram2dcontour": [
           {
            "colorbar": {
             "outlinewidth": 0,
             "ticks": ""
            },
            "colorscale": [
             [
              0,
              "#0d0887"
             ],
             [
              0.1111111111111111,
              "#46039f"
             ],
             [
              0.2222222222222222,
              "#7201a8"
             ],
             [
              0.3333333333333333,
              "#9c179e"
             ],
             [
              0.4444444444444444,
              "#bd3786"
             ],
             [
              0.5555555555555556,
              "#d8576b"
             ],
             [
              0.6666666666666666,
              "#ed7953"
             ],
             [
              0.7777777777777778,
              "#fb9f3a"
             ],
             [
              0.8888888888888888,
              "#fdca26"
             ],
             [
              1,
              "#f0f921"
             ]
            ],
            "type": "histogram2dcontour"
           }
          ],
          "mesh3d": [
           {
            "colorbar": {
             "outlinewidth": 0,
             "ticks": ""
            },
            "type": "mesh3d"
           }
          ],
          "parcoords": [
           {
            "line": {
             "colorbar": {
              "outlinewidth": 0,
              "ticks": ""
             }
            },
            "type": "parcoords"
           }
          ],
          "pie": [
           {
            "automargin": true,
            "type": "pie"
           }
          ],
          "scatter": [
           {
            "marker": {
             "line": {
              "color": "#283442"
             }
            },
            "type": "scatter"
           }
          ],
          "scatter3d": [
           {
            "line": {
             "colorbar": {
              "outlinewidth": 0,
              "ticks": ""
             }
            },
            "marker": {
             "colorbar": {
              "outlinewidth": 0,
              "ticks": ""
             }
            },
            "type": "scatter3d"
           }
          ],
          "scattercarpet": [
           {
            "marker": {
             "colorbar": {
              "outlinewidth": 0,
              "ticks": ""
             }
            },
            "type": "scattercarpet"
           }
          ],
          "scattergeo": [
           {
            "marker": {
             "colorbar": {
              "outlinewidth": 0,
              "ticks": ""
             }
            },
            "type": "scattergeo"
           }
          ],
          "scattergl": [
           {
            "marker": {
             "line": {
              "color": "#283442"
             }
            },
            "type": "scattergl"
           }
          ],
          "scattermap": [
           {
            "marker": {
             "colorbar": {
              "outlinewidth": 0,
              "ticks": ""
             }
            },
            "type": "scattermap"
           }
          ],
          "scattermapbox": [
           {
            "marker": {
             "colorbar": {
              "outlinewidth": 0,
              "ticks": ""
             }
            },
            "type": "scattermapbox"
           }
          ],
          "scatterpolar": [
           {
            "marker": {
             "colorbar": {
              "outlinewidth": 0,
              "ticks": ""
             }
            },
            "type": "scatterpolar"
           }
          ],
          "scatterpolargl": [
           {
            "marker": {
             "colorbar": {
              "outlinewidth": 0,
              "ticks": ""
             }
            },
            "type": "scatterpolargl"
           }
          ],
          "scatterternary": [
           {
            "marker": {
             "colorbar": {
              "outlinewidth": 0,
              "ticks": ""
             }
            },
            "type": "scatterternary"
           }
          ],
          "surface": [
           {
            "colorbar": {
             "outlinewidth": 0,
             "ticks": ""
            },
            "colorscale": [
             [
              0,
              "#0d0887"
             ],
             [
              0.1111111111111111,
              "#46039f"
             ],
             [
              0.2222222222222222,
              "#7201a8"
             ],
             [
              0.3333333333333333,
              "#9c179e"
             ],
             [
              0.4444444444444444,
              "#bd3786"
             ],
             [
              0.5555555555555556,
              "#d8576b"
             ],
             [
              0.6666666666666666,
              "#ed7953"
             ],
             [
              0.7777777777777778,
              "#fb9f3a"
             ],
             [
              0.8888888888888888,
              "#fdca26"
             ],
             [
              1,
              "#f0f921"
             ]
            ],
            "type": "surface"
           }
          ],
          "table": [
           {
            "cells": {
             "fill": {
              "color": "#506784"
             },
             "line": {
              "color": "rgb(17,17,17)"
             }
            },
            "header": {
             "fill": {
              "color": "#2a3f5f"
             },
             "line": {
              "color": "rgb(17,17,17)"
             }
            },
            "type": "table"
           }
          ]
         },
         "layout": {
          "annotationdefaults": {
           "arrowcolor": "#f2f5fa",
           "arrowhead": 0,
           "arrowwidth": 1
          },
          "autotypenumbers": "strict",
          "coloraxis": {
           "colorbar": {
            "outlinewidth": 0,
            "ticks": ""
           }
          },
          "colorscale": {
           "diverging": [
            [
             0,
             "#8e0152"
            ],
            [
             0.1,
             "#c51b7d"
            ],
            [
             0.2,
             "#de77ae"
            ],
            [
             0.3,
             "#f1b6da"
            ],
            [
             0.4,
             "#fde0ef"
            ],
            [
             0.5,
             "#f7f7f7"
            ],
            [
             0.6,
             "#e6f5d0"
            ],
            [
             0.7,
             "#b8e186"
            ],
            [
             0.8,
             "#7fbc41"
            ],
            [
             0.9,
             "#4d9221"
            ],
            [
             1,
             "#276419"
            ]
           ],
           "sequential": [
            [
             0,
             "#0d0887"
            ],
            [
             0.1111111111111111,
             "#46039f"
            ],
            [
             0.2222222222222222,
             "#7201a8"
            ],
            [
             0.3333333333333333,
             "#9c179e"
            ],
            [
             0.4444444444444444,
             "#bd3786"
            ],
            [
             0.5555555555555556,
             "#d8576b"
            ],
            [
             0.6666666666666666,
             "#ed7953"
            ],
            [
             0.7777777777777778,
             "#fb9f3a"
            ],
            [
             0.8888888888888888,
             "#fdca26"
            ],
            [
             1,
             "#f0f921"
            ]
           ],
           "sequentialminus": [
            [
             0,
             "#0d0887"
            ],
            [
             0.1111111111111111,
             "#46039f"
            ],
            [
             0.2222222222222222,
             "#7201a8"
            ],
            [
             0.3333333333333333,
             "#9c179e"
            ],
            [
             0.4444444444444444,
             "#bd3786"
            ],
            [
             0.5555555555555556,
             "#d8576b"
            ],
            [
             0.6666666666666666,
             "#ed7953"
            ],
            [
             0.7777777777777778,
             "#fb9f3a"
            ],
            [
             0.8888888888888888,
             "#fdca26"
            ],
            [
             1,
             "#f0f921"
            ]
           ]
          },
          "colorway": [
           "#636efa",
           "#EF553B",
           "#00cc96",
           "#ab63fa",
           "#FFA15A",
           "#19d3f3",
           "#FF6692",
           "#B6E880",
           "#FF97FF",
           "#FECB52"
          ],
          "font": {
           "color": "#f2f5fa"
          },
          "geo": {
           "bgcolor": "rgb(17,17,17)",
           "lakecolor": "rgb(17,17,17)",
           "landcolor": "rgb(17,17,17)",
           "showlakes": true,
           "showland": true,
           "subunitcolor": "#506784"
          },
          "hoverlabel": {
           "align": "left"
          },
          "hovermode": "closest",
          "mapbox": {
           "style": "dark"
          },
          "paper_bgcolor": "rgb(17,17,17)",
          "plot_bgcolor": "rgb(17,17,17)",
          "polar": {
           "angularaxis": {
            "gridcolor": "#506784",
            "linecolor": "#506784",
            "ticks": ""
           },
           "bgcolor": "rgb(17,17,17)",
           "radialaxis": {
            "gridcolor": "#506784",
            "linecolor": "#506784",
            "ticks": ""
           }
          },
          "scene": {
           "xaxis": {
            "backgroundcolor": "rgb(17,17,17)",
            "gridcolor": "#506784",
            "gridwidth": 2,
            "linecolor": "#506784",
            "showbackground": true,
            "ticks": "",
            "zerolinecolor": "#C8D4E3"
           },
           "yaxis": {
            "backgroundcolor": "rgb(17,17,17)",
            "gridcolor": "#506784",
            "gridwidth": 2,
            "linecolor": "#506784",
            "showbackground": true,
            "ticks": "",
            "zerolinecolor": "#C8D4E3"
           },
           "zaxis": {
            "backgroundcolor": "rgb(17,17,17)",
            "gridcolor": "#506784",
            "gridwidth": 2,
            "linecolor": "#506784",
            "showbackground": true,
            "ticks": "",
            "zerolinecolor": "#C8D4E3"
           }
          },
          "shapedefaults": {
           "line": {
            "color": "#f2f5fa"
           }
          },
          "sliderdefaults": {
           "bgcolor": "#C8D4E3",
           "bordercolor": "rgb(17,17,17)",
           "borderwidth": 1,
           "tickwidth": 0
          },
          "ternary": {
           "aaxis": {
            "gridcolor": "#506784",
            "linecolor": "#506784",
            "ticks": ""
           },
           "baxis": {
            "gridcolor": "#506784",
            "linecolor": "#506784",
            "ticks": ""
           },
           "bgcolor": "rgb(17,17,17)",
           "caxis": {
            "gridcolor": "#506784",
            "linecolor": "#506784",
            "ticks": ""
           }
          },
          "title": {
           "x": 0.05
          },
          "updatemenudefaults": {
           "bgcolor": "#506784",
           "borderwidth": 0
          },
          "xaxis": {
           "automargin": true,
           "gridcolor": "#283442",
           "linecolor": "#506784",
           "ticks": "",
           "title": {
            "standoff": 15
           },
           "zerolinecolor": "#283442",
           "zerolinewidth": 2
          },
          "yaxis": {
           "automargin": true,
           "gridcolor": "#283442",
           "linecolor": "#506784",
           "ticks": "",
           "title": {
            "standoff": 15
           },
           "zerolinecolor": "#283442",
           "zerolinewidth": 2
          }
         }
        },
        "title": {
         "text": "BTCUSDT - W - TA Chart Visualizer"
        },
        "xaxis": {
         "fixedrange": false,
         "rangeslider": {
          "visible": false
         },
         "title": {
          "text": "Time"
         }
        },
        "yaxis": {
         "fixedrange": false,
         "title": {
          "text": "Price"
         },
         "type": "log"
        }
       }
      }
     },
     "metadata": {},
     "output_type": "display_data"
    },
    {
     "name": "stdout",
     "output_type": "stream",
     "text": [
      "\n",
      "======================================================================\n",
      "📊 Visualizing Segment 9/10: BTCUSDT - W\n",
      "   Period: 2024-07-15 00:00 to 2025-01-20 00:00\n",
      "======================================================================\n",
      "Processing 28 candles for BTCUSDT at W interval\n",
      "   Middlewares: ['levels_middleware']\n"
     ]
    },
    {
     "data": {
      "application/vnd.plotly.v1+json": {
       "config": {
        "plotlyServerURL": "https://plot.ly"
       },
       "data": [
        {
         "close": {
          "bdata": "AAAAAGCj8EBmZmZmDqnwQDMzMzNzYuxAzczMzOyp7EDNzMzMzITsQM3MzMycVu9AMzMzM0P260AAAAAAQMjqQGZmZmam2+xAzczMzLwH70AzMzMzOwLwQM3MzMwcqe5AZmZmZtau7kAAAAAAoNrwQJqZmZkRmvBAmpmZmXnI8EAAAAAAyKLzQAAAAADA8vVAMzMzM7vu90BmZmZmFr/3QM3MzMwstPhAmpmZmTmE+UAzMzMzizr3QAAAAAAw4PZAAAAAAEgC+EAAAAAA4BL3QDMzMzPru/hAMzMzM5sJ+UA=",
          "dtype": "f8"
         },
         "high": {
          "bdata": "MzMzMzux8EAAAAAAgPHwQGZmZmaOH/FAMzMzM+Oi7kCamZmZyT/uQM3MzMw8wu9AMzMzM/N370AAAAAAoDPtQGZmZmYGmu1AZmZmZnZQ70AAAAAAgD3wQM3MzMxMBPBAAAAAAAB670AAAAAAQPPwQAAAAAAw+/BAzczMzBz98UAAAAAAQPLzQAAAAACAzfZAAAAAAKBW+EBmZmZmPir4QM3MzMysj/lAMzMzM6O3+UCamZmZWXj6QAAAAADgZvhAAAAAAGAo+ECamZmZ4RL5QAAAAADI/vlAMzMzM/vX+kA=",
          "dtype": "f8"
         },
         "low": {
          "bdata": "zczMzDyX7UAAAAAAUPLuQAAAAADA5+tAMzMzM0Pi50AzMzMzg17rQDMzMzMjM+xAzczMzCzK60BmZmZmhqLpQJqZmZkJpOpAAAAAAEAN7EAzMzMzI4nuQGZmZmYGOO1AAAAAAIDC7EAAAAAA0HruQGZmZmYG2+9AmpmZmQF48EAAAAAAgE/wQM3MzMy8mPNAAAAAAADV9UAAAAAAOC32QAAAAAAgGvZAAAAAAADs9kAAAAAAYIT2QM3MzMwck/ZAMzMzM3tU9kAAAAAA8ED2QAAAAADAwPVAmpmZmcFK+EA=",
          "dtype": "f8"
         },
         "name": "Candlestick",
         "open": {
          "bdata": "mpmZmXmq7UAAAAAAYKPwQGZmZmYOqfBAMzMzM3Ni7EDNzMzM7KnsQM3MzMzMhOxAzczMzJxW70AzMzMzQ/brQAAAAABAyOpAZmZmZqbb7EDNzMzMvAfvQDMzMzM7AvBAzczMzByp7kBmZmZm1q7uQAAAAACg2vBAmpmZmRGa8ECamZmZecjwQAAAAADIovNAAAAAAMDy9UAzMzMzu+73QGZmZmYWv/dAzczMzCy0+ECamZmZOYT5QDMzMzOLOvdAAAAAADDg9kAAAAAASAL4QAAAAADgEvdAMzMzM+u7+EA=",
          "dtype": "f8"
         },
         "showlegend": false,
         "type": "candlestick",
         "x": [
          "2024-07-15T00:00:00.000000000",
          "2024-07-22T00:00:00.000000000",
          "2024-07-29T00:00:00.000000000",
          "2024-08-05T00:00:00.000000000",
          "2024-08-12T00:00:00.000000000",
          "2024-08-19T00:00:00.000000000",
          "2024-08-26T00:00:00.000000000",
          "2024-09-02T00:00:00.000000000",
          "2024-09-09T00:00:00.000000000",
          "2024-09-16T00:00:00.000000000",
          "2024-09-23T00:00:00.000000000",
          "2024-09-30T00:00:00.000000000",
          "2024-10-07T00:00:00.000000000",
          "2024-10-14T00:00:00.000000000",
          "2024-10-21T00:00:00.000000000",
          "2024-10-28T00:00:00.000000000",
          "2024-11-04T00:00:00.000000000",
          "2024-11-11T00:00:00.000000000",
          "2024-11-18T00:00:00.000000000",
          "2024-11-25T00:00:00.000000000",
          "2024-12-02T00:00:00.000000000",
          "2024-12-09T00:00:00.000000000",
          "2024-12-16T00:00:00.000000000",
          "2024-12-23T00:00:00.000000000",
          "2024-12-30T00:00:00.000000000",
          "2025-01-06T00:00:00.000000000",
          "2025-01-13T00:00:00.000000000",
          "2025-01-20T00:00:00.000000000"
         ]
        },
        {
         "line": {
          "color": "orange",
          "dash": "dash",
          "width": 2
         },
         "mode": "lines",
         "name": "line_close_W",
         "showlegend": true,
         "type": "scatter",
         "x": [
          "2024-09-02T00:00:00",
          "2025-01-20T00:00:00"
         ],
         "y": [
          54850,
          54850
         ]
        },
        {
         "line": {
          "color": "orange",
          "dash": "dash",
          "width": 2
         },
         "mode": "lines",
         "name": "line_close_W",
         "showlegend": true,
         "type": "scatter",
         "x": [
          "2025-01-06T00:00:00",
          "2025-01-20T00:00:00"
         ],
         "y": [
          94510,
          94510
         ]
        },
        {
         "line": {
          "color": "orange",
          "dash": "dash",
          "width": 2
         },
         "mode": "lines",
         "name": "max_level_W",
         "showlegend": true,
         "type": "scatter",
         "x": [
          "2024-07-15T00:00:00",
          "2025-01-20T00:00:00"
         ],
         "y": [
          109951.7,
          109951.7
         ]
        },
        {
         "line": {
          "color": "orange",
          "dash": "dash",
          "width": 2
         },
         "mode": "lines",
         "name": "min_level_W",
         "showlegend": true,
         "type": "scatter",
         "x": [
          "2024-07-15T00:00:00",
          "2025-01-20T00:00:00"
         ],
         "y": [
          48914.1,
          48914.1
         ]
        }
       ],
       "layout": {
        "height": 800,
        "showlegend": false,
        "template": {
         "data": {
          "bar": [
           {
            "error_x": {
             "color": "#f2f5fa"
            },
            "error_y": {
             "color": "#f2f5fa"
            },
            "marker": {
             "line": {
              "color": "rgb(17,17,17)",
              "width": 0.5
             },
             "pattern": {
              "fillmode": "overlay",
              "size": 10,
              "solidity": 0.2
             }
            },
            "type": "bar"
           }
          ],
          "barpolar": [
           {
            "marker": {
             "line": {
              "color": "rgb(17,17,17)",
              "width": 0.5
             },
             "pattern": {
              "fillmode": "overlay",
              "size": 10,
              "solidity": 0.2
             }
            },
            "type": "barpolar"
           }
          ],
          "carpet": [
           {
            "aaxis": {
             "endlinecolor": "#A2B1C6",
             "gridcolor": "#506784",
             "linecolor": "#506784",
             "minorgridcolor": "#506784",
             "startlinecolor": "#A2B1C6"
            },
            "baxis": {
             "endlinecolor": "#A2B1C6",
             "gridcolor": "#506784",
             "linecolor": "#506784",
             "minorgridcolor": "#506784",
             "startlinecolor": "#A2B1C6"
            },
            "type": "carpet"
           }
          ],
          "choropleth": [
           {
            "colorbar": {
             "outlinewidth": 0,
             "ticks": ""
            },
            "type": "choropleth"
           }
          ],
          "contour": [
           {
            "colorbar": {
             "outlinewidth": 0,
             "ticks": ""
            },
            "colorscale": [
             [
              0,
              "#0d0887"
             ],
             [
              0.1111111111111111,
              "#46039f"
             ],
             [
              0.2222222222222222,
              "#7201a8"
             ],
             [
              0.3333333333333333,
              "#9c179e"
             ],
             [
              0.4444444444444444,
              "#bd3786"
             ],
             [
              0.5555555555555556,
              "#d8576b"
             ],
             [
              0.6666666666666666,
              "#ed7953"
             ],
             [
              0.7777777777777778,
              "#fb9f3a"
             ],
             [
              0.8888888888888888,
              "#fdca26"
             ],
             [
              1,
              "#f0f921"
             ]
            ],
            "type": "contour"
           }
          ],
          "contourcarpet": [
           {
            "colorbar": {
             "outlinewidth": 0,
             "ticks": ""
            },
            "type": "contourcarpet"
           }
          ],
          "heatmap": [
           {
            "colorbar": {
             "outlinewidth": 0,
             "ticks": ""
            },
            "colorscale": [
             [
              0,
              "#0d0887"
             ],
             [
              0.1111111111111111,
              "#46039f"
             ],
             [
              0.2222222222222222,
              "#7201a8"
             ],
             [
              0.3333333333333333,
              "#9c179e"
             ],
             [
              0.4444444444444444,
              "#bd3786"
             ],
             [
              0.5555555555555556,
              "#d8576b"
             ],
             [
              0.6666666666666666,
              "#ed7953"
             ],
             [
              0.7777777777777778,
              "#fb9f3a"
             ],
             [
              0.8888888888888888,
              "#fdca26"
             ],
             [
              1,
              "#f0f921"
             ]
            ],
            "type": "heatmap"
           }
          ],
          "histogram": [
           {
            "marker": {
             "pattern": {
              "fillmode": "overlay",
              "size": 10,
              "solidity": 0.2
             }
            },
            "type": "histogram"
           }
          ],
          "histogram2d": [
           {
            "colorbar": {
             "outlinewidth": 0,
             "ticks": ""
            },
            "colorscale": [
             [
              0,
              "#0d0887"
             ],
             [
              0.1111111111111111,
              "#46039f"
             ],
             [
              0.2222222222222222,
              "#7201a8"
             ],
             [
              0.3333333333333333,
              "#9c179e"
             ],
             [
              0.4444444444444444,
              "#bd3786"
             ],
             [
              0.5555555555555556,
              "#d8576b"
             ],
             [
              0.6666666666666666,
              "#ed7953"
             ],
             [
              0.7777777777777778,
              "#fb9f3a"
             ],
             [
              0.8888888888888888,
              "#fdca26"
             ],
             [
              1,
              "#f0f921"
             ]
            ],
            "type": "histogram2d"
           }
          ],
          "histogram2dcontour": [
           {
            "colorbar": {
             "outlinewidth": 0,
             "ticks": ""
            },
            "colorscale": [
             [
              0,
              "#0d0887"
             ],
             [
              0.1111111111111111,
              "#46039f"
             ],
             [
              0.2222222222222222,
              "#7201a8"
             ],
             [
              0.3333333333333333,
              "#9c179e"
             ],
             [
              0.4444444444444444,
              "#bd3786"
             ],
             [
              0.5555555555555556,
              "#d8576b"
             ],
             [
              0.6666666666666666,
              "#ed7953"
             ],
             [
              0.7777777777777778,
              "#fb9f3a"
             ],
             [
              0.8888888888888888,
              "#fdca26"
             ],
             [
              1,
              "#f0f921"
             ]
            ],
            "type": "histogram2dcontour"
           }
          ],
          "mesh3d": [
           {
            "colorbar": {
             "outlinewidth": 0,
             "ticks": ""
            },
            "type": "mesh3d"
           }
          ],
          "parcoords": [
           {
            "line": {
             "colorbar": {
              "outlinewidth": 0,
              "ticks": ""
             }
            },
            "type": "parcoords"
           }
          ],
          "pie": [
           {
            "automargin": true,
            "type": "pie"
           }
          ],
          "scatter": [
           {
            "marker": {
             "line": {
              "color": "#283442"
             }
            },
            "type": "scatter"
           }
          ],
          "scatter3d": [
           {
            "line": {
             "colorbar": {
              "outlinewidth": 0,
              "ticks": ""
             }
            },
            "marker": {
             "colorbar": {
              "outlinewidth": 0,
              "ticks": ""
             }
            },
            "type": "scatter3d"
           }
          ],
          "scattercarpet": [
           {
            "marker": {
             "colorbar": {
              "outlinewidth": 0,
              "ticks": ""
             }
            },
            "type": "scattercarpet"
           }
          ],
          "scattergeo": [
           {
            "marker": {
             "colorbar": {
              "outlinewidth": 0,
              "ticks": ""
             }
            },
            "type": "scattergeo"
           }
          ],
          "scattergl": [
           {
            "marker": {
             "line": {
              "color": "#283442"
             }
            },
            "type": "scattergl"
           }
          ],
          "scattermap": [
           {
            "marker": {
             "colorbar": {
              "outlinewidth": 0,
              "ticks": ""
             }
            },
            "type": "scattermap"
           }
          ],
          "scattermapbox": [
           {
            "marker": {
             "colorbar": {
              "outlinewidth": 0,
              "ticks": ""
             }
            },
            "type": "scattermapbox"
           }
          ],
          "scatterpolar": [
           {
            "marker": {
             "colorbar": {
              "outlinewidth": 0,
              "ticks": ""
             }
            },
            "type": "scatterpolar"
           }
          ],
          "scatterpolargl": [
           {
            "marker": {
             "colorbar": {
              "outlinewidth": 0,
              "ticks": ""
             }
            },
            "type": "scatterpolargl"
           }
          ],
          "scatterternary": [
           {
            "marker": {
             "colorbar": {
              "outlinewidth": 0,
              "ticks": ""
             }
            },
            "type": "scatterternary"
           }
          ],
          "surface": [
           {
            "colorbar": {
             "outlinewidth": 0,
             "ticks": ""
            },
            "colorscale": [
             [
              0,
              "#0d0887"
             ],
             [
              0.1111111111111111,
              "#46039f"
             ],
             [
              0.2222222222222222,
              "#7201a8"
             ],
             [
              0.3333333333333333,
              "#9c179e"
             ],
             [
              0.4444444444444444,
              "#bd3786"
             ],
             [
              0.5555555555555556,
              "#d8576b"
             ],
             [
              0.6666666666666666,
              "#ed7953"
             ],
             [
              0.7777777777777778,
              "#fb9f3a"
             ],
             [
              0.8888888888888888,
              "#fdca26"
             ],
             [
              1,
              "#f0f921"
             ]
            ],
            "type": "surface"
           }
          ],
          "table": [
           {
            "cells": {
             "fill": {
              "color": "#506784"
             },
             "line": {
              "color": "rgb(17,17,17)"
             }
            },
            "header": {
             "fill": {
              "color": "#2a3f5f"
             },
             "line": {
              "color": "rgb(17,17,17)"
             }
            },
            "type": "table"
           }
          ]
         },
         "layout": {
          "annotationdefaults": {
           "arrowcolor": "#f2f5fa",
           "arrowhead": 0,
           "arrowwidth": 1
          },
          "autotypenumbers": "strict",
          "coloraxis": {
           "colorbar": {
            "outlinewidth": 0,
            "ticks": ""
           }
          },
          "colorscale": {
           "diverging": [
            [
             0,
             "#8e0152"
            ],
            [
             0.1,
             "#c51b7d"
            ],
            [
             0.2,
             "#de77ae"
            ],
            [
             0.3,
             "#f1b6da"
            ],
            [
             0.4,
             "#fde0ef"
            ],
            [
             0.5,
             "#f7f7f7"
            ],
            [
             0.6,
             "#e6f5d0"
            ],
            [
             0.7,
             "#b8e186"
            ],
            [
             0.8,
             "#7fbc41"
            ],
            [
             0.9,
             "#4d9221"
            ],
            [
             1,
             "#276419"
            ]
           ],
           "sequential": [
            [
             0,
             "#0d0887"
            ],
            [
             0.1111111111111111,
             "#46039f"
            ],
            [
             0.2222222222222222,
             "#7201a8"
            ],
            [
             0.3333333333333333,
             "#9c179e"
            ],
            [
             0.4444444444444444,
             "#bd3786"
            ],
            [
             0.5555555555555556,
             "#d8576b"
            ],
            [
             0.6666666666666666,
             "#ed7953"
            ],
            [
             0.7777777777777778,
             "#fb9f3a"
            ],
            [
             0.8888888888888888,
             "#fdca26"
            ],
            [
             1,
             "#f0f921"
            ]
           ],
           "sequentialminus": [
            [
             0,
             "#0d0887"
            ],
            [
             0.1111111111111111,
             "#46039f"
            ],
            [
             0.2222222222222222,
             "#7201a8"
            ],
            [
             0.3333333333333333,
             "#9c179e"
            ],
            [
             0.4444444444444444,
             "#bd3786"
            ],
            [
             0.5555555555555556,
             "#d8576b"
            ],
            [
             0.6666666666666666,
             "#ed7953"
            ],
            [
             0.7777777777777778,
             "#fb9f3a"
            ],
            [
             0.8888888888888888,
             "#fdca26"
            ],
            [
             1,
             "#f0f921"
            ]
           ]
          },
          "colorway": [
           "#636efa",
           "#EF553B",
           "#00cc96",
           "#ab63fa",
           "#FFA15A",
           "#19d3f3",
           "#FF6692",
           "#B6E880",
           "#FF97FF",
           "#FECB52"
          ],
          "font": {
           "color": "#f2f5fa"
          },
          "geo": {
           "bgcolor": "rgb(17,17,17)",
           "lakecolor": "rgb(17,17,17)",
           "landcolor": "rgb(17,17,17)",
           "showlakes": true,
           "showland": true,
           "subunitcolor": "#506784"
          },
          "hoverlabel": {
           "align": "left"
          },
          "hovermode": "closest",
          "mapbox": {
           "style": "dark"
          },
          "paper_bgcolor": "rgb(17,17,17)",
          "plot_bgcolor": "rgb(17,17,17)",
          "polar": {
           "angularaxis": {
            "gridcolor": "#506784",
            "linecolor": "#506784",
            "ticks": ""
           },
           "bgcolor": "rgb(17,17,17)",
           "radialaxis": {
            "gridcolor": "#506784",
            "linecolor": "#506784",
            "ticks": ""
           }
          },
          "scene": {
           "xaxis": {
            "backgroundcolor": "rgb(17,17,17)",
            "gridcolor": "#506784",
            "gridwidth": 2,
            "linecolor": "#506784",
            "showbackground": true,
            "ticks": "",
            "zerolinecolor": "#C8D4E3"
           },
           "yaxis": {
            "backgroundcolor": "rgb(17,17,17)",
            "gridcolor": "#506784",
            "gridwidth": 2,
            "linecolor": "#506784",
            "showbackground": true,
            "ticks": "",
            "zerolinecolor": "#C8D4E3"
           },
           "zaxis": {
            "backgroundcolor": "rgb(17,17,17)",
            "gridcolor": "#506784",
            "gridwidth": 2,
            "linecolor": "#506784",
            "showbackground": true,
            "ticks": "",
            "zerolinecolor": "#C8D4E3"
           }
          },
          "shapedefaults": {
           "line": {
            "color": "#f2f5fa"
           }
          },
          "sliderdefaults": {
           "bgcolor": "#C8D4E3",
           "bordercolor": "rgb(17,17,17)",
           "borderwidth": 1,
           "tickwidth": 0
          },
          "ternary": {
           "aaxis": {
            "gridcolor": "#506784",
            "linecolor": "#506784",
            "ticks": ""
           },
           "baxis": {
            "gridcolor": "#506784",
            "linecolor": "#506784",
            "ticks": ""
           },
           "bgcolor": "rgb(17,17,17)",
           "caxis": {
            "gridcolor": "#506784",
            "linecolor": "#506784",
            "ticks": ""
           }
          },
          "title": {
           "x": 0.05
          },
          "updatemenudefaults": {
           "bgcolor": "#506784",
           "borderwidth": 0
          },
          "xaxis": {
           "automargin": true,
           "gridcolor": "#283442",
           "linecolor": "#506784",
           "ticks": "",
           "title": {
            "standoff": 15
           },
           "zerolinecolor": "#283442",
           "zerolinewidth": 2
          },
          "yaxis": {
           "automargin": true,
           "gridcolor": "#283442",
           "linecolor": "#506784",
           "ticks": "",
           "title": {
            "standoff": 15
           },
           "zerolinecolor": "#283442",
           "zerolinewidth": 2
          }
         }
        },
        "title": {
         "text": "BTCUSDT - W - TA Chart Visualizer"
        },
        "xaxis": {
         "fixedrange": false,
         "rangeslider": {
          "visible": false
         },
         "title": {
          "text": "Time"
         }
        },
        "yaxis": {
         "fixedrange": false,
         "title": {
          "text": "Price"
         },
         "type": "log"
        }
       }
      }
     },
     "metadata": {},
     "output_type": "display_data"
    },
    {
     "name": "stdout",
     "output_type": "stream",
     "text": [
      "\n",
      "======================================================================\n",
      "📊 Visualizing Segment 10/10: BTCUSDT - W\n",
      "   Period: 2025-01-27 00:00 to 2025-09-29 00:00\n",
      "======================================================================\n",
      "Processing 36 candles for BTCUSDT at W interval\n",
      "   Middlewares: ['levels_middleware']\n"
     ]
    },
    {
     "data": {
      "application/vnd.plotly.v1+json": {
       "config": {
        "plotlyServerURL": "https://plot.ly"
       },
       "data": [
        {
         "close": {
          "bdata": "MzMzM9vW90CamZmZyYr3QJqZmZnBc/dAmpmZmWmA90AzMzMzOwP3QM3MzMxEs/NAAAAAAAgm9EDNzMzMXAH1QGZmZma+GvRAmpmZmYEi80DNzMzMTHD0QAAAAACYyfRAAAAAAEDg9kCamZmZAQH3QAAAAAAAaflAmpmZmcH7+UAzMzMzA5v6QGZmZmbmyPlAzczMzGzM+UDNzMzMvMT5QM3MzMyEovhAzczMzKxx+kAAAAAAiKb6QDMzMzOjEP1AZmZmZqai/EBmZmZmXij9QJqZmZkx3vtAzczMzHwe/UCamZmZuab8QM3MzMwstPtAAAAAAIBq+kAzMzMz6x77QGZmZmbmIPxAZmZmZlYe/EAAAAAAWGD7QJqZmZkRGP5A",
          "dtype": "f8"
         },
         "high": {
          "bdata": "mpmZmVH7+UDNzMzMnAP5QAAAAABQIPhAMzMzM+NH+EDNzMzMhJH3QDMzMzPjDPdAZmZmZj7T9EAAAAAAgFb1QAAAAABAqvVAmpmZmQGf9UAAAAAAMAX1QAAAAADAGvVAAAAAAMhe90AAAAAAwOT3QDMzMzOroflAAAAAAKAJ+kAAAAAAAFb7QAAAAADABvtAMzMzM1sR+kDNzMzMTAT7QAAAAAC4mfpAAAAAALB9+kAzMzMzW/n6QGZmZmYuK/1AAAAAACAX/kAAAAAAEGD9QGZmZmZOQv1AmpmZmZko/UAzMzMzs2n+QJqZmZlZsPxAZmZmZh6/+0BmZmZmlq37QAAAAACAd/xAAAAAAMDH/EAzMzMzwyj8QJqZmZkpPf5A",
          "dtype": "f8"
         },
         "low": {
          "bdata": "zczMzKRv90CamZmZ6UH2QDMzMzMT8/ZAmpmZmWHI9kAAAAAAKBjzQGZmZmaWgvNAAAAAABCw8kCamZmZWczzQAAAAABg5vNAAAAAALjR8kAzMzMzgy3yQAAAAADwRvRAmpmZmSHH9EAAAAAA4KT2QAAAAABYyfZAAAAAAACV+EAAAAAAAOf4QM3MzMzMJ/lAAAAAAOB/+EBmZmZmLg75QAAAAADQ9PdAAAAAANBP+ECamZmZKab5QDMzMzObNvpAAAAAAGBC/EAAAAAAYAH8QAAAAADgT/tAMzMzMxt8+0DNzMzM9H78QAAAAABw/fpAAAAAAEAy+kAAAAAAICz6QM3MzMy0/fpAzczMzMTo+0AAAAAAYID6QDMzMzPzN/tA",
          "dtype": "f8"
         },
         "name": "Candlestick",
         "open": {
          "bdata": "MzMzM5sJ+UAzMzMz29b3QJqZmZnJivdAmpmZmcFz90CamZmZaYD3QDMzMzM7A/dAzczMzESz80AAAAAACCb0QM3MzMxcAfVAZmZmZr4a9ECamZmZgSLzQM3MzMxMcPRAAAAAAJjJ9EAAAAAAQOD2QJqZmZkBAfdAAAAAAABp+UCamZmZwfv5QDMzMzMDm/pAZmZmZubI+UDNzMzMbMz5QM3MzMy8xPlAzczMzISi+EDNzMzMrHH6QAAAAACIpvpAMzMzM6MQ/UBmZmZmpqL8QGZmZmZeKP1AmpmZmTHe+0DNzMzMfB79QJqZmZm5pvxAzczMzCy0+0AAAAAAgGr6QDMzMzPrHvtAZmZmZuYg/EBmZmZmVh78QAAAAABYYPtA",
          "dtype": "f8"
         },
         "showlegend": false,
         "type": "candlestick",
         "x": [
          "2025-01-27T00:00:00.000000000",
          "2025-02-03T00:00:00.000000000",
          "2025-02-10T00:00:00.000000000",
          "2025-02-17T00:00:00.000000000",
          "2025-02-24T00:00:00.000000000",
          "2025-03-03T00:00:00.000000000",
          "2025-03-10T00:00:00.000000000",
          "2025-03-17T00:00:00.000000000",
          "2025-03-24T00:00:00.000000000",
          "2025-03-31T00:00:00.000000000",
          "2025-04-07T00:00:00.000000000",
          "2025-04-14T00:00:00.000000000",
          "2025-04-21T00:00:00.000000000",
          "2025-04-28T00:00:00.000000000",
          "2025-05-05T00:00:00.000000000",
          "2025-05-12T00:00:00.000000000",
          "2025-05-19T00:00:00.000000000",
          "2025-05-26T00:00:00.000000000",
          "2025-06-02T00:00:00.000000000",
          "2025-06-09T00:00:00.000000000",
          "2025-06-16T00:00:00.000000000",
          "2025-06-23T00:00:00.000000000",
          "2025-06-30T00:00:00.000000000",
          "2025-07-07T00:00:00.000000000",
          "2025-07-14T00:00:00.000000000",
          "2025-07-21T00:00:00.000000000",
          "2025-07-28T00:00:00.000000000",
          "2025-08-04T00:00:00.000000000",
          "2025-08-11T00:00:00.000000000",
          "2025-08-18T00:00:00.000000000",
          "2025-08-25T00:00:00.000000000",
          "2025-09-01T00:00:00.000000000",
          "2025-09-08T00:00:00.000000000",
          "2025-09-15T00:00:00.000000000",
          "2025-09-22T00:00:00.000000000",
          "2025-09-29T00:00:00.000000000"
         ]
        },
        {
         "line": {
          "color": "orange",
          "dash": "dash",
          "width": 2
         },
         "mode": "lines",
         "name": "line_close_W",
         "showlegend": true,
         "type": "scatter",
         "x": [
          "2025-03-31T00:00:00",
          "2025-09-29T00:00:00"
         ],
         "y": [
          78376.1,
          78376.1
         ]
        },
        {
         "line": {
          "color": "orange",
          "dash": "dash",
          "width": 2
         },
         "mode": "lines",
         "name": "line_close_W",
         "showlegend": true,
         "type": "scatter",
         "x": [
          "2025-06-16T00:00:00",
          "2025-09-29T00:00:00"
         ],
         "y": [
          100904.3,
          100904.3
         ]
        },
        {
         "line": {
          "color": "orange",
          "dash": "dash",
          "width": 2
         },
         "mode": "lines",
         "name": "line_close_W",
         "showlegend": true,
         "type": "scatter",
         "x": [
          "2025-08-25T00:00:00",
          "2025-09-29T00:00:00"
         ],
         "y": [
          108200,
          108200
         ]
        },
        {
         "line": {
          "color": "orange",
          "dash": "dash",
          "width": 2
         },
         "mode": "lines",
         "name": "line_close_W",
         "showlegend": true,
         "type": "scatter",
         "x": [
          "2025-09-22T00:00:00",
          "2025-09-29T00:00:00"
         ],
         "y": [
          112133.5,
          112133.5
         ]
        },
        {
         "line": {
          "color": "orange",
          "dash": "dash",
          "width": 2
         },
         "mode": "lines",
         "name": "max_level_W",
         "showlegend": true,
         "type": "scatter",
         "x": [
          "2025-01-27T00:00:00",
          "2025-09-29T00:00:00"
         ],
         "y": [
          124571.2,
          124571.2
         ]
        },
        {
         "line": {
          "color": "orange",
          "dash": "dash",
          "width": 2
         },
         "mode": "lines",
         "name": "min_level_W",
         "showlegend": true,
         "type": "scatter",
         "x": [
          "2025-01-27T00:00:00",
          "2025-09-29T00:00:00"
         ],
         "y": [
          74456.2,
          74456.2
         ]
        }
       ],
       "layout": {
        "height": 800,
        "showlegend": false,
        "template": {
         "data": {
          "bar": [
           {
            "error_x": {
             "color": "#f2f5fa"
            },
            "error_y": {
             "color": "#f2f5fa"
            },
            "marker": {
             "line": {
              "color": "rgb(17,17,17)",
              "width": 0.5
             },
             "pattern": {
              "fillmode": "overlay",
              "size": 10,
              "solidity": 0.2
             }
            },
            "type": "bar"
           }
          ],
          "barpolar": [
           {
            "marker": {
             "line": {
              "color": "rgb(17,17,17)",
              "width": 0.5
             },
             "pattern": {
              "fillmode": "overlay",
              "size": 10,
              "solidity": 0.2
             }
            },
            "type": "barpolar"
           }
          ],
          "carpet": [
           {
            "aaxis": {
             "endlinecolor": "#A2B1C6",
             "gridcolor": "#506784",
             "linecolor": "#506784",
             "minorgridcolor": "#506784",
             "startlinecolor": "#A2B1C6"
            },
            "baxis": {
             "endlinecolor": "#A2B1C6",
             "gridcolor": "#506784",
             "linecolor": "#506784",
             "minorgridcolor": "#506784",
             "startlinecolor": "#A2B1C6"
            },
            "type": "carpet"
           }
          ],
          "choropleth": [
           {
            "colorbar": {
             "outlinewidth": 0,
             "ticks": ""
            },
            "type": "choropleth"
           }
          ],
          "contour": [
           {
            "colorbar": {
             "outlinewidth": 0,
             "ticks": ""
            },
            "colorscale": [
             [
              0,
              "#0d0887"
             ],
             [
              0.1111111111111111,
              "#46039f"
             ],
             [
              0.2222222222222222,
              "#7201a8"
             ],
             [
              0.3333333333333333,
              "#9c179e"
             ],
             [
              0.4444444444444444,
              "#bd3786"
             ],
             [
              0.5555555555555556,
              "#d8576b"
             ],
             [
              0.6666666666666666,
              "#ed7953"
             ],
             [
              0.7777777777777778,
              "#fb9f3a"
             ],
             [
              0.8888888888888888,
              "#fdca26"
             ],
             [
              1,
              "#f0f921"
             ]
            ],
            "type": "contour"
           }
          ],
          "contourcarpet": [
           {
            "colorbar": {
             "outlinewidth": 0,
             "ticks": ""
            },
            "type": "contourcarpet"
           }
          ],
          "heatmap": [
           {
            "colorbar": {
             "outlinewidth": 0,
             "ticks": ""
            },
            "colorscale": [
             [
              0,
              "#0d0887"
             ],
             [
              0.1111111111111111,
              "#46039f"
             ],
             [
              0.2222222222222222,
              "#7201a8"
             ],
             [
              0.3333333333333333,
              "#9c179e"
             ],
             [
              0.4444444444444444,
              "#bd3786"
             ],
             [
              0.5555555555555556,
              "#d8576b"
             ],
             [
              0.6666666666666666,
              "#ed7953"
             ],
             [
              0.7777777777777778,
              "#fb9f3a"
             ],
             [
              0.8888888888888888,
              "#fdca26"
             ],
             [
              1,
              "#f0f921"
             ]
            ],
            "type": "heatmap"
           }
          ],
          "histogram": [
           {
            "marker": {
             "pattern": {
              "fillmode": "overlay",
              "size": 10,
              "solidity": 0.2
             }
            },
            "type": "histogram"
           }
          ],
          "histogram2d": [
           {
            "colorbar": {
             "outlinewidth": 0,
             "ticks": ""
            },
            "colorscale": [
             [
              0,
              "#0d0887"
             ],
             [
              0.1111111111111111,
              "#46039f"
             ],
             [
              0.2222222222222222,
              "#7201a8"
             ],
             [
              0.3333333333333333,
              "#9c179e"
             ],
             [
              0.4444444444444444,
              "#bd3786"
             ],
             [
              0.5555555555555556,
              "#d8576b"
             ],
             [
              0.6666666666666666,
              "#ed7953"
             ],
             [
              0.7777777777777778,
              "#fb9f3a"
             ],
             [
              0.8888888888888888,
              "#fdca26"
             ],
             [
              1,
              "#f0f921"
             ]
            ],
            "type": "histogram2d"
           }
          ],
          "histogram2dcontour": [
           {
            "colorbar": {
             "outlinewidth": 0,
             "ticks": ""
            },
            "colorscale": [
             [
              0,
              "#0d0887"
             ],
             [
              0.1111111111111111,
              "#46039f"
             ],
             [
              0.2222222222222222,
              "#7201a8"
             ],
             [
              0.3333333333333333,
              "#9c179e"
             ],
             [
              0.4444444444444444,
              "#bd3786"
             ],
             [
              0.5555555555555556,
              "#d8576b"
             ],
             [
              0.6666666666666666,
              "#ed7953"
             ],
             [
              0.7777777777777778,
              "#fb9f3a"
             ],
             [
              0.8888888888888888,
              "#fdca26"
             ],
             [
              1,
              "#f0f921"
             ]
            ],
            "type": "histogram2dcontour"
           }
          ],
          "mesh3d": [
           {
            "colorbar": {
             "outlinewidth": 0,
             "ticks": ""
            },
            "type": "mesh3d"
           }
          ],
          "parcoords": [
           {
            "line": {
             "colorbar": {
              "outlinewidth": 0,
              "ticks": ""
             }
            },
            "type": "parcoords"
           }
          ],
          "pie": [
           {
            "automargin": true,
            "type": "pie"
           }
          ],
          "scatter": [
           {
            "marker": {
             "line": {
              "color": "#283442"
             }
            },
            "type": "scatter"
           }
          ],
          "scatter3d": [
           {
            "line": {
             "colorbar": {
              "outlinewidth": 0,
              "ticks": ""
             }
            },
            "marker": {
             "colorbar": {
              "outlinewidth": 0,
              "ticks": ""
             }
            },
            "type": "scatter3d"
           }
          ],
          "scattercarpet": [
           {
            "marker": {
             "colorbar": {
              "outlinewidth": 0,
              "ticks": ""
             }
            },
            "type": "scattercarpet"
           }
          ],
          "scattergeo": [
           {
            "marker": {
             "colorbar": {
              "outlinewidth": 0,
              "ticks": ""
             }
            },
            "type": "scattergeo"
           }
          ],
          "scattergl": [
           {
            "marker": {
             "line": {
              "color": "#283442"
             }
            },
            "type": "scattergl"
           }
          ],
          "scattermap": [
           {
            "marker": {
             "colorbar": {
              "outlinewidth": 0,
              "ticks": ""
             }
            },
            "type": "scattermap"
           }
          ],
          "scattermapbox": [
           {
            "marker": {
             "colorbar": {
              "outlinewidth": 0,
              "ticks": ""
             }
            },
            "type": "scattermapbox"
           }
          ],
          "scatterpolar": [
           {
            "marker": {
             "colorbar": {
              "outlinewidth": 0,
              "ticks": ""
             }
            },
            "type": "scatterpolar"
           }
          ],
          "scatterpolargl": [
           {
            "marker": {
             "colorbar": {
              "outlinewidth": 0,
              "ticks": ""
             }
            },
            "type": "scatterpolargl"
           }
          ],
          "scatterternary": [
           {
            "marker": {
             "colorbar": {
              "outlinewidth": 0,
              "ticks": ""
             }
            },
            "type": "scatterternary"
           }
          ],
          "surface": [
           {
            "colorbar": {
             "outlinewidth": 0,
             "ticks": ""
            },
            "colorscale": [
             [
              0,
              "#0d0887"
             ],
             [
              0.1111111111111111,
              "#46039f"
             ],
             [
              0.2222222222222222,
              "#7201a8"
             ],
             [
              0.3333333333333333,
              "#9c179e"
             ],
             [
              0.4444444444444444,
              "#bd3786"
             ],
             [
              0.5555555555555556,
              "#d8576b"
             ],
             [
              0.6666666666666666,
              "#ed7953"
             ],
             [
              0.7777777777777778,
              "#fb9f3a"
             ],
             [
              0.8888888888888888,
              "#fdca26"
             ],
             [
              1,
              "#f0f921"
             ]
            ],
            "type": "surface"
           }
          ],
          "table": [
           {
            "cells": {
             "fill": {
              "color": "#506784"
             },
             "line": {
              "color": "rgb(17,17,17)"
             }
            },
            "header": {
             "fill": {
              "color": "#2a3f5f"
             },
             "line": {
              "color": "rgb(17,17,17)"
             }
            },
            "type": "table"
           }
          ]
         },
         "layout": {
          "annotationdefaults": {
           "arrowcolor": "#f2f5fa",
           "arrowhead": 0,
           "arrowwidth": 1
          },
          "autotypenumbers": "strict",
          "coloraxis": {
           "colorbar": {
            "outlinewidth": 0,
            "ticks": ""
           }
          },
          "colorscale": {
           "diverging": [
            [
             0,
             "#8e0152"
            ],
            [
             0.1,
             "#c51b7d"
            ],
            [
             0.2,
             "#de77ae"
            ],
            [
             0.3,
             "#f1b6da"
            ],
            [
             0.4,
             "#fde0ef"
            ],
            [
             0.5,
             "#f7f7f7"
            ],
            [
             0.6,
             "#e6f5d0"
            ],
            [
             0.7,
             "#b8e186"
            ],
            [
             0.8,
             "#7fbc41"
            ],
            [
             0.9,
             "#4d9221"
            ],
            [
             1,
             "#276419"
            ]
           ],
           "sequential": [
            [
             0,
             "#0d0887"
            ],
            [
             0.1111111111111111,
             "#46039f"
            ],
            [
             0.2222222222222222,
             "#7201a8"
            ],
            [
             0.3333333333333333,
             "#9c179e"
            ],
            [
             0.4444444444444444,
             "#bd3786"
            ],
            [
             0.5555555555555556,
             "#d8576b"
            ],
            [
             0.6666666666666666,
             "#ed7953"
            ],
            [
             0.7777777777777778,
             "#fb9f3a"
            ],
            [
             0.8888888888888888,
             "#fdca26"
            ],
            [
             1,
             "#f0f921"
            ]
           ],
           "sequentialminus": [
            [
             0,
             "#0d0887"
            ],
            [
             0.1111111111111111,
             "#46039f"
            ],
            [
             0.2222222222222222,
             "#7201a8"
            ],
            [
             0.3333333333333333,
             "#9c179e"
            ],
            [
             0.4444444444444444,
             "#bd3786"
            ],
            [
             0.5555555555555556,
             "#d8576b"
            ],
            [
             0.6666666666666666,
             "#ed7953"
            ],
            [
             0.7777777777777778,
             "#fb9f3a"
            ],
            [
             0.8888888888888888,
             "#fdca26"
            ],
            [
             1,
             "#f0f921"
            ]
           ]
          },
          "colorway": [
           "#636efa",
           "#EF553B",
           "#00cc96",
           "#ab63fa",
           "#FFA15A",
           "#19d3f3",
           "#FF6692",
           "#B6E880",
           "#FF97FF",
           "#FECB52"
          ],
          "font": {
           "color": "#f2f5fa"
          },
          "geo": {
           "bgcolor": "rgb(17,17,17)",
           "lakecolor": "rgb(17,17,17)",
           "landcolor": "rgb(17,17,17)",
           "showlakes": true,
           "showland": true,
           "subunitcolor": "#506784"
          },
          "hoverlabel": {
           "align": "left"
          },
          "hovermode": "closest",
          "mapbox": {
           "style": "dark"
          },
          "paper_bgcolor": "rgb(17,17,17)",
          "plot_bgcolor": "rgb(17,17,17)",
          "polar": {
           "angularaxis": {
            "gridcolor": "#506784",
            "linecolor": "#506784",
            "ticks": ""
           },
           "bgcolor": "rgb(17,17,17)",
           "radialaxis": {
            "gridcolor": "#506784",
            "linecolor": "#506784",
            "ticks": ""
           }
          },
          "scene": {
           "xaxis": {
            "backgroundcolor": "rgb(17,17,17)",
            "gridcolor": "#506784",
            "gridwidth": 2,
            "linecolor": "#506784",
            "showbackground": true,
            "ticks": "",
            "zerolinecolor": "#C8D4E3"
           },
           "yaxis": {
            "backgroundcolor": "rgb(17,17,17)",
            "gridcolor": "#506784",
            "gridwidth": 2,
            "linecolor": "#506784",
            "showbackground": true,
            "ticks": "",
            "zerolinecolor": "#C8D4E3"
           },
           "zaxis": {
            "backgroundcolor": "rgb(17,17,17)",
            "gridcolor": "#506784",
            "gridwidth": 2,
            "linecolor": "#506784",
            "showbackground": true,
            "ticks": "",
            "zerolinecolor": "#C8D4E3"
           }
          },
          "shapedefaults": {
           "line": {
            "color": "#f2f5fa"
           }
          },
          "sliderdefaults": {
           "bgcolor": "#C8D4E3",
           "bordercolor": "rgb(17,17,17)",
           "borderwidth": 1,
           "tickwidth": 0
          },
          "ternary": {
           "aaxis": {
            "gridcolor": "#506784",
            "linecolor": "#506784",
            "ticks": ""
           },
           "baxis": {
            "gridcolor": "#506784",
            "linecolor": "#506784",
            "ticks": ""
           },
           "bgcolor": "rgb(17,17,17)",
           "caxis": {
            "gridcolor": "#506784",
            "linecolor": "#506784",
            "ticks": ""
           }
          },
          "title": {
           "x": 0.05
          },
          "updatemenudefaults": {
           "bgcolor": "#506784",
           "borderwidth": 0
          },
          "xaxis": {
           "automargin": true,
           "gridcolor": "#283442",
           "linecolor": "#506784",
           "ticks": "",
           "title": {
            "standoff": 15
           },
           "zerolinecolor": "#283442",
           "zerolinewidth": 2
          },
          "yaxis": {
           "automargin": true,
           "gridcolor": "#283442",
           "linecolor": "#506784",
           "ticks": "",
           "title": {
            "standoff": 15
           },
           "zerolinecolor": "#283442",
           "zerolinewidth": 2
          }
         }
        },
        "title": {
         "text": "BTCUSDT - W - TA Chart Visualizer"
        },
        "xaxis": {
         "fixedrange": false,
         "rangeslider": {
          "visible": false
         },
         "title": {
          "text": "Time"
         }
        },
        "yaxis": {
         "fixedrange": false,
         "title": {
          "text": "Price"
         },
         "type": "log"
        }
       }
      }
     },
     "metadata": {},
     "output_type": "display_data"
    },
    {
     "name": "stdout",
     "output_type": "stream",
     "text": [
      "\n",
      "======================================================================\n",
      "🔪 Splitting BTCUSDT - D into 10 segments\n",
      "======================================================================\n",
      "✅ Created 10 segments:\n",
      "   Segment 1/10: 2020-03-25 to 2020-10-12 (202 candles)\n",
      "   Segment 2/10: 2020-10-13 to 2021-05-02 (202 candles)\n",
      "   Segment 3/10: 2021-05-03 to 2021-11-20 (202 candles)\n",
      "   Segment 4/10: 2021-11-21 to 2022-06-10 (202 candles)\n",
      "   Segment 5/10: 2022-06-11 to 2022-12-29 (202 candles)\n",
      "   Segment 6/10: 2022-12-30 to 2023-07-19 (202 candles)\n",
      "   Segment 7/10: 2023-07-20 to 2024-02-06 (202 candles)\n",
      "   Segment 8/10: 2024-02-07 to 2024-08-26 (202 candles)\n",
      "   Segment 9/10: 2024-08-27 to 2025-03-16 (202 candles)\n",
      "   Segment 10/10: 2025-03-17 to 2025-10-05 (203 candles)\n",
      "\n",
      "======================================================================\n",
      "📊 Visualizing Segment 1/10: BTCUSDT - D\n",
      "   Period: 2020-03-25 00:00 to 2020-10-12 00:00\n",
      "======================================================================\n",
      "Processing 202 candles for BTCUSDT at D interval\n",
      "   Middlewares: ['levels_middleware']\n"
     ]
    },
    {
     "data": {
      "application/vnd.plotly.v1+json": {
       "config": {
        "plotlyServerURL": "https://plot.ly"
       },
       "data": [
        {
         "close": {
          "bdata": "AAAAAIAqukAAAAAAgE26QAAAAAAA0rhAAAAAAIBWuEAAAAAAAPG2QAAAAACA9bhAAAAAAAAFuUAAAAAAAPK5QAAAAACAjLpAAAAAAIBHukAAAAAAgM+6QAAAAAAAc7pAAAAAAICavEAAAAAAgB68QAAAAACAvLxAAAAAAAByvEAAAAAAAMm6QAAAAACA2rpAAAAAAAD1ukAAAAAAgLK6QAAAAACA0LpAAAAAAIDZuUAAAAAAgLu7QAAAAAAAbrtAAAAAAABIvEAAAAAAgM67QAAAAACAq7pAAAAAAIC1ukAAAAAAANO7QAAAAACAO71AAAAAAABLvUAAAAAAAG+9QAAAAACAC75AAAAAAIBcvkAAAAAAAD++QAAAAAAAJcFAAAAAAIDYwEAAAAAAQDrBQAAAAABAhsFAAAAAAIBfwUAAAAAAgFTBQAAAAADAn8FAAAAAAMDewUAAAAAAQIHDQAAAAACAJsNAAAAAAAClwkAAAAAAgArBQAAAAACAt8BAAAAAAIA2wUAAAAAAwCrCQAAAAAAAHsNAAAAAAIAxwkAAAAAAQFPCQAAAAACA5cJAAAAAAEAAw0AAAAAAABXDQAAAAACAk8JAAAAAAIC1wUAAAAAAAOjBQAAAAABA6sFAAAAAAAADwUAAAAAAwF7BQAAAAAAARcFAAAAAAED1wUAAAAAAALLCQAAAAACAaMJAAAAAAIDuwkAAAAAAwHTCQAAAAADA7cNAAAAAAMCZwkAAAAAAAN7CQAAAAACAHsNAAAAAAEDLwkAAAAAAAODCQAAAAACABsNAAAAAAEAYw0AAAAAAwBTDQAAAAAAATsNAAAAAAMAdwkAAAAAAQHvCQAAAAAAAf8JAAAAAAAA+wkAAAAAAAGXCQAAAAACAmMJAAAAAAAB7wkAAAAAAgFPCQAAAAABALcJAAAAAAIBDwkAAAAAAgCfCQAAAAADA6cJAAAAAAADKwkAAAAAAgCrCQAAAAACADsJAAAAAAMDlwUAAAAAAQJrBQAAAAAAA0MFAAAAAAADywUAAAAAAwNfBQAAAAABAB8JAAAAAAAC/wUAAAAAAALPBQAAAAAAA2MFAAAAAAAC5wUAAAAAAgD3CQAAAAACAEMJAAAAAAIBqwkAAAAAAwAjCQAAAAAAAH8JAAAAAAIAHwkAAAAAAgCfCQAAAAACACsJAAAAAAMAQwkAAAAAAQPbBQAAAAADA1cFAAAAAAADiwUAAAAAAQOjBQAAAAACA+cFAAAAAAADhwUAAAAAAAFLCQAAAAADAlcJAAAAAAIC9wkAAAAAAgJ/CQAAAAAAA7sJAAAAAAEBhw0AAAAAAgIzFQAAAAADATsVAAAAAAECxxUAAAAAAAK/FQAAAAACAJcZAAAAAAEASx0AAAAAAgKDFQAAAAAAA7cVAAAAAAADexUAAAAAAQPDGQAAAAAAA+sZAAAAAAMClxkAAAAAAQPvGQAAAAABA08ZAAAAAAIA5x0AAAAAAAEHGQAAAAACAl8ZAAAAAAIAGx0AAAAAAgPzGQAAAAAAALMdAAAAAAEBFx0AAAAAAgATIQAAAAAAAV8dAAAAAAID3xkAAAAAAgCjHQAAAAADAhsZAAAAAAEDKxkAAAAAAAMbGQAAAAAAA+8ZAAAAAAIAexkAAAAAAgGLGQAAAAADAIMZAAAAAAACBxkAAAAAAAGjGQAAAAAAA38ZAAAAAAIDGxkAAAAAAwEvHQAAAAABAPsZAAAAAAMDQw0AAAAAAQGjEQAAAAACA2MNAAAAAAMAHxEAAAAAAAEXEQAAAAAAAxcNAAAAAAMD1w0AAAAAAgDHEQAAAAACAScRAAAAAAMBfxEAAAAAAACjEQAAAAAAA08RAAAAAAEANxUAAAAAAgGHFQAAAAAAAWMVAAAAAAIBSxUAAAAAAgJ/FQAAAAAAAUMVAAAAAAABUxEAAAAAAgIzEQAAAAAAA/cNAAAAAAEDxxEAAAAAAAN7EQAAAAABA88RAAAAAAAAJxUAAAAAAAODEQAAAAAAAKcVAAAAAAIADxUAAAAAAgLnEQAAAAABAo8RAAAAAAICWxEAAAAAAANXEQAAAAACADcVAAAAAAAC0xEAAAAAAQNDEQAAAAAAATcVAAAAAAICVxUAAAAAAwBPGQAAAAAAAN8ZAAAAAAICMxkA=",
          "dtype": "f8"
         },
         "high": {
          "bdata": "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",
          "dtype": "f8"
         },
         "low": {
          "bdata": "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",
          "dtype": "f8"
         },
         "name": "Candlestick",
         "open": {
          "bdata": "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",
          "dtype": "f8"
         },
         "showlegend": false,
         "type": "candlestick",
         "x": [
          "2020-03-25T00:00:00.000000000",
          "2020-03-26T00:00:00.000000000",
          "2020-03-27T00:00:00.000000000",
          "2020-03-28T00:00:00.000000000",
          "2020-03-29T00:00:00.000000000",
          "2020-03-30T00:00:00.000000000",
          "2020-03-31T00:00:00.000000000",
          "2020-04-01T00:00:00.000000000",
          "2020-04-02T00:00:00.000000000",
          "2020-04-03T00:00:00.000000000",
          "2020-04-04T00:00:00.000000000",
          "2020-04-05T00:00:00.000000000",
          "2020-04-06T00:00:00.000000000",
          "2020-04-07T00:00:00.000000000",
          "2020-04-08T00:00:00.000000000",
          "2020-04-09T00:00:00.000000000",
          "2020-04-10T00:00:00.000000000",
          "2020-04-11T00:00:00.000000000",
          "2020-04-12T00:00:00.000000000",
          "2020-04-13T00:00:00.000000000",
          "2020-04-14T00:00:00.000000000",
          "2020-04-15T00:00:00.000000000",
          "2020-04-16T00:00:00.000000000",
          "2020-04-17T00:00:00.000000000",
          "2020-04-18T00:00:00.000000000",
          "2020-04-19T00:00:00.000000000",
          "2020-04-20T00:00:00.000000000",
          "2020-04-21T00:00:00.000000000",
          "2020-04-22T00:00:00.000000000",
          "2020-04-23T00:00:00.000000000",
          "2020-04-24T00:00:00.000000000",
          "2020-04-25T00:00:00.000000000",
          "2020-04-26T00:00:00.000000000",
          "2020-04-27T00:00:00.000000000",
          "2020-04-28T00:00:00.000000000",
          "2020-04-29T00:00:00.000000000",
          "2020-04-30T00:00:00.000000000",
          "2020-05-01T00:00:00.000000000",
          "2020-05-02T00:00:00.000000000",
          "2020-05-03T00:00:00.000000000",
          "2020-05-04T00:00:00.000000000",
          "2020-05-05T00:00:00.000000000",
          "2020-05-06T00:00:00.000000000",
          "2020-05-07T00:00:00.000000000",
          "2020-05-08T00:00:00.000000000",
          "2020-05-09T00:00:00.000000000",
          "2020-05-10T00:00:00.000000000",
          "2020-05-11T00:00:00.000000000",
          "2020-05-12T00:00:00.000000000",
          "2020-05-13T00:00:00.000000000",
          "2020-05-14T00:00:00.000000000",
          "2020-05-15T00:00:00.000000000",
          "2020-05-16T00:00:00.000000000",
          "2020-05-17T00:00:00.000000000",
          "2020-05-18T00:00:00.000000000",
          "2020-05-19T00:00:00.000000000",
          "2020-05-20T00:00:00.000000000",
          "2020-05-21T00:00:00.000000000",
          "2020-05-22T00:00:00.000000000",
          "2020-05-23T00:00:00.000000000",
          "2020-05-24T00:00:00.000000000",
          "2020-05-25T00:00:00.000000000",
          "2020-05-26T00:00:00.000000000",
          "2020-05-27T00:00:00.000000000",
          "2020-05-28T00:00:00.000000000",
          "2020-05-29T00:00:00.000000000",
          "2020-05-30T00:00:00.000000000",
          "2020-05-31T00:00:00.000000000",
          "2020-06-01T00:00:00.000000000",
          "2020-06-02T00:00:00.000000000",
          "2020-06-03T00:00:00.000000000",
          "2020-06-04T00:00:00.000000000",
          "2020-06-05T00:00:00.000000000",
          "2020-06-06T00:00:00.000000000",
          "2020-06-07T00:00:00.000000000",
          "2020-06-08T00:00:00.000000000",
          "2020-06-09T00:00:00.000000000",
          "2020-06-10T00:00:00.000000000",
          "2020-06-11T00:00:00.000000000",
          "2020-06-12T00:00:00.000000000",
          "2020-06-13T00:00:00.000000000",
          "2020-06-14T00:00:00.000000000",
          "2020-06-15T00:00:00.000000000",
          "2020-06-16T00:00:00.000000000",
          "2020-06-17T00:00:00.000000000",
          "2020-06-18T00:00:00.000000000",
          "2020-06-19T00:00:00.000000000",
          "2020-06-20T00:00:00.000000000",
          "2020-06-21T00:00:00.000000000",
          "2020-06-22T00:00:00.000000000",
          "2020-06-23T00:00:00.000000000",
          "2020-06-24T00:00:00.000000000",
          "2020-06-25T00:00:00.000000000",
          "2020-06-26T00:00:00.000000000",
          "2020-06-27T00:00:00.000000000",
          "2020-06-28T00:00:00.000000000",
          "2020-06-29T00:00:00.000000000",
          "2020-06-30T00:00:00.000000000",
          "2020-07-01T00:00:00.000000000",
          "2020-07-02T00:00:00.000000000",
          "2020-07-03T00:00:00.000000000",
          "2020-07-04T00:00:00.000000000",
          "2020-07-05T00:00:00.000000000",
          "2020-07-06T00:00:00.000000000",
          "2020-07-07T00:00:00.000000000",
          "2020-07-08T00:00:00.000000000",
          "2020-07-09T00:00:00.000000000",
          "2020-07-10T00:00:00.000000000",
          "2020-07-11T00:00:00.000000000",
          "2020-07-12T00:00:00.000000000",
          "2020-07-13T00:00:00.000000000",
          "2020-07-14T00:00:00.000000000",
          "2020-07-15T00:00:00.000000000",
          "2020-07-16T00:00:00.000000000",
          "2020-07-17T00:00:00.000000000",
          "2020-07-18T00:00:00.000000000",
          "2020-07-19T00:00:00.000000000",
          "2020-07-20T00:00:00.000000000",
          "2020-07-21T00:00:00.000000000",
          "2020-07-22T00:00:00.000000000",
          "2020-07-23T00:00:00.000000000",
          "2020-07-24T00:00:00.000000000",
          "2020-07-25T00:00:00.000000000",
          "2020-07-26T00:00:00.000000000",
          "2020-07-27T00:00:00.000000000",
          "2020-07-28T00:00:00.000000000",
          "2020-07-29T00:00:00.000000000",
          "2020-07-30T00:00:00.000000000",
          "2020-07-31T00:00:00.000000000",
          "2020-08-01T00:00:00.000000000",
          "2020-08-02T00:00:00.000000000",
          "2020-08-03T00:00:00.000000000",
          "2020-08-04T00:00:00.000000000",
          "2020-08-05T00:00:00.000000000",
          "2020-08-06T00:00:00.000000000",
          "2020-08-07T00:00:00.000000000",
          "2020-08-08T00:00:00.000000000",
          "2020-08-09T00:00:00.000000000",
          "2020-08-10T00:00:00.000000000",
          "2020-08-11T00:00:00.000000000",
          "2020-08-12T00:00:00.000000000",
          "2020-08-13T00:00:00.000000000",
          "2020-08-14T00:00:00.000000000",
          "2020-08-15T00:00:00.000000000",
          "2020-08-16T00:00:00.000000000",
          "2020-08-17T00:00:00.000000000",
          "2020-08-18T00:00:00.000000000",
          "2020-08-19T00:00:00.000000000",
          "2020-08-20T00:00:00.000000000",
          "2020-08-21T00:00:00.000000000",
          "2020-08-22T00:00:00.000000000",
          "2020-08-23T00:00:00.000000000",
          "2020-08-24T00:00:00.000000000",
          "2020-08-25T00:00:00.000000000",
          "2020-08-26T00:00:00.000000000",
          "2020-08-27T00:00:00.000000000",
          "2020-08-28T00:00:00.000000000",
          "2020-08-29T00:00:00.000000000",
          "2020-08-30T00:00:00.000000000",
          "2020-08-31T00:00:00.000000000",
          "2020-09-01T00:00:00.000000000",
          "2020-09-02T00:00:00.000000000",
          "2020-09-03T00:00:00.000000000",
          "2020-09-04T00:00:00.000000000",
          "2020-09-05T00:00:00.000000000",
          "2020-09-06T00:00:00.000000000",
          "2020-09-07T00:00:00.000000000",
          "2020-09-08T00:00:00.000000000",
          "2020-09-09T00:00:00.000000000",
          "2020-09-10T00:00:00.000000000",
          "2020-09-11T00:00:00.000000000",
          "2020-09-12T00:00:00.000000000",
          "2020-09-13T00:00:00.000000000",
          "2020-09-14T00:00:00.000000000",
          "2020-09-15T00:00:00.000000000",
          "2020-09-16T00:00:00.000000000",
          "2020-09-17T00:00:00.000000000",
          "2020-09-18T00:00:00.000000000",
          "2020-09-19T00:00:00.000000000",
          "2020-09-20T00:00:00.000000000",
          "2020-09-21T00:00:00.000000000",
          "2020-09-22T00:00:00.000000000",
          "2020-09-23T00:00:00.000000000",
          "2020-09-24T00:00:00.000000000",
          "2020-09-25T00:00:00.000000000",
          "2020-09-26T00:00:00.000000000",
          "2020-09-27T00:00:00.000000000",
          "2020-09-28T00:00:00.000000000",
          "2020-09-29T00:00:00.000000000",
          "2020-09-30T00:00:00.000000000",
          "2020-10-01T00:00:00.000000000",
          "2020-10-02T00:00:00.000000000",
          "2020-10-03T00:00:00.000000000",
          "2020-10-04T00:00:00.000000000",
          "2020-10-05T00:00:00.000000000",
          "2020-10-06T00:00:00.000000000",
          "2020-10-07T00:00:00.000000000",
          "2020-10-08T00:00:00.000000000",
          "2020-10-09T00:00:00.000000000",
          "2020-10-10T00:00:00.000000000",
          "2020-10-11T00:00:00.000000000",
          "2020-10-12T00:00:00.000000000"
         ]
        },
        {
         "line": {
          "color": "orange",
          "dash": "dash",
          "width": 2
         },
         "mode": "lines",
         "name": "line_close_D",
         "showlegend": true,
         "type": "scatter",
         "x": [
          "2020-03-29T00:00:00",
          "2020-10-12T00:00:00"
         ],
         "y": [
          5873,
          5873
         ]
        },
        {
         "line": {
          "color": "orange",
          "dash": "dash",
          "width": 2
         },
         "mode": "lines",
         "name": "line_close_D",
         "showlegend": true,
         "type": "scatter",
         "x": [
          "2020-04-15T00:00:00",
          "2020-10-12T00:00:00"
         ],
         "y": [
          6617.5,
          6617.5
         ]
        },
        {
         "line": {
          "color": "orange",
          "dash": "dash",
          "width": 2
         },
         "mode": "lines",
         "name": "line_close_D",
         "showlegend": true,
         "type": "scatter",
         "x": [
          "2020-04-28T00:00:00",
          "2020-10-12T00:00:00"
         ],
         "y": [
          7743,
          7743
         ]
        },
        {
         "line": {
          "color": "orange",
          "dash": "dash",
          "width": 2
         },
         "mode": "lines",
         "name": "line_close_D",
         "showlegend": true,
         "type": "scatter",
         "x": [
          "2020-05-11T00:00:00",
          "2020-10-12T00:00:00"
         ],
         "y": [
          8559,
          8559
         ]
        },
        {
         "line": {
          "color": "orange",
          "dash": "dash",
          "width": 2
         },
         "mode": "lines",
         "name": "line_close_D",
         "showlegend": true,
         "type": "scatter",
         "x": [
          "2020-07-20T00:00:00",
          "2020-10-12T00:00:00"
         ],
         "y": [
          9154,
          9154
         ]
        },
        {
         "line": {
          "color": "orange",
          "dash": "dash",
          "width": 2
         },
         "mode": "lines",
         "name": "line_close_D",
         "showlegend": true,
         "type": "scatter",
         "x": [
          "2020-07-24T00:00:00",
          "2020-10-12T00:00:00"
         ],
         "y": [
          9535,
          9535
         ]
        },
        {
         "line": {
          "color": "orange",
          "dash": "dash",
          "width": 2
         },
         "mode": "lines",
         "name": "line_close_D",
         "showlegend": true,
         "type": "scatter",
         "x": [
          "2020-08-17T00:00:00",
          "2020-10-12T00:00:00"
         ],
         "y": [
          12297,
          12297
         ]
        },
        {
         "line": {
          "color": "orange",
          "dash": "dash",
          "width": 2
         },
         "mode": "lines",
         "name": "line_close_D",
         "showlegend": true,
         "type": "scatter",
         "x": [
          "2020-09-01T00:00:00",
          "2020-10-12T00:00:00"
         ],
         "y": [
          11927.5,
          11927.5
         ]
        },
        {
         "line": {
          "color": "orange",
          "dash": "dash",
          "width": 2
         },
         "mode": "lines",
         "name": "line_close_D",
         "showlegend": true,
         "type": "scatter",
         "x": [
          "2020-09-08T00:00:00",
          "2020-10-12T00:00:00"
         ],
         "y": [
          10122,
          10122
         ]
        },
        {
         "line": {
          "color": "orange",
          "dash": "dash",
          "width": 2
         },
         "mode": "lines",
         "name": "line_close_D",
         "showlegend": true,
         "type": "scatter",
         "x": [
          "2020-09-23T00:00:00",
          "2020-10-12T00:00:00"
         ],
         "y": [
          10234,
          10234
         ]
        },
        {
         "line": {
          "color": "orange",
          "dash": "dash",
          "width": 2
         },
         "mode": "lines",
         "name": "max_level_D",
         "showlegend": true,
         "type": "scatter",
         "x": [
          "2020-03-25T00:00:00",
          "2020-10-12T00:00:00"
         ],
         "y": [
          12499.5,
          12499.5
         ]
        },
        {
         "line": {
          "color": "orange",
          "dash": "dash",
          "width": 2
         },
         "mode": "lines",
         "name": "min_level_D",
         "showlegend": true,
         "type": "scatter",
         "x": [
          "2020-03-25T00:00:00",
          "2020-10-12T00:00:00"
         ],
         "y": [
          5841.5,
          5841.5
         ]
        }
       ],
       "layout": {
        "height": 800,
        "showlegend": false,
        "template": {
         "data": {
          "bar": [
           {
            "error_x": {
             "color": "#f2f5fa"
            },
            "error_y": {
             "color": "#f2f5fa"
            },
            "marker": {
             "line": {
              "color": "rgb(17,17,17)",
              "width": 0.5
             },
             "pattern": {
              "fillmode": "overlay",
              "size": 10,
              "solidity": 0.2
             }
            },
            "type": "bar"
           }
          ],
          "barpolar": [
           {
            "marker": {
             "line": {
              "color": "rgb(17,17,17)",
              "width": 0.5
             },
             "pattern": {
              "fillmode": "overlay",
              "size": 10,
              "solidity": 0.2
             }
            },
            "type": "barpolar"
           }
          ],
          "carpet": [
           {
            "aaxis": {
             "endlinecolor": "#A2B1C6",
             "gridcolor": "#506784",
             "linecolor": "#506784",
             "minorgridcolor": "#506784",
             "startlinecolor": "#A2B1C6"
            },
            "baxis": {
             "endlinecolor": "#A2B1C6",
             "gridcolor": "#506784",
             "linecolor": "#506784",
             "minorgridcolor": "#506784",
             "startlinecolor": "#A2B1C6"
            },
            "type": "carpet"
           }
          ],
          "choropleth": [
           {
            "colorbar": {
             "outlinewidth": 0,
             "ticks": ""
            },
            "type": "choropleth"
           }
          ],
          "contour": [
           {
            "colorbar": {
             "outlinewidth": 0,
             "ticks": ""
            },
            "colorscale": [
             [
              0,
              "#0d0887"
             ],
             [
              0.1111111111111111,
              "#46039f"
             ],
             [
              0.2222222222222222,
              "#7201a8"
             ],
             [
              0.3333333333333333,
              "#9c179e"
             ],
             [
              0.4444444444444444,
              "#bd3786"
             ],
             [
              0.5555555555555556,
              "#d8576b"
             ],
             [
              0.6666666666666666,
              "#ed7953"
             ],
             [
              0.7777777777777778,
              "#fb9f3a"
             ],
             [
              0.8888888888888888,
              "#fdca26"
             ],
             [
              1,
              "#f0f921"
             ]
            ],
            "type": "contour"
           }
          ],
          "contourcarpet": [
           {
            "colorbar": {
             "outlinewidth": 0,
             "ticks": ""
            },
            "type": "contourcarpet"
           }
          ],
          "heatmap": [
           {
            "colorbar": {
             "outlinewidth": 0,
             "ticks": ""
            },
            "colorscale": [
             [
              0,
              "#0d0887"
             ],
             [
              0.1111111111111111,
              "#46039f"
             ],
             [
              0.2222222222222222,
              "#7201a8"
             ],
             [
              0.3333333333333333,
              "#9c179e"
             ],
             [
              0.4444444444444444,
              "#bd3786"
             ],
             [
              0.5555555555555556,
              "#d8576b"
             ],
             [
              0.6666666666666666,
              "#ed7953"
             ],
             [
              0.7777777777777778,
              "#fb9f3a"
             ],
             [
              0.8888888888888888,
              "#fdca26"
             ],
             [
              1,
              "#f0f921"
             ]
            ],
            "type": "heatmap"
           }
          ],
          "histogram": [
           {
            "marker": {
             "pattern": {
              "fillmode": "overlay",
              "size": 10,
              "solidity": 0.2
             }
            },
            "type": "histogram"
           }
          ],
          "histogram2d": [
           {
            "colorbar": {
             "outlinewidth": 0,
             "ticks": ""
            },
            "colorscale": [
             [
              0,
              "#0d0887"
             ],
             [
              0.1111111111111111,
              "#46039f"
             ],
             [
              0.2222222222222222,
              "#7201a8"
             ],
             [
              0.3333333333333333,
              "#9c179e"
             ],
             [
              0.4444444444444444,
              "#bd3786"
             ],
             [
              0.5555555555555556,
              "#d8576b"
             ],
             [
              0.6666666666666666,
              "#ed7953"
             ],
             [
              0.7777777777777778,
              "#fb9f3a"
             ],
             [
              0.8888888888888888,
              "#fdca26"
             ],
             [
              1,
              "#f0f921"
             ]
            ],
            "type": "histogram2d"
           }
          ],
          "histogram2dcontour": [
           {
            "colorbar": {
             "outlinewidth": 0,
             "ticks": ""
            },
            "colorscale": [
             [
              0,
              "#0d0887"
             ],
             [
              0.1111111111111111,
              "#46039f"
             ],
             [
              0.2222222222222222,
              "#7201a8"
             ],
             [
              0.3333333333333333,
              "#9c179e"
             ],
             [
              0.4444444444444444,
              "#bd3786"
             ],
             [
              0.5555555555555556,
              "#d8576b"
             ],
             [
              0.6666666666666666,
              "#ed7953"
             ],
             [
              0.7777777777777778,
              "#fb9f3a"
             ],
             [
              0.8888888888888888,
              "#fdca26"
             ],
             [
              1,
              "#f0f921"
             ]
            ],
            "type": "histogram2dcontour"
           }
          ],
          "mesh3d": [
           {
            "colorbar": {
             "outlinewidth": 0,
             "ticks": ""
            },
            "type": "mesh3d"
           }
          ],
          "parcoords": [
           {
            "line": {
             "colorbar": {
              "outlinewidth": 0,
              "ticks": ""
             }
            },
            "type": "parcoords"
           }
          ],
          "pie": [
           {
            "automargin": true,
            "type": "pie"
           }
          ],
          "scatter": [
           {
            "marker": {
             "line": {
              "color": "#283442"
             }
            },
            "type": "scatter"
           }
          ],
          "scatter3d": [
           {
            "line": {
             "colorbar": {
              "outlinewidth": 0,
              "ticks": ""
             }
            },
            "marker": {
             "colorbar": {
              "outlinewidth": 0,
              "ticks": ""
             }
            },
            "type": "scatter3d"
           }
          ],
          "scattercarpet": [
           {
            "marker": {
             "colorbar": {
              "outlinewidth": 0,
              "ticks": ""
             }
            },
            "type": "scattercarpet"
           }
          ],
          "scattergeo": [
           {
            "marker": {
             "colorbar": {
              "outlinewidth": 0,
              "ticks": ""
             }
            },
            "type": "scattergeo"
           }
          ],
          "scattergl": [
           {
            "marker": {
             "line": {
              "color": "#283442"
             }
            },
            "type": "scattergl"
           }
          ],
          "scattermap": [
           {
            "marker": {
             "colorbar": {
              "outlinewidth": 0,
              "ticks": ""
             }
            },
            "type": "scattermap"
           }
          ],
          "scattermapbox": [
           {
            "marker": {
             "colorbar": {
              "outlinewidth": 0,
              "ticks": ""
             }
            },
            "type": "scattermapbox"
           }
          ],
          "scatterpolar": [
           {
            "marker": {
             "colorbar": {
              "outlinewidth": 0,
              "ticks": ""
             }
            },
            "type": "scatterpolar"
           }
          ],
          "scatterpolargl": [
           {
            "marker": {
             "colorbar": {
              "outlinewidth": 0,
              "ticks": ""
             }
            },
            "type": "scatterpolargl"
           }
          ],
          "scatterternary": [
           {
            "marker": {
             "colorbar": {
              "outlinewidth": 0,
              "ticks": ""
             }
            },
            "type": "scatterternary"
           }
          ],
          "surface": [
           {
            "colorbar": {
             "outlinewidth": 0,
             "ticks": ""
            },
            "colorscale": [
             [
              0,
              "#0d0887"
             ],
             [
              0.1111111111111111,
              "#46039f"
             ],
             [
              0.2222222222222222,
              "#7201a8"
             ],
             [
              0.3333333333333333,
              "#9c179e"
             ],
             [
              0.4444444444444444,
              "#bd3786"
             ],
             [
              0.5555555555555556,
              "#d8576b"
             ],
             [
              0.6666666666666666,
              "#ed7953"
             ],
             [
              0.7777777777777778,
              "#fb9f3a"
             ],
             [
              0.8888888888888888,
              "#fdca26"
             ],
             [
              1,
              "#f0f921"
             ]
            ],
            "type": "surface"
           }
          ],
          "table": [
           {
            "cells": {
             "fill": {
              "color": "#506784"
             },
             "line": {
              "color": "rgb(17,17,17)"
             }
            },
            "header": {
             "fill": {
              "color": "#2a3f5f"
             },
             "line": {
              "color": "rgb(17,17,17)"
             }
            },
            "type": "table"
           }
          ]
         },
         "layout": {
          "annotationdefaults": {
           "arrowcolor": "#f2f5fa",
           "arrowhead": 0,
           "arrowwidth": 1
          },
          "autotypenumbers": "strict",
          "coloraxis": {
           "colorbar": {
            "outlinewidth": 0,
            "ticks": ""
           }
          },
          "colorscale": {
           "diverging": [
            [
             0,
             "#8e0152"
            ],
            [
             0.1,
             "#c51b7d"
            ],
            [
             0.2,
             "#de77ae"
            ],
            [
             0.3,
             "#f1b6da"
            ],
            [
             0.4,
             "#fde0ef"
            ],
            [
             0.5,
             "#f7f7f7"
            ],
            [
             0.6,
             "#e6f5d0"
            ],
            [
             0.7,
             "#b8e186"
            ],
            [
             0.8,
             "#7fbc41"
            ],
            [
             0.9,
             "#4d9221"
            ],
            [
             1,
             "#276419"
            ]
           ],
           "sequential": [
            [
             0,
             "#0d0887"
            ],
            [
             0.1111111111111111,
             "#46039f"
            ],
            [
             0.2222222222222222,
             "#7201a8"
            ],
            [
             0.3333333333333333,
             "#9c179e"
            ],
            [
             0.4444444444444444,
             "#bd3786"
            ],
            [
             0.5555555555555556,
             "#d8576b"
            ],
            [
             0.6666666666666666,
             "#ed7953"
            ],
            [
             0.7777777777777778,
             "#fb9f3a"
            ],
            [
             0.8888888888888888,
             "#fdca26"
            ],
            [
             1,
             "#f0f921"
            ]
           ],
           "sequentialminus": [
            [
             0,
             "#0d0887"
            ],
            [
             0.1111111111111111,
             "#46039f"
            ],
            [
             0.2222222222222222,
             "#7201a8"
            ],
            [
             0.3333333333333333,
             "#9c179e"
            ],
            [
             0.4444444444444444,
             "#bd3786"
            ],
            [
             0.5555555555555556,
             "#d8576b"
            ],
            [
             0.6666666666666666,
             "#ed7953"
            ],
            [
             0.7777777777777778,
             "#fb9f3a"
            ],
            [
             0.8888888888888888,
             "#fdca26"
            ],
            [
             1,
             "#f0f921"
            ]
           ]
          },
          "colorway": [
           "#636efa",
           "#EF553B",
           "#00cc96",
           "#ab63fa",
           "#FFA15A",
           "#19d3f3",
           "#FF6692",
           "#B6E880",
           "#FF97FF",
           "#FECB52"
          ],
          "font": {
           "color": "#f2f5fa"
          },
          "geo": {
           "bgcolor": "rgb(17,17,17)",
           "lakecolor": "rgb(17,17,17)",
           "landcolor": "rgb(17,17,17)",
           "showlakes": true,
           "showland": true,
           "subunitcolor": "#506784"
          },
          "hoverlabel": {
           "align": "left"
          },
          "hovermode": "closest",
          "mapbox": {
           "style": "dark"
          },
          "paper_bgcolor": "rgb(17,17,17)",
          "plot_bgcolor": "rgb(17,17,17)",
          "polar": {
           "angularaxis": {
            "gridcolor": "#506784",
            "linecolor": "#506784",
            "ticks": ""
           },
           "bgcolor": "rgb(17,17,17)",
           "radialaxis": {
            "gridcolor": "#506784",
            "linecolor": "#506784",
            "ticks": ""
           }
          },
          "scene": {
           "xaxis": {
            "backgroundcolor": "rgb(17,17,17)",
            "gridcolor": "#506784",
            "gridwidth": 2,
            "linecolor": "#506784",
            "showbackground": true,
            "ticks": "",
            "zerolinecolor": "#C8D4E3"
           },
           "yaxis": {
            "backgroundcolor": "rgb(17,17,17)",
            "gridcolor": "#506784",
            "gridwidth": 2,
            "linecolor": "#506784",
            "showbackground": true,
            "ticks": "",
            "zerolinecolor": "#C8D4E3"
           },
           "zaxis": {
            "backgroundcolor": "rgb(17,17,17)",
            "gridcolor": "#506784",
            "gridwidth": 2,
            "linecolor": "#506784",
            "showbackground": true,
            "ticks": "",
            "zerolinecolor": "#C8D4E3"
           }
          },
          "shapedefaults": {
           "line": {
            "color": "#f2f5fa"
           }
          },
          "sliderdefaults": {
           "bgcolor": "#C8D4E3",
           "bordercolor": "rgb(17,17,17)",
           "borderwidth": 1,
           "tickwidth": 0
          },
          "ternary": {
           "aaxis": {
            "gridcolor": "#506784",
            "linecolor": "#506784",
            "ticks": ""
           },
           "baxis": {
            "gridcolor": "#506784",
            "linecolor": "#506784",
            "ticks": ""
           },
           "bgcolor": "rgb(17,17,17)",
           "caxis": {
            "gridcolor": "#506784",
            "linecolor": "#506784",
            "ticks": ""
           }
          },
          "title": {
           "x": 0.05
          },
          "updatemenudefaults": {
           "bgcolor": "#506784",
           "borderwidth": 0
          },
          "xaxis": {
           "automargin": true,
           "gridcolor": "#283442",
           "linecolor": "#506784",
           "ticks": "",
           "title": {
            "standoff": 15
           },
           "zerolinecolor": "#283442",
           "zerolinewidth": 2
          },
          "yaxis": {
           "automargin": true,
           "gridcolor": "#283442",
           "linecolor": "#506784",
           "ticks": "",
           "title": {
            "standoff": 15
           },
           "zerolinecolor": "#283442",
           "zerolinewidth": 2
          }
         }
        },
        "title": {
         "text": "BTCUSDT - D - TA Chart Visualizer"
        },
        "xaxis": {
         "fixedrange": false,
         "rangeslider": {
          "visible": false
         },
         "title": {
          "text": "Time"
         }
        },
        "yaxis": {
         "fixedrange": false,
         "title": {
          "text": "Price"
         },
         "type": "log"
        }
       }
      }
     },
     "metadata": {},
     "output_type": "display_data"
    },
    {
     "name": "stdout",
     "output_type": "stream",
     "text": [
      "\n",
      "======================================================================\n",
      "📊 Visualizing Segment 2/10: BTCUSDT - D\n",
      "   Period: 2020-10-13 00:00 to 2021-05-02 00:00\n",
      "======================================================================\n",
      "Processing 202 candles for BTCUSDT at D interval\n",
      "   Middlewares: ['levels_middleware']\n"
     ]
    },
    {
     "data": {
      "application/vnd.plotly.v1+json": {
       "config": {
        "plotlyServerURL": "https://plot.ly"
       },
       "data": [
        {
         "close": {
          "bdata": "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",
          "dtype": "f8"
         },
         "high": {
          "bdata": "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",
          "dtype": "f8"
         },
         "low": {
          "bdata": "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",
          "dtype": "f8"
         },
         "name": "Candlestick",
         "open": {
          "bdata": "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",
          "dtype": "f8"
         },
         "showlegend": false,
         "type": "candlestick",
         "x": [
          "2020-10-13T00:00:00.000000000",
          "2020-10-14T00:00:00.000000000",
          "2020-10-15T00:00:00.000000000",
          "2020-10-16T00:00:00.000000000",
          "2020-10-17T00:00:00.000000000",
          "2020-10-18T00:00:00.000000000",
          "2020-10-19T00:00:00.000000000",
          "2020-10-20T00:00:00.000000000",
          "2020-10-21T00:00:00.000000000",
          "2020-10-22T00:00:00.000000000",
          "2020-10-23T00:00:00.000000000",
          "2020-10-24T00:00:00.000000000",
          "2020-10-25T00:00:00.000000000",
          "2020-10-26T00:00:00.000000000",
          "2020-10-27T00:00:00.000000000",
          "2020-10-28T00:00:00.000000000",
          "2020-10-29T00:00:00.000000000",
          "2020-10-30T00:00:00.000000000",
          "2020-10-31T00:00:00.000000000",
          "2020-11-01T00:00:00.000000000",
          "2020-11-02T00:00:00.000000000",
          "2020-11-03T00:00:00.000000000",
          "2020-11-04T00:00:00.000000000",
          "2020-11-05T00:00:00.000000000",
          "2020-11-06T00:00:00.000000000",
          "2020-11-07T00:00:00.000000000",
          "2020-11-08T00:00:00.000000000",
          "2020-11-09T00:00:00.000000000",
          "2020-11-10T00:00:00.000000000",
          "2020-11-11T00:00:00.000000000",
          "2020-11-12T00:00:00.000000000",
          "2020-11-13T00:00:00.000000000",
          "2020-11-14T00:00:00.000000000",
          "2020-11-15T00:00:00.000000000",
          "2020-11-16T00:00:00.000000000",
          "2020-11-17T00:00:00.000000000",
          "2020-11-18T00:00:00.000000000",
          "2020-11-19T00:00:00.000000000",
          "2020-11-20T00:00:00.000000000",
          "2020-11-21T00:00:00.000000000",
          "2020-11-22T00:00:00.000000000",
          "2020-11-23T00:00:00.000000000",
          "2020-11-24T00:00:00.000000000",
          "2020-11-25T00:00:00.000000000",
          "2020-11-26T00:00:00.000000000",
          "2020-11-27T00:00:00.000000000",
          "2020-11-28T00:00:00.000000000",
          "2020-11-29T00:00:00.000000000",
          "2020-11-30T00:00:00.000000000",
          "2020-12-01T00:00:00.000000000",
          "2020-12-02T00:00:00.000000000",
          "2020-12-03T00:00:00.000000000",
          "2020-12-04T00:00:00.000000000",
          "2020-12-05T00:00:00.000000000",
          "2020-12-06T00:00:00.000000000",
          "2020-12-07T00:00:00.000000000",
          "2020-12-08T00:00:00.000000000",
          "2020-12-09T00:00:00.000000000",
          "2020-12-10T00:00:00.000000000",
          "2020-12-11T00:00:00.000000000",
          "2020-12-12T00:00:00.000000000",
          "2020-12-13T00:00:00.000000000",
          "2020-12-14T00:00:00.000000000",
          "2020-12-15T00:00:00.000000000",
          "2020-12-16T00:00:00.000000000",
          "2020-12-17T00:00:00.000000000",
          "2020-12-18T00:00:00.000000000",
          "2020-12-19T00:00:00.000000000",
          "2020-12-20T00:00:00.000000000",
          "2020-12-21T00:00:00.000000000",
          "2020-12-22T00:00:00.000000000",
          "2020-12-23T00:00:00.000000000",
          "2020-12-24T00:00:00.000000000",
          "2020-12-25T00:00:00.000000000",
          "2020-12-26T00:00:00.000000000",
          "2020-12-27T00:00:00.000000000",
          "2020-12-28T00:00:00.000000000",
          "2020-12-29T00:00:00.000000000",
          "2020-12-30T00:00:00.000000000",
          "2020-12-31T00:00:00.000000000",
          "2021-01-01T00:00:00.000000000",
          "2021-01-02T00:00:00.000000000",
          "2021-01-03T00:00:00.000000000",
          "2021-01-04T00:00:00.000000000",
          "2021-01-05T00:00:00.000000000",
          "2021-01-06T00:00:00.000000000",
          "2021-01-07T00:00:00.000000000",
          "2021-01-08T00:00:00.000000000",
          "2021-01-09T00:00:00.000000000",
          "2021-01-10T00:00:00.000000000",
          "2021-01-11T00:00:00.000000000",
          "2021-01-12T00:00:00.000000000",
          "2021-01-13T00:00:00.000000000",
          "2021-01-14T00:00:00.000000000",
          "2021-01-15T00:00:00.000000000",
          "2021-01-16T00:00:00.000000000",
          "2021-01-17T00:00:00.000000000",
          "2021-01-18T00:00:00.000000000",
          "2021-01-19T00:00:00.000000000",
          "2021-01-20T00:00:00.000000000",
          "2021-01-21T00:00:00.000000000",
          "2021-01-22T00:00:00.000000000",
          "2021-01-23T00:00:00.000000000",
          "2021-01-24T00:00:00.000000000",
          "2021-01-25T00:00:00.000000000",
          "2021-01-26T00:00:00.000000000",
          "2021-01-27T00:00:00.000000000",
          "2021-01-28T00:00:00.000000000",
          "2021-01-29T00:00:00.000000000",
          "2021-01-30T00:00:00.000000000",
          "2021-01-31T00:00:00.000000000",
          "2021-02-01T00:00:00.000000000",
          "2021-02-02T00:00:00.000000000",
          "2021-02-03T00:00:00.000000000",
          "2021-02-04T00:00:00.000000000",
          "2021-02-05T00:00:00.000000000",
          "2021-02-06T00:00:00.000000000",
          "2021-02-07T00:00:00.000000000",
          "2021-02-08T00:00:00.000000000",
          "2021-02-09T00:00:00.000000000",
          "2021-02-10T00:00:00.000000000",
          "2021-02-11T00:00:00.000000000",
          "2021-02-12T00:00:00.000000000",
          "2021-02-13T00:00:00.000000000",
          "2021-02-14T00:00:00.000000000",
          "2021-02-15T00:00:00.000000000",
          "2021-02-16T00:00:00.000000000",
          "2021-02-17T00:00:00.000000000",
          "2021-02-18T00:00:00.000000000",
          "2021-02-19T00:00:00.000000000",
          "2021-02-20T00:00:00.000000000",
          "2021-02-21T00:00:00.000000000",
          "2021-02-22T00:00:00.000000000",
          "2021-02-23T00:00:00.000000000",
          "2021-02-24T00:00:00.000000000",
          "2021-02-25T00:00:00.000000000",
          "2021-02-26T00:00:00.000000000",
          "2021-02-27T00:00:00.000000000",
          "2021-02-28T00:00:00.000000000",
          "2021-03-01T00:00:00.000000000",
          "2021-03-02T00:00:00.000000000",
          "2021-03-03T00:00:00.000000000",
          "2021-03-04T00:00:00.000000000",
          "2021-03-05T00:00:00.000000000",
          "2021-03-06T00:00:00.000000000",
          "2021-03-07T00:00:00.000000000",
          "2021-03-08T00:00:00.000000000",
          "2021-03-09T00:00:00.000000000",
          "2021-03-10T00:00:00.000000000",
          "2021-03-11T00:00:00.000000000",
          "2021-03-12T00:00:00.000000000",
          "2021-03-13T00:00:00.000000000",
          "2021-03-14T00:00:00.000000000",
          "2021-03-15T00:00:00.000000000",
          "2021-03-16T00:00:00.000000000",
          "2021-03-17T00:00:00.000000000",
          "2021-03-18T00:00:00.000000000",
          "2021-03-19T00:00:00.000000000",
          "2021-03-20T00:00:00.000000000",
          "2021-03-21T00:00:00.000000000",
          "2021-03-22T00:00:00.000000000",
          "2021-03-23T00:00:00.000000000",
          "2021-03-24T00:00:00.000000000",
          "2021-03-25T00:00:00.000000000",
          "2021-03-26T00:00:00.000000000",
          "2021-03-27T00:00:00.000000000",
          "2021-03-28T00:00:00.000000000",
          "2021-03-29T00:00:00.000000000",
          "2021-03-30T00:00:00.000000000",
          "2021-03-31T00:00:00.000000000",
          "2021-04-01T00:00:00.000000000",
          "2021-04-02T00:00:00.000000000",
          "2021-04-03T00:00:00.000000000",
          "2021-04-04T00:00:00.000000000",
          "2021-04-05T00:00:00.000000000",
          "2021-04-06T00:00:00.000000000",
          "2021-04-07T00:00:00.000000000",
          "2021-04-08T00:00:00.000000000",
          "2021-04-09T00:00:00.000000000",
          "2021-04-10T00:00:00.000000000",
          "2021-04-11T00:00:00.000000000",
          "2021-04-12T00:00:00.000000000",
          "2021-04-13T00:00:00.000000000",
          "2021-04-14T00:00:00.000000000",
          "2021-04-15T00:00:00.000000000",
          "2021-04-16T00:00:00.000000000",
          "2021-04-17T00:00:00.000000000",
          "2021-04-18T00:00:00.000000000",
          "2021-04-19T00:00:00.000000000",
          "2021-04-20T00:00:00.000000000",
          "2021-04-21T00:00:00.000000000",
          "2021-04-22T00:00:00.000000000",
          "2021-04-23T00:00:00.000000000",
          "2021-04-24T00:00:00.000000000",
          "2021-04-25T00:00:00.000000000",
          "2021-04-26T00:00:00.000000000",
          "2021-04-27T00:00:00.000000000",
          "2021-04-28T00:00:00.000000000",
          "2021-04-29T00:00:00.000000000",
          "2021-04-30T00:00:00.000000000",
          "2021-05-01T00:00:00.000000000",
          "2021-05-02T00:00:00.000000000"
         ]
        },
        {
         "line": {
          "color": "orange",
          "dash": "dash",
          "width": 2
         },
         "mode": "lines",
         "name": "line_close_D",
         "showlegend": true,
         "type": "scatter",
         "x": [
          "2020-10-16T00:00:00",
          "2021-05-02T00:00:00"
         ],
         "y": [
          11318.5,
          11318.5
         ]
        },
        {
         "line": {
          "color": "orange",
          "dash": "dash",
          "width": 2
         },
         "mode": "lines",
         "name": "line_close_D",
         "showlegend": true,
         "type": "scatter",
         "x": [
          "2020-11-07T00:00:00",
          "2021-05-02T00:00:00"
         ],
         "y": [
          14815.5,
          14815.5
         ]
        },
        {
         "line": {
          "color": "orange",
          "dash": "dash",
          "width": 2
         },
         "mode": "lines",
         "name": "line_close_D",
         "showlegend": true,
         "type": "scatter",
         "x": [
          "2020-11-10T00:00:00",
          "2021-05-02T00:00:00"
         ],
         "y": [
          15296.5,
          15296.5
         ]
        },
        {
         "line": {
          "color": "orange",
          "dash": "dash",
          "width": 2
         },
         "mode": "lines",
         "name": "line_close_D",
         "showlegend": true,
         "type": "scatter",
         "x": [
          "2020-11-15T00:00:00",
          "2021-05-02T00:00:00"
         ],
         "y": [
          15939.5,
          15939.5
         ]
        },
        {
         "line": {
          "color": "orange",
          "dash": "dash",
          "width": 2
         },
         "mode": "lines",
         "name": "line_close_D",
         "showlegend": true,
         "type": "scatter",
         "x": [
          "2020-11-27T00:00:00",
          "2021-05-02T00:00:00"
         ],
         "y": [
          17132,
          17132
         ]
        },
        {
         "line": {
          "color": "orange",
          "dash": "dash",
          "width": 2
         },
         "mode": "lines",
         "name": "line_close_D",
         "showlegend": true,
         "type": "scatter",
         "x": [
          "2020-12-11T00:00:00",
          "2021-05-02T00:00:00"
         ],
         "y": [
          18026,
          18026
         ]
        },
        {
         "line": {
          "color": "orange",
          "dash": "dash",
          "width": 2
         },
         "mode": "lines",
         "name": "line_close_D",
         "showlegend": true,
         "type": "scatter",
         "x": [
          "2020-12-23T00:00:00",
          "2021-05-02T00:00:00"
         ],
         "y": [
          23230.5,
          23230.5
         ]
        },
        {
         "line": {
          "color": "orange",
          "dash": "dash",
          "width": 2
         },
         "mode": "lines",
         "name": "line_close_D",
         "showlegend": true,
         "type": "scatter",
         "x": [
          "2021-01-27T00:00:00",
          "2021-05-02T00:00:00"
         ],
         "y": [
          30375,
          30375
         ]
        },
        {
         "line": {
          "color": "orange",
          "dash": "dash",
          "width": 2
         },
         "mode": "lines",
         "name": "line_close_D",
         "showlegend": true,
         "type": "scatter",
         "x": [
          "2021-01-31T00:00:00",
          "2021-05-02T00:00:00"
         ],
         "y": [
          33128,
          33128
         ]
        },
        {
         "line": {
          "color": "orange",
          "dash": "dash",
          "width": 2
         },
         "mode": "lines",
         "name": "line_close_D",
         "showlegend": true,
         "type": "scatter",
         "x": [
          "2021-02-04T00:00:00",
          "2021-05-02T00:00:00"
         ],
         "y": [
          36986,
          36986
         ]
        },
        {
         "line": {
          "color": "orange",
          "dash": "dash",
          "width": 2
         },
         "mode": "lines",
         "name": "line_close_D",
         "showlegend": true,
         "type": "scatter",
         "x": [
          "2021-02-07T00:00:00",
          "2021-05-02T00:00:00"
         ],
         "y": [
          38825.5,
          38825.5
         ]
        },
        {
         "line": {
          "color": "orange",
          "dash": "dash",
          "width": 2
         },
         "mode": "lines",
         "name": "line_close_D",
         "showlegend": true,
         "type": "scatter",
         "x": [
          "2021-02-28T00:00:00",
          "2021-05-02T00:00:00"
         ],
         "y": [
          45156,
          45156
         ]
        },
        {
         "line": {
          "color": "orange",
          "dash": "dash",
          "width": 2
         },
         "mode": "lines",
         "name": "line_close_D",
         "showlegend": true,
         "type": "scatter",
         "x": [
          "2021-04-15T00:00:00",
          "2021-05-02T00:00:00"
         ],
         "y": [
          63258.5,
          63258.5
         ]
        },
        {
         "line": {
          "color": "orange",
          "dash": "dash",
          "width": 2
         },
         "mode": "lines",
         "name": "line_close_D",
         "showlegend": true,
         "type": "scatter",
         "x": [
          "2021-04-25T00:00:00",
          "2021-05-02T00:00:00"
         ],
         "y": [
          49022.5,
          49022.5
         ]
        },
        {
         "line": {
          "color": "orange",
          "dash": "dash",
          "width": 2
         },
         "mode": "lines",
         "name": "line_close_D",
         "showlegend": true,
         "type": "scatter",
         "x": [
          "2021-04-29T00:00:00",
          "2021-05-02T00:00:00"
         ],
         "y": [
          53508,
          53508
         ]
        },
        {
         "line": {
          "color": "orange",
          "dash": "dash",
          "width": 2
         },
         "mode": "lines",
         "name": "line_close_D",
         "showlegend": true,
         "type": "scatter",
         "x": [
          "2021-05-01T00:00:00",
          "2021-05-02T00:00:00"
         ],
         "y": [
          57829.5,
          57829.5
         ]
        },
        {
         "line": {
          "color": "orange",
          "dash": "dash",
          "width": 2
         },
         "mode": "lines",
         "name": "max_level_D",
         "showlegend": true,
         "type": "scatter",
         "x": [
          "2020-10-13T00:00:00",
          "2021-05-02T00:00:00"
         ],
         "y": [
          64943.5,
          64943.5
         ]
        },
        {
         "line": {
          "color": "orange",
          "dash": "dash",
          "width": 2
         },
         "mode": "lines",
         "name": "min_level_D",
         "showlegend": true,
         "type": "scatter",
         "x": [
          "2020-10-13T00:00:00",
          "2021-05-02T00:00:00"
         ],
         "y": [
          11203.5,
          11203.5
         ]
        }
       ],
       "layout": {
        "height": 800,
        "showlegend": false,
        "template": {
         "data": {
          "bar": [
           {
            "error_x": {
             "color": "#f2f5fa"
            },
            "error_y": {
             "color": "#f2f5fa"
            },
            "marker": {
             "line": {
              "color": "rgb(17,17,17)",
              "width": 0.5
             },
             "pattern": {
              "fillmode": "overlay",
              "size": 10,
              "solidity": 0.2
             }
            },
            "type": "bar"
           }
          ],
          "barpolar": [
           {
            "marker": {
             "line": {
              "color": "rgb(17,17,17)",
              "width": 0.5
             },
             "pattern": {
              "fillmode": "overlay",
              "size": 10,
              "solidity": 0.2
             }
            },
            "type": "barpolar"
           }
          ],
          "carpet": [
           {
            "aaxis": {
             "endlinecolor": "#A2B1C6",
             "gridcolor": "#506784",
             "linecolor": "#506784",
             "minorgridcolor": "#506784",
             "startlinecolor": "#A2B1C6"
            },
            "baxis": {
             "endlinecolor": "#A2B1C6",
             "gridcolor": "#506784",
             "linecolor": "#506784",
             "minorgridcolor": "#506784",
             "startlinecolor": "#A2B1C6"
            },
            "type": "carpet"
           }
          ],
          "choropleth": [
           {
            "colorbar": {
             "outlinewidth": 0,
             "ticks": ""
            },
            "type": "choropleth"
           }
          ],
          "contour": [
           {
            "colorbar": {
             "outlinewidth": 0,
             "ticks": ""
            },
            "colorscale": [
             [
              0,
              "#0d0887"
             ],
             [
              0.1111111111111111,
              "#46039f"
             ],
             [
              0.2222222222222222,
              "#7201a8"
             ],
             [
              0.3333333333333333,
              "#9c179e"
             ],
             [
              0.4444444444444444,
              "#bd3786"
             ],
             [
              0.5555555555555556,
              "#d8576b"
             ],
             [
              0.6666666666666666,
              "#ed7953"
             ],
             [
              0.7777777777777778,
              "#fb9f3a"
             ],
             [
              0.8888888888888888,
              "#fdca26"
             ],
             [
              1,
              "#f0f921"
             ]
            ],
            "type": "contour"
           }
          ],
          "contourcarpet": [
           {
            "colorbar": {
             "outlinewidth": 0,
             "ticks": ""
            },
            "type": "contourcarpet"
           }
          ],
          "heatmap": [
           {
            "colorbar": {
             "outlinewidth": 0,
             "ticks": ""
            },
            "colorscale": [
             [
              0,
              "#0d0887"
             ],
             [
              0.1111111111111111,
              "#46039f"
             ],
             [
              0.2222222222222222,
              "#7201a8"
             ],
             [
              0.3333333333333333,
              "#9c179e"
             ],
             [
              0.4444444444444444,
              "#bd3786"
             ],
             [
              0.5555555555555556,
              "#d8576b"
             ],
             [
              0.6666666666666666,
              "#ed7953"
             ],
             [
              0.7777777777777778,
              "#fb9f3a"
             ],
             [
              0.8888888888888888,
              "#fdca26"
             ],
             [
              1,
              "#f0f921"
             ]
            ],
            "type": "heatmap"
           }
          ],
          "histogram": [
           {
            "marker": {
             "pattern": {
              "fillmode": "overlay",
              "size": 10,
              "solidity": 0.2
             }
            },
            "type": "histogram"
           }
          ],
          "histogram2d": [
           {
            "colorbar": {
             "outlinewidth": 0,
             "ticks": ""
            },
            "colorscale": [
             [
              0,
              "#0d0887"
             ],
             [
              0.1111111111111111,
              "#46039f"
             ],
             [
              0.2222222222222222,
              "#7201a8"
             ],
             [
              0.3333333333333333,
              "#9c179e"
             ],
             [
              0.4444444444444444,
              "#bd3786"
             ],
             [
              0.5555555555555556,
              "#d8576b"
             ],
             [
              0.6666666666666666,
              "#ed7953"
             ],
             [
              0.7777777777777778,
              "#fb9f3a"
             ],
             [
              0.8888888888888888,
              "#fdca26"
             ],
             [
              1,
              "#f0f921"
             ]
            ],
            "type": "histogram2d"
           }
          ],
          "histogram2dcontour": [
           {
            "colorbar": {
             "outlinewidth": 0,
             "ticks": ""
            },
            "colorscale": [
             [
              0,
              "#0d0887"
             ],
             [
              0.1111111111111111,
              "#46039f"
             ],
             [
              0.2222222222222222,
              "#7201a8"
             ],
             [
              0.3333333333333333,
              "#9c179e"
             ],
             [
              0.4444444444444444,
              "#bd3786"
             ],
             [
              0.5555555555555556,
              "#d8576b"
             ],
             [
              0.6666666666666666,
              "#ed7953"
             ],
             [
              0.7777777777777778,
              "#fb9f3a"
             ],
             [
              0.8888888888888888,
              "#fdca26"
             ],
             [
              1,
              "#f0f921"
             ]
            ],
            "type": "histogram2dcontour"
           }
          ],
          "mesh3d": [
           {
            "colorbar": {
             "outlinewidth": 0,
             "ticks": ""
            },
            "type": "mesh3d"
           }
          ],
          "parcoords": [
           {
            "line": {
             "colorbar": {
              "outlinewidth": 0,
              "ticks": ""
             }
            },
            "type": "parcoords"
           }
          ],
          "pie": [
           {
            "automargin": true,
            "type": "pie"
           }
          ],
          "scatter": [
           {
            "marker": {
             "line": {
              "color": "#283442"
             }
            },
            "type": "scatter"
           }
          ],
          "scatter3d": [
           {
            "line": {
             "colorbar": {
              "outlinewidth": 0,
              "ticks": ""
             }
            },
            "marker": {
             "colorbar": {
              "outlinewidth": 0,
              "ticks": ""
             }
            },
            "type": "scatter3d"
           }
          ],
          "scattercarpet": [
           {
            "marker": {
             "colorbar": {
              "outlinewidth": 0,
              "ticks": ""
             }
            },
            "type": "scattercarpet"
           }
          ],
          "scattergeo": [
           {
            "marker": {
             "colorbar": {
              "outlinewidth": 0,
              "ticks": ""
             }
            },
            "type": "scattergeo"
           }
          ],
          "scattergl": [
           {
            "marker": {
             "line": {
              "color": "#283442"
             }
            },
            "type": "scattergl"
           }
          ],
          "scattermap": [
           {
            "marker": {
             "colorbar": {
              "outlinewidth": 0,
              "ticks": ""
             }
            },
            "type": "scattermap"
           }
          ],
          "scattermapbox": [
           {
            "marker": {
             "colorbar": {
              "outlinewidth": 0,
              "ticks": ""
             }
            },
            "type": "scattermapbox"
           }
          ],
          "scatterpolar": [
           {
            "marker": {
             "colorbar": {
              "outlinewidth": 0,
              "ticks": ""
             }
            },
            "type": "scatterpolar"
           }
          ],
          "scatterpolargl": [
           {
            "marker": {
             "colorbar": {
              "outlinewidth": 0,
              "ticks": ""
             }
            },
            "type": "scatterpolargl"
           }
          ],
          "scatterternary": [
           {
            "marker": {
             "colorbar": {
              "outlinewidth": 0,
              "ticks": ""
             }
            },
            "type": "scatterternary"
           }
          ],
          "surface": [
           {
            "colorbar": {
             "outlinewidth": 0,
             "ticks": ""
            },
            "colorscale": [
             [
              0,
              "#0d0887"
             ],
             [
              0.1111111111111111,
              "#46039f"
             ],
             [
              0.2222222222222222,
              "#7201a8"
             ],
             [
              0.3333333333333333,
              "#9c179e"
             ],
             [
              0.4444444444444444,
              "#bd3786"
             ],
             [
              0.5555555555555556,
              "#d8576b"
             ],
             [
              0.6666666666666666,
              "#ed7953"
             ],
             [
              0.7777777777777778,
              "#fb9f3a"
             ],
             [
              0.8888888888888888,
              "#fdca26"
             ],
             [
              1,
              "#f0f921"
             ]
            ],
            "type": "surface"
           }
          ],
          "table": [
           {
            "cells": {
             "fill": {
              "color": "#506784"
             },
             "line": {
              "color": "rgb(17,17,17)"
             }
            },
            "header": {
             "fill": {
              "color": "#2a3f5f"
             },
             "line": {
              "color": "rgb(17,17,17)"
             }
            },
            "type": "table"
           }
          ]
         },
         "layout": {
          "annotationdefaults": {
           "arrowcolor": "#f2f5fa",
           "arrowhead": 0,
           "arrowwidth": 1
          },
          "autotypenumbers": "strict",
          "coloraxis": {
           "colorbar": {
            "outlinewidth": 0,
            "ticks": ""
           }
          },
          "colorscale": {
           "diverging": [
            [
             0,
             "#8e0152"
            ],
            [
             0.1,
             "#c51b7d"
            ],
            [
             0.2,
             "#de77ae"
            ],
            [
             0.3,
             "#f1b6da"
            ],
            [
             0.4,
             "#fde0ef"
            ],
            [
             0.5,
             "#f7f7f7"
            ],
            [
             0.6,
             "#e6f5d0"
            ],
            [
             0.7,
             "#b8e186"
            ],
            [
             0.8,
             "#7fbc41"
            ],
            [
             0.9,
             "#4d9221"
            ],
            [
             1,
             "#276419"
            ]
           ],
           "sequential": [
            [
             0,
             "#0d0887"
            ],
            [
             0.1111111111111111,
             "#46039f"
            ],
            [
             0.2222222222222222,
             "#7201a8"
            ],
            [
             0.3333333333333333,
             "#9c179e"
            ],
            [
             0.4444444444444444,
             "#bd3786"
            ],
            [
             0.5555555555555556,
             "#d8576b"
            ],
            [
             0.6666666666666666,
             "#ed7953"
            ],
            [
             0.7777777777777778,
             "#fb9f3a"
            ],
            [
             0.8888888888888888,
             "#fdca26"
            ],
            [
             1,
             "#f0f921"
            ]
           ],
           "sequentialminus": [
            [
             0,
             "#0d0887"
            ],
            [
             0.1111111111111111,
             "#46039f"
            ],
            [
             0.2222222222222222,
             "#7201a8"
            ],
            [
             0.3333333333333333,
             "#9c179e"
            ],
            [
             0.4444444444444444,
             "#bd3786"
            ],
            [
             0.5555555555555556,
             "#d8576b"
            ],
            [
             0.6666666666666666,
             "#ed7953"
            ],
            [
             0.7777777777777778,
             "#fb9f3a"
            ],
            [
             0.8888888888888888,
             "#fdca26"
            ],
            [
             1,
             "#f0f921"
            ]
           ]
          },
          "colorway": [
           "#636efa",
           "#EF553B",
           "#00cc96",
           "#ab63fa",
           "#FFA15A",
           "#19d3f3",
           "#FF6692",
           "#B6E880",
           "#FF97FF",
           "#FECB52"
          ],
          "font": {
           "color": "#f2f5fa"
          },
          "geo": {
           "bgcolor": "rgb(17,17,17)",
           "lakecolor": "rgb(17,17,17)",
           "landcolor": "rgb(17,17,17)",
           "showlakes": true,
           "showland": true,
           "subunitcolor": "#506784"
          },
          "hoverlabel": {
           "align": "left"
          },
          "hovermode": "closest",
          "mapbox": {
           "style": "dark"
          },
          "paper_bgcolor": "rgb(17,17,17)",
          "plot_bgcolor": "rgb(17,17,17)",
          "polar": {
           "angularaxis": {
            "gridcolor": "#506784",
            "linecolor": "#506784",
            "ticks": ""
           },
           "bgcolor": "rgb(17,17,17)",
           "radialaxis": {
            "gridcolor": "#506784",
            "linecolor": "#506784",
            "ticks": ""
           }
          },
          "scene": {
           "xaxis": {
            "backgroundcolor": "rgb(17,17,17)",
            "gridcolor": "#506784",
            "gridwidth": 2,
            "linecolor": "#506784",
            "showbackground": true,
            "ticks": "",
            "zerolinecolor": "#C8D4E3"
           },
           "yaxis": {
            "backgroundcolor": "rgb(17,17,17)",
            "gridcolor": "#506784",
            "gridwidth": 2,
            "linecolor": "#506784",
            "showbackground": true,
            "ticks": "",
            "zerolinecolor": "#C8D4E3"
           },
           "zaxis": {
            "backgroundcolor": "rgb(17,17,17)",
            "gridcolor": "#506784",
            "gridwidth": 2,
            "linecolor": "#506784",
            "showbackground": true,
            "ticks": "",
            "zerolinecolor": "#C8D4E3"
           }
          },
          "shapedefaults": {
           "line": {
            "color": "#f2f5fa"
           }
          },
          "sliderdefaults": {
           "bgcolor": "#C8D4E3",
           "bordercolor": "rgb(17,17,17)",
           "borderwidth": 1,
           "tickwidth": 0
          },
          "ternary": {
           "aaxis": {
            "gridcolor": "#506784",
            "linecolor": "#506784",
            "ticks": ""
           },
           "baxis": {
            "gridcolor": "#506784",
            "linecolor": "#506784",
            "ticks": ""
           },
           "bgcolor": "rgb(17,17,17)",
           "caxis": {
            "gridcolor": "#506784",
            "linecolor": "#506784",
            "ticks": ""
           }
          },
          "title": {
           "x": 0.05
          },
          "updatemenudefaults": {
           "bgcolor": "#506784",
           "borderwidth": 0
          },
          "xaxis": {
           "automargin": true,
           "gridcolor": "#283442",
           "linecolor": "#506784",
           "ticks": "",
           "title": {
            "standoff": 15
           },
           "zerolinecolor": "#283442",
           "zerolinewidth": 2
          },
          "yaxis": {
           "automargin": true,
           "gridcolor": "#283442",
           "linecolor": "#506784",
           "ticks": "",
           "title": {
            "standoff": 15
           },
           "zerolinecolor": "#283442",
           "zerolinewidth": 2
          }
         }
        },
        "title": {
         "text": "BTCUSDT - D - TA Chart Visualizer"
        },
        "xaxis": {
         "fixedrange": false,
         "rangeslider": {
          "visible": false
         },
         "title": {
          "text": "Time"
         }
        },
        "yaxis": {
         "fixedrange": false,
         "title": {
          "text": "Price"
         },
         "type": "log"
        }
       }
      }
     },
     "metadata": {},
     "output_type": "display_data"
    },
    {
     "name": "stdout",
     "output_type": "stream",
     "text": [
      "\n",
      "======================================================================\n",
      "📊 Visualizing Segment 3/10: BTCUSDT - D\n",
      "   Period: 2021-05-03 00:00 to 2021-11-20 00:00\n",
      "======================================================================\n",
      "Processing 202 candles for BTCUSDT at D interval\n",
      "   Middlewares: ['levels_middleware']\n"
     ]
    },
    {
     "data": {
      "application/vnd.plotly.v1+json": {
       "config": {
        "plotlyServerURL": "https://plot.ly"
       },
       "data": [
        {
         "close": {
          "bdata": "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",
          "dtype": "f8"
         },
         "high": {
          "bdata": "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",
          "dtype": "f8"
         },
         "low": {
          "bdata": "AAAAAKCb60AAAAAA4OvpQAAAAABA2OlAAAAAAHAD60AAAAAA4AHrQAAAAAAA1etAAAAAAOCG60AAAAAAsBXqQAAAAAAAnupAAAAAAAC750AAAAAA4FLmQAAAAACg4OdAAAAAACDC5kAAAAAAQG7lQAAAAADwk+RAAAAAALCp5EAAAAAAQCDcQAAAAADAEOFAAAAAAIBP4EAAAAAAgDLhQAAAAAAgV95AAAAAANDK4EAAAAAAUM7hQAAAAADgd+JAAAAAAAAn4kAAAAAAwPHgQAAAAADAb+BAAAAAAABK4EAAAAAAELDgQAAAAAAAYuFAAAAAAICH4UAAAAAA8CviQAAAAAAgYuFAAAAAAAAB4UAAAAAAcDThQAAAAAAAO+BAAAAAAABB3kAAAAAAwJ7fQAAAAABgfeFAAAAAABCN4UAAAAAAwOjgQAAAAAAw+eBAAAAAAIDu4kAAAAAAgE7jQAAAAACwo+JAAAAAAABD4kAAAAAA4CrhQAAAAAAA/uBAAAAAAEBH4EAAAAAAYIjeQAAAAACAGdxAAAAAAAD23kAAAAAAoJLfQAAAAAAAkd5AAAAAAEBl3UAAAAAAADnfQAAAAAAgjuBAAAAAAAC44EAAAAAAQKDgQAAAAACA8d9AAAAAAMDt30AAAAAAYEfgQAAAAABAyOBAAAAAAOAr4EAAAAAAAF3gQAAAAADAgeBAAAAAAEBW30AAAAAAIIbfQAAAAABAHuBAAAAAAGBH4EAAAAAAAO/fQAAAAABgdd9AAAAAAIDa3kAAAAAAAG7eQAAAAAAAVN5AAAAAAOBw3kAAAAAAgGTeQAAAAAAAs91AAAAAACCW3EAAAAAAQNHcQAAAAABg+95AAAAAAABH30AAAAAAcFDgQAAAAACghOBAAAAAANAs4UAAAAAAkMXhQAAAAADg5+JAAAAAAEAq40AAAAAAILTiQAAAAAAAB+RAAAAAAKA740AAAAAAwODiQAAAAAAgW+JAAAAAAPA/4kAAAAAAIDTiQAAAAADAd+NAAAAAAACv5EAAAAAAACPlQAAAAAAA5uRAAAAAAGDP5UAAAAAAgCTmQAAAAABAZOVAAAAAAICX5UAAAAAAwHjmQAAAAADAOOZAAAAAACBS5kAAAAAAgLDlQAAAAACAoeVAAAAAAAB85UAAAAAA0MXmQAAAAABAj+dAAAAAANBs50AAAAAAkPTnQAAAAABgQedAAAAAAAAM50AAAAAAgJvmQAAAAAAAqOZAAAAAAGCj50AAAAAAsFXnQAAAAACA5+ZAAAAAAADL5kAAAAAAIL/mQAAAAAAgtudAAAAAAACi50AAAAAAwCLoQAAAAADAMehAAAAAAHDx6EAAAAAAQKvkQAAAAACAs+VAAAAAAIA35kAAAAAA4I7lQAAAAACA2uVAAAAAAIDc5UAAAAAA8BflQAAAAADAyeVAAAAAAGDN5kAAAAAA4PnmQAAAAACA2OZAAAAAAKD65kAAAAAAAOTmQAAAAACAwORAAAAAAABM40AAAAAAkM7jQAAAAABABuVAAAAAAPDY40AAAAAAYFjkQAAAAADQ5eNAAAAAAMCP5EAAAAAAwPLjQAAAAAAQ4+NAAAAAAMA35EAAAAAAICHlQAAAAADgKedAAAAAAED/5kAAAAAA0ObmQAAAAACQ6+dAAAAAAHCU6EAAAAAAoA3qQAAAAADAL+pAAAAAAKA66kAAAAAA4G7qQAAAAAAAnOpAAAAAAIA46kAAAAAAMH/qQAAAAABgtetAAAAAAIDI60AAAAAAIGftQAAAAABwtuxAAAAAAKBB7UAAAAAA8PbtQAAAAACgAe9AAAAAAAA37kAAAAAAgFjtQAAAAAAgHe1AAAAAAAAI7UAAAAAAkKTtQAAAAAAAPu1AAAAAAPBH7EAAAAAAgBDsQAAAAADgWe1AAAAAAICj7UAAAAAAAEztQAAAAACABu1AAAAAAGCf7UAAAAAAoFXtQAAAAACAmu1AAAAAAICr7UAAAAAAwF7tQAAAAABA+O1AAAAAAPDj7kAAAAAAoCzwQAAAAAAQhu5AAAAAAOBP70AAAAAAwHHuQAAAAAAw9u5AAAAAAEAU70AAAAAAoOzuQAAAAACAkOxAAAAAAMB97EAAAAAAYJTrQAAAAAAwLutAAAAAAHD560A=",
          "dtype": "f8"
         },
         "name": "Candlestick",
         "open": {
          "bdata": "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",
          "dtype": "f8"
         },
         "showlegend": false,
         "type": "candlestick",
         "x": [
          "2021-05-03T00:00:00.000000000",
          "2021-05-04T00:00:00.000000000",
          "2021-05-05T00:00:00.000000000",
          "2021-05-06T00:00:00.000000000",
          "2021-05-07T00:00:00.000000000",
          "2021-05-08T00:00:00.000000000",
          "2021-05-09T00:00:00.000000000",
          "2021-05-10T00:00:00.000000000",
          "2021-05-11T00:00:00.000000000",
          "2021-05-12T00:00:00.000000000",
          "2021-05-13T00:00:00.000000000",
          "2021-05-14T00:00:00.000000000",
          "2021-05-15T00:00:00.000000000",
          "2021-05-16T00:00:00.000000000",
          "2021-05-17T00:00:00.000000000",
          "2021-05-18T00:00:00.000000000",
          "2021-05-19T00:00:00.000000000",
          "2021-05-20T00:00:00.000000000",
          "2021-05-21T00:00:00.000000000",
          "2021-05-22T00:00:00.000000000",
          "2021-05-23T00:00:00.000000000",
          "2021-05-24T00:00:00.000000000",
          "2021-05-25T00:00:00.000000000",
          "2021-05-26T00:00:00.000000000",
          "2021-05-27T00:00:00.000000000",
          "2021-05-28T00:00:00.000000000",
          "2021-05-29T00:00:00.000000000",
          "2021-05-30T00:00:00.000000000",
          "2021-05-31T00:00:00.000000000",
          "2021-06-01T00:00:00.000000000",
          "2021-06-02T00:00:00.000000000",
          "2021-06-03T00:00:00.000000000",
          "2021-06-04T00:00:00.000000000",
          "2021-06-05T00:00:00.000000000",
          "2021-06-06T00:00:00.000000000",
          "2021-06-07T00:00:00.000000000",
          "2021-06-08T00:00:00.000000000",
          "2021-06-09T00:00:00.000000000",
          "2021-06-10T00:00:00.000000000",
          "2021-06-11T00:00:00.000000000",
          "2021-06-12T00:00:00.000000000",
          "2021-06-13T00:00:00.000000000",
          "2021-06-14T00:00:00.000000000",
          "2021-06-15T00:00:00.000000000",
          "2021-06-16T00:00:00.000000000",
          "2021-06-17T00:00:00.000000000",
          "2021-06-18T00:00:00.000000000",
          "2021-06-19T00:00:00.000000000",
          "2021-06-20T00:00:00.000000000",
          "2021-06-21T00:00:00.000000000",
          "2021-06-22T00:00:00.000000000",
          "2021-06-23T00:00:00.000000000",
          "2021-06-24T00:00:00.000000000",
          "2021-06-25T00:00:00.000000000",
          "2021-06-26T00:00:00.000000000",
          "2021-06-27T00:00:00.000000000",
          "2021-06-28T00:00:00.000000000",
          "2021-06-29T00:00:00.000000000",
          "2021-06-30T00:00:00.000000000",
          "2021-07-01T00:00:00.000000000",
          "2021-07-02T00:00:00.000000000",
          "2021-07-03T00:00:00.000000000",
          "2021-07-04T00:00:00.000000000",
          "2021-07-05T00:00:00.000000000",
          "2021-07-06T00:00:00.000000000",
          "2021-07-07T00:00:00.000000000",
          "2021-07-08T00:00:00.000000000",
          "2021-07-09T00:00:00.000000000",
          "2021-07-10T00:00:00.000000000",
          "2021-07-11T00:00:00.000000000",
          "2021-07-12T00:00:00.000000000",
          "2021-07-13T00:00:00.000000000",
          "2021-07-14T00:00:00.000000000",
          "2021-07-15T00:00:00.000000000",
          "2021-07-16T00:00:00.000000000",
          "2021-07-17T00:00:00.000000000",
          "2021-07-18T00:00:00.000000000",
          "2021-07-19T00:00:00.000000000",
          "2021-07-20T00:00:00.000000000",
          "2021-07-21T00:00:00.000000000",
          "2021-07-22T00:00:00.000000000",
          "2021-07-23T00:00:00.000000000",
          "2021-07-24T00:00:00.000000000",
          "2021-07-25T00:00:00.000000000",
          "2021-07-26T00:00:00.000000000",
          "2021-07-27T00:00:00.000000000",
          "2021-07-28T00:00:00.000000000",
          "2021-07-29T00:00:00.000000000",
          "2021-07-30T00:00:00.000000000",
          "2021-07-31T00:00:00.000000000",
          "2021-08-01T00:00:00.000000000",
          "2021-08-02T00:00:00.000000000",
          "2021-08-03T00:00:00.000000000",
          "2021-08-04T00:00:00.000000000",
          "2021-08-05T00:00:00.000000000",
          "2021-08-06T00:00:00.000000000",
          "2021-08-07T00:00:00.000000000",
          "2021-08-08T00:00:00.000000000",
          "2021-08-09T00:00:00.000000000",
          "2021-08-10T00:00:00.000000000",
          "2021-08-11T00:00:00.000000000",
          "2021-08-12T00:00:00.000000000",
          "2021-08-13T00:00:00.000000000",
          "2021-08-14T00:00:00.000000000",
          "2021-08-15T00:00:00.000000000",
          "2021-08-16T00:00:00.000000000",
          "2021-08-17T00:00:00.000000000",
          "2021-08-18T00:00:00.000000000",
          "2021-08-19T00:00:00.000000000",
          "2021-08-20T00:00:00.000000000",
          "2021-08-21T00:00:00.000000000",
          "2021-08-22T00:00:00.000000000",
          "2021-08-23T00:00:00.000000000",
          "2021-08-24T00:00:00.000000000",
          "2021-08-25T00:00:00.000000000",
          "2021-08-26T00:00:00.000000000",
          "2021-08-27T00:00:00.000000000",
          "2021-08-28T00:00:00.000000000",
          "2021-08-29T00:00:00.000000000",
          "2021-08-30T00:00:00.000000000",
          "2021-08-31T00:00:00.000000000",
          "2021-09-01T00:00:00.000000000",
          "2021-09-02T00:00:00.000000000",
          "2021-09-03T00:00:00.000000000",
          "2021-09-04T00:00:00.000000000",
          "2021-09-05T00:00:00.000000000",
          "2021-09-06T00:00:00.000000000",
          "2021-09-07T00:00:00.000000000",
          "2021-09-08T00:00:00.000000000",
          "2021-09-09T00:00:00.000000000",
          "2021-09-10T00:00:00.000000000",
          "2021-09-11T00:00:00.000000000",
          "2021-09-12T00:00:00.000000000",
          "2021-09-13T00:00:00.000000000",
          "2021-09-14T00:00:00.000000000",
          "2021-09-15T00:00:00.000000000",
          "2021-09-16T00:00:00.000000000",
          "2021-09-17T00:00:00.000000000",
          "2021-09-18T00:00:00.000000000",
          "2021-09-19T00:00:00.000000000",
          "2021-09-20T00:00:00.000000000",
          "2021-09-21T00:00:00.000000000",
          "2021-09-22T00:00:00.000000000",
          "2021-09-23T00:00:00.000000000",
          "2021-09-24T00:00:00.000000000",
          "2021-09-25T00:00:00.000000000",
          "2021-09-26T00:00:00.000000000",
          "2021-09-27T00:00:00.000000000",
          "2021-09-28T00:00:00.000000000",
          "2021-09-29T00:00:00.000000000",
          "2021-09-30T00:00:00.000000000",
          "2021-10-01T00:00:00.000000000",
          "2021-10-02T00:00:00.000000000",
          "2021-10-03T00:00:00.000000000",
          "2021-10-04T00:00:00.000000000",
          "2021-10-05T00:00:00.000000000",
          "2021-10-06T00:00:00.000000000",
          "2021-10-07T00:00:00.000000000",
          "2021-10-08T00:00:00.000000000",
          "2021-10-09T00:00:00.000000000",
          "2021-10-10T00:00:00.000000000",
          "2021-10-11T00:00:00.000000000",
          "2021-10-12T00:00:00.000000000",
          "2021-10-13T00:00:00.000000000",
          "2021-10-14T00:00:00.000000000",
          "2021-10-15T00:00:00.000000000",
          "2021-10-16T00:00:00.000000000",
          "2021-10-17T00:00:00.000000000",
          "2021-10-18T00:00:00.000000000",
          "2021-10-19T00:00:00.000000000",
          "2021-10-20T00:00:00.000000000",
          "2021-10-21T00:00:00.000000000",
          "2021-10-22T00:00:00.000000000",
          "2021-10-23T00:00:00.000000000",
          "2021-10-24T00:00:00.000000000",
          "2021-10-25T00:00:00.000000000",
          "2021-10-26T00:00:00.000000000",
          "2021-10-27T00:00:00.000000000",
          "2021-10-28T00:00:00.000000000",
          "2021-10-29T00:00:00.000000000",
          "2021-10-30T00:00:00.000000000",
          "2021-10-31T00:00:00.000000000",
          "2021-11-01T00:00:00.000000000",
          "2021-11-02T00:00:00.000000000",
          "2021-11-03T00:00:00.000000000",
          "2021-11-04T00:00:00.000000000",
          "2021-11-05T00:00:00.000000000",
          "2021-11-06T00:00:00.000000000",
          "2021-11-07T00:00:00.000000000",
          "2021-11-08T00:00:00.000000000",
          "2021-11-09T00:00:00.000000000",
          "2021-11-10T00:00:00.000000000",
          "2021-11-11T00:00:00.000000000",
          "2021-11-12T00:00:00.000000000",
          "2021-11-13T00:00:00.000000000",
          "2021-11-14T00:00:00.000000000",
          "2021-11-15T00:00:00.000000000",
          "2021-11-16T00:00:00.000000000",
          "2021-11-17T00:00:00.000000000",
          "2021-11-18T00:00:00.000000000",
          "2021-11-19T00:00:00.000000000",
          "2021-11-20T00:00:00.000000000"
         ]
        },
        {
         "line": {
          "color": "orange",
          "dash": "dash",
          "width": 2
         },
         "mode": "lines",
         "name": "line_close_D",
         "showlegend": true,
         "type": "scatter",
         "x": [
          "2021-07-20T00:00:00",
          "2021-11-20T00:00:00"
         ],
         "y": [
          29765,
          29765
         ]
        },
        {
         "line": {
          "color": "orange",
          "dash": "dash",
          "width": 2
         },
         "mode": "lines",
         "name": "line_close_D",
         "showlegend": true,
         "type": "scatter",
         "x": [
          "2021-09-28T00:00:00",
          "2021-11-20T00:00:00"
         ],
         "y": [
          41006.5,
          41006.5
         ]
        },
        {
         "line": {
          "color": "orange",
          "dash": "dash",
          "width": 2
         },
         "mode": "lines",
         "name": "line_close_D",
         "showlegend": true,
         "type": "scatter",
         "x": [
          "2021-11-14T00:00:00",
          "2021-11-20T00:00:00"
         ],
         "y": [
          65529.5,
          65529.5
         ]
        },
        {
         "line": {
          "color": "orange",
          "dash": "dash",
          "width": 2
         },
         "mode": "lines",
         "name": "line_close_D",
         "showlegend": true,
         "type": "scatter",
         "x": [
          "2021-11-17T00:00:00",
          "2021-11-20T00:00:00"
         ],
         "y": [
          60370.5,
          60370.5
         ]
        },
        {
         "line": {
          "color": "orange",
          "dash": "dash",
          "width": 2
         },
         "mode": "lines",
         "name": "line_close_D",
         "showlegend": true,
         "type": "scatter",
         "x": [
          "2021-11-18T00:00:00",
          "2021-11-20T00:00:00"
         ],
         "y": [
          56932.5,
          56932.5
         ]
        },
        {
         "line": {
          "color": "orange",
          "dash": "dash",
          "width": 2
         },
         "mode": "lines",
         "name": "max_level_D",
         "showlegend": true,
         "type": "scatter",
         "x": [
          "2021-05-03T00:00:00",
          "2021-11-20T00:00:00"
         ],
         "y": [
          69138.5,
          69138.5
         ]
        },
        {
         "line": {
          "color": "orange",
          "dash": "dash",
          "width": 2
         },
         "mode": "lines",
         "name": "min_level_D",
         "showlegend": true,
         "type": "scatter",
         "x": [
          "2021-05-03T00:00:00",
          "2021-11-20T00:00:00"
         ],
         "y": [
          28774,
          28774
         ]
        }
       ],
       "layout": {
        "height": 800,
        "showlegend": false,
        "template": {
         "data": {
          "bar": [
           {
            "error_x": {
             "color": "#f2f5fa"
            },
            "error_y": {
             "color": "#f2f5fa"
            },
            "marker": {
             "line": {
              "color": "rgb(17,17,17)",
              "width": 0.5
             },
             "pattern": {
              "fillmode": "overlay",
              "size": 10,
              "solidity": 0.2
             }
            },
            "type": "bar"
           }
          ],
          "barpolar": [
           {
            "marker": {
             "line": {
              "color": "rgb(17,17,17)",
              "width": 0.5
             },
             "pattern": {
              "fillmode": "overlay",
              "size": 10,
              "solidity": 0.2
             }
            },
            "type": "barpolar"
           }
          ],
          "carpet": [
           {
            "aaxis": {
             "endlinecolor": "#A2B1C6",
             "gridcolor": "#506784",
             "linecolor": "#506784",
             "minorgridcolor": "#506784",
             "startlinecolor": "#A2B1C6"
            },
            "baxis": {
             "endlinecolor": "#A2B1C6",
             "gridcolor": "#506784",
             "linecolor": "#506784",
             "minorgridcolor": "#506784",
             "startlinecolor": "#A2B1C6"
            },
            "type": "carpet"
           }
          ],
          "choropleth": [
           {
            "colorbar": {
             "outlinewidth": 0,
             "ticks": ""
            },
            "type": "choropleth"
           }
          ],
          "contour": [
           {
            "colorbar": {
             "outlinewidth": 0,
             "ticks": ""
            },
            "colorscale": [
             [
              0,
              "#0d0887"
             ],
             [
              0.1111111111111111,
              "#46039f"
             ],
             [
              0.2222222222222222,
              "#7201a8"
             ],
             [
              0.3333333333333333,
              "#9c179e"
             ],
             [
              0.4444444444444444,
              "#bd3786"
             ],
             [
              0.5555555555555556,
              "#d8576b"
             ],
             [
              0.6666666666666666,
              "#ed7953"
             ],
             [
              0.7777777777777778,
              "#fb9f3a"
             ],
             [
              0.8888888888888888,
              "#fdca26"
             ],
             [
              1,
              "#f0f921"
             ]
            ],
            "type": "contour"
           }
          ],
          "contourcarpet": [
           {
            "colorbar": {
             "outlinewidth": 0,
             "ticks": ""
            },
            "type": "contourcarpet"
           }
          ],
          "heatmap": [
           {
            "colorbar": {
             "outlinewidth": 0,
             "ticks": ""
            },
            "colorscale": [
             [
              0,
              "#0d0887"
             ],
             [
              0.1111111111111111,
              "#46039f"
             ],
             [
              0.2222222222222222,
              "#7201a8"
             ],
             [
              0.3333333333333333,
              "#9c179e"
             ],
             [
              0.4444444444444444,
              "#bd3786"
             ],
             [
              0.5555555555555556,
              "#d8576b"
             ],
             [
              0.6666666666666666,
              "#ed7953"
             ],
             [
              0.7777777777777778,
              "#fb9f3a"
             ],
             [
              0.8888888888888888,
              "#fdca26"
             ],
             [
              1,
              "#f0f921"
             ]
            ],
            "type": "heatmap"
           }
          ],
          "histogram": [
           {
            "marker": {
             "pattern": {
              "fillmode": "overlay",
              "size": 10,
              "solidity": 0.2
             }
            },
            "type": "histogram"
           }
          ],
          "histogram2d": [
           {
            "colorbar": {
             "outlinewidth": 0,
             "ticks": ""
            },
            "colorscale": [
             [
              0,
              "#0d0887"
             ],
             [
              0.1111111111111111,
              "#46039f"
             ],
             [
              0.2222222222222222,
              "#7201a8"
             ],
             [
              0.3333333333333333,
              "#9c179e"
             ],
             [
              0.4444444444444444,
              "#bd3786"
             ],
             [
              0.5555555555555556,
              "#d8576b"
             ],
             [
              0.6666666666666666,
              "#ed7953"
             ],
             [
              0.7777777777777778,
              "#fb9f3a"
             ],
             [
              0.8888888888888888,
              "#fdca26"
             ],
             [
              1,
              "#f0f921"
             ]
            ],
            "type": "histogram2d"
           }
          ],
          "histogram2dcontour": [
           {
            "colorbar": {
             "outlinewidth": 0,
             "ticks": ""
            },
            "colorscale": [
             [
              0,
              "#0d0887"
             ],
             [
              0.1111111111111111,
              "#46039f"
             ],
             [
              0.2222222222222222,
              "#7201a8"
             ],
             [
              0.3333333333333333,
              "#9c179e"
             ],
             [
              0.4444444444444444,
              "#bd3786"
             ],
             [
              0.5555555555555556,
              "#d8576b"
             ],
             [
              0.6666666666666666,
              "#ed7953"
             ],
             [
              0.7777777777777778,
              "#fb9f3a"
             ],
             [
              0.8888888888888888,
              "#fdca26"
             ],
             [
              1,
              "#f0f921"
             ]
            ],
            "type": "histogram2dcontour"
           }
          ],
          "mesh3d": [
           {
            "colorbar": {
             "outlinewidth": 0,
             "ticks": ""
            },
            "type": "mesh3d"
           }
          ],
          "parcoords": [
           {
            "line": {
             "colorbar": {
              "outlinewidth": 0,
              "ticks": ""
             }
            },
            "type": "parcoords"
           }
          ],
          "pie": [
           {
            "automargin": true,
            "type": "pie"
           }
          ],
          "scatter": [
           {
            "marker": {
             "line": {
              "color": "#283442"
             }
            },
            "type": "scatter"
           }
          ],
          "scatter3d": [
           {
            "line": {
             "colorbar": {
              "outlinewidth": 0,
              "ticks": ""
             }
            },
            "marker": {
             "colorbar": {
              "outlinewidth": 0,
              "ticks": ""
             }
            },
            "type": "scatter3d"
           }
          ],
          "scattercarpet": [
           {
            "marker": {
             "colorbar": {
              "outlinewidth": 0,
              "ticks": ""
             }
            },
            "type": "scattercarpet"
           }
          ],
          "scattergeo": [
           {
            "marker": {
             "colorbar": {
              "outlinewidth": 0,
              "ticks": ""
             }
            },
            "type": "scattergeo"
           }
          ],
          "scattergl": [
           {
            "marker": {
             "line": {
              "color": "#283442"
             }
            },
            "type": "scattergl"
           }
          ],
          "scattermap": [
           {
            "marker": {
             "colorbar": {
              "outlinewidth": 0,
              "ticks": ""
             }
            },
            "type": "scattermap"
           }
          ],
          "scattermapbox": [
           {
            "marker": {
             "colorbar": {
              "outlinewidth": 0,
              "ticks": ""
             }
            },
            "type": "scattermapbox"
           }
          ],
          "scatterpolar": [
           {
            "marker": {
             "colorbar": {
              "outlinewidth": 0,
              "ticks": ""
             }
            },
            "type": "scatterpolar"
           }
          ],
          "scatterpolargl": [
           {
            "marker": {
             "colorbar": {
              "outlinewidth": 0,
              "ticks": ""
             }
            },
            "type": "scatterpolargl"
           }
          ],
          "scatterternary": [
           {
            "marker": {
             "colorbar": {
              "outlinewidth": 0,
              "ticks": ""
             }
            },
            "type": "scatterternary"
           }
          ],
          "surface": [
           {
            "colorbar": {
             "outlinewidth": 0,
             "ticks": ""
            },
            "colorscale": [
             [
              0,
              "#0d0887"
             ],
             [
              0.1111111111111111,
              "#46039f"
             ],
             [
              0.2222222222222222,
              "#7201a8"
             ],
             [
              0.3333333333333333,
              "#9c179e"
             ],
             [
              0.4444444444444444,
              "#bd3786"
             ],
             [
              0.5555555555555556,
              "#d8576b"
             ],
             [
              0.6666666666666666,
              "#ed7953"
             ],
             [
              0.7777777777777778,
              "#fb9f3a"
             ],
             [
              0.8888888888888888,
              "#fdca26"
             ],
             [
              1,
              "#f0f921"
             ]
            ],
            "type": "surface"
           }
          ],
          "table": [
           {
            "cells": {
             "fill": {
              "color": "#506784"
             },
             "line": {
              "color": "rgb(17,17,17)"
             }
            },
            "header": {
             "fill": {
              "color": "#2a3f5f"
             },
             "line": {
              "color": "rgb(17,17,17)"
             }
            },
            "type": "table"
           }
          ]
         },
         "layout": {
          "annotationdefaults": {
           "arrowcolor": "#f2f5fa",
           "arrowhead": 0,
           "arrowwidth": 1
          },
          "autotypenumbers": "strict",
          "coloraxis": {
           "colorbar": {
            "outlinewidth": 0,
            "ticks": ""
           }
          },
          "colorscale": {
           "diverging": [
            [
             0,
             "#8e0152"
            ],
            [
             0.1,
             "#c51b7d"
            ],
            [
             0.2,
             "#de77ae"
            ],
            [
             0.3,
             "#f1b6da"
            ],
            [
             0.4,
             "#fde0ef"
            ],
            [
             0.5,
             "#f7f7f7"
            ],
            [
             0.6,
             "#e6f5d0"
            ],
            [
             0.7,
             "#b8e186"
            ],
            [
             0.8,
             "#7fbc41"
            ],
            [
             0.9,
             "#4d9221"
            ],
            [
             1,
             "#276419"
            ]
           ],
           "sequential": [
            [
             0,
             "#0d0887"
            ],
            [
             0.1111111111111111,
             "#46039f"
            ],
            [
             0.2222222222222222,
             "#7201a8"
            ],
            [
             0.3333333333333333,
             "#9c179e"
            ],
            [
             0.4444444444444444,
             "#bd3786"
            ],
            [
             0.5555555555555556,
             "#d8576b"
            ],
            [
             0.6666666666666666,
             "#ed7953"
            ],
            [
             0.7777777777777778,
             "#fb9f3a"
            ],
            [
             0.8888888888888888,
             "#fdca26"
            ],
            [
             1,
             "#f0f921"
            ]
           ],
           "sequentialminus": [
            [
             0,
             "#0d0887"
            ],
            [
             0.1111111111111111,
             "#46039f"
            ],
            [
             0.2222222222222222,
             "#7201a8"
            ],
            [
             0.3333333333333333,
             "#9c179e"
            ],
            [
             0.4444444444444444,
             "#bd3786"
            ],
            [
             0.5555555555555556,
             "#d8576b"
            ],
            [
             0.6666666666666666,
             "#ed7953"
            ],
            [
             0.7777777777777778,
             "#fb9f3a"
            ],
            [
             0.8888888888888888,
             "#fdca26"
            ],
            [
             1,
             "#f0f921"
            ]
           ]
          },
          "colorway": [
           "#636efa",
           "#EF553B",
           "#00cc96",
           "#ab63fa",
           "#FFA15A",
           "#19d3f3",
           "#FF6692",
           "#B6E880",
           "#FF97FF",
           "#FECB52"
          ],
          "font": {
           "color": "#f2f5fa"
          },
          "geo": {
           "bgcolor": "rgb(17,17,17)",
           "lakecolor": "rgb(17,17,17)",
           "landcolor": "rgb(17,17,17)",
           "showlakes": true,
           "showland": true,
           "subunitcolor": "#506784"
          },
          "hoverlabel": {
           "align": "left"
          },
          "hovermode": "closest",
          "mapbox": {
           "style": "dark"
          },
          "paper_bgcolor": "rgb(17,17,17)",
          "plot_bgcolor": "rgb(17,17,17)",
          "polar": {
           "angularaxis": {
            "gridcolor": "#506784",
            "linecolor": "#506784",
            "ticks": ""
           },
           "bgcolor": "rgb(17,17,17)",
           "radialaxis": {
            "gridcolor": "#506784",
            "linecolor": "#506784",
            "ticks": ""
           }
          },
          "scene": {
           "xaxis": {
            "backgroundcolor": "rgb(17,17,17)",
            "gridcolor": "#506784",
            "gridwidth": 2,
            "linecolor": "#506784",
            "showbackground": true,
            "ticks": "",
            "zerolinecolor": "#C8D4E3"
           },
           "yaxis": {
            "backgroundcolor": "rgb(17,17,17)",
            "gridcolor": "#506784",
            "gridwidth": 2,
            "linecolor": "#506784",
            "showbackground": true,
            "ticks": "",
            "zerolinecolor": "#C8D4E3"
           },
           "zaxis": {
            "backgroundcolor": "rgb(17,17,17)",
            "gridcolor": "#506784",
            "gridwidth": 2,
            "linecolor": "#506784",
            "showbackground": true,
            "ticks": "",
            "zerolinecolor": "#C8D4E3"
           }
          },
          "shapedefaults": {
           "line": {
            "color": "#f2f5fa"
           }
          },
          "sliderdefaults": {
           "bgcolor": "#C8D4E3",
           "bordercolor": "rgb(17,17,17)",
           "borderwidth": 1,
           "tickwidth": 0
          },
          "ternary": {
           "aaxis": {
            "gridcolor": "#506784",
            "linecolor": "#506784",
            "ticks": ""
           },
           "baxis": {
            "gridcolor": "#506784",
            "linecolor": "#506784",
            "ticks": ""
           },
           "bgcolor": "rgb(17,17,17)",
           "caxis": {
            "gridcolor": "#506784",
            "linecolor": "#506784",
            "ticks": ""
           }
          },
          "title": {
           "x": 0.05
          },
          "updatemenudefaults": {
           "bgcolor": "#506784",
           "borderwidth": 0
          },
          "xaxis": {
           "automargin": true,
           "gridcolor": "#283442",
           "linecolor": "#506784",
           "ticks": "",
           "title": {
            "standoff": 15
           },
           "zerolinecolor": "#283442",
           "zerolinewidth": 2
          },
          "yaxis": {
           "automargin": true,
           "gridcolor": "#283442",
           "linecolor": "#506784",
           "ticks": "",
           "title": {
            "standoff": 15
           },
           "zerolinecolor": "#283442",
           "zerolinewidth": 2
          }
         }
        },
        "title": {
         "text": "BTCUSDT - D - TA Chart Visualizer"
        },
        "xaxis": {
         "fixedrange": false,
         "rangeslider": {
          "visible": false
         },
         "title": {
          "text": "Time"
         }
        },
        "yaxis": {
         "fixedrange": false,
         "title": {
          "text": "Price"
         },
         "type": "log"
        }
       }
      }
     },
     "metadata": {},
     "output_type": "display_data"
    },
    {
     "name": "stdout",
     "output_type": "stream",
     "text": [
      "\n",
      "======================================================================\n",
      "📊 Visualizing Segment 4/10: BTCUSDT - D\n",
      "   Period: 2021-11-21 00:00 to 2022-06-10 00:00\n",
      "======================================================================\n",
      "Processing 202 candles for BTCUSDT at D interval\n",
      "   Middlewares: ['levels_middleware']\n"
     ]
    },
    {
     "data": {
      "application/vnd.plotly.v1+json": {
       "config": {
        "plotlyServerURL": "https://plot.ly"
       },
       "data": [
        {
         "close": {
          "bdata": "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",
          "dtype": "f8"
         },
         "high": {
          "bdata": "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",
          "dtype": "f8"
         },
         "low": {
          "bdata": "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",
          "dtype": "f8"
         },
         "name": "Candlestick",
         "open": {
          "bdata": "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",
          "dtype": "f8"
         },
         "showlegend": false,
         "type": "candlestick",
         "x": [
          "2021-11-21T00:00:00.000000000",
          "2021-11-22T00:00:00.000000000",
          "2021-11-23T00:00:00.000000000",
          "2021-11-24T00:00:00.000000000",
          "2021-11-25T00:00:00.000000000",
          "2021-11-26T00:00:00.000000000",
          "2021-11-27T00:00:00.000000000",
          "2021-11-28T00:00:00.000000000",
          "2021-11-29T00:00:00.000000000",
          "2021-11-30T00:00:00.000000000",
          "2021-12-01T00:00:00.000000000",
          "2021-12-02T00:00:00.000000000",
          "2021-12-03T00:00:00.000000000",
          "2021-12-04T00:00:00.000000000",
          "2021-12-05T00:00:00.000000000",
          "2021-12-06T00:00:00.000000000",
          "2021-12-07T00:00:00.000000000",
          "2021-12-08T00:00:00.000000000",
          "2021-12-09T00:00:00.000000000",
          "2021-12-10T00:00:00.000000000",
          "2021-12-11T00:00:00.000000000",
          "2021-12-12T00:00:00.000000000",
          "2021-12-13T00:00:00.000000000",
          "2021-12-14T00:00:00.000000000",
          "2021-12-15T00:00:00.000000000",
          "2021-12-16T00:00:00.000000000",
          "2021-12-17T00:00:00.000000000",
          "2021-12-18T00:00:00.000000000",
          "2021-12-19T00:00:00.000000000",
          "2021-12-20T00:00:00.000000000",
          "2021-12-21T00:00:00.000000000",
          "2021-12-22T00:00:00.000000000",
          "2021-12-23T00:00:00.000000000",
          "2021-12-24T00:00:00.000000000",
          "2021-12-25T00:00:00.000000000",
          "2021-12-26T00:00:00.000000000",
          "2021-12-27T00:00:00.000000000",
          "2021-12-28T00:00:00.000000000",
          "2021-12-29T00:00:00.000000000",
          "2021-12-30T00:00:00.000000000",
          "2021-12-31T00:00:00.000000000",
          "2022-01-01T00:00:00.000000000",
          "2022-01-02T00:00:00.000000000",
          "2022-01-03T00:00:00.000000000",
          "2022-01-04T00:00:00.000000000",
          "2022-01-05T00:00:00.000000000",
          "2022-01-06T00:00:00.000000000",
          "2022-01-07T00:00:00.000000000",
          "2022-01-08T00:00:00.000000000",
          "2022-01-09T00:00:00.000000000",
          "2022-01-10T00:00:00.000000000",
          "2022-01-11T00:00:00.000000000",
          "2022-01-12T00:00:00.000000000",
          "2022-01-13T00:00:00.000000000",
          "2022-01-14T00:00:00.000000000",
          "2022-01-15T00:00:00.000000000",
          "2022-01-16T00:00:00.000000000",
          "2022-01-17T00:00:00.000000000",
          "2022-01-18T00:00:00.000000000",
          "2022-01-19T00:00:00.000000000",
          "2022-01-20T00:00:00.000000000",
          "2022-01-21T00:00:00.000000000",
          "2022-01-22T00:00:00.000000000",
          "2022-01-23T00:00:00.000000000",
          "2022-01-24T00:00:00.000000000",
          "2022-01-25T00:00:00.000000000",
          "2022-01-26T00:00:00.000000000",
          "2022-01-27T00:00:00.000000000",
          "2022-01-28T00:00:00.000000000",
          "2022-01-29T00:00:00.000000000",
          "2022-01-30T00:00:00.000000000",
          "2022-01-31T00:00:00.000000000",
          "2022-02-01T00:00:00.000000000",
          "2022-02-02T00:00:00.000000000",
          "2022-02-03T00:00:00.000000000",
          "2022-02-04T00:00:00.000000000",
          "2022-02-05T00:00:00.000000000",
          "2022-02-06T00:00:00.000000000",
          "2022-02-07T00:00:00.000000000",
          "2022-02-08T00:00:00.000000000",
          "2022-02-09T00:00:00.000000000",
          "2022-02-10T00:00:00.000000000",
          "2022-02-11T00:00:00.000000000",
          "2022-02-12T00:00:00.000000000",
          "2022-02-13T00:00:00.000000000",
          "2022-02-14T00:00:00.000000000",
          "2022-02-15T00:00:00.000000000",
          "2022-02-16T00:00:00.000000000",
          "2022-02-17T00:00:00.000000000",
          "2022-02-18T00:00:00.000000000",
          "2022-02-19T00:00:00.000000000",
          "2022-02-20T00:00:00.000000000",
          "2022-02-21T00:00:00.000000000",
          "2022-02-22T00:00:00.000000000",
          "2022-02-23T00:00:00.000000000",
          "2022-02-24T00:00:00.000000000",
          "2022-02-25T00:00:00.000000000",
          "2022-02-26T00:00:00.000000000",
          "2022-02-27T00:00:00.000000000",
          "2022-02-28T00:00:00.000000000",
          "2022-03-01T00:00:00.000000000",
          "2022-03-02T00:00:00.000000000",
          "2022-03-03T00:00:00.000000000",
          "2022-03-04T00:00:00.000000000",
          "2022-03-05T00:00:00.000000000",
          "2022-03-06T00:00:00.000000000",
          "2022-03-07T00:00:00.000000000",
          "2022-03-08T00:00:00.000000000",
          "2022-03-09T00:00:00.000000000",
          "2022-03-10T00:00:00.000000000",
          "2022-03-11T00:00:00.000000000",
          "2022-03-12T00:00:00.000000000",
          "2022-03-13T00:00:00.000000000",
          "2022-03-14T00:00:00.000000000",
          "2022-03-15T00:00:00.000000000",
          "2022-03-16T00:00:00.000000000",
          "2022-03-17T00:00:00.000000000",
          "2022-03-18T00:00:00.000000000",
          "2022-03-19T00:00:00.000000000",
          "2022-03-20T00:00:00.000000000",
          "2022-03-21T00:00:00.000000000",
          "2022-03-22T00:00:00.000000000",
          "2022-03-23T00:00:00.000000000",
          "2022-03-24T00:00:00.000000000",
          "2022-03-25T00:00:00.000000000",
          "2022-03-26T00:00:00.000000000",
          "2022-03-27T00:00:00.000000000",
          "2022-03-28T00:00:00.000000000",
          "2022-03-29T00:00:00.000000000",
          "2022-03-30T00:00:00.000000000",
          "2022-03-31T00:00:00.000000000",
          "2022-04-01T00:00:00.000000000",
          "2022-04-02T00:00:00.000000000",
          "2022-04-03T00:00:00.000000000",
          "2022-04-04T00:00:00.000000000",
          "2022-04-05T00:00:00.000000000",
          "2022-04-06T00:00:00.000000000",
          "2022-04-07T00:00:00.000000000",
          "2022-04-08T00:00:00.000000000",
          "2022-04-09T00:00:00.000000000",
          "2022-04-10T00:00:00.000000000",
          "2022-04-11T00:00:00.000000000",
          "2022-04-12T00:00:00.000000000",
          "2022-04-13T00:00:00.000000000",
          "2022-04-14T00:00:00.000000000",
          "2022-04-15T00:00:00.000000000",
          "2022-04-16T00:00:00.000000000",
          "2022-04-17T00:00:00.000000000",
          "2022-04-18T00:00:00.000000000",
          "2022-04-19T00:00:00.000000000",
          "2022-04-20T00:00:00.000000000",
          "2022-04-21T00:00:00.000000000",
          "2022-04-22T00:00:00.000000000",
          "2022-04-23T00:00:00.000000000",
          "2022-04-24T00:00:00.000000000",
          "2022-04-25T00:00:00.000000000",
          "2022-04-26T00:00:00.000000000",
          "2022-04-27T00:00:00.000000000",
          "2022-04-28T00:00:00.000000000",
          "2022-04-29T00:00:00.000000000",
          "2022-04-30T00:00:00.000000000",
          "2022-05-01T00:00:00.000000000",
          "2022-05-02T00:00:00.000000000",
          "2022-05-03T00:00:00.000000000",
          "2022-05-04T00:00:00.000000000",
          "2022-05-05T00:00:00.000000000",
          "2022-05-06T00:00:00.000000000",
          "2022-05-07T00:00:00.000000000",
          "2022-05-08T00:00:00.000000000",
          "2022-05-09T00:00:00.000000000",
          "2022-05-10T00:00:00.000000000",
          "2022-05-11T00:00:00.000000000",
          "2022-05-12T00:00:00.000000000",
          "2022-05-13T00:00:00.000000000",
          "2022-05-14T00:00:00.000000000",
          "2022-05-15T00:00:00.000000000",
          "2022-05-16T00:00:00.000000000",
          "2022-05-17T00:00:00.000000000",
          "2022-05-18T00:00:00.000000000",
          "2022-05-19T00:00:00.000000000",
          "2022-05-20T00:00:00.000000000",
          "2022-05-21T00:00:00.000000000",
          "2022-05-22T00:00:00.000000000",
          "2022-05-23T00:00:00.000000000",
          "2022-05-24T00:00:00.000000000",
          "2022-05-25T00:00:00.000000000",
          "2022-05-26T00:00:00.000000000",
          "2022-05-27T00:00:00.000000000",
          "2022-05-28T00:00:00.000000000",
          "2022-05-29T00:00:00.000000000",
          "2022-05-30T00:00:00.000000000",
          "2022-05-31T00:00:00.000000000",
          "2022-06-01T00:00:00.000000000",
          "2022-06-02T00:00:00.000000000",
          "2022-06-03T00:00:00.000000000",
          "2022-06-04T00:00:00.000000000",
          "2022-06-05T00:00:00.000000000",
          "2022-06-06T00:00:00.000000000",
          "2022-06-07T00:00:00.000000000",
          "2022-06-08T00:00:00.000000000",
          "2022-06-09T00:00:00.000000000",
          "2022-06-10T00:00:00.000000000"
         ]
        },
        {
         "line": {
          "color": "orange",
          "dash": "dash",
          "width": 2
         },
         "mode": "lines",
         "name": "line_close_D",
         "showlegend": true,
         "type": "scatter",
         "x": [
          "2021-12-26T00:00:00",
          "2022-06-10T00:00:00"
         ],
         "y": [
          50763,
          50763
         ]
        },
        {
         "line": {
          "color": "orange",
          "dash": "dash",
          "width": 2
         },
         "mode": "lines",
         "name": "line_close_D",
         "showlegend": true,
         "type": "scatter",
         "x": [
          "2022-04-04T00:00:00",
          "2022-06-10T00:00:00"
         ],
         "y": [
          46580.5,
          46580.5
         ]
        },
        {
         "line": {
          "color": "orange",
          "dash": "dash",
          "width": 2
         },
         "mode": "lines",
         "name": "line_close_D",
         "showlegend": true,
         "type": "scatter",
         "x": [
          "2022-04-07T00:00:00",
          "2022-06-10T00:00:00"
         ],
         "y": [
          43427,
          43427
         ]
        },
        {
         "line": {
          "color": "orange",
          "dash": "dash",
          "width": 2
         },
         "mode": "lines",
         "name": "line_close_D",
         "showlegend": true,
         "type": "scatter",
         "x": [
          "2022-04-25T00:00:00",
          "2022-06-10T00:00:00"
         ],
         "y": [
          40400,
          40400
         ]
        },
        {
         "line": {
          "color": "orange",
          "dash": "dash",
          "width": 2
         },
         "mode": "lines",
         "name": "line_close_D",
         "showlegend": true,
         "type": "scatter",
         "x": [
          "2022-05-04T00:00:00",
          "2022-06-10T00:00:00"
         ],
         "y": [
          39696.5,
          39696.5
         ]
        },
        {
         "line": {
          "color": "orange",
          "dash": "dash",
          "width": 2
         },
         "mode": "lines",
         "name": "line_close_D",
         "showlegend": true,
         "type": "scatter",
         "x": [
          "2022-05-27T00:00:00",
          "2022-06-10T00:00:00"
         ],
         "y": [
          28619,
          28619
         ]
        },
        {
         "line": {
          "color": "orange",
          "dash": "dash",
          "width": 2
         },
         "mode": "lines",
         "name": "line_close_D",
         "showlegend": true,
         "type": "scatter",
         "x": [
          "2022-05-31T00:00:00",
          "2022-06-10T00:00:00"
         ],
         "y": [
          31781,
          31781
         ]
        },
        {
         "line": {
          "color": "orange",
          "dash": "dash",
          "width": 2
         },
         "mode": "lines",
         "name": "line_close_D",
         "showlegend": true,
         "type": "scatter",
         "x": [
          "2022-06-06T00:00:00",
          "2022-06-10T00:00:00"
         ],
         "y": [
          31370.5,
          31370.5
         ]
        },
        {
         "line": {
          "color": "orange",
          "dash": "dash",
          "width": 2
         },
         "mode": "lines",
         "name": "max_level_D",
         "showlegend": true,
         "type": "scatter",
         "x": [
          "2021-11-21T00:00:00",
          "2022-06-10T00:00:00"
         ],
         "y": [
          60047.5,
          60047.5
         ]
        },
        {
         "line": {
          "color": "orange",
          "dash": "dash",
          "width": 2
         },
         "mode": "lines",
         "name": "min_level_D",
         "showlegend": true,
         "type": "scatter",
         "x": [
          "2021-11-21T00:00:00",
          "2022-06-10T00:00:00"
         ],
         "y": [
          26536,
          26536
         ]
        }
       ],
       "layout": {
        "height": 800,
        "showlegend": false,
        "template": {
         "data": {
          "bar": [
           {
            "error_x": {
             "color": "#f2f5fa"
            },
            "error_y": {
             "color": "#f2f5fa"
            },
            "marker": {
             "line": {
              "color": "rgb(17,17,17)",
              "width": 0.5
             },
             "pattern": {
              "fillmode": "overlay",
              "size": 10,
              "solidity": 0.2
             }
            },
            "type": "bar"
           }
          ],
          "barpolar": [
           {
            "marker": {
             "line": {
              "color": "rgb(17,17,17)",
              "width": 0.5
             },
             "pattern": {
              "fillmode": "overlay",
              "size": 10,
              "solidity": 0.2
             }
            },
            "type": "barpolar"
           }
          ],
          "carpet": [
           {
            "aaxis": {
             "endlinecolor": "#A2B1C6",
             "gridcolor": "#506784",
             "linecolor": "#506784",
             "minorgridcolor": "#506784",
             "startlinecolor": "#A2B1C6"
            },
            "baxis": {
             "endlinecolor": "#A2B1C6",
             "gridcolor": "#506784",
             "linecolor": "#506784",
             "minorgridcolor": "#506784",
             "startlinecolor": "#A2B1C6"
            },
            "type": "carpet"
           }
          ],
          "choropleth": [
           {
            "colorbar": {
             "outlinewidth": 0,
             "ticks": ""
            },
            "type": "choropleth"
           }
          ],
          "contour": [
           {
            "colorbar": {
             "outlinewidth": 0,
             "ticks": ""
            },
            "colorscale": [
             [
              0,
              "#0d0887"
             ],
             [
              0.1111111111111111,
              "#46039f"
             ],
             [
              0.2222222222222222,
              "#7201a8"
             ],
             [
              0.3333333333333333,
              "#9c179e"
             ],
             [
              0.4444444444444444,
              "#bd3786"
             ],
             [
              0.5555555555555556,
              "#d8576b"
             ],
             [
              0.6666666666666666,
              "#ed7953"
             ],
             [
              0.7777777777777778,
              "#fb9f3a"
             ],
             [
              0.8888888888888888,
              "#fdca26"
             ],
             [
              1,
              "#f0f921"
             ]
            ],
            "type": "contour"
           }
          ],
          "contourcarpet": [
           {
            "colorbar": {
             "outlinewidth": 0,
             "ticks": ""
            },
            "type": "contourcarpet"
           }
          ],
          "heatmap": [
           {
            "colorbar": {
             "outlinewidth": 0,
             "ticks": ""
            },
            "colorscale": [
             [
              0,
              "#0d0887"
             ],
             [
              0.1111111111111111,
              "#46039f"
             ],
             [
              0.2222222222222222,
              "#7201a8"
             ],
             [
              0.3333333333333333,
              "#9c179e"
             ],
             [
              0.4444444444444444,
              "#bd3786"
             ],
             [
              0.5555555555555556,
              "#d8576b"
             ],
             [
              0.6666666666666666,
              "#ed7953"
             ],
             [
              0.7777777777777778,
              "#fb9f3a"
             ],
             [
              0.8888888888888888,
              "#fdca26"
             ],
             [
              1,
              "#f0f921"
             ]
            ],
            "type": "heatmap"
           }
          ],
          "histogram": [
           {
            "marker": {
             "pattern": {
              "fillmode": "overlay",
              "size": 10,
              "solidity": 0.2
             }
            },
            "type": "histogram"
           }
          ],
          "histogram2d": [
           {
            "colorbar": {
             "outlinewidth": 0,
             "ticks": ""
            },
            "colorscale": [
             [
              0,
              "#0d0887"
             ],
             [
              0.1111111111111111,
              "#46039f"
             ],
             [
              0.2222222222222222,
              "#7201a8"
             ],
             [
              0.3333333333333333,
              "#9c179e"
             ],
             [
              0.4444444444444444,
              "#bd3786"
             ],
             [
              0.5555555555555556,
              "#d8576b"
             ],
             [
              0.6666666666666666,
              "#ed7953"
             ],
             [
              0.7777777777777778,
              "#fb9f3a"
             ],
             [
              0.8888888888888888,
              "#fdca26"
             ],
             [
              1,
              "#f0f921"
             ]
            ],
            "type": "histogram2d"
           }
          ],
          "histogram2dcontour": [
           {
            "colorbar": {
             "outlinewidth": 0,
             "ticks": ""
            },
            "colorscale": [
             [
              0,
              "#0d0887"
             ],
             [
              0.1111111111111111,
              "#46039f"
             ],
             [
              0.2222222222222222,
              "#7201a8"
             ],
             [
              0.3333333333333333,
              "#9c179e"
             ],
             [
              0.4444444444444444,
              "#bd3786"
             ],
             [
              0.5555555555555556,
              "#d8576b"
             ],
             [
              0.6666666666666666,
              "#ed7953"
             ],
             [
              0.7777777777777778,
              "#fb9f3a"
             ],
             [
              0.8888888888888888,
              "#fdca26"
             ],
             [
              1,
              "#f0f921"
             ]
            ],
            "type": "histogram2dcontour"
           }
          ],
          "mesh3d": [
           {
            "colorbar": {
             "outlinewidth": 0,
             "ticks": ""
            },
            "type": "mesh3d"
           }
          ],
          "parcoords": [
           {
            "line": {
             "colorbar": {
              "outlinewidth": 0,
              "ticks": ""
             }
            },
            "type": "parcoords"
           }
          ],
          "pie": [
           {
            "automargin": true,
            "type": "pie"
           }
          ],
          "scatter": [
           {
            "marker": {
             "line": {
              "color": "#283442"
             }
            },
            "type": "scatter"
           }
          ],
          "scatter3d": [
           {
            "line": {
             "colorbar": {
              "outlinewidth": 0,
              "ticks": ""
             }
            },
            "marker": {
             "colorbar": {
              "outlinewidth": 0,
              "ticks": ""
             }
            },
            "type": "scatter3d"
           }
          ],
          "scattercarpet": [
           {
            "marker": {
             "colorbar": {
              "outlinewidth": 0,
              "ticks": ""
             }
            },
            "type": "scattercarpet"
           }
          ],
          "scattergeo": [
           {
            "marker": {
             "colorbar": {
              "outlinewidth": 0,
              "ticks": ""
             }
            },
            "type": "scattergeo"
           }
          ],
          "scattergl": [
           {
            "marker": {
             "line": {
              "color": "#283442"
             }
            },
            "type": "scattergl"
           }
          ],
          "scattermap": [
           {
            "marker": {
             "colorbar": {
              "outlinewidth": 0,
              "ticks": ""
             }
            },
            "type": "scattermap"
           }
          ],
          "scattermapbox": [
           {
            "marker": {
             "colorbar": {
              "outlinewidth": 0,
              "ticks": ""
             }
            },
            "type": "scattermapbox"
           }
          ],
          "scatterpolar": [
           {
            "marker": {
             "colorbar": {
              "outlinewidth": 0,
              "ticks": ""
             }
            },
            "type": "scatterpolar"
           }
          ],
          "scatterpolargl": [
           {
            "marker": {
             "colorbar": {
              "outlinewidth": 0,
              "ticks": ""
             }
            },
            "type": "scatterpolargl"
           }
          ],
          "scatterternary": [
           {
            "marker": {
             "colorbar": {
              "outlinewidth": 0,
              "ticks": ""
             }
            },
            "type": "scatterternary"
           }
          ],
          "surface": [
           {
            "colorbar": {
             "outlinewidth": 0,
             "ticks": ""
            },
            "colorscale": [
             [
              0,
              "#0d0887"
             ],
             [
              0.1111111111111111,
              "#46039f"
             ],
             [
              0.2222222222222222,
              "#7201a8"
             ],
             [
              0.3333333333333333,
              "#9c179e"
             ],
             [
              0.4444444444444444,
              "#bd3786"
             ],
             [
              0.5555555555555556,
              "#d8576b"
             ],
             [
              0.6666666666666666,
              "#ed7953"
             ],
             [
              0.7777777777777778,
              "#fb9f3a"
             ],
             [
              0.8888888888888888,
              "#fdca26"
             ],
             [
              1,
              "#f0f921"
             ]
            ],
            "type": "surface"
           }
          ],
          "table": [
           {
            "cells": {
             "fill": {
              "color": "#506784"
             },
             "line": {
              "color": "rgb(17,17,17)"
             }
            },
            "header": {
             "fill": {
              "color": "#2a3f5f"
             },
             "line": {
              "color": "rgb(17,17,17)"
             }
            },
            "type": "table"
           }
          ]
         },
         "layout": {
          "annotationdefaults": {
           "arrowcolor": "#f2f5fa",
           "arrowhead": 0,
           "arrowwidth": 1
          },
          "autotypenumbers": "strict",
          "coloraxis": {
           "colorbar": {
            "outlinewidth": 0,
            "ticks": ""
           }
          },
          "colorscale": {
           "diverging": [
            [
             0,
             "#8e0152"
            ],
            [
             0.1,
             "#c51b7d"
            ],
            [
             0.2,
             "#de77ae"
            ],
            [
             0.3,
             "#f1b6da"
            ],
            [
             0.4,
             "#fde0ef"
            ],
            [
             0.5,
             "#f7f7f7"
            ],
            [
             0.6,
             "#e6f5d0"
            ],
            [
             0.7,
             "#b8e186"
            ],
            [
             0.8,
             "#7fbc41"
            ],
            [
             0.9,
             "#4d9221"
            ],
            [
             1,
             "#276419"
            ]
           ],
           "sequential": [
            [
             0,
             "#0d0887"
            ],
            [
             0.1111111111111111,
             "#46039f"
            ],
            [
             0.2222222222222222,
             "#7201a8"
            ],
            [
             0.3333333333333333,
             "#9c179e"
            ],
            [
             0.4444444444444444,
             "#bd3786"
            ],
            [
             0.5555555555555556,
             "#d8576b"
            ],
            [
             0.6666666666666666,
             "#ed7953"
            ],
            [
             0.7777777777777778,
             "#fb9f3a"
            ],
            [
             0.8888888888888888,
             "#fdca26"
            ],
            [
             1,
             "#f0f921"
            ]
           ],
           "sequentialminus": [
            [
             0,
             "#0d0887"
            ],
            [
             0.1111111111111111,
             "#46039f"
            ],
            [
             0.2222222222222222,
             "#7201a8"
            ],
            [
             0.3333333333333333,
             "#9c179e"
            ],
            [
             0.4444444444444444,
             "#bd3786"
            ],
            [
             0.5555555555555556,
             "#d8576b"
            ],
            [
             0.6666666666666666,
             "#ed7953"
            ],
            [
             0.7777777777777778,
             "#fb9f3a"
            ],
            [
             0.8888888888888888,
             "#fdca26"
            ],
            [
             1,
             "#f0f921"
            ]
           ]
          },
          "colorway": [
           "#636efa",
           "#EF553B",
           "#00cc96",
           "#ab63fa",
           "#FFA15A",
           "#19d3f3",
           "#FF6692",
           "#B6E880",
           "#FF97FF",
           "#FECB52"
          ],
          "font": {
           "color": "#f2f5fa"
          },
          "geo": {
           "bgcolor": "rgb(17,17,17)",
           "lakecolor": "rgb(17,17,17)",
           "landcolor": "rgb(17,17,17)",
           "showlakes": true,
           "showland": true,
           "subunitcolor": "#506784"
          },
          "hoverlabel": {
           "align": "left"
          },
          "hovermode": "closest",
          "mapbox": {
           "style": "dark"
          },
          "paper_bgcolor": "rgb(17,17,17)",
          "plot_bgcolor": "rgb(17,17,17)",
          "polar": {
           "angularaxis": {
            "gridcolor": "#506784",
            "linecolor": "#506784",
            "ticks": ""
           },
           "bgcolor": "rgb(17,17,17)",
           "radialaxis": {
            "gridcolor": "#506784",
            "linecolor": "#506784",
            "ticks": ""
           }
          },
          "scene": {
           "xaxis": {
            "backgroundcolor": "rgb(17,17,17)",
            "gridcolor": "#506784",
            "gridwidth": 2,
            "linecolor": "#506784",
            "showbackground": true,
            "ticks": "",
            "zerolinecolor": "#C8D4E3"
           },
           "yaxis": {
            "backgroundcolor": "rgb(17,17,17)",
            "gridcolor": "#506784",
            "gridwidth": 2,
            "linecolor": "#506784",
            "showbackground": true,
            "ticks": "",
            "zerolinecolor": "#C8D4E3"
           },
           "zaxis": {
            "backgroundcolor": "rgb(17,17,17)",
            "gridcolor": "#506784",
            "gridwidth": 2,
            "linecolor": "#506784",
            "showbackground": true,
            "ticks": "",
            "zerolinecolor": "#C8D4E3"
           }
          },
          "shapedefaults": {
           "line": {
            "color": "#f2f5fa"
           }
          },
          "sliderdefaults": {
           "bgcolor": "#C8D4E3",
           "bordercolor": "rgb(17,17,17)",
           "borderwidth": 1,
           "tickwidth": 0
          },
          "ternary": {
           "aaxis": {
            "gridcolor": "#506784",
            "linecolor": "#506784",
            "ticks": ""
           },
           "baxis": {
            "gridcolor": "#506784",
            "linecolor": "#506784",
            "ticks": ""
           },
           "bgcolor": "rgb(17,17,17)",
           "caxis": {
            "gridcolor": "#506784",
            "linecolor": "#506784",
            "ticks": ""
           }
          },
          "title": {
           "x": 0.05
          },
          "updatemenudefaults": {
           "bgcolor": "#506784",
           "borderwidth": 0
          },
          "xaxis": {
           "automargin": true,
           "gridcolor": "#283442",
           "linecolor": "#506784",
           "ticks": "",
           "title": {
            "standoff": 15
           },
           "zerolinecolor": "#283442",
           "zerolinewidth": 2
          },
          "yaxis": {
           "automargin": true,
           "gridcolor": "#283442",
           "linecolor": "#506784",
           "ticks": "",
           "title": {
            "standoff": 15
           },
           "zerolinecolor": "#283442",
           "zerolinewidth": 2
          }
         }
        },
        "title": {
         "text": "BTCUSDT - D - TA Chart Visualizer"
        },
        "xaxis": {
         "fixedrange": false,
         "rangeslider": {
          "visible": false
         },
         "title": {
          "text": "Time"
         }
        },
        "yaxis": {
         "fixedrange": false,
         "title": {
          "text": "Price"
         },
         "type": "log"
        }
       }
      }
     },
     "metadata": {},
     "output_type": "display_data"
    },
    {
     "name": "stdout",
     "output_type": "stream",
     "text": [
      "\n",
      "======================================================================\n",
      "📊 Visualizing Segment 5/10: BTCUSDT - D\n",
      "   Period: 2022-06-11 00:00 to 2022-12-29 00:00\n",
      "======================================================================\n",
      "Processing 202 candles for BTCUSDT at D interval\n",
      "   Middlewares: ['levels_middleware']\n"
     ]
    },
    {
     "data": {
      "application/vnd.plotly.v1+json": {
       "config": {
        "plotlyServerURL": "https://plot.ly"
       },
       "data": [
        {
         "close": {
          "bdata": "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",
          "dtype": "f8"
         },
         "high": {
          "bdata": "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",
          "dtype": "f8"
         },
         "low": {
          "bdata": "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",
          "dtype": "f8"
         },
         "name": "Candlestick",
         "open": {
          "bdata": "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",
          "dtype": "f8"
         },
         "showlegend": false,
         "type": "candlestick",
         "x": [
          "2022-06-11T00:00:00.000000000",
          "2022-06-12T00:00:00.000000000",
          "2022-06-13T00:00:00.000000000",
          "2022-06-14T00:00:00.000000000",
          "2022-06-15T00:00:00.000000000",
          "2022-06-16T00:00:00.000000000",
          "2022-06-17T00:00:00.000000000",
          "2022-06-18T00:00:00.000000000",
          "2022-06-19T00:00:00.000000000",
          "2022-06-20T00:00:00.000000000",
          "2022-06-21T00:00:00.000000000",
          "2022-06-22T00:00:00.000000000",
          "2022-06-23T00:00:00.000000000",
          "2022-06-24T00:00:00.000000000",
          "2022-06-25T00:00:00.000000000",
          "2022-06-26T00:00:00.000000000",
          "2022-06-27T00:00:00.000000000",
          "2022-06-28T00:00:00.000000000",
          "2022-06-29T00:00:00.000000000",
          "2022-06-30T00:00:00.000000000",
          "2022-07-01T00:00:00.000000000",
          "2022-07-02T00:00:00.000000000",
          "2022-07-03T00:00:00.000000000",
          "2022-07-04T00:00:00.000000000",
          "2022-07-05T00:00:00.000000000",
          "2022-07-06T00:00:00.000000000",
          "2022-07-07T00:00:00.000000000",
          "2022-07-08T00:00:00.000000000",
          "2022-07-09T00:00:00.000000000",
          "2022-07-10T00:00:00.000000000",
          "2022-07-11T00:00:00.000000000",
          "2022-07-12T00:00:00.000000000",
          "2022-07-13T00:00:00.000000000",
          "2022-07-14T00:00:00.000000000",
          "2022-07-15T00:00:00.000000000",
          "2022-07-16T00:00:00.000000000",
          "2022-07-17T00:00:00.000000000",
          "2022-07-18T00:00:00.000000000",
          "2022-07-19T00:00:00.000000000",
          "2022-07-20T00:00:00.000000000",
          "2022-07-21T00:00:00.000000000",
          "2022-07-22T00:00:00.000000000",
          "2022-07-23T00:00:00.000000000",
          "2022-07-24T00:00:00.000000000",
          "2022-07-25T00:00:00.000000000",
          "2022-07-26T00:00:00.000000000",
          "2022-07-27T00:00:00.000000000",
          "2022-07-28T00:00:00.000000000",
          "2022-07-29T00:00:00.000000000",
          "2022-07-30T00:00:00.000000000",
          "2022-07-31T00:00:00.000000000",
          "2022-08-01T00:00:00.000000000",
          "2022-08-02T00:00:00.000000000",
          "2022-08-03T00:00:00.000000000",
          "2022-08-04T00:00:00.000000000",
          "2022-08-05T00:00:00.000000000",
          "2022-08-06T00:00:00.000000000",
          "2022-08-07T00:00:00.000000000",
          "2022-08-08T00:00:00.000000000",
          "2022-08-09T00:00:00.000000000",
          "2022-08-10T00:00:00.000000000",
          "2022-08-11T00:00:00.000000000",
          "2022-08-12T00:00:00.000000000",
          "2022-08-13T00:00:00.000000000",
          "2022-08-14T00:00:00.000000000",
          "2022-08-15T00:00:00.000000000",
          "2022-08-16T00:00:00.000000000",
          "2022-08-17T00:00:00.000000000",
          "2022-08-18T00:00:00.000000000",
          "2022-08-19T00:00:00.000000000",
          "2022-08-20T00:00:00.000000000",
          "2022-08-21T00:00:00.000000000",
          "2022-08-22T00:00:00.000000000",
          "2022-08-23T00:00:00.000000000",
          "2022-08-24T00:00:00.000000000",
          "2022-08-25T00:00:00.000000000",
          "2022-08-26T00:00:00.000000000",
          "2022-08-27T00:00:00.000000000",
          "2022-08-28T00:00:00.000000000",
          "2022-08-29T00:00:00.000000000",
          "2022-08-30T00:00:00.000000000",
          "2022-08-31T00:00:00.000000000",
          "2022-09-01T00:00:00.000000000",
          "2022-09-02T00:00:00.000000000",
          "2022-09-03T00:00:00.000000000",
          "2022-09-04T00:00:00.000000000",
          "2022-09-05T00:00:00.000000000",
          "2022-09-06T00:00:00.000000000",
          "2022-09-07T00:00:00.000000000",
          "2022-09-08T00:00:00.000000000",
          "2022-09-09T00:00:00.000000000",
          "2022-09-10T00:00:00.000000000",
          "2022-09-11T00:00:00.000000000",
          "2022-09-12T00:00:00.000000000",
          "2022-09-13T00:00:00.000000000",
          "2022-09-14T00:00:00.000000000",
          "2022-09-15T00:00:00.000000000",
          "2022-09-16T00:00:00.000000000",
          "2022-09-17T00:00:00.000000000",
          "2022-09-18T00:00:00.000000000",
          "2022-09-19T00:00:00.000000000",
          "2022-09-20T00:00:00.000000000",
          "2022-09-21T00:00:00.000000000",
          "2022-09-22T00:00:00.000000000",
          "2022-09-23T00:00:00.000000000",
          "2022-09-24T00:00:00.000000000",
          "2022-09-25T00:00:00.000000000",
          "2022-09-26T00:00:00.000000000",
          "2022-09-27T00:00:00.000000000",
          "2022-09-28T00:00:00.000000000",
          "2022-09-29T00:00:00.000000000",
          "2022-09-30T00:00:00.000000000",
          "2022-10-01T00:00:00.000000000",
          "2022-10-02T00:00:00.000000000",
          "2022-10-03T00:00:00.000000000",
          "2022-10-04T00:00:00.000000000",
          "2022-10-05T00:00:00.000000000",
          "2022-10-06T00:00:00.000000000",
          "2022-10-07T00:00:00.000000000",
          "2022-10-08T00:00:00.000000000",
          "2022-10-09T00:00:00.000000000",
          "2022-10-10T00:00:00.000000000",
          "2022-10-11T00:00:00.000000000",
          "2022-10-12T00:00:00.000000000",
          "2022-10-13T00:00:00.000000000",
          "2022-10-14T00:00:00.000000000",
          "2022-10-15T00:00:00.000000000",
          "2022-10-16T00:00:00.000000000",
          "2022-10-17T00:00:00.000000000",
          "2022-10-18T00:00:00.000000000",
          "2022-10-19T00:00:00.000000000",
          "2022-10-20T00:00:00.000000000",
          "2022-10-21T00:00:00.000000000",
          "2022-10-22T00:00:00.000000000",
          "2022-10-23T00:00:00.000000000",
          "2022-10-24T00:00:00.000000000",
          "2022-10-25T00:00:00.000000000",
          "2022-10-26T00:00:00.000000000",
          "2022-10-27T00:00:00.000000000",
          "2022-10-28T00:00:00.000000000",
          "2022-10-29T00:00:00.000000000",
          "2022-10-30T00:00:00.000000000",
          "2022-10-31T00:00:00.000000000",
          "2022-11-01T00:00:00.000000000",
          "2022-11-02T00:00:00.000000000",
          "2022-11-03T00:00:00.000000000",
          "2022-11-04T00:00:00.000000000",
          "2022-11-05T00:00:00.000000000",
          "2022-11-06T00:00:00.000000000",
          "2022-11-07T00:00:00.000000000",
          "2022-11-08T00:00:00.000000000",
          "2022-11-09T00:00:00.000000000",
          "2022-11-10T00:00:00.000000000",
          "2022-11-11T00:00:00.000000000",
          "2022-11-12T00:00:00.000000000",
          "2022-11-13T00:00:00.000000000",
          "2022-11-14T00:00:00.000000000",
          "2022-11-15T00:00:00.000000000",
          "2022-11-16T00:00:00.000000000",
          "2022-11-17T00:00:00.000000000",
          "2022-11-18T00:00:00.000000000",
          "2022-11-19T00:00:00.000000000",
          "2022-11-20T00:00:00.000000000",
          "2022-11-21T00:00:00.000000000",
          "2022-11-22T00:00:00.000000000",
          "2022-11-23T00:00:00.000000000",
          "2022-11-24T00:00:00.000000000",
          "2022-11-25T00:00:00.000000000",
          "2022-11-26T00:00:00.000000000",
          "2022-11-27T00:00:00.000000000",
          "2022-11-28T00:00:00.000000000",
          "2022-11-29T00:00:00.000000000",
          "2022-11-30T00:00:00.000000000",
          "2022-12-01T00:00:00.000000000",
          "2022-12-02T00:00:00.000000000",
          "2022-12-03T00:00:00.000000000",
          "2022-12-04T00:00:00.000000000",
          "2022-12-05T00:00:00.000000000",
          "2022-12-06T00:00:00.000000000",
          "2022-12-07T00:00:00.000000000",
          "2022-12-08T00:00:00.000000000",
          "2022-12-09T00:00:00.000000000",
          "2022-12-10T00:00:00.000000000",
          "2022-12-11T00:00:00.000000000",
          "2022-12-12T00:00:00.000000000",
          "2022-12-13T00:00:00.000000000",
          "2022-12-14T00:00:00.000000000",
          "2022-12-15T00:00:00.000000000",
          "2022-12-16T00:00:00.000000000",
          "2022-12-17T00:00:00.000000000",
          "2022-12-18T00:00:00.000000000",
          "2022-12-19T00:00:00.000000000",
          "2022-12-20T00:00:00.000000000",
          "2022-12-21T00:00:00.000000000",
          "2022-12-22T00:00:00.000000000",
          "2022-12-23T00:00:00.000000000",
          "2022-12-24T00:00:00.000000000",
          "2022-12-25T00:00:00.000000000",
          "2022-12-26T00:00:00.000000000",
          "2022-12-27T00:00:00.000000000",
          "2022-12-28T00:00:00.000000000",
          "2022-12-29T00:00:00.000000000"
         ]
        },
        {
         "line": {
          "color": "orange",
          "dash": "dash",
          "width": 2
         },
         "mode": "lines",
         "name": "line_close_D",
         "showlegend": true,
         "type": "scatter",
         "x": [
          "2022-09-12T00:00:00",
          "2022-12-29T00:00:00"
         ],
         "y": [
          22388.5,
          22388.5
         ]
        },
        {
         "line": {
          "color": "orange",
          "dash": "dash",
          "width": 2
         },
         "mode": "lines",
         "name": "line_close_D",
         "showlegend": true,
         "type": "scatter",
         "x": [
          "2022-11-05T00:00:00",
          "2022-12-29T00:00:00"
         ],
         "y": [
          21290.5,
          21290.5
         ]
        },
        {
         "line": {
          "color": "orange",
          "dash": "dash",
          "width": 2
         },
         "mode": "lines",
         "name": "line_close_D",
         "showlegend": true,
         "type": "scatter",
         "x": [
          "2022-11-21T00:00:00",
          "2022-12-29T00:00:00"
         ],
         "y": [
          15765.5,
          15765.5
         ]
        },
        {
         "line": {
          "color": "orange",
          "dash": "dash",
          "width": 2
         },
         "mode": "lines",
         "name": "line_close_D",
         "showlegend": true,
         "type": "scatter",
         "x": [
          "2022-12-14T00:00:00",
          "2022-12-29T00:00:00"
         ],
         "y": [
          17790,
          17790
         ]
        },
        {
         "line": {
          "color": "orange",
          "dash": "dash",
          "width": 2
         },
         "mode": "lines",
         "name": "line_close_D",
         "showlegend": true,
         "type": "scatter",
         "x": [
          "2022-12-19T00:00:00",
          "2022-12-29T00:00:00"
         ],
         "y": [
          16432.5,
          16432.5
         ]
        },
        {
         "line": {
          "color": "orange",
          "dash": "dash",
          "width": 2
         },
         "mode": "lines",
         "name": "line_close_D",
         "showlegend": true,
         "type": "scatter",
         "x": [
          "2022-12-26T00:00:00",
          "2022-12-29T00:00:00"
         ],
         "y": [
          16911,
          16911
         ]
        },
        {
         "line": {
          "color": "orange",
          "dash": "dash",
          "width": 2
         },
         "mode": "lines",
         "name": "line_close_D",
         "showlegend": true,
         "type": "scatter",
         "x": [
          "2022-12-28T00:00:00",
          "2022-12-29T00:00:00"
         ],
         "y": [
          16546.5,
          16546.5
         ]
        },
        {
         "line": {
          "color": "orange",
          "dash": "dash",
          "width": 2
         },
         "mode": "lines",
         "name": "max_level_D",
         "showlegend": true,
         "type": "scatter",
         "x": [
          "2022-06-11T00:00:00",
          "2022-12-29T00:00:00"
         ],
         "y": [
          29427,
          29427
         ]
        },
        {
         "line": {
          "color": "orange",
          "dash": "dash",
          "width": 2
         },
         "mode": "lines",
         "name": "min_level_D",
         "showlegend": true,
         "type": "scatter",
         "x": [
          "2022-06-11T00:00:00",
          "2022-12-29T00:00:00"
         ],
         "y": [
          15440,
          15440
         ]
        }
       ],
       "layout": {
        "height": 800,
        "showlegend": false,
        "template": {
         "data": {
          "bar": [
           {
            "error_x": {
             "color": "#f2f5fa"
            },
            "error_y": {
             "color": "#f2f5fa"
            },
            "marker": {
             "line": {
              "color": "rgb(17,17,17)",
              "width": 0.5
             },
             "pattern": {
              "fillmode": "overlay",
              "size": 10,
              "solidity": 0.2
             }
            },
            "type": "bar"
           }
          ],
          "barpolar": [
           {
            "marker": {
             "line": {
              "color": "rgb(17,17,17)",
              "width": 0.5
             },
             "pattern": {
              "fillmode": "overlay",
              "size": 10,
              "solidity": 0.2
             }
            },
            "type": "barpolar"
           }
          ],
          "carpet": [
           {
            "aaxis": {
             "endlinecolor": "#A2B1C6",
             "gridcolor": "#506784",
             "linecolor": "#506784",
             "minorgridcolor": "#506784",
             "startlinecolor": "#A2B1C6"
            },
            "baxis": {
             "endlinecolor": "#A2B1C6",
             "gridcolor": "#506784",
             "linecolor": "#506784",
             "minorgridcolor": "#506784",
             "startlinecolor": "#A2B1C6"
            },
            "type": "carpet"
           }
          ],
          "choropleth": [
           {
            "colorbar": {
             "outlinewidth": 0,
             "ticks": ""
            },
            "type": "choropleth"
           }
          ],
          "contour": [
           {
            "colorbar": {
             "outlinewidth": 0,
             "ticks": ""
            },
            "colorscale": [
             [
              0,
              "#0d0887"
             ],
             [
              0.1111111111111111,
              "#46039f"
             ],
             [
              0.2222222222222222,
              "#7201a8"
             ],
             [
              0.3333333333333333,
              "#9c179e"
             ],
             [
              0.4444444444444444,
              "#bd3786"
             ],
             [
              0.5555555555555556,
              "#d8576b"
             ],
             [
              0.6666666666666666,
              "#ed7953"
             ],
             [
              0.7777777777777778,
              "#fb9f3a"
             ],
             [
              0.8888888888888888,
              "#fdca26"
             ],
             [
              1,
              "#f0f921"
             ]
            ],
            "type": "contour"
           }
          ],
          "contourcarpet": [
           {
            "colorbar": {
             "outlinewidth": 0,
             "ticks": ""
            },
            "type": "contourcarpet"
           }
          ],
          "heatmap": [
           {
            "colorbar": {
             "outlinewidth": 0,
             "ticks": ""
            },
            "colorscale": [
             [
              0,
              "#0d0887"
             ],
             [
              0.1111111111111111,
              "#46039f"
             ],
             [
              0.2222222222222222,
              "#7201a8"
             ],
             [
              0.3333333333333333,
              "#9c179e"
             ],
             [
              0.4444444444444444,
              "#bd3786"
             ],
             [
              0.5555555555555556,
              "#d8576b"
             ],
             [
              0.6666666666666666,
              "#ed7953"
             ],
             [
              0.7777777777777778,
              "#fb9f3a"
             ],
             [
              0.8888888888888888,
              "#fdca26"
             ],
             [
              1,
              "#f0f921"
             ]
            ],
            "type": "heatmap"
           }
          ],
          "histogram": [
           {
            "marker": {
             "pattern": {
              "fillmode": "overlay",
              "size": 10,
              "solidity": 0.2
             }
            },
            "type": "histogram"
           }
          ],
          "histogram2d": [
           {
            "colorbar": {
             "outlinewidth": 0,
             "ticks": ""
            },
            "colorscale": [
             [
              0,
              "#0d0887"
             ],
             [
              0.1111111111111111,
              "#46039f"
             ],
             [
              0.2222222222222222,
              "#7201a8"
             ],
             [
              0.3333333333333333,
              "#9c179e"
             ],
             [
              0.4444444444444444,
              "#bd3786"
             ],
             [
              0.5555555555555556,
              "#d8576b"
             ],
             [
              0.6666666666666666,
              "#ed7953"
             ],
             [
              0.7777777777777778,
              "#fb9f3a"
             ],
             [
              0.8888888888888888,
              "#fdca26"
             ],
             [
              1,
              "#f0f921"
             ]
            ],
            "type": "histogram2d"
           }
          ],
          "histogram2dcontour": [
           {
            "colorbar": {
             "outlinewidth": 0,
             "ticks": ""
            },
            "colorscale": [
             [
              0,
              "#0d0887"
             ],
             [
              0.1111111111111111,
              "#46039f"
             ],
             [
              0.2222222222222222,
              "#7201a8"
             ],
             [
              0.3333333333333333,
              "#9c179e"
             ],
             [
              0.4444444444444444,
              "#bd3786"
             ],
             [
              0.5555555555555556,
              "#d8576b"
             ],
             [
              0.6666666666666666,
              "#ed7953"
             ],
             [
              0.7777777777777778,
              "#fb9f3a"
             ],
             [
              0.8888888888888888,
              "#fdca26"
             ],
             [
              1,
              "#f0f921"
             ]
            ],
            "type": "histogram2dcontour"
           }
          ],
          "mesh3d": [
           {
            "colorbar": {
             "outlinewidth": 0,
             "ticks": ""
            },
            "type": "mesh3d"
           }
          ],
          "parcoords": [
           {
            "line": {
             "colorbar": {
              "outlinewidth": 0,
              "ticks": ""
             }
            },
            "type": "parcoords"
           }
          ],
          "pie": [
           {
            "automargin": true,
            "type": "pie"
           }
          ],
          "scatter": [
           {
            "marker": {
             "line": {
              "color": "#283442"
             }
            },
            "type": "scatter"
           }
          ],
          "scatter3d": [
           {
            "line": {
             "colorbar": {
              "outlinewidth": 0,
              "ticks": ""
             }
            },
            "marker": {
             "colorbar": {
              "outlinewidth": 0,
              "ticks": ""
             }
            },
            "type": "scatter3d"
           }
          ],
          "scattercarpet": [
           {
            "marker": {
             "colorbar": {
              "outlinewidth": 0,
              "ticks": ""
             }
            },
            "type": "scattercarpet"
           }
          ],
          "scattergeo": [
           {
            "marker": {
             "colorbar": {
              "outlinewidth": 0,
              "ticks": ""
             }
            },
            "type": "scattergeo"
           }
          ],
          "scattergl": [
           {
            "marker": {
             "line": {
              "color": "#283442"
             }
            },
            "type": "scattergl"
           }
          ],
          "scattermap": [
           {
            "marker": {
             "colorbar": {
              "outlinewidth": 0,
              "ticks": ""
             }
            },
            "type": "scattermap"
           }
          ],
          "scattermapbox": [
           {
            "marker": {
             "colorbar": {
              "outlinewidth": 0,
              "ticks": ""
             }
            },
            "type": "scattermapbox"
           }
          ],
          "scatterpolar": [
           {
            "marker": {
             "colorbar": {
              "outlinewidth": 0,
              "ticks": ""
             }
            },
            "type": "scatterpolar"
           }
          ],
          "scatterpolargl": [
           {
            "marker": {
             "colorbar": {
              "outlinewidth": 0,
              "ticks": ""
             }
            },
            "type": "scatterpolargl"
           }
          ],
          "scatterternary": [
           {
            "marker": {
             "colorbar": {
              "outlinewidth": 0,
              "ticks": ""
             }
            },
            "type": "scatterternary"
           }
          ],
          "surface": [
           {
            "colorbar": {
             "outlinewidth": 0,
             "ticks": ""
            },
            "colorscale": [
             [
              0,
              "#0d0887"
             ],
             [
              0.1111111111111111,
              "#46039f"
             ],
             [
              0.2222222222222222,
              "#7201a8"
             ],
             [
              0.3333333333333333,
              "#9c179e"
             ],
             [
              0.4444444444444444,
              "#bd3786"
             ],
             [
              0.5555555555555556,
              "#d8576b"
             ],
             [
              0.6666666666666666,
              "#ed7953"
             ],
             [
              0.7777777777777778,
              "#fb9f3a"
             ],
             [
              0.8888888888888888,
              "#fdca26"
             ],
             [
              1,
              "#f0f921"
             ]
            ],
            "type": "surface"
           }
          ],
          "table": [
           {
            "cells": {
             "fill": {
              "color": "#506784"
             },
             "line": {
              "color": "rgb(17,17,17)"
             }
            },
            "header": {
             "fill": {
              "color": "#2a3f5f"
             },
             "line": {
              "color": "rgb(17,17,17)"
             }
            },
            "type": "table"
           }
          ]
         },
         "layout": {
          "annotationdefaults": {
           "arrowcolor": "#f2f5fa",
           "arrowhead": 0,
           "arrowwidth": 1
          },
          "autotypenumbers": "strict",
          "coloraxis": {
           "colorbar": {
            "outlinewidth": 0,
            "ticks": ""
           }
          },
          "colorscale": {
           "diverging": [
            [
             0,
             "#8e0152"
            ],
            [
             0.1,
             "#c51b7d"
            ],
            [
             0.2,
             "#de77ae"
            ],
            [
             0.3,
             "#f1b6da"
            ],
            [
             0.4,
             "#fde0ef"
            ],
            [
             0.5,
             "#f7f7f7"
            ],
            [
             0.6,
             "#e6f5d0"
            ],
            [
             0.7,
             "#b8e186"
            ],
            [
             0.8,
             "#7fbc41"
            ],
            [
             0.9,
             "#4d9221"
            ],
            [
             1,
             "#276419"
            ]
           ],
           "sequential": [
            [
             0,
             "#0d0887"
            ],
            [
             0.1111111111111111,
             "#46039f"
            ],
            [
             0.2222222222222222,
             "#7201a8"
            ],
            [
             0.3333333333333333,
             "#9c179e"
            ],
            [
             0.4444444444444444,
             "#bd3786"
            ],
            [
             0.5555555555555556,
             "#d8576b"
            ],
            [
             0.6666666666666666,
             "#ed7953"
            ],
            [
             0.7777777777777778,
             "#fb9f3a"
            ],
            [
             0.8888888888888888,
             "#fdca26"
            ],
            [
             1,
             "#f0f921"
            ]
           ],
           "sequentialminus": [
            [
             0,
             "#0d0887"
            ],
            [
             0.1111111111111111,
             "#46039f"
            ],
            [
             0.2222222222222222,
             "#7201a8"
            ],
            [
             0.3333333333333333,
             "#9c179e"
            ],
            [
             0.4444444444444444,
             "#bd3786"
            ],
            [
             0.5555555555555556,
             "#d8576b"
            ],
            [
             0.6666666666666666,
             "#ed7953"
            ],
            [
             0.7777777777777778,
             "#fb9f3a"
            ],
            [
             0.8888888888888888,
             "#fdca26"
            ],
            [
             1,
             "#f0f921"
            ]
           ]
          },
          "colorway": [
           "#636efa",
           "#EF553B",
           "#00cc96",
           "#ab63fa",
           "#FFA15A",
           "#19d3f3",
           "#FF6692",
           "#B6E880",
           "#FF97FF",
           "#FECB52"
          ],
          "font": {
           "color": "#f2f5fa"
          },
          "geo": {
           "bgcolor": "rgb(17,17,17)",
           "lakecolor": "rgb(17,17,17)",
           "landcolor": "rgb(17,17,17)",
           "showlakes": true,
           "showland": true,
           "subunitcolor": "#506784"
          },
          "hoverlabel": {
           "align": "left"
          },
          "hovermode": "closest",
          "mapbox": {
           "style": "dark"
          },
          "paper_bgcolor": "rgb(17,17,17)",
          "plot_bgcolor": "rgb(17,17,17)",
          "polar": {
           "angularaxis": {
            "gridcolor": "#506784",
            "linecolor": "#506784",
            "ticks": ""
           },
           "bgcolor": "rgb(17,17,17)",
           "radialaxis": {
            "gridcolor": "#506784",
            "linecolor": "#506784",
            "ticks": ""
           }
          },
          "scene": {
           "xaxis": {
            "backgroundcolor": "rgb(17,17,17)",
            "gridcolor": "#506784",
            "gridwidth": 2,
            "linecolor": "#506784",
            "showbackground": true,
            "ticks": "",
            "zerolinecolor": "#C8D4E3"
           },
           "yaxis": {
            "backgroundcolor": "rgb(17,17,17)",
            "gridcolor": "#506784",
            "gridwidth": 2,
            "linecolor": "#506784",
            "showbackground": true,
            "ticks": "",
            "zerolinecolor": "#C8D4E3"
           },
           "zaxis": {
            "backgroundcolor": "rgb(17,17,17)",
            "gridcolor": "#506784",
            "gridwidth": 2,
            "linecolor": "#506784",
            "showbackground": true,
            "ticks": "",
            "zerolinecolor": "#C8D4E3"
           }
          },
          "shapedefaults": {
           "line": {
            "color": "#f2f5fa"
           }
          },
          "sliderdefaults": {
           "bgcolor": "#C8D4E3",
           "bordercolor": "rgb(17,17,17)",
           "borderwidth": 1,
           "tickwidth": 0
          },
          "ternary": {
           "aaxis": {
            "gridcolor": "#506784",
            "linecolor": "#506784",
            "ticks": ""
           },
           "baxis": {
            "gridcolor": "#506784",
            "linecolor": "#506784",
            "ticks": ""
           },
           "bgcolor": "rgb(17,17,17)",
           "caxis": {
            "gridcolor": "#506784",
            "linecolor": "#506784",
            "ticks": ""
           }
          },
          "title": {
           "x": 0.05
          },
          "updatemenudefaults": {
           "bgcolor": "#506784",
           "borderwidth": 0
          },
          "xaxis": {
           "automargin": true,
           "gridcolor": "#283442",
           "linecolor": "#506784",
           "ticks": "",
           "title": {
            "standoff": 15
           },
           "zerolinecolor": "#283442",
           "zerolinewidth": 2
          },
          "yaxis": {
           "automargin": true,
           "gridcolor": "#283442",
           "linecolor": "#506784",
           "ticks": "",
           "title": {
            "standoff": 15
           },
           "zerolinecolor": "#283442",
           "zerolinewidth": 2
          }
         }
        },
        "title": {
         "text": "BTCUSDT - D - TA Chart Visualizer"
        },
        "xaxis": {
         "fixedrange": false,
         "rangeslider": {
          "visible": false
         },
         "title": {
          "text": "Time"
         }
        },
        "yaxis": {
         "fixedrange": false,
         "title": {
          "text": "Price"
         },
         "type": "log"
        }
       }
      }
     },
     "metadata": {},
     "output_type": "display_data"
    },
    {
     "name": "stdout",
     "output_type": "stream",
     "text": [
      "\n",
      "======================================================================\n",
      "📊 Visualizing Segment 6/10: BTCUSDT - D\n",
      "   Period: 2022-12-30 00:00 to 2023-07-19 00:00\n",
      "======================================================================\n",
      "Processing 202 candles for BTCUSDT at D interval\n",
      "   Middlewares: ['levels_middleware']\n"
     ]
    },
    {
     "data": {
      "application/vnd.plotly.v1+json": {
       "config": {
        "plotlyServerURL": "https://plot.ly"
       },
       "data": [
        {
         "close": {
          "bdata": "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",
          "dtype": "f8"
         },
         "high": {
          "bdata": "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",
          "dtype": "f8"
         },
         "low": {
          "bdata": "AAAAAIDwz0AAAAAAIBjQQAAAAADAH9BAAAAAAAAq0EAAAAAAQDfQQAAAAAAAQ9BAAAAAAMBa0EAAAAAAwEjQQAAAAAAAgtBAAAAAAMCC0EAAAAAAgLHQQAAAAACgvNBAAAAAAGDn0EAAAAAAAHrRQAAAAAAAQdJAAAAAAGBn00AAAAAAwBLUQAAAAAAAHtRAAAAAACBW1EAAAAAAQOjTQAAAAABAKdRAAAAAAEBd1EAAAAAAQOPVQAAAAABAwdVAAAAAAODu1UAAAAAAwOzVQAAAAADAy9VAAAAAAKBQ1kAAAAAAwP7VQAAAAACAVtZAAAAAAIBs1kAAAAAAIPTVQAAAAADAMNZAAAAAAMA41kAAAAAAANDWQAAAAADAqNZAAAAAACC31kAAAAAAADrWQAAAAAAgFdZAAAAAAGA31kAAAAAAQCPWQAAAAACAMNVAZmZmZsbt1EAAAAAAoBjVQDMzMzNTHtVAAAAAAODT1EDNzMzMjALVQAAAAAAAhNVAAAAAAED01kAAAAAAAMvWQJqZmZnZ2tdAMzMzMzOa10DNzMzMLELXQAAAAAAAltdAMzMzM5ME10AAAAAAoAnXQAAAAAAARNZAMzMzMxMu1kBmZmZmBoXWQDMzMzPzitZAAAAAAIB41kAAAAAAwHnWQJqZmZmZpNZAAAAAAEBk1UAAAAAAAKLVQAAAAABAp9VAmpmZmZm21UAAAAAAwGfVQAAAAADADdVAAAAAAACM00AAAAAAwBPTQAAAAAAATNNAmpmZmTnJ00AAAAAAAEvVQAAAAACAZ9dAZmZmZgZP10DNzMzMzI7XQGZmZmamS9hAAAAAAMDu2UDNzMzMDDDaQAAAAADAfNpAzczMzAyn2kCamZmZ2fXZQAAAAADgd9pAAAAAAABT2kAAAAAAAH/aQJqZmZmZwtpAMzMzM5Pa2UAAAAAAwPzZQAAAAAAAldpAAAAAAIAA20BmZmZmptfaQAAAAACghdtAMzMzM7Mr20AAAAAAwInaQM3MzMwMANtAzczMzEwg20AAAAAAgAXbQAAAAADAGttAAAAAAIAx20AAAAAAAB3bQGZmZmYmettAAAAAAODi3EAAAAAAgO/cQAAAAABAJd1AAAAAAAA83UAAAAAAAHndQAAAAACAaN1AAAAAAMCI3EAAAAAAAGHcQAAAAADA4ttAmpmZmVlT20AAAAAAgGzaQAAAAACAftpAzczMzIyp2kAAAAAAQE3aQGZmZmZGi9pAAAAAAACQ2kAzMzMzM7TbQAAAAACAMdxAZmZmZoZU3EAzMzMzs2TcQGZmZmYG/tpAAAAAAAA120BmZmZmRmnbQM3MzMzM9dtAAAAAAIAT3EAAAAAAQKnbQAAAAACAtNtAAAAAAICc2kAzMzMzU7HaQAAAAAAAE9pAAAAAAIAG2kAAAAAAACnZQJqZmZn5DNpAMzMzM5Pp2UDNzMzMDBPaQAAAAACAMNpAmpmZmVnh2UAzMzMzU7nZQM3MzMys+tlAzczMzAww2kAzMzMzcwfaQAAAAACA49lAZmZmZuYo2kAAAAAAgHDZQAAAAADAPtlAMzMzM7Ow2UAAAAAAgOjZQM3MzMzsH9pAAAAAAIDd2kAAAAAAQOLaQAAAAABAMNpAZmZmZib22UDNzMzMLNzZQJqZmZl5RtpAmpmZmZlQ2kAAAAAAYMTYQM3MzMwMu9hAmpmZmdmA2UAzMzMzk5PZQAAAAAAApdlAAAAAAIC92ECamZmZ+QPZQDMzMzPzANlAZmZmZgYb2UAAAAAA4DLYQAAAAAAAM9hAAAAAAMCQ2EBmZmZmJo3ZQAAAAAAAntlAAAAAAICi2UBmZmZmhgTaQAAAAAAAlNtAmpmZmdnP3EAzMzMzUxbdQGZmZmYGit1AAAAAAACN3UAAAAAAQDfdQGZmZmZGgt1AAAAAAEAe3UAzMzMz81LdQDMzMzMzudxAAAAAAACa3UCamZmZmW7dQGZmZmZm091AMzMzM7Pi3UBmZmZmJnjdQGZmZmaGHN1AZmZmZsb63EAAAAAAQFLdQAAAAAAAWd1AAAAAAOA53UAAAAAA4IrdQAAAAABAet1AmpmZmTmH3UAAAAAAQCzdQDMzMzNTg91AzczMzIxV3UAAAAAAgOrcQAAAAACArNxAZmZmZqYJ3UA=",
          "dtype": "f8"
         },
         "name": "Candlestick",
         "open": {
          "bdata": "AAAAAIBA0EAAAAAAIDvQQAAAAABgKdBAAAAAAKA70EAAAAAAAEfQQAAAAACAR9BAAAAAAOBz0EAAAAAAgG7QQAAAAAAAi9BAAAAAAICK0EAAAAAA4LfQQAAAAABgxdBAAAAAAKAF0UAAAAAAQILRQAAAAAAAYdJAAAAAAEBx00AAAAAAIHbUQAAAAACAY9RAAAAAAMCu1EAAAAAAgJ/UQAAAAACAMNRAAAAAAKCQ1EAAAAAAICDWQAAAAABgP9ZAAAAAAOAr1kAAAAAAIF/WQAAAAADAGdZAAAAAACCE1kAAAAAAYHfWQAAAAACAhtZAAAAAAIB71kAAAAAAYC7XQAAAAACgS9ZAAAAAAICW1kAAAAAAYCzXQAAAAADg8dZAAAAAAGDi1kAAAAAA4MbWQAAAAACAZdZAAAAAAOA61kAAAAAAILPWQAAAAADAa9ZAAAAAAIBK1UDNzMzMDB7VQGZmZmbGVdVAmpmZmTlE1UAAAAAAAELVQGZmZmYGqtVAMzMzM5PC10AAAAAA4PbWQAAAAACAANhAmpmZmXkP2ECamZmZubLXQAAAAABgRdhAAAAAAODh10DNzMzMDJ3XQJqZmZkZYNdAZmZmZkak1kAzMzMzs5zWQDMzMzMT/9ZAZmZmZgbv1kCamZmZeZbWQAAAAACAE9dAAAAAAKDp1kAzMzMzc9LVQGZmZmYm0NVAAAAAAMDk1UAAAAAAoN/VQJqZmZk5q9VAAAAAAIAx1UBmZmZm5uDTQJqZmZlZq9NAZmZmZob400CamZmZuXbVQM3MzMwMjNdAzczMzCwb2ECamZmZObfXQM3MzMxMZ9hAzczMzIy92kDNzMzMjETaQGZmZmaGTttAZmZmZuYN20AAAAAAgG7bQDMzMzNzmNpAAAAAAICd20DNzMzMTMvaQJqZmZk5zdpAZmZmZuZL20AzMzMzE3naQAAAAADgmtpAAAAAAICq20BmZmZmBlrbQGZmZmYGydtAZmZmZsbE20CamZmZ+X7bQM3MzMwsI9tAzczMzGx920DNzMzMrH7bQGZmZmaGXdtAzczMzAw720DNzMzMbEbbQM3MzMxspdtAZmZmZgbv3EAAAAAAwHjdQAAAAADAK91AzczMzIyn3UDNzMzMjLndQM3MzMxsld1AmpmZmfmV3UAzMzMzc7vcQAAAAACgq91AZmZmZkYf3EBmZmZm5pLbQM3MzMxMndpAzczMzMwl20AzMzMzM+3aQGZmZmZG2dpAMzMzM1Od20CamZmZebzbQM3MzMyMxNxAZmZmZgac3ECamZmZ+YbcQAAAAABAiNxAzczMzMxk20BmZmZmxvvbQAAAAACAVdxAmpmZmbkk3EDNzMzMzM3cQDMzMzNTKNxAmpmZmXm/20CamZmZWQHbQDMzMzOT+NpAMzMzM1Pu2kBmZmZmxlLaQDMzMzPTJtpAZmZmZsYj2kAAAAAAwEXaQJqZmZkZg9pAmpmZmRlj2kAzMzMzM7/aQGZmZmbmLNpAMzMzMzM92kBmZmZmRnTaQDMzMzOTG9pAzczMzKw02kCamZmZeZLaQAAAAADAsdlAZmZmZibW2UAAAAAAwBHaQAAAAACgNdpAmpmZmXlk20AAAAAAgBLbQM3MzMxMCNtAAAAAAMCP2kAAAAAAYC7aQGZmZmaGmdpAZmZmZsZs2kAAAAAAYHjaQM3MzMxMHdlAmpmZmTmU2kCamZmZ2bTZQGZmZmZG3dlAmpmZmbnY2UBmZmZmhjjZQGZmZmbGTtlAMzMzM9NJ2UAAAAAAIFDZQJqZmZl5hthAmpmZmXn82EDNzMzMTLXZQAAAAABA4tlAAAAAAGC32UCamZmZ2TLaQAAAAACAn9tAzczMzGxI3UCamZmZGS3dQGZmZmaG9N1AAAAAAADQ3UBmZmZmBr/dQM3MzMyMjd1AzczMzCz23UCamZmZeVrdQM3MzMxsuN1AAAAAAGDA3UAAAAAAQNzdQJqZmZl54t1AZmZmZkZr3kBmZmZmhgjeQDMzMzNTxd1AZmZmZsYs3UAAAAAA4J7dQDMzMzPTj91AAAAAAIBx3UBmZmZmxq/dQJqZmZm54t1AMzMzM/On3UAzMzMzU7PeQDMzMzOzld1AZmZmZiaP3UCamZmZWYPdQAAAAAAAat1AAAAAAMAm3UA=",
          "dtype": "f8"
         },
         "showlegend": false,
         "type": "candlestick",
         "x": [
          "2022-12-30T00:00:00.000000000",
          "2022-12-31T00:00:00.000000000",
          "2023-01-01T00:00:00.000000000",
          "2023-01-02T00:00:00.000000000",
          "2023-01-03T00:00:00.000000000",
          "2023-01-04T00:00:00.000000000",
          "2023-01-05T00:00:00.000000000",
          "2023-01-06T00:00:00.000000000",
          "2023-01-07T00:00:00.000000000",
          "2023-01-08T00:00:00.000000000",
          "2023-01-09T00:00:00.000000000",
          "2023-01-10T00:00:00.000000000",
          "2023-01-11T00:00:00.000000000",
          "2023-01-12T00:00:00.000000000",
          "2023-01-13T00:00:00.000000000",
          "2023-01-14T00:00:00.000000000",
          "2023-01-15T00:00:00.000000000",
          "2023-01-16T00:00:00.000000000",
          "2023-01-17T00:00:00.000000000",
          "2023-01-18T00:00:00.000000000",
          "2023-01-19T00:00:00.000000000",
          "2023-01-20T00:00:00.000000000",
          "2023-01-21T00:00:00.000000000",
          "2023-01-22T00:00:00.000000000",
          "2023-01-23T00:00:00.000000000",
          "2023-01-24T00:00:00.000000000",
          "2023-01-25T00:00:00.000000000",
          "2023-01-26T00:00:00.000000000",
          "2023-01-27T00:00:00.000000000",
          "2023-01-28T00:00:00.000000000",
          "2023-01-29T00:00:00.000000000",
          "2023-01-30T00:00:00.000000000",
          "2023-01-31T00:00:00.000000000",
          "2023-02-01T00:00:00.000000000",
          "2023-02-02T00:00:00.000000000",
          "2023-02-03T00:00:00.000000000",
          "2023-02-04T00:00:00.000000000",
          "2023-02-05T00:00:00.000000000",
          "2023-02-06T00:00:00.000000000",
          "2023-02-07T00:00:00.000000000",
          "2023-02-08T00:00:00.000000000",
          "2023-02-09T00:00:00.000000000",
          "2023-02-10T00:00:00.000000000",
          "2023-02-11T00:00:00.000000000",
          "2023-02-12T00:00:00.000000000",
          "2023-02-13T00:00:00.000000000",
          "2023-02-14T00:00:00.000000000",
          "2023-02-15T00:00:00.000000000",
          "2023-02-16T00:00:00.000000000",
          "2023-02-17T00:00:00.000000000",
          "2023-02-18T00:00:00.000000000",
          "2023-02-19T00:00:00.000000000",
          "2023-02-20T00:00:00.000000000",
          "2023-02-21T00:00:00.000000000",
          "2023-02-22T00:00:00.000000000",
          "2023-02-23T00:00:00.000000000",
          "2023-02-24T00:00:00.000000000",
          "2023-02-25T00:00:00.000000000",
          "2023-02-26T00:00:00.000000000",
          "2023-02-27T00:00:00.000000000",
          "2023-02-28T00:00:00.000000000",
          "2023-03-01T00:00:00.000000000",
          "2023-03-02T00:00:00.000000000",
          "2023-03-03T00:00:00.000000000",
          "2023-03-04T00:00:00.000000000",
          "2023-03-05T00:00:00.000000000",
          "2023-03-06T00:00:00.000000000",
          "2023-03-07T00:00:00.000000000",
          "2023-03-08T00:00:00.000000000",
          "2023-03-09T00:00:00.000000000",
          "2023-03-10T00:00:00.000000000",
          "2023-03-11T00:00:00.000000000",
          "2023-03-12T00:00:00.000000000",
          "2023-03-13T00:00:00.000000000",
          "2023-03-14T00:00:00.000000000",
          "2023-03-15T00:00:00.000000000",
          "2023-03-16T00:00:00.000000000",
          "2023-03-17T00:00:00.000000000",
          "2023-03-18T00:00:00.000000000",
          "2023-03-19T00:00:00.000000000",
          "2023-03-20T00:00:00.000000000",
          "2023-03-21T00:00:00.000000000",
          "2023-03-22T00:00:00.000000000",
          "2023-03-23T00:00:00.000000000",
          "2023-03-24T00:00:00.000000000",
          "2023-03-25T00:00:00.000000000",
          "2023-03-26T00:00:00.000000000",
          "2023-03-27T00:00:00.000000000",
          "2023-03-28T00:00:00.000000000",
          "2023-03-29T00:00:00.000000000",
          "2023-03-30T00:00:00.000000000",
          "2023-03-31T00:00:00.000000000",
          "2023-04-01T00:00:00.000000000",
          "2023-04-02T00:00:00.000000000",
          "2023-04-03T00:00:00.000000000",
          "2023-04-04T00:00:00.000000000",
          "2023-04-05T00:00:00.000000000",
          "2023-04-06T00:00:00.000000000",
          "2023-04-07T00:00:00.000000000",
          "2023-04-08T00:00:00.000000000",
          "2023-04-09T00:00:00.000000000",
          "2023-04-10T00:00:00.000000000",
          "2023-04-11T00:00:00.000000000",
          "2023-04-12T00:00:00.000000000",
          "2023-04-13T00:00:00.000000000",
          "2023-04-14T00:00:00.000000000",
          "2023-04-15T00:00:00.000000000",
          "2023-04-16T00:00:00.000000000",
          "2023-04-17T00:00:00.000000000",
          "2023-04-18T00:00:00.000000000",
          "2023-04-19T00:00:00.000000000",
          "2023-04-20T00:00:00.000000000",
          "2023-04-21T00:00:00.000000000",
          "2023-04-22T00:00:00.000000000",
          "2023-04-23T00:00:00.000000000",
          "2023-04-24T00:00:00.000000000",
          "2023-04-25T00:00:00.000000000",
          "2023-04-26T00:00:00.000000000",
          "2023-04-27T00:00:00.000000000",
          "2023-04-28T00:00:00.000000000",
          "2023-04-29T00:00:00.000000000",
          "2023-04-30T00:00:00.000000000",
          "2023-05-01T00:00:00.000000000",
          "2023-05-02T00:00:00.000000000",
          "2023-05-03T00:00:00.000000000",
          "2023-05-04T00:00:00.000000000",
          "2023-05-05T00:00:00.000000000",
          "2023-05-06T00:00:00.000000000",
          "2023-05-07T00:00:00.000000000",
          "2023-05-08T00:00:00.000000000",
          "2023-05-09T00:00:00.000000000",
          "2023-05-10T00:00:00.000000000",
          "2023-05-11T00:00:00.000000000",
          "2023-05-12T00:00:00.000000000",
          "2023-05-13T00:00:00.000000000",
          "2023-05-14T00:00:00.000000000",
          "2023-05-15T00:00:00.000000000",
          "2023-05-16T00:00:00.000000000",
          "2023-05-17T00:00:00.000000000",
          "2023-05-18T00:00:00.000000000",
          "2023-05-19T00:00:00.000000000",
          "2023-05-20T00:00:00.000000000",
          "2023-05-21T00:00:00.000000000",
          "2023-05-22T00:00:00.000000000",
          "2023-05-23T00:00:00.000000000",
          "2023-05-24T00:00:00.000000000",
          "2023-05-25T00:00:00.000000000",
          "2023-05-26T00:00:00.000000000",
          "2023-05-27T00:00:00.000000000",
          "2023-05-28T00:00:00.000000000",
          "2023-05-29T00:00:00.000000000",
          "2023-05-30T00:00:00.000000000",
          "2023-05-31T00:00:00.000000000",
          "2023-06-01T00:00:00.000000000",
          "2023-06-02T00:00:00.000000000",
          "2023-06-03T00:00:00.000000000",
          "2023-06-04T00:00:00.000000000",
          "2023-06-05T00:00:00.000000000",
          "2023-06-06T00:00:00.000000000",
          "2023-06-07T00:00:00.000000000",
          "2023-06-08T00:00:00.000000000",
          "2023-06-09T00:00:00.000000000",
          "2023-06-10T00:00:00.000000000",
          "2023-06-11T00:00:00.000000000",
          "2023-06-12T00:00:00.000000000",
          "2023-06-13T00:00:00.000000000",
          "2023-06-14T00:00:00.000000000",
          "2023-06-15T00:00:00.000000000",
          "2023-06-16T00:00:00.000000000",
          "2023-06-17T00:00:00.000000000",
          "2023-06-18T00:00:00.000000000",
          "2023-06-19T00:00:00.000000000",
          "2023-06-20T00:00:00.000000000",
          "2023-06-21T00:00:00.000000000",
          "2023-06-22T00:00:00.000000000",
          "2023-06-23T00:00:00.000000000",
          "2023-06-24T00:00:00.000000000",
          "2023-06-25T00:00:00.000000000",
          "2023-06-26T00:00:00.000000000",
          "2023-06-27T00:00:00.000000000",
          "2023-06-28T00:00:00.000000000",
          "2023-06-29T00:00:00.000000000",
          "2023-06-30T00:00:00.000000000",
          "2023-07-01T00:00:00.000000000",
          "2023-07-02T00:00:00.000000000",
          "2023-07-03T00:00:00.000000000",
          "2023-07-04T00:00:00.000000000",
          "2023-07-05T00:00:00.000000000",
          "2023-07-06T00:00:00.000000000",
          "2023-07-07T00:00:00.000000000",
          "2023-07-08T00:00:00.000000000",
          "2023-07-09T00:00:00.000000000",
          "2023-07-10T00:00:00.000000000",
          "2023-07-11T00:00:00.000000000",
          "2023-07-12T00:00:00.000000000",
          "2023-07-13T00:00:00.000000000",
          "2023-07-14T00:00:00.000000000",
          "2023-07-15T00:00:00.000000000",
          "2023-07-16T00:00:00.000000000",
          "2023-07-17T00:00:00.000000000",
          "2023-07-18T00:00:00.000000000",
          "2023-07-19T00:00:00.000000000"
         ]
        },
        {
         "line": {
          "color": "orange",
          "dash": "dash",
          "width": 2
         },
         "mode": "lines",
         "name": "line_close_D",
         "showlegend": true,
         "type": "scatter",
         "x": [
          "2022-12-31T00:00:00",
          "2023-07-19T00:00:00"
         ],
         "y": [
          16549.5,
          16549.5
         ]
        },
        {
         "line": {
          "color": "orange",
          "dash": "dash",
          "width": 2
         },
         "mode": "lines",
         "name": "line_close_D",
         "showlegend": true,
         "type": "scatter",
         "x": [
          "2023-01-05T00:00:00",
          "2023-07-19T00:00:00"
         ],
         "y": [
          16826,
          16826
         ]
        },
        {
         "line": {
          "color": "orange",
          "dash": "dash",
          "width": 2
         },
         "mode": "lines",
         "name": "line_close_D",
         "showlegend": true,
         "type": "scatter",
         "x": [
          "2023-01-07T00:00:00",
          "2023-07-19T00:00:00"
         ],
         "y": [
          16938,
          16938
         ]
        },
        {
         "line": {
          "color": "orange",
          "dash": "dash",
          "width": 2
         },
         "mode": "lines",
         "name": "line_close_D",
         "showlegend": true,
         "type": "scatter",
         "x": [
          "2023-03-10T00:00:00",
          "2023-07-19T00:00:00"
         ],
         "y": [
          20141.4,
          20141.4
         ]
        },
        {
         "line": {
          "color": "orange",
          "dash": "dash",
          "width": 2
         },
         "mode": "lines",
         "name": "line_close_D",
         "showlegend": true,
         "type": "scatter",
         "x": [
          "2023-03-15T00:00:00",
          "2023-07-19T00:00:00"
         ],
         "y": [
          24284.9,
          24284.9
         ]
        },
        {
         "line": {
          "color": "orange",
          "dash": "dash",
          "width": 2
         },
         "mode": "lines",
         "name": "line_close_D",
         "showlegend": true,
         "type": "scatter",
         "x": [
          "2023-06-14T00:00:00",
          "2023-07-19T00:00:00"
         ],
         "y": [
          25113.9,
          25113.9
         ]
        },
        {
         "line": {
          "color": "orange",
          "dash": "dash",
          "width": 2
         },
         "mode": "lines",
         "name": "line_close_D",
         "showlegend": true,
         "type": "scatter",
         "x": [
          "2023-06-18T00:00:00",
          "2023-07-19T00:00:00"
         ],
         "y": [
          26333.5,
          26333.5
         ]
        },
        {
         "line": {
          "color": "orange",
          "dash": "dash",
          "width": 2
         },
         "mode": "lines",
         "name": "line_close_D",
         "showlegend": true,
         "type": "scatter",
         "x": [
          "2023-07-13T00:00:00",
          "2023-07-19T00:00:00"
         ],
         "y": [
          31437.3,
          31437.3
         ]
        },
        {
         "line": {
          "color": "orange",
          "dash": "dash",
          "width": 2
         },
         "mode": "lines",
         "name": "line_close_D",
         "showlegend": true,
         "type": "scatter",
         "x": [
          "2023-07-18T00:00:00",
          "2023-07-19T00:00:00"
         ],
         "y": [
          29851,
          29851
         ]
        },
        {
         "line": {
          "color": "orange",
          "dash": "dash",
          "width": 2
         },
         "mode": "lines",
         "name": "max_level_D",
         "showlegend": true,
         "type": "scatter",
         "x": [
          "2022-12-30T00:00:00",
          "2023-07-19T00:00:00"
         ],
         "y": [
          31843.9,
          31843.9
         ]
        },
        {
         "line": {
          "color": "orange",
          "dash": "dash",
          "width": 2
         },
         "mode": "lines",
         "name": "min_level_D",
         "showlegend": true,
         "type": "scatter",
         "x": [
          "2022-12-30T00:00:00",
          "2023-07-19T00:00:00"
         ],
         "y": [
          16353,
          16353
         ]
        }
       ],
       "layout": {
        "height": 800,
        "showlegend": false,
        "template": {
         "data": {
          "bar": [
           {
            "error_x": {
             "color": "#f2f5fa"
            },
            "error_y": {
             "color": "#f2f5fa"
            },
            "marker": {
             "line": {
              "color": "rgb(17,17,17)",
              "width": 0.5
             },
             "pattern": {
              "fillmode": "overlay",
              "size": 10,
              "solidity": 0.2
             }
            },
            "type": "bar"
           }
          ],
          "barpolar": [
           {
            "marker": {
             "line": {
              "color": "rgb(17,17,17)",
              "width": 0.5
             },
             "pattern": {
              "fillmode": "overlay",
              "size": 10,
              "solidity": 0.2
             }
            },
            "type": "barpolar"
           }
          ],
          "carpet": [
           {
            "aaxis": {
             "endlinecolor": "#A2B1C6",
             "gridcolor": "#506784",
             "linecolor": "#506784",
             "minorgridcolor": "#506784",
             "startlinecolor": "#A2B1C6"
            },
            "baxis": {
             "endlinecolor": "#A2B1C6",
             "gridcolor": "#506784",
             "linecolor": "#506784",
             "minorgridcolor": "#506784",
             "startlinecolor": "#A2B1C6"
            },
            "type": "carpet"
           }
          ],
          "choropleth": [
           {
            "colorbar": {
             "outlinewidth": 0,
             "ticks": ""
            },
            "type": "choropleth"
           }
          ],
          "contour": [
           {
            "colorbar": {
             "outlinewidth": 0,
             "ticks": ""
            },
            "colorscale": [
             [
              0,
              "#0d0887"
             ],
             [
              0.1111111111111111,
              "#46039f"
             ],
             [
              0.2222222222222222,
              "#7201a8"
             ],
             [
              0.3333333333333333,
              "#9c179e"
             ],
             [
              0.4444444444444444,
              "#bd3786"
             ],
             [
              0.5555555555555556,
              "#d8576b"
             ],
             [
              0.6666666666666666,
              "#ed7953"
             ],
             [
              0.7777777777777778,
              "#fb9f3a"
             ],
             [
              0.8888888888888888,
              "#fdca26"
             ],
             [
              1,
              "#f0f921"
             ]
            ],
            "type": "contour"
           }
          ],
          "contourcarpet": [
           {
            "colorbar": {
             "outlinewidth": 0,
             "ticks": ""
            },
            "type": "contourcarpet"
           }
          ],
          "heatmap": [
           {
            "colorbar": {
             "outlinewidth": 0,
             "ticks": ""
            },
            "colorscale": [
             [
              0,
              "#0d0887"
             ],
             [
              0.1111111111111111,
              "#46039f"
             ],
             [
              0.2222222222222222,
              "#7201a8"
             ],
             [
              0.3333333333333333,
              "#9c179e"
             ],
             [
              0.4444444444444444,
              "#bd3786"
             ],
             [
              0.5555555555555556,
              "#d8576b"
             ],
             [
              0.6666666666666666,
              "#ed7953"
             ],
             [
              0.7777777777777778,
              "#fb9f3a"
             ],
             [
              0.8888888888888888,
              "#fdca26"
             ],
             [
              1,
              "#f0f921"
             ]
            ],
            "type": "heatmap"
           }
          ],
          "histogram": [
           {
            "marker": {
             "pattern": {
              "fillmode": "overlay",
              "size": 10,
              "solidity": 0.2
             }
            },
            "type": "histogram"
           }
          ],
          "histogram2d": [
           {
            "colorbar": {
             "outlinewidth": 0,
             "ticks": ""
            },
            "colorscale": [
             [
              0,
              "#0d0887"
             ],
             [
              0.1111111111111111,
              "#46039f"
             ],
             [
              0.2222222222222222,
              "#7201a8"
             ],
             [
              0.3333333333333333,
              "#9c179e"
             ],
             [
              0.4444444444444444,
              "#bd3786"
             ],
             [
              0.5555555555555556,
              "#d8576b"
             ],
             [
              0.6666666666666666,
              "#ed7953"
             ],
             [
              0.7777777777777778,
              "#fb9f3a"
             ],
             [
              0.8888888888888888,
              "#fdca26"
             ],
             [
              1,
              "#f0f921"
             ]
            ],
            "type": "histogram2d"
           }
          ],
          "histogram2dcontour": [
           {
            "colorbar": {
             "outlinewidth": 0,
             "ticks": ""
            },
            "colorscale": [
             [
              0,
              "#0d0887"
             ],
             [
              0.1111111111111111,
              "#46039f"
             ],
             [
              0.2222222222222222,
              "#7201a8"
             ],
             [
              0.3333333333333333,
              "#9c179e"
             ],
             [
              0.4444444444444444,
              "#bd3786"
             ],
             [
              0.5555555555555556,
              "#d8576b"
             ],
             [
              0.6666666666666666,
              "#ed7953"
             ],
             [
              0.7777777777777778,
              "#fb9f3a"
             ],
             [
              0.8888888888888888,
              "#fdca26"
             ],
             [
              1,
              "#f0f921"
             ]
            ],
            "type": "histogram2dcontour"
           }
          ],
          "mesh3d": [
           {
            "colorbar": {
             "outlinewidth": 0,
             "ticks": ""
            },
            "type": "mesh3d"
           }
          ],
          "parcoords": [
           {
            "line": {
             "colorbar": {
              "outlinewidth": 0,
              "ticks": ""
             }
            },
            "type": "parcoords"
           }
          ],
          "pie": [
           {
            "automargin": true,
            "type": "pie"
           }
          ],
          "scatter": [
           {
            "marker": {
             "line": {
              "color": "#283442"
             }
            },
            "type": "scatter"
           }
          ],
          "scatter3d": [
           {
            "line": {
             "colorbar": {
              "outlinewidth": 0,
              "ticks": ""
             }
            },
            "marker": {
             "colorbar": {
              "outlinewidth": 0,
              "ticks": ""
             }
            },
            "type": "scatter3d"
           }
          ],
          "scattercarpet": [
           {
            "marker": {
             "colorbar": {
              "outlinewidth": 0,
              "ticks": ""
             }
            },
            "type": "scattercarpet"
           }
          ],
          "scattergeo": [
           {
            "marker": {
             "colorbar": {
              "outlinewidth": 0,
              "ticks": ""
             }
            },
            "type": "scattergeo"
           }
          ],
          "scattergl": [
           {
            "marker": {
             "line": {
              "color": "#283442"
             }
            },
            "type": "scattergl"
           }
          ],
          "scattermap": [
           {
            "marker": {
             "colorbar": {
              "outlinewidth": 0,
              "ticks": ""
             }
            },
            "type": "scattermap"
           }
          ],
          "scattermapbox": [
           {
            "marker": {
             "colorbar": {
              "outlinewidth": 0,
              "ticks": ""
             }
            },
            "type": "scattermapbox"
           }
          ],
          "scatterpolar": [
           {
            "marker": {
             "colorbar": {
              "outlinewidth": 0,
              "ticks": ""
             }
            },
            "type": "scatterpolar"
           }
          ],
          "scatterpolargl": [
           {
            "marker": {
             "colorbar": {
              "outlinewidth": 0,
              "ticks": ""
             }
            },
            "type": "scatterpolargl"
           }
          ],
          "scatterternary": [
           {
            "marker": {
             "colorbar": {
              "outlinewidth": 0,
              "ticks": ""
             }
            },
            "type": "scatterternary"
           }
          ],
          "surface": [
           {
            "colorbar": {
             "outlinewidth": 0,
             "ticks": ""
            },
            "colorscale": [
             [
              0,
              "#0d0887"
             ],
             [
              0.1111111111111111,
              "#46039f"
             ],
             [
              0.2222222222222222,
              "#7201a8"
             ],
             [
              0.3333333333333333,
              "#9c179e"
             ],
             [
              0.4444444444444444,
              "#bd3786"
             ],
             [
              0.5555555555555556,
              "#d8576b"
             ],
             [
              0.6666666666666666,
              "#ed7953"
             ],
             [
              0.7777777777777778,
              "#fb9f3a"
             ],
             [
              0.8888888888888888,
              "#fdca26"
             ],
             [
              1,
              "#f0f921"
             ]
            ],
            "type": "surface"
           }
          ],
          "table": [
           {
            "cells": {
             "fill": {
              "color": "#506784"
             },
             "line": {
              "color": "rgb(17,17,17)"
             }
            },
            "header": {
             "fill": {
              "color": "#2a3f5f"
             },
             "line": {
              "color": "rgb(17,17,17)"
             }
            },
            "type": "table"
           }
          ]
         },
         "layout": {
          "annotationdefaults": {
           "arrowcolor": "#f2f5fa",
           "arrowhead": 0,
           "arrowwidth": 1
          },
          "autotypenumbers": "strict",
          "coloraxis": {
           "colorbar": {
            "outlinewidth": 0,
            "ticks": ""
           }
          },
          "colorscale": {
           "diverging": [
            [
             0,
             "#8e0152"
            ],
            [
             0.1,
             "#c51b7d"
            ],
            [
             0.2,
             "#de77ae"
            ],
            [
             0.3,
             "#f1b6da"
            ],
            [
             0.4,
             "#fde0ef"
            ],
            [
             0.5,
             "#f7f7f7"
            ],
            [
             0.6,
             "#e6f5d0"
            ],
            [
             0.7,
             "#b8e186"
            ],
            [
             0.8,
             "#7fbc41"
            ],
            [
             0.9,
             "#4d9221"
            ],
            [
             1,
             "#276419"
            ]
           ],
           "sequential": [
            [
             0,
             "#0d0887"
            ],
            [
             0.1111111111111111,
             "#46039f"
            ],
            [
             0.2222222222222222,
             "#7201a8"
            ],
            [
             0.3333333333333333,
             "#9c179e"
            ],
            [
             0.4444444444444444,
             "#bd3786"
            ],
            [
             0.5555555555555556,
             "#d8576b"
            ],
            [
             0.6666666666666666,
             "#ed7953"
            ],
            [
             0.7777777777777778,
             "#fb9f3a"
            ],
            [
             0.8888888888888888,
             "#fdca26"
            ],
            [
             1,
             "#f0f921"
            ]
           ],
           "sequentialminus": [
            [
             0,
             "#0d0887"
            ],
            [
             0.1111111111111111,
             "#46039f"
            ],
            [
             0.2222222222222222,
             "#7201a8"
            ],
            [
             0.3333333333333333,
             "#9c179e"
            ],
            [
             0.4444444444444444,
             "#bd3786"
            ],
            [
             0.5555555555555556,
             "#d8576b"
            ],
            [
             0.6666666666666666,
             "#ed7953"
            ],
            [
             0.7777777777777778,
             "#fb9f3a"
            ],
            [
             0.8888888888888888,
             "#fdca26"
            ],
            [
             1,
             "#f0f921"
            ]
           ]
          },
          "colorway": [
           "#636efa",
           "#EF553B",
           "#00cc96",
           "#ab63fa",
           "#FFA15A",
           "#19d3f3",
           "#FF6692",
           "#B6E880",
           "#FF97FF",
           "#FECB52"
          ],
          "font": {
           "color": "#f2f5fa"
          },
          "geo": {
           "bgcolor": "rgb(17,17,17)",
           "lakecolor": "rgb(17,17,17)",
           "landcolor": "rgb(17,17,17)",
           "showlakes": true,
           "showland": true,
           "subunitcolor": "#506784"
          },
          "hoverlabel": {
           "align": "left"
          },
          "hovermode": "closest",
          "mapbox": {
           "style": "dark"
          },
          "paper_bgcolor": "rgb(17,17,17)",
          "plot_bgcolor": "rgb(17,17,17)",
          "polar": {
           "angularaxis": {
            "gridcolor": "#506784",
            "linecolor": "#506784",
            "ticks": ""
           },
           "bgcolor": "rgb(17,17,17)",
           "radialaxis": {
            "gridcolor": "#506784",
            "linecolor": "#506784",
            "ticks": ""
           }
          },
          "scene": {
           "xaxis": {
            "backgroundcolor": "rgb(17,17,17)",
            "gridcolor": "#506784",
            "gridwidth": 2,
            "linecolor": "#506784",
            "showbackground": true,
            "ticks": "",
            "zerolinecolor": "#C8D4E3"
           },
           "yaxis": {
            "backgroundcolor": "rgb(17,17,17)",
            "gridcolor": "#506784",
            "gridwidth": 2,
            "linecolor": "#506784",
            "showbackground": true,
            "ticks": "",
            "zerolinecolor": "#C8D4E3"
           },
           "zaxis": {
            "backgroundcolor": "rgb(17,17,17)",
            "gridcolor": "#506784",
            "gridwidth": 2,
            "linecolor": "#506784",
            "showbackground": true,
            "ticks": "",
            "zerolinecolor": "#C8D4E3"
           }
          },
          "shapedefaults": {
           "line": {
            "color": "#f2f5fa"
           }
          },
          "sliderdefaults": {
           "bgcolor": "#C8D4E3",
           "bordercolor": "rgb(17,17,17)",
           "borderwidth": 1,
           "tickwidth": 0
          },
          "ternary": {
           "aaxis": {
            "gridcolor": "#506784",
            "linecolor": "#506784",
            "ticks": ""
           },
           "baxis": {
            "gridcolor": "#506784",
            "linecolor": "#506784",
            "ticks": ""
           },
           "bgcolor": "rgb(17,17,17)",
           "caxis": {
            "gridcolor": "#506784",
            "linecolor": "#506784",
            "ticks": ""
           }
          },
          "title": {
           "x": 0.05
          },
          "updatemenudefaults": {
           "bgcolor": "#506784",
           "borderwidth": 0
          },
          "xaxis": {
           "automargin": true,
           "gridcolor": "#283442",
           "linecolor": "#506784",
           "ticks": "",
           "title": {
            "standoff": 15
           },
           "zerolinecolor": "#283442",
           "zerolinewidth": 2
          },
          "yaxis": {
           "automargin": true,
           "gridcolor": "#283442",
           "linecolor": "#506784",
           "ticks": "",
           "title": {
            "standoff": 15
           },
           "zerolinecolor": "#283442",
           "zerolinewidth": 2
          }
         }
        },
        "title": {
         "text": "BTCUSDT - D - TA Chart Visualizer"
        },
        "xaxis": {
         "fixedrange": false,
         "rangeslider": {
          "visible": false
         },
         "title": {
          "text": "Time"
         }
        },
        "yaxis": {
         "fixedrange": false,
         "title": {
          "text": "Price"
         },
         "type": "log"
        }
       }
      }
     },
     "metadata": {},
     "output_type": "display_data"
    },
    {
     "name": "stdout",
     "output_type": "stream",
     "text": [
      "\n",
      "======================================================================\n",
      "📊 Visualizing Segment 7/10: BTCUSDT - D\n",
      "   Period: 2023-07-20 00:00 to 2024-02-06 00:00\n",
      "======================================================================\n",
      "Processing 202 candles for BTCUSDT at D interval\n",
      "   Middlewares: ['levels_middleware']\n"
     ]
    },
    {
     "data": {
      "application/vnd.plotly.v1+json": {
       "config": {
        "plotlyServerURL": "https://plot.ly"
       },
       "data": [
        {
         "close": {
          "bdata": "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",
          "dtype": "f8"
         },
         "high": {
          "bdata": "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",
          "dtype": "f8"
         },
         "low": {
          "bdata": "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",
          "dtype": "f8"
         },
         "name": "Candlestick",
         "open": {
          "bdata": "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",
          "dtype": "f8"
         },
         "showlegend": false,
         "type": "candlestick",
         "x": [
          "2023-07-20T00:00:00.000000000",
          "2023-07-21T00:00:00.000000000",
          "2023-07-22T00:00:00.000000000",
          "2023-07-23T00:00:00.000000000",
          "2023-07-24T00:00:00.000000000",
          "2023-07-25T00:00:00.000000000",
          "2023-07-26T00:00:00.000000000",
          "2023-07-27T00:00:00.000000000",
          "2023-07-28T00:00:00.000000000",
          "2023-07-29T00:00:00.000000000",
          "2023-07-30T00:00:00.000000000",
          "2023-07-31T00:00:00.000000000",
          "2023-08-01T00:00:00.000000000",
          "2023-08-02T00:00:00.000000000",
          "2023-08-03T00:00:00.000000000",
          "2023-08-04T00:00:00.000000000",
          "2023-08-05T00:00:00.000000000",
          "2023-08-06T00:00:00.000000000",
          "2023-08-07T00:00:00.000000000",
          "2023-08-08T00:00:00.000000000",
          "2023-08-09T00:00:00.000000000",
          "2023-08-10T00:00:00.000000000",
          "2023-08-11T00:00:00.000000000",
          "2023-08-12T00:00:00.000000000",
          "2023-08-13T00:00:00.000000000",
          "2023-08-14T00:00:00.000000000",
          "2023-08-15T00:00:00.000000000",
          "2023-08-16T00:00:00.000000000",
          "2023-08-17T00:00:00.000000000",
          "2023-08-18T00:00:00.000000000",
          "2023-08-19T00:00:00.000000000",
          "2023-08-20T00:00:00.000000000",
          "2023-08-21T00:00:00.000000000",
          "2023-08-22T00:00:00.000000000",
          "2023-08-23T00:00:00.000000000",
          "2023-08-24T00:00:00.000000000",
          "2023-08-25T00:00:00.000000000",
          "2023-08-26T00:00:00.000000000",
          "2023-08-27T00:00:00.000000000",
          "2023-08-28T00:00:00.000000000",
          "2023-08-29T00:00:00.000000000",
          "2023-08-30T00:00:00.000000000",
          "2023-08-31T00:00:00.000000000",
          "2023-09-01T00:00:00.000000000",
          "2023-09-02T00:00:00.000000000",
          "2023-09-03T00:00:00.000000000",
          "2023-09-04T00:00:00.000000000",
          "2023-09-05T00:00:00.000000000",
          "2023-09-06T00:00:00.000000000",
          "2023-09-07T00:00:00.000000000",
          "2023-09-08T00:00:00.000000000",
          "2023-09-09T00:00:00.000000000",
          "2023-09-10T00:00:00.000000000",
          "2023-09-11T00:00:00.000000000",
          "2023-09-12T00:00:00.000000000",
          "2023-09-13T00:00:00.000000000",
          "2023-09-14T00:00:00.000000000",
          "2023-09-15T00:00:00.000000000",
          "2023-09-16T00:00:00.000000000",
          "2023-09-17T00:00:00.000000000",
          "2023-09-18T00:00:00.000000000",
          "2023-09-19T00:00:00.000000000",
          "2023-09-20T00:00:00.000000000",
          "2023-09-21T00:00:00.000000000",
          "2023-09-22T00:00:00.000000000",
          "2023-09-23T00:00:00.000000000",
          "2023-09-24T00:00:00.000000000",
          "2023-09-25T00:00:00.000000000",
          "2023-09-26T00:00:00.000000000",
          "2023-09-27T00:00:00.000000000",
          "2023-09-28T00:00:00.000000000",
          "2023-09-29T00:00:00.000000000",
          "2023-09-30T00:00:00.000000000",
          "2023-10-01T00:00:00.000000000",
          "2023-10-02T00:00:00.000000000",
          "2023-10-03T00:00:00.000000000",
          "2023-10-04T00:00:00.000000000",
          "2023-10-05T00:00:00.000000000",
          "2023-10-06T00:00:00.000000000",
          "2023-10-07T00:00:00.000000000",
          "2023-10-08T00:00:00.000000000",
          "2023-10-09T00:00:00.000000000",
          "2023-10-10T00:00:00.000000000",
          "2023-10-11T00:00:00.000000000",
          "2023-10-12T00:00:00.000000000",
          "2023-10-13T00:00:00.000000000",
          "2023-10-14T00:00:00.000000000",
          "2023-10-15T00:00:00.000000000",
          "2023-10-16T00:00:00.000000000",
          "2023-10-17T00:00:00.000000000",
          "2023-10-18T00:00:00.000000000",
          "2023-10-19T00:00:00.000000000",
          "2023-10-20T00:00:00.000000000",
          "2023-10-21T00:00:00.000000000",
          "2023-10-22T00:00:00.000000000",
          "2023-10-23T00:00:00.000000000",
          "2023-10-24T00:00:00.000000000",
          "2023-10-25T00:00:00.000000000",
          "2023-10-26T00:00:00.000000000",
          "2023-10-27T00:00:00.000000000",
          "2023-10-28T00:00:00.000000000",
          "2023-10-29T00:00:00.000000000",
          "2023-10-30T00:00:00.000000000",
          "2023-10-31T00:00:00.000000000",
          "2023-11-01T00:00:00.000000000",
          "2023-11-02T00:00:00.000000000",
          "2023-11-03T00:00:00.000000000",
          "2023-11-04T00:00:00.000000000",
          "2023-11-05T00:00:00.000000000",
          "2023-11-06T00:00:00.000000000",
          "2023-11-07T00:00:00.000000000",
          "2023-11-08T00:00:00.000000000",
          "2023-11-09T00:00:00.000000000",
          "2023-11-10T00:00:00.000000000",
          "2023-11-11T00:00:00.000000000",
          "2023-11-12T00:00:00.000000000",
          "2023-11-13T00:00:00.000000000",
          "2023-11-14T00:00:00.000000000",
          "2023-11-15T00:00:00.000000000",
          "2023-11-16T00:00:00.000000000",
          "2023-11-17T00:00:00.000000000",
          "2023-11-18T00:00:00.000000000",
          "2023-11-19T00:00:00.000000000",
          "2023-11-20T00:00:00.000000000",
          "2023-11-21T00:00:00.000000000",
          "2023-11-22T00:00:00.000000000",
          "2023-11-23T00:00:00.000000000",
          "2023-11-24T00:00:00.000000000",
          "2023-11-25T00:00:00.000000000",
          "2023-11-26T00:00:00.000000000",
          "2023-11-27T00:00:00.000000000",
          "2023-11-28T00:00:00.000000000",
          "2023-11-29T00:00:00.000000000",
          "2023-11-30T00:00:00.000000000",
          "2023-12-01T00:00:00.000000000",
          "2023-12-02T00:00:00.000000000",
          "2023-12-03T00:00:00.000000000",
          "2023-12-04T00:00:00.000000000",
          "2023-12-05T00:00:00.000000000",
          "2023-12-06T00:00:00.000000000",
          "2023-12-07T00:00:00.000000000",
          "2023-12-08T00:00:00.000000000",
          "2023-12-09T00:00:00.000000000",
          "2023-12-10T00:00:00.000000000",
          "2023-12-11T00:00:00.000000000",
          "2023-12-12T00:00:00.000000000",
          "2023-12-13T00:00:00.000000000",
          "2023-12-14T00:00:00.000000000",
          "2023-12-15T00:00:00.000000000",
          "2023-12-16T00:00:00.000000000",
          "2023-12-17T00:00:00.000000000",
          "2023-12-18T00:00:00.000000000",
          "2023-12-19T00:00:00.000000000",
          "2023-12-20T00:00:00.000000000",
          "2023-12-21T00:00:00.000000000",
          "2023-12-22T00:00:00.000000000",
          "2023-12-23T00:00:00.000000000",
          "2023-12-24T00:00:00.000000000",
          "2023-12-25T00:00:00.000000000",
          "2023-12-26T00:00:00.000000000",
          "2023-12-27T00:00:00.000000000",
          "2023-12-28T00:00:00.000000000",
          "2023-12-29T00:00:00.000000000",
          "2023-12-30T00:00:00.000000000",
          "2023-12-31T00:00:00.000000000",
          "2024-01-01T00:00:00.000000000",
          "2024-01-02T00:00:00.000000000",
          "2024-01-03T00:00:00.000000000",
          "2024-01-04T00:00:00.000000000",
          "2024-01-05T00:00:00.000000000",
          "2024-01-06T00:00:00.000000000",
          "2024-01-07T00:00:00.000000000",
          "2024-01-08T00:00:00.000000000",
          "2024-01-09T00:00:00.000000000",
          "2024-01-10T00:00:00.000000000",
          "2024-01-11T00:00:00.000000000",
          "2024-01-12T00:00:00.000000000",
          "2024-01-13T00:00:00.000000000",
          "2024-01-14T00:00:00.000000000",
          "2024-01-15T00:00:00.000000000",
          "2024-01-16T00:00:00.000000000",
          "2024-01-17T00:00:00.000000000",
          "2024-01-18T00:00:00.000000000",
          "2024-01-19T00:00:00.000000000",
          "2024-01-20T00:00:00.000000000",
          "2024-01-21T00:00:00.000000000",
          "2024-01-22T00:00:00.000000000",
          "2024-01-23T00:00:00.000000000",
          "2024-01-24T00:00:00.000000000",
          "2024-01-25T00:00:00.000000000",
          "2024-01-26T00:00:00.000000000",
          "2024-01-27T00:00:00.000000000",
          "2024-01-28T00:00:00.000000000",
          "2024-01-29T00:00:00.000000000",
          "2024-01-30T00:00:00.000000000",
          "2024-01-31T00:00:00.000000000",
          "2024-02-01T00:00:00.000000000",
          "2024-02-02T00:00:00.000000000",
          "2024-02-03T00:00:00.000000000",
          "2024-02-04T00:00:00.000000000",
          "2024-02-05T00:00:00.000000000",
          "2024-02-06T00:00:00.000000000"
         ]
        },
        {
         "line": {
          "color": "orange",
          "dash": "dash",
          "width": 2
         },
         "mode": "lines",
         "name": "line_close_D",
         "showlegend": true,
         "type": "scatter",
         "x": [
          "2023-09-11T00:00:00",
          "2024-02-06T00:00:00"
         ],
         "y": [
          25154.7,
          25154.7
         ]
        },
        {
         "line": {
          "color": "orange",
          "dash": "dash",
          "width": 2
         },
         "mode": "lines",
         "name": "line_close_D",
         "showlegend": true,
         "type": "scatter",
         "x": [
          "2023-09-26T00:00:00",
          "2024-02-06T00:00:00"
         ],
         "y": [
          26207.4,
          26207.4
         ]
        },
        {
         "line": {
          "color": "orange",
          "dash": "dash",
          "width": 2
         },
         "mode": "lines",
         "name": "line_close_D",
         "showlegend": true,
         "type": "scatter",
         "x": [
          "2023-10-12T00:00:00",
          "2024-02-06T00:00:00"
         ],
         "y": [
          26746.4,
          26746.4
         ]
        },
        {
         "line": {
          "color": "orange",
          "dash": "dash",
          "width": 2
         },
         "mode": "lines",
         "name": "line_close_D",
         "showlegend": true,
         "type": "scatter",
         "x": [
          "2023-10-14T00:00:00",
          "2024-02-06T00:00:00"
         ],
         "y": [
          26841.6,
          26841.6
         ]
        },
        {
         "line": {
          "color": "orange",
          "dash": "dash",
          "width": 2
         },
         "mode": "lines",
         "name": "line_close_D",
         "showlegend": true,
         "type": "scatter",
         "x": [
          "2023-10-18T00:00:00",
          "2024-02-06T00:00:00"
         ],
         "y": [
          28309.1,
          28309.1
         ]
        },
        {
         "line": {
          "color": "orange",
          "dash": "dash",
          "width": 2
         },
         "mode": "lines",
         "name": "line_close_D",
         "showlegend": true,
         "type": "scatter",
         "x": [
          "2023-10-27T00:00:00",
          "2024-02-06T00:00:00"
         ],
         "y": [
          33911,
          33911
         ]
        },
        {
         "line": {
          "color": "orange",
          "dash": "dash",
          "width": 2
         },
         "mode": "lines",
         "name": "line_close_D",
         "showlegend": true,
         "type": "scatter",
         "x": [
          "2023-11-21T00:00:00",
          "2024-02-06T00:00:00"
         ],
         "y": [
          35741.1,
          35741.1
         ]
        },
        {
         "line": {
          "color": "orange",
          "dash": "dash",
          "width": 2
         },
         "mode": "lines",
         "name": "line_close_D",
         "showlegend": true,
         "type": "scatter",
         "x": [
          "2023-11-27T00:00:00",
          "2024-02-06T00:00:00"
         ],
         "y": [
          37256,
          37256
         ]
        },
        {
         "line": {
          "color": "orange",
          "dash": "dash",
          "width": 2
         },
         "mode": "lines",
         "name": "line_close_D",
         "showlegend": true,
         "type": "scatter",
         "x": [
          "2023-11-30T00:00:00",
          "2024-02-06T00:00:00"
         ],
         "y": [
          37727.4,
          37727.4
         ]
        },
        {
         "line": {
          "color": "orange",
          "dash": "dash",
          "width": 2
         },
         "mode": "lines",
         "name": "line_close_D",
         "showlegend": true,
         "type": "scatter",
         "x": [
          "2024-01-10T00:00:00",
          "2024-02-06T00:00:00"
         ],
         "y": [
          46659.9,
          46659.9
         ]
        },
        {
         "line": {
          "color": "orange",
          "dash": "dash",
          "width": 2
         },
         "mode": "lines",
         "name": "line_close_D",
         "showlegend": true,
         "type": "scatter",
         "x": [
          "2024-01-25T00:00:00",
          "2024-02-06T00:00:00"
         ],
         "y": [
          39954,
          39954
         ]
        },
        {
         "line": {
          "color": "orange",
          "dash": "dash",
          "width": 2
         },
         "mode": "lines",
         "name": "max_level_D",
         "showlegend": true,
         "type": "scatter",
         "x": [
          "2023-07-20T00:00:00",
          "2024-02-06T00:00:00"
         ],
         "y": [
          49054.4,
          49054.4
         ]
        },
        {
         "line": {
          "color": "orange",
          "dash": "dash",
          "width": 2
         },
         "mode": "lines",
         "name": "min_level_D",
         "showlegend": true,
         "type": "scatter",
         "x": [
          "2023-07-20T00:00:00",
          "2024-02-06T00:00:00"
         ],
         "y": [
          24200.9,
          24200.9
         ]
        }
       ],
       "layout": {
        "height": 800,
        "showlegend": false,
        "template": {
         "data": {
          "bar": [
           {
            "error_x": {
             "color": "#f2f5fa"
            },
            "error_y": {
             "color": "#f2f5fa"
            },
            "marker": {
             "line": {
              "color": "rgb(17,17,17)",
              "width": 0.5
             },
             "pattern": {
              "fillmode": "overlay",
              "size": 10,
              "solidity": 0.2
             }
            },
            "type": "bar"
           }
          ],
          "barpolar": [
           {
            "marker": {
             "line": {
              "color": "rgb(17,17,17)",
              "width": 0.5
             },
             "pattern": {
              "fillmode": "overlay",
              "size": 10,
              "solidity": 0.2
             }
            },
            "type": "barpolar"
           }
          ],
          "carpet": [
           {
            "aaxis": {
             "endlinecolor": "#A2B1C6",
             "gridcolor": "#506784",
             "linecolor": "#506784",
             "minorgridcolor": "#506784",
             "startlinecolor": "#A2B1C6"
            },
            "baxis": {
             "endlinecolor": "#A2B1C6",
             "gridcolor": "#506784",
             "linecolor": "#506784",
             "minorgridcolor": "#506784",
             "startlinecolor": "#A2B1C6"
            },
            "type": "carpet"
           }
          ],
          "choropleth": [
           {
            "colorbar": {
             "outlinewidth": 0,
             "ticks": ""
            },
            "type": "choropleth"
           }
          ],
          "contour": [
           {
            "colorbar": {
             "outlinewidth": 0,
             "ticks": ""
            },
            "colorscale": [
             [
              0,
              "#0d0887"
             ],
             [
              0.1111111111111111,
              "#46039f"
             ],
             [
              0.2222222222222222,
              "#7201a8"
             ],
             [
              0.3333333333333333,
              "#9c179e"
             ],
             [
              0.4444444444444444,
              "#bd3786"
             ],
             [
              0.5555555555555556,
              "#d8576b"
             ],
             [
              0.6666666666666666,
              "#ed7953"
             ],
             [
              0.7777777777777778,
              "#fb9f3a"
             ],
             [
              0.8888888888888888,
              "#fdca26"
             ],
             [
              1,
              "#f0f921"
             ]
            ],
            "type": "contour"
           }
          ],
          "contourcarpet": [
           {
            "colorbar": {
             "outlinewidth": 0,
             "ticks": ""
            },
            "type": "contourcarpet"
           }
          ],
          "heatmap": [
           {
            "colorbar": {
             "outlinewidth": 0,
             "ticks": ""
            },
            "colorscale": [
             [
              0,
              "#0d0887"
             ],
             [
              0.1111111111111111,
              "#46039f"
             ],
             [
              0.2222222222222222,
              "#7201a8"
             ],
             [
              0.3333333333333333,
              "#9c179e"
             ],
             [
              0.4444444444444444,
              "#bd3786"
             ],
             [
              0.5555555555555556,
              "#d8576b"
             ],
             [
              0.6666666666666666,
              "#ed7953"
             ],
             [
              0.7777777777777778,
              "#fb9f3a"
             ],
             [
              0.8888888888888888,
              "#fdca26"
             ],
             [
              1,
              "#f0f921"
             ]
            ],
            "type": "heatmap"
           }
          ],
          "histogram": [
           {
            "marker": {
             "pattern": {
              "fillmode": "overlay",
              "size": 10,
              "solidity": 0.2
             }
            },
            "type": "histogram"
           }
          ],
          "histogram2d": [
           {
            "colorbar": {
             "outlinewidth": 0,
             "ticks": ""
            },
            "colorscale": [
             [
              0,
              "#0d0887"
             ],
             [
              0.1111111111111111,
              "#46039f"
             ],
             [
              0.2222222222222222,
              "#7201a8"
             ],
             [
              0.3333333333333333,
              "#9c179e"
             ],
             [
              0.4444444444444444,
              "#bd3786"
             ],
             [
              0.5555555555555556,
              "#d8576b"
             ],
             [
              0.6666666666666666,
              "#ed7953"
             ],
             [
              0.7777777777777778,
              "#fb9f3a"
             ],
             [
              0.8888888888888888,
              "#fdca26"
             ],
             [
              1,
              "#f0f921"
             ]
            ],
            "type": "histogram2d"
           }
          ],
          "histogram2dcontour": [
           {
            "colorbar": {
             "outlinewidth": 0,
             "ticks": ""
            },
            "colorscale": [
             [
              0,
              "#0d0887"
             ],
             [
              0.1111111111111111,
              "#46039f"
             ],
             [
              0.2222222222222222,
              "#7201a8"
             ],
             [
              0.3333333333333333,
              "#9c179e"
             ],
             [
              0.4444444444444444,
              "#bd3786"
             ],
             [
              0.5555555555555556,
              "#d8576b"
             ],
             [
              0.6666666666666666,
              "#ed7953"
             ],
             [
              0.7777777777777778,
              "#fb9f3a"
             ],
             [
              0.8888888888888888,
              "#fdca26"
             ],
             [
              1,
              "#f0f921"
             ]
            ],
            "type": "histogram2dcontour"
           }
          ],
          "mesh3d": [
           {
            "colorbar": {
             "outlinewidth": 0,
             "ticks": ""
            },
            "type": "mesh3d"
           }
          ],
          "parcoords": [
           {
            "line": {
             "colorbar": {
              "outlinewidth": 0,
              "ticks": ""
             }
            },
            "type": "parcoords"
           }
          ],
          "pie": [
           {
            "automargin": true,
            "type": "pie"
           }
          ],
          "scatter": [
           {
            "marker": {
             "line": {
              "color": "#283442"
             }
            },
            "type": "scatter"
           }
          ],
          "scatter3d": [
           {
            "line": {
             "colorbar": {
              "outlinewidth": 0,
              "ticks": ""
             }
            },
            "marker": {
             "colorbar": {
              "outlinewidth": 0,
              "ticks": ""
             }
            },
            "type": "scatter3d"
           }
          ],
          "scattercarpet": [
           {
            "marker": {
             "colorbar": {
              "outlinewidth": 0,
              "ticks": ""
             }
            },
            "type": "scattercarpet"
           }
          ],
          "scattergeo": [
           {
            "marker": {
             "colorbar": {
              "outlinewidth": 0,
              "ticks": ""
             }
            },
            "type": "scattergeo"
           }
          ],
          "scattergl": [
           {
            "marker": {
             "line": {
              "color": "#283442"
             }
            },
            "type": "scattergl"
           }
          ],
          "scattermap": [
           {
            "marker": {
             "colorbar": {
              "outlinewidth": 0,
              "ticks": ""
             }
            },
            "type": "scattermap"
           }
          ],
          "scattermapbox": [
           {
            "marker": {
             "colorbar": {
              "outlinewidth": 0,
              "ticks": ""
             }
            },
            "type": "scattermapbox"
           }
          ],
          "scatterpolar": [
           {
            "marker": {
             "colorbar": {
              "outlinewidth": 0,
              "ticks": ""
             }
            },
            "type": "scatterpolar"
           }
          ],
          "scatterpolargl": [
           {
            "marker": {
             "colorbar": {
              "outlinewidth": 0,
              "ticks": ""
             }
            },
            "type": "scatterpolargl"
           }
          ],
          "scatterternary": [
           {
            "marker": {
             "colorbar": {
              "outlinewidth": 0,
              "ticks": ""
             }
            },
            "type": "scatterternary"
           }
          ],
          "surface": [
           {
            "colorbar": {
             "outlinewidth": 0,
             "ticks": ""
            },
            "colorscale": [
             [
              0,
              "#0d0887"
             ],
             [
              0.1111111111111111,
              "#46039f"
             ],
             [
              0.2222222222222222,
              "#7201a8"
             ],
             [
              0.3333333333333333,
              "#9c179e"
             ],
             [
              0.4444444444444444,
              "#bd3786"
             ],
             [
              0.5555555555555556,
              "#d8576b"
             ],
             [
              0.6666666666666666,
              "#ed7953"
             ],
             [
              0.7777777777777778,
              "#fb9f3a"
             ],
             [
              0.8888888888888888,
              "#fdca26"
             ],
             [
              1,
              "#f0f921"
             ]
            ],
            "type": "surface"
           }
          ],
          "table": [
           {
            "cells": {
             "fill": {
              "color": "#506784"
             },
             "line": {
              "color": "rgb(17,17,17)"
             }
            },
            "header": {
             "fill": {
              "color": "#2a3f5f"
             },
             "line": {
              "color": "rgb(17,17,17)"
             }
            },
            "type": "table"
           }
          ]
         },
         "layout": {
          "annotationdefaults": {
           "arrowcolor": "#f2f5fa",
           "arrowhead": 0,
           "arrowwidth": 1
          },
          "autotypenumbers": "strict",
          "coloraxis": {
           "colorbar": {
            "outlinewidth": 0,
            "ticks": ""
           }
          },
          "colorscale": {
           "diverging": [
            [
             0,
             "#8e0152"
            ],
            [
             0.1,
             "#c51b7d"
            ],
            [
             0.2,
             "#de77ae"
            ],
            [
             0.3,
             "#f1b6da"
            ],
            [
             0.4,
             "#fde0ef"
            ],
            [
             0.5,
             "#f7f7f7"
            ],
            [
             0.6,
             "#e6f5d0"
            ],
            [
             0.7,
             "#b8e186"
            ],
            [
             0.8,
             "#7fbc41"
            ],
            [
             0.9,
             "#4d9221"
            ],
            [
             1,
             "#276419"
            ]
           ],
           "sequential": [
            [
             0,
             "#0d0887"
            ],
            [
             0.1111111111111111,
             "#46039f"
            ],
            [
             0.2222222222222222,
             "#7201a8"
            ],
            [
             0.3333333333333333,
             "#9c179e"
            ],
            [
             0.4444444444444444,
             "#bd3786"
            ],
            [
             0.5555555555555556,
             "#d8576b"
            ],
            [
             0.6666666666666666,
             "#ed7953"
            ],
            [
             0.7777777777777778,
             "#fb9f3a"
            ],
            [
             0.8888888888888888,
             "#fdca26"
            ],
            [
             1,
             "#f0f921"
            ]
           ],
           "sequentialminus": [
            [
             0,
             "#0d0887"
            ],
            [
             0.1111111111111111,
             "#46039f"
            ],
            [
             0.2222222222222222,
             "#7201a8"
            ],
            [
             0.3333333333333333,
             "#9c179e"
            ],
            [
             0.4444444444444444,
             "#bd3786"
            ],
            [
             0.5555555555555556,
             "#d8576b"
            ],
            [
             0.6666666666666666,
             "#ed7953"
            ],
            [
             0.7777777777777778,
             "#fb9f3a"
            ],
            [
             0.8888888888888888,
             "#fdca26"
            ],
            [
             1,
             "#f0f921"
            ]
           ]
          },
          "colorway": [
           "#636efa",
           "#EF553B",
           "#00cc96",
           "#ab63fa",
           "#FFA15A",
           "#19d3f3",
           "#FF6692",
           "#B6E880",
           "#FF97FF",
           "#FECB52"
          ],
          "font": {
           "color": "#f2f5fa"
          },
          "geo": {
           "bgcolor": "rgb(17,17,17)",
           "lakecolor": "rgb(17,17,17)",
           "landcolor": "rgb(17,17,17)",
           "showlakes": true,
           "showland": true,
           "subunitcolor": "#506784"
          },
          "hoverlabel": {
           "align": "left"
          },
          "hovermode": "closest",
          "mapbox": {
           "style": "dark"
          },
          "paper_bgcolor": "rgb(17,17,17)",
          "plot_bgcolor": "rgb(17,17,17)",
          "polar": {
           "angularaxis": {
            "gridcolor": "#506784",
            "linecolor": "#506784",
            "ticks": ""
           },
           "bgcolor": "rgb(17,17,17)",
           "radialaxis": {
            "gridcolor": "#506784",
            "linecolor": "#506784",
            "ticks": ""
           }
          },
          "scene": {
           "xaxis": {
            "backgroundcolor": "rgb(17,17,17)",
            "gridcolor": "#506784",
            "gridwidth": 2,
            "linecolor": "#506784",
            "showbackground": true,
            "ticks": "",
            "zerolinecolor": "#C8D4E3"
           },
           "yaxis": {
            "backgroundcolor": "rgb(17,17,17)",
            "gridcolor": "#506784",
            "gridwidth": 2,
            "linecolor": "#506784",
            "showbackground": true,
            "ticks": "",
            "zerolinecolor": "#C8D4E3"
           },
           "zaxis": {
            "backgroundcolor": "rgb(17,17,17)",
            "gridcolor": "#506784",
            "gridwidth": 2,
            "linecolor": "#506784",
            "showbackground": true,
            "ticks": "",
            "zerolinecolor": "#C8D4E3"
           }
          },
          "shapedefaults": {
           "line": {
            "color": "#f2f5fa"
           }
          },
          "sliderdefaults": {
           "bgcolor": "#C8D4E3",
           "bordercolor": "rgb(17,17,17)",
           "borderwidth": 1,
           "tickwidth": 0
          },
          "ternary": {
           "aaxis": {
            "gridcolor": "#506784",
            "linecolor": "#506784",
            "ticks": ""
           },
           "baxis": {
            "gridcolor": "#506784",
            "linecolor": "#506784",
            "ticks": ""
           },
           "bgcolor": "rgb(17,17,17)",
           "caxis": {
            "gridcolor": "#506784",
            "linecolor": "#506784",
            "ticks": ""
           }
          },
          "title": {
           "x": 0.05
          },
          "updatemenudefaults": {
           "bgcolor": "#506784",
           "borderwidth": 0
          },
          "xaxis": {
           "automargin": true,
           "gridcolor": "#283442",
           "linecolor": "#506784",
           "ticks": "",
           "title": {
            "standoff": 15
           },
           "zerolinecolor": "#283442",
           "zerolinewidth": 2
          },
          "yaxis": {
           "automargin": true,
           "gridcolor": "#283442",
           "linecolor": "#506784",
           "ticks": "",
           "title": {
            "standoff": 15
           },
           "zerolinecolor": "#283442",
           "zerolinewidth": 2
          }
         }
        },
        "title": {
         "text": "BTCUSDT - D - TA Chart Visualizer"
        },
        "xaxis": {
         "fixedrange": false,
         "rangeslider": {
          "visible": false
         },
         "title": {
          "text": "Time"
         }
        },
        "yaxis": {
         "fixedrange": false,
         "title": {
          "text": "Price"
         },
         "type": "log"
        }
       }
      }
     },
     "metadata": {},
     "output_type": "display_data"
    },
    {
     "name": "stdout",
     "output_type": "stream",
     "text": [
      "\n",
      "======================================================================\n",
      "📊 Visualizing Segment 8/10: BTCUSDT - D\n",
      "   Period: 2024-02-07 00:00 to 2024-08-26 00:00\n",
      "======================================================================\n",
      "Processing 202 candles for BTCUSDT at D interval\n",
      "   Middlewares: ['levels_middleware']\n"
     ]
    },
    {
     "data": {
      "application/vnd.plotly.v1+json": {
       "config": {
        "plotlyServerURL": "https://plot.ly"
       },
       "data": [
        {
         "close": {
          "bdata": "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",
          "dtype": "f8"
         },
         "high": {
          "bdata": "MzMzM2Or5UBmZmZmhkfmQAAAAADAjOdAzczMzLyI50AAAAAAcLvnQGZmZmbmoOhAAAAAANCf6EDNzMzMTHDpQAAAAADw0elAAAAAACCy6UAAAAAAAH3pQGZmZmYWnelAZmZmZuap6UAAAAAAAPDpQAAAAACQlulAZmZmZvZy6UBmZmZmdi7pQGZmZmbWQ+lAAAAAAABk6UBmZmZmBtrqQAAAAABgLOxAZmZmZhZ+70AzMzMzkybvQM3MzMy82e5AAAAAAGCE7kAAAAAAoOzuQM3MzMzsxPBAMzMzM7Pw8EAAAAAASIvwQM3MzMwEpPBAAAAAAAAr8UAAAAAA4L/wQJqZmZnRGPFAmpmZmXnN8UAAAAAA8OrxQGZmZmZeAfJAAAAAANAN8kAAAAAA0LTxQM3MzMwUHPFAAAAAAKDW8EAAAAAAANvwQGZmZmbupPBAMzMzM1Oi8EAzMzMz+6vwQJqZmZmpRvBAMzMzMwsh8EDNzMzMLIfwQM3MzMzkZvFAAAAAACB+8UAAAAAAoI3xQM3MzMz8e/FAAAAAAOBU8UAAAAAAADDxQDMzMzOjdfFAmpmZmSlu8UBmZmZm/gbxQAAAAABgWPBAzczMzDzs8EBmZmZmfsrwQGZmZmY+BPFAAAAAAOAt8UAAAAAAaMnxQAAAAABgiPFAAAAAAFBm8UAzMzMz22rxQJqZmZkRZ/FAmpmZmRmW8EAAAAAAABLwQGZmZmYuUfBAMzMzM7Ns70DNzMzM/HvvQDMzMzPDVO9AMzMzM/Py70AAAAAA4O/vQDMzMzPjCfBAZmZmZu5n8EAzMzMzm2TwQAAAAADIYPBAmpmZmQnf70AAAAAAwKPvQAAAAACAM+9AmpmZmRlq70AAAAAAIFjvQJqZmZkpmO9AAAAAAICy7UAAAAAAoBftQGZmZmb27e5AzczMzHx+70AAAAAAwI7vQAAAAABAAPBAZmZmZtZx70AAAAAAEMbuQAAAAACw9e5AmpmZmfn67kAAAAAAgAfuQGZmZmbGM+5AmpmZman57kDNzMzM/M7uQAAAAADgN/BAAAAAACBN8EDNzMzMPHfwQAAAAAAocfBAMzMzM5uJ8EDNzMzMZH3xQDMzMzPbl/FAAAAAAJBD8UBmZmZm9iDxQGZmZmb+6fBAzczMzEQA8UAzMzMz6/3wQGZmZmYeRfFAMzMzM9v+8EAAAAAA0NfwQAAAAACA+/BAAAAAAFDd8EAAAAAAYJbwQJqZmZkpufBAmpmZmYEs8UAAAAAAYFzxQJqZmZm5iPFAZmZmZj6B8UAAAAAAkJ7xQAAAAACo/vBAMzMzM4sO8UCamZmZSSLxQAAAAAAg/PBAAAAAAAAX8UAAAAAAQLnwQAAAAADQcPBAmpmZmeE48ECamZmZWVjwQGZmZmaebfBAzczMzIw/8EAAAAAAQArwQAAAAACgOfBAZmZmZtbF70DNzMzMXH7vQDMzMzODfO9AzczMzDzs7kCamZmZKXjuQM3MzMx8gO5AAAAAAIB17kAAAAAAQGHuQM3MzMzc4e1AmpmZmSnI7kAAAAAAoCzvQAAAAABg4+5AAAAAAEBl7kAzMzMzE4btQM3MzMxsFuxAMzMzMzOP7EAAAAAAgIbsQM3MzMxsauxAZmZmZnZ57EDNzMzM7AntQAAAAACwIe1AZmZmZkaS7EDNzMzMvDvtQM3MzMx8+e1AAAAAAICw70AAAAAAoOrvQDMzMzNzJPBAzczMzJzN70BmZmZmhnLwQGZmZmb+gPBAMzMzMzux8EBmZmZmPrfwQM3MzMx8iPBAMzMzMxNi8EDNzMzM3CnwQJqZmZlJp/BAAAAAAIDx8EBmZmZmHq/wQGZmZmaOH/FAZmZmZu5Y8EAAAAAAAFHwQM3MzMwkBvBAZmZmZoYC8EAAAAAAQFnuQAAAAAAA1O1AmpmZmcl07EAzMzMzA9zrQAAAAABQNOxAMzMzM+Oi7kAAAAAAoCTuQM3MzMx8Au5AAAAAAAA37kAAAAAAcKLtQGZmZmYWEe5AmpmZmck/7kBmZmZmNjftQDMzMzMDM+1AmpmZmVkm7UAAAAAAEHDtQAAAAAAAGu1AmpmZmfkB7kAAAAAAYDHuQGZmZmZG+e1AzczMzDzC70AAAAAAoHzvQDMzMzMTvO9AMzMzM/N370A=",
          "dtype": "f8"
         },
         "low": {
          "bdata": "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",
          "dtype": "f8"
         },
         "name": "Candlestick",
         "open": {
          "bdata": "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",
          "dtype": "f8"
         },
         "showlegend": false,
         "type": "candlestick",
         "x": [
          "2024-02-07T00:00:00.000000000",
          "2024-02-08T00:00:00.000000000",
          "2024-02-09T00:00:00.000000000",
          "2024-02-10T00:00:00.000000000",
          "2024-02-11T00:00:00.000000000",
          "2024-02-12T00:00:00.000000000",
          "2024-02-13T00:00:00.000000000",
          "2024-02-14T00:00:00.000000000",
          "2024-02-15T00:00:00.000000000",
          "2024-02-16T00:00:00.000000000",
          "2024-02-17T00:00:00.000000000",
          "2024-02-18T00:00:00.000000000",
          "2024-02-19T00:00:00.000000000",
          "2024-02-20T00:00:00.000000000",
          "2024-02-21T00:00:00.000000000",
          "2024-02-22T00:00:00.000000000",
          "2024-02-23T00:00:00.000000000",
          "2024-02-24T00:00:00.000000000",
          "2024-02-25T00:00:00.000000000",
          "2024-02-26T00:00:00.000000000",
          "2024-02-27T00:00:00.000000000",
          "2024-02-28T00:00:00.000000000",
          "2024-02-29T00:00:00.000000000",
          "2024-03-01T00:00:00.000000000",
          "2024-03-02T00:00:00.000000000",
          "2024-03-03T00:00:00.000000000",
          "2024-03-04T00:00:00.000000000",
          "2024-03-05T00:00:00.000000000",
          "2024-03-06T00:00:00.000000000",
          "2024-03-07T00:00:00.000000000",
          "2024-03-08T00:00:00.000000000",
          "2024-03-09T00:00:00.000000000",
          "2024-03-10T00:00:00.000000000",
          "2024-03-11T00:00:00.000000000",
          "2024-03-12T00:00:00.000000000",
          "2024-03-13T00:00:00.000000000",
          "2024-03-14T00:00:00.000000000",
          "2024-03-15T00:00:00.000000000",
          "2024-03-16T00:00:00.000000000",
          "2024-03-17T00:00:00.000000000",
          "2024-03-18T00:00:00.000000000",
          "2024-03-19T00:00:00.000000000",
          "2024-03-20T00:00:00.000000000",
          "2024-03-21T00:00:00.000000000",
          "2024-03-22T00:00:00.000000000",
          "2024-03-23T00:00:00.000000000",
          "2024-03-24T00:00:00.000000000",
          "2024-03-25T00:00:00.000000000",
          "2024-03-26T00:00:00.000000000",
          "2024-03-27T00:00:00.000000000",
          "2024-03-28T00:00:00.000000000",
          "2024-03-29T00:00:00.000000000",
          "2024-03-30T00:00:00.000000000",
          "2024-03-31T00:00:00.000000000",
          "2024-04-01T00:00:00.000000000",
          "2024-04-02T00:00:00.000000000",
          "2024-04-03T00:00:00.000000000",
          "2024-04-04T00:00:00.000000000",
          "2024-04-05T00:00:00.000000000",
          "2024-04-06T00:00:00.000000000",
          "2024-04-07T00:00:00.000000000",
          "2024-04-08T00:00:00.000000000",
          "2024-04-09T00:00:00.000000000",
          "2024-04-10T00:00:00.000000000",
          "2024-04-11T00:00:00.000000000",
          "2024-04-12T00:00:00.000000000",
          "2024-04-13T00:00:00.000000000",
          "2024-04-14T00:00:00.000000000",
          "2024-04-15T00:00:00.000000000",
          "2024-04-16T00:00:00.000000000",
          "2024-04-17T00:00:00.000000000",
          "2024-04-18T00:00:00.000000000",
          "2024-04-19T00:00:00.000000000",
          "2024-04-20T00:00:00.000000000",
          "2024-04-21T00:00:00.000000000",
          "2024-04-22T00:00:00.000000000",
          "2024-04-23T00:00:00.000000000",
          "2024-04-24T00:00:00.000000000",
          "2024-04-25T00:00:00.000000000",
          "2024-04-26T00:00:00.000000000",
          "2024-04-27T00:00:00.000000000",
          "2024-04-28T00:00:00.000000000",
          "2024-04-29T00:00:00.000000000",
          "2024-04-30T00:00:00.000000000",
          "2024-05-01T00:00:00.000000000",
          "2024-05-02T00:00:00.000000000",
          "2024-05-03T00:00:00.000000000",
          "2024-05-04T00:00:00.000000000",
          "2024-05-05T00:00:00.000000000",
          "2024-05-06T00:00:00.000000000",
          "2024-05-07T00:00:00.000000000",
          "2024-05-08T00:00:00.000000000",
          "2024-05-09T00:00:00.000000000",
          "2024-05-10T00:00:00.000000000",
          "2024-05-11T00:00:00.000000000",
          "2024-05-12T00:00:00.000000000",
          "2024-05-13T00:00:00.000000000",
          "2024-05-14T00:00:00.000000000",
          "2024-05-15T00:00:00.000000000",
          "2024-05-16T00:00:00.000000000",
          "2024-05-17T00:00:00.000000000",
          "2024-05-18T00:00:00.000000000",
          "2024-05-19T00:00:00.000000000",
          "2024-05-20T00:00:00.000000000",
          "2024-05-21T00:00:00.000000000",
          "2024-05-22T00:00:00.000000000",
          "2024-05-23T00:00:00.000000000",
          "2024-05-24T00:00:00.000000000",
          "2024-05-25T00:00:00.000000000",
          "2024-05-26T00:00:00.000000000",
          "2024-05-27T00:00:00.000000000",
          "2024-05-28T00:00:00.000000000",
          "2024-05-29T00:00:00.000000000",
          "2024-05-30T00:00:00.000000000",
          "2024-05-31T00:00:00.000000000",
          "2024-06-01T00:00:00.000000000",
          "2024-06-02T00:00:00.000000000",
          "2024-06-03T00:00:00.000000000",
          "2024-06-04T00:00:00.000000000",
          "2024-06-05T00:00:00.000000000",
          "2024-06-06T00:00:00.000000000",
          "2024-06-07T00:00:00.000000000",
          "2024-06-08T00:00:00.000000000",
          "2024-06-09T00:00:00.000000000",
          "2024-06-10T00:00:00.000000000",
          "2024-06-11T00:00:00.000000000",
          "2024-06-12T00:00:00.000000000",
          "2024-06-13T00:00:00.000000000",
          "2024-06-14T00:00:00.000000000",
          "2024-06-15T00:00:00.000000000",
          "2024-06-16T00:00:00.000000000",
          "2024-06-17T00:00:00.000000000",
          "2024-06-18T00:00:00.000000000",
          "2024-06-19T00:00:00.000000000",
          "2024-06-20T00:00:00.000000000",
          "2024-06-21T00:00:00.000000000",
          "2024-06-22T00:00:00.000000000",
          "2024-06-23T00:00:00.000000000",
          "2024-06-24T00:00:00.000000000",
          "2024-06-25T00:00:00.000000000",
          "2024-06-26T00:00:00.000000000",
          "2024-06-27T00:00:00.000000000",
          "2024-06-28T00:00:00.000000000",
          "2024-06-29T00:00:00.000000000",
          "2024-06-30T00:00:00.000000000",
          "2024-07-01T00:00:00.000000000",
          "2024-07-02T00:00:00.000000000",
          "2024-07-03T00:00:00.000000000",
          "2024-07-04T00:00:00.000000000",
          "2024-07-05T00:00:00.000000000",
          "2024-07-06T00:00:00.000000000",
          "2024-07-07T00:00:00.000000000",
          "2024-07-08T00:00:00.000000000",
          "2024-07-09T00:00:00.000000000",
          "2024-07-10T00:00:00.000000000",
          "2024-07-11T00:00:00.000000000",
          "2024-07-12T00:00:00.000000000",
          "2024-07-13T00:00:00.000000000",
          "2024-07-14T00:00:00.000000000",
          "2024-07-15T00:00:00.000000000",
          "2024-07-16T00:00:00.000000000",
          "2024-07-17T00:00:00.000000000",
          "2024-07-18T00:00:00.000000000",
          "2024-07-19T00:00:00.000000000",
          "2024-07-20T00:00:00.000000000",
          "2024-07-21T00:00:00.000000000",
          "2024-07-22T00:00:00.000000000",
          "2024-07-23T00:00:00.000000000",
          "2024-07-24T00:00:00.000000000",
          "2024-07-25T00:00:00.000000000",
          "2024-07-26T00:00:00.000000000",
          "2024-07-27T00:00:00.000000000",
          "2024-07-28T00:00:00.000000000",
          "2024-07-29T00:00:00.000000000",
          "2024-07-30T00:00:00.000000000",
          "2024-07-31T00:00:00.000000000",
          "2024-08-01T00:00:00.000000000",
          "2024-08-02T00:00:00.000000000",
          "2024-08-03T00:00:00.000000000",
          "2024-08-04T00:00:00.000000000",
          "2024-08-05T00:00:00.000000000",
          "2024-08-06T00:00:00.000000000",
          "2024-08-07T00:00:00.000000000",
          "2024-08-08T00:00:00.000000000",
          "2024-08-09T00:00:00.000000000",
          "2024-08-10T00:00:00.000000000",
          "2024-08-11T00:00:00.000000000",
          "2024-08-12T00:00:00.000000000",
          "2024-08-13T00:00:00.000000000",
          "2024-08-14T00:00:00.000000000",
          "2024-08-15T00:00:00.000000000",
          "2024-08-16T00:00:00.000000000",
          "2024-08-17T00:00:00.000000000",
          "2024-08-18T00:00:00.000000000",
          "2024-08-19T00:00:00.000000000",
          "2024-08-20T00:00:00.000000000",
          "2024-08-21T00:00:00.000000000",
          "2024-08-22T00:00:00.000000000",
          "2024-08-23T00:00:00.000000000",
          "2024-08-24T00:00:00.000000000",
          "2024-08-25T00:00:00.000000000",
          "2024-08-26T00:00:00.000000000"
         ]
        },
        {
         "line": {
          "color": "orange",
          "dash": "dash",
          "width": 2
         },
         "mode": "lines",
         "name": "line_close_D",
         "showlegend": true,
         "type": "scatter",
         "x": [
          "2024-03-13T00:00:00",
          "2024-08-26T00:00:00"
         ],
         "y": [
          73133,
          73133
         ]
        },
        {
         "line": {
          "color": "orange",
          "dash": "dash",
          "width": 2
         },
         "mode": "lines",
         "name": "line_close_D",
         "showlegend": true,
         "type": "scatter",
         "x": [
          "2024-07-28T00:00:00",
          "2024-08-26T00:00:00"
         ],
         "y": [
          68240.9,
          68240.9
         ]
        },
        {
         "line": {
          "color": "orange",
          "dash": "dash",
          "width": 2
         },
         "mode": "lines",
         "name": "line_close_D",
         "showlegend": true,
         "type": "scatter",
         "x": [
          "2024-08-01T00:00:00",
          "2024-08-26T00:00:00"
         ],
         "y": [
          65341.1,
          65341.1
         ]
        },
        {
         "line": {
          "color": "orange",
          "dash": "dash",
          "width": 2
         },
         "mode": "lines",
         "name": "line_close_D",
         "showlegend": true,
         "type": "scatter",
         "x": [
          "2024-08-05T00:00:00",
          "2024-08-26T00:00:00"
         ],
         "y": [
          53988.2,
          53988.2
         ]
        },
        {
         "line": {
          "color": "orange",
          "dash": "dash",
          "width": 2
         },
         "mode": "lines",
         "name": "line_close_D",
         "showlegend": true,
         "type": "scatter",
         "x": [
          "2024-08-07T00:00:00",
          "2024-08-26T00:00:00"
         ],
         "y": [
          55109.5,
          55109.5
         ]
        },
        {
         "line": {
          "color": "orange",
          "dash": "dash",
          "width": 2
         },
         "mode": "lines",
         "name": "line_close_D",
         "showlegend": true,
         "type": "scatter",
         "x": [
          "2024-08-15T00:00:00",
          "2024-08-26T00:00:00"
         ],
         "y": [
          57515.9,
          57515.9
         ]
        },
        {
         "line": {
          "color": "orange",
          "dash": "dash",
          "width": 2
         },
         "mode": "lines",
         "name": "line_close_D",
         "showlegend": true,
         "type": "scatter",
         "x": [
          "2024-08-20T00:00:00",
          "2024-08-26T00:00:00"
         ],
         "y": [
          58978,
          58978
         ]
        },
        {
         "line": {
          "color": "orange",
          "dash": "dash",
          "width": 2
         },
         "mode": "lines",
         "name": "line_close_D",
         "showlegend": true,
         "type": "scatter",
         "x": [
          "2024-08-22T00:00:00",
          "2024-08-26T00:00:00"
         ],
         "y": [
          60355.3,
          60355.3
         ]
        },
        {
         "line": {
          "color": "orange",
          "dash": "dash",
          "width": 2
         },
         "mode": "lines",
         "name": "line_close_D",
         "showlegend": true,
         "type": "scatter",
         "x": [
          "2024-08-25T00:00:00",
          "2024-08-26T00:00:00"
         ],
         "y": [
          64180.9,
          64180.9
         ]
        },
        {
         "line": {
          "color": "orange",
          "dash": "dash",
          "width": 2
         },
         "mode": "lines",
         "name": "max_level_D",
         "showlegend": true,
         "type": "scatter",
         "x": [
          "2024-02-07T00:00:00",
          "2024-08-26T00:00:00"
         ],
         "y": [
          73949,
          73949
         ]
        },
        {
         "line": {
          "color": "orange",
          "dash": "dash",
          "width": 2
         },
         "mode": "lines",
         "name": "min_level_D",
         "showlegend": true,
         "type": "scatter",
         "x": [
          "2024-02-07T00:00:00",
          "2024-08-26T00:00:00"
         ],
         "y": [
          42774.2,
          42774.2
         ]
        }
       ],
       "layout": {
        "height": 800,
        "showlegend": false,
        "template": {
         "data": {
          "bar": [
           {
            "error_x": {
             "color": "#f2f5fa"
            },
            "error_y": {
             "color": "#f2f5fa"
            },
            "marker": {
             "line": {
              "color": "rgb(17,17,17)",
              "width": 0.5
             },
             "pattern": {
              "fillmode": "overlay",
              "size": 10,
              "solidity": 0.2
             }
            },
            "type": "bar"
           }
          ],
          "barpolar": [
           {
            "marker": {
             "line": {
              "color": "rgb(17,17,17)",
              "width": 0.5
             },
             "pattern": {
              "fillmode": "overlay",
              "size": 10,
              "solidity": 0.2
             }
            },
            "type": "barpolar"
           }
          ],
          "carpet": [
           {
            "aaxis": {
             "endlinecolor": "#A2B1C6",
             "gridcolor": "#506784",
             "linecolor": "#506784",
             "minorgridcolor": "#506784",
             "startlinecolor": "#A2B1C6"
            },
            "baxis": {
             "endlinecolor": "#A2B1C6",
             "gridcolor": "#506784",
             "linecolor": "#506784",
             "minorgridcolor": "#506784",
             "startlinecolor": "#A2B1C6"
            },
            "type": "carpet"
           }
          ],
          "choropleth": [
           {
            "colorbar": {
             "outlinewidth": 0,
             "ticks": ""
            },
            "type": "choropleth"
           }
          ],
          "contour": [
           {
            "colorbar": {
             "outlinewidth": 0,
             "ticks": ""
            },
            "colorscale": [
             [
              0,
              "#0d0887"
             ],
             [
              0.1111111111111111,
              "#46039f"
             ],
             [
              0.2222222222222222,
              "#7201a8"
             ],
             [
              0.3333333333333333,
              "#9c179e"
             ],
             [
              0.4444444444444444,
              "#bd3786"
             ],
             [
              0.5555555555555556,
              "#d8576b"
             ],
             [
              0.6666666666666666,
              "#ed7953"
             ],
             [
              0.7777777777777778,
              "#fb9f3a"
             ],
             [
              0.8888888888888888,
              "#fdca26"
             ],
             [
              1,
              "#f0f921"
             ]
            ],
            "type": "contour"
           }
          ],
          "contourcarpet": [
           {
            "colorbar": {
             "outlinewidth": 0,
             "ticks": ""
            },
            "type": "contourcarpet"
           }
          ],
          "heatmap": [
           {
            "colorbar": {
             "outlinewidth": 0,
             "ticks": ""
            },
            "colorscale": [
             [
              0,
              "#0d0887"
             ],
             [
              0.1111111111111111,
              "#46039f"
             ],
             [
              0.2222222222222222,
              "#7201a8"
             ],
             [
              0.3333333333333333,
              "#9c179e"
             ],
             [
              0.4444444444444444,
              "#bd3786"
             ],
             [
              0.5555555555555556,
              "#d8576b"
             ],
             [
              0.6666666666666666,
              "#ed7953"
             ],
             [
              0.7777777777777778,
              "#fb9f3a"
             ],
             [
              0.8888888888888888,
              "#fdca26"
             ],
             [
              1,
              "#f0f921"
             ]
            ],
            "type": "heatmap"
           }
          ],
          "histogram": [
           {
            "marker": {
             "pattern": {
              "fillmode": "overlay",
              "size": 10,
              "solidity": 0.2
             }
            },
            "type": "histogram"
           }
          ],
          "histogram2d": [
           {
            "colorbar": {
             "outlinewidth": 0,
             "ticks": ""
            },
            "colorscale": [
             [
              0,
              "#0d0887"
             ],
             [
              0.1111111111111111,
              "#46039f"
             ],
             [
              0.2222222222222222,
              "#7201a8"
             ],
             [
              0.3333333333333333,
              "#9c179e"
             ],
             [
              0.4444444444444444,
              "#bd3786"
             ],
             [
              0.5555555555555556,
              "#d8576b"
             ],
             [
              0.6666666666666666,
              "#ed7953"
             ],
             [
              0.7777777777777778,
              "#fb9f3a"
             ],
             [
              0.8888888888888888,
              "#fdca26"
             ],
             [
              1,
              "#f0f921"
             ]
            ],
            "type": "histogram2d"
           }
          ],
          "histogram2dcontour": [
           {
            "colorbar": {
             "outlinewidth": 0,
             "ticks": ""
            },
            "colorscale": [
             [
              0,
              "#0d0887"
             ],
             [
              0.1111111111111111,
              "#46039f"
             ],
             [
              0.2222222222222222,
              "#7201a8"
             ],
             [
              0.3333333333333333,
              "#9c179e"
             ],
             [
              0.4444444444444444,
              "#bd3786"
             ],
             [
              0.5555555555555556,
              "#d8576b"
             ],
             [
              0.6666666666666666,
              "#ed7953"
             ],
             [
              0.7777777777777778,
              "#fb9f3a"
             ],
             [
              0.8888888888888888,
              "#fdca26"
             ],
             [
              1,
              "#f0f921"
             ]
            ],
            "type": "histogram2dcontour"
           }
          ],
          "mesh3d": [
           {
            "colorbar": {
             "outlinewidth": 0,
             "ticks": ""
            },
            "type": "mesh3d"
           }
          ],
          "parcoords": [
           {
            "line": {
             "colorbar": {
              "outlinewidth": 0,
              "ticks": ""
             }
            },
            "type": "parcoords"
           }
          ],
          "pie": [
           {
            "automargin": true,
            "type": "pie"
           }
          ],
          "scatter": [
           {
            "marker": {
             "line": {
              "color": "#283442"
             }
            },
            "type": "scatter"
           }
          ],
          "scatter3d": [
           {
            "line": {
             "colorbar": {
              "outlinewidth": 0,
              "ticks": ""
             }
            },
            "marker": {
             "colorbar": {
              "outlinewidth": 0,
              "ticks": ""
             }
            },
            "type": "scatter3d"
           }
          ],
          "scattercarpet": [
           {
            "marker": {
             "colorbar": {
              "outlinewidth": 0,
              "ticks": ""
             }
            },
            "type": "scattercarpet"
           }
          ],
          "scattergeo": [
           {
            "marker": {
             "colorbar": {
              "outlinewidth": 0,
              "ticks": ""
             }
            },
            "type": "scattergeo"
           }
          ],
          "scattergl": [
           {
            "marker": {
             "line": {
              "color": "#283442"
             }
            },
            "type": "scattergl"
           }
          ],
          "scattermap": [
           {
            "marker": {
             "colorbar": {
              "outlinewidth": 0,
              "ticks": ""
             }
            },
            "type": "scattermap"
           }
          ],
          "scattermapbox": [
           {
            "marker": {
             "colorbar": {
              "outlinewidth": 0,
              "ticks": ""
             }
            },
            "type": "scattermapbox"
           }
          ],
          "scatterpolar": [
           {
            "marker": {
             "colorbar": {
              "outlinewidth": 0,
              "ticks": ""
             }
            },
            "type": "scatterpolar"
           }
          ],
          "scatterpolargl": [
           {
            "marker": {
             "colorbar": {
              "outlinewidth": 0,
              "ticks": ""
             }
            },
            "type": "scatterpolargl"
           }
          ],
          "scatterternary": [
           {
            "marker": {
             "colorbar": {
              "outlinewidth": 0,
              "ticks": ""
             }
            },
            "type": "scatterternary"
           }
          ],
          "surface": [
           {
            "colorbar": {
             "outlinewidth": 0,
             "ticks": ""
            },
            "colorscale": [
             [
              0,
              "#0d0887"
             ],
             [
              0.1111111111111111,
              "#46039f"
             ],
             [
              0.2222222222222222,
              "#7201a8"
             ],
             [
              0.3333333333333333,
              "#9c179e"
             ],
             [
              0.4444444444444444,
              "#bd3786"
             ],
             [
              0.5555555555555556,
              "#d8576b"
             ],
             [
              0.6666666666666666,
              "#ed7953"
             ],
             [
              0.7777777777777778,
              "#fb9f3a"
             ],
             [
              0.8888888888888888,
              "#fdca26"
             ],
             [
              1,
              "#f0f921"
             ]
            ],
            "type": "surface"
           }
          ],
          "table": [
           {
            "cells": {
             "fill": {
              "color": "#506784"
             },
             "line": {
              "color": "rgb(17,17,17)"
             }
            },
            "header": {
             "fill": {
              "color": "#2a3f5f"
             },
             "line": {
              "color": "rgb(17,17,17)"
             }
            },
            "type": "table"
           }
          ]
         },
         "layout": {
          "annotationdefaults": {
           "arrowcolor": "#f2f5fa",
           "arrowhead": 0,
           "arrowwidth": 1
          },
          "autotypenumbers": "strict",
          "coloraxis": {
           "colorbar": {
            "outlinewidth": 0,
            "ticks": ""
           }
          },
          "colorscale": {
           "diverging": [
            [
             0,
             "#8e0152"
            ],
            [
             0.1,
             "#c51b7d"
            ],
            [
             0.2,
             "#de77ae"
            ],
            [
             0.3,
             "#f1b6da"
            ],
            [
             0.4,
             "#fde0ef"
            ],
            [
             0.5,
             "#f7f7f7"
            ],
            [
             0.6,
             "#e6f5d0"
            ],
            [
             0.7,
             "#b8e186"
            ],
            [
             0.8,
             "#7fbc41"
            ],
            [
             0.9,
             "#4d9221"
            ],
            [
             1,
             "#276419"
            ]
           ],
           "sequential": [
            [
             0,
             "#0d0887"
            ],
            [
             0.1111111111111111,
             "#46039f"
            ],
            [
             0.2222222222222222,
             "#7201a8"
            ],
            [
             0.3333333333333333,
             "#9c179e"
            ],
            [
             0.4444444444444444,
             "#bd3786"
            ],
            [
             0.5555555555555556,
             "#d8576b"
            ],
            [
             0.6666666666666666,
             "#ed7953"
            ],
            [
             0.7777777777777778,
             "#fb9f3a"
            ],
            [
             0.8888888888888888,
             "#fdca26"
            ],
            [
             1,
             "#f0f921"
            ]
           ],
           "sequentialminus": [
            [
             0,
             "#0d0887"
            ],
            [
             0.1111111111111111,
             "#46039f"
            ],
            [
             0.2222222222222222,
             "#7201a8"
            ],
            [
             0.3333333333333333,
             "#9c179e"
            ],
            [
             0.4444444444444444,
             "#bd3786"
            ],
            [
             0.5555555555555556,
             "#d8576b"
            ],
            [
             0.6666666666666666,
             "#ed7953"
            ],
            [
             0.7777777777777778,
             "#fb9f3a"
            ],
            [
             0.8888888888888888,
             "#fdca26"
            ],
            [
             1,
             "#f0f921"
            ]
           ]
          },
          "colorway": [
           "#636efa",
           "#EF553B",
           "#00cc96",
           "#ab63fa",
           "#FFA15A",
           "#19d3f3",
           "#FF6692",
           "#B6E880",
           "#FF97FF",
           "#FECB52"
          ],
          "font": {
           "color": "#f2f5fa"
          },
          "geo": {
           "bgcolor": "rgb(17,17,17)",
           "lakecolor": "rgb(17,17,17)",
           "landcolor": "rgb(17,17,17)",
           "showlakes": true,
           "showland": true,
           "subunitcolor": "#506784"
          },
          "hoverlabel": {
           "align": "left"
          },
          "hovermode": "closest",
          "mapbox": {
           "style": "dark"
          },
          "paper_bgcolor": "rgb(17,17,17)",
          "plot_bgcolor": "rgb(17,17,17)",
          "polar": {
           "angularaxis": {
            "gridcolor": "#506784",
            "linecolor": "#506784",
            "ticks": ""
           },
           "bgcolor": "rgb(17,17,17)",
           "radialaxis": {
            "gridcolor": "#506784",
            "linecolor": "#506784",
            "ticks": ""
           }
          },
          "scene": {
           "xaxis": {
            "backgroundcolor": "rgb(17,17,17)",
            "gridcolor": "#506784",
            "gridwidth": 2,
            "linecolor": "#506784",
            "showbackground": true,
            "ticks": "",
            "zerolinecolor": "#C8D4E3"
           },
           "yaxis": {
            "backgroundcolor": "rgb(17,17,17)",
            "gridcolor": "#506784",
            "gridwidth": 2,
            "linecolor": "#506784",
            "showbackground": true,
            "ticks": "",
            "zerolinecolor": "#C8D4E3"
           },
           "zaxis": {
            "backgroundcolor": "rgb(17,17,17)",
            "gridcolor": "#506784",
            "gridwidth": 2,
            "linecolor": "#506784",
            "showbackground": true,
            "ticks": "",
            "zerolinecolor": "#C8D4E3"
           }
          },
          "shapedefaults": {
           "line": {
            "color": "#f2f5fa"
           }
          },
          "sliderdefaults": {
           "bgcolor": "#C8D4E3",
           "bordercolor": "rgb(17,17,17)",
           "borderwidth": 1,
           "tickwidth": 0
          },
          "ternary": {
           "aaxis": {
            "gridcolor": "#506784",
            "linecolor": "#506784",
            "ticks": ""
           },
           "baxis": {
            "gridcolor": "#506784",
            "linecolor": "#506784",
            "ticks": ""
           },
           "bgcolor": "rgb(17,17,17)",
           "caxis": {
            "gridcolor": "#506784",
            "linecolor": "#506784",
            "ticks": ""
           }
          },
          "title": {
           "x": 0.05
          },
          "updatemenudefaults": {
           "bgcolor": "#506784",
           "borderwidth": 0
          },
          "xaxis": {
           "automargin": true,
           "gridcolor": "#283442",
           "linecolor": "#506784",
           "ticks": "",
           "title": {
            "standoff": 15
           },
           "zerolinecolor": "#283442",
           "zerolinewidth": 2
          },
          "yaxis": {
           "automargin": true,
           "gridcolor": "#283442",
           "linecolor": "#506784",
           "ticks": "",
           "title": {
            "standoff": 15
           },
           "zerolinecolor": "#283442",
           "zerolinewidth": 2
          }
         }
        },
        "title": {
         "text": "BTCUSDT - D - TA Chart Visualizer"
        },
        "xaxis": {
         "fixedrange": false,
         "rangeslider": {
          "visible": false
         },
         "title": {
          "text": "Time"
         }
        },
        "yaxis": {
         "fixedrange": false,
         "title": {
          "text": "Price"
         },
         "type": "log"
        }
       }
      }
     },
     "metadata": {},
     "output_type": "display_data"
    },
    {
     "name": "stdout",
     "output_type": "stream",
     "text": [
      "\n",
      "======================================================================\n",
      "📊 Visualizing Segment 9/10: BTCUSDT - D\n",
      "   Period: 2024-08-27 00:00 to 2025-03-16 00:00\n",
      "======================================================================\n",
      "Processing 202 candles for BTCUSDT at D interval\n",
      "   Middlewares: ['levels_middleware']\n"
     ]
    },
    {
     "data": {
      "application/vnd.plotly.v1+json": {
       "config": {
        "plotlyServerURL": "https://plot.ly"
       },
       "data": [
        {
         "close": {
          "bdata": "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",
          "dtype": "f8"
         },
         "high": {
          "bdata": "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",
          "dtype": "f8"
         },
         "low": {
          "bdata": "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",
          "dtype": "f8"
         },
         "name": "Candlestick",
         "open": {
          "bdata": "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",
          "dtype": "f8"
         },
         "showlegend": false,
         "type": "candlestick",
         "x": [
          "2024-08-27T00:00:00.000000000",
          "2024-08-28T00:00:00.000000000",
          "2024-08-29T00:00:00.000000000",
          "2024-08-30T00:00:00.000000000",
          "2024-08-31T00:00:00.000000000",
          "2024-09-01T00:00:00.000000000",
          "2024-09-02T00:00:00.000000000",
          "2024-09-03T00:00:00.000000000",
          "2024-09-04T00:00:00.000000000",
          "2024-09-05T00:00:00.000000000",
          "2024-09-06T00:00:00.000000000",
          "2024-09-07T00:00:00.000000000",
          "2024-09-08T00:00:00.000000000",
          "2024-09-09T00:00:00.000000000",
          "2024-09-10T00:00:00.000000000",
          "2024-09-11T00:00:00.000000000",
          "2024-09-12T00:00:00.000000000",
          "2024-09-13T00:00:00.000000000",
          "2024-09-14T00:00:00.000000000",
          "2024-09-15T00:00:00.000000000",
          "2024-09-16T00:00:00.000000000",
          "2024-09-17T00:00:00.000000000",
          "2024-09-18T00:00:00.000000000",
          "2024-09-19T00:00:00.000000000",
          "2024-09-20T00:00:00.000000000",
          "2024-09-21T00:00:00.000000000",
          "2024-09-22T00:00:00.000000000",
          "2024-09-23T00:00:00.000000000",
          "2024-09-24T00:00:00.000000000",
          "2024-09-25T00:00:00.000000000",
          "2024-09-26T00:00:00.000000000",
          "2024-09-27T00:00:00.000000000",
          "2024-09-28T00:00:00.000000000",
          "2024-09-29T00:00:00.000000000",
          "2024-09-30T00:00:00.000000000",
          "2024-10-01T00:00:00.000000000",
          "2024-10-02T00:00:00.000000000",
          "2024-10-03T00:00:00.000000000",
          "2024-10-04T00:00:00.000000000",
          "2024-10-05T00:00:00.000000000",
          "2024-10-06T00:00:00.000000000",
          "2024-10-07T00:00:00.000000000",
          "2024-10-08T00:00:00.000000000",
          "2024-10-09T00:00:00.000000000",
          "2024-10-10T00:00:00.000000000",
          "2024-10-11T00:00:00.000000000",
          "2024-10-12T00:00:00.000000000",
          "2024-10-13T00:00:00.000000000",
          "2024-10-14T00:00:00.000000000",
          "2024-10-15T00:00:00.000000000",
          "2024-10-16T00:00:00.000000000",
          "2024-10-17T00:00:00.000000000",
          "2024-10-18T00:00:00.000000000",
          "2024-10-19T00:00:00.000000000",
          "2024-10-20T00:00:00.000000000",
          "2024-10-21T00:00:00.000000000",
          "2024-10-22T00:00:00.000000000",
          "2024-10-23T00:00:00.000000000",
          "2024-10-24T00:00:00.000000000",
          "2024-10-25T00:00:00.000000000",
          "2024-10-26T00:00:00.000000000",
          "2024-10-27T00:00:00.000000000",
          "2024-10-28T00:00:00.000000000",
          "2024-10-29T00:00:00.000000000",
          "2024-10-30T00:00:00.000000000",
          "2024-10-31T00:00:00.000000000",
          "2024-11-01T00:00:00.000000000",
          "2024-11-02T00:00:00.000000000",
          "2024-11-03T00:00:00.000000000",
          "2024-11-04T00:00:00.000000000",
          "2024-11-05T00:00:00.000000000",
          "2024-11-06T00:00:00.000000000",
          "2024-11-07T00:00:00.000000000",
          "2024-11-08T00:00:00.000000000",
          "2024-11-09T00:00:00.000000000",
          "2024-11-10T00:00:00.000000000",
          "2024-11-11T00:00:00.000000000",
          "2024-11-12T00:00:00.000000000",
          "2024-11-13T00:00:00.000000000",
          "2024-11-14T00:00:00.000000000",
          "2024-11-15T00:00:00.000000000",
          "2024-11-16T00:00:00.000000000",
          "2024-11-17T00:00:00.000000000",
          "2024-11-18T00:00:00.000000000",
          "2024-11-19T00:00:00.000000000",
          "2024-11-20T00:00:00.000000000",
          "2024-11-21T00:00:00.000000000",
          "2024-11-22T00:00:00.000000000",
          "2024-11-23T00:00:00.000000000",
          "2024-11-24T00:00:00.000000000",
          "2024-11-25T00:00:00.000000000",
          "2024-11-26T00:00:00.000000000",
          "2024-11-27T00:00:00.000000000",
          "2024-11-28T00:00:00.000000000",
          "2024-11-29T00:00:00.000000000",
          "2024-11-30T00:00:00.000000000",
          "2024-12-01T00:00:00.000000000",
          "2024-12-02T00:00:00.000000000",
          "2024-12-03T00:00:00.000000000",
          "2024-12-04T00:00:00.000000000",
          "2024-12-05T00:00:00.000000000",
          "2024-12-06T00:00:00.000000000",
          "2024-12-07T00:00:00.000000000",
          "2024-12-08T00:00:00.000000000",
          "2024-12-09T00:00:00.000000000",
          "2024-12-10T00:00:00.000000000",
          "2024-12-11T00:00:00.000000000",
          "2024-12-12T00:00:00.000000000",
          "2024-12-13T00:00:00.000000000",
          "2024-12-14T00:00:00.000000000",
          "2024-12-15T00:00:00.000000000",
          "2024-12-16T00:00:00.000000000",
          "2024-12-17T00:00:00.000000000",
          "2024-12-18T00:00:00.000000000",
          "2024-12-19T00:00:00.000000000",
          "2024-12-20T00:00:00.000000000",
          "2024-12-21T00:00:00.000000000",
          "2024-12-22T00:00:00.000000000",
          "2024-12-23T00:00:00.000000000",
          "2024-12-24T00:00:00.000000000",
          "2024-12-25T00:00:00.000000000",
          "2024-12-26T00:00:00.000000000",
          "2024-12-27T00:00:00.000000000",
          "2024-12-28T00:00:00.000000000",
          "2024-12-29T00:00:00.000000000",
          "2024-12-30T00:00:00.000000000",
          "2024-12-31T00:00:00.000000000",
          "2025-01-01T00:00:00.000000000",
          "2025-01-02T00:00:00.000000000",
          "2025-01-03T00:00:00.000000000",
          "2025-01-04T00:00:00.000000000",
          "2025-01-05T00:00:00.000000000",
          "2025-01-06T00:00:00.000000000",
          "2025-01-07T00:00:00.000000000",
          "2025-01-08T00:00:00.000000000",
          "2025-01-09T00:00:00.000000000",
          "2025-01-10T00:00:00.000000000",
          "2025-01-11T00:00:00.000000000",
          "2025-01-12T00:00:00.000000000",
          "2025-01-13T00:00:00.000000000",
          "2025-01-14T00:00:00.000000000",
          "2025-01-15T00:00:00.000000000",
          "2025-01-16T00:00:00.000000000",
          "2025-01-17T00:00:00.000000000",
          "2025-01-18T00:00:00.000000000",
          "2025-01-19T00:00:00.000000000",
          "2025-01-20T00:00:00.000000000",
          "2025-01-21T00:00:00.000000000",
          "2025-01-22T00:00:00.000000000",
          "2025-01-23T00:00:00.000000000",
          "2025-01-24T00:00:00.000000000",
          "2025-01-25T00:00:00.000000000",
          "2025-01-26T00:00:00.000000000",
          "2025-01-27T00:00:00.000000000",
          "2025-01-28T00:00:00.000000000",
          "2025-01-29T00:00:00.000000000",
          "2025-01-30T00:00:00.000000000",
          "2025-01-31T00:00:00.000000000",
          "2025-02-01T00:00:00.000000000",
          "2025-02-02T00:00:00.000000000",
          "2025-02-03T00:00:00.000000000",
          "2025-02-04T00:00:00.000000000",
          "2025-02-05T00:00:00.000000000",
          "2025-02-06T00:00:00.000000000",
          "2025-02-07T00:00:00.000000000",
          "2025-02-08T00:00:00.000000000",
          "2025-02-09T00:00:00.000000000",
          "2025-02-10T00:00:00.000000000",
          "2025-02-11T00:00:00.000000000",
          "2025-02-12T00:00:00.000000000",
          "2025-02-13T00:00:00.000000000",
          "2025-02-14T00:00:00.000000000",
          "2025-02-15T00:00:00.000000000",
          "2025-02-16T00:00:00.000000000",
          "2025-02-17T00:00:00.000000000",
          "2025-02-18T00:00:00.000000000",
          "2025-02-19T00:00:00.000000000",
          "2025-02-20T00:00:00.000000000",
          "2025-02-21T00:00:00.000000000",
          "2025-02-22T00:00:00.000000000",
          "2025-02-23T00:00:00.000000000",
          "2025-02-24T00:00:00.000000000",
          "2025-02-25T00:00:00.000000000",
          "2025-02-26T00:00:00.000000000",
          "2025-02-27T00:00:00.000000000",
          "2025-02-28T00:00:00.000000000",
          "2025-03-01T00:00:00.000000000",
          "2025-03-02T00:00:00.000000000",
          "2025-03-03T00:00:00.000000000",
          "2025-03-04T00:00:00.000000000",
          "2025-03-05T00:00:00.000000000",
          "2025-03-06T00:00:00.000000000",
          "2025-03-07T00:00:00.000000000",
          "2025-03-08T00:00:00.000000000",
          "2025-03-09T00:00:00.000000000",
          "2025-03-10T00:00:00.000000000",
          "2025-03-11T00:00:00.000000000",
          "2025-03-12T00:00:00.000000000",
          "2025-03-13T00:00:00.000000000",
          "2025-03-14T00:00:00.000000000",
          "2025-03-15T00:00:00.000000000",
          "2025-03-16T00:00:00.000000000"
         ]
        },
        {
         "line": {
          "color": "orange",
          "dash": "dash",
          "width": 2
         },
         "mode": "lines",
         "name": "line_close_D",
         "showlegend": true,
         "type": "scatter",
         "x": [
          "2024-09-11T00:00:00",
          "2025-03-16T00:00:00"
         ],
         "y": [
          57310.4,
          57310.4
         ]
        },
        {
         "line": {
          "color": "orange",
          "dash": "dash",
          "width": 2
         },
         "mode": "lines",
         "name": "line_close_D",
         "showlegend": true,
         "type": "scatter",
         "x": [
          "2024-09-16T00:00:00",
          "2025-03-16T00:00:00"
         ],
         "y": [
          58185,
          58185
         ]
        },
        {
         "line": {
          "color": "orange",
          "dash": "dash",
          "width": 2
         },
         "mode": "lines",
         "name": "line_close_D",
         "showlegend": true,
         "type": "scatter",
         "x": [
          "2024-10-10T00:00:00",
          "2025-03-16T00:00:00"
         ],
         "y": [
          60295.6,
          60295.6
         ]
        },
        {
         "line": {
          "color": "orange",
          "dash": "dash",
          "width": 2
         },
         "mode": "lines",
         "name": "line_close_D",
         "showlegend": true,
         "type": "scatter",
         "x": [
          "2024-10-13T00:00:00",
          "2025-03-16T00:00:00"
         ],
         "y": [
          62838.7,
          62838.7
         ]
        },
        {
         "line": {
          "color": "orange",
          "dash": "dash",
          "width": 2
         },
         "mode": "lines",
         "name": "line_close_D",
         "showlegend": true,
         "type": "scatter",
         "x": [
          "2024-10-25T00:00:00",
          "2025-03-16T00:00:00"
         ],
         "y": [
          66666.8,
          66666.8
         ]
        },
        {
         "line": {
          "color": "orange",
          "dash": "dash",
          "width": 2
         },
         "mode": "lines",
         "name": "line_close_D",
         "showlegend": true,
         "type": "scatter",
         "x": [
          "2024-11-04T00:00:00",
          "2025-03-16T00:00:00"
         ],
         "y": [
          67838.7,
          67838.7
         ]
        },
        {
         "line": {
          "color": "orange",
          "dash": "dash",
          "width": 2
         },
         "mode": "lines",
         "name": "line_close_D",
         "showlegend": true,
         "type": "scatter",
         "x": [
          "2025-01-30T00:00:00",
          "2025-03-16T00:00:00"
         ],
         "y": [
          104684.6,
          104684.6
         ]
        },
        {
         "line": {
          "color": "orange",
          "dash": "dash",
          "width": 2
         },
         "mode": "lines",
         "name": "line_close_D",
         "showlegend": true,
         "type": "scatter",
         "x": [
          "2025-02-03T00:00:00",
          "2025-03-16T00:00:00"
         ],
         "y": [
          101294.8,
          101294.8
         ]
        },
        {
         "line": {
          "color": "orange",
          "dash": "dash",
          "width": 2
         },
         "mode": "lines",
         "name": "line_close_D",
         "showlegend": true,
         "type": "scatter",
         "x": [
          "2025-02-20T00:00:00",
          "2025-03-16T00:00:00"
         ],
         "y": [
          98246.7,
          98246.7
         ]
        },
        {
         "line": {
          "color": "orange",
          "dash": "dash",
          "width": 2
         },
         "mode": "lines",
         "name": "line_close_D",
         "showlegend": true,
         "type": "scatter",
         "x": [
          "2025-02-22T00:00:00",
          "2025-03-16T00:00:00"
         ],
         "y": [
          96554.4,
          96554.4
         ]
        },
        {
         "line": {
          "color": "orange",
          "dash": "dash",
          "width": 2
         },
         "mode": "lines",
         "name": "line_close_D",
         "showlegend": true,
         "type": "scatter",
         "x": [
          "2025-03-02T00:00:00",
          "2025-03-16T00:00:00"
         ],
         "y": [
          94259.7,
          94259.7
         ]
        },
        {
         "line": {
          "color": "orange",
          "dash": "dash",
          "width": 2
         },
         "mode": "lines",
         "name": "line_close_D",
         "showlegend": true,
         "type": "scatter",
         "x": [
          "2025-03-10T00:00:00",
          "2025-03-16T00:00:00"
         ],
         "y": [
          78563.2,
          78563.2
         ]
        },
        {
         "line": {
          "color": "orange",
          "dash": "dash",
          "width": 2
         },
         "mode": "lines",
         "name": "line_close_D",
         "showlegend": true,
         "type": "scatter",
         "x": [
          "2025-03-13T00:00:00",
          "2025-03-16T00:00:00"
         ],
         "y": [
          81072.3,
          81072.3
         ]
        },
        {
         "line": {
          "color": "orange",
          "dash": "dash",
          "width": 2
         },
         "mode": "lines",
         "name": "line_close_D",
         "showlegend": true,
         "type": "scatter",
         "x": [
          "2025-03-15T00:00:00",
          "2025-03-16T00:00:00"
         ],
         "y": [
          84308.4,
          84308.4
         ]
        },
        {
         "line": {
          "color": "orange",
          "dash": "dash",
          "width": 2
         },
         "mode": "lines",
         "name": "max_level_D",
         "showlegend": true,
         "type": "scatter",
         "x": [
          "2024-08-27T00:00:00",
          "2025-03-16T00:00:00"
         ],
         "y": [
          109951.7,
          109951.7
         ]
        },
        {
         "line": {
          "color": "orange",
          "dash": "dash",
          "width": 2
         },
         "mode": "lines",
         "name": "min_level_D",
         "showlegend": true,
         "type": "scatter",
         "x": [
          "2024-08-27T00:00:00",
          "2025-03-16T00:00:00"
         ],
         "y": [
          52500.2,
          52500.2
         ]
        }
       ],
       "layout": {
        "height": 800,
        "showlegend": false,
        "template": {
         "data": {
          "bar": [
           {
            "error_x": {
             "color": "#f2f5fa"
            },
            "error_y": {
             "color": "#f2f5fa"
            },
            "marker": {
             "line": {
              "color": "rgb(17,17,17)",
              "width": 0.5
             },
             "pattern": {
              "fillmode": "overlay",
              "size": 10,
              "solidity": 0.2
             }
            },
            "type": "bar"
           }
          ],
          "barpolar": [
           {
            "marker": {
             "line": {
              "color": "rgb(17,17,17)",
              "width": 0.5
             },
             "pattern": {
              "fillmode": "overlay",
              "size": 10,
              "solidity": 0.2
             }
            },
            "type": "barpolar"
           }
          ],
          "carpet": [
           {
            "aaxis": {
             "endlinecolor": "#A2B1C6",
             "gridcolor": "#506784",
             "linecolor": "#506784",
             "minorgridcolor": "#506784",
             "startlinecolor": "#A2B1C6"
            },
            "baxis": {
             "endlinecolor": "#A2B1C6",
             "gridcolor": "#506784",
             "linecolor": "#506784",
             "minorgridcolor": "#506784",
             "startlinecolor": "#A2B1C6"
            },
            "type": "carpet"
           }
          ],
          "choropleth": [
           {
            "colorbar": {
             "outlinewidth": 0,
             "ticks": ""
            },
            "type": "choropleth"
           }
          ],
          "contour": [
           {
            "colorbar": {
             "outlinewidth": 0,
             "ticks": ""
            },
            "colorscale": [
             [
              0,
              "#0d0887"
             ],
             [
              0.1111111111111111,
              "#46039f"
             ],
             [
              0.2222222222222222,
              "#7201a8"
             ],
             [
              0.3333333333333333,
              "#9c179e"
             ],
             [
              0.4444444444444444,
              "#bd3786"
             ],
             [
              0.5555555555555556,
              "#d8576b"
             ],
             [
              0.6666666666666666,
              "#ed7953"
             ],
             [
              0.7777777777777778,
              "#fb9f3a"
             ],
             [
              0.8888888888888888,
              "#fdca26"
             ],
             [
              1,
              "#f0f921"
             ]
            ],
            "type": "contour"
           }
          ],
          "contourcarpet": [
           {
            "colorbar": {
             "outlinewidth": 0,
             "ticks": ""
            },
            "type": "contourcarpet"
           }
          ],
          "heatmap": [
           {
            "colorbar": {
             "outlinewidth": 0,
             "ticks": ""
            },
            "colorscale": [
             [
              0,
              "#0d0887"
             ],
             [
              0.1111111111111111,
              "#46039f"
             ],
             [
              0.2222222222222222,
              "#7201a8"
             ],
             [
              0.3333333333333333,
              "#9c179e"
             ],
             [
              0.4444444444444444,
              "#bd3786"
             ],
             [
              0.5555555555555556,
              "#d8576b"
             ],
             [
              0.6666666666666666,
              "#ed7953"
             ],
             [
              0.7777777777777778,
              "#fb9f3a"
             ],
             [
              0.8888888888888888,
              "#fdca26"
             ],
             [
              1,
              "#f0f921"
             ]
            ],
            "type": "heatmap"
           }
          ],
          "histogram": [
           {
            "marker": {
             "pattern": {
              "fillmode": "overlay",
              "size": 10,
              "solidity": 0.2
             }
            },
            "type": "histogram"
           }
          ],
          "histogram2d": [
           {
            "colorbar": {
             "outlinewidth": 0,
             "ticks": ""
            },
            "colorscale": [
             [
              0,
              "#0d0887"
             ],
             [
              0.1111111111111111,
              "#46039f"
             ],
             [
              0.2222222222222222,
              "#7201a8"
             ],
             [
              0.3333333333333333,
              "#9c179e"
             ],
             [
              0.4444444444444444,
              "#bd3786"
             ],
             [
              0.5555555555555556,
              "#d8576b"
             ],
             [
              0.6666666666666666,
              "#ed7953"
             ],
             [
              0.7777777777777778,
              "#fb9f3a"
             ],
             [
              0.8888888888888888,
              "#fdca26"
             ],
             [
              1,
              "#f0f921"
             ]
            ],
            "type": "histogram2d"
           }
          ],
          "histogram2dcontour": [
           {
            "colorbar": {
             "outlinewidth": 0,
             "ticks": ""
            },
            "colorscale": [
             [
              0,
              "#0d0887"
             ],
             [
              0.1111111111111111,
              "#46039f"
             ],
             [
              0.2222222222222222,
              "#7201a8"
             ],
             [
              0.3333333333333333,
              "#9c179e"
             ],
             [
              0.4444444444444444,
              "#bd3786"
             ],
             [
              0.5555555555555556,
              "#d8576b"
             ],
             [
              0.6666666666666666,
              "#ed7953"
             ],
             [
              0.7777777777777778,
              "#fb9f3a"
             ],
             [
              0.8888888888888888,
              "#fdca26"
             ],
             [
              1,
              "#f0f921"
             ]
            ],
            "type": "histogram2dcontour"
           }
          ],
          "mesh3d": [
           {
            "colorbar": {
             "outlinewidth": 0,
             "ticks": ""
            },
            "type": "mesh3d"
           }
          ],
          "parcoords": [
           {
            "line": {
             "colorbar": {
              "outlinewidth": 0,
              "ticks": ""
             }
            },
            "type": "parcoords"
           }
          ],
          "pie": [
           {
            "automargin": true,
            "type": "pie"
           }
          ],
          "scatter": [
           {
            "marker": {
             "line": {
              "color": "#283442"
             }
            },
            "type": "scatter"
           }
          ],
          "scatter3d": [
           {
            "line": {
             "colorbar": {
              "outlinewidth": 0,
              "ticks": ""
             }
            },
            "marker": {
             "colorbar": {
              "outlinewidth": 0,
              "ticks": ""
             }
            },
            "type": "scatter3d"
           }
          ],
          "scattercarpet": [
           {
            "marker": {
             "colorbar": {
              "outlinewidth": 0,
              "ticks": ""
             }
            },
            "type": "scattercarpet"
           }
          ],
          "scattergeo": [
           {
            "marker": {
             "colorbar": {
              "outlinewidth": 0,
              "ticks": ""
             }
            },
            "type": "scattergeo"
           }
          ],
          "scattergl": [
           {
            "marker": {
             "line": {
              "color": "#283442"
             }
            },
            "type": "scattergl"
           }
          ],
          "scattermap": [
           {
            "marker": {
             "colorbar": {
              "outlinewidth": 0,
              "ticks": ""
             }
            },
            "type": "scattermap"
           }
          ],
          "scattermapbox": [
           {
            "marker": {
             "colorbar": {
              "outlinewidth": 0,
              "ticks": ""
             }
            },
            "type": "scattermapbox"
           }
          ],
          "scatterpolar": [
           {
            "marker": {
             "colorbar": {
              "outlinewidth": 0,
              "ticks": ""
             }
            },
            "type": "scatterpolar"
           }
          ],
          "scatterpolargl": [
           {
            "marker": {
             "colorbar": {
              "outlinewidth": 0,
              "ticks": ""
             }
            },
            "type": "scatterpolargl"
           }
          ],
          "scatterternary": [
           {
            "marker": {
             "colorbar": {
              "outlinewidth": 0,
              "ticks": ""
             }
            },
            "type": "scatterternary"
           }
          ],
          "surface": [
           {
            "colorbar": {
             "outlinewidth": 0,
             "ticks": ""
            },
            "colorscale": [
             [
              0,
              "#0d0887"
             ],
             [
              0.1111111111111111,
              "#46039f"
             ],
             [
              0.2222222222222222,
              "#7201a8"
             ],
             [
              0.3333333333333333,
              "#9c179e"
             ],
             [
              0.4444444444444444,
              "#bd3786"
             ],
             [
              0.5555555555555556,
              "#d8576b"
             ],
             [
              0.6666666666666666,
              "#ed7953"
             ],
             [
              0.7777777777777778,
              "#fb9f3a"
             ],
             [
              0.8888888888888888,
              "#fdca26"
             ],
             [
              1,
              "#f0f921"
             ]
            ],
            "type": "surface"
           }
          ],
          "table": [
           {
            "cells": {
             "fill": {
              "color": "#506784"
             },
             "line": {
              "color": "rgb(17,17,17)"
             }
            },
            "header": {
             "fill": {
              "color": "#2a3f5f"
             },
             "line": {
              "color": "rgb(17,17,17)"
             }
            },
            "type": "table"
           }
          ]
         },
         "layout": {
          "annotationdefaults": {
           "arrowcolor": "#f2f5fa",
           "arrowhead": 0,
           "arrowwidth": 1
          },
          "autotypenumbers": "strict",
          "coloraxis": {
           "colorbar": {
            "outlinewidth": 0,
            "ticks": ""
           }
          },
          "colorscale": {
           "diverging": [
            [
             0,
             "#8e0152"
            ],
            [
             0.1,
             "#c51b7d"
            ],
            [
             0.2,
             "#de77ae"
            ],
            [
             0.3,
             "#f1b6da"
            ],
            [
             0.4,
             "#fde0ef"
            ],
            [
             0.5,
             "#f7f7f7"
            ],
            [
             0.6,
             "#e6f5d0"
            ],
            [
             0.7,
             "#b8e186"
            ],
            [
             0.8,
             "#7fbc41"
            ],
            [
             0.9,
             "#4d9221"
            ],
            [
             1,
             "#276419"
            ]
           ],
           "sequential": [
            [
             0,
             "#0d0887"
            ],
            [
             0.1111111111111111,
             "#46039f"
            ],
            [
             0.2222222222222222,
             "#7201a8"
            ],
            [
             0.3333333333333333,
             "#9c179e"
            ],
            [
             0.4444444444444444,
             "#bd3786"
            ],
            [
             0.5555555555555556,
             "#d8576b"
            ],
            [
             0.6666666666666666,
             "#ed7953"
            ],
            [
             0.7777777777777778,
             "#fb9f3a"
            ],
            [
             0.8888888888888888,
             "#fdca26"
            ],
            [
             1,
             "#f0f921"
            ]
           ],
           "sequentialminus": [
            [
             0,
             "#0d0887"
            ],
            [
             0.1111111111111111,
             "#46039f"
            ],
            [
             0.2222222222222222,
             "#7201a8"
            ],
            [
             0.3333333333333333,
             "#9c179e"
            ],
            [
             0.4444444444444444,
             "#bd3786"
            ],
            [
             0.5555555555555556,
             "#d8576b"
            ],
            [
             0.6666666666666666,
             "#ed7953"
            ],
            [
             0.7777777777777778,
             "#fb9f3a"
            ],
            [
             0.8888888888888888,
             "#fdca26"
            ],
            [
             1,
             "#f0f921"
            ]
           ]
          },
          "colorway": [
           "#636efa",
           "#EF553B",
           "#00cc96",
           "#ab63fa",
           "#FFA15A",
           "#19d3f3",
           "#FF6692",
           "#B6E880",
           "#FF97FF",
           "#FECB52"
          ],
          "font": {
           "color": "#f2f5fa"
          },
          "geo": {
           "bgcolor": "rgb(17,17,17)",
           "lakecolor": "rgb(17,17,17)",
           "landcolor": "rgb(17,17,17)",
           "showlakes": true,
           "showland": true,
           "subunitcolor": "#506784"
          },
          "hoverlabel": {
           "align": "left"
          },
          "hovermode": "closest",
          "mapbox": {
           "style": "dark"
          },
          "paper_bgcolor": "rgb(17,17,17)",
          "plot_bgcolor": "rgb(17,17,17)",
          "polar": {
           "angularaxis": {
            "gridcolor": "#506784",
            "linecolor": "#506784",
            "ticks": ""
           },
           "bgcolor": "rgb(17,17,17)",
           "radialaxis": {
            "gridcolor": "#506784",
            "linecolor": "#506784",
            "ticks": ""
           }
          },
          "scene": {
           "xaxis": {
            "backgroundcolor": "rgb(17,17,17)",
            "gridcolor": "#506784",
            "gridwidth": 2,
            "linecolor": "#506784",
            "showbackground": true,
            "ticks": "",
            "zerolinecolor": "#C8D4E3"
           },
           "yaxis": {
            "backgroundcolor": "rgb(17,17,17)",
            "gridcolor": "#506784",
            "gridwidth": 2,
            "linecolor": "#506784",
            "showbackground": true,
            "ticks": "",
            "zerolinecolor": "#C8D4E3"
           },
           "zaxis": {
            "backgroundcolor": "rgb(17,17,17)",
            "gridcolor": "#506784",
            "gridwidth": 2,
            "linecolor": "#506784",
            "showbackground": true,
            "ticks": "",
            "zerolinecolor": "#C8D4E3"
           }
          },
          "shapedefaults": {
           "line": {
            "color": "#f2f5fa"
           }
          },
          "sliderdefaults": {
           "bgcolor": "#C8D4E3",
           "bordercolor": "rgb(17,17,17)",
           "borderwidth": 1,
           "tickwidth": 0
          },
          "ternary": {
           "aaxis": {
            "gridcolor": "#506784",
            "linecolor": "#506784",
            "ticks": ""
           },
           "baxis": {
            "gridcolor": "#506784",
            "linecolor": "#506784",
            "ticks": ""
           },
           "bgcolor": "rgb(17,17,17)",
           "caxis": {
            "gridcolor": "#506784",
            "linecolor": "#506784",
            "ticks": ""
           }
          },
          "title": {
           "x": 0.05
          },
          "updatemenudefaults": {
           "bgcolor": "#506784",
           "borderwidth": 0
          },
          "xaxis": {
           "automargin": true,
           "gridcolor": "#283442",
           "linecolor": "#506784",
           "ticks": "",
           "title": {
            "standoff": 15
           },
           "zerolinecolor": "#283442",
           "zerolinewidth": 2
          },
          "yaxis": {
           "automargin": true,
           "gridcolor": "#283442",
           "linecolor": "#506784",
           "ticks": "",
           "title": {
            "standoff": 15
           },
           "zerolinecolor": "#283442",
           "zerolinewidth": 2
          }
         }
        },
        "title": {
         "text": "BTCUSDT - D - TA Chart Visualizer"
        },
        "xaxis": {
         "fixedrange": false,
         "rangeslider": {
          "visible": false
         },
         "title": {
          "text": "Time"
         }
        },
        "yaxis": {
         "fixedrange": false,
         "title": {
          "text": "Price"
         },
         "type": "log"
        }
       }
      }
     },
     "metadata": {},
     "output_type": "display_data"
    },
    {
     "name": "stdout",
     "output_type": "stream",
     "text": [
      "\n",
      "======================================================================\n",
      "📊 Visualizing Segment 10/10: BTCUSDT - D\n",
      "   Period: 2025-03-17 00:00 to 2025-10-05 00:00\n",
      "======================================================================\n",
      "Processing 203 candles for BTCUSDT at D interval\n",
      "   Middlewares: ['levels_middleware']\n"
     ]
    },
    {
     "data": {
      "application/vnd.plotly.v1+json": {
       "config": {
        "plotlyServerURL": "https://plot.ly"
       },
       "data": [
        {
         "close": {
          "bdata": "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",
          "dtype": "f8"
         },
         "high": {
          "bdata": "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",
          "dtype": "f8"
         },
         "low": {
          "bdata": "MzMzMwse9ECamZmZWczzQAAAAAC4IvRAzczMzFxp9EDNzMzMBEz0QAAAAAAAavRAMzMzM5Ny9EBmZmZmBt/0QAAAAABQD/VAmpmZmYHy9EBmZmZm9uv0QAAAAACQZfRAZmZmZi7s80AAAAAAYObzQM3MzMzE0/NAmpmZmXkc9EBmZmZmnhb0QAAAAACgz/NAAAAAAFDs80AAAAAAcBr0QAAAAAC40fJAMzMzM4Mt8kBmZmZmjpryQGZmZmZeNPJAAAAAAGAl80AzMzMzA0XzQM3MzMwUNPRAmpmZmZFA9EAAAAAAWGv0QAAAAADoY/RAAAAAAPBG9EBmZmZm1m30QAAAAACgkfRAmpmZmUGW9EAzMzMzq3r0QJqZmZkhx/RAmpmZmVk+9UDNzMzMfHD2QAAAAAD4XvZAmpmZmXmm9kDNzMzM/Oj2QGZmZmYm1vZAAAAAAOCk9kAAAAAAIN/2QGZmZmZGq/ZAMzMzM2v39kBmZmZmLoP3QJqZmZlBXfdAAAAAAED59kAzMzMzQ9H2QAAAAABYyfZAMzMzM8Ne90CamZmZAaT3QJqZmZmB9/hAAAAAAEAX+UAAAAAAIDX5QAAAAAAAlfhAAAAAAEDA+EAAAAAAYAn5QAAAAABQvfhAMzMzMyMo+UAzMzMzuwj5QAAAAACgKPlAAAAAAADn+EBmZmZm1mv5QM3MzMwc4flAAAAAAOCl+kAAAAAAMBD6QM3MzMwEFfpAZmZmZqYC+kAzMzMzC4b6QDMzMzPbOfpAAAAAAOAN+kAAAAAAILL5QAAAAAAQSflAzczMzMwn+UAzMzMzC1H5QGZmZmZmS/lAZmZmZt6W+UDNzMzMdGz5QAAAAADgf/hAAAAAAGCr+EAAAAAAMFj5QDMzMzPLnflAmpmZmUmy+UAzMzMzc2/6QJqZmZlpXvpAzczMzLzG+UBmZmZmLg75QAAAAACgc/lAAAAAABB/+UAzMzMzk535QGZmZmZ2OPlAzczMzOQ/+UAAAAAAgFv5QAAAAABA9/hAAAAAAACc+EAAAAAA0PT3QAAAAADQT/hAAAAAAHCH+UAAAAAAYNH5QDMzMzOb/flAAAAAAIDy+UAAAAAAkBD6QM3MzMycJvpAAAAAAFAL+kDNzMzMxK35QJqZmZkppvlAmpmZmXF6+kDNzMzMRC36QGZmZmZeSvpAmpmZmSlP+kCamZmZmTv6QDMzMzObNvpAZmZmZnZu+kBmZmZmLvf6QAAAAAAAIPxAmpmZmUGI/EDNzMzMVJv8QDMzMzOzBP1AAAAAAGBC/EAAAAAAcJL8QGZmZmaerPxAmpmZmWGF/EAzMzMzW5/8QJqZmZl5bvxAAAAAAGB0/EAAAAAAsFn8QAAAAABAo/xAmpmZmaGT/EAAAAAAYAH8QAAAAADgmfxAmpmZmfnC/EAAAAAAmKn8QJqZmZkJi/xAmpmZmaFB/ECamZmZiSr8QM3MzMxMg/tAAAAAAOBU+0AAAAAA4E/7QDMzMzPb2PtAMzMzMxt8+0AzMzMzQ6n7QAAAAACg4vtAMzMzM+NI/EAzMzMzA2T8QAAAAAAAa/xAzczMzPTF/EAAAAAAYNj8QAAAAABIB/1AAAAAANCX/EDNzMzM9H78QDMzMzPblPxAAAAAANCW/EAzMzMzG/n7QAAAAAAQgvtAzczMzOxp+0AzMzMzk1T7QM3MzMwsQPtAMzMzM4v0+0AAAAAAcP36QJqZmZlpqvpAAAAAANCH+kCamZmZge76QAAAAADYC/tAmpmZmYk6+kAAAAAAQDL6QGZmZmaGXvpAAAAAACAs+kAzMzMzC3L6QM3MzMzM+PpAMzMzM8ut+kAAAAAAsOT6QAAAAAAA1PpAZmZmZnbi+kDNzMzMtP36QGZmZmYmB/tAAAAAABAR+0AAAAAAoKX7QM3MzMzMAPxAMzMzMyMS/ECamZmZQRf8QM3MzMzE6PtAAAAAAAAA/EAAAAAAYAH8QJqZmZnBUPxAAAAAALAV/EAAAAAAACr8QM3MzMzUGvxAAAAAAMA4+0AzMzMzay/7QDMzMzODE/tAAAAAAACB+kAAAAAAYID6QAAAAADAm/pAzczMzNyk+kAzMzMz8zf7QGZmZma+fftAzczMzJzP+0AzMzMzq9v8QAAAAACAF/1AZmZmZg6o/UCamZmZKc79QA==",
          "dtype": "f8"
         },
         "name": "Candlestick",
         "open": {
          "bdata": "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",
          "dtype": "f8"
         },
         "showlegend": false,
         "type": "candlestick",
         "x": [
          "2025-03-17T00:00:00.000000000",
          "2025-03-18T00:00:00.000000000",
          "2025-03-19T00:00:00.000000000",
          "2025-03-20T00:00:00.000000000",
          "2025-03-21T00:00:00.000000000",
          "2025-03-22T00:00:00.000000000",
          "2025-03-23T00:00:00.000000000",
          "2025-03-24T00:00:00.000000000",
          "2025-03-25T00:00:00.000000000",
          "2025-03-26T00:00:00.000000000",
          "2025-03-27T00:00:00.000000000",
          "2025-03-28T00:00:00.000000000",
          "2025-03-29T00:00:00.000000000",
          "2025-03-30T00:00:00.000000000",
          "2025-03-31T00:00:00.000000000",
          "2025-04-01T00:00:00.000000000",
          "2025-04-02T00:00:00.000000000",
          "2025-04-03T00:00:00.000000000",
          "2025-04-04T00:00:00.000000000",
          "2025-04-05T00:00:00.000000000",
          "2025-04-06T00:00:00.000000000",
          "2025-04-07T00:00:00.000000000",
          "2025-04-08T00:00:00.000000000",
          "2025-04-09T00:00:00.000000000",
          "2025-04-10T00:00:00.000000000",
          "2025-04-11T00:00:00.000000000",
          "2025-04-12T00:00:00.000000000",
          "2025-04-13T00:00:00.000000000",
          "2025-04-14T00:00:00.000000000",
          "2025-04-15T00:00:00.000000000",
          "2025-04-16T00:00:00.000000000",
          "2025-04-17T00:00:00.000000000",
          "2025-04-18T00:00:00.000000000",
          "2025-04-19T00:00:00.000000000",
          "2025-04-20T00:00:00.000000000",
          "2025-04-21T00:00:00.000000000",
          "2025-04-22T00:00:00.000000000",
          "2025-04-23T00:00:00.000000000",
          "2025-04-24T00:00:00.000000000",
          "2025-04-25T00:00:00.000000000",
          "2025-04-26T00:00:00.000000000",
          "2025-04-27T00:00:00.000000000",
          "2025-04-28T00:00:00.000000000",
          "2025-04-29T00:00:00.000000000",
          "2025-04-30T00:00:00.000000000",
          "2025-05-01T00:00:00.000000000",
          "2025-05-02T00:00:00.000000000",
          "2025-05-03T00:00:00.000000000",
          "2025-05-04T00:00:00.000000000",
          "2025-05-05T00:00:00.000000000",
          "2025-05-06T00:00:00.000000000",
          "2025-05-07T00:00:00.000000000",
          "2025-05-08T00:00:00.000000000",
          "2025-05-09T00:00:00.000000000",
          "2025-05-10T00:00:00.000000000",
          "2025-05-11T00:00:00.000000000",
          "2025-05-12T00:00:00.000000000",
          "2025-05-13T00:00:00.000000000",
          "2025-05-14T00:00:00.000000000",
          "2025-05-15T00:00:00.000000000",
          "2025-05-16T00:00:00.000000000",
          "2025-05-17T00:00:00.000000000",
          "2025-05-18T00:00:00.000000000",
          "2025-05-19T00:00:00.000000000",
          "2025-05-20T00:00:00.000000000",
          "2025-05-21T00:00:00.000000000",
          "2025-05-22T00:00:00.000000000",
          "2025-05-23T00:00:00.000000000",
          "2025-05-24T00:00:00.000000000",
          "2025-05-25T00:00:00.000000000",
          "2025-05-26T00:00:00.000000000",
          "2025-05-27T00:00:00.000000000",
          "2025-05-28T00:00:00.000000000",
          "2025-05-29T00:00:00.000000000",
          "2025-05-30T00:00:00.000000000",
          "2025-05-31T00:00:00.000000000",
          "2025-06-01T00:00:00.000000000",
          "2025-06-02T00:00:00.000000000",
          "2025-06-03T00:00:00.000000000",
          "2025-06-04T00:00:00.000000000",
          "2025-06-05T00:00:00.000000000",
          "2025-06-06T00:00:00.000000000",
          "2025-06-07T00:00:00.000000000",
          "2025-06-08T00:00:00.000000000",
          "2025-06-09T00:00:00.000000000",
          "2025-06-10T00:00:00.000000000",
          "2025-06-11T00:00:00.000000000",
          "2025-06-12T00:00:00.000000000",
          "2025-06-13T00:00:00.000000000",
          "2025-06-14T00:00:00.000000000",
          "2025-06-15T00:00:00.000000000",
          "2025-06-16T00:00:00.000000000",
          "2025-06-17T00:00:00.000000000",
          "2025-06-18T00:00:00.000000000",
          "2025-06-19T00:00:00.000000000",
          "2025-06-20T00:00:00.000000000",
          "2025-06-21T00:00:00.000000000",
          "2025-06-22T00:00:00.000000000",
          "2025-06-23T00:00:00.000000000",
          "2025-06-24T00:00:00.000000000",
          "2025-06-25T00:00:00.000000000",
          "2025-06-26T00:00:00.000000000",
          "2025-06-27T00:00:00.000000000",
          "2025-06-28T00:00:00.000000000",
          "2025-06-29T00:00:00.000000000",
          "2025-06-30T00:00:00.000000000",
          "2025-07-01T00:00:00.000000000",
          "2025-07-02T00:00:00.000000000",
          "2025-07-03T00:00:00.000000000",
          "2025-07-04T00:00:00.000000000",
          "2025-07-05T00:00:00.000000000",
          "2025-07-06T00:00:00.000000000",
          "2025-07-07T00:00:00.000000000",
          "2025-07-08T00:00:00.000000000",
          "2025-07-09T00:00:00.000000000",
          "2025-07-10T00:00:00.000000000",
          "2025-07-11T00:00:00.000000000",
          "2025-07-12T00:00:00.000000000",
          "2025-07-13T00:00:00.000000000",
          "2025-07-14T00:00:00.000000000",
          "2025-07-15T00:00:00.000000000",
          "2025-07-16T00:00:00.000000000",
          "2025-07-17T00:00:00.000000000",
          "2025-07-18T00:00:00.000000000",
          "2025-07-19T00:00:00.000000000",
          "2025-07-20T00:00:00.000000000",
          "2025-07-21T00:00:00.000000000",
          "2025-07-22T00:00:00.000000000",
          "2025-07-23T00:00:00.000000000",
          "2025-07-24T00:00:00.000000000",
          "2025-07-25T00:00:00.000000000",
          "2025-07-26T00:00:00.000000000",
          "2025-07-27T00:00:00.000000000",
          "2025-07-28T00:00:00.000000000",
          "2025-07-29T00:00:00.000000000",
          "2025-07-30T00:00:00.000000000",
          "2025-07-31T00:00:00.000000000",
          "2025-08-01T00:00:00.000000000",
          "2025-08-02T00:00:00.000000000",
          "2025-08-03T00:00:00.000000000",
          "2025-08-04T00:00:00.000000000",
          "2025-08-05T00:00:00.000000000",
          "2025-08-06T00:00:00.000000000",
          "2025-08-07T00:00:00.000000000",
          "2025-08-08T00:00:00.000000000",
          "2025-08-09T00:00:00.000000000",
          "2025-08-10T00:00:00.000000000",
          "2025-08-11T00:00:00.000000000",
          "2025-08-12T00:00:00.000000000",
          "2025-08-13T00:00:00.000000000",
          "2025-08-14T00:00:00.000000000",
          "2025-08-15T00:00:00.000000000",
          "2025-08-16T00:00:00.000000000",
          "2025-08-17T00:00:00.000000000",
          "2025-08-18T00:00:00.000000000",
          "2025-08-19T00:00:00.000000000",
          "2025-08-20T00:00:00.000000000",
          "2025-08-21T00:00:00.000000000",
          "2025-08-22T00:00:00.000000000",
          "2025-08-23T00:00:00.000000000",
          "2025-08-24T00:00:00.000000000",
          "2025-08-25T00:00:00.000000000",
          "2025-08-26T00:00:00.000000000",
          "2025-08-27T00:00:00.000000000",
          "2025-08-28T00:00:00.000000000",
          "2025-08-29T00:00:00.000000000",
          "2025-08-30T00:00:00.000000000",
          "2025-08-31T00:00:00.000000000",
          "2025-09-01T00:00:00.000000000",
          "2025-09-02T00:00:00.000000000",
          "2025-09-03T00:00:00.000000000",
          "2025-09-04T00:00:00.000000000",
          "2025-09-05T00:00:00.000000000",
          "2025-09-06T00:00:00.000000000",
          "2025-09-07T00:00:00.000000000",
          "2025-09-08T00:00:00.000000000",
          "2025-09-09T00:00:00.000000000",
          "2025-09-10T00:00:00.000000000",
          "2025-09-11T00:00:00.000000000",
          "2025-09-12T00:00:00.000000000",
          "2025-09-13T00:00:00.000000000",
          "2025-09-14T00:00:00.000000000",
          "2025-09-15T00:00:00.000000000",
          "2025-09-16T00:00:00.000000000",
          "2025-09-17T00:00:00.000000000",
          "2025-09-18T00:00:00.000000000",
          "2025-09-19T00:00:00.000000000",
          "2025-09-20T00:00:00.000000000",
          "2025-09-21T00:00:00.000000000",
          "2025-09-22T00:00:00.000000000",
          "2025-09-23T00:00:00.000000000",
          "2025-09-24T00:00:00.000000000",
          "2025-09-25T00:00:00.000000000",
          "2025-09-26T00:00:00.000000000",
          "2025-09-27T00:00:00.000000000",
          "2025-09-28T00:00:00.000000000",
          "2025-09-29T00:00:00.000000000",
          "2025-09-30T00:00:00.000000000",
          "2025-10-01T00:00:00.000000000",
          "2025-10-02T00:00:00.000000000",
          "2025-10-03T00:00:00.000000000",
          "2025-10-04T00:00:00.000000000",
          "2025-10-05T00:00:00.000000000"
         ]
        },
        {
         "line": {
          "color": "orange",
          "dash": "dash",
          "width": 2
         },
         "mode": "lines",
         "name": "line_close_D",
         "showlegend": true,
         "type": "scatter",
         "x": [
          "2025-04-08T00:00:00",
          "2025-10-05T00:00:00"
         ],
         "y": [
          76286.9,
          76286.9
         ]
        },
        {
         "line": {
          "color": "orange",
          "dash": "dash",
          "width": 2
         },
         "mode": "lines",
         "name": "line_close_D",
         "showlegend": true,
         "type": "scatter",
         "x": [
          "2025-04-10T00:00:00",
          "2025-10-05T00:00:00"
         ],
         "y": [
          79557.5,
          79557.5
         ]
        },
        {
         "line": {
          "color": "orange",
          "dash": "dash",
          "width": 2
         },
         "mode": "lines",
         "name": "line_close_D",
         "showlegend": true,
         "type": "scatter",
         "x": [
          "2025-04-15T00:00:00",
          "2025-10-05T00:00:00"
         ],
         "y": [
          83603.7,
          83603.7
         ]
        },
        {
         "line": {
          "color": "orange",
          "dash": "dash",
          "width": 2
         },
         "mode": "lines",
         "name": "line_close_D",
         "showlegend": true,
         "type": "scatter",
         "x": [
          "2025-06-22T00:00:00",
          "2025-10-05T00:00:00"
         ],
         "y": [
          100904.3,
          100904.3
         ]
        },
        {
         "line": {
          "color": "orange",
          "dash": "dash",
          "width": 2
         },
         "mode": "lines",
         "name": "line_close_D",
         "showlegend": true,
         "type": "scatter",
         "x": [
          "2025-07-01T00:00:00",
          "2025-10-05T00:00:00"
         ],
         "y": [
          105634.8,
          105634.8
         ]
        },
        {
         "line": {
          "color": "orange",
          "dash": "dash",
          "width": 2
         },
         "mode": "lines",
         "name": "line_close_D",
         "showlegend": true,
         "type": "scatter",
         "x": [
          "2025-08-31T00:00:00",
          "2025-10-05T00:00:00"
         ],
         "y": [
          108200,
          108200
         ]
        },
        {
         "line": {
          "color": "orange",
          "dash": "dash",
          "width": 2
         },
         "mode": "lines",
         "name": "line_close_D",
         "showlegend": true,
         "type": "scatter",
         "x": [
          "2025-09-25T00:00:00",
          "2025-10-05T00:00:00"
         ],
         "y": [
          108931.3,
          108931.3
         ]
        },
        {
         "line": {
          "color": "orange",
          "dash": "dash",
          "width": 2
         },
         "mode": "lines",
         "name": "line_close_D",
         "showlegend": true,
         "type": "scatter",
         "x": [
          "2025-09-27T00:00:00",
          "2025-10-05T00:00:00"
         ],
         "y": [
          109585.6,
          109585.6
         ]
        },
        {
         "line": {
          "color": "orange",
          "dash": "dash",
          "width": 2
         },
         "mode": "lines",
         "name": "line_close_D",
         "showlegend": true,
         "type": "scatter",
         "x": [
          "2025-09-30T00:00:00",
          "2025-10-05T00:00:00"
         ],
         "y": [
          114013.8,
          114013.8
         ]
        },
        {
         "line": {
          "color": "orange",
          "dash": "dash",
          "width": 2
         },
         "mode": "lines",
         "name": "max_level_D",
         "showlegend": true,
         "type": "scatter",
         "x": [
          "2025-03-17T00:00:00",
          "2025-10-05T00:00:00"
         ],
         "y": [
          124571.2,
          124571.2
         ]
        },
        {
         "line": {
          "color": "orange",
          "dash": "dash",
          "width": 2
         },
         "mode": "lines",
         "name": "min_level_D",
         "showlegend": true,
         "type": "scatter",
         "x": [
          "2025-03-17T00:00:00",
          "2025-10-05T00:00:00"
         ],
         "y": [
          74456.2,
          74456.2
         ]
        }
       ],
       "layout": {
        "height": 800,
        "showlegend": false,
        "template": {
         "data": {
          "bar": [
           {
            "error_x": {
             "color": "#f2f5fa"
            },
            "error_y": {
             "color": "#f2f5fa"
            },
            "marker": {
             "line": {
              "color": "rgb(17,17,17)",
              "width": 0.5
             },
             "pattern": {
              "fillmode": "overlay",
              "size": 10,
              "solidity": 0.2
             }
            },
            "type": "bar"
           }
          ],
          "barpolar": [
           {
            "marker": {
             "line": {
              "color": "rgb(17,17,17)",
              "width": 0.5
             },
             "pattern": {
              "fillmode": "overlay",
              "size": 10,
              "solidity": 0.2
             }
            },
            "type": "barpolar"
           }
          ],
          "carpet": [
           {
            "aaxis": {
             "endlinecolor": "#A2B1C6",
             "gridcolor": "#506784",
             "linecolor": "#506784",
             "minorgridcolor": "#506784",
             "startlinecolor": "#A2B1C6"
            },
            "baxis": {
             "endlinecolor": "#A2B1C6",
             "gridcolor": "#506784",
             "linecolor": "#506784",
             "minorgridcolor": "#506784",
             "startlinecolor": "#A2B1C6"
            },
            "type": "carpet"
           }
          ],
          "choropleth": [
           {
            "colorbar": {
             "outlinewidth": 0,
             "ticks": ""
            },
            "type": "choropleth"
           }
          ],
          "contour": [
           {
            "colorbar": {
             "outlinewidth": 0,
             "ticks": ""
            },
            "colorscale": [
             [
              0,
              "#0d0887"
             ],
             [
              0.1111111111111111,
              "#46039f"
             ],
             [
              0.2222222222222222,
              "#7201a8"
             ],
             [
              0.3333333333333333,
              "#9c179e"
             ],
             [
              0.4444444444444444,
              "#bd3786"
             ],
             [
              0.5555555555555556,
              "#d8576b"
             ],
             [
              0.6666666666666666,
              "#ed7953"
             ],
             [
              0.7777777777777778,
              "#fb9f3a"
             ],
             [
              0.8888888888888888,
              "#fdca26"
             ],
             [
              1,
              "#f0f921"
             ]
            ],
            "type": "contour"
           }
          ],
          "contourcarpet": [
           {
            "colorbar": {
             "outlinewidth": 0,
             "ticks": ""
            },
            "type": "contourcarpet"
           }
          ],
          "heatmap": [
           {
            "colorbar": {
             "outlinewidth": 0,
             "ticks": ""
            },
            "colorscale": [
             [
              0,
              "#0d0887"
             ],
             [
              0.1111111111111111,
              "#46039f"
             ],
             [
              0.2222222222222222,
              "#7201a8"
             ],
             [
              0.3333333333333333,
              "#9c179e"
             ],
             [
              0.4444444444444444,
              "#bd3786"
             ],
             [
              0.5555555555555556,
              "#d8576b"
             ],
             [
              0.6666666666666666,
              "#ed7953"
             ],
             [
              0.7777777777777778,
              "#fb9f3a"
             ],
             [
              0.8888888888888888,
              "#fdca26"
             ],
             [
              1,
              "#f0f921"
             ]
            ],
            "type": "heatmap"
           }
          ],
          "histogram": [
           {
            "marker": {
             "pattern": {
              "fillmode": "overlay",
              "size": 10,
              "solidity": 0.2
             }
            },
            "type": "histogram"
           }
          ],
          "histogram2d": [
           {
            "colorbar": {
             "outlinewidth": 0,
             "ticks": ""
            },
            "colorscale": [
             [
              0,
              "#0d0887"
             ],
             [
              0.1111111111111111,
              "#46039f"
             ],
             [
              0.2222222222222222,
              "#7201a8"
             ],
             [
              0.3333333333333333,
              "#9c179e"
             ],
             [
              0.4444444444444444,
              "#bd3786"
             ],
             [
              0.5555555555555556,
              "#d8576b"
             ],
             [
              0.6666666666666666,
              "#ed7953"
             ],
             [
              0.7777777777777778,
              "#fb9f3a"
             ],
             [
              0.8888888888888888,
              "#fdca26"
             ],
             [
              1,
              "#f0f921"
             ]
            ],
            "type": "histogram2d"
           }
          ],
          "histogram2dcontour": [
           {
            "colorbar": {
             "outlinewidth": 0,
             "ticks": ""
            },
            "colorscale": [
             [
              0,
              "#0d0887"
             ],
             [
              0.1111111111111111,
              "#46039f"
             ],
             [
              0.2222222222222222,
              "#7201a8"
             ],
             [
              0.3333333333333333,
              "#9c179e"
             ],
             [
              0.4444444444444444,
              "#bd3786"
             ],
             [
              0.5555555555555556,
              "#d8576b"
             ],
             [
              0.6666666666666666,
              "#ed7953"
             ],
             [
              0.7777777777777778,
              "#fb9f3a"
             ],
             [
              0.8888888888888888,
              "#fdca26"
             ],
             [
              1,
              "#f0f921"
             ]
            ],
            "type": "histogram2dcontour"
           }
          ],
          "mesh3d": [
           {
            "colorbar": {
             "outlinewidth": 0,
             "ticks": ""
            },
            "type": "mesh3d"
           }
          ],
          "parcoords": [
           {
            "line": {
             "colorbar": {
              "outlinewidth": 0,
              "ticks": ""
             }
            },
            "type": "parcoords"
           }
          ],
          "pie": [
           {
            "automargin": true,
            "type": "pie"
           }
          ],
          "scatter": [
           {
            "marker": {
             "line": {
              "color": "#283442"
             }
            },
            "type": "scatter"
           }
          ],
          "scatter3d": [
           {
            "line": {
             "colorbar": {
              "outlinewidth": 0,
              "ticks": ""
             }
            },
            "marker": {
             "colorbar": {
              "outlinewidth": 0,
              "ticks": ""
             }
            },
            "type": "scatter3d"
           }
          ],
          "scattercarpet": [
           {
            "marker": {
             "colorbar": {
              "outlinewidth": 0,
              "ticks": ""
             }
            },
            "type": "scattercarpet"
           }
          ],
          "scattergeo": [
           {
            "marker": {
             "colorbar": {
              "outlinewidth": 0,
              "ticks": ""
             }
            },
            "type": "scattergeo"
           }
          ],
          "scattergl": [
           {
            "marker": {
             "line": {
              "color": "#283442"
             }
            },
            "type": "scattergl"
           }
          ],
          "scattermap": [
           {
            "marker": {
             "colorbar": {
              "outlinewidth": 0,
              "ticks": ""
             }
            },
            "type": "scattermap"
           }
          ],
          "scattermapbox": [
           {
            "marker": {
             "colorbar": {
              "outlinewidth": 0,
              "ticks": ""
             }
            },
            "type": "scattermapbox"
           }
          ],
          "scatterpolar": [
           {
            "marker": {
             "colorbar": {
              "outlinewidth": 0,
              "ticks": ""
             }
            },
            "type": "scatterpolar"
           }
          ],
          "scatterpolargl": [
           {
            "marker": {
             "colorbar": {
              "outlinewidth": 0,
              "ticks": ""
             }
            },
            "type": "scatterpolargl"
           }
          ],
          "scatterternary": [
           {
            "marker": {
             "colorbar": {
              "outlinewidth": 0,
              "ticks": ""
             }
            },
            "type": "scatterternary"
           }
          ],
          "surface": [
           {
            "colorbar": {
             "outlinewidth": 0,
             "ticks": ""
            },
            "colorscale": [
             [
              0,
              "#0d0887"
             ],
             [
              0.1111111111111111,
              "#46039f"
             ],
             [
              0.2222222222222222,
              "#7201a8"
             ],
             [
              0.3333333333333333,
              "#9c179e"
             ],
             [
              0.4444444444444444,
              "#bd3786"
             ],
             [
              0.5555555555555556,
              "#d8576b"
             ],
             [
              0.6666666666666666,
              "#ed7953"
             ],
             [
              0.7777777777777778,
              "#fb9f3a"
             ],
             [
              0.8888888888888888,
              "#fdca26"
             ],
             [
              1,
              "#f0f921"
             ]
            ],
            "type": "surface"
           }
          ],
          "table": [
           {
            "cells": {
             "fill": {
              "color": "#506784"
             },
             "line": {
              "color": "rgb(17,17,17)"
             }
            },
            "header": {
             "fill": {
              "color": "#2a3f5f"
             },
             "line": {
              "color": "rgb(17,17,17)"
             }
            },
            "type": "table"
           }
          ]
         },
         "layout": {
          "annotationdefaults": {
           "arrowcolor": "#f2f5fa",
           "arrowhead": 0,
           "arrowwidth": 1
          },
          "autotypenumbers": "strict",
          "coloraxis": {
           "colorbar": {
            "outlinewidth": 0,
            "ticks": ""
           }
          },
          "colorscale": {
           "diverging": [
            [
             0,
             "#8e0152"
            ],
            [
             0.1,
             "#c51b7d"
            ],
            [
             0.2,
             "#de77ae"
            ],
            [
             0.3,
             "#f1b6da"
            ],
            [
             0.4,
             "#fde0ef"
            ],
            [
             0.5,
             "#f7f7f7"
            ],
            [
             0.6,
             "#e6f5d0"
            ],
            [
             0.7,
             "#b8e186"
            ],
            [
             0.8,
             "#7fbc41"
            ],
            [
             0.9,
             "#4d9221"
            ],
            [
             1,
             "#276419"
            ]
           ],
           "sequential": [
            [
             0,
             "#0d0887"
            ],
            [
             0.1111111111111111,
             "#46039f"
            ],
            [
             0.2222222222222222,
             "#7201a8"
            ],
            [
             0.3333333333333333,
             "#9c179e"
            ],
            [
             0.4444444444444444,
             "#bd3786"
            ],
            [
             0.5555555555555556,
             "#d8576b"
            ],
            [
             0.6666666666666666,
             "#ed7953"
            ],
            [
             0.7777777777777778,
             "#fb9f3a"
            ],
            [
             0.8888888888888888,
             "#fdca26"
            ],
            [
             1,
             "#f0f921"
            ]
           ],
           "sequentialminus": [
            [
             0,
             "#0d0887"
            ],
            [
             0.1111111111111111,
             "#46039f"
            ],
            [
             0.2222222222222222,
             "#7201a8"
            ],
            [
             0.3333333333333333,
             "#9c179e"
            ],
            [
             0.4444444444444444,
             "#bd3786"
            ],
            [
             0.5555555555555556,
             "#d8576b"
            ],
            [
             0.6666666666666666,
             "#ed7953"
            ],
            [
             0.7777777777777778,
             "#fb9f3a"
            ],
            [
             0.8888888888888888,
             "#fdca26"
            ],
            [
             1,
             "#f0f921"
            ]
           ]
          },
          "colorway": [
           "#636efa",
           "#EF553B",
           "#00cc96",
           "#ab63fa",
           "#FFA15A",
           "#19d3f3",
           "#FF6692",
           "#B6E880",
           "#FF97FF",
           "#FECB52"
          ],
          "font": {
           "color": "#f2f5fa"
          },
          "geo": {
           "bgcolor": "rgb(17,17,17)",
           "lakecolor": "rgb(17,17,17)",
           "landcolor": "rgb(17,17,17)",
           "showlakes": true,
           "showland": true,
           "subunitcolor": "#506784"
          },
          "hoverlabel": {
           "align": "left"
          },
          "hovermode": "closest",
          "mapbox": {
           "style": "dark"
          },
          "paper_bgcolor": "rgb(17,17,17)",
          "plot_bgcolor": "rgb(17,17,17)",
          "polar": {
           "angularaxis": {
            "gridcolor": "#506784",
            "linecolor": "#506784",
            "ticks": ""
           },
           "bgcolor": "rgb(17,17,17)",
           "radialaxis": {
            "gridcolor": "#506784",
            "linecolor": "#506784",
            "ticks": ""
           }
          },
          "scene": {
           "xaxis": {
            "backgroundcolor": "rgb(17,17,17)",
            "gridcolor": "#506784",
            "gridwidth": 2,
            "linecolor": "#506784",
            "showbackground": true,
            "ticks": "",
            "zerolinecolor": "#C8D4E3"
           },
           "yaxis": {
            "backgroundcolor": "rgb(17,17,17)",
            "gridcolor": "#506784",
            "gridwidth": 2,
            "linecolor": "#506784",
            "showbackground": true,
            "ticks": "",
            "zerolinecolor": "#C8D4E3"
           },
           "zaxis": {
            "backgroundcolor": "rgb(17,17,17)",
            "gridcolor": "#506784",
            "gridwidth": 2,
            "linecolor": "#506784",
            "showbackground": true,
            "ticks": "",
            "zerolinecolor": "#C8D4E3"
           }
          },
          "shapedefaults": {
           "line": {
            "color": "#f2f5fa"
           }
          },
          "sliderdefaults": {
           "bgcolor": "#C8D4E3",
           "bordercolor": "rgb(17,17,17)",
           "borderwidth": 1,
           "tickwidth": 0
          },
          "ternary": {
           "aaxis": {
            "gridcolor": "#506784",
            "linecolor": "#506784",
            "ticks": ""
           },
           "baxis": {
            "gridcolor": "#506784",
            "linecolor": "#506784",
            "ticks": ""
           },
           "bgcolor": "rgb(17,17,17)",
           "caxis": {
            "gridcolor": "#506784",
            "linecolor": "#506784",
            "ticks": ""
           }
          },
          "title": {
           "x": 0.05
          },
          "updatemenudefaults": {
           "bgcolor": "#506784",
           "borderwidth": 0
          },
          "xaxis": {
           "automargin": true,
           "gridcolor": "#283442",
           "linecolor": "#506784",
           "ticks": "",
           "title": {
            "standoff": 15
           },
           "zerolinecolor": "#283442",
           "zerolinewidth": 2
          },
          "yaxis": {
           "automargin": true,
           "gridcolor": "#283442",
           "linecolor": "#506784",
           "ticks": "",
           "title": {
            "standoff": 15
           },
           "zerolinecolor": "#283442",
           "zerolinewidth": 2
          }
         }
        },
        "title": {
         "text": "BTCUSDT - D - TA Chart Visualizer"
        },
        "xaxis": {
         "fixedrange": false,
         "rangeslider": {
          "visible": false
         },
         "title": {
          "text": "Time"
         }
        },
        "yaxis": {
         "fixedrange": false,
         "title": {
          "text": "Price"
         },
         "type": "log"
        }
       }
      }
     },
     "metadata": {},
     "output_type": "display_data"
    }
   ],
   "source": [
    "# Load data from files first\n",
    "file_paths = [\n",
    "    #'./data/BTCUSDT-1h.json',\n",
    "    './data/BTCUSDT-M.json', \n",
    "    './data/BTCUSDT-W.json',\n",
    "    './data/BTCUSDT-D.json'\n",
    "]\n",
    "\n",
    "# Split charts into 10 segments and visualize each\n",
    "num_segments = 10\n",
    "\n",
    "# Load all chart data\n",
    "chart_data_list = []\n",
    "for file_path in file_paths:\n",
    "    try:\n",
    "        print(f\"📂 Loading: {file_path}\")\n",
    "        chart_data = load_chart_data(file_path)\n",
    "        chart_data_list.append(chart_data)\n",
    "        print(f\"   ✅ Loaded {chart_data['symbol']} - {chart_data['time_frame']} ({len(chart_data['df'])} candles)\")\n",
    "    except Exception as e:\n",
    "        print(f\"   ❌ Error loading {file_path}: {e}\")\n",
    "\n",
    "print(f\"\\n✅ Total charts loaded: {len(chart_data_list)}\")\n",
    "\n",
    "# Define which middlewares to use (you can customize this list)\n",
    "my_middlewares = [\n",
    "    #zigzag_middleware,\n",
    "    #volume_profile_middleware,\n",
    "    #channels_middleware,\n",
    "    levels_middleware\n",
    "]\n",
    "\n",
    "\n",
    "for chart_data in chart_data_list:\n",
    "    print(f\"\\n{'='*70}\")\n",
    "    print(f\"🔪 Splitting {chart_data['symbol']} - {chart_data['time_frame']} into {num_segments} segments\")\n",
    "    print('='*70)\n",
    "    \n",
    "    # Split the chart data into segments\n",
    "    segments = split_chart_data(chart_data, num_segments=num_segments)\n",
    "    \n",
    "    print(f\"✅ Created {len(segments)} segments:\")\n",
    "    for seg in segments:\n",
    "        print(f\"   Segment {seg['segment']}/{seg['total_segments']}: \"\n",
    "              f\"{seg['start_date'].strftime('%Y-%m-%d')} to {seg['end_date'].strftime('%Y-%m-%d')} \"\n",
    "              f\"({len(seg['df'])} candles)\")\n",
    "    \n",
    "    # Visualize each segment\n",
    "    for segment_data in segments:\n",
    "        try:\n",
    "            print(f\"\\n{'='*70}\")\n",
    "            print(f\"📊 Visualizing Segment {segment_data['segment']}/{segment_data['total_segments']}: \"\n",
    "                  f\"{segment_data['symbol']} - {segment_data['time_frame']}\")\n",
    "            print(f\"   Period: {segment_data['start_date'].strftime('%Y-%m-%d %H:%M')} to \"\n",
    "                  f\"{segment_data['end_date'].strftime('%Y-%m-%d %H:%M')}\")\n",
    "            print('='*70)\n",
    "            \n",
    "            visualize_chart(segment_data, middlewares=my_middlewares, useLogScale=True)\n",
    "            \n",
    "        except Exception as e:\n",
    "            print(f\"❌ Error visualizing segment {segment_data['segment']}: {e}\")\n",
    "            import traceback\n",
    "            traceback.print_exc()\n"
   ]
  }
 ],
 "metadata": {
  "kernelspec": {
   "display_name": "venv",
   "language": "python",
   "name": "python3"
  },
  "language_info": {
   "codemirror_mode": {
    "name": "ipython",
    "version": 3
   },
   "file_extension": ".py",
   "mimetype": "text/x-python",
   "name": "python",
   "nbconvert_exporter": "python",
   "pygments_lexer": "ipython3",
   "version": "3.10.11"
  }
 },
 "nbformat": 4,
 "nbformat_minor": 5
}
