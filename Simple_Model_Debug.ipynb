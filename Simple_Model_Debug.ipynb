{
 "cells": [
  {
   "cell_type": "code",
   "execution_count": 1,
   "id": "94ae8ebe",
   "metadata": {},
   "outputs": [
    {
     "name": "stdout",
     "output_type": "stream",
     "text": [
      "✅ Added to Python path: d:\\Dev\\trading-bot\\src\n",
      "📂 Working directory: d:\\Dev\\trading-bot\n",
      "🔍 Python will search for modules in: d:\\Dev\\trading-bot\\src\n",
      "==================================================\n"
     ]
    }
   ],
   "source": [
    "# ================================================\n",
    "# 🔧 SETUP - Add src to Python Path\n",
    "# ================================================\n",
    "\n",
    "import sys\n",
    "import os\n",
    "\n",
    "# Add src directory to Python path so 'core' module can be found\n",
    "project_root = os.getcwd()\n",
    "src_path = os.path.join(project_root, 'src')\n",
    "\n",
    "if src_path not in sys.path:\n",
    "    sys.path.insert(0, src_path)\n",
    "    print(f\"✅ Added to Python path: {src_path}\")\n",
    "else:\n",
    "    print(f\"✅ Already in path: {src_path}\")\n",
    "\n",
    "# Verify\n",
    "print(f\"📂 Working directory: {project_root}\")\n",
    "print(f\"🔍 Python will search for modules in: {src_path}\")\n",
    "print(\"=\" * 50)"
   ]
  },
  {
   "cell_type": "code",
   "execution_count": 13,
   "id": "e1be7d42",
   "metadata": {},
   "outputs": [
    {
     "name": "stdout",
     "output_type": "stream",
     "text": [
      "✅ Already in path: d:\\Dev\\trading-bot\\src\n",
      "📂 Working directory: d:\\Dev\\trading-bot\n",
      "🔍 Python will search for modules in: d:\\Dev\\trading-bot\\src\n",
      "==================================================\n",
      "🧪 PROGRESSIVE TEST - Training on 100 candles\n",
      "======================================================================\n",
      "\n",
      "🔍 DEBUG: training_files keys: ['M', 'W', 'D', '1h', '15m', 'parquet_path']\n",
      "🔍 DEBUG: 'parquet_path' in training_files: True\n",
      "✅ Level extractor initialized with timeframe caching\n",
      "✅ Level extractor initialized with timeframe caching\n",
      "\n",
      "⏱️  Starting progressive training...\n",
      "   Time range: 2023-04-03 13:45:00 to 2025-10-05 00:00:00\n",
      "   This will process each candle individually\n",
      "\n",
      "🎓 TRAINING MODEL\n",
      "==============================\n",
      "\n",
      "📋 Validating training files...\n",
      "   ✅ Main file (15m): d:\\Dev\\trading-bot\\data\\BTCUSDT-15m.json\n",
      "   ✅ Parquet file: d:\\Dev\\trading-bot\\data\\levels_cache\\BTCUSDT-15m-levels.parquet.full\n",
      "\n",
      "📊 Validating level timeframes: ['M', 'W', 'D', '1h', '15m']\n",
      "\n",
      "✅ All 6 level timeframe files validated!\n",
      "   Level timeframes: ['M', 'W', 'D', '1h', '15m', 'parquet_path']\n",
      "\n",
      "📦 Loading precomputed features from parquet...\n",
      "   ✅ Loaded 87,891 candles from precomputed parquet\n",
      "\n",
      "📂 Loading level timeframe data...\n",
      "\n",
      "📂 PRE-LOADING ALL DATA FILES (one-time operation)...\n",
      "   Loading M... ✅ 99 candles\n",
      "   Loading W... ✅ 426 candles\n",
      "   Loading D... ✅ 2,976 candles\n",
      "   Loading 1h... ✅ 71,272 candles\n",
      "   Loading 15m... ✅ 101,000 candles\n",
      "   Skipping parquet_path (excluded)\n",
      "✅ All data files loaded into memory!\n",
      "\n",
      "\n",
      "======================================================================\n",
      "🚀 PREPARING TRAINING DATA (OPTIMIZED)\n",
      "======================================================================\n",
      "\n",
      "📈 Step 1/4: Calculating TA features for FULL dataset...\n",
      "   Using {len(main_df):,} candles (includes all historical data)\n",
      "🔄 Calculating TA features (ta_15m_20230403_20251005_87891)...\n",
      "✅ TA features calculated and cached: 11 features (0.01s)\n",
      "   ✅ TA features calculated in 0.01s (11 features)\n",
      "\n",
      "📅 Step 2/4: Filtering to training time range...\n",
      "   ⏰ Start time: 2023-04-03 13:45:00\n",
      "   ⏰ End time: 2025-10-05 00:00:00\n",
      "   ✅ Training range: 87882 candles (2023-04-03 13:45:00 to 2025-10-05 00:00:00)\n",
      "   ✅ TA features filtered: 87882 samples\n",
      "\n",
      "📊 Step 3/4: Pre-processing levels for 87882 candles...\n",
      "   ✅ Levels pre-processed in 16.61s\n",
      "\n",
      " Step 2/4: Calculating TA features for entire dataset...\n",
      "🔄 Calculating TA features (ta_15m_20230403_20251005_87882)...\n",
      "✅ TA features calculated and cached: 11 features (0.01s)\n",
      "   ✅ TA features calculated in 0.01s (11 features)\n",
      "\n",
      "🎯 Step 3/4: Calculating level features per candle...\n"
     ]
    },
    {
     "name": "stderr",
     "output_type": "stream",
     "text": [
      "Level features: 100%|██████████| 87882/87882 [00:09<00:00, 9022.99it/s]\n"
     ]
    },
    {
     "name": "stdout",
     "output_type": "stream",
     "text": [
      "   ✅ Level features calculated in 10.03s (37 features)\n",
      "\n",
      "💾 Step 4/4: Adding memory features...\n",
      "   ✅ Memory features added in 0.000s (10 features)\n",
      "\n",
      "🔗 Combining all feature groups...\n",
      "   ✅ Features combined in 0.005s\n",
      "\n",
      "✅ Features ready: 87882 samples, 58 features\n",
      "   TA: 11, Level: 37, Memory: 10\n",
      "🏷️  Generating trading labels...\n",
      "🏷️  Generating labels based on price movements...\n",
      "   BUY signals: 1215 (1.4%)\n",
      "   SELL signals: 3291 (3.7%)\n",
      "   HOLD signals: 83376 (94.9%)\n",
      "✅ Training data ready: 87882 samples, 58 features\n",
      "📊 Label distribution:\n",
      "   hold: 83376 (94.9%)\n",
      "   sell: 3291 (3.7%)\n",
      "   buy: 1215 (1.4%)\n",
      "\n",
      "======================================================================\n",
      "✅ TRAINING DATA PREPARATION COMPLETE\n",
      "======================================================================\n",
      "⏱️  Total time: 26.79 seconds (0.45 minutes)\n",
      "📊 Total samples: 87,882\n",
      "📊 Total features: 58\n",
      "⚡ Average time per sample: 0.0003 seconds\n",
      "======================================================================\n",
      "\n",
      "🔥 Training with 70305 samples, 58 features\n",
      "🖥️  GPU Detection: ✅ Available\n",
      "   🚀 Training with GPU...\n",
      "     ✅ GPU Training Complete: 4.06s | Accuracy: 96.8%\n",
      "\n",
      "✅ TRAINING COMPLETE!\n",
      "   Model: XGBoost-GPU\n",
      "   Test Accuracy: 96.8%\n",
      "\n",
      "🔍 Top 10 Features:\n",
      "     time: 0.056\n",
      "     current_volume: 0.045\n",
      "     bb_upper: 0.044\n",
      "     volume_ma20: 0.042\n",
      "     avg_level_strength: 0.040\n",
      "     W_level_count: 0.040\n",
      "     bb_lower: 0.039\n",
      "     M_level_count: 0.039\n",
      "     num_levels: 0.039\n",
      "     D_level_count: 0.036\n",
      "💾 Model saved to: src/models/simple_trading_model.joblib\n",
      "\n",
      "🎉 TEST TRAINING SUCCESS!\n",
      "   Model Type: XGBoost-GPU\n",
      "   Accuracy: 96.8%\n",
      "   Features: 58\n",
      "   Classes: ['buy', 'hold', 'sell']\n",
      "\n",
      "✅ Progressive approach is working correctly!\n",
      "   You can now train on full dataset\n"
     ]
    }
   ],
   "source": [
    "import sys\n",
    "import os\n",
    "\n",
    "# Add src directory to Python path so 'core' module can be found\n",
    "project_root = os.getcwd()\n",
    "src_path = os.path.join(project_root, 'src')\n",
    "\n",
    "if src_path not in sys.path:\n",
    "    sys.path.insert(0, src_path)\n",
    "    print(f\"✅ Added to Python path: {src_path}\")\n",
    "else:\n",
    "    print(f\"✅ Already in path: {src_path}\")\n",
    "\n",
    "# Verify\n",
    "print(f\"📂 Working directory: {project_root}\")\n",
    "print(f\"🔍 Python will search for modules in: {src_path}\")\n",
    "print(\"=\" * 50)\n",
    "\n",
    "# ================================================\n",
    "# 🧪 TEST PROGRESSIVE TRAINING (100 candles only)\n",
    "# ================================================\n",
    "\n",
    "print(\"🧪 PROGRESSIVE TEST - Training on 100 candles\")\n",
    "print(\"=\" * 70)\n",
    "\n",
    "import os\n",
    "import pandas as pd\n",
    "from src.training.model_trainer import SimpleModelTrainer\n",
    "\n",
    "data_folder = os.path.join(os.getcwd(), 'data')\n",
    "\n",
    "# Training files\n",
    "training_files = {\n",
    "    'M': os.path.join(data_folder, 'BTCUSDT-M.json'),\n",
    "    'W': os.path.join(data_folder, 'BTCUSDT-W.json'),\n",
    "    'D': os.path.join(data_folder, 'BTCUSDT-D.json'),\n",
    "    '1h': os.path.join(data_folder, 'BTCUSDT-1h.json'),\n",
    "    '15m': os.path.join(data_folder, 'BTCUSDT-15m.json'),\n",
    "    'parquet_path': os.path.join(data_folder, 'levels_cache', 'BTCUSDT-15m-levels.parquet.full'),\n",
    "}\n",
    "\n",
    "print(f\"\\n🔍 DEBUG: training_files keys: {list(training_files.keys())}\")\n",
    "print(f\"🔍 DEBUG: 'parquet_path' in training_files: {'parquet_path' in training_files}\")\n",
    "\n",
    "# Initialize trainer\n",
    "test_trainer = SimpleModelTrainer()\n",
    "\n",
    "start_time = pd.Timestamp('2023-04-03 13:45:00')\n",
    "end_time = pd.Timestamp('2025-10-05 00:00:00')\n",
    "\"\"\" start_time = pd.Timestamp('2023-04-10 00:00:00')\n",
    "end_time = pd.Timestamp('2023-05-15 23:59:59') \"\"\"\n",
    "# Configure training with time range filter\n",
    "test_trainer.configure_training(\n",
    "    profit_threshold=3.0,\n",
    "    loss_threshold=-2.0,\n",
    "    lookforward_periods=[5, 10, 20],\n",
    "    start_time=start_time,\n",
    "    end_time=end_time,\n",
    ")\n",
    "\n",
    "print(f\"\\n⏱️  Starting progressive training...\")\n",
    "print(f\"   Time range: {start_time} to {end_time}\")\n",
    "print(f\"   This will process each candle individually\\n\")\n",
    "\n",
    "# Train the model\n",
    "success = test_trainer.train_model(\n",
    "    training_files=training_files,\n",
    "    level_timeframes=['M', 'W', 'D', '1h', '15m']\n",
    ")\n",
    "\n",
    "if success:\n",
    "    info = test_trainer.get_model_info()\n",
    "    print(f\"\\n🎉 TEST TRAINING SUCCESS!\")\n",
    "    print(f\"   Model Type: {info['model_type']}\")\n",
    "    print(f\"   Accuracy: {info['accuracy']:.1%}\")\n",
    "    print(f\"   Features: {info['features']}\")\n",
    "    print(f\"   Classes: {info['classes']}\")\n",
    "    print(f\"\\n✅ Progressive approach is working correctly!\")\n",
    "    print(f\"   You can now train on full dataset\")\n",
    "else:\n",
    "    print(\"❌ Test training failed!\")"
   ]
  },
  {
   "cell_type": "code",
   "execution_count": 16,
   "id": "1114f2c0",
   "metadata": {},
   "outputs": [
    {
     "name": "stdout",
     "output_type": "stream",
     "text": [
      "🚀 VECTORBT BACKTESTING MODE\n",
      "=======================================================\n",
      "✅ Level extractor initialized with timeframe caching\n",
      "✅ Level extractor initialized with timeframe caching\n",
      "📁 Loading model from: src/models/simple_trading_model.joblib\n",
      "✅ Model loaded: XGBoost-GPU (Accuracy: 96.8%)\n",
      "✅ Model loaded successfully!\n",
      "   Model: XGBoost-GPU | Accuracy: 96.8% | Features: 58\n",
      "\n",
      "🎯 Symbol: BTCUSDT\n",
      "📊 Backtesting: 500 candles (PROGRESSIVE - no data leakage)\n",
      "⚙️  Thresholds: BUY≥10%, SELL≥10%\n",
      "💰 Initial Cash: $1,000,000.00\n",
      "💸 Commission: 0.10% | Slippage: 0.05%\n",
      "\n",
      "📊 Loading 15m data...\n",
      "✅ Loaded 101000 total candles\n",
      "📅 Range: 2022-11-22 00:00:00 to 2025-10-09 03:00:00\n",
      "🎲 Randomly selecting 500 candles from position 50333 to 50833\n",
      "\n",
      "🎬 Starting progressive backtest with 500 candles...\n",
      "📍 Backtest period: 2024-04-29 08:30:00 to 2024-05-04 13:15:00\n",
      "\n",
      "📂 Loading multi-timeframe data for level extraction...\n",
      "\n",
      "📂 PRE-LOADING ALL DATA FILES (one-time operation)...\n",
      "   Loading M... ✅ 99 candles\n",
      "   Loading W... ✅ 426 candles\n",
      "   Loading D... ✅ 2,976 candles\n",
      "   Loading 1h... ✅ 71,272 candles\n",
      "   Loading 15m... ✅ 101,000 candles\n",
      "✅ All data files loaded into memory!\n",
      "\n",
      "✅ Loaded 5 additional timeframes for levels\n",
      "\n",
      "\n",
      "=======================================================\n",
      "🚀 VECTORBT PROGRESSIVE BACKTEST STARTING...\n",
      "=======================================================\n",
      "⚠️  Note: Progressive mode recalculates levels for EACH candle\n",
      "   This is SLOW but prevents data leakage (realistic trading)\n",
      "   Progress bar will show each candle being processed\n",
      "\n",
      "🚀 OPTIMIZED BACKTESTING: Processing 500 candles...\n",
      "   Using bulk processing for maximum speed!\n",
      "\n",
      "📈 Step 1/3: Calculating TA features for full dataset...\n",
      "🔄 Calculating TA features (ta_15m_20240429_20240504_500)...\n",
      "✅ TA features calculated and cached: 10 features (0.00s)\n",
      "   ✅ TA features calculated in 0.00s (10 features)\n",
      "📊 Step 2/3: Extracting levels for 500 candles...\n"
     ]
    },
    {
     "name": "stderr",
     "output_type": "stream",
     "text": [
      "Extracting levels:   0%|          | 0/500 [00:00<?, ?it/s]"
     ]
    },
    {
     "name": "stdout",
     "output_type": "stream",
     "text": [
      "      🔧 zigzag_middleware: 0.011s\n",
      "      🔧 volume_profile_middleware: 0.012s\n",
      "   ⏱️  [W] Total: 0.024s | Copy: 0ms | Filter: 0ms | Init: 0ms | Run: 24ms | Extract: 0ms | Cache: 0ms\n"
     ]
    },
    {
     "name": "stderr",
     "output_type": "stream",
     "text": [
      "Extracting levels:   0%|          | 1/500 [00:00<01:11,  6.93it/s]"
     ]
    },
    {
     "name": "stdout",
     "output_type": "stream",
     "text": [
      "      🔧 zigzag_middleware: 0.031s\n",
      "      🔧 volume_profile_middleware: 0.051s\n",
      "   ⏱️  [D] Total: 0.088s | Copy: 0ms | Filter: 0ms | Init: 0ms | Run: 88ms | Extract: 0ms | Cache: 0ms\n",
      "   ⏱️  [1h] Total: 0.013s | Copy: 0ms | Filter: 0ms | Init: 0ms | Run: 13ms | Extract: 0ms | Cache: 0ms\n",
      "   ⏱️  [1h] Total: 0.013s | Copy: 0ms | Filter: 0ms | Init: 0ms | Run: 13ms | Extract: 0ms | Cache: 0ms\n",
      "   ⏱️  [1h] Total: 0.014s | Copy: 0ms | Filter: 0ms | Init: 0ms | Run: 14ms | Extract: 0ms | Cache: 0ms\n",
      "   ⏱️  [1h] Total: 0.013s | Copy: 0ms | Filter: 0ms | Init: 0ms | Run: 13ms | Extract: 0ms | Cache: 0ms\n",
      "   ⏱️  [1h] Total: 0.014s | Copy: 0ms | Filter: 0ms | Init: 0ms | Run: 14ms | Extract: 0ms | Cache: 0ms\n"
     ]
    },
    {
     "name": "stderr",
     "output_type": "stream",
     "text": [
      "Extracting levels:   2%|▏         | 9/500 [00:00<00:17, 28.12it/s]"
     ]
    },
    {
     "name": "stdout",
     "output_type": "stream",
     "text": [
      "   ⏱️  [1h] Total: 0.013s | Copy: 0ms | Filter: 0ms | Init: 0ms | Run: 13ms | Extract: 0ms | Cache: 0ms\n",
      "   ⏱️  [1h] Total: 0.014s | Copy: 0ms | Filter: 0ms | Init: 0ms | Run: 14ms | Extract: 0ms | Cache: 0ms\n",
      "   ⏱️  [1h] Total: 0.015s | Copy: 0ms | Filter: 0ms | Init: 0ms | Run: 14ms | Extract: 0ms | Cache: 0ms\n",
      "   ⏱️  [1h] Total: 0.013s | Copy: 0ms | Filter: 0ms | Init: 0ms | Run: 13ms | Extract: 0ms | Cache: 0ms\n",
      "   ⏱️  [1h] Total: 0.013s | Copy: 0ms | Filter: 0ms | Init: 0ms | Run: 13ms | Extract: 0ms | Cache: 0ms\n",
      "   ⏱️  [1h] Total: 0.016s | Copy: 0ms | Filter: 0ms | Init: 0ms | Run: 15ms | Extract: 0ms | Cache: 0ms\n"
     ]
    },
    {
     "name": "stderr",
     "output_type": "stream",
     "text": [
      "Extracting levels:   3%|▎         | 13/500 [00:00<00:15, 31.45it/s]"
     ]
    },
    {
     "name": "stdout",
     "output_type": "stream",
     "text": [
      "   ⏱️  [1h] Total: 0.014s | Copy: 0ms | Filter: 0ms | Init: 0ms | Run: 13ms | Extract: 0ms | Cache: 0ms\n",
      "   ⏱️  [1h] Total: 0.013s | Copy: 0ms | Filter: 0ms | Init: 0ms | Run: 13ms | Extract: 0ms | Cache: 0ms\n"
     ]
    },
    {
     "name": "stderr",
     "output_type": "stream",
     "text": [
      "Extracting levels:   3%|▎         | 17/500 [00:00<00:14, 33.55it/s]"
     ]
    },
    {
     "name": "stdout",
     "output_type": "stream",
     "text": [
      "   ⏱️  [1h] Total: 0.013s | Copy: 0ms | Filter: 0ms | Init: 0ms | Run: 13ms | Extract: 0ms | Cache: 0ms\n",
      "   ⏱️  [1h] Total: 0.014s | Copy: 0ms | Filter: 0ms | Init: 0ms | Run: 13ms | Extract: 0ms | Cache: 0ms\n",
      "   ⏱️  [1h] Total: 0.014s | Copy: 0ms | Filter: 0ms | Init: 0ms | Run: 12ms | Extract: 2ms | Cache: 0ms\n",
      "   ⏱️  [1h] Total: 0.014s | Copy: 0ms | Filter: 0ms | Init: 0ms | Run: 12ms | Extract: 1ms | Cache: 0ms\n",
      "   ⏱️  [1h] Total: 0.013s | Copy: 0ms | Filter: 0ms | Init: 0ms | Run: 13ms | Extract: 0ms | Cache: 0ms\n",
      "   ⏱️  [1h] Total: 0.014s | Copy: 0ms | Filter: 0ms | Init: 0ms | Run: 14ms | Extract: 0ms | Cache: 0ms\n",
      "   ⏱️  [1h] Total: 0.013s | Copy: 0ms | Filter: 0ms | Init: 0ms | Run: 13ms | Extract: 0ms | Cache: 0ms\n",
      "   ⏱️  [1h] Total: 0.014s | Copy: 0ms | Filter: 0ms | Init: 0ms | Run: 13ms | Extract: 0ms | Cache: 0ms\n"
     ]
    },
    {
     "name": "stderr",
     "output_type": "stream",
     "text": [
      "Extracting levels:   5%|▌         | 25/500 [00:00<00:13, 35.50it/s]"
     ]
    },
    {
     "name": "stdout",
     "output_type": "stream",
     "text": [
      "   ⏱️  [1h] Total: 0.013s | Copy: 0ms | Filter: 0ms | Init: 0ms | Run: 13ms | Extract: 0ms | Cache: 0ms\n",
      "   ⏱️  [1h] Total: 0.013s | Copy: 0ms | Filter: 0ms | Init: 0ms | Run: 12ms | Extract: 0ms | Cache: 0ms\n",
      "   ⏱️  [1h] Total: 0.014s | Copy: 0ms | Filter: 0ms | Init: 0ms | Run: 12ms | Extract: 0ms | Cache: 1ms\n",
      "   ⏱️  [1h] Total: 0.013s | Copy: 0ms | Filter: 0ms | Init: 0ms | Run: 12ms | Extract: 0ms | Cache: 0ms\n",
      "   ⏱️  [1h] Total: 0.013s | Copy: 0ms | Filter: 0ms | Init: 0ms | Run: 13ms | Extract: 0ms | Cache: 0ms\n",
      "   ⏱️  [1h] Total: 0.013s | Copy: 0ms | Filter: 0ms | Init: 0ms | Run: 13ms | Extract: 0ms | Cache: 0ms\n",
      "   ⏱️  [1h] Total: 0.013s | Copy: 0ms | Filter: 0ms | Init: 0ms | Run: 12ms | Extract: 0ms | Cache: 0ms\n",
      "   ⏱️  [1h] Total: 0.014s | Copy: 0ms | Filter: 0ms | Init: 0ms | Run: 13ms | Extract: 0ms | Cache: 0ms"
     ]
    },
    {
     "name": "stderr",
     "output_type": "stream",
     "text": [
      "Extracting levels:   7%|▋         | 33/500 [00:01<00:13, 34.76it/s]"
     ]
    },
    {
     "name": "stdout",
     "output_type": "stream",
     "text": [
      "\n",
      "   ⏱️  [15m] Total: 0.011s | Copy: 0ms | Filter: 0ms | Init: 0ms | Run: 11ms | Extract: 0ms | Cache: 0ms\n",
      "      🔧 zigzag_middleware: 0.014s\n",
      "   ⏱️  [1h] Total: 0.023s | Copy: 0ms | Filter: 0ms | Init: 0ms | Run: 23ms | Extract: 0ms | Cache: 0ms\n",
      "   ⏱️  [1h] Total: 0.014s | Copy: 0ms | Filter: 0ms | Init: 0ms | Run: 14ms | Extract: 0ms | Cache: 0ms\n",
      "   ⏱️  [1h] Total: 0.014s | Copy: 0ms | Filter: 0ms | Init: 0ms | Run: 14ms | Extract: 0ms | Cache: 0ms\n",
      "   ⏱️  [1h] Total: 0.014s | Copy: 0ms | Filter: 0ms | Init: 0ms | Run: 14ms | Extract: 0ms | Cache: 0ms\n",
      "   ⏱️  [1h] Total: 0.013s | Copy: 0ms | Filter: 0ms | Init: 0ms | Run: 13ms | Extract: 0ms | Cache: 0ms\n",
      "   ⏱️  [1h] Total: 0.014s | Copy: 0ms | Filter: 0ms | Init: 0ms | Run: 13ms | Extract: 0ms | Cache: 0ms\n",
      "   ⏱️  [1h] Total: 0.014s | Copy: 0ms | Filter: 0ms | Init: 0ms | Run: 14ms | Extract: 0ms | Cache: 0ms\n"
     ]
    },
    {
     "name": "stderr",
     "output_type": "stream",
     "text": [
      "Extracting levels:   8%|▊         | 41/500 [00:01<00:12, 36.04it/s]"
     ]
    },
    {
     "name": "stdout",
     "output_type": "stream",
     "text": [
      "   ⏱️  [1h] Total: 0.013s | Copy: 0ms | Filter: 0ms | Init: 0ms | Run: 13ms | Extract: 0ms | Cache: 0ms\n",
      "   ⏱️  [1h] Total: 0.014s | Copy: 0ms | Filter: 0ms | Init: 0ms | Run: 13ms | Extract: 0ms | Cache: 0ms\n",
      "   ⏱️  [1h] Total: 0.013s | Copy: 0ms | Filter: 0ms | Init: 0ms | Run: 13ms | Extract: 0ms | Cache: 0ms\n",
      "   ⏱️  [1h] Total: 0.013s | Copy: 0ms | Filter: 0ms | Init: 0ms | Run: 13ms | Extract: 0ms | Cache: 0ms\n",
      "   ⏱️  [1h] Total: 0.014s | Copy: 0ms | Filter: 0ms | Init: 0ms | Run: 14ms | Extract: 0ms | Cache: 0ms\n",
      "   ⏱️  [1h] Total: 0.014s | Copy: 0ms | Filter: 0ms | Init: 0ms | Run: 14ms | Extract: 0ms | Cache: 0ms\n",
      "   ⏱️  [1h] Total: 0.013s | Copy: 0ms | Filter: 0ms | Init: 0ms | Run: 13ms | Extract: 0ms | Cache: 0ms\n",
      "   ⏱️  [1h] Total: 0.014s | Copy: 0ms | Filter: 0ms | Init: 0ms | Run: 13ms | Extract: 0ms | Cache: 1ms\n"
     ]
    },
    {
     "name": "stderr",
     "output_type": "stream",
     "text": [
      "Extracting levels:  10%|▉         | 49/500 [00:01<00:12, 36.86it/s]"
     ]
    },
    {
     "name": "stdout",
     "output_type": "stream",
     "text": [
      "   ⏱️  [1h] Total: 0.014s | Copy: 0ms | Filter: 0ms | Init: 0ms | Run: 14ms | Extract: 0ms | Cache: 0ms\n",
      "   ⏱️  [1h] Total: 0.014s | Copy: 0ms | Filter: 0ms | Init: 0ms | Run: 13ms | Extract: 0ms | Cache: 0ms\n",
      "   ⏱️  [1h] Total: 0.014s | Copy: 0ms | Filter: 0ms | Init: 0ms | Run: 14ms | Extract: 0ms | Cache: 0ms\n",
      "   ⏱️  [1h] Total: 0.013s | Copy: 0ms | Filter: 0ms | Init: 0ms | Run: 13ms | Extract: 0ms | Cache: 0ms\n",
      "   ⏱️  [1h] Total: 0.013s | Copy: 0ms | Filter: 0ms | Init: 0ms | Run: 13ms | Extract: 0ms | Cache: 0ms\n",
      "   ⏱️  [1h] Total: 0.015s | Copy: 0ms | Filter: 0ms | Init: 0ms | Run: 14ms | Extract: 0ms | Cache: 0ms\n",
      "   ⏱️  [1h] Total: 0.014s | Copy: 0ms | Filter: 0ms | Init: 0ms | Run: 14ms | Extract: 0ms | Cache: 0ms\n",
      "   ⏱️  [1h] Total: 0.013s | Copy: 0ms | Filter: 0ms | Init: 0ms | Run: 13ms | Extract: 0ms | Cache: 0ms\n"
     ]
    },
    {
     "name": "stderr",
     "output_type": "stream",
     "text": [
      "Extracting levels:  11%|█▏        | 57/500 [00:01<00:12, 36.01it/s]"
     ]
    },
    {
     "name": "stdout",
     "output_type": "stream",
     "text": [
      "   ⏱️  [1h] Total: 0.015s | Copy: 0ms | Filter: 0ms | Init: 0ms | Run: 15ms | Extract: 0ms | Cache: 0ms\n",
      "   ⏱️  [1h] Total: 0.013s | Copy: 0ms | Filter: 0ms | Init: 0ms | Run: 13ms | Extract: 0ms | Cache: 0ms\n",
      "      🔧 zigzag_middleware: 0.012s\n",
      "   ⏱️  [15m] Total: 0.015s | Copy: 0ms | Filter: 0ms | Init: 0ms | Run: 14ms | Extract: 0ms | Cache: 0ms\n",
      "   ⏱️  [1h] Total: 0.014s | Copy: 0ms | Filter: 0ms | Init: 0ms | Run: 14ms | Extract: 0ms | Cache: 0ms\n",
      "   ⏱️  [1h] Total: 0.014s | Copy: 0ms | Filter: 0ms | Init: 0ms | Run: 13ms | Extract: 0ms | Cache: 1ms\n",
      "   ⏱️  [1h] Total: 0.014s | Copy: 0ms | Filter: 0ms | Init: 0ms | Run: 13ms | Extract: 0ms | Cache: 0ms\n",
      "   ⏱️  [1h] Total: 0.014s | Copy: 0ms | Filter: 0ms | Init: 0ms | Run: 13ms | Extract: 0ms | Cache: 0ms\n",
      "   ⏱️  [1h] Total: 0.013s | Copy: 0ms | Filter: 0ms | Init: 0ms | Run: 13ms | Extract: 0ms | Cache: 0ms\n",
      "   ⏱️  [1h] Total: 0.014s | Copy: 0ms | Filter: 0ms | Init: 0ms | Run: 14ms | Extract: 0ms | Cache: 0ms\n"
     ]
    },
    {
     "name": "stderr",
     "output_type": "stream",
     "text": [
      "Extracting levels:  12%|█▏        | 61/500 [00:01<00:12, 36.47it/s]"
     ]
    },
    {
     "name": "stdout",
     "output_type": "stream",
     "text": [
      "   ⏱️  [1h] Total: 0.013s | Copy: 0ms | Filter: 0ms | Init: 0ms | Run: 13ms | Extract: 0ms | Cache: 0ms\n",
      "   ⏱️  [1h] Total: 0.013s | Copy: 0ms | Filter: 0ms | Init: 0ms | Run: 12ms | Extract: 0ms | Cache: 0ms\n",
      "      🔧 zigzag_middleware: 0.028s\n",
      "      🔧 volume_profile_middleware: 0.050s\n",
      "   ⏱️  [D] Total: 0.084s | Copy: 0ms | Filter: 0ms | Init: 0ms | Run: 84ms | Extract: 0ms | Cache: 0ms\n",
      "   ⏱️  [1h] Total: 0.013s | Copy: 0ms | Filter: 0ms | Init: 0ms | Run: 13ms | Extract: 0ms | Cache: 0ms\n",
      "   ⏱️  [1h] Total: 0.013s | Copy: 0ms | Filter: 0ms | Init: 0ms | Run: 13ms | Extract: 0ms | Cache: 0ms\n",
      "   ⏱️  [1h] Total: 0.013s | Copy: 0ms | Filter: 0ms | Init: 0ms | Run: 13ms | Extract: 0ms | Cache: 0ms\n",
      "   ⏱️  [15m] Total: 0.011s | Copy: 0ms | Filter: 0ms | Init: 0ms | Run: 10ms | Extract: 0ms | Cache: 0ms\n"
     ]
    },
    {
     "name": "stderr",
     "output_type": "stream",
     "text": [
      "Extracting levels:  14%|█▍        | 69/500 [00:02<00:13, 31.20it/s]"
     ]
    },
    {
     "name": "stdout",
     "output_type": "stream",
     "text": [
      "   ⏱️  [1h] Total: 0.014s | Copy: 0ms | Filter: 0ms | Init: 0ms | Run: 14ms | Extract: 0ms | Cache: 0ms\n",
      "   ⏱️  [1h] Total: 0.014s | Copy: 0ms | Filter: 0ms | Init: 0ms | Run: 14ms | Extract: 0ms | Cache: 0ms\n",
      "   ⏱️  [1h] Total: 0.013s | Copy: 0ms | Filter: 0ms | Init: 0ms | Run: 13ms | Extract: 0ms | Cache: 0ms\n",
      "   ⏱️  [1h] Total: 0.014s | Copy: 0ms | Filter: 0ms | Init: 0ms | Run: 13ms | Extract: 0ms | Cache: 0ms\n",
      "   ⏱️  [1h] Total: 0.013s | Copy: 0ms | Filter: 0ms | Init: 0ms | Run: 13ms | Extract: 0ms | Cache: 0ms\n",
      "   ⏱️  [1h] Total: 0.014s | Copy: 0ms | Filter: 0ms | Init: 0ms | Run: 13ms | Extract: 0ms | Cache: 0ms\n",
      "   ⏱️  [1h] Total: 0.013s | Copy: 0ms | Filter: 0ms | Init: 0ms | Run: 13ms | Extract: 0ms | Cache: 0ms\n",
      "   ⏱️  [1h] Total: 0.015s | Copy: 0ms | Filter: 0ms | Init: 0ms | Run: 14ms | Extract: 0ms | Cache: 0ms\n"
     ]
    },
    {
     "name": "stderr",
     "output_type": "stream",
     "text": [
      "Extracting levels:  15%|█▌        | 77/500 [00:02<00:12, 33.09it/s]"
     ]
    },
    {
     "name": "stdout",
     "output_type": "stream",
     "text": [
      "   ⏱️  [1h] Total: 0.015s | Copy: 0ms | Filter: 0ms | Init: 0ms | Run: 14ms | Extract: 0ms | Cache: 0ms\n",
      "   ⏱️  [1h] Total: 0.015s | Copy: 0ms | Filter: 0ms | Init: 0ms | Run: 14ms | Extract: 0ms | Cache: 0ms\n",
      "   ⏱️  [1h] Total: 0.014s | Copy: 0ms | Filter: 0ms | Init: 0ms | Run: 13ms | Extract: 0ms | Cache: 0ms\n",
      "   ⏱️  [1h] Total: 0.014s | Copy: 0ms | Filter: 0ms | Init: 0ms | Run: 13ms | Extract: 0ms | Cache: 0ms\n",
      "   ⏱️  [1h] Total: 0.014s | Copy: 0ms | Filter: 0ms | Init: 0ms | Run: 14ms | Extract: 0ms | Cache: 0ms\n",
      "   ⏱️  [1h] Total: 0.014s | Copy: 0ms | Filter: 0ms | Init: 0ms | Run: 14ms | Extract: 0ms | Cache: 0ms\n",
      "   ⏱️  [1h] Total: 0.014s | Copy: 0ms | Filter: 0ms | Init: 0ms | Run: 13ms | Extract: 0ms | Cache: 1ms\n"
     ]
    },
    {
     "name": "stderr",
     "output_type": "stream",
     "text": [
      "Extracting levels:  17%|█▋        | 85/500 [00:02<00:12, 34.34it/s]"
     ]
    },
    {
     "name": "stdout",
     "output_type": "stream",
     "text": [
      "   ⏱️  [1h] Total: 0.015s | Copy: 0ms | Filter: 0ms | Init: 0ms | Run: 14ms | Extract: 0ms | Cache: 0ms\n",
      "   ⏱️  [1h] Total: 0.014s | Copy: 0ms | Filter: 0ms | Init: 0ms | Run: 14ms | Extract: 0ms | Cache: 0ms\n",
      "   ⏱️  [1h] Total: 0.014s | Copy: 0ms | Filter: 0ms | Init: 0ms | Run: 13ms | Extract: 0ms | Cache: 0ms\n",
      "   ⏱️  [1h] Total: 0.013s | Copy: 0ms | Filter: 0ms | Init: 0ms | Run: 13ms | Extract: 0ms | Cache: 0ms\n",
      "   ⏱️  [1h] Total: 0.015s | Copy: 0ms | Filter: 0ms | Init: 0ms | Run: 13ms | Extract: 0ms | Cache: 0ms\n",
      "   ⏱️  [1h] Total: 0.014s | Copy: 0ms | Filter: 0ms | Init: 0ms | Run: 14ms | Extract: 0ms | Cache: 0ms\n",
      "   ⏱️  [1h] Total: 0.014s | Copy: 0ms | Filter: 0ms | Init: 0ms | Run: 13ms | Extract: 0ms | Cache: 0ms\n",
      "   ⏱️  [1h] Total: 0.014s | Copy: 0ms | Filter: 0ms | Init: 0ms | Run: 14ms | Extract: 0ms | Cache: 0ms\n"
     ]
    },
    {
     "name": "stderr",
     "output_type": "stream",
     "text": [
      "Extracting levels:  19%|█▊        | 93/500 [00:02<00:11, 35.27it/s]"
     ]
    },
    {
     "name": "stdout",
     "output_type": "stream",
     "text": [
      "   ⏱️  [1h] Total: 0.014s | Copy: 0ms | Filter: 0ms | Init: 0ms | Run: 14ms | Extract: 0ms | Cache: 0ms\n",
      "   ⏱️  [1h] Total: 0.014s | Copy: 0ms | Filter: 0ms | Init: 0ms | Run: 14ms | Extract: 0ms | Cache: 0ms\n",
      "   ⏱️  [1h] Total: 0.014s | Copy: 0ms | Filter: 0ms | Init: 0ms | Run: 14ms | Extract: 0ms | Cache: 0ms\n",
      "   ⏱️  [1h] Total: 0.015s | Copy: 0ms | Filter: 0ms | Init: 0ms | Run: 13ms | Extract: 0ms | Cache: 0ms\n",
      "   ⏱️  [1h] Total: 0.014s | Copy: 0ms | Filter: 0ms | Init: 0ms | Run: 14ms | Extract: 0ms | Cache: 0ms\n",
      "   ⏱️  [1h] Total: 0.013s | Copy: 0ms | Filter: 0ms | Init: 0ms | Run: 13ms | Extract: 0ms | Cache: 0ms\n",
      "   ⏱️  [1h] Total: 0.014s | Copy: 0ms | Filter: 0ms | Init: 0ms | Run: 14ms | Extract: 0ms | Cache: 0ms\n",
      "   ⏱️  [1h] Total: 0.014s | Copy: 0ms | Filter: 0ms | Init: 0ms | Run: 14ms | Extract: 0ms | Cache: 0ms\n"
     ]
    },
    {
     "name": "stderr",
     "output_type": "stream",
     "text": [
      "Extracting levels:  20%|██        | 101/500 [00:03<00:11, 34.14it/s]"
     ]
    },
    {
     "name": "stdout",
     "output_type": "stream",
     "text": [
      "   ⏱️  [1h] Total: 0.015s | Copy: 0ms | Filter: 0ms | Init: 0ms | Run: 15ms | Extract: 0ms | Cache: 0ms\n",
      "      🔧 zigzag_middleware: 0.011s\n",
      "   ⏱️  [1h] Total: 0.017s | Copy: 0ms | Filter: 0ms | Init: 0ms | Run: 17ms | Extract: 0ms | Cache: 0ms\n",
      "   ⏱️  [1h] Total: 0.014s | Copy: 0ms | Filter: 0ms | Init: 0ms | Run: 14ms | Extract: 0ms | Cache: 0ms\n",
      "   ⏱️  [1h] Total: 0.014s | Copy: 0ms | Filter: 0ms | Init: 0ms | Run: 14ms | Extract: 0ms | Cache: 0ms\n",
      "   ⏱️  [1h] Total: 0.015s | Copy: 0ms | Filter: 0ms | Init: 0ms | Run: 15ms | Extract: 0ms | Cache: 0ms\n",
      "   ⏱️  [1h] Total: 0.014s | Copy: 0ms | Filter: 0ms | Init: 0ms | Run: 14ms | Extract: 0ms | Cache: 0ms\n",
      "   ⏱️  [1h] Total: 0.014s | Copy: 0ms | Filter: 0ms | Init: 0ms | Run: 14ms | Extract: 0ms | Cache: 0ms\n"
     ]
    },
    {
     "name": "stderr",
     "output_type": "stream",
     "text": [
      "Extracting levels:  22%|██▏       | 109/500 [00:03<00:11, 34.99it/s]"
     ]
    },
    {
     "name": "stdout",
     "output_type": "stream",
     "text": [
      "   ⏱️  [1h] Total: 0.014s | Copy: 0ms | Filter: 0ms | Init: 0ms | Run: 14ms | Extract: 0ms | Cache: 0ms\n",
      "   ⏱️  [1h] Total: 0.014s | Copy: 0ms | Filter: 0ms | Init: 0ms | Run: 14ms | Extract: 0ms | Cache: 0ms\n",
      "   ⏱️  [1h] Total: 0.014s | Copy: 0ms | Filter: 0ms | Init: 0ms | Run: 13ms | Extract: 0ms | Cache: 0ms\n",
      "   ⏱️  [1h] Total: 0.014s | Copy: 0ms | Filter: 0ms | Init: 0ms | Run: 13ms | Extract: 0ms | Cache: 0ms\n",
      "   ⏱️  [1h] Total: 0.014s | Copy: 0ms | Filter: 0ms | Init: 0ms | Run: 14ms | Extract: 0ms | Cache: 0ms\n",
      "   ⏱️  [15m] Total: 0.010s | Copy: 0ms | Filter: 0ms | Init: 0ms | Run: 10ms | Extract: 0ms | Cache: 0ms\n",
      "   ⏱️  [1h] Total: 0.014s | Copy: 0ms | Filter: 0ms | Init: 0ms | Run: 13ms | Extract: 0ms | Cache: 0ms\n",
      "   ⏱️  [1h] Total: 0.014s | Copy: 0ms | Filter: 0ms | Init: 0ms | Run: 14ms | Extract: 0ms | Cache: 0ms\n",
      "   ⏱️  [1h] Total: 0.014s | Copy: 0ms | Filter: 0ms | Init: 0ms | Run: 13ms | Extract: 0ms | Cache: 0ms\n"
     ]
    },
    {
     "name": "stderr",
     "output_type": "stream",
     "text": [
      "Extracting levels:  23%|██▎       | 117/500 [00:03<00:10, 36.02it/s]"
     ]
    },
    {
     "name": "stdout",
     "output_type": "stream",
     "text": [
      "   ⏱️  [1h] Total: 0.016s | Copy: 0ms | Filter: 0ms | Init: 0ms | Run: 15ms | Extract: 0ms | Cache: 0ms\n",
      "   ⏱️  [1h] Total: 0.014s | Copy: 0ms | Filter: 0ms | Init: 0ms | Run: 14ms | Extract: 0ms | Cache: 0ms\n",
      "   ⏱️  [1h] Total: 0.013s | Copy: 0ms | Filter: 0ms | Init: 0ms | Run: 13ms | Extract: 0ms | Cache: 0ms\n",
      "   ⏱️  [1h] Total: 0.014s | Copy: 0ms | Filter: 0ms | Init: 0ms | Run: 14ms | Extract: 0ms | Cache: 0ms\n",
      "   ⏱️  [1h] Total: 0.014s | Copy: 0ms | Filter: 0ms | Init: 0ms | Run: 13ms | Extract: 0ms | Cache: 0ms\n",
      "   ⏱️  [1h] Total: 0.013s | Copy: 0ms | Filter: 0ms | Init: 0ms | Run: 13ms | Extract: 0ms | Cache: 0ms\n",
      "      🔧 zigzag_middleware: 0.010s\n",
      "   ⏱️  [1h] Total: 0.015s | Copy: 0ms | Filter: 0ms | Init: 0ms | Run: 15ms | Extract: 0ms | Cache: 0ms\n",
      "   ⏱️  [1h] Total: 0.014s | Copy: 0ms | Filter: 0ms | Init: 0ms | Run: 13ms | Extract: 0ms | Cache: 0ms\n"
     ]
    },
    {
     "name": "stderr",
     "output_type": "stream",
     "text": [
      "Extracting levels:  25%|██▌       | 125/500 [00:03<00:10, 36.63it/s]"
     ]
    },
    {
     "name": "stdout",
     "output_type": "stream",
     "text": [
      "   ⏱️  [1h] Total: 0.015s | Copy: 0ms | Filter: 0ms | Init: 0ms | Run: 15ms | Extract: 0ms | Cache: 0ms\n",
      "   ⏱️  [1h] Total: 0.014s | Copy: 0ms | Filter: 0ms | Init: 0ms | Run: 14ms | Extract: 0ms | Cache: 0ms\n",
      "   ⏱️  [1h] Total: 0.013s | Copy: 0ms | Filter: 0ms | Init: 0ms | Run: 13ms | Extract: 0ms | Cache: 0ms\n",
      "   ⏱️  [1h] Total: 0.014s | Copy: 0ms | Filter: 0ms | Init: 0ms | Run: 13ms | Extract: 0ms | Cache: 0ms\n",
      "   ⏱️  [1h] Total: 0.015s | Copy: 0ms | Filter: 0ms | Init: 0ms | Run: 15ms | Extract: 0ms | Cache: 0ms\n",
      "   ⏱️  [1h] Total: 0.014s | Copy: 0ms | Filter: 0ms | Init: 0ms | Run: 14ms | Extract: 0ms | Cache: 0ms\n",
      "   ⏱️  [1h] Total: 0.016s | Copy: 0ms | Filter: 0ms | Init: 0ms | Run: 16ms | Extract: 0ms | Cache: 0ms\n",
      "   ⏱️  [1h] Total: 0.014s | Copy: 0ms | Filter: 0ms | Init: 0ms | Run: 13ms | Extract: 0ms | Cache: 1ms\n"
     ]
    },
    {
     "name": "stderr",
     "output_type": "stream",
     "text": [
      "Extracting levels:  27%|██▋       | 133/500 [00:03<00:09, 36.77it/s]"
     ]
    },
    {
     "name": "stdout",
     "output_type": "stream",
     "text": [
      "   ⏱️  [1h] Total: 0.013s | Copy: 0ms | Filter: 0ms | Init: 0ms | Run: 13ms | Extract: 0ms | Cache: 0ms\n",
      "   ⏱️  [1h] Total: 0.014s | Copy: 0ms | Filter: 0ms | Init: 0ms | Run: 13ms | Extract: 0ms | Cache: 0ms\n",
      "      🔧 zigzag_middleware: 0.010s\n",
      "   ⏱️  [1h] Total: 0.017s | Copy: 0ms | Filter: 0ms | Init: 0ms | Run: 17ms | Extract: 0ms | Cache: 0ms\n",
      "   ⏱️  [1h] Total: 0.014s | Copy: 0ms | Filter: 0ms | Init: 0ms | Run: 14ms | Extract: 0ms | Cache: 0ms\n",
      "   ⏱️  [1h] Total: 0.013s | Copy: 0ms | Filter: 0ms | Init: 0ms | Run: 13ms | Extract: 0ms | Cache: 0ms\n",
      "   ⏱️  [1h] Total: 0.014s | Copy: 0ms | Filter: 0ms | Init: 0ms | Run: 14ms | Extract: 0ms | Cache: 0ms\n",
      "   ⏱️  [1h] Total: 0.014s | Copy: 0ms | Filter: 0ms | Init: 0ms | Run: 14ms | Extract: 0ms | Cache: 0ms\n",
      "   ⏱️  [1h] Total: 0.014s | Copy: 0ms | Filter: 0ms | Init: 0ms | Run: 14ms | Extract: 0ms | Cache: 0ms\n"
     ]
    },
    {
     "name": "stderr",
     "output_type": "stream",
     "text": [
      "Extracting levels:  28%|██▊       | 142/500 [00:04<00:09, 37.80it/s]"
     ]
    },
    {
     "name": "stdout",
     "output_type": "stream",
     "text": [
      "   ⏱️  [1h] Total: 0.015s | Copy: 0ms | Filter: 0ms | Init: 0ms | Run: 15ms | Extract: 0ms | Cache: 0ms\n",
      "      🔧 zigzag_middleware: 0.010s\n",
      "   ⏱️  [1h] Total: 0.016s | Copy: 0ms | Filter: 0ms | Init: 0ms | Run: 16ms | Extract: 0ms | Cache: 0ms\n",
      "   ⏱️  [1h] Total: 0.014s | Copy: 0ms | Filter: 0ms | Init: 0ms | Run: 14ms | Extract: 0ms | Cache: 0ms\n",
      "   ⏱️  [1h] Total: 0.016s | Copy: 0ms | Filter: 0ms | Init: 0ms | Run: 15ms | Extract: 0ms | Cache: 0ms\n",
      "   ⏱️  [1h] Total: 0.013s | Copy: 0ms | Filter: 0ms | Init: 0ms | Run: 13ms | Extract: 0ms | Cache: 0ms\n",
      "   ⏱️  [1h] Total: 0.013s | Copy: 0ms | Filter: 0ms | Init: 0ms | Run: 13ms | Extract: 0ms | Cache: 0ms\n",
      "      🔧 zigzag_middleware: 0.011s\n",
      "   ⏱️  [1h] Total: 0.017s | Copy: 0ms | Filter: 0ms | Init: 0ms | Run: 17ms | Extract: 0ms | Cache: 0ms\n",
      "   ⏱️  [1h] Total: 0.014s | Copy: 0ms | Filter: 0ms | Init: 0ms | Run: 13ms | Extract: 0ms | Cache: 0ms\n"
     ]
    },
    {
     "name": "stderr",
     "output_type": "stream",
     "text": [
      "Extracting levels:  29%|██▉       | 147/500 [00:04<00:09, 38.61it/s]"
     ]
    },
    {
     "name": "stdout",
     "output_type": "stream",
     "text": [
      "   ⏱️  [1h] Total: 0.013s | Copy: 0ms | Filter: 0ms | Init: 0ms | Run: 13ms | Extract: 0ms | Cache: 0ms\n",
      "   ⏱️  [1h] Total: 0.014s | Copy: 0ms | Filter: 0ms | Init: 0ms | Run: 13ms | Extract: 0ms | Cache: 0ms\n",
      "   ⏱️  [1h] Total: 0.014s | Copy: 0ms | Filter: 0ms | Init: 0ms | Run: 14ms | Extract: 0ms | Cache: 0ms\n",
      "   ⏱️  [1h] Total: 0.013s | Copy: 0ms | Filter: 0ms | Init: 0ms | Run: 13ms | Extract: 0ms | Cache: 0ms\n",
      "   ⏱️  [1h] Total: 0.013s | Copy: 0ms | Filter: 0ms | Init: 0ms | Run: 13ms | Extract: 0ms | Cache: 0ms\n",
      "   ⏱️  [1h] Total: 0.014s | Copy: 0ms | Filter: 0ms | Init: 0ms | Run: 13ms | Extract: 0ms | Cache: 0ms\n",
      "   ⏱️  [1h] Total: 0.014s | Copy: 0ms | Filter: 0ms | Init: 0ms | Run: 13ms | Extract: 0ms | Cache: 0ms\n",
      "   ⏱️  [1h] Total: 0.017s | Copy: 0ms | Filter: 0ms | Init: 0ms | Run: 16ms | Extract: 0ms | Cache: 0ms\n"
     ]
    },
    {
     "name": "stderr",
     "output_type": "stream",
     "text": [
      "Extracting levels:  31%|███       | 155/500 [00:04<00:08, 38.87it/s]"
     ]
    },
    {
     "name": "stdout",
     "output_type": "stream",
     "text": [
      "   ⏱️  [1h] Total: 0.014s | Copy: 0ms | Filter: 0ms | Init: 0ms | Run: 14ms | Extract: 0ms | Cache: 0ms\n",
      "   ⏱️  [1h] Total: 0.014s | Copy: 0ms | Filter: 0ms | Init: 0ms | Run: 14ms | Extract: 0ms | Cache: 0ms\n",
      "   ⏱️  [1h] Total: 0.013s | Copy: 0ms | Filter: 0ms | Init: 0ms | Run: 13ms | Extract: 0ms | Cache: 0ms\n",
      "   ⏱️  [1h] Total: 0.014s | Copy: 0ms | Filter: 0ms | Init: 0ms | Run: 13ms | Extract: 0ms | Cache: 0ms\n",
      "   ⏱️  [1h] Total: 0.014s | Copy: 0ms | Filter: 0ms | Init: 0ms | Run: 14ms | Extract: 0ms | Cache: 0ms\n",
      "      🔧 zigzag_middleware: 0.012s\n",
      "   ⏱️  [1h] Total: 0.021s | Copy: 0ms | Filter: 0ms | Init: 0ms | Run: 20ms | Extract: 0ms | Cache: 1ms\n",
      "   ⏱️  [1h] Total: 0.015s | Copy: 0ms | Filter: 0ms | Init: 0ms | Run: 14ms | Extract: 0ms | Cache: 1ms\n"
     ]
    },
    {
     "name": "stderr",
     "output_type": "stream",
     "text": [
      "Extracting levels:  32%|███▏      | 159/500 [00:04<00:11, 30.06it/s]"
     ]
    },
    {
     "name": "stdout",
     "output_type": "stream",
     "text": [
      "      🔧 zigzag_middleware: 0.031s\n",
      "      🔧 volume_profile_middleware: 0.049s\n",
      "   ⏱️  [D] Total: 0.086s | Copy: 0ms | Filter: 0ms | Init: 0ms | Run: 86ms | Extract: 0ms | Cache: 0ms\n",
      "   ⏱️  [1h] Total: 0.014s | Copy: 0ms | Filter: 0ms | Init: 0ms | Run: 13ms | Extract: 0ms | Cache: 0ms\n",
      "   ⏱️  [1h] Total: 0.013s | Copy: 0ms | Filter: 0ms | Init: 0ms | Run: 13ms | Extract: 0ms | Cache: 0ms\n",
      "   ⏱️  [1h] Total: 0.014s | Copy: 0ms | Filter: 0ms | Init: 0ms | Run: 14ms | Extract: 0ms | Cache: 0ms\n",
      "   ⏱️  [1h] Total: 0.013s | Copy: 0ms | Filter: 0ms | Init: 0ms | Run: 13ms | Extract: 0ms | Cache: 0ms\n",
      "   ⏱️  [1h] Total: 0.013s | Copy: 0ms | Filter: 0ms | Init: 0ms | Run: 13ms | Extract: 0ms | Cache: 0ms\n",
      "   ⏱️  [1h] Total: 0.015s | Copy: 0ms | Filter: 0ms | Init: 0ms | Run: 15ms | Extract: 0ms | Cache: 0ms\n"
     ]
    },
    {
     "name": "stderr",
     "output_type": "stream",
     "text": [
      "Extracting levels:  34%|███▎      | 168/500 [00:04<00:09, 34.56it/s]"
     ]
    },
    {
     "name": "stdout",
     "output_type": "stream",
     "text": [
      "   ⏱️  [1h] Total: 0.013s | Copy: 0ms | Filter: 0ms | Init: 0ms | Run: 13ms | Extract: 0ms | Cache: 0ms\n",
      "   ⏱️  [1h] Total: 0.014s | Copy: 0ms | Filter: 0ms | Init: 0ms | Run: 13ms | Extract: 0ms | Cache: 0ms\n",
      "   ⏱️  [1h] Total: 0.013s | Copy: 0ms | Filter: 0ms | Init: 0ms | Run: 13ms | Extract: 0ms | Cache: 0ms\n",
      "   ⏱️  [1h] Total: 0.014s | Copy: 0ms | Filter: 0ms | Init: 0ms | Run: 13ms | Extract: 0ms | Cache: 0ms\n",
      "   ⏱️  [1h] Total: 0.014s | Copy: 0ms | Filter: 0ms | Init: 0ms | Run: 14ms | Extract: 0ms | Cache: 0ms\n",
      "   ⏱️  [1h] Total: 0.013s | Copy: 0ms | Filter: 0ms | Init: 0ms | Run: 13ms | Extract: 0ms | Cache: 0ms\n",
      "   ⏱️  [1h] Total: 0.013s | Copy: 0ms | Filter: 0ms | Init: 0ms | Run: 13ms | Extract: 0ms | Cache: 0ms\n",
      "   ⏱️  [1h] Total: 0.014s | Copy: 0ms | Filter: 0ms | Init: 0ms | Run: 14ms | Extract: 0ms | Cache: 0ms\n"
     ]
    },
    {
     "name": "stderr",
     "output_type": "stream",
     "text": [
      "Extracting levels:  36%|███▌      | 178/500 [00:05<00:08, 37.52it/s]"
     ]
    },
    {
     "name": "stdout",
     "output_type": "stream",
     "text": [
      "   ⏱️  [1h] Total: 0.014s | Copy: 0ms | Filter: 0ms | Init: 0ms | Run: 14ms | Extract: 0ms | Cache: 0ms\n",
      "   ⏱️  [1h] Total: 0.014s | Copy: 0ms | Filter: 0ms | Init: 0ms | Run: 14ms | Extract: 0ms | Cache: 0ms\n",
      "   ⏱️  [1h] Total: 0.014s | Copy: 0ms | Filter: 0ms | Init: 0ms | Run: 13ms | Extract: 0ms | Cache: 0ms\n",
      "   ⏱️  [1h] Total: 0.013s | Copy: 0ms | Filter: 0ms | Init: 0ms | Run: 13ms | Extract: 0ms | Cache: 0ms\n",
      "   ⏱️  [1h] Total: 0.014s | Copy: 0ms | Filter: 0ms | Init: 0ms | Run: 14ms | Extract: 0ms | Cache: 0ms\n",
      "   ⏱️  [1h] Total: 0.014s | Copy: 0ms | Filter: 0ms | Init: 0ms | Run: 13ms | Extract: 0ms | Cache: 0ms\n",
      "   ⏱️  [1h] Total: 0.013s | Copy: 0ms | Filter: 0ms | Init: 0ms | Run: 13ms | Extract: 0ms | Cache: 0ms\n",
      "   ⏱️  [1h] Total: 0.013s | Copy: 0ms | Filter: 0ms | Init: 0ms | Run: 13ms | Extract: 0ms | Cache: 0ms\n",
      "   ⏱️  [1h] Total: 0.013s | Copy: 0ms | Filter: 0ms | Init: 0ms | Run: 13ms | Extract: 0ms | Cache: 0ms\n"
     ]
    },
    {
     "name": "stderr",
     "output_type": "stream",
     "text": [
      "Extracting levels:  38%|███▊      | 188/500 [00:05<00:07, 39.84it/s]"
     ]
    },
    {
     "name": "stdout",
     "output_type": "stream",
     "text": [
      "   ⏱️  [1h] Total: 0.014s | Copy: 0ms | Filter: 0ms | Init: 0ms | Run: 13ms | Extract: 0ms | Cache: 1ms\n",
      "   ⏱️  [1h] Total: 0.014s | Copy: 0ms | Filter: 0ms | Init: 0ms | Run: 12ms | Extract: 0ms | Cache: 1ms\n",
      "   ⏱️  [1h] Total: 0.013s | Copy: 0ms | Filter: 0ms | Init: 0ms | Run: 13ms | Extract: 0ms | Cache: 0ms\n",
      "   ⏱️  [1h] Total: 0.014s | Copy: 0ms | Filter: 0ms | Init: 0ms | Run: 14ms | Extract: 0ms | Cache: 0ms\n",
      "   ⏱️  [1h] Total: 0.014s | Copy: 0ms | Filter: 0ms | Init: 0ms | Run: 12ms | Extract: 1ms | Cache: 0ms\n",
      "   ⏱️  [1h] Total: 0.011s | Copy: 0ms | Filter: 0ms | Init: 0ms | Run: 10ms | Extract: 0ms | Cache: 0ms\n",
      "   ⏱️  [1h] Total: 0.012s | Copy: 0ms | Filter: 0ms | Init: 0ms | Run: 12ms | Extract: 0ms | Cache: 0ms\n",
      "   ⏱️  [1h] Total: 0.012s | Copy: 0ms | Filter: 0ms | Init: 0ms | Run: 12ms | Extract: 0ms | Cache: 0ms\n",
      "   ⏱️  [1h] Total: 0.012s | Copy: 0ms | Filter: 0ms | Init: 0ms | Run: 12ms | Extract: 0ms | Cache: 0ms\n"
     ]
    },
    {
     "name": "stderr",
     "output_type": "stream",
     "text": [
      "Extracting levels:  40%|███▉      | 198/500 [00:05<00:06, 43.48it/s]"
     ]
    },
    {
     "name": "stdout",
     "output_type": "stream",
     "text": [
      "   ⏱️  [1h] Total: 0.012s | Copy: 0ms | Filter: 0ms | Init: 0ms | Run: 12ms | Extract: 0ms | Cache: 0ms\n",
      "   ⏱️  [1h] Total: 0.012s | Copy: 0ms | Filter: 0ms | Init: 0ms | Run: 12ms | Extract: 0ms | Cache: 0ms\n",
      "   ⏱️  [1h] Total: 0.012s | Copy: 0ms | Filter: 0ms | Init: 0ms | Run: 12ms | Extract: 0ms | Cache: 0ms\n",
      "   ⏱️  [1h] Total: 0.011s | Copy: 0ms | Filter: 0ms | Init: 0ms | Run: 11ms | Extract: 0ms | Cache: 0ms\n",
      "   ⏱️  [1h] Total: 0.011s | Copy: 0ms | Filter: 0ms | Init: 0ms | Run: 11ms | Extract: 0ms | Cache: 0ms\n",
      "   ⏱️  [1h] Total: 0.011s | Copy: 0ms | Filter: 0ms | Init: 0ms | Run: 11ms | Extract: 0ms | Cache: 0ms\n",
      "   ⏱️  [1h] Total: 0.011s | Copy: 0ms | Filter: 0ms | Init: 0ms | Run: 11ms | Extract: 0ms | Cache: 0ms\n",
      "   ⏱️  [1h] Total: 0.010s | Copy: 0ms | Filter: 0ms | Init: 0ms | Run: 10ms | Extract: 0ms | Cache: 0ms\n",
      "   ⏱️  [1h] Total: 0.011s | Copy: 0ms | Filter: 0ms | Init: 0ms | Run: 11ms | Extract: 0ms | Cache: 0ms\n",
      "   ⏱️  [1h] Total: 0.011s | Copy: 0ms | Filter: 0ms | Init: 0ms | Run: 11ms | Extract: 0ms | Cache: 0ms\n",
      "   ⏱️  [1h] Total: 0.011s | Copy: 0ms | Filter: 0ms | Init: 0ms | Run: 11ms | Extract: 0ms | Cache: 0ms\n"
     ]
    },
    {
     "name": "stderr",
     "output_type": "stream",
     "text": [
      "Extracting levels:  42%|████▏     | 208/500 [00:05<00:06, 45.86it/s]"
     ]
    },
    {
     "name": "stdout",
     "output_type": "stream",
     "text": [
      "   ⏱️  [1h] Total: 0.013s | Copy: 0ms | Filter: 0ms | Init: 0ms | Run: 13ms | Extract: 0ms | Cache: 0ms\n",
      "   ⏱️  [1h] Total: 0.013s | Copy: 0ms | Filter: 0ms | Init: 0ms | Run: 13ms | Extract: 0ms | Cache: 0ms\n",
      "   ⏱️  [1h] Total: 0.011s | Copy: 0ms | Filter: 0ms | Init: 0ms | Run: 11ms | Extract: 0ms | Cache: 0ms\n",
      "   ⏱️  [1h] Total: 0.011s | Copy: 0ms | Filter: 0ms | Init: 0ms | Run: 10ms | Extract: 0ms | Cache: 0ms\n",
      "   ⏱️  [1h] Total: 0.011s | Copy: 0ms | Filter: 0ms | Init: 1ms | Run: 10ms | Extract: 0ms | Cache: 0ms\n",
      "   ⏱️  [1h] Total: 0.011s | Copy: 0ms | Filter: 0ms | Init: 0ms | Run: 11ms | Extract: 0ms | Cache: 0ms\n",
      "   ⏱️  [1h] Total: 0.011s | Copy: 0ms | Filter: 0ms | Init: 0ms | Run: 11ms | Extract: 0ms | Cache: 0ms\n",
      "   ⏱️  [1h] Total: 0.012s | Copy: 0ms | Filter: 0ms | Init: 0ms | Run: 12ms | Extract: 0ms | Cache: 0ms\n",
      "   ⏱️  [1h] Total: 0.011s | Copy: 0ms | Filter: 0ms | Init: 0ms | Run: 11ms | Extract: 0ms | Cache: 0ms\n",
      "   ⏱️  [1h] Total: 0.011s | Copy: 0ms | Filter: 0ms | Init: 0ms | Run: 10ms | Extract: 0ms | Cache: 0ms\n",
      "   ⏱️  [1h] Total: 0.012s | Copy: 0ms | Filter: 0ms | Init: 0ms | Run: 11ms | Extract: 0ms | Cache: 0ms\n"
     ]
    },
    {
     "name": "stderr",
     "output_type": "stream",
     "text": [
      "Extracting levels:  44%|████▎     | 218/500 [00:05<00:06, 46.35it/s]"
     ]
    },
    {
     "name": "stdout",
     "output_type": "stream",
     "text": [
      "   ⏱️  [1h] Total: 0.011s | Copy: 0ms | Filter: 0ms | Init: 0ms | Run: 11ms | Extract: 0ms | Cache: 0ms\n",
      "   ⏱️  [1h] Total: 0.012s | Copy: 0ms | Filter: 0ms | Init: 0ms | Run: 11ms | Extract: 0ms | Cache: 0ms\n",
      "   ⏱️  [1h] Total: 0.012s | Copy: 0ms | Filter: 0ms | Init: 0ms | Run: 11ms | Extract: 0ms | Cache: 0ms\n",
      "   ⏱️  [1h] Total: 0.011s | Copy: 0ms | Filter: 0ms | Init: 0ms | Run: 11ms | Extract: 0ms | Cache: 0ms\n",
      "   ⏱️  [1h] Total: 0.011s | Copy: 0ms | Filter: 0ms | Init: 0ms | Run: 11ms | Extract: 0ms | Cache: 0ms\n",
      "   ⏱️  [1h] Total: 0.012s | Copy: 0ms | Filter: 0ms | Init: 0ms | Run: 12ms | Extract: 0ms | Cache: 0ms\n",
      "   ⏱️  [1h] Total: 0.012s | Copy: 0ms | Filter: 0ms | Init: 0ms | Run: 11ms | Extract: 0ms | Cache: 0ms\n",
      "   ⏱️  [1h] Total: 0.011s | Copy: 0ms | Filter: 0ms | Init: 0ms | Run: 11ms | Extract: 0ms | Cache: 0ms\n",
      "   ⏱️  [1h] Total: 0.012s | Copy: 0ms | Filter: 0ms | Init: 0ms | Run: 12ms | Extract: 0ms | Cache: 0ms\n",
      "   ⏱️  [1h] Total: 0.011s | Copy: 0ms | Filter: 0ms | Init: 0ms | Run: 11ms | Extract: 0ms | Cache: 0ms\n"
     ]
    },
    {
     "name": "stderr",
     "output_type": "stream",
     "text": [
      "Extracting levels:  46%|████▌     | 228/500 [00:06<00:06, 44.87it/s]"
     ]
    },
    {
     "name": "stdout",
     "output_type": "stream",
     "text": [
      "   ⏱️  [1h] Total: 0.016s | Copy: 0ms | Filter: 0ms | Init: 0ms | Run: 16ms | Extract: 0ms | Cache: 0ms\n",
      "   ⏱️  [1h] Total: 0.013s | Copy: 0ms | Filter: 0ms | Init: 0ms | Run: 12ms | Extract: 0ms | Cache: 1ms\n",
      "   ⏱️  [1h] Total: 0.011s | Copy: 0ms | Filter: 0ms | Init: 0ms | Run: 11ms | Extract: 0ms | Cache: 0ms\n",
      "   ⏱️  [1h] Total: 0.011s | Copy: 0ms | Filter: 0ms | Init: 0ms | Run: 11ms | Extract: 0ms | Cache: 0ms\n",
      "   ⏱️  [1h] Total: 0.012s | Copy: 0ms | Filter: 0ms | Init: 0ms | Run: 11ms | Extract: 0ms | Cache: 0ms\n",
      "   ⏱️  [1h] Total: 0.012s | Copy: 0ms | Filter: 0ms | Init: 0ms | Run: 12ms | Extract: 0ms | Cache: 0ms\n",
      "   ⏱️  [1h] Total: 0.011s | Copy: 0ms | Filter: 0ms | Init: 0ms | Run: 10ms | Extract: 0ms | Cache: 0ms\n",
      "   ⏱️  [1h] Total: 0.011s | Copy: 0ms | Filter: 0ms | Init: 0ms | Run: 11ms | Extract: 0ms | Cache: 0ms\n",
      "   ⏱️  [1h] Total: 0.011s | Copy: 0ms | Filter: 0ms | Init: 0ms | Run: 11ms | Extract: 0ms | Cache: 0ms\n",
      "   ⏱️  [1h] Total: 0.011s | Copy: 0ms | Filter: 0ms | Init: 0ms | Run: 11ms | Extract: 0ms | Cache: 0ms\n"
     ]
    },
    {
     "name": "stderr",
     "output_type": "stream",
     "text": [
      "Extracting levels:  48%|████▊     | 238/500 [00:06<00:06, 43.53it/s]"
     ]
    },
    {
     "name": "stdout",
     "output_type": "stream",
     "text": [
      "   ⏱️  [1h] Total: 0.011s | Copy: 0ms | Filter: 0ms | Init: 0ms | Run: 11ms | Extract: 0ms | Cache: 0ms\n",
      "   ⏱️  [1h] Total: 0.014s | Copy: 0ms | Filter: 0ms | Init: 0ms | Run: 14ms | Extract: 0ms | Cache: 0ms\n",
      "   ⏱️  [1h] Total: 0.016s | Copy: 0ms | Filter: 0ms | Init: 0ms | Run: 16ms | Extract: 0ms | Cache: 0ms\n",
      "   ⏱️  [1h] Total: 0.011s | Copy: 0ms | Filter: 0ms | Init: 0ms | Run: 11ms | Extract: 0ms | Cache: 0ms\n",
      "   ⏱️  [1h] Total: 0.012s | Copy: 0ms | Filter: 0ms | Init: 0ms | Run: 10ms | Extract: 0ms | Cache: 0ms\n",
      "   ⏱️  [1h] Total: 0.011s | Copy: 0ms | Filter: 0ms | Init: 0ms | Run: 11ms | Extract: 0ms | Cache: 0ms\n",
      "   ⏱️  [1h] Total: 0.011s | Copy: 0ms | Filter: 0ms | Init: 0ms | Run: 11ms | Extract: 0ms | Cache: 0ms\n",
      "   ⏱️  [1h] Total: 0.011s | Copy: 0ms | Filter: 0ms | Init: 0ms | Run: 11ms | Extract: 0ms | Cache: 0ms\n",
      "   ⏱️  [1h] Total: 0.011s | Copy: 0ms | Filter: 0ms | Init: 0ms | Run: 11ms | Extract: 0ms | Cache: 0ms\n"
     ]
    },
    {
     "name": "stderr",
     "output_type": "stream",
     "text": [
      "Extracting levels:  50%|████▉     | 248/500 [00:06<00:05, 44.33it/s]"
     ]
    },
    {
     "name": "stdout",
     "output_type": "stream",
     "text": [
      "   ⏱️  [1h] Total: 0.012s | Copy: 0ms | Filter: 0ms | Init: 0ms | Run: 11ms | Extract: 0ms | Cache: 0ms\n",
      "   ⏱️  [1h] Total: 0.012s | Copy: 0ms | Filter: 0ms | Init: 0ms | Run: 11ms | Extract: 0ms | Cache: 0ms\n",
      "   ⏱️  [1h] Total: 0.011s | Copy: 0ms | Filter: 0ms | Init: 0ms | Run: 11ms | Extract: 0ms | Cache: 0ms\n",
      "   ⏱️  [1h] Total: 0.013s | Copy: 0ms | Filter: 0ms | Init: 0ms | Run: 11ms | Extract: 1ms | Cache: 0ms\n",
      "   ⏱️  [1h] Total: 0.011s | Copy: 0ms | Filter: 0ms | Init: 0ms | Run: 11ms | Extract: 0ms | Cache: 0ms\n",
      "   ⏱️  [1h] Total: 0.012s | Copy: 0ms | Filter: 0ms | Init: 0ms | Run: 12ms | Extract: 0ms | Cache: 0ms\n",
      "   ⏱️  [1h] Total: 0.012s | Copy: 0ms | Filter: 0ms | Init: 0ms | Run: 12ms | Extract: 0ms | Cache: 0ms\n",
      "   ⏱️  [1h] Total: 0.011s | Copy: 0ms | Filter: 0ms | Init: 0ms | Run: 11ms | Extract: 0ms | Cache: 0ms\n",
      "   ⏱️  [1h] Total: 0.011s | Copy: 0ms | Filter: 0ms | Init: 0ms | Run: 11ms | Extract: 0ms | Cache: 0ms\n",
      "   ⏱️  [1h] Total: 0.011s | Copy: 0ms | Filter: 0ms | Init: 0ms | Run: 11ms | Extract: 0ms | Cache: 0ms\n"
     ]
    },
    {
     "name": "stderr",
     "output_type": "stream",
     "text": [
      "Extracting levels:  51%|█████     | 253/500 [00:06<00:05, 43.81it/s]"
     ]
    },
    {
     "name": "stdout",
     "output_type": "stream",
     "text": [
      "   ⏱️  [1h] Total: 0.013s | Copy: 0ms | Filter: 0ms | Init: 0ms | Run: 13ms | Extract: 0ms | Cache: 0ms\n",
      "   ⏱️  [1h] Total: 0.011s | Copy: 0ms | Filter: 0ms | Init: 0ms | Run: 11ms | Extract: 0ms | Cache: 0ms\n",
      "   ⏱️  [1h] Total: 0.011s | Copy: 0ms | Filter: 0ms | Init: 0ms | Run: 11ms | Extract: 0ms | Cache: 0ms\n",
      "      🔧 zigzag_middleware: 0.029s\n",
      "      🔧 volume_profile_middleware: 0.049s\n",
      "   ⏱️  [D] Total: 0.084s | Copy: 0ms | Filter: 0ms | Init: 0ms | Run: 84ms | Extract: 0ms | Cache: 0ms\n",
      "   ⏱️  [1h] Total: 0.011s | Copy: 0ms | Filter: 0ms | Init: 0ms | Run: 10ms | Extract: 0ms | Cache: 0ms\n",
      "   ⏱️  [1h] Total: 0.011s | Copy: 0ms | Filter: 0ms | Init: 0ms | Run: 11ms | Extract: 0ms | Cache: 0ms\n"
     ]
    },
    {
     "name": "stderr",
     "output_type": "stream",
     "text": [
      "Extracting levels:  53%|█████▎    | 263/500 [00:07<00:06, 38.33it/s]"
     ]
    },
    {
     "name": "stdout",
     "output_type": "stream",
     "text": [
      "   ⏱️  [1h] Total: 0.012s | Copy: 0ms | Filter: 0ms | Init: 0ms | Run: 12ms | Extract: 0ms | Cache: 0ms\n",
      "   ⏱️  [1h] Total: 0.014s | Copy: 0ms | Filter: 0ms | Init: 0ms | Run: 13ms | Extract: 1ms | Cache: 0ms\n",
      "   ⏱️  [1h] Total: 0.012s | Copy: 0ms | Filter: 0ms | Init: 0ms | Run: 12ms | Extract: 0ms | Cache: 0ms\n",
      "   ⏱️  [1h] Total: 0.011s | Copy: 0ms | Filter: 0ms | Init: 0ms | Run: 11ms | Extract: 0ms | Cache: 0ms\n",
      "   ⏱️  [1h] Total: 0.011s | Copy: 0ms | Filter: 0ms | Init: 0ms | Run: 10ms | Extract: 0ms | Cache: 0ms\n",
      "   ⏱️  [1h] Total: 0.011s | Copy: 0ms | Filter: 0ms | Init: 0ms | Run: 11ms | Extract: 0ms | Cache: 0ms\n",
      "   ⏱️  [1h] Total: 0.012s | Copy: 0ms | Filter: 0ms | Init: 0ms | Run: 12ms | Extract: 0ms | Cache: 0ms\n",
      "   ⏱️  [1h] Total: 0.012s | Copy: 0ms | Filter: 0ms | Init: 0ms | Run: 12ms | Extract: 0ms | Cache: 0ms\n",
      "   ⏱️  [1h] Total: 0.012s | Copy: 0ms | Filter: 0ms | Init: 0ms | Run: 12ms | Extract: 0ms | Cache: 0ms\n",
      "   ⏱️  [1h] Total: 0.011s | Copy: 0ms | Filter: 0ms | Init: 0ms | Run: 11ms | Extract: 0ms | Cache: 0ms\n"
     ]
    },
    {
     "name": "stderr",
     "output_type": "stream",
     "text": [
      "Extracting levels:  55%|█████▍    | 273/500 [00:07<00:05, 41.44it/s]"
     ]
    },
    {
     "name": "stdout",
     "output_type": "stream",
     "text": [
      "   ⏱️  [1h] Total: 0.012s | Copy: 0ms | Filter: 0ms | Init: 0ms | Run: 12ms | Extract: 0ms | Cache: 0ms\n",
      "   ⏱️  [1h] Total: 0.011s | Copy: 0ms | Filter: 0ms | Init: 0ms | Run: 10ms | Extract: 0ms | Cache: 0ms\n",
      "   ⏱️  [1h] Total: 0.011s | Copy: 0ms | Filter: 0ms | Init: 0ms | Run: 11ms | Extract: 0ms | Cache: 0ms\n",
      "   ⏱️  [1h] Total: 0.013s | Copy: 0ms | Filter: 0ms | Init: 0ms | Run: 13ms | Extract: 0ms | Cache: 0ms\n",
      "   ⏱️  [1h] Total: 0.012s | Copy: 0ms | Filter: 0ms | Init: 0ms | Run: 12ms | Extract: 0ms | Cache: 0ms\n",
      "   ⏱️  [1h] Total: 0.011s | Copy: 0ms | Filter: 0ms | Init: 0ms | Run: 10ms | Extract: 0ms | Cache: 0ms\n",
      "   ⏱️  [1h] Total: 0.011s | Copy: 0ms | Filter: 0ms | Init: 0ms | Run: 11ms | Extract: 0ms | Cache: 0ms\n",
      "   ⏱️  [1h] Total: 0.012s | Copy: 0ms | Filter: 0ms | Init: 0ms | Run: 12ms | Extract: 0ms | Cache: 0ms\n",
      "   ⏱️  [1h] Total: 0.011s | Copy: 0ms | Filter: 0ms | Init: 0ms | Run: 11ms | Extract: 0ms | Cache: 0ms\n",
      "   ⏱️  [1h] Total: 0.011s | Copy: 0ms | Filter: 0ms | Init: 0ms | Run: 11ms | Extract: 0ms | Cache: 0ms\n",
      "   ⏱️  [1h] Total: 0.011s | Copy: 0ms | Filter: 0ms | Init: 0ms | Run: 11ms | Extract: 0ms | Cache: 0ms\n"
     ]
    },
    {
     "name": "stderr",
     "output_type": "stream",
     "text": [
      "Extracting levels:  57%|█████▋    | 283/500 [00:07<00:05, 42.37it/s]"
     ]
    },
    {
     "name": "stdout",
     "output_type": "stream",
     "text": [
      "   ⏱️  [1h] Total: 0.011s | Copy: 0ms | Filter: 0ms | Init: 0ms | Run: 11ms | Extract: 0ms | Cache: 0ms\n",
      "      🔧 zigzag_middleware: 0.010s\n",
      "   ⏱️  [1h] Total: 0.016s | Copy: 0ms | Filter: 0ms | Init: 0ms | Run: 16ms | Extract: 0ms | Cache: 0ms\n",
      "   ⏱️  [1h] Total: 0.012s | Copy: 0ms | Filter: 0ms | Init: 0ms | Run: 12ms | Extract: 0ms | Cache: 0ms\n",
      "   ⏱️  [1h] Total: 0.013s | Copy: 0ms | Filter: 0ms | Init: 0ms | Run: 13ms | Extract: 0ms | Cache: 0ms\n",
      "   ⏱️  [1h] Total: 0.011s | Copy: 0ms | Filter: 0ms | Init: 0ms | Run: 11ms | Extract: 0ms | Cache: 0ms\n",
      "   ⏱️  [1h] Total: 0.012s | Copy: 0ms | Filter: 0ms | Init: 0ms | Run: 12ms | Extract: 0ms | Cache: 0ms\n",
      "   ⏱️  [1h] Total: 0.011s | Copy: 0ms | Filter: 0ms | Init: 0ms | Run: 11ms | Extract: 0ms | Cache: 0ms\n",
      "   ⏱️  [1h] Total: 0.012s | Copy: 0ms | Filter: 0ms | Init: 0ms | Run: 11ms | Extract: 0ms | Cache: 0ms\n",
      "   ⏱️  [1h] Total: 0.011s | Copy: 0ms | Filter: 0ms | Init: 0ms | Run: 11ms | Extract: 0ms | Cache: 0ms\n",
      "   ⏱️  [1h] Total: 0.011s | Copy: 0ms | Filter: 0ms | Init: 0ms | Run: 11ms | Extract: 0ms | Cache: 0ms\n"
     ]
    },
    {
     "name": "stderr",
     "output_type": "stream",
     "text": [
      "Extracting levels:  59%|█████▊    | 293/500 [00:07<00:04, 43.68it/s]"
     ]
    },
    {
     "name": "stdout",
     "output_type": "stream",
     "text": [
      "   ⏱️  [1h] Total: 0.011s | Copy: 0ms | Filter: 0ms | Init: 0ms | Run: 11ms | Extract: 0ms | Cache: 0ms\n",
      "   ⏱️  [1h] Total: 0.012s | Copy: 0ms | Filter: 0ms | Init: 0ms | Run: 11ms | Extract: 0ms | Cache: 1ms\n",
      "   ⏱️  [1h] Total: 0.011s | Copy: 0ms | Filter: 0ms | Init: 0ms | Run: 11ms | Extract: 0ms | Cache: 0ms\n",
      "   ⏱️  [1h] Total: 0.012s | Copy: 0ms | Filter: 0ms | Init: 0ms | Run: 12ms | Extract: 0ms | Cache: 0ms\n",
      "   ⏱️  [1h] Total: 0.012s | Copy: 0ms | Filter: 0ms | Init: 0ms | Run: 12ms | Extract: 0ms | Cache: 0ms\n",
      "   ⏱️  [1h] Total: 0.012s | Copy: 0ms | Filter: 0ms | Init: 0ms | Run: 11ms | Extract: 0ms | Cache: 0ms\n",
      "   ⏱️  [1h] Total: 0.011s | Copy: 0ms | Filter: 0ms | Init: 0ms | Run: 11ms | Extract: 0ms | Cache: 0ms\n",
      "   ⏱️  [1h] Total: 0.011s | Copy: 0ms | Filter: 0ms | Init: 0ms | Run: 11ms | Extract: 0ms | Cache: 0ms\n",
      "   ⏱️  [1h] Total: 0.011s | Copy: 0ms | Filter: 0ms | Init: 0ms | Run: 11ms | Extract: 0ms | Cache: 0ms\n",
      "   ⏱️  [1h] Total: 0.011s | Copy: 0ms | Filter: 0ms | Init: 0ms | Run: 11ms | Extract: 0ms | Cache: 0ms\n",
      "   ⏱️  [1h] Total: 0.011s | Copy: 0ms | Filter: 0ms | Init: 0ms | Run: 11ms | Extract: 0ms | Cache: 0ms\n"
     ]
    },
    {
     "name": "stderr",
     "output_type": "stream",
     "text": [
      "Extracting levels:  61%|██████    | 303/500 [00:08<00:04, 44.01it/s]"
     ]
    },
    {
     "name": "stdout",
     "output_type": "stream",
     "text": [
      "   ⏱️  [1h] Total: 0.013s | Copy: 0ms | Filter: 0ms | Init: 0ms | Run: 13ms | Extract: 0ms | Cache: 0ms\n",
      "   ⏱️  [1h] Total: 0.013s | Copy: 0ms | Filter: 0ms | Init: 0ms | Run: 13ms | Extract: 0ms | Cache: 0ms\n",
      "   ⏱️  [1h] Total: 0.011s | Copy: 0ms | Filter: 0ms | Init: 0ms | Run: 11ms | Extract: 0ms | Cache: 0ms\n",
      "   ⏱️  [1h] Total: 0.011s | Copy: 0ms | Filter: 0ms | Init: 0ms | Run: 11ms | Extract: 0ms | Cache: 0ms\n",
      "   ⏱️  [1h] Total: 0.012s | Copy: 0ms | Filter: 0ms | Init: 0ms | Run: 11ms | Extract: 0ms | Cache: 0ms\n",
      "   ⏱️  [1h] Total: 0.011s | Copy: 0ms | Filter: 0ms | Init: 0ms | Run: 11ms | Extract: 0ms | Cache: 0ms\n",
      "   ⏱️  [1h] Total: 0.012s | Copy: 0ms | Filter: 0ms | Init: 0ms | Run: 12ms | Extract: 0ms | Cache: 0ms\n",
      "   ⏱️  [1h] Total: 0.012s | Copy: 0ms | Filter: 0ms | Init: 0ms | Run: 11ms | Extract: 0ms | Cache: 0ms\n",
      "   ⏱️  [1h] Total: 0.011s | Copy: 0ms | Filter: 0ms | Init: 0ms | Run: 11ms | Extract: 0ms | Cache: 0ms\n"
     ]
    },
    {
     "name": "stderr",
     "output_type": "stream",
     "text": [
      "Extracting levels:  63%|██████▎   | 313/500 [00:08<00:04, 42.47it/s]"
     ]
    },
    {
     "name": "stdout",
     "output_type": "stream",
     "text": [
      "   ⏱️  [1h] Total: 0.014s | Copy: 0ms | Filter: 0ms | Init: 0ms | Run: 13ms | Extract: 0ms | Cache: 0ms\n",
      "   ⏱️  [1h] Total: 0.012s | Copy: 0ms | Filter: 0ms | Init: 0ms | Run: 12ms | Extract: 0ms | Cache: 0ms\n",
      "   ⏱️  [1h] Total: 0.016s | Copy: 0ms | Filter: 0ms | Init: 0ms | Run: 15ms | Extract: 0ms | Cache: 0ms\n",
      "   ⏱️  [1h] Total: 0.015s | Copy: 0ms | Filter: 0ms | Init: 0ms | Run: 15ms | Extract: 0ms | Cache: 0ms\n",
      "   ⏱️  [1h] Total: 0.010s | Copy: 0ms | Filter: 0ms | Init: 0ms | Run: 10ms | Extract: 0ms | Cache: 0ms\n",
      "   ⏱️  [1h] Total: 0.011s | Copy: 0ms | Filter: 0ms | Init: 0ms | Run: 11ms | Extract: 0ms | Cache: 0ms\n",
      "   ⏱️  [1h] Total: 0.011s | Copy: 0ms | Filter: 0ms | Init: 0ms | Run: 11ms | Extract: 0ms | Cache: 0ms\n",
      "   ⏱️  [1h] Total: 0.012s | Copy: 0ms | Filter: 0ms | Init: 0ms | Run: 11ms | Extract: 0ms | Cache: 0ms\n",
      "   ⏱️  [1h] Total: 0.011s | Copy: 0ms | Filter: 0ms | Init: 0ms | Run: 11ms | Extract: 0ms | Cache: 0ms\n",
      "   ⏱️  [1h] Total: 0.012s | Copy: 0ms | Filter: 0ms | Init: 0ms | Run: 12ms | Extract: 0ms | Cache: 0ms\n"
     ]
    },
    {
     "name": "stderr",
     "output_type": "stream",
     "text": [
      "Extracting levels:  65%|██████▍   | 323/500 [00:08<00:04, 43.74it/s]"
     ]
    },
    {
     "name": "stdout",
     "output_type": "stream",
     "text": [
      "   ⏱️  [1h] Total: 0.011s | Copy: 0ms | Filter: 0ms | Init: 0ms | Run: 11ms | Extract: 0ms | Cache: 0ms\n",
      "   ⏱️  [1h] Total: 0.012s | Copy: 0ms | Filter: 0ms | Init: 0ms | Run: 11ms | Extract: 1ms | Cache: 0ms\n",
      "   ⏱️  [1h] Total: 0.011s | Copy: 0ms | Filter: 0ms | Init: 0ms | Run: 11ms | Extract: 0ms | Cache: 0ms\n",
      "   ⏱️  [1h] Total: 0.011s | Copy: 0ms | Filter: 0ms | Init: 0ms | Run: 11ms | Extract: 0ms | Cache: 0ms\n",
      "   ⏱️  [1h] Total: 0.011s | Copy: 0ms | Filter: 0ms | Init: 0ms | Run: 11ms | Extract: 0ms | Cache: 0ms\n",
      "   ⏱️  [1h] Total: 0.012s | Copy: 0ms | Filter: 0ms | Init: 0ms | Run: 12ms | Extract: 0ms | Cache: 0ms\n",
      "   ⏱️  [1h] Total: 0.011s | Copy: 0ms | Filter: 0ms | Init: 0ms | Run: 11ms | Extract: 0ms | Cache: 0ms\n",
      "   ⏱️  [1h] Total: 0.011s | Copy: 0ms | Filter: 0ms | Init: 0ms | Run: 11ms | Extract: 0ms | Cache: 0ms\n",
      "   ⏱️  [1h] Total: 0.014s | Copy: 0ms | Filter: 0ms | Init: 0ms | Run: 13ms | Extract: 0ms | Cache: 1ms\n",
      "   ⏱️  [1h] Total: 0.012s | Copy: 0ms | Filter: 0ms | Init: 0ms | Run: 12ms | Extract: 0ms | Cache: 0ms\n"
     ]
    },
    {
     "name": "stderr",
     "output_type": "stream",
     "text": [
      "Extracting levels:  67%|██████▋   | 333/500 [00:08<00:03, 43.71it/s]"
     ]
    },
    {
     "name": "stdout",
     "output_type": "stream",
     "text": [
      "   ⏱️  [1h] Total: 0.012s | Copy: 0ms | Filter: 0ms | Init: 0ms | Run: 12ms | Extract: 0ms | Cache: 0ms\n",
      "   ⏱️  [1h] Total: 0.015s | Copy: 0ms | Filter: 0ms | Init: 0ms | Run: 14ms | Extract: 0ms | Cache: 0ms\n",
      "   ⏱️  [1h] Total: 0.012s | Copy: 0ms | Filter: 0ms | Init: 0ms | Run: 11ms | Extract: 0ms | Cache: 0ms\n",
      "   ⏱️  [1h] Total: 0.011s | Copy: 0ms | Filter: 0ms | Init: 0ms | Run: 11ms | Extract: 0ms | Cache: 0ms\n",
      "   ⏱️  [1h] Total: 0.012s | Copy: 0ms | Filter: 0ms | Init: 0ms | Run: 12ms | Extract: 0ms | Cache: 0ms\n",
      "   ⏱️  [1h] Total: 0.012s | Copy: 0ms | Filter: 0ms | Init: 0ms | Run: 11ms | Extract: 0ms | Cache: 0ms\n",
      "   ⏱️  [1h] Total: 0.011s | Copy: 0ms | Filter: 0ms | Init: 0ms | Run: 11ms | Extract: 0ms | Cache: 0ms\n",
      "   ⏱️  [1h] Total: 0.012s | Copy: 0ms | Filter: 0ms | Init: 0ms | Run: 11ms | Extract: 0ms | Cache: 0ms\n",
      "   ⏱️  [1h] Total: 0.011s | Copy: 0ms | Filter: 0ms | Init: 0ms | Run: 11ms | Extract: 0ms | Cache: 0ms\n"
     ]
    },
    {
     "name": "stderr",
     "output_type": "stream",
     "text": [
      "Extracting levels:  69%|██████▊   | 343/500 [00:08<00:03, 44.35it/s]"
     ]
    },
    {
     "name": "stdout",
     "output_type": "stream",
     "text": [
      "   ⏱️  [1h] Total: 0.012s | Copy: 0ms | Filter: 0ms | Init: 0ms | Run: 12ms | Extract: 0ms | Cache: 0ms\n",
      "   ⏱️  [1h] Total: 0.012s | Copy: 0ms | Filter: 0ms | Init: 0ms | Run: 12ms | Extract: 0ms | Cache: 0ms\n",
      "   ⏱️  [1h] Total: 0.012s | Copy: 0ms | Filter: 0ms | Init: 0ms | Run: 12ms | Extract: 0ms | Cache: 0ms\n",
      "   ⏱️  [1h] Total: 0.011s | Copy: 0ms | Filter: 0ms | Init: 0ms | Run: 11ms | Extract: 0ms | Cache: 0ms\n",
      "   ⏱️  [1h] Total: 0.011s | Copy: 0ms | Filter: 0ms | Init: 0ms | Run: 11ms | Extract: 0ms | Cache: 0ms\n",
      "   ⏱️  [1h] Total: 0.011s | Copy: 0ms | Filter: 0ms | Init: 0ms | Run: 11ms | Extract: 0ms | Cache: 0ms\n",
      "   ⏱️  [1h] Total: 0.011s | Copy: 0ms | Filter: 0ms | Init: 0ms | Run: 11ms | Extract: 0ms | Cache: 0ms\n",
      "   ⏱️  [1h] Total: 0.012s | Copy: 0ms | Filter: 0ms | Init: 0ms | Run: 12ms | Extract: 0ms | Cache: 0ms\n",
      "   ⏱️  [1h] Total: 0.011s | Copy: 0ms | Filter: 0ms | Init: 0ms | Run: 11ms | Extract: 0ms | Cache: 0ms\n",
      "   ⏱️  [1h] Total: 0.011s | Copy: 0ms | Filter: 0ms | Init: 0ms | Run: 11ms | Extract: 0ms | Cache: 0ms\n"
     ]
    },
    {
     "name": "stderr",
     "output_type": "stream",
     "text": [
      "Extracting levels:  70%|██████▉   | 348/500 [00:09<00:03, 43.56it/s]"
     ]
    },
    {
     "name": "stdout",
     "output_type": "stream",
     "text": [
      "   ⏱️  [1h] Total: 0.010s | Copy: 0ms | Filter: 0ms | Init: 0ms | Run: 10ms | Extract: 0ms | Cache: 0ms\n",
      "   ⏱️  [1h] Total: 0.012s | Copy: 0ms | Filter: 0ms | Init: 0ms | Run: 11ms | Extract: 0ms | Cache: 0ms\n",
      "   ⏱️  [1h] Total: 0.011s | Copy: 0ms | Filter: 0ms | Init: 0ms | Run: 11ms | Extract: 0ms | Cache: 0ms\n",
      "   ⏱️  [1h] Total: 0.011s | Copy: 0ms | Filter: 0ms | Init: 0ms | Run: 11ms | Extract: 0ms | Cache: 0ms\n",
      "      🔧 zigzag_middleware: 0.028s\n",
      "      🔧 volume_profile_middleware: 0.049s\n",
      "   ⏱️  [D] Total: 0.084s | Copy: 0ms | Filter: 0ms | Init: 0ms | Run: 83ms | Extract: 0ms | Cache: 1ms\n",
      "   ⏱️  [1h] Total: 0.011s | Copy: 0ms | Filter: 0ms | Init: 0ms | Run: 11ms | Extract: 0ms | Cache: 0ms\n",
      "   ⏱️  [1h] Total: 0.011s | Copy: 0ms | Filter: 0ms | Init: 0ms | Run: 11ms | Extract: 0ms | Cache: 0ms\n"
     ]
    },
    {
     "name": "stderr",
     "output_type": "stream",
     "text": [
      "Extracting levels:  72%|███████▏  | 358/500 [00:09<00:03, 37.89it/s]"
     ]
    },
    {
     "name": "stdout",
     "output_type": "stream",
     "text": [
      "   ⏱️  [1h] Total: 0.011s | Copy: 0ms | Filter: 0ms | Init: 0ms | Run: 11ms | Extract: 0ms | Cache: 0ms\n",
      "   ⏱️  [1h] Total: 0.011s | Copy: 0ms | Filter: 0ms | Init: 0ms | Run: 11ms | Extract: 0ms | Cache: 0ms\n",
      "   ⏱️  [1h] Total: 0.012s | Copy: 0ms | Filter: 0ms | Init: 0ms | Run: 12ms | Extract: 0ms | Cache: 0ms\n",
      "   ⏱️  [1h] Total: 0.012s | Copy: 0ms | Filter: 0ms | Init: 0ms | Run: 11ms | Extract: 0ms | Cache: 0ms\n",
      "   ⏱️  [1h] Total: 0.012s | Copy: 0ms | Filter: 0ms | Init: 0ms | Run: 12ms | Extract: 0ms | Cache: 0ms\n",
      "   ⏱️  [1h] Total: 0.011s | Copy: 0ms | Filter: 0ms | Init: 0ms | Run: 10ms | Extract: 0ms | Cache: 0ms\n",
      "   ⏱️  [1h] Total: 0.011s | Copy: 0ms | Filter: 0ms | Init: 0ms | Run: 11ms | Extract: 0ms | Cache: 0ms\n",
      "   ⏱️  [1h] Total: 0.012s | Copy: 0ms | Filter: 0ms | Init: 0ms | Run: 11ms | Extract: 0ms | Cache: 1ms\n",
      "   ⏱️  [1h] Total: 0.011s | Copy: 0ms | Filter: 0ms | Init: 0ms | Run: 11ms | Extract: 0ms | Cache: 0ms\n"
     ]
    },
    {
     "name": "stderr",
     "output_type": "stream",
     "text": [
      "Extracting levels:  74%|███████▎  | 368/500 [00:09<00:03, 40.41it/s]"
     ]
    },
    {
     "name": "stdout",
     "output_type": "stream",
     "text": [
      "   ⏱️  [1h] Total: 0.012s | Copy: 0ms | Filter: 0ms | Init: 0ms | Run: 12ms | Extract: 0ms | Cache: 0ms\n",
      "   ⏱️  [1h] Total: 0.012s | Copy: 0ms | Filter: 0ms | Init: 0ms | Run: 12ms | Extract: 0ms | Cache: 0ms\n",
      "   ⏱️  [1h] Total: 0.012s | Copy: 0ms | Filter: 0ms | Init: 0ms | Run: 12ms | Extract: 0ms | Cache: 0ms\n",
      "   ⏱️  [1h] Total: 0.012s | Copy: 0ms | Filter: 0ms | Init: 0ms | Run: 12ms | Extract: 0ms | Cache: 0ms\n",
      "   ⏱️  [1h] Total: 0.012s | Copy: 0ms | Filter: 0ms | Init: 0ms | Run: 12ms | Extract: 0ms | Cache: 0ms\n",
      "   ⏱️  [1h] Total: 0.011s | Copy: 0ms | Filter: 0ms | Init: 0ms | Run: 11ms | Extract: 0ms | Cache: 0ms\n",
      "   ⏱️  [1h] Total: 0.011s | Copy: 0ms | Filter: 0ms | Init: 0ms | Run: 11ms | Extract: 0ms | Cache: 0ms\n",
      "   ⏱️  [1h] Total: 0.011s | Copy: 0ms | Filter: 0ms | Init: 0ms | Run: 11ms | Extract: 0ms | Cache: 0ms\n",
      "   ⏱️  [1h] Total: 0.011s | Copy: 0ms | Filter: 0ms | Init: 0ms | Run: 11ms | Extract: 0ms | Cache: 0ms\n"
     ]
    },
    {
     "name": "stderr",
     "output_type": "stream",
     "text": [
      "Extracting levels:  76%|███████▌  | 378/500 [00:09<00:02, 41.96it/s]"
     ]
    },
    {
     "name": "stdout",
     "output_type": "stream",
     "text": [
      "   ⏱️  [1h] Total: 0.012s | Copy: 0ms | Filter: 0ms | Init: 0ms | Run: 12ms | Extract: 0ms | Cache: 0ms\n",
      "   ⏱️  [1h] Total: 0.011s | Copy: 0ms | Filter: 0ms | Init: 0ms | Run: 11ms | Extract: 0ms | Cache: 0ms\n",
      "   ⏱️  [1h] Total: 0.011s | Copy: 0ms | Filter: 0ms | Init: 0ms | Run: 11ms | Extract: 0ms | Cache: 0ms\n",
      "   ⏱️  [1h] Total: 0.012s | Copy: 0ms | Filter: 0ms | Init: 0ms | Run: 11ms | Extract: 0ms | Cache: 1ms\n",
      "   ⏱️  [1h] Total: 0.011s | Copy: 0ms | Filter: 0ms | Init: 0ms | Run: 11ms | Extract: 0ms | Cache: 0ms\n",
      "   ⏱️  [1h] Total: 0.012s | Copy: 0ms | Filter: 0ms | Init: 0ms | Run: 11ms | Extract: 0ms | Cache: 0ms\n",
      "   ⏱️  [1h] Total: 0.011s | Copy: 0ms | Filter: 0ms | Init: 0ms | Run: 11ms | Extract: 0ms | Cache: 0ms\n",
      "   ⏱️  [1h] Total: 0.012s | Copy: 0ms | Filter: 0ms | Init: 0ms | Run: 12ms | Extract: 0ms | Cache: 0ms\n",
      "   ⏱️  [1h] Total: 0.013s | Copy: 0ms | Filter: 0ms | Init: 0ms | Run: 12ms | Extract: 0ms | Cache: 0ms\n",
      "   ⏱️  [1h] Total: 0.011s | Copy: 0ms | Filter: 0ms | Init: 0ms | Run: 11ms | Extract: 0ms | Cache: 0ms\n"
     ]
    },
    {
     "name": "stderr",
     "output_type": "stream",
     "text": [
      "Extracting levels:  77%|███████▋  | 383/500 [00:09<00:02, 42.13it/s]"
     ]
    },
    {
     "name": "stdout",
     "output_type": "stream",
     "text": [
      "   ⏱️  [1h] Total: 0.013s | Copy: 0ms | Filter: 0ms | Init: 0ms | Run: 13ms | Extract: 0ms | Cache: 0ms\n",
      "   ⏱️  [1h] Total: 0.011s | Copy: 0ms | Filter: 0ms | Init: 0ms | Run: 11ms | Extract: 0ms | Cache: 0ms\n",
      "   ⏱️  [1h] Total: 0.012s | Copy: 0ms | Filter: 0ms | Init: 0ms | Run: 11ms | Extract: 0ms | Cache: 0ms\n",
      "   ⏱️  [1h] Total: 0.012s | Copy: 0ms | Filter: 0ms | Init: 0ms | Run: 12ms | Extract: 0ms | Cache: 0ms\n",
      "      🔧 zigzag_middleware: 0.012s\n",
      "   ⏱️  [1h] Total: 0.021s | Copy: 0ms | Filter: 0ms | Init: 0ms | Run: 20ms | Extract: 0ms | Cache: 0ms\n",
      "   ⏱️  [1h] Total: 0.013s | Copy: 0ms | Filter: 0ms | Init: 0ms | Run: 12ms | Extract: 0ms | Cache: 1ms\n",
      "   ⏱️  [1h] Total: 0.011s | Copy: 0ms | Filter: 0ms | Init: 0ms | Run: 11ms | Extract: 0ms | Cache: 0ms\n",
      "   ⏱️  [1h] Total: 0.013s | Copy: 0ms | Filter: 0ms | Init: 0ms | Run: 13ms | Extract: 0ms | Cache: 0ms\n"
     ]
    },
    {
     "name": "stderr",
     "output_type": "stream",
     "text": [
      "Extracting levels:  79%|███████▊  | 393/500 [00:10<00:02, 40.52it/s]"
     ]
    },
    {
     "name": "stdout",
     "output_type": "stream",
     "text": [
      "   ⏱️  [1h] Total: 0.012s | Copy: 0ms | Filter: 0ms | Init: 0ms | Run: 12ms | Extract: 0ms | Cache: 0ms\n",
      "   ⏱️  [1h] Total: 0.012s | Copy: 0ms | Filter: 0ms | Init: 0ms | Run: 12ms | Extract: 0ms | Cache: 0ms\n",
      "   ⏱️  [1h] Total: 0.012s | Copy: 0ms | Filter: 0ms | Init: 0ms | Run: 12ms | Extract: 0ms | Cache: 0ms\n",
      "   ⏱️  [1h] Total: 0.011s | Copy: 0ms | Filter: 0ms | Init: 0ms | Run: 11ms | Extract: 0ms | Cache: 0ms\n",
      "   ⏱️  [1h] Total: 0.011s | Copy: 0ms | Filter: 0ms | Init: 0ms | Run: 11ms | Extract: 0ms | Cache: 0ms\n",
      "   ⏱️  [1h] Total: 0.011s | Copy: 0ms | Filter: 0ms | Init: 0ms | Run: 11ms | Extract: 0ms | Cache: 0ms\n",
      "   ⏱️  [1h] Total: 0.011s | Copy: 0ms | Filter: 0ms | Init: 0ms | Run: 11ms | Extract: 0ms | Cache: 0ms\n",
      "   ⏱️  [1h] Total: 0.011s | Copy: 0ms | Filter: 0ms | Init: 0ms | Run: 11ms | Extract: 0ms | Cache: 0ms\n",
      "   ⏱️  [1h] Total: 0.011s | Copy: 0ms | Filter: 0ms | Init: 0ms | Run: 11ms | Extract: 0ms | Cache: 0ms\n",
      "   ⏱️  [1h] Total: 0.011s | Copy: 0ms | Filter: 0ms | Init: 0ms | Run: 11ms | Extract: 0ms | Cache: 0ms\n"
     ]
    },
    {
     "name": "stderr",
     "output_type": "stream",
     "text": [
      "Extracting levels:  81%|████████  | 403/500 [00:10<00:02, 41.72it/s]"
     ]
    },
    {
     "name": "stdout",
     "output_type": "stream",
     "text": [
      "   ⏱️  [1h] Total: 0.012s | Copy: 0ms | Filter: 0ms | Init: 0ms | Run: 12ms | Extract: 0ms | Cache: 0ms\n",
      "   ⏱️  [1h] Total: 0.012s | Copy: 0ms | Filter: 0ms | Init: 0ms | Run: 11ms | Extract: 0ms | Cache: 0ms\n",
      "   ⏱️  [1h] Total: 0.012s | Copy: 0ms | Filter: 0ms | Init: 0ms | Run: 12ms | Extract: 0ms | Cache: 0ms\n",
      "   ⏱️  [1h] Total: 0.011s | Copy: 0ms | Filter: 0ms | Init: 0ms | Run: 11ms | Extract: 0ms | Cache: 0ms\n",
      "   ⏱️  [1h] Total: 0.011s | Copy: 0ms | Filter: 0ms | Init: 0ms | Run: 11ms | Extract: 0ms | Cache: 0ms\n",
      "   ⏱️  [1h] Total: 0.011s | Copy: 0ms | Filter: 0ms | Init: 0ms | Run: 11ms | Extract: 0ms | Cache: 0ms\n",
      "   ⏱️  [1h] Total: 0.011s | Copy: 0ms | Filter: 0ms | Init: 0ms | Run: 11ms | Extract: 0ms | Cache: 0ms\n",
      "   ⏱️  [1h] Total: 0.012s | Copy: 0ms | Filter: 0ms | Init: 0ms | Run: 11ms | Extract: 0ms | Cache: 0ms\n"
     ]
    },
    {
     "name": "stderr",
     "output_type": "stream",
     "text": [
      "Extracting levels:  83%|████████▎ | 413/500 [00:10<00:02, 42.89it/s]"
     ]
    },
    {
     "name": "stdout",
     "output_type": "stream",
     "text": [
      "   ⏱️  [1h] Total: 0.012s | Copy: 0ms | Filter: 0ms | Init: 0ms | Run: 12ms | Extract: 0ms | Cache: 0ms\n",
      "   ⏱️  [1h] Total: 0.012s | Copy: 0ms | Filter: 0ms | Init: 0ms | Run: 12ms | Extract: 0ms | Cache: 0ms\n",
      "   ⏱️  [1h] Total: 0.011s | Copy: 0ms | Filter: 0ms | Init: 0ms | Run: 10ms | Extract: 0ms | Cache: 1ms\n",
      "   ⏱️  [1h] Total: 0.012s | Copy: 0ms | Filter: 0ms | Init: 0ms | Run: 11ms | Extract: 0ms | Cache: 0ms\n",
      "   ⏱️  [1h] Total: 0.011s | Copy: 0ms | Filter: 0ms | Init: 0ms | Run: 11ms | Extract: 0ms | Cache: 0ms\n",
      "   ⏱️  [1h] Total: 0.011s | Copy: 0ms | Filter: 0ms | Init: 0ms | Run: 11ms | Extract: 0ms | Cache: 0ms\n",
      "   ⏱️  [1h] Total: 0.012s | Copy: 0ms | Filter: 0ms | Init: 0ms | Run: 11ms | Extract: 0ms | Cache: 0ms\n",
      "   ⏱️  [1h] Total: 0.012s | Copy: 0ms | Filter: 0ms | Init: 0ms | Run: 11ms | Extract: 0ms | Cache: 0ms\n",
      "   ⏱️  [1h] Total: 0.011s | Copy: 0ms | Filter: 0ms | Init: 0ms | Run: 11ms | Extract: 0ms | Cache: 0ms\n",
      "   ⏱️  [1h] Total: 0.010s | Copy: 0ms | Filter: 0ms | Init: 0ms | Run: 10ms | Extract: 0ms | Cache: 0ms\n"
     ]
    },
    {
     "name": "stderr",
     "output_type": "stream",
     "text": [
      "Extracting levels:  85%|████████▍ | 423/500 [00:10<00:01, 43.67it/s]"
     ]
    },
    {
     "name": "stdout",
     "output_type": "stream",
     "text": [
      "   ⏱️  [1h] Total: 0.011s | Copy: 0ms | Filter: 0ms | Init: 0ms | Run: 11ms | Extract: 0ms | Cache: 0ms\n",
      "   ⏱️  [1h] Total: 0.012s | Copy: 0ms | Filter: 0ms | Init: 0ms | Run: 11ms | Extract: 0ms | Cache: 0ms\n",
      "   ⏱️  [1h] Total: 0.012s | Copy: 0ms | Filter: 0ms | Init: 0ms | Run: 12ms | Extract: 0ms | Cache: 0ms\n",
      "   ⏱️  [1h] Total: 0.011s | Copy: 0ms | Filter: 0ms | Init: 0ms | Run: 10ms | Extract: 0ms | Cache: 0ms\n",
      "   ⏱️  [1h] Total: 0.011s | Copy: 0ms | Filter: 0ms | Init: 0ms | Run: 11ms | Extract: 0ms | Cache: 0ms\n",
      "   ⏱️  [1h] Total: 0.011s | Copy: 0ms | Filter: 0ms | Init: 0ms | Run: 11ms | Extract: 0ms | Cache: 0ms\n",
      "   ⏱️  [1h] Total: 0.011s | Copy: 0ms | Filter: 0ms | Init: 0ms | Run: 10ms | Extract: 0ms | Cache: 0ms\n",
      "   ⏱️  [1h] Total: 0.011s | Copy: 0ms | Filter: 0ms | Init: 0ms | Run: 11ms | Extract: 0ms | Cache: 0ms\n",
      "   ⏱️  [1h] Total: 0.011s | Copy: 0ms | Filter: 0ms | Init: 0ms | Run: 9ms | Extract: 1ms | Cache: 0ms\n",
      "   ⏱️  [1h] Total: 0.011s | Copy: 0ms | Filter: 0ms | Init: 0ms | Run: 11ms | Extract: 0ms | Cache: 0ms\n"
     ]
    },
    {
     "name": "stderr",
     "output_type": "stream",
     "text": [
      "Extracting levels:  87%|████████▋ | 433/500 [00:11<00:01, 43.47it/s]"
     ]
    },
    {
     "name": "stdout",
     "output_type": "stream",
     "text": [
      "   ⏱️  [1h] Total: 0.013s | Copy: 0ms | Filter: 0ms | Init: 0ms | Run: 13ms | Extract: 0ms | Cache: 0ms\n",
      "   ⏱️  [1h] Total: 0.012s | Copy: 0ms | Filter: 0ms | Init: 0ms | Run: 12ms | Extract: 0ms | Cache: 0ms\n",
      "   ⏱️  [1h] Total: 0.010s | Copy: 0ms | Filter: 0ms | Init: 0ms | Run: 10ms | Extract: 0ms | Cache: 0ms\n",
      "   ⏱️  [1h] Total: 0.011s | Copy: 0ms | Filter: 0ms | Init: 0ms | Run: 11ms | Extract: 0ms | Cache: 0ms\n",
      "   ⏱️  [1h] Total: 0.011s | Copy: 0ms | Filter: 0ms | Init: 0ms | Run: 11ms | Extract: 0ms | Cache: 0ms\n",
      "   ⏱️  [1h] Total: 0.012s | Copy: 0ms | Filter: 0ms | Init: 0ms | Run: 12ms | Extract: 0ms | Cache: 0ms\n",
      "   ⏱️  [1h] Total: 0.011s | Copy: 0ms | Filter: 0ms | Init: 0ms | Run: 11ms | Extract: 0ms | Cache: 0ms\n",
      "   ⏱️  [1h] Total: 0.011s | Copy: 0ms | Filter: 0ms | Init: 0ms | Run: 11ms | Extract: 0ms | Cache: 0ms\n"
     ]
    },
    {
     "name": "stderr",
     "output_type": "stream",
     "text": [
      "Extracting levels:  89%|████████▊ | 443/500 [00:11<00:01, 43.32it/s]"
     ]
    },
    {
     "name": "stdout",
     "output_type": "stream",
     "text": [
      "   ⏱️  [1h] Total: 0.012s | Copy: 0ms | Filter: 0ms | Init: 0ms | Run: 12ms | Extract: 0ms | Cache: 0ms\n",
      "   ⏱️  [1h] Total: 0.012s | Copy: 0ms | Filter: 0ms | Init: 0ms | Run: 12ms | Extract: 0ms | Cache: 0ms\n",
      "   ⏱️  [15m] Total: 0.012s | Copy: 0ms | Filter: 0ms | Init: 0ms | Run: 12ms | Extract: 0ms | Cache: 0ms\n",
      "   ⏱️  [1h] Total: 0.012s | Copy: 0ms | Filter: 0ms | Init: 0ms | Run: 11ms | Extract: 0ms | Cache: 0ms\n",
      "   ⏱️  [1h] Total: 0.011s | Copy: 0ms | Filter: 0ms | Init: 0ms | Run: 11ms | Extract: 0ms | Cache: 0ms\n",
      "   ⏱️  [1h] Total: 0.011s | Copy: 0ms | Filter: 0ms | Init: 0ms | Run: 10ms | Extract: 0ms | Cache: 1ms\n",
      "   ⏱️  [1h] Total: 0.011s | Copy: 0ms | Filter: 0ms | Init: 0ms | Run: 11ms | Extract: 0ms | Cache: 0ms\n",
      "   ⏱️  [1h] Total: 0.011s | Copy: 0ms | Filter: 0ms | Init: 0ms | Run: 11ms | Extract: 0ms | Cache: 0ms\n",
      "   ⏱️  [1h] Total: 0.011s | Copy: 0ms | Filter: 0ms | Init: 0ms | Run: 10ms | Extract: 1ms | Cache: 0ms\n"
     ]
    },
    {
     "name": "stderr",
     "output_type": "stream",
     "text": [
      "Extracting levels:  90%|████████▉ | 448/500 [00:11<00:01, 35.74it/s]"
     ]
    },
    {
     "name": "stdout",
     "output_type": "stream",
     "text": [
      "   ⏱️  [1h] Total: 0.011s | Copy: 0ms | Filter: 0ms | Init: 0ms | Run: 11ms | Extract: 0ms | Cache: 0ms\n",
      "      🔧 zigzag_middleware: 0.028s\n",
      "      🔧 volume_profile_middleware: 0.050s\n",
      "   ⏱️  [D] Total: 0.084s | Copy: 0ms | Filter: 0ms | Init: 0ms | Run: 84ms | Extract: 0ms | Cache: 0ms\n",
      "   ⏱️  [1h] Total: 0.011s | Copy: 0ms | Filter: 0ms | Init: 0ms | Run: 11ms | Extract: 0ms | Cache: 0ms\n",
      "   ⏱️  [1h] Total: 0.011s | Copy: 0ms | Filter: 0ms | Init: 0ms | Run: 11ms | Extract: 0ms | Cache: 0ms\n",
      "   ⏱️  [1h] Total: 0.011s | Copy: 0ms | Filter: 0ms | Init: 0ms | Run: 11ms | Extract: 0ms | Cache: 0ms\n",
      "   ⏱️  [1h] Total: 0.012s | Copy: 0ms | Filter: 0ms | Init: 0ms | Run: 12ms | Extract: 0ms | Cache: 0ms\n"
     ]
    },
    {
     "name": "stderr",
     "output_type": "stream",
     "text": [
      "Extracting levels:  92%|█████████▏| 458/500 [00:11<00:01, 39.78it/s]"
     ]
    },
    {
     "name": "stdout",
     "output_type": "stream",
     "text": [
      "   ⏱️  [1h] Total: 0.011s | Copy: 0ms | Filter: 0ms | Init: 0ms | Run: 11ms | Extract: 0ms | Cache: 0ms\n",
      "   ⏱️  [1h] Total: 0.011s | Copy: 0ms | Filter: 0ms | Init: 0ms | Run: 11ms | Extract: 0ms | Cache: 0ms\n",
      "   ⏱️  [1h] Total: 0.012s | Copy: 0ms | Filter: 0ms | Init: 0ms | Run: 11ms | Extract: 0ms | Cache: 0ms\n",
      "   ⏱️  [1h] Total: 0.011s | Copy: 0ms | Filter: 0ms | Init: 0ms | Run: 11ms | Extract: 0ms | Cache: 0ms\n",
      "   ⏱️  [1h] Total: 0.011s | Copy: 0ms | Filter: 0ms | Init: 0ms | Run: 11ms | Extract: 0ms | Cache: 0ms\n",
      "   ⏱️  [1h] Total: 0.010s | Copy: 0ms | Filter: 0ms | Init: 0ms | Run: 10ms | Extract: 0ms | Cache: 0ms\n",
      "   ⏱️  [1h] Total: 0.011s | Copy: 0ms | Filter: 0ms | Init: 0ms | Run: 10ms | Extract: 0ms | Cache: 0ms\n",
      "   ⏱️  [1h] Total: 0.015s | Copy: 0ms | Filter: 0ms | Init: 0ms | Run: 15ms | Extract: 0ms | Cache: 0ms\n"
     ]
    },
    {
     "name": "stderr",
     "output_type": "stream",
     "text": [
      "Extracting levels:  94%|█████████▎| 468/500 [00:12<00:00, 40.63it/s]"
     ]
    },
    {
     "name": "stdout",
     "output_type": "stream",
     "text": [
      "   ⏱️  [1h] Total: 0.017s | Copy: 0ms | Filter: 0ms | Init: 0ms | Run: 16ms | Extract: 0ms | Cache: 0ms\n",
      "   ⏱️  [1h] Total: 0.012s | Copy: 0ms | Filter: 0ms | Init: 0ms | Run: 12ms | Extract: 0ms | Cache: 0ms\n",
      "   ⏱️  [1h] Total: 0.011s | Copy: 0ms | Filter: 0ms | Init: 0ms | Run: 11ms | Extract: 0ms | Cache: 0ms\n",
      "   ⏱️  [1h] Total: 0.011s | Copy: 0ms | Filter: 0ms | Init: 0ms | Run: 10ms | Extract: 0ms | Cache: 0ms\n",
      "   ⏱️  [1h] Total: 0.011s | Copy: 0ms | Filter: 0ms | Init: 0ms | Run: 11ms | Extract: 0ms | Cache: 0ms\n",
      "   ⏱️  [1h] Total: 0.011s | Copy: 0ms | Filter: 0ms | Init: 0ms | Run: 11ms | Extract: 0ms | Cache: 0ms\n",
      "   ⏱️  [1h] Total: 0.011s | Copy: 0ms | Filter: 0ms | Init: 0ms | Run: 11ms | Extract: 0ms | Cache: 0ms\n",
      "   ⏱️  [1h] Total: 0.013s | Copy: 0ms | Filter: 0ms | Init: 0ms | Run: 12ms | Extract: 0ms | Cache: 0ms\n",
      "   ⏱️  [1h] Total: 0.012s | Copy: 0ms | Filter: 0ms | Init: 0ms | Run: 12ms | Extract: 0ms | Cache: 0ms\n",
      "   ⏱️  [1h] Total: 0.011s | Copy: 0ms | Filter: 0ms | Init: 0ms | Run: 11ms | Extract: 0ms | Cache: 0ms\n"
     ]
    },
    {
     "name": "stderr",
     "output_type": "stream",
     "text": [
      "Extracting levels:  96%|█████████▌| 478/500 [00:12<00:00, 42.44it/s]"
     ]
    },
    {
     "name": "stdout",
     "output_type": "stream",
     "text": [
      "   ⏱️  [1h] Total: 0.011s | Copy: 0ms | Filter: 0ms | Init: 0ms | Run: 10ms | Extract: 0ms | Cache: 0ms\n",
      "   ⏱️  [1h] Total: 0.011s | Copy: 0ms | Filter: 0ms | Init: 0ms | Run: 10ms | Extract: 0ms | Cache: 0ms\n",
      "   ⏱️  [1h] Total: 0.011s | Copy: 0ms | Filter: 0ms | Init: 0ms | Run: 11ms | Extract: 0ms | Cache: 0ms\n",
      "   ⏱️  [1h] Total: 0.011s | Copy: 0ms | Filter: 0ms | Init: 1ms | Run: 11ms | Extract: 0ms | Cache: 0ms\n",
      "   ⏱️  [1h] Total: 0.011s | Copy: 0ms | Filter: 0ms | Init: 0ms | Run: 10ms | Extract: 0ms | Cache: 0ms\n",
      "   ⏱️  [1h] Total: 0.011s | Copy: 0ms | Filter: 0ms | Init: 0ms | Run: 11ms | Extract: 0ms | Cache: 0ms\n",
      "   ⏱️  [1h] Total: 0.011s | Copy: 0ms | Filter: 0ms | Init: 0ms | Run: 11ms | Extract: 0ms | Cache: 0ms\n",
      "   ⏱️  [1h] Total: 0.011s | Copy: 0ms | Filter: 0ms | Init: 0ms | Run: 11ms | Extract: 0ms | Cache: 0ms\n",
      "   ⏱️  [1h] Total: 0.011s | Copy: 0ms | Filter: 0ms | Init: 0ms | Run: 11ms | Extract: 0ms | Cache: 0ms\n"
     ]
    },
    {
     "name": "stderr",
     "output_type": "stream",
     "text": [
      "Extracting levels:  97%|█████████▋| 483/500 [00:12<00:00, 42.99it/s]"
     ]
    },
    {
     "name": "stdout",
     "output_type": "stream",
     "text": [
      "   ⏱️  [1h] Total: 0.012s | Copy: 0ms | Filter: 0ms | Init: 0ms | Run: 11ms | Extract: 0ms | Cache: 0ms\n",
      "   ⏱️  [1h] Total: 0.012s | Copy: 0ms | Filter: 0ms | Init: 0ms | Run: 12ms | Extract: 0ms | Cache: 0ms\n",
      "   ⏱️  [1h] Total: 0.011s | Copy: 0ms | Filter: 0ms | Init: 0ms | Run: 11ms | Extract: 0ms | Cache: 0ms\n",
      "   ⏱️  [1h] Total: 0.011s | Copy: 0ms | Filter: 0ms | Init: 0ms | Run: 11ms | Extract: 0ms | Cache: 0ms\n",
      "   ⏱️  [1h] Total: 0.011s | Copy: 0ms | Filter: 0ms | Init: 0ms | Run: 10ms | Extract: 0ms | Cache: 0ms\n",
      "   ⏱️  [1h] Total: 0.011s | Copy: 0ms | Filter: 0ms | Init: 0ms | Run: 11ms | Extract: 0ms | Cache: 0ms\n",
      "   ⏱️  [1h] Total: 0.011s | Copy: 0ms | Filter: 0ms | Init: 0ms | Run: 10ms | Extract: 0ms | Cache: 0ms\n",
      "   ⏱️  [1h] Total: 0.012s | Copy: 0ms | Filter: 0ms | Init: 0ms | Run: 11ms | Extract: 0ms | Cache: 0ms\n",
      "   ⏱️  [1h] Total: 0.011s | Copy: 0ms | Filter: 0ms | Init: 0ms | Run: 11ms | Extract: 0ms | Cache: 0ms\n"
     ]
    },
    {
     "name": "stderr",
     "output_type": "stream",
     "text": [
      "Extracting levels:  99%|█████████▊| 493/500 [00:12<00:00, 43.37it/s]"
     ]
    },
    {
     "name": "stdout",
     "output_type": "stream",
     "text": [
      "   ⏱️  [1h] Total: 0.011s | Copy: 0ms | Filter: 0ms | Init: 0ms | Run: 11ms | Extract: 0ms | Cache: 0ms\n",
      "   ⏱️  [1h] Total: 0.012s | Copy: 0ms | Filter: 0ms | Init: 0ms | Run: 10ms | Extract: 1ms | Cache: 0ms\n",
      "   ⏱️  [1h] Total: 0.010s | Copy: 0ms | Filter: 0ms | Init: 0ms | Run: 10ms | Extract: 0ms | Cache: 0ms\n",
      "   ⏱️  [1h] Total: 0.012s | Copy: 0ms | Filter: 0ms | Init: 0ms | Run: 11ms | Extract: 0ms | Cache: 0ms\n",
      "   ⏱️  [1h] Total: 0.011s | Copy: 0ms | Filter: 0ms | Init: 0ms | Run: 11ms | Extract: 0ms | Cache: 0ms\n",
      "   ⏱️  [1h] Total: 0.010s | Copy: 0ms | Filter: 0ms | Init: 0ms | Run: 10ms | Extract: 0ms | Cache: 0ms\n",
      "   ⏱️  [1h] Total: 0.011s | Copy: 0ms | Filter: 0ms | Init: 0ms | Run: 11ms | Extract: 0ms | Cache: 0ms\n",
      "   ⏱️  [1h] Total: 0.011s | Copy: 0ms | Filter: 0ms | Init: 0ms | Run: 11ms | Extract: 0ms | Cache: 0ms\n",
      "   ⏱️  [1h] Total: 0.011s | Copy: 0ms | Filter: 0ms | Init: 0ms | Run: 11ms | Extract: 0ms | Cache: 0ms\n"
     ]
    },
    {
     "name": "stderr",
     "output_type": "stream",
     "text": [
      "Extracting levels: 100%|██████████| 500/500 [00:12<00:00, 39.29it/s]\n"
     ]
    },
    {
     "name": "stdout",
     "output_type": "stream",
     "text": [
      "   ⏱️  [1h] Total: 0.011s | Copy: 0ms | Filter: 0ms | Init: 0ms | Run: 11ms | Extract: 0ms | Cache: 0ms\n",
      "   ⏱️  [1h] Total: 0.011s | Copy: 0ms | Filter: 0ms | Init: 0ms | Run: 11ms | Extract: 0ms | Cache: 0ms\n",
      "   ⏱️  [1h] Total: 0.011s | Copy: 0ms | Filter: 0ms | Init: 0ms | Run: 11ms | Extract: 0ms | Cache: 0ms\n",
      "   ✅ Levels extracted in 12.73s\n",
      "🎯 Step 3/3: Calculating level features per candle...\n"
     ]
    },
    {
     "name": "stderr",
     "output_type": "stream",
     "text": [
      "Level features: 100%|██████████| 500/500 [00:00<00:00, 8065.69it/s]"
     ]
    },
    {
     "name": "stdout",
     "output_type": "stream",
     "text": [
      "   ✅ Level features calculated in 0.07s (37 features)\n",
      "🔮 Generating predictions for 500 candles...\n"
     ]
    },
    {
     "name": "stderr",
     "output_type": "stream",
     "text": [
      "\n"
     ]
    },
    {
     "name": "stdout",
     "output_type": "stream",
     "text": [
      "   ✅ Predictions generated in 0.17s\n",
      "\n",
      "🔍 Signal Analysis:\n",
      "   BUY signals: 0\n",
      "   SELL signals: 6\n",
      "⚠️  No BUY signals detected - adjusting strategy...\n",
      "   Auto-adjusted BUY threshold: 0.0117\n",
      "   Adjusted BUY signals: 50\n",
      "   Adjusted SELL signals: 6\n",
      "\n",
      "======================================================================\n",
      "✅ OPTIMIZED BACKTESTING COMPLETE\n",
      "======================================================================\n",
      "⏱️  Total time: 12.97 seconds (0.22 minutes)\n",
      "📊 Processed: 500 candles\n",
      "   BUY: 50\n",
      "   SELL: 2\n",
      "   HOLD: 448\n",
      "⚡ Average time per candle: 25.94 milliseconds\n",
      "======================================================================\n",
      "\n",
      "\n",
      "🚀 Running backtest...\n",
      "\n",
      "🚀 Running VectorBT backtest...\n",
      "   Initial Capital: $1,000,000.00\n",
      "   Commission: 0.10%\n",
      "   Slippage: 0.05%\n",
      "✅ Backtest complete!\n",
      "\n",
      "============================================================\n",
      "📊 VECTORBT BACKTEST PERFORMANCE SUMMARY\n",
      "============================================================\n",
      "\n",
      "💰 Returns:\n",
      "   Total Return:            6.03%\n",
      "   Annualized Return:       0.00%\n",
      "   Final Value:       $1,060,280.48\n",
      "\n",
      "📈 Risk Metrics:\n",
      "   Sharpe Ratio:            7.34\n",
      "   Max Drawdown:            6.49%\n",
      "\n",
      "🎯 Trading Performance:\n",
      "   Total Trades:               2\n",
      "   Win Rate:                0.00%\n",
      "   Profit Factor:           0.00\n",
      "\n",
      "============================================================\n",
      "\n",
      "=======================================================\n",
      "📋 TRADE ANALYSIS\n",
      "=======================================================\n",
      "\n",
      "📊 Total Trades: 2\n",
      "✅ Winning: 1 (50.0%)\n",
      "❌ Losing:  1 (50.0%)\n",
      "\n",
      "💚 Average Win: $94638.77\n",
      "💚 Largest Win: $94638.77\n",
      "💔 Average Loss: $-34358.29\n",
      "💔 Largest Loss: $-34358.29\n",
      "\n",
      "📋 Sample Trades (first 10):\n",
      "   Exit Trade Id  Column       Size     Entry Timestamp  Avg Entry Price  \\\n",
      "0              0       0  16.610988 2024-04-30 19:30:00      60140.97546   \n",
      "1              1       0  16.632659 2024-05-01 12:45:00      57998.96499   \n",
      "\n",
      "   Entry Fees      Exit Timestamp  Avg Exit Price  Exit Fees           PnL  \\\n",
      "0  999.000999 2024-05-01 12:00:00    58190.899995  966.60832 -34358.288732   \n",
      "1  964.677034 2024-05-04 13:15:00    63746.900000    0.00000  94638.768637   \n",
      "\n",
      "     Return Direction  Status  Position Id  \n",
      "0 -0.034393      Long  Closed            0  \n",
      "1  0.098104      Long    Open            1  \n",
      "\n",
      "=======================================================\n",
      "✅ VECTORBT BACKTEST COMPLETE!\n",
      "=======================================================\n",
      "\n",
      "🎯 SIGNAL DISTRIBUTION:\n",
      "   BUY: 50 (10.0%)\n",
      "   SELL: 2 (0.4%)\n",
      "   HOLD: 448 (89.6%)\n",
      "\n",
      "📋 TRADING SIGNALS (52 total):\n",
      "   🔴 2024-04-30 14:45:00 | SELL @ $61247.87 | Conf: 10.1%\n",
      "   🟢 2024-04-30 19:30:00 | BUY  @ $60110.92 | Conf: 95.2%\n",
      "   🟢 2024-04-30 20:00:00 | BUY  @ $59854.19 | Conf: 95.3%\n",
      "   🟢 2024-04-30 20:15:00 | BUY  @ $59728.51 | Conf: 97.1%\n",
      "   🟢 2024-04-30 20:30:00 | BUY  @ $59961.11 | Conf: 90.0%\n",
      "   🟢 2024-04-30 20:45:00 | BUY  @ $59958.62 | Conf: 89.3%\n",
      "   🟢 2024-05-01 02:00:00 | BUY  @ $59590.00 | Conf: 97.2%\n",
      "   🟢 2024-05-01 06:45:00 | BUY  @ $59529.94 | Conf: 96.4%\n",
      "   🟢 2024-05-01 07:00:00 | BUY  @ $58516.00 | Conf: 10.2%\n",
      "   🟢 2024-05-01 07:15:00 | BUY  @ $57993.88 | Conf: 94.9%\n",
      "   🟢 2024-05-01 07:30:00 | BUY  @ $57714.53 | Conf: 93.6%\n",
      "   🟢 2024-05-01 07:45:00 | BUY  @ $57499.99 | Conf: 96.9%\n",
      "   🟢 2024-05-01 08:00:00 | BUY  @ $57347.31 | Conf: 93.6%\n",
      "   🟢 2024-05-01 08:15:00 | BUY  @ $57019.97 | Conf: 89.9%\n",
      "   🟢 2024-05-01 08:30:00 | BUY  @ $56888.00 | Conf: 96.4%\n",
      "   🟢 2024-05-01 08:45:00 | BUY  @ $57169.69 | Conf: 93.2%\n",
      "   🟢 2024-05-01 09:45:00 | BUY  @ $57115.61 | Conf: 97.3%\n",
      "   🟢 2024-05-01 10:00:00 | BUY  @ $56986.01 | Conf: 95.9%\n",
      "   🔴 2024-05-01 12:00:00 | SELL @ $58220.01 | Conf: 15.6%\n",
      "   🟢 2024-05-01 12:30:00 | BUY  @ $58132.19 | Conf: 17.3%\n",
      "\n",
      "✅ Progressive backtest complete!\n",
      "   ℹ️  Each candle was processed independently with levels extracted\n",
      "      at that point in time (no future data leakage)\n",
      "\n",
      "📊 Generating interactive plots...\n",
      "\n",
      "📊 Generating interactive plots...\n"
     ]
    },
    {
     "data": {
      "application/vnd.plotly.v1+json": {
       "config": {
        "plotlyServerURL": "https://plot.ly"
       },
       "data": [
        {
         "line": {
          "color": "blue"
         },
         "name": "Portfolio Value",
         "type": "scatter",
         "x": [
          "2024-04-29T08:30:00.000000000",
          "2024-04-29T08:45:00.000000000",
          "2024-04-29T09:00:00.000000000",
          "2024-04-29T09:15:00.000000000",
          "2024-04-29T09:30:00.000000000",
          "2024-04-29T09:45:00.000000000",
          "2024-04-29T10:00:00.000000000",
          "2024-04-29T10:15:00.000000000",
          "2024-04-29T10:30:00.000000000",
          "2024-04-29T10:45:00.000000000",
          "2024-04-29T11:00:00.000000000",
          "2024-04-29T11:15:00.000000000",
          "2024-04-29T11:30:00.000000000",
          "2024-04-29T11:45:00.000000000",
          "2024-04-29T12:00:00.000000000",
          "2024-04-29T12:15:00.000000000",
          "2024-04-29T12:30:00.000000000",
          "2024-04-29T12:45:00.000000000",
          "2024-04-29T13:00:00.000000000",
          "2024-04-29T13:15:00.000000000",
          "2024-04-29T13:30:00.000000000",
          "2024-04-29T13:45:00.000000000",
          "2024-04-29T14:00:00.000000000",
          "2024-04-29T14:15:00.000000000",
          "2024-04-29T14:30:00.000000000",
          "2024-04-29T14:45:00.000000000",
          "2024-04-29T15:00:00.000000000",
          "2024-04-29T15:15:00.000000000",
          "2024-04-29T15:30:00.000000000",
          "2024-04-29T15:45:00.000000000",
          "2024-04-29T16:00:00.000000000",
          "2024-04-29T16:15:00.000000000",
          "2024-04-29T16:30:00.000000000",
          "2024-04-29T16:45:00.000000000",
          "2024-04-29T17:00:00.000000000",
          "2024-04-29T17:15:00.000000000",
          "2024-04-29T17:30:00.000000000",
          "2024-04-29T17:45:00.000000000",
          "2024-04-29T18:00:00.000000000",
          "2024-04-29T18:15:00.000000000",
          "2024-04-29T18:30:00.000000000",
          "2024-04-29T18:45:00.000000000",
          "2024-04-29T19:00:00.000000000",
          "2024-04-29T19:15:00.000000000",
          "2024-04-29T19:30:00.000000000",
          "2024-04-29T19:45:00.000000000",
          "2024-04-29T20:00:00.000000000",
          "2024-04-29T20:15:00.000000000",
          "2024-04-29T20:30:00.000000000",
          "2024-04-29T20:45:00.000000000",
          "2024-04-29T21:00:00.000000000",
          "2024-04-29T21:15:00.000000000",
          "2024-04-29T21:30:00.000000000",
          "2024-04-29T21:45:00.000000000",
          "2024-04-29T22:00:00.000000000",
          "2024-04-29T22:15:00.000000000",
          "2024-04-29T22:30:00.000000000",
          "2024-04-29T22:45:00.000000000",
          "2024-04-29T23:00:00.000000000",
          "2024-04-29T23:15:00.000000000",
          "2024-04-29T23:30:00.000000000",
          "2024-04-29T23:45:00.000000000",
          "2024-04-30T00:00:00.000000000",
          "2024-04-30T00:15:00.000000000",
          "2024-04-30T00:30:00.000000000",
          "2024-04-30T00:45:00.000000000",
          "2024-04-30T01:00:00.000000000",
          "2024-04-30T01:15:00.000000000",
          "2024-04-30T01:30:00.000000000",
          "2024-04-30T01:45:00.000000000",
          "2024-04-30T02:00:00.000000000",
          "2024-04-30T02:15:00.000000000",
          "2024-04-30T02:30:00.000000000",
          "2024-04-30T02:45:00.000000000",
          "2024-04-30T03:00:00.000000000",
          "2024-04-30T03:15:00.000000000",
          "2024-04-30T03:30:00.000000000",
          "2024-04-30T03:45:00.000000000",
          "2024-04-30T04:00:00.000000000",
          "2024-04-30T04:15:00.000000000",
          "2024-04-30T04:30:00.000000000",
          "2024-04-30T04:45:00.000000000",
          "2024-04-30T05:00:00.000000000",
          "2024-04-30T05:15:00.000000000",
          "2024-04-30T05:30:00.000000000",
          "2024-04-30T05:45:00.000000000",
          "2024-04-30T06:00:00.000000000",
          "2024-04-30T06:15:00.000000000",
          "2024-04-30T06:30:00.000000000",
          "2024-04-30T06:45:00.000000000",
          "2024-04-30T07:00:00.000000000",
          "2024-04-30T07:15:00.000000000",
          "2024-04-30T07:30:00.000000000",
          "2024-04-30T07:45:00.000000000",
          "2024-04-30T08:00:00.000000000",
          "2024-04-30T08:15:00.000000000",
          "2024-04-30T08:30:00.000000000",
          "2024-04-30T08:45:00.000000000",
          "2024-04-30T09:00:00.000000000",
          "2024-04-30T09:15:00.000000000",
          "2024-04-30T09:30:00.000000000",
          "2024-04-30T09:45:00.000000000",
          "2024-04-30T10:00:00.000000000",
          "2024-04-30T10:15:00.000000000",
          "2024-04-30T10:30:00.000000000",
          "2024-04-30T10:45:00.000000000",
          "2024-04-30T11:00:00.000000000",
          "2024-04-30T11:15:00.000000000",
          "2024-04-30T11:30:00.000000000",
          "2024-04-30T11:45:00.000000000",
          "2024-04-30T12:00:00.000000000",
          "2024-04-30T12:15:00.000000000",
          "2024-04-30T12:30:00.000000000",
          "2024-04-30T12:45:00.000000000",
          "2024-04-30T13:00:00.000000000",
          "2024-04-30T13:15:00.000000000",
          "2024-04-30T13:30:00.000000000",
          "2024-04-30T13:45:00.000000000",
          "2024-04-30T14:00:00.000000000",
          "2024-04-30T14:15:00.000000000",
          "2024-04-30T14:30:00.000000000",
          "2024-04-30T14:45:00.000000000",
          "2024-04-30T15:00:00.000000000",
          "2024-04-30T15:15:00.000000000",
          "2024-04-30T15:30:00.000000000",
          "2024-04-30T15:45:00.000000000",
          "2024-04-30T16:00:00.000000000",
          "2024-04-30T16:15:00.000000000",
          "2024-04-30T16:30:00.000000000",
          "2024-04-30T16:45:00.000000000",
          "2024-04-30T17:00:00.000000000",
          "2024-04-30T17:15:00.000000000",
          "2024-04-30T17:30:00.000000000",
          "2024-04-30T17:45:00.000000000",
          "2024-04-30T18:00:00.000000000",
          "2024-04-30T18:15:00.000000000",
          "2024-04-30T18:30:00.000000000",
          "2024-04-30T18:45:00.000000000",
          "2024-04-30T19:00:00.000000000",
          "2024-04-30T19:15:00.000000000",
          "2024-04-30T19:30:00.000000000",
          "2024-04-30T19:45:00.000000000",
          "2024-04-30T20:00:00.000000000",
          "2024-04-30T20:15:00.000000000",
          "2024-04-30T20:30:00.000000000",
          "2024-04-30T20:45:00.000000000",
          "2024-04-30T21:00:00.000000000",
          "2024-04-30T21:15:00.000000000",
          "2024-04-30T21:30:00.000000000",
          "2024-04-30T21:45:00.000000000",
          "2024-04-30T22:00:00.000000000",
          "2024-04-30T22:15:00.000000000",
          "2024-04-30T22:30:00.000000000",
          "2024-04-30T22:45:00.000000000",
          "2024-04-30T23:00:00.000000000",
          "2024-04-30T23:15:00.000000000",
          "2024-04-30T23:30:00.000000000",
          "2024-04-30T23:45:00.000000000",
          "2024-05-01T00:00:00.000000000",
          "2024-05-01T00:15:00.000000000",
          "2024-05-01T00:30:00.000000000",
          "2024-05-01T00:45:00.000000000",
          "2024-05-01T01:00:00.000000000",
          "2024-05-01T01:15:00.000000000",
          "2024-05-01T01:30:00.000000000",
          "2024-05-01T01:45:00.000000000",
          "2024-05-01T02:00:00.000000000",
          "2024-05-01T02:15:00.000000000",
          "2024-05-01T02:30:00.000000000",
          "2024-05-01T02:45:00.000000000",
          "2024-05-01T03:00:00.000000000",
          "2024-05-01T03:15:00.000000000",
          "2024-05-01T03:30:00.000000000",
          "2024-05-01T03:45:00.000000000",
          "2024-05-01T04:00:00.000000000",
          "2024-05-01T04:15:00.000000000",
          "2024-05-01T04:30:00.000000000",
          "2024-05-01T04:45:00.000000000",
          "2024-05-01T05:00:00.000000000",
          "2024-05-01T05:15:00.000000000",
          "2024-05-01T05:30:00.000000000",
          "2024-05-01T05:45:00.000000000",
          "2024-05-01T06:00:00.000000000",
          "2024-05-01T06:15:00.000000000",
          "2024-05-01T06:30:00.000000000",
          "2024-05-01T06:45:00.000000000",
          "2024-05-01T07:00:00.000000000",
          "2024-05-01T07:15:00.000000000",
          "2024-05-01T07:30:00.000000000",
          "2024-05-01T07:45:00.000000000",
          "2024-05-01T08:00:00.000000000",
          "2024-05-01T08:15:00.000000000",
          "2024-05-01T08:30:00.000000000",
          "2024-05-01T08:45:00.000000000",
          "2024-05-01T09:00:00.000000000",
          "2024-05-01T09:15:00.000000000",
          "2024-05-01T09:30:00.000000000",
          "2024-05-01T09:45:00.000000000",
          "2024-05-01T10:00:00.000000000",
          "2024-05-01T10:15:00.000000000",
          "2024-05-01T10:30:00.000000000",
          "2024-05-01T10:45:00.000000000",
          "2024-05-01T11:00:00.000000000",
          "2024-05-01T11:15:00.000000000",
          "2024-05-01T11:30:00.000000000",
          "2024-05-01T11:45:00.000000000",
          "2024-05-01T12:00:00.000000000",
          "2024-05-01T12:15:00.000000000",
          "2024-05-01T12:30:00.000000000",
          "2024-05-01T12:45:00.000000000",
          "2024-05-01T13:00:00.000000000",
          "2024-05-01T13:15:00.000000000",
          "2024-05-01T13:30:00.000000000",
          "2024-05-01T13:45:00.000000000",
          "2024-05-01T14:00:00.000000000",
          "2024-05-01T14:15:00.000000000",
          "2024-05-01T14:30:00.000000000",
          "2024-05-01T14:45:00.000000000",
          "2024-05-01T15:00:00.000000000",
          "2024-05-01T15:15:00.000000000",
          "2024-05-01T15:30:00.000000000",
          "2024-05-01T15:45:00.000000000",
          "2024-05-01T16:00:00.000000000",
          "2024-05-01T16:15:00.000000000",
          "2024-05-01T16:30:00.000000000",
          "2024-05-01T16:45:00.000000000",
          "2024-05-01T17:00:00.000000000",
          "2024-05-01T17:15:00.000000000",
          "2024-05-01T17:30:00.000000000",
          "2024-05-01T17:45:00.000000000",
          "2024-05-01T18:00:00.000000000",
          "2024-05-01T18:15:00.000000000",
          "2024-05-01T18:30:00.000000000",
          "2024-05-01T18:45:00.000000000",
          "2024-05-01T19:00:00.000000000",
          "2024-05-01T19:15:00.000000000",
          "2024-05-01T19:30:00.000000000",
          "2024-05-01T19:45:00.000000000",
          "2024-05-01T20:00:00.000000000",
          "2024-05-01T20:15:00.000000000",
          "2024-05-01T20:30:00.000000000",
          "2024-05-01T20:45:00.000000000",
          "2024-05-01T21:00:00.000000000",
          "2024-05-01T21:15:00.000000000",
          "2024-05-01T21:30:00.000000000",
          "2024-05-01T21:45:00.000000000",
          "2024-05-01T22:00:00.000000000",
          "2024-05-01T22:15:00.000000000",
          "2024-05-01T22:30:00.000000000",
          "2024-05-01T22:45:00.000000000",
          "2024-05-01T23:00:00.000000000",
          "2024-05-01T23:15:00.000000000",
          "2024-05-01T23:30:00.000000000",
          "2024-05-01T23:45:00.000000000",
          "2024-05-02T00:00:00.000000000",
          "2024-05-02T00:15:00.000000000",
          "2024-05-02T00:30:00.000000000",
          "2024-05-02T00:45:00.000000000",
          "2024-05-02T01:00:00.000000000",
          "2024-05-02T01:15:00.000000000",
          "2024-05-02T01:30:00.000000000",
          "2024-05-02T01:45:00.000000000",
          "2024-05-02T02:00:00.000000000",
          "2024-05-02T02:15:00.000000000",
          "2024-05-02T02:30:00.000000000",
          "2024-05-02T02:45:00.000000000",
          "2024-05-02T03:00:00.000000000",
          "2024-05-02T03:15:00.000000000",
          "2024-05-02T03:30:00.000000000",
          "2024-05-02T03:45:00.000000000",
          "2024-05-02T04:00:00.000000000",
          "2024-05-02T04:15:00.000000000",
          "2024-05-02T04:30:00.000000000",
          "2024-05-02T04:45:00.000000000",
          "2024-05-02T05:00:00.000000000",
          "2024-05-02T05:15:00.000000000",
          "2024-05-02T05:30:00.000000000",
          "2024-05-02T05:45:00.000000000",
          "2024-05-02T06:00:00.000000000",
          "2024-05-02T06:15:00.000000000",
          "2024-05-02T06:30:00.000000000",
          "2024-05-02T06:45:00.000000000",
          "2024-05-02T07:00:00.000000000",
          "2024-05-02T07:15:00.000000000",
          "2024-05-02T07:30:00.000000000",
          "2024-05-02T07:45:00.000000000",
          "2024-05-02T08:00:00.000000000",
          "2024-05-02T08:15:00.000000000",
          "2024-05-02T08:30:00.000000000",
          "2024-05-02T08:45:00.000000000",
          "2024-05-02T09:00:00.000000000",
          "2024-05-02T09:15:00.000000000",
          "2024-05-02T09:30:00.000000000",
          "2024-05-02T09:45:00.000000000",
          "2024-05-02T10:00:00.000000000",
          "2024-05-02T10:15:00.000000000",
          "2024-05-02T10:30:00.000000000",
          "2024-05-02T10:45:00.000000000",
          "2024-05-02T11:00:00.000000000",
          "2024-05-02T11:15:00.000000000",
          "2024-05-02T11:30:00.000000000",
          "2024-05-02T11:45:00.000000000",
          "2024-05-02T12:00:00.000000000",
          "2024-05-02T12:15:00.000000000",
          "2024-05-02T12:30:00.000000000",
          "2024-05-02T12:45:00.000000000",
          "2024-05-02T13:00:00.000000000",
          "2024-05-02T13:15:00.000000000",
          "2024-05-02T13:30:00.000000000",
          "2024-05-02T13:45:00.000000000",
          "2024-05-02T14:00:00.000000000",
          "2024-05-02T14:15:00.000000000",
          "2024-05-02T14:30:00.000000000",
          "2024-05-02T14:45:00.000000000",
          "2024-05-02T15:00:00.000000000",
          "2024-05-02T15:15:00.000000000",
          "2024-05-02T15:30:00.000000000",
          "2024-05-02T15:45:00.000000000",
          "2024-05-02T16:00:00.000000000",
          "2024-05-02T16:15:00.000000000",
          "2024-05-02T16:30:00.000000000",
          "2024-05-02T16:45:00.000000000",
          "2024-05-02T17:00:00.000000000",
          "2024-05-02T17:15:00.000000000",
          "2024-05-02T17:30:00.000000000",
          "2024-05-02T17:45:00.000000000",
          "2024-05-02T18:00:00.000000000",
          "2024-05-02T18:15:00.000000000",
          "2024-05-02T18:30:00.000000000",
          "2024-05-02T18:45:00.000000000",
          "2024-05-02T19:00:00.000000000",
          "2024-05-02T19:15:00.000000000",
          "2024-05-02T19:30:00.000000000",
          "2024-05-02T19:45:00.000000000",
          "2024-05-02T20:00:00.000000000",
          "2024-05-02T20:15:00.000000000",
          "2024-05-02T20:30:00.000000000",
          "2024-05-02T20:45:00.000000000",
          "2024-05-02T21:00:00.000000000",
          "2024-05-02T21:15:00.000000000",
          "2024-05-02T21:30:00.000000000",
          "2024-05-02T21:45:00.000000000",
          "2024-05-02T22:00:00.000000000",
          "2024-05-02T22:15:00.000000000",
          "2024-05-02T22:30:00.000000000",
          "2024-05-02T22:45:00.000000000",
          "2024-05-02T23:00:00.000000000",
          "2024-05-02T23:15:00.000000000",
          "2024-05-02T23:30:00.000000000",
          "2024-05-02T23:45:00.000000000",
          "2024-05-03T00:00:00.000000000",
          "2024-05-03T00:15:00.000000000",
          "2024-05-03T00:30:00.000000000",
          "2024-05-03T00:45:00.000000000",
          "2024-05-03T01:00:00.000000000",
          "2024-05-03T01:15:00.000000000",
          "2024-05-03T01:30:00.000000000",
          "2024-05-03T01:45:00.000000000",
          "2024-05-03T02:00:00.000000000",
          "2024-05-03T02:15:00.000000000",
          "2024-05-03T02:30:00.000000000",
          "2024-05-03T02:45:00.000000000",
          "2024-05-03T03:00:00.000000000",
          "2024-05-03T03:15:00.000000000",
          "2024-05-03T03:30:00.000000000",
          "2024-05-03T03:45:00.000000000",
          "2024-05-03T04:00:00.000000000",
          "2024-05-03T04:15:00.000000000",
          "2024-05-03T04:30:00.000000000",
          "2024-05-03T04:45:00.000000000",
          "2024-05-03T05:00:00.000000000",
          "2024-05-03T05:15:00.000000000",
          "2024-05-03T05:30:00.000000000",
          "2024-05-03T05:45:00.000000000",
          "2024-05-03T06:00:00.000000000",
          "2024-05-03T06:15:00.000000000",
          "2024-05-03T06:30:00.000000000",
          "2024-05-03T06:45:00.000000000",
          "2024-05-03T07:00:00.000000000",
          "2024-05-03T07:15:00.000000000",
          "2024-05-03T07:30:00.000000000",
          "2024-05-03T07:45:00.000000000",
          "2024-05-03T08:00:00.000000000",
          "2024-05-03T08:15:00.000000000",
          "2024-05-03T08:30:00.000000000",
          "2024-05-03T08:45:00.000000000",
          "2024-05-03T09:00:00.000000000",
          "2024-05-03T09:15:00.000000000",
          "2024-05-03T09:30:00.000000000",
          "2024-05-03T09:45:00.000000000",
          "2024-05-03T10:00:00.000000000",
          "2024-05-03T10:15:00.000000000",
          "2024-05-03T10:30:00.000000000",
          "2024-05-03T10:45:00.000000000",
          "2024-05-03T11:00:00.000000000",
          "2024-05-03T11:15:00.000000000",
          "2024-05-03T11:30:00.000000000",
          "2024-05-03T11:45:00.000000000",
          "2024-05-03T12:00:00.000000000",
          "2024-05-03T12:15:00.000000000",
          "2024-05-03T12:30:00.000000000",
          "2024-05-03T12:45:00.000000000",
          "2024-05-03T13:00:00.000000000",
          "2024-05-03T13:15:00.000000000",
          "2024-05-03T13:30:00.000000000",
          "2024-05-03T13:45:00.000000000",
          "2024-05-03T14:00:00.000000000",
          "2024-05-03T14:15:00.000000000",
          "2024-05-03T14:30:00.000000000",
          "2024-05-03T14:45:00.000000000",
          "2024-05-03T15:00:00.000000000",
          "2024-05-03T15:15:00.000000000",
          "2024-05-03T15:30:00.000000000",
          "2024-05-03T15:45:00.000000000",
          "2024-05-03T16:00:00.000000000",
          "2024-05-03T16:15:00.000000000",
          "2024-05-03T16:30:00.000000000",
          "2024-05-03T16:45:00.000000000",
          "2024-05-03T17:00:00.000000000",
          "2024-05-03T17:15:00.000000000",
          "2024-05-03T17:30:00.000000000",
          "2024-05-03T17:45:00.000000000",
          "2024-05-03T18:00:00.000000000",
          "2024-05-03T18:15:00.000000000",
          "2024-05-03T18:30:00.000000000",
          "2024-05-03T18:45:00.000000000",
          "2024-05-03T19:00:00.000000000",
          "2024-05-03T19:15:00.000000000",
          "2024-05-03T19:30:00.000000000",
          "2024-05-03T19:45:00.000000000",
          "2024-05-03T20:00:00.000000000",
          "2024-05-03T20:15:00.000000000",
          "2024-05-03T20:30:00.000000000",
          "2024-05-03T20:45:00.000000000",
          "2024-05-03T21:00:00.000000000",
          "2024-05-03T21:15:00.000000000",
          "2024-05-03T21:30:00.000000000",
          "2024-05-03T21:45:00.000000000",
          "2024-05-03T22:00:00.000000000",
          "2024-05-03T22:15:00.000000000",
          "2024-05-03T22:30:00.000000000",
          "2024-05-03T22:45:00.000000000",
          "2024-05-03T23:00:00.000000000",
          "2024-05-03T23:15:00.000000000",
          "2024-05-03T23:30:00.000000000",
          "2024-05-03T23:45:00.000000000",
          "2024-05-04T00:00:00.000000000",
          "2024-05-04T00:15:00.000000000",
          "2024-05-04T00:30:00.000000000",
          "2024-05-04T00:45:00.000000000",
          "2024-05-04T01:00:00.000000000",
          "2024-05-04T01:15:00.000000000",
          "2024-05-04T01:30:00.000000000",
          "2024-05-04T01:45:00.000000000",
          "2024-05-04T02:00:00.000000000",
          "2024-05-04T02:15:00.000000000",
          "2024-05-04T02:30:00.000000000",
          "2024-05-04T02:45:00.000000000",
          "2024-05-04T03:00:00.000000000",
          "2024-05-04T03:15:00.000000000",
          "2024-05-04T03:30:00.000000000",
          "2024-05-04T03:45:00.000000000",
          "2024-05-04T04:00:00.000000000",
          "2024-05-04T04:15:00.000000000",
          "2024-05-04T04:30:00.000000000",
          "2024-05-04T04:45:00.000000000",
          "2024-05-04T05:00:00.000000000",
          "2024-05-04T05:15:00.000000000",
          "2024-05-04T05:30:00.000000000",
          "2024-05-04T05:45:00.000000000",
          "2024-05-04T06:00:00.000000000",
          "2024-05-04T06:15:00.000000000",
          "2024-05-04T06:30:00.000000000",
          "2024-05-04T06:45:00.000000000",
          "2024-05-04T07:00:00.000000000",
          "2024-05-04T07:15:00.000000000",
          "2024-05-04T07:30:00.000000000",
          "2024-05-04T07:45:00.000000000",
          "2024-05-04T08:00:00.000000000",
          "2024-05-04T08:15:00.000000000",
          "2024-05-04T08:30:00.000000000",
          "2024-05-04T08:45:00.000000000",
          "2024-05-04T09:00:00.000000000",
          "2024-05-04T09:15:00.000000000",
          "2024-05-04T09:30:00.000000000",
          "2024-05-04T09:45:00.000000000",
          "2024-05-04T10:00:00.000000000",
          "2024-05-04T10:15:00.000000000",
          "2024-05-04T10:30:00.000000000",
          "2024-05-04T10:45:00.000000000",
          "2024-05-04T11:00:00.000000000",
          "2024-05-04T11:15:00.000000000",
          "2024-05-04T11:30:00.000000000",
          "2024-05-04T11:45:00.000000000",
          "2024-05-04T12:00:00.000000000",
          "2024-05-04T12:15:00.000000000",
          "2024-05-04T12:30:00.000000000",
          "2024-05-04T12:45:00.000000000",
          "2024-05-04T13:00:00.000000000",
          "2024-05-04T13:15:00.000000000"
         ],
         "xaxis": "x",
         "y": {
          "bdata": "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",
          "dtype": "f8"
         },
         "yaxis": "y"
        },
        {
         "fill": "tozeroy",
         "line": {
          "color": "red"
         },
         "name": "Drawdown %",
         "type": "scatter",
         "x": [
          "2024-04-29T08:30:00.000000000",
          "2024-04-29T08:45:00.000000000",
          "2024-04-29T09:00:00.000000000",
          "2024-04-29T09:15:00.000000000",
          "2024-04-29T09:30:00.000000000",
          "2024-04-29T09:45:00.000000000",
          "2024-04-29T10:00:00.000000000",
          "2024-04-29T10:15:00.000000000",
          "2024-04-29T10:30:00.000000000",
          "2024-04-29T10:45:00.000000000",
          "2024-04-29T11:00:00.000000000",
          "2024-04-29T11:15:00.000000000",
          "2024-04-29T11:30:00.000000000",
          "2024-04-29T11:45:00.000000000",
          "2024-04-29T12:00:00.000000000",
          "2024-04-29T12:15:00.000000000",
          "2024-04-29T12:30:00.000000000",
          "2024-04-29T12:45:00.000000000",
          "2024-04-29T13:00:00.000000000",
          "2024-04-29T13:15:00.000000000",
          "2024-04-29T13:30:00.000000000",
          "2024-04-29T13:45:00.000000000",
          "2024-04-29T14:00:00.000000000",
          "2024-04-29T14:15:00.000000000",
          "2024-04-29T14:30:00.000000000",
          "2024-04-29T14:45:00.000000000",
          "2024-04-29T15:00:00.000000000",
          "2024-04-29T15:15:00.000000000",
          "2024-04-29T15:30:00.000000000",
          "2024-04-29T15:45:00.000000000",
          "2024-04-29T16:00:00.000000000",
          "2024-04-29T16:15:00.000000000",
          "2024-04-29T16:30:00.000000000",
          "2024-04-29T16:45:00.000000000",
          "2024-04-29T17:00:00.000000000",
          "2024-04-29T17:15:00.000000000",
          "2024-04-29T17:30:00.000000000",
          "2024-04-29T17:45:00.000000000",
          "2024-04-29T18:00:00.000000000",
          "2024-04-29T18:15:00.000000000",
          "2024-04-29T18:30:00.000000000",
          "2024-04-29T18:45:00.000000000",
          "2024-04-29T19:00:00.000000000",
          "2024-04-29T19:15:00.000000000",
          "2024-04-29T19:30:00.000000000",
          "2024-04-29T19:45:00.000000000",
          "2024-04-29T20:00:00.000000000",
          "2024-04-29T20:15:00.000000000",
          "2024-04-29T20:30:00.000000000",
          "2024-04-29T20:45:00.000000000",
          "2024-04-29T21:00:00.000000000",
          "2024-04-29T21:15:00.000000000",
          "2024-04-29T21:30:00.000000000",
          "2024-04-29T21:45:00.000000000",
          "2024-04-29T22:00:00.000000000",
          "2024-04-29T22:15:00.000000000",
          "2024-04-29T22:30:00.000000000",
          "2024-04-29T22:45:00.000000000",
          "2024-04-29T23:00:00.000000000",
          "2024-04-29T23:15:00.000000000",
          "2024-04-29T23:30:00.000000000",
          "2024-04-29T23:45:00.000000000",
          "2024-04-30T00:00:00.000000000",
          "2024-04-30T00:15:00.000000000",
          "2024-04-30T00:30:00.000000000",
          "2024-04-30T00:45:00.000000000",
          "2024-04-30T01:00:00.000000000",
          "2024-04-30T01:15:00.000000000",
          "2024-04-30T01:30:00.000000000",
          "2024-04-30T01:45:00.000000000",
          "2024-04-30T02:00:00.000000000",
          "2024-04-30T02:15:00.000000000",
          "2024-04-30T02:30:00.000000000",
          "2024-04-30T02:45:00.000000000",
          "2024-04-30T03:00:00.000000000",
          "2024-04-30T03:15:00.000000000",
          "2024-04-30T03:30:00.000000000",
          "2024-04-30T03:45:00.000000000",
          "2024-04-30T04:00:00.000000000",
          "2024-04-30T04:15:00.000000000",
          "2024-04-30T04:30:00.000000000",
          "2024-04-30T04:45:00.000000000",
          "2024-04-30T05:00:00.000000000",
          "2024-04-30T05:15:00.000000000",
          "2024-04-30T05:30:00.000000000",
          "2024-04-30T05:45:00.000000000",
          "2024-04-30T06:00:00.000000000",
          "2024-04-30T06:15:00.000000000",
          "2024-04-30T06:30:00.000000000",
          "2024-04-30T06:45:00.000000000",
          "2024-04-30T07:00:00.000000000",
          "2024-04-30T07:15:00.000000000",
          "2024-04-30T07:30:00.000000000",
          "2024-04-30T07:45:00.000000000",
          "2024-04-30T08:00:00.000000000",
          "2024-04-30T08:15:00.000000000",
          "2024-04-30T08:30:00.000000000",
          "2024-04-30T08:45:00.000000000",
          "2024-04-30T09:00:00.000000000",
          "2024-04-30T09:15:00.000000000",
          "2024-04-30T09:30:00.000000000",
          "2024-04-30T09:45:00.000000000",
          "2024-04-30T10:00:00.000000000",
          "2024-04-30T10:15:00.000000000",
          "2024-04-30T10:30:00.000000000",
          "2024-04-30T10:45:00.000000000",
          "2024-04-30T11:00:00.000000000",
          "2024-04-30T11:15:00.000000000",
          "2024-04-30T11:30:00.000000000",
          "2024-04-30T11:45:00.000000000",
          "2024-04-30T12:00:00.000000000",
          "2024-04-30T12:15:00.000000000",
          "2024-04-30T12:30:00.000000000",
          "2024-04-30T12:45:00.000000000",
          "2024-04-30T13:00:00.000000000",
          "2024-04-30T13:15:00.000000000",
          "2024-04-30T13:30:00.000000000",
          "2024-04-30T13:45:00.000000000",
          "2024-04-30T14:00:00.000000000",
          "2024-04-30T14:15:00.000000000",
          "2024-04-30T14:30:00.000000000",
          "2024-04-30T14:45:00.000000000",
          "2024-04-30T15:00:00.000000000",
          "2024-04-30T15:15:00.000000000",
          "2024-04-30T15:30:00.000000000",
          "2024-04-30T15:45:00.000000000",
          "2024-04-30T16:00:00.000000000",
          "2024-04-30T16:15:00.000000000",
          "2024-04-30T16:30:00.000000000",
          "2024-04-30T16:45:00.000000000",
          "2024-04-30T17:00:00.000000000",
          "2024-04-30T17:15:00.000000000",
          "2024-04-30T17:30:00.000000000",
          "2024-04-30T17:45:00.000000000",
          "2024-04-30T18:00:00.000000000",
          "2024-04-30T18:15:00.000000000",
          "2024-04-30T18:30:00.000000000",
          "2024-04-30T18:45:00.000000000",
          "2024-04-30T19:00:00.000000000",
          "2024-04-30T19:15:00.000000000",
          "2024-04-30T19:30:00.000000000",
          "2024-04-30T19:45:00.000000000",
          "2024-04-30T20:00:00.000000000",
          "2024-04-30T20:15:00.000000000",
          "2024-04-30T20:30:00.000000000",
          "2024-04-30T20:45:00.000000000",
          "2024-04-30T21:00:00.000000000",
          "2024-04-30T21:15:00.000000000",
          "2024-04-30T21:30:00.000000000",
          "2024-04-30T21:45:00.000000000",
          "2024-04-30T22:00:00.000000000",
          "2024-04-30T22:15:00.000000000",
          "2024-04-30T22:30:00.000000000",
          "2024-04-30T22:45:00.000000000",
          "2024-04-30T23:00:00.000000000",
          "2024-04-30T23:15:00.000000000",
          "2024-04-30T23:30:00.000000000",
          "2024-04-30T23:45:00.000000000",
          "2024-05-01T00:00:00.000000000",
          "2024-05-01T00:15:00.000000000",
          "2024-05-01T00:30:00.000000000",
          "2024-05-01T00:45:00.000000000",
          "2024-05-01T01:00:00.000000000",
          "2024-05-01T01:15:00.000000000",
          "2024-05-01T01:30:00.000000000",
          "2024-05-01T01:45:00.000000000",
          "2024-05-01T02:00:00.000000000",
          "2024-05-01T02:15:00.000000000",
          "2024-05-01T02:30:00.000000000",
          "2024-05-01T02:45:00.000000000",
          "2024-05-01T03:00:00.000000000",
          "2024-05-01T03:15:00.000000000",
          "2024-05-01T03:30:00.000000000",
          "2024-05-01T03:45:00.000000000",
          "2024-05-01T04:00:00.000000000",
          "2024-05-01T04:15:00.000000000",
          "2024-05-01T04:30:00.000000000",
          "2024-05-01T04:45:00.000000000",
          "2024-05-01T05:00:00.000000000",
          "2024-05-01T05:15:00.000000000",
          "2024-05-01T05:30:00.000000000",
          "2024-05-01T05:45:00.000000000",
          "2024-05-01T06:00:00.000000000",
          "2024-05-01T06:15:00.000000000",
          "2024-05-01T06:30:00.000000000",
          "2024-05-01T06:45:00.000000000",
          "2024-05-01T07:00:00.000000000",
          "2024-05-01T07:15:00.000000000",
          "2024-05-01T07:30:00.000000000",
          "2024-05-01T07:45:00.000000000",
          "2024-05-01T08:00:00.000000000",
          "2024-05-01T08:15:00.000000000",
          "2024-05-01T08:30:00.000000000",
          "2024-05-01T08:45:00.000000000",
          "2024-05-01T09:00:00.000000000",
          "2024-05-01T09:15:00.000000000",
          "2024-05-01T09:30:00.000000000",
          "2024-05-01T09:45:00.000000000",
          "2024-05-01T10:00:00.000000000",
          "2024-05-01T10:15:00.000000000",
          "2024-05-01T10:30:00.000000000",
          "2024-05-01T10:45:00.000000000",
          "2024-05-01T11:00:00.000000000",
          "2024-05-01T11:15:00.000000000",
          "2024-05-01T11:30:00.000000000",
          "2024-05-01T11:45:00.000000000",
          "2024-05-01T12:00:00.000000000",
          "2024-05-01T12:15:00.000000000",
          "2024-05-01T12:30:00.000000000",
          "2024-05-01T12:45:00.000000000",
          "2024-05-01T13:00:00.000000000",
          "2024-05-01T13:15:00.000000000",
          "2024-05-01T13:30:00.000000000",
          "2024-05-01T13:45:00.000000000",
          "2024-05-01T14:00:00.000000000",
          "2024-05-01T14:15:00.000000000",
          "2024-05-01T14:30:00.000000000",
          "2024-05-01T14:45:00.000000000",
          "2024-05-01T15:00:00.000000000",
          "2024-05-01T15:15:00.000000000",
          "2024-05-01T15:30:00.000000000",
          "2024-05-01T15:45:00.000000000",
          "2024-05-01T16:00:00.000000000",
          "2024-05-01T16:15:00.000000000",
          "2024-05-01T16:30:00.000000000",
          "2024-05-01T16:45:00.000000000",
          "2024-05-01T17:00:00.000000000",
          "2024-05-01T17:15:00.000000000",
          "2024-05-01T17:30:00.000000000",
          "2024-05-01T17:45:00.000000000",
          "2024-05-01T18:00:00.000000000",
          "2024-05-01T18:15:00.000000000",
          "2024-05-01T18:30:00.000000000",
          "2024-05-01T18:45:00.000000000",
          "2024-05-01T19:00:00.000000000",
          "2024-05-01T19:15:00.000000000",
          "2024-05-01T19:30:00.000000000",
          "2024-05-01T19:45:00.000000000",
          "2024-05-01T20:00:00.000000000",
          "2024-05-01T20:15:00.000000000",
          "2024-05-01T20:30:00.000000000",
          "2024-05-01T20:45:00.000000000",
          "2024-05-01T21:00:00.000000000",
          "2024-05-01T21:15:00.000000000",
          "2024-05-01T21:30:00.000000000",
          "2024-05-01T21:45:00.000000000",
          "2024-05-01T22:00:00.000000000",
          "2024-05-01T22:15:00.000000000",
          "2024-05-01T22:30:00.000000000",
          "2024-05-01T22:45:00.000000000",
          "2024-05-01T23:00:00.000000000",
          "2024-05-01T23:15:00.000000000",
          "2024-05-01T23:30:00.000000000",
          "2024-05-01T23:45:00.000000000",
          "2024-05-02T00:00:00.000000000",
          "2024-05-02T00:15:00.000000000",
          "2024-05-02T00:30:00.000000000",
          "2024-05-02T00:45:00.000000000",
          "2024-05-02T01:00:00.000000000",
          "2024-05-02T01:15:00.000000000",
          "2024-05-02T01:30:00.000000000",
          "2024-05-02T01:45:00.000000000",
          "2024-05-02T02:00:00.000000000",
          "2024-05-02T02:15:00.000000000",
          "2024-05-02T02:30:00.000000000",
          "2024-05-02T02:45:00.000000000",
          "2024-05-02T03:00:00.000000000",
          "2024-05-02T03:15:00.000000000",
          "2024-05-02T03:30:00.000000000",
          "2024-05-02T03:45:00.000000000",
          "2024-05-02T04:00:00.000000000",
          "2024-05-02T04:15:00.000000000",
          "2024-05-02T04:30:00.000000000",
          "2024-05-02T04:45:00.000000000",
          "2024-05-02T05:00:00.000000000",
          "2024-05-02T05:15:00.000000000",
          "2024-05-02T05:30:00.000000000",
          "2024-05-02T05:45:00.000000000",
          "2024-05-02T06:00:00.000000000",
          "2024-05-02T06:15:00.000000000",
          "2024-05-02T06:30:00.000000000",
          "2024-05-02T06:45:00.000000000",
          "2024-05-02T07:00:00.000000000",
          "2024-05-02T07:15:00.000000000",
          "2024-05-02T07:30:00.000000000",
          "2024-05-02T07:45:00.000000000",
          "2024-05-02T08:00:00.000000000",
          "2024-05-02T08:15:00.000000000",
          "2024-05-02T08:30:00.000000000",
          "2024-05-02T08:45:00.000000000",
          "2024-05-02T09:00:00.000000000",
          "2024-05-02T09:15:00.000000000",
          "2024-05-02T09:30:00.000000000",
          "2024-05-02T09:45:00.000000000",
          "2024-05-02T10:00:00.000000000",
          "2024-05-02T10:15:00.000000000",
          "2024-05-02T10:30:00.000000000",
          "2024-05-02T10:45:00.000000000",
          "2024-05-02T11:00:00.000000000",
          "2024-05-02T11:15:00.000000000",
          "2024-05-02T11:30:00.000000000",
          "2024-05-02T11:45:00.000000000",
          "2024-05-02T12:00:00.000000000",
          "2024-05-02T12:15:00.000000000",
          "2024-05-02T12:30:00.000000000",
          "2024-05-02T12:45:00.000000000",
          "2024-05-02T13:00:00.000000000",
          "2024-05-02T13:15:00.000000000",
          "2024-05-02T13:30:00.000000000",
          "2024-05-02T13:45:00.000000000",
          "2024-05-02T14:00:00.000000000",
          "2024-05-02T14:15:00.000000000",
          "2024-05-02T14:30:00.000000000",
          "2024-05-02T14:45:00.000000000",
          "2024-05-02T15:00:00.000000000",
          "2024-05-02T15:15:00.000000000",
          "2024-05-02T15:30:00.000000000",
          "2024-05-02T15:45:00.000000000",
          "2024-05-02T16:00:00.000000000",
          "2024-05-02T16:15:00.000000000",
          "2024-05-02T16:30:00.000000000",
          "2024-05-02T16:45:00.000000000",
          "2024-05-02T17:00:00.000000000",
          "2024-05-02T17:15:00.000000000",
          "2024-05-02T17:30:00.000000000",
          "2024-05-02T17:45:00.000000000",
          "2024-05-02T18:00:00.000000000",
          "2024-05-02T18:15:00.000000000",
          "2024-05-02T18:30:00.000000000",
          "2024-05-02T18:45:00.000000000",
          "2024-05-02T19:00:00.000000000",
          "2024-05-02T19:15:00.000000000",
          "2024-05-02T19:30:00.000000000",
          "2024-05-02T19:45:00.000000000",
          "2024-05-02T20:00:00.000000000",
          "2024-05-02T20:15:00.000000000",
          "2024-05-02T20:30:00.000000000",
          "2024-05-02T20:45:00.000000000",
          "2024-05-02T21:00:00.000000000",
          "2024-05-02T21:15:00.000000000",
          "2024-05-02T21:30:00.000000000",
          "2024-05-02T21:45:00.000000000",
          "2024-05-02T22:00:00.000000000",
          "2024-05-02T22:15:00.000000000",
          "2024-05-02T22:30:00.000000000",
          "2024-05-02T22:45:00.000000000",
          "2024-05-02T23:00:00.000000000",
          "2024-05-02T23:15:00.000000000",
          "2024-05-02T23:30:00.000000000",
          "2024-05-02T23:45:00.000000000",
          "2024-05-03T00:00:00.000000000",
          "2024-05-03T00:15:00.000000000",
          "2024-05-03T00:30:00.000000000",
          "2024-05-03T00:45:00.000000000",
          "2024-05-03T01:00:00.000000000",
          "2024-05-03T01:15:00.000000000",
          "2024-05-03T01:30:00.000000000",
          "2024-05-03T01:45:00.000000000",
          "2024-05-03T02:00:00.000000000",
          "2024-05-03T02:15:00.000000000",
          "2024-05-03T02:30:00.000000000",
          "2024-05-03T02:45:00.000000000",
          "2024-05-03T03:00:00.000000000",
          "2024-05-03T03:15:00.000000000",
          "2024-05-03T03:30:00.000000000",
          "2024-05-03T03:45:00.000000000",
          "2024-05-03T04:00:00.000000000",
          "2024-05-03T04:15:00.000000000",
          "2024-05-03T04:30:00.000000000",
          "2024-05-03T04:45:00.000000000",
          "2024-05-03T05:00:00.000000000",
          "2024-05-03T05:15:00.000000000",
          "2024-05-03T05:30:00.000000000",
          "2024-05-03T05:45:00.000000000",
          "2024-05-03T06:00:00.000000000",
          "2024-05-03T06:15:00.000000000",
          "2024-05-03T06:30:00.000000000",
          "2024-05-03T06:45:00.000000000",
          "2024-05-03T07:00:00.000000000",
          "2024-05-03T07:15:00.000000000",
          "2024-05-03T07:30:00.000000000",
          "2024-05-03T07:45:00.000000000",
          "2024-05-03T08:00:00.000000000",
          "2024-05-03T08:15:00.000000000",
          "2024-05-03T08:30:00.000000000",
          "2024-05-03T08:45:00.000000000",
          "2024-05-03T09:00:00.000000000",
          "2024-05-03T09:15:00.000000000",
          "2024-05-03T09:30:00.000000000",
          "2024-05-03T09:45:00.000000000",
          "2024-05-03T10:00:00.000000000",
          "2024-05-03T10:15:00.000000000",
          "2024-05-03T10:30:00.000000000",
          "2024-05-03T10:45:00.000000000",
          "2024-05-03T11:00:00.000000000",
          "2024-05-03T11:15:00.000000000",
          "2024-05-03T11:30:00.000000000",
          "2024-05-03T11:45:00.000000000",
          "2024-05-03T12:00:00.000000000",
          "2024-05-03T12:15:00.000000000",
          "2024-05-03T12:30:00.000000000",
          "2024-05-03T12:45:00.000000000",
          "2024-05-03T13:00:00.000000000",
          "2024-05-03T13:15:00.000000000",
          "2024-05-03T13:30:00.000000000",
          "2024-05-03T13:45:00.000000000",
          "2024-05-03T14:00:00.000000000",
          "2024-05-03T14:15:00.000000000",
          "2024-05-03T14:30:00.000000000",
          "2024-05-03T14:45:00.000000000",
          "2024-05-03T15:00:00.000000000",
          "2024-05-03T15:15:00.000000000",
          "2024-05-03T15:30:00.000000000",
          "2024-05-03T15:45:00.000000000",
          "2024-05-03T16:00:00.000000000",
          "2024-05-03T16:15:00.000000000",
          "2024-05-03T16:30:00.000000000",
          "2024-05-03T16:45:00.000000000",
          "2024-05-03T17:00:00.000000000",
          "2024-05-03T17:15:00.000000000",
          "2024-05-03T17:30:00.000000000",
          "2024-05-03T17:45:00.000000000",
          "2024-05-03T18:00:00.000000000",
          "2024-05-03T18:15:00.000000000",
          "2024-05-03T18:30:00.000000000",
          "2024-05-03T18:45:00.000000000",
          "2024-05-03T19:00:00.000000000",
          "2024-05-03T19:15:00.000000000",
          "2024-05-03T19:30:00.000000000",
          "2024-05-03T19:45:00.000000000",
          "2024-05-03T20:00:00.000000000",
          "2024-05-03T20:15:00.000000000",
          "2024-05-03T20:30:00.000000000",
          "2024-05-03T20:45:00.000000000",
          "2024-05-03T21:00:00.000000000",
          "2024-05-03T21:15:00.000000000",
          "2024-05-03T21:30:00.000000000",
          "2024-05-03T21:45:00.000000000",
          "2024-05-03T22:00:00.000000000",
          "2024-05-03T22:15:00.000000000",
          "2024-05-03T22:30:00.000000000",
          "2024-05-03T22:45:00.000000000",
          "2024-05-03T23:00:00.000000000",
          "2024-05-03T23:15:00.000000000",
          "2024-05-03T23:30:00.000000000",
          "2024-05-03T23:45:00.000000000",
          "2024-05-04T00:00:00.000000000",
          "2024-05-04T00:15:00.000000000",
          "2024-05-04T00:30:00.000000000",
          "2024-05-04T00:45:00.000000000",
          "2024-05-04T01:00:00.000000000",
          "2024-05-04T01:15:00.000000000",
          "2024-05-04T01:30:00.000000000",
          "2024-05-04T01:45:00.000000000",
          "2024-05-04T02:00:00.000000000",
          "2024-05-04T02:15:00.000000000",
          "2024-05-04T02:30:00.000000000",
          "2024-05-04T02:45:00.000000000",
          "2024-05-04T03:00:00.000000000",
          "2024-05-04T03:15:00.000000000",
          "2024-05-04T03:30:00.000000000",
          "2024-05-04T03:45:00.000000000",
          "2024-05-04T04:00:00.000000000",
          "2024-05-04T04:15:00.000000000",
          "2024-05-04T04:30:00.000000000",
          "2024-05-04T04:45:00.000000000",
          "2024-05-04T05:00:00.000000000",
          "2024-05-04T05:15:00.000000000",
          "2024-05-04T05:30:00.000000000",
          "2024-05-04T05:45:00.000000000",
          "2024-05-04T06:00:00.000000000",
          "2024-05-04T06:15:00.000000000",
          "2024-05-04T06:30:00.000000000",
          "2024-05-04T06:45:00.000000000",
          "2024-05-04T07:00:00.000000000",
          "2024-05-04T07:15:00.000000000",
          "2024-05-04T07:30:00.000000000",
          "2024-05-04T07:45:00.000000000",
          "2024-05-04T08:00:00.000000000",
          "2024-05-04T08:15:00.000000000",
          "2024-05-04T08:30:00.000000000",
          "2024-05-04T08:45:00.000000000",
          "2024-05-04T09:00:00.000000000",
          "2024-05-04T09:15:00.000000000",
          "2024-05-04T09:30:00.000000000",
          "2024-05-04T09:45:00.000000000",
          "2024-05-04T10:00:00.000000000",
          "2024-05-04T10:15:00.000000000",
          "2024-05-04T10:30:00.000000000",
          "2024-05-04T10:45:00.000000000",
          "2024-05-04T11:00:00.000000000",
          "2024-05-04T11:15:00.000000000",
          "2024-05-04T11:30:00.000000000",
          "2024-05-04T11:45:00.000000000",
          "2024-05-04T12:00:00.000000000",
          "2024-05-04T12:15:00.000000000",
          "2024-05-04T12:30:00.000000000",
          "2024-05-04T12:45:00.000000000",
          "2024-05-04T13:00:00.000000000",
          "2024-05-04T13:15:00.000000000"
         ],
         "xaxis": "x2",
         "y": {
          "bdata": "AAAAAAAAAAAAAAAAAAAAAAAAAAAAAAAAAAAAAAAAAAAAAAAAAAAAAAAAAAAAAAAAAAAAAAAAAAAAAAAAAAAAAAAAAAAAAAAAAAAAAAAAAAAAAAAAAAAAAAAAAAAAAAAAAAAAAAAAAAAAAAAAAAAAAAAAAAAAAAAAAAAAAAAAAAAAAAAAAAAAAAAAAAAAAAAAAAAAAAAAAAAAAAAAAAAAAAAAAAAAAAAAAAAAAAAAAAAAAAAAAAAAAAAAAAAAAAAAAAAAAAAAAAAAAAAAAAAAAAAAAAAAAAAAAAAAAAAAAAAAAAAAAAAAAAAAAAAAAAAAAAAAAAAAAAAAAAAAAAAAAAAAAAAAAAAAAAAAAAAAAAAAAAAAAAAAAAAAAAAAAAAAAAAAAAAAAAAAAAAAAAAAAAAAAAAAAAAAAAAAAAAAAAAAAAAAAAAAAAAAAAAAAAAAAAAAAAAAAAAAAAAAAAAAAAAAAAAAAAAAAAAAAAAAAAAAAAAAAAAAAAAAAAAAAAAAAAAAAAAAAAAAAAAAAAAAAAAAAAAAAAAAAAAAAAAAAAAAAAAAAAAAAAAAAAAAAAAAAAAAAAAAAAAAAAAAAAAAAAAAAAAAAAAAAAAAAAAAAAAAAAAAAAAAAAAAAAAAAAAAAAAAAAAAAAAAAAAAAAAAAAAAAAAAAAAAAAAAAAAAAAAAAAAAAAAAAAAAAAAAAAAAAAAAAAAAAAAAAAAAAAAAAAAAAAAAAAAAAAAAAAAAAAAAAAAAAAAAAAAAAAAAAAAAAAAAAAAAAAAAAAAAAAAAAAAAAAAAAAAAAAAAAAAAAAAAAAAAAAAAAAAAAAAAAAAAAAAAAAAAAAAAAAAAAAAAAAAAAAAAAAAAAAAAAAAAAAAAAAAAAAAAAAAAAAAAAAAAAAAAAAAAAAAAAAAAAAAAAAAAAAAAAAAAAAAAAAAAAAAAAAAAAAAAAAAAAAAAAAAAAAAAAAAAAAAAAAAAAAAAAAAAAAAAAAAAAAAAAAAAAAAAAAAAAAAAAAAAAAAAAAAAAAAAAAAAAAAAAAAAAAAAAAAAAAAAAAAAAAAAAAAAAAAAAAAAAAAAAAAAAAAAAAAAAAAAAAAAAAAAAAAAAAAAAAAAAAAAAAAAAAAAAAAAAAAAAAAAAAAAAAAAAAAAAAAAAAAAAAAAAAAAAAAAAAAAAAAAAAAAAAAAAAAAAAAAAAAAAAAAAAAAAAAAAAAAAAAAAAAAAAAAAAAAAAAAAAAAAAAAAAAAAAAAAAAAAAAAAAAAAAAAAAAAAAAAAAAAAAAAAAAAAAAAAAAAAAAAAAAAAAAAAAAAAAAAAAAAAAAAAAAAAAAAAAAAAAAAAAAAAAAAAAAAAAAAAAAAAAAAAAAAAAAAAAAAAAAAAAAAAAAAAAAAAAAAAAAAAAAAAAAAAAAAAAAAAAAAAAAAAAAAAAAAAAAAAAAAAAAAAAAAAAAAAAAAAAAAAAAAAAAAAAAAAAAAAAAAAAAAAAAAAAAAAAAAAOCPzMN4LcO/VJ37qgkj+L+ATj/P4HDiv3ipMLcYH+m/MNHMmeGD2b+o0uzPpcfZv+B6Q6kgl76/AAAAAAAAAABgwsupWtPBv9BfsiDz5NC/AAAAAAAAAAAAAAAAAAAAAPAYSBUQS8G/cI+Sb8si1b/MnYtfUpzhv1iaNjVEddW/8OEUq8uyx7/A60zaNvbIv1htvE6a29O/HFF7xGM247/AzTno2frmv2BRy6Vo8+y/Vre8w1Os978YCWMxA+zpv+A8MUsEyOy/hk03XD5J8b+I61hOLJn/v4plX5bblvu/mPfMbQCZ+b88iex21bP2v9DXkQ2WVfO/YltpwcqX9L8iD0h/0RHwv5R8QL7Uqey/LLfoLZpm6b80tOqgPKnuv7Tu4XUbxeq/SMQZXEqq6r92vVrkn33wv5gQ07l1E/S/bM/aEpKG87+A1390vn3zvwjIsbehs/a/mO9VRMDe+7/kpPhsYdz5v+I96uPslgDAHnFvR9XuDcDC11LL6WYSwIb7sHl4PRTATNgveNumFcCafd7jCqgWwAYUGw5wzxjANOvCzrytGcB3DmsPPdMXwGdQqotnmRbATplsBbUpFsAS0+N8G28WwEpSL7RVLhjAGMAOdKQIGcBayF3P6Q0WwPBXw8Pq+xTAxcZfpUHiE8C+Gh+omcwUwMVYwLa2HBXAw4UbTj26FMDiprj2oAcTwK2unjoPfRHAra6eOg99EcCtrp46D30RwFhOzNDFDxLAbu/YR8LUEsBK52+i4NETwIpZcZVD+RTAYT3P0KF3FsAQma2dIaMWwEf5xtQ0kxXAOOi5969yFcBZ1PV91UYVwAL5pqwTnhjAZsilKN/RF8DgNR/3k58YwF0kXdsWNBnAohd8pRdSGMD1xESDwyEWwJQiHq48UBjAdnvuvpwpGMD+l6dgA/EZwCJV1aY2PBfAlCiT50skF8BFr6+BkKcVwEC1+uT+xhLALhbOuGjWEcBSYrLbQEQKwJTB/iUUrwfAP2sb2C8+DMDZvsnRAncRwFQA5IJBDBXAeHJ0XZrAGMAqDayQg7YXwDI6ZMbWFRbAprKAbjPWFcCWDAKIvREWwJFfsPH8fRXAUNELIKXSEMA5zfLICPoSwAE06EOTdhLAWbJbn+P+EcA25Pd2DdMRwPbeRj8E0BHA2gDPno+mEsAe1crk7oYRwMZtTKMSXRLAZF6rAwvdDsCDf04fHOsOwIBGoAieGRDAYriN2pTmEMBsvcfKsq0TwG1QPNSkZRPA3OkELD/xEsAMvB6FMhQUwCe/z0m0TRfAKD1oHUe2F8BkWY15WRwWwNLfdpuTRBbAqvzRKwnxFcDWk8PMaWUVwM6FR0N1exXApRKVR+jxE8D8yVAQZVQVwMA2HwXRiBXAmNcJadZhFcAoz1MJ2skUwLhnfqgzWRXAtPDVOYTXFcDmvdGGb1YVwCKhvlK2ahbASg2CuuIBFsDH1k/Mf0IVwG2xygernxTA8K8rJ9q3E8AGUBgfqJAUwLBzXraiTxTA1JNC1/5pE8AaX+9if4oTwOy8IU/I6BPAvCJIOw33E8D8XnuOHCwTwL2IHgjsexLAiH/K767nEsAoOK03vvMSwHs1TboyLxPAbDk49yKBE8AGyekF/ZsTwFfCKnceJxPAOJ+KWw4tE8CYhtcJK+YTwGISIXOFkxPANBkbPRgsE8A88BHvrfgQwHMevkkQyA/AAaE8CnKXDMD0OCKyWloMwOz8x/syTgjAUKFE21hJCsAKC4zh4/gIwBFwCd+1ZAzAh8nHx7zDDMAgImmkHRQKwKC3dCJE4gzAEyVrWYjLDcB9m0/GMXwOwKRyrSsiCgvAoqJl4jkcA8CurXCJj9IFwA6tRLrbPQPA9td8WL/MAcC0YfRoPjcCwIVrfrXeEQPAqfYPbbiWBsAlr1QKxI8EwCRwpISQfgXA2KW288RRBsDLphGup2EFwFDeYxs5DQbAAW1bjbwIBsCQHHiKMQsEwDC6r4evwQLANlymoIQjBcAAPHaWkGgDwKSiWMExfwHAxCb5QqUoBcA7iMmxw0MEwGESiu+BYwTAeu39OIbsAcDthKNHXLcBwB5ShMqEFQXAiszjLJeZB8BvHy9wVyQKwMcX61D16gjAnXkook+QBsD+6iWxyeACwJIOfscqEQXAeJLGD4FxA8DOZMSEXnEDwM3fg6ik4gLAf6socXs6AsBVjrm/mTMCwGdJhg7MvAPA4Fw1lreZBMB3u0zGesAFwKI3McdN8gXAmloJq4kyCMBX3AvGofEGwFtlbbyhIQbAajcv3Hf7AcA15zOCsroAwIE0ViwrBAHAD6CAOXVzAsBiWmqZtUj5vyDvEcnMSf2/3gZpj0qM/r/MhoH6TMX+v0iWQW+cYve/mKXJrWDV+b+w5cUqaXD4vxwlYuY9Hvq/OmsDotcK+b9MbX0KZhL5vzK3atA5V/2/CEnfdOEu/b+OU13Mth4AwLLlnTFhyf2/zKLd9vqF/b9Y9/qSllP/v8BuK/cUjv+/YdNgRcoIAcBeJd+bSg4CwHn1PvOcMQPAZHhZyjkUAcAEH31bF6kBwKx12vUPTwPA4uDcwIEJBMDm3ABHnz0DwKZdwP4OMALAFJkq8rm/AcAK5py7mJIDwF89hb7ozgLAZuEkK3uzAcDJlOM3oVIAwH+blNT0NQDAjjqjem8aAsBGWIObaIsCwOuT5uW8VAbAsk5vDgEGBsCXXq1cQLgGwBOAZwxG/gPA+3NkGl0nBcC4EEP//bYCwH2Jsb/T4ATAGqS4MIBaBMCgai4ziUravwBMm9ksqb2/AAAAAAAAAAAAAAAAAAAAAAAAAAAAAAAAAAAAAAAAAACAmgHExSbFvwAAAAAAAAAAAAAAAAAAAAAo9fRiREfTv0iT4I2pZOG/mC/Wn6re5b/I2pA3qKnav+CtblPzhse/QLXLUnBurL8AAAAAAAAAADCKQpeVjMe/cNQW3qsg3b8Y2P3V+abYvwCuJwny7re/IN4nhm6gzL/g5fBaq1XQvwA1zXyAC5i/2INWhOiu2L9gbfQ9SZDHvxDHc+Cm2su/nJ0gbqgQ4L/wLrYlskzVv3CV/Voqf8u/AAAAAAAAAAAAAAAAAAAAAAAAAAAAAAAAAAAAAAAAAABgLlPqBUawv9gDax8Gq9C/yCCwfNyO5b/QMGkg+5jjv7Dt+8aMitS/iBlQLw9b1b8AAAAAAAAAAGC/juLl0Le/cBX7M06w0L8AAAAAAAAAAAAAAAAAAAAAIHG7AegVzb9YmpuNEVLXv/idvRJgvNO/YAiRByVv379geFowr7TQv0Cl2mICtaa/gDfoOgr22r8AAAAAAAAAADRuAdvk8uy/6v/8EOXe8b+64hjDnFv2vx4w7EIocvW/1B/PaA3O9r9yiaEVTNL1vwQltelSOfW/DEAlctls8r8qpcSP4Rf1v8xR1OenMfW/cER21wGX9L8ApqW2K/70v0wJz40W3/G/YDpQWw2T6b9IYvHBwtXjv+CLfrWyrOm/CKZA3j1o3r8w5CSbAlPSv5yukZjm2eW/0KjtNr/04r+YwCewpa7rv+iaYfWTKO6/rtHnh4G/8L8wJZoOnnHqvxDtO78nP+m/pLjSamOO7r9s+G2k0DnqvzT790c4We2/MGekmaAu5b+gY66bKmTkv0DK4FtgG9+/0NNa283F3r844G5d7JLpv4TaTTc9ceO/eIAuh7A947/4kvfUb4HWvwAAAAAAAAAAAAAAAAAAAAAQ2J+fu2nXv/Db4WEz08u/AKlKZiZj3L88Q2euezPrv/SP2ACIPOq/xFZx7g2w578kPBpd/srovwzggSe3nOG/8KGLaZ6t6L/eKXTHer3wvw==",
          "dtype": "f8"
         },
         "yaxis": "y2"
        }
       ],
       "layout": {
        "annotations": [
         {
          "font": {
           "size": 16
          },
          "showarrow": false,
          "text": "Portfolio Value",
          "x": 0.5,
          "xanchor": "center",
          "xref": "paper",
          "y": 1,
          "yanchor": "bottom",
          "yref": "paper"
         },
         {
          "font": {
           "size": 16
          },
          "showarrow": false,
          "text": "Drawdown %",
          "x": 0.5,
          "xanchor": "center",
          "xref": "paper",
          "y": 0.45,
          "yanchor": "bottom",
          "yref": "paper"
         },
         {
          "showarrow": false,
          "text": "Initial Cash",
          "x": 1,
          "xanchor": "right",
          "xref": "x domain",
          "y": 1000000,
          "yanchor": "bottom",
          "yref": "y"
         }
        ],
        "height": 800,
        "hovermode": "x unified",
        "shapes": [
         {
          "line": {
           "color": "gray",
           "dash": "dash"
          },
          "type": "line",
          "x0": 0,
          "x1": 1,
          "xref": "x domain",
          "y0": 1000000,
          "y1": 1000000,
          "yref": "y"
         }
        ],
        "showlegend": true,
        "template": {
         "data": {
          "bar": [
           {
            "error_x": {
             "color": "#2a3f5f"
            },
            "error_y": {
             "color": "#2a3f5f"
            },
            "marker": {
             "line": {
              "color": "#E5ECF6",
              "width": 0.5
             },
             "pattern": {
              "fillmode": "overlay",
              "size": 10,
              "solidity": 0.2
             }
            },
            "type": "bar"
           }
          ],
          "barpolar": [
           {
            "marker": {
             "line": {
              "color": "#E5ECF6",
              "width": 0.5
             },
             "pattern": {
              "fillmode": "overlay",
              "size": 10,
              "solidity": 0.2
             }
            },
            "type": "barpolar"
           }
          ],
          "carpet": [
           {
            "aaxis": {
             "endlinecolor": "#2a3f5f",
             "gridcolor": "white",
             "linecolor": "white",
             "minorgridcolor": "white",
             "startlinecolor": "#2a3f5f"
            },
            "baxis": {
             "endlinecolor": "#2a3f5f",
             "gridcolor": "white",
             "linecolor": "white",
             "minorgridcolor": "white",
             "startlinecolor": "#2a3f5f"
            },
            "type": "carpet"
           }
          ],
          "choropleth": [
           {
            "colorbar": {
             "outlinewidth": 0,
             "ticks": ""
            },
            "type": "choropleth"
           }
          ],
          "contour": [
           {
            "colorbar": {
             "outlinewidth": 0,
             "ticks": ""
            },
            "colorscale": [
             [
              0,
              "#0d0887"
             ],
             [
              0.1111111111111111,
              "#46039f"
             ],
             [
              0.2222222222222222,
              "#7201a8"
             ],
             [
              0.3333333333333333,
              "#9c179e"
             ],
             [
              0.4444444444444444,
              "#bd3786"
             ],
             [
              0.5555555555555556,
              "#d8576b"
             ],
             [
              0.6666666666666666,
              "#ed7953"
             ],
             [
              0.7777777777777778,
              "#fb9f3a"
             ],
             [
              0.8888888888888888,
              "#fdca26"
             ],
             [
              1,
              "#f0f921"
             ]
            ],
            "type": "contour"
           }
          ],
          "contourcarpet": [
           {
            "colorbar": {
             "outlinewidth": 0,
             "ticks": ""
            },
            "type": "contourcarpet"
           }
          ],
          "heatmap": [
           {
            "colorbar": {
             "outlinewidth": 0,
             "ticks": ""
            },
            "colorscale": [
             [
              0,
              "#0d0887"
             ],
             [
              0.1111111111111111,
              "#46039f"
             ],
             [
              0.2222222222222222,
              "#7201a8"
             ],
             [
              0.3333333333333333,
              "#9c179e"
             ],
             [
              0.4444444444444444,
              "#bd3786"
             ],
             [
              0.5555555555555556,
              "#d8576b"
             ],
             [
              0.6666666666666666,
              "#ed7953"
             ],
             [
              0.7777777777777778,
              "#fb9f3a"
             ],
             [
              0.8888888888888888,
              "#fdca26"
             ],
             [
              1,
              "#f0f921"
             ]
            ],
            "type": "heatmap"
           }
          ],
          "histogram": [
           {
            "marker": {
             "pattern": {
              "fillmode": "overlay",
              "size": 10,
              "solidity": 0.2
             }
            },
            "type": "histogram"
           }
          ],
          "histogram2d": [
           {
            "colorbar": {
             "outlinewidth": 0,
             "ticks": ""
            },
            "colorscale": [
             [
              0,
              "#0d0887"
             ],
             [
              0.1111111111111111,
              "#46039f"
             ],
             [
              0.2222222222222222,
              "#7201a8"
             ],
             [
              0.3333333333333333,
              "#9c179e"
             ],
             [
              0.4444444444444444,
              "#bd3786"
             ],
             [
              0.5555555555555556,
              "#d8576b"
             ],
             [
              0.6666666666666666,
              "#ed7953"
             ],
             [
              0.7777777777777778,
              "#fb9f3a"
             ],
             [
              0.8888888888888888,
              "#fdca26"
             ],
             [
              1,
              "#f0f921"
             ]
            ],
            "type": "histogram2d"
           }
          ],
          "histogram2dcontour": [
           {
            "colorbar": {
             "outlinewidth": 0,
             "ticks": ""
            },
            "colorscale": [
             [
              0,
              "#0d0887"
             ],
             [
              0.1111111111111111,
              "#46039f"
             ],
             [
              0.2222222222222222,
              "#7201a8"
             ],
             [
              0.3333333333333333,
              "#9c179e"
             ],
             [
              0.4444444444444444,
              "#bd3786"
             ],
             [
              0.5555555555555556,
              "#d8576b"
             ],
             [
              0.6666666666666666,
              "#ed7953"
             ],
             [
              0.7777777777777778,
              "#fb9f3a"
             ],
             [
              0.8888888888888888,
              "#fdca26"
             ],
             [
              1,
              "#f0f921"
             ]
            ],
            "type": "histogram2dcontour"
           }
          ],
          "mesh3d": [
           {
            "colorbar": {
             "outlinewidth": 0,
             "ticks": ""
            },
            "type": "mesh3d"
           }
          ],
          "parcoords": [
           {
            "line": {
             "colorbar": {
              "outlinewidth": 0,
              "ticks": ""
             }
            },
            "type": "parcoords"
           }
          ],
          "pie": [
           {
            "automargin": true,
            "type": "pie"
           }
          ],
          "scatter": [
           {
            "fillpattern": {
             "fillmode": "overlay",
             "size": 10,
             "solidity": 0.2
            },
            "type": "scatter"
           }
          ],
          "scatter3d": [
           {
            "line": {
             "colorbar": {
              "outlinewidth": 0,
              "ticks": ""
             }
            },
            "marker": {
             "colorbar": {
              "outlinewidth": 0,
              "ticks": ""
             }
            },
            "type": "scatter3d"
           }
          ],
          "scattercarpet": [
           {
            "marker": {
             "colorbar": {
              "outlinewidth": 0,
              "ticks": ""
             }
            },
            "type": "scattercarpet"
           }
          ],
          "scattergeo": [
           {
            "marker": {
             "colorbar": {
              "outlinewidth": 0,
              "ticks": ""
             }
            },
            "type": "scattergeo"
           }
          ],
          "scattergl": [
           {
            "marker": {
             "colorbar": {
              "outlinewidth": 0,
              "ticks": ""
             }
            },
            "type": "scattergl"
           }
          ],
          "scattermap": [
           {
            "marker": {
             "colorbar": {
              "outlinewidth": 0,
              "ticks": ""
             }
            },
            "type": "scattermap"
           }
          ],
          "scattermapbox": [
           {
            "marker": {
             "colorbar": {
              "outlinewidth": 0,
              "ticks": ""
             }
            },
            "type": "scattermapbox"
           }
          ],
          "scatterpolar": [
           {
            "marker": {
             "colorbar": {
              "outlinewidth": 0,
              "ticks": ""
             }
            },
            "type": "scatterpolar"
           }
          ],
          "scatterpolargl": [
           {
            "marker": {
             "colorbar": {
              "outlinewidth": 0,
              "ticks": ""
             }
            },
            "type": "scatterpolargl"
           }
          ],
          "scatterternary": [
           {
            "marker": {
             "colorbar": {
              "outlinewidth": 0,
              "ticks": ""
             }
            },
            "type": "scatterternary"
           }
          ],
          "surface": [
           {
            "colorbar": {
             "outlinewidth": 0,
             "ticks": ""
            },
            "colorscale": [
             [
              0,
              "#0d0887"
             ],
             [
              0.1111111111111111,
              "#46039f"
             ],
             [
              0.2222222222222222,
              "#7201a8"
             ],
             [
              0.3333333333333333,
              "#9c179e"
             ],
             [
              0.4444444444444444,
              "#bd3786"
             ],
             [
              0.5555555555555556,
              "#d8576b"
             ],
             [
              0.6666666666666666,
              "#ed7953"
             ],
             [
              0.7777777777777778,
              "#fb9f3a"
             ],
             [
              0.8888888888888888,
              "#fdca26"
             ],
             [
              1,
              "#f0f921"
             ]
            ],
            "type": "surface"
           }
          ],
          "table": [
           {
            "cells": {
             "fill": {
              "color": "#EBF0F8"
             },
             "line": {
              "color": "white"
             }
            },
            "header": {
             "fill": {
              "color": "#C8D4E3"
             },
             "line": {
              "color": "white"
             }
            },
            "type": "table"
           }
          ]
         },
         "layout": {
          "annotationdefaults": {
           "arrowcolor": "#2a3f5f",
           "arrowhead": 0,
           "arrowwidth": 1
          },
          "autotypenumbers": "strict",
          "coloraxis": {
           "colorbar": {
            "outlinewidth": 0,
            "ticks": ""
           }
          },
          "colorscale": {
           "diverging": [
            [
             0,
             "#8e0152"
            ],
            [
             0.1,
             "#c51b7d"
            ],
            [
             0.2,
             "#de77ae"
            ],
            [
             0.3,
             "#f1b6da"
            ],
            [
             0.4,
             "#fde0ef"
            ],
            [
             0.5,
             "#f7f7f7"
            ],
            [
             0.6,
             "#e6f5d0"
            ],
            [
             0.7,
             "#b8e186"
            ],
            [
             0.8,
             "#7fbc41"
            ],
            [
             0.9,
             "#4d9221"
            ],
            [
             1,
             "#276419"
            ]
           ],
           "sequential": [
            [
             0,
             "#0d0887"
            ],
            [
             0.1111111111111111,
             "#46039f"
            ],
            [
             0.2222222222222222,
             "#7201a8"
            ],
            [
             0.3333333333333333,
             "#9c179e"
            ],
            [
             0.4444444444444444,
             "#bd3786"
            ],
            [
             0.5555555555555556,
             "#d8576b"
            ],
            [
             0.6666666666666666,
             "#ed7953"
            ],
            [
             0.7777777777777778,
             "#fb9f3a"
            ],
            [
             0.8888888888888888,
             "#fdca26"
            ],
            [
             1,
             "#f0f921"
            ]
           ],
           "sequentialminus": [
            [
             0,
             "#0d0887"
            ],
            [
             0.1111111111111111,
             "#46039f"
            ],
            [
             0.2222222222222222,
             "#7201a8"
            ],
            [
             0.3333333333333333,
             "#9c179e"
            ],
            [
             0.4444444444444444,
             "#bd3786"
            ],
            [
             0.5555555555555556,
             "#d8576b"
            ],
            [
             0.6666666666666666,
             "#ed7953"
            ],
            [
             0.7777777777777778,
             "#fb9f3a"
            ],
            [
             0.8888888888888888,
             "#fdca26"
            ],
            [
             1,
             "#f0f921"
            ]
           ]
          },
          "colorway": [
           "#636efa",
           "#EF553B",
           "#00cc96",
           "#ab63fa",
           "#FFA15A",
           "#19d3f3",
           "#FF6692",
           "#B6E880",
           "#FF97FF",
           "#FECB52"
          ],
          "font": {
           "color": "#2a3f5f"
          },
          "geo": {
           "bgcolor": "white",
           "lakecolor": "white",
           "landcolor": "#E5ECF6",
           "showlakes": true,
           "showland": true,
           "subunitcolor": "white"
          },
          "hoverlabel": {
           "align": "left"
          },
          "hovermode": "closest",
          "mapbox": {
           "style": "light"
          },
          "paper_bgcolor": "white",
          "plot_bgcolor": "#E5ECF6",
          "polar": {
           "angularaxis": {
            "gridcolor": "white",
            "linecolor": "white",
            "ticks": ""
           },
           "bgcolor": "#E5ECF6",
           "radialaxis": {
            "gridcolor": "white",
            "linecolor": "white",
            "ticks": ""
           }
          },
          "scene": {
           "xaxis": {
            "backgroundcolor": "#E5ECF6",
            "gridcolor": "white",
            "gridwidth": 2,
            "linecolor": "white",
            "showbackground": true,
            "ticks": "",
            "zerolinecolor": "white"
           },
           "yaxis": {
            "backgroundcolor": "#E5ECF6",
            "gridcolor": "white",
            "gridwidth": 2,
            "linecolor": "white",
            "showbackground": true,
            "ticks": "",
            "zerolinecolor": "white"
           },
           "zaxis": {
            "backgroundcolor": "#E5ECF6",
            "gridcolor": "white",
            "gridwidth": 2,
            "linecolor": "white",
            "showbackground": true,
            "ticks": "",
            "zerolinecolor": "white"
           }
          },
          "shapedefaults": {
           "line": {
            "color": "#2a3f5f"
           }
          },
          "ternary": {
           "aaxis": {
            "gridcolor": "white",
            "linecolor": "white",
            "ticks": ""
           },
           "baxis": {
            "gridcolor": "white",
            "linecolor": "white",
            "ticks": ""
           },
           "bgcolor": "#E5ECF6",
           "caxis": {
            "gridcolor": "white",
            "linecolor": "white",
            "ticks": ""
           }
          },
          "title": {
           "x": 0.05
          },
          "xaxis": {
           "automargin": true,
           "gridcolor": "white",
           "linecolor": "white",
           "ticks": "",
           "title": {
            "standoff": 15
           },
           "zerolinecolor": "white",
           "zerolinewidth": 2
          },
          "yaxis": {
           "automargin": true,
           "gridcolor": "white",
           "linecolor": "white",
           "ticks": "",
           "title": {
            "standoff": 15
           },
           "zerolinecolor": "white",
           "zerolinewidth": 2
          }
         }
        },
        "title": {
         "text": "VectorBT Backtest Results"
        },
        "xaxis": {
         "anchor": "y",
         "domain": [
          0,
          1
         ],
         "matches": "x2",
         "showticklabels": false
        },
        "xaxis2": {
         "anchor": "y2",
         "domain": [
          0,
          1
         ],
         "title": {
          "text": "Date"
         }
        },
        "yaxis": {
         "anchor": "x",
         "domain": [
          0.55,
          1
         ],
         "title": {
          "text": "Value ($)"
         }
        },
        "yaxis2": {
         "anchor": "x2",
         "domain": [
          0,
          0.45
         ],
         "title": {
          "text": "Drawdown (%)"
         }
        }
       }
      }
     },
     "metadata": {},
     "output_type": "display_data"
    },
    {
     "name": "stdout",
     "output_type": "stream",
     "text": [
      "✅ Plots displayed!\n"
     ]
    }
   ],
   "source": [
    "# ================================================\n",
    "# 🚀 VECTORBT BACKTESTING - Replacing Manual Simulation\n",
    "# ================================================\n",
    "\n",
    "print(\"🚀 VECTORBT BACKTESTING MODE\")\n",
    "print(\"=\" * 55)\n",
    "\n",
    "import os\n",
    "from typing import Dict, cast\n",
    "import pandas as pd\n",
    "import json\n",
    "\n",
    "from src.backtesting.vectorbt_engine import VectorBTBacktester\n",
    "from src.core.trading_types import ChartInterval\n",
    "from src.training.data_loader import DataLoader\n",
    "from src.training.model_trainer import SimpleModelTrainer\n",
    "\n",
    "# Load model from file (independent from training cell)\n",
    "simulation_trainer = SimpleModelTrainer()\n",
    "\n",
    "try:\n",
    "    success = simulation_trainer.load_model()\n",
    "    if not success:\n",
    "        print(\"❌ Failed to load model from file\")\n",
    "        print(\"   Make sure you've trained the model first (run Cell 2)\")\n",
    "        simulation_trainer = None\n",
    "except Exception as e:\n",
    "    print(f\"❌ Error loading model: {e}\")\n",
    "    import traceback\n",
    "    traceback.print_exc()\n",
    "    simulation_trainer = None\n",
    "\n",
    "if simulation_trainer is not None and simulation_trainer.is_trained:\n",
    "    print(\"✅ Model loaded successfully!\")\n",
    "    \n",
    "    # Display model info\n",
    "    info = simulation_trainer.get_model_info()\n",
    "    print(f\"   Model: {info['model_type']} | Accuracy: {info['accuracy']:.1%} | Features: {info['features']}\")\n",
    "    \n",
    "    # Configuration\n",
    "    test_symbol = 'BTCUSDT'\n",
    "    MAX_CANDLES = 500  # REDUCED for progressive backtesting (each candle recalculates levels!)\n",
    "    test_data_folder = 'data'\n",
    "    \n",
    "    # Threshold settings\n",
    "    buy_threshold = 0.10\n",
    "    sell_threshold = 0.10\n",
    "    \n",
    "    # VectorBT settings\n",
    "    initial_cash = 1000000.0\n",
    "    commission = 0.001  # 0.1%\n",
    "    slippage = 0.0005   # 0.05%\n",
    "    \n",
    "    print(f\"\\n🎯 Symbol: {test_symbol}\")\n",
    "    print(f\"📊 Backtesting: {MAX_CANDLES} candles (PROGRESSIVE - no data leakage)\")\n",
    "    print(f\"⚙️  Thresholds: BUY≥{buy_threshold:.0%}, SELL≥{sell_threshold:.0%}\")\n",
    "    print(f\"💰 Initial Cash: ${initial_cash:,.2f}\")\n",
    "    print(f\"💸 Commission: {commission:.2%} | Slippage: {slippage:.2%}\\n\")\n",
    "    \n",
    "   \n",
    "    \n",
    "    # Get file paths\n",
    "    test_files: Dict[ChartInterval, str] = {\n",
    "        'M': os.path.join(test_data_folder, f'{test_symbol}-M.json'),\n",
    "        'W': os.path.join(test_data_folder, f'{test_symbol}-W.json'),\n",
    "        'D': os.path.join(test_data_folder, f'{test_symbol}-D.json'),\n",
    "        '1h': os.path.join(test_data_folder, f'{test_symbol}-1h.json'),\n",
    "        '15m': os.path.join(test_data_folder, f'{test_symbol}-15m.json')\n",
    "    }\n",
    "    \n",
    "\n",
    "    # Load 15m data (primary trading timeframe)\n",
    "    print(\"📊 Loading 15m data...\")\n",
    "    test_data = DataLoader.load_single_json_file(test_files['15m'])\n",
    "\n",
    "    if test_data is None:\n",
    "        raise ValueError(\"❌ Could not load test data\")\n",
    "\n",
    "    print(f\"✅ Loaded {len(test_data)} total candles\")\n",
    "    print(f\"📅 Range: {test_data.index.min()} to {test_data.index.max()}\")\n",
    "    \n",
    "    # Get a RANDOM segment of MAX_CANDLES for backtesting\n",
    "    if len(test_data) < MAX_CANDLES:\n",
    "        print(f\"⚠️  Only {len(test_data)} candles available, using all\")\n",
    "    else:\n",
    "        import random\n",
    "        # Calculate valid range for random start position\n",
    "        max_start = len(test_data) - MAX_CANDLES\n",
    "        random_start = random.randint(0, max_start)\n",
    "        random_end = random_start + MAX_CANDLES\n",
    "        \n",
    "        print(f\"🎲 Randomly selecting {MAX_CANDLES} candles from position {random_start} to {random_end}\")\n",
    "        test_data = test_data.iloc[random_start:random_end]\n",
    "    \n",
    "    print(f\"\\n🎬 Starting progressive backtest with {len(test_data)} candles...\")\n",
    "    print(f\"📍 Backtest period: {test_data.index.min()} to {test_data.index.max()}\")\n",
    "    \n",
    "    # Load all timeframe data as DataFrames (needed for level extraction)\n",
    "    print(\"\\n📂 Loading multi-timeframe data for level extraction...\")\n",
    "    data_dfs: Dict[ChartInterval, pd.DataFrame] = DataLoader.load_multiple_json_files(test_files)\n",
    "    \n",
    "    print(f\"✅ Loaded {len(data_dfs)} additional timeframes for levels\\n\")\n",
    "    \n",
    "    print(\"\\n\" + \"=\" * 55)\n",
    "    print(\"🚀 VECTORBT PROGRESSIVE BACKTEST STARTING...\")\n",
    "    print(\"=\" * 55)\n",
    "    print(\"⚠️  Note: Progressive mode recalculates levels for EACH candle\")\n",
    "    print(\"   This is SLOW but prevents data leakage (realistic trading)\")\n",
    "    print(\"   Progress bar will show each candle being processed\\n\")\n",
    "    \n",
    "    # Initialize VectorBT backtester\n",
    "    backtester = VectorBTBacktester(\n",
    "        trainer=simulation_trainer,\n",
    "        initial_cash=initial_cash,\n",
    "        commission=commission,\n",
    "        slippage=slippage\n",
    "    )\n",
    "    \n",
    "    # Generate signals progressively (includes level extraction per candle)\n",
    "    signals_df = backtester.generate_signals(\n",
    "        data=test_data,\n",
    "        data_dfs=data_dfs,\n",
    "        buy_threshold=buy_threshold,\n",
    "        sell_threshold=sell_threshold,\n",
    "        timeframe='15m'\n",
    "    )\n",
    "    \n",
    "    # Run backtest (THIS IS FAST - vectorized)\n",
    "    print(\"\\n🚀 Running backtest...\")\n",
    "    portfolio = backtester.run_backtest(signals_df=signals_df, freq='15T')\n",
    "    \n",
    "    # Display performance summary\n",
    "    backtester.print_performance_summary()\n",
    "    \n",
    "    # Get trade analysis\n",
    "    trades_df = backtester.get_trade_analysis()\n",
    "    \n",
    "    print(\"\\n\" + \"=\" * 55)\n",
    "    print(\"📋 TRADE ANALYSIS\")\n",
    "    print(\"=\" * 55)\n",
    "    \n",
    "    if len(trades_df) > 0:\n",
    "        print(f\"\\n📊 Total Trades: {len(trades_df)}\")\n",
    "        \n",
    "        winning_trades = trades_df[trades_df['PnL'] > 0]\n",
    "        losing_trades = trades_df[trades_df['PnL'] < 0]\n",
    "        \n",
    "        print(f\"✅ Winning: {len(winning_trades)} ({len(winning_trades)/len(trades_df)*100:.1f}%)\")\n",
    "        print(f\"❌ Losing:  {len(losing_trades)} ({len(losing_trades)/len(trades_df)*100:.1f}%)\")\n",
    "        \n",
    "        if len(winning_trades) > 0:\n",
    "            print(f\"\\n💚 Average Win: ${winning_trades['PnL'].mean():.2f}\")\n",
    "            print(f\"💚 Largest Win: ${winning_trades['PnL'].max():.2f}\")\n",
    "        \n",
    "        if len(losing_trades) > 0:\n",
    "            print(f\"💔 Average Loss: ${losing_trades['PnL'].mean():.2f}\")\n",
    "            print(f\"💔 Largest Loss: ${losing_trades['PnL'].min():.2f}\")\n",
    "        \n",
    "        # Show sample trades\n",
    "        print(f\"\\n📋 Sample Trades (first 10):\")\n",
    "        print(trades_df.head(10))\n",
    "    else:\n",
    "        print(\"⚠️  No trades executed during backtest period\")\n",
    "    \n",
    "    print(\"\\n\" + \"=\" * 55)\n",
    "    print(\"✅ VECTORBT BACKTEST COMPLETE!\")\n",
    "    print(\"=\" * 55)\n",
    "    \n",
    "    # Signal distribution\n",
    "    signal_counts = signals_df['signal'].value_counts()\n",
    "    print(f\"\\n🎯 SIGNAL DISTRIBUTION:\")\n",
    "    for signal in ['BUY', 'SELL', 'HOLD']:\n",
    "        count = signal_counts.get(signal, 0)\n",
    "        pct = (count / len(signals_df) * 100) if len(signals_df) > 0 else 0\n",
    "        print(f\"   {signal}: {count} ({pct:.1f}%)\")\n",
    "    \n",
    "    # Show trading signals (non-HOLD)\n",
    "    trade_signals = signals_df[signals_df['signal'] != 'HOLD']\n",
    "    print(f\"\\n📋 TRADING SIGNALS ({len(trade_signals)} total):\")\n",
    "    if len(trade_signals) > 0:\n",
    "        for timestamp, row in trade_signals.head(20).iterrows():\n",
    "            emoji = \"🟢\" if row['signal'] == 'BUY' else \"🔴\"\n",
    "            print(f\"   {emoji} {timestamp} | \" +\n",
    "                    f\"{row['signal']:4s} @ ${row['close']:8.2f} | \" +\n",
    "                    f\"Conf: {row['confidence']:5.1%}\")\n",
    "    else:\n",
    "        print(\"   No trading signals generated\")\n",
    "    \n",
    "    print(\"\\n✅ Progressive backtest complete!\")\n",
    "    print(\"   ℹ️  Each candle was processed independently with levels extracted\")\n",
    "    print(\"      at that point in time (no future data leakage)\")\n",
    "    \n",
    "    # ================================================\n",
    "    # 📊 OPTIONAL: GENERATE INTERACTIVE PLOTS\n",
    "    # ================================================\n",
    "    \n",
    "    try:\n",
    "        print(\"\\n📊 Generating interactive plots...\")\n",
    "        # Use static plots (no anywidget dependency)\n",
    "        backtester.plot_results(use_widgets=False)\n",
    "    except Exception as e:\n",
    "        print(f\"⚠️  Could not generate plots: {e}\")\n",
    "        if \"anywidget\" in str(e):\n",
    "            print(\"   ℹ️  anywidget not installed\")\n",
    "            print(\"   Solution: Restart the kernel (Kernel → Restart)\")\n",
    "        print(\"   Use VectorBT_Backtest.ipynb for full visualization\")\n",
    "    \n",
    "else:\n",
    "    print(\"❌ No model available\")\n",
    "    print(\"   Please run Cell 2 first to train the model\")\n"
   ]
  }
 ],
 "metadata": {
  "kernelspec": {
   "display_name": "venv",
   "language": "python",
   "name": "python3"
  },
  "language_info": {
   "codemirror_mode": {
    "name": "ipython",
    "version": 3
   },
   "file_extension": ".py",
   "mimetype": "text/x-python",
   "name": "python",
   "nbconvert_exporter": "python",
   "pygments_lexer": "ipython3",
   "version": "3.10.11"
  }
 },
 "nbformat": 4,
 "nbformat_minor": 5
}
