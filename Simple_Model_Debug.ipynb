{
 "cells": [
  {
   "cell_type": "code",
   "execution_count": 1,
   "id": "94ae8ebe",
   "metadata": {},
   "outputs": [
    {
     "name": "stdout",
     "output_type": "stream",
     "text": [
      "✅ Added to Python path: d:\\Dev\\trading-bot\\src\n",
      "📂 Working directory: d:\\Dev\\trading-bot\n",
      "🔍 Python will search for modules in: d:\\Dev\\trading-bot\\src\n",
      "==================================================\n"
     ]
    }
   ],
   "source": [
    "# ================================================\n",
    "# 🔧 SETUP - Add src to Python Path\n",
    "# ================================================\n",
    "\n",
    "import sys\n",
    "import os\n",
    "\n",
    "# Add src directory to Python path so 'core' module can be found\n",
    "project_root = os.getcwd()\n",
    "src_path = os.path.join(project_root, 'src')\n",
    "\n",
    "if src_path not in sys.path:\n",
    "    sys.path.insert(0, src_path)\n",
    "    print(f\"✅ Added to Python path: {src_path}\")\n",
    "else:\n",
    "    print(f\"✅ Already in path: {src_path}\")\n",
    "\n",
    "# Verify\n",
    "print(f\"📂 Working directory: {project_root}\")\n",
    "print(f\"🔍 Python will search for modules in: {src_path}\")\n",
    "print(\"=\" * 50)"
   ]
  },
  {
   "cell_type": "code",
   "execution_count": 13,
   "id": "e1be7d42",
   "metadata": {},
   "outputs": [
    {
     "name": "stdout",
     "output_type": "stream",
     "text": [
      "✅ Already in path: d:\\Dev\\trading-bot\\src\n",
      "📂 Working directory: d:\\Dev\\trading-bot\n",
      "🔍 Python will search for modules in: d:\\Dev\\trading-bot\\src\n",
      "==================================================\n",
      "🧪 PROGRESSIVE TEST - Training on 100 candles\n",
      "======================================================================\n",
      "\n",
      "🔍 DEBUG: training_files keys: ['M', 'W', 'D', '1h', '15m', 'parquet_path']\n",
      "🔍 DEBUG: 'parquet_path' in training_files: True\n",
      "✅ Level extractor initialized with timeframe caching\n",
      "✅ Level extractor initialized with timeframe caching\n",
      "\n",
      "⏱️  Starting progressive training...\n",
      "   Time range: 2023-04-03 13:45:00 to 2025-10-05 00:00:00\n",
      "   This will process each candle individually\n",
      "\n",
      "🎓 TRAINING MODEL\n",
      "==============================\n",
      "\n",
      "📋 Validating training files...\n",
      "   ✅ Main file (15m): d:\\Dev\\trading-bot\\data\\BTCUSDT-15m.json\n",
      "   ✅ Parquet file: d:\\Dev\\trading-bot\\data\\levels_cache\\BTCUSDT-15m-levels.parquet.full\n",
      "\n",
      "📊 Validating level timeframes: ['M', 'W', 'D', '1h', '15m']\n",
      "\n",
      "✅ All 6 level timeframe files validated!\n",
      "   Level timeframes: ['M', 'W', 'D', '1h', '15m', 'parquet_path']\n",
      "\n",
      "📦 Loading precomputed features from parquet...\n",
      "   ✅ Loaded 87,891 candles from precomputed parquet\n",
      "\n",
      "📂 Loading level timeframe data...\n",
      "\n",
      "📂 PRE-LOADING ALL DATA FILES (one-time operation)...\n",
      "   Loading M... ✅ 99 candles\n",
      "   Loading W... ✅ 426 candles\n",
      "   Loading D... ✅ 2,976 candles\n",
      "   Loading 1h... ✅ 71,272 candles\n",
      "   Loading 15m... ✅ 101,000 candles\n",
      "   Skipping parquet_path (excluded)\n",
      "✅ All data files loaded into memory!\n",
      "\n",
      "\n",
      "======================================================================\n",
      "🚀 PREPARING TRAINING DATA (OPTIMIZED)\n",
      "======================================================================\n",
      "\n",
      "📈 Step 1/4: Calculating TA features for FULL dataset...\n",
      "   Using {len(main_df):,} candles (includes all historical data)\n",
      "🔄 Calculating TA features (ta_15m_20230403_20251005_87891)...\n",
      "✅ TA features calculated and cached: 11 features (0.01s)\n",
      "   ✅ TA features calculated in 0.01s (11 features)\n",
      "\n",
      "📅 Step 2/4: Filtering to training time range...\n",
      "   ⏰ Start time: 2023-04-03 13:45:00\n",
      "   ⏰ End time: 2025-10-05 00:00:00\n",
      "   ✅ Training range: 87882 candles (2023-04-03 13:45:00 to 2025-10-05 00:00:00)\n",
      "   ✅ TA features filtered: 87882 samples\n",
      "\n",
      "📊 Step 3/4: Pre-processing levels for 87882 candles...\n",
      "   ✅ Levels pre-processed in 16.61s\n",
      "\n",
      " Step 2/4: Calculating TA features for entire dataset...\n",
      "🔄 Calculating TA features (ta_15m_20230403_20251005_87882)...\n",
      "✅ TA features calculated and cached: 11 features (0.01s)\n",
      "   ✅ TA features calculated in 0.01s (11 features)\n",
      "\n",
      "🎯 Step 3/4: Calculating level features per candle...\n"
     ]
    },
    {
     "name": "stderr",
     "output_type": "stream",
     "text": [
      "Level features: 100%|██████████| 87882/87882 [00:09<00:00, 9022.99it/s]\n"
     ]
    },
    {
     "name": "stdout",
     "output_type": "stream",
     "text": [
      "   ✅ Level features calculated in 10.03s (37 features)\n",
      "\n",
      "💾 Step 4/4: Adding memory features...\n",
      "   ✅ Memory features added in 0.000s (10 features)\n",
      "\n",
      "🔗 Combining all feature groups...\n",
      "   ✅ Features combined in 0.005s\n",
      "\n",
      "✅ Features ready: 87882 samples, 58 features\n",
      "   TA: 11, Level: 37, Memory: 10\n",
      "🏷️  Generating trading labels...\n",
      "🏷️  Generating labels based on price movements...\n",
      "   BUY signals: 1215 (1.4%)\n",
      "   SELL signals: 3291 (3.7%)\n",
      "   HOLD signals: 83376 (94.9%)\n",
      "✅ Training data ready: 87882 samples, 58 features\n",
      "📊 Label distribution:\n",
      "   hold: 83376 (94.9%)\n",
      "   sell: 3291 (3.7%)\n",
      "   buy: 1215 (1.4%)\n",
      "\n",
      "======================================================================\n",
      "✅ TRAINING DATA PREPARATION COMPLETE\n",
      "======================================================================\n",
      "⏱️  Total time: 26.79 seconds (0.45 minutes)\n",
      "📊 Total samples: 87,882\n",
      "📊 Total features: 58\n",
      "⚡ Average time per sample: 0.0003 seconds\n",
      "======================================================================\n",
      "\n",
      "🔥 Training with 70305 samples, 58 features\n",
      "🖥️  GPU Detection: ✅ Available\n",
      "   🚀 Training with GPU...\n",
      "     ✅ GPU Training Complete: 4.06s | Accuracy: 96.8%\n",
      "\n",
      "✅ TRAINING COMPLETE!\n",
      "   Model: XGBoost-GPU\n",
      "   Test Accuracy: 96.8%\n",
      "\n",
      "🔍 Top 10 Features:\n",
      "     time: 0.056\n",
      "     current_volume: 0.045\n",
      "     bb_upper: 0.044\n",
      "     volume_ma20: 0.042\n",
      "     avg_level_strength: 0.040\n",
      "     W_level_count: 0.040\n",
      "     bb_lower: 0.039\n",
      "     M_level_count: 0.039\n",
      "     num_levels: 0.039\n",
      "     D_level_count: 0.036\n",
      "💾 Model saved to: src/models/simple_trading_model.joblib\n",
      "\n",
      "🎉 TEST TRAINING SUCCESS!\n",
      "   Model Type: XGBoost-GPU\n",
      "   Accuracy: 96.8%\n",
      "   Features: 58\n",
      "   Classes: ['buy', 'hold', 'sell']\n",
      "\n",
      "✅ Progressive approach is working correctly!\n",
      "   You can now train on full dataset\n"
     ]
    }
   ],
   "source": [
    "import sys\n",
    "import os\n",
    "\n",
    "# Add src directory to Python path so 'core' module can be found\n",
    "project_root = os.getcwd()\n",
    "src_path = os.path.join(project_root, 'src')\n",
    "\n",
    "if src_path not in sys.path:\n",
    "    sys.path.insert(0, src_path)\n",
    "    print(f\"✅ Added to Python path: {src_path}\")\n",
    "else:\n",
    "    print(f\"✅ Already in path: {src_path}\")\n",
    "\n",
    "# Verify\n",
    "print(f\"📂 Working directory: {project_root}\")\n",
    "print(f\"🔍 Python will search for modules in: {src_path}\")\n",
    "print(\"=\" * 50)\n",
    "\n",
    "# ================================================\n",
    "# 🧪 TEST PROGRESSIVE TRAINING (100 candles only)\n",
    "# ================================================\n",
    "\n",
    "print(\"🧪 PROGRESSIVE TEST - Training on 100 candles\")\n",
    "print(\"=\" * 70)\n",
    "\n",
    "import os\n",
    "import pandas as pd\n",
    "from src.training.model_trainer import SimpleModelTrainer\n",
    "\n",
    "data_folder = os.path.join(os.getcwd(), 'data')\n",
    "\n",
    "# Training files\n",
    "training_files = {\n",
    "    'M': os.path.join(data_folder, 'BTCUSDT-M.json'),\n",
    "    'W': os.path.join(data_folder, 'BTCUSDT-W.json'),\n",
    "    'D': os.path.join(data_folder, 'BTCUSDT-D.json'),\n",
    "    '1h': os.path.join(data_folder, 'BTCUSDT-1h.json'),\n",
    "    '15m': os.path.join(data_folder, 'BTCUSDT-15m.json'),\n",
    "    'parquet_path': os.path.join(data_folder, 'levels_cache', 'BTCUSDT-15m-levels.parquet.full'),\n",
    "}\n",
    "\n",
    "print(f\"\\n🔍 DEBUG: training_files keys: {list(training_files.keys())}\")\n",
    "print(f\"🔍 DEBUG: 'parquet_path' in training_files: {'parquet_path' in training_files}\")\n",
    "\n",
    "# Initialize trainer\n",
    "test_trainer = SimpleModelTrainer()\n",
    "\n",
    "start_time = pd.Timestamp('2023-04-03 13:45:00')\n",
    "end_time = pd.Timestamp('2025-10-05 00:00:00')\n",
    "\"\"\" start_time = pd.Timestamp('2023-04-10 00:00:00')\n",
    "end_time = pd.Timestamp('2023-05-15 23:59:59') \"\"\"\n",
    "# Configure training with time range filter\n",
    "test_trainer.configure_training(\n",
    "    profit_threshold=3.0,\n",
    "    loss_threshold=-2.0,\n",
    "    lookforward_periods=[5, 10, 20],\n",
    "    start_time=start_time,\n",
    "    end_time=end_time,\n",
    ")\n",
    "\n",
    "print(f\"\\n⏱️  Starting progressive training...\")\n",
    "print(f\"   Time range: {start_time} to {end_time}\")\n",
    "print(f\"   This will process each candle individually\\n\")\n",
    "\n",
    "# Train the model\n",
    "success = test_trainer.train_model(\n",
    "    training_files=training_files,\n",
    "    level_timeframes=['M', 'W', 'D', '1h', '15m']\n",
    ")\n",
    "\n",
    "if success:\n",
    "    info = test_trainer.get_model_info()\n",
    "    print(f\"\\n🎉 TEST TRAINING SUCCESS!\")\n",
    "    print(f\"   Model Type: {info['model_type']}\")\n",
    "    print(f\"   Accuracy: {info['accuracy']:.1%}\")\n",
    "    print(f\"   Features: {info['features']}\")\n",
    "    print(f\"   Classes: {info['classes']}\")\n",
    "    print(f\"\\n✅ Progressive approach is working correctly!\")\n",
    "    print(f\"   You can now train on full dataset\")\n",
    "else:\n",
    "    print(\"❌ Test training failed!\")"
   ]
  },
  {
   "cell_type": "code",
   "execution_count": null,
   "id": "1114f2c0",
   "metadata": {},
   "outputs": [
    {
     "name": "stdout",
     "output_type": "stream",
     "text": [
      "🚀 VECTORBT BACKTESTING MODE\n",
      "=======================================================\n",
      "✅ Level extractor initialized with timeframe caching\n",
      "✅ Level extractor initialized with timeframe caching\n",
      "📁 Loading model from: src/models/simple_trading_model.joblib\n",
      "✅ Model loaded: XGBoost-GPU (Accuracy: 96.8%)\n",
      "✅ Model loaded successfully!\n",
      "   Model: XGBoost-GPU | Accuracy: 96.8% | Features: 58\n",
      "\n",
      "🎯 Symbol: BTCUSDT\n",
      "📊 Backtesting: 100 candles (PROGRESSIVE - no data leakage)\n",
      "⚙️  Thresholds: BUY≥10%, SELL≥10%\n",
      "💰 Initial Cash: $1,000,000.00\n",
      "💸 Commission: 0.10% | Slippage: 0.05%\n",
      "\n",
      "📊 Loading 15m data...\n",
      "✅ Loaded 101000 total candles\n",
      "📅 Range: 2022-11-22 00:00:00 to 2025-10-09 03:00:00\n",
      "🎲 Randomly selecting 100 candles from position 67225 to 67325\n",
      "\n",
      "🎬 Starting progressive backtest with 100 candles...\n",
      "📍 Backtest period: 2024-10-22 07:30:00 to 2024-10-23 08:15:00\n",
      "\n",
      "📂 Loading multi-timeframe data for level extraction...\n",
      "\n",
      "📂 PRE-LOADING ALL DATA FILES (one-time operation)...\n",
      "   Loading M... ✅ 99 candles\n",
      "   Loading W... ✅ 426 candles\n",
      "   Loading D... ✅ 2,976 candles\n",
      "   Loading 1h... ✅ 71,272 candles\n",
      "   Loading 15m... ✅ 101,000 candles\n",
      "✅ All data files loaded into memory!\n",
      "\n",
      "✅ Loaded 5 additional timeframes for levels\n",
      "\n",
      "\n",
      "=======================================================\n",
      "🚀 VECTORBT PROGRESSIVE BACKTEST STARTING...\n",
      "=======================================================\n",
      "⚠️  Note: Progressive mode recalculates levels for EACH candle\n",
      "   This is SLOW but prevents data leakage (realistic trading)\n",
      "   Progress bar will show each candle being processed\n",
      "\n",
      "🚀 OPTIMIZED BACKTESTING: Processing 100 candles...\n",
      "   Using bulk processing for maximum speed!\n",
      "\n",
      "📈 Step 1/3: Calculating TA features for full dataset...\n",
      "🔄 Calculating TA features (ta_15m_20241022_20241023_100)...\n",
      "✅ TA features calculated and cached: 10 features (0.00s)\n",
      "   ✅ TA features calculated in 0.00s (10 features)\n",
      "📊 Step 2/3: Extracting levels for 100 candles...\n"
     ]
    },
    {
     "name": "stderr",
     "output_type": "stream",
     "text": [
      "Extracting levels:   0%|          | 0/100 [00:00<?, ?it/s]"
     ]
    },
    {
     "name": "stdout",
     "output_type": "stream",
     "text": [
      "      🔧 zigzag_middleware: 0.012s\n"
     ]
    },
    {
     "name": "stderr",
     "output_type": "stream",
     "text": [
      "Extracting levels:   1%|          | 1/100 [00:00<00:15,  6.55it/s]"
     ]
    },
    {
     "name": "stdout",
     "output_type": "stream",
     "text": [
      "      🔧 volume_profile_middleware: 0.014s\n",
      "   ⏱️  [W] Total: 0.028s | Copy: 0ms | Filter: 0ms | Init: 0ms | Run: 28ms | Extract: 0ms | Cache: 0ms\n",
      "      🔧 zigzag_middleware: 0.033s\n",
      "      🔧 volume_profile_middleware: 0.053s\n",
      "   ⏱️  [D] Total: 0.094s | Copy: 0ms | Filter: 0ms | Init: 0ms | Run: 93ms | Extract: 0ms | Cache: 1ms\n",
      "   ⏱️  [1h] Total: 0.011s | Copy: 0ms | Filter: 0ms | Init: 0ms | Run: 11ms | Extract: 0ms | Cache: 0ms\n",
      "   ⏱️  [1h] Total: 0.011s | Copy: 0ms | Filter: 0ms | Init: 0ms | Run: 11ms | Extract: 0ms | Cache: 0ms\n",
      "   ⏱️  [1h] Total: 0.012s | Copy: 0ms | Filter: 0ms | Init: 0ms | Run: 12ms | Extract: 0ms | Cache: 0ms\n",
      "   ⏱️  [1h] Total: 0.012s | Copy: 0ms | Filter: 0ms | Init: 0ms | Run: 12ms | Extract: 0ms | Cache: 0ms"
     ]
    },
    {
     "name": "stderr",
     "output_type": "stream",
     "text": [
      "Extracting levels:  10%|█         | 10/100 [00:00<00:02, 30.52it/s]"
     ]
    },
    {
     "name": "stdout",
     "output_type": "stream",
     "text": [
      "\n",
      "   ⏱️  [1h] Total: 0.011s | Copy: 0ms | Filter: 0ms | Init: 0ms | Run: 11ms | Extract: 0ms | Cache: 0ms\n",
      "   ⏱️  [1h] Total: 0.011s | Copy: 0ms | Filter: 0ms | Init: 0ms | Run: 11ms | Extract: 0ms | Cache: 0ms\n",
      "   ⏱️  [1h] Total: 0.011s | Copy: 0ms | Filter: 0ms | Init: 0ms | Run: 11ms | Extract: 0ms | Cache: 0ms\n",
      "   ⏱️  [1h] Total: 0.011s | Copy: 0ms | Filter: 0ms | Init: 0ms | Run: 11ms | Extract: 0ms | Cache: 0ms\n",
      "   ⏱️  [1h] Total: 0.011s | Copy: 0ms | Filter: 0ms | Init: 0ms | Run: 11ms | Extract: 0ms | Cache: 0ms\n",
      "   ⏱️  [1h] Total: 0.012s | Copy: 0ms | Filter: 0ms | Init: 0ms | Run: 11ms | Extract: 0ms | Cache: 0ms\n",
      "   ⏱️  [1h] Total: 0.011s | Copy: 0ms | Filter: 0ms | Init: 0ms | Run: 11ms | Extract: 0ms | Cache: 0ms\n",
      "   ⏱️  [1h] Total: 0.011s | Copy: 0ms | Filter: 0ms | Init: 0ms | Run: 11ms | Extract: 0ms | Cache: 0ms\n"
     ]
    },
    {
     "name": "stderr",
     "output_type": "stream",
     "text": [
      "Extracting levels:  18%|█▊        | 18/100 [00:00<00:02, 35.70it/s]"
     ]
    },
    {
     "name": "stdout",
     "output_type": "stream",
     "text": [
      "   ⏱️  [1h] Total: 0.011s | Copy: 0ms | Filter: 0ms | Init: 0ms | Run: 10ms | Extract: 0ms | Cache: 0ms\n",
      "   ⏱️  [1h] Total: 0.011s | Copy: 0ms | Filter: 0ms | Init: 0ms | Run: 11ms | Extract: 0ms | Cache: 0ms\n",
      "   ⏱️  [1h] Total: 0.011s | Copy: 0ms | Filter: 0ms | Init: 0ms | Run: 11ms | Extract: 0ms | Cache: 0ms\n",
      "   ⏱️  [1h] Total: 0.011s | Copy: 0ms | Filter: 0ms | Init: 0ms | Run: 11ms | Extract: 0ms | Cache: 0ms\n",
      "   ⏱️  [1h] Total: 0.011s | Copy: 0ms | Filter: 0ms | Init: 0ms | Run: 11ms | Extract: 0ms | Cache: 0ms\n",
      "   ⏱️  [1h] Total: 0.011s | Copy: 0ms | Filter: 0ms | Init: 0ms | Run: 11ms | Extract: 0ms | Cache: 0ms\n",
      "   ⏱️  [1h] Total: 0.012s | Copy: 0ms | Filter: 0ms | Init: 0ms | Run: 12ms | Extract: 0ms | Cache: 0ms\n",
      "   ⏱️  [1h] Total: 0.011s | Copy: 0ms | Filter: 0ms | Init: 0ms | Run: 11ms | Extract: 0ms | Cache: 0ms\n"
     ]
    },
    {
     "name": "stderr",
     "output_type": "stream",
     "text": [
      "Extracting levels:  26%|██▌       | 26/100 [00:00<00:02, 36.12it/s]"
     ]
    },
    {
     "name": "stdout",
     "output_type": "stream",
     "text": [
      "   ⏱️  [1h] Total: 0.012s | Copy: 0ms | Filter: 0ms | Init: 0ms | Run: 12ms | Extract: 0ms | Cache: 0ms\n",
      "   ⏱️  [1h] Total: 0.012s | Copy: 0ms | Filter: 0ms | Init: 0ms | Run: 11ms | Extract: 0ms | Cache: 0ms\n",
      "   ⏱️  [1h] Total: 0.011s | Copy: 0ms | Filter: 0ms | Init: 0ms | Run: 11ms | Extract: 0ms | Cache: 0ms\n",
      "   ⏱️  [1h] Total: 0.017s | Copy: 0ms | Filter: 0ms | Init: 0ms | Run: 17ms | Extract: 0ms | Cache: 0ms\n",
      "   ⏱️  [15m] Total: 0.011s | Copy: 0ms | Filter: 0ms | Init: 0ms | Run: 11ms | Extract: 0ms | Cache: 0ms\n",
      "   ⏱️  [1h] Total: 0.014s | Copy: 0ms | Filter: 0ms | Init: 0ms | Run: 13ms | Extract: 0ms | Cache: 0ms\n",
      "   ⏱️  [1h] Total: 0.011s | Copy: 0ms | Filter: 0ms | Init: 0ms | Run: 11ms | Extract: 0ms | Cache: 0ms\n",
      "   ⏱️  [1h] Total: 0.011s | Copy: 0ms | Filter: 0ms | Init: 0ms | Run: 11ms | Extract: 0ms | Cache: 0ms\n",
      "   ⏱️  [15m] Total: 0.010s | Copy: 0ms | Filter: 0ms | Init: 0ms | Run: 10ms | Extract: 0ms | Cache: 0ms\n",
      "   ⏱️  [1h] Total: 0.012s | Copy: 0ms | Filter: 0ms | Init: 0ms | Run: 11ms | Extract: 0ms | Cache: 0ms\n"
     ]
    },
    {
     "name": "stderr",
     "output_type": "stream",
     "text": [
      "Extracting levels:  34%|███▍      | 34/100 [00:01<00:01, 36.00it/s]"
     ]
    },
    {
     "name": "stdout",
     "output_type": "stream",
     "text": [
      "   ⏱️  [15m] Total: 0.012s | Copy: 0ms | Filter: 0ms | Init: 0ms | Run: 11ms | Extract: 0ms | Cache: 0ms\n",
      "   ⏱️  [1h] Total: 0.012s | Copy: 0ms | Filter: 0ms | Init: 0ms | Run: 11ms | Extract: 0ms | Cache: 0ms\n",
      "   ⏱️  [1h] Total: 0.012s | Copy: 0ms | Filter: 0ms | Init: 0ms | Run: 12ms | Extract: 0ms | Cache: 0ms\n",
      "   ⏱️  [1h] Total: 0.011s | Copy: 0ms | Filter: 0ms | Init: 0ms | Run: 11ms | Extract: 0ms | Cache: 0ms\n",
      "   ⏱️  [1h] Total: 0.011s | Copy: 0ms | Filter: 0ms | Init: 0ms | Run: 11ms | Extract: 0ms | Cache: 0ms\n",
      "   ⏱️  [15m] Total: 0.010s | Copy: 0ms | Filter: 0ms | Init: 0ms | Run: 10ms | Extract: 0ms | Cache: 0ms\n",
      "   ⏱️  [1h] Total: 0.014s | Copy: 0ms | Filter: 0ms | Init: 0ms | Run: 13ms | Extract: 0ms | Cache: 0ms\n",
      "   ⏱️  [15m] Total: 0.010s | Copy: 0ms | Filter: 0ms | Init: 0ms | Run: 10ms | Extract: 0ms | Cache: 0ms\n",
      "   ⏱️  [1h] Total: 0.012s | Copy: 0ms | Filter: 0ms | Init: 0ms | Run: 12ms | Extract: 0ms | Cache: 0ms\n",
      "   ⏱️  [1h] Total: 0.012s | Copy: 0ms | Filter: 0ms | Init: 0ms | Run: 12ms | Extract: 0ms | Cache: 0ms\n",
      "   ⏱️  [15m] Total: 0.010s | Copy: 0ms | Filter: 0ms | Init: 0ms | Run: 9ms | Extract: 0ms | Cache: 1ms\n"
     ]
    },
    {
     "name": "stderr",
     "output_type": "stream",
     "text": [
      "Extracting levels:  42%|████▏     | 42/100 [00:01<00:01, 35.42it/s]"
     ]
    },
    {
     "name": "stdout",
     "output_type": "stream",
     "text": [
      "   ⏱️  [1h] Total: 0.011s | Copy: 0ms | Filter: 0ms | Init: 0ms | Run: 11ms | Extract: 0ms | Cache: 0ms\n",
      "   ⏱️  [15m] Total: 0.011s | Copy: 0ms | Filter: 0ms | Init: 0ms | Run: 11ms | Extract: 0ms | Cache: 0ms\n",
      "   ⏱️  [1h] Total: 0.011s | Copy: 0ms | Filter: 0ms | Init: 0ms | Run: 11ms | Extract: 0ms | Cache: 0ms\n",
      "   ⏱️  [15m] Total: 0.011s | Copy: 0ms | Filter: 0ms | Init: 0ms | Run: 11ms | Extract: 0ms | Cache: 0ms\n",
      "   ⏱️  [1h] Total: 0.012s | Copy: 0ms | Filter: 0ms | Init: 0ms | Run: 12ms | Extract: 0ms | Cache: 0ms\n",
      "   ⏱️  [15m] Total: 0.011s | Copy: 0ms | Filter: 0ms | Init: 0ms | Run: 11ms | Extract: 0ms | Cache: 0ms\n",
      "   ⏱️  [1h] Total: 0.011s | Copy: 0ms | Filter: 0ms | Init: 0ms | Run: 10ms | Extract: 0ms | Cache: 0ms\n",
      "   ⏱️  [15m] Total: 0.011s | Copy: 0ms | Filter: 0ms | Init: 0ms | Run: 10ms | Extract: 0ms | Cache: 0ms\n",
      "   ⏱️  [1h] Total: 0.012s | Copy: 0ms | Filter: 0ms | Init: 0ms | Run: 12ms | Extract: 0ms | Cache: 0ms\n",
      "   ⏱️  [15m] Total: 0.012s | Copy: 0ms | Filter: 0ms | Init: 0ms | Run: 12ms | Extract: 0ms | Cache: 0ms\n",
      "   ⏱️  [1h] Total: 0.011s | Copy: 0ms | Filter: 0ms | Init: 0ms | Run: 11ms | Extract: 0ms | Cache: 0ms\n",
      "   ⏱️  [1h] Total: 0.012s | Copy: 0ms | Filter: 0ms | Init: 0ms | Run: 11ms | Extract: 0ms | Cache: 0ms\n",
      "   ⏱️  [15m] Total: 0.010s | Copy: 0ms | Filter: 0ms | Init: 0ms | Run: 10ms | Extract: 0ms | Cache: 0ms\n"
     ]
    },
    {
     "name": "stderr",
     "output_type": "stream",
     "text": [
      "Extracting levels:  50%|█████     | 50/100 [00:01<00:01, 35.91it/s]"
     ]
    },
    {
     "name": "stdout",
     "output_type": "stream",
     "text": [
      "   ⏱️  [1h] Total: 0.011s | Copy: 0ms | Filter: 0ms | Init: 0ms | Run: 11ms | Extract: 0ms | Cache: 0ms\n",
      "   ⏱️  [15m] Total: 0.011s | Copy: 0ms | Filter: 0ms | Init: 0ms | Run: 10ms | Extract: 0ms | Cache: 0ms\n",
      "   ⏱️  [1h] Total: 0.012s | Copy: 0ms | Filter: 0ms | Init: 0ms | Run: 11ms | Extract: 0ms | Cache: 1ms\n",
      "   ⏱️  [15m] Total: 0.010s | Copy: 0ms | Filter: 0ms | Init: 0ms | Run: 10ms | Extract: 0ms | Cache: 0ms\n",
      "   ⏱️  [1h] Total: 0.011s | Copy: 0ms | Filter: 0ms | Init: 0ms | Run: 11ms | Extract: 0ms | Cache: 0ms\n",
      "   ⏱️  [15m] Total: 0.010s | Copy: 0ms | Filter: 0ms | Init: 0ms | Run: 10ms | Extract: 0ms | Cache: 0ms\n",
      "   ⏱️  [1h] Total: 0.011s | Copy: 0ms | Filter: 0ms | Init: 0ms | Run: 11ms | Extract: 0ms | Cache: 0ms\n",
      "   ⏱️  [15m] Total: 0.010s | Copy: 0ms | Filter: 0ms | Init: 0ms | Run: 9ms | Extract: 0ms | Cache: 0ms\n",
      "   ⏱️  [1h] Total: 0.012s | Copy: 0ms | Filter: 0ms | Init: 0ms | Run: 12ms | Extract: 0ms | Cache: 0ms\n",
      "   ⏱️  [15m] Total: 0.010s | Copy: 0ms | Filter: 0ms | Init: 0ms | Run: 10ms | Extract: 0ms | Cache: 0ms\n",
      "   ⏱️  [1h] Total: 0.011s | Copy: 0ms | Filter: 0ms | Init: 0ms | Run: 11ms | Extract: 0ms | Cache: 0ms\n",
      "   ⏱️  [15m] Total: 0.010s | Copy: 0ms | Filter: 0ms | Init: 0ms | Run: 10ms | Extract: 0ms | Cache: 0ms\n",
      "   ⏱️  [1h] Total: 0.011s | Copy: 0ms | Filter: 0ms | Init: 0ms | Run: 11ms | Extract: 0ms | Cache: 0ms\n",
      "   ⏱️  [15m] Total: 0.010s | Copy: 0ms | Filter: 0ms | Init: 0ms | Run: 10ms | Extract: 0ms | Cache: 0ms\n",
      "   ⏱️  [1h] Total: 0.011s | Copy: 0ms | Filter: 0ms | Init: 0ms | Run: 11ms | Extract: 0ms | Cache: 0ms\n",
      "   ⏱️  [15m] Total: 0.010s | Copy: 0ms | Filter: 0ms | Init: 0ms | Run: 9ms | Extract: 0ms | Cache: 0ms\n"
     ]
    },
    {
     "name": "stderr",
     "output_type": "stream",
     "text": [
      "Extracting levels:  54%|█████▍    | 54/100 [00:01<00:01, 36.00it/s]"
     ]
    },
    {
     "name": "stdout",
     "output_type": "stream",
     "text": [
      "   ⏱️  [1h] Total: 0.012s | Copy: 0ms | Filter: 0ms | Init: 0ms | Run: 11ms | Extract: 0ms | Cache: 1ms\n",
      "   ⏱️  [1h] Total: 0.011s | Copy: 0ms | Filter: 0ms | Init: 0ms | Run: 11ms | Extract: 0ms | Cache: 0ms\n",
      "   ⏱️  [15m] Total: 0.010s | Copy: 0ms | Filter: 0ms | Init: 0ms | Run: 10ms | Extract: 0ms | Cache: 0ms\n",
      "   ⏱️  [1h] Total: 0.011s | Copy: 0ms | Filter: 0ms | Init: 0ms | Run: 11ms | Extract: 0ms | Cache: 0ms\n",
      "   ⏱️  [15m] Total: 0.010s | Copy: 0ms | Filter: 0ms | Init: 0ms | Run: 10ms | Extract: 0ms | Cache: 0ms\n",
      "   ⏱️  [1h] Total: 0.012s | Copy: 0ms | Filter: 0ms | Init: 0ms | Run: 12ms | Extract: 0ms | Cache: 0ms\n",
      "   ⏱️  [15m] Total: 0.010s | Copy: 0ms | Filter: 0ms | Init: 0ms | Run: 10ms | Extract: 0ms | Cache: 0ms\n",
      "   ⏱️  [1h] Total: 0.012s | Copy: 0ms | Filter: 0ms | Init: 0ms | Run: 12ms | Extract: 0ms | Cache: 0ms\n",
      "   ⏱️  [1h] Total: 0.012s | Copy: 0ms | Filter: 0ms | Init: 0ms | Run: 10ms | Extract: 0ms | Cache: 1ms\n",
      "   ⏱️  [15m] Total: 0.010s | Copy: 0ms | Filter: 0ms | Init: 0ms | Run: 10ms | Extract: 0ms | Cache: 0ms\n",
      "   ⏱️  [1h] Total: 0.012s | Copy: 0ms | Filter: 0ms | Init: 0ms | Run: 11ms | Extract: 0ms | Cache: 0ms\n",
      "   ⏱️  [15m] Total: 0.011s | Copy: 0ms | Filter: 0ms | Init: 0ms | Run: 10ms | Extract: 0ms | Cache: 1ms\n"
     ]
    },
    {
     "name": "stderr",
     "output_type": "stream",
     "text": [
      "Extracting levels:  62%|██████▏   | 62/100 [00:01<00:01, 35.21it/s]"
     ]
    },
    {
     "name": "stdout",
     "output_type": "stream",
     "text": [
      "   ⏱️  [1h] Total: 0.013s | Copy: 0ms | Filter: 0ms | Init: 0ms | Run: 13ms | Extract: 0ms | Cache: 0ms\n",
      "   ⏱️  [15m] Total: 0.011s | Copy: 0ms | Filter: 0ms | Init: 0ms | Run: 11ms | Extract: 0ms | Cache: 0ms\n",
      "   ⏱️  [1h] Total: 0.011s | Copy: 0ms | Filter: 0ms | Init: 0ms | Run: 11ms | Extract: 0ms | Cache: 0ms\n",
      "   ⏱️  [15m] Total: 0.011s | Copy: 0ms | Filter: 0ms | Init: 0ms | Run: 11ms | Extract: 0ms | Cache: 0ms\n",
      "   ⏱️  [1h] Total: 0.011s | Copy: 0ms | Filter: 0ms | Init: 0ms | Run: 11ms | Extract: 0ms | Cache: 0ms\n",
      "   ⏱️  [15m] Total: 0.012s | Copy: 0ms | Filter: 0ms | Init: 0ms | Run: 11ms | Extract: 0ms | Cache: 0ms\n",
      "   ⏱️  [1h] Total: 0.011s | Copy: 0ms | Filter: 0ms | Init: 0ms | Run: 11ms | Extract: 0ms | Cache: 0ms\n",
      "   ⏱️  [15m] Total: 0.012s | Copy: 0ms | Filter: 0ms | Init: 0ms | Run: 11ms | Extract: 0ms | Cache: 0ms\n",
      "   ⏱️  [1h] Total: 0.012s | Copy: 0ms | Filter: 0ms | Init: 0ms | Run: 12ms | Extract: 0ms | Cache: 0ms\n",
      "   ⏱️  [15m] Total: 0.012s | Copy: 0ms | Filter: 0ms | Init: 0ms | Run: 12ms | Extract: 0ms | Cache: 0ms\n",
      "   ⏱️  [1h] Total: 0.012s | Copy: 0ms | Filter: 0ms | Init: 0ms | Run: 11ms | Extract: 0ms | Cache: 0ms\n",
      "      🔧 zigzag_middleware: 0.010s\n",
      "   ⏱️  [15m] Total: 0.013s | Copy: 0ms | Filter: 0ms | Init: 0ms | Run: 11ms | Extract: 1ms | Cache: 0ms\n",
      "   ⏱️  [1h] Total: 0.012s | Copy: 0ms | Filter: 0ms | Init: 0ms | Run: 12ms | Extract: 0ms | Cache: 0ms\n",
      "      🔧 zigzag_middleware: 0.011s\n",
      "   ⏱️  [15m] Total: 0.012s | Copy: 0ms | Filter: 0ms | Init: 0ms | Run: 12ms | Extract: 0ms | Cache: 0ms\n"
     ]
    },
    {
     "name": "stderr",
     "output_type": "stream",
     "text": [
      "Extracting levels:  66%|██████▌   | 66/100 [00:01<00:00, 34.41it/s]"
     ]
    },
    {
     "name": "stdout",
     "output_type": "stream",
     "text": [
      "   ⏱️  [1h] Total: 0.011s | Copy: 0ms | Filter: 0ms | Init: 0ms | Run: 11ms | Extract: 0ms | Cache: 0ms\n",
      "      🔧 zigzag_middleware: 0.011s\n",
      "   ⏱️  [15m] Total: 0.013s | Copy: 0ms | Filter: 0ms | Init: 0ms | Run: 13ms | Extract: 0ms | Cache: 0ms\n",
      "   ⏱️  [1h] Total: 0.012s | Copy: 0ms | Filter: 0ms | Init: 0ms | Run: 11ms | Extract: 0ms | Cache: 1ms\n",
      "      🔧 zigzag_middleware: 0.011s\n",
      "   ⏱️  [15m] Total: 0.012s | Copy: 0ms | Filter: 0ms | Init: 0ms | Run: 12ms | Extract: 0ms | Cache: 0ms\n",
      "      🔧 zigzag_middleware: 0.034s\n",
      "      🔧 volume_profile_middleware: 0.055s\n",
      "   ⏱️  [D] Total: 0.095s | Copy: 0ms | Filter: 0ms | Init: 0ms | Run: 95ms | Extract: 0ms | Cache: 0ms\n",
      "   ⏱️  [1h] Total: 0.011s | Copy: 0ms | Filter: 0ms | Init: 0ms | Run: 11ms | Extract: 0ms | Cache: 0ms\n",
      "      🔧 zigzag_middleware: 0.011s\n",
      "   ⏱️  [15m] Total: 0.012s | Copy: 0ms | Filter: 0ms | Init: 0ms | Run: 12ms | Extract: 0ms | Cache: 0ms\n",
      "   ⏱️  [1h] Total: 0.011s | Copy: 0ms | Filter: 0ms | Init: 0ms | Run: 11ms | Extract: 0ms | Cache: 0ms\n",
      "      🔧 zigzag_middleware: 0.010s\n",
      "   ⏱️  [15m] Total: 0.012s | Copy: 0ms | Filter: 0ms | Init: 0ms | Run: 12ms | Extract: 0ms | Cache: 0ms\n",
      "   ⏱️  [1h] Total: 0.011s | Copy: 0ms | Filter: 0ms | Init: 0ms | Run: 11ms | Extract: 0ms | Cache: 0ms\n",
      "      🔧 zigzag_middleware: 0.010s\n"
     ]
    },
    {
     "name": "stderr",
     "output_type": "stream",
     "text": [
      "Extracting levels:  74%|███████▍  | 74/100 [00:02<00:00, 29.11it/s]"
     ]
    },
    {
     "name": "stdout",
     "output_type": "stream",
     "text": [
      "   ⏱️  [15m] Total: 0.013s | Copy: 0ms | Filter: 0ms | Init: 0ms | Run: 13ms | Extract: 0ms | Cache: 0ms\n",
      "   ⏱️  [1h] Total: 0.011s | Copy: 0ms | Filter: 0ms | Init: 0ms | Run: 11ms | Extract: 0ms | Cache: 0ms\n",
      "      🔧 zigzag_middleware: 0.010s\n",
      "   ⏱️  [15m] Total: 0.012s | Copy: 0ms | Filter: 0ms | Init: 0ms | Run: 11ms | Extract: 0ms | Cache: 1ms\n",
      "   ⏱️  [1h] Total: 0.012s | Copy: 0ms | Filter: 0ms | Init: 0ms | Run: 11ms | Extract: 0ms | Cache: 0ms\n",
      "      🔧 zigzag_middleware: 0.011s\n",
      "   ⏱️  [15m] Total: 0.013s | Copy: 0ms | Filter: 0ms | Init: 0ms | Run: 13ms | Extract: 0ms | Cache: 0ms\n",
      "   ⏱️  [1h] Total: 0.012s | Copy: 0ms | Filter: 0ms | Init: 0ms | Run: 11ms | Extract: 0ms | Cache: 0ms\n",
      "   ⏱️  [15m] Total: 0.012s | Copy: 0ms | Filter: 0ms | Init: 0ms | Run: 12ms | Extract: 0ms | Cache: 0ms\n",
      "   ⏱️  [1h] Total: 0.011s | Copy: 0ms | Filter: 0ms | Init: 0ms | Run: 11ms | Extract: 0ms | Cache: 0ms\n",
      "      🔧 zigzag_middleware: 0.010s\n",
      "   ⏱️  [15m] Total: 0.011s | Copy: 0ms | Filter: 0ms | Init: 0ms | Run: 11ms | Extract: 0ms | Cache: 0ms\n",
      "   ⏱️  [1h] Total: 0.011s | Copy: 0ms | Filter: 0ms | Init: 0ms | Run: 11ms | Extract: 0ms | Cache: 0ms\n",
      "   ⏱️  [15m] Total: 0.012s | Copy: 0ms | Filter: 0ms | Init: 0ms | Run: 11ms | Extract: 0ms | Cache: 0ms\n",
      "   ⏱️  [1h] Total: 0.012s | Copy: 0ms | Filter: 0ms | Init: 0ms | Run: 11ms | Extract: 0ms | Cache: 0ms\n",
      "      🔧 zigzag_middleware: 0.010s\n",
      "   ⏱️  [15m] Total: 0.012s | Copy: 0ms | Filter: 0ms | Init: 0ms | Run: 11ms | Extract: 0ms | Cache: 1ms\n"
     ]
    },
    {
     "name": "stderr",
     "output_type": "stream",
     "text": [
      "Extracting levels:  78%|███████▊  | 78/100 [00:02<00:00, 30.36it/s]"
     ]
    },
    {
     "name": "stdout",
     "output_type": "stream",
     "text": [
      "   ⏱️  [1h] Total: 0.012s | Copy: 0ms | Filter: 0ms | Init: 0ms | Run: 11ms | Extract: 1ms | Cache: 0ms\n",
      "   ⏱️  [15m] Total: 0.011s | Copy: 0ms | Filter: 0ms | Init: 0ms | Run: 11ms | Extract: 0ms | Cache: 0ms\n",
      "   ⏱️  [1h] Total: 0.011s | Copy: 0ms | Filter: 0ms | Init: 0ms | Run: 11ms | Extract: 0ms | Cache: 0ms\n",
      "   ⏱️  [15m] Total: 0.012s | Copy: 0ms | Filter: 0ms | Init: 0ms | Run: 12ms | Extract: 0ms | Cache: 0ms\n",
      "   ⏱️  [1h] Total: 0.011s | Copy: 0ms | Filter: 0ms | Init: 0ms | Run: 11ms | Extract: 0ms | Cache: 0ms\n",
      "   ⏱️  [15m] Total: 0.012s | Copy: 0ms | Filter: 0ms | Init: 0ms | Run: 12ms | Extract: 0ms | Cache: 0ms\n",
      "   ⏱️  [1h] Total: 0.013s | Copy: 0ms | Filter: 0ms | Init: 0ms | Run: 12ms | Extract: 0ms | Cache: 0ms\n",
      "      🔧 zigzag_middleware: 0.014s\n",
      "   ⏱️  [15m] Total: 0.017s | Copy: 0ms | Filter: 0ms | Init: 0ms | Run: 16ms | Extract: 0ms | Cache: 0ms\n",
      "   ⏱️  [1h] Total: 0.014s | Copy: 0ms | Filter: 0ms | Init: 0ms | Run: 14ms | Extract: 0ms | Cache: 0ms\n",
      "      🔧 zigzag_middleware: 0.013s\n",
      "   ⏱️  [15m] Total: 0.015s | Copy: 0ms | Filter: 0ms | Init: 0ms | Run: 15ms | Extract: 0ms | Cache: 0ms\n",
      "   ⏱️  [1h] Total: 0.011s | Copy: 0ms | Filter: 0ms | Init: 0ms | Run: 11ms | Extract: 0ms | Cache: 0ms\n",
      "      🔧 zigzag_middleware: 0.011s\n",
      "   ⏱️  [15m] Total: 0.012s | Copy: 0ms | Filter: 0ms | Init: 0ms | Run: 12ms | Extract: 0ms | Cache: 0ms\n",
      "   ⏱️  [1h] Total: 0.012s | Copy: 0ms | Filter: 0ms | Init: 0ms | Run: 10ms | Extract: 1ms | Cache: 0ms\n"
     ]
    },
    {
     "name": "stderr",
     "output_type": "stream",
     "text": [
      "Extracting levels:  86%|████████▌ | 86/100 [00:02<00:00, 31.22it/s]"
     ]
    },
    {
     "name": "stdout",
     "output_type": "stream",
     "text": [
      "   ⏱️  [15m] Total: 0.012s | Copy: 0ms | Filter: 0ms | Init: 0ms | Run: 12ms | Extract: 0ms | Cache: 0ms\n",
      "   ⏱️  [1h] Total: 0.011s | Copy: 0ms | Filter: 0ms | Init: 0ms | Run: 11ms | Extract: 0ms | Cache: 0ms\n",
      "      🔧 zigzag_middleware: 0.010s\n",
      "   ⏱️  [15m] Total: 0.013s | Copy: 0ms | Filter: 0ms | Init: 0ms | Run: 12ms | Extract: 0ms | Cache: 0ms\n",
      "   ⏱️  [1h] Total: 0.011s | Copy: 0ms | Filter: 0ms | Init: 0ms | Run: 11ms | Extract: 0ms | Cache: 0ms\n",
      "      🔧 zigzag_middleware: 0.010s\n",
      "   ⏱️  [15m] Total: 0.012s | Copy: 0ms | Filter: 0ms | Init: 0ms | Run: 12ms | Extract: 0ms | Cache: 0ms\n",
      "   ⏱️  [1h] Total: 0.011s | Copy: 0ms | Filter: 0ms | Init: 0ms | Run: 11ms | Extract: 0ms | Cache: 0ms\n",
      "   ⏱️  [15m] Total: 0.011s | Copy: 0ms | Filter: 0ms | Init: 0ms | Run: 11ms | Extract: 0ms | Cache: 0ms\n",
      "   ⏱️  [1h] Total: 0.012s | Copy: 0ms | Filter: 0ms | Init: 0ms | Run: 10ms | Extract: 0ms | Cache: 1ms\n",
      "   ⏱️  [15m] Total: 0.011s | Copy: 0ms | Filter: 0ms | Init: 0ms | Run: 11ms | Extract: 0ms | Cache: 0ms\n",
      "   ⏱️  [1h] Total: 0.011s | Copy: 0ms | Filter: 0ms | Init: 0ms | Run: 11ms | Extract: 0ms | Cache: 0ms\n",
      "   ⏱️  [15m] Total: 0.011s | Copy: 0ms | Filter: 0ms | Init: 0ms | Run: 11ms | Extract: 0ms | Cache: 0ms\n",
      "   ⏱️  [1h] Total: 0.012s | Copy: 0ms | Filter: 0ms | Init: 0ms | Run: 11ms | Extract: 0ms | Cache: 0ms\n",
      "      🔧 zigzag_middleware: 0.010s\n",
      "   ⏱️  [15m] Total: 0.012s | Copy: 0ms | Filter: 0ms | Init: 0ms | Run: 12ms | Extract: 0ms | Cache: 0ms\n",
      "   ⏱️  [1h] Total: 0.011s | Copy: 0ms | Filter: 0ms | Init: 0ms | Run: 11ms | Extract: 0ms | Cache: 0ms\n",
      "   ⏱️  [15m] Total: 0.012s | Copy: 0ms | Filter: 0ms | Init: 0ms | Run: 12ms | Extract: 0ms | Cache: 0ms\n"
     ]
    },
    {
     "name": "stderr",
     "output_type": "stream",
     "text": [
      "Extracting levels:  94%|█████████▍| 94/100 [00:02<00:00, 31.97it/s]"
     ]
    },
    {
     "name": "stdout",
     "output_type": "stream",
     "text": [
      "   ⏱️  [1h] Total: 0.012s | Copy: 0ms | Filter: 0ms | Init: 0ms | Run: 12ms | Extract: 0ms | Cache: 0ms\n",
      "      🔧 zigzag_middleware: 0.010s\n",
      "   ⏱️  [15m] Total: 0.014s | Copy: 0ms | Filter: 0ms | Init: 0ms | Run: 13ms | Extract: 0ms | Cache: 0ms\n",
      "   ⏱️  [1h] Total: 0.012s | Copy: 0ms | Filter: 0ms | Init: 0ms | Run: 12ms | Extract: 0ms | Cache: 0ms\n",
      "      🔧 zigzag_middleware: 0.010s\n",
      "   ⏱️  [15m] Total: 0.012s | Copy: 0ms | Filter: 0ms | Init: 0ms | Run: 12ms | Extract: 0ms | Cache: 0ms\n",
      "   ⏱️  [1h] Total: 0.011s | Copy: 0ms | Filter: 0ms | Init: 0ms | Run: 11ms | Extract: 0ms | Cache: 0ms\n",
      "   ⏱️  [15m] Total: 0.011s | Copy: 0ms | Filter: 0ms | Init: 0ms | Run: 11ms | Extract: 0ms | Cache: 0ms\n",
      "   ⏱️  [1h] Total: 0.012s | Copy: 0ms | Filter: 0ms | Init: 0ms | Run: 11ms | Extract: 0ms | Cache: 0ms\n",
      "   ⏱️  [15m] Total: 0.012s | Copy: 0ms | Filter: 0ms | Init: 0ms | Run: 12ms | Extract: 0ms | Cache: 0ms\n",
      "   ⏱️  [1h] Total: 0.013s | Copy: 0ms | Filter: 0ms | Init: 0ms | Run: 13ms | Extract: 0ms | Cache: 0ms\n",
      "   ⏱️  [15m] Total: 0.012s | Copy: 0ms | Filter: 0ms | Init: 0ms | Run: 12ms | Extract: 0ms | Cache: 0ms\n",
      "   ⏱️  [1h] Total: 0.011s | Copy: 0ms | Filter: 0ms | Init: 0ms | Run: 11ms | Extract: 0ms | Cache: 0ms\n",
      "      🔧 zigzag_middleware: 0.011s\n",
      "   ⏱️  [15m] Total: 0.012s | Copy: 0ms | Filter: 0ms | Init: 0ms | Run: 12ms | Extract: 0ms | Cache: 0ms\n",
      "   ⏱️  [1h] Total: 0.011s | Copy: 0ms | Filter: 0ms | Init: 0ms | Run: 11ms | Extract: 0ms | Cache: 0ms\n",
      "      🔧 zigzag_middleware: 0.010s\n",
      "   ⏱️  [15m] Total: 0.012s | Copy: 0ms | Filter: 0ms | Init: 0ms | Run: 12ms | Extract: 0ms | Cache: 0ms\n"
     ]
    },
    {
     "name": "stderr",
     "output_type": "stream",
     "text": [
      "Extracting levels: 100%|██████████| 100/100 [00:03<00:00, 32.56it/s]\n"
     ]
    },
    {
     "name": "stdout",
     "output_type": "stream",
     "text": [
      "   ⏱️  [1h] Total: 0.012s | Copy: 0ms | Filter: 0ms | Init: 0ms | Run: 12ms | Extract: 0ms | Cache: 0ms\n",
      "   ⏱️  [15m] Total: 0.012s | Copy: 0ms | Filter: 0ms | Init: 0ms | Run: 12ms | Extract: 0ms | Cache: 0ms\n",
      "   ⏱️  [1h] Total: 0.013s | Copy: 0ms | Filter: 0ms | Init: 0ms | Run: 13ms | Extract: 0ms | Cache: 0ms\n",
      "   ⏱️  [15m] Total: 0.013s | Copy: 0ms | Filter: 0ms | Init: 0ms | Run: 12ms | Extract: 1ms | Cache: 0ms\n",
      "   ⏱️  [1h] Total: 0.013s | Copy: 0ms | Filter: 0ms | Init: 0ms | Run: 13ms | Extract: 0ms | Cache: 0ms\n",
      "   ⏱️  [15m] Total: 0.012s | Copy: 0ms | Filter: 0ms | Init: 0ms | Run: 12ms | Extract: 0ms | Cache: 0ms\n",
      "   ⏱️  [1h] Total: 0.012s | Copy: 0ms | Filter: 0ms | Init: 0ms | Run: 12ms | Extract: 0ms | Cache: 0ms\n",
      "   ⏱️  [15m] Total: 0.012s | Copy: 0ms | Filter: 0ms | Init: 0ms | Run: 12ms | Extract: 0ms | Cache: 0ms\n",
      "   ✅ Levels extracted in 3.07s\n",
      "🎯 Step 3/3: Calculating level features per candle...\n"
     ]
    },
    {
     "name": "stderr",
     "output_type": "stream",
     "text": [
      "Level features: 100%|██████████| 100/100 [00:00<00:00, 6828.00it/s]"
     ]
    },
    {
     "name": "stdout",
     "output_type": "stream",
     "text": [
      "   ✅ Level features calculated in 0.02s (37 features)\n",
      "🔮 Generating predictions for 100 candles...\n"
     ]
    },
    {
     "name": "stderr",
     "output_type": "stream",
     "text": [
      "\n"
     ]
    },
    {
     "name": "stdout",
     "output_type": "stream",
     "text": [
      "   ✅ Predictions generated in 0.10s\n",
      "\n",
      "🔍 Signal Analysis:\n",
      "   BUY signals: 0\n",
      "   SELL signals: 0\n",
      "\n",
      "======================================================================\n",
      "✅ OPTIMIZED BACKTESTING COMPLETE\n",
      "======================================================================\n",
      "⏱️  Total time: 3.19 seconds (0.05 minutes)\n",
      "📊 Processed: 100 candles\n",
      "   BUY: 0\n",
      "   SELL: 0\n",
      "   HOLD: 100\n",
      "⚡ Average time per candle: 31.91 milliseconds\n",
      "======================================================================\n",
      "\n",
      "\n",
      "🚀 Running backtest...\n",
      "\n",
      "🚀 Running VectorBT backtest...\n",
      "   Initial Capital: $1,000,000.00\n",
      "   Commission: 0.10%\n",
      "   Slippage: 0.05%\n",
      "✅ Backtest complete!\n",
      "\n",
      "============================================================\n",
      "📊 VECTORBT BACKTEST PERFORMANCE SUMMARY\n",
      "============================================================\n",
      "\n",
      "💰 Returns:\n",
      "   Total Return:            0.00%\n",
      "   Annualized Return:       0.00%\n",
      "   Final Value:       $1,000,000.00\n",
      "\n",
      "📈 Risk Metrics:\n",
      "   Sharpe Ratio:             inf\n",
      "   Max Drawdown:             nan%\n",
      "\n",
      "🎯 Trading Performance:\n",
      "   Total Trades:               0\n",
      "   Win Rate:                 nan%\n",
      "   Profit Factor:            nan\n",
      "\n",
      "============================================================\n",
      "\n",
      "=======================================================\n",
      "📋 TRADE ANALYSIS\n",
      "=======================================================\n",
      "⚠️  No trades executed during backtest period\n",
      "\n",
      "=======================================================\n",
      "✅ VECTORBT BACKTEST COMPLETE!\n",
      "=======================================================\n",
      "\n",
      "🎯 SIGNAL DISTRIBUTION:\n",
      "   BUY: 0 (0.0%)\n",
      "   SELL: 0 (0.0%)\n",
      "   HOLD: 100 (100.0%)\n",
      "\n",
      "📋 TRADING SIGNALS (0 total):\n",
      "   No trading signals generated\n",
      "\n",
      "✅ Progressive backtest complete!\n",
      "   ℹ️  Each candle was processed independently with levels extracted\n",
      "      at that point in time (no future data leakage)\n",
      "\n",
      "📊 Generating interactive plots...\n",
      "\n",
      "📊 Generating interactive plots...\n"
     ]
    },
    {
     "data": {
      "application/vnd.plotly.v1+json": {
       "config": {
        "plotlyServerURL": "https://plot.ly"
       },
       "data": [
        {
         "line": {
          "color": "blue"
         },
         "name": "Portfolio Value",
         "type": "scatter",
         "x": [
          "2024-10-22T07:30:00.000000000",
          "2024-10-22T07:45:00.000000000",
          "2024-10-22T08:00:00.000000000",
          "2024-10-22T08:15:00.000000000",
          "2024-10-22T08:30:00.000000000",
          "2024-10-22T08:45:00.000000000",
          "2024-10-22T09:00:00.000000000",
          "2024-10-22T09:15:00.000000000",
          "2024-10-22T09:30:00.000000000",
          "2024-10-22T09:45:00.000000000",
          "2024-10-22T10:00:00.000000000",
          "2024-10-22T10:15:00.000000000",
          "2024-10-22T10:30:00.000000000",
          "2024-10-22T10:45:00.000000000",
          "2024-10-22T11:00:00.000000000",
          "2024-10-22T11:15:00.000000000",
          "2024-10-22T11:30:00.000000000",
          "2024-10-22T11:45:00.000000000",
          "2024-10-22T12:00:00.000000000",
          "2024-10-22T12:15:00.000000000",
          "2024-10-22T12:30:00.000000000",
          "2024-10-22T12:45:00.000000000",
          "2024-10-22T13:00:00.000000000",
          "2024-10-22T13:15:00.000000000",
          "2024-10-22T13:30:00.000000000",
          "2024-10-22T13:45:00.000000000",
          "2024-10-22T14:00:00.000000000",
          "2024-10-22T14:15:00.000000000",
          "2024-10-22T14:30:00.000000000",
          "2024-10-22T14:45:00.000000000",
          "2024-10-22T15:00:00.000000000",
          "2024-10-22T15:15:00.000000000",
          "2024-10-22T15:30:00.000000000",
          "2024-10-22T15:45:00.000000000",
          "2024-10-22T16:00:00.000000000",
          "2024-10-22T16:15:00.000000000",
          "2024-10-22T16:30:00.000000000",
          "2024-10-22T16:45:00.000000000",
          "2024-10-22T17:00:00.000000000",
          "2024-10-22T17:15:00.000000000",
          "2024-10-22T17:30:00.000000000",
          "2024-10-22T17:45:00.000000000",
          "2024-10-22T18:00:00.000000000",
          "2024-10-22T18:15:00.000000000",
          "2024-10-22T18:30:00.000000000",
          "2024-10-22T18:45:00.000000000",
          "2024-10-22T19:00:00.000000000",
          "2024-10-22T19:15:00.000000000",
          "2024-10-22T19:30:00.000000000",
          "2024-10-22T19:45:00.000000000",
          "2024-10-22T20:00:00.000000000",
          "2024-10-22T20:15:00.000000000",
          "2024-10-22T20:30:00.000000000",
          "2024-10-22T20:45:00.000000000",
          "2024-10-22T21:00:00.000000000",
          "2024-10-22T21:15:00.000000000",
          "2024-10-22T21:30:00.000000000",
          "2024-10-22T21:45:00.000000000",
          "2024-10-22T22:00:00.000000000",
          "2024-10-22T22:15:00.000000000",
          "2024-10-22T22:30:00.000000000",
          "2024-10-22T22:45:00.000000000",
          "2024-10-22T23:00:00.000000000",
          "2024-10-22T23:15:00.000000000",
          "2024-10-22T23:30:00.000000000",
          "2024-10-22T23:45:00.000000000",
          "2024-10-23T00:00:00.000000000",
          "2024-10-23T00:15:00.000000000",
          "2024-10-23T00:30:00.000000000",
          "2024-10-23T00:45:00.000000000",
          "2024-10-23T01:00:00.000000000",
          "2024-10-23T01:15:00.000000000",
          "2024-10-23T01:30:00.000000000",
          "2024-10-23T01:45:00.000000000",
          "2024-10-23T02:00:00.000000000",
          "2024-10-23T02:15:00.000000000",
          "2024-10-23T02:30:00.000000000",
          "2024-10-23T02:45:00.000000000",
          "2024-10-23T03:00:00.000000000",
          "2024-10-23T03:15:00.000000000",
          "2024-10-23T03:30:00.000000000",
          "2024-10-23T03:45:00.000000000",
          "2024-10-23T04:00:00.000000000",
          "2024-10-23T04:15:00.000000000",
          "2024-10-23T04:30:00.000000000",
          "2024-10-23T04:45:00.000000000",
          "2024-10-23T05:00:00.000000000",
          "2024-10-23T05:15:00.000000000",
          "2024-10-23T05:30:00.000000000",
          "2024-10-23T05:45:00.000000000",
          "2024-10-23T06:00:00.000000000",
          "2024-10-23T06:15:00.000000000",
          "2024-10-23T06:30:00.000000000",
          "2024-10-23T06:45:00.000000000",
          "2024-10-23T07:00:00.000000000",
          "2024-10-23T07:15:00.000000000",
          "2024-10-23T07:30:00.000000000",
          "2024-10-23T07:45:00.000000000",
          "2024-10-23T08:00:00.000000000",
          "2024-10-23T08:15:00.000000000"
         ],
         "xaxis": "x",
         "y": {
          "bdata": "AAAAAICELkEAAAAAgIQuQQAAAACAhC5BAAAAAICELkEAAAAAgIQuQQAAAACAhC5BAAAAAICELkEAAAAAgIQuQQAAAACAhC5BAAAAAICELkEAAAAAgIQuQQAAAACAhC5BAAAAAICELkEAAAAAgIQuQQAAAACAhC5BAAAAAICELkEAAAAAgIQuQQAAAACAhC5BAAAAAICELkEAAAAAgIQuQQAAAACAhC5BAAAAAICELkEAAAAAgIQuQQAAAACAhC5BAAAAAICELkEAAAAAgIQuQQAAAACAhC5BAAAAAICELkEAAAAAgIQuQQAAAACAhC5BAAAAAICELkEAAAAAgIQuQQAAAACAhC5BAAAAAICELkEAAAAAgIQuQQAAAACAhC5BAAAAAICELkEAAAAAgIQuQQAAAACAhC5BAAAAAICELkEAAAAAgIQuQQAAAACAhC5BAAAAAICELkEAAAAAgIQuQQAAAACAhC5BAAAAAICELkEAAAAAgIQuQQAAAACAhC5BAAAAAICELkEAAAAAgIQuQQAAAACAhC5BAAAAAICELkEAAAAAgIQuQQAAAACAhC5BAAAAAICELkEAAAAAgIQuQQAAAACAhC5BAAAAAICELkEAAAAAgIQuQQAAAACAhC5BAAAAAICELkEAAAAAgIQuQQAAAACAhC5BAAAAAICELkEAAAAAgIQuQQAAAACAhC5BAAAAAICELkEAAAAAgIQuQQAAAACAhC5BAAAAAICELkEAAAAAgIQuQQAAAACAhC5BAAAAAICELkEAAAAAgIQuQQAAAACAhC5BAAAAAICELkEAAAAAgIQuQQAAAACAhC5BAAAAAICELkEAAAAAgIQuQQAAAACAhC5BAAAAAICELkEAAAAAgIQuQQAAAACAhC5BAAAAAICELkEAAAAAgIQuQQAAAACAhC5BAAAAAICELkEAAAAAgIQuQQAAAACAhC5BAAAAAICELkEAAAAAgIQuQQAAAACAhC5BAAAAAICELkEAAAAAgIQuQQAAAACAhC5BAAAAAICELkEAAAAAgIQuQQAAAACAhC5BAAAAAICELkE=",
          "dtype": "f8"
         },
         "yaxis": "y"
        },
        {
         "fill": "tozeroy",
         "line": {
          "color": "red"
         },
         "name": "Drawdown %",
         "type": "scatter",
         "x": [
          "2024-10-22T07:30:00.000000000",
          "2024-10-22T07:45:00.000000000",
          "2024-10-22T08:00:00.000000000",
          "2024-10-22T08:15:00.000000000",
          "2024-10-22T08:30:00.000000000",
          "2024-10-22T08:45:00.000000000",
          "2024-10-22T09:00:00.000000000",
          "2024-10-22T09:15:00.000000000",
          "2024-10-22T09:30:00.000000000",
          "2024-10-22T09:45:00.000000000",
          "2024-10-22T10:00:00.000000000",
          "2024-10-22T10:15:00.000000000",
          "2024-10-22T10:30:00.000000000",
          "2024-10-22T10:45:00.000000000",
          "2024-10-22T11:00:00.000000000",
          "2024-10-22T11:15:00.000000000",
          "2024-10-22T11:30:00.000000000",
          "2024-10-22T11:45:00.000000000",
          "2024-10-22T12:00:00.000000000",
          "2024-10-22T12:15:00.000000000",
          "2024-10-22T12:30:00.000000000",
          "2024-10-22T12:45:00.000000000",
          "2024-10-22T13:00:00.000000000",
          "2024-10-22T13:15:00.000000000",
          "2024-10-22T13:30:00.000000000",
          "2024-10-22T13:45:00.000000000",
          "2024-10-22T14:00:00.000000000",
          "2024-10-22T14:15:00.000000000",
          "2024-10-22T14:30:00.000000000",
          "2024-10-22T14:45:00.000000000",
          "2024-10-22T15:00:00.000000000",
          "2024-10-22T15:15:00.000000000",
          "2024-10-22T15:30:00.000000000",
          "2024-10-22T15:45:00.000000000",
          "2024-10-22T16:00:00.000000000",
          "2024-10-22T16:15:00.000000000",
          "2024-10-22T16:30:00.000000000",
          "2024-10-22T16:45:00.000000000",
          "2024-10-22T17:00:00.000000000",
          "2024-10-22T17:15:00.000000000",
          "2024-10-22T17:30:00.000000000",
          "2024-10-22T17:45:00.000000000",
          "2024-10-22T18:00:00.000000000",
          "2024-10-22T18:15:00.000000000",
          "2024-10-22T18:30:00.000000000",
          "2024-10-22T18:45:00.000000000",
          "2024-10-22T19:00:00.000000000",
          "2024-10-22T19:15:00.000000000",
          "2024-10-22T19:30:00.000000000",
          "2024-10-22T19:45:00.000000000",
          "2024-10-22T20:00:00.000000000",
          "2024-10-22T20:15:00.000000000",
          "2024-10-22T20:30:00.000000000",
          "2024-10-22T20:45:00.000000000",
          "2024-10-22T21:00:00.000000000",
          "2024-10-22T21:15:00.000000000",
          "2024-10-22T21:30:00.000000000",
          "2024-10-22T21:45:00.000000000",
          "2024-10-22T22:00:00.000000000",
          "2024-10-22T22:15:00.000000000",
          "2024-10-22T22:30:00.000000000",
          "2024-10-22T22:45:00.000000000",
          "2024-10-22T23:00:00.000000000",
          "2024-10-22T23:15:00.000000000",
          "2024-10-22T23:30:00.000000000",
          "2024-10-22T23:45:00.000000000",
          "2024-10-23T00:00:00.000000000",
          "2024-10-23T00:15:00.000000000",
          "2024-10-23T00:30:00.000000000",
          "2024-10-23T00:45:00.000000000",
          "2024-10-23T01:00:00.000000000",
          "2024-10-23T01:15:00.000000000",
          "2024-10-23T01:30:00.000000000",
          "2024-10-23T01:45:00.000000000",
          "2024-10-23T02:00:00.000000000",
          "2024-10-23T02:15:00.000000000",
          "2024-10-23T02:30:00.000000000",
          "2024-10-23T02:45:00.000000000",
          "2024-10-23T03:00:00.000000000",
          "2024-10-23T03:15:00.000000000",
          "2024-10-23T03:30:00.000000000",
          "2024-10-23T03:45:00.000000000",
          "2024-10-23T04:00:00.000000000",
          "2024-10-23T04:15:00.000000000",
          "2024-10-23T04:30:00.000000000",
          "2024-10-23T04:45:00.000000000",
          "2024-10-23T05:00:00.000000000",
          "2024-10-23T05:15:00.000000000",
          "2024-10-23T05:30:00.000000000",
          "2024-10-23T05:45:00.000000000",
          "2024-10-23T06:00:00.000000000",
          "2024-10-23T06:15:00.000000000",
          "2024-10-23T06:30:00.000000000",
          "2024-10-23T06:45:00.000000000",
          "2024-10-23T07:00:00.000000000",
          "2024-10-23T07:15:00.000000000",
          "2024-10-23T07:30:00.000000000",
          "2024-10-23T07:45:00.000000000",
          "2024-10-23T08:00:00.000000000",
          "2024-10-23T08:15:00.000000000"
         ],
         "xaxis": "x2",
         "y": {
          "bdata": "AAAAAAAAAAAAAAAAAAAAAAAAAAAAAAAAAAAAAAAAAAAAAAAAAAAAAAAAAAAAAAAAAAAAAAAAAAAAAAAAAAAAAAAAAAAAAAAAAAAAAAAAAAAAAAAAAAAAAAAAAAAAAAAAAAAAAAAAAAAAAAAAAAAAAAAAAAAAAAAAAAAAAAAAAAAAAAAAAAAAAAAAAAAAAAAAAAAAAAAAAAAAAAAAAAAAAAAAAAAAAAAAAAAAAAAAAAAAAAAAAAAAAAAAAAAAAAAAAAAAAAAAAAAAAAAAAAAAAAAAAAAAAAAAAAAAAAAAAAAAAAAAAAAAAAAAAAAAAAAAAAAAAAAAAAAAAAAAAAAAAAAAAAAAAAAAAAAAAAAAAAAAAAAAAAAAAAAAAAAAAAAAAAAAAAAAAAAAAAAAAAAAAAAAAAAAAAAAAAAAAAAAAAAAAAAAAAAAAAAAAAAAAAAAAAAAAAAAAAAAAAAAAAAAAAAAAAAAAAAAAAAAAAAAAAAAAAAAAAAAAAAAAAAAAAAAAAAAAAAAAAAAAAAAAAAAAAAAAAAAAAAAAAAAAAAAAAAAAAAAAAAAAAAAAAAAAAAAAAAAAAAAAAAAAAAAAAAAAAAAAAAAAAAAAAAAAAAAAAAAAAAAAAAAAAAAAAAAAAAAAAAAAAAAAAAAAAAAAAAAAAAAAAAAAAAAAAAAAAAAAAAAAAAAAAAAAAAAAAAAAAAAAAAAAAAAAAAAAAAAAAAAAAAAAAAAAAAAAAAAAAAAAAAAAAAAAAAAAAAAAAAAAAAAAAAAAAAAAAAAAAAAAAAAAAAAAAAAAAAAAAAAAAAAAAAAAAAAAAAAAAAAAAAAAAAAAAAAAAAAAAAAAAAAAAAAAAAAAAAAAAAAAAAAAAAAAAAAAAAAAAAAAAAAAAAAAAAAAAAAAAAAAAAAAAAAAAAAAAAAAAAAAAAAAAAAAAAAAAAAAAAAAAAAAAAAAAAAAAAAAAAAAAAAAAAAAAAAAAAAAAAAAAAAAAAAAAAAAAAAAAAAAAAAAAAAAAAAAAAAAAAAAAAAAAAAAAAAAAAAAAAAAAAAAAAAAAAAAAAAAAAAAAA=",
          "dtype": "f8"
         },
         "yaxis": "y2"
        }
       ],
       "layout": {
        "annotations": [
         {
          "font": {
           "size": 16
          },
          "showarrow": false,
          "text": "Portfolio Value",
          "x": 0.5,
          "xanchor": "center",
          "xref": "paper",
          "y": 1,
          "yanchor": "bottom",
          "yref": "paper"
         },
         {
          "font": {
           "size": 16
          },
          "showarrow": false,
          "text": "Drawdown %",
          "x": 0.5,
          "xanchor": "center",
          "xref": "paper",
          "y": 0.45,
          "yanchor": "bottom",
          "yref": "paper"
         },
         {
          "showarrow": false,
          "text": "Initial Cash",
          "x": 1,
          "xanchor": "right",
          "xref": "x domain",
          "y": 1000000,
          "yanchor": "bottom",
          "yref": "y"
         }
        ],
        "height": 800,
        "hovermode": "x unified",
        "shapes": [
         {
          "line": {
           "color": "gray",
           "dash": "dash"
          },
          "type": "line",
          "x0": 0,
          "x1": 1,
          "xref": "x domain",
          "y0": 1000000,
          "y1": 1000000,
          "yref": "y"
         }
        ],
        "showlegend": true,
        "template": {
         "data": {
          "bar": [
           {
            "error_x": {
             "color": "#2a3f5f"
            },
            "error_y": {
             "color": "#2a3f5f"
            },
            "marker": {
             "line": {
              "color": "#E5ECF6",
              "width": 0.5
             },
             "pattern": {
              "fillmode": "overlay",
              "size": 10,
              "solidity": 0.2
             }
            },
            "type": "bar"
           }
          ],
          "barpolar": [
           {
            "marker": {
             "line": {
              "color": "#E5ECF6",
              "width": 0.5
             },
             "pattern": {
              "fillmode": "overlay",
              "size": 10,
              "solidity": 0.2
             }
            },
            "type": "barpolar"
           }
          ],
          "carpet": [
           {
            "aaxis": {
             "endlinecolor": "#2a3f5f",
             "gridcolor": "white",
             "linecolor": "white",
             "minorgridcolor": "white",
             "startlinecolor": "#2a3f5f"
            },
            "baxis": {
             "endlinecolor": "#2a3f5f",
             "gridcolor": "white",
             "linecolor": "white",
             "minorgridcolor": "white",
             "startlinecolor": "#2a3f5f"
            },
            "type": "carpet"
           }
          ],
          "choropleth": [
           {
            "colorbar": {
             "outlinewidth": 0,
             "ticks": ""
            },
            "type": "choropleth"
           }
          ],
          "contour": [
           {
            "colorbar": {
             "outlinewidth": 0,
             "ticks": ""
            },
            "colorscale": [
             [
              0,
              "#0d0887"
             ],
             [
              0.1111111111111111,
              "#46039f"
             ],
             [
              0.2222222222222222,
              "#7201a8"
             ],
             [
              0.3333333333333333,
              "#9c179e"
             ],
             [
              0.4444444444444444,
              "#bd3786"
             ],
             [
              0.5555555555555556,
              "#d8576b"
             ],
             [
              0.6666666666666666,
              "#ed7953"
             ],
             [
              0.7777777777777778,
              "#fb9f3a"
             ],
             [
              0.8888888888888888,
              "#fdca26"
             ],
             [
              1,
              "#f0f921"
             ]
            ],
            "type": "contour"
           }
          ],
          "contourcarpet": [
           {
            "colorbar": {
             "outlinewidth": 0,
             "ticks": ""
            },
            "type": "contourcarpet"
           }
          ],
          "heatmap": [
           {
            "colorbar": {
             "outlinewidth": 0,
             "ticks": ""
            },
            "colorscale": [
             [
              0,
              "#0d0887"
             ],
             [
              0.1111111111111111,
              "#46039f"
             ],
             [
              0.2222222222222222,
              "#7201a8"
             ],
             [
              0.3333333333333333,
              "#9c179e"
             ],
             [
              0.4444444444444444,
              "#bd3786"
             ],
             [
              0.5555555555555556,
              "#d8576b"
             ],
             [
              0.6666666666666666,
              "#ed7953"
             ],
             [
              0.7777777777777778,
              "#fb9f3a"
             ],
             [
              0.8888888888888888,
              "#fdca26"
             ],
             [
              1,
              "#f0f921"
             ]
            ],
            "type": "heatmap"
           }
          ],
          "histogram": [
           {
            "marker": {
             "pattern": {
              "fillmode": "overlay",
              "size": 10,
              "solidity": 0.2
             }
            },
            "type": "histogram"
           }
          ],
          "histogram2d": [
           {
            "colorbar": {
             "outlinewidth": 0,
             "ticks": ""
            },
            "colorscale": [
             [
              0,
              "#0d0887"
             ],
             [
              0.1111111111111111,
              "#46039f"
             ],
             [
              0.2222222222222222,
              "#7201a8"
             ],
             [
              0.3333333333333333,
              "#9c179e"
             ],
             [
              0.4444444444444444,
              "#bd3786"
             ],
             [
              0.5555555555555556,
              "#d8576b"
             ],
             [
              0.6666666666666666,
              "#ed7953"
             ],
             [
              0.7777777777777778,
              "#fb9f3a"
             ],
             [
              0.8888888888888888,
              "#fdca26"
             ],
             [
              1,
              "#f0f921"
             ]
            ],
            "type": "histogram2d"
           }
          ],
          "histogram2dcontour": [
           {
            "colorbar": {
             "outlinewidth": 0,
             "ticks": ""
            },
            "colorscale": [
             [
              0,
              "#0d0887"
             ],
             [
              0.1111111111111111,
              "#46039f"
             ],
             [
              0.2222222222222222,
              "#7201a8"
             ],
             [
              0.3333333333333333,
              "#9c179e"
             ],
             [
              0.4444444444444444,
              "#bd3786"
             ],
             [
              0.5555555555555556,
              "#d8576b"
             ],
             [
              0.6666666666666666,
              "#ed7953"
             ],
             [
              0.7777777777777778,
              "#fb9f3a"
             ],
             [
              0.8888888888888888,
              "#fdca26"
             ],
             [
              1,
              "#f0f921"
             ]
            ],
            "type": "histogram2dcontour"
           }
          ],
          "mesh3d": [
           {
            "colorbar": {
             "outlinewidth": 0,
             "ticks": ""
            },
            "type": "mesh3d"
           }
          ],
          "parcoords": [
           {
            "line": {
             "colorbar": {
              "outlinewidth": 0,
              "ticks": ""
             }
            },
            "type": "parcoords"
           }
          ],
          "pie": [
           {
            "automargin": true,
            "type": "pie"
           }
          ],
          "scatter": [
           {
            "fillpattern": {
             "fillmode": "overlay",
             "size": 10,
             "solidity": 0.2
            },
            "type": "scatter"
           }
          ],
          "scatter3d": [
           {
            "line": {
             "colorbar": {
              "outlinewidth": 0,
              "ticks": ""
             }
            },
            "marker": {
             "colorbar": {
              "outlinewidth": 0,
              "ticks": ""
             }
            },
            "type": "scatter3d"
           }
          ],
          "scattercarpet": [
           {
            "marker": {
             "colorbar": {
              "outlinewidth": 0,
              "ticks": ""
             }
            },
            "type": "scattercarpet"
           }
          ],
          "scattergeo": [
           {
            "marker": {
             "colorbar": {
              "outlinewidth": 0,
              "ticks": ""
             }
            },
            "type": "scattergeo"
           }
          ],
          "scattergl": [
           {
            "marker": {
             "colorbar": {
              "outlinewidth": 0,
              "ticks": ""
             }
            },
            "type": "scattergl"
           }
          ],
          "scattermap": [
           {
            "marker": {
             "colorbar": {
              "outlinewidth": 0,
              "ticks": ""
             }
            },
            "type": "scattermap"
           }
          ],
          "scattermapbox": [
           {
            "marker": {
             "colorbar": {
              "outlinewidth": 0,
              "ticks": ""
             }
            },
            "type": "scattermapbox"
           }
          ],
          "scatterpolar": [
           {
            "marker": {
             "colorbar": {
              "outlinewidth": 0,
              "ticks": ""
             }
            },
            "type": "scatterpolar"
           }
          ],
          "scatterpolargl": [
           {
            "marker": {
             "colorbar": {
              "outlinewidth": 0,
              "ticks": ""
             }
            },
            "type": "scatterpolargl"
           }
          ],
          "scatterternary": [
           {
            "marker": {
             "colorbar": {
              "outlinewidth": 0,
              "ticks": ""
             }
            },
            "type": "scatterternary"
           }
          ],
          "surface": [
           {
            "colorbar": {
             "outlinewidth": 0,
             "ticks": ""
            },
            "colorscale": [
             [
              0,
              "#0d0887"
             ],
             [
              0.1111111111111111,
              "#46039f"
             ],
             [
              0.2222222222222222,
              "#7201a8"
             ],
             [
              0.3333333333333333,
              "#9c179e"
             ],
             [
              0.4444444444444444,
              "#bd3786"
             ],
             [
              0.5555555555555556,
              "#d8576b"
             ],
             [
              0.6666666666666666,
              "#ed7953"
             ],
             [
              0.7777777777777778,
              "#fb9f3a"
             ],
             [
              0.8888888888888888,
              "#fdca26"
             ],
             [
              1,
              "#f0f921"
             ]
            ],
            "type": "surface"
           }
          ],
          "table": [
           {
            "cells": {
             "fill": {
              "color": "#EBF0F8"
             },
             "line": {
              "color": "white"
             }
            },
            "header": {
             "fill": {
              "color": "#C8D4E3"
             },
             "line": {
              "color": "white"
             }
            },
            "type": "table"
           }
          ]
         },
         "layout": {
          "annotationdefaults": {
           "arrowcolor": "#2a3f5f",
           "arrowhead": 0,
           "arrowwidth": 1
          },
          "autotypenumbers": "strict",
          "coloraxis": {
           "colorbar": {
            "outlinewidth": 0,
            "ticks": ""
           }
          },
          "colorscale": {
           "diverging": [
            [
             0,
             "#8e0152"
            ],
            [
             0.1,
             "#c51b7d"
            ],
            [
             0.2,
             "#de77ae"
            ],
            [
             0.3,
             "#f1b6da"
            ],
            [
             0.4,
             "#fde0ef"
            ],
            [
             0.5,
             "#f7f7f7"
            ],
            [
             0.6,
             "#e6f5d0"
            ],
            [
             0.7,
             "#b8e186"
            ],
            [
             0.8,
             "#7fbc41"
            ],
            [
             0.9,
             "#4d9221"
            ],
            [
             1,
             "#276419"
            ]
           ],
           "sequential": [
            [
             0,
             "#0d0887"
            ],
            [
             0.1111111111111111,
             "#46039f"
            ],
            [
             0.2222222222222222,
             "#7201a8"
            ],
            [
             0.3333333333333333,
             "#9c179e"
            ],
            [
             0.4444444444444444,
             "#bd3786"
            ],
            [
             0.5555555555555556,
             "#d8576b"
            ],
            [
             0.6666666666666666,
             "#ed7953"
            ],
            [
             0.7777777777777778,
             "#fb9f3a"
            ],
            [
             0.8888888888888888,
             "#fdca26"
            ],
            [
             1,
             "#f0f921"
            ]
           ],
           "sequentialminus": [
            [
             0,
             "#0d0887"
            ],
            [
             0.1111111111111111,
             "#46039f"
            ],
            [
             0.2222222222222222,
             "#7201a8"
            ],
            [
             0.3333333333333333,
             "#9c179e"
            ],
            [
             0.4444444444444444,
             "#bd3786"
            ],
            [
             0.5555555555555556,
             "#d8576b"
            ],
            [
             0.6666666666666666,
             "#ed7953"
            ],
            [
             0.7777777777777778,
             "#fb9f3a"
            ],
            [
             0.8888888888888888,
             "#fdca26"
            ],
            [
             1,
             "#f0f921"
            ]
           ]
          },
          "colorway": [
           "#636efa",
           "#EF553B",
           "#00cc96",
           "#ab63fa",
           "#FFA15A",
           "#19d3f3",
           "#FF6692",
           "#B6E880",
           "#FF97FF",
           "#FECB52"
          ],
          "font": {
           "color": "#2a3f5f"
          },
          "geo": {
           "bgcolor": "white",
           "lakecolor": "white",
           "landcolor": "#E5ECF6",
           "showlakes": true,
           "showland": true,
           "subunitcolor": "white"
          },
          "hoverlabel": {
           "align": "left"
          },
          "hovermode": "closest",
          "mapbox": {
           "style": "light"
          },
          "paper_bgcolor": "white",
          "plot_bgcolor": "#E5ECF6",
          "polar": {
           "angularaxis": {
            "gridcolor": "white",
            "linecolor": "white",
            "ticks": ""
           },
           "bgcolor": "#E5ECF6",
           "radialaxis": {
            "gridcolor": "white",
            "linecolor": "white",
            "ticks": ""
           }
          },
          "scene": {
           "xaxis": {
            "backgroundcolor": "#E5ECF6",
            "gridcolor": "white",
            "gridwidth": 2,
            "linecolor": "white",
            "showbackground": true,
            "ticks": "",
            "zerolinecolor": "white"
           },
           "yaxis": {
            "backgroundcolor": "#E5ECF6",
            "gridcolor": "white",
            "gridwidth": 2,
            "linecolor": "white",
            "showbackground": true,
            "ticks": "",
            "zerolinecolor": "white"
           },
           "zaxis": {
            "backgroundcolor": "#E5ECF6",
            "gridcolor": "white",
            "gridwidth": 2,
            "linecolor": "white",
            "showbackground": true,
            "ticks": "",
            "zerolinecolor": "white"
           }
          },
          "shapedefaults": {
           "line": {
            "color": "#2a3f5f"
           }
          },
          "ternary": {
           "aaxis": {
            "gridcolor": "white",
            "linecolor": "white",
            "ticks": ""
           },
           "baxis": {
            "gridcolor": "white",
            "linecolor": "white",
            "ticks": ""
           },
           "bgcolor": "#E5ECF6",
           "caxis": {
            "gridcolor": "white",
            "linecolor": "white",
            "ticks": ""
           }
          },
          "title": {
           "x": 0.05
          },
          "xaxis": {
           "automargin": true,
           "gridcolor": "white",
           "linecolor": "white",
           "ticks": "",
           "title": {
            "standoff": 15
           },
           "zerolinecolor": "white",
           "zerolinewidth": 2
          },
          "yaxis": {
           "automargin": true,
           "gridcolor": "white",
           "linecolor": "white",
           "ticks": "",
           "title": {
            "standoff": 15
           },
           "zerolinecolor": "white",
           "zerolinewidth": 2
          }
         }
        },
        "title": {
         "text": "VectorBT Backtest Results"
        },
        "xaxis": {
         "anchor": "y",
         "domain": [
          0,
          1
         ],
         "matches": "x2",
         "showticklabels": false
        },
        "xaxis2": {
         "anchor": "y2",
         "domain": [
          0,
          1
         ],
         "title": {
          "text": "Date"
         }
        },
        "yaxis": {
         "anchor": "x",
         "domain": [
          0.55,
          1
         ],
         "title": {
          "text": "Value ($)"
         }
        },
        "yaxis2": {
         "anchor": "x2",
         "domain": [
          0,
          0.45
         ],
         "title": {
          "text": "Drawdown (%)"
         }
        }
       }
      }
     },
     "metadata": {},
     "output_type": "display_data"
    },
    {
     "name": "stdout",
     "output_type": "stream",
     "text": [
      "✅ Plots displayed!\n"
     ]
    }
   ],
   "source": [
    "# ================================================\n",
    "# 🚀 VECTORBT BACKTESTING - Replacing Manual Simulation\n",
    "# ================================================\n",
    "\n",
    "print(\"🚀 VECTORBT BACKTESTING MODE\")\n",
    "print(\"=\" * 55)\n",
    "\n",
    "import os\n",
    "from typing import Dict, cast\n",
    "import pandas as pd\n",
    "import json\n",
    "\n",
    "from src.backtesting.vectorbt_engine import VectorBTBacktester\n",
    "from src.core.trading_types import ChartInterval\n",
    "from src.training.data_loader import DataLoader\n",
    "from src.training.model_trainer import SimpleModelTrainer\n",
    "\n",
    "# Load model from file (independent from training cell)\n",
    "simulation_trainer = SimpleModelTrainer()\n",
    "\n",
    "try:\n",
    "    success = simulation_trainer.load_model()\n",
    "    if not success:\n",
    "        print(\"❌ Failed to load model from file\")\n",
    "        print(\"   Make sure you've trained the model first (run Cell 2)\")\n",
    "        simulation_trainer = None\n",
    "except Exception as e:\n",
    "    print(f\"❌ Error loading model: {e}\")\n",
    "    import traceback\n",
    "    traceback.print_exc()\n",
    "    simulation_trainer = None\n",
    "\n",
    "if simulation_trainer is not None and simulation_trainer.is_trained:\n",
    "    print(\"✅ Model loaded successfully!\")\n",
    "    \n",
    "    # Display model info\n",
    "    info = simulation_trainer.get_model_info()\n",
    "    print(f\"   Model: {info['model_type']} | Accuracy: {info['accuracy']:.1%} | Features: {info['features']}\")\n",
    "    \n",
    "    # Configuration\n",
    "    test_symbol = 'BTCUSDT'\n",
    "    MAX_CANDLES = 500  # REDUCED for progressive backtesting (each candle recalculates levels!)\n",
    "    test_data_folder = 'data'\n",
    "    \n",
    "    # Threshold settings\n",
    "    buy_threshold = 0.10\n",
    "    sell_threshold = 0.10\n",
    "    \n",
    "    # VectorBT settings\n",
    "    initial_cash = 1000000.0\n",
    "    commission = 0.001  # 0.1%\n",
    "    slippage = 0.0005   # 0.05%\n",
    "    \n",
    "    print(f\"\\n🎯 Symbol: {test_symbol}\")\n",
    "    print(f\"📊 Backtesting: {MAX_CANDLES} candles (PROGRESSIVE - no data leakage)\")\n",
    "    print(f\"⚙️  Thresholds: BUY≥{buy_threshold:.0%}, SELL≥{sell_threshold:.0%}\")\n",
    "    print(f\"💰 Initial Cash: ${initial_cash:,.2f}\")\n",
    "    print(f\"💸 Commission: {commission:.2%} | Slippage: {slippage:.2%}\\n\")\n",
    "    \n",
    "   \n",
    "    \n",
    "    # Get file paths\n",
    "    test_files: Dict[ChartInterval, str] = {\n",
    "        'M': os.path.join(test_data_folder, f'{test_symbol}-M.json'),\n",
    "        'W': os.path.join(test_data_folder, f'{test_symbol}-W.json'),\n",
    "        'D': os.path.join(test_data_folder, f'{test_symbol}-D.json'),\n",
    "        '1h': os.path.join(test_data_folder, f'{test_symbol}-1h.json'),\n",
    "        '15m': os.path.join(test_data_folder, f'{test_symbol}-15m.json')\n",
    "    }\n",
    "    \n",
    "\n",
    "    # Load 15m data (primary trading timeframe)\n",
    "    print(\"📊 Loading 15m data...\")\n",
    "    test_data = DataLoader.load_single_json_file(test_files['15m'])\n",
    "\n",
    "    if test_data is None:\n",
    "        raise ValueError(\"❌ Could not load test data\")\n",
    "\n",
    "    print(f\"✅ Loaded {len(test_data)} total candles\")\n",
    "    print(f\"📅 Range: {test_data.index.min()} to {test_data.index.max()}\")\n",
    "    \n",
    "    # Get a RANDOM segment of MAX_CANDLES for backtesting\n",
    "    if len(test_data) < MAX_CANDLES:\n",
    "        print(f\"⚠️  Only {len(test_data)} candles available, using all\")\n",
    "    else:\n",
    "        import random\n",
    "        # Calculate valid range for random start position\n",
    "        max_start = len(test_data) - MAX_CANDLES\n",
    "        random_start = random.randint(0, max_start)\n",
    "        random_end = random_start + MAX_CANDLES\n",
    "        \n",
    "        print(f\"🎲 Randomly selecting {MAX_CANDLES} candles from position {random_start} to {random_end}\")\n",
    "        test_data = test_data.iloc[random_start:random_end]\n",
    "    \n",
    "    print(f\"\\n🎬 Starting progressive backtest with {len(test_data)} candles...\")\n",
    "    print(f\"📍 Backtest period: {test_data.index.min()} to {test_data.index.max()}\")\n",
    "    \n",
    "    # Load all timeframe data as DataFrames (needed for level extraction)\n",
    "    print(\"\\n📂 Loading multi-timeframe data for level extraction...\")\n",
    "    data_dfs: Dict[ChartInterval, pd.DataFrame] = DataLoader.load_multiple_json_files(test_files)\n",
    "    \n",
    "    print(f\"✅ Loaded {len(data_dfs)} additional timeframes for levels\\n\")\n",
    "    \n",
    "    print(\"\\n\" + \"=\" * 55)\n",
    "    print(\"🚀 VECTORBT PROGRESSIVE BACKTEST STARTING...\")\n",
    "    print(\"=\" * 55)\n",
    "    print(\"⚠️  Note: Progressive mode recalculates levels for EACH candle\")\n",
    "    print(\"   This is SLOW but prevents data leakage (realistic trading)\")\n",
    "    print(\"   Progress bar will show each candle being processed\\n\")\n",
    "    \n",
    "    # Initialize VectorBT backtester\n",
    "    backtester = VectorBTBacktester(\n",
    "        trainer=simulation_trainer,\n",
    "        initial_cash=initial_cash,\n",
    "        commission=commission,\n",
    "        slippage=slippage\n",
    "    )\n",
    "    \n",
    "    # Generate signals progressively (includes level extraction per candle)\n",
    "    signals_df = backtester.generate_signals(\n",
    "        data=test_data,\n",
    "        data_dfs=data_dfs,\n",
    "        buy_threshold=buy_threshold,\n",
    "        sell_threshold=sell_threshold,\n",
    "        timeframe='15m'\n",
    "    )\n",
    "    \n",
    "    # Run backtest (THIS IS FAST - vectorized)\n",
    "    print(\"\\n🚀 Running backtest...\")\n",
    "    portfolio = backtester.run_backtest(signals_df=signals_df, freq='15T')\n",
    "    \n",
    "    # Display performance summary\n",
    "    backtester.print_performance_summary()\n",
    "    \n",
    "    # Get trade analysis\n",
    "    trades_df = backtester.get_trade_analysis()\n",
    "    \n",
    "    print(\"\\n\" + \"=\" * 55)\n",
    "    print(\"📋 TRADE ANALYSIS\")\n",
    "    print(\"=\" * 55)\n",
    "    \n",
    "    if len(trades_df) > 0:\n",
    "        print(f\"\\n📊 Total Trades: {len(trades_df)}\")\n",
    "        \n",
    "        winning_trades = trades_df[trades_df['PnL'] > 0]\n",
    "        losing_trades = trades_df[trades_df['PnL'] < 0]\n",
    "        \n",
    "        print(f\"✅ Winning: {len(winning_trades)} ({len(winning_trades)/len(trades_df)*100:.1f}%)\")\n",
    "        print(f\"❌ Losing:  {len(losing_trades)} ({len(losing_trades)/len(trades_df)*100:.1f}%)\")\n",
    "        \n",
    "        if len(winning_trades) > 0:\n",
    "            print(f\"\\n💚 Average Win: ${winning_trades['PnL'].mean():.2f}\")\n",
    "            print(f\"💚 Largest Win: ${winning_trades['PnL'].max():.2f}\")\n",
    "        \n",
    "        if len(losing_trades) > 0:\n",
    "            print(f\"💔 Average Loss: ${losing_trades['PnL'].mean():.2f}\")\n",
    "            print(f\"💔 Largest Loss: ${losing_trades['PnL'].min():.2f}\")\n",
    "        \n",
    "        # Show sample trades\n",
    "        print(f\"\\n📋 Sample Trades (first 10):\")\n",
    "        print(trades_df.head(10))\n",
    "    else:\n",
    "        print(\"⚠️  No trades executed during backtest period\")\n",
    "    \n",
    "    print(\"\\n\" + \"=\" * 55)\n",
    "    print(\"✅ VECTORBT BACKTEST COMPLETE!\")\n",
    "    print(\"=\" * 55)\n",
    "    \n",
    "    # Signal distribution\n",
    "    signal_counts = signals_df['signal'].value_counts()\n",
    "    print(f\"\\n🎯 SIGNAL DISTRIBUTION:\")\n",
    "    for signal in ['BUY', 'SELL', 'HOLD']:\n",
    "        count = signal_counts.get(signal, 0)\n",
    "        pct = (count / len(signals_df) * 100) if len(signals_df) > 0 else 0\n",
    "        print(f\"   {signal}: {count} ({pct:.1f}%)\")\n",
    "    \n",
    "    # Show trading signals (non-HOLD)\n",
    "    trade_signals = signals_df[signals_df['signal'] != 'HOLD']\n",
    "    print(f\"\\n📋 TRADING SIGNALS ({len(trade_signals)} total):\")\n",
    "    if len(trade_signals) > 0:\n",
    "        for timestamp, row in trade_signals.head(20).iterrows():\n",
    "            emoji = \"🟢\" if row['signal'] == 'BUY' else \"🔴\"\n",
    "            print(f\"   {emoji} {timestamp} | \" +\n",
    "                    f\"{row['signal']:4s} @ ${row['close']:8.2f} | \" +\n",
    "                    f\"Conf: {row['confidence']:5.1%}\")\n",
    "    else:\n",
    "        print(\"   No trading signals generated\")\n",
    "    \n",
    "    print(\"\\n✅ Progressive backtest complete!\")\n",
    "    print(\"   ℹ️  Each candle was processed independently with levels extracted\")\n",
    "    print(\"      at that point in time (no future data leakage)\")\n",
    "    \n",
    "    # ================================================\n",
    "    # 📊 OPTIONAL: GENERATE INTERACTIVE PLOTS\n",
    "    # ================================================\n",
    "    \n",
    "    try:\n",
    "        print(\"\\n📊 Generating interactive plots...\")\n",
    "        # Use static plots (no anywidget dependency)\n",
    "        backtester.plot_results(use_widgets=False)\n",
    "    except Exception as e:\n",
    "        print(f\"⚠️  Could not generate plots: {e}\")\n",
    "        if \"anywidget\" in str(e):\n",
    "            print(\"   ℹ️  anywidget not installed\")\n",
    "            print(\"   Solution: Restart the kernel (Kernel → Restart)\")\n",
    "        print(\"   Use VectorBT_Backtest.ipynb for full visualization\")\n",
    "    \n",
    "else:\n",
    "    print(\"❌ No model available\")\n",
    "    print(\"   Please run Cell 2 first to train the model\")\n"
   ]
  }
 ],
 "metadata": {
  "kernelspec": {
   "display_name": "venv",
   "language": "python",
   "name": "python3"
  },
  "language_info": {
   "codemirror_mode": {
    "name": "ipython",
    "version": 3
   },
   "file_extension": ".py",
   "mimetype": "text/x-python",
   "name": "python",
   "nbconvert_exporter": "python",
   "pygments_lexer": "ipython3",
   "version": "3.10.11"
  }
 },
 "nbformat": 4,
 "nbformat_minor": 5
}
