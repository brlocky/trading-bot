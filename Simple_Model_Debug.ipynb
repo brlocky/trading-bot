{
 "cells": [
  {
   "cell_type": "markdown",
   "id": "bf30b16d",
   "metadata": {},
   "source": [
    "# 🚀 Simple Model Debug - Train & Test\n",
    "\n",
    "**Simple workflow:**\n",
    "1. **Train** model on `/data/` (BTCUSDT)\n",
    "2. **Test** model on `/data_test/` with plotly visualization"
   ]
  },
  {
   "cell_type": "code",
   "execution_count": null,
   "id": "8acc3916",
   "metadata": {},
   "outputs": [],
   "source": [
    "# Imports\n",
    "import pandas as pd\n",
    "import numpy as np\n",
    "import json\n",
    "import os\n",
    "import plotly.graph_objects as go\n",
    "from plotly.subplots import make_subplots\n",
    "import plotly.io as pio\n",
    "from datetime import datetime\n",
    "\n",
    "from src.autonomous_trader_trainer import AutonomousTraderTrainer\n",
    "from src.autonomous_trader import AutonomousTrader\n",
    "\n",
    "pio.templates.default = \"plotly_dark\"\n",
    "print(\"✅ Imports ready\")"
   ]
  },
  {
   "cell_type": "code",
   "execution_count": null,
   "id": "093146e2",
   "metadata": {},
   "outputs": [],
   "source": [
    "# ================================================\n",
    "# 🎓 TRAIN MODEL (using /data/ BTCUSDT)\n",
    "# ================================================\n",
    "\n",
    "from src.simple_model_trainer import SimpleModelTrainer\n",
    "\n",
    "print(\"🎓 TRAINING MODEL ON BTCUSDT DATA\")\n",
    "print(\"=\" * 50)\n",
    "\n",
    "# Training files\n",
    "training_files = {\n",
    "    '15m': 'data/BTCUSDT-15m.json',\n",
    "    '1h': 'data/BTCUSDT-1h.json',\n",
    "    'M': 'data/BTCUSDT-M.json',\n",
    "    'W': 'data/BTCUSDT-W.json', \n",
    "    'D': 'data/BTCUSDT-D.json'\n",
    "}\n",
    "\n",
    "# Check files exist\n",
    "for tf, path in training_files.items():\n",
    "    exists = \"✅\" if os.path.exists(path) else \"❌\"\n",
    "    print(f\"   {tf}: {path} {exists}\")\n",
    "\n",
    "# Initialize trainer\n",
    "trainer = SimpleModelTrainer()\n",
    "\n",
    "# Configure training parameters\n",
    "trainer.configure_training(\n",
    "    profit_threshold=2.0,\n",
    "    loss_threshold=-1.5,\n",
    "    lookforward_periods=[5, 10, 20]\n",
    ")\n",
    "\n",
    "print(f\"\\n📊 Training Configuration:\")\n",
    "print(f\"   Profit threshold: {trainer.profit_threshold}%\")\n",
    "print(f\"   Loss threshold: {trainer.loss_threshold}%\")\n",
    "print(f\"   Lookforward periods: {trainer.lookforward_periods}\")\n",
    "\n",
    "# Train the model\n",
    "success = trainer.train_model(\n",
    "    training_files=training_files,\n",
    "    level_timeframes=['M', 'W', 'D', '1h']\n",
    ")\n",
    "\n",
    "if success:\n",
    "    # Get model info\n",
    "    info = trainer.get_model_info()\n",
    "    print(f\"\\n🎉 TRAINING SUCCESS!\")\n",
    "    print(f\"   Model Type: {info['model_type']}\")\n",
    "    print(f\"   Accuracy: {info['accuracy']:.1%}\")\n",
    "    print(f\"   Features: {info['features']}\")\n",
    "    print(f\"   Classes: {info['classes']}\")\n",
    "else:\n",
    "    print(\"❌ Training failed!\")\n",
    "    trainer = None"
   ]
  },
  {
   "cell_type": "code",
   "execution_count": null,
   "id": "7ac39998",
   "metadata": {},
   "outputs": [
    {
     "name": "stdout",
     "output_type": "stream",
     "text": [
      "🧪 TESTING MODEL ON UNSEEN DATA\n",
      "==================================================\n",
      "📁 Loading trained model from: src/models/simple_trading_model.joblib\n",
      "✅ Model loaded successfully!\n",
      "   Model Type: XGBoost-GPU\n",
      "   Accuracy: 95.3%\n",
      "   Classes: ['buy', 'hold', 'sell']\n",
      "   Features: 50\n",
      "\n",
      "📁 Test files for BTCUSDT:\n",
      "   15m: data_test/BTCUSDT-15m.json\n",
      "   1h: data_test/BTCUSDT-1h.json\n",
      "   D: data_test/BTCUSDT-D.json\n",
      "   W: data_test/BTCUSDT-W.json\n",
      "   M: data_test/BTCUSDT-M.json\n",
      "✅ Loaded 87891 test candles (15m timeframe)\n",
      "📊 Extracting levels from 3 timeframes...\n",
      "📊 Available feature timeframes: ['1h', 'D', 'W', 'M']\n",
      "🔄 Updating multi-timeframe levels...\n",
      "Volume Profile: Generated 867 volume profile ranges\n",
      "Volume Profile: Generated 867 volume profile ranges\n",
      "✅ Extracted 953 levels from D timeframe\n",
      "  Period 2020-03: SKIPPED - insufficient data\n",
      "Volume Profile: Generated 198 volume profile ranges\n",
      "✅ Extracted 238 levels from W timeframe\n",
      "Volume Profile: Generated 18 volume profile ranges\n",
      "✅ Extracted 35 levels from M timeframe\n",
      "✅ Updated 1226 levels across 3 timeframes\n",
      "✅ Extracted 1226 levels\n",
      "\n",
      "🎯 Generating predictions with trained model...\n",
      "   Extracting features from test data...\n",
      "   Showing last 200 candles (from 2025-10-03 00:30:00 to 2025-10-05 02:15:00)\n",
      "   Using 15m timeframe for predictions\n",
      "✅ Extracted 953 levels from D timeframe\n",
      "  Period 2020-03: SKIPPED - insufficient data\n",
      "Volume Profile: Generated 198 volume profile ranges\n",
      "✅ Extracted 238 levels from W timeframe\n",
      "Volume Profile: Generated 18 volume profile ranges\n",
      "✅ Extracted 35 levels from M timeframe\n",
      "✅ Updated 1226 levels across 3 timeframes\n",
      "✅ Extracted 1226 levels\n",
      "\n",
      "🎯 Generating predictions with trained model...\n",
      "   Extracting features from test data...\n",
      "   Showing last 200 candles (from 2025-10-03 00:30:00 to 2025-10-05 02:15:00)\n",
      "   Using 15m timeframe for predictions\n",
      "   Loaded 48461 1h candles for enhanced features\n",
      "   Processing candle 1/200...\n",
      "   Loaded 48461 1h candles for enhanced features\n",
      "   Processing candle 1/200...\n",
      "   Processing candle 51/200...\n",
      "   Processing candle 51/200...\n",
      "   Processing candle 101/200...\n",
      "   Processing candle 101/200...\n",
      "   Processing candle 151/200...\n",
      "   Processing candle 151/200...\n",
      "\n",
      "📊 PREDICTION RESULTS:\n",
      "   HOLD: 200 (100.0%)\n",
      "   Average Confidence: 99.1%\n",
      "\n",
      "📈 Creating interactive chart...\n",
      "\n",
      "📊 PREDICTION RESULTS:\n",
      "   HOLD: 200 (100.0%)\n",
      "   Average Confidence: 99.1%\n",
      "\n",
      "📈 Creating interactive chart...\n"
     ]
    },
    {
     "data": {
      "application/vnd.plotly.v1+json": {
       "config": {
        "plotlyServerURL": "https://plot.ly"
       },
       "data": [
        {
         "close": {
          "bdata": "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",
          "dtype": "f8"
         },
         "high": {
          "bdata": "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",
          "dtype": "f8"
         },
         "low": {
          "bdata": "zczMzKxR/UBmZmZm1k39QDMzMzNjTP1AAAAAALhH/UAAAAAAMEn9QDMzMzOLO/1AzczMzPQ+/UCamZmZoUX9QGZmZmamQ/1AmpmZmUFK/UAAAAAAsFH9QGZmZmZ+U/1AAAAAAGBS/UCamZmZWVX9QDMzMzOLU/1AMzMzMxtT/UAzMzMzo0j9QM3MzMyMSv1AAAAAAOhE/UCamZmZeUb9QAAAAAC4Pf1AzczMzDw2/UCamZmZYTr9QAAAAACQRv1AzczMzJxD/UAAAAAAsDn9QM3MzMz0Ov1AZmZmZk46/UBmZmZmTjD9QDMzMzP7MP1AAAAAAIAm/UAAAAAAgBf9QGZmZmY+Mf1AzczMzNQ+/UCamZmZkUr9QGZmZmZeSP1AZmZmZvZR/UBmZmZmrlT9QAAAAACAWP1AAAAAAChd/UDNzMzM3F39QAAAAAAIYf1AzczMzGxZ/UAzMzMzS1D9QJqZmZkxVP1AzczMzDxc/UCamZmZOVj9QM3MzMycVP1AAAAAAHBN/UBmZmZmNlb9QM3MzMwMUP1AZmZmZh5V/UAAAAAAIE79QJqZmZnZVv1AMzMzM3tN/UAAAAAA0D/9QGZmZmamWv1AmpmZmcFw/UBmZmZm/m/9QGZmZmb+ff1AAAAAACCa/UDNzMzMxK/9QGZmZmbu1v1AMzMzMzMA/kAzMzMzayX+QDMzMzOj5f1AAAAAAKCw/UAzMzMzm9T9QGZmZmZO2/1AZmZmZg6t/UAAAAAAyKT9QAAAAAAIxv1AZmZmZp7S/UAzMzMzC9v9QM3MzMzE3P1AAAAAAMji/UAAAAAA+O39QAAAAACw5v1AzczMzOTG/UAAAAAAQMr9QDMzMzMjzv1AmpmZmYHg/UAAAAAAmNz9QAAAAADY1f1AAAAAALjI/UAAAAAA4MT9QJqZmZnR1/1AzczMzNTf/UBmZmZmRuL9QAAAAACo4P1AMzMzM6PW/UDNzMzMnNX9QGZmZmY+0P1AAAAAAJjP/UAAAAAAAMn9QAAAAABAz/1AmpmZmVHE/UCamZmZAcX9QDMzMzNbxv1AZmZmZpbB/UAAAAAAAL39QJqZmZl5sv1AzczMzNS4/UAAAAAAwLH9QJqZmZn5sf1AAAAAACi1/UCamZmZ6br9QDMzMzMDv/1AZmZmZq7G/UAzMzMzQ8f9QAAAAAC40/1AzczMzATT/UCamZmZUdf9QDMzMzNj4f1AMzMzMyvg/UCamZmZGev9QAAAAAAA4v1AAAAAAKDe/UAAAAAAuN39QDMzMzPL3/1AZmZmZvbj/UAAAAAA8OD9QJqZmZmp2/1AMzMzM3PZ/UDNzMzMJNf9QAAAAADQ1P1AAAAAAGDX/UCamZmZAdz9QAAAAAAA0/1AZmZmZv7R/UDNzMzMrNX9QAAAAADA2/1AzczMzBzZ/UAzMzMzO9D9QDMzMzMj0f1AAAAAAGDS/UAzMzMza9H9QDMzMzODyv1AzczMzATE/UAzMzMzw8H9QAAAAABwx/1AAAAAAHjC/UBmZmZm9sL9QGZmZmaGx/1AMzMzMxPG/UAzMzMzW8L9QAAAAADgxf1AAAAAAHDX/UBmZmZmBtn9QAAAAAAQ3P1AZmZmZm7X/UCamZmZKdj9QDMzMzML1f1AZmZmZtbE/UCamZmZEb39QJqZmZkJs/1AMzMzM4Oz/UDNzMzM7LX9QM3MzMz8rP1AAAAAAFCt/UDNzMzMtLP9QAAAAADArv1AZmZmZkax/UCamZmZIbX9QM3MzMxEsv1AmpmZmYGx/UAAAAAAyLP9QAAAAAAws/1AmpmZmVms/UBmZmZmDqj9QDMzMzNDrP1AZmZmZna2/UAAAAAAyLr9QM3MzMy0vf1AzczMzIy//UBmZmZmXsP9QDMzMzPrxP1AzczMzKy+/UAAAAAAQL79QAAAAAB4y/1AmpmZmcnU/UBmZmZmNtH9QAAAAACQzv1AzczMzJzR/UBmZmZmBtX9QDMzMzNz0/1AZmZmZubU/UAAAAAAmNL9QGZmZmb+0v1AZmZmZp7b/UCamZmZ6dX9QJqZmZnp1f1AAAAAAMDW/UCamZmZuc/9QM3MzMz0z/1AmpmZmSnO/UBmZmZmttX9QDMzMzNj2v1AMzMzM1vb/UAzMzMzC979QA==",
          "dtype": "f8"
         },
         "name": "Price",
         "open": {
          "bdata": "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",
          "dtype": "f8"
         },
         "showlegend": true,
         "type": "candlestick",
         "x": [
          "2025-10-03T00:30:00.000000000",
          "2025-10-03T00:45:00.000000000",
          "2025-10-03T01:00:00.000000000",
          "2025-10-03T01:15:00.000000000",
          "2025-10-03T01:30:00.000000000",
          "2025-10-03T01:45:00.000000000",
          "2025-10-03T02:00:00.000000000",
          "2025-10-03T02:15:00.000000000",
          "2025-10-03T02:30:00.000000000",
          "2025-10-03T02:45:00.000000000",
          "2025-10-03T03:00:00.000000000",
          "2025-10-03T03:15:00.000000000",
          "2025-10-03T03:30:00.000000000",
          "2025-10-03T03:45:00.000000000",
          "2025-10-03T04:00:00.000000000",
          "2025-10-03T04:15:00.000000000",
          "2025-10-03T04:30:00.000000000",
          "2025-10-03T04:45:00.000000000",
          "2025-10-03T05:00:00.000000000",
          "2025-10-03T05:15:00.000000000",
          "2025-10-03T05:30:00.000000000",
          "2025-10-03T05:45:00.000000000",
          "2025-10-03T06:00:00.000000000",
          "2025-10-03T06:15:00.000000000",
          "2025-10-03T06:30:00.000000000",
          "2025-10-03T06:45:00.000000000",
          "2025-10-03T07:00:00.000000000",
          "2025-10-03T07:15:00.000000000",
          "2025-10-03T07:30:00.000000000",
          "2025-10-03T07:45:00.000000000",
          "2025-10-03T08:00:00.000000000",
          "2025-10-03T08:15:00.000000000",
          "2025-10-03T08:30:00.000000000",
          "2025-10-03T08:45:00.000000000",
          "2025-10-03T09:00:00.000000000",
          "2025-10-03T09:15:00.000000000",
          "2025-10-03T09:30:00.000000000",
          "2025-10-03T09:45:00.000000000",
          "2025-10-03T10:00:00.000000000",
          "2025-10-03T10:15:00.000000000",
          "2025-10-03T10:30:00.000000000",
          "2025-10-03T10:45:00.000000000",
          "2025-10-03T11:00:00.000000000",
          "2025-10-03T11:15:00.000000000",
          "2025-10-03T11:30:00.000000000",
          "2025-10-03T11:45:00.000000000",
          "2025-10-03T12:00:00.000000000",
          "2025-10-03T12:15:00.000000000",
          "2025-10-03T12:30:00.000000000",
          "2025-10-03T12:45:00.000000000",
          "2025-10-03T13:00:00.000000000",
          "2025-10-03T13:15:00.000000000",
          "2025-10-03T13:30:00.000000000",
          "2025-10-03T13:45:00.000000000",
          "2025-10-03T14:00:00.000000000",
          "2025-10-03T14:15:00.000000000",
          "2025-10-03T14:30:00.000000000",
          "2025-10-03T14:45:00.000000000",
          "2025-10-03T15:00:00.000000000",
          "2025-10-03T15:15:00.000000000",
          "2025-10-03T15:30:00.000000000",
          "2025-10-03T15:45:00.000000000",
          "2025-10-03T16:00:00.000000000",
          "2025-10-03T16:15:00.000000000",
          "2025-10-03T16:30:00.000000000",
          "2025-10-03T16:45:00.000000000",
          "2025-10-03T17:00:00.000000000",
          "2025-10-03T17:15:00.000000000",
          "2025-10-03T17:30:00.000000000",
          "2025-10-03T17:45:00.000000000",
          "2025-10-03T18:00:00.000000000",
          "2025-10-03T18:15:00.000000000",
          "2025-10-03T18:30:00.000000000",
          "2025-10-03T18:45:00.000000000",
          "2025-10-03T19:00:00.000000000",
          "2025-10-03T19:15:00.000000000",
          "2025-10-03T19:30:00.000000000",
          "2025-10-03T19:45:00.000000000",
          "2025-10-03T20:00:00.000000000",
          "2025-10-03T20:15:00.000000000",
          "2025-10-03T20:30:00.000000000",
          "2025-10-03T20:45:00.000000000",
          "2025-10-03T21:00:00.000000000",
          "2025-10-03T21:15:00.000000000",
          "2025-10-03T21:30:00.000000000",
          "2025-10-03T21:45:00.000000000",
          "2025-10-03T22:00:00.000000000",
          "2025-10-03T22:15:00.000000000",
          "2025-10-03T22:30:00.000000000",
          "2025-10-03T22:45:00.000000000",
          "2025-10-03T23:00:00.000000000",
          "2025-10-03T23:15:00.000000000",
          "2025-10-03T23:30:00.000000000",
          "2025-10-03T23:45:00.000000000",
          "2025-10-04T00:00:00.000000000",
          "2025-10-04T00:15:00.000000000",
          "2025-10-04T00:30:00.000000000",
          "2025-10-04T00:45:00.000000000",
          "2025-10-04T01:00:00.000000000",
          "2025-10-04T01:15:00.000000000",
          "2025-10-04T01:30:00.000000000",
          "2025-10-04T01:45:00.000000000",
          "2025-10-04T02:00:00.000000000",
          "2025-10-04T02:15:00.000000000",
          "2025-10-04T02:30:00.000000000",
          "2025-10-04T02:45:00.000000000",
          "2025-10-04T03:00:00.000000000",
          "2025-10-04T03:15:00.000000000",
          "2025-10-04T03:30:00.000000000",
          "2025-10-04T03:45:00.000000000",
          "2025-10-04T04:00:00.000000000",
          "2025-10-04T04:15:00.000000000",
          "2025-10-04T04:30:00.000000000",
          "2025-10-04T04:45:00.000000000",
          "2025-10-04T05:00:00.000000000",
          "2025-10-04T05:15:00.000000000",
          "2025-10-04T05:30:00.000000000",
          "2025-10-04T05:45:00.000000000",
          "2025-10-04T06:00:00.000000000",
          "2025-10-04T06:15:00.000000000",
          "2025-10-04T06:30:00.000000000",
          "2025-10-04T06:45:00.000000000",
          "2025-10-04T07:00:00.000000000",
          "2025-10-04T07:15:00.000000000",
          "2025-10-04T07:30:00.000000000",
          "2025-10-04T07:45:00.000000000",
          "2025-10-04T08:00:00.000000000",
          "2025-10-04T08:15:00.000000000",
          "2025-10-04T08:30:00.000000000",
          "2025-10-04T08:45:00.000000000",
          "2025-10-04T09:00:00.000000000",
          "2025-10-04T09:15:00.000000000",
          "2025-10-04T09:30:00.000000000",
          "2025-10-04T09:45:00.000000000",
          "2025-10-04T10:00:00.000000000",
          "2025-10-04T10:15:00.000000000",
          "2025-10-04T10:30:00.000000000",
          "2025-10-04T10:45:00.000000000",
          "2025-10-04T11:00:00.000000000",
          "2025-10-04T11:15:00.000000000",
          "2025-10-04T11:30:00.000000000",
          "2025-10-04T11:45:00.000000000",
          "2025-10-04T12:00:00.000000000",
          "2025-10-04T12:15:00.000000000",
          "2025-10-04T12:30:00.000000000",
          "2025-10-04T12:45:00.000000000",
          "2025-10-04T13:00:00.000000000",
          "2025-10-04T13:15:00.000000000",
          "2025-10-04T13:30:00.000000000",
          "2025-10-04T13:45:00.000000000",
          "2025-10-04T14:00:00.000000000",
          "2025-10-04T14:15:00.000000000",
          "2025-10-04T14:30:00.000000000",
          "2025-10-04T14:45:00.000000000",
          "2025-10-04T15:00:00.000000000",
          "2025-10-04T15:15:00.000000000",
          "2025-10-04T15:30:00.000000000",
          "2025-10-04T15:45:00.000000000",
          "2025-10-04T16:00:00.000000000",
          "2025-10-04T16:15:00.000000000",
          "2025-10-04T16:30:00.000000000",
          "2025-10-04T16:45:00.000000000",
          "2025-10-04T17:00:00.000000000",
          "2025-10-04T17:15:00.000000000",
          "2025-10-04T17:30:00.000000000",
          "2025-10-04T17:45:00.000000000",
          "2025-10-04T18:00:00.000000000",
          "2025-10-04T18:15:00.000000000",
          "2025-10-04T18:30:00.000000000",
          "2025-10-04T18:45:00.000000000",
          "2025-10-04T19:00:00.000000000",
          "2025-10-04T19:15:00.000000000",
          "2025-10-04T19:30:00.000000000",
          "2025-10-04T19:45:00.000000000",
          "2025-10-04T20:00:00.000000000",
          "2025-10-04T20:15:00.000000000",
          "2025-10-04T20:30:00.000000000",
          "2025-10-04T20:45:00.000000000",
          "2025-10-04T21:00:00.000000000",
          "2025-10-04T21:15:00.000000000",
          "2025-10-04T21:30:00.000000000",
          "2025-10-04T21:45:00.000000000",
          "2025-10-04T22:00:00.000000000",
          "2025-10-04T22:15:00.000000000",
          "2025-10-04T22:30:00.000000000",
          "2025-10-04T22:45:00.000000000",
          "2025-10-04T23:00:00.000000000",
          "2025-10-04T23:15:00.000000000",
          "2025-10-04T23:30:00.000000000",
          "2025-10-04T23:45:00.000000000",
          "2025-10-05T00:00:00.000000000",
          "2025-10-05T00:15:00.000000000",
          "2025-10-05T00:30:00.000000000",
          "2025-10-05T00:45:00.000000000",
          "2025-10-05T01:00:00.000000000",
          "2025-10-05T01:15:00.000000000",
          "2025-10-05T01:30:00.000000000",
          "2025-10-05T01:45:00.000000000",
          "2025-10-05T02:00:00.000000000",
          "2025-10-05T02:15:00.000000000"
         ],
         "xaxis": "x",
         "yaxis": "y"
        },
        {
         "customdata": {
          "bdata": "5AV+PyNHfT8Iw30/9Al+P6IRfj/Fl30/xZd9PyNHfT/fEn4/eep9P0+7fT8jR30/uOJ9P+1cfT9hWH0/Uc19PyNHfT8DyH0/jzl9PyNHfT8jR30/Ho99P8WXfT+Yyn0/ohF+PwjDfT8jR30/3xJ+PxQOfT956n0/nsp9PwUofT8l2n0/xZd9P8WXfT/wr3w/LN19PyNHfT/tXH0/4nZ9PyNHfT+4IH4/CMN9PyzdfT+7RH0/A8h9P4hbfT/kBX4/NtF9P7pLfT+Yyn0/4nZ9P6knfT/wr3w/FA59P4XwfD+pJ30/NAd9P57KfT/86Xw/hfB8P8EAfT8kB30/Zph8P7alfD8q5nw/JAd9P7alfD+H93w/JrR8P4f3fD8UDn0/2dN9P60Zfj8s3X0/T7t9Px6PfT/wr3w/Ho99PwPIfT/y1H0/9Al+P7ggfj+iEX4/iuZ9P8WXfT/fEn4/4sZ9PzHGfT8xxn0/OtV9PzrVfT9TyX0/3xJ+P60Zfj+6S30/eep9PyNHfT/fEn4/ukt9PyzdfT+tGX4/9Al+P/QJfj/fEn4/CMN9P+LGfT+POX0/Uc19P8WXfT+IW30/9Al+P4rmfT8jR30/xZd9PyzdfT/0CX4/NtF9PyNHfT/Fl30/McZ9PzrVfT/fEn4/4sZ9P5jKfT8jR30/uOJ9P3nqfT/F+n0/u0R9P98Sfj8xxn0/OtV9P7pLfT861X0/OtV9PzrVfT/F+n0/nsp9P60Zfj9RzX0/ohF+P98Sfj861X0/4sZ9P7tEfT8UDn0/I0d9P4rmfT9RzX0/ohF+P+QFfj/fEn4/xZd9P8WXfT/Z030/xZd9P3nqfT+eyn0/rRl+P60Zfj956n0/3xJ+PzHGfT+6S30/OtV9P6IRfj9TyX0/I0d9P05HfT+K5n0/7Vx9PzHGfT861X0/4nZ9P+1cfT/ixn0/3xJ+P7pLfT+py30/5AV+PzrVfT8PzH0/OtV9PzrVfT/fEn4/OtV9PzrVfT/kBX4/ohF+PzrVfT8PzH0/OtV9PyNHfT/7FH4/3xJ+P+LGfT/ixn0/OtV9PxQOfT8=",
          "dtype": "f4"
         },
         "hovertemplate": "<b>HOLD</b><br>Price: $%{y:.4f}<br>Confidence: %{customdata:.1%}<br>%{text}<extra></extra>",
         "marker": {
          "color": "gray",
          "size": 8,
          "symbol": "circle"
         },
         "mode": "markers",
         "name": "HOLD Prediction",
         "text": [
          "XGBoost-GPU (15m): hold (99.2% confidence)",
          "XGBoost-GPU (15m): hold (98.9% confidence)",
          "XGBoost-GPU (15m): hold (99.1% confidence)",
          "XGBoost-GPU (15m): hold (99.2% confidence)",
          "XGBoost-GPU (15m): hold (99.2% confidence)",
          "XGBoost-GPU (15m): hold (99.1% confidence)",
          "XGBoost-GPU (15m): hold (99.1% confidence)",
          "XGBoost-GPU (15m): hold (98.9% confidence)",
          "XGBoost-GPU (15m): hold (99.2% confidence)",
          "XGBoost-GPU (15m): hold (99.2% confidence)",
          "XGBoost-GPU (15m): hold (99.1% confidence)",
          "XGBoost-GPU (15m): hold (98.9% confidence)",
          "XGBoost-GPU (15m): hold (99.2% confidence)",
          "XGBoost-GPU (15m): hold (99.0% confidence)",
          "XGBoost-GPU (15m): hold (99.0% confidence)",
          "XGBoost-GPU (15m): hold (99.1% confidence)",
          "XGBoost-GPU (15m): hold (98.9% confidence)",
          "XGBoost-GPU (15m): hold (99.1% confidence)",
          "XGBoost-GPU (15m): hold (98.9% confidence)",
          "XGBoost-GPU (15m): hold (98.9% confidence)",
          "XGBoost-GPU (15m): hold (98.9% confidence)",
          "XGBoost-GPU (15m): hold (99.0% confidence)",
          "XGBoost-GPU (15m): hold (99.1% confidence)",
          "XGBoost-GPU (15m): hold (99.1% confidence)",
          "XGBoost-GPU (15m): hold (99.2% confidence)",
          "XGBoost-GPU (15m): hold (99.1% confidence)",
          "XGBoost-GPU (15m): hold (98.9% confidence)",
          "XGBoost-GPU (15m): hold (99.2% confidence)",
          "XGBoost-GPU (15m): hold (98.8% confidence)",
          "XGBoost-GPU (15m): hold (99.2% confidence)",
          "XGBoost-GPU (15m): hold (99.1% confidence)",
          "XGBoost-GPU (15m): hold (98.9% confidence)",
          "XGBoost-GPU (15m): hold (99.2% confidence)",
          "XGBoost-GPU (15m): hold (99.1% confidence)",
          "XGBoost-GPU (15m): hold (99.1% confidence)",
          "XGBoost-GPU (15m): hold (98.7% confidence)",
          "XGBoost-GPU (15m): hold (99.2% confidence)",
          "XGBoost-GPU (15m): hold (98.9% confidence)",
          "XGBoost-GPU (15m): hold (99.0% confidence)",
          "XGBoost-GPU (15m): hold (99.0% confidence)",
          "XGBoost-GPU (15m): hold (98.9% confidence)",
          "XGBoost-GPU (15m): hold (99.3% confidence)",
          "XGBoost-GPU (15m): hold (99.1% confidence)",
          "XGBoost-GPU (15m): hold (99.2% confidence)",
          "XGBoost-GPU (15m): hold (98.9% confidence)",
          "XGBoost-GPU (15m): hold (99.1% confidence)",
          "XGBoost-GPU (15m): hold (99.0% confidence)",
          "XGBoost-GPU (15m): hold (99.2% confidence)",
          "XGBoost-GPU (15m): hold (99.1% confidence)",
          "XGBoost-GPU (15m): hold (98.9% confidence)",
          "XGBoost-GPU (15m): hold (99.1% confidence)",
          "XGBoost-GPU (15m): hold (99.0% confidence)",
          "XGBoost-GPU (15m): hold (98.9% confidence)",
          "XGBoost-GPU (15m): hold (98.7% confidence)",
          "XGBoost-GPU (15m): hold (98.8% confidence)",
          "XGBoost-GPU (15m): hold (98.8% confidence)",
          "XGBoost-GPU (15m): hold (98.9% confidence)",
          "XGBoost-GPU (15m): hold (98.8% confidence)",
          "XGBoost-GPU (15m): hold (99.1% confidence)",
          "XGBoost-GPU (15m): hold (98.8% confidence)",
          "XGBoost-GPU (15m): hold (98.8% confidence)",
          "XGBoost-GPU (15m): hold (98.8% confidence)",
          "XGBoost-GPU (15m): hold (98.8% confidence)",
          "XGBoost-GPU (15m): hold (98.7% confidence)",
          "XGBoost-GPU (15m): hold (98.7% confidence)",
          "XGBoost-GPU (15m): hold (98.8% confidence)",
          "XGBoost-GPU (15m): hold (98.8% confidence)",
          "XGBoost-GPU (15m): hold (98.7% confidence)",
          "XGBoost-GPU (15m): hold (98.8% confidence)",
          "XGBoost-GPU (15m): hold (98.7% confidence)",
          "XGBoost-GPU (15m): hold (98.8% confidence)",
          "XGBoost-GPU (15m): hold (98.8% confidence)",
          "XGBoost-GPU (15m): hold (99.2% confidence)",
          "XGBoost-GPU (15m): hold (99.3% confidence)",
          "XGBoost-GPU (15m): hold (99.2% confidence)",
          "XGBoost-GPU (15m): hold (99.1% confidence)",
          "XGBoost-GPU (15m): hold (99.0% confidence)",
          "XGBoost-GPU (15m): hold (98.7% confidence)",
          "XGBoost-GPU (15m): hold (99.0% confidence)",
          "XGBoost-GPU (15m): hold (99.1% confidence)",
          "XGBoost-GPU (15m): hold (99.2% confidence)",
          "XGBoost-GPU (15m): hold (99.2% confidence)",
          "XGBoost-GPU (15m): hold (99.3% confidence)",
          "XGBoost-GPU (15m): hold (99.2% confidence)",
          "XGBoost-GPU (15m): hold (99.2% confidence)",
          "XGBoost-GPU (15m): hold (99.1% confidence)",
          "XGBoost-GPU (15m): hold (99.2% confidence)",
          "XGBoost-GPU (15m): hold (99.1% confidence)",
          "XGBoost-GPU (15m): hold (99.1% confidence)",
          "XGBoost-GPU (15m): hold (99.1% confidence)",
          "XGBoost-GPU (15m): hold (99.2% confidence)",
          "XGBoost-GPU (15m): hold (99.2% confidence)",
          "XGBoost-GPU (15m): hold (99.1% confidence)",
          "XGBoost-GPU (15m): hold (99.2% confidence)",
          "XGBoost-GPU (15m): hold (99.3% confidence)",
          "XGBoost-GPU (15m): hold (98.9% confidence)",
          "XGBoost-GPU (15m): hold (99.2% confidence)",
          "XGBoost-GPU (15m): hold (98.9% confidence)",
          "XGBoost-GPU (15m): hold (99.2% confidence)",
          "XGBoost-GPU (15m): hold (98.9% confidence)",
          "XGBoost-GPU (15m): hold (99.2% confidence)",
          "XGBoost-GPU (15m): hold (99.3% confidence)",
          "XGBoost-GPU (15m): hold (99.2% confidence)",
          "XGBoost-GPU (15m): hold (99.2% confidence)",
          "XGBoost-GPU (15m): hold (99.2% confidence)",
          "XGBoost-GPU (15m): hold (99.1% confidence)",
          "XGBoost-GPU (15m): hold (99.1% confidence)",
          "XGBoost-GPU (15m): hold (98.9% confidence)",
          "XGBoost-GPU (15m): hold (99.1% confidence)",
          "XGBoost-GPU (15m): hold (99.1% confidence)",
          "XGBoost-GPU (15m): hold (99.0% confidence)",
          "XGBoost-GPU (15m): hold (99.2% confidence)",
          "XGBoost-GPU (15m): hold (99.2% confidence)",
          "XGBoost-GPU (15m): hold (98.9% confidence)",
          "XGBoost-GPU (15m): hold (99.1% confidence)",
          "XGBoost-GPU (15m): hold (99.2% confidence)",
          "XGBoost-GPU (15m): hold (99.2% confidence)",
          "XGBoost-GPU (15m): hold (99.1% confidence)",
          "XGBoost-GPU (15m): hold (98.9% confidence)",
          "XGBoost-GPU (15m): hold (99.1% confidence)",
          "XGBoost-GPU (15m): hold (99.1% confidence)",
          "XGBoost-GPU (15m): hold (99.2% confidence)",
          "XGBoost-GPU (15m): hold (99.2% confidence)",
          "XGBoost-GPU (15m): hold (99.1% confidence)",
          "XGBoost-GPU (15m): hold (99.1% confidence)",
          "XGBoost-GPU (15m): hold (98.9% confidence)",
          "XGBoost-GPU (15m): hold (99.2% confidence)",
          "XGBoost-GPU (15m): hold (99.2% confidence)",
          "XGBoost-GPU (15m): hold (99.2% confidence)",
          "XGBoost-GPU (15m): hold (98.9% confidence)",
          "XGBoost-GPU (15m): hold (99.2% confidence)",
          "XGBoost-GPU (15m): hold (99.1% confidence)",
          "XGBoost-GPU (15m): hold (99.2% confidence)",
          "XGBoost-GPU (15m): hold (98.9% confidence)",
          "XGBoost-GPU (15m): hold (99.2% confidence)",
          "XGBoost-GPU (15m): hold (99.2% confidence)",
          "XGBoost-GPU (15m): hold (99.2% confidence)",
          "XGBoost-GPU (15m): hold (99.2% confidence)",
          "XGBoost-GPU (15m): hold (99.1% confidence)",
          "XGBoost-GPU (15m): hold (99.3% confidence)",
          "XGBoost-GPU (15m): hold (99.1% confidence)",
          "XGBoost-GPU (15m): hold (99.2% confidence)",
          "XGBoost-GPU (15m): hold (99.2% confidence)",
          "XGBoost-GPU (15m): hold (99.2% confidence)",
          "XGBoost-GPU (15m): hold (99.1% confidence)",
          "XGBoost-GPU (15m): hold (98.9% confidence)",
          "XGBoost-GPU (15m): hold (98.8% confidence)",
          "XGBoost-GPU (15m): hold (98.9% confidence)",
          "XGBoost-GPU (15m): hold (99.2% confidence)",
          "XGBoost-GPU (15m): hold (99.1% confidence)",
          "XGBoost-GPU (15m): hold (99.2% confidence)",
          "XGBoost-GPU (15m): hold (99.2% confidence)",
          "XGBoost-GPU (15m): hold (99.2% confidence)",
          "XGBoost-GPU (15m): hold (99.1% confidence)",
          "XGBoost-GPU (15m): hold (99.1% confidence)",
          "XGBoost-GPU (15m): hold (99.2% confidence)",
          "XGBoost-GPU (15m): hold (99.1% confidence)",
          "XGBoost-GPU (15m): hold (99.2% confidence)",
          "XGBoost-GPU (15m): hold (99.1% confidence)",
          "XGBoost-GPU (15m): hold (99.3% confidence)",
          "XGBoost-GPU (15m): hold (99.3% confidence)",
          "XGBoost-GPU (15m): hold (99.2% confidence)",
          "XGBoost-GPU (15m): hold (99.2% confidence)",
          "XGBoost-GPU (15m): hold (99.1% confidence)",
          "XGBoost-GPU (15m): hold (98.9% confidence)",
          "XGBoost-GPU (15m): hold (99.2% confidence)",
          "XGBoost-GPU (15m): hold (99.2% confidence)",
          "XGBoost-GPU (15m): hold (99.1% confidence)",
          "XGBoost-GPU (15m): hold (98.9% confidence)",
          "XGBoost-GPU (15m): hold (98.9% confidence)",
          "XGBoost-GPU (15m): hold (99.2% confidence)",
          "XGBoost-GPU (15m): hold (99.0% confidence)",
          "XGBoost-GPU (15m): hold (99.1% confidence)",
          "XGBoost-GPU (15m): hold (99.2% confidence)",
          "XGBoost-GPU (15m): hold (99.0% confidence)",
          "XGBoost-GPU (15m): hold (99.0% confidence)",
          "XGBoost-GPU (15m): hold (99.1% confidence)",
          "XGBoost-GPU (15m): hold (99.2% confidence)",
          "XGBoost-GPU (15m): hold (98.9% confidence)",
          "XGBoost-GPU (15m): hold (99.1% confidence)",
          "XGBoost-GPU (15m): hold (99.2% confidence)",
          "XGBoost-GPU (15m): hold (99.2% confidence)",
          "XGBoost-GPU (15m): hold (99.1% confidence)",
          "XGBoost-GPU (15m): hold (99.2% confidence)",
          "XGBoost-GPU (15m): hold (99.2% confidence)",
          "XGBoost-GPU (15m): hold (99.2% confidence)",
          "XGBoost-GPU (15m): hold (99.2% confidence)",
          "XGBoost-GPU (15m): hold (99.2% confidence)",
          "XGBoost-GPU (15m): hold (99.2% confidence)",
          "XGBoost-GPU (15m): hold (99.2% confidence)",
          "XGBoost-GPU (15m): hold (99.2% confidence)",
          "XGBoost-GPU (15m): hold (99.1% confidence)",
          "XGBoost-GPU (15m): hold (99.2% confidence)",
          "XGBoost-GPU (15m): hold (98.9% confidence)",
          "XGBoost-GPU (15m): hold (99.3% confidence)",
          "XGBoost-GPU (15m): hold (99.2% confidence)",
          "XGBoost-GPU (15m): hold (99.1% confidence)",
          "XGBoost-GPU (15m): hold (99.1% confidence)",
          "XGBoost-GPU (15m): hold (99.2% confidence)",
          "XGBoost-GPU (15m): hold (98.8% confidence)"
         ],
         "type": "scatter",
         "x": [
          "2025-10-03T00:30:00.000000000",
          "2025-10-03T00:45:00.000000000",
          "2025-10-03T01:00:00.000000000",
          "2025-10-03T01:15:00.000000000",
          "2025-10-03T01:30:00.000000000",
          "2025-10-03T01:45:00.000000000",
          "2025-10-03T02:00:00.000000000",
          "2025-10-03T02:15:00.000000000",
          "2025-10-03T02:30:00.000000000",
          "2025-10-03T02:45:00.000000000",
          "2025-10-03T03:00:00.000000000",
          "2025-10-03T03:15:00.000000000",
          "2025-10-03T03:30:00.000000000",
          "2025-10-03T03:45:00.000000000",
          "2025-10-03T04:00:00.000000000",
          "2025-10-03T04:15:00.000000000",
          "2025-10-03T04:30:00.000000000",
          "2025-10-03T04:45:00.000000000",
          "2025-10-03T05:00:00.000000000",
          "2025-10-03T05:15:00.000000000",
          "2025-10-03T05:30:00.000000000",
          "2025-10-03T05:45:00.000000000",
          "2025-10-03T06:00:00.000000000",
          "2025-10-03T06:15:00.000000000",
          "2025-10-03T06:30:00.000000000",
          "2025-10-03T06:45:00.000000000",
          "2025-10-03T07:00:00.000000000",
          "2025-10-03T07:15:00.000000000",
          "2025-10-03T07:30:00.000000000",
          "2025-10-03T07:45:00.000000000",
          "2025-10-03T08:00:00.000000000",
          "2025-10-03T08:15:00.000000000",
          "2025-10-03T08:30:00.000000000",
          "2025-10-03T08:45:00.000000000",
          "2025-10-03T09:00:00.000000000",
          "2025-10-03T09:15:00.000000000",
          "2025-10-03T09:30:00.000000000",
          "2025-10-03T09:45:00.000000000",
          "2025-10-03T10:00:00.000000000",
          "2025-10-03T10:15:00.000000000",
          "2025-10-03T10:30:00.000000000",
          "2025-10-03T10:45:00.000000000",
          "2025-10-03T11:00:00.000000000",
          "2025-10-03T11:15:00.000000000",
          "2025-10-03T11:30:00.000000000",
          "2025-10-03T11:45:00.000000000",
          "2025-10-03T12:00:00.000000000",
          "2025-10-03T12:15:00.000000000",
          "2025-10-03T12:30:00.000000000",
          "2025-10-03T12:45:00.000000000",
          "2025-10-03T13:00:00.000000000",
          "2025-10-03T13:15:00.000000000",
          "2025-10-03T13:30:00.000000000",
          "2025-10-03T13:45:00.000000000",
          "2025-10-03T14:00:00.000000000",
          "2025-10-03T14:15:00.000000000",
          "2025-10-03T14:30:00.000000000",
          "2025-10-03T14:45:00.000000000",
          "2025-10-03T15:00:00.000000000",
          "2025-10-03T15:15:00.000000000",
          "2025-10-03T15:30:00.000000000",
          "2025-10-03T15:45:00.000000000",
          "2025-10-03T16:00:00.000000000",
          "2025-10-03T16:15:00.000000000",
          "2025-10-03T16:30:00.000000000",
          "2025-10-03T16:45:00.000000000",
          "2025-10-03T17:00:00.000000000",
          "2025-10-03T17:15:00.000000000",
          "2025-10-03T17:30:00.000000000",
          "2025-10-03T17:45:00.000000000",
          "2025-10-03T18:00:00.000000000",
          "2025-10-03T18:15:00.000000000",
          "2025-10-03T18:30:00.000000000",
          "2025-10-03T18:45:00.000000000",
          "2025-10-03T19:00:00.000000000",
          "2025-10-03T19:15:00.000000000",
          "2025-10-03T19:30:00.000000000",
          "2025-10-03T19:45:00.000000000",
          "2025-10-03T20:00:00.000000000",
          "2025-10-03T20:15:00.000000000",
          "2025-10-03T20:30:00.000000000",
          "2025-10-03T20:45:00.000000000",
          "2025-10-03T21:00:00.000000000",
          "2025-10-03T21:15:00.000000000",
          "2025-10-03T21:30:00.000000000",
          "2025-10-03T21:45:00.000000000",
          "2025-10-03T22:00:00.000000000",
          "2025-10-03T22:15:00.000000000",
          "2025-10-03T22:30:00.000000000",
          "2025-10-03T22:45:00.000000000",
          "2025-10-03T23:00:00.000000000",
          "2025-10-03T23:15:00.000000000",
          "2025-10-03T23:30:00.000000000",
          "2025-10-03T23:45:00.000000000",
          "2025-10-04T00:00:00.000000000",
          "2025-10-04T00:15:00.000000000",
          "2025-10-04T00:30:00.000000000",
          "2025-10-04T00:45:00.000000000",
          "2025-10-04T01:00:00.000000000",
          "2025-10-04T01:15:00.000000000",
          "2025-10-04T01:30:00.000000000",
          "2025-10-04T01:45:00.000000000",
          "2025-10-04T02:00:00.000000000",
          "2025-10-04T02:15:00.000000000",
          "2025-10-04T02:30:00.000000000",
          "2025-10-04T02:45:00.000000000",
          "2025-10-04T03:00:00.000000000",
          "2025-10-04T03:15:00.000000000",
          "2025-10-04T03:30:00.000000000",
          "2025-10-04T03:45:00.000000000",
          "2025-10-04T04:00:00.000000000",
          "2025-10-04T04:15:00.000000000",
          "2025-10-04T04:30:00.000000000",
          "2025-10-04T04:45:00.000000000",
          "2025-10-04T05:00:00.000000000",
          "2025-10-04T05:15:00.000000000",
          "2025-10-04T05:30:00.000000000",
          "2025-10-04T05:45:00.000000000",
          "2025-10-04T06:00:00.000000000",
          "2025-10-04T06:15:00.000000000",
          "2025-10-04T06:30:00.000000000",
          "2025-10-04T06:45:00.000000000",
          "2025-10-04T07:00:00.000000000",
          "2025-10-04T07:15:00.000000000",
          "2025-10-04T07:30:00.000000000",
          "2025-10-04T07:45:00.000000000",
          "2025-10-04T08:00:00.000000000",
          "2025-10-04T08:15:00.000000000",
          "2025-10-04T08:30:00.000000000",
          "2025-10-04T08:45:00.000000000",
          "2025-10-04T09:00:00.000000000",
          "2025-10-04T09:15:00.000000000",
          "2025-10-04T09:30:00.000000000",
          "2025-10-04T09:45:00.000000000",
          "2025-10-04T10:00:00.000000000",
          "2025-10-04T10:15:00.000000000",
          "2025-10-04T10:30:00.000000000",
          "2025-10-04T10:45:00.000000000",
          "2025-10-04T11:00:00.000000000",
          "2025-10-04T11:15:00.000000000",
          "2025-10-04T11:30:00.000000000",
          "2025-10-04T11:45:00.000000000",
          "2025-10-04T12:00:00.000000000",
          "2025-10-04T12:15:00.000000000",
          "2025-10-04T12:30:00.000000000",
          "2025-10-04T12:45:00.000000000",
          "2025-10-04T13:00:00.000000000",
          "2025-10-04T13:15:00.000000000",
          "2025-10-04T13:30:00.000000000",
          "2025-10-04T13:45:00.000000000",
          "2025-10-04T14:00:00.000000000",
          "2025-10-04T14:15:00.000000000",
          "2025-10-04T14:30:00.000000000",
          "2025-10-04T14:45:00.000000000",
          "2025-10-04T15:00:00.000000000",
          "2025-10-04T15:15:00.000000000",
          "2025-10-04T15:30:00.000000000",
          "2025-10-04T15:45:00.000000000",
          "2025-10-04T16:00:00.000000000",
          "2025-10-04T16:15:00.000000000",
          "2025-10-04T16:30:00.000000000",
          "2025-10-04T16:45:00.000000000",
          "2025-10-04T17:00:00.000000000",
          "2025-10-04T17:15:00.000000000",
          "2025-10-04T17:30:00.000000000",
          "2025-10-04T17:45:00.000000000",
          "2025-10-04T18:00:00.000000000",
          "2025-10-04T18:15:00.000000000",
          "2025-10-04T18:30:00.000000000",
          "2025-10-04T18:45:00.000000000",
          "2025-10-04T19:00:00.000000000",
          "2025-10-04T19:15:00.000000000",
          "2025-10-04T19:30:00.000000000",
          "2025-10-04T19:45:00.000000000",
          "2025-10-04T20:00:00.000000000",
          "2025-10-04T20:15:00.000000000",
          "2025-10-04T20:30:00.000000000",
          "2025-10-04T20:45:00.000000000",
          "2025-10-04T21:00:00.000000000",
          "2025-10-04T21:15:00.000000000",
          "2025-10-04T21:30:00.000000000",
          "2025-10-04T21:45:00.000000000",
          "2025-10-04T22:00:00.000000000",
          "2025-10-04T22:15:00.000000000",
          "2025-10-04T22:30:00.000000000",
          "2025-10-04T22:45:00.000000000",
          "2025-10-04T23:00:00.000000000",
          "2025-10-04T23:15:00.000000000",
          "2025-10-04T23:30:00.000000000",
          "2025-10-04T23:45:00.000000000",
          "2025-10-05T00:00:00.000000000",
          "2025-10-05T00:15:00.000000000",
          "2025-10-05T00:30:00.000000000",
          "2025-10-05T00:45:00.000000000",
          "2025-10-05T01:00:00.000000000",
          "2025-10-05T01:15:00.000000000",
          "2025-10-05T01:30:00.000000000",
          "2025-10-05T01:45:00.000000000",
          "2025-10-05T02:00:00.000000000",
          "2025-10-05T02:15:00.000000000"
         ],
         "xaxis": "x",
         "y": {
          "bdata": "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",
          "dtype": "f8"
         },
         "yaxis": "y"
        },
        {
         "customdata": [
          "hold",
          "hold",
          "hold",
          "hold",
          "hold",
          "hold",
          "hold",
          "hold",
          "hold",
          "hold",
          "hold",
          "hold",
          "hold",
          "hold",
          "hold",
          "hold",
          "hold",
          "hold",
          "hold",
          "hold",
          "hold",
          "hold",
          "hold",
          "hold",
          "hold",
          "hold",
          "hold",
          "hold",
          "hold",
          "hold",
          "hold",
          "hold",
          "hold",
          "hold",
          "hold",
          "hold",
          "hold",
          "hold",
          "hold",
          "hold",
          "hold",
          "hold",
          "hold",
          "hold",
          "hold",
          "hold",
          "hold",
          "hold",
          "hold",
          "hold",
          "hold",
          "hold",
          "hold",
          "hold",
          "hold",
          "hold",
          "hold",
          "hold",
          "hold",
          "hold",
          "hold",
          "hold",
          "hold",
          "hold",
          "hold",
          "hold",
          "hold",
          "hold",
          "hold",
          "hold",
          "hold",
          "hold",
          "hold",
          "hold",
          "hold",
          "hold",
          "hold",
          "hold",
          "hold",
          "hold",
          "hold",
          "hold",
          "hold",
          "hold",
          "hold",
          "hold",
          "hold",
          "hold",
          "hold",
          "hold",
          "hold",
          "hold",
          "hold",
          "hold",
          "hold",
          "hold",
          "hold",
          "hold",
          "hold",
          "hold",
          "hold",
          "hold",
          "hold",
          "hold",
          "hold",
          "hold",
          "hold",
          "hold",
          "hold",
          "hold",
          "hold",
          "hold",
          "hold",
          "hold",
          "hold",
          "hold",
          "hold",
          "hold",
          "hold",
          "hold",
          "hold",
          "hold",
          "hold",
          "hold",
          "hold",
          "hold",
          "hold",
          "hold",
          "hold",
          "hold",
          "hold",
          "hold",
          "hold",
          "hold",
          "hold",
          "hold",
          "hold",
          "hold",
          "hold",
          "hold",
          "hold",
          "hold",
          "hold",
          "hold",
          "hold",
          "hold",
          "hold",
          "hold",
          "hold",
          "hold",
          "hold",
          "hold",
          "hold",
          "hold",
          "hold",
          "hold",
          "hold",
          "hold",
          "hold",
          "hold",
          "hold",
          "hold",
          "hold",
          "hold",
          "hold",
          "hold",
          "hold",
          "hold",
          "hold",
          "hold",
          "hold",
          "hold",
          "hold",
          "hold",
          "hold",
          "hold",
          "hold",
          "hold",
          "hold",
          "hold",
          "hold",
          "hold",
          "hold",
          "hold",
          "hold",
          "hold",
          "hold",
          "hold",
          "hold",
          "hold",
          "hold",
          "hold",
          "hold",
          "hold",
          "hold",
          "hold",
          "hold",
          "hold",
          "hold",
          "hold"
         ],
         "hovertemplate": "Confidence: %{y:.1%}<br>Prediction: %{customdata}<extra></extra>",
         "line": {
          "color": "white",
          "width": 1
         },
         "marker": {
          "color": [
           "gray",
           "gray",
           "gray",
           "gray",
           "gray",
           "gray",
           "gray",
           "gray",
           "gray",
           "gray",
           "gray",
           "gray",
           "gray",
           "gray",
           "gray",
           "gray",
           "gray",
           "gray",
           "gray",
           "gray",
           "gray",
           "gray",
           "gray",
           "gray",
           "gray",
           "gray",
           "gray",
           "gray",
           "gray",
           "gray",
           "gray",
           "gray",
           "gray",
           "gray",
           "gray",
           "gray",
           "gray",
           "gray",
           "gray",
           "gray",
           "gray",
           "gray",
           "gray",
           "gray",
           "gray",
           "gray",
           "gray",
           "gray",
           "gray",
           "gray",
           "gray",
           "gray",
           "gray",
           "gray",
           "gray",
           "gray",
           "gray",
           "gray",
           "gray",
           "gray",
           "gray",
           "gray",
           "gray",
           "gray",
           "gray",
           "gray",
           "gray",
           "gray",
           "gray",
           "gray",
           "gray",
           "gray",
           "gray",
           "gray",
           "gray",
           "gray",
           "gray",
           "gray",
           "gray",
           "gray",
           "gray",
           "gray",
           "gray",
           "gray",
           "gray",
           "gray",
           "gray",
           "gray",
           "gray",
           "gray",
           "gray",
           "gray",
           "gray",
           "gray",
           "gray",
           "gray",
           "gray",
           "gray",
           "gray",
           "gray",
           "gray",
           "gray",
           "gray",
           "gray",
           "gray",
           "gray",
           "gray",
           "gray",
           "gray",
           "gray",
           "gray",
           "gray",
           "gray",
           "gray",
           "gray",
           "gray",
           "gray",
           "gray",
           "gray",
           "gray",
           "gray",
           "gray",
           "gray",
           "gray",
           "gray",
           "gray",
           "gray",
           "gray",
           "gray",
           "gray",
           "gray",
           "gray",
           "gray",
           "gray",
           "gray",
           "gray",
           "gray",
           "gray",
           "gray",
           "gray",
           "gray",
           "gray",
           "gray",
           "gray",
           "gray",
           "gray",
           "gray",
           "gray",
           "gray",
           "gray",
           "gray",
           "gray",
           "gray",
           "gray",
           "gray",
           "gray",
           "gray",
           "gray",
           "gray",
           "gray",
           "gray",
           "gray",
           "gray",
           "gray",
           "gray",
           "gray",
           "gray",
           "gray",
           "gray",
           "gray",
           "gray",
           "gray",
           "gray",
           "gray",
           "gray",
           "gray",
           "gray",
           "gray",
           "gray",
           "gray",
           "gray",
           "gray",
           "gray",
           "gray",
           "gray",
           "gray",
           "gray",
           "gray",
           "gray",
           "gray",
           "gray",
           "gray",
           "gray",
           "gray",
           "gray",
           "gray",
           "gray",
           "gray",
           "gray",
           "gray"
          ],
          "size": 8
         },
         "mode": "markers+lines",
         "name": "Model Confidence",
         "type": "scatter",
         "x": [
          "2025-10-03T00:30:00.000000000",
          "2025-10-03T00:45:00.000000000",
          "2025-10-03T01:00:00.000000000",
          "2025-10-03T01:15:00.000000000",
          "2025-10-03T01:30:00.000000000",
          "2025-10-03T01:45:00.000000000",
          "2025-10-03T02:00:00.000000000",
          "2025-10-03T02:15:00.000000000",
          "2025-10-03T02:30:00.000000000",
          "2025-10-03T02:45:00.000000000",
          "2025-10-03T03:00:00.000000000",
          "2025-10-03T03:15:00.000000000",
          "2025-10-03T03:30:00.000000000",
          "2025-10-03T03:45:00.000000000",
          "2025-10-03T04:00:00.000000000",
          "2025-10-03T04:15:00.000000000",
          "2025-10-03T04:30:00.000000000",
          "2025-10-03T04:45:00.000000000",
          "2025-10-03T05:00:00.000000000",
          "2025-10-03T05:15:00.000000000",
          "2025-10-03T05:30:00.000000000",
          "2025-10-03T05:45:00.000000000",
          "2025-10-03T06:00:00.000000000",
          "2025-10-03T06:15:00.000000000",
          "2025-10-03T06:30:00.000000000",
          "2025-10-03T06:45:00.000000000",
          "2025-10-03T07:00:00.000000000",
          "2025-10-03T07:15:00.000000000",
          "2025-10-03T07:30:00.000000000",
          "2025-10-03T07:45:00.000000000",
          "2025-10-03T08:00:00.000000000",
          "2025-10-03T08:15:00.000000000",
          "2025-10-03T08:30:00.000000000",
          "2025-10-03T08:45:00.000000000",
          "2025-10-03T09:00:00.000000000",
          "2025-10-03T09:15:00.000000000",
          "2025-10-03T09:30:00.000000000",
          "2025-10-03T09:45:00.000000000",
          "2025-10-03T10:00:00.000000000",
          "2025-10-03T10:15:00.000000000",
          "2025-10-03T10:30:00.000000000",
          "2025-10-03T10:45:00.000000000",
          "2025-10-03T11:00:00.000000000",
          "2025-10-03T11:15:00.000000000",
          "2025-10-03T11:30:00.000000000",
          "2025-10-03T11:45:00.000000000",
          "2025-10-03T12:00:00.000000000",
          "2025-10-03T12:15:00.000000000",
          "2025-10-03T12:30:00.000000000",
          "2025-10-03T12:45:00.000000000",
          "2025-10-03T13:00:00.000000000",
          "2025-10-03T13:15:00.000000000",
          "2025-10-03T13:30:00.000000000",
          "2025-10-03T13:45:00.000000000",
          "2025-10-03T14:00:00.000000000",
          "2025-10-03T14:15:00.000000000",
          "2025-10-03T14:30:00.000000000",
          "2025-10-03T14:45:00.000000000",
          "2025-10-03T15:00:00.000000000",
          "2025-10-03T15:15:00.000000000",
          "2025-10-03T15:30:00.000000000",
          "2025-10-03T15:45:00.000000000",
          "2025-10-03T16:00:00.000000000",
          "2025-10-03T16:15:00.000000000",
          "2025-10-03T16:30:00.000000000",
          "2025-10-03T16:45:00.000000000",
          "2025-10-03T17:00:00.000000000",
          "2025-10-03T17:15:00.000000000",
          "2025-10-03T17:30:00.000000000",
          "2025-10-03T17:45:00.000000000",
          "2025-10-03T18:00:00.000000000",
          "2025-10-03T18:15:00.000000000",
          "2025-10-03T18:30:00.000000000",
          "2025-10-03T18:45:00.000000000",
          "2025-10-03T19:00:00.000000000",
          "2025-10-03T19:15:00.000000000",
          "2025-10-03T19:30:00.000000000",
          "2025-10-03T19:45:00.000000000",
          "2025-10-03T20:00:00.000000000",
          "2025-10-03T20:15:00.000000000",
          "2025-10-03T20:30:00.000000000",
          "2025-10-03T20:45:00.000000000",
          "2025-10-03T21:00:00.000000000",
          "2025-10-03T21:15:00.000000000",
          "2025-10-03T21:30:00.000000000",
          "2025-10-03T21:45:00.000000000",
          "2025-10-03T22:00:00.000000000",
          "2025-10-03T22:15:00.000000000",
          "2025-10-03T22:30:00.000000000",
          "2025-10-03T22:45:00.000000000",
          "2025-10-03T23:00:00.000000000",
          "2025-10-03T23:15:00.000000000",
          "2025-10-03T23:30:00.000000000",
          "2025-10-03T23:45:00.000000000",
          "2025-10-04T00:00:00.000000000",
          "2025-10-04T00:15:00.000000000",
          "2025-10-04T00:30:00.000000000",
          "2025-10-04T00:45:00.000000000",
          "2025-10-04T01:00:00.000000000",
          "2025-10-04T01:15:00.000000000",
          "2025-10-04T01:30:00.000000000",
          "2025-10-04T01:45:00.000000000",
          "2025-10-04T02:00:00.000000000",
          "2025-10-04T02:15:00.000000000",
          "2025-10-04T02:30:00.000000000",
          "2025-10-04T02:45:00.000000000",
          "2025-10-04T03:00:00.000000000",
          "2025-10-04T03:15:00.000000000",
          "2025-10-04T03:30:00.000000000",
          "2025-10-04T03:45:00.000000000",
          "2025-10-04T04:00:00.000000000",
          "2025-10-04T04:15:00.000000000",
          "2025-10-04T04:30:00.000000000",
          "2025-10-04T04:45:00.000000000",
          "2025-10-04T05:00:00.000000000",
          "2025-10-04T05:15:00.000000000",
          "2025-10-04T05:30:00.000000000",
          "2025-10-04T05:45:00.000000000",
          "2025-10-04T06:00:00.000000000",
          "2025-10-04T06:15:00.000000000",
          "2025-10-04T06:30:00.000000000",
          "2025-10-04T06:45:00.000000000",
          "2025-10-04T07:00:00.000000000",
          "2025-10-04T07:15:00.000000000",
          "2025-10-04T07:30:00.000000000",
          "2025-10-04T07:45:00.000000000",
          "2025-10-04T08:00:00.000000000",
          "2025-10-04T08:15:00.000000000",
          "2025-10-04T08:30:00.000000000",
          "2025-10-04T08:45:00.000000000",
          "2025-10-04T09:00:00.000000000",
          "2025-10-04T09:15:00.000000000",
          "2025-10-04T09:30:00.000000000",
          "2025-10-04T09:45:00.000000000",
          "2025-10-04T10:00:00.000000000",
          "2025-10-04T10:15:00.000000000",
          "2025-10-04T10:30:00.000000000",
          "2025-10-04T10:45:00.000000000",
          "2025-10-04T11:00:00.000000000",
          "2025-10-04T11:15:00.000000000",
          "2025-10-04T11:30:00.000000000",
          "2025-10-04T11:45:00.000000000",
          "2025-10-04T12:00:00.000000000",
          "2025-10-04T12:15:00.000000000",
          "2025-10-04T12:30:00.000000000",
          "2025-10-04T12:45:00.000000000",
          "2025-10-04T13:00:00.000000000",
          "2025-10-04T13:15:00.000000000",
          "2025-10-04T13:30:00.000000000",
          "2025-10-04T13:45:00.000000000",
          "2025-10-04T14:00:00.000000000",
          "2025-10-04T14:15:00.000000000",
          "2025-10-04T14:30:00.000000000",
          "2025-10-04T14:45:00.000000000",
          "2025-10-04T15:00:00.000000000",
          "2025-10-04T15:15:00.000000000",
          "2025-10-04T15:30:00.000000000",
          "2025-10-04T15:45:00.000000000",
          "2025-10-04T16:00:00.000000000",
          "2025-10-04T16:15:00.000000000",
          "2025-10-04T16:30:00.000000000",
          "2025-10-04T16:45:00.000000000",
          "2025-10-04T17:00:00.000000000",
          "2025-10-04T17:15:00.000000000",
          "2025-10-04T17:30:00.000000000",
          "2025-10-04T17:45:00.000000000",
          "2025-10-04T18:00:00.000000000",
          "2025-10-04T18:15:00.000000000",
          "2025-10-04T18:30:00.000000000",
          "2025-10-04T18:45:00.000000000",
          "2025-10-04T19:00:00.000000000",
          "2025-10-04T19:15:00.000000000",
          "2025-10-04T19:30:00.000000000",
          "2025-10-04T19:45:00.000000000",
          "2025-10-04T20:00:00.000000000",
          "2025-10-04T20:15:00.000000000",
          "2025-10-04T20:30:00.000000000",
          "2025-10-04T20:45:00.000000000",
          "2025-10-04T21:00:00.000000000",
          "2025-10-04T21:15:00.000000000",
          "2025-10-04T21:30:00.000000000",
          "2025-10-04T21:45:00.000000000",
          "2025-10-04T22:00:00.000000000",
          "2025-10-04T22:15:00.000000000",
          "2025-10-04T22:30:00.000000000",
          "2025-10-04T22:45:00.000000000",
          "2025-10-04T23:00:00.000000000",
          "2025-10-04T23:15:00.000000000",
          "2025-10-04T23:30:00.000000000",
          "2025-10-04T23:45:00.000000000",
          "2025-10-05T00:00:00.000000000",
          "2025-10-05T00:15:00.000000000",
          "2025-10-05T00:30:00.000000000",
          "2025-10-05T00:45:00.000000000",
          "2025-10-05T01:00:00.000000000",
          "2025-10-05T01:15:00.000000000",
          "2025-10-05T01:30:00.000000000",
          "2025-10-05T01:45:00.000000000",
          "2025-10-05T02:00:00.000000000",
          "2025-10-05T02:15:00.000000000"
         ],
         "xaxis": "x2",
         "y": {
          "bdata": "5AV+PyNHfT8Iw30/9Al+P6IRfj/Fl30/xZd9PyNHfT/fEn4/eep9P0+7fT8jR30/uOJ9P+1cfT9hWH0/Uc19PyNHfT8DyH0/jzl9PyNHfT8jR30/Ho99P8WXfT+Yyn0/ohF+PwjDfT8jR30/3xJ+PxQOfT956n0/nsp9PwUofT8l2n0/xZd9P8WXfT/wr3w/LN19PyNHfT/tXH0/4nZ9PyNHfT+4IH4/CMN9PyzdfT+7RH0/A8h9P4hbfT/kBX4/NtF9P7pLfT+Yyn0/4nZ9P6knfT/wr3w/FA59P4XwfD+pJ30/NAd9P57KfT/86Xw/hfB8P8EAfT8kB30/Zph8P7alfD8q5nw/JAd9P7alfD+H93w/JrR8P4f3fD8UDn0/2dN9P60Zfj8s3X0/T7t9Px6PfT/wr3w/Ho99PwPIfT/y1H0/9Al+P7ggfj+iEX4/iuZ9P8WXfT/fEn4/4sZ9PzHGfT8xxn0/OtV9PzrVfT9TyX0/3xJ+P60Zfj+6S30/eep9PyNHfT/fEn4/ukt9PyzdfT+tGX4/9Al+P/QJfj/fEn4/CMN9P+LGfT+POX0/Uc19P8WXfT+IW30/9Al+P4rmfT8jR30/xZd9PyzdfT/0CX4/NtF9PyNHfT/Fl30/McZ9PzrVfT/fEn4/4sZ9P5jKfT8jR30/uOJ9P3nqfT/F+n0/u0R9P98Sfj8xxn0/OtV9P7pLfT861X0/OtV9PzrVfT/F+n0/nsp9P60Zfj9RzX0/ohF+P98Sfj861X0/4sZ9P7tEfT8UDn0/I0d9P4rmfT9RzX0/ohF+P+QFfj/fEn4/xZd9P8WXfT/Z030/xZd9P3nqfT+eyn0/rRl+P60Zfj956n0/3xJ+PzHGfT+6S30/OtV9P6IRfj9TyX0/I0d9P05HfT+K5n0/7Vx9PzHGfT861X0/4nZ9P+1cfT/ixn0/3xJ+P7pLfT+py30/5AV+PzrVfT8PzH0/OtV9PzrVfT/fEn4/OtV9PzrVfT/kBX4/ohF+PzrVfT8PzH0/OtV9PyNHfT/7FH4/3xJ+P+LGfT/ixn0/OtV9PxQOfT8=",
          "dtype": "f4"
         },
         "yaxis": "y2"
        }
       ],
       "layout": {
        "annotations": [
         {
          "font": {
           "size": 16
          },
          "showarrow": false,
          "text": "BTCUSDT - Trained Model Predictions (Unseen Data)",
          "x": 0.5,
          "xanchor": "center",
          "xref": "paper",
          "y": 1,
          "yanchor": "bottom",
          "yref": "paper"
         },
         {
          "font": {
           "size": 16
          },
          "showarrow": false,
          "text": "Confidence Score",
          "x": 0.5,
          "xanchor": "center",
          "xref": "paper",
          "y": 0.27,
          "yanchor": "bottom",
          "yref": "paper"
         }
        ],
        "height": 700,
        "showlegend": true,
        "template": {
         "data": {
          "bar": [
           {
            "error_x": {
             "color": "#f2f5fa"
            },
            "error_y": {
             "color": "#f2f5fa"
            },
            "marker": {
             "line": {
              "color": "rgb(17,17,17)",
              "width": 0.5
             },
             "pattern": {
              "fillmode": "overlay",
              "size": 10,
              "solidity": 0.2
             }
            },
            "type": "bar"
           }
          ],
          "barpolar": [
           {
            "marker": {
             "line": {
              "color": "rgb(17,17,17)",
              "width": 0.5
             },
             "pattern": {
              "fillmode": "overlay",
              "size": 10,
              "solidity": 0.2
             }
            },
            "type": "barpolar"
           }
          ],
          "carpet": [
           {
            "aaxis": {
             "endlinecolor": "#A2B1C6",
             "gridcolor": "#506784",
             "linecolor": "#506784",
             "minorgridcolor": "#506784",
             "startlinecolor": "#A2B1C6"
            },
            "baxis": {
             "endlinecolor": "#A2B1C6",
             "gridcolor": "#506784",
             "linecolor": "#506784",
             "minorgridcolor": "#506784",
             "startlinecolor": "#A2B1C6"
            },
            "type": "carpet"
           }
          ],
          "choropleth": [
           {
            "colorbar": {
             "outlinewidth": 0,
             "ticks": ""
            },
            "type": "choropleth"
           }
          ],
          "contour": [
           {
            "colorbar": {
             "outlinewidth": 0,
             "ticks": ""
            },
            "colorscale": [
             [
              0,
              "#0d0887"
             ],
             [
              0.1111111111111111,
              "#46039f"
             ],
             [
              0.2222222222222222,
              "#7201a8"
             ],
             [
              0.3333333333333333,
              "#9c179e"
             ],
             [
              0.4444444444444444,
              "#bd3786"
             ],
             [
              0.5555555555555556,
              "#d8576b"
             ],
             [
              0.6666666666666666,
              "#ed7953"
             ],
             [
              0.7777777777777778,
              "#fb9f3a"
             ],
             [
              0.8888888888888888,
              "#fdca26"
             ],
             [
              1,
              "#f0f921"
             ]
            ],
            "type": "contour"
           }
          ],
          "contourcarpet": [
           {
            "colorbar": {
             "outlinewidth": 0,
             "ticks": ""
            },
            "type": "contourcarpet"
           }
          ],
          "heatmap": [
           {
            "colorbar": {
             "outlinewidth": 0,
             "ticks": ""
            },
            "colorscale": [
             [
              0,
              "#0d0887"
             ],
             [
              0.1111111111111111,
              "#46039f"
             ],
             [
              0.2222222222222222,
              "#7201a8"
             ],
             [
              0.3333333333333333,
              "#9c179e"
             ],
             [
              0.4444444444444444,
              "#bd3786"
             ],
             [
              0.5555555555555556,
              "#d8576b"
             ],
             [
              0.6666666666666666,
              "#ed7953"
             ],
             [
              0.7777777777777778,
              "#fb9f3a"
             ],
             [
              0.8888888888888888,
              "#fdca26"
             ],
             [
              1,
              "#f0f921"
             ]
            ],
            "type": "heatmap"
           }
          ],
          "histogram": [
           {
            "marker": {
             "pattern": {
              "fillmode": "overlay",
              "size": 10,
              "solidity": 0.2
             }
            },
            "type": "histogram"
           }
          ],
          "histogram2d": [
           {
            "colorbar": {
             "outlinewidth": 0,
             "ticks": ""
            },
            "colorscale": [
             [
              0,
              "#0d0887"
             ],
             [
              0.1111111111111111,
              "#46039f"
             ],
             [
              0.2222222222222222,
              "#7201a8"
             ],
             [
              0.3333333333333333,
              "#9c179e"
             ],
             [
              0.4444444444444444,
              "#bd3786"
             ],
             [
              0.5555555555555556,
              "#d8576b"
             ],
             [
              0.6666666666666666,
              "#ed7953"
             ],
             [
              0.7777777777777778,
              "#fb9f3a"
             ],
             [
              0.8888888888888888,
              "#fdca26"
             ],
             [
              1,
              "#f0f921"
             ]
            ],
            "type": "histogram2d"
           }
          ],
          "histogram2dcontour": [
           {
            "colorbar": {
             "outlinewidth": 0,
             "ticks": ""
            },
            "colorscale": [
             [
              0,
              "#0d0887"
             ],
             [
              0.1111111111111111,
              "#46039f"
             ],
             [
              0.2222222222222222,
              "#7201a8"
             ],
             [
              0.3333333333333333,
              "#9c179e"
             ],
             [
              0.4444444444444444,
              "#bd3786"
             ],
             [
              0.5555555555555556,
              "#d8576b"
             ],
             [
              0.6666666666666666,
              "#ed7953"
             ],
             [
              0.7777777777777778,
              "#fb9f3a"
             ],
             [
              0.8888888888888888,
              "#fdca26"
             ],
             [
              1,
              "#f0f921"
             ]
            ],
            "type": "histogram2dcontour"
           }
          ],
          "mesh3d": [
           {
            "colorbar": {
             "outlinewidth": 0,
             "ticks": ""
            },
            "type": "mesh3d"
           }
          ],
          "parcoords": [
           {
            "line": {
             "colorbar": {
              "outlinewidth": 0,
              "ticks": ""
             }
            },
            "type": "parcoords"
           }
          ],
          "pie": [
           {
            "automargin": true,
            "type": "pie"
           }
          ],
          "scatter": [
           {
            "marker": {
             "line": {
              "color": "#283442"
             }
            },
            "type": "scatter"
           }
          ],
          "scatter3d": [
           {
            "line": {
             "colorbar": {
              "outlinewidth": 0,
              "ticks": ""
             }
            },
            "marker": {
             "colorbar": {
              "outlinewidth": 0,
              "ticks": ""
             }
            },
            "type": "scatter3d"
           }
          ],
          "scattercarpet": [
           {
            "marker": {
             "colorbar": {
              "outlinewidth": 0,
              "ticks": ""
             }
            },
            "type": "scattercarpet"
           }
          ],
          "scattergeo": [
           {
            "marker": {
             "colorbar": {
              "outlinewidth": 0,
              "ticks": ""
             }
            },
            "type": "scattergeo"
           }
          ],
          "scattergl": [
           {
            "marker": {
             "line": {
              "color": "#283442"
             }
            },
            "type": "scattergl"
           }
          ],
          "scattermap": [
           {
            "marker": {
             "colorbar": {
              "outlinewidth": 0,
              "ticks": ""
             }
            },
            "type": "scattermap"
           }
          ],
          "scattermapbox": [
           {
            "marker": {
             "colorbar": {
              "outlinewidth": 0,
              "ticks": ""
             }
            },
            "type": "scattermapbox"
           }
          ],
          "scatterpolar": [
           {
            "marker": {
             "colorbar": {
              "outlinewidth": 0,
              "ticks": ""
             }
            },
            "type": "scatterpolar"
           }
          ],
          "scatterpolargl": [
           {
            "marker": {
             "colorbar": {
              "outlinewidth": 0,
              "ticks": ""
             }
            },
            "type": "scatterpolargl"
           }
          ],
          "scatterternary": [
           {
            "marker": {
             "colorbar": {
              "outlinewidth": 0,
              "ticks": ""
             }
            },
            "type": "scatterternary"
           }
          ],
          "surface": [
           {
            "colorbar": {
             "outlinewidth": 0,
             "ticks": ""
            },
            "colorscale": [
             [
              0,
              "#0d0887"
             ],
             [
              0.1111111111111111,
              "#46039f"
             ],
             [
              0.2222222222222222,
              "#7201a8"
             ],
             [
              0.3333333333333333,
              "#9c179e"
             ],
             [
              0.4444444444444444,
              "#bd3786"
             ],
             [
              0.5555555555555556,
              "#d8576b"
             ],
             [
              0.6666666666666666,
              "#ed7953"
             ],
             [
              0.7777777777777778,
              "#fb9f3a"
             ],
             [
              0.8888888888888888,
              "#fdca26"
             ],
             [
              1,
              "#f0f921"
             ]
            ],
            "type": "surface"
           }
          ],
          "table": [
           {
            "cells": {
             "fill": {
              "color": "#506784"
             },
             "line": {
              "color": "rgb(17,17,17)"
             }
            },
            "header": {
             "fill": {
              "color": "#2a3f5f"
             },
             "line": {
              "color": "rgb(17,17,17)"
             }
            },
            "type": "table"
           }
          ]
         },
         "layout": {
          "annotationdefaults": {
           "arrowcolor": "#f2f5fa",
           "arrowhead": 0,
           "arrowwidth": 1
          },
          "autotypenumbers": "strict",
          "coloraxis": {
           "colorbar": {
            "outlinewidth": 0,
            "ticks": ""
           }
          },
          "colorscale": {
           "diverging": [
            [
             0,
             "#8e0152"
            ],
            [
             0.1,
             "#c51b7d"
            ],
            [
             0.2,
             "#de77ae"
            ],
            [
             0.3,
             "#f1b6da"
            ],
            [
             0.4,
             "#fde0ef"
            ],
            [
             0.5,
             "#f7f7f7"
            ],
            [
             0.6,
             "#e6f5d0"
            ],
            [
             0.7,
             "#b8e186"
            ],
            [
             0.8,
             "#7fbc41"
            ],
            [
             0.9,
             "#4d9221"
            ],
            [
             1,
             "#276419"
            ]
           ],
           "sequential": [
            [
             0,
             "#0d0887"
            ],
            [
             0.1111111111111111,
             "#46039f"
            ],
            [
             0.2222222222222222,
             "#7201a8"
            ],
            [
             0.3333333333333333,
             "#9c179e"
            ],
            [
             0.4444444444444444,
             "#bd3786"
            ],
            [
             0.5555555555555556,
             "#d8576b"
            ],
            [
             0.6666666666666666,
             "#ed7953"
            ],
            [
             0.7777777777777778,
             "#fb9f3a"
            ],
            [
             0.8888888888888888,
             "#fdca26"
            ],
            [
             1,
             "#f0f921"
            ]
           ],
           "sequentialminus": [
            [
             0,
             "#0d0887"
            ],
            [
             0.1111111111111111,
             "#46039f"
            ],
            [
             0.2222222222222222,
             "#7201a8"
            ],
            [
             0.3333333333333333,
             "#9c179e"
            ],
            [
             0.4444444444444444,
             "#bd3786"
            ],
            [
             0.5555555555555556,
             "#d8576b"
            ],
            [
             0.6666666666666666,
             "#ed7953"
            ],
            [
             0.7777777777777778,
             "#fb9f3a"
            ],
            [
             0.8888888888888888,
             "#fdca26"
            ],
            [
             1,
             "#f0f921"
            ]
           ]
          },
          "colorway": [
           "#636efa",
           "#EF553B",
           "#00cc96",
           "#ab63fa",
           "#FFA15A",
           "#19d3f3",
           "#FF6692",
           "#B6E880",
           "#FF97FF",
           "#FECB52"
          ],
          "font": {
           "color": "#f2f5fa"
          },
          "geo": {
           "bgcolor": "rgb(17,17,17)",
           "lakecolor": "rgb(17,17,17)",
           "landcolor": "rgb(17,17,17)",
           "showlakes": true,
           "showland": true,
           "subunitcolor": "#506784"
          },
          "hoverlabel": {
           "align": "left"
          },
          "hovermode": "closest",
          "mapbox": {
           "style": "dark"
          },
          "paper_bgcolor": "rgb(17,17,17)",
          "plot_bgcolor": "rgb(17,17,17)",
          "polar": {
           "angularaxis": {
            "gridcolor": "#506784",
            "linecolor": "#506784",
            "ticks": ""
           },
           "bgcolor": "rgb(17,17,17)",
           "radialaxis": {
            "gridcolor": "#506784",
            "linecolor": "#506784",
            "ticks": ""
           }
          },
          "scene": {
           "xaxis": {
            "backgroundcolor": "rgb(17,17,17)",
            "gridcolor": "#506784",
            "gridwidth": 2,
            "linecolor": "#506784",
            "showbackground": true,
            "ticks": "",
            "zerolinecolor": "#C8D4E3"
           },
           "yaxis": {
            "backgroundcolor": "rgb(17,17,17)",
            "gridcolor": "#506784",
            "gridwidth": 2,
            "linecolor": "#506784",
            "showbackground": true,
            "ticks": "",
            "zerolinecolor": "#C8D4E3"
           },
           "zaxis": {
            "backgroundcolor": "rgb(17,17,17)",
            "gridcolor": "#506784",
            "gridwidth": 2,
            "linecolor": "#506784",
            "showbackground": true,
            "ticks": "",
            "zerolinecolor": "#C8D4E3"
           }
          },
          "shapedefaults": {
           "line": {
            "color": "#f2f5fa"
           }
          },
          "sliderdefaults": {
           "bgcolor": "#C8D4E3",
           "bordercolor": "rgb(17,17,17)",
           "borderwidth": 1,
           "tickwidth": 0
          },
          "ternary": {
           "aaxis": {
            "gridcolor": "#506784",
            "linecolor": "#506784",
            "ticks": ""
           },
           "baxis": {
            "gridcolor": "#506784",
            "linecolor": "#506784",
            "ticks": ""
           },
           "bgcolor": "rgb(17,17,17)",
           "caxis": {
            "gridcolor": "#506784",
            "linecolor": "#506784",
            "ticks": ""
           }
          },
          "title": {
           "x": 0.05
          },
          "updatemenudefaults": {
           "bgcolor": "#506784",
           "borderwidth": 0
          },
          "xaxis": {
           "automargin": true,
           "gridcolor": "#283442",
           "linecolor": "#506784",
           "ticks": "",
           "title": {
            "standoff": 15
           },
           "zerolinecolor": "#283442",
           "zerolinewidth": 2
          },
          "yaxis": {
           "automargin": true,
           "gridcolor": "#283442",
           "linecolor": "#506784",
           "ticks": "",
           "title": {
            "standoff": 15
           },
           "zerolinecolor": "#283442",
           "zerolinewidth": 2
          }
         }
        },
        "title": {
         "text": "🤖 XGBoost-GPU Predictions on BTCUSDT (Trained on BTCUSDT-15m)"
        },
        "xaxis": {
         "anchor": "y",
         "domain": [
          0,
          1
         ]
        },
        "xaxis2": {
         "anchor": "y2",
         "domain": [
          0,
          1
         ],
         "title": {
          "text": "Time"
         }
        },
        "yaxis": {
         "anchor": "x",
         "domain": [
          0.37,
          1
         ],
         "title": {
          "text": "Price ($)"
         }
        },
        "yaxis2": {
         "anchor": "x2",
         "domain": [
          0,
          0.27
         ],
         "tickformat": ".0%",
         "title": {
          "text": "Confidence"
         }
        }
       }
      }
     },
     "metadata": {},
     "output_type": "display_data"
    },
    {
     "name": "stdout",
     "output_type": "stream",
     "text": [
      "\n",
      "✅ TESTING COMPLETE!\n",
      "🎯 XGBoost-GPU trained on BTCUSDT-15m → Predictions on BTCUSDT-15m\n",
      "📊 Generated 200 predictions\n",
      "🎲 Model accuracy: 95.3%\n",
      "🔥 Average confidence: 99.1%\n",
      "\n",
      "🚀 High Confidence Predictions (>80%):\n",
      "   2025-10-03 00:30: HOLD @ $120139.0000 (99.2%)\n",
      "   2025-10-03 00:45: HOLD @ $120090.1000 (98.9%)\n",
      "   2025-10-03 01:00: HOLD @ $120172.1000 (99.1%)\n",
      "   2025-10-03 01:15: HOLD @ $120050.7000 (99.2%)\n",
      "   2025-10-03 01:30: HOLD @ $120027.5000 (99.2%)\n"
     ]
    }
   ],
   "source": [
    "# ================================================\n",
    "# 🧪 TEST MODEL (using /data_test/)\n",
    "# ================================================\n",
    "\n",
    "from src.simple_model_trainer import SimpleModelPredictor\n",
    "\n",
    "print(\"🧪 TESTING MODEL ON UNSEEN DATA\")\n",
    "print(\"=\" * 50)\n",
    "\n",
    "# Load trained model if not already loaded\n",
    "if 'trainer' not in locals() or trainer is None:\n",
    "    trainer = SimpleModelTrainer()\n",
    "    if not trainer.load_model():\n",
    "        print(\"❌ No trained model found! Please run the training cell first.\")\n",
    "        exit()\n",
    "\n",
    "# Initialize predictor\n",
    "predictor = SimpleModelPredictor(trainer)\n",
    "\n",
    "# Test configuration\n",
    "TEST_SYMBOL = 'BTCUSDT'  # Change this to test different symbols\n",
    "NUM_CANDLES = 200        # Number of recent candles to analyze\n",
    "\n",
    "print(f\"🎯 Testing on {TEST_SYMBOL} (last {NUM_CANDLES} candles)\")\n",
    "\n",
    "# Generate predictions\n",
    "signals_df = predictor.generate_predictions(\n",
    "    symbol=TEST_SYMBOL,\n",
    "    num_candles=NUM_CANDLES,\n",
    "    data_folder='data_test'\n",
    ")\n",
    "\n",
    "if signals_df is not None:\n",
    "    # CREATE PLOTLY CHART\n",
    "    print(f\"\\n📈 Creating interactive chart...\")\n",
    "    \n",
    "    model_info = trainer.get_model_info()\n",
    "    \n",
    "    fig = make_subplots(\n",
    "        rows=2, cols=1,\n",
    "        subplot_titles=(f'{TEST_SYMBOL} - {model_info[\"model_type\"]} Predictions', 'Confidence Score'),\n",
    "        vertical_spacing=0.1,\n",
    "        row_heights=[0.7, 0.3]\n",
    "    )\n",
    "    \n",
    "    # Candlestick chart\n",
    "    fig.add_trace(\n",
    "        go.Candlestick(\n",
    "            x=signals_df['datetime'],\n",
    "            open=signals_df['open'],\n",
    "            high=signals_df['high'],\n",
    "            low=signals_df['low'],\n",
    "            close=signals_df['close'],\n",
    "            name='Price',\n",
    "            showlegend=True\n",
    "        ),\n",
    "        row=1, col=1\n",
    "    )\n",
    "    \n",
    "    # BUY signals\n",
    "    buy_signals = signals_df[signals_df['action'] == 'buy']\n",
    "    if not buy_signals.empty:\n",
    "        fig.add_trace(\n",
    "            go.Scatter(\n",
    "                x=buy_signals['datetime'],\n",
    "                y=buy_signals['close'],\n",
    "                mode='markers',\n",
    "                marker=dict(symbol='triangle-up', size=15, color='lime'),\n",
    "                name='BUY Prediction',\n",
    "                text=buy_signals['reasoning'],\n",
    "                hovertemplate='<b>BUY</b><br>Price: $%{y:.4f}<br>Confidence: %{customdata:.1%}<br>%{text}<extra></extra>',\n",
    "                customdata=buy_signals['confidence']\n",
    "            ),\n",
    "            row=1, col=1\n",
    "        )\n",
    "    \n",
    "    # SELL signals\n",
    "    sell_signals = signals_df[signals_df['action'] == 'sell']\n",
    "    if not sell_signals.empty:\n",
    "        fig.add_trace(\n",
    "            go.Scatter(\n",
    "                x=sell_signals['datetime'],\n",
    "                y=sell_signals['close'],\n",
    "                mode='markers',\n",
    "                marker=dict(symbol='triangle-down', size=15, color='red'),\n",
    "                name='SELL Prediction',\n",
    "                text=sell_signals['reasoning'],\n",
    "                hovertemplate='<b>SELL</b><br>Price: $%{y:.4f}<br>Confidence: %{customdata:.1%}<br>%{text}<extra></extra>',\n",
    "                customdata=sell_signals['confidence']\n",
    "            ),\n",
    "            row=1, col=1\n",
    "        )\n",
    "    \n",
    "    # HOLD signals\n",
    "    hold_signals = signals_df[signals_df['action'] == 'hold']\n",
    "    if not hold_signals.empty:\n",
    "        fig.add_trace(\n",
    "            go.Scatter(\n",
    "                x=hold_signals['datetime'],\n",
    "                y=hold_signals['close'],\n",
    "                mode='markers',\n",
    "                marker=dict(symbol='circle', size=8, color='gray'),\n",
    "                name='HOLD Prediction',\n",
    "                text=hold_signals['reasoning'],\n",
    "                hovertemplate='<b>HOLD</b><br>Price: $%{y:.4f}<br>Confidence: %{customdata:.1%}<br>%{text}<extra></extra>',\n",
    "                customdata=hold_signals['confidence']\n",
    "            ),\n",
    "            row=1, col=1\n",
    "        )\n",
    "    \n",
    "    # Confidence line\n",
    "    confidence_colors = ['lime' if action == 'buy' else 'red' if action == 'sell' else 'gray' \n",
    "                       for action in signals_df['action']]\n",
    "    \n",
    "    fig.add_trace(\n",
    "        go.Scatter(\n",
    "            x=signals_df['datetime'],\n",
    "            y=signals_df['confidence'],\n",
    "            mode='markers+lines',\n",
    "            name='Model Confidence',\n",
    "            line=dict(color='white', width=1),\n",
    "            marker=dict(color=confidence_colors, size=8),\n",
    "            hovertemplate='Confidence: %{y:.1%}<br>Prediction: %{customdata}<extra></extra>',\n",
    "            customdata=signals_df['action']\n",
    "        ),\n",
    "        row=2, col=1\n",
    "    )\n",
    "    \n",
    "    # Update layout\n",
    "    fig.update_layout(\n",
    "        title=f'🤖 {model_info[\"model_type\"]} Predictions on {TEST_SYMBOL}',\n",
    "        height=700,\n",
    "        template='plotly_dark',\n",
    "        showlegend=True\n",
    "    )\n",
    "    \n",
    "    fig.update_yaxes(title_text=\"Price ($)\", row=1, col=1)\n",
    "    fig.update_yaxes(title_text=\"Confidence\", row=2, col=1, tickformat='.0%')\n",
    "    fig.update_xaxes(title_text=\"Time\", row=2, col=1)\n",
    "    \n",
    "    fig.show()\n",
    "    \n",
    "    # Show high-confidence predictions\n",
    "    high_conf = signals_df[signals_df['confidence'] > 0.8]\n",
    "    if not high_conf.empty:\n",
    "        print(f\"\\n🚀 High Confidence Predictions (>80%):\")\n",
    "        for _, pred in high_conf.head(5).iterrows():\n",
    "            print(f\"   {pred['datetime'].strftime('%Y-%m-%d %H:%M')}: {pred['action'].upper()} @ ${pred['close']:.4f} ({pred['confidence']:.1%})\")\n",
    "    \n",
    "    print(f\"\\n✅ TESTING COMPLETE!\")\n",
    "    print(f\"🎯 Model: {model_info['model_type']} (Accuracy: {model_info['accuracy']:.1%})\")\n",
    "    print(f\"📊 Generated {len(signals_df)} predictions on {TEST_SYMBOL}\")\n",
    "else:\n",
    "    print(\"❌ Failed to generate predictions\")"
   ]
  },
  {
   "cell_type": "markdown",
   "id": "21fd8c23",
   "metadata": {},
   "source": [
    "## 🎉 Simple Model Debug - Results Summary\n",
    "\n",
    "**What we just did:**\n",
    "1. **Trained** XGBoost model with GPU/CPU comparison on BTCUSDT data\n",
    "2. **Tested** the model on unseen data with interactive visualization\n",
    "3. **Used clean, reusable classes** for all the heavy lifting\n",
    "\n",
    "**Key improvements:**\n",
    "- ✅ **Clean notebook**: Complex logic moved to `SimpleModelTrainer` class\n",
    "- ✅ **Reusable code**: Training and prediction logic can be used anywhere\n",
    "- ✅ **GPU acceleration**: Automatic GPU/CPU comparison and selection\n",
    "- ✅ **Simple configuration**: Easy to change parameters and test symbols\n",
    "\n",
    "**Architecture:**\n",
    "- `SimpleModelTrainer`: Handles data prep, training, GPU/CPU comparison, model saving\n",
    "- `SimpleModelPredictor`: Handles predictions, feature engineering, visualization data\n",
    "\n",
    "**To test other symbols:**\n",
    "Change `TEST_SYMBOL = 'BTCUSDT'` to `'ADAUSDT'`, `'DOGEUSDT'`, etc.\n",
    "\n",
    "**To adjust training:**\n",
    "Modify the `configure_training()` parameters in the training cell."
   ]
  }
 ],
 "metadata": {
  "kernelspec": {
   "display_name": "venv",
   "language": "python",
   "name": "python3"
  },
  "language_info": {
   "codemirror_mode": {
    "name": "ipython",
    "version": 3
   },
   "file_extension": ".py",
   "mimetype": "text/x-python",
   "name": "python",
   "nbconvert_exporter": "python",
   "pygments_lexer": "ipython3",
   "version": "3.10.11"
  }
 },
 "nbformat": 4,
 "nbformat_minor": 5
}
