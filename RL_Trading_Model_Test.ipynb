{
 "cells": [
  {
   "cell_type": "markdown",
   "id": "18720820",
   "metadata": {},
   "source": [
    "# RL Trading Model Training & Evaluation\n",
    "\n",
    "This notebook demonstrates how to train a reinforcement learning (RL) trading model using your full feature pipeline and visualize the results. It loads historical price data, extracts features, trains a PPO agent, and evaluates performance."
   ]
  },
  {
   "cell_type": "code",
   "execution_count": 1,
   "id": "798ff339",
   "metadata": {},
   "outputs": [
    {
     "name": "stdout",
     "output_type": "stream",
     "text": [
      "✅ Added to Python path: d:\\Dev\\trading-bot\\src\n",
      "📂 Working directory: d:\\Dev\\trading-bot\n",
      "🔍 Python will search for modules in: d:\\Dev\\trading-bot\\src\n",
      "==================================================\n"
     ]
    }
   ],
   "source": [
    "# ================================================\n",
    "# 🔧 SETUP - Add src to Python Path\n",
    "# ================================================\n",
    "\n",
    "import sys\n",
    "import os\n",
    "\n",
    "# Add src directory to Python path so 'core' module can be found\n",
    "project_root = os.getcwd()\n",
    "src_path = os.path.join(project_root, 'src')\n",
    "\n",
    "if src_path not in sys.path:\n",
    "    sys.path.insert(0, src_path)\n",
    "    print(f\"✅ Added to Python path: {src_path}\")\n",
    "else:\n",
    "    print(f\"✅ Already in path: {src_path}\")\n",
    "\n",
    "# Verify\n",
    "print(f\"📂 Working directory: {project_root}\")\n",
    "print(f\"🔍 Python will search for modules in: {src_path}\")\n",
    "print(\"=\" * 50)"
   ]
  },
  {
   "cell_type": "code",
   "execution_count": 2,
   "id": "62612fee",
   "metadata": {},
   "outputs": [],
   "source": [
    "# Section 1: Import Required Libraries\n",
    "\n",
    "import pandas as pd\n",
    "import numpy as np\n",
    "import matplotlib.pyplot as plt\n",
    "from stable_baselines3 import PPO\n",
    "import gymnasium as gym\n",
    "\n",
    "# Project modules\n",
    "from src.prediction.rl_predictor import RLPredictor\n",
    "\n",
    "\n",
    "# Section 2: Load and Prepare Data\n",
    "from src.core.trading_types import ChartInterval\n",
    "from src.training.data_loader import DataLoader\n",
    "from pathlib import Path\n",
    "\n",
    "# Data Loader\n",
    "loader = DataLoader()\n",
    "\n"
   ]
  },
  {
   "cell_type": "code",
   "execution_count": 3,
   "id": "89b71596",
   "metadata": {},
   "outputs": [
    {
     "name": "stdout",
     "output_type": "stream",
     "text": [
      "🎯 Generating RL Trading Signals...\n",
      "==================================================\n",
      "✅ GPU Available: NVIDIA GeForce RTX 3080 (10.0GB)\n",
      "🖥️ RL Training Device: cuda\n",
      "📥 Loading data for BTCUSDT...\n",
      "🔧 Adding timeframe-specific technical indicators...\n",
      "🔧 Adding timeframe-specific technical indicators...\n",
      "🔧 Converting levels cache index to DatetimeIndex...\n",
      "✅ Loaded levels cache: data\\levels_cache\\BTCUSDT-15m-levels.parquet\n",
      "📊 Shape: 101,000 rows × 9 columns\n",
      "🔄 Recalculating higher timeframe indicators for 15m...\n",
      "🔧 Converting levels cache index to DatetimeIndex...\n",
      "✅ Loaded levels cache: data\\levels_cache\\BTCUSDT-15m-levels.parquet\n",
      "📊 Shape: 101,000 rows × 9 columns\n",
      "🔄 Recalculating higher timeframe indicators for 15m...\n",
      "📊 Data Configuration:\n",
      "   • Window size: 672\n",
      "   • Input candles: 2,672\n",
      "   • Expected predictions: ~2,001\n",
      "📊 Data Configuration:\n",
      "   • Window size: 672\n",
      "   • Input candles: 2,672\n",
      "   • Expected predictions: ~2,001\n",
      "✅ Model loaded on cuda\n",
      "📥 Loaded normalizer from models/rl_demo\\normalizer.pkl\n",
      "📥 Loaded normalizer from: models/rl_demo\\normalizer.pkl\n",
      "🎯 Generating predictions on cuda...\n",
      "📊 Data shape: 2,672 rows\n",
      "📥 Using provided pre-fitted normalizer\n",
      "⚡ Pre-normalizing feature data...\n",
      "✅ Pre-normalized 38 features\n",
      "🔮 Generating 2,000 predictions...\n",
      "💰 Initial Portfolio: $1,000,000.00\n",
      "✅ Model loaded on cuda\n",
      "📥 Loaded normalizer from models/rl_demo\\normalizer.pkl\n",
      "📥 Loaded normalizer from: models/rl_demo\\normalizer.pkl\n",
      "🎯 Generating predictions on cuda...\n",
      "📊 Data shape: 2,672 rows\n",
      "📥 Using provided pre-fitted normalizer\n",
      "⚡ Pre-normalizing feature data...\n",
      "✅ Pre-normalized 38 features\n",
      "🔮 Generating 2,000 predictions...\n",
      "💰 Initial Portfolio: $1,000,000.00\n",
      "   📈 Progress: 50.0% (1,000/2,000) | PnL: $+386.96\n",
      "   📈 Progress: 50.0% (1,000/2,000) | PnL: $+386.96\n"
     ]
    },
    {
     "name": "stderr",
     "output_type": "stream",
     "text": [
      "d:\\Dev\\trading-bot\\src\\prediction\\rl_predictor.py:395: UserWarning: Pandas doesn't allow columns to be created via a new attribute name - see https://pandas.pydata.org/pandas-docs/stable/indexing.html#attribute-access\n",
      "  result.trades_df = pd.DataFrame(trades_log)\n"
     ]
    },
    {
     "name": "stdout",
     "output_type": "stream",
     "text": [
      "✅ Generated 2,000 predictions using environment trading logic\n",
      "💰 Final Portfolio: $1,006,940.04\n",
      "📈 Total PnL: $+6,940.04 (+0.69%)\n",
      "🔄 Trading Signals: 993 BUY | 989 SELL | 18 HOLD\n",
      "📊 Individual Trades: 874\n",
      "💹 Avg Step PnL: $+5.17 | Max Exposure: $126,011.18\n",
      "🎯 Win Rate: 50.2% (439/874 trades)\n",
      "\n",
      "🔍 Result DataFrame shape: (2000, 63)\n",
      "📊 Available columns: ['time', 'open', 'high', 'low', 'close', 'volume', 'rsi', 'macd', 'macd_signal', 'macd_hist', 'bb_upper', 'bb_lower', 'bb_position', 'volume_ma20', 'volume_ratio', 'obv', 'volatility', 'atr', 'adx', 'ema5', 'ema9', 'ema13', 'ema20', 'ema21', 'ema50', 'ema200', 'ema9_ema21_cross', 'ema20_ema50_cross', 'stochastic_k', 'stochastic_d', 'vwap', 'levels_json', 'ema20_1h', 'ema50_1h', 'ema200_1h', 'rsi_1h', 'macd_1h', 'macd_hist_1h', 'ema20_D', 'ema50_D', 'macd_hist_D', 'rsi_D', 'ema20_W', 'ema50_W', 'macd_hist_W', 'rsi_W', 'ema20_M', 'ema50_M', 'macd_hist_M', 'rsi_M', 'rl_action', 'portfolio_value', 'position', 'reward', 'step_pnl', 'unrealized_pnl', 'position_exposure', 'balance_change', 'pnl', 'pnl_pct', 'cumulative_return', 'signal', 'action']\n",
      "\n",
      "💰 Environment Trading Results:\n",
      "   • RL Actions range: [-1.000, 1.000]\n",
      "   • Portfolio range: [$998,227.67, $1,011,536.97]\n",
      "   • PnL range: [$-1,772.33, $+11,536.97]\n",
      "\n",
      "📈 Creating visualization using ENVIRONMENT's actual data...\n",
      "🧪 TESTING with extreme thresholds (should get ALL HOLD signals):\n",
      "   • BUY threshold: 1.0 (extreme - should get 0 BUY)\n",
      "   • SELL threshold: -1.0 (extreme - should get 0 SELL)\n",
      "   • Expected: ALL HOLD signals in visualization\n",
      "   • Purpose: Verify environment's portfolio values are used correctly\n",
      "🔧 Visualization Signal Mapping:\n",
      "   • Predictions range: [-1.000, 1.000]\n",
      "   • BUY signals (>1.0): 0\n",
      "   • SELL signals (<-1.0): 0\n",
      "   • HOLD signals: 2,000\n",
      "✅ Using environment's ACTUAL portfolio values (not recalculating)\n"
     ]
    },
    {
     "data": {
      "application/vnd.plotly.v1+json": {
       "config": {
        "plotlyServerURL": "https://plot.ly"
       },
       "data": [
        {
         "line": {
          "color": "black"
         },
         "mode": "lines",
         "name": "Price",
         "type": "scatter",
         "x": {
          "bdata": "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",
          "dtype": "i4"
         },
         "xaxis": "x",
         "y": {
          "bdata": "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",
          "dtype": "f8"
         },
         "yaxis": "y"
        },
        {
         "line": {
          "color": "blue"
         },
         "mode": "lines",
         "name": "Strategy",
         "type": "scatter",
         "x": {
          "bdata": "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",
          "dtype": "i4"
         },
         "xaxis": "x2",
         "y": {
          "bdata": "AAAAAAAAAAAAAAAAAAAAAAAAAAAAAAAAAAAAAAAAAAAAAAAAAAAAAAAAAAAAAAAAAAAAAAAAAAAAAAAAAAAAAAAAAAAAAAAAAAAAAAAAAAAAAAAAAAAAAAAAAAAAAAAAAAAAAAAAAAAAAAAAAAAAAAAAAAAAAAAAAAAAAAAAAAAAAAAAAAAAAAAAAAAAAAAAAAAAAAAAAAAAAAAAAAAAAAAAAAAAAAAAAAAAAAAAAAAAAAAAAAAAAAAAAAAAAAAAAAAAAAAAAAAAAAAAAAAAAAAAAAAAAAAAAAAAAAAAAAAAAAAAAAAAAAAAAAAAAAAAAAAAAAAAAAAAAAAAAAAAAAAAAAAAAAAAAAAAAAAAAAAAAAAAAAAAAAAAAAAAAAAAAAAAAAAAAAAAAAAAAAAAAAAAAAAAAAAAAAAAAAAAAAAAAAAAAAAAAAAAAAAAAAAAAAAAAAAAAAAAAAAAAAAAAAAAAAAAAAAAAAAAAAAAAAAAAAAAAAAAAAAAAAAAAAAAAAAAAAAAAAAAAAAAAAAAAAAAAAAAAAAAAAAAAAAAAAAAAAAAAAAAAAAAAAAAAAAAAAAAAAAAAAAAAAAAAAAAAAAAAAAAAAAAAAAAAAAAAAAAAAAAAAAAAAAAAAAAAAAAAAAAAAAAAAAAAAAAAAAAAAAAAAAAAAAAAAAAAAAAAAAAAAAAAAAAAAAAAAAAAAAAAAAAAAAAAAAAAAAAAAAAAAAAAAAAAAAAAAAAAAAAAAAAAAAAAAAAAAAAAAAAAAAAAAAAAAAAAAAAAAAAAAAAAAAAAAAAAAAAAAAAAAAAAAAAAAAAAAAAAAAAAAAAAAAAAAAAAAAAAAAAAAAAAAAAAAAAAAAAAAAAAAAAAAAAAAAAAAAAAAAAAAAAAAAAAAAAAAAAAAAAAAAAAAAAAAAAAAAAAAAAAAAAAAAAAAAAAAAAAAAAAAAAAAAAAAAAAAAAAAAAAAAAAAAAAAAAAAAAAAAAAAAAAAAAAAAAAAAAAAAAAAAAAAAAAAAAAAAAAAAAAAAAAAAAAAAAAAAAAAAAAAAAAAAAAAAAAAAAAAAAAAAAAAAAAAAAAAAAAAAAAAAAAAAAAAAAAAAAAAAAAAAAAAAAAAAAAAAAAAAAAAAAAAAAAAAAAAAAAAAAAAAAAAAAAAAAAAAAAAAAAAAAAAAAAAAAAAAAAAAAAAAAAAAAAAAAAAAAAAAAAAAAAAAAAAAAAAAAAAAAAAAAAAAAAAAAAAAAAAAAAAAAAAAAAAAAAAAAAAAAAAAAAAAAAAAAAAAAAAAAAAAAAAAAAAAAAAAAAAAAAAAAAAAAAAAAAAAAAAAAAAAAAAAAAAAAAAAAAAAAAAAAAAAAAAAAAAAAAAAAAAAAAAAAAAAAAAAAAAAAAAAAAAAAAAAAAAAAAAAAAAAAAAAAAAAAAAAAAAAAAAAAAAAAAAAAAAAAAAAAAAAAAAAAAAAAAAAAAAAAAAAAAAAAAAAAAAAAAAAAAAAAAAAAAAAAAAAAAAAAAAAAAAAAAAAAAAAAAAAAAAAAAAAAAAAAAAAAAAAAAAAAAAAAAAAAAAAAAAAAAAAAAAAAAAAAAAAAAAAAAAAAAAAAAAAAAAAAAAAAAAAAAAAAAAAAAAAAAAAAAAAAAAAAAAAAAAAAAAAAAAAAAAAAAAAAAAAAAAAAAAAAAAAAAAAAAAAAAAAAAAAAAAAAAAAAAAAAAAAAAAAAAAAAAAAAAAAAAAAAAAAAAAAAAAAAAAAAAAAAAAAAAAAAAAAAAAAAAAAAAAAAAAAAAAAAAAAAAAAAAAAAAAAAAAAAAAAAAAAAAAAAAAAAAAAAAAAAAAAAAAAAAAAAAAAAAAAAAAAAAAAAAAAAAAAAAAAAAAAAAAAAAAAAAAAAAAAAAAAAAAAAAAAAAAAAAAAAAAAAAAAAAAAAAAAAAAAAAAAAAAAAAAAAAAAAAAAAAAAAAAAAAAAAAAAAAAAAAAAAAAAAAAAAAAAAAAAAAAAAAAAAAAAAAAAAAAAAAAAAAAAAAAAAAAAAAAAAAAAAAAAAAAAAAAAAAAAAAAAAAAAAAAAAAAAAAAAAAAAAAAAAAAAAAAAAAAAAAAAAAAAAAAAAAAAAAAAAAAAAAAAAAAAAAAAAAAAAAAAAAAAAAAAAAAAAAAAAAAAAAAAAAAAAAAAAAAAAAAAAAAAAAAAAAAAAAAAAAAAAAAAAAAAAAAAAAAAAAAAAAAAAAAAAAAAAAAAAAAAAAAAAAAAAAAAAAAAAAAAAAAAAAAAAAAAAAAAAAAAAAAAAAAAAAAAAAAAAAAAAAAAAAAAAAAAAAAAAAAAAAAAAAAAAAAAAAAAAAAAAAAAAAAAAAAAAAAAAAAAAAAAAAAAAAAAAAAAAAAAAAAAAAAAAAAAAAAAAAAAAAAAAAAAAAAAAAAAAAAAAAAAAAAAAAAAAAAAAAAAAAAAAAAAAAAAAAAAAAAAAAAAAAAAAAAAAAAAAAAAAAAAAAAAAAAAAAAAAAAAAAAAAAAAAAAAAAAAAAAAAAAAAAAAAAAAAAAAAAAAAAAAAAAAAAAAAAAAAAAAAAAAAAAAAAAAAAAAAAAAAAAAAAAAAAAAAAAAAAAAAAAAAAAAAAAAAAAAAAAAAAAAAAAAAAAAAAAAAAAAAAAAAAAAAAAAAAAAAAAAAAAAAAAAAAAAAAAAAAAAAAAAAAAAAAAAAAAAAAAAAAAAAAAAAAAAAAAAAAAAAAAAAAAAAAAAAAAAAAAAAAAAAAAAAAAAAAAAAAAAAAAAAAAAAAAAAAAAAAAAAAAAAAAAAAAAAAAAAAAAAAAAAAAAAAAAAAAAAAAAAAAAAAAAAAAAAAAAAAAAAAAAAAAAAAAAAAAAAAAAAAAAAAAAAAAAAAAAAAAAAAAAAAAAAAAAAAAAAAAAAAAAAAAAAAAAAAAAAAAAAAAAAAAAAAAAAAAAAAAAAAAAAAAAAAAAAAAAAAAAAAAAAAAAAAAAAAAAAAAAAAAAAAAAAAAAAAAAAAAAAAAAAAAAAAAAAAAAAAAAAAAAAAAAAAAAAAAAAAAAAAAAAAAAAAAAAAAAAAAAAAAAAAAAAAAAAAAAAAAAAAAAAAAAAAAAAAAAAAAAAAAAAAAAAAAAAAAAAAAAAAAAAAAAAAAAAAAAAAAAAAAAAAAAAAAAAAAAAAAAAAAAAAAAAAAAAAAAAAAAAAAAAAAAAAAAAAAAAAAAAAAAAAAAAAAAAAAAAAAAAAAAAAAAAAAAAAAAAAAAAAAAAAAAAAAAAAAAAAAAAAAAAAAAAAAAAAAAAAAAAAAAAAAAAAAAAAAAAAAAAAAAAAAAAAAAAAAAAAAAAAAAAAAAAAAAAAAAAAAAAAAAAAAAAAAAAAAAAAAAAAAAAAAAAAAAAAAAAAAAAAAAAAAAAAAAAAAAAAAAAAAAAAAAAAAAAAAAAAAAAAAAAAAAAAAAAAAAAAAAAAAAAAAAAAAAAAAAAAAAAAAAAAAAAAAAAAAAAAAAAAAAAAAAAAAAAAAAAAAAAAAAAAAAAAAAAAAAAAAAAAAAAAAAAAAAAAAAAAAAAAAAAAAAAAAAAAAAAAAAAAAAAAAAAAAAAAAAAAAAAAAAAAAAAAAAAAAAAAAAAAAAAAAAAAAAAAAAAAAAAAAAAAAAAAAAAAAAAAAAAAAAAAAAAAAAAAAAAAAAAAAAAAAAAAAAAAAAAAAAAAAAAAAAAAAAAAAAAAAAAAAAAAAAAAAAAAAAAAAAAAAAAAAAAAAAAAAAAAAAAAAAAAAAAAAAAAAAAAAAAAAAAAAAAAAAAAAAAAAAAAAAAAAAAAAAAAAAAAAAAAAAAAAAAAAAAAAAAAAAAAAAAAAAAAAAAAAAAAAAAAAAAAAAAAAAAAAAAAAAAAAAAAAAAAAAAAAAAAAAAAAAAAAAAAAAAAAAAAAAAAAAAAAAAAAAAAAAAAAAAAAAAAAAAAAAAAAAAAAAAAAAAAAAAAAAAAAAAAAAAAAAAAAAAAAAAAAAAAAAAAAAAAAAAAAAAAAAAAAAAAAAAAAAAAAAAAAAAAAAAAAAAAAAAAAAAAAAAAAAAAAAAAAAAAAAAAAAAAAAAAAAAAAAAAAAAAAAAAAAAAAAAAAAAAAAAAAAAAAAAAAAAAAAAAAAAAAAAAAAAAAAAAAAAAAAAAAAAAAAAAAAAAAAAAAAAAAAAAAAAAAAAAAAAAAAAAAAAAAAAAAAAAAAAAAAAAAAAAAAAAAAAAAAAAAAAAAAAAAAAAAAAAAAAAAAAAAAAAAAAAAAAAAAAAAAAAAAAAAAAAAAAAAAAAAAAAAAAAAAAAAAAAAAAAAAAAAAAAAAAAAAAAAAAAAAAAAAAAAAAAAAAAAAAAAAAAAAAAAAAAAAAAAAAAAAAAAAAAAAAAAAAAAAAAAAAAAAAAAAAAAAAAAAAAAAAAAAAAAAAAAAAAAAAAAAAAAAAAAAAAAAAAAAAAAAAAAAAAAAAAAAAAAAAAAAAAAAAAAAAAAAAAAAAAAAAAAAAAAAAAAAAAAAAAAAAAAAAAAAAAAAAAAAAAAAAAAAAAAAAAAAAAAAAAAAAAAAAAAAAAAAAAAAAAAAAAAAAAAAAAAAAAAAAAAAAAAAAAAAAAAAAAAAAAAAAAAAAAAAAAAAAAAAAAAAAAAAAAAAAAAAAAAAAAAAAAAAAAAAAAAAAAAAAAAAAAAAAAAAAAAAAAAAAAAAAAAAAAAAAAAAAAAAAAAAAAAAAAAAAAAAAAAAAAAAAAAAAAAAAAAAAAAAAAAAAAAAAAAAAAAAAAAAAAAAAAAAAAAAAAAAAAAAAAAAAAAAAAAAAAAAAAAAAAAAAAAAAAAAAAAAAAAAAAAAAAAAAAAAAAAAAAAAAAAAAAAAAAAAAAAAAAAAAAAAAAAAAAAAAAAAAAAAAAAAAAAAAAAAAAAAAAAAAAAAAAAAAAAAAAAAAAAAAAAAAAAAAAAAAAAAAAAAAAAAAAAAAAAAAAAAAAAAAAAAAAAAAAAAAAAAAAAAAAAAAAAAAAAAAAAAAAAAAAAAAAAAAAAAAAAAAAAAAAAAAAAAAAAAAAAAAAAAAAAAAAAAAAAAAAAAAAAAAAAAAAAAAAAAAAAAAAAAAAAAAAAAAAAAAAAAAAAAAAAAAAAAAAAAAAAAAAAAAAAAAAAAAAAAAAAAAAAAAAAAAAAAAAAAAAAAAAAAAAAAAAAAAAAAAAAAAAAAAAAAAAAAAAAAAAAAAAAAAAAAAAAAAAAAAAAAAAAAAAAAAAAAAAAAAAAAAAAAAAAAAAAAAAAAAAAAAAAAAAAAAAAAAAAAAAAAAAAAAAAAAAAAAAAAAAAAAAAAAAAAAAAAAAAAAAAAAAAAAAAAAAAAAAAAAAAAAAAAAAAAAAAAAAAAAAAAAAAAAAAAAAAAAAAAAAAAAAAAAAAAAAAAAAAAAAAAAAAAAAAAAAAAAAAAAAAAAAAAAAAAAAAAAAAAAAAAAAAAAAAAAAAAAAAAAAAAAAAAAAAAAAAAAAAAAAAAAAAAAAAAAAAAAAAAAAAAAAAAAAAAAAAAAAAAAAAAAAAAAAAAAAAAAAAAAAAAAAAAAAAAAAAAAAAAAAAAAAAAAAAAAAAAAAAAAAAAAAAAAAAAAAAAAAAAAAAAAAAAAAAAAAAAAAAAAAAAAAAAAAAAAAAAAAAAAAAAAAAAAAAAAAAAAAAAAAAAAAAAAAAAAAAAAAAAAAAAAAAAAAAAAAAAAAAAAAAAAAAAAAAAAAAAAAAAAAAAAAAAAAAAAAAAAAAAAAAAAAAAAAAAAAAAAAAAAAAAAAAAAAAAAAAAAAAAAAAAAAAAAAAAAAAAAAAAAAAAAAAAAAAAAAAAAAAAAAAAAAAAAAAAAAAAAAAAAAAAAAAAAAAAAAAAAAAAAAAAAAAAAAAAAAAAAAAAAAAAAAAAAAAAAAAAAAAAAAAAAAAAAAAAAAAAAAAAAAAAAAAAAAAAAAAAAAAAAAAAAAAAAAAAAAAAAAAAAAAAAAAAAAAAAAAAAAAAAAAAAAAAAAAAAAAAAAAAAAAAAAAAAAAAAAAAAAAAAAAAAAAAAAAAAAAAAAAAAAAAAAAAAAAAAAAAAAAAAAAAAAAAAAAAAAAAAAAAAAAAAAAAAAAAAAAAAAAAAAAAAAAAAAAAAAAAAAAAAAAAAAAAAAAAAAAAAAAAAAAAAAAAAAAAAAAAAAAAAAAAAAAAAAAAAAAAAAAAAAAAAAAAAAAAAAAAAAAAAAAAAAAAAAAAAAAAAAAAAAAAAAAAAAAAAAAAAAAAAAAAAAAAAAAAAAAAAAAAAAAAAAAAAAAAAAAAAAAAAAAAAAAAAAAAAAAAAAAAAAAAAAAAAAAAAAAAAAAAAAAAAAAAAAAAAAAAAAAAAAAAAAAAAAAAAAAAAAAAAAAAAAAAAAAAAAAAAAAAAAAAAAAAAAAAAAAAAAAAAAAAAAAAAAAAAAAAAAAAAAAAAAAAAAAAAAAAAAAAAAAAAAAAAAAAAAAAAAAAAAAAAAAAAAAAAAAAAAAAAAAAAAAAAAAAAAAAAAAAAAAAAAAAAAAAAAAAAAAAAAAAAAAAAAAAAAAAAAAAAAAAAAAAAAAAAAAAAAAAAAAAAAAAAAAAAAAAAAAAAAAAAAAAAAAAAAAAAAAAAAAAAAAAAAAAAAAAAAAAAAAAAAAAAAAAAAAAAAAAAAAAAAAAAAAAAAAAAAAAAAAAAAAAAAAAAAAAAAAAAAAAAAAAAAAAAAAAAAAAAAAAAAAAAAAAAAAAAAAAAAAAAAAAAAAAAAAAAAAAAAAAAAAAAAAAAAAAAAAAAAAAAAAAAAAAAAAAAAAAAAAAAAAAAAAAAAAAAAAAAAAAAAAAAAAAAAAAAAAAAAAAAAAAAAAAAAAAAAAAAAAAAAAAAAAAAAAAAAAAAAAAAAAAAAAAAAAAAAAAAAAAAAAAAAAAAAAAAAAAAAAAAAAAAAAAAAAAAAAAAAAAAAAAAAAAAAAAAAAAAAAAAAAAAAAAAAAAAAAAAAAAAAAAAAAAAAAAAAAAAAAAAAAAAAAAAAAAAAAAAAAAAAAAAAAAAAAAAAAAAAAAAAAAAAAAAAAAAAAAAAAAAAAAAAAAAAAAAAAAAAAAAAAAAAAAAAAAAAAAAAAAAAAAAAAAAAAAAAAAAAAAAAAAAAAAAAAAAAAAAAAAAAAAAAAAAAAAAAAAAAAAAAAAAAAAAAAAAAAAAAAAAAAAAAAAAAAAAAAAAAAAAAAAAAAAAAAAAAAAAAAAAAAAAAAAAAAAA/mpj7ISHvwCg0270MT+/ANHjsGU4ir8AsvdmJ0GNvwDYC31llVe/APiruHpWYz8AoE9mGTtOPwBQgiVgfGI/ANDs/E9AhT8AnlnBqTCXPwAqMukpk5s/AGTyDmR/iz8AetPcRE6QPwDPAU2++pk/ADSjXFSsmz+AqP5Dl2ShPwDY+E5p8aY/gF46IRFHoz8AAbnlXRaUPwDe3EeoOpU/ANZNERrimT8AthlWKzSRPwDL2khlSIO/AKSbTT41bb8ADK61vbyfvwAEV75GDnS/AHh6mUlYeD8A3FgbnRSXPwBIWrySBZ0/AMrmICJWkD8ArKgFDuR8vwDDdG5mso2/APjKXq3SbL8AJpWk3wCFPwBxYr727ZU/ACuVZi0mlz8AS2rCMIGcPwAueZpAU4E/ABtbt3vakj8AYDxC7qZ4PwAAqstIWi4/ACiOm45ChD8AtY7Jf3WhPwD/hxM1xaA/AJXzi/zEoD8Ao4AlQYKhPwBJfyTW45w/AMg2Mw2Dbz8AGFsLb5RZvwAMUG9tJXA/APiRzFl0bD8A6E7p5L54PwAIZvbKt4g/AIhH7/Frfz8API9SeXZwPwAQ3jwuumk/APS5d6F5dD8AJEuYM7uIPwAkLb7dkIM/AMgFgNsPcj8A4HjCYbtCPwCt6rK2qJk/gDCgGj5Fqz8A0V2HebKoP4CpPPbCwKA/AFORgsVgmD8AKwJpHdSYPwAO84DuyYA/AHArT29Kf78AHjcMqg+HvwD0u64QUnE/AAhy5vUvZb8Ay4o90l+SPwA8HoYHyXw/AH5v9iWamj8AjVVtVZGUPwB9/DJO75U/APfCDpmekz8AitBAYmedPwBT/gq0EaU/AIXdIfvMnD8AALuZB1yaPwBsh0mQwXY/ALoA/B3ekL8AL+Q3agKRvwCkgKs/vI+/AEbrSWOujb8AmBXNcAxXvwAQZRFdOGu/AL7rzAo5eL8A0I5K5I51PwDQbxtAy3E/AESS8LqEgj8A/VycE/6QPwD4Fi7YJW8/AMyc1GowaL8Aei9gzJCLvwA6sxSWbH6/AEVpgxYMj78A0esglHSZvwDjhHKlmIS/ALC5tyVsgL8A830viEKMvwDwRtz2NFE/AJr4yU5FiT8ALGSbRc2hPwDIm6eE5qA/gAmbrJsRoz8AvWcIES+lPwAbA5amx6Q/AMpJDEwtoT+AIUOr3TWmPwBe1XZdfqU/AIpWCzY0oz8AAA9isQynP8Akf2l2oLE/AK65FedrsT9AGTsarPuyP0C0LuCKh7I/wKIui67OsD8AKE/LNF2yPwB+/1itD7I/QJtGBXO3sj/A1E3U992zPwC4dr9U8q8/wCdzZXVutT8AA4Tz82WnPwDhO8AnG5I/ANs4uAjRnT+AgrrzDnagPwAdUUwoA6U/ACGtFbeQpT8A3wuw2VCnPwBZOGYjlqI/ANwpWXZLgT8A/EnUM0eFPwDcN7mPj3i/ABBnT6K/Yz8AfKUG+qppvwDYD2Td2Wo/ALHzNzUVlT+AsBJJPjWkPwCxhuIiPJ0/AICfj8bmlj8AcJBqKAJ6PwCcLo7yVow/gDyY3HK0oD8ALO+Pi6+ZPwC9mxr8Qps/AGWdgHDEoD+AeyhghRqjPwAK1zJjkKE/ALK6ncfnoz+AINKMj9WjPwAxfJrdGas/AOlgjJIWrD8AtOttfResP4BSIbhzLqs/gK2F8x9/rj9A87X7EA6wP4CcU/H1Yq0/APBT7x+4pz+A5Gr+DvKnP4B8vVw6k6s/ACymM6YNpD+Ab9QyyAqjPwDUQ1yvlqg/gOKd3dBBpD+AYfba4selPwCTT7diLKg/AHPME35Wrj+AoKpq+MOsPwAtO173A6s/gBlV58cMqT8Ax2v4jPGuP4Bk3gtCJq4/AFfXO1Iqrj9APttwE6iwPwDuuHsva68/gPLx1rRFsD8AjVnJPQqsP4C16aKX/qo/AFU68rZ/qj+AIp9/MQipP4BtGgNhVKc/AOkDKpJcoz8Aia5slQ2oPwDEfnehZqU/gDugW15mpT8AHKBcyTukPwDJLKMH66Q/gI2i9tFWoj8AJDobF2iRPwBRBGhKH5A/AN8oG8Wmmz8ANNuaY62XPwDtA06l05A/AJhFDj7+Xb8AiC/si+OEvwCKpv6c4Yq/AL6YNMMEdr8AkKlRxUt4vwDmWNSCdou/AJ1w+tV7jr8AOimAcxKUvwA6iN9eZZe/gFGcfYrJoL+AATEV+Aahv0Ah/F4ghKK/AAz/dLjooL+ApkY6uAaivwBUuKk2yqa/wNFOWJflp7/AZLpi+1umvwAIEfu5M6e/ADcMcWFvpr9A7Q1J4nenv4BqnucE/6e/gNTjgujbpr+AnMn77X2mvwAJndRMiai/wMqt1GgEp79AgOJSSpqrvwC1crrhCam/gIcmFNfDo79AiU4hDM6kv0DQQlSWs6O/gNJbVatBpL/Aq516WaWov0CjicnQQ6m/gDJwINnuor/A67sChnelv8D0Cut7n6a/QNocx8R4qb+AHkj3KO6kv4AG0M+Jz6G/AA/lBNc5nr/Aztvx26Kgv4DAXdZ55qG/AIEMNioCoL+AKyIualSYvwDMaYGn7Ze/gEJ+9o0Mmr+Ah6pYZm6Wv4B9Dl4lfJe/AGo2iEBSnL9AUvZ2AFajvwAV6V7c2KC/gP07Kf3hn79A/1c2KCylv4AvFfuA0qS/wC5eDJoopr9AEM8rU16nv4DvTIGBsqW/wLu4Dg61p79ATHe/w1Knv4BrK96Bn6u/AAefzs4Hrr8An7gEmQKsv8D7+GzWfqW/wGI+QRsepb+ATvBuHuynv4BHE0mtlau/wLv0UJTpqr9AINDzYPCrv0DnhPGMG6m/wF/Jr9jEpL8AZfOSuCyhvwBVWDQx5KK/QKyxD0Zzpr+Abavk972nvwAIXyPdVqS/wFi524kZo78AEFdZb1ulvwAQYyQPy6C/QFtOlBiLoL+Ahf8YYgOdvwCVUJ6hxpi/AFNU2gqom7+AqBDeRhGdv4C2Myktapu/wIIgkrUNpb+A0Lj7sGWrv8CPj6H3Tau/gNLsRUhkqb+AsfqunESmvwB/SiC5vKO/QMzepP2Wor+AscrX+T6mv4BpuBpt3Ky/wLKikWNypL9AAd/4bnqhv0DojokoraG/ALG6J6NRo7/AuX+31Migv4A82hUi7pW/gAy8xesIm79AJevCoxSmv8DatkGB/qS/gOBLM3Eyo7+ANJ/COTGfvwDO+067ppu/QHy6RfTypb8AUaZcdaSkv0CQvDcaR6a/wHvFUOL6ob9AfshYAUWmv0AXiNRI0qe/wA/L1SOUqL/AgJeISxWmv4D/5JdVX6e/wGDAAcGjp7+AsaCfPR6kv0DMGBy59aS/gK+kSpQZpb+AWEEhAsafv0DEl1cdYKG/gA1NPH69kb+ATgU/iLKWvwCFbiA7vZG/APQJrtBVmb8AM+w+3vmUvwBFzqWtrY2/AGJgcLcjf78AgEr8SngrPwBw3Ih/o1E/AAQuNwLwcr8A8F3yKf99vwDZzi8/04C/AOqhi2Tdnr8ATEkAFdyevwBI8LBnHZS/AEYXxYn9lL8A2zWEQeeUvwA0o6yzWGC/AIpWw1ygk78AIZIE1g2JvwDX0eKBZI+/AFIGKWIQe7+A7AnnMRiSvwCijqoQjny/ALDaV3aMXz8AEIxp/mNVPwAkMnVtcH8/AJqtShf+gb8APc9J5B6AvwB6vtiG7oQ/AHhjtSV0YT8ARH/Len+SvwC+jpv4uJW/AIgIWxjrZT8AAH2a6/9QPwBA2Qja5Xg/AGz8ikBZgz8APF6D1O50PwAXErGqEJA/AKLKDReSqD/As0Iq8Ym3PwACAm+t/7E/wJ25WehTsT+ACZTmu2SyP8BAlaUC97o/QBgezb2QuD+AR40U9r20P0DntHHnULo/AO0G08UMuz+AWx46bfK7P8BmmKl5878/IK8UzZvZwD8A/zF4MHjCPwBRs50fq78/wPvsS86fwD/ArVwFYdO+P4Bt+RdxZr8/wDCPy+isvj/AGDnWXe/AP0B+GSLXsrw/gCtye+LKqD8AHm9FaRSUvwCOYsZ7RKW/ALqXh1OLmr9AtH5AB8ykv0D2XR7S3qm/wAH4e8k1pr+AMlyMiAeWv0AI/EsilrG/wDgpoPBIrb/Au71ovoGtv4DFDOCTS6u/wJg/sm5grb+Abwg32lOxv8BoOlFb1LG/oA6mFEGPsb8AUGDt9eGxvyAzSHSczra/ILVgldiot79gfr4ZAnO1v2ACe6ARIbO/wO1mmqwGtr+AF6DBote4v2BsHAWEi7a/oFmoiToosr+AN4BfG1uqvwDiMatvyq+/wKN30rp3r7/A/4HhVNWmv+DInlij07C/IG/1twDpsL+AyRZgD8GevwD00T379pg/AJrDLMRPlj8ADDqy+rmmP4C6+49QfrU/gBl5BaYetD/AwhlvL7S1PwAcMV9id7A/gFg/VY30rz8AMmO2aEyzP4DDCqZ8RLM/QCyW2JeosT+A/EsIOMCzPwATPVxvE6w/AGieppAbmj+AIBfPndihP4CnzAAUm6U/AGKcuYS7oT8A+QW13BGsPwCsRhtE468/gJuR94yAsT+AGVAU5UqjPwDJaUlEcKo/gMlR7GVTpD8APvHnZY14vwCEaqqd6Hw/ALxp6YCrfj8AV+snUUmUPwDoV0Fe8qQ/AAs56zc9qj8AWkaKuqqqPwB/+xNOpqg/AFxSZ5m0nj+AKbDZg+SjP4Aeitta+q4/AFzf0iPhqT8AOlWXRfypPwABdOPPi6k/AMtdz8kmpz8AqwKO9hOkP4B7XGbKIqM/AOtajd5Eoz+A9P4YLHCoPwD8+NSqR7E/QMMWRJ2jtT8As7GbEvqwP8CAU6hnK7I/wMDXmTvktT+Aj8xzPbu7P4B5Yl+r7rg/wMohawaisj+A69a2Gq2hPwDADJ9mHKE/AC5EJQSJhz8AJJObNyyHPwBsHtJhWa8/gHoYpT35qj9A/IYSJnawPwDNNrunRqY/gNH6bUGKoD8ABb+RMn2tP4DH7sSlFLM/QKnpPCP7tz/Ag+B6Dau7P8AcoPZUOL0/gPwskQTLuD8Ap1eMs9O6P0BEi/UGSb4/AO7kleRqvz8g8nV6vlvAP+CsK8dEP8A/APJ4HP/vvz/gmRjzUxHAP6B9ohMi1cE/ADZI6bKNwT/gG6beMwfCP4C+xlawgsE/oP2orlxkwj8g7I9Yax3EP4AreZ3txsA/4EoJ6QlAwT8AAlcCIq6/P4BY1eJM/b8/wDymBSj3vj/Ah7n0KEa9P6Dkrk1DScA/QFBW6lINuj9Aanx2uXK9P2DD5aBkZ8E/AKF5SjzVwD+g2nq35ejAP8Di6TD+B74/QGlu+T5iuz8AhGR1of+5P8AHDqOD/bk/APHJ/tyfuT8ANO4ICou8P2D+XVm3RcA/QNs41ijzvT8AizHrKNa3P4C7Gala2rc/wHWunCC5sz+AJlb1uEaoP4CGpDeiUqk/gOBRSzk2rz8Aun5uy0+wPwAaS8wWGLg/wJiU9mnkvT8gs3usLqvBPyBpMMdAosQ/QC5o2379xz9AmV+Hf9zFP+DEwPQLeso/4C/BY41+yT8gzzkypI7HPwCNGgZBS8Y/ANdaDgEyyT9ABl7cU+TJPyBduIIzh8k/QNICR99Pyj/A8c7IxUjLP2D+CVUPyMo/IMsBqfJtyD8Ai+PnZNnKP6CfKzhh8sc/oJ1wnSSNxj8ARbEDjF7GP6DJxqrmacU/oGTpatDHwz9AuECl8SDEP+Bu6/ELMcQ/AO9z/7c0xT/A4Dy/aT3GP4AHn/YSCsY/IEV2SPXQxT8gVx30vJvEP2BAW8XDmMQ/oPbEMXOexT9g9uQ6qmDFP0DQpO18BcI/gMCcf02Twj+AQ59uMmfCP6C5XnkiRcE/wIgHc00+wD/A02Sl28/APwCQfyQQKb8/gNYc/5cowz+gS1ENjeTBPyAgID5CisI/AKzewHbtwz+gA9LdB93CPyCJsMDpGsg/wCoS8tN1xz+gNqPFq2nJP2DjdkdYEcw/wJNXxhgVxT/AxCJlHUvCP4ADo6qbSMM/gEsi2iBQwj9gezwMP/XAP8D8XjrRKL4/QE5rkdhouj+Af80w2fK3P0A0xG8ueLo/QC+z/yUjvD8A1BwX+W+7P4CvyUq3n7k/QMh6YVaivT9Al0+GzuW7P0BhGyEnxrs/QDqwTOORvT8AnI4wMKW/PwD7YbSy97s/gLiAx9vEuj/A/PFVFv+8PwDSzmB3NLs/gC7LzsbEtz9ATKPAJuW3P8CP9GB2ybU/wPNYKpOUuT8AxKVaLwC2P4BeWZkUmbI/ABkiQJXHrT8AWAxOaAywP0A8Gn5bKrA/AJhxg8VbsD8Aax8iWTqwP4A9DKSvmrA/AJh17Rohrj+AhZAaIpuuPwCTK+yN1LA/gFUuJkVYrz+Az6QfHOCsP4C8Q7rDoLU/AGEj4vWNqj8AAOPrepaqPwByGrhaSJ0/AEbwoSFfdb8Aro4yOdaSPwCAS5YfAV4/AL5+v3VBcL+AeP5NN32gP4C07rjwsKM/ANYSHuJhhD8AMAu3K2JLvwCA/L5cB3q/AMwrwYudk78ADIOwpQWFvwCQxTzUlZK/AEMsGVIDg78AAHxn10FyPwAgzwYaK2C/AOA6Ky7XXT8AQP4vHXtnPwCAPiLJMHs/ANdf4uZ1kT8AKIqbYgKhPwBcy14NcZk/ALCv95AyjD8ASq2VfgSIPwAENf2HNoo/AEATBVEYkT8ARFoAyEuBPwBod+UogoI/gK3TGpKHoD+AwaU1FdagPwDIUP3JIGg/ABgZwR3Jkj8AvG0Rb76ePwAfECxWAaE/AAHuVu27nz8AUCmB3HKgP4CQlTFNBac/AJ44UsWBoj8AJY9Lc0yTP4BSClOjhKs/gEpYX2xOqD+AvAOAcgivPwC2qynYc6Q/AC1UCV4hrj+AUPqr68q4P8CTNynwyLk/gOiYXBrwuT8ALxp7qge7P4Cv2dp2nr8/gGdR6HBxvz8AVOlwKEC7P4DG9w4yjbE/wAdcoFhrsz/A9K3vivO1P8DWKEBWQbM/gDvAvyH7uj/AUw/989u5P0Ap8HpJCr4/gBxBwEp1wD9ASK1ciHy9PwAZfpxJQrg/wFVQfQD5uD+A1wnNjvu0P4DLeMBVRbI/gPrOlLZfsD9AcOcntb6yP0Bt7LCirbQ/gFy1NRt5rD8AO6cjefyqPwBmyoraS64/QGQSk1ChtD/A73NKyvSzPwCW08j7Zqo/APnPeKxhqT/An+V29OOwP4BOCRZltbU/gOhl8lddsT8AANIskW6qP4CpGb5q5qs/AKWK0UkTsD9AmyqWW+2wPwD9Ayoc1LE/gCtnGU8CtD/AvVPyV8azPwBH5RfL8rY/QMxOMAkVtT8AY5UmuFSvPwCQW3TYPJI/AJy1V4duf78AeD+cixt0PwCrO1RRjoe/wD3CXO5kp7+AwwdKbnymPwAcAUuvZJA/AHcs2EQ4i78AxjxX92Chv8D4yEua16C/AEB3rotzo78AZrMJLyqQvwAISMDp9JU/AOqPNSF/jr/AHcwZ7YmlvwA2D8P4d6O/AAI3ajWycL8AGgzjAjFzvwD8YKnkz4I/INZeEiIPsr+ANxTa6MGov2AyZ4Ry0bq/wFi3Tz33qb8AmESDXkyIv4BEN9DyYaG/AJFdhbknnr+Ap1fYggOtv0C06npdtbC/YD5A/o1stL+gTld+1FW7v+AdqFrGfLa/wB8NrnRtub9gjT9YgVC8v0C0l9RKHMC/AEomrh4mv7/AcYQTjHm3v8CbsqFWx7O/YD3YMP6st79gFyDYrCm+v0CdfbOIV7u/oFbVmTYSur/AUKAdKye7v4A9ikEbr7q/AO6aXh32uL8A2AXxsBy4v4BJhWiot8C/4NeClT7awb9AFnfxrdu7v0CAKXFM4ru/oE2bKD05xL9glhg5Onq3v6C5QLfGM7O/ALB/DEw6tb9g98Somuyyv0DlOCVPJbK/oFRsOjG3sr8AIcbZowO1v6CrsIclsbO/APM/ZwGms7+AUPyGuAW2vwCmF+rfwbq/oBrixlzluL9AJeidObe0v8D7PR+Uw7a/gDMHdisXub8gw3DjRfK8vyBSeD4y6bq/4ChKdwbZub8gUnfTXDq1vyAzFrusVbq/QDrErbEXvb8g2qpZlnu8v4AKZ+x6Nbe/4A2IRTs6tb+A02IlFVm6v8Bi5jd7M7W/IH0pcUziu78wZQ2VenzCvyCuonQYX7u/ANpTpzJYuL+g9dBzOly2v2DVP71INLS/wE8DOy0Ltb+APok9446yv8CgGwj4AbO/QGk407PsuL+A5/sXNwG1v4BFXG5f076/wJ51RLmawL8Qq41oNvXDv8A2U9hAIMO/sPavY1fAxL8gnzMgdgzFv6DMw8BuPsG/4DCaaK/qwL9Q8P8S5aTDv9Bb7ZCPr8a/cMvu+CPewb/AYdn7gUTAv2AmE+Zq/cK/MF3vLdlKw7+Ac+M7Uui7v+BeKpSmrL2/EJC3i110w79gUQl+SJHAvxAz0oHZ1sK/UP6PfiMnwr9AhHa5sNvAv8CKE/yGnLi/QEL6w+b2uL9ggFKKbWW/vyB0n7me+7i/oFog3orXsr9AAHJfHkW3v6Af4+7DVLS/ABLKX3FLsb/A+RBVX4Ohv4A6/HBer5+/AHiY958ior+AIeijWlebvwBiZlPma3m/QJI/iwyYo79AAJQyEPGqv2DW8wvGm7K/gPGS1cQVub9ACDND+gC+v0Arovz0sru/QFvYcDO2uL+goP3lt/27v4AczPzHV7u/YPq3oYaEuL8gPKwNciy0vwBJGnl9+7O/gDj9djb5tr9AcnPHv+Szv6ArA2v5lrK/wNH2TFMZs78A0V2vDSqyv+DsGpFMnLG/IC5/InN6s7/AMKx/NLGxv0D4AKUieK2/gEeN0bvbrr9AoG2ZMK+wv8BeUEN4ybC/QGhyzqy6s78AUq+VUY+uv0AgRTpgbLK/YEcySB6ds78gRO6GkXO3v4Cj9CI32LS/gJB5uhettL/A+VGqoSK3v6Bw+HobsLS/4PhQP8xztb8AeXnX/Xi0v4CMgwjLb7O/oNWzpDYIsb+AqES6wU+yv2BW8Lx2aLK/gIfY6Uttrb8gDd3cB0ewv0ByZtSTR66/4Dv56e0HsL+ARDD4V/+vv0DvyXQLza2/wL1ffV/Mrr+gHxAU7g6wv6Ch+F2H47C/ALqXUyeSrr+A5eIAH66rv4D+B+lOoqy/gMNSiWEAsL/Ab28PZ3Cqv0AsZ0fPH6m/QFOmKSfMor8AV/a1U2WmvwCMgT8hLaS/wAuiRkb5oL8AYAJL+MKZvwCwjdNatZC/wAP0U0E3or8Ap0rs/w6jv0Ay007yFaO/AMeWPS6cor/ACQfTVayov8AMUd2BLKq/wCO/Dyw5pb8Ap8QGMFelv8BrNXwwG6O/gGL1ER30o79AQLb2Y4Whv4Aq0eoJPaG/wMINUD+aqL/APVUWqo2ov4A7GAmSaaO/gNchjwV3pr+A7sOZhP2lvwBdgXntxKO/wNsTfPgkpr+AUo+M+hakv8C6IeVMBaO/wPbyk4/Por+ANk+XDyWfv8C3B7LDiqG/AIL1ELIepb/ANQKCXqqovwD63GE4yaW/ALAYP7Krp7/A/Bt+XA2nvwDfWKha/ae/wLXYt7i4pL8A8/bqCNKjv8D2zFwFI6W/QP1RZT2np79AM/Oun/Cov8Ag3gQEZam/QNG2ZHq0p7/AZf6bPFeqv4BBizbs6am/QKqzJGV9qb+AWLh2x1Sov0BmXwo0yqm/wF4o8d5DqL+AySnLNfemv0DVUtF9K6i/QGoR4u8JqL/A2Ih//QKov0CS+gr3vKm/wBNSD/YYq79AVyoA62Osv6CMpAmKmLG/IIBGFXT0s7/gRvgKgdWwv2DM3kUOirG/oIu161Rysb9ACcTReuqvv+CsIzp6dbG/QJEBzCtQsr+gLIaeQ5Kwv4DZQ+6YM7a/AA1KxAows79gSLV7aJixv0AmgSV84ay/gM6F6aA9rb+AJ7Q9n/Opv8D2saHALaa/QF3b+g5wp79AxjczHwKtv8DLAdp746q/gBWlo0H8qr9AkDuLA9qsv8CINElRWau/QEauujMFqb+A7TBF3mSqv4B0DK7e06u/AN9TWM7Qpr+ACTc4Ni2nv0CEs7MNzqa/gH6kp+1Rpr/Aer0axWSov0A+7gPBhKe/QD7uA8GEp7+AeKdxoCimv8AjFfxnbqu/gH2rqzNfo78APVLsmcakv4Cf9PRCoqa/QG4cIMlNor8AXeR/IyKivwAe1eSL/56/ADW84gucn7+AafbJs9Sdv4A/2VYVI56/gAugLx9Sn7+AkfwwcyKnv4AOnnj/wKK/AH9xFe0zmr+A6geo0lievwDTXQ9Xb6K/AB+qXxono79AFzyCTNOlv0BDfCRW56a/ANM72f42qb/Aq0LHP9SrvwB0jowGkaq/QG9H/Lvfpr9AGgcivN6jv8DXmv+Ix6O/gBKn5ThYrb9AJOGU6qOpv0BoQXq7xqS/ANRPw+haob+AuHRwEoyWv4AIVNwaGpK/AO1hmkuznL8ANepN0HGEvwAup9oyK4q/ADiWOioLbD8AeiCXh+JzvwCOAsMuP4E/ACgd8gtkhz8AZgcNm7+WP4AHx6FNbaM/AH4H7aQdoT+AqOrMDHqhP4AsaxC1zKQ/ACewWf1wqj8AgYYeANCjP4BOjiI6Y6o/gGtsXTnaoz8AgJw37LWdP4CgUkXAgKA/ALIv+W5Soz+AfH14ZXaoPwDzFXOuH58/AG/A6wK9qj+AsQwDZbKqPwDrbjCjt6o/AG/E7DQxrz9AMYvSKVu1P8B4KIyx37w/wGWOZxtLuT9AkH59+MW6P0Aw3hGZhbc/APT0g7XGtj/A3nqWyFm0PwBdAHfrTJE/AKltQZLyg7+AKRiNasGbvwD0MOUxs5+/AEMtAtquqL+A//myK4Wov4Cp7zHPoq+/QKUJEHxkq78AQjb+u5aov0ALoiMwLq2/AOBsAfd6rL+At0G0AXezv+BWhd0MeLO/gHLI7YjFrL8AfVosNmisv0CXb2QPb6K/gC31E7/ko78Ah8JOouCmv+AhxntqNrG/AN/VgnOHs79AFzq/vay3vwClxSnP/bu/IGOHQfVQvb8AXkw7Y5zAv7DjFZAkRcG/IP0TZDJZwb8QvANE75HAv1Bmx4JuOsC/ANnuWu7Xwb9AMJ/VLPDBv7C8jIvN58C/QEoG6IfpwL8AqdJ+NHTBv0DC7mMN4sC/gM7UE56bwb/gBopH6gjDv2D5VhNMAMO/UE41orxaw79gNnokZsHBv0CqvAwHDcC/wM88l/LwvL8A4Zu9fIG3v6DC9T8JAra/wO4XytIdur+gYe5x77C7v8CZ3D9fSbi/QK0Hqo9Wu7+A944xwNS5v+AmIAQt87i/wAq2KPzotr/gvi1vV367v2C6y5WKXLq/QHeKbDCjvr/AzNQ7Jba9v4AENZO4Xbq/ID/pWy8cur9A4QuqVvW4vyBP6XeqErO/IO1fcBbFub+g11c1URq8vyB1tSyoPrq/AABm1TASuL8AfG8+inCSPwCEMmP7/IU/gAnuKfB/sT+AsKR1wuavP0DzHeUXj7g/gCWsr2Vjtz+A8IyffRa1P4BPYCMAabE/QAW7Si4wtT/AG318+c6xP0B+yXZ1+LU/ALC8WxD7sj/Ag0SKuGqwPwCH7+su66k/wNezlyQAsT/AVkG8ZbizPwChehtSdrQ/QMC5b2yntz+A+SB7dFS3P0Aj/tjbl7U/gKAm488htj/A+5TaQsG2P8CavHj2xrY/wM5yUHmltj+ACL+EwWa6P8DE36b2U70/gBmN8+75vz+AEq9iqPS9PyBkMvRHTcA/AP+dZGIkvT9AliszXE67P4CwwEDHeLo/QE4D75ssuz9A41lr3w27P4DyNh+O37k/QJRbfMHYuD8Asl71N9K3P8AEkwSYY7s/wLWD+k2SvD+AQPDhSTy+P8D6zhidXbw/gEsYth2Evj+AxmdicWm+PwD2CYlr5ro/AIrLqiuCvz/ArhimJVrBP0AYVJvgtsE/gGoaFKU/wT+gj+ZmdMnCP+Bu6a/IJ8M/oGju/1RUxD/gtDBUT9zEP+A+3gJy2MQ/oPlQhsffxD+AVbQdcL7FP6Ad/RN588Q/gLEKuARBxj/gm7SNXJjFP+BF+zxjwMQ/oKWka0Mmwz8ALTVfQmbDP6BVWI1C88E/YJBIv5pkwj/A6FbsTALAP6DOhAordsA/QLJQM94Yvz/AkYP2ByvAP8D3MedTib8/YO6izCPgwD/AxbyP3ce+P8AsP3E6i78/QFhRoGwrwD8A4Ijv/jq4P0C+/iXj2rk/gMWNldL1uT8APn/bTbK2P8CsAra9n7M/wFPlfOuFsz+AZtR+30OrP4D3QGbb7aw/AHCmuJIlnj8A3mreQfyCPwC0U1vSWZE/APgz4Wdsjj8A+FuUwVmVPwCI5pP9+5c/AICP/n+kkz8A5BiwzGOYPwAqsFfMjKA/AEy0rdq5oj8AqSMQIwihP4D7JEDBSaQ/AEXg2CcErD8AHQr20wOgPwCoEVHA+qE/APFCAoAlsD9ARBrde3q1P4ApyJeKT7I/gDtsJH3epj8A7FRQxRGlPwChzQH2Vas/QI+0HCIwtz8AG74V/SWrPwC0UDSDfKI/gMWzzQEGoz8AciSZSVilP4DApfNVdqM/gCfrx5oVoz8AAF5qbLeYPwBAuVe2H48/AKGp9fK/pj+AZhly4FmsPwDOPh/Z4K4/AN/B36OCrD9ASld40Rm1P8DA3LYp4LM/AL1DUkWzsz8AHNyeWj+6P4BZwTeHLb4/wAOJCvIUwD8gm64LXH/DP8DUhTyfYsU/4GPwFI/swj8gvuEiFLzFPwA12oEDnMU/YAb4RdKwyT/ADaXNAcTMP8CRxdQmkMs/AG1Q0oyHyj9gsVwNGdHHP+CDrbCpNcg/YGBR6IV9xj8g7u1tw2rHP6BDdUrQocc/ILNI6s3qyD/gV/ReRYjKP6BZp6HWdso/gBcGA5h0yz8gJuYwKBXKPyAqol3vnsg/4OoBKoZLyT/Aj/LKX8HMP6BMFFhqXcs/oEUYdoKdyz9grbna9AfLP2DVzmeqx8w/IIYk6m+pzT+g1KYhFPvMP8DH3VdPTc4/oA47wz6hzT8gbGkDvgnMP0DUpRSCg8w/wFZtzPmQyj+g/smtV7/IP+BSQRNvy8o/YJxoJbsAzj9ACDFl7ojNP6Dd/5WjLso/QL6bPHM9zj8ANDq1QVTOP+ByRIzlxM0/4EZJ3dzGzT+ATeOslqLNP2D74EqEdMs/IGJtWjcMzT+AJqdEIMXJP0CLUaV0F8s/YG6HVF/EzT9g+OlGZlzNP6DkrizfYc0/ADmwIxzhzT8A6wHaXTfSPxBBNxsytdU/cKBcOu3A2D/g6x1VVJTZP0CmizT4ktk/oBh+VwuD2j8AUOlHyq3aP7BNHGDtv9k/8PHajNqU2T9ACfzItM3ZP9BRE2QL2Nk/AFcvpqBy2j9QI3F2ch3aP5DMJxJTuds/wKJI3kAY3T8gK49VUVPcP3CFSdi+F9w/0ApTexjx2j+QP+OpTp7aP+B+WixMdts/QLHjpg0e3D/AcSF2rVTbP3DmkpG6NN0/MASxU7Oe3z8AdKOvJ1HfPzBMgke7OeA/QDfzu1Ao4D8w/sGnQP3fP1iZP7bM0eA/GENrVbLL4D+ovgZUn5PgP4ipXo6+seE/AAF9Mmb64T84NXAXAf3hPwBadwNs7+A/8OxcKAAu4D9QfRmcKHHgP/An3BLAZN8/MMye6wL13D8QdrK7R83eP5BeFvpnnd4/IN6eB37r3j+w8JBduabfP4BsJSg8598/0M5ojhJ+3z+QqkHPrizfP2CUZb82zN8/WILwoH2h4D9YUTltRg7gP7j38c8fGOA/EPhwACMr3z/A+URNTR/fP3DFZvbSsd8/WKsnrnM+4D9QQ4PDZEffP8AzeXmTfN0/UJgdWOe13T8QL7ITt6feP8BS9aFkD94/UH9ckfHF3D+Qr2d+jizaPxDre4OIcdo/YFyXkGif2D/Abbmp2gvVPyD+NGSVb9Y/8JvqP8Sj2D+QtC9PQLDZPxAEnFSN+9c/UNfptp1T2T8QkMrDm9LXP6CfY7a9etg/cIBsCOfw1z9wz3dm2wbZP2D3EAO2INg/YIngLlSb1z9Aiag4Z+HWP5DzuvSIbtY/oKhfmKU61j+g1zy9q7vXPzBEJ/rVudY/YEO4hL1O2D8wJQhqe0XYP8BExUu6t9g/4C/7iOLf1z/A4pU3CprYP+AAdRZAgtc/QJMKdkbl1j+wIMA1+iLXP0BrbwPBbdc/ACc7ST2V2D+QDuIWdqLYP1ARIFYCs9g/QA1Wr6XR1z8AJxjhcHDXPwBvoNN2ndc/YAiWNp/E1j8QqF1fboHYP8BUNyq6f9g/sIXrZPPC2D/gwJZq6VvYP7DVRLLK1tg/sH/8uIAh2T+AR1o9quvZP6AZwkQGQ9k/0LK66K522D+wvtpk10fZP5CRgOQgctg/QJ1M72Us2D9AXK/8fOXYPyAwuWSfUdk/4F6+CJ1h2T+gDcpH1QDaP2D3XLlhZds/QNcZ8lI73D/Ale8sxHTdPyDPEKGUmts/cHRC+9vv2z/AZ7P9rlneP4C0jyg3294/kFu40yvQ3T/AM/a8iwjfP+DYZppr0ts/II9VXRf42j9AzEQktNfcP/CMDyUK/t0/EPutc+2A3j+w9+wUI2/ePxDcNudYAt0/UJFJoaTk3T8Q3EzgTkbfPxC7w4EIld8/gGarJgAj3z8Qh/M6HsXgP/B/W0EPR+A/IK/vHhhk3j+w9RfVmgrdP7CT6MDq7Nw/wP73O4xt3T8whtPd7Z7aP1CuU0BSaNc/sKIurf4s2T+wS9l9P1nZP2BBiSp0gtg/AEhgB0aC2T9Q6K/rj1TaP5B2JzNWv9o/AJC0r7Sw2T+AFFGntCLZPwAeuF5L7No/ENbwiII93D9Q/Jf/COfcP5AH9170Ods/ENIouNC52z/AhiqQUcLcP+BQJV4WN9w/8JEF4Be72j9QmIZ1W0baP4DPmUjhnts/YCTrBKx52j8w1ZkPgNzcP6DEW3sXE9w/ANtxVyeL3D8AAvMkYQPdP2BoC5zka9w/ALya0JwZ3T/wtraE9DjdP1C6wk+UqN4/QE92x9oD3T/wFMNpOfTdP1AaaxOfX90/MNXn/mLa3D9AukZfuQLcP8BifgKgrtw/sPOmtkyq2z8ARE9e3GrcP7CWsMr9Mtw/kFjka0eV3D9gnmJpWLDdP9BDj6x0m90/EPNbCOq43T/AqN8Z5b3dP5CwPrIx094/YIBKKWBf3j9AMIWbBJPdP8BA2/4N/t0/ABV3UAFU3j8QNrSVD2XeP5BFZVfSrt4/QLmML1JM3z+Is+1+URTgPziVui44FeA/mKrwU2VE4D8QxqUCR5PfPwgmHjwjduA/YNfBNfcj4D+YZMe6OD3gPwD76CKzqOA/qNBbya5c4D9IaJF6b7TgP6iNWu7s0+A/sIaIKEY+4T/QTCx9CFLhP+BitBudG+E/oJaQnGyr4D/A8bMe3pvgP6DIPvMon+A/8AkrQMqS4D9IHTcn5XjgP/AHsvRG+t8/gFUtPxWE3z+AqPeqOvjfP5jqHZn9ROA/GHE2SHca4T8ohlZS3ebhP4Cl8MtPNOI/EPN02Z7j4j/oPslIrM/jP2iowPSsLuM/sAzhw9sN5D9YWwTxcEXkPwDF/t3xsOU/4A903yBk5D8QkbJwSC3mP9ATIguHaOM/4G1mHxog5T+o1TjGBL/kPzin41x50+A/4CVKmA7q3j/QIkPkmeTbPwBDbtwHbds/sGPg1oIr2D/QRXWQfHLYP+A1T8u0Sts/MDpQ/Sg32j8QIHHlkYzZP6Chd4DMG9o/AC+/KVFD3D/wnNOCvGvcP3DIOJyexNs/4HjGFFFg3z8wUx+eyrbfPxD4T408Xdw/YAImxtfr2j+ABRCUgOXaP4BnApsY39k/oP5C5QS62j+wvFAWY63bP6D+KEC5uto/ENtILw/m2j8gCOKSiD3aP+CjG7c9jtk/AO4/iAm32j9Q3549PJjaP7CPb0UHcdo/MHZV9gIA2j+AhT1D3VTaP7DdmPScQdo/QHI0nUL72j/AF0kRvkTbP6Dx2ZAkVds/MIvMssxv2j8gz0lFCNzaPxAyHCVUvdo/gH9oPLay2j+An+Rkh0XaP/C6RiFum9o/kGY0SGZC2z8Q3FHyjwvbPzCP6zXiFtw/UPq/eRbR2z+Q/yuBOcfcP2Bh0kp+pNw/UMigRRMI3T8wWY8tKOzdPxA8/j3VAd4/AHPEjE0L3z8AWqhnnjzfPxBniJUu3d0/8HfYdjcv3j9QCa+Pq3HdPxBgkCY7Ft4/gCAj0pMS3j+QlSqDx5fdP2AZI0RWl90/kKTdGjU/3T/AQN9I/dXcPyC+vDLM6dw/wI55T0LJ3T/g8Zbd8JvdPzBwvG0DV9w/QJuwLzaN3D+Al1hLXn3dP7CeA/3iMt0/QAhwrOjv3D9grYHf4yzcP4CFecEETtw/QETdOfG13D+gMINj81HcP5AljQMMq9s/AB9QaLYL2z+Qy3w5EHLbP0C0daKBONs/gFURoAOr2j9Q8fE7qnrbP8DlOr+FVds/EHUccSUb2z/gNJxkCODaP5Cz1MXiQds/0DrJobrD2j/wpfZlVTnaP+CeYELxGNo/8ObSCdvj2T9wlpU3+izZP+A1V8c0Gdk/gJLIOImH1z+AANakHujWP5CCEmCb09U/sMurNGza1j9wpeoYmjHWP9AuCnyIjNU/sO6/j62t1T8AspQm6HXWP3BSOlLAvNU/QHhNCcse1j/gyUQLE4zWP0B1XiT3utU/QIhXU5zp1T9A57EnxKLVP+Cgk5+X0NU/ALz08Kh31T+AskyApM7UP6CmQv1xQdY/QLu4Eqpk1j9QfV15h5DWP/BBgWp6Bdc/sMB7OhUl1z/gBJDNTOXXP/BS1ffYEtg/EGFC+A4z1z+QcxqVkprVP8DMv4nfydY/QOMEmVvW1j+AroVM8ALWPyDiQaZz+tU/kKQelVk51j+AOrS7/tnVP1AWP7lk0dU/YNf+wX4E1j/QlRPgsr/VP4D+1dZG8dQ/wGgjytVE1T+QH1ApbSbWP9DDmVJVHdc/EDJhJ7P21z8grkoVgzzXP5CKd3OvSNY/MAIOlNLo1T9gbjKdlP7UP7DSiffa6NQ/UEOMykTG1D9gD59nqtzRP2AtmrRePck/oF89Dc2mxD8AG+QU0kvJP6BYi25yKcc/gJNgkKnsxD/AaucaG+vHP2DP32pSO8Y/YG0khwQcxj8AzGUhtoTCP+DY1WJssc0/YILzYAdezT+ASQRhI9nPP8DLuykj9tA/0PggQwVP0D/QQYIh6ZvQPyBBU+58B9A/QHT/O1hrzz+g+7q2bYTOP+AddJCijM4/oIMZ2st0yz8AlTcdFRzMPyADFetoOcw/YDyBRv0SzT/A3NIA8kLOPwCzVHQ4184/wJBO86KTzT/w8qxvahLQP2Dwi+H+QMs/gBQHm0Qv1D9At5NTRWPUPwA9KzQaa9U/cCi5jntl1j9QMVsA13rXP6B0zp0d1dg/ALIx/c/G2T9w9MLrt9vcP9DSqA5279w/QJCjh16r3T9QX52x7K7fPxAaOVknk98/uNE9EnEJ4D8Qa2R+sCLgP8heYllRieA/YIPDOKCr4D/A4bR9ibTgP+h/TXPsXOA/kCLig5gH4D/gk8cNeq7fP8i0x6gsxuA/iDUMvFQo4T/oOA/Ec3LhP7gRjID3cOE/ELbAG7/S4T+A3o9AWcXhP2hgBPLC6uA/sMnHUyxL4T/IYkizTxThP2gvNDyTSuA/yA5meIl+4D/Y8dFHtofgP0DHZxepxOA/GB/ZwV714D/o4lTQijzhPxDjUCQ1AeE/ePXT5P8i4T8AEyxzkCThPwAzM5hc2eE/yOKn1pik4T/IXgQBQLThP0CdPl7S3eE/oJZCUfvD4T84CsERrrfhP7CJ6sZ7MuE/gMMsNSiA4T+4VDXLx2ThPzhkdWucjuE/CNS3y++K4T9ICB9JurzhP5j3yAmojuE/4D/ezlM74j8Ihd4IoDjiP7hOaH+1iuI/yIOTWj3H4T84cBYcc77hPyjKlz0emuE/EOhC0ryD4T/YWlfyxmnhP4j5Isfr4eE/eFOKQ0u+4T/4uCxM9JngP1gp/D+cJ+A/GE/8PjFS4T8wBKJNI03hPwjH0e7b1+E/2Pb/Q0Vj4j/IGhjMjmXiP3iKXS4RgOI/yEYaTwKb4j+IgCKJXPDiP/DLij6EseI/II+0sXe/4j8o/9iB2JLiP9CQ4+TjU+I/QJn+gkJ94j9w70FlYUjjP9gXpHYk1+I/KHG3gaCc4z8AbSXRMHXkPzBMQKlbtuQ/+NLnACbp5D94MptdXCPkP+jzBvWSP+Q/MLibPTXX4z+IGNX7d8bjP0AAeB1bmOM/WOEYgYOp4z84ddyoIPLkP/iBPN+XA+U/EHzYfYya5D94cgqxEGLkPwivx7uvpuQ/IGgWId5c5D/Qw/KerjrkPyhsu/aYOeQ/+EEyChWN5D8IpApsYQflP1A/RfvrBuU/IOHGUyJ65T8wzWk8pInlPyAUvuQSOOU/0L2X6L/45T8oif2LM/fnPyiup0M6Leg/wPti3KDn5z9QJKecwjvnP+BZkb7cGOc/2EFNGjY75z/IhzkuduznPwgh9cQGfOc/+BWV+kX65z8QELibc+HoP6ALSVPQXuo/cOCnl6uQ6j+Im3s10y7qP4ASb4pai+o/SDp/AOXg6T9Q9g8P9EHpP9i9AylEseo/iH4IlyH/6j+AY4cexL/qPxArWTsdOes/4DylcNBP6z8oktdwJEHqP0h49RcNCus/SCAV7FIU6z8gCSJ4D8HrPxgFlHP1VO0/YGyEk+sS7T9wqEHmgTTtPwBBAL6SUO0/6ObSDcuL7D/o2IngNr/qPwgjlAy36Os/sDFoNkbX6z/IIuwp8LrsP8hxe5cJq+w/KGvhx0/P7D84mtw994rtP9ChTo65V+0/SNxul7RO7T9gK837tsztP9g3PqhCqO4/SOqf9af57T/4TYsPaqvtP7ivSGGVd+0/gNOOMMNr7T/Ql5U76lTuP6gWiomE2+0/KPyuHUNs7j9IT38LaXnuP9Ca0g+htu4/kEeUC0wT7z9w4G/JKLvuP3A6DWbK8+4/IF7DIdJb7j+gEostu0zuP/gmVltoU+4/aDs+b+Hl7j/QXFoizq/uP8AjpllX8e4/8KL1BatW7z/gTfdP7mPvP6B+rsuns+8/yL7OdO4s8D94ajnliKHvP5RjVEAZWfA/RF4jcGMp8D9oOJUzUxDwP2R0VFyUT/A/WBAUjWzT7z8YIPoDnErvPzihBEssle8/EC3e3YGm7z/4d8WhNavvP1CKEkK+cO8/gEcOJnzb7z9Mxg5RxBjwP0RR1MDOw/A/SCDKPgfM8D+ofMvDf8XwP3x/hW2gyfA/dDqSbIrQ8D9Y09tAlo7wP1hpudY0h/A/4GdBoKV68D+0yfPuDYvwPyguZ+qBTfA/cPAr/PE98D84lhgX96TvP/iP0U1Lse8/SMCmGqa77z+IvYKAZarvP4DJTuMKN+8/EKHtcTBU7z+4XICQXFTvP1jyquFSa+8/gJmuOqIY7z9Qrjkat27uPxARgmjdXO4/UIgeCwEW7j+g/ooP4wvuP5jlbX9eDu4/cOdi5jKL7j8YNXAa0n7tP8BIzTFQ7+w/cKR/XBK97D9o/20pF4DpP5DbmLGYLuk/uM64PGPs6j+wA98AwL7qP+hcLq5++eo/uPQHlrBD6z9AYwHf+r3tPwAKscZmVO0/EEbFy2CZ7j/4g62lDRTuP5j07IWPFe8/jMOvvuQp8D+gGSdRvFfuPyCBhPShmO4/0BQSZPbL7j+YgZ+bVTHvPxhTviokfO8/pOaVMD0v8D/8q+uVHEXwPxgS4g+p9/A/AKR42oQJ8T/IMGhm0N7wP/zR6incwPE/KH3wH3UJ8j90cepImDfyP8gUQeFWz/E/AJnA8op18j8oRTIpqDbyP5SsH+CzA/I/JNP94VE48j9Un+tAQEzyP6AK3P9q4/E/mNi9WliF8T+s71ixYobxPyg35yVpjPE/JA070Ri78T8Arod04sDxP1gDYlf9n/E/xP9BaRJK8T/sHa2vGIPxP7D5MMCoMvE/oOOoIRRp8T8MwuMgi8LxP+QBhiqfs/E/DKL0yl8v8j901uRueiXyPyx/w4lS0PE/AI4mXDKc8T8Iq5n644vxP9zyX2XXS/E/gKGhxFFH8T8YWCC/IeLwP1BlOcRavvA/xEa02AiG8D8wRkVXBAHwP7j4NU26b/A/qK4sjA818D8YSwgRixrwPyzIqbk1HPA/+CvgnS7x7z+w5RQcEIfvPwCB+WMMku4/+ObVOE0F7z+kwIiZ1hnwP3ARnuy/QfA/5JaJPngg8D9cJtkGRzzwP1hCcmVlHfA/8GP4tR+07z8gaDJJVgnvP3gMDlwPau8/0KfxODbG7z/kWQvmxADwP+BCSEO3ou8/QG0O4qS27z9gjdm3wf7vP1CLHh2FGe0/YPAdWpKx6z+4EatkLh7rP4g8xc+tBes/0DEqzn896z9YYqQ8IWnrPwDsj1V4Res/APaFtV9s6z/o+WbAh0DqP7BjRMc8IOo/EGAohaeF6T8ozLqkmDHpP1ghmMgz3ek/GM0nUPIY6j9AoI7seMHpPzggSAOmAek/IG0G3YxI6T9ocXf72ijpP2ByqATyGuk/qFdEnuLb6D8wsO0+hcbqPyDPVcRCJuo/WGIzg7ul6T8gMH11WqjpPzgYqZ/M1ek/cI3jvzHS6T9owvJ7ZrnpP7AWC3pJuuk/ALj5lVu76T9Qnw0tZtPpPyjX6TGkmuk/6FmqVcme6T8okfzR8qfpP1D+khrfdOk/qF9R199v6z/w95yBlgvrPzCUCBo4/eo/GDaHe7Ff6z/o6iyKo9rqP0CpPmdXCeo/mNbxbxzg6T+oIOL2UIrpPyi2e8lL5ug/6O0dRSIc6j8oYgrmNHPpP2hFkcQMfOk/mGEmYLWh6T9gi5qqcWzpP2BRX5FVx+g/+LIHNdKu6T+AN9cLlHDqP3D6TBUH1eo/AHnxnRMA6z8oSBz9fNTqP5g/OsDgE+s/AE5nkObq6j/YDk6tIv7qP0hom4Q2W+s/wGO4o2Mp6z8QMx95SxTqPwDsrH87q+k/oDKw90bP6T/QUVDzuTXpP6BSawPbY+k/gMic0E8T6T+ANdoTiHnpPzA12aiyyug/0MO9m9Ic6T9wd43/ZoToP/ADCl5Y2ec/6HlAQvjy5j/YB5uj8tHnPzhip8GYz+Y/sJX0mRcC5z+41Ei0SDXmPw==",
          "dtype": "f8"
         },
         "yaxis": "y2"
        },
        {
         "line": {
          "color": "orange"
         },
         "mode": "lines",
         "name": "Buy & Hold",
         "type": "scatter",
         "x": {
          "bdata": "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",
          "dtype": "i4"
         },
         "xaxis": "x2",
         "y": {
          "bdata": "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",
          "dtype": "f8"
         },
         "yaxis": "y2"
        }
       ],
       "layout": {
        "annotations": [
         {
          "font": {
           "size": 16
          },
          "showarrow": false,
          "text": "BTCUSDT - Price & Signals",
          "x": 0.5,
          "xanchor": "center",
          "xref": "paper",
          "y": 1,
          "yanchor": "bottom",
          "yref": "paper"
         },
         {
          "font": {
           "size": 16
          },
          "showarrow": false,
          "text": "PnL Comparison",
          "x": 0.5,
          "xanchor": "center",
          "xref": "paper",
          "y": 0.36000000000000004,
          "yanchor": "bottom",
          "yref": "paper"
         }
        ],
        "height": 600,
        "hovermode": "x unified",
        "shapes": [
         {
          "line": {
           "color": "gray",
           "dash": "dash"
          },
          "type": "line",
          "x0": 0,
          "x1": 1,
          "xref": "x2 domain",
          "y0": 0,
          "y1": 0,
          "yref": "y2"
         }
        ],
        "showlegend": true,
        "template": {
         "data": {
          "bar": [
           {
            "error_x": {
             "color": "#2a3f5f"
            },
            "error_y": {
             "color": "#2a3f5f"
            },
            "marker": {
             "line": {
              "color": "#E5ECF6",
              "width": 0.5
             },
             "pattern": {
              "fillmode": "overlay",
              "size": 10,
              "solidity": 0.2
             }
            },
            "type": "bar"
           }
          ],
          "barpolar": [
           {
            "marker": {
             "line": {
              "color": "#E5ECF6",
              "width": 0.5
             },
             "pattern": {
              "fillmode": "overlay",
              "size": 10,
              "solidity": 0.2
             }
            },
            "type": "barpolar"
           }
          ],
          "carpet": [
           {
            "aaxis": {
             "endlinecolor": "#2a3f5f",
             "gridcolor": "white",
             "linecolor": "white",
             "minorgridcolor": "white",
             "startlinecolor": "#2a3f5f"
            },
            "baxis": {
             "endlinecolor": "#2a3f5f",
             "gridcolor": "white",
             "linecolor": "white",
             "minorgridcolor": "white",
             "startlinecolor": "#2a3f5f"
            },
            "type": "carpet"
           }
          ],
          "choropleth": [
           {
            "colorbar": {
             "outlinewidth": 0,
             "ticks": ""
            },
            "type": "choropleth"
           }
          ],
          "contour": [
           {
            "colorbar": {
             "outlinewidth": 0,
             "ticks": ""
            },
            "colorscale": [
             [
              0,
              "#0d0887"
             ],
             [
              0.1111111111111111,
              "#46039f"
             ],
             [
              0.2222222222222222,
              "#7201a8"
             ],
             [
              0.3333333333333333,
              "#9c179e"
             ],
             [
              0.4444444444444444,
              "#bd3786"
             ],
             [
              0.5555555555555556,
              "#d8576b"
             ],
             [
              0.6666666666666666,
              "#ed7953"
             ],
             [
              0.7777777777777778,
              "#fb9f3a"
             ],
             [
              0.8888888888888888,
              "#fdca26"
             ],
             [
              1,
              "#f0f921"
             ]
            ],
            "type": "contour"
           }
          ],
          "contourcarpet": [
           {
            "colorbar": {
             "outlinewidth": 0,
             "ticks": ""
            },
            "type": "contourcarpet"
           }
          ],
          "heatmap": [
           {
            "colorbar": {
             "outlinewidth": 0,
             "ticks": ""
            },
            "colorscale": [
             [
              0,
              "#0d0887"
             ],
             [
              0.1111111111111111,
              "#46039f"
             ],
             [
              0.2222222222222222,
              "#7201a8"
             ],
             [
              0.3333333333333333,
              "#9c179e"
             ],
             [
              0.4444444444444444,
              "#bd3786"
             ],
             [
              0.5555555555555556,
              "#d8576b"
             ],
             [
              0.6666666666666666,
              "#ed7953"
             ],
             [
              0.7777777777777778,
              "#fb9f3a"
             ],
             [
              0.8888888888888888,
              "#fdca26"
             ],
             [
              1,
              "#f0f921"
             ]
            ],
            "type": "heatmap"
           }
          ],
          "histogram": [
           {
            "marker": {
             "pattern": {
              "fillmode": "overlay",
              "size": 10,
              "solidity": 0.2
             }
            },
            "type": "histogram"
           }
          ],
          "histogram2d": [
           {
            "colorbar": {
             "outlinewidth": 0,
             "ticks": ""
            },
            "colorscale": [
             [
              0,
              "#0d0887"
             ],
             [
              0.1111111111111111,
              "#46039f"
             ],
             [
              0.2222222222222222,
              "#7201a8"
             ],
             [
              0.3333333333333333,
              "#9c179e"
             ],
             [
              0.4444444444444444,
              "#bd3786"
             ],
             [
              0.5555555555555556,
              "#d8576b"
             ],
             [
              0.6666666666666666,
              "#ed7953"
             ],
             [
              0.7777777777777778,
              "#fb9f3a"
             ],
             [
              0.8888888888888888,
              "#fdca26"
             ],
             [
              1,
              "#f0f921"
             ]
            ],
            "type": "histogram2d"
           }
          ],
          "histogram2dcontour": [
           {
            "colorbar": {
             "outlinewidth": 0,
             "ticks": ""
            },
            "colorscale": [
             [
              0,
              "#0d0887"
             ],
             [
              0.1111111111111111,
              "#46039f"
             ],
             [
              0.2222222222222222,
              "#7201a8"
             ],
             [
              0.3333333333333333,
              "#9c179e"
             ],
             [
              0.4444444444444444,
              "#bd3786"
             ],
             [
              0.5555555555555556,
              "#d8576b"
             ],
             [
              0.6666666666666666,
              "#ed7953"
             ],
             [
              0.7777777777777778,
              "#fb9f3a"
             ],
             [
              0.8888888888888888,
              "#fdca26"
             ],
             [
              1,
              "#f0f921"
             ]
            ],
            "type": "histogram2dcontour"
           }
          ],
          "mesh3d": [
           {
            "colorbar": {
             "outlinewidth": 0,
             "ticks": ""
            },
            "type": "mesh3d"
           }
          ],
          "parcoords": [
           {
            "line": {
             "colorbar": {
              "outlinewidth": 0,
              "ticks": ""
             }
            },
            "type": "parcoords"
           }
          ],
          "pie": [
           {
            "automargin": true,
            "type": "pie"
           }
          ],
          "scatter": [
           {
            "fillpattern": {
             "fillmode": "overlay",
             "size": 10,
             "solidity": 0.2
            },
            "type": "scatter"
           }
          ],
          "scatter3d": [
           {
            "line": {
             "colorbar": {
              "outlinewidth": 0,
              "ticks": ""
             }
            },
            "marker": {
             "colorbar": {
              "outlinewidth": 0,
              "ticks": ""
             }
            },
            "type": "scatter3d"
           }
          ],
          "scattercarpet": [
           {
            "marker": {
             "colorbar": {
              "outlinewidth": 0,
              "ticks": ""
             }
            },
            "type": "scattercarpet"
           }
          ],
          "scattergeo": [
           {
            "marker": {
             "colorbar": {
              "outlinewidth": 0,
              "ticks": ""
             }
            },
            "type": "scattergeo"
           }
          ],
          "scattergl": [
           {
            "marker": {
             "colorbar": {
              "outlinewidth": 0,
              "ticks": ""
             }
            },
            "type": "scattergl"
           }
          ],
          "scattermap": [
           {
            "marker": {
             "colorbar": {
              "outlinewidth": 0,
              "ticks": ""
             }
            },
            "type": "scattermap"
           }
          ],
          "scattermapbox": [
           {
            "marker": {
             "colorbar": {
              "outlinewidth": 0,
              "ticks": ""
             }
            },
            "type": "scattermapbox"
           }
          ],
          "scatterpolar": [
           {
            "marker": {
             "colorbar": {
              "outlinewidth": 0,
              "ticks": ""
             }
            },
            "type": "scatterpolar"
           }
          ],
          "scatterpolargl": [
           {
            "marker": {
             "colorbar": {
              "outlinewidth": 0,
              "ticks": ""
             }
            },
            "type": "scatterpolargl"
           }
          ],
          "scatterternary": [
           {
            "marker": {
             "colorbar": {
              "outlinewidth": 0,
              "ticks": ""
             }
            },
            "type": "scatterternary"
           }
          ],
          "surface": [
           {
            "colorbar": {
             "outlinewidth": 0,
             "ticks": ""
            },
            "colorscale": [
             [
              0,
              "#0d0887"
             ],
             [
              0.1111111111111111,
              "#46039f"
             ],
             [
              0.2222222222222222,
              "#7201a8"
             ],
             [
              0.3333333333333333,
              "#9c179e"
             ],
             [
              0.4444444444444444,
              "#bd3786"
             ],
             [
              0.5555555555555556,
              "#d8576b"
             ],
             [
              0.6666666666666666,
              "#ed7953"
             ],
             [
              0.7777777777777778,
              "#fb9f3a"
             ],
             [
              0.8888888888888888,
              "#fdca26"
             ],
             [
              1,
              "#f0f921"
             ]
            ],
            "type": "surface"
           }
          ],
          "table": [
           {
            "cells": {
             "fill": {
              "color": "#EBF0F8"
             },
             "line": {
              "color": "white"
             }
            },
            "header": {
             "fill": {
              "color": "#C8D4E3"
             },
             "line": {
              "color": "white"
             }
            },
            "type": "table"
           }
          ]
         },
         "layout": {
          "annotationdefaults": {
           "arrowcolor": "#2a3f5f",
           "arrowhead": 0,
           "arrowwidth": 1
          },
          "autotypenumbers": "strict",
          "coloraxis": {
           "colorbar": {
            "outlinewidth": 0,
            "ticks": ""
           }
          },
          "colorscale": {
           "diverging": [
            [
             0,
             "#8e0152"
            ],
            [
             0.1,
             "#c51b7d"
            ],
            [
             0.2,
             "#de77ae"
            ],
            [
             0.3,
             "#f1b6da"
            ],
            [
             0.4,
             "#fde0ef"
            ],
            [
             0.5,
             "#f7f7f7"
            ],
            [
             0.6,
             "#e6f5d0"
            ],
            [
             0.7,
             "#b8e186"
            ],
            [
             0.8,
             "#7fbc41"
            ],
            [
             0.9,
             "#4d9221"
            ],
            [
             1,
             "#276419"
            ]
           ],
           "sequential": [
            [
             0,
             "#0d0887"
            ],
            [
             0.1111111111111111,
             "#46039f"
            ],
            [
             0.2222222222222222,
             "#7201a8"
            ],
            [
             0.3333333333333333,
             "#9c179e"
            ],
            [
             0.4444444444444444,
             "#bd3786"
            ],
            [
             0.5555555555555556,
             "#d8576b"
            ],
            [
             0.6666666666666666,
             "#ed7953"
            ],
            [
             0.7777777777777778,
             "#fb9f3a"
            ],
            [
             0.8888888888888888,
             "#fdca26"
            ],
            [
             1,
             "#f0f921"
            ]
           ],
           "sequentialminus": [
            [
             0,
             "#0d0887"
            ],
            [
             0.1111111111111111,
             "#46039f"
            ],
            [
             0.2222222222222222,
             "#7201a8"
            ],
            [
             0.3333333333333333,
             "#9c179e"
            ],
            [
             0.4444444444444444,
             "#bd3786"
            ],
            [
             0.5555555555555556,
             "#d8576b"
            ],
            [
             0.6666666666666666,
             "#ed7953"
            ],
            [
             0.7777777777777778,
             "#fb9f3a"
            ],
            [
             0.8888888888888888,
             "#fdca26"
            ],
            [
             1,
             "#f0f921"
            ]
           ]
          },
          "colorway": [
           "#636efa",
           "#EF553B",
           "#00cc96",
           "#ab63fa",
           "#FFA15A",
           "#19d3f3",
           "#FF6692",
           "#B6E880",
           "#FF97FF",
           "#FECB52"
          ],
          "font": {
           "color": "#2a3f5f"
          },
          "geo": {
           "bgcolor": "white",
           "lakecolor": "white",
           "landcolor": "#E5ECF6",
           "showlakes": true,
           "showland": true,
           "subunitcolor": "white"
          },
          "hoverlabel": {
           "align": "left"
          },
          "hovermode": "closest",
          "mapbox": {
           "style": "light"
          },
          "paper_bgcolor": "white",
          "plot_bgcolor": "#E5ECF6",
          "polar": {
           "angularaxis": {
            "gridcolor": "white",
            "linecolor": "white",
            "ticks": ""
           },
           "bgcolor": "#E5ECF6",
           "radialaxis": {
            "gridcolor": "white",
            "linecolor": "white",
            "ticks": ""
           }
          },
          "scene": {
           "xaxis": {
            "backgroundcolor": "#E5ECF6",
            "gridcolor": "white",
            "gridwidth": 2,
            "linecolor": "white",
            "showbackground": true,
            "ticks": "",
            "zerolinecolor": "white"
           },
           "yaxis": {
            "backgroundcolor": "#E5ECF6",
            "gridcolor": "white",
            "gridwidth": 2,
            "linecolor": "white",
            "showbackground": true,
            "ticks": "",
            "zerolinecolor": "white"
           },
           "zaxis": {
            "backgroundcolor": "#E5ECF6",
            "gridcolor": "white",
            "gridwidth": 2,
            "linecolor": "white",
            "showbackground": true,
            "ticks": "",
            "zerolinecolor": "white"
           }
          },
          "shapedefaults": {
           "line": {
            "color": "#2a3f5f"
           }
          },
          "ternary": {
           "aaxis": {
            "gridcolor": "white",
            "linecolor": "white",
            "ticks": ""
           },
           "baxis": {
            "gridcolor": "white",
            "linecolor": "white",
            "ticks": ""
           },
           "bgcolor": "#E5ECF6",
           "caxis": {
            "gridcolor": "white",
            "linecolor": "white",
            "ticks": ""
           }
          },
          "title": {
           "x": 0.05
          },
          "xaxis": {
           "automargin": true,
           "gridcolor": "white",
           "linecolor": "white",
           "ticks": "",
           "title": {
            "standoff": 15
           },
           "zerolinecolor": "white",
           "zerolinewidth": 2
          },
          "yaxis": {
           "automargin": true,
           "gridcolor": "white",
           "linecolor": "white",
           "ticks": "",
           "title": {
            "standoff": 15
           },
           "zerolinecolor": "white",
           "zerolinewidth": 2
          }
         }
        },
        "title": {
         "text": "Trading Performance: BTCUSDT"
        },
        "xaxis": {
         "anchor": "y",
         "domain": [
          0,
          1
         ],
         "matches": "x2",
         "showticklabels": false
        },
        "xaxis2": {
         "anchor": "y2",
         "domain": [
          0,
          1
         ],
         "title": {
          "text": "Time"
         }
        },
        "yaxis": {
         "anchor": "x",
         "domain": [
          0.4600000000000001,
          1
         ],
         "title": {
          "text": "Price"
         }
        },
        "yaxis2": {
         "anchor": "x2",
         "domain": [
          0,
          0.36000000000000004
         ],
         "title": {
          "text": "Return %"
         }
        }
       }
      }
     },
     "metadata": {},
     "output_type": "display_data"
    },
    {
     "name": "stdout",
     "output_type": "stream",
     "text": [
      "\n",
      "📊 BTCUSDT Trading Results:\n",
      "   Strategy Return: +0.69%\n",
      "   Buy & Hold:      +6.84%\n",
      "   Outperformance:  -6.14%\n",
      "   Max Drawdown:    -0.54%\n",
      "   Win Rate:        0.0%\n",
      "   Total Trades:    0\n",
      "   Final Value:     $1,006,940.04\n",
      "\n",
      "🔍 Environment vs Visualization Comparison:\n",
      "   • Environment Final PnL: $+6,940.04\n",
      "   • Environment Total Return: +0.69%\n",
      "   • Environment Final Portfolio: $1,006,940.04\n",
      "   • Visualization Final Value: $1,006,940.04\n",
      "   • Visualization Return: +0.69%\n",
      "\n",
      "🧪 ENVIRONMENT SETUP TEST:\n",
      "✅ SUCCESS: Environment portfolio values are correctly used in visualization!\n",
      "   • Difference: $0.00 (should be ~$0)\n",
      "\n",
      "📊 Detailed Trading Analysis:\n",
      "   • Environment Buy Signals: 993\n",
      "   • Environment Sell Signals: 989\n",
      "   • Environment Hold Signals: 18\n",
      "   • Environment Trades: 1,998\n",
      "   • Non-zero PnL Steps: 1,998\n",
      "\n",
      "✅ Trading Analysis Complete!\n"
     ]
    }
   ],
   "source": [
    "# Generate predictions using the trained RL model\n",
    "\n",
    "print(\"🎯 Generating RL Trading Signals...\")\n",
    "print(\"=\" * 50)\n",
    "\n",
    "rl_predictor = RLPredictor(model_dir='models/rl_demo')\n",
    "\n",
    "symbol = 'BTCUSDT'\n",
    "dfs = loader.load_data(symbol)\n",
    "# Get the primary timeframe for feature engineering\n",
    "features_df = dfs['15m']\n",
    "\n",
    "# Load the trained model and generate predictions\n",
    "\n",
    "# Calculate minimum data needed for meaningful predictions\n",
    "window_size = 672  # Your RL model window size\n",
    "desired_predictions = 2000\n",
    "min_candles_needed = window_size + desired_predictions\n",
    "actual_candles = min(len(features_df), min_candles_needed)\n",
    "limited_features_df = features_df.tail(actual_candles)\n",
    "\n",
    "print(f\"📊 Data Configuration:\")\n",
    "print(f\"   • Window size: {window_size}\")\n",
    "print(f\"   • Input candles: {len(limited_features_df):,}\")\n",
    "print(f\"   • Expected predictions: ~{len(limited_features_df) - window_size + 1:,}\")\n",
    "\n",
    "# ✅ Generate predictions with environment trading logic\n",
    "result_df = rl_predictor.generate_predictions(limited_features_df)\n",
    "\n",
    "print(f\"\\n🔍 Result DataFrame shape: {result_df.shape}\")\n",
    "print(f\"📊 Available columns: {list(result_df.columns)}\")\n",
    "\n",
    "# ✅ NEW: Use the REAL RL actions from environment\n",
    "rl_actions = result_df['rl_action'].to_numpy(dtype=np.float64)\n",
    "\n",
    "# ✅ NEW: Use the REAL portfolio values from environment\n",
    "portfolio_values = result_df['portfolio_value'].to_numpy(dtype=np.float64)\n",
    "pnl_values = result_df['pnl'].to_numpy(dtype=np.float64)\n",
    "\n",
    "print(f\"\\n💰 Environment Trading Results:\")\n",
    "print(f\"   • RL Actions range: [{rl_actions.min():.3f}, {rl_actions.max():.3f}]\")\n",
    "print(f\"   • Portfolio range: [${portfolio_values.min():,.2f}, ${portfolio_values.max():,.2f}]\")\n",
    "print(f\"   • PnL range: [${pnl_values.min():+,.2f}, ${pnl_values.max():+,.2f}]\")\n",
    "\n",
    "# Calculate window size and pad RL actions to match original data length\n",
    "missing_count = len(limited_features_df) - len(rl_actions)\n",
    "\n",
    "# Pad RL actions at beginning with NaN for window period\n",
    "padded_rl_actions = np.concatenate([\n",
    "    np.full(missing_count, np.nan, dtype=np.float64),\n",
    "    rl_actions\n",
    "])\n",
    "\n",
    "# ✅ Pad portfolio values to match data length\n",
    "padded_portfolio_values = np.concatenate([\n",
    "    np.full(missing_count, 1000000.0, dtype=np.float64),  # Initial value for window period\n",
    "    portfolio_values\n",
    "])\n",
    "\n",
    "# ✅ Use ENVIRONMENT's exact thresholds and actual portfolio values\n",
    "print(f\"\\n📈 Creating visualization using ENVIRONMENT's actual data...\")\n",
    "\n",
    "# 🧪 TEST: Use extreme thresholds to verify environment setup (should get ALL HOLD)\n",
    "env_buy_threshold = 1.0   # TEST: Extreme threshold - should get 0 BUY signals\n",
    "env_sell_threshold = -1.0  # TEST: Extreme threshold - should get 0 SELL signals\n",
    "environment_initial_balance = 1000000.0\n",
    "\n",
    "print(f\"🧪 TESTING with extreme thresholds (should get ALL HOLD signals):\")\n",
    "print(f\"   • BUY threshold: {env_buy_threshold} (extreme - should get 0 BUY)\")\n",
    "print(f\"   • SELL threshold: {env_sell_threshold} (extreme - should get 0 SELL)\")\n",
    "print(f\"   • Expected: ALL HOLD signals in visualization\")\n",
    "print(f\"   • Purpose: Verify environment's portfolio values are used correctly\")\n",
    "\n",
    "# Simple trading visualization using the environment's REAL results\n",
    "from src.reporting.model_testing_report import simple_trading_chart\n",
    "\n",
    "# ✅ TEST: Use environment's actual portfolio values with extreme thresholds\n",
    "results = simple_trading_chart(\n",
    "    limited_features_df,\n",
    "    padded_rl_actions,\n",
    "    symbol,\n",
    "    initial_cash=environment_initial_balance,\n",
    "    commission=0.001,  # Match environment commission\n",
    "    buy_threshold=env_buy_threshold,      # EXTREME: 1.0 (should get 0 BUY)\n",
    "    sell_threshold=env_sell_threshold,    # EXTREME: -1.0 (should get 0 SELL)\n",
    "    portfolio_values=padded_portfolio_values  # ENVIRONMENT's actual values\n",
    ")\n",
    "\n",
    "print(f\"\\n🔍 Environment vs Visualization Comparison:\")\n",
    "print(f\"   • Environment Final PnL: ${result_df['pnl'].iloc[-1]:+,.2f}\")\n",
    "print(f\"   • Environment Total Return: {result_df['pnl_pct'].iloc[-1]:+.2f}%\")\n",
    "print(f\"   • Environment Final Portfolio: ${result_df['portfolio_value'].iloc[-1]:,.2f}\")\n",
    "print(f\"   • Visualization Final Value: ${results['final_value']:,.2f}\")\n",
    "print(f\"   • Visualization Return: {results['final_return_pct']:+.2f}%\")\n",
    "\n",
    "# ✅ TEST: Check if environment portfolio values are properly used\n",
    "pnl_diff = abs(result_df['portfolio_value'].iloc[-1] - results['final_value'])\n",
    "return_diff = abs(result_df['pnl_pct'].iloc[-1] - results['final_return_pct'])\n",
    "\n",
    "print(f\"\\n🧪 ENVIRONMENT SETUP TEST:\")\n",
    "if pnl_diff < 1.0 and return_diff < 0.01:\n",
    "    print(f\"✅ SUCCESS: Environment portfolio values are correctly used in visualization!\")\n",
    "    print(f\"   • Difference: ${pnl_diff:.2f} (should be ~$0)\")\n",
    "else:\n",
    "    print(f\"❌ PROBLEM: Environment portfolio values NOT properly used!\")\n",
    "    print(f\"   • PnL diff: ${pnl_diff:.2f}\")\n",
    "    print(f\"   • Return diff: {return_diff:.2f}%\")\n",
    "    print(f\"   • Issue: Visualization is still calculating its own portfolio values\")\n",
    "\n",
    "# ✅ Additional debugging: Show actual trading activity\n",
    "print(f\"\\n📊 Detailed Trading Analysis:\")\n",
    "print(f\"   • Environment Buy Signals: {(result_df['action'] == 1).sum():,}\")\n",
    "print(f\"   • Environment Sell Signals: {(result_df['action'] == -1).sum():,}\")\n",
    "print(f\"   • Environment Hold Signals: {(result_df['action'] == 0).sum():,}\")\n",
    "print(f\"   • Environment Trades: {(result_df['step_pnl'] != 0).sum():,}\")\n",
    "print(f\"   • Non-zero PnL Steps: {(result_df['step_pnl'].abs() > 0.001).sum():,}\")\n",
    "\n",
    "print(f\"\\n✅ Trading Analysis Complete!\")"
   ]
  }
 ],
 "metadata": {
  "kernelspec": {
   "display_name": "venv",
   "language": "python",
   "name": "python3"
  },
  "language_info": {
   "codemirror_mode": {
    "name": "ipython",
    "version": 3
   },
   "file_extension": ".py",
   "mimetype": "text/x-python",
   "name": "python",
   "nbconvert_exporter": "python",
   "pygments_lexer": "ipython3",
   "version": "3.11.9"
  }
 },
 "nbformat": 4,
 "nbformat_minor": 5
}
