{
 "cells": [
  {
   "cell_type": "markdown",
   "id": "18720820",
   "metadata": {},
   "source": [
    "# RL Trading Model Training & Evaluation\n",
    "\n",
    "This notebook demonstrates how to train a reinforcement learning (RL) trading model using your full feature pipeline and visualize the results. It loads historical price data, extracts features, trains a PPO agent, and evaluates performance."
   ]
  },
  {
   "cell_type": "code",
   "execution_count": null,
   "id": "798ff339",
   "metadata": {},
   "outputs": [],
   "source": [
    "# ================================================\n",
    "# 🔧 SETUP - Add src to Python Path\n",
    "# ================================================\n",
    "\n",
    "import sys\n",
    "import os\n",
    "\n",
    "# Add src directory to Python path so 'core' module can be found\n",
    "project_root = os.getcwd()\n",
    "src_path = os.path.join(project_root, 'src')\n",
    "\n",
    "if src_path not in sys.path:\n",
    "    sys.path.insert(0, src_path)\n",
    "    print(f\"✅ Added to Python path: {src_path}\")\n",
    "else:\n",
    "    print(f\"✅ Already in path: {src_path}\")\n",
    "\n",
    "# Verify\n",
    "print(f\"📂 Working directory: {project_root}\")\n",
    "print(f\"🔍 Python will search for modules in: {src_path}\")\n",
    "print(\"=\" * 50)"
   ]
  },
  {
   "cell_type": "code",
   "execution_count": null,
   "id": "01f245b6",
   "metadata": {},
   "outputs": [],
   "source": [
    "# Section 6: Complete Model Test Report with Updated Charts\n",
    "print(\"📋 Generating Complete Test Report with Updated Interactive Charts...\")\n",
    "print(\"=\" * 70)\n",
    "\n",
    "# Import our clean testing solution\n",
    "from src.reporting.model_test_report import quick_test_model\n",
    "\n",
    "# Run model test - charts will display directly in notebook\n",
    "print(\"🚀 Running model test with improved chart design...\")\n",
    "\n",
    "quick_test_model(\n",
    "    model_dir='models/rl_optimized',\n",
    "    symbol='BTCUSDT', \n",
    "    test_candles=5000\n",
    ")"
   ]
  }
 ],
 "metadata": {
  "kernelspec": {
   "display_name": "venv",
   "language": "python",
   "name": "python3"
  },
  "language_info": {
   "codemirror_mode": {
    "name": "ipython",
    "version": 3
   },
   "file_extension": ".py",
   "mimetype": "text/x-python",
   "name": "python",
   "nbconvert_exporter": "python",
   "pygments_lexer": "ipython3",
   "version": "3.11.9"
  }
 },
 "nbformat": 4,
 "nbformat_minor": 5
}
